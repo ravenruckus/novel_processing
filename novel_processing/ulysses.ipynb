{
 "cells": [
  {
   "cell_type": "code",
   "execution_count": 1,
   "metadata": {
    "collapsed": true
   },
   "outputs": [],
   "source": [
    "import pandas as pd\n",
    "from textblob import TextBlob\n",
    "import csv\n",
    "from gutenberg.acquire import load_etext\n",
    "from gutenberg.cleanup import strip_headers\n",
    "import os\n",
    "import numpy as np"
   ]
  },
  {
   "cell_type": "code",
   "execution_count": 2,
   "metadata": {
    "collapsed": true
   },
   "outputs": [],
   "source": [
    "import seaborn as sns\n",
    "import matplotlib.pyplot as plt\n",
    "%matplotlib inline\n",
    "plt.rcParams['figure.figsize'] = (8, 6)\n",
    "plt.rcParams['font.size'] = 14"
   ]
  },
  {
   "cell_type": "code",
   "execution_count": 3,
   "metadata": {
    "collapsed": true
   },
   "outputs": [],
   "source": [
    "n = 4300\n",
    "t = 'Ulysses'\n",
    "s = 2"
   ]
  },
  {
   "cell_type": "code",
   "execution_count": 4,
   "metadata": {
    "collapsed": true
   },
   "outputs": [],
   "source": [
    "novel = strip_headers(load_etext(n))\n",
    "novel = novel.replace('\\n', ' ')\n",
    "novel= TextBlob(novel)\n",
    "novel_sentences = novel.sentences\n",
    "novel_title = t"
   ]
  },
  {
   "cell_type": "code",
   "execution_count": 5,
   "metadata": {
    "collapsed": true
   },
   "outputs": [],
   "source": [
    "for l in range(2):\n",
    "    novelWriter = csv.writer(open('novel_'+novel_title+'3.csv', 'w'), delimiter=',')\n",
    "    for sentence in novel_sentences:\n",
    "        novelWriter.writerow([sentence])"
   ]
  },
  {
   "cell_type": "code",
   "execution_count": 5,
   "metadata": {
    "collapsed": true
   },
   "outputs": [],
   "source": [
    "df_novel = pd.read_csv('novel_'+novel_title+'3.csv', skiprows = s, header=None)"
   ]
  },
  {
   "cell_type": "code",
   "execution_count": 6,
   "metadata": {
    "collapsed": false
   },
   "outputs": [
    {
     "data": {
      "text/html": [
       "<div>\n",
       "<table border=\"1\" class=\"dataframe\">\n",
       "  <thead>\n",
       "    <tr style=\"text-align: right;\">\n",
       "      <th></th>\n",
       "      <th>0</th>\n",
       "    </tr>\n",
       "  </thead>\n",
       "  <tbody>\n",
       "    <tr>\n",
       "      <th>0</th>\n",
       "      <td>He held the bowl aloft and intoned:  --_Introi...</td>\n",
       "    </tr>\n",
       "    <tr>\n",
       "      <th>1</th>\n",
       "      <td>Halted, he peered down the dark winding stairs...</td>\n",
       "    </tr>\n",
       "    <tr>\n",
       "      <th>2</th>\n",
       "      <td>Come up, you fearful jesuit!</td>\n",
       "    </tr>\n",
       "    <tr>\n",
       "      <th>3</th>\n",
       "      <td>Solemnly he came forward and mounted the round...</td>\n",
       "    </tr>\n",
       "    <tr>\n",
       "      <th>4</th>\n",
       "      <td>He faced about and blessed gravely thrice the ...</td>\n",
       "    </tr>\n",
       "  </tbody>\n",
       "</table>\n",
       "</div>"
      ],
      "text/plain": [
       "                                                   0\n",
       "0  He held the bowl aloft and intoned:  --_Introi...\n",
       "1  Halted, he peered down the dark winding stairs...\n",
       "2                       Come up, you fearful jesuit!\n",
       "3  Solemnly he came forward and mounted the round...\n",
       "4  He faced about and blessed gravely thrice the ..."
      ]
     },
     "execution_count": 6,
     "metadata": {},
     "output_type": "execute_result"
    }
   ],
   "source": [
    "df_novel.head()"
   ]
  },
  {
   "cell_type": "code",
   "execution_count": 7,
   "metadata": {
    "collapsed": false
   },
   "outputs": [
    {
     "data": {
      "text/plain": [
       "22724"
      ]
     },
     "execution_count": 7,
     "metadata": {},
     "output_type": "execute_result"
    }
   ],
   "source": [
    "len(df_novel)"
   ]
  },
  {
   "cell_type": "code",
   "execution_count": 8,
   "metadata": {
    "collapsed": true
   },
   "outputs": [],
   "source": [
    "wrd_length = []\n",
    "total_char = []\n",
    "def wrd_char_counts(sentence):\n",
    "    total_chars = 0\n",
    "    wrd_counts = []\n",
    "    for word in sentence:\n",
    "        char_count = len(word)\n",
    "        wrd_counts.append(char_count)\n",
    "        total_chars += char_count\n",
    "    total_char.append(total_chars)\n",
    "    wrd_length.append(wrd_counts)"
   ]
  },
  {
   "cell_type": "code",
   "execution_count": 9,
   "metadata": {
    "collapsed": true
   },
   "outputs": [],
   "source": [
    "for l in df_novel[0]:\n",
    "    sent = TextBlob(l)\n",
    "    wrd_char_counts(sent.words)"
   ]
  },
  {
   "cell_type": "code",
   "execution_count": 10,
   "metadata": {
    "collapsed": true
   },
   "outputs": [],
   "source": [
    "df_novel['wrd_length'] = wrd_length\n",
    "df_novel['total_char'] = total_char"
   ]
  },
  {
   "cell_type": "code",
   "execution_count": 11,
   "metadata": {
    "collapsed": false
   },
   "outputs": [
    {
     "data": {
      "text/html": [
       "<div>\n",
       "<table border=\"1\" class=\"dataframe\">\n",
       "  <thead>\n",
       "    <tr style=\"text-align: right;\">\n",
       "      <th></th>\n",
       "      <th>0</th>\n",
       "      <th>wrd_length</th>\n",
       "      <th>total_char</th>\n",
       "    </tr>\n",
       "  </thead>\n",
       "  <tbody>\n",
       "    <tr>\n",
       "      <th>0</th>\n",
       "      <td>He held the bowl aloft and intoned:  --_Introi...</td>\n",
       "      <td>[2, 4, 3, 4, 5, 3, 7, 8, 2, 6, 3]</td>\n",
       "      <td>47</td>\n",
       "    </tr>\n",
       "    <tr>\n",
       "      <th>1</th>\n",
       "      <td>Halted, he peered down the dark winding stairs...</td>\n",
       "      <td>[6, 2, 6, 4, 3, 4, 7, 6, 3, 6, 3, 8, 4, 2, 5]</td>\n",
       "      <td>69</td>\n",
       "    </tr>\n",
       "    <tr>\n",
       "      <th>2</th>\n",
       "      <td>Come up, you fearful jesuit!</td>\n",
       "      <td>[4, 2, 3, 7, 6]</td>\n",
       "      <td>22</td>\n",
       "    </tr>\n",
       "    <tr>\n",
       "      <th>3</th>\n",
       "      <td>Solemnly he came forward and mounted the round...</td>\n",
       "      <td>[8, 2, 4, 7, 3, 7, 3, 5, 7]</td>\n",
       "      <td>46</td>\n",
       "    </tr>\n",
       "    <tr>\n",
       "      <th>4</th>\n",
       "      <td>He faced about and blessed gravely thrice the ...</td>\n",
       "      <td>[2, 5, 5, 3, 7, 7, 6, 3, 5, 3, 11, 4, 3, 3, 7, 9]</td>\n",
       "      <td>83</td>\n",
       "    </tr>\n",
       "  </tbody>\n",
       "</table>\n",
       "</div>"
      ],
      "text/plain": [
       "                                                   0  \\\n",
       "0  He held the bowl aloft and intoned:  --_Introi...   \n",
       "1  Halted, he peered down the dark winding stairs...   \n",
       "2                       Come up, you fearful jesuit!   \n",
       "3  Solemnly he came forward and mounted the round...   \n",
       "4  He faced about and blessed gravely thrice the ...   \n",
       "\n",
       "                                          wrd_length  total_char  \n",
       "0                  [2, 4, 3, 4, 5, 3, 7, 8, 2, 6, 3]          47  \n",
       "1      [6, 2, 6, 4, 3, 4, 7, 6, 3, 6, 3, 8, 4, 2, 5]          69  \n",
       "2                                    [4, 2, 3, 7, 6]          22  \n",
       "3                        [8, 2, 4, 7, 3, 7, 3, 5, 7]          46  \n",
       "4  [2, 5, 5, 3, 7, 7, 6, 3, 5, 3, 11, 4, 3, 3, 7, 9]          83  "
      ]
     },
     "execution_count": 11,
     "metadata": {},
     "output_type": "execute_result"
    }
   ],
   "source": [
    "df_novel.head()"
   ]
  },
  {
   "cell_type": "code",
   "execution_count": 12,
   "metadata": {
    "collapsed": true
   },
   "outputs": [],
   "source": [
    "def CountSyllables(word, isName=True):\n",
    "    vowels = \"aeiouy\"\n",
    "    #single syllables in words like bread and lead, but split in names like Breanne and Adreann\n",
    "    specials = [\"ia\",\"ea\"] if isName else [\"ia\"]\n",
    "    specials_except_end = [\"ie\",\"ya\",\"es\",\"ed\"]  #seperate syllables unless ending the word\n",
    "    currentWord = word.lower()\n",
    "    numVowels = 0\n",
    "    lastWasVowel = False\n",
    "    last_letter = \"\"\n",
    "\n",
    "    for letter in currentWord:\n",
    "        if letter in vowels:\n",
    "            #don't count diphthongs unless special cases\n",
    "            combo = last_letter+letter\n",
    "            if lastWasVowel and combo not in specials and combo not in specials_except_end:\n",
    "                lastWasVowel = True\n",
    "            else:\n",
    "                numVowels += 1\n",
    "                lastWasVowel = True\n",
    "        else:\n",
    "            lastWasVowel = False\n",
    "\n",
    "        last_letter = letter\n",
    "\n",
    "    #remove es & ed which are usually silent\n",
    "    if len(currentWord) > 2 and currentWord[-2:] in specials_except_end:\n",
    "        numVowels -= 1\n",
    "\n",
    "    #remove silent single e, but not ee since it counted it before and we should be correct\n",
    "    elif len(currentWord) > 2 and currentWord[-1:] == \"e\" and currentWord[-2:] != \"ee\" and currentWord != 'the':\n",
    "        numVowels -= 1\n",
    "\n",
    "    return numVowels"
   ]
  },
  {
   "cell_type": "code",
   "execution_count": 13,
   "metadata": {
    "collapsed": true
   },
   "outputs": [],
   "source": [
    "syl = []\n",
    "for l in df_novel[0]:\n",
    "    sent = TextBlob(l)\n",
    "    syl_single = []\n",
    "    for x in sent.words:\n",
    "        m = CountSyllables(x)\n",
    "        syl_single.append(m)\n",
    "    syl.append(syl_single) "
   ]
  },
  {
   "cell_type": "code",
   "execution_count": 14,
   "metadata": {
    "collapsed": true
   },
   "outputs": [],
   "source": [
    "syl_count_arr = []\n",
    "for n in syl:\n",
    "    n = np.array(n)\n",
    "    syl_count_arr.append(n)"
   ]
  },
  {
   "cell_type": "code",
   "execution_count": 15,
   "metadata": {
    "collapsed": true
   },
   "outputs": [],
   "source": [
    "df_novel['syl_count'] = syl_count_arr"
   ]
  },
  {
   "cell_type": "code",
   "execution_count": 21,
   "metadata": {
    "collapsed": false
   },
   "outputs": [
    {
     "data": {
      "text/html": [
       "<div>\n",
       "<table border=\"1\" class=\"dataframe\">\n",
       "  <thead>\n",
       "    <tr style=\"text-align: right;\">\n",
       "      <th></th>\n",
       "      <th>0</th>\n",
       "      <th>wrd_length</th>\n",
       "      <th>total_char</th>\n",
       "      <th>syl_count</th>\n",
       "      <th>syl_sum</th>\n",
       "      <th>sentiment</th>\n",
       "    </tr>\n",
       "  </thead>\n",
       "  <tbody>\n",
       "    <tr>\n",
       "      <th>0</th>\n",
       "      <td>He held the bowl aloft and intoned:  --_Introi...</td>\n",
       "      <td>[2, 4, 3, 4, 5, 3, 7, 8, 2, 6, 3]</td>\n",
       "      <td>47</td>\n",
       "      <td>[1, 1, 1, 1, 2, 1, 2, 3, 1, 2, 1]</td>\n",
       "      <td>16</td>\n",
       "      <td>0.000000</td>\n",
       "    </tr>\n",
       "    <tr>\n",
       "      <th>1</th>\n",
       "      <td>Halted, he peered down the dark winding stairs...</td>\n",
       "      <td>[6, 2, 6, 4, 3, 4, 7, 6, 3, 6, 3, 8, 4, 2, 5]</td>\n",
       "      <td>69</td>\n",
       "      <td>[1, 1, 1, 1, 1, 1, 2, 1, 1, 1, 1, 3, 1, 1, 1]</td>\n",
       "      <td>18</td>\n",
       "      <td>-0.101852</td>\n",
       "    </tr>\n",
       "    <tr>\n",
       "      <th>2</th>\n",
       "      <td>Come up, you fearful jesuit!</td>\n",
       "      <td>[4, 2, 3, 7, 6]</td>\n",
       "      <td>22</td>\n",
       "      <td>[1, 1, 1, 3, 2]</td>\n",
       "      <td>8</td>\n",
       "      <td>-1.000000</td>\n",
       "    </tr>\n",
       "    <tr>\n",
       "      <th>3</th>\n",
       "      <td>Solemnly he came forward and mounted the round...</td>\n",
       "      <td>[8, 2, 4, 7, 3, 7, 3, 5, 7]</td>\n",
       "      <td>46</td>\n",
       "      <td>[3, 1, 1, 2, 1, 1, 1, 1, 2]</td>\n",
       "      <td>13</td>\n",
       "      <td>-0.200000</td>\n",
       "    </tr>\n",
       "    <tr>\n",
       "      <th>4</th>\n",
       "      <td>He faced about and blessed gravely thrice the ...</td>\n",
       "      <td>[2, 5, 5, 3, 7, 7, 6, 3, 5, 3, 11, 4, 3, 3, 7, 9]</td>\n",
       "      <td>83</td>\n",
       "      <td>[1, 1, 2, 1, 1, 3, 1, 1, 2, 1, 3, 1, 1, 1, 3, 2]</td>\n",
       "      <td>25</td>\n",
       "      <td>0.000000</td>\n",
       "    </tr>\n",
       "  </tbody>\n",
       "</table>\n",
       "</div>"
      ],
      "text/plain": [
       "                                                   0  \\\n",
       "0  He held the bowl aloft and intoned:  --_Introi...   \n",
       "1  Halted, he peered down the dark winding stairs...   \n",
       "2                       Come up, you fearful jesuit!   \n",
       "3  Solemnly he came forward and mounted the round...   \n",
       "4  He faced about and blessed gravely thrice the ...   \n",
       "\n",
       "                                          wrd_length  total_char  \\\n",
       "0                  [2, 4, 3, 4, 5, 3, 7, 8, 2, 6, 3]          47   \n",
       "1      [6, 2, 6, 4, 3, 4, 7, 6, 3, 6, 3, 8, 4, 2, 5]          69   \n",
       "2                                    [4, 2, 3, 7, 6]          22   \n",
       "3                        [8, 2, 4, 7, 3, 7, 3, 5, 7]          46   \n",
       "4  [2, 5, 5, 3, 7, 7, 6, 3, 5, 3, 11, 4, 3, 3, 7, 9]          83   \n",
       "\n",
       "                                          syl_count  syl_sum  sentiment  \n",
       "0                 [1, 1, 1, 1, 2, 1, 2, 3, 1, 2, 1]       16   0.000000  \n",
       "1     [1, 1, 1, 1, 1, 1, 2, 1, 1, 1, 1, 3, 1, 1, 1]       18  -0.101852  \n",
       "2                                   [1, 1, 1, 3, 2]        8  -1.000000  \n",
       "3                       [3, 1, 1, 2, 1, 1, 1, 1, 2]       13  -0.200000  \n",
       "4  [1, 1, 2, 1, 1, 3, 1, 1, 2, 1, 3, 1, 1, 1, 3, 2]       25   0.000000  "
      ]
     },
     "execution_count": 21,
     "metadata": {},
     "output_type": "execute_result"
    }
   ],
   "source": [
    "df_novel.head()"
   ]
  },
  {
   "cell_type": "code",
   "execution_count": 17,
   "metadata": {
    "collapsed": true
   },
   "outputs": [],
   "source": [
    "syl_sum = []\n",
    "for l in range(0,len(df_novel)):\n",
    "    syl_sum.append(df_novel['syl_count'][l].sum())"
   ]
  },
  {
   "cell_type": "code",
   "execution_count": 18,
   "metadata": {
    "collapsed": true
   },
   "outputs": [],
   "source": [
    "df_novel['syl_sum'] = syl_sum"
   ]
  },
  {
   "cell_type": "code",
   "execution_count": 19,
   "metadata": {
    "collapsed": true
   },
   "outputs": [],
   "source": [
    "def detect_sentiment(text):\n",
    "    return TextBlob(text.decode('utf-8')).sentiment.polarity"
   ]
  },
  {
   "cell_type": "code",
   "execution_count": 20,
   "metadata": {
    "collapsed": true
   },
   "outputs": [],
   "source": [
    "df_novel['sentiment'] = df_novel[0].apply(detect_sentiment)"
   ]
  },
  {
   "cell_type": "code",
   "execution_count": 23,
   "metadata": {
    "collapsed": true
   },
   "outputs": [],
   "source": [
    "df_novel.to_csv('novel_'+novel_title+'3_2.csv', index=False)"
   ]
  },
  {
   "cell_type": "code",
   "execution_count": 24,
   "metadata": {
    "collapsed": false
   },
   "outputs": [],
   "source": [
    "#test\n",
    "df_test = pd.read_csv('novel_'+novel_title+'3_2.csv')"
   ]
  },
  {
   "cell_type": "code",
   "execution_count": 25,
   "metadata": {
    "collapsed": false
   },
   "outputs": [
    {
     "data": {
      "text/html": [
       "<div>\n",
       "<table border=\"1\" class=\"dataframe\">\n",
       "  <thead>\n",
       "    <tr style=\"text-align: right;\">\n",
       "      <th></th>\n",
       "      <th>0</th>\n",
       "      <th>wrd_length</th>\n",
       "      <th>total_char</th>\n",
       "      <th>syl_count</th>\n",
       "      <th>syl_sum</th>\n",
       "      <th>sentiment</th>\n",
       "    </tr>\n",
       "  </thead>\n",
       "  <tbody>\n",
       "    <tr>\n",
       "      <th>0</th>\n",
       "      <td>He held the bowl aloft and intoned:  --_Introi...</td>\n",
       "      <td>[2, 4, 3, 4, 5, 3, 7, 8, 2, 6, 3]</td>\n",
       "      <td>47</td>\n",
       "      <td>[1 1 1 1 2 1 2 3 1 2 1]</td>\n",
       "      <td>16</td>\n",
       "      <td>0.000000</td>\n",
       "    </tr>\n",
       "    <tr>\n",
       "      <th>1</th>\n",
       "      <td>Halted, he peered down the dark winding stairs...</td>\n",
       "      <td>[6, 2, 6, 4, 3, 4, 7, 6, 3, 6, 3, 8, 4, 2, 5]</td>\n",
       "      <td>69</td>\n",
       "      <td>[1 1 1 1 1 1 2 1 1 1 1 3 1 1 1]</td>\n",
       "      <td>18</td>\n",
       "      <td>-0.101852</td>\n",
       "    </tr>\n",
       "    <tr>\n",
       "      <th>2</th>\n",
       "      <td>Come up, you fearful jesuit!</td>\n",
       "      <td>[4, 2, 3, 7, 6]</td>\n",
       "      <td>22</td>\n",
       "      <td>[1 1 1 3 2]</td>\n",
       "      <td>8</td>\n",
       "      <td>-1.000000</td>\n",
       "    </tr>\n",
       "    <tr>\n",
       "      <th>3</th>\n",
       "      <td>Solemnly he came forward and mounted the round...</td>\n",
       "      <td>[8, 2, 4, 7, 3, 7, 3, 5, 7]</td>\n",
       "      <td>46</td>\n",
       "      <td>[3 1 1 2 1 1 1 1 2]</td>\n",
       "      <td>13</td>\n",
       "      <td>-0.200000</td>\n",
       "    </tr>\n",
       "    <tr>\n",
       "      <th>4</th>\n",
       "      <td>He faced about and blessed gravely thrice the ...</td>\n",
       "      <td>[2, 5, 5, 3, 7, 7, 6, 3, 5, 3, 11, 4, 3, 3, 7, 9]</td>\n",
       "      <td>83</td>\n",
       "      <td>[1 1 2 1 1 3 1 1 2 1 3 1 1 1 3 2]</td>\n",
       "      <td>25</td>\n",
       "      <td>0.000000</td>\n",
       "    </tr>\n",
       "  </tbody>\n",
       "</table>\n",
       "</div>"
      ],
      "text/plain": [
       "                                                   0  \\\n",
       "0  He held the bowl aloft and intoned:  --_Introi...   \n",
       "1  Halted, he peered down the dark winding stairs...   \n",
       "2                       Come up, you fearful jesuit!   \n",
       "3  Solemnly he came forward and mounted the round...   \n",
       "4  He faced about and blessed gravely thrice the ...   \n",
       "\n",
       "                                          wrd_length  total_char  \\\n",
       "0                  [2, 4, 3, 4, 5, 3, 7, 8, 2, 6, 3]          47   \n",
       "1      [6, 2, 6, 4, 3, 4, 7, 6, 3, 6, 3, 8, 4, 2, 5]          69   \n",
       "2                                    [4, 2, 3, 7, 6]          22   \n",
       "3                        [8, 2, 4, 7, 3, 7, 3, 5, 7]          46   \n",
       "4  [2, 5, 5, 3, 7, 7, 6, 3, 5, 3, 11, 4, 3, 3, 7, 9]          83   \n",
       "\n",
       "                           syl_count  syl_sum  sentiment  \n",
       "0            [1 1 1 1 2 1 2 3 1 2 1]       16   0.000000  \n",
       "1    [1 1 1 1 1 1 2 1 1 1 1 3 1 1 1]       18  -0.101852  \n",
       "2                        [1 1 1 3 2]        8  -1.000000  \n",
       "3                [3 1 1 2 1 1 1 1 2]       13  -0.200000  \n",
       "4  [1 1 2 1 1 3 1 1 2 1 3 1 1 1 3 2]       25   0.000000  "
      ]
     },
     "execution_count": 25,
     "metadata": {},
     "output_type": "execute_result"
    }
   ],
   "source": [
    "df_test.head()"
   ]
  },
  {
   "cell_type": "code",
   "execution_count": 23,
   "metadata": {
    "collapsed": false
   },
   "outputs": [
    {
     "data": {
      "text/html": [
       "<div>\n",
       "<table border=\"1\" class=\"dataframe\">\n",
       "  <thead>\n",
       "    <tr style=\"text-align: right;\">\n",
       "      <th></th>\n",
       "      <th>0</th>\n",
       "      <th>wrd_length</th>\n",
       "      <th>total_char</th>\n",
       "      <th>syl_count</th>\n",
       "      <th>syl_sum</th>\n",
       "      <th>sentiment</th>\n",
       "    </tr>\n",
       "  </thead>\n",
       "  <tbody>\n",
       "    <tr>\n",
       "      <th>75</th>\n",
       "      <td>--God!</td>\n",
       "      <td>[3]</td>\n",
       "      <td>3</td>\n",
       "      <td>[1]</td>\n",
       "      <td>1</td>\n",
       "      <td>0.0</td>\n",
       "    </tr>\n",
       "    <tr>\n",
       "      <th>211</th>\n",
       "      <td>Why?</td>\n",
       "      <td>[3]</td>\n",
       "      <td>3</td>\n",
       "      <td>[1]</td>\n",
       "      <td>1</td>\n",
       "      <td>0.0</td>\n",
       "    </tr>\n",
       "    <tr>\n",
       "      <th>216</th>\n",
       "      <td>--Yes?</td>\n",
       "      <td>[3]</td>\n",
       "      <td>3</td>\n",
       "      <td>[0]</td>\n",
       "      <td>0</td>\n",
       "      <td>0.0</td>\n",
       "    </tr>\n",
       "    <tr>\n",
       "      <th>232</th>\n",
       "      <td>Why?</td>\n",
       "      <td>[3]</td>\n",
       "      <td>3</td>\n",
       "      <td>[1]</td>\n",
       "      <td>1</td>\n",
       "      <td>0.0</td>\n",
       "    </tr>\n",
       "    <tr>\n",
       "      <th>627</th>\n",
       "      <td>All.</td>\n",
       "      <td>[3]</td>\n",
       "      <td>3</td>\n",
       "      <td>[1]</td>\n",
       "      <td>1</td>\n",
       "      <td>0.0</td>\n",
       "    </tr>\n",
       "    <tr>\n",
       "      <th>656</th>\n",
       "      <td>_Zut!</td>\n",
       "      <td>[3]</td>\n",
       "      <td>3</td>\n",
       "      <td>[1]</td>\n",
       "      <td>1</td>\n",
       "      <td>0.0</td>\n",
       "    </tr>\n",
       "    <tr>\n",
       "      <th>691</th>\n",
       "      <td>--Yes.</td>\n",
       "      <td>[3]</td>\n",
       "      <td>3</td>\n",
       "      <td>[0]</td>\n",
       "      <td>0</td>\n",
       "      <td>0.0</td>\n",
       "    </tr>\n",
       "    <tr>\n",
       "      <th>704</th>\n",
       "      <td>--Yes.</td>\n",
       "      <td>[3]</td>\n",
       "      <td>3</td>\n",
       "      <td>[0]</td>\n",
       "      <td>0</td>\n",
       "      <td>0.0</td>\n",
       "    </tr>\n",
       "    <tr>\n",
       "      <th>788</th>\n",
       "      <td>Yes.</td>\n",
       "      <td>[3]</td>\n",
       "      <td>3</td>\n",
       "      <td>[0]</td>\n",
       "      <td>0</td>\n",
       "      <td>0.0</td>\n",
       "    </tr>\n",
       "    <tr>\n",
       "      <th>790</th>\n",
       "      <td>All.</td>\n",
       "      <td>[3]</td>\n",
       "      <td>3</td>\n",
       "      <td>[1]</td>\n",
       "      <td>1</td>\n",
       "      <td>0.0</td>\n",
       "    </tr>\n",
       "    <tr>\n",
       "      <th>843</th>\n",
       "      <td>Ay.</td>\n",
       "      <td>[2]</td>\n",
       "      <td>2</td>\n",
       "      <td>[1]</td>\n",
       "      <td>1</td>\n",
       "      <td>0.0</td>\n",
       "    </tr>\n",
       "    <tr>\n",
       "      <th>957</th>\n",
       "      <td>See.</td>\n",
       "      <td>[3]</td>\n",
       "      <td>3</td>\n",
       "      <td>[1]</td>\n",
       "      <td>1</td>\n",
       "      <td>0.0</td>\n",
       "    </tr>\n",
       "    <tr>\n",
       "      <th>962</th>\n",
       "      <td>See.</td>\n",
       "      <td>[3]</td>\n",
       "      <td>3</td>\n",
       "      <td>[1]</td>\n",
       "      <td>1</td>\n",
       "      <td>0.0</td>\n",
       "    </tr>\n",
       "    <tr>\n",
       "      <th>1000</th>\n",
       "      <td>--Ba!</td>\n",
       "      <td>[2]</td>\n",
       "      <td>2</td>\n",
       "      <td>[1]</td>\n",
       "      <td>1</td>\n",
       "      <td>0.0</td>\n",
       "    </tr>\n",
       "    <tr>\n",
       "      <th>1045</th>\n",
       "      <td>Day!...</td>\n",
       "      <td>[3]</td>\n",
       "      <td>3</td>\n",
       "      <td>[1]</td>\n",
       "      <td>1</td>\n",
       "      <td>0.0</td>\n",
       "    </tr>\n",
       "    <tr>\n",
       "      <th>1046</th>\n",
       "      <td>Day!...</td>\n",
       "      <td>[3]</td>\n",
       "      <td>3</td>\n",
       "      <td>[1]</td>\n",
       "      <td>1</td>\n",
       "      <td>0.0</td>\n",
       "    </tr>\n",
       "    <tr>\n",
       "      <th>1161</th>\n",
       "      <td>Ay!</td>\n",
       "      <td>[2]</td>\n",
       "      <td>2</td>\n",
       "      <td>[1]</td>\n",
       "      <td>1</td>\n",
       "      <td>0.0</td>\n",
       "    </tr>\n",
       "    <tr>\n",
       "      <th>1223</th>\n",
       "      <td>No.</td>\n",
       "      <td>[2]</td>\n",
       "      <td>2</td>\n",
       "      <td>[1]</td>\n",
       "      <td>1</td>\n",
       "      <td>0.0</td>\n",
       "    </tr>\n",
       "    <tr>\n",
       "      <th>1240</th>\n",
       "      <td>How?</td>\n",
       "      <td>[3]</td>\n",
       "      <td>3</td>\n",
       "      <td>[1]</td>\n",
       "      <td>1</td>\n",
       "      <td>0.0</td>\n",
       "    </tr>\n",
       "    <tr>\n",
       "      <th>1256</th>\n",
       "      <td>No.</td>\n",
       "      <td>[2]</td>\n",
       "      <td>2</td>\n",
       "      <td>[1]</td>\n",
       "      <td>1</td>\n",
       "      <td>0.0</td>\n",
       "    </tr>\n",
       "    <tr>\n",
       "      <th>1327</th>\n",
       "      <td>No?</td>\n",
       "      <td>[2]</td>\n",
       "      <td>2</td>\n",
       "      <td>[1]</td>\n",
       "      <td>1</td>\n",
       "      <td>0.0</td>\n",
       "    </tr>\n",
       "    <tr>\n",
       "      <th>1336</th>\n",
       "      <td>Sir.</td>\n",
       "      <td>[3]</td>\n",
       "      <td>3</td>\n",
       "      <td>[1]</td>\n",
       "      <td>1</td>\n",
       "      <td>0.0</td>\n",
       "    </tr>\n",
       "    <tr>\n",
       "      <th>1470</th>\n",
       "      <td>Aha.</td>\n",
       "      <td>[3]</td>\n",
       "      <td>3</td>\n",
       "      <td>[2]</td>\n",
       "      <td>2</td>\n",
       "      <td>0.0</td>\n",
       "    </tr>\n",
       "    <tr>\n",
       "      <th>1579</th>\n",
       "      <td>O, O.</td>\n",
       "      <td>[1, 1]</td>\n",
       "      <td>2</td>\n",
       "      <td>[1, 1]</td>\n",
       "      <td>2</td>\n",
       "      <td>0.0</td>\n",
       "    </tr>\n",
       "    <tr>\n",
       "      <th>1635</th>\n",
       "      <td>Who?</td>\n",
       "      <td>[3]</td>\n",
       "      <td>3</td>\n",
       "      <td>[1]</td>\n",
       "      <td>1</td>\n",
       "      <td>0.0</td>\n",
       "    </tr>\n",
       "    <tr>\n",
       "      <th>1725</th>\n",
       "      <td>In.</td>\n",
       "      <td>[2]</td>\n",
       "      <td>2</td>\n",
       "      <td>[1]</td>\n",
       "      <td>1</td>\n",
       "      <td>0.0</td>\n",
       "    </tr>\n",
       "    <tr>\n",
       "      <th>1765</th>\n",
       "      <td>No.</td>\n",
       "      <td>[2]</td>\n",
       "      <td>2</td>\n",
       "      <td>[1]</td>\n",
       "      <td>1</td>\n",
       "      <td>0.0</td>\n",
       "    </tr>\n",
       "    <tr>\n",
       "      <th>1827</th>\n",
       "      <td>Alo!</td>\n",
       "      <td>[3]</td>\n",
       "      <td>3</td>\n",
       "      <td>[2]</td>\n",
       "      <td>2</td>\n",
       "      <td>0.0</td>\n",
       "    </tr>\n",
       "    <tr>\n",
       "      <th>1892</th>\n",
       "      <td>No.</td>\n",
       "      <td>[2]</td>\n",
       "      <td>2</td>\n",
       "      <td>[1]</td>\n",
       "      <td>1</td>\n",
       "      <td>0.0</td>\n",
       "    </tr>\n",
       "    <tr>\n",
       "      <th>1903</th>\n",
       "      <td>_Gia_.</td>\n",
       "      <td>[3]</td>\n",
       "      <td>3</td>\n",
       "      <td>[2]</td>\n",
       "      <td>2</td>\n",
       "      <td>0.0</td>\n",
       "    </tr>\n",
       "    <tr>\n",
       "      <th>...</th>\n",
       "      <td>...</td>\n",
       "      <td>...</td>\n",
       "      <td>...</td>\n",
       "      <td>...</td>\n",
       "      <td>...</td>\n",
       "      <td>...</td>\n",
       "    </tr>\n",
       "    <tr>\n",
       "      <th>20473</th>\n",
       "      <td>hi!</td>\n",
       "      <td>[2]</td>\n",
       "      <td>2</td>\n",
       "      <td>[1]</td>\n",
       "      <td>1</td>\n",
       "      <td>0.0</td>\n",
       "    </tr>\n",
       "    <tr>\n",
       "      <th>20672</th>\n",
       "      <td>O!</td>\n",
       "      <td>[1]</td>\n",
       "      <td>1</td>\n",
       "      <td>[1]</td>\n",
       "      <td>1</td>\n",
       "      <td>0.0</td>\n",
       "    </tr>\n",
       "    <tr>\n",
       "      <th>20673</th>\n",
       "      <td>Bo!</td>\n",
       "      <td>[2]</td>\n",
       "      <td>2</td>\n",
       "      <td>[1]</td>\n",
       "      <td>1</td>\n",
       "      <td>0.0</td>\n",
       "    </tr>\n",
       "    <tr>\n",
       "      <th>20787</th>\n",
       "      <td>Air!</td>\n",
       "      <td>[3]</td>\n",
       "      <td>3</td>\n",
       "      <td>[1]</td>\n",
       "      <td>1</td>\n",
       "      <td>0.0</td>\n",
       "    </tr>\n",
       "    <tr>\n",
       "      <th>20788</th>\n",
       "      <td>Who?</td>\n",
       "      <td>[3]</td>\n",
       "      <td>3</td>\n",
       "      <td>[1]</td>\n",
       "      <td>1</td>\n",
       "      <td>0.0</td>\n",
       "    </tr>\n",
       "    <tr>\n",
       "      <th>20889</th>\n",
       "      <td>Yes.</td>\n",
       "      <td>[3]</td>\n",
       "      <td>3</td>\n",
       "      <td>[0]</td>\n",
       "      <td>0</td>\n",
       "      <td>0.0</td>\n",
       "    </tr>\n",
       "    <tr>\n",
       "      <th>20935</th>\n",
       "      <td>Ho!</td>\n",
       "      <td>[2]</td>\n",
       "      <td>2</td>\n",
       "      <td>[1]</td>\n",
       "      <td>1</td>\n",
       "      <td>0.0</td>\n",
       "    </tr>\n",
       "    <tr>\n",
       "      <th>21083</th>\n",
       "      <td>Why?</td>\n",
       "      <td>[3]</td>\n",
       "      <td>3</td>\n",
       "      <td>[1]</td>\n",
       "      <td>1</td>\n",
       "      <td>0.0</td>\n",
       "    </tr>\n",
       "    <tr>\n",
       "      <th>21150</th>\n",
       "      <td>--Pom!</td>\n",
       "      <td>[3]</td>\n",
       "      <td>3</td>\n",
       "      <td>[1]</td>\n",
       "      <td>1</td>\n",
       "      <td>0.0</td>\n",
       "    </tr>\n",
       "    <tr>\n",
       "      <th>21153</th>\n",
       "      <td>--Pom!</td>\n",
       "      <td>[3]</td>\n",
       "      <td>3</td>\n",
       "      <td>[1]</td>\n",
       "      <td>1</td>\n",
       "      <td>0.0</td>\n",
       "    </tr>\n",
       "    <tr>\n",
       "      <th>21204</th>\n",
       "      <td>See?</td>\n",
       "      <td>[3]</td>\n",
       "      <td>3</td>\n",
       "      <td>[1]</td>\n",
       "      <td>1</td>\n",
       "      <td>0.0</td>\n",
       "    </tr>\n",
       "    <tr>\n",
       "      <th>21206</th>\n",
       "      <td>A.</td>\n",
       "      <td>[1]</td>\n",
       "      <td>1</td>\n",
       "      <td>[1]</td>\n",
       "      <td>1</td>\n",
       "      <td>0.0</td>\n",
       "    </tr>\n",
       "    <tr>\n",
       "      <th>21347</th>\n",
       "      <td>Ate.</td>\n",
       "      <td>[3]</td>\n",
       "      <td>3</td>\n",
       "      <td>[1]</td>\n",
       "      <td>1</td>\n",
       "      <td>0.0</td>\n",
       "    </tr>\n",
       "    <tr>\n",
       "      <th>21549</th>\n",
       "      <td>Why?</td>\n",
       "      <td>[3]</td>\n",
       "      <td>3</td>\n",
       "      <td>[1]</td>\n",
       "      <td>1</td>\n",
       "      <td>0.0</td>\n",
       "    </tr>\n",
       "    <tr>\n",
       "      <th>21659</th>\n",
       "      <td>--Who?</td>\n",
       "      <td>[3]</td>\n",
       "      <td>3</td>\n",
       "      <td>[1]</td>\n",
       "      <td>1</td>\n",
       "      <td>0.0</td>\n",
       "    </tr>\n",
       "    <tr>\n",
       "      <th>21856</th>\n",
       "      <td>A.</td>\n",
       "      <td>[1]</td>\n",
       "      <td>1</td>\n",
       "      <td>[1]</td>\n",
       "      <td>1</td>\n",
       "      <td>0.0</td>\n",
       "    </tr>\n",
       "    <tr>\n",
       "      <th>21935</th>\n",
       "      <td>Yes.</td>\n",
       "      <td>[3]</td>\n",
       "      <td>3</td>\n",
       "      <td>[0]</td>\n",
       "      <td>0</td>\n",
       "      <td>0.0</td>\n",
       "    </tr>\n",
       "    <tr>\n",
       "      <th>22015</th>\n",
       "      <td>Two.</td>\n",
       "      <td>[3]</td>\n",
       "      <td>3</td>\n",
       "      <td>[1]</td>\n",
       "      <td>1</td>\n",
       "      <td>0.0</td>\n",
       "    </tr>\n",
       "    <tr>\n",
       "      <th>22058</th>\n",
       "      <td>K. II.</td>\n",
       "      <td>[1, 2]</td>\n",
       "      <td>3</td>\n",
       "      <td>[0, 1]</td>\n",
       "      <td>1</td>\n",
       "      <td>0.0</td>\n",
       "    </tr>\n",
       "    <tr>\n",
       "      <th>22233</th>\n",
       "      <td>As?</td>\n",
       "      <td>[2]</td>\n",
       "      <td>2</td>\n",
       "      <td>[1]</td>\n",
       "      <td>1</td>\n",
       "      <td>0.0</td>\n",
       "    </tr>\n",
       "    <tr>\n",
       "      <th>22269</th>\n",
       "      <td>No.</td>\n",
       "      <td>[2]</td>\n",
       "      <td>2</td>\n",
       "      <td>[1]</td>\n",
       "      <td>1</td>\n",
       "      <td>0.0</td>\n",
       "    </tr>\n",
       "    <tr>\n",
       "      <th>22444</th>\n",
       "      <td>As?</td>\n",
       "      <td>[2]</td>\n",
       "      <td>2</td>\n",
       "      <td>[1]</td>\n",
       "      <td>1</td>\n",
       "      <td>0.0</td>\n",
       "    </tr>\n",
       "    <tr>\n",
       "      <th>22474</th>\n",
       "      <td>B.)</td>\n",
       "      <td>[1]</td>\n",
       "      <td>1</td>\n",
       "      <td>[0]</td>\n",
       "      <td>0</td>\n",
       "      <td>0.0</td>\n",
       "    </tr>\n",
       "    <tr>\n",
       "      <th>22515</th>\n",
       "      <td>UU.</td>\n",
       "      <td>[2]</td>\n",
       "      <td>2</td>\n",
       "      <td>[1]</td>\n",
       "      <td>1</td>\n",
       "      <td>0.0</td>\n",
       "    </tr>\n",
       "    <tr>\n",
       "      <th>22517</th>\n",
       "      <td>OKS.</td>\n",
       "      <td>[3]</td>\n",
       "      <td>3</td>\n",
       "      <td>[1]</td>\n",
       "      <td>1</td>\n",
       "      <td>0.0</td>\n",
       "    </tr>\n",
       "    <tr>\n",
       "      <th>22535</th>\n",
       "      <td>B.)</td>\n",
       "      <td>[1]</td>\n",
       "      <td>1</td>\n",
       "      <td>[0]</td>\n",
       "      <td>0</td>\n",
       "      <td>0.0</td>\n",
       "    </tr>\n",
       "    <tr>\n",
       "      <th>22553</th>\n",
       "      <td>As?</td>\n",
       "      <td>[2]</td>\n",
       "      <td>2</td>\n",
       "      <td>[1]</td>\n",
       "      <td>1</td>\n",
       "      <td>0.0</td>\n",
       "    </tr>\n",
       "    <tr>\n",
       "      <th>22573</th>\n",
       "      <td>4d.</td>\n",
       "      <td>[2]</td>\n",
       "      <td>2</td>\n",
       "      <td>[0]</td>\n",
       "      <td>0</td>\n",
       "      <td>0.0</td>\n",
       "    </tr>\n",
       "    <tr>\n",
       "      <th>22638</th>\n",
       "      <td>How?</td>\n",
       "      <td>[3]</td>\n",
       "      <td>3</td>\n",
       "      <td>[1]</td>\n",
       "      <td>1</td>\n",
       "      <td>0.0</td>\n",
       "    </tr>\n",
       "    <tr>\n",
       "      <th>22700</th>\n",
       "      <td>How?</td>\n",
       "      <td>[3]</td>\n",
       "      <td>3</td>\n",
       "      <td>[1]</td>\n",
       "      <td>1</td>\n",
       "      <td>0.0</td>\n",
       "    </tr>\n",
       "  </tbody>\n",
       "</table>\n",
       "<p>479 rows × 6 columns</p>\n",
       "</div>"
      ],
      "text/plain": [
       "             0 wrd_length  total_char syl_count  syl_sum  sentiment\n",
       "75      --God!        [3]           3       [1]        1        0.0\n",
       "211       Why?        [3]           3       [1]        1        0.0\n",
       "216     --Yes?        [3]           3       [0]        0        0.0\n",
       "232       Why?        [3]           3       [1]        1        0.0\n",
       "627       All.        [3]           3       [1]        1        0.0\n",
       "656      _Zut!        [3]           3       [1]        1        0.0\n",
       "691     --Yes.        [3]           3       [0]        0        0.0\n",
       "704     --Yes.        [3]           3       [0]        0        0.0\n",
       "788       Yes.        [3]           3       [0]        0        0.0\n",
       "790       All.        [3]           3       [1]        1        0.0\n",
       "843        Ay.        [2]           2       [1]        1        0.0\n",
       "957       See.        [3]           3       [1]        1        0.0\n",
       "962       See.        [3]           3       [1]        1        0.0\n",
       "1000     --Ba!        [2]           2       [1]        1        0.0\n",
       "1045   Day!...        [3]           3       [1]        1        0.0\n",
       "1046   Day!...        [3]           3       [1]        1        0.0\n",
       "1161       Ay!        [2]           2       [1]        1        0.0\n",
       "1223       No.        [2]           2       [1]        1        0.0\n",
       "1240      How?        [3]           3       [1]        1        0.0\n",
       "1256       No.        [2]           2       [1]        1        0.0\n",
       "1327       No?        [2]           2       [1]        1        0.0\n",
       "1336      Sir.        [3]           3       [1]        1        0.0\n",
       "1470      Aha.        [3]           3       [2]        2        0.0\n",
       "1579     O, O.     [1, 1]           2    [1, 1]        2        0.0\n",
       "1635      Who?        [3]           3       [1]        1        0.0\n",
       "1725       In.        [2]           2       [1]        1        0.0\n",
       "1765       No.        [2]           2       [1]        1        0.0\n",
       "1827      Alo!        [3]           3       [2]        2        0.0\n",
       "1892       No.        [2]           2       [1]        1        0.0\n",
       "1903    _Gia_.        [3]           3       [2]        2        0.0\n",
       "...        ...        ...         ...       ...      ...        ...\n",
       "20473      hi!        [2]           2       [1]        1        0.0\n",
       "20672       O!        [1]           1       [1]        1        0.0\n",
       "20673      Bo!        [2]           2       [1]        1        0.0\n",
       "20787     Air!        [3]           3       [1]        1        0.0\n",
       "20788     Who?        [3]           3       [1]        1        0.0\n",
       "20889     Yes.        [3]           3       [0]        0        0.0\n",
       "20935      Ho!        [2]           2       [1]        1        0.0\n",
       "21083     Why?        [3]           3       [1]        1        0.0\n",
       "21150   --Pom!        [3]           3       [1]        1        0.0\n",
       "21153   --Pom!        [3]           3       [1]        1        0.0\n",
       "21204     See?        [3]           3       [1]        1        0.0\n",
       "21206       A.        [1]           1       [1]        1        0.0\n",
       "21347     Ate.        [3]           3       [1]        1        0.0\n",
       "21549     Why?        [3]           3       [1]        1        0.0\n",
       "21659   --Who?        [3]           3       [1]        1        0.0\n",
       "21856       A.        [1]           1       [1]        1        0.0\n",
       "21935     Yes.        [3]           3       [0]        0        0.0\n",
       "22015     Two.        [3]           3       [1]        1        0.0\n",
       "22058   K. II.     [1, 2]           3    [0, 1]        1        0.0\n",
       "22233      As?        [2]           2       [1]        1        0.0\n",
       "22269      No.        [2]           2       [1]        1        0.0\n",
       "22444      As?        [2]           2       [1]        1        0.0\n",
       "22474      B.)        [1]           1       [0]        0        0.0\n",
       "22515      UU.        [2]           2       [1]        1        0.0\n",
       "22517     OKS.        [3]           3       [1]        1        0.0\n",
       "22535      B.)        [1]           1       [0]        0        0.0\n",
       "22553      As?        [2]           2       [1]        1        0.0\n",
       "22573      4d.        [2]           2       [0]        0        0.0\n",
       "22638     How?        [3]           3       [1]        1        0.0\n",
       "22700     How?        [3]           3       [1]        1        0.0\n",
       "\n",
       "[479 rows x 6 columns]"
      ]
     },
     "execution_count": 23,
     "metadata": {},
     "output_type": "execute_result"
    }
   ],
   "source": [
    "df2 = df_novel[df_novel['total_char']<=3]\n",
    "df2"
   ]
  },
  {
   "cell_type": "code",
   "execution_count": 30,
   "metadata": {
    "collapsed": true
   },
   "outputs": [],
   "source": [
    "df_cluster = df_novel.drop('wrd_length', 1)"
   ]
  },
  {
   "cell_type": "code",
   "execution_count": 31,
   "metadata": {
    "collapsed": true
   },
   "outputs": [],
   "source": [
    "df_cluster = df_cluster.drop('syl_count', 1)"
   ]
  },
  {
   "cell_type": "code",
   "execution_count": 32,
   "metadata": {
    "collapsed": false
   },
   "outputs": [
    {
     "data": {
      "text/html": [
       "<div>\n",
       "<table border=\"1\" class=\"dataframe\">\n",
       "  <thead>\n",
       "    <tr style=\"text-align: right;\">\n",
       "      <th></th>\n",
       "      <th>0</th>\n",
       "      <th>total_char</th>\n",
       "      <th>syl_sum</th>\n",
       "      <th>sentiment</th>\n",
       "    </tr>\n",
       "  </thead>\n",
       "  <tbody>\n",
       "    <tr>\n",
       "      <th>0</th>\n",
       "      <td>He held the bowl aloft and intoned:  --_Introi...</td>\n",
       "      <td>47</td>\n",
       "      <td>16</td>\n",
       "      <td>0.000000</td>\n",
       "    </tr>\n",
       "    <tr>\n",
       "      <th>1</th>\n",
       "      <td>Halted, he peered down the dark winding stairs...</td>\n",
       "      <td>69</td>\n",
       "      <td>18</td>\n",
       "      <td>-0.101852</td>\n",
       "    </tr>\n",
       "    <tr>\n",
       "      <th>2</th>\n",
       "      <td>Come up, you fearful jesuit!</td>\n",
       "      <td>22</td>\n",
       "      <td>8</td>\n",
       "      <td>-1.000000</td>\n",
       "    </tr>\n",
       "    <tr>\n",
       "      <th>3</th>\n",
       "      <td>Solemnly he came forward and mounted the round...</td>\n",
       "      <td>46</td>\n",
       "      <td>13</td>\n",
       "      <td>-0.200000</td>\n",
       "    </tr>\n",
       "    <tr>\n",
       "      <th>4</th>\n",
       "      <td>He faced about and blessed gravely thrice the ...</td>\n",
       "      <td>83</td>\n",
       "      <td>25</td>\n",
       "      <td>0.000000</td>\n",
       "    </tr>\n",
       "  </tbody>\n",
       "</table>\n",
       "</div>"
      ],
      "text/plain": [
       "                                                   0  total_char  syl_sum  \\\n",
       "0  He held the bowl aloft and intoned:  --_Introi...          47       16   \n",
       "1  Halted, he peered down the dark winding stairs...          69       18   \n",
       "2                       Come up, you fearful jesuit!          22        8   \n",
       "3  Solemnly he came forward and mounted the round...          46       13   \n",
       "4  He faced about and blessed gravely thrice the ...          83       25   \n",
       "\n",
       "   sentiment  \n",
       "0   0.000000  \n",
       "1  -0.101852  \n",
       "2  -1.000000  \n",
       "3  -0.200000  \n",
       "4   0.000000  "
      ]
     },
     "execution_count": 32,
     "metadata": {},
     "output_type": "execute_result"
    }
   ],
   "source": [
    "df_cluster.head()"
   ]
  },
  {
   "cell_type": "code",
   "execution_count": 27,
   "metadata": {
    "collapsed": true
   },
   "outputs": [],
   "source": [
    "X = df_cluster.drop(0, axis=1)"
   ]
  },
  {
   "cell_type": "code",
   "execution_count": 28,
   "metadata": {
    "collapsed": true
   },
   "outputs": [],
   "source": [
    "from sklearn.cluster import KMeans"
   ]
  },
  {
   "cell_type": "code",
   "execution_count": 29,
   "metadata": {
    "collapsed": true
   },
   "outputs": [],
   "source": [
    "from sklearn.preprocessing import StandardScaler\n",
    "scaler = StandardScaler()\n",
    "X_scaled = scaler.fit_transform(X)"
   ]
  },
  {
   "cell_type": "code",
   "execution_count": 92,
   "metadata": {
    "collapsed": false
   },
   "outputs": [
    {
     "data": {
      "text/plain": [
       "KMeans(copy_x=True, init='k-means++', max_iter=300, n_clusters=20, n_init=10,\n",
       "    n_jobs=1, precompute_distances='auto', random_state=1, tol=0.0001,\n",
       "    verbose=0)"
      ]
     },
     "execution_count": 92,
     "metadata": {},
     "output_type": "execute_result"
    }
   ],
   "source": [
    "km = KMeans(n_clusters=20, random_state=1)\n",
    "km.fit(X_scaled)"
   ]
  },
  {
   "cell_type": "code",
   "execution_count": 93,
   "metadata": {
    "collapsed": false
   },
   "outputs": [
    {
     "data": {
      "text/plain": [
       "array([ 0, 16, 18, ...,  8,  1,  0], dtype=int32)"
      ]
     },
     "execution_count": 93,
     "metadata": {},
     "output_type": "execute_result"
    }
   ],
   "source": [
    "km.labels_"
   ]
  },
  {
   "cell_type": "code",
   "execution_count": 94,
   "metadata": {
    "collapsed": true
   },
   "outputs": [],
   "source": [
    "df_cluster['cluster'] = km.labels_"
   ]
  },
  {
   "cell_type": "code",
   "execution_count": 33,
   "metadata": {
    "collapsed": false
   },
   "outputs": [
    {
     "data": {
      "text/html": [
       "<div>\n",
       "<table border=\"1\" class=\"dataframe\">\n",
       "  <thead>\n",
       "    <tr style=\"text-align: right;\">\n",
       "      <th></th>\n",
       "      <th>0</th>\n",
       "      <th>total_char</th>\n",
       "      <th>syl_sum</th>\n",
       "      <th>sentiment</th>\n",
       "      <th>cluster</th>\n",
       "    </tr>\n",
       "  </thead>\n",
       "  <tbody>\n",
       "    <tr>\n",
       "      <th>0</th>\n",
       "      <td>He held the bowl aloft and intoned:  --_Introi...</td>\n",
       "      <td>47</td>\n",
       "      <td>16</td>\n",
       "      <td>0.000000</td>\n",
       "      <td>0</td>\n",
       "    </tr>\n",
       "    <tr>\n",
       "      <th>1</th>\n",
       "      <td>Halted, he peered down the dark winding stairs...</td>\n",
       "      <td>69</td>\n",
       "      <td>18</td>\n",
       "      <td>-0.101852</td>\n",
       "      <td>16</td>\n",
       "    </tr>\n",
       "    <tr>\n",
       "      <th>2</th>\n",
       "      <td>Come up, you fearful jesuit!</td>\n",
       "      <td>22</td>\n",
       "      <td>8</td>\n",
       "      <td>-1.000000</td>\n",
       "      <td>18</td>\n",
       "    </tr>\n",
       "    <tr>\n",
       "      <th>3</th>\n",
       "      <td>Solemnly he came forward and mounted the round...</td>\n",
       "      <td>46</td>\n",
       "      <td>13</td>\n",
       "      <td>-0.200000</td>\n",
       "      <td>7</td>\n",
       "    </tr>\n",
       "    <tr>\n",
       "      <th>4</th>\n",
       "      <td>He faced about and blessed gravely thrice the ...</td>\n",
       "      <td>83</td>\n",
       "      <td>25</td>\n",
       "      <td>0.000000</td>\n",
       "      <td>12</td>\n",
       "    </tr>\n",
       "  </tbody>\n",
       "</table>\n",
       "</div>"
      ],
      "text/plain": [
       "                                                   0  total_char  syl_sum  \\\n",
       "0  He held the bowl aloft and intoned:  --_Introi...          47       16   \n",
       "1  Halted, he peered down the dark winding stairs...          69       18   \n",
       "2                       Come up, you fearful jesuit!          22        8   \n",
       "3  Solemnly he came forward and mounted the round...          46       13   \n",
       "4  He faced about and blessed gravely thrice the ...          83       25   \n",
       "\n",
       "   sentiment  cluster  \n",
       "0   0.000000        0  \n",
       "1  -0.101852       16  \n",
       "2  -1.000000       18  \n",
       "3  -0.200000        7  \n",
       "4   0.000000       12  "
      ]
     },
     "execution_count": 33,
     "metadata": {},
     "output_type": "execute_result"
    }
   ],
   "source": [
    "df_cluster.head()"
   ]
  },
  {
   "cell_type": "code",
   "execution_count": 118,
   "metadata": {
    "collapsed": false
   },
   "outputs": [
    {
     "data": {
      "text/html": [
       "<div>\n",
       "<table border=\"1\" class=\"dataframe\">\n",
       "  <thead>\n",
       "    <tr style=\"text-align: right;\">\n",
       "      <th></th>\n",
       "      <th>0</th>\n",
       "      <th>total_char</th>\n",
       "      <th>syl_sum</th>\n",
       "      <th>sentiment</th>\n",
       "      <th>cluster</th>\n",
       "    </tr>\n",
       "  </thead>\n",
       "  <tbody>\n",
       "    <tr>\n",
       "      <th>0</th>\n",
       "      <td>He held the bowl aloft and intoned:  --_Introi...</td>\n",
       "      <td>47</td>\n",
       "      <td>16</td>\n",
       "      <td>0.000000</td>\n",
       "      <td>17</td>\n",
       "    </tr>\n",
       "    <tr>\n",
       "      <th>1</th>\n",
       "      <td>Halted, he peered down the dark winding stairs...</td>\n",
       "      <td>69</td>\n",
       "      <td>18</td>\n",
       "      <td>-0.101852</td>\n",
       "      <td>0</td>\n",
       "    </tr>\n",
       "    <tr>\n",
       "      <th>2</th>\n",
       "      <td>Come up, you fearful jesuit!</td>\n",
       "      <td>22</td>\n",
       "      <td>8</td>\n",
       "      <td>-1.000000</td>\n",
       "      <td>5</td>\n",
       "    </tr>\n",
       "    <tr>\n",
       "      <th>3</th>\n",
       "      <td>Solemnly he came forward and mounted the round...</td>\n",
       "      <td>46</td>\n",
       "      <td>13</td>\n",
       "      <td>-0.200000</td>\n",
       "      <td>6</td>\n",
       "    </tr>\n",
       "    <tr>\n",
       "      <th>4</th>\n",
       "      <td>He faced about and blessed gravely thrice the ...</td>\n",
       "      <td>83</td>\n",
       "      <td>25</td>\n",
       "      <td>0.000000</td>\n",
       "      <td>16</td>\n",
       "    </tr>\n",
       "  </tbody>\n",
       "</table>\n",
       "</div>"
      ],
      "text/plain": [
       "                                                   0  total_char  syl_sum  \\\n",
       "0  He held the bowl aloft and intoned:  --_Introi...          47       16   \n",
       "1  Halted, he peered down the dark winding stairs...          69       18   \n",
       "2                       Come up, you fearful jesuit!          22        8   \n",
       "3  Solemnly he came forward and mounted the round...          46       13   \n",
       "4  He faced about and blessed gravely thrice the ...          83       25   \n",
       "\n",
       "   sentiment  cluster  \n",
       "0   0.000000       17  \n",
       "1  -0.101852        0  \n",
       "2  -1.000000        5  \n",
       "3  -0.200000        6  \n",
       "4   0.000000       16  "
      ]
     },
     "execution_count": 118,
     "metadata": {},
     "output_type": "execute_result"
    }
   ],
   "source": [
    "df_cluster2.head()"
   ]
  },
  {
   "cell_type": "code",
   "execution_count": 104,
   "metadata": {
    "collapsed": false
   },
   "outputs": [
    {
     "data": {
      "text/html": [
       "<div>\n",
       "<table border=\"1\" class=\"dataframe\">\n",
       "  <thead>\n",
       "    <tr style=\"text-align: right;\">\n",
       "      <th></th>\n",
       "      <th>0</th>\n",
       "      <th>total_char</th>\n",
       "      <th>syl_sum</th>\n",
       "      <th>sentiment</th>\n",
       "      <th>cluster</th>\n",
       "    </tr>\n",
       "  </thead>\n",
       "  <tbody>\n",
       "    <tr>\n",
       "      <th>22722</th>\n",
       "      <td>Mulveys was the first when I was in bed that m...</td>\n",
       "      <td>50694</td>\n",
       "      <td>16135</td>\n",
       "      <td>0.046562</td>\n",
       "      <td>1</td>\n",
       "    </tr>\n",
       "  </tbody>\n",
       "</table>\n",
       "</div>"
      ],
      "text/plain": [
       "                                                       0  total_char  syl_sum  \\\n",
       "22722  Mulveys was the first when I was in bed that m...       50694    16135   \n",
       "\n",
       "       sentiment  cluster  \n",
       "22722   0.046562        1  "
      ]
     },
     "execution_count": 104,
     "metadata": {},
     "output_type": "execute_result"
    }
   ],
   "source": [
    "df_cluster[df_cluster['cluster']==1]\n"
   ]
  },
  {
   "cell_type": "code",
   "execution_count": 105,
   "metadata": {
    "collapsed": false
   },
   "outputs": [
    {
     "data": {
      "text/html": [
       "<div>\n",
       "<table border=\"1\" class=\"dataframe\">\n",
       "  <thead>\n",
       "    <tr style=\"text-align: right;\">\n",
       "      <th></th>\n",
       "      <th>0</th>\n",
       "      <th>total_char</th>\n",
       "      <th>syl_sum</th>\n",
       "      <th>sentiment</th>\n",
       "      <th>cluster</th>\n",
       "    </tr>\n",
       "  </thead>\n",
       "  <tbody>\n",
       "    <tr>\n",
       "      <th>22721</th>\n",
       "      <td>Yes because he never did a thing like that bef...</td>\n",
       "      <td>43798</td>\n",
       "      <td>14021</td>\n",
       "      <td>0.044773</td>\n",
       "      <td>8</td>\n",
       "    </tr>\n",
       "  </tbody>\n",
       "</table>\n",
       "</div>"
      ],
      "text/plain": [
       "                                                       0  total_char  syl_sum  \\\n",
       "22721  Yes because he never did a thing like that bef...       43798    14021   \n",
       "\n",
       "       sentiment  cluster  \n",
       "22721   0.044773        8  "
      ]
     },
     "execution_count": 105,
     "metadata": {},
     "output_type": "execute_result"
    }
   ],
   "source": [
    "df_cluster[df_cluster['cluster']==8]"
   ]
  },
  {
   "cell_type": "code",
   "execution_count": 107,
   "metadata": {
    "collapsed": false
   },
   "outputs": [
    {
     "data": {
      "text/html": [
       "<div>\n",
       "<table border=\"1\" class=\"dataframe\">\n",
       "  <thead>\n",
       "    <tr style=\"text-align: right;\">\n",
       "      <th></th>\n",
       "      <th>0</th>\n",
       "      <th>total_char</th>\n",
       "      <th>syl_sum</th>\n",
       "      <th>sentiment</th>\n",
       "      <th>cluster</th>\n",
       "    </tr>\n",
       "  </thead>\n",
       "  <tbody>\n",
       "    <tr>\n",
       "      <th>22721</th>\n",
       "      <td>Yes because he never did a thing like that bef...</td>\n",
       "      <td>43798</td>\n",
       "      <td>14021</td>\n",
       "      <td>0.044773</td>\n",
       "      <td>8</td>\n",
       "    </tr>\n",
       "    <tr>\n",
       "      <th>22722</th>\n",
       "      <td>Mulveys was the first when I was in bed that m...</td>\n",
       "      <td>50694</td>\n",
       "      <td>16135</td>\n",
       "      <td>0.046562</td>\n",
       "      <td>1</td>\n",
       "    </tr>\n",
       "  </tbody>\n",
       "</table>\n",
       "</div>"
      ],
      "text/plain": [
       "                                                       0  total_char  syl_sum  \\\n",
       "22721  Yes because he never did a thing like that bef...       43798    14021   \n",
       "22722  Mulveys was the first when I was in bed that m...       50694    16135   \n",
       "\n",
       "       sentiment  cluster  \n",
       "22721   0.044773        8  \n",
       "22722   0.046562        1  "
      ]
     },
     "execution_count": 107,
     "metadata": {},
     "output_type": "execute_result"
    }
   ],
   "source": [
    "m = df_cluster[df_cluster['total_char'] > 40000]\n",
    "m"
   ]
  },
  {
   "cell_type": "code",
   "execution_count": 108,
   "metadata": {
    "collapsed": true
   },
   "outputs": [],
   "source": [
    "df_cluster2 = df_cluster[df_cluster['total_char'] < 40000]"
   ]
  },
  {
   "cell_type": "code",
   "execution_count": 95,
   "metadata": {
    "collapsed": false
   },
   "outputs": [
    {
     "data": {
      "text/html": [
       "<div>\n",
       "<table border=\"1\" class=\"dataframe\">\n",
       "  <thead>\n",
       "    <tr style=\"text-align: right;\">\n",
       "      <th></th>\n",
       "      <th>total_char</th>\n",
       "      <th>syl_sum</th>\n",
       "      <th>sentiment</th>\n",
       "    </tr>\n",
       "    <tr>\n",
       "      <th>cluster</th>\n",
       "      <th></th>\n",
       "      <th></th>\n",
       "      <th></th>\n",
       "    </tr>\n",
       "  </thead>\n",
       "  <tbody>\n",
       "    <tr>\n",
       "      <th>0</th>\n",
       "      <td>21.088429</td>\n",
       "      <td>6.481981</td>\n",
       "      <td>-0.000091</td>\n",
       "    </tr>\n",
       "    <tr>\n",
       "      <th>1</th>\n",
       "      <td>50694.000000</td>\n",
       "      <td>16135.000000</td>\n",
       "      <td>0.046562</td>\n",
       "    </tr>\n",
       "    <tr>\n",
       "      <th>2</th>\n",
       "      <td>48.147135</td>\n",
       "      <td>15.125000</td>\n",
       "      <td>0.535218</td>\n",
       "    </tr>\n",
       "    <tr>\n",
       "      <th>3</th>\n",
       "      <td>36.530769</td>\n",
       "      <td>11.461538</td>\n",
       "      <td>-0.745275</td>\n",
       "    </tr>\n",
       "    <tr>\n",
       "      <th>4</th>\n",
       "      <td>57.941075</td>\n",
       "      <td>18.062392</td>\n",
       "      <td>-0.347128</td>\n",
       "    </tr>\n",
       "    <tr>\n",
       "      <th>5</th>\n",
       "      <td>53.716319</td>\n",
       "      <td>16.644213</td>\n",
       "      <td>0.241229</td>\n",
       "    </tr>\n",
       "    <tr>\n",
       "      <th>6</th>\n",
       "      <td>41.535211</td>\n",
       "      <td>13.112676</td>\n",
       "      <td>0.965986</td>\n",
       "    </tr>\n",
       "    <tr>\n",
       "      <th>7</th>\n",
       "      <td>57.479759</td>\n",
       "      <td>17.525409</td>\n",
       "      <td>-0.192138</td>\n",
       "    </tr>\n",
       "    <tr>\n",
       "      <th>8</th>\n",
       "      <td>43798.000000</td>\n",
       "      <td>14021.000000</td>\n",
       "      <td>0.044773</td>\n",
       "    </tr>\n",
       "    <tr>\n",
       "      <th>9</th>\n",
       "      <td>802.560606</td>\n",
       "      <td>262.575758</td>\n",
       "      <td>0.082322</td>\n",
       "    </tr>\n",
       "    <tr>\n",
       "      <th>10</th>\n",
       "      <td>64.508551</td>\n",
       "      <td>20.095410</td>\n",
       "      <td>0.116765</td>\n",
       "    </tr>\n",
       "    <tr>\n",
       "      <th>11</th>\n",
       "      <td>2578.000000</td>\n",
       "      <td>852.333333</td>\n",
       "      <td>0.081097</td>\n",
       "    </tr>\n",
       "    <tr>\n",
       "      <th>12</th>\n",
       "      <td>89.568974</td>\n",
       "      <td>28.044674</td>\n",
       "      <td>0.001504</td>\n",
       "    </tr>\n",
       "    <tr>\n",
       "      <th>13</th>\n",
       "      <td>40.935657</td>\n",
       "      <td>12.646113</td>\n",
       "      <td>0.728438</td>\n",
       "    </tr>\n",
       "    <tr>\n",
       "      <th>14</th>\n",
       "      <td>45.104167</td>\n",
       "      <td>13.934524</td>\n",
       "      <td>-0.523988</td>\n",
       "    </tr>\n",
       "    <tr>\n",
       "      <th>15</th>\n",
       "      <td>62.184799</td>\n",
       "      <td>19.414307</td>\n",
       "      <td>0.379608</td>\n",
       "    </tr>\n",
       "    <tr>\n",
       "      <th>16</th>\n",
       "      <td>72.985621</td>\n",
       "      <td>22.633987</td>\n",
       "      <td>-0.095655</td>\n",
       "    </tr>\n",
       "    <tr>\n",
       "      <th>17</th>\n",
       "      <td>304.690184</td>\n",
       "      <td>97.717791</td>\n",
       "      <td>0.010169</td>\n",
       "    </tr>\n",
       "    <tr>\n",
       "      <th>18</th>\n",
       "      <td>39.593750</td>\n",
       "      <td>12.546875</td>\n",
       "      <td>-0.984141</td>\n",
       "    </tr>\n",
       "    <tr>\n",
       "      <th>19</th>\n",
       "      <td>309.846809</td>\n",
       "      <td>99.778723</td>\n",
       "      <td>0.220006</td>\n",
       "    </tr>\n",
       "  </tbody>\n",
       "</table>\n",
       "</div>"
      ],
      "text/plain": [
       "           total_char       syl_sum  sentiment\n",
       "cluster                                       \n",
       "0           21.088429      6.481981  -0.000091\n",
       "1        50694.000000  16135.000000   0.046562\n",
       "2           48.147135     15.125000   0.535218\n",
       "3           36.530769     11.461538  -0.745275\n",
       "4           57.941075     18.062392  -0.347128\n",
       "5           53.716319     16.644213   0.241229\n",
       "6           41.535211     13.112676   0.965986\n",
       "7           57.479759     17.525409  -0.192138\n",
       "8        43798.000000  14021.000000   0.044773\n",
       "9          802.560606    262.575758   0.082322\n",
       "10          64.508551     20.095410   0.116765\n",
       "11        2578.000000    852.333333   0.081097\n",
       "12          89.568974     28.044674   0.001504\n",
       "13          40.935657     12.646113   0.728438\n",
       "14          45.104167     13.934524  -0.523988\n",
       "15          62.184799     19.414307   0.379608\n",
       "16          72.985621     22.633987  -0.095655\n",
       "17         304.690184     97.717791   0.010169\n",
       "18          39.593750     12.546875  -0.984141\n",
       "19         309.846809     99.778723   0.220006"
      ]
     },
     "execution_count": 95,
     "metadata": {},
     "output_type": "execute_result"
    }
   ],
   "source": [
    "df_cluster.groupby('cluster').mean()"
   ]
  },
  {
   "cell_type": "code",
   "execution_count": 86,
   "metadata": {
    "collapsed": true
   },
   "outputs": [],
   "source": [
    "centers = df_cluster.groupby('cluster').mean()"
   ]
  },
  {
   "cell_type": "code",
   "execution_count": 96,
   "metadata": {
    "collapsed": true
   },
   "outputs": [],
   "source": [
    "colors = np.array(['#999999', '#0000ff', '#4d4d4d', '#0000b2', '#8833ff', '#333333', '#4412b2', '#808080', '#33a3ff', '#124cb2', '#666666', '#39b54a','#21682b', '#64c1b5', '#2b6855', '#91c164', '#40682b', '#3fa9f5', '#7cc3f5','#badcf5',])"
   ]
  },
  {
   "cell_type": "code",
   "execution_count": 98,
   "metadata": {
    "collapsed": false
   },
   "outputs": [
    {
     "data": {
      "text/plain": [
       "<matplotlib.text.Text at 0x124a19d50>"
      ]
     },
     "execution_count": 98,
     "metadata": {},
     "output_type": "execute_result"
    },
    {
     "data": {
      "image/png": "[encoded data removed]",
      "text/plain": [
       "<matplotlib.figure.Figure at 0x122c17850>"
      ]
     },
     "metadata": {},
     "output_type": "display_data"
    }
   ],
   "source": [
    "# scatter plot of calories versus alcohol, colored by cluster (0=red, 1=green, 2=blue)\n",
    "plt.scatter(df_cluster.total_char, df_cluster.sentiment, c=colors[df_cluster.cluster], s=50)\n",
    "\n",
    "# cluster centers, marked by \"+\"\n",
    "plt.scatter(centers.total_char, centers.sentiment, linewidths=3, marker='+', s=300, c='black')\n",
    "\n",
    "# add labels\n",
    "plt.xlabel('syl_sum')\n",
    "plt.ylabel('sentiment')"
   ]
  },
  {
   "cell_type": "code",
   "execution_count": 109,
   "metadata": {
    "collapsed": true
   },
   "outputs": [],
   "source": [
    "X = df_cluster2.drop(0, axis=1)"
   ]
  },
  {
   "cell_type": "code",
   "execution_count": 110,
   "metadata": {
    "collapsed": true
   },
   "outputs": [],
   "source": [
    "scaler = StandardScaler()\n",
    "X_scaled = scaler.fit_transform(X)"
   ]
  },
  {
   "cell_type": "code",
   "execution_count": 111,
   "metadata": {
    "collapsed": false
   },
   "outputs": [
    {
     "data": {
      "text/plain": [
       "KMeans(copy_x=True, init='k-means++', max_iter=300, n_clusters=20, n_init=10,\n",
       "    n_jobs=1, precompute_distances='auto', random_state=1, tol=0.0001,\n",
       "    verbose=0)"
      ]
     },
     "execution_count": 111,
     "metadata": {},
     "output_type": "execute_result"
    }
   ],
   "source": [
    "km = KMeans(n_clusters=20, random_state=1)\n",
    "km.fit(X_scaled)"
   ]
  },
  {
   "cell_type": "code",
   "execution_count": 112,
   "metadata": {
    "collapsed": false
   },
   "outputs": [
    {
     "data": {
      "text/plain": [
       "array([17,  0,  5, ..., 11,  1, 17], dtype=int32)"
      ]
     },
     "execution_count": 112,
     "metadata": {},
     "output_type": "execute_result"
    }
   ],
   "source": [
    "km.labels_"
   ]
  },
  {
   "cell_type": "code",
   "execution_count": 114,
   "metadata": {
    "collapsed": false
   },
   "outputs": [
    {
     "name": "stderr",
     "output_type": "stream",
     "text": [
      "/Users/aliciagyori/anaconda/lib/python2.7/site-packages/ipykernel/__main__.py:1: SettingWithCopyWarning: \n",
      "A value is trying to be set on a copy of a slice from a DataFrame.\n",
      "Try using .loc[row_indexer,col_indexer] = value instead\n",
      "\n",
      "See the caveats in the documentation: http://pandas.pydata.org/pandas-docs/stable/indexing.html#indexing-view-versus-copy\n",
      "  if __name__ == '__main__':\n"
     ]
    }
   ],
   "source": [
    "df_cluster2['cluster'] = km.labels_"
   ]
  },
  {
   "cell_type": "code",
   "execution_count": 115,
   "metadata": {
    "collapsed": false
   },
   "outputs": [
    {
     "data": {
      "text/html": [
       "<div>\n",
       "<table border=\"1\" class=\"dataframe\">\n",
       "  <thead>\n",
       "    <tr style=\"text-align: right;\">\n",
       "      <th></th>\n",
       "      <th>total_char</th>\n",
       "      <th>syl_sum</th>\n",
       "      <th>sentiment</th>\n",
       "    </tr>\n",
       "    <tr>\n",
       "      <th>cluster</th>\n",
       "      <th></th>\n",
       "      <th></th>\n",
       "      <th></th>\n",
       "    </tr>\n",
       "  </thead>\n",
       "  <tbody>\n",
       "    <tr>\n",
       "      <th>0</th>\n",
       "      <td>59.219119</td>\n",
       "      <td>18.383613</td>\n",
       "      <td>-0.033406</td>\n",
       "    </tr>\n",
       "    <tr>\n",
       "      <th>1</th>\n",
       "      <td>13.063422</td>\n",
       "      <td>3.959837</td>\n",
       "      <td>-0.000060</td>\n",
       "    </tr>\n",
       "    <tr>\n",
       "      <th>2</th>\n",
       "      <td>248.273657</td>\n",
       "      <td>79.537084</td>\n",
       "      <td>0.112126</td>\n",
       "    </tr>\n",
       "    <tr>\n",
       "      <th>3</th>\n",
       "      <td>996.259259</td>\n",
       "      <td>327.333333</td>\n",
       "      <td>0.079863</td>\n",
       "    </tr>\n",
       "    <tr>\n",
       "      <th>4</th>\n",
       "      <td>38.526627</td>\n",
       "      <td>11.956607</td>\n",
       "      <td>0.794827</td>\n",
       "    </tr>\n",
       "    <tr>\n",
       "      <th>5</th>\n",
       "      <td>39.861538</td>\n",
       "      <td>12.351282</td>\n",
       "      <td>-0.599877</td>\n",
       "    </tr>\n",
       "    <tr>\n",
       "      <th>6</th>\n",
       "      <td>33.554120</td>\n",
       "      <td>10.166397</td>\n",
       "      <td>-0.243967</td>\n",
       "    </tr>\n",
       "    <tr>\n",
       "      <th>7</th>\n",
       "      <td>2578.000000</td>\n",
       "      <td>852.333333</td>\n",
       "      <td>0.081097</td>\n",
       "    </tr>\n",
       "    <tr>\n",
       "      <th>8</th>\n",
       "      <td>618.676923</td>\n",
       "      <td>200.384615</td>\n",
       "      <td>0.101489</td>\n",
       "    </tr>\n",
       "    <tr>\n",
       "      <th>9</th>\n",
       "      <td>141.467857</td>\n",
       "      <td>44.939286</td>\n",
       "      <td>0.331956</td>\n",
       "    </tr>\n",
       "    <tr>\n",
       "      <th>10</th>\n",
       "      <td>37.402813</td>\n",
       "      <td>11.461637</td>\n",
       "      <td>0.116450</td>\n",
       "    </tr>\n",
       "    <tr>\n",
       "      <th>11</th>\n",
       "      <td>103.209821</td>\n",
       "      <td>31.796875</td>\n",
       "      <td>-0.247135</td>\n",
       "    </tr>\n",
       "    <tr>\n",
       "      <th>12</th>\n",
       "      <td>36.884615</td>\n",
       "      <td>11.425926</td>\n",
       "      <td>0.536749</td>\n",
       "    </tr>\n",
       "    <tr>\n",
       "      <th>13</th>\n",
       "      <td>46.698835</td>\n",
       "      <td>14.407654</td>\n",
       "      <td>0.379273</td>\n",
       "    </tr>\n",
       "    <tr>\n",
       "      <th>14</th>\n",
       "      <td>383.297436</td>\n",
       "      <td>123.661538</td>\n",
       "      <td>0.104620</td>\n",
       "    </tr>\n",
       "    <tr>\n",
       "      <th>15</th>\n",
       "      <td>36.530769</td>\n",
       "      <td>11.461538</td>\n",
       "      <td>-0.745275</td>\n",
       "    </tr>\n",
       "    <tr>\n",
       "      <th>16</th>\n",
       "      <td>102.381348</td>\n",
       "      <td>32.054478</td>\n",
       "      <td>0.020024</td>\n",
       "    </tr>\n",
       "    <tr>\n",
       "      <th>17</th>\n",
       "      <td>35.761070</td>\n",
       "      <td>11.093380</td>\n",
       "      <td>-0.000148</td>\n",
       "    </tr>\n",
       "    <tr>\n",
       "      <th>18</th>\n",
       "      <td>38.160592</td>\n",
       "      <td>11.660592</td>\n",
       "      <td>0.241153</td>\n",
       "    </tr>\n",
       "    <tr>\n",
       "      <th>19</th>\n",
       "      <td>174.213115</td>\n",
       "      <td>55.000000</td>\n",
       "      <td>-0.022694</td>\n",
       "    </tr>\n",
       "  </tbody>\n",
       "</table>\n",
       "</div>"
      ],
      "text/plain": [
       "          total_char     syl_sum  sentiment\n",
       "cluster                                    \n",
       "0          59.219119   18.383613  -0.033406\n",
       "1          13.063422    3.959837  -0.000060\n",
       "2         248.273657   79.537084   0.112126\n",
       "3         996.259259  327.333333   0.079863\n",
       "4          38.526627   11.956607   0.794827\n",
       "5          39.861538   12.351282  -0.599877\n",
       "6          33.554120   10.166397  -0.243967\n",
       "7        2578.000000  852.333333   0.081097\n",
       "8         618.676923  200.384615   0.101489\n",
       "9         141.467857   44.939286   0.331956\n",
       "10         37.402813   11.461637   0.116450\n",
       "11        103.209821   31.796875  -0.247135\n",
       "12         36.884615   11.425926   0.536749\n",
       "13         46.698835   14.407654   0.379273\n",
       "14        383.297436  123.661538   0.104620\n",
       "15         36.530769   11.461538  -0.745275\n",
       "16        102.381348   32.054478   0.020024\n",
       "17         35.761070   11.093380  -0.000148\n",
       "18         38.160592   11.660592   0.241153\n",
       "19        174.213115   55.000000  -0.022694"
      ]
     },
     "execution_count": 115,
     "metadata": {},
     "output_type": "execute_result"
    }
   ],
   "source": [
    "df_cluster2.groupby('cluster').mean()"
   ]
  },
  {
   "cell_type": "code",
   "execution_count": 120,
   "metadata": {
    "collapsed": true
   },
   "outputs": [],
   "source": [
    "centers = df_cluster2.groupby('cluster').mean()"
   ]
  },
  {
   "cell_type": "code",
   "execution_count": 121,
   "metadata": {
    "collapsed": false
   },
   "outputs": [
    {
     "data": {
      "text/plain": [
       "<matplotlib.text.Text at 0x1236a0150>"
      ]
     },
     "execution_count": 121,
     "metadata": {},
     "output_type": "execute_result"
    },
    {
     "data": {
      "image/png": "[encoded data removed]",
      "text/plain": [
       "<matplotlib.figure.Figure at 0x1234c0250>"
      ]
     },
     "metadata": {},
     "output_type": "display_data"
    }
   ],
   "source": [
    "# scatter plot of calories versus alcohol, colored by cluster (0=red, 1=green, 2=blue)\n",
    "plt.scatter(df_cluster2.total_char, df_cluster2.sentiment, c=colors[df_cluster2.cluster], s=50)\n",
    "\n",
    "# cluster centers, marked by \"+\"\n",
    "plt.scatter(centers.total_char, centers.sentiment, linewidths=3, marker='+', s=300, c='black')\n",
    "\n",
    "# add labels\n",
    "plt.xlabel('syl_sum')\n",
    "plt.ylabel('sentiment')"
   ]
  },
  {
   "cell_type": "code",
   "execution_count": 122,
   "metadata": {
    "collapsed": false
   },
   "outputs": [
    {
     "data": {
      "text/plain": [
       "0.52576636868359983"
      ]
     },
     "execution_count": 122,
     "metadata": {},
     "output_type": "execute_result"
    }
   ],
   "source": [
    "from sklearn import metrics\n",
    "metrics.silhouette_score(X_scaled, km.labels_)"
   ]
  },
  {
   "cell_type": "code",
   "execution_count": null,
   "metadata": {
    "collapsed": true
   },
   "outputs": [],
   "source": [
    "k_range = range(2,20)\n",
    "scores = []\n",
    "for k in k_range:\n",
    "    km = KMeans(n_clusters=k, random_state=1)\n",
    "    km.fit(X_scaled)\n",
    "    scores.append(metrics.silhouette_score(X_scaled, km.labels_))"
   ]
  },
  {
   "cell_type": "code",
   "execution_count": 42,
   "metadata": {
    "collapsed": false
   },
   "outputs": [
    {
     "data": {
      "text/plain": [
       "1188488"
      ]
     },
     "execution_count": 42,
     "metadata": {},
     "output_type": "execute_result"
    }
   ],
   "source": [
    "df_novel['total_char'].sum()"
   ]
  },
  {
   "cell_type": "code",
   "execution_count": 43,
   "metadata": {
    "collapsed": true
   },
   "outputs": [],
   "source": [
    "ratio = (df_novel['total_char'].sum()/20) - 50"
   ]
  },
  {
   "cell_type": "code",
   "execution_count": 44,
   "metadata": {
    "collapsed": false
   },
   "outputs": [
    {
     "data": {
      "text/plain": [
       "59374"
      ]
     },
     "execution_count": 44,
     "metadata": {},
     "output_type": "execute_result"
    }
   ],
   "source": [
    "ratio"
   ]
  },
  {
   "cell_type": "code",
   "execution_count": 67,
   "metadata": {
    "collapsed": true
   },
   "outputs": [],
   "source": [
    "t = 0\n",
    "x = 0\n",
    "ratio = (df_novel['total_char'].sum()/20) - 2000\n",
    "def find_this(t, x):\n",
    "    w = 0    \n",
    "    sent_stop = []\n",
    "    while w <= ratio:\n",
    "        w = df_novel['total_char'][t:x].sum()\n",
    "        sent_stop.append(x)\n",
    "        x += 1\n",
    "    return max(sent_stop)  "
   ]
  },
  {
   "cell_type": "code",
   "execution_count": 68,
   "metadata": {
    "collapsed": false
   },
   "outputs": [
    {
     "name": "stdout",
     "output_type": "stream",
     "text": [
      "df_novel['total_char'][0:1442]\n",
      "df_novel['total_char'][1442:3210]\n",
      "df_novel['total_char'][3210:5123]\n",
      "df_novel['total_char'][5123:6747]\n",
      "df_novel['total_char'][6747:8636]\n",
      "df_novel['total_char'][8636:9882]\n",
      "df_novel['total_char'][9882:11449]\n",
      "df_novel['total_char'][11449:13271]\n",
      "df_novel['total_char'][13271:14110]\n",
      "df_novel['total_char'][14110:14677]\n",
      "df_novel['total_char'][14677:15972]\n",
      "df_novel['total_char'][15972:16627]\n",
      "df_novel['total_char'][16627:18033]\n",
      "df_novel['total_char'][18033:19237]\n",
      "df_novel['total_char'][19237:20677]\n",
      "df_novel['total_char'][20677:21425]\n",
      "df_novel['total_char'][21425:21879]\n",
      "df_novel['total_char'][21879:22317]\n",
      "df_novel['total_char'][22317:22702]\n",
      "df_novel['total_char'][22702:22723]\n"
     ]
    }
   ],
   "source": [
    "t = 0\n",
    "x = 0\n",
    "start_point = []\n",
    "stop_point = []\n",
    "for n in range(1, 21):\n",
    "    s = find_this(t, x)\n",
    "    print \"df_novel['total_char'][%s:%s]\" %(t, s)\n",
    "    start_point.append(t)\n",
    "    stop_point.append(s)\n",
    "    t = s\n",
    "    x = s + 1  "
   ]
  },
  {
   "cell_type": "code",
   "execution_count": 77,
   "metadata": {
    "collapsed": false
   },
   "outputs": [
    {
     "data": {
      "text/plain": [
       "0.01988396195357015"
      ]
     },
     "execution_count": 77,
     "metadata": {},
     "output_type": "execute_result"
    }
   ],
   "source": [
    "df_novel['sentiment'][0:1442].mean()"
   ]
  },
  {
   "cell_type": "code",
   "execution_count": 74,
   "metadata": {
    "collapsed": false
   },
   "outputs": [
    {
     "data": {
      "text/plain": [
       "[0,\n",
       " 1442,\n",
       " 3210,\n",
       " 5123,\n",
       " 6747,\n",
       " 8636,\n",
       " 9882,\n",
       " 11449,\n",
       " 13271,\n",
       " 14110,\n",
       " 14677,\n",
       " 15972,\n",
       " 16627,\n",
       " 18033,\n",
       " 19237,\n",
       " 20677,\n",
       " 21425,\n",
       " 21879,\n",
       " 22317,\n",
       " 22702]"
      ]
     },
     "execution_count": 74,
     "metadata": {},
     "output_type": "execute_result"
    }
   ],
   "source": [
    "start_point"
   ]
  },
  {
   "cell_type": "code",
   "execution_count": 75,
   "metadata": {
    "collapsed": false
   },
   "outputs": [
    {
     "data": {
      "text/plain": [
       "[1442,\n",
       " 3210,\n",
       " 5123,\n",
       " 6747,\n",
       " 8636,\n",
       " 9882,\n",
       " 11449,\n",
       " 13271,\n",
       " 14110,\n",
       " 14677,\n",
       " 15972,\n",
       " 16627,\n",
       " 18033,\n",
       " 19237,\n",
       " 20677,\n",
       " 21425,\n",
       " 21879,\n",
       " 22317,\n",
       " 22702,\n",
       " 22723]"
      ]
     },
     "execution_count": 75,
     "metadata": {},
     "output_type": "execute_result"
    }
   ],
   "source": [
    "stop_point"
   ]
  },
  {
   "cell_type": "code",
   "execution_count": 76,
   "metadata": {
    "collapsed": false
   },
   "outputs": [
    {
     "data": {
      "text/plain": [
       "[0.01988396195357015,\n",
       " 0.01988396195357015,\n",
       " 0.01988396195357015,\n",
       " 0.01988396195357015,\n",
       " 0.01988396195357015,\n",
       " 0.01988396195357015,\n",
       " 0.01988396195357015,\n",
       " 0.01988396195357015,\n",
       " 0.01988396195357015,\n",
       " 0.01988396195357015,\n",
       " 0.01988396195357015,\n",
       " 0.01988396195357015,\n",
       " 0.01988396195357015,\n",
       " 0.01988396195357015,\n",
       " 0.01988396195357015,\n",
       " 0.01988396195357015,\n",
       " 0.01988396195357015,\n",
       " 0.01988396195357015,\n",
       " 0.01988396195357015,\n",
       " 0.01988396195357015]"
      ]
     },
     "execution_count": 76,
     "metadata": {},
     "output_type": "execute_result"
    }
   ],
   "source": [
    "twenty_piece_char"
   ]
  },
  {
   "cell_type": "code",
   "execution_count": 78,
   "metadata": {
    "collapsed": false
   },
   "outputs": [
    {
     "name": "stdout",
     "output_type": "stream",
     "text": [
      "0\n",
      "1442\n",
      "0.0198839619536\n",
      "1442\n",
      "3210\n",
      "0.0232928964052\n",
      "3210\n",
      "5123\n",
      "0.0175908302313\n",
      "5123\n",
      "6747\n",
      "0.0181784774215\n",
      "6747\n",
      "8636\n",
      "0.0318514820167\n",
      "8636\n",
      "9882\n",
      "0.071734232943\n",
      "9882\n",
      "11449\n",
      "0.0353979352415\n",
      "11449\n",
      "13271\n",
      "0.03767915143\n",
      "13271\n",
      "14110\n",
      "0.0280077764543\n",
      "14110\n",
      "14677\n",
      "0.0640188821054\n",
      "14677\n",
      "15972\n",
      "0.0176999647256\n",
      "15972\n",
      "16627\n",
      "0.0603884312631\n",
      "16627\n",
      "18033\n",
      "0.0176292057378\n",
      "18033\n",
      "19237\n",
      "0.0314493138553\n",
      "19237\n",
      "20677\n",
      "0.0129800224049\n",
      "20677\n",
      "21425\n",
      "0.029127146747\n",
      "21425\n",
      "21879\n",
      "0.0744381358559\n",
      "21879\n",
      "22317\n",
      "0.0263227383539\n",
      "22317\n",
      "22702\n",
      "0.0283683637859\n",
      "22702\n",
      "22723\n",
      "0.0227449633445\n"
     ]
    }
   ],
   "source": [
    "twenty_piece_char = []\n",
    "st = 0\n",
    "for l in start_point: \n",
    "    strt = start_point[st]\n",
    "    stp = stop_point[st]\n",
    "    print strt\n",
    "    print stp\n",
    "    mn = df_novel['sentiment'][strt:stp].mean()\n",
    "    twenty_piece_char.append(mn)\n",
    "    print mn\n",
    "    st +=1"
   ]
  },
  {
   "cell_type": "code",
   "execution_count": 79,
   "metadata": {
    "collapsed": false
   },
   "outputs": [
    {
     "name": "stdout",
     "output_type": "stream",
     "text": [
      "[ 0.01988396  0.0232929   0.01759083  0.01817848  0.03185148  0.07173423\n",
      "  0.03539794  0.03767915  0.02800778  0.06401888  0.01769996  0.06038843\n",
      "  0.01762921  0.03144931  0.01298002  0.02912715  0.07443814  0.02632274\n",
      "  0.02836836  0.02274496]\n"
     ]
    }
   ],
   "source": [
    "n = np.array(n)\n",
    "twenty_piece_char = np.array(twenty_piece_char)\n",
    "print twenty_piece_char"
   ]
  },
  {
   "cell_type": "code",
   "execution_count": 80,
   "metadata": {
    "collapsed": false
   },
   "outputs": [
    {
     "data": {
      "image/png": "[encoded data removed]",
      "text/plain": [
       "<matplotlib.figure.Figure at 0x12286fb90>"
      ]
     },
     "metadata": {},
     "output_type": "display_data"
    }
   ],
   "source": [
    "plt.plot(twenty_piece_char)\n",
    "plt.ylabel('sentiment')\n",
    "plt.show()"
   ]
  },
  {
   "cell_type": "code",
   "execution_count": 81,
   "metadata": {
    "collapsed": false
   },
   "outputs": [
    {
     "data": {
      "image/png": "[encoded data removed]",
      "text/plain": [
       "<matplotlib.figure.Figure at 0x122b08210>"
      ]
     },
     "metadata": {},
     "output_type": "display_data"
    }
   ],
   "source": [
    "plt.bar(range(20), twenty_piece_char)\n",
    "plt.ylabel('sentiment')\n",
    "plt.show()"
   ]
  },
  {
   "cell_type": "code",
   "execution_count": 33,
   "metadata": {
    "collapsed": true
   },
   "outputs": [],
   "source": [
    "df_cluster3 = df_cluster"
   ]
  },
  {
   "cell_type": "code",
   "execution_count": 34,
   "metadata": {
    "collapsed": false
   },
   "outputs": [
    {
     "data": {
      "text/html": [
       "<div>\n",
       "<table border=\"1\" class=\"dataframe\">\n",
       "  <thead>\n",
       "    <tr style=\"text-align: right;\">\n",
       "      <th></th>\n",
       "      <th>0</th>\n",
       "      <th>total_char</th>\n",
       "      <th>syl_sum</th>\n",
       "      <th>sentiment</th>\n",
       "    </tr>\n",
       "  </thead>\n",
       "  <tbody>\n",
       "    <tr>\n",
       "      <th>0</th>\n",
       "      <td>He held the bowl aloft and intoned:  --_Introi...</td>\n",
       "      <td>47</td>\n",
       "      <td>16</td>\n",
       "      <td>0.000000</td>\n",
       "    </tr>\n",
       "    <tr>\n",
       "      <th>1</th>\n",
       "      <td>Halted, he peered down the dark winding stairs...</td>\n",
       "      <td>69</td>\n",
       "      <td>18</td>\n",
       "      <td>-0.101852</td>\n",
       "    </tr>\n",
       "    <tr>\n",
       "      <th>2</th>\n",
       "      <td>Come up, you fearful jesuit!</td>\n",
       "      <td>22</td>\n",
       "      <td>8</td>\n",
       "      <td>-1.000000</td>\n",
       "    </tr>\n",
       "    <tr>\n",
       "      <th>3</th>\n",
       "      <td>Solemnly he came forward and mounted the round...</td>\n",
       "      <td>46</td>\n",
       "      <td>13</td>\n",
       "      <td>-0.200000</td>\n",
       "    </tr>\n",
       "    <tr>\n",
       "      <th>4</th>\n",
       "      <td>He faced about and blessed gravely thrice the ...</td>\n",
       "      <td>83</td>\n",
       "      <td>25</td>\n",
       "      <td>0.000000</td>\n",
       "    </tr>\n",
       "  </tbody>\n",
       "</table>\n",
       "</div>"
      ],
      "text/plain": [
       "                                                   0  total_char  syl_sum  \\\n",
       "0  He held the bowl aloft and intoned:  --_Introi...          47       16   \n",
       "1  Halted, he peered down the dark winding stairs...          69       18   \n",
       "2                       Come up, you fearful jesuit!          22        8   \n",
       "3  Solemnly he came forward and mounted the round...          46       13   \n",
       "4  He faced about and blessed gravely thrice the ...          83       25   \n",
       "\n",
       "   sentiment  \n",
       "0   0.000000  \n",
       "1  -0.101852  \n",
       "2  -1.000000  \n",
       "3  -0.200000  \n",
       "4   0.000000  "
      ]
     },
     "execution_count": 34,
     "metadata": {},
     "output_type": "execute_result"
    }
   ],
   "source": [
    "df_cluster3.head()"
   ]
  },
  {
   "cell_type": "code",
   "execution_count": 35,
   "metadata": {
    "collapsed": false
   },
   "outputs": [],
   "source": [
    "X = df_cluster3.drop(0, axis=1)"
   ]
  },
  {
   "cell_type": "code",
   "execution_count": 36,
   "metadata": {
    "collapsed": true
   },
   "outputs": [],
   "source": [
    "from sklearn.cluster import KMeans"
   ]
  },
  {
   "cell_type": "code",
   "execution_count": 37,
   "metadata": {
    "collapsed": true
   },
   "outputs": [],
   "source": [
    "from sklearn.preprocessing import StandardScaler\n",
    "scaler = StandardScaler()\n",
    "X_scaled = scaler.fit_transform(X)"
   ]
  },
  {
   "cell_type": "code",
   "execution_count": 41,
   "metadata": {
    "collapsed": false
   },
   "outputs": [
    {
     "data": {
      "text/plain": [
       "KMeans(copy_x=True, init='k-means++', max_iter=300, n_clusters=3, n_init=10,\n",
       "    n_jobs=1, precompute_distances='auto', random_state=1, tol=0.0001,\n",
       "    verbose=0)"
      ]
     },
     "execution_count": 41,
     "metadata": {},
     "output_type": "execute_result"
    }
   ],
   "source": [
    "km = KMeans(n_clusters=3, random_state=1)\n",
    "km.fit(X_scaled)"
   ]
  },
  {
   "cell_type": "code",
   "execution_count": 42,
   "metadata": {
    "collapsed": false
   },
   "outputs": [
    {
     "data": {
      "text/plain": [
       "array([0, 0, 0, ..., 1, 1, 0], dtype=int32)"
      ]
     },
     "execution_count": 42,
     "metadata": {},
     "output_type": "execute_result"
    }
   ],
   "source": [
    "km.labels_"
   ]
  },
  {
   "cell_type": "code",
   "execution_count": 43,
   "metadata": {
    "collapsed": true
   },
   "outputs": [],
   "source": [
    "df_cluster3['cluster'] = km.labels_"
   ]
  },
  {
   "cell_type": "code",
   "execution_count": 44,
   "metadata": {
    "collapsed": false
   },
   "outputs": [
    {
     "data": {
      "text/html": [
       "<div>\n",
       "<table border=\"1\" class=\"dataframe\">\n",
       "  <thead>\n",
       "    <tr style=\"text-align: right;\">\n",
       "      <th></th>\n",
       "      <th>total_char</th>\n",
       "      <th>syl_sum</th>\n",
       "      <th>sentiment</th>\n",
       "    </tr>\n",
       "    <tr>\n",
       "      <th>cluster</th>\n",
       "      <th></th>\n",
       "      <th></th>\n",
       "      <th></th>\n",
       "    </tr>\n",
       "  </thead>\n",
       "  <tbody>\n",
       "    <tr>\n",
       "      <th>0</th>\n",
       "      <td>45.669914</td>\n",
       "      <td>14.269094</td>\n",
       "      <td>-0.029322</td>\n",
       "    </tr>\n",
       "    <tr>\n",
       "      <th>1</th>\n",
       "      <td>47246.000000</td>\n",
       "      <td>15078.000000</td>\n",
       "      <td>0.045667</td>\n",
       "    </tr>\n",
       "    <tr>\n",
       "      <th>2</th>\n",
       "      <td>66.492786</td>\n",
       "      <td>20.884943</td>\n",
       "      <td>0.471970</td>\n",
       "    </tr>\n",
       "  </tbody>\n",
       "</table>\n",
       "</div>"
      ],
      "text/plain": [
       "           total_char       syl_sum  sentiment\n",
       "cluster                                       \n",
       "0           45.669914     14.269094  -0.029322\n",
       "1        47246.000000  15078.000000   0.045667\n",
       "2           66.492786     20.884943   0.471970"
      ]
     },
     "execution_count": 44,
     "metadata": {},
     "output_type": "execute_result"
    }
   ],
   "source": [
    "df_cluster3.groupby('cluster').mean()"
   ]
  },
  {
   "cell_type": "code",
   "execution_count": 86,
   "metadata": {
    "collapsed": true
   },
   "outputs": [],
   "source": [
    "centers = df_cluster3.groupby('cluster').mean()"
   ]
  },
  {
   "cell_type": "code",
   "execution_count": 45,
   "metadata": {
    "collapsed": true
   },
   "outputs": [],
   "source": [
    "df_cluster4 = df_cluster3"
   ]
  },
  {
   "cell_type": "code",
   "execution_count": 46,
   "metadata": {
    "collapsed": false
   },
   "outputs": [
    {
     "data": {
      "text/html": [
       "<div>\n",
       "<table border=\"1\" class=\"dataframe\">\n",
       "  <thead>\n",
       "    <tr style=\"text-align: right;\">\n",
       "      <th></th>\n",
       "      <th>0</th>\n",
       "      <th>total_char</th>\n",
       "      <th>syl_sum</th>\n",
       "      <th>sentiment</th>\n",
       "      <th>cluster</th>\n",
       "    </tr>\n",
       "  </thead>\n",
       "  <tbody>\n",
       "    <tr>\n",
       "      <th>0</th>\n",
       "      <td>He held the bowl aloft and intoned:  --_Introi...</td>\n",
       "      <td>47</td>\n",
       "      <td>16</td>\n",
       "      <td>0.000000</td>\n",
       "      <td>0</td>\n",
       "    </tr>\n",
       "    <tr>\n",
       "      <th>1</th>\n",
       "      <td>Halted, he peered down the dark winding stairs...</td>\n",
       "      <td>69</td>\n",
       "      <td>18</td>\n",
       "      <td>-0.101852</td>\n",
       "      <td>0</td>\n",
       "    </tr>\n",
       "    <tr>\n",
       "      <th>2</th>\n",
       "      <td>Come up, you fearful jesuit!</td>\n",
       "      <td>22</td>\n",
       "      <td>8</td>\n",
       "      <td>-1.000000</td>\n",
       "      <td>0</td>\n",
       "    </tr>\n",
       "    <tr>\n",
       "      <th>3</th>\n",
       "      <td>Solemnly he came forward and mounted the round...</td>\n",
       "      <td>46</td>\n",
       "      <td>13</td>\n",
       "      <td>-0.200000</td>\n",
       "      <td>0</td>\n",
       "    </tr>\n",
       "    <tr>\n",
       "      <th>4</th>\n",
       "      <td>He faced about and blessed gravely thrice the ...</td>\n",
       "      <td>83</td>\n",
       "      <td>25</td>\n",
       "      <td>0.000000</td>\n",
       "      <td>0</td>\n",
       "    </tr>\n",
       "  </tbody>\n",
       "</table>\n",
       "</div>"
      ],
      "text/plain": [
       "                                                   0  total_char  syl_sum  \\\n",
       "0  He held the bowl aloft and intoned:  --_Introi...          47       16   \n",
       "1  Halted, he peered down the dark winding stairs...          69       18   \n",
       "2                       Come up, you fearful jesuit!          22        8   \n",
       "3  Solemnly he came forward and mounted the round...          46       13   \n",
       "4  He faced about and blessed gravely thrice the ...          83       25   \n",
       "\n",
       "   sentiment  cluster  \n",
       "0   0.000000        0  \n",
       "1  -0.101852        0  \n",
       "2  -1.000000        0  \n",
       "3  -0.200000        0  \n",
       "4   0.000000        0  "
      ]
     },
     "execution_count": 46,
     "metadata": {},
     "output_type": "execute_result"
    }
   ],
   "source": [
    "df_cluster4.head()"
   ]
  },
  {
   "cell_type": "code",
   "execution_count": 47,
   "metadata": {
    "collapsed": true
   },
   "outputs": [],
   "source": [
    "df_cluster4 = df_cluster4.drop('syl_sum', 1)"
   ]
  },
  {
   "cell_type": "code",
   "execution_count": 49,
   "metadata": {
    "collapsed": false
   },
   "outputs": [
    {
     "data": {
      "text/html": [
       "<div>\n",
       "<table border=\"1\" class=\"dataframe\">\n",
       "  <thead>\n",
       "    <tr style=\"text-align: right;\">\n",
       "      <th></th>\n",
       "      <th>0</th>\n",
       "      <th>total_char</th>\n",
       "      <th>sentiment</th>\n",
       "      <th>cluster</th>\n",
       "    </tr>\n",
       "  </thead>\n",
       "  <tbody>\n",
       "    <tr>\n",
       "      <th>22719</th>\n",
       "      <td>Going to dark bed there was a square round Sin...</td>\n",
       "      <td>127</td>\n",
       "      <td>-0.175000</td>\n",
       "      <td>0</td>\n",
       "    </tr>\n",
       "    <tr>\n",
       "      <th>22720</th>\n",
       "      <td>Where?</td>\n",
       "      <td>5</td>\n",
       "      <td>0.000000</td>\n",
       "      <td>0</td>\n",
       "    </tr>\n",
       "    <tr>\n",
       "      <th>22721</th>\n",
       "      <td>Yes because he never did a thing like that bef...</td>\n",
       "      <td>43798</td>\n",
       "      <td>0.044773</td>\n",
       "      <td>1</td>\n",
       "    </tr>\n",
       "    <tr>\n",
       "      <th>22722</th>\n",
       "      <td>Mulveys was the first when I was in bed that m...</td>\n",
       "      <td>50694</td>\n",
       "      <td>0.046562</td>\n",
       "      <td>1</td>\n",
       "    </tr>\n",
       "    <tr>\n",
       "      <th>22723</th>\n",
       "      <td>Trieste-Zurich-Paris 1914-1921</td>\n",
       "      <td>29</td>\n",
       "      <td>0.000000</td>\n",
       "      <td>0</td>\n",
       "    </tr>\n",
       "  </tbody>\n",
       "</table>\n",
       "</div>"
      ],
      "text/plain": [
       "                                                       0  total_char  \\\n",
       "22719  Going to dark bed there was a square round Sin...         127   \n",
       "22720                                             Where?           5   \n",
       "22721  Yes because he never did a thing like that bef...       43798   \n",
       "22722  Mulveys was the first when I was in bed that m...       50694   \n",
       "22723                Trieste-Zurich-Paris 1914-1921               29   \n",
       "\n",
       "       sentiment  cluster  \n",
       "22719  -0.175000        0  \n",
       "22720   0.000000        0  \n",
       "22721   0.044773        1  \n",
       "22722   0.046562        1  \n",
       "22723   0.000000        0  "
      ]
     },
     "execution_count": 49,
     "metadata": {},
     "output_type": "execute_result"
    }
   ],
   "source": [
    "df_cluster4.tail()"
   ]
  },
  {
   "cell_type": "code",
   "execution_count": 50,
   "metadata": {
    "collapsed": true
   },
   "outputs": [],
   "source": [
    "X = df_cluster4.drop(0, axis=1)"
   ]
  },
  {
   "cell_type": "code",
   "execution_count": 51,
   "metadata": {
    "collapsed": true
   },
   "outputs": [],
   "source": [
    "scaler = StandardScaler()\n",
    "X_scaled = scaler.fit_transform(X)"
   ]
  },
  {
   "cell_type": "code",
   "execution_count": 52,
   "metadata": {
    "collapsed": false
   },
   "outputs": [
    {
     "data": {
      "text/plain": [
       "KMeans(copy_x=True, init='k-means++', max_iter=300, n_clusters=3, n_init=10,\n",
       "    n_jobs=1, precompute_distances='auto', random_state=1, tol=0.0001,\n",
       "    verbose=0)"
      ]
     },
     "execution_count": 52,
     "metadata": {},
     "output_type": "execute_result"
    }
   ],
   "source": [
    "km = KMeans(n_clusters=3, random_state=1)\n",
    "km.fit(X_scaled)"
   ]
  },
  {
   "cell_type": "code",
   "execution_count": 53,
   "metadata": {
    "collapsed": false
   },
   "outputs": [
    {
     "data": {
      "text/plain": [
       "array([0, 0, 0, ..., 2, 2, 0], dtype=int32)"
      ]
     },
     "execution_count": 53,
     "metadata": {},
     "output_type": "execute_result"
    }
   ],
   "source": [
    "km.labels_"
   ]
  },
  {
   "cell_type": "code",
   "execution_count": 54,
   "metadata": {
    "collapsed": true
   },
   "outputs": [],
   "source": [
    "df_cluster4['cluster'] = km.labels_"
   ]
  },
  {
   "cell_type": "code",
   "execution_count": 55,
   "metadata": {
    "collapsed": false
   },
   "outputs": [
    {
     "data": {
      "text/html": [
       "<div>\n",
       "<table border=\"1\" class=\"dataframe\">\n",
       "  <thead>\n",
       "    <tr style=\"text-align: right;\">\n",
       "      <th></th>\n",
       "      <th>total_char</th>\n",
       "      <th>sentiment</th>\n",
       "    </tr>\n",
       "    <tr>\n",
       "      <th>cluster</th>\n",
       "      <th></th>\n",
       "      <th></th>\n",
       "    </tr>\n",
       "  </thead>\n",
       "  <tbody>\n",
       "    <tr>\n",
       "      <th>0</th>\n",
       "      <td>45.669914</td>\n",
       "      <td>-0.029322</td>\n",
       "    </tr>\n",
       "    <tr>\n",
       "      <th>1</th>\n",
       "      <td>66.492786</td>\n",
       "      <td>0.471970</td>\n",
       "    </tr>\n",
       "    <tr>\n",
       "      <th>2</th>\n",
       "      <td>47246.000000</td>\n",
       "      <td>0.045667</td>\n",
       "    </tr>\n",
       "  </tbody>\n",
       "</table>\n",
       "</div>"
      ],
      "text/plain": [
       "           total_char  sentiment\n",
       "cluster                         \n",
       "0           45.669914  -0.029322\n",
       "1           66.492786   0.471970\n",
       "2        47246.000000   0.045667"
      ]
     },
     "execution_count": 55,
     "metadata": {},
     "output_type": "execute_result"
    }
   ],
   "source": [
    "df_cluster4.groupby('cluster').mean()"
   ]
  },
  {
   "cell_type": "code",
   "execution_count": 56,
   "metadata": {
    "collapsed": true
   },
   "outputs": [],
   "source": [
    "df_novel_senti = df_novel"
   ]
  },
  {
   "cell_type": "code",
   "execution_count": 57,
   "metadata": {
    "collapsed": false
   },
   "outputs": [
    {
     "data": {
      "text/html": [
       "<div>\n",
       "<table border=\"1\" class=\"dataframe\">\n",
       "  <thead>\n",
       "    <tr style=\"text-align: right;\">\n",
       "      <th></th>\n",
       "      <th>0</th>\n",
       "      <th>wrd_length</th>\n",
       "      <th>total_char</th>\n",
       "      <th>syl_count</th>\n",
       "      <th>syl_sum</th>\n",
       "      <th>sentiment</th>\n",
       "    </tr>\n",
       "  </thead>\n",
       "  <tbody>\n",
       "    <tr>\n",
       "      <th>0</th>\n",
       "      <td>He held the bowl aloft and intoned:  --_Introi...</td>\n",
       "      <td>[2, 4, 3, 4, 5, 3, 7, 8, 2, 6, 3]</td>\n",
       "      <td>47</td>\n",
       "      <td>[1, 1, 1, 1, 2, 1, 2, 3, 1, 2, 1]</td>\n",
       "      <td>16</td>\n",
       "      <td>0.000000</td>\n",
       "    </tr>\n",
       "    <tr>\n",
       "      <th>1</th>\n",
       "      <td>Halted, he peered down the dark winding stairs...</td>\n",
       "      <td>[6, 2, 6, 4, 3, 4, 7, 6, 3, 6, 3, 8, 4, 2, 5]</td>\n",
       "      <td>69</td>\n",
       "      <td>[1, 1, 1, 1, 1, 1, 2, 1, 1, 1, 1, 3, 1, 1, 1]</td>\n",
       "      <td>18</td>\n",
       "      <td>-0.101852</td>\n",
       "    </tr>\n",
       "    <tr>\n",
       "      <th>2</th>\n",
       "      <td>Come up, you fearful jesuit!</td>\n",
       "      <td>[4, 2, 3, 7, 6]</td>\n",
       "      <td>22</td>\n",
       "      <td>[1, 1, 1, 3, 2]</td>\n",
       "      <td>8</td>\n",
       "      <td>-1.000000</td>\n",
       "    </tr>\n",
       "    <tr>\n",
       "      <th>3</th>\n",
       "      <td>Solemnly he came forward and mounted the round...</td>\n",
       "      <td>[8, 2, 4, 7, 3, 7, 3, 5, 7]</td>\n",
       "      <td>46</td>\n",
       "      <td>[3, 1, 1, 2, 1, 1, 1, 1, 2]</td>\n",
       "      <td>13</td>\n",
       "      <td>-0.200000</td>\n",
       "    </tr>\n",
       "    <tr>\n",
       "      <th>4</th>\n",
       "      <td>He faced about and blessed gravely thrice the ...</td>\n",
       "      <td>[2, 5, 5, 3, 7, 7, 6, 3, 5, 3, 11, 4, 3, 3, 7, 9]</td>\n",
       "      <td>83</td>\n",
       "      <td>[1, 1, 2, 1, 1, 3, 1, 1, 2, 1, 3, 1, 1, 1, 3, 2]</td>\n",
       "      <td>25</td>\n",
       "      <td>0.000000</td>\n",
       "    </tr>\n",
       "  </tbody>\n",
       "</table>\n",
       "</div>"
      ],
      "text/plain": [
       "                                                   0  \\\n",
       "0  He held the bowl aloft and intoned:  --_Introi...   \n",
       "1  Halted, he peered down the dark winding stairs...   \n",
       "2                       Come up, you fearful jesuit!   \n",
       "3  Solemnly he came forward and mounted the round...   \n",
       "4  He faced about and blessed gravely thrice the ...   \n",
       "\n",
       "                                          wrd_length  total_char  \\\n",
       "0                  [2, 4, 3, 4, 5, 3, 7, 8, 2, 6, 3]          47   \n",
       "1      [6, 2, 6, 4, 3, 4, 7, 6, 3, 6, 3, 8, 4, 2, 5]          69   \n",
       "2                                    [4, 2, 3, 7, 6]          22   \n",
       "3                        [8, 2, 4, 7, 3, 7, 3, 5, 7]          46   \n",
       "4  [2, 5, 5, 3, 7, 7, 6, 3, 5, 3, 11, 4, 3, 3, 7, 9]          83   \n",
       "\n",
       "                                          syl_count  syl_sum  sentiment  \n",
       "0                 [1, 1, 1, 1, 2, 1, 2, 3, 1, 2, 1]       16   0.000000  \n",
       "1     [1, 1, 1, 1, 1, 1, 2, 1, 1, 1, 1, 3, 1, 1, 1]       18  -0.101852  \n",
       "2                                   [1, 1, 1, 3, 2]        8  -1.000000  \n",
       "3                       [3, 1, 1, 2, 1, 1, 1, 1, 2]       13  -0.200000  \n",
       "4  [1, 1, 2, 1, 1, 3, 1, 1, 2, 1, 3, 1, 1, 1, 3, 2]       25   0.000000  "
      ]
     },
     "execution_count": 57,
     "metadata": {},
     "output_type": "execute_result"
    }
   ],
   "source": [
    "df_novel_senti.head()"
   ]
  },
  {
   "cell_type": "code",
   "execution_count": 58,
   "metadata": {
    "collapsed": false
   },
   "outputs": [
    {
     "data": {
      "text/plain": [
       "1188488"
      ]
     },
     "execution_count": 58,
     "metadata": {},
     "output_type": "execute_result"
    }
   ],
   "source": [
    "df_novel_senti['total_char'].sum()"
   ]
  },
  {
   "cell_type": "code",
   "execution_count": 59,
   "metadata": {
    "collapsed": true
   },
   "outputs": [],
   "source": [
    "ratio = (df_novel['total_char'].sum()/3)"
   ]
  },
  {
   "cell_type": "code",
   "execution_count": 60,
   "metadata": {
    "collapsed": false
   },
   "outputs": [
    {
     "data": {
      "text/plain": [
       "396162"
      ]
     },
     "execution_count": 60,
     "metadata": {},
     "output_type": "execute_result"
    }
   ],
   "source": [
    "ratio"
   ]
  },
  {
   "cell_type": "code",
   "execution_count": 61,
   "metadata": {
    "collapsed": true
   },
   "outputs": [],
   "source": [
    "t = 0\n",
    "x = 0\n",
    "ratio = (df_novel['total_char'].sum()/3)-5000\n",
    "def find_this(t, x):\n",
    "    w = 0    \n",
    "    sent_stop = []\n",
    "    while w < ratio:\n",
    "        w = df_novel['total_char'][t:x].sum()\n",
    "        sent_stop.append(x)\n",
    "        x += 1\n",
    "    return max(sent_stop)  "
   ]
  },
  {
   "cell_type": "code",
   "execution_count": 62,
   "metadata": {
    "collapsed": false
   },
   "outputs": [
    {
     "name": "stdout",
     "output_type": "stream",
     "text": [
      "df_novel['total_char'][0:11037]\n",
      "df_novel['total_char'][11037:18696]\n",
      "df_novel['total_char'][18696:22723]\n"
     ]
    },
    {
     "ename": "KeyboardInterrupt",
     "evalue": "",
     "output_type": "error",
     "traceback": [
      "\u001b[0;31m---------------------------------------------------------------------------\u001b[0m",
      "\u001b[0;31mKeyboardInterrupt\u001b[0m                         Traceback (most recent call last)",
      "\u001b[0;32m<ipython-input-62-4b95215346fd>\u001b[0m in \u001b[0;36m<module>\u001b[0;34m()\u001b[0m\n\u001b[1;32m      4\u001b[0m \u001b[0mstop_point\u001b[0m \u001b[0;34m=\u001b[0m \u001b[0;34m[\u001b[0m\u001b[0;34m]\u001b[0m\u001b[0;34m\u001b[0m\u001b[0m\n\u001b[1;32m      5\u001b[0m \u001b[0;32mfor\u001b[0m \u001b[0mn\u001b[0m \u001b[0;32min\u001b[0m \u001b[0mrange\u001b[0m\u001b[0;34m(\u001b[0m\u001b[0;36m1\u001b[0m\u001b[0;34m,\u001b[0m \u001b[0;36m21\u001b[0m\u001b[0;34m)\u001b[0m\u001b[0;34m:\u001b[0m\u001b[0;34m\u001b[0m\u001b[0m\n\u001b[0;32m----> 6\u001b[0;31m     \u001b[0ms\u001b[0m \u001b[0;34m=\u001b[0m \u001b[0mfind_this\u001b[0m\u001b[0;34m(\u001b[0m\u001b[0mt\u001b[0m\u001b[0;34m,\u001b[0m \u001b[0mx\u001b[0m\u001b[0;34m)\u001b[0m\u001b[0;34m\u001b[0m\u001b[0m\n\u001b[0m\u001b[1;32m      7\u001b[0m     \u001b[0;32mprint\u001b[0m \u001b[0;34m\"df_novel['total_char'][%s:%s]\"\u001b[0m \u001b[0;34m%\u001b[0m\u001b[0;34m(\u001b[0m\u001b[0mt\u001b[0m\u001b[0;34m,\u001b[0m \u001b[0ms\u001b[0m\u001b[0;34m)\u001b[0m\u001b[0;34m\u001b[0m\u001b[0m\n\u001b[1;32m      8\u001b[0m     \u001b[0mstart_point\u001b[0m\u001b[0;34m.\u001b[0m\u001b[0mappend\u001b[0m\u001b[0;34m(\u001b[0m\u001b[0mt\u001b[0m\u001b[0;34m)\u001b[0m\u001b[0;34m\u001b[0m\u001b[0m\n",
      "\u001b[0;32m<ipython-input-61-3b1983b77bda>\u001b[0m in \u001b[0;36mfind_this\u001b[0;34m(t, x)\u001b[0m\n\u001b[1;32m      6\u001b[0m     \u001b[0msent_stop\u001b[0m \u001b[0;34m=\u001b[0m \u001b[0;34m[\u001b[0m\u001b[0;34m]\u001b[0m\u001b[0;34m\u001b[0m\u001b[0m\n\u001b[1;32m      7\u001b[0m     \u001b[0;32mwhile\u001b[0m \u001b[0mw\u001b[0m \u001b[0;34m<\u001b[0m \u001b[0mratio\u001b[0m\u001b[0;34m:\u001b[0m\u001b[0;34m\u001b[0m\u001b[0m\n\u001b[0;32m----> 8\u001b[0;31m         \u001b[0mw\u001b[0m \u001b[0;34m=\u001b[0m \u001b[0mdf_novel\u001b[0m\u001b[0;34m[\u001b[0m\u001b[0;34m'total_char'\u001b[0m\u001b[0;34m]\u001b[0m\u001b[0;34m[\u001b[0m\u001b[0mt\u001b[0m\u001b[0;34m:\u001b[0m\u001b[0mx\u001b[0m\u001b[0;34m]\u001b[0m\u001b[0;34m.\u001b[0m\u001b[0msum\u001b[0m\u001b[0;34m(\u001b[0m\u001b[0;34m)\u001b[0m\u001b[0;34m\u001b[0m\u001b[0m\n\u001b[0m\u001b[1;32m      9\u001b[0m         \u001b[0msent_stop\u001b[0m\u001b[0;34m.\u001b[0m\u001b[0mappend\u001b[0m\u001b[0;34m(\u001b[0m\u001b[0mx\u001b[0m\u001b[0;34m)\u001b[0m\u001b[0;34m\u001b[0m\u001b[0m\n\u001b[1;32m     10\u001b[0m         \u001b[0mx\u001b[0m \u001b[0;34m+=\u001b[0m \u001b[0;36m1\u001b[0m\u001b[0;34m\u001b[0m\u001b[0m\n",
      "\u001b[0;32m/Users/aliciagyori/anaconda/lib/python2.7/site-packages/pandas/core/series.pyc\u001b[0m in \u001b[0;36m__getitem__\u001b[0;34m(self, key)\u001b[0m\n\u001b[1;32m    622\u001b[0m             \u001b[0mkey\u001b[0m \u001b[0;34m=\u001b[0m \u001b[0mcheck_bool_indexer\u001b[0m\u001b[0;34m(\u001b[0m\u001b[0mself\u001b[0m\u001b[0;34m.\u001b[0m\u001b[0mindex\u001b[0m\u001b[0;34m,\u001b[0m \u001b[0mkey\u001b[0m\u001b[0;34m)\u001b[0m\u001b[0;34m\u001b[0m\u001b[0m\n\u001b[1;32m    623\u001b[0m \u001b[0;34m\u001b[0m\u001b[0m\n\u001b[0;32m--> 624\u001b[0;31m         \u001b[0;32mreturn\u001b[0m \u001b[0mself\u001b[0m\u001b[0;34m.\u001b[0m\u001b[0m_get_with\u001b[0m\u001b[0;34m(\u001b[0m\u001b[0mkey\u001b[0m\u001b[0;34m)\u001b[0m\u001b[0;34m\u001b[0m\u001b[0m\n\u001b[0m\u001b[1;32m    625\u001b[0m \u001b[0;34m\u001b[0m\u001b[0m\n\u001b[1;32m    626\u001b[0m     \u001b[0;32mdef\u001b[0m \u001b[0m_get_with\u001b[0m\u001b[0;34m(\u001b[0m\u001b[0mself\u001b[0m\u001b[0;34m,\u001b[0m \u001b[0mkey\u001b[0m\u001b[0;34m)\u001b[0m\u001b[0;34m:\u001b[0m\u001b[0;34m\u001b[0m\u001b[0m\n",
      "\u001b[0;32m/Users/aliciagyori/anaconda/lib/python2.7/site-packages/pandas/core/series.pyc\u001b[0m in \u001b[0;36m_get_with\u001b[0;34m(self, key)\u001b[0m\n\u001b[1;32m    628\u001b[0m         \u001b[0;32mif\u001b[0m \u001b[0misinstance\u001b[0m\u001b[0;34m(\u001b[0m\u001b[0mkey\u001b[0m\u001b[0;34m,\u001b[0m \u001b[0mslice\u001b[0m\u001b[0;34m)\u001b[0m\u001b[0;34m:\u001b[0m\u001b[0;34m\u001b[0m\u001b[0m\n\u001b[1;32m    629\u001b[0m             \u001b[0mindexer\u001b[0m \u001b[0;34m=\u001b[0m \u001b[0mself\u001b[0m\u001b[0;34m.\u001b[0m\u001b[0mindex\u001b[0m\u001b[0;34m.\u001b[0m\u001b[0m_convert_slice_indexer\u001b[0m\u001b[0;34m(\u001b[0m\u001b[0mkey\u001b[0m\u001b[0;34m,\u001b[0m \u001b[0mkind\u001b[0m\u001b[0;34m=\u001b[0m\u001b[0;34m'getitem'\u001b[0m\u001b[0;34m)\u001b[0m\u001b[0;34m\u001b[0m\u001b[0m\n\u001b[0;32m--> 630\u001b[0;31m             \u001b[0;32mreturn\u001b[0m \u001b[0mself\u001b[0m\u001b[0;34m.\u001b[0m\u001b[0m_get_values\u001b[0m\u001b[0;34m(\u001b[0m\u001b[0mindexer\u001b[0m\u001b[0;34m)\u001b[0m\u001b[0;34m\u001b[0m\u001b[0m\n\u001b[0m\u001b[1;32m    631\u001b[0m         \u001b[0;32melif\u001b[0m \u001b[0misinstance\u001b[0m\u001b[0;34m(\u001b[0m\u001b[0mkey\u001b[0m\u001b[0;34m,\u001b[0m \u001b[0mABCDataFrame\u001b[0m\u001b[0;34m)\u001b[0m\u001b[0;34m:\u001b[0m\u001b[0;34m\u001b[0m\u001b[0m\n\u001b[1;32m    632\u001b[0m             raise TypeError('Indexing a Series with DataFrame is not '\n",
      "\u001b[0;32m/Users/aliciagyori/anaconda/lib/python2.7/site-packages/pandas/core/series.pyc\u001b[0m in \u001b[0;36m_get_values\u001b[0;34m(self, indexer)\u001b[0m\n\u001b[1;32m    690\u001b[0m         \u001b[0;32mtry\u001b[0m\u001b[0;34m:\u001b[0m\u001b[0;34m\u001b[0m\u001b[0m\n\u001b[1;32m    691\u001b[0m             return self._constructor(self._data.get_slice(indexer),\n\u001b[0;32m--> 692\u001b[0;31m                                      fastpath=True).__finalize__(self)\n\u001b[0m\u001b[1;32m    693\u001b[0m         \u001b[0;32mexcept\u001b[0m \u001b[0mException\u001b[0m\u001b[0;34m:\u001b[0m\u001b[0;34m\u001b[0m\u001b[0m\n\u001b[1;32m    694\u001b[0m             \u001b[0;32mreturn\u001b[0m \u001b[0mself\u001b[0m\u001b[0;34m.\u001b[0m\u001b[0m_values\u001b[0m\u001b[0;34m[\u001b[0m\u001b[0mindexer\u001b[0m\u001b[0;34m]\u001b[0m\u001b[0;34m\u001b[0m\u001b[0m\n",
      "\u001b[0;32m/Users/aliciagyori/anaconda/lib/python2.7/site-packages/pandas/core/series.pyc\u001b[0m in \u001b[0;36m__init__\u001b[0;34m(self, data, index, dtype, name, copy, fastpath)\u001b[0m\n\u001b[1;32m    232\u001b[0m \u001b[0;34m\u001b[0m\u001b[0m\n\u001b[1;32m    233\u001b[0m         \u001b[0mself\u001b[0m\u001b[0;34m.\u001b[0m\u001b[0mname\u001b[0m \u001b[0;34m=\u001b[0m \u001b[0mname\u001b[0m\u001b[0;34m\u001b[0m\u001b[0m\n\u001b[0;32m--> 234\u001b[0;31m         \u001b[0mself\u001b[0m\u001b[0;34m.\u001b[0m\u001b[0m_set_axis\u001b[0m\u001b[0;34m(\u001b[0m\u001b[0;36m0\u001b[0m\u001b[0;34m,\u001b[0m \u001b[0mindex\u001b[0m\u001b[0;34m,\u001b[0m \u001b[0mfastpath\u001b[0m\u001b[0;34m=\u001b[0m\u001b[0mTrue\u001b[0m\u001b[0;34m)\u001b[0m\u001b[0;34m\u001b[0m\u001b[0m\n\u001b[0m\u001b[1;32m    235\u001b[0m \u001b[0;34m\u001b[0m\u001b[0m\n\u001b[1;32m    236\u001b[0m     \u001b[0;34m@\u001b[0m\u001b[0mclassmethod\u001b[0m\u001b[0;34m\u001b[0m\u001b[0m\n",
      "\u001b[0;32m/Users/aliciagyori/anaconda/lib/python2.7/site-packages/pandas/core/series.pyc\u001b[0m in \u001b[0;36m_set_axis\u001b[0;34m(self, axis, labels, fastpath)\u001b[0m\n\u001b[1;32m    284\u001b[0m                 \u001b[0;32mif\u001b[0m \u001b[0mfastpath\u001b[0m\u001b[0;34m:\u001b[0m\u001b[0;34m\u001b[0m\u001b[0m\n\u001b[1;32m    285\u001b[0m                     \u001b[0mself\u001b[0m\u001b[0;34m.\u001b[0m\u001b[0m_data\u001b[0m\u001b[0;34m.\u001b[0m\u001b[0mset_axis\u001b[0m\u001b[0;34m(\u001b[0m\u001b[0maxis\u001b[0m\u001b[0;34m,\u001b[0m \u001b[0mlabels\u001b[0m\u001b[0;34m)\u001b[0m\u001b[0;34m\u001b[0m\u001b[0m\n\u001b[0;32m--> 286\u001b[0;31m         \u001b[0mself\u001b[0m\u001b[0;34m.\u001b[0m\u001b[0m_set_subtyp\u001b[0m\u001b[0;34m(\u001b[0m\u001b[0mis_all_dates\u001b[0m\u001b[0;34m)\u001b[0m\u001b[0;34m\u001b[0m\u001b[0m\n\u001b[0m\u001b[1;32m    287\u001b[0m \u001b[0;34m\u001b[0m\u001b[0m\n\u001b[1;32m    288\u001b[0m         \u001b[0mobject\u001b[0m\u001b[0;34m.\u001b[0m\u001b[0m__setattr__\u001b[0m\u001b[0;34m(\u001b[0m\u001b[0mself\u001b[0m\u001b[0;34m,\u001b[0m \u001b[0;34m'_index'\u001b[0m\u001b[0;34m,\u001b[0m \u001b[0mlabels\u001b[0m\u001b[0;34m)\u001b[0m\u001b[0;34m\u001b[0m\u001b[0m\n",
      "\u001b[0;32m/Users/aliciagyori/anaconda/lib/python2.7/site-packages/pandas/core/series.pyc\u001b[0m in \u001b[0;36m_set_subtyp\u001b[0;34m(self, is_all_dates)\u001b[0m\n\u001b[1;32m    294\u001b[0m             \u001b[0mobject\u001b[0m\u001b[0;34m.\u001b[0m\u001b[0m__setattr__\u001b[0m\u001b[0;34m(\u001b[0m\u001b[0mself\u001b[0m\u001b[0;34m,\u001b[0m \u001b[0;34m'_subtyp'\u001b[0m\u001b[0;34m,\u001b[0m \u001b[0;34m'time_series'\u001b[0m\u001b[0;34m)\u001b[0m\u001b[0;34m\u001b[0m\u001b[0m\n\u001b[1;32m    295\u001b[0m         \u001b[0;32melse\u001b[0m\u001b[0;34m:\u001b[0m\u001b[0;34m\u001b[0m\u001b[0m\n\u001b[0;32m--> 296\u001b[0;31m             \u001b[0mobject\u001b[0m\u001b[0;34m.\u001b[0m\u001b[0m__setattr__\u001b[0m\u001b[0;34m(\u001b[0m\u001b[0mself\u001b[0m\u001b[0;34m,\u001b[0m \u001b[0;34m'_subtyp'\u001b[0m\u001b[0;34m,\u001b[0m \u001b[0;34m'series'\u001b[0m\u001b[0;34m)\u001b[0m\u001b[0;34m\u001b[0m\u001b[0m\n\u001b[0m\u001b[1;32m    297\u001b[0m \u001b[0;34m\u001b[0m\u001b[0m\n\u001b[1;32m    298\u001b[0m     \u001b[0;32mdef\u001b[0m \u001b[0m_update_inplace\u001b[0m\u001b[0;34m(\u001b[0m\u001b[0mself\u001b[0m\u001b[0;34m,\u001b[0m \u001b[0mresult\u001b[0m\u001b[0;34m,\u001b[0m \u001b[0;34m**\u001b[0m\u001b[0mkwargs\u001b[0m\u001b[0;34m)\u001b[0m\u001b[0;34m:\u001b[0m\u001b[0;34m\u001b[0m\u001b[0m\n",
      "\u001b[0;31mKeyboardInterrupt\u001b[0m: "
     ]
    }
   ],
   "source": [
    "t = 0\n",
    "x = 0\n",
    "start_point = []\n",
    "stop_point = []\n",
    "for n in range(1, 21):\n",
    "    s = find_this(t, x)\n",
    "    print \"df_novel['total_char'][%s:%s]\" %(t, s)\n",
    "    start_point.append(t)\n",
    "    stop_point.append(s)\n",
    "    t = s\n",
    "    x = s + 1  "
   ]
  },
  {
   "cell_type": "code",
   "execution_count": 63,
   "metadata": {
    "collapsed": false
   },
   "outputs": [
    {
     "data": {
      "text/plain": [
       "[0, 11037, 18696]"
      ]
     },
     "execution_count": 63,
     "metadata": {},
     "output_type": "execute_result"
    }
   ],
   "source": [
    "start_point"
   ]
  },
  {
   "cell_type": "code",
   "execution_count": 64,
   "metadata": {
    "collapsed": false
   },
   "outputs": [
    {
     "name": "stdout",
     "output_type": "stream",
     "text": [
      "0\n",
      "11037\n",
      "0.02864401664\n",
      "11037\n",
      "18696\n",
      "0.0341358353207\n",
      "18696\n",
      "22723\n",
      "0.0276216407536\n"
     ]
    }
   ],
   "source": [
    "three_piece_char = []\n",
    "st = 0\n",
    "for l in start_point: \n",
    "    strt = start_point[st]\n",
    "    stp = stop_point[st]\n",
    "    print strt\n",
    "    print stp\n",
    "    mn = df_novel['sentiment'][strt:stp].mean()\n",
    "    three_piece_char.append(mn)\n",
    "    print mn\n",
    "    st +=1"
   ]
  },
  {
   "cell_type": "code",
   "execution_count": 66,
   "metadata": {
    "collapsed": false
   },
   "outputs": [
    {
     "name": "stdout",
     "output_type": "stream",
     "text": [
      "[ 0.02864402  0.03413584  0.02762164]\n"
     ]
    }
   ],
   "source": [
    "n = np.array(n)\n",
    "three_piece_char = np.array(three_piece_char)\n",
    "print three_piece_char"
   ]
  },
  {
   "cell_type": "code",
   "execution_count": 67,
   "metadata": {
    "collapsed": false
   },
   "outputs": [
    {
     "data": {
      "image/png": "[encoded data removed]",
      "text/plain": [
       "<matplotlib.figure.Figure at 0x11e7a1dd0>"
      ]
     },
     "metadata": {},
     "output_type": "display_data"
    }
   ],
   "source": [
    "plt.plot(three_piece_char)\n",
    "plt.ylabel('sentiment')\n",
    "plt.show()"
   ]
  },
  {
   "cell_type": "code",
   "execution_count": 68,
   "metadata": {
    "collapsed": false
   },
   "outputs": [
    {
     "data": {
      "image/png": "[encoded data removed]",
      "text/plain": [
       "<matplotlib.figure.Figure at 0x11e7a1510>"
      ]
     },
     "metadata": {},
     "output_type": "display_data"
    }
   ],
   "source": [
    "plt.bar(range(3), three_piece_char)\n",
    "plt.ylabel('sentiment')\n",
    "plt.show()"
   ]
  },
  {
   "cell_type": "code",
   "execution_count": 69,
   "metadata": {
    "collapsed": false
   },
   "outputs": [
    {
     "data": {
      "text/html": [
       "<div>\n",
       "<table border=\"1\" class=\"dataframe\">\n",
       "  <thead>\n",
       "    <tr style=\"text-align: right;\">\n",
       "      <th></th>\n",
       "      <th>0</th>\n",
       "      <th>total_char</th>\n",
       "      <th>syl_sum</th>\n",
       "      <th>sentiment</th>\n",
       "      <th>cluster</th>\n",
       "    </tr>\n",
       "  </thead>\n",
       "  <tbody>\n",
       "    <tr>\n",
       "      <th>0</th>\n",
       "      <td>He held the bowl aloft and intoned:  --_Introi...</td>\n",
       "      <td>47</td>\n",
       "      <td>16</td>\n",
       "      <td>0.000000</td>\n",
       "      <td>0</td>\n",
       "    </tr>\n",
       "    <tr>\n",
       "      <th>1</th>\n",
       "      <td>Halted, he peered down the dark winding stairs...</td>\n",
       "      <td>69</td>\n",
       "      <td>18</td>\n",
       "      <td>-0.101852</td>\n",
       "      <td>0</td>\n",
       "    </tr>\n",
       "    <tr>\n",
       "      <th>2</th>\n",
       "      <td>Come up, you fearful jesuit!</td>\n",
       "      <td>22</td>\n",
       "      <td>8</td>\n",
       "      <td>-1.000000</td>\n",
       "      <td>0</td>\n",
       "    </tr>\n",
       "    <tr>\n",
       "      <th>3</th>\n",
       "      <td>Solemnly he came forward and mounted the round...</td>\n",
       "      <td>46</td>\n",
       "      <td>13</td>\n",
       "      <td>-0.200000</td>\n",
       "      <td>0</td>\n",
       "    </tr>\n",
       "    <tr>\n",
       "      <th>4</th>\n",
       "      <td>He faced about and blessed gravely thrice the ...</td>\n",
       "      <td>83</td>\n",
       "      <td>25</td>\n",
       "      <td>0.000000</td>\n",
       "      <td>0</td>\n",
       "    </tr>\n",
       "  </tbody>\n",
       "</table>\n",
       "</div>"
      ],
      "text/plain": [
       "                                                   0  total_char  syl_sum  \\\n",
       "0  He held the bowl aloft and intoned:  --_Introi...          47       16   \n",
       "1  Halted, he peered down the dark winding stairs...          69       18   \n",
       "2                       Come up, you fearful jesuit!          22        8   \n",
       "3  Solemnly he came forward and mounted the round...          46       13   \n",
       "4  He faced about and blessed gravely thrice the ...          83       25   \n",
       "\n",
       "   sentiment  cluster  \n",
       "0   0.000000        0  \n",
       "1  -0.101852        0  \n",
       "2  -1.000000        0  \n",
       "3  -0.200000        0  \n",
       "4   0.000000        0  "
      ]
     },
     "execution_count": 69,
     "metadata": {},
     "output_type": "execute_result"
    }
   ],
   "source": [
    "df_cluster.head()"
   ]
  },
  {
   "cell_type": "code",
   "execution_count": 70,
   "metadata": {
    "collapsed": true
   },
   "outputs": [],
   "source": [
    "df_cluster5 = df_cluster"
   ]
  },
  {
   "cell_type": "code",
   "execution_count": 72,
   "metadata": {
    "collapsed": false
   },
   "outputs": [
    {
     "data": {
      "text/html": [
       "<div>\n",
       "<table border=\"1\" class=\"dataframe\">\n",
       "  <thead>\n",
       "    <tr style=\"text-align: right;\">\n",
       "      <th></th>\n",
       "      <th>0</th>\n",
       "      <th>total_char</th>\n",
       "      <th>syl_sum</th>\n",
       "      <th>sentiment</th>\n",
       "      <th>cluster</th>\n",
       "    </tr>\n",
       "  </thead>\n",
       "  <tbody>\n",
       "    <tr>\n",
       "      <th>0</th>\n",
       "      <td>He held the bowl aloft and intoned:  --_Introi...</td>\n",
       "      <td>47</td>\n",
       "      <td>16</td>\n",
       "      <td>0.000000</td>\n",
       "      <td>0</td>\n",
       "    </tr>\n",
       "    <tr>\n",
       "      <th>1</th>\n",
       "      <td>Halted, he peered down the dark winding stairs...</td>\n",
       "      <td>69</td>\n",
       "      <td>18</td>\n",
       "      <td>-0.101852</td>\n",
       "      <td>0</td>\n",
       "    </tr>\n",
       "    <tr>\n",
       "      <th>2</th>\n",
       "      <td>Come up, you fearful jesuit!</td>\n",
       "      <td>22</td>\n",
       "      <td>8</td>\n",
       "      <td>-1.000000</td>\n",
       "      <td>0</td>\n",
       "    </tr>\n",
       "    <tr>\n",
       "      <th>3</th>\n",
       "      <td>Solemnly he came forward and mounted the round...</td>\n",
       "      <td>46</td>\n",
       "      <td>13</td>\n",
       "      <td>-0.200000</td>\n",
       "      <td>0</td>\n",
       "    </tr>\n",
       "    <tr>\n",
       "      <th>4</th>\n",
       "      <td>He faced about and blessed gravely thrice the ...</td>\n",
       "      <td>83</td>\n",
       "      <td>25</td>\n",
       "      <td>0.000000</td>\n",
       "      <td>0</td>\n",
       "    </tr>\n",
       "  </tbody>\n",
       "</table>\n",
       "</div>"
      ],
      "text/plain": [
       "                                                   0  total_char  syl_sum  \\\n",
       "0  He held the bowl aloft and intoned:  --_Introi...          47       16   \n",
       "1  Halted, he peered down the dark winding stairs...          69       18   \n",
       "2                       Come up, you fearful jesuit!          22        8   \n",
       "3  Solemnly he came forward and mounted the round...          46       13   \n",
       "4  He faced about and blessed gravely thrice the ...          83       25   \n",
       "\n",
       "   sentiment  cluster  \n",
       "0   0.000000        0  \n",
       "1  -0.101852        0  \n",
       "2  -1.000000        0  \n",
       "3  -0.200000        0  \n",
       "4   0.000000        0  "
      ]
     },
     "execution_count": 72,
     "metadata": {},
     "output_type": "execute_result"
    }
   ],
   "source": [
    "df_cluster5.head()"
   ]
  },
  {
   "cell_type": "code",
   "execution_count": 74,
   "metadata": {
    "collapsed": true
   },
   "outputs": [],
   "source": [
    "X = df_cluster5.drop(0, axis=1)"
   ]
  },
  {
   "cell_type": "code",
   "execution_count": 75,
   "metadata": {
    "collapsed": true
   },
   "outputs": [],
   "source": [
    "scaler = StandardScaler()\n",
    "X_scaled = scaler.fit_transform(X)"
   ]
  },
  {
   "cell_type": "code",
   "execution_count": 76,
   "metadata": {
    "collapsed": false
   },
   "outputs": [
    {
     "data": {
      "text/plain": [
       "KMeans(copy_x=True, init='k-means++', max_iter=300, n_clusters=5, n_init=10,\n",
       "    n_jobs=1, precompute_distances='auto', random_state=1, tol=0.0001,\n",
       "    verbose=0)"
      ]
     },
     "execution_count": 76,
     "metadata": {},
     "output_type": "execute_result"
    }
   ],
   "source": [
    "km = KMeans(n_clusters=5, random_state=1)\n",
    "km.fit(X_scaled)"
   ]
  },
  {
   "cell_type": "code",
   "execution_count": 77,
   "metadata": {
    "collapsed": true
   },
   "outputs": [],
   "source": [
    "df_cluster5['cluster'] = km.labels_"
   ]
  },
  {
   "cell_type": "code",
   "execution_count": 78,
   "metadata": {
    "collapsed": false
   },
   "outputs": [
    {
     "data": {
      "text/html": [
       "<div>\n",
       "<table border=\"1\" class=\"dataframe\">\n",
       "  <thead>\n",
       "    <tr style=\"text-align: right;\">\n",
       "      <th></th>\n",
       "      <th>total_char</th>\n",
       "      <th>syl_sum</th>\n",
       "      <th>sentiment</th>\n",
       "    </tr>\n",
       "    <tr>\n",
       "      <th>cluster</th>\n",
       "      <th></th>\n",
       "      <th></th>\n",
       "      <th></th>\n",
       "    </tr>\n",
       "  </thead>\n",
       "  <tbody>\n",
       "    <tr>\n",
       "      <th>0</th>\n",
       "      <td>45.152208</td>\n",
       "      <td>14.112069</td>\n",
       "      <td>0.000286</td>\n",
       "    </tr>\n",
       "    <tr>\n",
       "      <th>1</th>\n",
       "      <td>47246.000000</td>\n",
       "      <td>15078.000000</td>\n",
       "      <td>0.045667</td>\n",
       "    </tr>\n",
       "    <tr>\n",
       "      <th>2</th>\n",
       "      <td>76.661079</td>\n",
       "      <td>24.156627</td>\n",
       "      <td>0.366881</td>\n",
       "    </tr>\n",
       "    <tr>\n",
       "      <th>3</th>\n",
       "      <td>52.921289</td>\n",
       "      <td>16.468516</td>\n",
       "      <td>-0.444046</td>\n",
       "    </tr>\n",
       "    <tr>\n",
       "      <th>4</th>\n",
       "      <td>42.045340</td>\n",
       "      <td>13.018892</td>\n",
       "      <td>0.724635</td>\n",
       "    </tr>\n",
       "  </tbody>\n",
       "</table>\n",
       "</div>"
      ],
      "text/plain": [
       "           total_char       syl_sum  sentiment\n",
       "cluster                                       \n",
       "0           45.152208     14.112069   0.000286\n",
       "1        47246.000000  15078.000000   0.045667\n",
       "2           76.661079     24.156627   0.366881\n",
       "3           52.921289     16.468516  -0.444046\n",
       "4           42.045340     13.018892   0.724635"
      ]
     },
     "execution_count": 78,
     "metadata": {},
     "output_type": "execute_result"
    }
   ],
   "source": [
    "df_cluster5.groupby('cluster').mean()"
   ]
  },
  {
   "cell_type": "code",
   "execution_count": null,
   "metadata": {
    "collapsed": true
   },
   "outputs": [],
   "source": []
  }
 ],
 "metadata": {
  "kernelspec": {
   "display_name": "Python 2",
   "language": "python",
   "name": "python2"
  },
  "language_info": {
   "codemirror_mode": {
    "name": "ipython",
    "version": 2
   },
   "file_extension": ".py",
   "mimetype": "text/x-python",
   "name": "python",
   "nbconvert_exporter": "python",
   "pygments_lexer": "ipython2",
   "version": "2.7.11"
  }
 },
 "nbformat": 4,
 "nbformat_minor": 0
}
