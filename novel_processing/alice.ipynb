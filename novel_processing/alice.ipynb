{
 "cells": [
  {
   "cell_type": "code",
   "execution_count": 2,
   "metadata": {
    "collapsed": true
   },
   "outputs": [],
   "source": [
    "import pandas as pd\n",
    "from textblob import TextBlob\n",
    "import csv\n",
    "from gutenberg.acquire import load_etext\n",
    "from gutenberg.cleanup import strip_headers\n",
    "import os\n",
    "import numpy as np"
   ]
  },
  {
   "cell_type": "code",
   "execution_count": null,
   "metadata": {
    "collapsed": true
   },
   "outputs": [],
   "source": []
  },
  {
   "cell_type": "code",
   "execution_count": 3,
   "metadata": {
    "collapsed": true
   },
   "outputs": [],
   "source": [
    "import seaborn as sns\n",
    "import matplotlib.pyplot as plt\n",
    "%matplotlib inline\n",
    "plt.rcParams['figure.figsize'] = (8, 6)\n",
    "plt.rcParams['font.size'] = 14"
   ]
  },
  {
   "cell_type": "code",
   "execution_count": 40,
   "metadata": {
    "collapsed": true
   },
   "outputs": [],
   "source": [
    "n = 11\n",
    "t = 'alice'\n",
    "s = 1"
   ]
  },
  {
   "cell_type": "code",
   "execution_count": 41,
   "metadata": {
    "collapsed": true
   },
   "outputs": [],
   "source": [
    "novel = strip_headers(load_etext(n))\n",
    "novel = novel.replace('\\n', ' ')\n",
    "novel= TextBlob(novel)\n",
    "novel_sentences = novel.sentences\n",
    "novel_title = t"
   ]
  },
  {
   "cell_type": "code",
   "execution_count": 33,
   "metadata": {
    "collapsed": false
   },
   "outputs": [],
   "source": [
    "for l in range(2):\n",
    "    novelWriter = csv.writer(open('novel_'+novel_title+'3.csv', 'w'), delimiter=',')\n",
    "    for sentence in novel_sentences:\n",
    "        novelWriter.writerow([sentence])"
   ]
  },
  {
   "cell_type": "code",
   "execution_count": 42,
   "metadata": {
    "collapsed": false
   },
   "outputs": [],
   "source": [
    "df_novel = pd.read_csv('novel_'+novel_title+'3.csv', skiprows = s, header=None)"
   ]
  },
  {
   "cell_type": "code",
   "execution_count": 43,
   "metadata": {
    "collapsed": false
   },
   "outputs": [
    {
     "data": {
      "text/html": [
       "<div>\n",
       "<table border=\"1\" class=\"dataframe\">\n",
       "  <thead>\n",
       "    <tr style=\"text-align: right;\">\n",
       "      <th></th>\n",
       "      <th>0</th>\n",
       "    </tr>\n",
       "  </thead>\n",
       "  <tbody>\n",
       "    <tr>\n",
       "      <th>0</th>\n",
       "      <td>Down the Rabbit-Hole  Alice was beginning to g...</td>\n",
       "    </tr>\n",
       "    <tr>\n",
       "      <th>1</th>\n",
       "      <td>So she was considering in her own mind (as wel...</td>\n",
       "    </tr>\n",
       "    <tr>\n",
       "      <th>2</th>\n",
       "      <td>There was nothing so VERY remarkable in that; ...</td>\n",
       "    </tr>\n",
       "    <tr>\n",
       "      <th>3</th>\n",
       "      <td>Oh dear!</td>\n",
       "    </tr>\n",
       "    <tr>\n",
       "      <th>4</th>\n",
       "      <td>I shall be late!'</td>\n",
       "    </tr>\n",
       "  </tbody>\n",
       "</table>\n",
       "</div>"
      ],
      "text/plain": [
       "                                                   0\n",
       "0  Down the Rabbit-Hole  Alice was beginning to g...\n",
       "1  So she was considering in her own mind (as wel...\n",
       "2  There was nothing so VERY remarkable in that; ...\n",
       "3                                           Oh dear!\n",
       "4                                  I shall be late!'"
      ]
     },
     "execution_count": 43,
     "metadata": {},
     "output_type": "execute_result"
    }
   ],
   "source": [
    "df_novel.head()"
   ]
  },
  {
   "cell_type": "code",
   "execution_count": 44,
   "metadata": {
    "collapsed": true
   },
   "outputs": [],
   "source": [
    "wrd_length = []\n",
    "total_char = []\n",
    "def wrd_char_counts(sentence):\n",
    "    total_chars = 0\n",
    "    wrd_counts = []\n",
    "    for word in sentence:\n",
    "        char_count = len(word)\n",
    "        wrd_counts.append(char_count)\n",
    "        total_chars += char_count\n",
    "    total_char.append(total_chars)\n",
    "    wrd_length.append(wrd_counts)"
   ]
  },
  {
   "cell_type": "code",
   "execution_count": 45,
   "metadata": {
    "collapsed": false
   },
   "outputs": [],
   "source": [
    "for l in df_novel[0]:\n",
    "    sent = TextBlob(l)\n",
    "    wrd_char_counts(sent.words)"
   ]
  },
  {
   "cell_type": "code",
   "execution_count": 46,
   "metadata": {
    "collapsed": true
   },
   "outputs": [],
   "source": [
    "df_novel['wrd_length'] = wrd_length\n",
    "df_novel['total_char'] = total_char"
   ]
  },
  {
   "cell_type": "code",
   "execution_count": 47,
   "metadata": {
    "collapsed": false
   },
   "outputs": [
    {
     "data": {
      "text/html": [
       "<div>\n",
       "<table border=\"1\" class=\"dataframe\">\n",
       "  <thead>\n",
       "    <tr style=\"text-align: right;\">\n",
       "      <th></th>\n",
       "      <th>0</th>\n",
       "      <th>wrd_length</th>\n",
       "      <th>total_char</th>\n",
       "    </tr>\n",
       "  </thead>\n",
       "  <tbody>\n",
       "    <tr>\n",
       "      <th>0</th>\n",
       "      <td>Down the Rabbit-Hole  Alice was beginning to g...</td>\n",
       "      <td>[4, 3, 11, 5, 3, 9, 2, 3, 4, 5, 2, 7, 2, 3, 6,...</td>\n",
       "      <td>256</td>\n",
       "    </tr>\n",
       "    <tr>\n",
       "      <th>1</th>\n",
       "      <td>So she was considering in her own mind (as wel...</td>\n",
       "      <td>[2, 3, 3, 11, 2, 3, 3, 4, 2, 4, 2, 3, 5, 3, 3,...</td>\n",
       "      <td>229</td>\n",
       "    </tr>\n",
       "    <tr>\n",
       "      <th>2</th>\n",
       "      <td>There was nothing so VERY remarkable in that; ...</td>\n",
       "      <td>[5, 3, 7, 2, 4, 10, 2, 4, 3, 3, 5, 5, 2, 2, 4,...</td>\n",
       "      <td>109</td>\n",
       "    </tr>\n",
       "    <tr>\n",
       "      <th>3</th>\n",
       "      <td>Oh dear!</td>\n",
       "      <td>[2, 4]</td>\n",
       "      <td>6</td>\n",
       "    </tr>\n",
       "    <tr>\n",
       "      <th>4</th>\n",
       "      <td>I shall be late!'</td>\n",
       "      <td>[1, 5, 2, 4]</td>\n",
       "      <td>12</td>\n",
       "    </tr>\n",
       "  </tbody>\n",
       "</table>\n",
       "</div>"
      ],
      "text/plain": [
       "                                                   0  \\\n",
       "0  Down the Rabbit-Hole  Alice was beginning to g...   \n",
       "1  So she was considering in her own mind (as wel...   \n",
       "2  There was nothing so VERY remarkable in that; ...   \n",
       "3                                           Oh dear!   \n",
       "4                                  I shall be late!'   \n",
       "\n",
       "                                          wrd_length  total_char  \n",
       "0  [4, 3, 11, 5, 3, 9, 2, 3, 4, 5, 2, 7, 2, 3, 6,...         256  \n",
       "1  [2, 3, 3, 11, 2, 3, 3, 4, 2, 4, 2, 3, 5, 3, 3,...         229  \n",
       "2  [5, 3, 7, 2, 4, 10, 2, 4, 3, 3, 5, 5, 2, 2, 4,...         109  \n",
       "3                                             [2, 4]           6  \n",
       "4                                       [1, 5, 2, 4]          12  "
      ]
     },
     "execution_count": 47,
     "metadata": {},
     "output_type": "execute_result"
    }
   ],
   "source": [
    "df_novel.head()"
   ]
  },
  {
   "cell_type": "code",
   "execution_count": 48,
   "metadata": {
    "collapsed": true
   },
   "outputs": [],
   "source": [
    "def CountSyllables(word, isName=True):\n",
    "    vowels = \"aeiouy\"\n",
    "    #single syllables in words like bread and lead, but split in names like Breanne and Adreann\n",
    "    specials = [\"ia\",\"ea\"] if isName else [\"ia\"]\n",
    "    specials_except_end = [\"ie\",\"ya\",\"es\",\"ed\"]  #seperate syllables unless ending the word\n",
    "    currentWord = word.lower()\n",
    "    numVowels = 0\n",
    "    lastWasVowel = False\n",
    "    last_letter = \"\"\n",
    "\n",
    "    for letter in currentWord:\n",
    "        if letter in vowels:\n",
    "            #don't count diphthongs unless special cases\n",
    "            combo = last_letter+letter\n",
    "            if lastWasVowel and combo not in specials and combo not in specials_except_end:\n",
    "                lastWasVowel = True\n",
    "            else:\n",
    "                numVowels += 1\n",
    "                lastWasVowel = True\n",
    "        else:\n",
    "            lastWasVowel = False\n",
    "\n",
    "        last_letter = letter\n",
    "\n",
    "    #remove es & ed which are usually silent\n",
    "    if len(currentWord) > 2 and currentWord[-2:] in specials_except_end:\n",
    "        numVowels -= 1\n",
    "\n",
    "    #remove silent single e, but not ee since it counted it before and we should be correct\n",
    "    elif len(currentWord) > 2 and currentWord[-1:] == \"e\" and currentWord[-2:] != \"ee\" and currentWord != 'the':\n",
    "        numVowels -= 1\n",
    "\n",
    "    return numVowels"
   ]
  },
  {
   "cell_type": "code",
   "execution_count": 49,
   "metadata": {
    "collapsed": true
   },
   "outputs": [],
   "source": [
    "syl = []\n",
    "for l in df_novel[0]:\n",
    "    sent = TextBlob(l)\n",
    "    syl_single = []\n",
    "    for x in sent.words:\n",
    "        m = CountSyllables(x)\n",
    "        syl_single.append(m)\n",
    "    syl.append(syl_single)    "
   ]
  },
  {
   "cell_type": "code",
   "execution_count": 50,
   "metadata": {
    "collapsed": false
   },
   "outputs": [],
   "source": [
    "syl_count_arr = []\n",
    "for n in syl:\n",
    "    n = np.array(n)\n",
    "    syl_count_arr.append(n)"
   ]
  },
  {
   "cell_type": "code",
   "execution_count": 51,
   "metadata": {
    "collapsed": true
   },
   "outputs": [],
   "source": [
    "df_novel['syl_count'] = syl_count_arr"
   ]
  },
  {
   "cell_type": "code",
   "execution_count": 52,
   "metadata": {
    "collapsed": false
   },
   "outputs": [
    {
     "data": {
      "text/html": [
       "<div>\n",
       "<table border=\"1\" class=\"dataframe\">\n",
       "  <thead>\n",
       "    <tr style=\"text-align: right;\">\n",
       "      <th></th>\n",
       "      <th>0</th>\n",
       "      <th>wrd_length</th>\n",
       "      <th>total_char</th>\n",
       "      <th>syl_count</th>\n",
       "    </tr>\n",
       "  </thead>\n",
       "  <tbody>\n",
       "    <tr>\n",
       "      <th>0</th>\n",
       "      <td>Down the Rabbit-Hole  Alice was beginning to g...</td>\n",
       "      <td>[4, 3, 11, 5, 3, 9, 2, 3, 4, 5, 2, 7, 2, 3, 6,...</td>\n",
       "      <td>256</td>\n",
       "      <td>[1, 1, 3, 2, 1, 3, 1, 1, 2, 1, 1, 2, 1, 1, 2, ...</td>\n",
       "    </tr>\n",
       "    <tr>\n",
       "      <th>1</th>\n",
       "      <td>So she was considering in her own mind (as wel...</td>\n",
       "      <td>[2, 3, 3, 11, 2, 3, 3, 4, 2, 4, 2, 3, 5, 3, 3,...</td>\n",
       "      <td>229</td>\n",
       "      <td>[1, 0, 1, 4, 1, 1, 1, 1, 1, 1, 1, 0, 1, 1, 1, ...</td>\n",
       "    </tr>\n",
       "    <tr>\n",
       "      <th>2</th>\n",
       "      <td>There was nothing so VERY remarkable in that; ...</td>\n",
       "      <td>[5, 3, 7, 2, 4, 10, 2, 4, 3, 3, 5, 5, 2, 2, 4,...</td>\n",
       "      <td>109</td>\n",
       "      <td>[1, 1, 2, 1, 2, 3, 1, 1, 1, 1, 2, 1, 1, 1, 2, ...</td>\n",
       "    </tr>\n",
       "    <tr>\n",
       "      <th>3</th>\n",
       "      <td>Oh dear!</td>\n",
       "      <td>[2, 4]</td>\n",
       "      <td>6</td>\n",
       "      <td>[1, 2]</td>\n",
       "    </tr>\n",
       "    <tr>\n",
       "      <th>4</th>\n",
       "      <td>I shall be late!'</td>\n",
       "      <td>[1, 5, 2, 4]</td>\n",
       "      <td>12</td>\n",
       "      <td>[1, 1, 1, 1]</td>\n",
       "    </tr>\n",
       "  </tbody>\n",
       "</table>\n",
       "</div>"
      ],
      "text/plain": [
       "                                                   0  \\\n",
       "0  Down the Rabbit-Hole  Alice was beginning to g...   \n",
       "1  So she was considering in her own mind (as wel...   \n",
       "2  There was nothing so VERY remarkable in that; ...   \n",
       "3                                           Oh dear!   \n",
       "4                                  I shall be late!'   \n",
       "\n",
       "                                          wrd_length  total_char  \\\n",
       "0  [4, 3, 11, 5, 3, 9, 2, 3, 4, 5, 2, 7, 2, 3, 6,...         256   \n",
       "1  [2, 3, 3, 11, 2, 3, 3, 4, 2, 4, 2, 3, 5, 3, 3,...         229   \n",
       "2  [5, 3, 7, 2, 4, 10, 2, 4, 3, 3, 5, 5, 2, 2, 4,...         109   \n",
       "3                                             [2, 4]           6   \n",
       "4                                       [1, 5, 2, 4]          12   \n",
       "\n",
       "                                           syl_count  \n",
       "0  [1, 1, 3, 2, 1, 3, 1, 1, 2, 1, 1, 2, 1, 1, 2, ...  \n",
       "1  [1, 0, 1, 4, 1, 1, 1, 1, 1, 1, 1, 0, 1, 1, 1, ...  \n",
       "2  [1, 1, 2, 1, 2, 3, 1, 1, 1, 1, 2, 1, 1, 1, 2, ...  \n",
       "3                                             [1, 2]  \n",
       "4                                       [1, 1, 1, 1]  "
      ]
     },
     "execution_count": 52,
     "metadata": {},
     "output_type": "execute_result"
    }
   ],
   "source": [
    "df_novel.head()"
   ]
  },
  {
   "cell_type": "code",
   "execution_count": 53,
   "metadata": {
    "collapsed": false
   },
   "outputs": [],
   "source": [
    "#this doesn't work on this novel \n",
    "#d = df_novel[df_novel['total_char']<=2]\n"
   ]
  },
  {
   "cell_type": "code",
   "execution_count": 53,
   "metadata": {
    "collapsed": true
   },
   "outputs": [],
   "source": [
    "syl_sum = []\n",
    "for l in range(0,len(df_novel)):\n",
    "    syl_sum.append(df_novel['syl_count'][l].sum())"
   ]
  },
  {
   "cell_type": "code",
   "execution_count": 54,
   "metadata": {
    "collapsed": true
   },
   "outputs": [],
   "source": [
    "df_novel['syl_sum'] = syl_sum"
   ]
  },
  {
   "cell_type": "code",
   "execution_count": 55,
   "metadata": {
    "collapsed": true
   },
   "outputs": [],
   "source": [
    "def detect_sentiment(text):\n",
    "    return TextBlob(text.decode('utf-8')).sentiment.polarity"
   ]
  },
  {
   "cell_type": "code",
   "execution_count": 56,
   "metadata": {
    "collapsed": false
   },
   "outputs": [],
   "source": [
    "df_novel['sentiment'] = df_novel[0].apply(detect_sentiment)"
   ]
  },
  {
   "cell_type": "code",
   "execution_count": 59,
   "metadata": {
    "collapsed": true
   },
   "outputs": [],
   "source": [
    "df_novel.to_csv('novel_'+novel_title+'3_2.csv', index=False)"
   ]
  },
  {
   "cell_type": "code",
   "execution_count": 60,
   "metadata": {
    "collapsed": true
   },
   "outputs": [],
   "source": [
    "#test\n",
    "df_test = pd.read_csv('novel_'+novel_title+'3_2.csv')"
   ]
  },
  {
   "cell_type": "code",
   "execution_count": 61,
   "metadata": {
    "collapsed": false
   },
   "outputs": [
    {
     "data": {
      "text/html": [
       "<div>\n",
       "<table border=\"1\" class=\"dataframe\">\n",
       "  <thead>\n",
       "    <tr style=\"text-align: right;\">\n",
       "      <th></th>\n",
       "      <th>0</th>\n",
       "      <th>wrd_length</th>\n",
       "      <th>total_char</th>\n",
       "      <th>syl_count</th>\n",
       "      <th>syl_sum</th>\n",
       "      <th>sentiment</th>\n",
       "    </tr>\n",
       "  </thead>\n",
       "  <tbody>\n",
       "    <tr>\n",
       "      <th>0</th>\n",
       "      <td>Down the Rabbit-Hole  Alice was beginning to g...</td>\n",
       "      <td>[4, 3, 11, 5, 3, 9, 2, 3, 4, 5, 2, 7, 2, 3, 6,...</td>\n",
       "      <td>256</td>\n",
       "      <td>[1 1 3 2 1 3 1 1 2 1 1 2 1 1 2 1 1 1 1 1 2 2 1...</td>\n",
       "      <td>83</td>\n",
       "      <td>-0.337778</td>\n",
       "    </tr>\n",
       "    <tr>\n",
       "      <th>1</th>\n",
       "      <td>So she was considering in her own mind (as wel...</td>\n",
       "      <td>[2, 3, 3, 11, 2, 3, 3, 4, 2, 4, 2, 3, 5, 3, 3,...</td>\n",
       "      <td>229</td>\n",
       "      <td>[1 0 1 4 1 1 1 1 1 1 1 0 1 1 1 1 1 1 1 1 2 2 1...</td>\n",
       "      <td>70</td>\n",
       "      <td>0.031250</td>\n",
       "    </tr>\n",
       "    <tr>\n",
       "      <th>2</th>\n",
       "      <td>There was nothing so VERY remarkable in that; ...</td>\n",
       "      <td>[5, 3, 7, 2, 4, 10, 2, 4, 3, 3, 5, 5, 2, 2, 4,...</td>\n",
       "      <td>109</td>\n",
       "      <td>[1 1 2 1 2 3 1 1 1 1 2 1 1 1 2 1 1 1 1 1 1 2 1...</td>\n",
       "      <td>39</td>\n",
       "      <td>0.650000</td>\n",
       "    </tr>\n",
       "    <tr>\n",
       "      <th>3</th>\n",
       "      <td>Oh dear!</td>\n",
       "      <td>[2, 4]</td>\n",
       "      <td>6</td>\n",
       "      <td>[1 2]</td>\n",
       "      <td>3</td>\n",
       "      <td>0.000000</td>\n",
       "    </tr>\n",
       "    <tr>\n",
       "      <th>4</th>\n",
       "      <td>I shall be late!'</td>\n",
       "      <td>[1, 5, 2, 4]</td>\n",
       "      <td>12</td>\n",
       "      <td>[1 1 1 1]</td>\n",
       "      <td>4</td>\n",
       "      <td>-0.375000</td>\n",
       "    </tr>\n",
       "  </tbody>\n",
       "</table>\n",
       "</div>"
      ],
      "text/plain": [
       "                                                   0  \\\n",
       "0  Down the Rabbit-Hole  Alice was beginning to g...   \n",
       "1  So she was considering in her own mind (as wel...   \n",
       "2  There was nothing so VERY remarkable in that; ...   \n",
       "3                                           Oh dear!   \n",
       "4                                  I shall be late!'   \n",
       "\n",
       "                                          wrd_length  total_char  \\\n",
       "0  [4, 3, 11, 5, 3, 9, 2, 3, 4, 5, 2, 7, 2, 3, 6,...         256   \n",
       "1  [2, 3, 3, 11, 2, 3, 3, 4, 2, 4, 2, 3, 5, 3, 3,...         229   \n",
       "2  [5, 3, 7, 2, 4, 10, 2, 4, 3, 3, 5, 5, 2, 2, 4,...         109   \n",
       "3                                             [2, 4]           6   \n",
       "4                                       [1, 5, 2, 4]          12   \n",
       "\n",
       "                                           syl_count  syl_sum  sentiment  \n",
       "0  [1 1 3 2 1 3 1 1 2 1 1 2 1 1 2 1 1 1 1 1 2 2 1...       83  -0.337778  \n",
       "1  [1 0 1 4 1 1 1 1 1 1 1 0 1 1 1 1 1 1 1 1 2 2 1...       70   0.031250  \n",
       "2  [1 1 2 1 2 3 1 1 1 1 2 1 1 1 2 1 1 1 1 1 1 2 1...       39   0.650000  \n",
       "3                                              [1 2]        3   0.000000  \n",
       "4                                          [1 1 1 1]        4  -0.375000  "
      ]
     },
     "execution_count": 61,
     "metadata": {},
     "output_type": "execute_result"
    }
   ],
   "source": [
    "df_test.head()"
   ]
  },
  {
   "cell_type": "code",
   "execution_count": 57,
   "metadata": {
    "collapsed": true
   },
   "outputs": [],
   "source": [
    "df_cluster = df_novel.drop('wrd_length', 1)"
   ]
  },
  {
   "cell_type": "code",
   "execution_count": 58,
   "metadata": {
    "collapsed": true
   },
   "outputs": [],
   "source": [
    "df_cluster = df_cluster.drop('syl_count', 1)"
   ]
  },
  {
   "cell_type": "code",
   "execution_count": 62,
   "metadata": {
    "collapsed": false
   },
   "outputs": [
    {
     "data": {
      "text/html": [
       "<div>\n",
       "<table border=\"1\" class=\"dataframe\">\n",
       "  <thead>\n",
       "    <tr style=\"text-align: right;\">\n",
       "      <th></th>\n",
       "      <th>0</th>\n",
       "      <th>total_char</th>\n",
       "      <th>syl_sum</th>\n",
       "      <th>sentiment</th>\n",
       "    </tr>\n",
       "  </thead>\n",
       "  <tbody>\n",
       "    <tr>\n",
       "      <th>0</th>\n",
       "      <td>Down the Rabbit-Hole  Alice was beginning to g...</td>\n",
       "      <td>256</td>\n",
       "      <td>83</td>\n",
       "      <td>-0.337778</td>\n",
       "    </tr>\n",
       "    <tr>\n",
       "      <th>1</th>\n",
       "      <td>So she was considering in her own mind (as wel...</td>\n",
       "      <td>229</td>\n",
       "      <td>70</td>\n",
       "      <td>0.031250</td>\n",
       "    </tr>\n",
       "    <tr>\n",
       "      <th>2</th>\n",
       "      <td>There was nothing so VERY remarkable in that; ...</td>\n",
       "      <td>109</td>\n",
       "      <td>39</td>\n",
       "      <td>0.650000</td>\n",
       "    </tr>\n",
       "    <tr>\n",
       "      <th>3</th>\n",
       "      <td>Oh dear!</td>\n",
       "      <td>6</td>\n",
       "      <td>3</td>\n",
       "      <td>0.000000</td>\n",
       "    </tr>\n",
       "    <tr>\n",
       "      <th>4</th>\n",
       "      <td>I shall be late!'</td>\n",
       "      <td>12</td>\n",
       "      <td>4</td>\n",
       "      <td>-0.375000</td>\n",
       "    </tr>\n",
       "  </tbody>\n",
       "</table>\n",
       "</div>"
      ],
      "text/plain": [
       "                                                   0  total_char  syl_sum  \\\n",
       "0  Down the Rabbit-Hole  Alice was beginning to g...         256       83   \n",
       "1  So she was considering in her own mind (as wel...         229       70   \n",
       "2  There was nothing so VERY remarkable in that; ...         109       39   \n",
       "3                                           Oh dear!           6        3   \n",
       "4                                  I shall be late!'          12        4   \n",
       "\n",
       "   sentiment  \n",
       "0  -0.337778  \n",
       "1   0.031250  \n",
       "2   0.650000  \n",
       "3   0.000000  \n",
       "4  -0.375000  "
      ]
     },
     "execution_count": 62,
     "metadata": {},
     "output_type": "execute_result"
    }
   ],
   "source": [
    "df_cluster.head()"
   ]
  },
  {
   "cell_type": "code",
   "execution_count": 63,
   "metadata": {
    "collapsed": false
   },
   "outputs": [],
   "source": [
    "X = df_cluster.drop(0, axis=1)"
   ]
  },
  {
   "cell_type": "code",
   "execution_count": 64,
   "metadata": {
    "collapsed": false
   },
   "outputs": [
    {
     "data": {
      "text/plain": [
       "KMeans(copy_x=True, init='k-means++', max_iter=300, n_clusters=20, n_init=10,\n",
       "    n_jobs=1, precompute_distances='auto', random_state=1, tol=0.0001,\n",
       "    verbose=0)"
      ]
     },
     "execution_count": 64,
     "metadata": {},
     "output_type": "execute_result"
    }
   ],
   "source": [
    "from sklearn.cluster import KMeans\n",
    "km = KMeans(n_clusters=20, random_state=1)\n",
    "km.fit(X)"
   ]
  },
  {
   "cell_type": "code",
   "execution_count": 65,
   "metadata": {
    "collapsed": false
   },
   "outputs": [
    {
     "data": {
      "text/plain": [
       "array([ 4, 18, 13, ..., 15,  2, 14], dtype=int32)"
      ]
     },
     "execution_count": 65,
     "metadata": {},
     "output_type": "execute_result"
    }
   ],
   "source": [
    "km.labels_"
   ]
  },
  {
   "cell_type": "code",
   "execution_count": 66,
   "metadata": {
    "collapsed": true
   },
   "outputs": [],
   "source": [
    "df_cluster['cluster'] = km.labels_"
   ]
  },
  {
   "cell_type": "code",
   "execution_count": 67,
   "metadata": {
    "collapsed": false
   },
   "outputs": [
    {
     "data": {
      "text/plain": [
       "array([[  4.18830409e+01,   1.30467836e+01,   6.22316471e-02],\n",
       "       [  1.67387097e+02,   5.15806452e+01,   2.44179627e-02],\n",
       "       [  4.40750000e+02,   1.36000000e+02,   5.46430517e-02],\n",
       "       [  9.72947368e+01,   2.98736842e+01,   3.16311960e-02],\n",
       "       [  2.65187500e+02,   8.21250000e+01,   1.50235615e-02],\n",
       "       [  2.99843750e+01,   9.29296875e+00,   3.46688178e-02],\n",
       "       [  7.17000000e+02,   2.27000000e+02,  -1.23884490e-02],\n",
       "       [  6.88796296e+01,   2.13981481e+01,   5.44978821e-02],\n",
       "       [  2.08761905e+02,   6.33809524e+01,   5.03011402e-02],\n",
       "       [  1.35916667e+02,   4.18666667e+01,   3.13398430e-02],\n",
       "       [  5.49931034e+01,   1.66965517e+01,   5.01170780e-03],\n",
       "       [  8.26272727e+01,   2.55363636e+01,   2.08086691e-02],\n",
       "       [  1.87419355e+01,   5.73387097e+00,   4.29044459e-03],\n",
       "       [  1.16903226e+02,   3.57096774e+01,   7.75887359e-02],\n",
       "       [  8.87700535e+00,   2.60962567e+00,  -2.10359902e-02],\n",
       "       [  5.23000000e+02,   1.52333333e+02,  -3.51587302e-02],\n",
       "       [  3.06875000e+02,   9.31250000e+01,   1.00092929e-01],\n",
       "       [  1.84366667e+02,   5.63000000e+01,  -1.66913995e-02],\n",
       "       [  2.31214286e+02,   7.05357143e+01,   3.29996564e-02],\n",
       "       [  1.51024390e+02,   4.65365854e+01,   6.50147321e-02]])"
      ]
     },
     "execution_count": 67,
     "metadata": {},
     "output_type": "execute_result"
    }
   ],
   "source": [
    "km.cluster_centers_"
   ]
  },
  {
   "cell_type": "code",
   "execution_count": 68,
   "metadata": {
    "collapsed": false
   },
   "outputs": [
    {
     "data": {
      "text/html": [
       "<div>\n",
       "<table border=\"1\" class=\"dataframe\">\n",
       "  <thead>\n",
       "    <tr style=\"text-align: right;\">\n",
       "      <th></th>\n",
       "      <th>total_char</th>\n",
       "      <th>syl_sum</th>\n",
       "      <th>sentiment</th>\n",
       "    </tr>\n",
       "    <tr>\n",
       "      <th>cluster</th>\n",
       "      <th></th>\n",
       "      <th></th>\n",
       "      <th></th>\n",
       "    </tr>\n",
       "  </thead>\n",
       "  <tbody>\n",
       "    <tr>\n",
       "      <th>0</th>\n",
       "      <td>41.883041</td>\n",
       "      <td>13.046784</td>\n",
       "      <td>0.062232</td>\n",
       "    </tr>\n",
       "    <tr>\n",
       "      <th>1</th>\n",
       "      <td>167.387097</td>\n",
       "      <td>51.580645</td>\n",
       "      <td>0.024418</td>\n",
       "    </tr>\n",
       "    <tr>\n",
       "      <th>2</th>\n",
       "      <td>440.750000</td>\n",
       "      <td>136.000000</td>\n",
       "      <td>0.054643</td>\n",
       "    </tr>\n",
       "    <tr>\n",
       "      <th>3</th>\n",
       "      <td>97.144330</td>\n",
       "      <td>29.835052</td>\n",
       "      <td>0.029713</td>\n",
       "    </tr>\n",
       "    <tr>\n",
       "      <th>4</th>\n",
       "      <td>265.187500</td>\n",
       "      <td>82.125000</td>\n",
       "      <td>0.015024</td>\n",
       "    </tr>\n",
       "    <tr>\n",
       "      <th>5</th>\n",
       "      <td>29.984375</td>\n",
       "      <td>9.292969</td>\n",
       "      <td>0.034669</td>\n",
       "    </tr>\n",
       "    <tr>\n",
       "      <th>6</th>\n",
       "      <td>717.000000</td>\n",
       "      <td>227.000000</td>\n",
       "      <td>-0.012388</td>\n",
       "    </tr>\n",
       "    <tr>\n",
       "      <th>7</th>\n",
       "      <td>68.198198</td>\n",
       "      <td>21.162162</td>\n",
       "      <td>0.047895</td>\n",
       "    </tr>\n",
       "    <tr>\n",
       "      <th>8</th>\n",
       "      <td>208.761905</td>\n",
       "      <td>63.380952</td>\n",
       "      <td>0.050301</td>\n",
       "    </tr>\n",
       "    <tr>\n",
       "      <th>9</th>\n",
       "      <td>135.916667</td>\n",
       "      <td>41.866667</td>\n",
       "      <td>0.031340</td>\n",
       "    </tr>\n",
       "    <tr>\n",
       "      <th>10</th>\n",
       "      <td>54.637681</td>\n",
       "      <td>16.579710</td>\n",
       "      <td>0.012110</td>\n",
       "    </tr>\n",
       "    <tr>\n",
       "      <th>11</th>\n",
       "      <td>82.250000</td>\n",
       "      <td>25.428571</td>\n",
       "      <td>0.018185</td>\n",
       "    </tr>\n",
       "    <tr>\n",
       "      <th>12</th>\n",
       "      <td>18.741935</td>\n",
       "      <td>5.733871</td>\n",
       "      <td>0.004290</td>\n",
       "    </tr>\n",
       "    <tr>\n",
       "      <th>13</th>\n",
       "      <td>116.903226</td>\n",
       "      <td>35.709677</td>\n",
       "      <td>0.077589</td>\n",
       "    </tr>\n",
       "    <tr>\n",
       "      <th>14</th>\n",
       "      <td>8.877005</td>\n",
       "      <td>2.609626</td>\n",
       "      <td>-0.021036</td>\n",
       "    </tr>\n",
       "    <tr>\n",
       "      <th>15</th>\n",
       "      <td>523.000000</td>\n",
       "      <td>152.333333</td>\n",
       "      <td>-0.035159</td>\n",
       "    </tr>\n",
       "    <tr>\n",
       "      <th>16</th>\n",
       "      <td>306.875000</td>\n",
       "      <td>93.125000</td>\n",
       "      <td>0.100093</td>\n",
       "    </tr>\n",
       "    <tr>\n",
       "      <th>17</th>\n",
       "      <td>184.366667</td>\n",
       "      <td>56.300000</td>\n",
       "      <td>-0.016691</td>\n",
       "    </tr>\n",
       "    <tr>\n",
       "      <th>18</th>\n",
       "      <td>231.214286</td>\n",
       "      <td>70.535714</td>\n",
       "      <td>0.033000</td>\n",
       "    </tr>\n",
       "    <tr>\n",
       "      <th>19</th>\n",
       "      <td>151.024390</td>\n",
       "      <td>46.536585</td>\n",
       "      <td>0.065015</td>\n",
       "    </tr>\n",
       "  </tbody>\n",
       "</table>\n",
       "</div>"
      ],
      "text/plain": [
       "         total_char     syl_sum  sentiment\n",
       "cluster                                   \n",
       "0         41.883041   13.046784   0.062232\n",
       "1        167.387097   51.580645   0.024418\n",
       "2        440.750000  136.000000   0.054643\n",
       "3         97.144330   29.835052   0.029713\n",
       "4        265.187500   82.125000   0.015024\n",
       "5         29.984375    9.292969   0.034669\n",
       "6        717.000000  227.000000  -0.012388\n",
       "7         68.198198   21.162162   0.047895\n",
       "8        208.761905   63.380952   0.050301\n",
       "9        135.916667   41.866667   0.031340\n",
       "10        54.637681   16.579710   0.012110\n",
       "11        82.250000   25.428571   0.018185\n",
       "12        18.741935    5.733871   0.004290\n",
       "13       116.903226   35.709677   0.077589\n",
       "14         8.877005    2.609626  -0.021036\n",
       "15       523.000000  152.333333  -0.035159\n",
       "16       306.875000   93.125000   0.100093\n",
       "17       184.366667   56.300000  -0.016691\n",
       "18       231.214286   70.535714   0.033000\n",
       "19       151.024390   46.536585   0.065015"
      ]
     },
     "execution_count": 68,
     "metadata": {},
     "output_type": "execute_result"
    }
   ],
   "source": [
    "df_cluster.groupby('cluster').mean()"
   ]
  },
  {
   "cell_type": "code",
   "execution_count": 69,
   "metadata": {
    "collapsed": true
   },
   "outputs": [],
   "source": [
    "from sklearn.preprocessing import StandardScaler\n",
    "scaler = StandardScaler()\n",
    "X_scaled = scaler.fit_transform(X)"
   ]
  },
  {
   "cell_type": "code",
   "execution_count": 70,
   "metadata": {
    "collapsed": false
   },
   "outputs": [
    {
     "data": {
      "text/plain": [
       "KMeans(copy_x=True, init='k-means++', max_iter=300, n_clusters=20, n_init=10,\n",
       "    n_jobs=1, precompute_distances='auto', random_state=1, tol=0.0001,\n",
       "    verbose=0)"
      ]
     },
     "execution_count": 70,
     "metadata": {},
     "output_type": "execute_result"
    }
   ],
   "source": [
    "km = KMeans(n_clusters=20, random_state=1)\n",
    "km.fit(X_scaled)"
   ]
  },
  {
   "cell_type": "code",
   "execution_count": 71,
   "metadata": {
    "collapsed": true
   },
   "outputs": [],
   "source": [
    "df_cluster['cluster'] = km.labels_"
   ]
  },
  {
   "cell_type": "code",
   "execution_count": 72,
   "metadata": {
    "collapsed": false
   },
   "outputs": [
    {
     "data": {
      "text/html": [
       "<div>\n",
       "<table border=\"1\" class=\"dataframe\">\n",
       "  <thead>\n",
       "    <tr style=\"text-align: right;\">\n",
       "      <th></th>\n",
       "      <th>total_char</th>\n",
       "      <th>syl_sum</th>\n",
       "      <th>sentiment</th>\n",
       "    </tr>\n",
       "    <tr>\n",
       "      <th>cluster</th>\n",
       "      <th></th>\n",
       "      <th></th>\n",
       "      <th></th>\n",
       "    </tr>\n",
       "  </thead>\n",
       "  <tbody>\n",
       "    <tr>\n",
       "      <th>0</th>\n",
       "      <td>45.286792</td>\n",
       "      <td>13.871698</td>\n",
       "      <td>0.000471</td>\n",
       "    </tr>\n",
       "    <tr>\n",
       "      <th>1</th>\n",
       "      <td>221.269231</td>\n",
       "      <td>68.461538</td>\n",
       "      <td>-0.162601</td>\n",
       "    </tr>\n",
       "    <tr>\n",
       "      <th>2</th>\n",
       "      <td>138.440000</td>\n",
       "      <td>42.720000</td>\n",
       "      <td>0.285162</td>\n",
       "    </tr>\n",
       "    <tr>\n",
       "      <th>3</th>\n",
       "      <td>476.000000</td>\n",
       "      <td>143.000000</td>\n",
       "      <td>0.016157</td>\n",
       "    </tr>\n",
       "    <tr>\n",
       "      <th>4</th>\n",
       "      <td>36.765957</td>\n",
       "      <td>11.234043</td>\n",
       "      <td>0.514696</td>\n",
       "    </tr>\n",
       "    <tr>\n",
       "      <th>5</th>\n",
       "      <td>53.466667</td>\n",
       "      <td>16.733333</td>\n",
       "      <td>-0.863611</td>\n",
       "    </tr>\n",
       "    <tr>\n",
       "      <th>6</th>\n",
       "      <td>134.804598</td>\n",
       "      <td>41.149425</td>\n",
       "      <td>-0.056712</td>\n",
       "    </tr>\n",
       "    <tr>\n",
       "      <th>7</th>\n",
       "      <td>36.655556</td>\n",
       "      <td>11.188889</td>\n",
       "      <td>-0.248228</td>\n",
       "    </tr>\n",
       "    <tr>\n",
       "      <th>8</th>\n",
       "      <td>223.033333</td>\n",
       "      <td>67.200000</td>\n",
       "      <td>0.158646</td>\n",
       "    </tr>\n",
       "    <tr>\n",
       "      <th>9</th>\n",
       "      <td>85.678571</td>\n",
       "      <td>26.232143</td>\n",
       "      <td>0.274859</td>\n",
       "    </tr>\n",
       "    <tr>\n",
       "      <th>10</th>\n",
       "      <td>85.454545</td>\n",
       "      <td>26.506494</td>\n",
       "      <td>0.008581</td>\n",
       "    </tr>\n",
       "    <tr>\n",
       "      <th>11</th>\n",
       "      <td>16.921649</td>\n",
       "      <td>5.115464</td>\n",
       "      <td>-0.000711</td>\n",
       "    </tr>\n",
       "    <tr>\n",
       "      <th>12</th>\n",
       "      <td>285.421053</td>\n",
       "      <td>87.947368</td>\n",
       "      <td>0.086619</td>\n",
       "    </tr>\n",
       "    <tr>\n",
       "      <th>13</th>\n",
       "      <td>40.583333</td>\n",
       "      <td>13.333333</td>\n",
       "      <td>0.904167</td>\n",
       "    </tr>\n",
       "    <tr>\n",
       "      <th>14</th>\n",
       "      <td>717.000000</td>\n",
       "      <td>227.000000</td>\n",
       "      <td>-0.012388</td>\n",
       "    </tr>\n",
       "    <tr>\n",
       "      <th>15</th>\n",
       "      <td>175.559322</td>\n",
       "      <td>54.084746</td>\n",
       "      <td>-0.004562</td>\n",
       "    </tr>\n",
       "    <tr>\n",
       "      <th>16</th>\n",
       "      <td>84.937500</td>\n",
       "      <td>26.656250</td>\n",
       "      <td>0.595703</td>\n",
       "    </tr>\n",
       "    <tr>\n",
       "      <th>17</th>\n",
       "      <td>89.000000</td>\n",
       "      <td>27.550000</td>\n",
       "      <td>-0.226839</td>\n",
       "    </tr>\n",
       "    <tr>\n",
       "      <th>18</th>\n",
       "      <td>48.891892</td>\n",
       "      <td>14.891892</td>\n",
       "      <td>-0.558611</td>\n",
       "    </tr>\n",
       "    <tr>\n",
       "      <th>19</th>\n",
       "      <td>37.666667</td>\n",
       "      <td>11.617284</td>\n",
       "      <td>0.223240</td>\n",
       "    </tr>\n",
       "  </tbody>\n",
       "</table>\n",
       "</div>"
      ],
      "text/plain": [
       "         total_char     syl_sum  sentiment\n",
       "cluster                                   \n",
       "0         45.286792   13.871698   0.000471\n",
       "1        221.269231   68.461538  -0.162601\n",
       "2        138.440000   42.720000   0.285162\n",
       "3        476.000000  143.000000   0.016157\n",
       "4         36.765957   11.234043   0.514696\n",
       "5         53.466667   16.733333  -0.863611\n",
       "6        134.804598   41.149425  -0.056712\n",
       "7         36.655556   11.188889  -0.248228\n",
       "8        223.033333   67.200000   0.158646\n",
       "9         85.678571   26.232143   0.274859\n",
       "10        85.454545   26.506494   0.008581\n",
       "11        16.921649    5.115464  -0.000711\n",
       "12       285.421053   87.947368   0.086619\n",
       "13        40.583333   13.333333   0.904167\n",
       "14       717.000000  227.000000  -0.012388\n",
       "15       175.559322   54.084746  -0.004562\n",
       "16        84.937500   26.656250   0.595703\n",
       "17        89.000000   27.550000  -0.226839\n",
       "18        48.891892   14.891892  -0.558611\n",
       "19        37.666667   11.617284   0.223240"
      ]
     },
     "execution_count": 72,
     "metadata": {},
     "output_type": "execute_result"
    }
   ],
   "source": [
    "df_cluster.groupby('cluster').mean()"
   ]
  },
  {
   "cell_type": "code",
   "execution_count": 73,
   "metadata": {
    "collapsed": true
   },
   "outputs": [],
   "source": [
    "centers = df_cluster.groupby('cluster').mean()"
   ]
  },
  {
   "cell_type": "code",
   "execution_count": 74,
   "metadata": {
    "collapsed": true
   },
   "outputs": [],
   "source": [
    "colors = np.array(['#999999', '#0000ff', '#4d4d4d', '#0000b2', '#8833ff', '#333333', '#4412b2', '#808080', '#33a3ff', '#124cb2', '#666666', '#39b54a','#21682b', '#64c1b5', '#2b6855', '#91c164', '#40682b', '#3fa9f5', '#7cc3f5','#badcf5'])"
   ]
  },
  {
   "cell_type": "code",
   "execution_count": 75,
   "metadata": {
    "collapsed": false
   },
   "outputs": [
    {
     "data": {
      "text/plain": [
       "<matplotlib.text.Text at 0x11cc01ad0>"
      ]
     },
     "execution_count": 75,
     "metadata": {},
     "output_type": "execute_result"
    },
    {
     "data": {
      "image/png": "[encoded data removed]",
      "text/plain": [
       "<matplotlib.figure.Figure at 0x118b68710>"
      ]
     },
     "metadata": {},
     "output_type": "display_data"
    }
   ],
   "source": [
    "# scatter plot of calories versus alcohol, colored by cluster (0=red, 1=green, 2=blue)\n",
    "plt.scatter(df_cluster.syl_sum, df_cluster.sentiment, c=colors[df_cluster.cluster], s=50)\n",
    "\n",
    "# cluster centers, marked by \"+\"\n",
    "plt.scatter(centers.syl_sum, centers.sentiment, linewidths=3, marker='+', s=300, c='black')\n",
    "\n",
    "# add labels\n",
    "plt.xlabel('syl_sum')\n",
    "plt.ylabel('sentiment')"
   ]
  },
  {
   "cell_type": "code",
   "execution_count": 96,
   "metadata": {
    "collapsed": false
   },
   "outputs": [
    {
     "data": {
      "text/plain": [
       "0.54134986452091804"
      ]
     },
     "execution_count": 96,
     "metadata": {},
     "output_type": "execute_result"
    }
   ],
   "source": [
    "from sklearn import metrics\n",
    "metrics.silhouette_score(X_scaled, km.labels_)"
   ]
  },
  {
   "cell_type": "code",
   "execution_count": 97,
   "metadata": {
    "collapsed": false
   },
   "outputs": [],
   "source": [
    "k_range = range(2,150)\n",
    "scores = []\n",
    "for k in k_range:\n",
    "    km = KMeans(n_clusters=k, random_state=1)\n",
    "    km.fit(X_scaled)\n",
    "    scores.append(metrics.silhouette_score(X_scaled, km.labels_))"
   ]
  },
  {
   "cell_type": "code",
   "execution_count": 98,
   "metadata": {
    "collapsed": false
   },
   "outputs": [
    {
     "data": {
      "image/png": "[encoded data removed]",
      "text/plain": [
       "<matplotlib.figure.Figure at 0x119329390>"
      ]
     },
     "metadata": {},
     "output_type": "display_data"
    }
   ],
   "source": [
    "plt.plot(k_range, scores)\n",
    "plt.xlabel('Number of clusters')\n",
    "plt.ylabel('Silihouette Coefficient')\n",
    "plt.grid(True)"
   ]
  },
  {
   "cell_type": "code",
   "execution_count": 100,
   "metadata": {
    "collapsed": false
   },
   "outputs": [],
   "source": [
    "c_14 = df_cluster[df_cluster['cluster']==14]"
   ]
  },
  {
   "cell_type": "code",
   "execution_count": 101,
   "metadata": {
    "collapsed": false
   },
   "outputs": [
    {
     "name": "stdout",
     "output_type": "stream",
     "text": [
      "Hardly knowing what she did, she picked up a little bit of stick, and held it out to the puppy; whereupon the puppy jumped into the air off all its feet at once, with a yelp of delight, and rushed at the stick, and made believe to worry it; then Alice dodged behind a great thistle, to keep herself from being run over; and the moment she appeared on the other side, the puppy made another rush at the stick, and tumbled head over heels in its hurry to get hold of it; then Alice, thinking it was very like having a game of play with a cart-horse, and expecting every moment to be trampled under its feet, ran round the thistle again; then the puppy began a series of short charges at the stick, running a very little way forwards each time and a long way back, and barking hoarsely all the while, till at last it sat down a good way off, panting, with its tongue hanging out of its mouth, and its great eyes half shut.\n",
      "***\n",
      "The chief difficulty Alice found at first was in managing her flamingo: she succeeded in getting its body tucked away, comfortably enough, under her arm, with its legs hanging down, but generally, just as she had got its neck nicely straightened out, and was going to give the hedgehog a blow with its head, it WOULD twist itself round and look up in her face, with such a puzzled expression that she could not help bursting out laughing: and when she had got its head down, and was going to begin again, it was very provoking to find that the hedgehog had unrolled itself, and was in the act of crawling away: besides all this, there was generally a ridge or furrow in the way wherever she wanted to send the hedgehog to, and, as the doubled-up soldiers were always getting up and walking off to other parts of the ground, Alice soon came to the conclusion that it was a very difficult game indeed.\n",
      "***\n"
     ]
    }
   ],
   "source": [
    "for x in c_14[0]:\n",
    "    print x\n",
    "    print '***'"
   ]
  },
  {
   "cell_type": "code",
   "execution_count": 103,
   "metadata": {
    "collapsed": false
   },
   "outputs": [],
   "source": [
    "c_11 = df_cluster[df_cluster['cluster'] ==11]\n"
   ]
  },
  {
   "cell_type": "code",
   "execution_count": 105,
   "metadata": {
    "collapsed": false
   },
   "outputs": [
    {
     "name": "stdout",
     "output_type": "stream",
     "text": [
      "Oh dear!\n",
      "****\n",
      "'Well!'\n",
      "****\n",
      "Down, down, down.\n",
      "****\n",
      "Would the fall NEVER come to an end!\n",
      "****\n",
      "she said aloud.\n",
      "****\n",
      "Presently she began again.\n",
      "****\n",
      "Do you think you could manage it?)\n",
      "****\n",
      "Down, down, down.\n",
      "****\n",
      "(Dinah was the cat.)\n",
      "****\n",
      "Dinah my dear!\n",
      "****\n",
      "But do cats eat bats, I wonder?'\n",
      "****\n",
      "Do cats eat bats?'\n",
      "****\n",
      "and sometimes, 'Do bats eat cats?'\n",
      "****\n",
      "when suddenly, thump!\n",
      "****\n",
      "thump!\n",
      "****\n",
      "*    *    *    *    *    *    *      *    *    *    *    *    *    *    *    *    *    *    *    *  'What a curious feeling!'\n",
      "****\n",
      "I wonder what I should be like then?'\n",
      "****\n",
      "Which way?\n",
      "****\n",
      "*    *    *    *    *    *    *      *    *    *    *    *    *    *    *    *    *    *    *    *     CHAPTER II.\n",
      "****\n",
      "Good-bye, feet!'\n",
      "****\n",
      "Oh dear, what nonsense I'm talking!'\n",
      "****\n",
      "Stop this moment, I tell you!'\n",
      "****\n",
      "the Duchess, the Duchess!\n",
      "****\n",
      "Oh!\n",
      "****\n",
      "How queer everything is to-day!\n",
      "****\n",
      "I must have been changed for Mabel!\n",
      "****\n",
      "'How CAN I have done that?'\n",
      "****\n",
      "she thought.\n",
      "****\n",
      "she was up to her chin in salt water.\n",
      "****\n",
      "So she began again: 'Ou est ma chatte?'\n",
      "****\n",
      "'Oh, I beg your pardon!'\n",
      "****\n",
      "'I quite forgot you didn't like cats.'\n",
      "****\n",
      "'Not like cats!'\n",
      "****\n",
      "'Would YOU like cats if you were me?'\n",
      "****\n",
      "'We indeed!'\n",
      "****\n",
      "'As if I would talk on such a subject!\n",
      "****\n",
      "Don't let me hear the name again!'\n",
      "****\n",
      "'I won't indeed!'\n",
      "****\n",
      "'Are you--are you fond--of--of dogs?'\n",
      "****\n",
      "CHAPTER III.\n",
      "****\n",
      "I'LL soon make you dry enough!'\n",
      "****\n",
      "'Ahem!'\n",
      "****\n",
      "This is the driest thing I know.\n",
      "****\n",
      "said the Lory, with a shiver.\n",
      "****\n",
      "'I beg your pardon!'\n",
      "****\n",
      "'Not I!'\n",
      "****\n",
      "said the Lory hastily.\n",
      "****\n",
      "'I thought you did,' said the Mouse. '\n",
      "****\n",
      "--I proceed.\n",
      "****\n",
      "said the Duck.\n",
      "****\n",
      "said the Eaglet.\n",
      "****\n",
      "'What IS a Caucus-race?'\n",
      "****\n",
      "'But who is to give the prizes?'\n",
      "****\n",
      "quite a chorus of voices asked.\n",
      "****\n",
      "Prizes!'\n",
      "****\n",
      "'What else have you got in your pocket?'\n",
      "****\n",
      "he went on, turning to Alice.\n",
      "****\n",
      "'Hand it over here,' said the Dodo.\n",
      "****\n",
      "'You are not attending!'\n",
      "****\n",
      "said the Mouse to Alice severely.\n",
      "****\n",
      "'What are you thinking of?'\n",
      "****\n",
      "'I had NOT!'\n",
      "****\n",
      "'A knot!'\n",
      "****\n",
      "'Oh, do let me help to undo it!'\n",
      "****\n",
      "The Mouse only growled in reply.\n",
      "****\n",
      "'What a pity it wouldn't stay!'\n",
      "****\n",
      "'Hold your tongue, Ma!'\n",
      "****\n",
      "'She'd soon fetch it back!'\n",
      "****\n",
      "said the Lory.\n",
      "****\n",
      "'I wish I hadn't mentioned Dinah!'\n",
      "****\n",
      "Oh, my dear Dinah!\n",
      "****\n",
      "CHAPTER IV.\n",
      "****\n",
      "The Duchess!\n",
      "****\n",
      "Oh my dear paws!\n",
      "****\n",
      "Oh my fur and whiskers!\n",
      "****\n",
      "Where CAN I have dropped them, I wonder?'\n",
      "****\n",
      "RABBIT' engraved upon it.\n",
      "****\n",
      "\"Coming in a minute, nurse!\n",
      "****\n",
      "What WILL become of me?'\n",
      "****\n",
      "Oh, I shouldn't like THAT!'\n",
      "****\n",
      "'Oh, you foolish Alice!'\n",
      "****\n",
      "she answered herself.\n",
      "****\n",
      "'How can you learn lessons in here?\n",
      "****\n",
      "'Mary Ann!\n",
      "****\n",
      "Mary Ann!'\n",
      "****\n",
      "said the voice.\n",
      "****\n",
      "'Fetch me my gloves this moment!'\n",
      "****\n",
      "Pat!\n",
      "****\n",
      "Where are you?'\n",
      "****\n",
      "Digging for apples, yer honour!'\n",
      "****\n",
      "'Digging for apples, indeed!'\n",
      "****\n",
      "'Here!\n",
      "****\n",
      "Come and help me out of THIS!'\n",
      "****\n",
      "(Sounds of more broken glass.)\n",
      "****\n",
      "(He pronounced it 'arrum.')\n",
      "****\n",
      "'An arm, you goose!\n",
      "****\n",
      "Who ever saw one that size?\n",
      "****\n",
      "'Do as I tell you, you coward!'\n",
      "****\n",
      "thought Alice.\n",
      "****\n",
      "'I wonder what they'll do next!\n",
      "****\n",
      "Heads below!'\n",
      "****\n",
      "'Oh!\n",
      "****\n",
      "said Alice to herself.\n",
      "****\n",
      "What happened to you?\n",
      "****\n",
      "Tell us all about it!'\n",
      "****\n",
      "'So you did, old fellow!'\n",
      "****\n",
      "said the others.\n",
      "****\n",
      "I'll set Dinah at you!'\n",
      "****\n",
      "'A barrowful of WHAT?'\n",
      "****\n",
      "Oh dear!\n",
      "****\n",
      "Let me see--how IS it to be managed?\n",
      "****\n",
      "'Who are YOU?'\n",
      "****\n",
      "said the Caterpillar.\n",
      "****\n",
      "said the Caterpillar sternly.\n",
      "****\n",
      "'Explain yourself!'\n",
      "****\n",
      "'I don't see,' said the Caterpillar.\n",
      "****\n",
      "'It isn't,' said the Caterpillar.\n",
      "****\n",
      "'Not a bit,' said the Caterpillar.\n",
      "****\n",
      "'You!'\n",
      "****\n",
      "'Who are YOU?'\n",
      "****\n",
      "'Why?'\n",
      "****\n",
      "said the Caterpillar.\n",
      "****\n",
      "'Come back!'\n",
      "****\n",
      "the Caterpillar called after her.\n",
      "****\n",
      "'Is that all?'\n",
      "****\n",
      "'No,' said the Caterpillar.\n",
      "****\n",
      "'Can't remember WHAT things?'\n",
      "****\n",
      "said the Caterpillar.\n",
      "****\n",
      "'What size do you want to be?'\n",
      "****\n",
      "it asked.\n",
      "****\n",
      "'I DON'T know,' said the Caterpillar.\n",
      "****\n",
      "'Are you content now?'\n",
      "****\n",
      "said the Caterpillar.\n",
      "****\n",
      "'But I'm not used to it!'\n",
      "****\n",
      "'One side of WHAT?\n",
      "****\n",
      "The other side of WHAT?'\n",
      "****\n",
      "thought Alice to herself.\n",
      "****\n",
      "'And now which is which?'\n",
      "****\n",
      "said Alice.\n",
      "****\n",
      "'And where HAVE my shoulders got to?\n",
      "****\n",
      "'Serpent!'\n",
      "****\n",
      "screamed the Pigeon.\n",
      "****\n",
      "'I'm NOT a serpent!'\n",
      "****\n",
      "said Alice indignantly.\n",
      "****\n",
      "'Let me alone!'\n",
      "****\n",
      "'Serpent, I say again!'\n",
      "****\n",
      "There's no pleasing them!'\n",
      "****\n",
      "Ugh, Serpent!'\n",
      "****\n",
      "'But I'm NOT a serpent, I tell you!'\n",
      "****\n",
      "said Alice.\n",
      "****\n",
      "'I'm a--I'm a--'  'Well!\n",
      "****\n",
      "WHAT are you?'\n",
      "****\n",
      "said the Pigeon.\n",
      "****\n",
      "'A likely story indeed!'\n",
      "****\n",
      "No, no!\n",
      "****\n",
      "'Well, be off, then!'\n",
      "****\n",
      "How puzzling all these changes are!\n",
      "****\n",
      "CHAPTER VI.\n",
      "****\n",
      "she repeated, aloud.\n",
      "****\n",
      "'How am I to get in?'\n",
      "****\n",
      "asked Alice again, in a louder tone.\n",
      "****\n",
      "'ARE you to get in at all?'\n",
      "****\n",
      "said the Footman.\n",
      "****\n",
      "'But what am I to do?'\n",
      "****\n",
      "said Alice.\n",
      "****\n",
      "And she opened the door and went in.\n",
      "****\n",
      "Pig!'\n",
      "****\n",
      "'Oh, PLEASE mind what you're doing!'\n",
      "****\n",
      "CHORUS.\n",
      "****\n",
      "wow!\n",
      "****\n",
      "wow!'\n",
      "****\n",
      "CHORUS.\n",
      "****\n",
      "'Wow!\n",
      "****\n",
      "wow!\n",
      "****\n",
      "wow!'\n",
      "****\n",
      "'Here!\n",
      "****\n",
      "you may nurse it a bit, if you like!'\n",
      "****\n",
      "No, there were no tears.\n",
      "****\n",
      "Mind now!'\n",
      "****\n",
      "said Alice.\n",
      "****\n",
      "You grant that?'\n",
      "****\n",
      "'I suppose so,' said Alice.\n",
      "****\n",
      "'Call it what you like,' said the Cat.\n",
      "****\n",
      "'By-the-bye, what became of the baby?'\n",
      "****\n",
      "said the Cat.\n",
      "****\n",
      "'I'd nearly forgotten to ask.'\n",
      "****\n",
      "'Did you say pig, or fig?'\n",
      "****\n",
      "said the Cat.\n",
      "****\n",
      "'Well!\n",
      "****\n",
      "CHAPTER VII.\n",
      "****\n",
      "No room!'\n",
      "****\n",
      "'There's PLENTY of room!'\n",
      "****\n",
      "'I don't see any wine,' she remarked.\n",
      "****\n",
      "'There isn't any,' said the March Hare.\n",
      "****\n",
      "thought Alice.\n",
      "****\n",
      "said the March Hare.\n",
      "****\n",
      "'Not the same thing a bit!'\n",
      "****\n",
      "said the Hatter.\n",
      "****\n",
      "'What day of the month is it?'\n",
      "****\n",
      "sighed the Hatter.\n",
      "****\n",
      "she remarked.\n",
      "****\n",
      "'Why should it?'\n",
      "****\n",
      "muttered the Hatter.\n",
      "****\n",
      "'Have you guessed the riddle yet?'\n",
      "****\n",
      "'Nor I,' said the March Hare.\n",
      "****\n",
      "Alice sighed wearily.\n",
      "****\n",
      "It's HIM.'\n",
      "****\n",
      "'Of course you don't!'\n",
      "****\n",
      "'Ah!\n",
      "****\n",
      "that accounts for it,' said the Hatter.\n",
      "****\n",
      "'He won't stand beating.\n",
      "****\n",
      "Half-past one, time for dinner!'\n",
      "****\n",
      "'Is that the way YOU manage?'\n",
      "****\n",
      "Alice asked.\n",
      "****\n",
      "'Not I!'\n",
      "****\n",
      "he replied.\n",
      "****\n",
      "How I wonder what you're at!\"\n",
      "****\n",
      "You know the song, perhaps?'\n",
      "****\n",
      "Off with his head!\"'\n",
      "****\n",
      "exclaimed Alice.\n",
      "****\n",
      "It's always six o'clock now.'\n",
      "****\n",
      "she asked.\n",
      "****\n",
      "said Alice.\n",
      "****\n",
      "Alice ventured to ask.\n",
      "****\n",
      "'Then the Dormouse shall!'\n",
      "****\n",
      "they both cried.\n",
      "****\n",
      "'Wake up, Dormouse!'\n",
      "****\n",
      "'Tell us a story!'\n",
      "****\n",
      "said the March Hare.\n",
      "****\n",
      "'Yes, please do!'\n",
      "****\n",
      "pleaded Alice.\n",
      "****\n",
      "'Who's making personal remarks now?'\n",
      "****\n",
      "the Hatter asked triumphantly.\n",
      "****\n",
      "'There's no such thing!'\n",
      "****\n",
      "sh!'\n",
      "****\n",
      "'No, please go on!'\n",
      "****\n",
      "I dare say there may be ONE.'\n",
      "****\n",
      "'One, indeed!'\n",
      "****\n",
      "said the Dormouse indignantly.\n",
      "****\n",
      "However, he consented to go on.\n",
      "****\n",
      "Where did they draw the treacle from?'\n",
      "****\n",
      "said Alice.\n",
      "****\n",
      "'Why not?'\n",
      "****\n",
      "said the March Hare.\n",
      "****\n",
      "Alice was silent.\n",
      "****\n",
      "she thought.\n",
      "****\n",
      "'But everything's curious today.\n",
      "****\n",
      "I think I may as well go in at once.'\n",
      "****\n",
      "And in she went.\n",
      "****\n",
      "CHAPTER VIII.\n",
      "****\n",
      "Always lay the blame on others!'\n",
      "****\n",
      "said Five.\n",
      "****\n",
      "'What for?'\n",
      "****\n",
      "'That's none of YOUR business, Two!'\n",
      "****\n",
      "said Seven.\n",
      "****\n",
      "'Yes, it IS his business!'\n",
      "****\n",
      "The Queen!'\n",
      "****\n",
      "So she stood still where she was, and waited.\n",
      "****\n",
      "'And who are THESE?'\n",
      "****\n",
      "'How should I know?'\n",
      "****\n",
      "'It's no business of MINE.'\n",
      "****\n",
      "Off--'  'Nonsense!'\n",
      "****\n",
      "'Get up!'\n",
      "****\n",
      "'Leave off that!'\n",
      "****\n",
      "screamed the Queen.\n",
      "****\n",
      "'You make me giddy.'\n",
      "****\n",
      "'Off with their heads!'\n",
      "****\n",
      "'You shan't be beheaded!'\n",
      "****\n",
      "'Are their heads off?'\n",
      "****\n",
      "shouted the Queen.\n",
      "****\n",
      "the soldiers shouted in reply.\n",
      "****\n",
      "shouted the Queen.\n",
      "****\n",
      "'Can you play croquet?'\n",
      "****\n",
      "'Yes!'\n",
      "****\n",
      "shouted Alice.\n",
      "****\n",
      "'Come on, then!'\n",
      "****\n",
      "said a timid voice at her side.\n",
      "****\n",
      "'Hush!\n",
      "****\n",
      "Hush!'\n",
      "****\n",
      "'What for?'\n",
      "****\n",
      "said Alice.\n",
      "****\n",
      "'Did you say \"What a pity!\"?'\n",
      "****\n",
      "the Rabbit asked.\n",
      "****\n",
      "I said \"What for?\"'\n",
      "****\n",
      "'Oh, hush!'\n",
      "****\n",
      "'The Queen will hear you!\n",
      "****\n",
      "or 'Off with her head!'\n",
      "****\n",
      "about once in a minute.\n",
      "****\n",
      "'How are you getting on?'\n",
      "****\n",
      "'How do you like the Queen?'\n",
      "****\n",
      "said the Cat in a low voice.\n",
      "****\n",
      "'Who ARE you talking to?'\n",
      "****\n",
      "'I'd rather not,' the Cat remarked.\n",
      "****\n",
      "'A cat may look at a king,' said Alice.\n",
      "****\n",
      "I wish you would have this cat removed!'\n",
      "****\n",
      "'Off with his head!'\n",
      "****\n",
      "CHAPTER IX.\n",
      "****\n",
      "'Tut, tut, child!'\n",
      "****\n",
      "said the Duchess.\n",
      "****\n",
      "'Ah, well!\n",
      "****\n",
      "Alice thought to herself.\n",
      "****\n",
      "Shall I try the experiment?'\n",
      "****\n",
      "'It's a mineral, I THINK,' said Alice.\n",
      "****\n",
      "'Oh, I know!'\n",
      "****\n",
      "It doesn't look like one, but it is.'\n",
      "****\n",
      "said the Duchess.\n",
      "****\n",
      "thought Alice.\n",
      "****\n",
      "'Thinking again?'\n",
      "****\n",
      "Take your choice!'\n",
      "****\n",
      "or 'Off with her head!'\n",
      "****\n",
      "'No,' said Alice.\n",
      "****\n",
      "said Alice.\n",
      "****\n",
      "'Why, SHE,' said the Gryphon.\n",
      "****\n",
      "Come on!'\n",
      "****\n",
      "'Everybody says \"come on!\"\n",
      "****\n",
      "She pitied him deeply.\n",
      "****\n",
      "'What is his sorrow?'\n",
      "****\n",
      "Come on!'\n",
      "****\n",
      "But she waited patiently.\n",
      "****\n",
      "Alice asked.\n",
      "****\n",
      "Don't be all day about it!'\n",
      "****\n",
      "interrupted Alice.\n",
      "****\n",
      "'You did,' said the Mock Turtle.\n",
      "****\n",
      "'Hold your tongue!'\n",
      "****\n",
      "The Mock Turtle went on.\n",
      "****\n",
      "'With extras?'\n",
      "****\n",
      "'And washing?'\n",
      "****\n",
      "said the Mock Turtle.\n",
      "****\n",
      "'Certainly not!'\n",
      "****\n",
      "said Alice indignantly.\n",
      "****\n",
      "'Ah!\n",
      "****\n",
      "'I couldn't afford to learn it.'\n",
      "****\n",
      "said the Mock Turtle with a sigh.\n",
      "****\n",
      "'I only took the regular course.'\n",
      "****\n",
      "'What was that?'\n",
      "****\n",
      "inquired Alice.\n",
      "****\n",
      "'What is it?'\n",
      "****\n",
      "'What!\n",
      "****\n",
      "Never heard of uglifying!'\n",
      "****\n",
      "it exclaimed.\n",
      "****\n",
      "'What was THAT like?'\n",
      "****\n",
      "said Alice.\n",
      "****\n",
      "And the Gryphon never learnt it.'\n",
      "****\n",
      "He was an old crab, HE was.'\n",
      "****\n",
      "'What a curious plan!'\n",
      "****\n",
      "exclaimed Alice.\n",
      "****\n",
      "'Of course it was,' said the Mock Turtle.\n",
      "****\n",
      "'And how did you manage on the twelfth?'\n",
      "****\n",
      "Alice went on eagerly.\n",
      "****\n",
      "CHAPTER X.\n",
      "****\n",
      "'No, indeed,' said Alice.\n",
      "****\n",
      "'What sort of a dance is it?'\n",
      "****\n",
      "cried the Mock Turtle.\n",
      "****\n",
      "cried the Gryphon.\n",
      "****\n",
      "screamed the Gryphon.\n",
      "****\n",
      "'Turn a somersault in the sea!'\n",
      "****\n",
      "'Change lobsters again!'\n",
      "****\n",
      "said the Mock Turtle.\n",
      "****\n",
      "said the Mock Turtle to the Gryphon.\n",
      "****\n",
      "'We can do without lobsters, you know.\n",
      "****\n",
      "Which shall sing?'\n",
      "****\n",
      "'Oh, YOU sing,' said the Gryphon.\n",
      "****\n",
      "'I've forgotten the words.'\n",
      "****\n",
      "said a whiting to a snail.\n",
      "****\n",
      "'\"What matters it how far we go?\"\n",
      "****\n",
      "his scaly friend replied.\n",
      "****\n",
      "So they got thrown out to sea.\n",
      "****\n",
      "So they had to fall a long way.\n",
      "****\n",
      "So they couldn't get them out again.\n",
      "****\n",
      "That's all.'\n",
      "****\n",
      "'Do you know why it's called a whiting?'\n",
      "****\n",
      "'Why?'\n",
      "****\n",
      "'IT DOES THE BOOTS AND SHOES.'\n",
      "****\n",
      "Alice was thoroughly puzzled.\n",
      "****\n",
      "'Does the boots and shoes!'\n",
      "****\n",
      "she repeated in a wondering tone.\n",
      "****\n",
      "'Why, what are YOUR shoes done with?'\n",
      "****\n",
      "said the Gryphon.\n",
      "****\n",
      "'They're done with blacking, I believe.'\n",
      "****\n",
      "Now you know.'\n",
      "****\n",
      "'And what are they made of?'\n",
      "****\n",
      "said Alice.\n",
      "****\n",
      "'Explain all that,' said the Mock Turtle.\n",
      "****\n",
      "'No, no!\n",
      "****\n",
      "'It all came different!'\n",
      "****\n",
      "Tell her to begin.'\n",
      "****\n",
      "'Go on with the next verse.'\n",
      "****\n",
      "'But about his toes?'\n",
      "****\n",
      "the Mock Turtle persisted.\n",
      "****\n",
      "the Gryphon went on.\n",
      "****\n",
      "No accounting for tastes!\n",
      "****\n",
      "Who for such dainties would not stoop?\n",
      "****\n",
      "Beau--ootiful Soo--oop!\n",
      "****\n",
      "Beau--ootiful Soo--oop!\n",
      "****\n",
      "Beau--ootiful Soo--oop!\n",
      "****\n",
      "Beau--ootiful Soo--oop!\n",
      "****\n",
      "'Chorus again!'\n",
      "****\n",
      "was heard in the distance.\n",
      "****\n",
      "'Come on!'\n",
      "****\n",
      "'What trial is it?'\n",
      "****\n",
      "CHAPTER XI.\n",
      "****\n",
      "Who Stole the Tarts?\n",
      "****\n",
      "'What are they doing?'\n",
      "****\n",
      "Alice whispered to the Gryphon.\n",
      "****\n",
      "thought Alice.\n",
      "****\n",
      "'Herald, read the accusation!'\n",
      "****\n",
      "said the King.\n",
      "****\n",
      "'Not yet, not yet!'\n",
      "****\n",
      "the Rabbit hastily interrupted.\n",
      "****\n",
      "'When did you begin?'\n",
      "****\n",
      "'Fifteenth,' said the March Hare.\n",
      "****\n",
      "'Sixteenth,' added the Dormouse.\n",
      "****\n",
      "'It isn't mine,' said the Hatter.\n",
      "****\n",
      "'Stolen!'\n",
      "****\n",
      "I'm a hatter.'\n",
      "****\n",
      "'I wish you wouldn't squeeze so.'\n",
      "****\n",
      "said the King.\n",
      "****\n",
      "'Of course twinkling begins with a T!'\n",
      "****\n",
      "said the King sharply.\n",
      "****\n",
      "'Do you take me for a dunce?\n",
      "****\n",
      "Go on!'\n",
      "****\n",
      "'You did!'\n",
      "****\n",
      "said the Hatter.\n",
      "****\n",
      "'I deny it!'\n",
      "****\n",
      "said the March Hare.\n",
      "****\n",
      "one of the jury asked.\n",
      "****\n",
      "'Come, that finished the guinea-pigs!'\n",
      "****\n",
      "thought Alice.\n",
      "****\n",
      "'Call the next witness!'\n",
      "****\n",
      "said the King.\n",
      "****\n",
      "'Give your evidence,' said the King.\n",
      "****\n",
      "'Shan't,' said the cook.\n",
      "****\n",
      "'Behead that Dormouse!\n",
      "****\n",
      "Turn that Dormouse out of court!\n",
      "****\n",
      "Suppress him!\n",
      "****\n",
      "Pinch him!\n",
      "****\n",
      "Off with his whiskers!'\n",
      "****\n",
      "'Never mind!'\n",
      "****\n",
      "'Call the next witness.'\n",
      "****\n",
      "It quite makes my forehead ache!'\n",
      "****\n",
      "CHAPTER XII.\n",
      "****\n",
      "Alice's Evidence   'Here!'\n",
      "****\n",
      "'Oh, I BEG your pardon!'\n",
      "****\n",
      "the King said to Alice.\n",
      "****\n",
      "'Nothing,' said Alice.\n",
      "****\n",
      "'Nothing WHATEVER?'\n",
      "****\n",
      "persisted the King.\n",
      "****\n",
      "'Nothing whatever,' said Alice.\n",
      "****\n",
      "Everybody looked at Alice.\n",
      "****\n",
      "'You are,' said the King.\n",
      "****\n",
      "'What's in it?'\n",
      "****\n",
      "said the Queen.\n",
      "****\n",
      "'Who is it directed to?'\n",
      "****\n",
      "said one of the jurymen.\n",
      "****\n",
      "asked another of the jurymen.\n",
      "****\n",
      "(The jury all looked puzzled.)\n",
      "****\n",
      "(The jury all brightened up again.)\n",
      "****\n",
      "said Alice.\n",
      "****\n",
      "'Read them,' said the King.\n",
      "****\n",
      "The White Rabbit put on his spectacles.\n",
      "****\n",
      "he asked.\n",
      "****\n",
      "he added, turning to the Knave.\n",
      "****\n",
      "'Do I look like it?'\n",
      "****\n",
      "he said.\n",
      "****\n",
      "'Why, there they are!'\n",
      "****\n",
      "'Nothing can be clearer than THAT.\n",
      "****\n",
      "he said to the Queen.\n",
      "****\n",
      "'Never!'\n",
      "****\n",
      "'It's a pun!'\n",
      "****\n",
      "'No, no!'\n",
      "****\n",
      "said the Queen.\n",
      "****\n",
      "'Sentence first--verdict afterwards.'\n",
      "****\n",
      "'Stuff and nonsense!'\n",
      "****\n",
      "said Alice loudly.\n",
      "****\n",
      "'Hold your tongue!'\n",
      "****\n",
      "said the Queen, turning purple.\n",
      "****\n",
      "'I won't!'\n",
      "****\n",
      "said Alice.\n",
      "****\n",
      "'Off with her head!'\n",
      "****\n",
      "Nobody moved.\n",
      "****\n",
      "'Who cares for you?'\n",
      "****\n",
      "'You're nothing but a pack of cards!'\n",
      "****\n",
      "'Wake up, Alice dear!'\n",
      "****\n",
      "'Oh, I've had such a curious dream!'\n",
      "****\n",
      "THE END     \n",
      "****\n"
     ]
    }
   ],
   "source": [
    "for x in c_11[0]:\n",
    "    print x\n",
    "    print '****'"
   ]
  },
  {
   "cell_type": "code",
   "execution_count": 106,
   "metadata": {
    "collapsed": true
   },
   "outputs": [],
   "source": [
    "colors = np.array(['#999999', '#0000ff', '#4d4d4d', '#0000b2', '#8833ff', '#333333', '#4412b2', '#808080', '#33a3ff', '#124cb2', '#666666', '#39b54a','#21682b', '#64c1b5', '#2b6855', '#91c164', '#40682b', '#3fa9f5', '#7cc3f5','#badcf5'])"
   ]
  },
  {
   "cell_type": "code",
   "execution_count": 107,
   "metadata": {
    "collapsed": false
   },
   "outputs": [
    {
     "data": {
      "text/plain": [
       "<matplotlib.text.Text at 0x103ec5090>"
      ]
     },
     "execution_count": 107,
     "metadata": {},
     "output_type": "execute_result"
    },
    {
     "data": {
      "image/png": "[encoded data removed]",
      "text/plain": [
       "<matplotlib.figure.Figure at 0x103eaf710>"
      ]
     },
     "metadata": {},
     "output_type": "display_data"
    }
   ],
   "source": [
    "# scatter plot of calories versus alcohol, colored by cluster (0=red, 1=green, 2=blue)\n",
    "plt.scatter(df_cluster.syl_sum, df_cluster.sentiment, c=colors[df_cluster.cluster], s=50)\n",
    "\n",
    "# cluster centers, marked by \"+\"\n",
    "plt.scatter(centers.syl_sum, centers.sentiment, linewidths=3, marker='+', s=300, c='black')\n",
    "\n",
    "# add labels\n",
    "plt.xlabel('syl_sum')\n",
    "plt.ylabel('sentiment')"
   ]
  },
  {
   "cell_type": "code",
   "execution_count": 108,
   "metadata": {
    "collapsed": false
   },
   "outputs": [
    {
     "name": "stdout",
     "output_type": "stream",
     "text": [
      "265\n",
      "26\n",
      "50\n",
      "7\n",
      "47\n",
      "15\n",
      "87\n",
      "90\n",
      "30\n",
      "56\n",
      "154\n",
      "485\n",
      "19\n",
      "24\n",
      "2\n",
      "59\n",
      "32\n",
      "60\n",
      "37\n",
      "81\n"
     ]
    }
   ],
   "source": [
    "for x in range(0,20):\n",
    "    print len(df_cluster[df_cluster['cluster'] == x])"
   ]
  },
  {
   "cell_type": "code",
   "execution_count": 110,
   "metadata": {
    "collapsed": false
   },
   "outputs": [],
   "source": [
    "w = df_cluster.groupby('cluster').mean()"
   ]
  },
  {
   "cell_type": "code",
   "execution_count": 111,
   "metadata": {
    "collapsed": false
   },
   "outputs": [
    {
     "data": {
      "text/plain": [
       "<matplotlib.axes._subplots.AxesSubplot at 0x103ed0810>"
      ]
     },
     "execution_count": 111,
     "metadata": {},
     "output_type": "execute_result"
    },
    {
     "data": {
      "image/png": "[encoded data removed]",
      "text/plain": [
       "<matplotlib.figure.Figure at 0x103ed9950>"
      ]
     },
     "metadata": {},
     "output_type": "display_data"
    }
   ],
   "source": [
    "w.plot()"
   ]
  },
  {
   "cell_type": "code",
   "execution_count": 112,
   "metadata": {
    "collapsed": true
   },
   "outputs": [],
   "source": [
    "df_cluster2 = df_cluster.groupby('cluster').mean()"
   ]
  },
  {
   "cell_type": "code",
   "execution_count": 113,
   "metadata": {
    "collapsed": false
   },
   "outputs": [
    {
     "data": {
      "text/html": [
       "<div>\n",
       "<table border=\"1\" class=\"dataframe\">\n",
       "  <thead>\n",
       "    <tr style=\"text-align: right;\">\n",
       "      <th></th>\n",
       "      <th>total_char</th>\n",
       "      <th>sentiment</th>\n",
       "      <th>syl_sum</th>\n",
       "    </tr>\n",
       "    <tr>\n",
       "      <th>cluster</th>\n",
       "      <th></th>\n",
       "      <th></th>\n",
       "      <th></th>\n",
       "    </tr>\n",
       "  </thead>\n",
       "  <tbody>\n",
       "    <tr>\n",
       "      <th>0</th>\n",
       "      <td>45.286792</td>\n",
       "      <td>0.000471</td>\n",
       "      <td>13.871698</td>\n",
       "    </tr>\n",
       "    <tr>\n",
       "      <th>1</th>\n",
       "      <td>221.269231</td>\n",
       "      <td>-0.162601</td>\n",
       "      <td>68.461538</td>\n",
       "    </tr>\n",
       "    <tr>\n",
       "      <th>2</th>\n",
       "      <td>138.440000</td>\n",
       "      <td>0.285162</td>\n",
       "      <td>42.720000</td>\n",
       "    </tr>\n",
       "    <tr>\n",
       "      <th>3</th>\n",
       "      <td>476.000000</td>\n",
       "      <td>0.016157</td>\n",
       "      <td>143.000000</td>\n",
       "    </tr>\n",
       "    <tr>\n",
       "      <th>4</th>\n",
       "      <td>36.765957</td>\n",
       "      <td>0.514696</td>\n",
       "      <td>11.234043</td>\n",
       "    </tr>\n",
       "    <tr>\n",
       "      <th>5</th>\n",
       "      <td>53.466667</td>\n",
       "      <td>-0.863611</td>\n",
       "      <td>16.733333</td>\n",
       "    </tr>\n",
       "    <tr>\n",
       "      <th>6</th>\n",
       "      <td>134.804598</td>\n",
       "      <td>-0.056712</td>\n",
       "      <td>41.149425</td>\n",
       "    </tr>\n",
       "    <tr>\n",
       "      <th>7</th>\n",
       "      <td>36.655556</td>\n",
       "      <td>-0.248228</td>\n",
       "      <td>11.188889</td>\n",
       "    </tr>\n",
       "    <tr>\n",
       "      <th>8</th>\n",
       "      <td>223.033333</td>\n",
       "      <td>0.158646</td>\n",
       "      <td>67.200000</td>\n",
       "    </tr>\n",
       "    <tr>\n",
       "      <th>9</th>\n",
       "      <td>85.678571</td>\n",
       "      <td>0.274859</td>\n",
       "      <td>26.232143</td>\n",
       "    </tr>\n",
       "    <tr>\n",
       "      <th>10</th>\n",
       "      <td>85.454545</td>\n",
       "      <td>0.008581</td>\n",
       "      <td>26.506494</td>\n",
       "    </tr>\n",
       "    <tr>\n",
       "      <th>11</th>\n",
       "      <td>16.921649</td>\n",
       "      <td>-0.000711</td>\n",
       "      <td>5.115464</td>\n",
       "    </tr>\n",
       "    <tr>\n",
       "      <th>12</th>\n",
       "      <td>285.421053</td>\n",
       "      <td>0.086619</td>\n",
       "      <td>87.947368</td>\n",
       "    </tr>\n",
       "    <tr>\n",
       "      <th>13</th>\n",
       "      <td>40.583333</td>\n",
       "      <td>0.904167</td>\n",
       "      <td>13.333333</td>\n",
       "    </tr>\n",
       "    <tr>\n",
       "      <th>14</th>\n",
       "      <td>717.000000</td>\n",
       "      <td>-0.012388</td>\n",
       "      <td>227.000000</td>\n",
       "    </tr>\n",
       "    <tr>\n",
       "      <th>15</th>\n",
       "      <td>175.559322</td>\n",
       "      <td>-0.004562</td>\n",
       "      <td>54.084746</td>\n",
       "    </tr>\n",
       "    <tr>\n",
       "      <th>16</th>\n",
       "      <td>84.937500</td>\n",
       "      <td>0.595703</td>\n",
       "      <td>26.656250</td>\n",
       "    </tr>\n",
       "    <tr>\n",
       "      <th>17</th>\n",
       "      <td>89.000000</td>\n",
       "      <td>-0.226839</td>\n",
       "      <td>27.550000</td>\n",
       "    </tr>\n",
       "    <tr>\n",
       "      <th>18</th>\n",
       "      <td>48.891892</td>\n",
       "      <td>-0.558611</td>\n",
       "      <td>14.891892</td>\n",
       "    </tr>\n",
       "    <tr>\n",
       "      <th>19</th>\n",
       "      <td>37.666667</td>\n",
       "      <td>0.223240</td>\n",
       "      <td>11.617284</td>\n",
       "    </tr>\n",
       "  </tbody>\n",
       "</table>\n",
       "</div>"
      ],
      "text/plain": [
       "         total_char  sentiment     syl_sum\n",
       "cluster                                   \n",
       "0         45.286792   0.000471   13.871698\n",
       "1        221.269231  -0.162601   68.461538\n",
       "2        138.440000   0.285162   42.720000\n",
       "3        476.000000   0.016157  143.000000\n",
       "4         36.765957   0.514696   11.234043\n",
       "5         53.466667  -0.863611   16.733333\n",
       "6        134.804598  -0.056712   41.149425\n",
       "7         36.655556  -0.248228   11.188889\n",
       "8        223.033333   0.158646   67.200000\n",
       "9         85.678571   0.274859   26.232143\n",
       "10        85.454545   0.008581   26.506494\n",
       "11        16.921649  -0.000711    5.115464\n",
       "12       285.421053   0.086619   87.947368\n",
       "13        40.583333   0.904167   13.333333\n",
       "14       717.000000  -0.012388  227.000000\n",
       "15       175.559322  -0.004562   54.084746\n",
       "16        84.937500   0.595703   26.656250\n",
       "17        89.000000  -0.226839   27.550000\n",
       "18        48.891892  -0.558611   14.891892\n",
       "19        37.666667   0.223240   11.617284"
      ]
     },
     "execution_count": 113,
     "metadata": {},
     "output_type": "execute_result"
    }
   ],
   "source": [
    "df_cluster2"
   ]
  },
  {
   "cell_type": "code",
   "execution_count": 114,
   "metadata": {
    "collapsed": false
   },
   "outputs": [
    {
     "data": {
      "text/plain": [
       "<matplotlib.axes._subplots.AxesSubplot at 0x103e94b10>"
      ]
     },
     "execution_count": 114,
     "metadata": {},
     "output_type": "execute_result"
    },
    {
     "data": {
      "image/png": "[encoded data removed]",
      "text/plain": [
       "<matplotlib.figure.Figure at 0x119497d90>"
      ]
     },
     "metadata": {},
     "output_type": "display_data"
    }
   ],
   "source": [
    "df_cluster.plot(kind='bar')"
   ]
  },
  {
   "cell_type": "code",
   "execution_count": 117,
   "metadata": {
    "collapsed": false
   },
   "outputs": [
    {
     "data": {
      "text/plain": [
       "109528"
      ]
     },
     "execution_count": 117,
     "metadata": {},
     "output_type": "execute_result"
    }
   ],
   "source": [
    "df_novel['total_char'].sum()"
   ]
  },
  {
   "cell_type": "code",
   "execution_count": 130,
   "metadata": {
    "collapsed": true
   },
   "outputs": [],
   "source": [
    "ratio = (df_novel['total_char'].sum()/20) - 50"
   ]
  },
  {
   "cell_type": "code",
   "execution_count": 119,
   "metadata": {
    "collapsed": false
   },
   "outputs": [
    {
     "data": {
      "text/plain": [
       "5476"
      ]
     },
     "execution_count": 119,
     "metadata": {},
     "output_type": "execute_result"
    }
   ],
   "source": [
    "ratio"
   ]
  },
  {
   "cell_type": "code",
   "execution_count": 148,
   "metadata": {
    "collapsed": true
   },
   "outputs": [],
   "source": [
    "t = 0\n",
    "x = 0\n",
    "ratio = (df_novel['total_char'].sum()/20) - 100\n",
    "def find_this(t, x):\n",
    "    w = 0    \n",
    "    sent_stop = []\n",
    "    while w <= ratio:\n",
    "        w = df_novel['total_char'][t:x].sum()\n",
    "        sent_stop.append(x)\n",
    "        x += 1\n",
    "    return max(sent_stop)     "
   ]
  },
  {
   "cell_type": "code",
   "execution_count": 149,
   "metadata": {
    "collapsed": false
   },
   "outputs": [
    {
     "name": "stdout",
     "output_type": "stream",
     "text": [
      "df_novel['total_char'][0:60]\n",
      "df_novel['total_char'][60:115]\n",
      "df_novel['total_char'][115:192]\n",
      "df_novel['total_char'][192:264]\n",
      "df_novel['total_char'][264:352]\n",
      "df_novel['total_char'][352:443]\n",
      "df_novel['total_char'][443:505]\n",
      "df_novel['total_char'][505:586]\n",
      "df_novel['total_char'][586:655]\n",
      "df_novel['total_char'][655:741]\n",
      "df_novel['total_char'][741:843]\n",
      "df_novel['total_char'][843:938]\n",
      "df_novel['total_char'][938:1019]\n",
      "df_novel['total_char'][1019:1078]\n",
      "df_novel['total_char'][1078:1164]\n",
      "df_novel['total_char'][1164:1272]\n",
      "df_novel['total_char'][1272:1363]\n",
      "df_novel['total_char'][1363:1446]\n",
      "df_novel['total_char'][1446:1532]\n",
      "df_novel['total_char'][1532:1623]\n"
     ]
    }
   ],
   "source": [
    "t = 0\n",
    "x = 0\n",
    "start_point = []\n",
    "stop_point = []\n",
    "for n in range(1, 21):\n",
    "    s = find_this(t, x)\n",
    "    print \"df_novel['total_char'][%s:%s]\" %(t, s)\n",
    "    start_point.append(t)\n",
    "    stop_point.append(s)\n",
    "    t = s\n",
    "    x = s + 1      "
   ]
  },
  {
   "cell_type": "code",
   "execution_count": 150,
   "metadata": {
    "collapsed": false
   },
   "outputs": [
    {
     "name": "stdout",
     "output_type": "stream",
     "text": [
      "0\n",
      "60\n",
      "0.0471425918603\n",
      "60\n",
      "115\n",
      "0.0291150727417\n",
      "115\n",
      "192\n",
      "-0.00841434619931\n",
      "192\n",
      "264\n",
      "0.0203819494549\n",
      "264\n",
      "352\n",
      "0.0321346463143\n",
      "352\n",
      "443\n",
      "0.0297514928473\n",
      "443\n",
      "505\n",
      "0.0152957648113\n",
      "505\n",
      "586\n",
      "0.00289304584631\n",
      "586\n",
      "655\n",
      "0.0117530836811\n",
      "655\n",
      "741\n",
      "-0.0366886297918\n",
      "741\n",
      "843\n",
      "0.0155608319717\n",
      "843\n",
      "938\n",
      "0.0100220247589\n",
      "938\n",
      "1019\n",
      "-0.0142449794147\n",
      "1019\n",
      "1078\n",
      "0.0350751126508\n",
      "1078\n",
      "1164\n",
      "0.0387175464501\n",
      "1164\n",
      "1272\n",
      "0.0322697970111\n",
      "1272\n",
      "1363\n",
      "0.0647142857143\n",
      "1363\n",
      "1446\n",
      "0.0876633199465\n",
      "1446\n",
      "1532\n",
      "0.0219613652793\n",
      "1532\n",
      "1623\n",
      "0.0693888452817\n"
     ]
    }
   ],
   "source": [
    "twenty_piece_char = []\n",
    "st = 0\n",
    "for l in start_point: \n",
    "    strt = start_point[st]\n",
    "    stp = stop_point[st]\n",
    "    print strt\n",
    "    print stp\n",
    "    mn = df_novel['sentiment'][strt:stp].mean()\n",
    "    twenty_piece_char.append(mn)\n",
    "    print mn\n",
    "    st +=1   "
   ]
  },
  {
   "cell_type": "code",
   "execution_count": 126,
   "metadata": {
    "collapsed": false
   },
   "outputs": [
    {
     "data": {
      "text/html": [
       "<div>\n",
       "<table border=\"1\" class=\"dataframe\">\n",
       "  <thead>\n",
       "    <tr style=\"text-align: right;\">\n",
       "      <th></th>\n",
       "      <th>0</th>\n",
       "      <th>wrd_length</th>\n",
       "      <th>total_char</th>\n",
       "      <th>syl_count</th>\n",
       "      <th>sentiment</th>\n",
       "      <th>syl_sum</th>\n",
       "    </tr>\n",
       "  </thead>\n",
       "  <tbody>\n",
       "    <tr>\n",
       "      <th>1621</th>\n",
       "      <td>But her sister sat still just as she left her,...</td>\n",
       "      <td>[3, 3, 6, 3, 5, 4, 2, 3, 4, 3, 7, 3, 4, 2, 3, ...</td>\n",
       "      <td>549</td>\n",
       "      <td>[1, 1, 2, 1, 1, 1, 1, 0, 1, 1, 3, 1, 2, 1, 1, ...</td>\n",
       "      <td>0.117857</td>\n",
       "      <td>164</td>\n",
       "    </tr>\n",
       "    <tr>\n",
       "      <th>1622</th>\n",
       "      <td>The long grass rustled at her feet as the Whit...</td>\n",
       "      <td>[3, 4, 5, 7, 2, 3, 4, 2, 3, 5, 6, 7, 2, 3, 10,...</td>\n",
       "      <td>516</td>\n",
       "      <td>[1, 1, 1, 1, 1, 1, 1, 1, 1, 1, 2, 2, 1, 1, 2, ...</td>\n",
       "      <td>-0.065000</td>\n",
       "      <td>148</td>\n",
       "    </tr>\n",
       "    <tr>\n",
       "      <th>1623</th>\n",
       "      <td>So she sat on, with closed eyes, and half beli...</td>\n",
       "      <td>[2, 3, 3, 2, 4, 6, 4, 3, 4, 8, 7, 2, 10, 6, 3,...</td>\n",
       "      <td>504</td>\n",
       "      <td>[1, 0, 1, 1, 1, 1, 0, 1, 1, 3, 2, 1, 3, 1, 0, ...</td>\n",
       "      <td>-0.158333</td>\n",
       "      <td>145</td>\n",
       "    </tr>\n",
       "    <tr>\n",
       "      <th>1624</th>\n",
       "      <td>Lastly, she pictured to herself how this same ...</td>\n",
       "      <td>[6, 3, 8, 2, 7, 3, 4, 4, 6, 6, 2, 4, 5, 2, 3, ...</td>\n",
       "      <td>441</td>\n",
       "      <td>[2, 0, 2, 1, 2, 1, 1, 1, 1, 2, 1, 1, 1, 1, 1, ...</td>\n",
       "      <td>0.173333</td>\n",
       "      <td>129</td>\n",
       "    </tr>\n",
       "    <tr>\n",
       "      <th>1625</th>\n",
       "      <td>THE END</td>\n",
       "      <td>[3, 3]</td>\n",
       "      <td>6</td>\n",
       "      <td>[1, 1]</td>\n",
       "      <td>0.000000</td>\n",
       "      <td>2</td>\n",
       "    </tr>\n",
       "  </tbody>\n",
       "</table>\n",
       "</div>"
      ],
      "text/plain": [
       "                                                      0  \\\n",
       "1621  But her sister sat still just as she left her,...   \n",
       "1622  The long grass rustled at her feet as the Whit...   \n",
       "1623  So she sat on, with closed eyes, and half beli...   \n",
       "1624  Lastly, she pictured to herself how this same ...   \n",
       "1625                                       THE END        \n",
       "\n",
       "                                             wrd_length  total_char  \\\n",
       "1621  [3, 3, 6, 3, 5, 4, 2, 3, 4, 3, 7, 3, 4, 2, 3, ...         549   \n",
       "1622  [3, 4, 5, 7, 2, 3, 4, 2, 3, 5, 6, 7, 2, 3, 10,...         516   \n",
       "1623  [2, 3, 3, 2, 4, 6, 4, 3, 4, 8, 7, 2, 10, 6, 3,...         504   \n",
       "1624  [6, 3, 8, 2, 7, 3, 4, 4, 6, 6, 2, 4, 5, 2, 3, ...         441   \n",
       "1625                                             [3, 3]           6   \n",
       "\n",
       "                                              syl_count  sentiment  syl_sum  \n",
       "1621  [1, 1, 2, 1, 1, 1, 1, 0, 1, 1, 3, 1, 2, 1, 1, ...   0.117857      164  \n",
       "1622  [1, 1, 1, 1, 1, 1, 1, 1, 1, 1, 2, 2, 1, 1, 2, ...  -0.065000      148  \n",
       "1623  [1, 0, 1, 1, 1, 1, 0, 1, 1, 3, 2, 1, 3, 1, 0, ...  -0.158333      145  \n",
       "1624  [2, 0, 2, 1, 2, 1, 1, 1, 1, 2, 1, 1, 1, 1, 1, ...   0.173333      129  \n",
       "1625                                             [1, 1]   0.000000        2  "
      ]
     },
     "execution_count": 126,
     "metadata": {},
     "output_type": "execute_result"
    }
   ],
   "source": [
    "df_novel.tail()"
   ]
  },
  {
   "cell_type": "code",
   "execution_count": 151,
   "metadata": {
    "collapsed": false
   },
   "outputs": [
    {
     "name": "stdout",
     "output_type": "stream",
     "text": [
      "[ 0.04714259  0.02911507 -0.00841435  0.02038195  0.03213465  0.02975149\n",
      "  0.01529576  0.00289305  0.01175308 -0.03668863  0.01556083  0.01002202\n",
      " -0.01424498  0.03507511  0.03871755  0.0322698   0.06471429  0.08766332\n",
      "  0.02196137  0.06938885]\n"
     ]
    }
   ],
   "source": [
    "n = np.array(n)\n",
    "twenty_piece_char = np.array(twenty_piece_char)\n",
    "print twenty_piece_char"
   ]
  },
  {
   "cell_type": "code",
   "execution_count": 157,
   "metadata": {
    "collapsed": false
   },
   "outputs": [
    {
     "data": {
      "image/png": "[encoded data removed]",
      "text/plain": [
       "<matplotlib.figure.Figure at 0x123275e50>"
      ]
     },
     "metadata": {},
     "output_type": "display_data"
    }
   ],
   "source": [
    "plt.plot(twenty_piece_char)\n",
    "plt.ylabel('sentiment')\n",
    "plt.show()"
   ]
  },
  {
   "cell_type": "code",
   "execution_count": 161,
   "metadata": {
    "collapsed": false
   },
   "outputs": [
    {
     "data": {
      "image/png": "[encoded data removed]",
      "text/plain": [
       "<matplotlib.figure.Figure at 0x1205c96d0>"
      ]
     },
     "metadata": {},
     "output_type": "display_data"
    }
   ],
   "source": [
    "plt.bar(range(20), twenty_piece_char)\n",
    "plt.ylabel('sentiment')\n",
    "plt.show()"
   ]
  },
  {
   "cell_type": "code",
   "execution_count": 162,
   "metadata": {
    "collapsed": false
   },
   "outputs": [
    {
     "name": "stdout",
     "output_type": "stream",
     "text": [
      "Five and Seven said nothing, but looked at Two.\n",
      "****\n",
      "Two began in a low voice, 'Why the fact is, you see, Miss, this here ought to have been a RED rose-tree, and we put a white one in by mistake; and if the Queen was to find it out, we should all have our heads cut off, you know.\n",
      "****\n",
      "So you see, Miss, we're doing our best, afore she comes, to--' At this moment Five, who had been anxiously looking across the garden, called out 'The Queen!\n",
      "****\n",
      "The Queen!'\n",
      "****\n",
      "and the three gardeners instantly threw themselves flat upon their faces.\n",
      "****\n",
      "There was a sound of many footsteps, and Alice looked round, eager to see the Queen.\n",
      "****\n",
      "First came ten soldiers carrying clubs; these were all shaped like the three gardeners, oblong and flat, with their hands and feet at the corners: next the ten courtiers; these were ornamented all over with diamonds, and walked two and two, as the soldiers did.\n",
      "****\n",
      "After these came the royal children; there were ten of them, and the little dears came jumping merrily along hand in hand, in couples: they were all ornamented with hearts.\n",
      "****\n",
      "Next came the guests, mostly Kings and Queens, and among them Alice recognised the White Rabbit: it was talking in a hurried nervous manner, smiling at everything that was said, and went by without noticing her.\n",
      "****\n",
      "Then followed the Knave of Hearts, carrying the King's crown on a crimson velvet cushion; and, last of all this grand procession, came THE KING AND QUEEN OF HEARTS.\n",
      "****\n",
      "Alice was rather doubtful whether she ought not to lie down on her face like the three gardeners, but she could not remember ever having heard of such a rule at processions; 'and besides, what would be the use of a procession,' thought she, 'if people had all to lie down upon their faces, so that they couldn't see it?'\n",
      "****\n",
      "So she stood still where she was, and waited.\n",
      "****\n",
      "When the procession came opposite to Alice, they all stopped and looked at her, and the Queen said severely 'Who is this?'\n",
      "****\n",
      "She said it to the Knave of Hearts, who only bowed and smiled in reply.\n",
      "****\n",
      "'Idiot!'\n",
      "****\n",
      "said the Queen, tossing her head impatiently; and, turning to Alice, she went on, 'What's your name, child?'\n",
      "****\n",
      "'My name is Alice, so please your Majesty,' said Alice very politely; but she added, to herself, 'Why, they're only a pack of cards, after all.\n",
      "****\n",
      "I needn't be afraid of them!'\n",
      "****\n",
      "'And who are THESE?'\n",
      "****\n",
      "said the Queen, pointing to the three gardeners who were lying round the rosetree; for, you see, as they were lying on their faces, and the pattern on their backs was the same as the rest of the pack, she could not tell whether they were gardeners, or soldiers, or courtiers, or three of her own children.\n",
      "****\n",
      "'How should I know?'\n",
      "****\n",
      "said Alice, surprised at her own courage.\n",
      "****\n",
      "'It's no business of MINE.'\n",
      "****\n",
      "The Queen turned crimson with fury, and, after glaring at her for a moment like a wild beast, screamed 'Off with her head!\n",
      "****\n",
      "Off--'  'Nonsense!'\n",
      "****\n",
      "said Alice, very loudly and decidedly, and the Queen was silent.\n",
      "****\n",
      "The King laid his hand upon her arm, and timidly said 'Consider, my dear: she is only a child!'\n",
      "****\n",
      "The Queen turned angrily away from him, and said to the Knave 'Turn them over!'\n",
      "****\n",
      "The Knave did so, very carefully, with one foot.\n",
      "****\n",
      "'Get up!'\n",
      "****\n",
      "said the Queen, in a shrill, loud voice, and the three gardeners instantly jumped up, and began bowing to the King, the Queen, the royal children, and everybody else.\n",
      "****\n",
      "'Leave off that!'\n",
      "****\n",
      "screamed the Queen.\n",
      "****\n",
      "'You make me giddy.'\n",
      "****\n",
      "And then, turning to the rose-tree, she went on, 'What HAVE you been doing here?'\n",
      "****\n",
      "'May it please your Majesty,' said Two, in a very humble tone, going down on one knee as he spoke, 'we were trying--'  'I see!'\n",
      "****\n",
      "said the Queen, who had meanwhile been examining the roses.\n",
      "****\n",
      "'Off with their heads!'\n",
      "****\n",
      "and the procession moved on, three of the soldiers remaining behind to execute the unfortunate gardeners, who ran to Alice for protection.\n",
      "****\n",
      "'You shan't be beheaded!'\n",
      "****\n",
      "said Alice, and she put them into a large flower-pot that stood near.\n",
      "****\n",
      "The three soldiers wandered about for a minute or two, looking for them, and then quietly marched off after the others.\n",
      "****\n",
      "'Are their heads off?'\n",
      "****\n",
      "shouted the Queen.\n",
      "****\n",
      "'Their heads are gone, if it please your Majesty!'\n",
      "****\n",
      "the soldiers shouted in reply.\n",
      "****\n",
      "'That's right!'\n",
      "****\n",
      "shouted the Queen.\n",
      "****\n",
      "'Can you play croquet?'\n",
      "****\n",
      "The soldiers were silent, and looked at Alice, as the question was evidently meant for her.\n",
      "****\n",
      "'Yes!'\n",
      "****\n",
      "shouted Alice.\n",
      "****\n",
      "'Come on, then!'\n",
      "****\n",
      "roared the Queen, and Alice joined the procession, wondering very much what would happen next.\n",
      "****\n",
      "'It's--it's a very fine day!'\n",
      "****\n",
      "said a timid voice at her side.\n",
      "****\n",
      "She was walking by the White Rabbit, who was peeping anxiously into her face.\n",
      "****\n",
      "'Very,' said Alice: '--where's the Duchess?'\n",
      "****\n",
      "'Hush!\n",
      "****\n",
      "Hush!'\n",
      "****\n",
      "said the Rabbit in a low, hurried tone.\n",
      "****\n",
      "He looked anxiously over his shoulder as he spoke, and then raised himself upon tiptoe, put his mouth close to her ear, and whispered 'She's under sentence of execution.'\n",
      "****\n",
      "'What for?'\n",
      "****\n",
      "said Alice.\n",
      "****\n",
      "'Did you say \"What a pity!\"?'\n",
      "****\n",
      "the Rabbit asked.\n",
      "****\n",
      "'No, I didn't,' said Alice: 'I don't think it's at all a pity.\n",
      "****\n",
      "I said \"What for?\"'\n",
      "****\n",
      "'She boxed the Queen's ears--' the Rabbit began.\n",
      "****\n",
      "Alice gave a little scream of laughter.\n",
      "****\n",
      "'Oh, hush!'\n",
      "****\n",
      "the Rabbit whispered in a frightened tone.\n",
      "****\n",
      "'The Queen will hear you!\n",
      "****\n",
      "You see, she came rather late, and the Queen said--'  'Get to your places!'\n",
      "****\n",
      "shouted the Queen in a voice of thunder, and people began running about in all directions, tumbling up against each other; however, they got settled down in a minute or two, and the game began.\n",
      "****\n",
      "Alice thought she had never seen such a curious croquet-ground in her life; it was all ridges and furrows; the balls were live hedgehogs, the mallets live flamingoes, and the soldiers had to double themselves up and to stand on their hands and feet, to make the arches.\n",
      "****\n",
      "The chief difficulty Alice found at first was in managing her flamingo: she succeeded in getting its body tucked away, comfortably enough, under her arm, with its legs hanging down, but generally, just as she had got its neck nicely straightened out, and was going to give the hedgehog a blow with its head, it WOULD twist itself round and look up in her face, with such a puzzled expression that she could not help bursting out laughing: and when she had got its head down, and was going to begin again, it was very provoking to find that the hedgehog had unrolled itself, and was in the act of crawling away: besides all this, there was generally a ridge or furrow in the way wherever she wanted to send the hedgehog to, and, as the doubled-up soldiers were always getting up and walking off to other parts of the ground, Alice soon came to the conclusion that it was a very difficult game indeed.\n",
      "****\n",
      "The players all played at once without waiting for turns, quarrelling all the while, and fighting for the hedgehogs; and in a very short time the Queen was in a furious passion, and went stamping about, and shouting 'Off with his head!'\n",
      "****\n",
      "or 'Off with her head!'\n",
      "****\n",
      "about once in a minute.\n",
      "****\n",
      "Alice began to feel very uneasy: to be sure, she had not as yet had any dispute with the Queen, but she knew that it might happen any minute, 'and then,' thought she, 'what would become of me?\n",
      "****\n"
     ]
    }
   ],
   "source": [
    "for x in df_novel[0][938:1019]:\n",
    "    print x\n",
    "    print '****'"
   ]
  },
  {
   "cell_type": "code",
   "execution_count": 38,
   "metadata": {
    "collapsed": true
   },
   "outputs": [],
   "source": [
    "df_cluster3 = df_cluster"
   ]
  },
  {
   "cell_type": "code",
   "execution_count": 39,
   "metadata": {
    "collapsed": false
   },
   "outputs": [
    {
     "data": {
      "text/html": [
       "<div>\n",
       "<table border=\"1\" class=\"dataframe\">\n",
       "  <thead>\n",
       "    <tr style=\"text-align: right;\">\n",
       "      <th></th>\n",
       "      <th>0</th>\n",
       "      <th>total_char</th>\n",
       "      <th>sentiment</th>\n",
       "      <th>syl_sum</th>\n",
       "      <th>cluster</th>\n",
       "    </tr>\n",
       "  </thead>\n",
       "  <tbody>\n",
       "    <tr>\n",
       "      <th>0</th>\n",
       "      <td>Down the Rabbit-Hole  Alice was beginning to g...</td>\n",
       "      <td>256</td>\n",
       "      <td>-0.337778</td>\n",
       "      <td>83</td>\n",
       "      <td>1</td>\n",
       "    </tr>\n",
       "    <tr>\n",
       "      <th>1</th>\n",
       "      <td>So she was considering in her own mind (as wel...</td>\n",
       "      <td>229</td>\n",
       "      <td>0.031250</td>\n",
       "      <td>70</td>\n",
       "      <td>8</td>\n",
       "    </tr>\n",
       "    <tr>\n",
       "      <th>2</th>\n",
       "      <td>There was nothing so VERY remarkable in that; ...</td>\n",
       "      <td>109</td>\n",
       "      <td>0.650000</td>\n",
       "      <td>39</td>\n",
       "      <td>16</td>\n",
       "    </tr>\n",
       "    <tr>\n",
       "      <th>3</th>\n",
       "      <td>Oh dear!</td>\n",
       "      <td>6</td>\n",
       "      <td>0.000000</td>\n",
       "      <td>3</td>\n",
       "      <td>11</td>\n",
       "    </tr>\n",
       "    <tr>\n",
       "      <th>4</th>\n",
       "      <td>I shall be late!'</td>\n",
       "      <td>12</td>\n",
       "      <td>-0.375000</td>\n",
       "      <td>4</td>\n",
       "      <td>7</td>\n",
       "    </tr>\n",
       "  </tbody>\n",
       "</table>\n",
       "</div>"
      ],
      "text/plain": [
       "                                                   0  total_char  sentiment  \\\n",
       "0  Down the Rabbit-Hole  Alice was beginning to g...         256  -0.337778   \n",
       "1  So she was considering in her own mind (as wel...         229   0.031250   \n",
       "2  There was nothing so VERY remarkable in that; ...         109   0.650000   \n",
       "3                                           Oh dear!           6   0.000000   \n",
       "4                                  I shall be late!'          12  -0.375000   \n",
       "\n",
       "   syl_sum  cluster  \n",
       "0       83        1  \n",
       "1       70        8  \n",
       "2       39       16  \n",
       "3        3       11  \n",
       "4        4        7  "
      ]
     },
     "execution_count": 39,
     "metadata": {},
     "output_type": "execute_result"
    }
   ],
   "source": [
    "df_cluster3.head()"
   ]
  },
  {
   "cell_type": "code",
   "execution_count": 76,
   "metadata": {
    "collapsed": true
   },
   "outputs": [],
   "source": [
    "X = df_cluster3.drop(0, axis=1)\n",
    "scaler = StandardScaler()\n",
    "X_scaled = scaler.fit_transform(X)"
   ]
  },
  {
   "cell_type": "code",
   "execution_count": 77,
   "metadata": {
    "collapsed": false
   },
   "outputs": [
    {
     "data": {
      "text/plain": [
       "KMeans(copy_x=True, init='k-means++', max_iter=300, n_clusters=3, n_init=10,\n",
       "    n_jobs=1, precompute_distances='auto', random_state=1, tol=0.0001,\n",
       "    verbose=0)"
      ]
     },
     "execution_count": 77,
     "metadata": {},
     "output_type": "execute_result"
    }
   ],
   "source": [
    "km = KMeans(n_clusters=3, random_state=1)\n",
    "km.fit(X_scaled)"
   ]
  },
  {
   "cell_type": "code",
   "execution_count": 78,
   "metadata": {
    "collapsed": false
   },
   "outputs": [
    {
     "data": {
      "text/plain": [
       "array([2, 2, 0, ..., 2, 2, 0], dtype=int32)"
      ]
     },
     "execution_count": 78,
     "metadata": {},
     "output_type": "execute_result"
    }
   ],
   "source": [
    "km.labels_"
   ]
  },
  {
   "cell_type": "code",
   "execution_count": 81,
   "metadata": {
    "collapsed": true
   },
   "outputs": [],
   "source": [
    "df_cluster3['cluster'] = km.labels_"
   ]
  },
  {
   "cell_type": "code",
   "execution_count": 82,
   "metadata": {
    "collapsed": false
   },
   "outputs": [
    {
     "data": {
      "text/html": [
       "<div>\n",
       "<table border=\"1\" class=\"dataframe\">\n",
       "  <thead>\n",
       "    <tr style=\"text-align: right;\">\n",
       "      <th></th>\n",
       "      <th>0</th>\n",
       "      <th>total_char</th>\n",
       "      <th>sentiment</th>\n",
       "      <th>syl_sum</th>\n",
       "      <th>cluster</th>\n",
       "    </tr>\n",
       "  </thead>\n",
       "  <tbody>\n",
       "    <tr>\n",
       "      <th>0</th>\n",
       "      <td>Down the Rabbit-Hole  Alice was beginning to g...</td>\n",
       "      <td>256</td>\n",
       "      <td>-0.337778</td>\n",
       "      <td>83</td>\n",
       "      <td>2</td>\n",
       "    </tr>\n",
       "    <tr>\n",
       "      <th>1</th>\n",
       "      <td>So she was considering in her own mind (as wel...</td>\n",
       "      <td>229</td>\n",
       "      <td>0.031250</td>\n",
       "      <td>70</td>\n",
       "      <td>2</td>\n",
       "    </tr>\n",
       "    <tr>\n",
       "      <th>2</th>\n",
       "      <td>There was nothing so VERY remarkable in that; ...</td>\n",
       "      <td>109</td>\n",
       "      <td>0.650000</td>\n",
       "      <td>39</td>\n",
       "      <td>0</td>\n",
       "    </tr>\n",
       "    <tr>\n",
       "      <th>3</th>\n",
       "      <td>Oh dear!</td>\n",
       "      <td>6</td>\n",
       "      <td>0.000000</td>\n",
       "      <td>3</td>\n",
       "      <td>0</td>\n",
       "    </tr>\n",
       "    <tr>\n",
       "      <th>4</th>\n",
       "      <td>I shall be late!'</td>\n",
       "      <td>12</td>\n",
       "      <td>-0.375000</td>\n",
       "      <td>4</td>\n",
       "      <td>0</td>\n",
       "    </tr>\n",
       "  </tbody>\n",
       "</table>\n",
       "</div>"
      ],
      "text/plain": [
       "                                                   0  total_char  sentiment  \\\n",
       "0  Down the Rabbit-Hole  Alice was beginning to g...         256  -0.337778   \n",
       "1  So she was considering in her own mind (as wel...         229   0.031250   \n",
       "2  There was nothing so VERY remarkable in that; ...         109   0.650000   \n",
       "3                                           Oh dear!           6   0.000000   \n",
       "4                                  I shall be late!'          12  -0.375000   \n",
       "\n",
       "   syl_sum  cluster  \n",
       "0       83        2  \n",
       "1       70        2  \n",
       "2       39        0  \n",
       "3        3        0  \n",
       "4        4        0  "
      ]
     },
     "execution_count": 82,
     "metadata": {},
     "output_type": "execute_result"
    }
   ],
   "source": [
    "df_cluster3.head()"
   ]
  },
  {
   "cell_type": "code",
   "execution_count": 83,
   "metadata": {
    "collapsed": false
   },
   "outputs": [
    {
     "data": {
      "text/html": [
       "<div>\n",
       "<table border=\"1\" class=\"dataframe\">\n",
       "  <thead>\n",
       "    <tr style=\"text-align: right;\">\n",
       "      <th></th>\n",
       "      <th>total_char</th>\n",
       "      <th>sentiment</th>\n",
       "      <th>syl_sum</th>\n",
       "    </tr>\n",
       "    <tr>\n",
       "      <th>cluster</th>\n",
       "      <th></th>\n",
       "      <th></th>\n",
       "      <th></th>\n",
       "    </tr>\n",
       "  </thead>\n",
       "  <tbody>\n",
       "    <tr>\n",
       "      <th>0</th>\n",
       "      <td>42.400971</td>\n",
       "      <td>0.007878</td>\n",
       "      <td>13.063107</td>\n",
       "    </tr>\n",
       "    <tr>\n",
       "      <th>1</th>\n",
       "      <td>49.281437</td>\n",
       "      <td>0.091732</td>\n",
       "      <td>15.089820</td>\n",
       "    </tr>\n",
       "    <tr>\n",
       "      <th>2</th>\n",
       "      <td>188.530534</td>\n",
       "      <td>0.009628</td>\n",
       "      <td>57.809160</td>\n",
       "    </tr>\n",
       "  </tbody>\n",
       "</table>\n",
       "</div>"
      ],
      "text/plain": [
       "         total_char  sentiment    syl_sum\n",
       "cluster                                  \n",
       "0         42.400971   0.007878  13.063107\n",
       "1         49.281437   0.091732  15.089820\n",
       "2        188.530534   0.009628  57.809160"
      ]
     },
     "execution_count": 83,
     "metadata": {},
     "output_type": "execute_result"
    }
   ],
   "source": [
    "df_cluster3.groupby('cluster').mean()"
   ]
  },
  {
   "cell_type": "code",
   "execution_count": 93,
   "metadata": {
    "collapsed": false
   },
   "outputs": [
    {
     "data": {
      "text/html": [
       "<div>\n",
       "<table border=\"1\" class=\"dataframe\">\n",
       "  <thead>\n",
       "    <tr style=\"text-align: right;\">\n",
       "      <th></th>\n",
       "      <th>0</th>\n",
       "      <th>total_char</th>\n",
       "      <th>sentiment</th>\n",
       "      <th>syl_sum</th>\n",
       "      <th>cluster</th>\n",
       "    </tr>\n",
       "  </thead>\n",
       "  <tbody>\n",
       "    <tr>\n",
       "      <th>0</th>\n",
       "      <td>Down the Rabbit-Hole  Alice was beginning to g...</td>\n",
       "      <td>256</td>\n",
       "      <td>-0.337778</td>\n",
       "      <td>83</td>\n",
       "      <td>1</td>\n",
       "    </tr>\n",
       "    <tr>\n",
       "      <th>1</th>\n",
       "      <td>So she was considering in her own mind (as wel...</td>\n",
       "      <td>229</td>\n",
       "      <td>0.031250</td>\n",
       "      <td>70</td>\n",
       "      <td>1</td>\n",
       "    </tr>\n",
       "    <tr>\n",
       "      <th>2</th>\n",
       "      <td>There was nothing so VERY remarkable in that; ...</td>\n",
       "      <td>109</td>\n",
       "      <td>0.650000</td>\n",
       "      <td>39</td>\n",
       "      <td>2</td>\n",
       "    </tr>\n",
       "    <tr>\n",
       "      <th>3</th>\n",
       "      <td>Oh dear!</td>\n",
       "      <td>6</td>\n",
       "      <td>0.000000</td>\n",
       "      <td>3</td>\n",
       "      <td>0</td>\n",
       "    </tr>\n",
       "    <tr>\n",
       "      <th>4</th>\n",
       "      <td>I shall be late!'</td>\n",
       "      <td>12</td>\n",
       "      <td>-0.375000</td>\n",
       "      <td>4</td>\n",
       "      <td>0</td>\n",
       "    </tr>\n",
       "  </tbody>\n",
       "</table>\n",
       "</div>"
      ],
      "text/plain": [
       "                                                   0  total_char  sentiment  \\\n",
       "0  Down the Rabbit-Hole  Alice was beginning to g...         256  -0.337778   \n",
       "1  So she was considering in her own mind (as wel...         229   0.031250   \n",
       "2  There was nothing so VERY remarkable in that; ...         109   0.650000   \n",
       "3                                           Oh dear!           6   0.000000   \n",
       "4                                  I shall be late!'          12  -0.375000   \n",
       "\n",
       "   syl_sum  cluster  \n",
       "0       83        1  \n",
       "1       70        1  \n",
       "2       39        2  \n",
       "3        3        0  \n",
       "4        4        0  "
      ]
     },
     "execution_count": 93,
     "metadata": {},
     "output_type": "execute_result"
    }
   ],
   "source": [
    "df_cluster4 = df_cluster3\n",
    "df_cluster4.head()"
   ]
  },
  {
   "cell_type": "code",
   "execution_count": 94,
   "metadata": {
    "collapsed": true
   },
   "outputs": [],
   "source": [
    "df_cluster4 = df_cluster4.drop('syl_sum', 1)"
   ]
  },
  {
   "cell_type": "code",
   "execution_count": 96,
   "metadata": {
    "collapsed": true
   },
   "outputs": [],
   "source": [
    "X = df_cluster4.drop(0, axis=1)"
   ]
  },
  {
   "cell_type": "code",
   "execution_count": 95,
   "metadata": {
    "collapsed": false
   },
   "outputs": [
    {
     "data": {
      "text/html": [
       "<div>\n",
       "<table border=\"1\" class=\"dataframe\">\n",
       "  <thead>\n",
       "    <tr style=\"text-align: right;\">\n",
       "      <th></th>\n",
       "      <th>0</th>\n",
       "      <th>total_char</th>\n",
       "      <th>sentiment</th>\n",
       "      <th>cluster</th>\n",
       "    </tr>\n",
       "  </thead>\n",
       "  <tbody>\n",
       "    <tr>\n",
       "      <th>0</th>\n",
       "      <td>Down the Rabbit-Hole  Alice was beginning to g...</td>\n",
       "      <td>256</td>\n",
       "      <td>-0.337778</td>\n",
       "      <td>1</td>\n",
       "    </tr>\n",
       "    <tr>\n",
       "      <th>1</th>\n",
       "      <td>So she was considering in her own mind (as wel...</td>\n",
       "      <td>229</td>\n",
       "      <td>0.031250</td>\n",
       "      <td>1</td>\n",
       "    </tr>\n",
       "    <tr>\n",
       "      <th>2</th>\n",
       "      <td>There was nothing so VERY remarkable in that; ...</td>\n",
       "      <td>109</td>\n",
       "      <td>0.650000</td>\n",
       "      <td>2</td>\n",
       "    </tr>\n",
       "    <tr>\n",
       "      <th>3</th>\n",
       "      <td>Oh dear!</td>\n",
       "      <td>6</td>\n",
       "      <td>0.000000</td>\n",
       "      <td>0</td>\n",
       "    </tr>\n",
       "    <tr>\n",
       "      <th>4</th>\n",
       "      <td>I shall be late!'</td>\n",
       "      <td>12</td>\n",
       "      <td>-0.375000</td>\n",
       "      <td>0</td>\n",
       "    </tr>\n",
       "  </tbody>\n",
       "</table>\n",
       "</div>"
      ],
      "text/plain": [
       "                                                   0  total_char  sentiment  \\\n",
       "0  Down the Rabbit-Hole  Alice was beginning to g...         256  -0.337778   \n",
       "1  So she was considering in her own mind (as wel...         229   0.031250   \n",
       "2  There was nothing so VERY remarkable in that; ...         109   0.650000   \n",
       "3                                           Oh dear!           6   0.000000   \n",
       "4                                  I shall be late!'          12  -0.375000   \n",
       "\n",
       "   cluster  \n",
       "0        1  \n",
       "1        1  \n",
       "2        2  \n",
       "3        0  \n",
       "4        0  "
      ]
     },
     "execution_count": 95,
     "metadata": {},
     "output_type": "execute_result"
    }
   ],
   "source": [
    "df_cluster4.head()"
   ]
  },
  {
   "cell_type": "code",
   "execution_count": 97,
   "metadata": {
    "collapsed": true
   },
   "outputs": [],
   "source": [
    "scaler = StandardScaler()\n",
    "X_scaled = scaler.fit_transform(X)"
   ]
  },
  {
   "cell_type": "code",
   "execution_count": 98,
   "metadata": {
    "collapsed": false
   },
   "outputs": [
    {
     "data": {
      "text/plain": [
       "KMeans(copy_x=True, init='k-means++', max_iter=300, n_clusters=3, n_init=10,\n",
       "    n_jobs=1, precompute_distances='auto', random_state=1, tol=0.0001,\n",
       "    verbose=0)"
      ]
     },
     "execution_count": 98,
     "metadata": {},
     "output_type": "execute_result"
    }
   ],
   "source": [
    "km = KMeans(n_clusters=3, random_state=1)\n",
    "km.fit(X_scaled)"
   ]
  },
  {
   "cell_type": "code",
   "execution_count": 99,
   "metadata": {
    "collapsed": false
   },
   "outputs": [
    {
     "data": {
      "text/plain": [
       "array([2, 2, 1, ..., 2, 2, 0], dtype=int32)"
      ]
     },
     "execution_count": 99,
     "metadata": {},
     "output_type": "execute_result"
    }
   ],
   "source": [
    "km.labels_"
   ]
  },
  {
   "cell_type": "code",
   "execution_count": 100,
   "metadata": {
    "collapsed": true
   },
   "outputs": [],
   "source": [
    "df_cluster4['cluster'] = km.labels_"
   ]
  },
  {
   "cell_type": "code",
   "execution_count": 101,
   "metadata": {
    "collapsed": false
   },
   "outputs": [
    {
     "data": {
      "text/html": [
       "<div>\n",
       "<table border=\"1\" class=\"dataframe\">\n",
       "  <thead>\n",
       "    <tr style=\"text-align: right;\">\n",
       "      <th></th>\n",
       "      <th>total_char</th>\n",
       "      <th>sentiment</th>\n",
       "    </tr>\n",
       "    <tr>\n",
       "      <th>cluster</th>\n",
       "      <th></th>\n",
       "      <th></th>\n",
       "    </tr>\n",
       "  </thead>\n",
       "  <tbody>\n",
       "    <tr>\n",
       "      <th>0</th>\n",
       "      <td>40.223284</td>\n",
       "      <td>-0.051089</td>\n",
       "    </tr>\n",
       "    <tr>\n",
       "      <th>1</th>\n",
       "      <td>66.083333</td>\n",
       "      <td>0.454515</td>\n",
       "    </tr>\n",
       "    <tr>\n",
       "      <th>2</th>\n",
       "      <td>189.023166</td>\n",
       "      <td>0.007352</td>\n",
       "    </tr>\n",
       "  </tbody>\n",
       "</table>\n",
       "</div>"
      ],
      "text/plain": [
       "         total_char  sentiment\n",
       "cluster                       \n",
       "0         40.223284  -0.051089\n",
       "1         66.083333   0.454515\n",
       "2        189.023166   0.007352"
      ]
     },
     "execution_count": 101,
     "metadata": {},
     "output_type": "execute_result"
    }
   ],
   "source": [
    "df_cluster4.groupby('cluster').mean()"
   ]
  },
  {
   "cell_type": "code",
   "execution_count": 111,
   "metadata": {
    "collapsed": false
   },
   "outputs": [
    {
     "data": {
      "text/html": [
       "<div>\n",
       "<table border=\"1\" class=\"dataframe\">\n",
       "  <thead>\n",
       "    <tr style=\"text-align: right;\">\n",
       "      <th></th>\n",
       "      <th>0</th>\n",
       "      <th>wrd_length</th>\n",
       "      <th>total_char</th>\n",
       "      <th>syl_count</th>\n",
       "      <th>syl_sum</th>\n",
       "      <th>sentiment</th>\n",
       "    </tr>\n",
       "  </thead>\n",
       "  <tbody>\n",
       "    <tr>\n",
       "      <th>1621</th>\n",
       "      <td>But her sister sat still just as she left her,...</td>\n",
       "      <td>[3, 3, 6, 3, 5, 4, 2, 3, 4, 3, 7, 3, 4, 2, 3, ...</td>\n",
       "      <td>549</td>\n",
       "      <td>[1, 1, 2, 1, 1, 1, 1, 0, 1, 1, 3, 1, 2, 1, 1, ...</td>\n",
       "      <td>164</td>\n",
       "      <td>0.117857</td>\n",
       "    </tr>\n",
       "    <tr>\n",
       "      <th>1622</th>\n",
       "      <td>The long grass rustled at her feet as the Whit...</td>\n",
       "      <td>[3, 4, 5, 7, 2, 3, 4, 2, 3, 5, 6, 7, 2, 3, 10,...</td>\n",
       "      <td>516</td>\n",
       "      <td>[1, 1, 1, 1, 1, 1, 1, 1, 1, 1, 2, 2, 1, 1, 2, ...</td>\n",
       "      <td>148</td>\n",
       "      <td>-0.065000</td>\n",
       "    </tr>\n",
       "    <tr>\n",
       "      <th>1623</th>\n",
       "      <td>So she sat on, with closed eyes, and half beli...</td>\n",
       "      <td>[2, 3, 3, 2, 4, 6, 4, 3, 4, 8, 7, 2, 10, 6, 3,...</td>\n",
       "      <td>504</td>\n",
       "      <td>[1, 0, 1, 1, 1, 1, 0, 1, 1, 3, 2, 1, 3, 1, 0, ...</td>\n",
       "      <td>145</td>\n",
       "      <td>-0.158333</td>\n",
       "    </tr>\n",
       "    <tr>\n",
       "      <th>1624</th>\n",
       "      <td>Lastly, she pictured to herself how this same ...</td>\n",
       "      <td>[6, 3, 8, 2, 7, 3, 4, 4, 6, 6, 2, 4, 5, 2, 3, ...</td>\n",
       "      <td>441</td>\n",
       "      <td>[2, 0, 2, 1, 2, 1, 1, 1, 1, 2, 1, 1, 1, 1, 1, ...</td>\n",
       "      <td>129</td>\n",
       "      <td>0.173333</td>\n",
       "    </tr>\n",
       "    <tr>\n",
       "      <th>1625</th>\n",
       "      <td>THE END</td>\n",
       "      <td>[3, 3]</td>\n",
       "      <td>6</td>\n",
       "      <td>[1, 1]</td>\n",
       "      <td>2</td>\n",
       "      <td>0.000000</td>\n",
       "    </tr>\n",
       "  </tbody>\n",
       "</table>\n",
       "</div>"
      ],
      "text/plain": [
       "                                                      0  \\\n",
       "1621  But her sister sat still just as she left her,...   \n",
       "1622  The long grass rustled at her feet as the Whit...   \n",
       "1623  So she sat on, with closed eyes, and half beli...   \n",
       "1624  Lastly, she pictured to herself how this same ...   \n",
       "1625                                       THE END        \n",
       "\n",
       "                                             wrd_length  total_char  \\\n",
       "1621  [3, 3, 6, 3, 5, 4, 2, 3, 4, 3, 7, 3, 4, 2, 3, ...         549   \n",
       "1622  [3, 4, 5, 7, 2, 3, 4, 2, 3, 5, 6, 7, 2, 3, 10,...         516   \n",
       "1623  [2, 3, 3, 2, 4, 6, 4, 3, 4, 8, 7, 2, 10, 6, 3,...         504   \n",
       "1624  [6, 3, 8, 2, 7, 3, 4, 4, 6, 6, 2, 4, 5, 2, 3, ...         441   \n",
       "1625                                             [3, 3]           6   \n",
       "\n",
       "                                              syl_count  syl_sum  sentiment  \n",
       "1621  [1, 1, 2, 1, 1, 1, 1, 0, 1, 1, 3, 1, 2, 1, 1, ...      164   0.117857  \n",
       "1622  [1, 1, 1, 1, 1, 1, 1, 1, 1, 1, 2, 2, 1, 1, 2, ...      148  -0.065000  \n",
       "1623  [1, 0, 1, 1, 1, 1, 0, 1, 1, 3, 2, 1, 3, 1, 0, ...      145  -0.158333  \n",
       "1624  [2, 0, 2, 1, 2, 1, 1, 1, 1, 2, 1, 1, 1, 1, 1, ...      129   0.173333  \n",
       "1625                                             [1, 1]        2   0.000000  "
      ]
     },
     "execution_count": 111,
     "metadata": {},
     "output_type": "execute_result"
    }
   ],
   "source": [
    "df_novel.tail()"
   ]
  },
  {
   "cell_type": "code",
   "execution_count": 103,
   "metadata": {
    "collapsed": true
   },
   "outputs": [],
   "source": [
    "df_novel_senti = df_novel"
   ]
  },
  {
   "cell_type": "code",
   "execution_count": 104,
   "metadata": {
    "collapsed": false
   },
   "outputs": [
    {
     "data": {
      "text/plain": [
       "109528"
      ]
     },
     "execution_count": 104,
     "metadata": {},
     "output_type": "execute_result"
    }
   ],
   "source": [
    "df_novel_senti['total_char'].sum()"
   ]
  },
  {
   "cell_type": "code",
   "execution_count": 105,
   "metadata": {
    "collapsed": true
   },
   "outputs": [],
   "source": [
    "ratio = (df_novel['total_char'].sum()/3)"
   ]
  },
  {
   "cell_type": "code",
   "execution_count": 106,
   "metadata": {
    "collapsed": false
   },
   "outputs": [
    {
     "data": {
      "text/plain": [
       "36509"
      ]
     },
     "execution_count": 106,
     "metadata": {},
     "output_type": "execute_result"
    }
   ],
   "source": [
    "ratio"
   ]
  },
  {
   "cell_type": "code",
   "execution_count": 116,
   "metadata": {
    "collapsed": false
   },
   "outputs": [
    {
     "ename": "SyntaxError",
     "evalue": "'break' outside loop (<ipython-input-116-ada6891d6985>, line 12)",
     "output_type": "error",
     "traceback": [
      "\u001b[0;36m  File \u001b[0;32m\"<ipython-input-116-ada6891d6985>\"\u001b[0;36m, line \u001b[0;32m12\u001b[0m\n\u001b[0;31m    break\u001b[0m\n\u001b[0;31mSyntaxError\u001b[0m\u001b[0;31m:\u001b[0m 'break' outside loop\n"
     ]
    }
   ],
   "source": [
    "t = 0\n",
    "x = 0\n",
    "ratio = (df_novel['total_char'].sum()/3) -00\n",
    "def find_this(t, x):\n",
    "    w = 0    \n",
    "    sent_stop = []\n",
    "    while w < ratio:\n",
    "        w = df_novel['total_char'][t:x].sum()\n",
    "        sent_stop.append(x)\n",
    "        x += 1\n",
    "    return max(sent_stop)  "
   ]
  },
  {
   "cell_type": "code",
   "execution_count": 115,
   "metadata": {
    "collapsed": false
   },
   "outputs": [
    {
     "name": "stdout",
     "output_type": "stream",
     "text": [
      "df_novel['total_char'][0:482]\n",
      "df_novel['total_char'][482:1042]\n",
      "df_novel['total_char'][1042:1623]\n"
     ]
    },
    {
     "ename": "KeyboardInterrupt",
     "evalue": "",
     "output_type": "error",
     "traceback": [
      "\u001b[0;31m---------------------------------------------------------------------------\u001b[0m",
      "\u001b[0;31mKeyboardInterrupt\u001b[0m                         Traceback (most recent call last)",
      "\u001b[0;32m<ipython-input-115-4b95215346fd>\u001b[0m in \u001b[0;36m<module>\u001b[0;34m()\u001b[0m\n\u001b[1;32m      4\u001b[0m \u001b[0mstop_point\u001b[0m \u001b[0;34m=\u001b[0m \u001b[0;34m[\u001b[0m\u001b[0;34m]\u001b[0m\u001b[0;34m\u001b[0m\u001b[0m\n\u001b[1;32m      5\u001b[0m \u001b[0;32mfor\u001b[0m \u001b[0mn\u001b[0m \u001b[0;32min\u001b[0m \u001b[0mrange\u001b[0m\u001b[0;34m(\u001b[0m\u001b[0;36m1\u001b[0m\u001b[0;34m,\u001b[0m \u001b[0;36m21\u001b[0m\u001b[0;34m)\u001b[0m\u001b[0;34m:\u001b[0m\u001b[0;34m\u001b[0m\u001b[0m\n\u001b[0;32m----> 6\u001b[0;31m     \u001b[0ms\u001b[0m \u001b[0;34m=\u001b[0m \u001b[0mfind_this\u001b[0m\u001b[0;34m(\u001b[0m\u001b[0mt\u001b[0m\u001b[0;34m,\u001b[0m \u001b[0mx\u001b[0m\u001b[0;34m)\u001b[0m\u001b[0;34m\u001b[0m\u001b[0m\n\u001b[0m\u001b[1;32m      7\u001b[0m     \u001b[0;32mprint\u001b[0m \u001b[0;34m\"df_novel['total_char'][%s:%s]\"\u001b[0m \u001b[0;34m%\u001b[0m\u001b[0;34m(\u001b[0m\u001b[0mt\u001b[0m\u001b[0;34m,\u001b[0m \u001b[0ms\u001b[0m\u001b[0;34m)\u001b[0m\u001b[0;34m\u001b[0m\u001b[0m\n\u001b[1;32m      8\u001b[0m     \u001b[0mstart_point\u001b[0m\u001b[0;34m.\u001b[0m\u001b[0mappend\u001b[0m\u001b[0;34m(\u001b[0m\u001b[0mt\u001b[0m\u001b[0;34m)\u001b[0m\u001b[0;34m\u001b[0m\u001b[0m\n",
      "\u001b[0;32m<ipython-input-114-d6ac74883d0e>\u001b[0m in \u001b[0;36mfind_this\u001b[0;34m(t, x)\u001b[0m\n\u001b[1;32m      6\u001b[0m     \u001b[0msent_stop\u001b[0m \u001b[0;34m=\u001b[0m \u001b[0;34m[\u001b[0m\u001b[0;34m]\u001b[0m\u001b[0;34m\u001b[0m\u001b[0m\n\u001b[1;32m      7\u001b[0m     \u001b[0;32mwhile\u001b[0m \u001b[0mw\u001b[0m \u001b[0;34m<\u001b[0m \u001b[0mratio\u001b[0m\u001b[0;34m:\u001b[0m\u001b[0;34m\u001b[0m\u001b[0m\n\u001b[0;32m----> 8\u001b[0;31m         \u001b[0mw\u001b[0m \u001b[0;34m=\u001b[0m \u001b[0mdf_novel\u001b[0m\u001b[0;34m[\u001b[0m\u001b[0;34m'total_char'\u001b[0m\u001b[0;34m]\u001b[0m\u001b[0;34m[\u001b[0m\u001b[0mt\u001b[0m\u001b[0;34m:\u001b[0m\u001b[0mx\u001b[0m\u001b[0;34m]\u001b[0m\u001b[0;34m.\u001b[0m\u001b[0msum\u001b[0m\u001b[0;34m(\u001b[0m\u001b[0;34m)\u001b[0m\u001b[0;34m\u001b[0m\u001b[0m\n\u001b[0m\u001b[1;32m      9\u001b[0m         \u001b[0msent_stop\u001b[0m\u001b[0;34m.\u001b[0m\u001b[0mappend\u001b[0m\u001b[0;34m(\u001b[0m\u001b[0mx\u001b[0m\u001b[0;34m)\u001b[0m\u001b[0;34m\u001b[0m\u001b[0m\n\u001b[1;32m     10\u001b[0m         \u001b[0mx\u001b[0m \u001b[0;34m+=\u001b[0m \u001b[0;36m1\u001b[0m\u001b[0;34m\u001b[0m\u001b[0m\n",
      "\u001b[0;32m/Users/aliciagyori/anaconda/lib/python2.7/site-packages/pandas/core/series.pyc\u001b[0m in \u001b[0;36m__getitem__\u001b[0;34m(self, key)\u001b[0m\n\u001b[1;32m    622\u001b[0m             \u001b[0mkey\u001b[0m \u001b[0;34m=\u001b[0m \u001b[0mcheck_bool_indexer\u001b[0m\u001b[0;34m(\u001b[0m\u001b[0mself\u001b[0m\u001b[0;34m.\u001b[0m\u001b[0mindex\u001b[0m\u001b[0;34m,\u001b[0m \u001b[0mkey\u001b[0m\u001b[0;34m)\u001b[0m\u001b[0;34m\u001b[0m\u001b[0m\n\u001b[1;32m    623\u001b[0m \u001b[0;34m\u001b[0m\u001b[0m\n\u001b[0;32m--> 624\u001b[0;31m         \u001b[0;32mreturn\u001b[0m \u001b[0mself\u001b[0m\u001b[0;34m.\u001b[0m\u001b[0m_get_with\u001b[0m\u001b[0;34m(\u001b[0m\u001b[0mkey\u001b[0m\u001b[0;34m)\u001b[0m\u001b[0;34m\u001b[0m\u001b[0m\n\u001b[0m\u001b[1;32m    625\u001b[0m \u001b[0;34m\u001b[0m\u001b[0m\n\u001b[1;32m    626\u001b[0m     \u001b[0;32mdef\u001b[0m \u001b[0m_get_with\u001b[0m\u001b[0;34m(\u001b[0m\u001b[0mself\u001b[0m\u001b[0;34m,\u001b[0m \u001b[0mkey\u001b[0m\u001b[0;34m)\u001b[0m\u001b[0;34m:\u001b[0m\u001b[0;34m\u001b[0m\u001b[0m\n",
      "\u001b[0;32m/Users/aliciagyori/anaconda/lib/python2.7/site-packages/pandas/core/series.pyc\u001b[0m in \u001b[0;36m_get_with\u001b[0;34m(self, key)\u001b[0m\n\u001b[1;32m    628\u001b[0m         \u001b[0;32mif\u001b[0m \u001b[0misinstance\u001b[0m\u001b[0;34m(\u001b[0m\u001b[0mkey\u001b[0m\u001b[0;34m,\u001b[0m \u001b[0mslice\u001b[0m\u001b[0;34m)\u001b[0m\u001b[0;34m:\u001b[0m\u001b[0;34m\u001b[0m\u001b[0m\n\u001b[1;32m    629\u001b[0m             \u001b[0mindexer\u001b[0m \u001b[0;34m=\u001b[0m \u001b[0mself\u001b[0m\u001b[0;34m.\u001b[0m\u001b[0mindex\u001b[0m\u001b[0;34m.\u001b[0m\u001b[0m_convert_slice_indexer\u001b[0m\u001b[0;34m(\u001b[0m\u001b[0mkey\u001b[0m\u001b[0;34m,\u001b[0m \u001b[0mkind\u001b[0m\u001b[0;34m=\u001b[0m\u001b[0;34m'getitem'\u001b[0m\u001b[0;34m)\u001b[0m\u001b[0;34m\u001b[0m\u001b[0m\n\u001b[0;32m--> 630\u001b[0;31m             \u001b[0;32mreturn\u001b[0m \u001b[0mself\u001b[0m\u001b[0;34m.\u001b[0m\u001b[0m_get_values\u001b[0m\u001b[0;34m(\u001b[0m\u001b[0mindexer\u001b[0m\u001b[0;34m)\u001b[0m\u001b[0;34m\u001b[0m\u001b[0m\n\u001b[0m\u001b[1;32m    631\u001b[0m         \u001b[0;32melif\u001b[0m \u001b[0misinstance\u001b[0m\u001b[0;34m(\u001b[0m\u001b[0mkey\u001b[0m\u001b[0;34m,\u001b[0m \u001b[0mABCDataFrame\u001b[0m\u001b[0;34m)\u001b[0m\u001b[0;34m:\u001b[0m\u001b[0;34m\u001b[0m\u001b[0m\n\u001b[1;32m    632\u001b[0m             raise TypeError('Indexing a Series with DataFrame is not '\n",
      "\u001b[0;32m/Users/aliciagyori/anaconda/lib/python2.7/site-packages/pandas/core/series.pyc\u001b[0m in \u001b[0;36m_get_values\u001b[0;34m(self, indexer)\u001b[0m\n\u001b[1;32m    690\u001b[0m         \u001b[0;32mtry\u001b[0m\u001b[0;34m:\u001b[0m\u001b[0;34m\u001b[0m\u001b[0m\n\u001b[1;32m    691\u001b[0m             return self._constructor(self._data.get_slice(indexer),\n\u001b[0;32m--> 692\u001b[0;31m                                      fastpath=True).__finalize__(self)\n\u001b[0m\u001b[1;32m    693\u001b[0m         \u001b[0;32mexcept\u001b[0m \u001b[0mException\u001b[0m\u001b[0;34m:\u001b[0m\u001b[0;34m\u001b[0m\u001b[0m\n\u001b[1;32m    694\u001b[0m             \u001b[0;32mreturn\u001b[0m \u001b[0mself\u001b[0m\u001b[0;34m.\u001b[0m\u001b[0m_values\u001b[0m\u001b[0;34m[\u001b[0m\u001b[0mindexer\u001b[0m\u001b[0;34m]\u001b[0m\u001b[0;34m\u001b[0m\u001b[0m\n",
      "\u001b[0;31mKeyboardInterrupt\u001b[0m: "
     ]
    }
   ],
   "source": [
    "t = 0\n",
    "x = 0\n",
    "start_point = []\n",
    "stop_point = []\n",
    "for n in range(1, 21):\n",
    "    s = find_this(t, x)\n",
    "    print \"df_novel['total_char'][%s:%s]\" %(t, s)\n",
    "    start_point.append(t)\n",
    "    stop_point.append(s)\n",
    "    t = s\n",
    "    x = s + 1  "
   ]
  },
  {
   "cell_type": "code",
   "execution_count": 117,
   "metadata": {
    "collapsed": false
   },
   "outputs": [
    {
     "data": {
      "text/plain": [
       "[0, 482, 1042]"
      ]
     },
     "execution_count": 117,
     "metadata": {},
     "output_type": "execute_result"
    }
   ],
   "source": [
    "start_point"
   ]
  },
  {
   "cell_type": "code",
   "execution_count": 121,
   "metadata": {
    "collapsed": false
   },
   "outputs": [
    {
     "name": "stdout",
     "output_type": "stream",
     "text": [
      "0\n",
      "482\n",
      "0.0209354557271\n",
      "482\n",
      "1042\n",
      "0.00324546861249\n",
      "1042\n",
      "1623\n",
      "0.0505208745095\n"
     ]
    }
   ],
   "source": [
    "three_piece_char = []\n",
    "st = 0\n",
    "for l in start_point: \n",
    "    strt = start_point[st]\n",
    "    stp = stop_point[st]\n",
    "    print strt\n",
    "    print stp\n",
    "    mn = df_novel['sentiment'][strt:stp].mean()\n",
    "    three_piece_char.append(mn)\n",
    "    print mn\n",
    "    st +=1"
   ]
  },
  {
   "cell_type": "code",
   "execution_count": 125,
   "metadata": {
    "collapsed": false
   },
   "outputs": [
    {
     "name": "stdout",
     "output_type": "stream",
     "text": [
      "[ 0.02093546  0.00324547  0.05052087]\n"
     ]
    }
   ],
   "source": [
    "n = np.array(n)\n",
    "three_piece_char = np.array(three_piece_char)\n",
    "print three_piece_char"
   ]
  },
  {
   "cell_type": "code",
   "execution_count": 126,
   "metadata": {
    "collapsed": false
   },
   "outputs": [
    {
     "data": {
      "image/png": "[encoded data removed]",
      "text/plain": [
       "<matplotlib.figure.Figure at 0x103f62650>"
      ]
     },
     "metadata": {},
     "output_type": "display_data"
    }
   ],
   "source": [
    "plt.plot(three_piece_char)\n",
    "plt.ylabel('sentiment')\n",
    "plt.show()"
   ]
  },
  {
   "cell_type": "code",
   "execution_count": 124,
   "metadata": {
    "collapsed": false
   },
   "outputs": [
    {
     "data": {
      "image/png": "[encoded data removed]",
      "text/plain": [
       "<matplotlib.figure.Figure at 0x103f28650>"
      ]
     },
     "metadata": {},
     "output_type": "display_data"
    }
   ],
   "source": [
    "plt.bar(range(3), three_piece_char)\n",
    "plt.ylabel('sentiment')\n",
    "plt.show()"
   ]
  },
  {
   "cell_type": "code",
   "execution_count": 128,
   "metadata": {
    "collapsed": false
   },
   "outputs": [
    {
     "data": {
      "text/html": [
       "<div>\n",
       "<table border=\"1\" class=\"dataframe\">\n",
       "  <thead>\n",
       "    <tr style=\"text-align: right;\">\n",
       "      <th></th>\n",
       "      <th>0</th>\n",
       "      <th>total_char</th>\n",
       "      <th>syl_sum</th>\n",
       "      <th>sentiment</th>\n",
       "      <th>cluster</th>\n",
       "    </tr>\n",
       "  </thead>\n",
       "  <tbody>\n",
       "    <tr>\n",
       "      <th>0</th>\n",
       "      <td>Down the Rabbit-Hole  Alice was beginning to g...</td>\n",
       "      <td>256</td>\n",
       "      <td>83</td>\n",
       "      <td>-0.337778</td>\n",
       "      <td>1</td>\n",
       "    </tr>\n",
       "    <tr>\n",
       "      <th>1</th>\n",
       "      <td>So she was considering in her own mind (as wel...</td>\n",
       "      <td>229</td>\n",
       "      <td>70</td>\n",
       "      <td>0.031250</td>\n",
       "      <td>8</td>\n",
       "    </tr>\n",
       "    <tr>\n",
       "      <th>2</th>\n",
       "      <td>There was nothing so VERY remarkable in that; ...</td>\n",
       "      <td>109</td>\n",
       "      <td>39</td>\n",
       "      <td>0.650000</td>\n",
       "      <td>16</td>\n",
       "    </tr>\n",
       "    <tr>\n",
       "      <th>3</th>\n",
       "      <td>Oh dear!</td>\n",
       "      <td>6</td>\n",
       "      <td>3</td>\n",
       "      <td>0.000000</td>\n",
       "      <td>11</td>\n",
       "    </tr>\n",
       "    <tr>\n",
       "      <th>4</th>\n",
       "      <td>I shall be late!'</td>\n",
       "      <td>12</td>\n",
       "      <td>4</td>\n",
       "      <td>-0.375000</td>\n",
       "      <td>7</td>\n",
       "    </tr>\n",
       "  </tbody>\n",
       "</table>\n",
       "</div>"
      ],
      "text/plain": [
       "                                                   0  total_char  syl_sum  \\\n",
       "0  Down the Rabbit-Hole  Alice was beginning to g...         256       83   \n",
       "1  So she was considering in her own mind (as wel...         229       70   \n",
       "2  There was nothing so VERY remarkable in that; ...         109       39   \n",
       "3                                           Oh dear!           6        3   \n",
       "4                                  I shall be late!'          12        4   \n",
       "\n",
       "   sentiment  cluster  \n",
       "0  -0.337778        1  \n",
       "1   0.031250        8  \n",
       "2   0.650000       16  \n",
       "3   0.000000       11  \n",
       "4  -0.375000        7  "
      ]
     },
     "execution_count": 128,
     "metadata": {},
     "output_type": "execute_result"
    }
   ],
   "source": [
    "df_cluster.head()"
   ]
  },
  {
   "cell_type": "code",
   "execution_count": 129,
   "metadata": {
    "collapsed": true
   },
   "outputs": [],
   "source": [
    "df_cluster5 = df_cluster"
   ]
  },
  {
   "cell_type": "code",
   "execution_count": 130,
   "metadata": {
    "collapsed": false
   },
   "outputs": [
    {
     "data": {
      "text/html": [
       "<div>\n",
       "<table border=\"1\" class=\"dataframe\">\n",
       "  <thead>\n",
       "    <tr style=\"text-align: right;\">\n",
       "      <th></th>\n",
       "      <th>0</th>\n",
       "      <th>total_char</th>\n",
       "      <th>syl_sum</th>\n",
       "      <th>sentiment</th>\n",
       "      <th>cluster</th>\n",
       "    </tr>\n",
       "  </thead>\n",
       "  <tbody>\n",
       "    <tr>\n",
       "      <th>0</th>\n",
       "      <td>Down the Rabbit-Hole  Alice was beginning to g...</td>\n",
       "      <td>256</td>\n",
       "      <td>83</td>\n",
       "      <td>-0.337778</td>\n",
       "      <td>1</td>\n",
       "    </tr>\n",
       "    <tr>\n",
       "      <th>1</th>\n",
       "      <td>So she was considering in her own mind (as wel...</td>\n",
       "      <td>229</td>\n",
       "      <td>70</td>\n",
       "      <td>0.031250</td>\n",
       "      <td>8</td>\n",
       "    </tr>\n",
       "    <tr>\n",
       "      <th>2</th>\n",
       "      <td>There was nothing so VERY remarkable in that; ...</td>\n",
       "      <td>109</td>\n",
       "      <td>39</td>\n",
       "      <td>0.650000</td>\n",
       "      <td>16</td>\n",
       "    </tr>\n",
       "    <tr>\n",
       "      <th>3</th>\n",
       "      <td>Oh dear!</td>\n",
       "      <td>6</td>\n",
       "      <td>3</td>\n",
       "      <td>0.000000</td>\n",
       "      <td>11</td>\n",
       "    </tr>\n",
       "    <tr>\n",
       "      <th>4</th>\n",
       "      <td>I shall be late!'</td>\n",
       "      <td>12</td>\n",
       "      <td>4</td>\n",
       "      <td>-0.375000</td>\n",
       "      <td>7</td>\n",
       "    </tr>\n",
       "  </tbody>\n",
       "</table>\n",
       "</div>"
      ],
      "text/plain": [
       "                                                   0  total_char  syl_sum  \\\n",
       "0  Down the Rabbit-Hole  Alice was beginning to g...         256       83   \n",
       "1  So she was considering in her own mind (as wel...         229       70   \n",
       "2  There was nothing so VERY remarkable in that; ...         109       39   \n",
       "3                                           Oh dear!           6        3   \n",
       "4                                  I shall be late!'          12        4   \n",
       "\n",
       "   sentiment  cluster  \n",
       "0  -0.337778        1  \n",
       "1   0.031250        8  \n",
       "2   0.650000       16  \n",
       "3   0.000000       11  \n",
       "4  -0.375000        7  "
      ]
     },
     "execution_count": 130,
     "metadata": {},
     "output_type": "execute_result"
    }
   ],
   "source": [
    "df_cluster.head()"
   ]
  },
  {
   "cell_type": "code",
   "execution_count": 131,
   "metadata": {
    "collapsed": true
   },
   "outputs": [],
   "source": [
    "X = df_cluster5.drop(0, axis=1)"
   ]
  },
  {
   "cell_type": "code",
   "execution_count": 132,
   "metadata": {
    "collapsed": true
   },
   "outputs": [],
   "source": [
    "scaler = StandardScaler()\n",
    "X_scaled = scaler.fit_transform(X)"
   ]
  },
  {
   "cell_type": "code",
   "execution_count": 133,
   "metadata": {
    "collapsed": false
   },
   "outputs": [
    {
     "data": {
      "text/plain": [
       "KMeans(copy_x=True, init='k-means++', max_iter=300, n_clusters=5, n_init=10,\n",
       "    n_jobs=1, precompute_distances='auto', random_state=1, tol=0.0001,\n",
       "    verbose=0)"
      ]
     },
     "execution_count": 133,
     "metadata": {},
     "output_type": "execute_result"
    }
   ],
   "source": [
    "km = KMeans(n_clusters=5, random_state=1)\n",
    "km.fit(X_scaled)"
   ]
  },
  {
   "cell_type": "code",
   "execution_count": 134,
   "metadata": {
    "collapsed": true
   },
   "outputs": [],
   "source": [
    "df_cluster5['cluster'] = km.labels_"
   ]
  },
  {
   "cell_type": "code",
   "execution_count": 135,
   "metadata": {
    "collapsed": false
   },
   "outputs": [
    {
     "data": {
      "text/html": [
       "<div>\n",
       "<table border=\"1\" class=\"dataframe\">\n",
       "  <thead>\n",
       "    <tr style=\"text-align: right;\">\n",
       "      <th></th>\n",
       "      <th>total_char</th>\n",
       "      <th>syl_sum</th>\n",
       "      <th>sentiment</th>\n",
       "    </tr>\n",
       "    <tr>\n",
       "      <th>cluster</th>\n",
       "      <th></th>\n",
       "      <th></th>\n",
       "      <th></th>\n",
       "    </tr>\n",
       "  </thead>\n",
       "  <tbody>\n",
       "    <tr>\n",
       "      <th>0</th>\n",
       "      <td>37.585311</td>\n",
       "      <td>11.528814</td>\n",
       "      <td>-0.065021</td>\n",
       "    </tr>\n",
       "    <tr>\n",
       "      <th>1</th>\n",
       "      <td>60.933333</td>\n",
       "      <td>18.894444</td>\n",
       "      <td>0.492801</td>\n",
       "    </tr>\n",
       "    <tr>\n",
       "      <th>2</th>\n",
       "      <td>529.555556</td>\n",
       "      <td>161.666667</td>\n",
       "      <td>0.009813</td>\n",
       "    </tr>\n",
       "    <tr>\n",
       "      <th>3</th>\n",
       "      <td>169.704225</td>\n",
       "      <td>52.105634</td>\n",
       "      <td>0.033182</td>\n",
       "    </tr>\n",
       "    <tr>\n",
       "      <th>4</th>\n",
       "      <td>46.026119</td>\n",
       "      <td>14.119403</td>\n",
       "      <td>0.002250</td>\n",
       "    </tr>\n",
       "  </tbody>\n",
       "</table>\n",
       "</div>"
      ],
      "text/plain": [
       "         total_char     syl_sum  sentiment\n",
       "cluster                                   \n",
       "0         37.585311   11.528814  -0.065021\n",
       "1         60.933333   18.894444   0.492801\n",
       "2        529.555556  161.666667   0.009813\n",
       "3        169.704225   52.105634   0.033182\n",
       "4         46.026119   14.119403   0.002250"
      ]
     },
     "execution_count": 135,
     "metadata": {},
     "output_type": "execute_result"
    }
   ],
   "source": [
    "df_cluster5.groupby('cluster').mean()"
   ]
  },
  {
   "cell_type": "code",
   "execution_count": 137,
   "metadata": {
    "collapsed": true
   },
   "outputs": [],
   "source": [
    "alice_cluster_5 = df_cluster5.groupby('cluster').mean()"
   ]
  },
  {
   "cell_type": "code",
   "execution_count": 138,
   "metadata": {
    "collapsed": false
   },
   "outputs": [],
   "source": [
    "alice_cluster_5.to_csv('alice_cluster_5.csv', index=False)"
   ]
  },
  {
   "cell_type": "code",
   "execution_count": null,
   "metadata": {
    "collapsed": true
   },
   "outputs": [],
   "source": []
  }
 ],
 "metadata": {
  "kernelspec": {
   "display_name": "Python [Root]",
   "language": "python",
   "name": "Python [Root]"
  },
  "language_info": {
   "codemirror_mode": {
    "name": "ipython",
    "version": 3
   },
   "file_extension": ".py",
   "mimetype": "text/x-python",
   "name": "python",
   "nbconvert_exporter": "python",
   "pygments_lexer": "ipython3",
   "version": "3.5.2"
  }
 },
 "nbformat": 4,
 "nbformat_minor": 0
}
