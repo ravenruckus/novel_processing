{
 "cells": [
  {
   "cell_type": "code",
   "execution_count": 1,
   "metadata": {
    "collapsed": true
   },
   "outputs": [],
   "source": [
    "import pandas as pd\n",
    "from textblob import TextBlob\n",
    "import csv\n",
    "from gutenberg.acquire import load_etext\n",
    "from gutenberg.cleanup import strip_headers\n",
    "import os\n",
    "import numpy as np"
   ]
  },
  {
   "cell_type": "code",
   "execution_count": 2,
   "metadata": {
    "collapsed": true
   },
   "outputs": [],
   "source": [
    "import seaborn as sns\n",
    "import matplotlib.pyplot as plt\n",
    "%matplotlib inline\n",
    "plt.rcParams['figure.figsize'] = (8, 6)\n",
    "plt.rcParams['font.size'] = 14"
   ]
  },
  {
   "cell_type": "markdown",
   "metadata": {},
   "source": [
    "Create the novel variables"
   ]
  },
  {
   "cell_type": "code",
   "execution_count": 8,
   "metadata": {
    "collapsed": true
   },
   "outputs": [],
   "source": [
    "n =  5228 #novel number\n",
    "t = 'Search_Sky'#novel name\n",
    "s = 6 #how many rows to skip"
   ]
  },
  {
   "cell_type": "markdown",
   "metadata": {},
   "source": [
    "* Get the novels from Gutenberg.\n",
    "* Strip them of unwanted information.\n",
    "* Tokenize the text into sentences."
   ]
  },
  {
   "cell_type": "code",
   "execution_count": 9,
   "metadata": {
    "collapsed": true
   },
   "outputs": [],
   "source": [
    "novel = strip_headers(load_etext(n))\n",
    "novel = novel.replace('\\n', ' ')\n",
    "novel= TextBlob(novel)\n",
    "novel_sentences = novel.sentences\n",
    "novel_title = t"
   ]
  },
  {
   "cell_type": "markdown",
   "metadata": {},
   "source": [
    "Write the sentences to a csv file. \n",
    "-There is a bug I haven't figure out yet that requires me to write to csv twice to avoid errors."
   ]
  },
  {
   "cell_type": "code",
   "execution_count": 10,
   "metadata": {
    "collapsed": true
   },
   "outputs": [],
   "source": [
    "for l in range(2):\n",
    "    novelWriter = csv.writer(open('data/novel_'+novel_title+'.csv', 'w'), delimiter=',')\n",
    "    for sentence in novel_sentences:\n",
    "        novelWriter.writerow([sentence])"
   ]
  },
  {
   "cell_type": "markdown",
   "metadata": {},
   "source": [
    "Read in the csv file to pandas"
   ]
  },
  {
   "cell_type": "code",
   "execution_count": 11,
   "metadata": {
    "collapsed": true
   },
   "outputs": [],
   "source": [
    "df_novel = pd.read_csv('data/novel_'+novel_title+'.csv', skiprows = s, header=None)"
   ]
  },
  {
   "cell_type": "code",
   "execution_count": 14,
   "metadata": {
    "collapsed": false
   },
   "outputs": [
    {
     "data": {
      "text/html": [
       "<div>\n",
       "<table border=\"1\" class=\"dataframe\">\n",
       "  <thead>\n",
       "    <tr style=\"text-align: right;\">\n",
       "      <th></th>\n",
       "      <th>0</th>\n",
       "    </tr>\n",
       "  </thead>\n",
       "  <tbody>\n",
       "    <tr>\n",
       "      <th>0</th>\n",
       "      <td>Often I sit alone at night, staring with the e...</td>\n",
       "    </tr>\n",
       "    <tr>\n",
       "      <th>1</th>\n",
       "      <td>And when, ultimately, that _final_      develo...</td>\n",
       "    </tr>\n",
       "    <tr>\n",
       "      <th>2</th>\n",
       "      <td>--      _She_, Silver Library Edition, p. 277.</td>\n",
       "    </tr>\n",
       "    <tr>\n",
       "      <th>3</th>\n",
       "      <td>DEDICATION  My dear Lang,  The appointed years...</td>\n",
       "    </tr>\n",
       "    <tr>\n",
       "      <th>4</th>\n",
       "      <td>how many of them--are gone by, leaving Ayesha ...</td>\n",
       "    </tr>\n",
       "  </tbody>\n",
       "</table>\n",
       "</div>"
      ],
      "text/plain": [
       "                                                   0\n",
       "0  Often I sit alone at night, staring with the e...\n",
       "1  And when, ultimately, that _final_      develo...\n",
       "2     --      _She_, Silver Library Edition, p. 277.\n",
       "3  DEDICATION  My dear Lang,  The appointed years...\n",
       "4  how many of them--are gone by, leaving Ayesha ..."
      ]
     },
     "execution_count": 14,
     "metadata": {},
     "output_type": "execute_result"
    }
   ],
   "source": [
    "df_novel.head()"
   ]
  },
  {
   "cell_type": "markdown",
   "metadata": {},
   "source": [
    "Create the wrd_length and total_char columns."
   ]
  },
  {
   "cell_type": "code",
   "execution_count": 15,
   "metadata": {
    "collapsed": true
   },
   "outputs": [],
   "source": [
    "wrd_length = []\n",
    "total_char = []\n",
    "def wrd_char_counts(sentence):\n",
    "    total_chars = 0\n",
    "    wrd_counts = []\n",
    "    for word in sentence:\n",
    "        char_count = len(word)\n",
    "        wrd_counts.append(char_count)\n",
    "        total_chars += char_count\n",
    "    total_char.append(total_chars)\n",
    "    wrd_length.append(wrd_counts)"
   ]
  },
  {
   "cell_type": "code",
   "execution_count": 16,
   "metadata": {
    "collapsed": true
   },
   "outputs": [],
   "source": [
    "for l in df_novel[0]:\n",
    "    sent = TextBlob(l)\n",
    "    wrd_char_counts(sent.words)"
   ]
  },
  {
   "cell_type": "code",
   "execution_count": 17,
   "metadata": {
    "collapsed": true
   },
   "outputs": [],
   "source": [
    "df_novel['wrd_length'] = wrd_length\n",
    "df_novel['total_char'] = total_char"
   ]
  },
  {
   "cell_type": "code",
   "execution_count": 18,
   "metadata": {
    "collapsed": false
   },
   "outputs": [
    {
     "data": {
      "text/html": [
       "<div>\n",
       "<table border=\"1\" class=\"dataframe\">\n",
       "  <thead>\n",
       "    <tr style=\"text-align: right;\">\n",
       "      <th></th>\n",
       "      <th>0</th>\n",
       "      <th>wrd_length</th>\n",
       "      <th>total_char</th>\n",
       "    </tr>\n",
       "  </thead>\n",
       "  <tbody>\n",
       "    <tr>\n",
       "      <th>0</th>\n",
       "      <td>Often I sit alone at night, staring with the e...</td>\n",
       "      <td>[5, 1, 3, 5, 2, 5, 7, 4, 3, 4, 2, 2, 4, 4, 3, ...</td>\n",
       "      <td>178</td>\n",
       "    </tr>\n",
       "    <tr>\n",
       "      <th>1</th>\n",
       "      <td>And when, ultimately, that _final_      develo...</td>\n",
       "      <td>[3, 4, 10, 4, 5, 11, 6, 2, 1, 4, 2, 5, 2, 4, 3...</td>\n",
       "      <td>381</td>\n",
       "    </tr>\n",
       "    <tr>\n",
       "      <th>2</th>\n",
       "      <td>--      _She_, Silver Library Edition, p. 277.</td>\n",
       "      <td>[3, 6, 7, 7, 1, 3]</td>\n",
       "      <td>27</td>\n",
       "    </tr>\n",
       "    <tr>\n",
       "      <th>3</th>\n",
       "      <td>DEDICATION  My dear Lang,  The appointed years...</td>\n",
       "      <td>[10, 2, 4, 4, 3, 9, 5, 4]</td>\n",
       "      <td>41</td>\n",
       "    </tr>\n",
       "    <tr>\n",
       "      <th>4</th>\n",
       "      <td>how many of them--are gone by, leaving Ayesha ...</td>\n",
       "      <td>[3, 4, 2, 4, 3, 4, 2, 7, 6, 6, 3, 6, 3, 9, 5]</td>\n",
       "      <td>67</td>\n",
       "    </tr>\n",
       "  </tbody>\n",
       "</table>\n",
       "</div>"
      ],
      "text/plain": [
       "                                                   0  \\\n",
       "0  Often I sit alone at night, staring with the e...   \n",
       "1  And when, ultimately, that _final_      develo...   \n",
       "2     --      _She_, Silver Library Edition, p. 277.   \n",
       "3  DEDICATION  My dear Lang,  The appointed years...   \n",
       "4  how many of them--are gone by, leaving Ayesha ...   \n",
       "\n",
       "                                          wrd_length  total_char  \n",
       "0  [5, 1, 3, 5, 2, 5, 7, 4, 3, 4, 2, 2, 4, 4, 3, ...         178  \n",
       "1  [3, 4, 10, 4, 5, 11, 6, 2, 1, 4, 2, 5, 2, 4, 3...         381  \n",
       "2                                 [3, 6, 7, 7, 1, 3]          27  \n",
       "3                          [10, 2, 4, 4, 3, 9, 5, 4]          41  \n",
       "4      [3, 4, 2, 4, 3, 4, 2, 7, 6, 6, 3, 6, 3, 9, 5]          67  "
      ]
     },
     "execution_count": 18,
     "metadata": {},
     "output_type": "execute_result"
    }
   ],
   "source": [
    "df_novel.head()"
   ]
  },
  {
   "cell_type": "markdown",
   "metadata": {},
   "source": [
    "Create syllable count column"
   ]
  },
  {
   "cell_type": "code",
   "execution_count": 19,
   "metadata": {
    "collapsed": true
   },
   "outputs": [],
   "source": [
    "def CountSyllables(word, isName=True):\n",
    "    vowels = \"aeiouy\"\n",
    "    #single syllables in words like bread and lead, but split in names like Breanne and Adreann\n",
    "    specials = [\"ia\",\"ea\"] if isName else [\"ia\"]\n",
    "    specials_except_end = [\"ie\",\"ya\",\"es\",\"ed\"]  #seperate syllables unless ending the word\n",
    "    currentWord = word.lower()\n",
    "    numVowels = 0\n",
    "    lastWasVowel = False\n",
    "    last_letter = \"\"\n",
    "\n",
    "    for letter in currentWord:\n",
    "        if letter in vowels:\n",
    "            #don't count diphthongs unless special cases\n",
    "            combo = last_letter+letter\n",
    "            if lastWasVowel and combo not in specials and combo not in specials_except_end:\n",
    "                lastWasVowel = True\n",
    "            else:\n",
    "                numVowels += 1\n",
    "                lastWasVowel = True\n",
    "        else:\n",
    "            lastWasVowel = False\n",
    "\n",
    "        last_letter = letter\n",
    "\n",
    "    #remove es & ed which are usually silent\n",
    "    if len(currentWord) > 2 and currentWord[-2:] in specials_except_end:\n",
    "        numVowels -= 1\n",
    "\n",
    "    #remove silent single e, but not ee since it counted it before and we should be correct\n",
    "    elif len(currentWord) > 2 and currentWord[-1:] == \"e\" and currentWord[-2:] != \"ee\" and currentWord != 'the':\n",
    "        numVowels -= 1\n",
    "\n",
    "    return numVowels"
   ]
  },
  {
   "cell_type": "code",
   "execution_count": 20,
   "metadata": {
    "collapsed": true
   },
   "outputs": [],
   "source": [
    "syl = []\n",
    "for l in df_novel[0]:\n",
    "    sent = TextBlob(l)\n",
    "    syl_single = []\n",
    "    for x in sent.words:\n",
    "        m = CountSyllables(x)\n",
    "        syl_single.append(m)\n",
    "    syl.append(syl_single)  "
   ]
  },
  {
   "cell_type": "code",
   "execution_count": 21,
   "metadata": {
    "collapsed": true
   },
   "outputs": [],
   "source": [
    "syl_count_arr = []\n",
    "for n in syl:\n",
    "    n = np.array(n)\n",
    "    syl_count_arr.append(n)"
   ]
  },
  {
   "cell_type": "code",
   "execution_count": 22,
   "metadata": {
    "collapsed": true
   },
   "outputs": [],
   "source": [
    "df_novel['syl_count'] = syl_count_arr"
   ]
  },
  {
   "cell_type": "code",
   "execution_count": 23,
   "metadata": {
    "collapsed": false
   },
   "outputs": [
    {
     "data": {
      "text/html": [
       "<div>\n",
       "<table border=\"1\" class=\"dataframe\">\n",
       "  <thead>\n",
       "    <tr style=\"text-align: right;\">\n",
       "      <th></th>\n",
       "      <th>0</th>\n",
       "      <th>wrd_length</th>\n",
       "      <th>total_char</th>\n",
       "      <th>syl_count</th>\n",
       "    </tr>\n",
       "  </thead>\n",
       "  <tbody>\n",
       "    <tr>\n",
       "      <th>0</th>\n",
       "      <td>Often I sit alone at night, staring with the e...</td>\n",
       "      <td>[5, 1, 3, 5, 2, 5, 7, 4, 3, 4, 2, 2, 4, 4, 3, ...</td>\n",
       "      <td>178</td>\n",
       "      <td>[2, 1, 1, 2, 1, 1, 2, 1, 1, 0, 1, 1, 1, 2, 1, ...</td>\n",
       "    </tr>\n",
       "    <tr>\n",
       "      <th>1</th>\n",
       "      <td>And when, ultimately, that _final_      develo...</td>\n",
       "      <td>[3, 4, 10, 4, 5, 11, 6, 2, 1, 4, 2, 5, 2, 4, 3...</td>\n",
       "      <td>381</td>\n",
       "      <td>[1, 1, 5, 1, 2, 4, 2, 1, 1, 1, 1, 1, 1, 1, 1, ...</td>\n",
       "    </tr>\n",
       "    <tr>\n",
       "      <th>2</th>\n",
       "      <td>--      _She_, Silver Library Edition, p. 277.</td>\n",
       "      <td>[3, 6, 7, 7, 1, 3]</td>\n",
       "      <td>27</td>\n",
       "      <td>[0, 2, 3, 3, 0, 0]</td>\n",
       "    </tr>\n",
       "    <tr>\n",
       "      <th>3</th>\n",
       "      <td>DEDICATION  My dear Lang,  The appointed years...</td>\n",
       "      <td>[10, 2, 4, 4, 3, 9, 5, 4]</td>\n",
       "      <td>41</td>\n",
       "      <td>[4, 1, 2, 1, 1, 2, 2, 2]</td>\n",
       "    </tr>\n",
       "    <tr>\n",
       "      <th>4</th>\n",
       "      <td>how many of them--are gone by, leaving Ayesha ...</td>\n",
       "      <td>[3, 4, 2, 4, 3, 4, 2, 7, 6, 6, 3, 6, 3, 9, 5]</td>\n",
       "      <td>67</td>\n",
       "      <td>[1, 2, 1, 1, 1, 1, 1, 3, 2, 3, 1, 2, 1, 2, 2]</td>\n",
       "    </tr>\n",
       "  </tbody>\n",
       "</table>\n",
       "</div>"
      ],
      "text/plain": [
       "                                                   0  \\\n",
       "0  Often I sit alone at night, staring with the e...   \n",
       "1  And when, ultimately, that _final_      develo...   \n",
       "2     --      _She_, Silver Library Edition, p. 277.   \n",
       "3  DEDICATION  My dear Lang,  The appointed years...   \n",
       "4  how many of them--are gone by, leaving Ayesha ...   \n",
       "\n",
       "                                          wrd_length  total_char  \\\n",
       "0  [5, 1, 3, 5, 2, 5, 7, 4, 3, 4, 2, 2, 4, 4, 3, ...         178   \n",
       "1  [3, 4, 10, 4, 5, 11, 6, 2, 1, 4, 2, 5, 2, 4, 3...         381   \n",
       "2                                 [3, 6, 7, 7, 1, 3]          27   \n",
       "3                          [10, 2, 4, 4, 3, 9, 5, 4]          41   \n",
       "4      [3, 4, 2, 4, 3, 4, 2, 7, 6, 6, 3, 6, 3, 9, 5]          67   \n",
       "\n",
       "                                           syl_count  \n",
       "0  [2, 1, 1, 2, 1, 1, 2, 1, 1, 0, 1, 1, 1, 2, 1, ...  \n",
       "1  [1, 1, 5, 1, 2, 4, 2, 1, 1, 1, 1, 1, 1, 1, 1, ...  \n",
       "2                                 [0, 2, 3, 3, 0, 0]  \n",
       "3                           [4, 1, 2, 1, 1, 2, 2, 2]  \n",
       "4      [1, 2, 1, 1, 1, 1, 1, 3, 2, 3, 1, 2, 1, 2, 2]  "
      ]
     },
     "execution_count": 23,
     "metadata": {},
     "output_type": "execute_result"
    }
   ],
   "source": [
    "df_novel.head()"
   ]
  },
  {
   "cell_type": "code",
   "execution_count": 24,
   "metadata": {
    "collapsed": true
   },
   "outputs": [],
   "source": [
    "#If novel has a lot of numbers for chapter headings.\n",
    "#d = df_novel[df_novel['total_char']<=2]"
   ]
  },
  {
   "cell_type": "markdown",
   "metadata": {},
   "source": [
    "Create syllable sum column"
   ]
  },
  {
   "cell_type": "code",
   "execution_count": 25,
   "metadata": {
    "collapsed": true
   },
   "outputs": [],
   "source": [
    "syl_sum = []\n",
    "for l in range(0,len(df_novel)):\n",
    "    syl_sum.append(df_novel['syl_count'][l].sum())"
   ]
  },
  {
   "cell_type": "code",
   "execution_count": 26,
   "metadata": {
    "collapsed": true
   },
   "outputs": [],
   "source": [
    "df_novel['syl_sum'] = syl_sum"
   ]
  },
  {
   "cell_type": "markdown",
   "metadata": {},
   "source": [
    "Create sentiment column"
   ]
  },
  {
   "cell_type": "code",
   "execution_count": 27,
   "metadata": {
    "collapsed": true
   },
   "outputs": [],
   "source": [
    "def detect_sentiment(text):\n",
    "    return TextBlob(text.decode('utf-8')).sentiment.polarity"
   ]
  },
  {
   "cell_type": "code",
   "execution_count": 28,
   "metadata": {
    "collapsed": true
   },
   "outputs": [],
   "source": [
    "df_novel['sentiment'] = df_novel[0].apply(detect_sentiment)"
   ]
  },
  {
   "cell_type": "markdown",
   "metadata": {},
   "source": [
    "Create cluster dataframe - remove columns that can't be used"
   ]
  },
  {
   "cell_type": "code",
   "execution_count": 29,
   "metadata": {
    "collapsed": true
   },
   "outputs": [],
   "source": [
    "df_cluster = df_novel.drop('wrd_length', 1)"
   ]
  },
  {
   "cell_type": "code",
   "execution_count": 30,
   "metadata": {
    "collapsed": true
   },
   "outputs": [],
   "source": [
    "df_cluster = df_cluster.drop('syl_count', 1)"
   ]
  },
  {
   "cell_type": "code",
   "execution_count": 31,
   "metadata": {
    "collapsed": false
   },
   "outputs": [
    {
     "data": {
      "text/html": [
       "<div>\n",
       "<table border=\"1\" class=\"dataframe\">\n",
       "  <thead>\n",
       "    <tr style=\"text-align: right;\">\n",
       "      <th></th>\n",
       "      <th>0</th>\n",
       "      <th>total_char</th>\n",
       "      <th>syl_sum</th>\n",
       "      <th>sentiment</th>\n",
       "    </tr>\n",
       "  </thead>\n",
       "  <tbody>\n",
       "    <tr>\n",
       "      <th>0</th>\n",
       "      <td>Often I sit alone at night, staring with the e...</td>\n",
       "      <td>178</td>\n",
       "      <td>57.0</td>\n",
       "      <td>0.300000</td>\n",
       "    </tr>\n",
       "    <tr>\n",
       "      <th>1</th>\n",
       "      <td>And when, ultimately, that _final_      develo...</td>\n",
       "      <td>381</td>\n",
       "      <td>125.0</td>\n",
       "      <td>0.049074</td>\n",
       "    </tr>\n",
       "    <tr>\n",
       "      <th>2</th>\n",
       "      <td>--      _She_, Silver Library Edition, p. 277.</td>\n",
       "      <td>27</td>\n",
       "      <td>8.0</td>\n",
       "      <td>0.000000</td>\n",
       "    </tr>\n",
       "    <tr>\n",
       "      <th>3</th>\n",
       "      <td>DEDICATION  My dear Lang,  The appointed years...</td>\n",
       "      <td>41</td>\n",
       "      <td>15.0</td>\n",
       "      <td>0.000000</td>\n",
       "    </tr>\n",
       "    <tr>\n",
       "      <th>4</th>\n",
       "      <td>how many of them--are gone by, leaving Ayesha ...</td>\n",
       "      <td>67</td>\n",
       "      <td>24.0</td>\n",
       "      <td>0.425000</td>\n",
       "    </tr>\n",
       "  </tbody>\n",
       "</table>\n",
       "</div>"
      ],
      "text/plain": [
       "                                                   0  total_char  syl_sum  \\\n",
       "0  Often I sit alone at night, staring with the e...         178     57.0   \n",
       "1  And when, ultimately, that _final_      develo...         381    125.0   \n",
       "2     --      _She_, Silver Library Edition, p. 277.          27      8.0   \n",
       "3  DEDICATION  My dear Lang,  The appointed years...          41     15.0   \n",
       "4  how many of them--are gone by, leaving Ayesha ...          67     24.0   \n",
       "\n",
       "   sentiment  \n",
       "0   0.300000  \n",
       "1   0.049074  \n",
       "2   0.000000  \n",
       "3   0.000000  \n",
       "4   0.425000  "
      ]
     },
     "execution_count": 31,
     "metadata": {},
     "output_type": "execute_result"
    }
   ],
   "source": [
    "df_cluster.head()"
   ]
  },
  {
   "cell_type": "markdown",
   "metadata": {},
   "source": [
    "Create 20 clusters on scaled data"
   ]
  },
  {
   "cell_type": "code",
   "execution_count": 32,
   "metadata": {
    "collapsed": true
   },
   "outputs": [],
   "source": [
    "X = df_cluster.drop(0, axis=1)"
   ]
  },
  {
   "cell_type": "code",
   "execution_count": 33,
   "metadata": {
    "collapsed": true
   },
   "outputs": [],
   "source": [
    "from sklearn.cluster import KMeans\n",
    "from sklearn.preprocessing import StandardScaler\n",
    "scaler = StandardScaler()\n",
    "X_scaled = scaler.fit_transform(X)"
   ]
  },
  {
   "cell_type": "code",
   "execution_count": 34,
   "metadata": {
    "collapsed": false
   },
   "outputs": [
    {
     "data": {
      "text/plain": [
       "KMeans(copy_x=True, init='k-means++', max_iter=300, n_clusters=20, n_init=10,\n",
       "    n_jobs=1, precompute_distances='auto', random_state=1, tol=0.0001,\n",
       "    verbose=0)"
      ]
     },
     "execution_count": 34,
     "metadata": {},
     "output_type": "execute_result"
    }
   ],
   "source": [
    "km = KMeans(n_clusters=20, random_state=1)\n",
    "km.fit(X_scaled)"
   ]
  },
  {
   "cell_type": "code",
   "execution_count": 35,
   "metadata": {
    "collapsed": true
   },
   "outputs": [],
   "source": [
    "df_cluster_20 = df_cluster.copy()"
   ]
  },
  {
   "cell_type": "code",
   "execution_count": 36,
   "metadata": {
    "collapsed": true
   },
   "outputs": [],
   "source": [
    "df_cluster_20['cluster'] = km.labels_"
   ]
  },
  {
   "cell_type": "code",
   "execution_count": 37,
   "metadata": {
    "collapsed": false
   },
   "outputs": [
    {
     "data": {
      "text/html": [
       "<div>\n",
       "<table border=\"1\" class=\"dataframe\">\n",
       "  <thead>\n",
       "    <tr style=\"text-align: right;\">\n",
       "      <th></th>\n",
       "      <th>0</th>\n",
       "      <th>total_char</th>\n",
       "      <th>syl_sum</th>\n",
       "      <th>sentiment</th>\n",
       "      <th>cluster</th>\n",
       "    </tr>\n",
       "  </thead>\n",
       "  <tbody>\n",
       "    <tr>\n",
       "      <th>0</th>\n",
       "      <td>Often I sit alone at night, staring with the e...</td>\n",
       "      <td>178</td>\n",
       "      <td>57.0</td>\n",
       "      <td>0.300000</td>\n",
       "      <td>18</td>\n",
       "    </tr>\n",
       "    <tr>\n",
       "      <th>1</th>\n",
       "      <td>And when, ultimately, that _final_      develo...</td>\n",
       "      <td>381</td>\n",
       "      <td>125.0</td>\n",
       "      <td>0.049074</td>\n",
       "      <td>6</td>\n",
       "    </tr>\n",
       "    <tr>\n",
       "      <th>2</th>\n",
       "      <td>--      _She_, Silver Library Edition, p. 277.</td>\n",
       "      <td>27</td>\n",
       "      <td>8.0</td>\n",
       "      <td>0.000000</td>\n",
       "      <td>0</td>\n",
       "    </tr>\n",
       "    <tr>\n",
       "      <th>3</th>\n",
       "      <td>DEDICATION  My dear Lang,  The appointed years...</td>\n",
       "      <td>41</td>\n",
       "      <td>15.0</td>\n",
       "      <td>0.000000</td>\n",
       "      <td>13</td>\n",
       "    </tr>\n",
       "    <tr>\n",
       "      <th>4</th>\n",
       "      <td>how many of them--are gone by, leaving Ayesha ...</td>\n",
       "      <td>67</td>\n",
       "      <td>24.0</td>\n",
       "      <td>0.425000</td>\n",
       "      <td>17</td>\n",
       "    </tr>\n",
       "  </tbody>\n",
       "</table>\n",
       "</div>"
      ],
      "text/plain": [
       "                                                   0  total_char  syl_sum  \\\n",
       "0  Often I sit alone at night, staring with the e...         178     57.0   \n",
       "1  And when, ultimately, that _final_      develo...         381    125.0   \n",
       "2     --      _She_, Silver Library Edition, p. 277.          27      8.0   \n",
       "3  DEDICATION  My dear Lang,  The appointed years...          41     15.0   \n",
       "4  how many of them--are gone by, leaving Ayesha ...          67     24.0   \n",
       "\n",
       "   sentiment  cluster  \n",
       "0   0.300000       18  \n",
       "1   0.049074        6  \n",
       "2   0.000000        0  \n",
       "3   0.000000       13  \n",
       "4   0.425000       17  "
      ]
     },
     "execution_count": 37,
     "metadata": {},
     "output_type": "execute_result"
    }
   ],
   "source": [
    "df_cluster_20.head()"
   ]
  },
  {
   "cell_type": "code",
   "execution_count": 38,
   "metadata": {
    "collapsed": false
   },
   "outputs": [
    {
     "data": {
      "text/html": [
       "<div>\n",
       "<table border=\"1\" class=\"dataframe\">\n",
       "  <thead>\n",
       "    <tr style=\"text-align: right;\">\n",
       "      <th></th>\n",
       "      <th>0</th>\n",
       "      <th>total_char</th>\n",
       "      <th>syl_sum</th>\n",
       "      <th>sentiment</th>\n",
       "    </tr>\n",
       "  </thead>\n",
       "  <tbody>\n",
       "    <tr>\n",
       "      <th>0</th>\n",
       "      <td>Often I sit alone at night, staring with the e...</td>\n",
       "      <td>178</td>\n",
       "      <td>57.0</td>\n",
       "      <td>0.300000</td>\n",
       "    </tr>\n",
       "    <tr>\n",
       "      <th>1</th>\n",
       "      <td>And when, ultimately, that _final_      develo...</td>\n",
       "      <td>381</td>\n",
       "      <td>125.0</td>\n",
       "      <td>0.049074</td>\n",
       "    </tr>\n",
       "    <tr>\n",
       "      <th>2</th>\n",
       "      <td>--      _She_, Silver Library Edition, p. 277.</td>\n",
       "      <td>27</td>\n",
       "      <td>8.0</td>\n",
       "      <td>0.000000</td>\n",
       "    </tr>\n",
       "    <tr>\n",
       "      <th>3</th>\n",
       "      <td>DEDICATION  My dear Lang,  The appointed years...</td>\n",
       "      <td>41</td>\n",
       "      <td>15.0</td>\n",
       "      <td>0.000000</td>\n",
       "    </tr>\n",
       "    <tr>\n",
       "      <th>4</th>\n",
       "      <td>how many of them--are gone by, leaving Ayesha ...</td>\n",
       "      <td>67</td>\n",
       "      <td>24.0</td>\n",
       "      <td>0.425000</td>\n",
       "    </tr>\n",
       "  </tbody>\n",
       "</table>\n",
       "</div>"
      ],
      "text/plain": [
       "                                                   0  total_char  syl_sum  \\\n",
       "0  Often I sit alone at night, staring with the e...         178     57.0   \n",
       "1  And when, ultimately, that _final_      develo...         381    125.0   \n",
       "2     --      _She_, Silver Library Edition, p. 277.          27      8.0   \n",
       "3  DEDICATION  My dear Lang,  The appointed years...          41     15.0   \n",
       "4  how many of them--are gone by, leaving Ayesha ...          67     24.0   \n",
       "\n",
       "   sentiment  \n",
       "0   0.300000  \n",
       "1   0.049074  \n",
       "2   0.000000  \n",
       "3   0.000000  \n",
       "4   0.425000  "
      ]
     },
     "execution_count": 38,
     "metadata": {},
     "output_type": "execute_result"
    }
   ],
   "source": [
    "df_cluster.head()"
   ]
  },
  {
   "cell_type": "code",
   "execution_count": 39,
   "metadata": {
    "collapsed": false
   },
   "outputs": [
    {
     "data": {
      "text/html": [
       "<div>\n",
       "<table border=\"1\" class=\"dataframe\">\n",
       "  <thead>\n",
       "    <tr style=\"text-align: right;\">\n",
       "      <th></th>\n",
       "      <th>total_char</th>\n",
       "      <th>syl_sum</th>\n",
       "      <th>sentiment</th>\n",
       "    </tr>\n",
       "    <tr>\n",
       "      <th>cluster</th>\n",
       "      <th></th>\n",
       "      <th></th>\n",
       "      <th></th>\n",
       "    </tr>\n",
       "  </thead>\n",
       "  <tbody>\n",
       "    <tr>\n",
       "      <th>0</th>\n",
       "      <td>17.372530</td>\n",
       "      <td>5.508893</td>\n",
       "      <td>-0.001006</td>\n",
       "    </tr>\n",
       "    <tr>\n",
       "      <th>1</th>\n",
       "      <td>190.220779</td>\n",
       "      <td>59.675325</td>\n",
       "      <td>-0.348284</td>\n",
       "    </tr>\n",
       "    <tr>\n",
       "      <th>2</th>\n",
       "      <td>136.862069</td>\n",
       "      <td>42.948276</td>\n",
       "      <td>0.597765</td>\n",
       "    </tr>\n",
       "    <tr>\n",
       "      <th>3</th>\n",
       "      <td>121.253138</td>\n",
       "      <td>37.658996</td>\n",
       "      <td>0.002287</td>\n",
       "    </tr>\n",
       "    <tr>\n",
       "      <th>4</th>\n",
       "      <td>67.899281</td>\n",
       "      <td>21.352518</td>\n",
       "      <td>0.207234</td>\n",
       "    </tr>\n",
       "    <tr>\n",
       "      <th>5</th>\n",
       "      <td>77.317073</td>\n",
       "      <td>24.170732</td>\n",
       "      <td>-0.829288</td>\n",
       "    </tr>\n",
       "    <tr>\n",
       "      <th>6</th>\n",
       "      <td>318.960784</td>\n",
       "      <td>100.882353</td>\n",
       "      <td>0.069742</td>\n",
       "    </tr>\n",
       "    <tr>\n",
       "      <th>7</th>\n",
       "      <td>37.083871</td>\n",
       "      <td>11.522581</td>\n",
       "      <td>0.454317</td>\n",
       "    </tr>\n",
       "    <tr>\n",
       "      <th>8</th>\n",
       "      <td>230.105263</td>\n",
       "      <td>72.513158</td>\n",
       "      <td>0.055988</td>\n",
       "    </tr>\n",
       "    <tr>\n",
       "      <th>9</th>\n",
       "      <td>59.937729</td>\n",
       "      <td>18.670330</td>\n",
       "      <td>-0.217824</td>\n",
       "    </tr>\n",
       "    <tr>\n",
       "      <th>10</th>\n",
       "      <td>125.353357</td>\n",
       "      <td>39.349823</td>\n",
       "      <td>0.243313</td>\n",
       "    </tr>\n",
       "    <tr>\n",
       "      <th>11</th>\n",
       "      <td>83.738782</td>\n",
       "      <td>25.988782</td>\n",
       "      <td>-0.007793</td>\n",
       "    </tr>\n",
       "    <tr>\n",
       "      <th>12</th>\n",
       "      <td>120.008299</td>\n",
       "      <td>37.124481</td>\n",
       "      <td>-0.264708</td>\n",
       "    </tr>\n",
       "    <tr>\n",
       "      <th>13</th>\n",
       "      <td>47.754522</td>\n",
       "      <td>14.968992</td>\n",
       "      <td>0.001761</td>\n",
       "    </tr>\n",
       "    <tr>\n",
       "      <th>14</th>\n",
       "      <td>49.244186</td>\n",
       "      <td>15.779070</td>\n",
       "      <td>0.815756</td>\n",
       "    </tr>\n",
       "    <tr>\n",
       "      <th>15</th>\n",
       "      <td>615.000000</td>\n",
       "      <td>193.333333</td>\n",
       "      <td>0.155291</td>\n",
       "    </tr>\n",
       "    <tr>\n",
       "      <th>16</th>\n",
       "      <td>166.054054</td>\n",
       "      <td>51.691892</td>\n",
       "      <td>-0.017176</td>\n",
       "    </tr>\n",
       "    <tr>\n",
       "      <th>17</th>\n",
       "      <td>85.267760</td>\n",
       "      <td>26.770492</td>\n",
       "      <td>0.474633</td>\n",
       "    </tr>\n",
       "    <tr>\n",
       "      <th>18</th>\n",
       "      <td>181.976852</td>\n",
       "      <td>57.125000</td>\n",
       "      <td>0.267733</td>\n",
       "    </tr>\n",
       "    <tr>\n",
       "      <th>19</th>\n",
       "      <td>39.566929</td>\n",
       "      <td>12.527559</td>\n",
       "      <td>-0.509438</td>\n",
       "    </tr>\n",
       "  </tbody>\n",
       "</table>\n",
       "</div>"
      ],
      "text/plain": [
       "         total_char     syl_sum  sentiment\n",
       "cluster                                   \n",
       "0         17.372530    5.508893  -0.001006\n",
       "1        190.220779   59.675325  -0.348284\n",
       "2        136.862069   42.948276   0.597765\n",
       "3        121.253138   37.658996   0.002287\n",
       "4         67.899281   21.352518   0.207234\n",
       "5         77.317073   24.170732  -0.829288\n",
       "6        318.960784  100.882353   0.069742\n",
       "7         37.083871   11.522581   0.454317\n",
       "8        230.105263   72.513158   0.055988\n",
       "9         59.937729   18.670330  -0.217824\n",
       "10       125.353357   39.349823   0.243313\n",
       "11        83.738782   25.988782  -0.007793\n",
       "12       120.008299   37.124481  -0.264708\n",
       "13        47.754522   14.968992   0.001761\n",
       "14        49.244186   15.779070   0.815756\n",
       "15       615.000000  193.333333   0.155291\n",
       "16       166.054054   51.691892  -0.017176\n",
       "17        85.267760   26.770492   0.474633\n",
       "18       181.976852   57.125000   0.267733\n",
       "19        39.566929   12.527559  -0.509438"
      ]
     },
     "execution_count": 39,
     "metadata": {},
     "output_type": "execute_result"
    }
   ],
   "source": [
    "df_cluster_20.groupby('cluster').mean()"
   ]
  },
  {
   "cell_type": "code",
   "execution_count": 40,
   "metadata": {
    "collapsed": true
   },
   "outputs": [],
   "source": [
    "centers = df_cluster_20.groupby('cluster').mean()"
   ]
  },
  {
   "cell_type": "markdown",
   "metadata": {},
   "source": [
    "Create Scatter plot "
   ]
  },
  {
   "cell_type": "code",
   "execution_count": 41,
   "metadata": {
    "collapsed": true
   },
   "outputs": [],
   "source": [
    "colors = np.array(['#0000ff', '#ff00ff', '#39b54a', '#ff0000', '#ffff00', '#000080', '#ff99ff', '#88d392', '#bf0000', '#b4ff33', '#0000bf', '#800080','#1d5b25', '#4d226d', '#2b6855', '#128ab2', '#6666ff', '#a381bd', '#333333','#a0d0e0'])"
   ]
  },
  {
   "cell_type": "code",
   "execution_count": 42,
   "metadata": {
    "collapsed": false
   },
   "outputs": [
    {
     "data": {
      "text/plain": [
       "<matplotlib.text.Text at 0x11abe06d0>"
      ]
     },
     "execution_count": 42,
     "metadata": {},
     "output_type": "execute_result"
    },
    {
     "data": {
      "image/png": "[encoded data removed]",
      "text/plain": [
       "<matplotlib.figure.Figure at 0x1193b37d0>"
      ]
     },
     "metadata": {},
     "output_type": "display_data"
    }
   ],
   "source": [
    "# scatter plot of calories versus alcohol, colored by cluster (0=red, 1=green, 2=blue)\n",
    "plt.scatter(df_cluster_20.syl_sum, df_cluster_20.sentiment, c=colors[df_cluster_20.cluster], s=50)\n",
    "\n",
    "# cluster centers, marked by \"+\"\n",
    "plt.scatter(centers.syl_sum, centers.sentiment, linewidths=3, marker='+', s=300, c='black')\n",
    "\n",
    "# add labels\n",
    "plt.xlabel('syl_sum')\n",
    "plt.ylabel('sentiment')"
   ]
  },
  {
   "cell_type": "markdown",
   "metadata": {},
   "source": [
    "Add cluster_20 to original dataframe"
   ]
  },
  {
   "cell_type": "code",
   "execution_count": 43,
   "metadata": {
    "collapsed": false
   },
   "outputs": [],
   "source": [
    "df_novel['cluster_20'] = df_cluster_20['cluster']"
   ]
  },
  {
   "cell_type": "code",
   "execution_count": 44,
   "metadata": {
    "collapsed": false
   },
   "outputs": [
    {
     "data": {
      "text/html": [
       "<div>\n",
       "<table border=\"1\" class=\"dataframe\">\n",
       "  <thead>\n",
       "    <tr style=\"text-align: right;\">\n",
       "      <th></th>\n",
       "      <th>0</th>\n",
       "      <th>wrd_length</th>\n",
       "      <th>total_char</th>\n",
       "      <th>syl_count</th>\n",
       "      <th>syl_sum</th>\n",
       "      <th>sentiment</th>\n",
       "      <th>cluster_20</th>\n",
       "    </tr>\n",
       "  </thead>\n",
       "  <tbody>\n",
       "    <tr>\n",
       "      <th>0</th>\n",
       "      <td>Often I sit alone at night, staring with the e...</td>\n",
       "      <td>[5, 1, 3, 5, 2, 5, 7, 4, 3, 4, 2, 2, 4, 4, 3, ...</td>\n",
       "      <td>178</td>\n",
       "      <td>[2, 1, 1, 2, 1, 1, 2, 1, 1, 0, 1, 1, 1, 2, 1, ...</td>\n",
       "      <td>57.0</td>\n",
       "      <td>0.300000</td>\n",
       "      <td>18</td>\n",
       "    </tr>\n",
       "    <tr>\n",
       "      <th>1</th>\n",
       "      <td>And when, ultimately, that _final_      develo...</td>\n",
       "      <td>[3, 4, 10, 4, 5, 11, 6, 2, 1, 4, 2, 5, 2, 4, 3...</td>\n",
       "      <td>381</td>\n",
       "      <td>[1, 1, 5, 1, 2, 4, 2, 1, 1, 1, 1, 1, 1, 1, 1, ...</td>\n",
       "      <td>125.0</td>\n",
       "      <td>0.049074</td>\n",
       "      <td>6</td>\n",
       "    </tr>\n",
       "    <tr>\n",
       "      <th>2</th>\n",
       "      <td>--      _She_, Silver Library Edition, p. 277.</td>\n",
       "      <td>[3, 6, 7, 7, 1, 3]</td>\n",
       "      <td>27</td>\n",
       "      <td>[0, 2, 3, 3, 0, 0]</td>\n",
       "      <td>8.0</td>\n",
       "      <td>0.000000</td>\n",
       "      <td>0</td>\n",
       "    </tr>\n",
       "    <tr>\n",
       "      <th>3</th>\n",
       "      <td>DEDICATION  My dear Lang,  The appointed years...</td>\n",
       "      <td>[10, 2, 4, 4, 3, 9, 5, 4]</td>\n",
       "      <td>41</td>\n",
       "      <td>[4, 1, 2, 1, 1, 2, 2, 2]</td>\n",
       "      <td>15.0</td>\n",
       "      <td>0.000000</td>\n",
       "      <td>13</td>\n",
       "    </tr>\n",
       "    <tr>\n",
       "      <th>4</th>\n",
       "      <td>how many of them--are gone by, leaving Ayesha ...</td>\n",
       "      <td>[3, 4, 2, 4, 3, 4, 2, 7, 6, 6, 3, 6, 3, 9, 5]</td>\n",
       "      <td>67</td>\n",
       "      <td>[1, 2, 1, 1, 1, 1, 1, 3, 2, 3, 1, 2, 1, 2, 2]</td>\n",
       "      <td>24.0</td>\n",
       "      <td>0.425000</td>\n",
       "      <td>17</td>\n",
       "    </tr>\n",
       "  </tbody>\n",
       "</table>\n",
       "</div>"
      ],
      "text/plain": [
       "                                                   0  \\\n",
       "0  Often I sit alone at night, staring with the e...   \n",
       "1  And when, ultimately, that _final_      develo...   \n",
       "2     --      _She_, Silver Library Edition, p. 277.   \n",
       "3  DEDICATION  My dear Lang,  The appointed years...   \n",
       "4  how many of them--are gone by, leaving Ayesha ...   \n",
       "\n",
       "                                          wrd_length  total_char  \\\n",
       "0  [5, 1, 3, 5, 2, 5, 7, 4, 3, 4, 2, 2, 4, 4, 3, ...         178   \n",
       "1  [3, 4, 10, 4, 5, 11, 6, 2, 1, 4, 2, 5, 2, 4, 3...         381   \n",
       "2                                 [3, 6, 7, 7, 1, 3]          27   \n",
       "3                          [10, 2, 4, 4, 3, 9, 5, 4]          41   \n",
       "4      [3, 4, 2, 4, 3, 4, 2, 7, 6, 6, 3, 6, 3, 9, 5]          67   \n",
       "\n",
       "                                           syl_count  syl_sum  sentiment  \\\n",
       "0  [2, 1, 1, 2, 1, 1, 2, 1, 1, 0, 1, 1, 1, 2, 1, ...     57.0   0.300000   \n",
       "1  [1, 1, 5, 1, 2, 4, 2, 1, 1, 1, 1, 1, 1, 1, 1, ...    125.0   0.049074   \n",
       "2                                 [0, 2, 3, 3, 0, 0]      8.0   0.000000   \n",
       "3                           [4, 1, 2, 1, 1, 2, 2, 2]     15.0   0.000000   \n",
       "4      [1, 2, 1, 1, 1, 1, 1, 3, 2, 3, 1, 2, 1, 2, 2]     24.0   0.425000   \n",
       "\n",
       "   cluster_20  \n",
       "0          18  \n",
       "1           6  \n",
       "2           0  \n",
       "3          13  \n",
       "4          17  "
      ]
     },
     "execution_count": 44,
     "metadata": {},
     "output_type": "execute_result"
    }
   ],
   "source": [
    "df_novel.head()"
   ]
  },
  {
   "cell_type": "markdown",
   "metadata": {},
   "source": [
    "Create 3 clusters"
   ]
  },
  {
   "cell_type": "code",
   "execution_count": 45,
   "metadata": {
    "collapsed": true
   },
   "outputs": [],
   "source": [
    "df_cluster_3 = df_cluster.copy()"
   ]
  },
  {
   "cell_type": "code",
   "execution_count": 46,
   "metadata": {
    "collapsed": false
   },
   "outputs": [
    {
     "data": {
      "text/html": [
       "<div>\n",
       "<table border=\"1\" class=\"dataframe\">\n",
       "  <thead>\n",
       "    <tr style=\"text-align: right;\">\n",
       "      <th></th>\n",
       "      <th>0</th>\n",
       "      <th>total_char</th>\n",
       "      <th>syl_sum</th>\n",
       "      <th>sentiment</th>\n",
       "    </tr>\n",
       "  </thead>\n",
       "  <tbody>\n",
       "    <tr>\n",
       "      <th>0</th>\n",
       "      <td>Often I sit alone at night, staring with the e...</td>\n",
       "      <td>178</td>\n",
       "      <td>57.0</td>\n",
       "      <td>0.300000</td>\n",
       "    </tr>\n",
       "    <tr>\n",
       "      <th>1</th>\n",
       "      <td>And when, ultimately, that _final_      develo...</td>\n",
       "      <td>381</td>\n",
       "      <td>125.0</td>\n",
       "      <td>0.049074</td>\n",
       "    </tr>\n",
       "    <tr>\n",
       "      <th>2</th>\n",
       "      <td>--      _She_, Silver Library Edition, p. 277.</td>\n",
       "      <td>27</td>\n",
       "      <td>8.0</td>\n",
       "      <td>0.000000</td>\n",
       "    </tr>\n",
       "    <tr>\n",
       "      <th>3</th>\n",
       "      <td>DEDICATION  My dear Lang,  The appointed years...</td>\n",
       "      <td>41</td>\n",
       "      <td>15.0</td>\n",
       "      <td>0.000000</td>\n",
       "    </tr>\n",
       "    <tr>\n",
       "      <th>4</th>\n",
       "      <td>how many of them--are gone by, leaving Ayesha ...</td>\n",
       "      <td>67</td>\n",
       "      <td>24.0</td>\n",
       "      <td>0.425000</td>\n",
       "    </tr>\n",
       "  </tbody>\n",
       "</table>\n",
       "</div>"
      ],
      "text/plain": [
       "                                                   0  total_char  syl_sum  \\\n",
       "0  Often I sit alone at night, staring with the e...         178     57.0   \n",
       "1  And when, ultimately, that _final_      develo...         381    125.0   \n",
       "2     --      _She_, Silver Library Edition, p. 277.          27      8.0   \n",
       "3  DEDICATION  My dear Lang,  The appointed years...          41     15.0   \n",
       "4  how many of them--are gone by, leaving Ayesha ...          67     24.0   \n",
       "\n",
       "   sentiment  \n",
       "0   0.300000  \n",
       "1   0.049074  \n",
       "2   0.000000  \n",
       "3   0.000000  \n",
       "4   0.425000  "
      ]
     },
     "execution_count": 46,
     "metadata": {},
     "output_type": "execute_result"
    }
   ],
   "source": [
    "df_cluster_3.head()"
   ]
  },
  {
   "cell_type": "code",
   "execution_count": 47,
   "metadata": {
    "collapsed": true
   },
   "outputs": [],
   "source": [
    "X = df_cluster_3.drop(0, axis=1)"
   ]
  },
  {
   "cell_type": "code",
   "execution_count": 48,
   "metadata": {
    "collapsed": true
   },
   "outputs": [],
   "source": [
    "scaler = StandardScaler()\n",
    "X_scaled = scaler.fit_transform(X)"
   ]
  },
  {
   "cell_type": "code",
   "execution_count": 49,
   "metadata": {
    "collapsed": false
   },
   "outputs": [
    {
     "data": {
      "text/plain": [
       "KMeans(copy_x=True, init='k-means++', max_iter=300, n_clusters=3, n_init=10,\n",
       "    n_jobs=1, precompute_distances='auto', random_state=1, tol=0.0001,\n",
       "    verbose=0)"
      ]
     },
     "execution_count": 49,
     "metadata": {},
     "output_type": "execute_result"
    }
   ],
   "source": [
    "km = KMeans(n_clusters=3, random_state=1)\n",
    "km.fit(X_scaled)"
   ]
  },
  {
   "cell_type": "code",
   "execution_count": 50,
   "metadata": {
    "collapsed": true
   },
   "outputs": [],
   "source": [
    "df_cluster_3['cluster'] = km.labels_"
   ]
  },
  {
   "cell_type": "code",
   "execution_count": 51,
   "metadata": {
    "collapsed": false
   },
   "outputs": [
    {
     "data": {
      "text/html": [
       "<div>\n",
       "<table border=\"1\" class=\"dataframe\">\n",
       "  <thead>\n",
       "    <tr style=\"text-align: right;\">\n",
       "      <th></th>\n",
       "      <th>total_char</th>\n",
       "      <th>syl_sum</th>\n",
       "      <th>sentiment</th>\n",
       "    </tr>\n",
       "    <tr>\n",
       "      <th>cluster</th>\n",
       "      <th></th>\n",
       "      <th></th>\n",
       "      <th></th>\n",
       "    </tr>\n",
       "  </thead>\n",
       "  <tbody>\n",
       "    <tr>\n",
       "      <th>0</th>\n",
       "      <td>49.047317</td>\n",
       "      <td>15.310892</td>\n",
       "      <td>-0.061181</td>\n",
       "    </tr>\n",
       "    <tr>\n",
       "      <th>1</th>\n",
       "      <td>163.416355</td>\n",
       "      <td>51.139201</td>\n",
       "      <td>0.014194</td>\n",
       "    </tr>\n",
       "    <tr>\n",
       "      <th>2</th>\n",
       "      <td>83.684337</td>\n",
       "      <td>26.216867</td>\n",
       "      <td>0.446946</td>\n",
       "    </tr>\n",
       "  </tbody>\n",
       "</table>\n",
       "</div>"
      ],
      "text/plain": [
       "         total_char    syl_sum  sentiment\n",
       "cluster                                  \n",
       "0         49.047317  15.310892  -0.061181\n",
       "1        163.416355  51.139201   0.014194\n",
       "2         83.684337  26.216867   0.446946"
      ]
     },
     "execution_count": 51,
     "metadata": {},
     "output_type": "execute_result"
    }
   ],
   "source": [
    "df_cluster_3.groupby('cluster').mean()"
   ]
  },
  {
   "cell_type": "code",
   "execution_count": 52,
   "metadata": {
    "collapsed": false
   },
   "outputs": [
    {
     "data": {
      "text/html": [
       "<div>\n",
       "<table border=\"1\" class=\"dataframe\">\n",
       "  <thead>\n",
       "    <tr style=\"text-align: right;\">\n",
       "      <th></th>\n",
       "      <th>0</th>\n",
       "      <th>total_char</th>\n",
       "      <th>syl_sum</th>\n",
       "      <th>sentiment</th>\n",
       "      <th>cluster</th>\n",
       "    </tr>\n",
       "  </thead>\n",
       "  <tbody>\n",
       "    <tr>\n",
       "      <th>0</th>\n",
       "      <td>Often I sit alone at night, staring with the e...</td>\n",
       "      <td>178</td>\n",
       "      <td>57.0</td>\n",
       "      <td>0.300000</td>\n",
       "      <td>1</td>\n",
       "    </tr>\n",
       "    <tr>\n",
       "      <th>1</th>\n",
       "      <td>And when, ultimately, that _final_      develo...</td>\n",
       "      <td>381</td>\n",
       "      <td>125.0</td>\n",
       "      <td>0.049074</td>\n",
       "      <td>1</td>\n",
       "    </tr>\n",
       "    <tr>\n",
       "      <th>2</th>\n",
       "      <td>--      _She_, Silver Library Edition, p. 277.</td>\n",
       "      <td>27</td>\n",
       "      <td>8.0</td>\n",
       "      <td>0.000000</td>\n",
       "      <td>0</td>\n",
       "    </tr>\n",
       "    <tr>\n",
       "      <th>3</th>\n",
       "      <td>DEDICATION  My dear Lang,  The appointed years...</td>\n",
       "      <td>41</td>\n",
       "      <td>15.0</td>\n",
       "      <td>0.000000</td>\n",
       "      <td>0</td>\n",
       "    </tr>\n",
       "    <tr>\n",
       "      <th>4</th>\n",
       "      <td>how many of them--are gone by, leaving Ayesha ...</td>\n",
       "      <td>67</td>\n",
       "      <td>24.0</td>\n",
       "      <td>0.425000</td>\n",
       "      <td>2</td>\n",
       "    </tr>\n",
       "  </tbody>\n",
       "</table>\n",
       "</div>"
      ],
      "text/plain": [
       "                                                   0  total_char  syl_sum  \\\n",
       "0  Often I sit alone at night, staring with the e...         178     57.0   \n",
       "1  And when, ultimately, that _final_      develo...         381    125.0   \n",
       "2     --      _She_, Silver Library Edition, p. 277.          27      8.0   \n",
       "3  DEDICATION  My dear Lang,  The appointed years...          41     15.0   \n",
       "4  how many of them--are gone by, leaving Ayesha ...          67     24.0   \n",
       "\n",
       "   sentiment  cluster  \n",
       "0   0.300000        1  \n",
       "1   0.049074        1  \n",
       "2   0.000000        0  \n",
       "3   0.000000        0  \n",
       "4   0.425000        2  "
      ]
     },
     "execution_count": 52,
     "metadata": {},
     "output_type": "execute_result"
    }
   ],
   "source": [
    "df_cluster_3.head()"
   ]
  },
  {
   "cell_type": "markdown",
   "metadata": {},
   "source": [
    "Add cludter_3 to original dataframe"
   ]
  },
  {
   "cell_type": "code",
   "execution_count": 53,
   "metadata": {
    "collapsed": true
   },
   "outputs": [],
   "source": [
    "df_novel['cluster_3_syl'] = df_cluster_3['cluster']"
   ]
  },
  {
   "cell_type": "code",
   "execution_count": 54,
   "metadata": {
    "collapsed": false
   },
   "outputs": [
    {
     "data": {
      "text/html": [
       "<div>\n",
       "<table border=\"1\" class=\"dataframe\">\n",
       "  <thead>\n",
       "    <tr style=\"text-align: right;\">\n",
       "      <th></th>\n",
       "      <th>0</th>\n",
       "      <th>wrd_length</th>\n",
       "      <th>total_char</th>\n",
       "      <th>syl_count</th>\n",
       "      <th>syl_sum</th>\n",
       "      <th>sentiment</th>\n",
       "      <th>cluster_20</th>\n",
       "      <th>cluster_3_syl</th>\n",
       "    </tr>\n",
       "  </thead>\n",
       "  <tbody>\n",
       "    <tr>\n",
       "      <th>0</th>\n",
       "      <td>Often I sit alone at night, staring with the e...</td>\n",
       "      <td>[5, 1, 3, 5, 2, 5, 7, 4, 3, 4, 2, 2, 4, 4, 3, ...</td>\n",
       "      <td>178</td>\n",
       "      <td>[2, 1, 1, 2, 1, 1, 2, 1, 1, 0, 1, 1, 1, 2, 1, ...</td>\n",
       "      <td>57.0</td>\n",
       "      <td>0.300000</td>\n",
       "      <td>18</td>\n",
       "      <td>1</td>\n",
       "    </tr>\n",
       "    <tr>\n",
       "      <th>1</th>\n",
       "      <td>And when, ultimately, that _final_      develo...</td>\n",
       "      <td>[3, 4, 10, 4, 5, 11, 6, 2, 1, 4, 2, 5, 2, 4, 3...</td>\n",
       "      <td>381</td>\n",
       "      <td>[1, 1, 5, 1, 2, 4, 2, 1, 1, 1, 1, 1, 1, 1, 1, ...</td>\n",
       "      <td>125.0</td>\n",
       "      <td>0.049074</td>\n",
       "      <td>6</td>\n",
       "      <td>1</td>\n",
       "    </tr>\n",
       "    <tr>\n",
       "      <th>2</th>\n",
       "      <td>--      _She_, Silver Library Edition, p. 277.</td>\n",
       "      <td>[3, 6, 7, 7, 1, 3]</td>\n",
       "      <td>27</td>\n",
       "      <td>[0, 2, 3, 3, 0, 0]</td>\n",
       "      <td>8.0</td>\n",
       "      <td>0.000000</td>\n",
       "      <td>0</td>\n",
       "      <td>0</td>\n",
       "    </tr>\n",
       "    <tr>\n",
       "      <th>3</th>\n",
       "      <td>DEDICATION  My dear Lang,  The appointed years...</td>\n",
       "      <td>[10, 2, 4, 4, 3, 9, 5, 4]</td>\n",
       "      <td>41</td>\n",
       "      <td>[4, 1, 2, 1, 1, 2, 2, 2]</td>\n",
       "      <td>15.0</td>\n",
       "      <td>0.000000</td>\n",
       "      <td>13</td>\n",
       "      <td>0</td>\n",
       "    </tr>\n",
       "    <tr>\n",
       "      <th>4</th>\n",
       "      <td>how many of them--are gone by, leaving Ayesha ...</td>\n",
       "      <td>[3, 4, 2, 4, 3, 4, 2, 7, 6, 6, 3, 6, 3, 9, 5]</td>\n",
       "      <td>67</td>\n",
       "      <td>[1, 2, 1, 1, 1, 1, 1, 3, 2, 3, 1, 2, 1, 2, 2]</td>\n",
       "      <td>24.0</td>\n",
       "      <td>0.425000</td>\n",
       "      <td>17</td>\n",
       "      <td>2</td>\n",
       "    </tr>\n",
       "  </tbody>\n",
       "</table>\n",
       "</div>"
      ],
      "text/plain": [
       "                                                   0  \\\n",
       "0  Often I sit alone at night, staring with the e...   \n",
       "1  And when, ultimately, that _final_      develo...   \n",
       "2     --      _She_, Silver Library Edition, p. 277.   \n",
       "3  DEDICATION  My dear Lang,  The appointed years...   \n",
       "4  how many of them--are gone by, leaving Ayesha ...   \n",
       "\n",
       "                                          wrd_length  total_char  \\\n",
       "0  [5, 1, 3, 5, 2, 5, 7, 4, 3, 4, 2, 2, 4, 4, 3, ...         178   \n",
       "1  [3, 4, 10, 4, 5, 11, 6, 2, 1, 4, 2, 5, 2, 4, 3...         381   \n",
       "2                                 [3, 6, 7, 7, 1, 3]          27   \n",
       "3                          [10, 2, 4, 4, 3, 9, 5, 4]          41   \n",
       "4      [3, 4, 2, 4, 3, 4, 2, 7, 6, 6, 3, 6, 3, 9, 5]          67   \n",
       "\n",
       "                                           syl_count  syl_sum  sentiment  \\\n",
       "0  [2, 1, 1, 2, 1, 1, 2, 1, 1, 0, 1, 1, 1, 2, 1, ...     57.0   0.300000   \n",
       "1  [1, 1, 5, 1, 2, 4, 2, 1, 1, 1, 1, 1, 1, 1, 1, ...    125.0   0.049074   \n",
       "2                                 [0, 2, 3, 3, 0, 0]      8.0   0.000000   \n",
       "3                           [4, 1, 2, 1, 1, 2, 2, 2]     15.0   0.000000   \n",
       "4      [1, 2, 1, 1, 1, 1, 1, 3, 2, 3, 1, 2, 1, 2, 2]     24.0   0.425000   \n",
       "\n",
       "   cluster_20  cluster_3_syl  \n",
       "0          18              1  \n",
       "1           6              1  \n",
       "2           0              0  \n",
       "3          13              0  \n",
       "4          17              2  "
      ]
     },
     "execution_count": 54,
     "metadata": {},
     "output_type": "execute_result"
    }
   ],
   "source": [
    "df_novel.head()"
   ]
  },
  {
   "cell_type": "markdown",
   "metadata": {},
   "source": [
    "Create 3 Clusters with no syl_sum"
   ]
  },
  {
   "cell_type": "code",
   "execution_count": 55,
   "metadata": {
    "collapsed": true
   },
   "outputs": [],
   "source": [
    "df_cluster_3no_syl = df_cluster.copy()"
   ]
  },
  {
   "cell_type": "code",
   "execution_count": 56,
   "metadata": {
    "collapsed": true
   },
   "outputs": [],
   "source": [
    "df_cluster_3no_syl = df_cluster.drop('syl_sum', 1)"
   ]
  },
  {
   "cell_type": "code",
   "execution_count": 57,
   "metadata": {
    "collapsed": true
   },
   "outputs": [],
   "source": [
    "X = df_cluster_3no_syl.drop(0, axis=1)"
   ]
  },
  {
   "cell_type": "code",
   "execution_count": 58,
   "metadata": {
    "collapsed": true
   },
   "outputs": [],
   "source": [
    "scaler = StandardScaler()\n",
    "X_scaled = scaler.fit_transform(X)"
   ]
  },
  {
   "cell_type": "code",
   "execution_count": 59,
   "metadata": {
    "collapsed": false
   },
   "outputs": [
    {
     "data": {
      "text/plain": [
       "KMeans(copy_x=True, init='k-means++', max_iter=300, n_clusters=3, n_init=10,\n",
       "    n_jobs=1, precompute_distances='auto', random_state=1, tol=0.0001,\n",
       "    verbose=0)"
      ]
     },
     "execution_count": 59,
     "metadata": {},
     "output_type": "execute_result"
    }
   ],
   "source": [
    "km = KMeans(n_clusters=3, random_state=1)\n",
    "km.fit(X_scaled)"
   ]
  },
  {
   "cell_type": "code",
   "execution_count": 60,
   "metadata": {
    "collapsed": true
   },
   "outputs": [],
   "source": [
    "df_cluster_3no_syl['cluster'] = km.labels_"
   ]
  },
  {
   "cell_type": "code",
   "execution_count": 61,
   "metadata": {
    "collapsed": false
   },
   "outputs": [
    {
     "data": {
      "text/html": [
       "<div>\n",
       "<table border=\"1\" class=\"dataframe\">\n",
       "  <thead>\n",
       "    <tr style=\"text-align: right;\">\n",
       "      <th></th>\n",
       "      <th>0</th>\n",
       "      <th>total_char</th>\n",
       "      <th>sentiment</th>\n",
       "      <th>cluster</th>\n",
       "    </tr>\n",
       "  </thead>\n",
       "  <tbody>\n",
       "    <tr>\n",
       "      <th>0</th>\n",
       "      <td>Often I sit alone at night, staring with the e...</td>\n",
       "      <td>178</td>\n",
       "      <td>0.300000</td>\n",
       "      <td>1</td>\n",
       "    </tr>\n",
       "    <tr>\n",
       "      <th>1</th>\n",
       "      <td>And when, ultimately, that _final_      develo...</td>\n",
       "      <td>381</td>\n",
       "      <td>0.049074</td>\n",
       "      <td>1</td>\n",
       "    </tr>\n",
       "    <tr>\n",
       "      <th>2</th>\n",
       "      <td>--      _She_, Silver Library Edition, p. 277.</td>\n",
       "      <td>27</td>\n",
       "      <td>0.000000</td>\n",
       "      <td>0</td>\n",
       "    </tr>\n",
       "    <tr>\n",
       "      <th>3</th>\n",
       "      <td>DEDICATION  My dear Lang,  The appointed years...</td>\n",
       "      <td>41</td>\n",
       "      <td>0.000000</td>\n",
       "      <td>0</td>\n",
       "    </tr>\n",
       "    <tr>\n",
       "      <th>4</th>\n",
       "      <td>how many of them--are gone by, leaving Ayesha ...</td>\n",
       "      <td>67</td>\n",
       "      <td>0.425000</td>\n",
       "      <td>2</td>\n",
       "    </tr>\n",
       "  </tbody>\n",
       "</table>\n",
       "</div>"
      ],
      "text/plain": [
       "                                                   0  total_char  sentiment  \\\n",
       "0  Often I sit alone at night, staring with the e...         178   0.300000   \n",
       "1  And when, ultimately, that _final_      develo...         381   0.049074   \n",
       "2     --      _She_, Silver Library Edition, p. 277.          27   0.000000   \n",
       "3  DEDICATION  My dear Lang,  The appointed years...          41   0.000000   \n",
       "4  how many of them--are gone by, leaving Ayesha ...          67   0.425000   \n",
       "\n",
       "   cluster  \n",
       "0        1  \n",
       "1        1  \n",
       "2        0  \n",
       "3        0  \n",
       "4        2  "
      ]
     },
     "execution_count": 61,
     "metadata": {},
     "output_type": "execute_result"
    }
   ],
   "source": [
    "df_cluster_3no_syl.head()"
   ]
  },
  {
   "cell_type": "code",
   "execution_count": 62,
   "metadata": {
    "collapsed": false
   },
   "outputs": [
    {
     "data": {
      "text/html": [
       "<div>\n",
       "<table border=\"1\" class=\"dataframe\">\n",
       "  <thead>\n",
       "    <tr style=\"text-align: right;\">\n",
       "      <th></th>\n",
       "      <th>total_char</th>\n",
       "      <th>sentiment</th>\n",
       "    </tr>\n",
       "    <tr>\n",
       "      <th>cluster</th>\n",
       "      <th></th>\n",
       "      <th></th>\n",
       "    </tr>\n",
       "  </thead>\n",
       "  <tbody>\n",
       "    <tr>\n",
       "      <th>0</th>\n",
       "      <td>49.887980</td>\n",
       "      <td>-0.064265</td>\n",
       "    </tr>\n",
       "    <tr>\n",
       "      <th>1</th>\n",
       "      <td>163.574122</td>\n",
       "      <td>0.008750</td>\n",
       "    </tr>\n",
       "    <tr>\n",
       "      <th>2</th>\n",
       "      <td>87.375723</td>\n",
       "      <td>0.452976</td>\n",
       "    </tr>\n",
       "  </tbody>\n",
       "</table>\n",
       "</div>"
      ],
      "text/plain": [
       "         total_char  sentiment\n",
       "cluster                       \n",
       "0         49.887980  -0.064265\n",
       "1        163.574122   0.008750\n",
       "2         87.375723   0.452976"
      ]
     },
     "execution_count": 62,
     "metadata": {},
     "output_type": "execute_result"
    }
   ],
   "source": [
    "df_cluster_3no_syl.groupby('cluster').mean()"
   ]
  },
  {
   "cell_type": "markdown",
   "metadata": {},
   "source": [
    "Add cluster_3no_syl to original dataframe"
   ]
  },
  {
   "cell_type": "code",
   "execution_count": 63,
   "metadata": {
    "collapsed": true
   },
   "outputs": [],
   "source": [
    "df_novel['cluster_3no_syl'] = df_cluster_3no_syl['cluster']"
   ]
  },
  {
   "cell_type": "code",
   "execution_count": 64,
   "metadata": {
    "collapsed": false
   },
   "outputs": [
    {
     "data": {
      "text/html": [
       "<div>\n",
       "<table border=\"1\" class=\"dataframe\">\n",
       "  <thead>\n",
       "    <tr style=\"text-align: right;\">\n",
       "      <th></th>\n",
       "      <th>0</th>\n",
       "      <th>wrd_length</th>\n",
       "      <th>total_char</th>\n",
       "      <th>syl_count</th>\n",
       "      <th>syl_sum</th>\n",
       "      <th>sentiment</th>\n",
       "      <th>cluster_20</th>\n",
       "      <th>cluster_3_syl</th>\n",
       "      <th>cluster_3no_syl</th>\n",
       "    </tr>\n",
       "  </thead>\n",
       "  <tbody>\n",
       "    <tr>\n",
       "      <th>0</th>\n",
       "      <td>Often I sit alone at night, staring with the e...</td>\n",
       "      <td>[5, 1, 3, 5, 2, 5, 7, 4, 3, 4, 2, 2, 4, 4, 3, ...</td>\n",
       "      <td>178</td>\n",
       "      <td>[2, 1, 1, 2, 1, 1, 2, 1, 1, 0, 1, 1, 1, 2, 1, ...</td>\n",
       "      <td>57.0</td>\n",
       "      <td>0.300000</td>\n",
       "      <td>18</td>\n",
       "      <td>1</td>\n",
       "      <td>1</td>\n",
       "    </tr>\n",
       "    <tr>\n",
       "      <th>1</th>\n",
       "      <td>And when, ultimately, that _final_      develo...</td>\n",
       "      <td>[3, 4, 10, 4, 5, 11, 6, 2, 1, 4, 2, 5, 2, 4, 3...</td>\n",
       "      <td>381</td>\n",
       "      <td>[1, 1, 5, 1, 2, 4, 2, 1, 1, 1, 1, 1, 1, 1, 1, ...</td>\n",
       "      <td>125.0</td>\n",
       "      <td>0.049074</td>\n",
       "      <td>6</td>\n",
       "      <td>1</td>\n",
       "      <td>1</td>\n",
       "    </tr>\n",
       "    <tr>\n",
       "      <th>2</th>\n",
       "      <td>--      _She_, Silver Library Edition, p. 277.</td>\n",
       "      <td>[3, 6, 7, 7, 1, 3]</td>\n",
       "      <td>27</td>\n",
       "      <td>[0, 2, 3, 3, 0, 0]</td>\n",
       "      <td>8.0</td>\n",
       "      <td>0.000000</td>\n",
       "      <td>0</td>\n",
       "      <td>0</td>\n",
       "      <td>0</td>\n",
       "    </tr>\n",
       "    <tr>\n",
       "      <th>3</th>\n",
       "      <td>DEDICATION  My dear Lang,  The appointed years...</td>\n",
       "      <td>[10, 2, 4, 4, 3, 9, 5, 4]</td>\n",
       "      <td>41</td>\n",
       "      <td>[4, 1, 2, 1, 1, 2, 2, 2]</td>\n",
       "      <td>15.0</td>\n",
       "      <td>0.000000</td>\n",
       "      <td>13</td>\n",
       "      <td>0</td>\n",
       "      <td>0</td>\n",
       "    </tr>\n",
       "    <tr>\n",
       "      <th>4</th>\n",
       "      <td>how many of them--are gone by, leaving Ayesha ...</td>\n",
       "      <td>[3, 4, 2, 4, 3, 4, 2, 7, 6, 6, 3, 6, 3, 9, 5]</td>\n",
       "      <td>67</td>\n",
       "      <td>[1, 2, 1, 1, 1, 1, 1, 3, 2, 3, 1, 2, 1, 2, 2]</td>\n",
       "      <td>24.0</td>\n",
       "      <td>0.425000</td>\n",
       "      <td>17</td>\n",
       "      <td>2</td>\n",
       "      <td>2</td>\n",
       "    </tr>\n",
       "  </tbody>\n",
       "</table>\n",
       "</div>"
      ],
      "text/plain": [
       "                                                   0  \\\n",
       "0  Often I sit alone at night, staring with the e...   \n",
       "1  And when, ultimately, that _final_      develo...   \n",
       "2     --      _She_, Silver Library Edition, p. 277.   \n",
       "3  DEDICATION  My dear Lang,  The appointed years...   \n",
       "4  how many of them--are gone by, leaving Ayesha ...   \n",
       "\n",
       "                                          wrd_length  total_char  \\\n",
       "0  [5, 1, 3, 5, 2, 5, 7, 4, 3, 4, 2, 2, 4, 4, 3, ...         178   \n",
       "1  [3, 4, 10, 4, 5, 11, 6, 2, 1, 4, 2, 5, 2, 4, 3...         381   \n",
       "2                                 [3, 6, 7, 7, 1, 3]          27   \n",
       "3                          [10, 2, 4, 4, 3, 9, 5, 4]          41   \n",
       "4      [3, 4, 2, 4, 3, 4, 2, 7, 6, 6, 3, 6, 3, 9, 5]          67   \n",
       "\n",
       "                                           syl_count  syl_sum  sentiment  \\\n",
       "0  [2, 1, 1, 2, 1, 1, 2, 1, 1, 0, 1, 1, 1, 2, 1, ...     57.0   0.300000   \n",
       "1  [1, 1, 5, 1, 2, 4, 2, 1, 1, 1, 1, 1, 1, 1, 1, ...    125.0   0.049074   \n",
       "2                                 [0, 2, 3, 3, 0, 0]      8.0   0.000000   \n",
       "3                           [4, 1, 2, 1, 1, 2, 2, 2]     15.0   0.000000   \n",
       "4      [1, 2, 1, 1, 1, 1, 1, 3, 2, 3, 1, 2, 1, 2, 2]     24.0   0.425000   \n",
       "\n",
       "   cluster_20  cluster_3_syl  cluster_3no_syl  \n",
       "0          18              1                1  \n",
       "1           6              1                1  \n",
       "2           0              0                0  \n",
       "3          13              0                0  \n",
       "4          17              2                2  "
      ]
     },
     "execution_count": 64,
     "metadata": {},
     "output_type": "execute_result"
    }
   ],
   "source": [
    "df_novel.head()"
   ]
  },
  {
   "cell_type": "markdown",
   "metadata": {},
   "source": [
    "Create 5 Clusters"
   ]
  },
  {
   "cell_type": "code",
   "execution_count": 65,
   "metadata": {
    "collapsed": true
   },
   "outputs": [],
   "source": [
    "df_cluster_5 = df_cluster.copy()"
   ]
  },
  {
   "cell_type": "code",
   "execution_count": 66,
   "metadata": {
    "collapsed": false
   },
   "outputs": [
    {
     "data": {
      "text/html": [
       "<div>\n",
       "<table border=\"1\" class=\"dataframe\">\n",
       "  <thead>\n",
       "    <tr style=\"text-align: right;\">\n",
       "      <th></th>\n",
       "      <th>0</th>\n",
       "      <th>total_char</th>\n",
       "      <th>syl_sum</th>\n",
       "      <th>sentiment</th>\n",
       "    </tr>\n",
       "  </thead>\n",
       "  <tbody>\n",
       "    <tr>\n",
       "      <th>0</th>\n",
       "      <td>Often I sit alone at night, staring with the e...</td>\n",
       "      <td>178</td>\n",
       "      <td>57.0</td>\n",
       "      <td>0.300000</td>\n",
       "    </tr>\n",
       "    <tr>\n",
       "      <th>1</th>\n",
       "      <td>And when, ultimately, that _final_      develo...</td>\n",
       "      <td>381</td>\n",
       "      <td>125.0</td>\n",
       "      <td>0.049074</td>\n",
       "    </tr>\n",
       "    <tr>\n",
       "      <th>2</th>\n",
       "      <td>--      _She_, Silver Library Edition, p. 277.</td>\n",
       "      <td>27</td>\n",
       "      <td>8.0</td>\n",
       "      <td>0.000000</td>\n",
       "    </tr>\n",
       "    <tr>\n",
       "      <th>3</th>\n",
       "      <td>DEDICATION  My dear Lang,  The appointed years...</td>\n",
       "      <td>41</td>\n",
       "      <td>15.0</td>\n",
       "      <td>0.000000</td>\n",
       "    </tr>\n",
       "    <tr>\n",
       "      <th>4</th>\n",
       "      <td>how many of them--are gone by, leaving Ayesha ...</td>\n",
       "      <td>67</td>\n",
       "      <td>24.0</td>\n",
       "      <td>0.425000</td>\n",
       "    </tr>\n",
       "  </tbody>\n",
       "</table>\n",
       "</div>"
      ],
      "text/plain": [
       "                                                   0  total_char  syl_sum  \\\n",
       "0  Often I sit alone at night, staring with the e...         178     57.0   \n",
       "1  And when, ultimately, that _final_      develo...         381    125.0   \n",
       "2     --      _She_, Silver Library Edition, p. 277.          27      8.0   \n",
       "3  DEDICATION  My dear Lang,  The appointed years...          41     15.0   \n",
       "4  how many of them--are gone by, leaving Ayesha ...          67     24.0   \n",
       "\n",
       "   sentiment  \n",
       "0   0.300000  \n",
       "1   0.049074  \n",
       "2   0.000000  \n",
       "3   0.000000  \n",
       "4   0.425000  "
      ]
     },
     "execution_count": 66,
     "metadata": {},
     "output_type": "execute_result"
    }
   ],
   "source": [
    "df_cluster_5.head()"
   ]
  },
  {
   "cell_type": "code",
   "execution_count": 67,
   "metadata": {
    "collapsed": true
   },
   "outputs": [],
   "source": [
    "X = df_cluster_5.drop(0, axis=1)"
   ]
  },
  {
   "cell_type": "code",
   "execution_count": 68,
   "metadata": {
    "collapsed": true
   },
   "outputs": [],
   "source": [
    "scaler = StandardScaler()\n",
    "X_scaled = scaler.fit_transform(X)"
   ]
  },
  {
   "cell_type": "code",
   "execution_count": 69,
   "metadata": {
    "collapsed": false
   },
   "outputs": [
    {
     "data": {
      "text/plain": [
       "KMeans(copy_x=True, init='k-means++', max_iter=300, n_clusters=5, n_init=10,\n",
       "    n_jobs=1, precompute_distances='auto', random_state=1, tol=0.0001,\n",
       "    verbose=0)"
      ]
     },
     "execution_count": 69,
     "metadata": {},
     "output_type": "execute_result"
    }
   ],
   "source": [
    "km = KMeans(n_clusters=5, random_state=1)\n",
    "km.fit(X_scaled)"
   ]
  },
  {
   "cell_type": "code",
   "execution_count": 70,
   "metadata": {
    "collapsed": true
   },
   "outputs": [],
   "source": [
    "df_cluster_5['cluster'] = km.labels_"
   ]
  },
  {
   "cell_type": "code",
   "execution_count": 71,
   "metadata": {
    "collapsed": false
   },
   "outputs": [
    {
     "data": {
      "text/html": [
       "<div>\n",
       "<table border=\"1\" class=\"dataframe\">\n",
       "  <thead>\n",
       "    <tr style=\"text-align: right;\">\n",
       "      <th></th>\n",
       "      <th>total_char</th>\n",
       "      <th>syl_sum</th>\n",
       "      <th>sentiment</th>\n",
       "    </tr>\n",
       "    <tr>\n",
       "      <th>cluster</th>\n",
       "      <th></th>\n",
       "      <th></th>\n",
       "      <th></th>\n",
       "    </tr>\n",
       "  </thead>\n",
       "  <tbody>\n",
       "    <tr>\n",
       "      <th>0</th>\n",
       "      <td>36.788194</td>\n",
       "      <td>11.539497</td>\n",
       "      <td>-0.002450</td>\n",
       "    </tr>\n",
       "    <tr>\n",
       "      <th>1</th>\n",
       "      <td>71.517442</td>\n",
       "      <td>22.351744</td>\n",
       "      <td>-0.535475</td>\n",
       "    </tr>\n",
       "    <tr>\n",
       "      <th>2</th>\n",
       "      <td>81.053272</td>\n",
       "      <td>25.456621</td>\n",
       "      <td>0.503695</td>\n",
       "    </tr>\n",
       "    <tr>\n",
       "      <th>3</th>\n",
       "      <td>115.151685</td>\n",
       "      <td>35.834582</td>\n",
       "      <td>0.003292</td>\n",
       "    </tr>\n",
       "    <tr>\n",
       "      <th>4</th>\n",
       "      <td>205.658754</td>\n",
       "      <td>64.526706</td>\n",
       "      <td>0.081146</td>\n",
       "    </tr>\n",
       "  </tbody>\n",
       "</table>\n",
       "</div>"
      ],
      "text/plain": [
       "         total_char    syl_sum  sentiment\n",
       "cluster                                  \n",
       "0         36.788194  11.539497  -0.002450\n",
       "1         71.517442  22.351744  -0.535475\n",
       "2         81.053272  25.456621   0.503695\n",
       "3        115.151685  35.834582   0.003292\n",
       "4        205.658754  64.526706   0.081146"
      ]
     },
     "execution_count": 71,
     "metadata": {},
     "output_type": "execute_result"
    }
   ],
   "source": [
    "df_cluster_5.groupby('cluster').mean()"
   ]
  },
  {
   "cell_type": "markdown",
   "metadata": {},
   "source": [
    "Add cluster_5 to original dataframe"
   ]
  },
  {
   "cell_type": "code",
   "execution_count": 72,
   "metadata": {
    "collapsed": true
   },
   "outputs": [],
   "source": [
    "df_novel['cluster_5'] = df_cluster_5['cluster']"
   ]
  },
  {
   "cell_type": "code",
   "execution_count": 73,
   "metadata": {
    "collapsed": false
   },
   "outputs": [
    {
     "data": {
      "text/html": [
       "<div>\n",
       "<table border=\"1\" class=\"dataframe\">\n",
       "  <thead>\n",
       "    <tr style=\"text-align: right;\">\n",
       "      <th></th>\n",
       "      <th>0</th>\n",
       "      <th>wrd_length</th>\n",
       "      <th>total_char</th>\n",
       "      <th>syl_count</th>\n",
       "      <th>syl_sum</th>\n",
       "      <th>sentiment</th>\n",
       "      <th>cluster_20</th>\n",
       "      <th>cluster_3_syl</th>\n",
       "      <th>cluster_3no_syl</th>\n",
       "      <th>cluster_5</th>\n",
       "    </tr>\n",
       "  </thead>\n",
       "  <tbody>\n",
       "    <tr>\n",
       "      <th>0</th>\n",
       "      <td>Often I sit alone at night, staring with the e...</td>\n",
       "      <td>[5, 1, 3, 5, 2, 5, 7, 4, 3, 4, 2, 2, 4, 4, 3, ...</td>\n",
       "      <td>178</td>\n",
       "      <td>[2, 1, 1, 2, 1, 1, 2, 1, 1, 0, 1, 1, 1, 2, 1, ...</td>\n",
       "      <td>57.0</td>\n",
       "      <td>0.300000</td>\n",
       "      <td>18</td>\n",
       "      <td>1</td>\n",
       "      <td>1</td>\n",
       "      <td>4</td>\n",
       "    </tr>\n",
       "    <tr>\n",
       "      <th>1</th>\n",
       "      <td>And when, ultimately, that _final_      develo...</td>\n",
       "      <td>[3, 4, 10, 4, 5, 11, 6, 2, 1, 4, 2, 5, 2, 4, 3...</td>\n",
       "      <td>381</td>\n",
       "      <td>[1, 1, 5, 1, 2, 4, 2, 1, 1, 1, 1, 1, 1, 1, 1, ...</td>\n",
       "      <td>125.0</td>\n",
       "      <td>0.049074</td>\n",
       "      <td>6</td>\n",
       "      <td>1</td>\n",
       "      <td>1</td>\n",
       "      <td>4</td>\n",
       "    </tr>\n",
       "    <tr>\n",
       "      <th>2</th>\n",
       "      <td>--      _She_, Silver Library Edition, p. 277.</td>\n",
       "      <td>[3, 6, 7, 7, 1, 3]</td>\n",
       "      <td>27</td>\n",
       "      <td>[0, 2, 3, 3, 0, 0]</td>\n",
       "      <td>8.0</td>\n",
       "      <td>0.000000</td>\n",
       "      <td>0</td>\n",
       "      <td>0</td>\n",
       "      <td>0</td>\n",
       "      <td>0</td>\n",
       "    </tr>\n",
       "    <tr>\n",
       "      <th>3</th>\n",
       "      <td>DEDICATION  My dear Lang,  The appointed years...</td>\n",
       "      <td>[10, 2, 4, 4, 3, 9, 5, 4]</td>\n",
       "      <td>41</td>\n",
       "      <td>[4, 1, 2, 1, 1, 2, 2, 2]</td>\n",
       "      <td>15.0</td>\n",
       "      <td>0.000000</td>\n",
       "      <td>13</td>\n",
       "      <td>0</td>\n",
       "      <td>0</td>\n",
       "      <td>0</td>\n",
       "    </tr>\n",
       "    <tr>\n",
       "      <th>4</th>\n",
       "      <td>how many of them--are gone by, leaving Ayesha ...</td>\n",
       "      <td>[3, 4, 2, 4, 3, 4, 2, 7, 6, 6, 3, 6, 3, 9, 5]</td>\n",
       "      <td>67</td>\n",
       "      <td>[1, 2, 1, 1, 1, 1, 1, 3, 2, 3, 1, 2, 1, 2, 2]</td>\n",
       "      <td>24.0</td>\n",
       "      <td>0.425000</td>\n",
       "      <td>17</td>\n",
       "      <td>2</td>\n",
       "      <td>2</td>\n",
       "      <td>2</td>\n",
       "    </tr>\n",
       "  </tbody>\n",
       "</table>\n",
       "</div>"
      ],
      "text/plain": [
       "                                                   0  \\\n",
       "0  Often I sit alone at night, staring with the e...   \n",
       "1  And when, ultimately, that _final_      develo...   \n",
       "2     --      _She_, Silver Library Edition, p. 277.   \n",
       "3  DEDICATION  My dear Lang,  The appointed years...   \n",
       "4  how many of them--are gone by, leaving Ayesha ...   \n",
       "\n",
       "                                          wrd_length  total_char  \\\n",
       "0  [5, 1, 3, 5, 2, 5, 7, 4, 3, 4, 2, 2, 4, 4, 3, ...         178   \n",
       "1  [3, 4, 10, 4, 5, 11, 6, 2, 1, 4, 2, 5, 2, 4, 3...         381   \n",
       "2                                 [3, 6, 7, 7, 1, 3]          27   \n",
       "3                          [10, 2, 4, 4, 3, 9, 5, 4]          41   \n",
       "4      [3, 4, 2, 4, 3, 4, 2, 7, 6, 6, 3, 6, 3, 9, 5]          67   \n",
       "\n",
       "                                           syl_count  syl_sum  sentiment  \\\n",
       "0  [2, 1, 1, 2, 1, 1, 2, 1, 1, 0, 1, 1, 1, 2, 1, ...     57.0   0.300000   \n",
       "1  [1, 1, 5, 1, 2, 4, 2, 1, 1, 1, 1, 1, 1, 1, 1, ...    125.0   0.049074   \n",
       "2                                 [0, 2, 3, 3, 0, 0]      8.0   0.000000   \n",
       "3                           [4, 1, 2, 1, 1, 2, 2, 2]     15.0   0.000000   \n",
       "4      [1, 2, 1, 1, 1, 1, 1, 3, 2, 3, 1, 2, 1, 2, 2]     24.0   0.425000   \n",
       "\n",
       "   cluster_20  cluster_3_syl  cluster_3no_syl  cluster_5  \n",
       "0          18              1                1          4  \n",
       "1           6              1                1          4  \n",
       "2           0              0                0          0  \n",
       "3          13              0                0          0  \n",
       "4          17              2                2          2  "
      ]
     },
     "execution_count": 73,
     "metadata": {},
     "output_type": "execute_result"
    }
   ],
   "source": [
    "df_novel.head()"
   ]
  },
  {
   "cell_type": "markdown",
   "metadata": {},
   "source": [
    "Write files to csv"
   ]
  },
  {
   "cell_type": "code",
   "execution_count": 74,
   "metadata": {
    "collapsed": true
   },
   "outputs": [],
   "source": [
    "df_novel.to_csv('data/novel_'+novel_title+'.csv', index=False)"
   ]
  },
  {
   "cell_type": "code",
   "execution_count": 75,
   "metadata": {
    "collapsed": true
   },
   "outputs": [],
   "source": [
    "df_test = pd.read_csv('data/novel_'+novel_title+'.csv')"
   ]
  },
  {
   "cell_type": "code",
   "execution_count": 76,
   "metadata": {
    "collapsed": false
   },
   "outputs": [
    {
     "data": {
      "text/html": [
       "<div>\n",
       "<table border=\"1\" class=\"dataframe\">\n",
       "  <thead>\n",
       "    <tr style=\"text-align: right;\">\n",
       "      <th></th>\n",
       "      <th>0</th>\n",
       "      <th>wrd_length</th>\n",
       "      <th>total_char</th>\n",
       "      <th>syl_count</th>\n",
       "      <th>syl_sum</th>\n",
       "      <th>sentiment</th>\n",
       "      <th>cluster_20</th>\n",
       "      <th>cluster_3_syl</th>\n",
       "      <th>cluster_3no_syl</th>\n",
       "      <th>cluster_5</th>\n",
       "    </tr>\n",
       "  </thead>\n",
       "  <tbody>\n",
       "    <tr>\n",
       "      <th>0</th>\n",
       "      <td>Often I sit alone at night, staring with the e...</td>\n",
       "      <td>[5, 1, 3, 5, 2, 5, 7, 4, 3, 4, 2, 2, 4, 4, 3, ...</td>\n",
       "      <td>178</td>\n",
       "      <td>[2 1 1 2 1 1 2 1 1 0 1 1 1 2 1 2 1 2 1 1 3 1 1...</td>\n",
       "      <td>57.0</td>\n",
       "      <td>0.300000</td>\n",
       "      <td>18</td>\n",
       "      <td>1</td>\n",
       "      <td>1</td>\n",
       "      <td>4</td>\n",
       "    </tr>\n",
       "    <tr>\n",
       "      <th>1</th>\n",
       "      <td>And when, ultimately, that _final_      develo...</td>\n",
       "      <td>[3, 4, 10, 4, 5, 11, 6, 2, 1, 4, 2, 5, 2, 4, 3...</td>\n",
       "      <td>381</td>\n",
       "      <td>[1 1 5 1 2 4 2 1 1 1 1 1 1 1 1 1 2 1 4 1 1 1 1...</td>\n",
       "      <td>125.0</td>\n",
       "      <td>0.049074</td>\n",
       "      <td>6</td>\n",
       "      <td>1</td>\n",
       "      <td>1</td>\n",
       "      <td>4</td>\n",
       "    </tr>\n",
       "    <tr>\n",
       "      <th>2</th>\n",
       "      <td>--      _She_, Silver Library Edition, p. 277.</td>\n",
       "      <td>[3, 6, 7, 7, 1, 3]</td>\n",
       "      <td>27</td>\n",
       "      <td>[0 2 3 3 0 0]</td>\n",
       "      <td>8.0</td>\n",
       "      <td>0.000000</td>\n",
       "      <td>0</td>\n",
       "      <td>0</td>\n",
       "      <td>0</td>\n",
       "      <td>0</td>\n",
       "    </tr>\n",
       "    <tr>\n",
       "      <th>3</th>\n",
       "      <td>DEDICATION  My dear Lang,  The appointed years...</td>\n",
       "      <td>[10, 2, 4, 4, 3, 9, 5, 4]</td>\n",
       "      <td>41</td>\n",
       "      <td>[4 1 2 1 1 2 2 2]</td>\n",
       "      <td>15.0</td>\n",
       "      <td>0.000000</td>\n",
       "      <td>13</td>\n",
       "      <td>0</td>\n",
       "      <td>0</td>\n",
       "      <td>0</td>\n",
       "    </tr>\n",
       "    <tr>\n",
       "      <th>4</th>\n",
       "      <td>how many of them--are gone by, leaving Ayesha ...</td>\n",
       "      <td>[3, 4, 2, 4, 3, 4, 2, 7, 6, 6, 3, 6, 3, 9, 5]</td>\n",
       "      <td>67</td>\n",
       "      <td>[1 2 1 1 1 1 1 3 2 3 1 2 1 2 2]</td>\n",
       "      <td>24.0</td>\n",
       "      <td>0.425000</td>\n",
       "      <td>17</td>\n",
       "      <td>2</td>\n",
       "      <td>2</td>\n",
       "      <td>2</td>\n",
       "    </tr>\n",
       "  </tbody>\n",
       "</table>\n",
       "</div>"
      ],
      "text/plain": [
       "                                                   0  \\\n",
       "0  Often I sit alone at night, staring with the e...   \n",
       "1  And when, ultimately, that _final_      develo...   \n",
       "2     --      _She_, Silver Library Edition, p. 277.   \n",
       "3  DEDICATION  My dear Lang,  The appointed years...   \n",
       "4  how many of them--are gone by, leaving Ayesha ...   \n",
       "\n",
       "                                          wrd_length  total_char  \\\n",
       "0  [5, 1, 3, 5, 2, 5, 7, 4, 3, 4, 2, 2, 4, 4, 3, ...         178   \n",
       "1  [3, 4, 10, 4, 5, 11, 6, 2, 1, 4, 2, 5, 2, 4, 3...         381   \n",
       "2                                 [3, 6, 7, 7, 1, 3]          27   \n",
       "3                          [10, 2, 4, 4, 3, 9, 5, 4]          41   \n",
       "4      [3, 4, 2, 4, 3, 4, 2, 7, 6, 6, 3, 6, 3, 9, 5]          67   \n",
       "\n",
       "                                           syl_count  syl_sum  sentiment  \\\n",
       "0  [2 1 1 2 1 1 2 1 1 0 1 1 1 2 1 2 1 2 1 1 3 1 1...     57.0   0.300000   \n",
       "1  [1 1 5 1 2 4 2 1 1 1 1 1 1 1 1 1 2 1 4 1 1 1 1...    125.0   0.049074   \n",
       "2                                      [0 2 3 3 0 0]      8.0   0.000000   \n",
       "3                                  [4 1 2 1 1 2 2 2]     15.0   0.000000   \n",
       "4                    [1 2 1 1 1 1 1 3 2 3 1 2 1 2 2]     24.0   0.425000   \n",
       "\n",
       "   cluster_20  cluster_3_syl  cluster_3no_syl  cluster_5  \n",
       "0          18              1                1          4  \n",
       "1           6              1                1          4  \n",
       "2           0              0                0          0  \n",
       "3          13              0                0          0  \n",
       "4          17              2                2          2  "
      ]
     },
     "execution_count": 76,
     "metadata": {},
     "output_type": "execute_result"
    }
   ],
   "source": [
    "df_test.head()"
   ]
  },
  {
   "cell_type": "markdown",
   "metadata": {},
   "source": [
    "Find ideal amount of clusters for novel"
   ]
  },
  {
   "cell_type": "raw",
   "metadata": {},
   "source": [
    "from sklearn import metrics\n",
    "metrics.silhouette_score(X_scaled, km.labels_)"
   ]
  },
  {
   "cell_type": "raw",
   "metadata": {},
   "source": [
    "k_range = range(2,150)\n",
    "scores = []\n",
    "for k in k_range:\n",
    "    km = KMeans(n_clusters=k, random_state=1)\n",
    "    km.fit(X_scaled)\n",
    "    scores.append(metrics.silhouette_score(X_scaled, km.labels_))"
   ]
  },
  {
   "cell_type": "raw",
   "metadata": {},
   "source": [
    "plt.plot(k_range, scores)\n",
    "plt.xlabel('Number of clusters')\n",
    "plt.ylabel('Silihouette Coefficient')\n",
    "plt.grid(True)"
   ]
  },
  {
   "cell_type": "markdown",
   "metadata": {},
   "source": [
    "Find Sentiment Pattern "
   ]
  },
  {
   "cell_type": "markdown",
   "metadata": {},
   "source": [
    "20 pieces"
   ]
  },
  {
   "cell_type": "code",
   "execution_count": 77,
   "metadata": {
    "collapsed": false
   },
   "outputs": [
    {
     "data": {
      "text/html": [
       "<div>\n",
       "<table border=\"1\" class=\"dataframe\">\n",
       "  <thead>\n",
       "    <tr style=\"text-align: right;\">\n",
       "      <th></th>\n",
       "      <th>0</th>\n",
       "      <th>wrd_length</th>\n",
       "      <th>total_char</th>\n",
       "      <th>syl_count</th>\n",
       "      <th>syl_sum</th>\n",
       "      <th>sentiment</th>\n",
       "      <th>cluster_20</th>\n",
       "      <th>cluster_3_syl</th>\n",
       "      <th>cluster_3no_syl</th>\n",
       "      <th>cluster_5</th>\n",
       "    </tr>\n",
       "  </thead>\n",
       "  <tbody>\n",
       "    <tr>\n",
       "      <th>5576</th>\n",
       "      <td>Kou-en listened with respectful attention, but...</td>\n",
       "      <td>[6, 8, 4, 10, 9, 3, 3, 4, 7, 2, 2, 5, 4, 2, 4,...</td>\n",
       "      <td>113</td>\n",
       "      <td>[2, 2, 1, 3, 3, 1, 1, 1, 1, 1, 1, 1, 1, 1, 1, ...</td>\n",
       "      <td>34.0</td>\n",
       "      <td>0.248333</td>\n",
       "      <td>10</td>\n",
       "      <td>2</td>\n",
       "      <td>2</td>\n",
       "      <td>3</td>\n",
       "    </tr>\n",
       "    <tr>\n",
       "      <th>5577</th>\n",
       "      <td>Indeed, he explained it to me at such length b...</td>\n",
       "      <td>[6, 2, 9, 2, 2, 2, 2, 4, 6, 2, 3, 2, 4, 10, 6,...</td>\n",
       "      <td>101</td>\n",
       "      <td>[1, 1, 2, 1, 1, 1, 1, 1, 1, 1, 1, 1, 1, 3, 2, ...</td>\n",
       "      <td>33.0</td>\n",
       "      <td>0.000000</td>\n",
       "      <td>3</td>\n",
       "      <td>0</td>\n",
       "      <td>0</td>\n",
       "      <td>3</td>\n",
       "    </tr>\n",
       "    <tr>\n",
       "      <th>5578</th>\n",
       "      <td>\"At least,\" I said sleepily, \"it would seem th...</td>\n",
       "      <td>[2, 5, 1, 4, 8, 2, 5, 4, 4, 2, 3, 3, 7, 5, 2, ...</td>\n",
       "      <td>123</td>\n",
       "      <td>[1, 2, 1, 1, 3, 1, 1, 1, 1, 1, 1, 1, 2, 2, 1, ...</td>\n",
       "      <td>39.0</td>\n",
       "      <td>0.100000</td>\n",
       "      <td>3</td>\n",
       "      <td>1</td>\n",
       "      <td>1</td>\n",
       "      <td>3</td>\n",
       "    </tr>\n",
       "    <tr>\n",
       "      <th>5579</th>\n",
       "      <td>\"Yes, brother of the Monastery called the Worl...</td>\n",
       "      <td>[3, 7, 2, 3, 9, 6, 3, 5, 6, 8, 2, 1, 6, 5, 9, ...</td>\n",
       "      <td>391</td>\n",
       "      <td>[0, 2, 1, 1, 4, 1, 1, 1, 2, 2, 1, 1, 2, 1, 2, ...</td>\n",
       "      <td>126.0</td>\n",
       "      <td>0.080000</td>\n",
       "      <td>6</td>\n",
       "      <td>1</td>\n",
       "      <td>1</td>\n",
       "      <td>4</td>\n",
       "    </tr>\n",
       "    <tr>\n",
       "      <th>5580</th>\n",
       "      <td>)_</td>\n",
       "      <td>[]</td>\n",
       "      <td>0</td>\n",
       "      <td>[]</td>\n",
       "      <td>0.0</td>\n",
       "      <td>0.000000</td>\n",
       "      <td>0</td>\n",
       "      <td>0</td>\n",
       "      <td>0</td>\n",
       "      <td>0</td>\n",
       "    </tr>\n",
       "  </tbody>\n",
       "</table>\n",
       "</div>"
      ],
      "text/plain": [
       "                                                      0  \\\n",
       "5576  Kou-en listened with respectful attention, but...   \n",
       "5577  Indeed, he explained it to me at such length b...   \n",
       "5578  \"At least,\" I said sleepily, \"it would seem th...   \n",
       "5579  \"Yes, brother of the Monastery called the Worl...   \n",
       "5580                                            )_        \n",
       "\n",
       "                                             wrd_length  total_char  \\\n",
       "5576  [6, 8, 4, 10, 9, 3, 3, 4, 7, 2, 2, 5, 4, 2, 4,...         113   \n",
       "5577  [6, 2, 9, 2, 2, 2, 2, 4, 6, 2, 3, 2, 4, 10, 6,...         101   \n",
       "5578  [2, 5, 1, 4, 8, 2, 5, 4, 4, 2, 3, 3, 7, 5, 2, ...         123   \n",
       "5579  [3, 7, 2, 3, 9, 6, 3, 5, 6, 8, 2, 1, 6, 5, 9, ...         391   \n",
       "5580                                                 []           0   \n",
       "\n",
       "                                              syl_count  syl_sum  sentiment  \\\n",
       "5576  [2, 2, 1, 3, 3, 1, 1, 1, 1, 1, 1, 1, 1, 1, 1, ...     34.0   0.248333   \n",
       "5577  [1, 1, 2, 1, 1, 1, 1, 1, 1, 1, 1, 1, 1, 3, 2, ...     33.0   0.000000   \n",
       "5578  [1, 2, 1, 1, 3, 1, 1, 1, 1, 1, 1, 1, 2, 2, 1, ...     39.0   0.100000   \n",
       "5579  [0, 2, 1, 1, 4, 1, 1, 1, 2, 2, 1, 1, 2, 1, 2, ...    126.0   0.080000   \n",
       "5580                                                 []      0.0   0.000000   \n",
       "\n",
       "      cluster_20  cluster_3_syl  cluster_3no_syl  cluster_5  \n",
       "5576          10              2                2          3  \n",
       "5577           3              0                0          3  \n",
       "5578           3              1                1          3  \n",
       "5579           6              1                1          4  \n",
       "5580           0              0                0          0  "
      ]
     },
     "execution_count": 77,
     "metadata": {},
     "output_type": "execute_result"
    }
   ],
   "source": [
    "df_novel.tail()"
   ]
  },
  {
   "cell_type": "code",
   "execution_count": 78,
   "metadata": {
    "collapsed": false
   },
   "outputs": [
    {
     "data": {
      "text/plain": [
       "485701"
      ]
     },
     "execution_count": 78,
     "metadata": {},
     "output_type": "execute_result"
    }
   ],
   "source": [
    "df_novel['total_char'].sum()"
   ]
  },
  {
   "cell_type": "code",
   "execution_count": 79,
   "metadata": {
    "collapsed": false
   },
   "outputs": [],
   "source": [
    "t = 0\n",
    "x = 0\n",
    "ratio = (df_novel['total_char'].sum()/20) - (.06 * (int(len(df_novel) - 1)))\n",
    "# or figure out some better code. \n",
    "def find_this(t, x):\n",
    "    w = 0    \n",
    "    sent_stop = []\n",
    "    while w <= ratio:\n",
    "        w = df_novel['total_char'][t:x].sum()\n",
    "        sent_stop.append(x)\n",
    "        x += 1\n",
    "    return max(sent_stop)     "
   ]
  },
  {
   "cell_type": "code",
   "execution_count": 80,
   "metadata": {
    "collapsed": false
   },
   "outputs": [
    {
     "name": "stdout",
     "output_type": "stream",
     "text": [
      "df_novel['total_char'][0:257]\n",
      "df_novel['total_char'][257:509]\n",
      "df_novel['total_char'][509:789]\n",
      "df_novel['total_char'][789:1060]\n",
      "df_novel['total_char'][1060:1389]\n",
      "df_novel['total_char'][1389:1722]\n",
      "df_novel['total_char'][1722:1968]\n",
      "df_novel['total_char'][1968:2285]\n",
      "df_novel['total_char'][2285:2560]\n",
      "df_novel['total_char'][2560:2821]\n",
      "df_novel['total_char'][2821:3098]\n",
      "df_novel['total_char'][3098:3387]\n",
      "df_novel['total_char'][3387:3633]\n",
      "df_novel['total_char'][3633:3906]\n",
      "df_novel['total_char'][3906:4199]\n",
      "df_novel['total_char'][4199:4419]\n",
      "df_novel['total_char'][4419:4690]\n",
      "df_novel['total_char'][4690:4926]\n",
      "df_novel['total_char'][4926:5228]\n",
      "df_novel['total_char'][5228:5516]\n"
     ]
    }
   ],
   "source": [
    "t = 0\n",
    "x = 0\n",
    "start_point = []\n",
    "stop_point = []\n",
    "for n in range(1, 21):\n",
    "    s = find_this(t, x)\n",
    "    print \"df_novel['total_char'][%s:%s]\" %(t, s)\n",
    "    start_point.append(t)\n",
    "    stop_point.append(s)\n",
    "    t = s\n",
    "    x = s + 1      "
   ]
  },
  {
   "cell_type": "code",
   "execution_count": 81,
   "metadata": {
    "collapsed": false
   },
   "outputs": [
    {
     "name": "stdout",
     "output_type": "stream",
     "text": [
      "0\n",
      "257\n",
      "0.0619134468742\n",
      "257\n",
      "509\n",
      "0.0759097105496\n",
      "509\n",
      "789\n",
      "0.0483100357338\n",
      "789\n",
      "1060\n",
      "0.0227712741566\n",
      "1060\n",
      "1389\n",
      "0.00682957126059\n",
      "1389\n",
      "1722\n",
      "0.0456844239761\n",
      "1722\n",
      "1968\n",
      "0.00929955320468\n",
      "1968\n",
      "2285\n",
      "0.0343286748157\n",
      "2285\n",
      "2560\n",
      "0.000548474841657\n",
      "2560\n",
      "2821\n",
      "0.0161538446982\n",
      "2821\n",
      "3098\n",
      "0.0550687422619\n",
      "3098\n",
      "3387\n",
      "0.0333232857908\n",
      "3387\n",
      "3633\n",
      "0.012437572825\n",
      "3633\n",
      "3906\n",
      "0.0665662404174\n",
      "3906\n",
      "4199\n",
      "0.0363813118527\n",
      "4199\n",
      "4419\n",
      "0.0498876139643\n",
      "4419\n",
      "4690\n",
      "0.0535060034494\n",
      "4690\n",
      "4926\n",
      "0.0308967809036\n",
      "4926\n",
      "5228\n",
      "0.00957140059168\n",
      "5228\n",
      "5516\n",
      "0.0550912376911\n"
     ]
    }
   ],
   "source": [
    "twenty_piece_char = []\n",
    "st = 0\n",
    "for l in start_point: \n",
    "    strt = start_point[st]\n",
    "    stp = stop_point[st]\n",
    "    print strt\n",
    "    print stp\n",
    "    mn = df_novel['sentiment'][strt:stp].mean()\n",
    "    twenty_piece_char.append(mn)\n",
    "    print mn\n",
    "    st +=1   "
   ]
  },
  {
   "cell_type": "code",
   "execution_count": 82,
   "metadata": {
    "collapsed": false
   },
   "outputs": [
    {
     "name": "stdout",
     "output_type": "stream",
     "text": [
      "[ 0.06191345  0.07590971  0.04831004  0.02277127  0.00682957  0.04568442\n",
      "  0.00929955  0.03432867  0.00054847  0.01615384  0.05506874  0.03332329\n",
      "  0.01243757  0.06656624  0.03638131  0.04988761  0.053506    0.03089678\n",
      "  0.0095714   0.05509124]\n"
     ]
    }
   ],
   "source": [
    "n = np.array(n)\n",
    "twenty_piece_char = np.array(twenty_piece_char)\n",
    "print twenty_piece_char"
   ]
  },
  {
   "cell_type": "code",
   "execution_count": 83,
   "metadata": {
    "collapsed": false
   },
   "outputs": [
    {
     "data": {
      "image/png": "[encoded data removed]",
      "text/plain": [
       "<matplotlib.figure.Figure at 0x11acd1390>"
      ]
     },
     "metadata": {},
     "output_type": "display_data"
    }
   ],
   "source": [
    "plt.bar(range(20), twenty_piece_char)\n",
    "plt.ylabel('sentiment')\n",
    "plt.show()"
   ]
  },
  {
   "cell_type": "markdown",
   "metadata": {},
   "source": [
    "Create 3 piece sentiment pattern - need to fix this code for the three piece"
   ]
  },
  {
   "cell_type": "code",
   "execution_count": 84,
   "metadata": {
    "collapsed": false
   },
   "outputs": [
    {
     "data": {
      "text/html": [
       "<div>\n",
       "<table border=\"1\" class=\"dataframe\">\n",
       "  <thead>\n",
       "    <tr style=\"text-align: right;\">\n",
       "      <th></th>\n",
       "      <th>0</th>\n",
       "      <th>wrd_length</th>\n",
       "      <th>total_char</th>\n",
       "      <th>syl_count</th>\n",
       "      <th>syl_sum</th>\n",
       "      <th>sentiment</th>\n",
       "      <th>cluster_20</th>\n",
       "      <th>cluster_3_syl</th>\n",
       "      <th>cluster_3no_syl</th>\n",
       "      <th>cluster_5</th>\n",
       "    </tr>\n",
       "  </thead>\n",
       "  <tbody>\n",
       "    <tr>\n",
       "      <th>5576</th>\n",
       "      <td>Kou-en listened with respectful attention, but...</td>\n",
       "      <td>[6, 8, 4, 10, 9, 3, 3, 4, 7, 2, 2, 5, 4, 2, 4,...</td>\n",
       "      <td>113</td>\n",
       "      <td>[2, 2, 1, 3, 3, 1, 1, 1, 1, 1, 1, 1, 1, 1, 1, ...</td>\n",
       "      <td>34.0</td>\n",
       "      <td>0.248333</td>\n",
       "      <td>10</td>\n",
       "      <td>2</td>\n",
       "      <td>2</td>\n",
       "      <td>3</td>\n",
       "    </tr>\n",
       "    <tr>\n",
       "      <th>5577</th>\n",
       "      <td>Indeed, he explained it to me at such length b...</td>\n",
       "      <td>[6, 2, 9, 2, 2, 2, 2, 4, 6, 2, 3, 2, 4, 10, 6,...</td>\n",
       "      <td>101</td>\n",
       "      <td>[1, 1, 2, 1, 1, 1, 1, 1, 1, 1, 1, 1, 1, 3, 2, ...</td>\n",
       "      <td>33.0</td>\n",
       "      <td>0.000000</td>\n",
       "      <td>3</td>\n",
       "      <td>0</td>\n",
       "      <td>0</td>\n",
       "      <td>3</td>\n",
       "    </tr>\n",
       "    <tr>\n",
       "      <th>5578</th>\n",
       "      <td>\"At least,\" I said sleepily, \"it would seem th...</td>\n",
       "      <td>[2, 5, 1, 4, 8, 2, 5, 4, 4, 2, 3, 3, 7, 5, 2, ...</td>\n",
       "      <td>123</td>\n",
       "      <td>[1, 2, 1, 1, 3, 1, 1, 1, 1, 1, 1, 1, 2, 2, 1, ...</td>\n",
       "      <td>39.0</td>\n",
       "      <td>0.100000</td>\n",
       "      <td>3</td>\n",
       "      <td>1</td>\n",
       "      <td>1</td>\n",
       "      <td>3</td>\n",
       "    </tr>\n",
       "    <tr>\n",
       "      <th>5579</th>\n",
       "      <td>\"Yes, brother of the Monastery called the Worl...</td>\n",
       "      <td>[3, 7, 2, 3, 9, 6, 3, 5, 6, 8, 2, 1, 6, 5, 9, ...</td>\n",
       "      <td>391</td>\n",
       "      <td>[0, 2, 1, 1, 4, 1, 1, 1, 2, 2, 1, 1, 2, 1, 2, ...</td>\n",
       "      <td>126.0</td>\n",
       "      <td>0.080000</td>\n",
       "      <td>6</td>\n",
       "      <td>1</td>\n",
       "      <td>1</td>\n",
       "      <td>4</td>\n",
       "    </tr>\n",
       "    <tr>\n",
       "      <th>5580</th>\n",
       "      <td>)_</td>\n",
       "      <td>[]</td>\n",
       "      <td>0</td>\n",
       "      <td>[]</td>\n",
       "      <td>0.0</td>\n",
       "      <td>0.000000</td>\n",
       "      <td>0</td>\n",
       "      <td>0</td>\n",
       "      <td>0</td>\n",
       "      <td>0</td>\n",
       "    </tr>\n",
       "  </tbody>\n",
       "</table>\n",
       "</div>"
      ],
      "text/plain": [
       "                                                      0  \\\n",
       "5576  Kou-en listened with respectful attention, but...   \n",
       "5577  Indeed, he explained it to me at such length b...   \n",
       "5578  \"At least,\" I said sleepily, \"it would seem th...   \n",
       "5579  \"Yes, brother of the Monastery called the Worl...   \n",
       "5580                                            )_        \n",
       "\n",
       "                                             wrd_length  total_char  \\\n",
       "5576  [6, 8, 4, 10, 9, 3, 3, 4, 7, 2, 2, 5, 4, 2, 4,...         113   \n",
       "5577  [6, 2, 9, 2, 2, 2, 2, 4, 6, 2, 3, 2, 4, 10, 6,...         101   \n",
       "5578  [2, 5, 1, 4, 8, 2, 5, 4, 4, 2, 3, 3, 7, 5, 2, ...         123   \n",
       "5579  [3, 7, 2, 3, 9, 6, 3, 5, 6, 8, 2, 1, 6, 5, 9, ...         391   \n",
       "5580                                                 []           0   \n",
       "\n",
       "                                              syl_count  syl_sum  sentiment  \\\n",
       "5576  [2, 2, 1, 3, 3, 1, 1, 1, 1, 1, 1, 1, 1, 1, 1, ...     34.0   0.248333   \n",
       "5577  [1, 1, 2, 1, 1, 1, 1, 1, 1, 1, 1, 1, 1, 3, 2, ...     33.0   0.000000   \n",
       "5578  [1, 2, 1, 1, 3, 1, 1, 1, 1, 1, 1, 1, 2, 2, 1, ...     39.0   0.100000   \n",
       "5579  [0, 2, 1, 1, 4, 1, 1, 1, 2, 2, 1, 1, 2, 1, 2, ...    126.0   0.080000   \n",
       "5580                                                 []      0.0   0.000000   \n",
       "\n",
       "      cluster_20  cluster_3_syl  cluster_3no_syl  cluster_5  \n",
       "5576          10              2                2          3  \n",
       "5577           3              0                0          3  \n",
       "5578           3              1                1          3  \n",
       "5579           6              1                1          4  \n",
       "5580           0              0                0          0  "
      ]
     },
     "execution_count": 84,
     "metadata": {},
     "output_type": "execute_result"
    }
   ],
   "source": [
    "df_novel.tail()"
   ]
  },
  {
   "cell_type": "code",
   "execution_count": 85,
   "metadata": {
    "collapsed": true
   },
   "outputs": [],
   "source": [
    "t = 0\n",
    "x = 0\n",
    "ratio = (df_novel['total_char'].sum()/3) - (.06 * (int(len(df_novel) - 1)))\n",
    "def find_this(t, x):\n",
    "    w = 0    \n",
    "    sent_stop = []\n",
    "    while w < ratio:\n",
    "        w = df_novel['total_char'][t:x].sum()\n",
    "        sent_stop.append(x)\n",
    "        x += 1\n",
    "    return max(sent_stop)  "
   ]
  },
  {
   "cell_type": "code",
   "execution_count": 86,
   "metadata": {
    "collapsed": false
   },
   "outputs": [
    {
     "name": "stdout",
     "output_type": "stream",
     "text": [
      "df_novel['total_char'][0:1904]\n",
      "df_novel['total_char'][1904:3755]\n",
      "df_novel['total_char'][3755:5569]\n"
     ]
    }
   ],
   "source": [
    "t = 0\n",
    "x = 0\n",
    "start_point = []\n",
    "stop_point = []\n",
    "for n in range(0, 3):\n",
    "    s = find_this(t, x)\n",
    "    print \"df_novel['total_char'][%s:%s]\" %(t, s)\n",
    "    start_point.append(t)\n",
    "    stop_point.append(s)\n",
    "    t = s\n",
    "    x = s + 1  "
   ]
  },
  {
   "cell_type": "code",
   "execution_count": 87,
   "metadata": {
    "collapsed": false
   },
   "outputs": [
    {
     "name": "stdout",
     "output_type": "stream",
     "text": [
      "0\n",
      "1904\n",
      "0.0384531795584\n",
      "1904\n",
      "3755\n",
      "0.0282796125241\n",
      "3755\n",
      "5569\n",
      "0.0415558032737\n"
     ]
    }
   ],
   "source": [
    "three_piece_char = []\n",
    "st = 0\n",
    "for l in start_point: \n",
    "    strt = start_point[st]\n",
    "    stp = stop_point[st]\n",
    "    print strt\n",
    "    print stp\n",
    "    mn = df_novel['sentiment'][strt:stp].mean()\n",
    "    three_piece_char.append(mn)\n",
    "    print mn\n",
    "    st +=1"
   ]
  },
  {
   "cell_type": "code",
   "execution_count": 88,
   "metadata": {
    "collapsed": false
   },
   "outputs": [
    {
     "name": "stdout",
     "output_type": "stream",
     "text": [
      "[ 0.03845318  0.02827961  0.0415558 ]\n"
     ]
    }
   ],
   "source": [
    "n = np.array(n)\n",
    "three_piece_char = np.array(three_piece_char)\n",
    "print three_piece_char"
   ]
  },
  {
   "cell_type": "code",
   "execution_count": 89,
   "metadata": {
    "collapsed": false
   },
   "outputs": [
    {
     "data": {
      "image/png": "[encoded data removed]",
      "text/plain": [
       "<matplotlib.figure.Figure at 0x11f23bf50>"
      ]
     },
     "metadata": {},
     "output_type": "display_data"
    }
   ],
   "source": [
    "plt.bar(range(3), three_piece_char)\n",
    "plt.ylabel('sentiment')\n",
    "plt.show()"
   ]
  },
  {
   "cell_type": "markdown",
   "metadata": {},
   "source": [
    "Create sentiment pattern based on ideal cluster numbers"
   ]
  }
 ],
 "metadata": {
  "kernelspec": {
   "display_name": "Python 2",
   "language": "python",
   "name": "python2"
  },
  "language_info": {
   "codemirror_mode": {
    "name": "ipython",
    "version": 2
   },
   "file_extension": ".py",
   "mimetype": "text/x-python",
   "name": "python",
   "nbconvert_exporter": "python",
   "pygments_lexer": "ipython2",
   "version": "2.7.11"
  }
 },
 "nbformat": 4,
 "nbformat_minor": 0
}
