{
 "cells": [
  {
   "cell_type": "code",
   "execution_count": 1,
   "metadata": {
    "collapsed": true
   },
   "outputs": [],
   "source": [
    "import pandas as pd\n",
    "from textblob import TextBlob\n",
    "import csv\n",
    "from gutenberg.acquire import load_etext\n",
    "from gutenberg.cleanup import strip_headers\n",
    "import os\n",
    "import numpy as np"
   ]
  },
  {
   "cell_type": "code",
   "execution_count": 2,
   "metadata": {
    "collapsed": true
   },
   "outputs": [],
   "source": [
    "import seaborn as sns\n",
    "import matplotlib.pyplot as plt\n",
    "%matplotlib inline\n",
    "plt.rcParams['figure.figsize'] = (8, 6)\n",
    "plt.rcParams['font.size'] = 14"
   ]
  },
  {
   "cell_type": "markdown",
   "metadata": {},
   "source": [
    "Create the novel variables"
   ]
  },
  {
   "cell_type": "code",
   "execution_count": 4,
   "metadata": {
    "collapsed": true
   },
   "outputs": [],
   "source": [
    "n =  30254 #novel number\n",
    "t = 'romance_of_lust'#novel name\n",
    "s = 1 #how many rows to skip"
   ]
  },
  {
   "cell_type": "markdown",
   "metadata": {},
   "source": [
    "* Get the novels from Gutenberg.\n",
    "* Strip them of unwanted information.\n",
    "* Tokenize the text into sentences."
   ]
  },
  {
   "cell_type": "code",
   "execution_count": 5,
   "metadata": {
    "collapsed": true
   },
   "outputs": [],
   "source": [
    "novel = strip_headers(load_etext(n))\n",
    "novel = novel.replace('\\n', ' ')\n",
    "novel= TextBlob(novel)\n",
    "novel_sentences = novel.sentences\n",
    "novel_title = t"
   ]
  },
  {
   "cell_type": "markdown",
   "metadata": {},
   "source": [
    "Write the sentences to a csv file. \n",
    "-There is a bug I haven't figure out yet that requires me to write to csv twice to avoid errors."
   ]
  },
  {
   "cell_type": "code",
   "execution_count": 6,
   "metadata": {
    "collapsed": true
   },
   "outputs": [],
   "source": [
    "for l in range(2):\n",
    "    novelWriter = csv.writer(open('data/novel_'+novel_title+'.csv', 'w'), delimiter=',')\n",
    "    for sentence in novel_sentences:\n",
    "        novelWriter.writerow([sentence])"
   ]
  },
  {
   "cell_type": "markdown",
   "metadata": {},
   "source": [
    "Read in the csv file to pandas"
   ]
  },
  {
   "cell_type": "code",
   "execution_count": 7,
   "metadata": {
    "collapsed": true
   },
   "outputs": [],
   "source": [
    "df_novel = pd.read_csv('data/novel_'+novel_title+'.csv', skiprows = s, header=None)"
   ]
  },
  {
   "cell_type": "code",
   "execution_count": 8,
   "metadata": {
    "collapsed": false
   },
   "outputs": [
    {
     "data": {
      "text/html": [
       "<div>\n",
       "<table border=\"1\" class=\"dataframe\">\n",
       "  <thead>\n",
       "    <tr style=\"text-align: right;\">\n",
       "      <th></th>\n",
       "      <th>0</th>\n",
       "    </tr>\n",
       "  </thead>\n",
       "  <tbody>\n",
       "    <tr>\n",
       "      <th>0</th>\n",
       "      <td>CONTENTS  The Novice--Mrs. Benson--Mary--Mrs. ...</td>\n",
       "    </tr>\n",
       "    <tr>\n",
       "      <th>1</th>\n",
       "      <td>I was approaching fifteen, Mary was about a ye...</td>\n",
       "    </tr>\n",
       "    <tr>\n",
       "      <th>2</th>\n",
       "      <td>Mamma treated us all as children, and was blin...</td>\n",
       "    </tr>\n",
       "    <tr>\n",
       "      <th>3</th>\n",
       "      <td>Although not tall for my age, nor outwardly pr...</td>\n",
       "    </tr>\n",
       "    <tr>\n",
       "      <th>4</th>\n",
       "      <td>As yet, I had absolutely no knowledge of the u...</td>\n",
       "    </tr>\n",
       "  </tbody>\n",
       "</table>\n",
       "</div>"
      ],
      "text/plain": [
       "                                                   0\n",
       "0  CONTENTS  The Novice--Mrs. Benson--Mary--Mrs. ...\n",
       "1  I was approaching fifteen, Mary was about a ye...\n",
       "2  Mamma treated us all as children, and was blin...\n",
       "3  Although not tall for my age, nor outwardly pr...\n",
       "4  As yet, I had absolutely no knowledge of the u..."
      ]
     },
     "execution_count": 8,
     "metadata": {},
     "output_type": "execute_result"
    }
   ],
   "source": [
    "df_novel.head()"
   ]
  },
  {
   "cell_type": "markdown",
   "metadata": {},
   "source": [
    "Create the wrd_length and total_char columns."
   ]
  },
  {
   "cell_type": "code",
   "execution_count": 9,
   "metadata": {
    "collapsed": true
   },
   "outputs": [],
   "source": [
    "wrd_length = []\n",
    "total_char = []\n",
    "def wrd_char_counts(sentence):\n",
    "    total_chars = 0\n",
    "    wrd_counts = []\n",
    "    for word in sentence:\n",
    "        char_count = len(word)\n",
    "        wrd_counts.append(char_count)\n",
    "        total_chars += char_count\n",
    "    total_char.append(total_chars)\n",
    "    wrd_length.append(wrd_counts)"
   ]
  },
  {
   "cell_type": "code",
   "execution_count": 10,
   "metadata": {
    "collapsed": true
   },
   "outputs": [],
   "source": [
    "for l in df_novel[0]:\n",
    "    sent = TextBlob(l)\n",
    "    wrd_char_counts(sent.words)"
   ]
  },
  {
   "cell_type": "code",
   "execution_count": 11,
   "metadata": {
    "collapsed": true
   },
   "outputs": [],
   "source": [
    "df_novel['wrd_length'] = wrd_length\n",
    "df_novel['total_char'] = total_char"
   ]
  },
  {
   "cell_type": "code",
   "execution_count": 12,
   "metadata": {
    "collapsed": false
   },
   "outputs": [
    {
     "data": {
      "text/html": [
       "<div>\n",
       "<table border=\"1\" class=\"dataframe\">\n",
       "  <thead>\n",
       "    <tr style=\"text-align: right;\">\n",
       "      <th></th>\n",
       "      <th>0</th>\n",
       "      <th>wrd_length</th>\n",
       "      <th>total_char</th>\n",
       "    </tr>\n",
       "  </thead>\n",
       "  <tbody>\n",
       "    <tr>\n",
       "      <th>0</th>\n",
       "      <td>CONTENTS  The Novice--Mrs. Benson--Mary--Mrs. ...</td>\n",
       "      <td>[8, 3, 6, 3, 6, 4, 3, 6, 2, 14, 4, 3, 7, 4, 6,...</td>\n",
       "      <td>120</td>\n",
       "    </tr>\n",
       "    <tr>\n",
       "      <th>1</th>\n",
       "      <td>I was approaching fifteen, Mary was about a ye...</td>\n",
       "      <td>[1, 3, 11, 7, 4, 3, 5, 1, 4, 7, 3, 5, 7, 6, 3,...</td>\n",
       "      <td>88</td>\n",
       "    </tr>\n",
       "    <tr>\n",
       "      <th>2</th>\n",
       "      <td>Mamma treated us all as children, and was blin...</td>\n",
       "      <td>[5, 7, 2, 3, 2, 8, 3, 3, 5, 2, 3, 4, 4, 1, 3, ...</td>\n",
       "      <td>75</td>\n",
       "    </tr>\n",
       "    <tr>\n",
       "      <th>3</th>\n",
       "      <td>Although not tall for my age, nor outwardly pr...</td>\n",
       "      <td>[8, 3, 4, 3, 2, 3, 3, 9, 10, 1, 5, 10, 2, 8, 4...</td>\n",
       "      <td>225</td>\n",
       "    </tr>\n",
       "    <tr>\n",
       "      <th>4</th>\n",
       "      <td>As yet, I had absolutely no knowledge of the u...</td>\n",
       "      <td>[2, 3, 1, 3, 10, 2, 9, 2, 3, 4, 2, 3, 9, 6, 2, 3]</td>\n",
       "      <td>64</td>\n",
       "    </tr>\n",
       "  </tbody>\n",
       "</table>\n",
       "</div>"
      ],
      "text/plain": [
       "                                                   0  \\\n",
       "0  CONTENTS  The Novice--Mrs. Benson--Mary--Mrs. ...   \n",
       "1  I was approaching fifteen, Mary was about a ye...   \n",
       "2  Mamma treated us all as children, and was blin...   \n",
       "3  Although not tall for my age, nor outwardly pr...   \n",
       "4  As yet, I had absolutely no knowledge of the u...   \n",
       "\n",
       "                                          wrd_length  total_char  \n",
       "0  [8, 3, 6, 3, 6, 4, 3, 6, 2, 14, 4, 3, 7, 4, 6,...         120  \n",
       "1  [1, 3, 11, 7, 4, 3, 5, 1, 4, 7, 3, 5, 7, 6, 3,...          88  \n",
       "2  [5, 7, 2, 3, 2, 8, 3, 3, 5, 2, 3, 4, 4, 1, 3, ...          75  \n",
       "3  [8, 3, 4, 3, 2, 3, 3, 9, 10, 1, 5, 10, 2, 8, 4...         225  \n",
       "4  [2, 3, 1, 3, 10, 2, 9, 2, 3, 4, 2, 3, 9, 6, 2, 3]          64  "
      ]
     },
     "execution_count": 12,
     "metadata": {},
     "output_type": "execute_result"
    }
   ],
   "source": [
    "df_novel.head()"
   ]
  },
  {
   "cell_type": "markdown",
   "metadata": {},
   "source": [
    "Create syllable count column"
   ]
  },
  {
   "cell_type": "code",
   "execution_count": 13,
   "metadata": {
    "collapsed": true
   },
   "outputs": [],
   "source": [
    "def CountSyllables(word, isName=True):\n",
    "    vowels = \"aeiouy\"\n",
    "    #single syllables in words like bread and lead, but split in names like Breanne and Adreann\n",
    "    specials = [\"ia\",\"ea\"] if isName else [\"ia\"]\n",
    "    specials_except_end = [\"ie\",\"ya\",\"es\",\"ed\"]  #seperate syllables unless ending the word\n",
    "    currentWord = word.lower()\n",
    "    numVowels = 0\n",
    "    lastWasVowel = False\n",
    "    last_letter = \"\"\n",
    "\n",
    "    for letter in currentWord:\n",
    "        if letter in vowels:\n",
    "            #don't count diphthongs unless special cases\n",
    "            combo = last_letter+letter\n",
    "            if lastWasVowel and combo not in specials and combo not in specials_except_end:\n",
    "                lastWasVowel = True\n",
    "            else:\n",
    "                numVowels += 1\n",
    "                lastWasVowel = True\n",
    "        else:\n",
    "            lastWasVowel = False\n",
    "\n",
    "        last_letter = letter\n",
    "\n",
    "    #remove es & ed which are usually silent\n",
    "    if len(currentWord) > 2 and currentWord[-2:] in specials_except_end:\n",
    "        numVowels -= 1\n",
    "\n",
    "    #remove silent single e, but not ee since it counted it before and we should be correct\n",
    "    elif len(currentWord) > 2 and currentWord[-1:] == \"e\" and currentWord[-2:] != \"ee\" and currentWord != 'the':\n",
    "        numVowels -= 1\n",
    "\n",
    "    return numVowels"
   ]
  },
  {
   "cell_type": "code",
   "execution_count": 14,
   "metadata": {
    "collapsed": true
   },
   "outputs": [],
   "source": [
    "syl = []\n",
    "for l in df_novel[0]:\n",
    "    sent = TextBlob(l)\n",
    "    syl_single = []\n",
    "    for x in sent.words:\n",
    "        m = CountSyllables(x)\n",
    "        syl_single.append(m)\n",
    "    syl.append(syl_single)  "
   ]
  },
  {
   "cell_type": "code",
   "execution_count": 15,
   "metadata": {
    "collapsed": true
   },
   "outputs": [],
   "source": [
    "syl_count_arr = []\n",
    "for n in syl:\n",
    "    n = np.array(n)\n",
    "    syl_count_arr.append(n)"
   ]
  },
  {
   "cell_type": "code",
   "execution_count": 16,
   "metadata": {
    "collapsed": true
   },
   "outputs": [],
   "source": [
    "df_novel['syl_count'] = syl_count_arr"
   ]
  },
  {
   "cell_type": "code",
   "execution_count": 17,
   "metadata": {
    "collapsed": false
   },
   "outputs": [
    {
     "data": {
      "text/html": [
       "<div>\n",
       "<table border=\"1\" class=\"dataframe\">\n",
       "  <thead>\n",
       "    <tr style=\"text-align: right;\">\n",
       "      <th></th>\n",
       "      <th>0</th>\n",
       "      <th>wrd_length</th>\n",
       "      <th>total_char</th>\n",
       "      <th>syl_count</th>\n",
       "    </tr>\n",
       "  </thead>\n",
       "  <tbody>\n",
       "    <tr>\n",
       "      <th>0</th>\n",
       "      <td>CONTENTS  The Novice--Mrs. Benson--Mary--Mrs. ...</td>\n",
       "      <td>[8, 3, 6, 3, 6, 4, 3, 6, 2, 14, 4, 3, 7, 4, 6,...</td>\n",
       "      <td>120</td>\n",
       "      <td>[2, 1, 2, 0, 2, 2, 0, 2, 0, 4, 1, 0, 3, 1, 3, ...</td>\n",
       "    </tr>\n",
       "    <tr>\n",
       "      <th>1</th>\n",
       "      <td>I was approaching fifteen, Mary was about a ye...</td>\n",
       "      <td>[1, 3, 11, 7, 4, 3, 5, 1, 4, 7, 3, 5, 7, 6, 3,...</td>\n",
       "      <td>88</td>\n",
       "      <td>[1, 1, 3, 2, 2, 1, 2, 1, 2, 2, 1, 3, 2, 1, 1, ...</td>\n",
       "    </tr>\n",
       "    <tr>\n",
       "      <th>2</th>\n",
       "      <td>Mamma treated us all as children, and was blin...</td>\n",
       "      <td>[5, 7, 2, 3, 2, 8, 3, 3, 5, 2, 3, 4, 4, 1, 3, ...</td>\n",
       "      <td>75</td>\n",
       "      <td>[2, 2, 1, 1, 1, 2, 1, 1, 1, 1, 1, 1, 1, 1, 1, ...</td>\n",
       "    </tr>\n",
       "    <tr>\n",
       "      <th>3</th>\n",
       "      <td>Although not tall for my age, nor outwardly pr...</td>\n",
       "      <td>[8, 3, 4, 3, 2, 3, 3, 9, 10, 1, 5, 10, 2, 8, 4...</td>\n",
       "      <td>225</td>\n",
       "      <td>[2, 1, 1, 1, 1, 1, 1, 3, 3, 1, 2, 4, 1, 2, 1, ...</td>\n",
       "    </tr>\n",
       "    <tr>\n",
       "      <th>4</th>\n",
       "      <td>As yet, I had absolutely no knowledge of the u...</td>\n",
       "      <td>[2, 3, 1, 3, 10, 2, 9, 2, 3, 4, 2, 3, 9, 6, 2, 3]</td>\n",
       "      <td>64</td>\n",
       "      <td>[1, 1, 1, 1, 5, 1, 2, 1, 1, 1, 1, 1, 3, 2, 1, 1]</td>\n",
       "    </tr>\n",
       "  </tbody>\n",
       "</table>\n",
       "</div>"
      ],
      "text/plain": [
       "                                                   0  \\\n",
       "0  CONTENTS  The Novice--Mrs. Benson--Mary--Mrs. ...   \n",
       "1  I was approaching fifteen, Mary was about a ye...   \n",
       "2  Mamma treated us all as children, and was blin...   \n",
       "3  Although not tall for my age, nor outwardly pr...   \n",
       "4  As yet, I had absolutely no knowledge of the u...   \n",
       "\n",
       "                                          wrd_length  total_char  \\\n",
       "0  [8, 3, 6, 3, 6, 4, 3, 6, 2, 14, 4, 3, 7, 4, 6,...         120   \n",
       "1  [1, 3, 11, 7, 4, 3, 5, 1, 4, 7, 3, 5, 7, 6, 3,...          88   \n",
       "2  [5, 7, 2, 3, 2, 8, 3, 3, 5, 2, 3, 4, 4, 1, 3, ...          75   \n",
       "3  [8, 3, 4, 3, 2, 3, 3, 9, 10, 1, 5, 10, 2, 8, 4...         225   \n",
       "4  [2, 3, 1, 3, 10, 2, 9, 2, 3, 4, 2, 3, 9, 6, 2, 3]          64   \n",
       "\n",
       "                                           syl_count  \n",
       "0  [2, 1, 2, 0, 2, 2, 0, 2, 0, 4, 1, 0, 3, 1, 3, ...  \n",
       "1  [1, 1, 3, 2, 2, 1, 2, 1, 2, 2, 1, 3, 2, 1, 1, ...  \n",
       "2  [2, 2, 1, 1, 1, 2, 1, 1, 1, 1, 1, 1, 1, 1, 1, ...  \n",
       "3  [2, 1, 1, 1, 1, 1, 1, 3, 3, 1, 2, 4, 1, 2, 1, ...  \n",
       "4   [1, 1, 1, 1, 5, 1, 2, 1, 1, 1, 1, 1, 3, 2, 1, 1]  "
      ]
     },
     "execution_count": 17,
     "metadata": {},
     "output_type": "execute_result"
    }
   ],
   "source": [
    "df_novel.head()"
   ]
  },
  {
   "cell_type": "code",
   "execution_count": 18,
   "metadata": {
    "collapsed": true
   },
   "outputs": [],
   "source": [
    "#If novel has a lot of numbers for chapter headings.\n",
    "#d = df_novel[df_novel['total_char']<=2]"
   ]
  },
  {
   "cell_type": "markdown",
   "metadata": {},
   "source": [
    "Create syllable sum column"
   ]
  },
  {
   "cell_type": "code",
   "execution_count": 19,
   "metadata": {
    "collapsed": true
   },
   "outputs": [],
   "source": [
    "syl_sum = []\n",
    "for l in range(0,len(df_novel)):\n",
    "    syl_sum.append(df_novel['syl_count'][l].sum())"
   ]
  },
  {
   "cell_type": "code",
   "execution_count": 20,
   "metadata": {
    "collapsed": true
   },
   "outputs": [],
   "source": [
    "df_novel['syl_sum'] = syl_sum"
   ]
  },
  {
   "cell_type": "markdown",
   "metadata": {},
   "source": [
    "Create sentiment column"
   ]
  },
  {
   "cell_type": "code",
   "execution_count": 21,
   "metadata": {
    "collapsed": true
   },
   "outputs": [],
   "source": [
    "def detect_sentiment(text):\n",
    "    return TextBlob(text.decode('utf-8')).sentiment.polarity"
   ]
  },
  {
   "cell_type": "code",
   "execution_count": 22,
   "metadata": {
    "collapsed": true
   },
   "outputs": [],
   "source": [
    "df_novel['sentiment'] = df_novel[0].apply(detect_sentiment)"
   ]
  },
  {
   "cell_type": "markdown",
   "metadata": {},
   "source": [
    "Create cluster dataframe - remove columns that can't be used"
   ]
  },
  {
   "cell_type": "code",
   "execution_count": 23,
   "metadata": {
    "collapsed": true
   },
   "outputs": [],
   "source": [
    "df_cluster = df_novel.drop('wrd_length', 1)"
   ]
  },
  {
   "cell_type": "code",
   "execution_count": 24,
   "metadata": {
    "collapsed": true
   },
   "outputs": [],
   "source": [
    "df_cluster = df_cluster.drop('syl_count', 1)"
   ]
  },
  {
   "cell_type": "code",
   "execution_count": 25,
   "metadata": {
    "collapsed": false
   },
   "outputs": [
    {
     "data": {
      "text/html": [
       "<div>\n",
       "<table border=\"1\" class=\"dataframe\">\n",
       "  <thead>\n",
       "    <tr style=\"text-align: right;\">\n",
       "      <th></th>\n",
       "      <th>0</th>\n",
       "      <th>total_char</th>\n",
       "      <th>syl_sum</th>\n",
       "      <th>sentiment</th>\n",
       "    </tr>\n",
       "  </thead>\n",
       "  <tbody>\n",
       "    <tr>\n",
       "      <th>0</th>\n",
       "      <td>CONTENTS  The Novice--Mrs. Benson--Mary--Mrs. ...</td>\n",
       "      <td>120</td>\n",
       "      <td>39</td>\n",
       "      <td>0.000</td>\n",
       "    </tr>\n",
       "    <tr>\n",
       "      <th>1</th>\n",
       "      <td>I was approaching fifteen, Mary was about a ye...</td>\n",
       "      <td>88</td>\n",
       "      <td>31</td>\n",
       "      <td>0.000</td>\n",
       "    </tr>\n",
       "    <tr>\n",
       "      <th>2</th>\n",
       "      <td>Mamma treated us all as children, and was blin...</td>\n",
       "      <td>75</td>\n",
       "      <td>25</td>\n",
       "      <td>-0.500</td>\n",
       "    </tr>\n",
       "    <tr>\n",
       "      <th>3</th>\n",
       "      <td>Although not tall for my age, nor outwardly pr...</td>\n",
       "      <td>225</td>\n",
       "      <td>78</td>\n",
       "      <td>0.325</td>\n",
       "    </tr>\n",
       "    <tr>\n",
       "      <th>4</th>\n",
       "      <td>As yet, I had absolutely no knowledge of the u...</td>\n",
       "      <td>64</td>\n",
       "      <td>24</td>\n",
       "      <td>-0.050</td>\n",
       "    </tr>\n",
       "  </tbody>\n",
       "</table>\n",
       "</div>"
      ],
      "text/plain": [
       "                                                   0  total_char  syl_sum  \\\n",
       "0  CONTENTS  The Novice--Mrs. Benson--Mary--Mrs. ...         120       39   \n",
       "1  I was approaching fifteen, Mary was about a ye...          88       31   \n",
       "2  Mamma treated us all as children, and was blin...          75       25   \n",
       "3  Although not tall for my age, nor outwardly pr...         225       78   \n",
       "4  As yet, I had absolutely no knowledge of the u...          64       24   \n",
       "\n",
       "   sentiment  \n",
       "0      0.000  \n",
       "1      0.000  \n",
       "2     -0.500  \n",
       "3      0.325  \n",
       "4     -0.050  "
      ]
     },
     "execution_count": 25,
     "metadata": {},
     "output_type": "execute_result"
    }
   ],
   "source": [
    "df_cluster.head()"
   ]
  },
  {
   "cell_type": "markdown",
   "metadata": {},
   "source": [
    "Create 20 clusters on scaled data"
   ]
  },
  {
   "cell_type": "code",
   "execution_count": 26,
   "metadata": {
    "collapsed": true
   },
   "outputs": [],
   "source": [
    "X = df_cluster.drop(0, axis=1)"
   ]
  },
  {
   "cell_type": "code",
   "execution_count": 27,
   "metadata": {
    "collapsed": true
   },
   "outputs": [],
   "source": [
    "from sklearn.cluster import KMeans\n",
    "from sklearn.preprocessing import StandardScaler\n",
    "scaler = StandardScaler()\n",
    "X_scaled = scaler.fit_transform(X)"
   ]
  },
  {
   "cell_type": "code",
   "execution_count": 28,
   "metadata": {
    "collapsed": false
   },
   "outputs": [
    {
     "data": {
      "text/plain": [
       "KMeans(copy_x=True, init='k-means++', max_iter=300, n_clusters=20, n_init=10,\n",
       "    n_jobs=1, precompute_distances='auto', random_state=1, tol=0.0001,\n",
       "    verbose=0)"
      ]
     },
     "execution_count": 28,
     "metadata": {},
     "output_type": "execute_result"
    }
   ],
   "source": [
    "km = KMeans(n_clusters=20, random_state=1)\n",
    "km.fit(X_scaled)"
   ]
  },
  {
   "cell_type": "code",
   "execution_count": 29,
   "metadata": {
    "collapsed": true
   },
   "outputs": [],
   "source": [
    "df_cluster_20 = df_cluster.copy()"
   ]
  },
  {
   "cell_type": "code",
   "execution_count": 30,
   "metadata": {
    "collapsed": true
   },
   "outputs": [],
   "source": [
    "df_cluster_20['cluster'] = km.labels_"
   ]
  },
  {
   "cell_type": "code",
   "execution_count": 31,
   "metadata": {
    "collapsed": false
   },
   "outputs": [
    {
     "data": {
      "text/html": [
       "<div>\n",
       "<table border=\"1\" class=\"dataframe\">\n",
       "  <thead>\n",
       "    <tr style=\"text-align: right;\">\n",
       "      <th></th>\n",
       "      <th>0</th>\n",
       "      <th>total_char</th>\n",
       "      <th>syl_sum</th>\n",
       "      <th>sentiment</th>\n",
       "      <th>cluster</th>\n",
       "    </tr>\n",
       "  </thead>\n",
       "  <tbody>\n",
       "    <tr>\n",
       "      <th>0</th>\n",
       "      <td>CONTENTS  The Novice--Mrs. Benson--Mary--Mrs. ...</td>\n",
       "      <td>120</td>\n",
       "      <td>39</td>\n",
       "      <td>0.000</td>\n",
       "      <td>10</td>\n",
       "    </tr>\n",
       "    <tr>\n",
       "      <th>1</th>\n",
       "      <td>I was approaching fifteen, Mary was about a ye...</td>\n",
       "      <td>88</td>\n",
       "      <td>31</td>\n",
       "      <td>0.000</td>\n",
       "      <td>10</td>\n",
       "    </tr>\n",
       "    <tr>\n",
       "      <th>2</th>\n",
       "      <td>Mamma treated us all as children, and was blin...</td>\n",
       "      <td>75</td>\n",
       "      <td>25</td>\n",
       "      <td>-0.500</td>\n",
       "      <td>17</td>\n",
       "    </tr>\n",
       "    <tr>\n",
       "      <th>3</th>\n",
       "      <td>Although not tall for my age, nor outwardly pr...</td>\n",
       "      <td>225</td>\n",
       "      <td>78</td>\n",
       "      <td>0.325</td>\n",
       "      <td>16</td>\n",
       "    </tr>\n",
       "    <tr>\n",
       "      <th>4</th>\n",
       "      <td>As yet, I had absolutely no knowledge of the u...</td>\n",
       "      <td>64</td>\n",
       "      <td>24</td>\n",
       "      <td>-0.050</td>\n",
       "      <td>6</td>\n",
       "    </tr>\n",
       "  </tbody>\n",
       "</table>\n",
       "</div>"
      ],
      "text/plain": [
       "                                                   0  total_char  syl_sum  \\\n",
       "0  CONTENTS  The Novice--Mrs. Benson--Mary--Mrs. ...         120       39   \n",
       "1  I was approaching fifteen, Mary was about a ye...          88       31   \n",
       "2  Mamma treated us all as children, and was blin...          75       25   \n",
       "3  Although not tall for my age, nor outwardly pr...         225       78   \n",
       "4  As yet, I had absolutely no knowledge of the u...          64       24   \n",
       "\n",
       "   sentiment  cluster  \n",
       "0      0.000       10  \n",
       "1      0.000       10  \n",
       "2     -0.500       17  \n",
       "3      0.325       16  \n",
       "4     -0.050        6  "
      ]
     },
     "execution_count": 31,
     "metadata": {},
     "output_type": "execute_result"
    }
   ],
   "source": [
    "df_cluster_20.head()"
   ]
  },
  {
   "cell_type": "code",
   "execution_count": 32,
   "metadata": {
    "collapsed": false
   },
   "outputs": [
    {
     "data": {
      "text/html": [
       "<div>\n",
       "<table border=\"1\" class=\"dataframe\">\n",
       "  <thead>\n",
       "    <tr style=\"text-align: right;\">\n",
       "      <th></th>\n",
       "      <th>0</th>\n",
       "      <th>total_char</th>\n",
       "      <th>syl_sum</th>\n",
       "      <th>sentiment</th>\n",
       "    </tr>\n",
       "  </thead>\n",
       "  <tbody>\n",
       "    <tr>\n",
       "      <th>0</th>\n",
       "      <td>CONTENTS  The Novice--Mrs. Benson--Mary--Mrs. ...</td>\n",
       "      <td>120</td>\n",
       "      <td>39</td>\n",
       "      <td>0.000</td>\n",
       "    </tr>\n",
       "    <tr>\n",
       "      <th>1</th>\n",
       "      <td>I was approaching fifteen, Mary was about a ye...</td>\n",
       "      <td>88</td>\n",
       "      <td>31</td>\n",
       "      <td>0.000</td>\n",
       "    </tr>\n",
       "    <tr>\n",
       "      <th>2</th>\n",
       "      <td>Mamma treated us all as children, and was blin...</td>\n",
       "      <td>75</td>\n",
       "      <td>25</td>\n",
       "      <td>-0.500</td>\n",
       "    </tr>\n",
       "    <tr>\n",
       "      <th>3</th>\n",
       "      <td>Although not tall for my age, nor outwardly pr...</td>\n",
       "      <td>225</td>\n",
       "      <td>78</td>\n",
       "      <td>0.325</td>\n",
       "    </tr>\n",
       "    <tr>\n",
       "      <th>4</th>\n",
       "      <td>As yet, I had absolutely no knowledge of the u...</td>\n",
       "      <td>64</td>\n",
       "      <td>24</td>\n",
       "      <td>-0.050</td>\n",
       "    </tr>\n",
       "  </tbody>\n",
       "</table>\n",
       "</div>"
      ],
      "text/plain": [
       "                                                   0  total_char  syl_sum  \\\n",
       "0  CONTENTS  The Novice--Mrs. Benson--Mary--Mrs. ...         120       39   \n",
       "1  I was approaching fifteen, Mary was about a ye...          88       31   \n",
       "2  Mamma treated us all as children, and was blin...          75       25   \n",
       "3  Although not tall for my age, nor outwardly pr...         225       78   \n",
       "4  As yet, I had absolutely no knowledge of the u...          64       24   \n",
       "\n",
       "   sentiment  \n",
       "0      0.000  \n",
       "1      0.000  \n",
       "2     -0.500  \n",
       "3      0.325  \n",
       "4     -0.050  "
      ]
     },
     "execution_count": 32,
     "metadata": {},
     "output_type": "execute_result"
    }
   ],
   "source": [
    "df_cluster.head()"
   ]
  },
  {
   "cell_type": "code",
   "execution_count": 33,
   "metadata": {
    "collapsed": false
   },
   "outputs": [
    {
     "data": {
      "text/html": [
       "<div>\n",
       "<table border=\"1\" class=\"dataframe\">\n",
       "  <thead>\n",
       "    <tr style=\"text-align: right;\">\n",
       "      <th></th>\n",
       "      <th>total_char</th>\n",
       "      <th>syl_sum</th>\n",
       "      <th>sentiment</th>\n",
       "    </tr>\n",
       "    <tr>\n",
       "      <th>cluster</th>\n",
       "      <th></th>\n",
       "      <th></th>\n",
       "      <th></th>\n",
       "    </tr>\n",
       "  </thead>\n",
       "  <tbody>\n",
       "    <tr>\n",
       "      <th>0</th>\n",
       "      <td>165.769697</td>\n",
       "      <td>53.086869</td>\n",
       "      <td>0.218417</td>\n",
       "    </tr>\n",
       "    <tr>\n",
       "      <th>1</th>\n",
       "      <td>21.628231</td>\n",
       "      <td>6.940358</td>\n",
       "      <td>0.000497</td>\n",
       "    </tr>\n",
       "    <tr>\n",
       "      <th>2</th>\n",
       "      <td>45.309211</td>\n",
       "      <td>14.513158</td>\n",
       "      <td>0.557701</td>\n",
       "    </tr>\n",
       "    <tr>\n",
       "      <th>3</th>\n",
       "      <td>111.703259</td>\n",
       "      <td>35.833619</td>\n",
       "      <td>0.260540</td>\n",
       "    </tr>\n",
       "    <tr>\n",
       "      <th>4</th>\n",
       "      <td>421.425000</td>\n",
       "      <td>134.387500</td>\n",
       "      <td>0.181202</td>\n",
       "    </tr>\n",
       "    <tr>\n",
       "      <th>5</th>\n",
       "      <td>94.110312</td>\n",
       "      <td>30.585132</td>\n",
       "      <td>0.498983</td>\n",
       "    </tr>\n",
       "    <tr>\n",
       "      <th>6</th>\n",
       "      <td>64.296371</td>\n",
       "      <td>20.533266</td>\n",
       "      <td>0.001854</td>\n",
       "    </tr>\n",
       "    <tr>\n",
       "      <th>7</th>\n",
       "      <td>56.183544</td>\n",
       "      <td>17.753165</td>\n",
       "      <td>-0.231809</td>\n",
       "    </tr>\n",
       "    <tr>\n",
       "      <th>8</th>\n",
       "      <td>163.751208</td>\n",
       "      <td>52.137681</td>\n",
       "      <td>-0.040894</td>\n",
       "    </tr>\n",
       "    <tr>\n",
       "      <th>9</th>\n",
       "      <td>74.414847</td>\n",
       "      <td>24.126638</td>\n",
       "      <td>0.884999</td>\n",
       "    </tr>\n",
       "    <tr>\n",
       "      <th>10</th>\n",
       "      <td>109.257618</td>\n",
       "      <td>34.911357</td>\n",
       "      <td>0.021256</td>\n",
       "    </tr>\n",
       "    <tr>\n",
       "      <th>11</th>\n",
       "      <td>1286.000000</td>\n",
       "      <td>403.000000</td>\n",
       "      <td>0.081944</td>\n",
       "    </tr>\n",
       "    <tr>\n",
       "      <th>12</th>\n",
       "      <td>58.972875</td>\n",
       "      <td>18.877034</td>\n",
       "      <td>0.260805</td>\n",
       "    </tr>\n",
       "    <tr>\n",
       "      <th>13</th>\n",
       "      <td>302.778325</td>\n",
       "      <td>96.881773</td>\n",
       "      <td>0.186981</td>\n",
       "    </tr>\n",
       "    <tr>\n",
       "      <th>14</th>\n",
       "      <td>228.003610</td>\n",
       "      <td>73.314079</td>\n",
       "      <td>0.044058</td>\n",
       "    </tr>\n",
       "    <tr>\n",
       "      <th>15</th>\n",
       "      <td>111.951311</td>\n",
       "      <td>35.573034</td>\n",
       "      <td>-0.242210</td>\n",
       "    </tr>\n",
       "    <tr>\n",
       "      <th>16</th>\n",
       "      <td>222.899329</td>\n",
       "      <td>72.050336</td>\n",
       "      <td>0.365405</td>\n",
       "    </tr>\n",
       "    <tr>\n",
       "      <th>17</th>\n",
       "      <td>54.288462</td>\n",
       "      <td>17.798077</td>\n",
       "      <td>-0.678365</td>\n",
       "    </tr>\n",
       "    <tr>\n",
       "      <th>18</th>\n",
       "      <td>154.219355</td>\n",
       "      <td>49.545161</td>\n",
       "      <td>0.524888</td>\n",
       "    </tr>\n",
       "    <tr>\n",
       "      <th>19</th>\n",
       "      <td>744.000000</td>\n",
       "      <td>231.500000</td>\n",
       "      <td>0.235923</td>\n",
       "    </tr>\n",
       "  </tbody>\n",
       "</table>\n",
       "</div>"
      ],
      "text/plain": [
       "          total_char     syl_sum  sentiment\n",
       "cluster                                    \n",
       "0         165.769697   53.086869   0.218417\n",
       "1          21.628231    6.940358   0.000497\n",
       "2          45.309211   14.513158   0.557701\n",
       "3         111.703259   35.833619   0.260540\n",
       "4         421.425000  134.387500   0.181202\n",
       "5          94.110312   30.585132   0.498983\n",
       "6          64.296371   20.533266   0.001854\n",
       "7          56.183544   17.753165  -0.231809\n",
       "8         163.751208   52.137681  -0.040894\n",
       "9          74.414847   24.126638   0.884999\n",
       "10        109.257618   34.911357   0.021256\n",
       "11       1286.000000  403.000000   0.081944\n",
       "12         58.972875   18.877034   0.260805\n",
       "13        302.778325   96.881773   0.186981\n",
       "14        228.003610   73.314079   0.044058\n",
       "15        111.951311   35.573034  -0.242210\n",
       "16        222.899329   72.050336   0.365405\n",
       "17         54.288462   17.798077  -0.678365\n",
       "18        154.219355   49.545161   0.524888\n",
       "19        744.000000  231.500000   0.235923"
      ]
     },
     "execution_count": 33,
     "metadata": {},
     "output_type": "execute_result"
    }
   ],
   "source": [
    "df_cluster_20.groupby('cluster').mean()"
   ]
  },
  {
   "cell_type": "code",
   "execution_count": 34,
   "metadata": {
    "collapsed": true
   },
   "outputs": [],
   "source": [
    "centers = df_cluster_20.groupby('cluster').mean()"
   ]
  },
  {
   "cell_type": "markdown",
   "metadata": {},
   "source": [
    "Create Scatter plot "
   ]
  },
  {
   "cell_type": "code",
   "execution_count": 35,
   "metadata": {
    "collapsed": true
   },
   "outputs": [],
   "source": [
    "colors = np.array(['#0000ff', '#ff00ff', '#39b54a', '#ff0000', '#ffff00', '#000080', '#ff99ff', '#88d392', '#bf0000', '#b4ff33', '#0000bf', '#800080','#1d5b25', '#4d226d', '#2b6855', '#128ab2', '#6666ff', '#a381bd', '#333333','#a0d0e0'])"
   ]
  },
  {
   "cell_type": "code",
   "execution_count": 36,
   "metadata": {
    "collapsed": false
   },
   "outputs": [
    {
     "data": {
      "text/plain": [
       "<matplotlib.text.Text at 0x11efa5a10>"
      ]
     },
     "execution_count": 36,
     "metadata": {},
     "output_type": "execute_result"
    },
    {
     "data": {
      "image/png": "[encoded data removed]",
      "text/plain": [
       "<matplotlib.figure.Figure at 0x11a05ac50>"
      ]
     },
     "metadata": {},
     "output_type": "display_data"
    }
   ],
   "source": [
    "# scatter plot of calories versus alcohol, colored by cluster (0=red, 1=green, 2=blue)\n",
    "plt.scatter(df_cluster_20.syl_sum, df_cluster_20.sentiment, c=colors[df_cluster_20.cluster], s=50)\n",
    "\n",
    "# cluster centers, marked by \"+\"\n",
    "plt.scatter(centers.syl_sum, centers.sentiment, linewidths=3, marker='+', s=300, c='black')\n",
    "\n",
    "# add labels\n",
    "plt.xlabel('syl_sum')\n",
    "plt.ylabel('sentiment')"
   ]
  },
  {
   "cell_type": "markdown",
   "metadata": {},
   "source": [
    "Add cluster_20 to original dataframe"
   ]
  },
  {
   "cell_type": "code",
   "execution_count": 37,
   "metadata": {
    "collapsed": false
   },
   "outputs": [],
   "source": [
    "df_novel['cluster_20'] = df_cluster_20['cluster']"
   ]
  },
  {
   "cell_type": "code",
   "execution_count": 38,
   "metadata": {
    "collapsed": false
   },
   "outputs": [
    {
     "data": {
      "text/html": [
       "<div>\n",
       "<table border=\"1\" class=\"dataframe\">\n",
       "  <thead>\n",
       "    <tr style=\"text-align: right;\">\n",
       "      <th></th>\n",
       "      <th>0</th>\n",
       "      <th>wrd_length</th>\n",
       "      <th>total_char</th>\n",
       "      <th>syl_count</th>\n",
       "      <th>syl_sum</th>\n",
       "      <th>sentiment</th>\n",
       "      <th>cluster_20</th>\n",
       "    </tr>\n",
       "  </thead>\n",
       "  <tbody>\n",
       "    <tr>\n",
       "      <th>0</th>\n",
       "      <td>CONTENTS  The Novice--Mrs. Benson--Mary--Mrs. ...</td>\n",
       "      <td>[8, 3, 6, 3, 6, 4, 3, 6, 2, 14, 4, 3, 7, 4, 6,...</td>\n",
       "      <td>120</td>\n",
       "      <td>[2, 1, 2, 0, 2, 2, 0, 2, 0, 4, 1, 0, 3, 1, 3, ...</td>\n",
       "      <td>39</td>\n",
       "      <td>0.000</td>\n",
       "      <td>10</td>\n",
       "    </tr>\n",
       "    <tr>\n",
       "      <th>1</th>\n",
       "      <td>I was approaching fifteen, Mary was about a ye...</td>\n",
       "      <td>[1, 3, 11, 7, 4, 3, 5, 1, 4, 7, 3, 5, 7, 6, 3,...</td>\n",
       "      <td>88</td>\n",
       "      <td>[1, 1, 3, 2, 2, 1, 2, 1, 2, 2, 1, 3, 2, 1, 1, ...</td>\n",
       "      <td>31</td>\n",
       "      <td>0.000</td>\n",
       "      <td>10</td>\n",
       "    </tr>\n",
       "    <tr>\n",
       "      <th>2</th>\n",
       "      <td>Mamma treated us all as children, and was blin...</td>\n",
       "      <td>[5, 7, 2, 3, 2, 8, 3, 3, 5, 2, 3, 4, 4, 1, 3, ...</td>\n",
       "      <td>75</td>\n",
       "      <td>[2, 2, 1, 1, 1, 2, 1, 1, 1, 1, 1, 1, 1, 1, 1, ...</td>\n",
       "      <td>25</td>\n",
       "      <td>-0.500</td>\n",
       "      <td>17</td>\n",
       "    </tr>\n",
       "    <tr>\n",
       "      <th>3</th>\n",
       "      <td>Although not tall for my age, nor outwardly pr...</td>\n",
       "      <td>[8, 3, 4, 3, 2, 3, 3, 9, 10, 1, 5, 10, 2, 8, 4...</td>\n",
       "      <td>225</td>\n",
       "      <td>[2, 1, 1, 1, 1, 1, 1, 3, 3, 1, 2, 4, 1, 2, 1, ...</td>\n",
       "      <td>78</td>\n",
       "      <td>0.325</td>\n",
       "      <td>16</td>\n",
       "    </tr>\n",
       "    <tr>\n",
       "      <th>4</th>\n",
       "      <td>As yet, I had absolutely no knowledge of the u...</td>\n",
       "      <td>[2, 3, 1, 3, 10, 2, 9, 2, 3, 4, 2, 3, 9, 6, 2, 3]</td>\n",
       "      <td>64</td>\n",
       "      <td>[1, 1, 1, 1, 5, 1, 2, 1, 1, 1, 1, 1, 3, 2, 1, 1]</td>\n",
       "      <td>24</td>\n",
       "      <td>-0.050</td>\n",
       "      <td>6</td>\n",
       "    </tr>\n",
       "  </tbody>\n",
       "</table>\n",
       "</div>"
      ],
      "text/plain": [
       "                                                   0  \\\n",
       "0  CONTENTS  The Novice--Mrs. Benson--Mary--Mrs. ...   \n",
       "1  I was approaching fifteen, Mary was about a ye...   \n",
       "2  Mamma treated us all as children, and was blin...   \n",
       "3  Although not tall for my age, nor outwardly pr...   \n",
       "4  As yet, I had absolutely no knowledge of the u...   \n",
       "\n",
       "                                          wrd_length  total_char  \\\n",
       "0  [8, 3, 6, 3, 6, 4, 3, 6, 2, 14, 4, 3, 7, 4, 6,...         120   \n",
       "1  [1, 3, 11, 7, 4, 3, 5, 1, 4, 7, 3, 5, 7, 6, 3,...          88   \n",
       "2  [5, 7, 2, 3, 2, 8, 3, 3, 5, 2, 3, 4, 4, 1, 3, ...          75   \n",
       "3  [8, 3, 4, 3, 2, 3, 3, 9, 10, 1, 5, 10, 2, 8, 4...         225   \n",
       "4  [2, 3, 1, 3, 10, 2, 9, 2, 3, 4, 2, 3, 9, 6, 2, 3]          64   \n",
       "\n",
       "                                           syl_count  syl_sum  sentiment  \\\n",
       "0  [2, 1, 2, 0, 2, 2, 0, 2, 0, 4, 1, 0, 3, 1, 3, ...       39      0.000   \n",
       "1  [1, 1, 3, 2, 2, 1, 2, 1, 2, 2, 1, 3, 2, 1, 1, ...       31      0.000   \n",
       "2  [2, 2, 1, 1, 1, 2, 1, 1, 1, 1, 1, 1, 1, 1, 1, ...       25     -0.500   \n",
       "3  [2, 1, 1, 1, 1, 1, 1, 3, 3, 1, 2, 4, 1, 2, 1, ...       78      0.325   \n",
       "4   [1, 1, 1, 1, 5, 1, 2, 1, 1, 1, 1, 1, 3, 2, 1, 1]       24     -0.050   \n",
       "\n",
       "   cluster_20  \n",
       "0          10  \n",
       "1          10  \n",
       "2          17  \n",
       "3          16  \n",
       "4           6  "
      ]
     },
     "execution_count": 38,
     "metadata": {},
     "output_type": "execute_result"
    }
   ],
   "source": [
    "df_novel.head()"
   ]
  },
  {
   "cell_type": "markdown",
   "metadata": {},
   "source": [
    "Create 3 clusters"
   ]
  },
  {
   "cell_type": "code",
   "execution_count": 39,
   "metadata": {
    "collapsed": true
   },
   "outputs": [],
   "source": [
    "df_cluster_3 = df_cluster.copy()"
   ]
  },
  {
   "cell_type": "code",
   "execution_count": 40,
   "metadata": {
    "collapsed": false
   },
   "outputs": [
    {
     "data": {
      "text/html": [
       "<div>\n",
       "<table border=\"1\" class=\"dataframe\">\n",
       "  <thead>\n",
       "    <tr style=\"text-align: right;\">\n",
       "      <th></th>\n",
       "      <th>0</th>\n",
       "      <th>total_char</th>\n",
       "      <th>syl_sum</th>\n",
       "      <th>sentiment</th>\n",
       "    </tr>\n",
       "  </thead>\n",
       "  <tbody>\n",
       "    <tr>\n",
       "      <th>0</th>\n",
       "      <td>CONTENTS  The Novice--Mrs. Benson--Mary--Mrs. ...</td>\n",
       "      <td>120</td>\n",
       "      <td>39</td>\n",
       "      <td>0.000</td>\n",
       "    </tr>\n",
       "    <tr>\n",
       "      <th>1</th>\n",
       "      <td>I was approaching fifteen, Mary was about a ye...</td>\n",
       "      <td>88</td>\n",
       "      <td>31</td>\n",
       "      <td>0.000</td>\n",
       "    </tr>\n",
       "    <tr>\n",
       "      <th>2</th>\n",
       "      <td>Mamma treated us all as children, and was blin...</td>\n",
       "      <td>75</td>\n",
       "      <td>25</td>\n",
       "      <td>-0.500</td>\n",
       "    </tr>\n",
       "    <tr>\n",
       "      <th>3</th>\n",
       "      <td>Although not tall for my age, nor outwardly pr...</td>\n",
       "      <td>225</td>\n",
       "      <td>78</td>\n",
       "      <td>0.325</td>\n",
       "    </tr>\n",
       "    <tr>\n",
       "      <th>4</th>\n",
       "      <td>As yet, I had absolutely no knowledge of the u...</td>\n",
       "      <td>64</td>\n",
       "      <td>24</td>\n",
       "      <td>-0.050</td>\n",
       "    </tr>\n",
       "  </tbody>\n",
       "</table>\n",
       "</div>"
      ],
      "text/plain": [
       "                                                   0  total_char  syl_sum  \\\n",
       "0  CONTENTS  The Novice--Mrs. Benson--Mary--Mrs. ...         120       39   \n",
       "1  I was approaching fifteen, Mary was about a ye...          88       31   \n",
       "2  Mamma treated us all as children, and was blin...          75       25   \n",
       "3  Although not tall for my age, nor outwardly pr...         225       78   \n",
       "4  As yet, I had absolutely no knowledge of the u...          64       24   \n",
       "\n",
       "   sentiment  \n",
       "0      0.000  \n",
       "1      0.000  \n",
       "2     -0.500  \n",
       "3      0.325  \n",
       "4     -0.050  "
      ]
     },
     "execution_count": 40,
     "metadata": {},
     "output_type": "execute_result"
    }
   ],
   "source": [
    "df_cluster_3.head()"
   ]
  },
  {
   "cell_type": "code",
   "execution_count": 41,
   "metadata": {
    "collapsed": true
   },
   "outputs": [],
   "source": [
    "X = df_cluster_3.drop(0, axis=1)"
   ]
  },
  {
   "cell_type": "code",
   "execution_count": 42,
   "metadata": {
    "collapsed": true
   },
   "outputs": [],
   "source": [
    "scaler = StandardScaler()\n",
    "X_scaled = scaler.fit_transform(X)"
   ]
  },
  {
   "cell_type": "code",
   "execution_count": 43,
   "metadata": {
    "collapsed": false
   },
   "outputs": [
    {
     "data": {
      "text/plain": [
       "KMeans(copy_x=True, init='k-means++', max_iter=300, n_clusters=3, n_init=10,\n",
       "    n_jobs=1, precompute_distances='auto', random_state=1, tol=0.0001,\n",
       "    verbose=0)"
      ]
     },
     "execution_count": 43,
     "metadata": {},
     "output_type": "execute_result"
    }
   ],
   "source": [
    "km = KMeans(n_clusters=3, random_state=1)\n",
    "km.fit(X_scaled)"
   ]
  },
  {
   "cell_type": "code",
   "execution_count": 44,
   "metadata": {
    "collapsed": true
   },
   "outputs": [],
   "source": [
    "df_cluster_3['cluster'] = km.labels_"
   ]
  },
  {
   "cell_type": "code",
   "execution_count": 45,
   "metadata": {
    "collapsed": false
   },
   "outputs": [
    {
     "data": {
      "text/html": [
       "<div>\n",
       "<table border=\"1\" class=\"dataframe\">\n",
       "  <thead>\n",
       "    <tr style=\"text-align: right;\">\n",
       "      <th></th>\n",
       "      <th>total_char</th>\n",
       "      <th>syl_sum</th>\n",
       "      <th>sentiment</th>\n",
       "    </tr>\n",
       "    <tr>\n",
       "      <th>cluster</th>\n",
       "      <th></th>\n",
       "      <th></th>\n",
       "      <th></th>\n",
       "    </tr>\n",
       "  </thead>\n",
       "  <tbody>\n",
       "    <tr>\n",
       "      <th>0</th>\n",
       "      <td>66.107283</td>\n",
       "      <td>21.127121</td>\n",
       "      <td>-0.035074</td>\n",
       "    </tr>\n",
       "    <tr>\n",
       "      <th>1</th>\n",
       "      <td>222.607009</td>\n",
       "      <td>71.311014</td>\n",
       "      <td>0.166148</td>\n",
       "    </tr>\n",
       "    <tr>\n",
       "      <th>2</th>\n",
       "      <td>94.689655</td>\n",
       "      <td>30.471575</td>\n",
       "      <td>0.458041</td>\n",
       "    </tr>\n",
       "  </tbody>\n",
       "</table>\n",
       "</div>"
      ],
      "text/plain": [
       "         total_char    syl_sum  sentiment\n",
       "cluster                                  \n",
       "0         66.107283  21.127121  -0.035074\n",
       "1        222.607009  71.311014   0.166148\n",
       "2         94.689655  30.471575   0.458041"
      ]
     },
     "execution_count": 45,
     "metadata": {},
     "output_type": "execute_result"
    }
   ],
   "source": [
    "df_cluster_3.groupby('cluster').mean()"
   ]
  },
  {
   "cell_type": "code",
   "execution_count": 46,
   "metadata": {
    "collapsed": false
   },
   "outputs": [
    {
     "data": {
      "text/html": [
       "<div>\n",
       "<table border=\"1\" class=\"dataframe\">\n",
       "  <thead>\n",
       "    <tr style=\"text-align: right;\">\n",
       "      <th></th>\n",
       "      <th>0</th>\n",
       "      <th>total_char</th>\n",
       "      <th>syl_sum</th>\n",
       "      <th>sentiment</th>\n",
       "      <th>cluster</th>\n",
       "    </tr>\n",
       "  </thead>\n",
       "  <tbody>\n",
       "    <tr>\n",
       "      <th>0</th>\n",
       "      <td>CONTENTS  The Novice--Mrs. Benson--Mary--Mrs. ...</td>\n",
       "      <td>120</td>\n",
       "      <td>39</td>\n",
       "      <td>0.000</td>\n",
       "      <td>0</td>\n",
       "    </tr>\n",
       "    <tr>\n",
       "      <th>1</th>\n",
       "      <td>I was approaching fifteen, Mary was about a ye...</td>\n",
       "      <td>88</td>\n",
       "      <td>31</td>\n",
       "      <td>0.000</td>\n",
       "      <td>0</td>\n",
       "    </tr>\n",
       "    <tr>\n",
       "      <th>2</th>\n",
       "      <td>Mamma treated us all as children, and was blin...</td>\n",
       "      <td>75</td>\n",
       "      <td>25</td>\n",
       "      <td>-0.500</td>\n",
       "      <td>0</td>\n",
       "    </tr>\n",
       "    <tr>\n",
       "      <th>3</th>\n",
       "      <td>Although not tall for my age, nor outwardly pr...</td>\n",
       "      <td>225</td>\n",
       "      <td>78</td>\n",
       "      <td>0.325</td>\n",
       "      <td>1</td>\n",
       "    </tr>\n",
       "    <tr>\n",
       "      <th>4</th>\n",
       "      <td>As yet, I had absolutely no knowledge of the u...</td>\n",
       "      <td>64</td>\n",
       "      <td>24</td>\n",
       "      <td>-0.050</td>\n",
       "      <td>0</td>\n",
       "    </tr>\n",
       "  </tbody>\n",
       "</table>\n",
       "</div>"
      ],
      "text/plain": [
       "                                                   0  total_char  syl_sum  \\\n",
       "0  CONTENTS  The Novice--Mrs. Benson--Mary--Mrs. ...         120       39   \n",
       "1  I was approaching fifteen, Mary was about a ye...          88       31   \n",
       "2  Mamma treated us all as children, and was blin...          75       25   \n",
       "3  Although not tall for my age, nor outwardly pr...         225       78   \n",
       "4  As yet, I had absolutely no knowledge of the u...          64       24   \n",
       "\n",
       "   sentiment  cluster  \n",
       "0      0.000        0  \n",
       "1      0.000        0  \n",
       "2     -0.500        0  \n",
       "3      0.325        1  \n",
       "4     -0.050        0  "
      ]
     },
     "execution_count": 46,
     "metadata": {},
     "output_type": "execute_result"
    }
   ],
   "source": [
    "df_cluster_3.head()"
   ]
  },
  {
   "cell_type": "markdown",
   "metadata": {},
   "source": [
    "Add cludter_3 to original dataframe"
   ]
  },
  {
   "cell_type": "code",
   "execution_count": 47,
   "metadata": {
    "collapsed": true
   },
   "outputs": [],
   "source": [
    "df_novel['cluster_3_syl'] = df_cluster_3['cluster']"
   ]
  },
  {
   "cell_type": "code",
   "execution_count": 48,
   "metadata": {
    "collapsed": false
   },
   "outputs": [
    {
     "data": {
      "text/html": [
       "<div>\n",
       "<table border=\"1\" class=\"dataframe\">\n",
       "  <thead>\n",
       "    <tr style=\"text-align: right;\">\n",
       "      <th></th>\n",
       "      <th>0</th>\n",
       "      <th>wrd_length</th>\n",
       "      <th>total_char</th>\n",
       "      <th>syl_count</th>\n",
       "      <th>syl_sum</th>\n",
       "      <th>sentiment</th>\n",
       "      <th>cluster_20</th>\n",
       "      <th>cluster_3_syl</th>\n",
       "    </tr>\n",
       "  </thead>\n",
       "  <tbody>\n",
       "    <tr>\n",
       "      <th>0</th>\n",
       "      <td>CONTENTS  The Novice--Mrs. Benson--Mary--Mrs. ...</td>\n",
       "      <td>[8, 3, 6, 3, 6, 4, 3, 6, 2, 14, 4, 3, 7, 4, 6,...</td>\n",
       "      <td>120</td>\n",
       "      <td>[2, 1, 2, 0, 2, 2, 0, 2, 0, 4, 1, 0, 3, 1, 3, ...</td>\n",
       "      <td>39</td>\n",
       "      <td>0.000</td>\n",
       "      <td>10</td>\n",
       "      <td>0</td>\n",
       "    </tr>\n",
       "    <tr>\n",
       "      <th>1</th>\n",
       "      <td>I was approaching fifteen, Mary was about a ye...</td>\n",
       "      <td>[1, 3, 11, 7, 4, 3, 5, 1, 4, 7, 3, 5, 7, 6, 3,...</td>\n",
       "      <td>88</td>\n",
       "      <td>[1, 1, 3, 2, 2, 1, 2, 1, 2, 2, 1, 3, 2, 1, 1, ...</td>\n",
       "      <td>31</td>\n",
       "      <td>0.000</td>\n",
       "      <td>10</td>\n",
       "      <td>0</td>\n",
       "    </tr>\n",
       "    <tr>\n",
       "      <th>2</th>\n",
       "      <td>Mamma treated us all as children, and was blin...</td>\n",
       "      <td>[5, 7, 2, 3, 2, 8, 3, 3, 5, 2, 3, 4, 4, 1, 3, ...</td>\n",
       "      <td>75</td>\n",
       "      <td>[2, 2, 1, 1, 1, 2, 1, 1, 1, 1, 1, 1, 1, 1, 1, ...</td>\n",
       "      <td>25</td>\n",
       "      <td>-0.500</td>\n",
       "      <td>17</td>\n",
       "      <td>0</td>\n",
       "    </tr>\n",
       "    <tr>\n",
       "      <th>3</th>\n",
       "      <td>Although not tall for my age, nor outwardly pr...</td>\n",
       "      <td>[8, 3, 4, 3, 2, 3, 3, 9, 10, 1, 5, 10, 2, 8, 4...</td>\n",
       "      <td>225</td>\n",
       "      <td>[2, 1, 1, 1, 1, 1, 1, 3, 3, 1, 2, 4, 1, 2, 1, ...</td>\n",
       "      <td>78</td>\n",
       "      <td>0.325</td>\n",
       "      <td>16</td>\n",
       "      <td>1</td>\n",
       "    </tr>\n",
       "    <tr>\n",
       "      <th>4</th>\n",
       "      <td>As yet, I had absolutely no knowledge of the u...</td>\n",
       "      <td>[2, 3, 1, 3, 10, 2, 9, 2, 3, 4, 2, 3, 9, 6, 2, 3]</td>\n",
       "      <td>64</td>\n",
       "      <td>[1, 1, 1, 1, 5, 1, 2, 1, 1, 1, 1, 1, 3, 2, 1, 1]</td>\n",
       "      <td>24</td>\n",
       "      <td>-0.050</td>\n",
       "      <td>6</td>\n",
       "      <td>0</td>\n",
       "    </tr>\n",
       "  </tbody>\n",
       "</table>\n",
       "</div>"
      ],
      "text/plain": [
       "                                                   0  \\\n",
       "0  CONTENTS  The Novice--Mrs. Benson--Mary--Mrs. ...   \n",
       "1  I was approaching fifteen, Mary was about a ye...   \n",
       "2  Mamma treated us all as children, and was blin...   \n",
       "3  Although not tall for my age, nor outwardly pr...   \n",
       "4  As yet, I had absolutely no knowledge of the u...   \n",
       "\n",
       "                                          wrd_length  total_char  \\\n",
       "0  [8, 3, 6, 3, 6, 4, 3, 6, 2, 14, 4, 3, 7, 4, 6,...         120   \n",
       "1  [1, 3, 11, 7, 4, 3, 5, 1, 4, 7, 3, 5, 7, 6, 3,...          88   \n",
       "2  [5, 7, 2, 3, 2, 8, 3, 3, 5, 2, 3, 4, 4, 1, 3, ...          75   \n",
       "3  [8, 3, 4, 3, 2, 3, 3, 9, 10, 1, 5, 10, 2, 8, 4...         225   \n",
       "4  [2, 3, 1, 3, 10, 2, 9, 2, 3, 4, 2, 3, 9, 6, 2, 3]          64   \n",
       "\n",
       "                                           syl_count  syl_sum  sentiment  \\\n",
       "0  [2, 1, 2, 0, 2, 2, 0, 2, 0, 4, 1, 0, 3, 1, 3, ...       39      0.000   \n",
       "1  [1, 1, 3, 2, 2, 1, 2, 1, 2, 2, 1, 3, 2, 1, 1, ...       31      0.000   \n",
       "2  [2, 2, 1, 1, 1, 2, 1, 1, 1, 1, 1, 1, 1, 1, 1, ...       25     -0.500   \n",
       "3  [2, 1, 1, 1, 1, 1, 1, 3, 3, 1, 2, 4, 1, 2, 1, ...       78      0.325   \n",
       "4   [1, 1, 1, 1, 5, 1, 2, 1, 1, 1, 1, 1, 3, 2, 1, 1]       24     -0.050   \n",
       "\n",
       "   cluster_20  cluster_3_syl  \n",
       "0          10              0  \n",
       "1          10              0  \n",
       "2          17              0  \n",
       "3          16              1  \n",
       "4           6              0  "
      ]
     },
     "execution_count": 48,
     "metadata": {},
     "output_type": "execute_result"
    }
   ],
   "source": [
    "df_novel.head()"
   ]
  },
  {
   "cell_type": "markdown",
   "metadata": {},
   "source": [
    "Create 3 Clusters with no syl_sum"
   ]
  },
  {
   "cell_type": "code",
   "execution_count": 49,
   "metadata": {
    "collapsed": true
   },
   "outputs": [],
   "source": [
    "df_cluster_3no_syl = df_cluster.copy()"
   ]
  },
  {
   "cell_type": "code",
   "execution_count": 50,
   "metadata": {
    "collapsed": true
   },
   "outputs": [],
   "source": [
    "df_cluster_3no_syl = df_cluster.drop('syl_sum', 1)"
   ]
  },
  {
   "cell_type": "code",
   "execution_count": 51,
   "metadata": {
    "collapsed": true
   },
   "outputs": [],
   "source": [
    "X = df_cluster_3no_syl.drop(0, axis=1)"
   ]
  },
  {
   "cell_type": "code",
   "execution_count": 52,
   "metadata": {
    "collapsed": true
   },
   "outputs": [],
   "source": [
    "scaler = StandardScaler()\n",
    "X_scaled = scaler.fit_transform(X)"
   ]
  },
  {
   "cell_type": "code",
   "execution_count": 53,
   "metadata": {
    "collapsed": false
   },
   "outputs": [
    {
     "data": {
      "text/plain": [
       "KMeans(copy_x=True, init='k-means++', max_iter=300, n_clusters=3, n_init=10,\n",
       "    n_jobs=1, precompute_distances='auto', random_state=1, tol=0.0001,\n",
       "    verbose=0)"
      ]
     },
     "execution_count": 53,
     "metadata": {},
     "output_type": "execute_result"
    }
   ],
   "source": [
    "km = KMeans(n_clusters=3, random_state=1)\n",
    "km.fit(X_scaled)"
   ]
  },
  {
   "cell_type": "code",
   "execution_count": 54,
   "metadata": {
    "collapsed": true
   },
   "outputs": [],
   "source": [
    "df_cluster_3no_syl['cluster'] = km.labels_"
   ]
  },
  {
   "cell_type": "code",
   "execution_count": 55,
   "metadata": {
    "collapsed": false
   },
   "outputs": [
    {
     "data": {
      "text/html": [
       "<div>\n",
       "<table border=\"1\" class=\"dataframe\">\n",
       "  <thead>\n",
       "    <tr style=\"text-align: right;\">\n",
       "      <th></th>\n",
       "      <th>0</th>\n",
       "      <th>total_char</th>\n",
       "      <th>sentiment</th>\n",
       "      <th>cluster</th>\n",
       "    </tr>\n",
       "  </thead>\n",
       "  <tbody>\n",
       "    <tr>\n",
       "      <th>0</th>\n",
       "      <td>CONTENTS  The Novice--Mrs. Benson--Mary--Mrs. ...</td>\n",
       "      <td>120</td>\n",
       "      <td>0.000</td>\n",
       "      <td>0</td>\n",
       "    </tr>\n",
       "    <tr>\n",
       "      <th>1</th>\n",
       "      <td>I was approaching fifteen, Mary was about a ye...</td>\n",
       "      <td>88</td>\n",
       "      <td>0.000</td>\n",
       "      <td>0</td>\n",
       "    </tr>\n",
       "    <tr>\n",
       "      <th>2</th>\n",
       "      <td>Mamma treated us all as children, and was blin...</td>\n",
       "      <td>75</td>\n",
       "      <td>-0.500</td>\n",
       "      <td>0</td>\n",
       "    </tr>\n",
       "    <tr>\n",
       "      <th>3</th>\n",
       "      <td>Although not tall for my age, nor outwardly pr...</td>\n",
       "      <td>225</td>\n",
       "      <td>0.325</td>\n",
       "      <td>2</td>\n",
       "    </tr>\n",
       "    <tr>\n",
       "      <th>4</th>\n",
       "      <td>As yet, I had absolutely no knowledge of the u...</td>\n",
       "      <td>64</td>\n",
       "      <td>-0.050</td>\n",
       "      <td>0</td>\n",
       "    </tr>\n",
       "  </tbody>\n",
       "</table>\n",
       "</div>"
      ],
      "text/plain": [
       "                                                   0  total_char  sentiment  \\\n",
       "0  CONTENTS  The Novice--Mrs. Benson--Mary--Mrs. ...         120      0.000   \n",
       "1  I was approaching fifteen, Mary was about a ye...          88      0.000   \n",
       "2  Mamma treated us all as children, and was blin...          75     -0.500   \n",
       "3  Although not tall for my age, nor outwardly pr...         225      0.325   \n",
       "4  As yet, I had absolutely no knowledge of the u...          64     -0.050   \n",
       "\n",
       "   cluster  \n",
       "0        0  \n",
       "1        0  \n",
       "2        0  \n",
       "3        2  \n",
       "4        0  "
      ]
     },
     "execution_count": 55,
     "metadata": {},
     "output_type": "execute_result"
    }
   ],
   "source": [
    "df_cluster_3no_syl.head()"
   ]
  },
  {
   "cell_type": "code",
   "execution_count": 56,
   "metadata": {
    "collapsed": false
   },
   "outputs": [
    {
     "data": {
      "text/html": [
       "<div>\n",
       "<table border=\"1\" class=\"dataframe\">\n",
       "  <thead>\n",
       "    <tr style=\"text-align: right;\">\n",
       "      <th></th>\n",
       "      <th>total_char</th>\n",
       "      <th>sentiment</th>\n",
       "    </tr>\n",
       "    <tr>\n",
       "      <th>cluster</th>\n",
       "      <th></th>\n",
       "      <th></th>\n",
       "    </tr>\n",
       "  </thead>\n",
       "  <tbody>\n",
       "    <tr>\n",
       "      <th>0</th>\n",
       "      <td>68.896061</td>\n",
       "      <td>-0.035146</td>\n",
       "    </tr>\n",
       "    <tr>\n",
       "      <th>1</th>\n",
       "      <td>93.151196</td>\n",
       "      <td>0.472764</td>\n",
       "    </tr>\n",
       "    <tr>\n",
       "      <th>2</th>\n",
       "      <td>223.480645</td>\n",
       "      <td>0.170526</td>\n",
       "    </tr>\n",
       "  </tbody>\n",
       "</table>\n",
       "</div>"
      ],
      "text/plain": [
       "         total_char  sentiment\n",
       "cluster                       \n",
       "0         68.896061  -0.035146\n",
       "1         93.151196   0.472764\n",
       "2        223.480645   0.170526"
      ]
     },
     "execution_count": 56,
     "metadata": {},
     "output_type": "execute_result"
    }
   ],
   "source": [
    "df_cluster_3no_syl.groupby('cluster').mean()"
   ]
  },
  {
   "cell_type": "markdown",
   "metadata": {},
   "source": [
    "Add cluster_3no_syl to original dataframe"
   ]
  },
  {
   "cell_type": "code",
   "execution_count": 57,
   "metadata": {
    "collapsed": true
   },
   "outputs": [],
   "source": [
    "df_novel['cluster_3no_syl'] = df_cluster_3no_syl['cluster']"
   ]
  },
  {
   "cell_type": "code",
   "execution_count": 58,
   "metadata": {
    "collapsed": false
   },
   "outputs": [
    {
     "data": {
      "text/html": [
       "<div>\n",
       "<table border=\"1\" class=\"dataframe\">\n",
       "  <thead>\n",
       "    <tr style=\"text-align: right;\">\n",
       "      <th></th>\n",
       "      <th>0</th>\n",
       "      <th>wrd_length</th>\n",
       "      <th>total_char</th>\n",
       "      <th>syl_count</th>\n",
       "      <th>syl_sum</th>\n",
       "      <th>sentiment</th>\n",
       "      <th>cluster_20</th>\n",
       "      <th>cluster_3_syl</th>\n",
       "      <th>cluster_3no_syl</th>\n",
       "    </tr>\n",
       "  </thead>\n",
       "  <tbody>\n",
       "    <tr>\n",
       "      <th>0</th>\n",
       "      <td>CONTENTS  The Novice--Mrs. Benson--Mary--Mrs. ...</td>\n",
       "      <td>[8, 3, 6, 3, 6, 4, 3, 6, 2, 14, 4, 3, 7, 4, 6,...</td>\n",
       "      <td>120</td>\n",
       "      <td>[2, 1, 2, 0, 2, 2, 0, 2, 0, 4, 1, 0, 3, 1, 3, ...</td>\n",
       "      <td>39</td>\n",
       "      <td>0.000</td>\n",
       "      <td>10</td>\n",
       "      <td>0</td>\n",
       "      <td>0</td>\n",
       "    </tr>\n",
       "    <tr>\n",
       "      <th>1</th>\n",
       "      <td>I was approaching fifteen, Mary was about a ye...</td>\n",
       "      <td>[1, 3, 11, 7, 4, 3, 5, 1, 4, 7, 3, 5, 7, 6, 3,...</td>\n",
       "      <td>88</td>\n",
       "      <td>[1, 1, 3, 2, 2, 1, 2, 1, 2, 2, 1, 3, 2, 1, 1, ...</td>\n",
       "      <td>31</td>\n",
       "      <td>0.000</td>\n",
       "      <td>10</td>\n",
       "      <td>0</td>\n",
       "      <td>0</td>\n",
       "    </tr>\n",
       "    <tr>\n",
       "      <th>2</th>\n",
       "      <td>Mamma treated us all as children, and was blin...</td>\n",
       "      <td>[5, 7, 2, 3, 2, 8, 3, 3, 5, 2, 3, 4, 4, 1, 3, ...</td>\n",
       "      <td>75</td>\n",
       "      <td>[2, 2, 1, 1, 1, 2, 1, 1, 1, 1, 1, 1, 1, 1, 1, ...</td>\n",
       "      <td>25</td>\n",
       "      <td>-0.500</td>\n",
       "      <td>17</td>\n",
       "      <td>0</td>\n",
       "      <td>0</td>\n",
       "    </tr>\n",
       "    <tr>\n",
       "      <th>3</th>\n",
       "      <td>Although not tall for my age, nor outwardly pr...</td>\n",
       "      <td>[8, 3, 4, 3, 2, 3, 3, 9, 10, 1, 5, 10, 2, 8, 4...</td>\n",
       "      <td>225</td>\n",
       "      <td>[2, 1, 1, 1, 1, 1, 1, 3, 3, 1, 2, 4, 1, 2, 1, ...</td>\n",
       "      <td>78</td>\n",
       "      <td>0.325</td>\n",
       "      <td>16</td>\n",
       "      <td>1</td>\n",
       "      <td>2</td>\n",
       "    </tr>\n",
       "    <tr>\n",
       "      <th>4</th>\n",
       "      <td>As yet, I had absolutely no knowledge of the u...</td>\n",
       "      <td>[2, 3, 1, 3, 10, 2, 9, 2, 3, 4, 2, 3, 9, 6, 2, 3]</td>\n",
       "      <td>64</td>\n",
       "      <td>[1, 1, 1, 1, 5, 1, 2, 1, 1, 1, 1, 1, 3, 2, 1, 1]</td>\n",
       "      <td>24</td>\n",
       "      <td>-0.050</td>\n",
       "      <td>6</td>\n",
       "      <td>0</td>\n",
       "      <td>0</td>\n",
       "    </tr>\n",
       "  </tbody>\n",
       "</table>\n",
       "</div>"
      ],
      "text/plain": [
       "                                                   0  \\\n",
       "0  CONTENTS  The Novice--Mrs. Benson--Mary--Mrs. ...   \n",
       "1  I was approaching fifteen, Mary was about a ye...   \n",
       "2  Mamma treated us all as children, and was blin...   \n",
       "3  Although not tall for my age, nor outwardly pr...   \n",
       "4  As yet, I had absolutely no knowledge of the u...   \n",
       "\n",
       "                                          wrd_length  total_char  \\\n",
       "0  [8, 3, 6, 3, 6, 4, 3, 6, 2, 14, 4, 3, 7, 4, 6,...         120   \n",
       "1  [1, 3, 11, 7, 4, 3, 5, 1, 4, 7, 3, 5, 7, 6, 3,...          88   \n",
       "2  [5, 7, 2, 3, 2, 8, 3, 3, 5, 2, 3, 4, 4, 1, 3, ...          75   \n",
       "3  [8, 3, 4, 3, 2, 3, 3, 9, 10, 1, 5, 10, 2, 8, 4...         225   \n",
       "4  [2, 3, 1, 3, 10, 2, 9, 2, 3, 4, 2, 3, 9, 6, 2, 3]          64   \n",
       "\n",
       "                                           syl_count  syl_sum  sentiment  \\\n",
       "0  [2, 1, 2, 0, 2, 2, 0, 2, 0, 4, 1, 0, 3, 1, 3, ...       39      0.000   \n",
       "1  [1, 1, 3, 2, 2, 1, 2, 1, 2, 2, 1, 3, 2, 1, 1, ...       31      0.000   \n",
       "2  [2, 2, 1, 1, 1, 2, 1, 1, 1, 1, 1, 1, 1, 1, 1, ...       25     -0.500   \n",
       "3  [2, 1, 1, 1, 1, 1, 1, 3, 3, 1, 2, 4, 1, 2, 1, ...       78      0.325   \n",
       "4   [1, 1, 1, 1, 5, 1, 2, 1, 1, 1, 1, 1, 3, 2, 1, 1]       24     -0.050   \n",
       "\n",
       "   cluster_20  cluster_3_syl  cluster_3no_syl  \n",
       "0          10              0                0  \n",
       "1          10              0                0  \n",
       "2          17              0                0  \n",
       "3          16              1                2  \n",
       "4           6              0                0  "
      ]
     },
     "execution_count": 58,
     "metadata": {},
     "output_type": "execute_result"
    }
   ],
   "source": [
    "df_novel.head()"
   ]
  },
  {
   "cell_type": "markdown",
   "metadata": {},
   "source": [
    "Create 5 Clusters"
   ]
  },
  {
   "cell_type": "code",
   "execution_count": 59,
   "metadata": {
    "collapsed": true
   },
   "outputs": [],
   "source": [
    "df_cluster_5 = df_cluster.copy()"
   ]
  },
  {
   "cell_type": "code",
   "execution_count": 60,
   "metadata": {
    "collapsed": false
   },
   "outputs": [
    {
     "data": {
      "text/html": [
       "<div>\n",
       "<table border=\"1\" class=\"dataframe\">\n",
       "  <thead>\n",
       "    <tr style=\"text-align: right;\">\n",
       "      <th></th>\n",
       "      <th>0</th>\n",
       "      <th>total_char</th>\n",
       "      <th>syl_sum</th>\n",
       "      <th>sentiment</th>\n",
       "    </tr>\n",
       "  </thead>\n",
       "  <tbody>\n",
       "    <tr>\n",
       "      <th>0</th>\n",
       "      <td>CONTENTS  The Novice--Mrs. Benson--Mary--Mrs. ...</td>\n",
       "      <td>120</td>\n",
       "      <td>39</td>\n",
       "      <td>0.000</td>\n",
       "    </tr>\n",
       "    <tr>\n",
       "      <th>1</th>\n",
       "      <td>I was approaching fifteen, Mary was about a ye...</td>\n",
       "      <td>88</td>\n",
       "      <td>31</td>\n",
       "      <td>0.000</td>\n",
       "    </tr>\n",
       "    <tr>\n",
       "      <th>2</th>\n",
       "      <td>Mamma treated us all as children, and was blin...</td>\n",
       "      <td>75</td>\n",
       "      <td>25</td>\n",
       "      <td>-0.500</td>\n",
       "    </tr>\n",
       "    <tr>\n",
       "      <th>3</th>\n",
       "      <td>Although not tall for my age, nor outwardly pr...</td>\n",
       "      <td>225</td>\n",
       "      <td>78</td>\n",
       "      <td>0.325</td>\n",
       "    </tr>\n",
       "    <tr>\n",
       "      <th>4</th>\n",
       "      <td>As yet, I had absolutely no knowledge of the u...</td>\n",
       "      <td>64</td>\n",
       "      <td>24</td>\n",
       "      <td>-0.050</td>\n",
       "    </tr>\n",
       "  </tbody>\n",
       "</table>\n",
       "</div>"
      ],
      "text/plain": [
       "                                                   0  total_char  syl_sum  \\\n",
       "0  CONTENTS  The Novice--Mrs. Benson--Mary--Mrs. ...         120       39   \n",
       "1  I was approaching fifteen, Mary was about a ye...          88       31   \n",
       "2  Mamma treated us all as children, and was blin...          75       25   \n",
       "3  Although not tall for my age, nor outwardly pr...         225       78   \n",
       "4  As yet, I had absolutely no knowledge of the u...          64       24   \n",
       "\n",
       "   sentiment  \n",
       "0      0.000  \n",
       "1      0.000  \n",
       "2     -0.500  \n",
       "3      0.325  \n",
       "4     -0.050  "
      ]
     },
     "execution_count": 60,
     "metadata": {},
     "output_type": "execute_result"
    }
   ],
   "source": [
    "df_cluster_5.head()"
   ]
  },
  {
   "cell_type": "code",
   "execution_count": 61,
   "metadata": {
    "collapsed": true
   },
   "outputs": [],
   "source": [
    "X = df_cluster_5.drop(0, axis=1)"
   ]
  },
  {
   "cell_type": "code",
   "execution_count": 62,
   "metadata": {
    "collapsed": true
   },
   "outputs": [],
   "source": [
    "scaler = StandardScaler()\n",
    "X_scaled = scaler.fit_transform(X)"
   ]
  },
  {
   "cell_type": "code",
   "execution_count": 63,
   "metadata": {
    "collapsed": false
   },
   "outputs": [
    {
     "data": {
      "text/plain": [
       "KMeans(copy_x=True, init='k-means++', max_iter=300, n_clusters=5, n_init=10,\n",
       "    n_jobs=1, precompute_distances='auto', random_state=1, tol=0.0001,\n",
       "    verbose=0)"
      ]
     },
     "execution_count": 63,
     "metadata": {},
     "output_type": "execute_result"
    }
   ],
   "source": [
    "km = KMeans(n_clusters=5, random_state=1)\n",
    "km.fit(X_scaled)"
   ]
  },
  {
   "cell_type": "code",
   "execution_count": 64,
   "metadata": {
    "collapsed": true
   },
   "outputs": [],
   "source": [
    "df_cluster_5['cluster'] = km.labels_"
   ]
  },
  {
   "cell_type": "code",
   "execution_count": 65,
   "metadata": {
    "collapsed": false
   },
   "outputs": [
    {
     "data": {
      "text/html": [
       "<div>\n",
       "<table border=\"1\" class=\"dataframe\">\n",
       "  <thead>\n",
       "    <tr style=\"text-align: right;\">\n",
       "      <th></th>\n",
       "      <th>total_char</th>\n",
       "      <th>syl_sum</th>\n",
       "      <th>sentiment</th>\n",
       "    </tr>\n",
       "    <tr>\n",
       "      <th>cluster</th>\n",
       "      <th></th>\n",
       "      <th></th>\n",
       "      <th></th>\n",
       "    </tr>\n",
       "  </thead>\n",
       "  <tbody>\n",
       "    <tr>\n",
       "      <th>0</th>\n",
       "      <td>116.818598</td>\n",
       "      <td>37.317073</td>\n",
       "      <td>0.026767</td>\n",
       "    </tr>\n",
       "    <tr>\n",
       "      <th>1</th>\n",
       "      <td>199.192126</td>\n",
       "      <td>64.000000</td>\n",
       "      <td>0.228480</td>\n",
       "    </tr>\n",
       "    <tr>\n",
       "      <th>2</th>\n",
       "      <td>83.011628</td>\n",
       "      <td>26.764858</td>\n",
       "      <td>0.527847</td>\n",
       "    </tr>\n",
       "    <tr>\n",
       "      <th>3</th>\n",
       "      <td>355.594488</td>\n",
       "      <td>113.464567</td>\n",
       "      <td>0.171459</td>\n",
       "    </tr>\n",
       "    <tr>\n",
       "      <th>4</th>\n",
       "      <td>43.586193</td>\n",
       "      <td>13.930178</td>\n",
       "      <td>-0.035272</td>\n",
       "    </tr>\n",
       "  </tbody>\n",
       "</table>\n",
       "</div>"
      ],
      "text/plain": [
       "         total_char     syl_sum  sentiment\n",
       "cluster                                   \n",
       "0        116.818598   37.317073   0.026767\n",
       "1        199.192126   64.000000   0.228480\n",
       "2         83.011628   26.764858   0.527847\n",
       "3        355.594488  113.464567   0.171459\n",
       "4         43.586193   13.930178  -0.035272"
      ]
     },
     "execution_count": 65,
     "metadata": {},
     "output_type": "execute_result"
    }
   ],
   "source": [
    "df_cluster_5.groupby('cluster').mean()"
   ]
  },
  {
   "cell_type": "markdown",
   "metadata": {},
   "source": [
    "Add cluster_5 to original dataframe"
   ]
  },
  {
   "cell_type": "code",
   "execution_count": 66,
   "metadata": {
    "collapsed": true
   },
   "outputs": [],
   "source": [
    "df_novel['cluster_5'] = df_cluster_5['cluster']"
   ]
  },
  {
   "cell_type": "code",
   "execution_count": 67,
   "metadata": {
    "collapsed": false
   },
   "outputs": [
    {
     "data": {
      "text/html": [
       "<div>\n",
       "<table border=\"1\" class=\"dataframe\">\n",
       "  <thead>\n",
       "    <tr style=\"text-align: right;\">\n",
       "      <th></th>\n",
       "      <th>0</th>\n",
       "      <th>wrd_length</th>\n",
       "      <th>total_char</th>\n",
       "      <th>syl_count</th>\n",
       "      <th>syl_sum</th>\n",
       "      <th>sentiment</th>\n",
       "      <th>cluster_20</th>\n",
       "      <th>cluster_3_syl</th>\n",
       "      <th>cluster_3no_syl</th>\n",
       "      <th>cluster_5</th>\n",
       "    </tr>\n",
       "  </thead>\n",
       "  <tbody>\n",
       "    <tr>\n",
       "      <th>0</th>\n",
       "      <td>CONTENTS  The Novice--Mrs. Benson--Mary--Mrs. ...</td>\n",
       "      <td>[8, 3, 6, 3, 6, 4, 3, 6, 2, 14, 4, 3, 7, 4, 6,...</td>\n",
       "      <td>120</td>\n",
       "      <td>[2, 1, 2, 0, 2, 2, 0, 2, 0, 4, 1, 0, 3, 1, 3, ...</td>\n",
       "      <td>39</td>\n",
       "      <td>0.000</td>\n",
       "      <td>10</td>\n",
       "      <td>0</td>\n",
       "      <td>0</td>\n",
       "      <td>0</td>\n",
       "    </tr>\n",
       "    <tr>\n",
       "      <th>1</th>\n",
       "      <td>I was approaching fifteen, Mary was about a ye...</td>\n",
       "      <td>[1, 3, 11, 7, 4, 3, 5, 1, 4, 7, 3, 5, 7, 6, 3,...</td>\n",
       "      <td>88</td>\n",
       "      <td>[1, 1, 3, 2, 2, 1, 2, 1, 2, 2, 1, 3, 2, 1, 1, ...</td>\n",
       "      <td>31</td>\n",
       "      <td>0.000</td>\n",
       "      <td>10</td>\n",
       "      <td>0</td>\n",
       "      <td>0</td>\n",
       "      <td>0</td>\n",
       "    </tr>\n",
       "    <tr>\n",
       "      <th>2</th>\n",
       "      <td>Mamma treated us all as children, and was blin...</td>\n",
       "      <td>[5, 7, 2, 3, 2, 8, 3, 3, 5, 2, 3, 4, 4, 1, 3, ...</td>\n",
       "      <td>75</td>\n",
       "      <td>[2, 2, 1, 1, 1, 2, 1, 1, 1, 1, 1, 1, 1, 1, 1, ...</td>\n",
       "      <td>25</td>\n",
       "      <td>-0.500</td>\n",
       "      <td>17</td>\n",
       "      <td>0</td>\n",
       "      <td>0</td>\n",
       "      <td>4</td>\n",
       "    </tr>\n",
       "    <tr>\n",
       "      <th>3</th>\n",
       "      <td>Although not tall for my age, nor outwardly pr...</td>\n",
       "      <td>[8, 3, 4, 3, 2, 3, 3, 9, 10, 1, 5, 10, 2, 8, 4...</td>\n",
       "      <td>225</td>\n",
       "      <td>[2, 1, 1, 1, 1, 1, 1, 3, 3, 1, 2, 4, 1, 2, 1, ...</td>\n",
       "      <td>78</td>\n",
       "      <td>0.325</td>\n",
       "      <td>16</td>\n",
       "      <td>1</td>\n",
       "      <td>2</td>\n",
       "      <td>1</td>\n",
       "    </tr>\n",
       "    <tr>\n",
       "      <th>4</th>\n",
       "      <td>As yet, I had absolutely no knowledge of the u...</td>\n",
       "      <td>[2, 3, 1, 3, 10, 2, 9, 2, 3, 4, 2, 3, 9, 6, 2, 3]</td>\n",
       "      <td>64</td>\n",
       "      <td>[1, 1, 1, 1, 5, 1, 2, 1, 1, 1, 1, 1, 3, 2, 1, 1]</td>\n",
       "      <td>24</td>\n",
       "      <td>-0.050</td>\n",
       "      <td>6</td>\n",
       "      <td>0</td>\n",
       "      <td>0</td>\n",
       "      <td>4</td>\n",
       "    </tr>\n",
       "  </tbody>\n",
       "</table>\n",
       "</div>"
      ],
      "text/plain": [
       "                                                   0  \\\n",
       "0  CONTENTS  The Novice--Mrs. Benson--Mary--Mrs. ...   \n",
       "1  I was approaching fifteen, Mary was about a ye...   \n",
       "2  Mamma treated us all as children, and was blin...   \n",
       "3  Although not tall for my age, nor outwardly pr...   \n",
       "4  As yet, I had absolutely no knowledge of the u...   \n",
       "\n",
       "                                          wrd_length  total_char  \\\n",
       "0  [8, 3, 6, 3, 6, 4, 3, 6, 2, 14, 4, 3, 7, 4, 6,...         120   \n",
       "1  [1, 3, 11, 7, 4, 3, 5, 1, 4, 7, 3, 5, 7, 6, 3,...          88   \n",
       "2  [5, 7, 2, 3, 2, 8, 3, 3, 5, 2, 3, 4, 4, 1, 3, ...          75   \n",
       "3  [8, 3, 4, 3, 2, 3, 3, 9, 10, 1, 5, 10, 2, 8, 4...         225   \n",
       "4  [2, 3, 1, 3, 10, 2, 9, 2, 3, 4, 2, 3, 9, 6, 2, 3]          64   \n",
       "\n",
       "                                           syl_count  syl_sum  sentiment  \\\n",
       "0  [2, 1, 2, 0, 2, 2, 0, 2, 0, 4, 1, 0, 3, 1, 3, ...       39      0.000   \n",
       "1  [1, 1, 3, 2, 2, 1, 2, 1, 2, 2, 1, 3, 2, 1, 1, ...       31      0.000   \n",
       "2  [2, 2, 1, 1, 1, 2, 1, 1, 1, 1, 1, 1, 1, 1, 1, ...       25     -0.500   \n",
       "3  [2, 1, 1, 1, 1, 1, 1, 3, 3, 1, 2, 4, 1, 2, 1, ...       78      0.325   \n",
       "4   [1, 1, 1, 1, 5, 1, 2, 1, 1, 1, 1, 1, 3, 2, 1, 1]       24     -0.050   \n",
       "\n",
       "   cluster_20  cluster_3_syl  cluster_3no_syl  cluster_5  \n",
       "0          10              0                0          0  \n",
       "1          10              0                0          0  \n",
       "2          17              0                0          4  \n",
       "3          16              1                2          1  \n",
       "4           6              0                0          4  "
      ]
     },
     "execution_count": 67,
     "metadata": {},
     "output_type": "execute_result"
    }
   ],
   "source": [
    "df_novel.head()"
   ]
  },
  {
   "cell_type": "markdown",
   "metadata": {},
   "source": [
    "Write files to csv"
   ]
  },
  {
   "cell_type": "code",
   "execution_count": 68,
   "metadata": {
    "collapsed": true
   },
   "outputs": [],
   "source": [
    "df_novel.to_csv('data/novel_'+novel_title+'.csv', index=False)"
   ]
  },
  {
   "cell_type": "code",
   "execution_count": 69,
   "metadata": {
    "collapsed": true
   },
   "outputs": [],
   "source": [
    "df_test = pd.read_csv('data/novel_'+novel_title+'.csv')"
   ]
  },
  {
   "cell_type": "code",
   "execution_count": 70,
   "metadata": {
    "collapsed": false
   },
   "outputs": [
    {
     "data": {
      "text/html": [
       "<div>\n",
       "<table border=\"1\" class=\"dataframe\">\n",
       "  <thead>\n",
       "    <tr style=\"text-align: right;\">\n",
       "      <th></th>\n",
       "      <th>0</th>\n",
       "      <th>wrd_length</th>\n",
       "      <th>total_char</th>\n",
       "      <th>syl_count</th>\n",
       "      <th>syl_sum</th>\n",
       "      <th>sentiment</th>\n",
       "      <th>cluster_20</th>\n",
       "      <th>cluster_3_syl</th>\n",
       "      <th>cluster_3no_syl</th>\n",
       "      <th>cluster_5</th>\n",
       "    </tr>\n",
       "  </thead>\n",
       "  <tbody>\n",
       "    <tr>\n",
       "      <th>0</th>\n",
       "      <td>CONTENTS  The Novice--Mrs. Benson--Mary--Mrs. ...</td>\n",
       "      <td>[8, 3, 6, 3, 6, 4, 3, 6, 2, 14, 4, 3, 7, 4, 6,...</td>\n",
       "      <td>120</td>\n",
       "      <td>[2 1 2 0 2 2 0 2 0 4 1 0 3 1 3 3 1 1 1 1 1 2 3...</td>\n",
       "      <td>39</td>\n",
       "      <td>0.000</td>\n",
       "      <td>10</td>\n",
       "      <td>0</td>\n",
       "      <td>0</td>\n",
       "      <td>0</td>\n",
       "    </tr>\n",
       "    <tr>\n",
       "      <th>1</th>\n",
       "      <td>I was approaching fifteen, Mary was about a ye...</td>\n",
       "      <td>[1, 3, 11, 7, 4, 3, 5, 1, 4, 7, 3, 5, 7, 6, 3,...</td>\n",
       "      <td>88</td>\n",
       "      <td>[1 1 3 2 2 1 2 1 2 2 1 3 2 1 1 2 2 1 1]</td>\n",
       "      <td>31</td>\n",
       "      <td>0.000</td>\n",
       "      <td>10</td>\n",
       "      <td>0</td>\n",
       "      <td>0</td>\n",
       "      <td>0</td>\n",
       "    </tr>\n",
       "    <tr>\n",
       "      <th>2</th>\n",
       "      <td>Mamma treated us all as children, and was blin...</td>\n",
       "      <td>[5, 7, 2, 3, 2, 8, 3, 3, 5, 2, 3, 4, 4, 1, 3, ...</td>\n",
       "      <td>75</td>\n",
       "      <td>[2 2 1 1 1 2 1 1 1 1 1 1 1 1 1 1 2 1 1 1 1]</td>\n",
       "      <td>25</td>\n",
       "      <td>-0.500</td>\n",
       "      <td>17</td>\n",
       "      <td>0</td>\n",
       "      <td>0</td>\n",
       "      <td>4</td>\n",
       "    </tr>\n",
       "    <tr>\n",
       "      <th>3</th>\n",
       "      <td>Although not tall for my age, nor outwardly pr...</td>\n",
       "      <td>[8, 3, 4, 3, 2, 3, 3, 9, 10, 1, 5, 10, 2, 8, 4...</td>\n",
       "      <td>225</td>\n",
       "      <td>[2 1 1 1 1 1 1 3 3 1 2 4 1 2 1 4 1 1 3 3 1 1 1...</td>\n",
       "      <td>78</td>\n",
       "      <td>0.325</td>\n",
       "      <td>16</td>\n",
       "      <td>1</td>\n",
       "      <td>2</td>\n",
       "      <td>1</td>\n",
       "    </tr>\n",
       "    <tr>\n",
       "      <th>4</th>\n",
       "      <td>As yet, I had absolutely no knowledge of the u...</td>\n",
       "      <td>[2, 3, 1, 3, 10, 2, 9, 2, 3, 4, 2, 3, 9, 6, 2, 3]</td>\n",
       "      <td>64</td>\n",
       "      <td>[1 1 1 1 5 1 2 1 1 1 1 1 3 2 1 1]</td>\n",
       "      <td>24</td>\n",
       "      <td>-0.050</td>\n",
       "      <td>6</td>\n",
       "      <td>0</td>\n",
       "      <td>0</td>\n",
       "      <td>4</td>\n",
       "    </tr>\n",
       "  </tbody>\n",
       "</table>\n",
       "</div>"
      ],
      "text/plain": [
       "                                                   0  \\\n",
       "0  CONTENTS  The Novice--Mrs. Benson--Mary--Mrs. ...   \n",
       "1  I was approaching fifteen, Mary was about a ye...   \n",
       "2  Mamma treated us all as children, and was blin...   \n",
       "3  Although not tall for my age, nor outwardly pr...   \n",
       "4  As yet, I had absolutely no knowledge of the u...   \n",
       "\n",
       "                                          wrd_length  total_char  \\\n",
       "0  [8, 3, 6, 3, 6, 4, 3, 6, 2, 14, 4, 3, 7, 4, 6,...         120   \n",
       "1  [1, 3, 11, 7, 4, 3, 5, 1, 4, 7, 3, 5, 7, 6, 3,...          88   \n",
       "2  [5, 7, 2, 3, 2, 8, 3, 3, 5, 2, 3, 4, 4, 1, 3, ...          75   \n",
       "3  [8, 3, 4, 3, 2, 3, 3, 9, 10, 1, 5, 10, 2, 8, 4...         225   \n",
       "4  [2, 3, 1, 3, 10, 2, 9, 2, 3, 4, 2, 3, 9, 6, 2, 3]          64   \n",
       "\n",
       "                                           syl_count  syl_sum  sentiment  \\\n",
       "0  [2 1 2 0 2 2 0 2 0 4 1 0 3 1 3 3 1 1 1 1 1 2 3...       39      0.000   \n",
       "1            [1 1 3 2 2 1 2 1 2 2 1 3 2 1 1 2 2 1 1]       31      0.000   \n",
       "2        [2 2 1 1 1 2 1 1 1 1 1 1 1 1 1 1 2 1 1 1 1]       25     -0.500   \n",
       "3  [2 1 1 1 1 1 1 3 3 1 2 4 1 2 1 4 1 1 3 3 1 1 1...       78      0.325   \n",
       "4                  [1 1 1 1 5 1 2 1 1 1 1 1 3 2 1 1]       24     -0.050   \n",
       "\n",
       "   cluster_20  cluster_3_syl  cluster_3no_syl  cluster_5  \n",
       "0          10              0                0          0  \n",
       "1          10              0                0          0  \n",
       "2          17              0                0          4  \n",
       "3          16              1                2          1  \n",
       "4           6              0                0          4  "
      ]
     },
     "execution_count": 70,
     "metadata": {},
     "output_type": "execute_result"
    }
   ],
   "source": [
    "df_test.head()"
   ]
  },
  {
   "cell_type": "markdown",
   "metadata": {},
   "source": [
    "Find ideal amount of clusters for novel"
   ]
  },
  {
   "cell_type": "raw",
   "metadata": {},
   "source": [
    "from sklearn import metrics\n",
    "metrics.silhouette_score(X_scaled, km.labels_)"
   ]
  },
  {
   "cell_type": "raw",
   "metadata": {},
   "source": [
    "k_range = range(2,150)\n",
    "scores = []\n",
    "for k in k_range:\n",
    "    km = KMeans(n_clusters=k, random_state=1)\n",
    "    km.fit(X_scaled)\n",
    "    scores.append(metrics.silhouette_score(X_scaled, km.labels_))"
   ]
  },
  {
   "cell_type": "raw",
   "metadata": {},
   "source": [
    "plt.plot(k_range, scores)\n",
    "plt.xlabel('Number of clusters')\n",
    "plt.ylabel('Silihouette Coefficient')\n",
    "plt.grid(True)"
   ]
  },
  {
   "cell_type": "markdown",
   "metadata": {},
   "source": [
    "Find Sentiment Pattern "
   ]
  },
  {
   "cell_type": "markdown",
   "metadata": {},
   "source": [
    "20 pieces"
   ]
  },
  {
   "cell_type": "code",
   "execution_count": 71,
   "metadata": {
    "collapsed": false
   },
   "outputs": [
    {
     "data": {
      "text/html": [
       "<div>\n",
       "<table border=\"1\" class=\"dataframe\">\n",
       "  <thead>\n",
       "    <tr style=\"text-align: right;\">\n",
       "      <th></th>\n",
       "      <th>0</th>\n",
       "      <th>wrd_length</th>\n",
       "      <th>total_char</th>\n",
       "      <th>syl_count</th>\n",
       "      <th>syl_sum</th>\n",
       "      <th>sentiment</th>\n",
       "      <th>cluster_20</th>\n",
       "      <th>cluster_3_syl</th>\n",
       "      <th>cluster_3no_syl</th>\n",
       "      <th>cluster_5</th>\n",
       "    </tr>\n",
       "  </thead>\n",
       "  <tbody>\n",
       "    <tr>\n",
       "      <th>7570</th>\n",
       "      <td>At the third time I shall suck thy breasts wit...</td>\n",
       "      <td>[2, 3, 5, 4, 1, 5, 4, 3, 7, 4, 4, 7, 4, 3, 4, ...</td>\n",
       "      <td>159</td>\n",
       "      <td>[1, 1, 1, 1, 1, 1, 1, 1, 2, 1, 1, 2, 1, 1, 0, ...</td>\n",
       "      <td>52</td>\n",
       "      <td>-0.025</td>\n",
       "      <td>8</td>\n",
       "      <td>1</td>\n",
       "      <td>2</td>\n",
       "      <td>0</td>\n",
       "    </tr>\n",
       "    <tr>\n",
       "      <th>7571</th>\n",
       "      <td>That will last until half-past two o'clock, th...</td>\n",
       "      <td>[4, 4, 4, 5, 9, 3, 7, 4, 2, 5, 5, 8, 4, 5, 5, ...</td>\n",
       "      <td>153</td>\n",
       "      <td>[1, 1, 1, 2, 2, 1, 2, 1, 1, 1, 1, 3, 1, 2, 1, ...</td>\n",
       "      <td>47</td>\n",
       "      <td>0.000</td>\n",
       "      <td>8</td>\n",
       "      <td>1</td>\n",
       "      <td>0</td>\n",
       "      <td>0</td>\n",
       "    </tr>\n",
       "    <tr>\n",
       "      <th>7572</th>\n",
       "      <td>Behold, the following part shall come to you i...</td>\n",
       "      <td>[6, 3, 9, 4, 5, 4, 2, 3, 2, 3, 12, 7, 3]</td>\n",
       "      <td>63</td>\n",
       "      <td>[2, 1, 3, 1, 1, 1, 1, 1, 1, 1, 4, 2, 1]</td>\n",
       "      <td>20</td>\n",
       "      <td>0.000</td>\n",
       "      <td>6</td>\n",
       "      <td>0</td>\n",
       "      <td>0</td>\n",
       "      <td>4</td>\n",
       "    </tr>\n",
       "    <tr>\n",
       "      <th>7573</th>\n",
       "      <td>Mem.</td>\n",
       "      <td>[3]</td>\n",
       "      <td>3</td>\n",
       "      <td>[1]</td>\n",
       "      <td>1</td>\n",
       "      <td>0.000</td>\n",
       "      <td>1</td>\n",
       "      <td>0</td>\n",
       "      <td>0</td>\n",
       "      <td>4</td>\n",
       "    </tr>\n",
       "    <tr>\n",
       "      <th>7574</th>\n",
       "      <td>The commission herein is returnable in Paris, ...</td>\n",
       "      <td>[3, 10, 6, 2, 10, 2, 5, 4, 4, 4]</td>\n",
       "      <td>50</td>\n",
       "      <td>[1, 3, 2, 1, 3, 1, 2, 0, 1, 0]</td>\n",
       "      <td>14</td>\n",
       "      <td>0.000</td>\n",
       "      <td>6</td>\n",
       "      <td>0</td>\n",
       "      <td>0</td>\n",
       "      <td>4</td>\n",
       "    </tr>\n",
       "  </tbody>\n",
       "</table>\n",
       "</div>"
      ],
      "text/plain": [
       "                                                      0  \\\n",
       "7570  At the third time I shall suck thy breasts wit...   \n",
       "7571  That will last until half-past two o'clock, th...   \n",
       "7572  Behold, the following part shall come to you i...   \n",
       "7573                                               Mem.   \n",
       "7574  The commission herein is returnable in Paris, ...   \n",
       "\n",
       "                                             wrd_length  total_char  \\\n",
       "7570  [2, 3, 5, 4, 1, 5, 4, 3, 7, 4, 4, 7, 4, 3, 4, ...         159   \n",
       "7571  [4, 4, 4, 5, 9, 3, 7, 4, 2, 5, 5, 8, 4, 5, 5, ...         153   \n",
       "7572           [6, 3, 9, 4, 5, 4, 2, 3, 2, 3, 12, 7, 3]          63   \n",
       "7573                                                [3]           3   \n",
       "7574                   [3, 10, 6, 2, 10, 2, 5, 4, 4, 4]          50   \n",
       "\n",
       "                                              syl_count  syl_sum  sentiment  \\\n",
       "7570  [1, 1, 1, 1, 1, 1, 1, 1, 2, 1, 1, 2, 1, 1, 0, ...       52     -0.025   \n",
       "7571  [1, 1, 1, 2, 2, 1, 2, 1, 1, 1, 1, 3, 1, 2, 1, ...       47      0.000   \n",
       "7572            [2, 1, 3, 1, 1, 1, 1, 1, 1, 1, 4, 2, 1]       20      0.000   \n",
       "7573                                                [1]        1      0.000   \n",
       "7574                     [1, 3, 2, 1, 3, 1, 2, 0, 1, 0]       14      0.000   \n",
       "\n",
       "      cluster_20  cluster_3_syl  cluster_3no_syl  cluster_5  \n",
       "7570           8              1                2          0  \n",
       "7571           8              1                0          0  \n",
       "7572           6              0                0          4  \n",
       "7573           1              0                0          4  \n",
       "7574           6              0                0          4  "
      ]
     },
     "execution_count": 71,
     "metadata": {},
     "output_type": "execute_result"
    }
   ],
   "source": [
    "df_novel.tail()"
   ]
  },
  {
   "cell_type": "code",
   "execution_count": 72,
   "metadata": {
    "collapsed": false
   },
   "outputs": [
    {
     "data": {
      "text/plain": [
       "812187"
      ]
     },
     "execution_count": 72,
     "metadata": {},
     "output_type": "execute_result"
    }
   ],
   "source": [
    "df_novel['total_char'].sum()"
   ]
  },
  {
   "cell_type": "code",
   "execution_count": 73,
   "metadata": {
    "collapsed": false
   },
   "outputs": [],
   "source": [
    "t = 0\n",
    "x = 0\n",
    "ratio = (df_novel['total_char'].sum()/20) - (.06 * (int(len(df_novel) - 1)))\n",
    "# or figure out some better code. \n",
    "def find_this(t, x):\n",
    "    w = 0    \n",
    "    sent_stop = []\n",
    "    while w <= ratio:\n",
    "        w = df_novel['total_char'][t:x].sum()\n",
    "        sent_stop.append(x)\n",
    "        x += 1\n",
    "    return max(sent_stop)     "
   ]
  },
  {
   "cell_type": "code",
   "execution_count": 74,
   "metadata": {
    "collapsed": false
   },
   "outputs": [
    {
     "name": "stdout",
     "output_type": "stream",
     "text": [
      "df_novel['total_char'][0:428]\n",
      "df_novel['total_char'][428:817]\n",
      "df_novel['total_char'][817:1205]\n",
      "df_novel['total_char'][1205:1614]\n",
      "df_novel['total_char'][1614:1969]\n",
      "df_novel['total_char'][1969:2310]\n",
      "df_novel['total_char'][2310:2652]\n",
      "df_novel['total_char'][2652:2984]\n",
      "df_novel['total_char'][2984:3325]\n",
      "df_novel['total_char'][3325:3736]\n",
      "df_novel['total_char'][3736:4134]\n",
      "df_novel['total_char'][4134:4513]\n",
      "df_novel['total_char'][4513:4939]\n",
      "df_novel['total_char'][4939:5334]\n",
      "df_novel['total_char'][5334:5781]\n",
      "df_novel['total_char'][5781:6159]\n",
      "df_novel['total_char'][6159:6457]\n",
      "df_novel['total_char'][6457:6797]\n",
      "df_novel['total_char'][6797:7148]\n",
      "df_novel['total_char'][7148:7512]\n"
     ]
    }
   ],
   "source": [
    "t = 0\n",
    "x = 0\n",
    "start_point = []\n",
    "stop_point = []\n",
    "for n in range(1, 21):\n",
    "    s = find_this(t, x)\n",
    "    print \"df_novel['total_char'][%s:%s]\" %(t, s)\n",
    "    start_point.append(t)\n",
    "    stop_point.append(s)\n",
    "    t = s\n",
    "    x = s + 1      "
   ]
  },
  {
   "cell_type": "code",
   "execution_count": 75,
   "metadata": {
    "collapsed": false
   },
   "outputs": [
    {
     "name": "stdout",
     "output_type": "stream",
     "text": [
      "0\n",
      "428\n",
      "0.111907476034\n",
      "428\n",
      "817\n",
      "0.145669904371\n",
      "817\n",
      "1205\n",
      "0.165901256701\n",
      "1205\n",
      "1614\n",
      "0.145599614958\n",
      "1614\n",
      "1969\n",
      "0.137305547874\n",
      "1969\n",
      "2310\n",
      "0.140512718729\n",
      "2310\n",
      "2652\n",
      "0.169517152578\n",
      "2652\n",
      "2984\n",
      "0.163110134239\n",
      "2984\n",
      "3325\n",
      "0.150091196263\n",
      "3325\n",
      "3736\n",
      "0.159102663604\n",
      "3736\n",
      "4134\n",
      "0.143652568224\n",
      "4134\n",
      "4513\n",
      "0.153976586722\n",
      "4513\n",
      "4939\n",
      "0.157790702784\n",
      "4939\n",
      "5334\n",
      "0.140812802765\n",
      "5334\n",
      "5781\n",
      "0.114262534535\n",
      "5781\n",
      "6159\n",
      "0.133966238662\n",
      "6159\n",
      "6457\n",
      "0.189971106234\n",
      "6457\n",
      "6797\n",
      "0.182211340951\n",
      "6797\n",
      "7148\n",
      "0.155745577244\n",
      "7148\n",
      "7512\n",
      "0.104732651331\n"
     ]
    }
   ],
   "source": [
    "twenty_piece_char = []\n",
    "st = 0\n",
    "for l in start_point: \n",
    "    strt = start_point[st]\n",
    "    stp = stop_point[st]\n",
    "    print strt\n",
    "    print stp\n",
    "    mn = df_novel['sentiment'][strt:stp].mean()\n",
    "    twenty_piece_char.append(mn)\n",
    "    print mn\n",
    "    st +=1   "
   ]
  },
  {
   "cell_type": "code",
   "execution_count": 76,
   "metadata": {
    "collapsed": false
   },
   "outputs": [
    {
     "name": "stdout",
     "output_type": "stream",
     "text": [
      "[ 0.11190748  0.1456699   0.16590126  0.14559961  0.13730555  0.14051272\n",
      "  0.16951715  0.16311013  0.1500912   0.15910266  0.14365257  0.15397659\n",
      "  0.1577907   0.1408128   0.11426253  0.13396624  0.18997111  0.18221134\n",
      "  0.15574558  0.10473265]\n"
     ]
    }
   ],
   "source": [
    "n = np.array(n)\n",
    "twenty_piece_char = np.array(twenty_piece_char)\n",
    "print twenty_piece_char"
   ]
  },
  {
   "cell_type": "code",
   "execution_count": 77,
   "metadata": {
    "collapsed": false
   },
   "outputs": [
    {
     "data": {
      "image/png": "[encoded data removed]",
      "text/plain": [
       "<matplotlib.figure.Figure at 0x11ef95410>"
      ]
     },
     "metadata": {},
     "output_type": "display_data"
    }
   ],
   "source": [
    "plt.bar(range(20), twenty_piece_char)\n",
    "plt.ylabel('sentiment')\n",
    "plt.show()"
   ]
  },
  {
   "cell_type": "markdown",
   "metadata": {},
   "source": [
    "Create 3 piece sentiment pattern - need to fix this code for the three piece"
   ]
  },
  {
   "cell_type": "code",
   "execution_count": 78,
   "metadata": {
    "collapsed": false
   },
   "outputs": [
    {
     "data": {
      "text/html": [
       "<div>\n",
       "<table border=\"1\" class=\"dataframe\">\n",
       "  <thead>\n",
       "    <tr style=\"text-align: right;\">\n",
       "      <th></th>\n",
       "      <th>0</th>\n",
       "      <th>wrd_length</th>\n",
       "      <th>total_char</th>\n",
       "      <th>syl_count</th>\n",
       "      <th>syl_sum</th>\n",
       "      <th>sentiment</th>\n",
       "      <th>cluster_20</th>\n",
       "      <th>cluster_3_syl</th>\n",
       "      <th>cluster_3no_syl</th>\n",
       "      <th>cluster_5</th>\n",
       "    </tr>\n",
       "  </thead>\n",
       "  <tbody>\n",
       "    <tr>\n",
       "      <th>7570</th>\n",
       "      <td>At the third time I shall suck thy breasts wit...</td>\n",
       "      <td>[2, 3, 5, 4, 1, 5, 4, 3, 7, 4, 4, 7, 4, 3, 4, ...</td>\n",
       "      <td>159</td>\n",
       "      <td>[1, 1, 1, 1, 1, 1, 1, 1, 2, 1, 1, 2, 1, 1, 0, ...</td>\n",
       "      <td>52</td>\n",
       "      <td>-0.025</td>\n",
       "      <td>8</td>\n",
       "      <td>1</td>\n",
       "      <td>2</td>\n",
       "      <td>0</td>\n",
       "    </tr>\n",
       "    <tr>\n",
       "      <th>7571</th>\n",
       "      <td>That will last until half-past two o'clock, th...</td>\n",
       "      <td>[4, 4, 4, 5, 9, 3, 7, 4, 2, 5, 5, 8, 4, 5, 5, ...</td>\n",
       "      <td>153</td>\n",
       "      <td>[1, 1, 1, 2, 2, 1, 2, 1, 1, 1, 1, 3, 1, 2, 1, ...</td>\n",
       "      <td>47</td>\n",
       "      <td>0.000</td>\n",
       "      <td>8</td>\n",
       "      <td>1</td>\n",
       "      <td>0</td>\n",
       "      <td>0</td>\n",
       "    </tr>\n",
       "    <tr>\n",
       "      <th>7572</th>\n",
       "      <td>Behold, the following part shall come to you i...</td>\n",
       "      <td>[6, 3, 9, 4, 5, 4, 2, 3, 2, 3, 12, 7, 3]</td>\n",
       "      <td>63</td>\n",
       "      <td>[2, 1, 3, 1, 1, 1, 1, 1, 1, 1, 4, 2, 1]</td>\n",
       "      <td>20</td>\n",
       "      <td>0.000</td>\n",
       "      <td>6</td>\n",
       "      <td>0</td>\n",
       "      <td>0</td>\n",
       "      <td>4</td>\n",
       "    </tr>\n",
       "    <tr>\n",
       "      <th>7573</th>\n",
       "      <td>Mem.</td>\n",
       "      <td>[3]</td>\n",
       "      <td>3</td>\n",
       "      <td>[1]</td>\n",
       "      <td>1</td>\n",
       "      <td>0.000</td>\n",
       "      <td>1</td>\n",
       "      <td>0</td>\n",
       "      <td>0</td>\n",
       "      <td>4</td>\n",
       "    </tr>\n",
       "    <tr>\n",
       "      <th>7574</th>\n",
       "      <td>The commission herein is returnable in Paris, ...</td>\n",
       "      <td>[3, 10, 6, 2, 10, 2, 5, 4, 4, 4]</td>\n",
       "      <td>50</td>\n",
       "      <td>[1, 3, 2, 1, 3, 1, 2, 0, 1, 0]</td>\n",
       "      <td>14</td>\n",
       "      <td>0.000</td>\n",
       "      <td>6</td>\n",
       "      <td>0</td>\n",
       "      <td>0</td>\n",
       "      <td>4</td>\n",
       "    </tr>\n",
       "  </tbody>\n",
       "</table>\n",
       "</div>"
      ],
      "text/plain": [
       "                                                      0  \\\n",
       "7570  At the third time I shall suck thy breasts wit...   \n",
       "7571  That will last until half-past two o'clock, th...   \n",
       "7572  Behold, the following part shall come to you i...   \n",
       "7573                                               Mem.   \n",
       "7574  The commission herein is returnable in Paris, ...   \n",
       "\n",
       "                                             wrd_length  total_char  \\\n",
       "7570  [2, 3, 5, 4, 1, 5, 4, 3, 7, 4, 4, 7, 4, 3, 4, ...         159   \n",
       "7571  [4, 4, 4, 5, 9, 3, 7, 4, 2, 5, 5, 8, 4, 5, 5, ...         153   \n",
       "7572           [6, 3, 9, 4, 5, 4, 2, 3, 2, 3, 12, 7, 3]          63   \n",
       "7573                                                [3]           3   \n",
       "7574                   [3, 10, 6, 2, 10, 2, 5, 4, 4, 4]          50   \n",
       "\n",
       "                                              syl_count  syl_sum  sentiment  \\\n",
       "7570  [1, 1, 1, 1, 1, 1, 1, 1, 2, 1, 1, 2, 1, 1, 0, ...       52     -0.025   \n",
       "7571  [1, 1, 1, 2, 2, 1, 2, 1, 1, 1, 1, 3, 1, 2, 1, ...       47      0.000   \n",
       "7572            [2, 1, 3, 1, 1, 1, 1, 1, 1, 1, 4, 2, 1]       20      0.000   \n",
       "7573                                                [1]        1      0.000   \n",
       "7574                     [1, 3, 2, 1, 3, 1, 2, 0, 1, 0]       14      0.000   \n",
       "\n",
       "      cluster_20  cluster_3_syl  cluster_3no_syl  cluster_5  \n",
       "7570           8              1                2          0  \n",
       "7571           8              1                0          0  \n",
       "7572           6              0                0          4  \n",
       "7573           1              0                0          4  \n",
       "7574           6              0                0          4  "
      ]
     },
     "execution_count": 78,
     "metadata": {},
     "output_type": "execute_result"
    }
   ],
   "source": [
    "df_novel.tail()"
   ]
  },
  {
   "cell_type": "code",
   "execution_count": 79,
   "metadata": {
    "collapsed": true
   },
   "outputs": [],
   "source": [
    "t = 0\n",
    "x = 0\n",
    "ratio = (df_novel['total_char'].sum()/3) - (.06 * (int(len(df_novel) - 1)))\n",
    "def find_this(t, x):\n",
    "    w = 0    \n",
    "    sent_stop = []\n",
    "    while w < ratio:\n",
    "        w = df_novel['total_char'][t:x].sum()\n",
    "        sent_stop.append(x)\n",
    "        x += 1\n",
    "    return max(sent_stop)  "
   ]
  },
  {
   "cell_type": "code",
   "execution_count": 80,
   "metadata": {
    "collapsed": false
   },
   "outputs": [
    {
     "name": "stdout",
     "output_type": "stream",
     "text": [
      "df_novel['total_char'][0:2561]\n",
      "df_novel['total_char'][2561:5103]\n",
      "df_novel['total_char'][5103:7564]\n"
     ]
    }
   ],
   "source": [
    "t = 0\n",
    "x = 0\n",
    "start_point = []\n",
    "stop_point = []\n",
    "for n in range(0, 3):\n",
    "    s = find_this(t, x)\n",
    "    print \"df_novel['total_char'][%s:%s]\" %(t, s)\n",
    "    start_point.append(t)\n",
    "    stop_point.append(s)\n",
    "    t = s\n",
    "    x = s + 1  "
   ]
  },
  {
   "cell_type": "code",
   "execution_count": 81,
   "metadata": {
    "collapsed": false
   },
   "outputs": [
    {
     "name": "stdout",
     "output_type": "stream",
     "text": [
      "0\n",
      "2561\n",
      "0.141690336057\n",
      "2561\n",
      "5103\n",
      "0.156835186166\n",
      "5103\n",
      "7564\n",
      "0.143076556235\n"
     ]
    }
   ],
   "source": [
    "three_piece_char = []\n",
    "st = 0\n",
    "for l in start_point: \n",
    "    strt = start_point[st]\n",
    "    stp = stop_point[st]\n",
    "    print strt\n",
    "    print stp\n",
    "    mn = df_novel['sentiment'][strt:stp].mean()\n",
    "    three_piece_char.append(mn)\n",
    "    print mn\n",
    "    st +=1"
   ]
  },
  {
   "cell_type": "code",
   "execution_count": 82,
   "metadata": {
    "collapsed": false
   },
   "outputs": [
    {
     "name": "stdout",
     "output_type": "stream",
     "text": [
      "[ 0.14169034  0.15683519  0.14307656]\n"
     ]
    }
   ],
   "source": [
    "n = np.array(n)\n",
    "three_piece_char = np.array(three_piece_char)\n",
    "print three_piece_char"
   ]
  },
  {
   "cell_type": "code",
   "execution_count": 83,
   "metadata": {
    "collapsed": false
   },
   "outputs": [
    {
     "data": {
      "image/png": "[encoded data removed]",
      "text/plain": [
       "<matplotlib.figure.Figure at 0x11f659450>"
      ]
     },
     "metadata": {},
     "output_type": "display_data"
    }
   ],
   "source": [
    "plt.bar(range(3), three_piece_char)\n",
    "plt.ylabel('sentiment')\n",
    "plt.show()"
   ]
  },
  {
   "cell_type": "markdown",
   "metadata": {},
   "source": [
    "Create sentiment pattern based on ideal cluster numbers"
   ]
  }
 ],
 "metadata": {
  "kernelspec": {
   "display_name": "Python 2",
   "language": "python",
   "name": "python2"
  },
  "language_info": {
   "codemirror_mode": {
    "name": "ipython",
    "version": 2
   },
   "file_extension": ".py",
   "mimetype": "text/x-python",
   "name": "python",
   "nbconvert_exporter": "python",
   "pygments_lexer": "ipython2",
   "version": "2.7.11"
  }
 },
 "nbformat": 4,
 "nbformat_minor": 0
}
