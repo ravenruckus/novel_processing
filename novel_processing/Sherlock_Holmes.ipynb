{
 "cells": [
  {
   "cell_type": "code",
   "execution_count": 1,
   "metadata": {
    "collapsed": true
   },
   "outputs": [],
   "source": [
    "import pandas as pd\n",
    "from textblob import TextBlob\n",
    "import csv\n",
    "from gutenberg.acquire import load_etext\n",
    "from gutenberg.cleanup import strip_headers\n",
    "import os\n",
    "import numpy as np"
   ]
  },
  {
   "cell_type": "code",
   "execution_count": 2,
   "metadata": {
    "collapsed": true
   },
   "outputs": [],
   "source": [
    "import seaborn as sns\n",
    "import matplotlib.pyplot as plt\n",
    "%matplotlib inline\n",
    "plt.rcParams['figure.figsize'] = (8, 6)\n",
    "plt.rcParams['font.size'] = 14"
   ]
  },
  {
   "cell_type": "markdown",
   "metadata": {},
   "source": [
    "Create the novel variables"
   ]
  },
  {
   "cell_type": "code",
   "execution_count": 3,
   "metadata": {
    "collapsed": true
   },
   "outputs": [],
   "source": [
    "n = 1661 #novel number\n",
    "t = 'Sherlock'#novel name\n",
    "s = 1 #how many rows to skip"
   ]
  },
  {
   "cell_type": "markdown",
   "metadata": {},
   "source": [
    "* Get the novels from Gutenberg.\n",
    "* Strip them of unwanted information.\n",
    "* Tokenize the text into sentences."
   ]
  },
  {
   "cell_type": "code",
   "execution_count": 4,
   "metadata": {
    "collapsed": true
   },
   "outputs": [],
   "source": [
    "novel = strip_headers(load_etext(n))\n",
    "novel = novel.replace('\\n', ' ')\n",
    "novel= TextBlob(novel)\n",
    "novel_sentences = novel.sentences\n",
    "novel_title = t"
   ]
  },
  {
   "cell_type": "markdown",
   "metadata": {},
   "source": [
    "Write the sentences to a csv file. \n",
    "-There is a bug I haven't figure out yet that requires me to write to csv twice to avoid errors."
   ]
  },
  {
   "cell_type": "code",
   "execution_count": 5,
   "metadata": {
    "collapsed": true
   },
   "outputs": [],
   "source": [
    "for l in range(2):\n",
    "    novelWriter = csv.writer(open('data/novel_'+novel_title+'.csv', 'w'), delimiter=',')\n",
    "    for sentence in novel_sentences:\n",
    "        novelWriter.writerow([sentence])"
   ]
  },
  {
   "cell_type": "markdown",
   "metadata": {},
   "source": [
    "Read in the csv file to pandas"
   ]
  },
  {
   "cell_type": "code",
   "execution_count": 6,
   "metadata": {
    "collapsed": true
   },
   "outputs": [],
   "source": [
    "df_novel = pd.read_csv('data/novel_'+novel_title+'.csv', skiprows = s, header=None)"
   ]
  },
  {
   "cell_type": "code",
   "execution_count": 7,
   "metadata": {
    "collapsed": false
   },
   "outputs": [
    {
     "data": {
      "text/html": [
       "<div>\n",
       "<table border=\"1\" class=\"dataframe\">\n",
       "  <thead>\n",
       "    <tr style=\"text-align: right;\">\n",
       "      <th></th>\n",
       "      <th>0</th>\n",
       "    </tr>\n",
       "  </thead>\n",
       "  <tbody>\n",
       "    <tr>\n",
       "      <th>0</th>\n",
       "      <td>A Scandal in Bohemia   II.</td>\n",
       "    </tr>\n",
       "    <tr>\n",
       "      <th>1</th>\n",
       "      <td>The Red-headed League  III.</td>\n",
       "    </tr>\n",
       "    <tr>\n",
       "      <th>2</th>\n",
       "      <td>A Case of Identity   IV.</td>\n",
       "    </tr>\n",
       "    <tr>\n",
       "      <th>3</th>\n",
       "      <td>The Boscombe Valley Mystery    V. The Five Ora...</td>\n",
       "    </tr>\n",
       "    <tr>\n",
       "      <th>4</th>\n",
       "      <td>The Man with the Twisted Lip  VII.</td>\n",
       "    </tr>\n",
       "  </tbody>\n",
       "</table>\n",
       "</div>"
      ],
      "text/plain": [
       "                                                   0\n",
       "0                         A Scandal in Bohemia   II.\n",
       "1                        The Red-headed League  III.\n",
       "2                           A Case of Identity   IV.\n",
       "3  The Boscombe Valley Mystery    V. The Five Ora...\n",
       "4                 The Man with the Twisted Lip  VII."
      ]
     },
     "execution_count": 7,
     "metadata": {},
     "output_type": "execute_result"
    }
   ],
   "source": [
    "df_novel.head()"
   ]
  },
  {
   "cell_type": "markdown",
   "metadata": {},
   "source": [
    "Create the wrd_length and total_char columns."
   ]
  },
  {
   "cell_type": "code",
   "execution_count": 8,
   "metadata": {
    "collapsed": true
   },
   "outputs": [],
   "source": [
    "wrd_length = []\n",
    "total_char = []\n",
    "def wrd_char_counts(sentence):\n",
    "    total_chars = 0\n",
    "    wrd_counts = []\n",
    "    for word in sentence:\n",
    "        char_count = len(word)\n",
    "        wrd_counts.append(char_count)\n",
    "        total_chars += char_count\n",
    "    total_char.append(total_chars)\n",
    "    wrd_length.append(wrd_counts)"
   ]
  },
  {
   "cell_type": "code",
   "execution_count": 9,
   "metadata": {
    "collapsed": true
   },
   "outputs": [],
   "source": [
    "for l in df_novel[0]:\n",
    "    sent = TextBlob(l)\n",
    "    wrd_char_counts(sent.words)"
   ]
  },
  {
   "cell_type": "code",
   "execution_count": 10,
   "metadata": {
    "collapsed": true
   },
   "outputs": [],
   "source": [
    "df_novel['wrd_length'] = wrd_length\n",
    "df_novel['total_char'] = total_char"
   ]
  },
  {
   "cell_type": "code",
   "execution_count": 11,
   "metadata": {
    "collapsed": false
   },
   "outputs": [
    {
     "data": {
      "text/html": [
       "<div>\n",
       "<table border=\"1\" class=\"dataframe\">\n",
       "  <thead>\n",
       "    <tr style=\"text-align: right;\">\n",
       "      <th></th>\n",
       "      <th>0</th>\n",
       "      <th>wrd_length</th>\n",
       "      <th>total_char</th>\n",
       "    </tr>\n",
       "  </thead>\n",
       "  <tbody>\n",
       "    <tr>\n",
       "      <th>0</th>\n",
       "      <td>A Scandal in Bohemia   II.</td>\n",
       "      <td>[1, 7, 2, 7, 2]</td>\n",
       "      <td>19</td>\n",
       "    </tr>\n",
       "    <tr>\n",
       "      <th>1</th>\n",
       "      <td>The Red-headed League  III.</td>\n",
       "      <td>[3, 10, 6, 3]</td>\n",
       "      <td>22</td>\n",
       "    </tr>\n",
       "    <tr>\n",
       "      <th>2</th>\n",
       "      <td>A Case of Identity   IV.</td>\n",
       "      <td>[1, 4, 2, 8, 2]</td>\n",
       "      <td>17</td>\n",
       "    </tr>\n",
       "    <tr>\n",
       "      <th>3</th>\n",
       "      <td>The Boscombe Valley Mystery    V. The Five Ora...</td>\n",
       "      <td>[3, 8, 6, 7, 1, 3, 4, 6, 4, 2]</td>\n",
       "      <td>44</td>\n",
       "    </tr>\n",
       "    <tr>\n",
       "      <th>4</th>\n",
       "      <td>The Man with the Twisted Lip  VII.</td>\n",
       "      <td>[3, 3, 4, 3, 7, 3, 3]</td>\n",
       "      <td>26</td>\n",
       "    </tr>\n",
       "  </tbody>\n",
       "</table>\n",
       "</div>"
      ],
      "text/plain": [
       "                                                   0  \\\n",
       "0                         A Scandal in Bohemia   II.   \n",
       "1                        The Red-headed League  III.   \n",
       "2                           A Case of Identity   IV.   \n",
       "3  The Boscombe Valley Mystery    V. The Five Ora...   \n",
       "4                 The Man with the Twisted Lip  VII.   \n",
       "\n",
       "                       wrd_length  total_char  \n",
       "0                 [1, 7, 2, 7, 2]          19  \n",
       "1                   [3, 10, 6, 3]          22  \n",
       "2                 [1, 4, 2, 8, 2]          17  \n",
       "3  [3, 8, 6, 7, 1, 3, 4, 6, 4, 2]          44  \n",
       "4           [3, 3, 4, 3, 7, 3, 3]          26  "
      ]
     },
     "execution_count": 11,
     "metadata": {},
     "output_type": "execute_result"
    }
   ],
   "source": [
    "df_novel.head()"
   ]
  },
  {
   "cell_type": "markdown",
   "metadata": {},
   "source": [
    "Create syllable count column"
   ]
  },
  {
   "cell_type": "code",
   "execution_count": 12,
   "metadata": {
    "collapsed": true
   },
   "outputs": [],
   "source": [
    "def CountSyllables(word, isName=True):\n",
    "    vowels = \"aeiouy\"\n",
    "    #single syllables in words like bread and lead, but split in names like Breanne and Adreann\n",
    "    specials = [\"ia\",\"ea\"] if isName else [\"ia\"]\n",
    "    specials_except_end = [\"ie\",\"ya\",\"es\",\"ed\"]  #seperate syllables unless ending the word\n",
    "    currentWord = word.lower()\n",
    "    numVowels = 0\n",
    "    lastWasVowel = False\n",
    "    last_letter = \"\"\n",
    "\n",
    "    for letter in currentWord:\n",
    "        if letter in vowels:\n",
    "            #don't count diphthongs unless special cases\n",
    "            combo = last_letter+letter\n",
    "            if lastWasVowel and combo not in specials and combo not in specials_except_end:\n",
    "                lastWasVowel = True\n",
    "            else:\n",
    "                numVowels += 1\n",
    "                lastWasVowel = True\n",
    "        else:\n",
    "            lastWasVowel = False\n",
    "\n",
    "        last_letter = letter\n",
    "\n",
    "    #remove es & ed which are usually silent\n",
    "    if len(currentWord) > 2 and currentWord[-2:] in specials_except_end:\n",
    "        numVowels -= 1\n",
    "\n",
    "    #remove silent single e, but not ee since it counted it before and we should be correct\n",
    "    elif len(currentWord) > 2 and currentWord[-1:] == \"e\" and currentWord[-2:] != \"ee\" and currentWord != 'the':\n",
    "        numVowels -= 1\n",
    "\n",
    "    return numVowels"
   ]
  },
  {
   "cell_type": "code",
   "execution_count": 13,
   "metadata": {
    "collapsed": true
   },
   "outputs": [],
   "source": [
    "syl = []\n",
    "for l in df_novel[0]:\n",
    "    sent = TextBlob(l)\n",
    "    syl_single = []\n",
    "    for x in sent.words:\n",
    "        m = CountSyllables(x)\n",
    "        syl_single.append(m)\n",
    "    syl.append(syl_single)  "
   ]
  },
  {
   "cell_type": "code",
   "execution_count": 14,
   "metadata": {
    "collapsed": true
   },
   "outputs": [],
   "source": [
    "syl_count_arr = []\n",
    "for n in syl:\n",
    "    n = np.array(n)\n",
    "    syl_count_arr.append(n)"
   ]
  },
  {
   "cell_type": "code",
   "execution_count": 15,
   "metadata": {
    "collapsed": true
   },
   "outputs": [],
   "source": [
    "df_novel['syl_count'] = syl_count_arr"
   ]
  },
  {
   "cell_type": "code",
   "execution_count": 16,
   "metadata": {
    "collapsed": false
   },
   "outputs": [
    {
     "data": {
      "text/html": [
       "<div>\n",
       "<table border=\"1\" class=\"dataframe\">\n",
       "  <thead>\n",
       "    <tr style=\"text-align: right;\">\n",
       "      <th></th>\n",
       "      <th>0</th>\n",
       "      <th>wrd_length</th>\n",
       "      <th>total_char</th>\n",
       "      <th>syl_count</th>\n",
       "    </tr>\n",
       "  </thead>\n",
       "  <tbody>\n",
       "    <tr>\n",
       "      <th>0</th>\n",
       "      <td>A Scandal in Bohemia   II.</td>\n",
       "      <td>[1, 7, 2, 7, 2]</td>\n",
       "      <td>19</td>\n",
       "      <td>[1, 2, 1, 4, 1]</td>\n",
       "    </tr>\n",
       "    <tr>\n",
       "      <th>1</th>\n",
       "      <td>The Red-headed League  III.</td>\n",
       "      <td>[3, 10, 6, 3]</td>\n",
       "      <td>22</td>\n",
       "      <td>[1, 3, 2, 1]</td>\n",
       "    </tr>\n",
       "    <tr>\n",
       "      <th>2</th>\n",
       "      <td>A Case of Identity   IV.</td>\n",
       "      <td>[1, 4, 2, 8, 2]</td>\n",
       "      <td>17</td>\n",
       "      <td>[1, 1, 1, 4, 1]</td>\n",
       "    </tr>\n",
       "    <tr>\n",
       "      <th>3</th>\n",
       "      <td>The Boscombe Valley Mystery    V. The Five Ora...</td>\n",
       "      <td>[3, 8, 6, 7, 1, 3, 4, 6, 4, 2]</td>\n",
       "      <td>44</td>\n",
       "      <td>[1, 2, 2, 3, 0, 1, 1, 2, 1, 1]</td>\n",
       "    </tr>\n",
       "    <tr>\n",
       "      <th>4</th>\n",
       "      <td>The Man with the Twisted Lip  VII.</td>\n",
       "      <td>[3, 3, 4, 3, 7, 3, 3]</td>\n",
       "      <td>26</td>\n",
       "      <td>[1, 1, 1, 1, 1, 1, 1]</td>\n",
       "    </tr>\n",
       "  </tbody>\n",
       "</table>\n",
       "</div>"
      ],
      "text/plain": [
       "                                                   0  \\\n",
       "0                         A Scandal in Bohemia   II.   \n",
       "1                        The Red-headed League  III.   \n",
       "2                           A Case of Identity   IV.   \n",
       "3  The Boscombe Valley Mystery    V. The Five Ora...   \n",
       "4                 The Man with the Twisted Lip  VII.   \n",
       "\n",
       "                       wrd_length  total_char                       syl_count  \n",
       "0                 [1, 7, 2, 7, 2]          19                 [1, 2, 1, 4, 1]  \n",
       "1                   [3, 10, 6, 3]          22                    [1, 3, 2, 1]  \n",
       "2                 [1, 4, 2, 8, 2]          17                 [1, 1, 1, 4, 1]  \n",
       "3  [3, 8, 6, 7, 1, 3, 4, 6, 4, 2]          44  [1, 2, 2, 3, 0, 1, 1, 2, 1, 1]  \n",
       "4           [3, 3, 4, 3, 7, 3, 3]          26           [1, 1, 1, 1, 1, 1, 1]  "
      ]
     },
     "execution_count": 16,
     "metadata": {},
     "output_type": "execute_result"
    }
   ],
   "source": [
    "df_novel.head()"
   ]
  },
  {
   "cell_type": "code",
   "execution_count": 17,
   "metadata": {
    "collapsed": true
   },
   "outputs": [],
   "source": [
    "#If novel has a lot of numbers for chapter headings.\n",
    "#d = df_novel[df_novel['total_char']<=2]"
   ]
  },
  {
   "cell_type": "markdown",
   "metadata": {},
   "source": [
    "Create syllable sum column"
   ]
  },
  {
   "cell_type": "code",
   "execution_count": 18,
   "metadata": {
    "collapsed": true
   },
   "outputs": [],
   "source": [
    "syl_sum = []\n",
    "for l in range(0,len(df_novel)):\n",
    "    syl_sum.append(df_novel['syl_count'][l].sum())"
   ]
  },
  {
   "cell_type": "code",
   "execution_count": 19,
   "metadata": {
    "collapsed": true
   },
   "outputs": [],
   "source": [
    "df_novel['syl_sum'] = syl_sum"
   ]
  },
  {
   "cell_type": "markdown",
   "metadata": {},
   "source": [
    "Create sentiment column"
   ]
  },
  {
   "cell_type": "code",
   "execution_count": 20,
   "metadata": {
    "collapsed": true
   },
   "outputs": [],
   "source": [
    "def detect_sentiment(text):\n",
    "    return TextBlob(text.decode('utf-8')).sentiment.polarity"
   ]
  },
  {
   "cell_type": "code",
   "execution_count": 21,
   "metadata": {
    "collapsed": true
   },
   "outputs": [],
   "source": [
    "df_novel['sentiment'] = df_novel[0].apply(detect_sentiment)"
   ]
  },
  {
   "cell_type": "markdown",
   "metadata": {},
   "source": [
    "Write all columns to csv file"
   ]
  },
  {
   "cell_type": "code",
   "execution_count": 22,
   "metadata": {
    "collapsed": true
   },
   "outputs": [],
   "source": [
    "df_novel.to_csv('data/novel_'+novel_title+'.csv', index=False)"
   ]
  },
  {
   "cell_type": "code",
   "execution_count": 23,
   "metadata": {
    "collapsed": true
   },
   "outputs": [],
   "source": [
    "#test\n",
    "df_test = pd.read_csv('data/novel_'+novel_title+'.csv')"
   ]
  },
  {
   "cell_type": "code",
   "execution_count": 24,
   "metadata": {
    "collapsed": false
   },
   "outputs": [
    {
     "data": {
      "text/html": [
       "<div>\n",
       "<table border=\"1\" class=\"dataframe\">\n",
       "  <thead>\n",
       "    <tr style=\"text-align: right;\">\n",
       "      <th></th>\n",
       "      <th>0</th>\n",
       "      <th>wrd_length</th>\n",
       "      <th>total_char</th>\n",
       "      <th>syl_count</th>\n",
       "      <th>syl_sum</th>\n",
       "      <th>sentiment</th>\n",
       "    </tr>\n",
       "  </thead>\n",
       "  <tbody>\n",
       "    <tr>\n",
       "      <th>0</th>\n",
       "      <td>A Scandal in Bohemia   II.</td>\n",
       "      <td>[1, 7, 2, 7, 2]</td>\n",
       "      <td>19</td>\n",
       "      <td>[1 2 1 4 1]</td>\n",
       "      <td>9</td>\n",
       "      <td>0.0</td>\n",
       "    </tr>\n",
       "    <tr>\n",
       "      <th>1</th>\n",
       "      <td>The Red-headed League  III.</td>\n",
       "      <td>[3, 10, 6, 3]</td>\n",
       "      <td>22</td>\n",
       "      <td>[1 3 2 1]</td>\n",
       "      <td>7</td>\n",
       "      <td>0.0</td>\n",
       "    </tr>\n",
       "    <tr>\n",
       "      <th>2</th>\n",
       "      <td>A Case of Identity   IV.</td>\n",
       "      <td>[1, 4, 2, 8, 2]</td>\n",
       "      <td>17</td>\n",
       "      <td>[1 1 1 4 1]</td>\n",
       "      <td>8</td>\n",
       "      <td>0.0</td>\n",
       "    </tr>\n",
       "    <tr>\n",
       "      <th>3</th>\n",
       "      <td>The Boscombe Valley Mystery    V. The Five Ora...</td>\n",
       "      <td>[3, 8, 6, 7, 1, 3, 4, 6, 4, 2]</td>\n",
       "      <td>44</td>\n",
       "      <td>[1 2 2 3 0 1 1 2 1 1]</td>\n",
       "      <td>14</td>\n",
       "      <td>0.0</td>\n",
       "    </tr>\n",
       "    <tr>\n",
       "      <th>4</th>\n",
       "      <td>The Man with the Twisted Lip  VII.</td>\n",
       "      <td>[3, 3, 4, 3, 7, 3, 3]</td>\n",
       "      <td>26</td>\n",
       "      <td>[1 1 1 1 1 1 1]</td>\n",
       "      <td>7</td>\n",
       "      <td>-0.5</td>\n",
       "    </tr>\n",
       "  </tbody>\n",
       "</table>\n",
       "</div>"
      ],
      "text/plain": [
       "                                                   0  \\\n",
       "0                         A Scandal in Bohemia   II.   \n",
       "1                        The Red-headed League  III.   \n",
       "2                           A Case of Identity   IV.   \n",
       "3  The Boscombe Valley Mystery    V. The Five Ora...   \n",
       "4                 The Man with the Twisted Lip  VII.   \n",
       "\n",
       "                       wrd_length  total_char              syl_count  syl_sum  \\\n",
       "0                 [1, 7, 2, 7, 2]          19            [1 2 1 4 1]        9   \n",
       "1                   [3, 10, 6, 3]          22              [1 3 2 1]        7   \n",
       "2                 [1, 4, 2, 8, 2]          17            [1 1 1 4 1]        8   \n",
       "3  [3, 8, 6, 7, 1, 3, 4, 6, 4, 2]          44  [1 2 2 3 0 1 1 2 1 1]       14   \n",
       "4           [3, 3, 4, 3, 7, 3, 3]          26        [1 1 1 1 1 1 1]        7   \n",
       "\n",
       "   sentiment  \n",
       "0        0.0  \n",
       "1        0.0  \n",
       "2        0.0  \n",
       "3        0.0  \n",
       "4       -0.5  "
      ]
     },
     "execution_count": 24,
     "metadata": {},
     "output_type": "execute_result"
    }
   ],
   "source": [
    "df_test.head()"
   ]
  },
  {
   "cell_type": "markdown",
   "metadata": {},
   "source": [
    "Create cluster dataframe - remove columns that can't be used"
   ]
  },
  {
   "cell_type": "code",
   "execution_count": 25,
   "metadata": {
    "collapsed": true
   },
   "outputs": [],
   "source": [
    "df_cluster = df_novel.drop('wrd_length', 1)"
   ]
  },
  {
   "cell_type": "code",
   "execution_count": 26,
   "metadata": {
    "collapsed": true
   },
   "outputs": [],
   "source": [
    "df_cluster = df_cluster.drop('syl_count', 1)"
   ]
  },
  {
   "cell_type": "code",
   "execution_count": 27,
   "metadata": {
    "collapsed": false
   },
   "outputs": [
    {
     "data": {
      "text/html": [
       "<div>\n",
       "<table border=\"1\" class=\"dataframe\">\n",
       "  <thead>\n",
       "    <tr style=\"text-align: right;\">\n",
       "      <th></th>\n",
       "      <th>0</th>\n",
       "      <th>total_char</th>\n",
       "      <th>syl_sum</th>\n",
       "      <th>sentiment</th>\n",
       "    </tr>\n",
       "  </thead>\n",
       "  <tbody>\n",
       "    <tr>\n",
       "      <th>0</th>\n",
       "      <td>A Scandal in Bohemia   II.</td>\n",
       "      <td>19</td>\n",
       "      <td>9</td>\n",
       "      <td>0.0</td>\n",
       "    </tr>\n",
       "    <tr>\n",
       "      <th>1</th>\n",
       "      <td>The Red-headed League  III.</td>\n",
       "      <td>22</td>\n",
       "      <td>7</td>\n",
       "      <td>0.0</td>\n",
       "    </tr>\n",
       "    <tr>\n",
       "      <th>2</th>\n",
       "      <td>A Case of Identity   IV.</td>\n",
       "      <td>17</td>\n",
       "      <td>8</td>\n",
       "      <td>0.0</td>\n",
       "    </tr>\n",
       "    <tr>\n",
       "      <th>3</th>\n",
       "      <td>The Boscombe Valley Mystery    V. The Five Ora...</td>\n",
       "      <td>44</td>\n",
       "      <td>14</td>\n",
       "      <td>0.0</td>\n",
       "    </tr>\n",
       "    <tr>\n",
       "      <th>4</th>\n",
       "      <td>The Man with the Twisted Lip  VII.</td>\n",
       "      <td>26</td>\n",
       "      <td>7</td>\n",
       "      <td>-0.5</td>\n",
       "    </tr>\n",
       "  </tbody>\n",
       "</table>\n",
       "</div>"
      ],
      "text/plain": [
       "                                                   0  total_char  syl_sum  \\\n",
       "0                         A Scandal in Bohemia   II.          19        9   \n",
       "1                        The Red-headed League  III.          22        7   \n",
       "2                           A Case of Identity   IV.          17        8   \n",
       "3  The Boscombe Valley Mystery    V. The Five Ora...          44       14   \n",
       "4                 The Man with the Twisted Lip  VII.          26        7   \n",
       "\n",
       "   sentiment  \n",
       "0        0.0  \n",
       "1        0.0  \n",
       "2        0.0  \n",
       "3        0.0  \n",
       "4       -0.5  "
      ]
     },
     "execution_count": 27,
     "metadata": {},
     "output_type": "execute_result"
    }
   ],
   "source": [
    "df_cluster.head()"
   ]
  },
  {
   "cell_type": "markdown",
   "metadata": {},
   "source": [
    "Create 20 clusters on scaled data"
   ]
  },
  {
   "cell_type": "code",
   "execution_count": 28,
   "metadata": {
    "collapsed": true
   },
   "outputs": [],
   "source": [
    "X = df_cluster.drop(0, axis=1)"
   ]
  },
  {
   "cell_type": "code",
   "execution_count": 29,
   "metadata": {
    "collapsed": true
   },
   "outputs": [],
   "source": [
    "from sklearn.cluster import KMeans\n",
    "from sklearn.preprocessing import StandardScaler\n",
    "scaler = StandardScaler()\n",
    "X_scaled = scaler.fit_transform(X)"
   ]
  },
  {
   "cell_type": "code",
   "execution_count": 30,
   "metadata": {
    "collapsed": false
   },
   "outputs": [
    {
     "data": {
      "text/plain": [
       "KMeans(copy_x=True, init='k-means++', max_iter=300, n_clusters=20, n_init=10,\n",
       "    n_jobs=1, precompute_distances='auto', random_state=1, tol=0.0001,\n",
       "    verbose=0)"
      ]
     },
     "execution_count": 30,
     "metadata": {},
     "output_type": "execute_result"
    }
   ],
   "source": [
    "km = KMeans(n_clusters=20, random_state=1)\n",
    "km.fit(X_scaled)"
   ]
  },
  {
   "cell_type": "code",
   "execution_count": 31,
   "metadata": {
    "collapsed": true
   },
   "outputs": [],
   "source": [
    "df_cluster['cluster'] = km.labels_"
   ]
  },
  {
   "cell_type": "code",
   "execution_count": 32,
   "metadata": {
    "collapsed": false
   },
   "outputs": [
    {
     "data": {
      "text/html": [
       "<div>\n",
       "<table border=\"1\" class=\"dataframe\">\n",
       "  <thead>\n",
       "    <tr style=\"text-align: right;\">\n",
       "      <th></th>\n",
       "      <th>total_char</th>\n",
       "      <th>syl_sum</th>\n",
       "      <th>sentiment</th>\n",
       "    </tr>\n",
       "    <tr>\n",
       "      <th>cluster</th>\n",
       "      <th></th>\n",
       "      <th></th>\n",
       "      <th></th>\n",
       "    </tr>\n",
       "  </thead>\n",
       "  <tbody>\n",
       "    <tr>\n",
       "      <th>0</th>\n",
       "      <td>37.049308</td>\n",
       "      <td>11.836505</td>\n",
       "      <td>0.003146</td>\n",
       "    </tr>\n",
       "    <tr>\n",
       "      <th>1</th>\n",
       "      <td>107.688259</td>\n",
       "      <td>34.834008</td>\n",
       "      <td>0.255680</td>\n",
       "    </tr>\n",
       "    <tr>\n",
       "      <th>2</th>\n",
       "      <td>137.847880</td>\n",
       "      <td>43.748130</td>\n",
       "      <td>-0.051447</td>\n",
       "    </tr>\n",
       "    <tr>\n",
       "      <th>3</th>\n",
       "      <td>67.767742</td>\n",
       "      <td>22.032258</td>\n",
       "      <td>0.265237</td>\n",
       "    </tr>\n",
       "    <tr>\n",
       "      <th>4</th>\n",
       "      <td>100.304703</td>\n",
       "      <td>31.944785</td>\n",
       "      <td>0.003402</td>\n",
       "    </tr>\n",
       "    <tr>\n",
       "      <th>5</th>\n",
       "      <td>37.875000</td>\n",
       "      <td>12.538462</td>\n",
       "      <td>-0.533626</td>\n",
       "    </tr>\n",
       "    <tr>\n",
       "      <th>6</th>\n",
       "      <td>65.722798</td>\n",
       "      <td>20.863990</td>\n",
       "      <td>0.003095</td>\n",
       "    </tr>\n",
       "    <tr>\n",
       "      <th>7</th>\n",
       "      <td>31.484536</td>\n",
       "      <td>10.195876</td>\n",
       "      <td>0.851942</td>\n",
       "    </tr>\n",
       "    <tr>\n",
       "      <th>8</th>\n",
       "      <td>88.059259</td>\n",
       "      <td>28.755556</td>\n",
       "      <td>0.610046</td>\n",
       "    </tr>\n",
       "    <tr>\n",
       "      <th>9</th>\n",
       "      <td>247.292135</td>\n",
       "      <td>80.707865</td>\n",
       "      <td>0.080903</td>\n",
       "    </tr>\n",
       "    <tr>\n",
       "      <th>10</th>\n",
       "      <td>81.990323</td>\n",
       "      <td>25.880645</td>\n",
       "      <td>-0.194291</td>\n",
       "    </tr>\n",
       "    <tr>\n",
       "      <th>11</th>\n",
       "      <td>13.731530</td>\n",
       "      <td>4.296834</td>\n",
       "      <td>0.000927</td>\n",
       "    </tr>\n",
       "    <tr>\n",
       "      <th>12</th>\n",
       "      <td>29.913725</td>\n",
       "      <td>9.713725</td>\n",
       "      <td>0.234233</td>\n",
       "    </tr>\n",
       "    <tr>\n",
       "      <th>13</th>\n",
       "      <td>35.779221</td>\n",
       "      <td>11.173160</td>\n",
       "      <td>-0.214765</td>\n",
       "    </tr>\n",
       "    <tr>\n",
       "      <th>14</th>\n",
       "      <td>157.308642</td>\n",
       "      <td>51.209877</td>\n",
       "      <td>0.251773</td>\n",
       "    </tr>\n",
       "    <tr>\n",
       "      <th>15</th>\n",
       "      <td>187.042328</td>\n",
       "      <td>59.777778</td>\n",
       "      <td>-0.026159</td>\n",
       "    </tr>\n",
       "    <tr>\n",
       "      <th>16</th>\n",
       "      <td>33.191964</td>\n",
       "      <td>10.986607</td>\n",
       "      <td>0.500051</td>\n",
       "    </tr>\n",
       "    <tr>\n",
       "      <th>17</th>\n",
       "      <td>109.240506</td>\n",
       "      <td>35.037975</td>\n",
       "      <td>-0.461726</td>\n",
       "    </tr>\n",
       "    <tr>\n",
       "      <th>18</th>\n",
       "      <td>351.187500</td>\n",
       "      <td>114.562500</td>\n",
       "      <td>0.122042</td>\n",
       "    </tr>\n",
       "    <tr>\n",
       "      <th>19</th>\n",
       "      <td>57.833333</td>\n",
       "      <td>18.520833</td>\n",
       "      <td>-0.925538</td>\n",
       "    </tr>\n",
       "  </tbody>\n",
       "</table>\n",
       "</div>"
      ],
      "text/plain": [
       "         total_char     syl_sum  sentiment\n",
       "cluster                                   \n",
       "0         37.049308   11.836505   0.003146\n",
       "1        107.688259   34.834008   0.255680\n",
       "2        137.847880   43.748130  -0.051447\n",
       "3         67.767742   22.032258   0.265237\n",
       "4        100.304703   31.944785   0.003402\n",
       "5         37.875000   12.538462  -0.533626\n",
       "6         65.722798   20.863990   0.003095\n",
       "7         31.484536   10.195876   0.851942\n",
       "8         88.059259   28.755556   0.610046\n",
       "9        247.292135   80.707865   0.080903\n",
       "10        81.990323   25.880645  -0.194291\n",
       "11        13.731530    4.296834   0.000927\n",
       "12        29.913725    9.713725   0.234233\n",
       "13        35.779221   11.173160  -0.214765\n",
       "14       157.308642   51.209877   0.251773\n",
       "15       187.042328   59.777778  -0.026159\n",
       "16        33.191964   10.986607   0.500051\n",
       "17       109.240506   35.037975  -0.461726\n",
       "18       351.187500  114.562500   0.122042\n",
       "19        57.833333   18.520833  -0.925538"
      ]
     },
     "execution_count": 32,
     "metadata": {},
     "output_type": "execute_result"
    }
   ],
   "source": [
    "df_cluster.groupby('cluster').mean()"
   ]
  },
  {
   "cell_type": "code",
   "execution_count": 33,
   "metadata": {
    "collapsed": true
   },
   "outputs": [],
   "source": [
    "centers = df_cluster.groupby('cluster').mean()"
   ]
  },
  {
   "cell_type": "markdown",
   "metadata": {},
   "source": [
    "Create Scatter plot "
   ]
  },
  {
   "cell_type": "code",
   "execution_count": 34,
   "metadata": {
    "collapsed": true
   },
   "outputs": [],
   "source": [
    "colors = np.array(['#0000ff', '#ff00ff', '#39b54a', '#ff0000', '#ffff00', '#000080', '#ff99ff', '#88d392', '#bf0000', '#b4ff33', '#0000bf', '#800080','#1d5b25', '#4d226d', '#2b6855', '#128ab2', '#6666ff', '#a381bd', '#333333','#a0d0e0'])"
   ]
  },
  {
   "cell_type": "code",
   "execution_count": 35,
   "metadata": {
    "collapsed": false
   },
   "outputs": [
    {
     "data": {
      "text/plain": [
       "<matplotlib.text.Text at 0x11aad5c10>"
      ]
     },
     "execution_count": 35,
     "metadata": {},
     "output_type": "execute_result"
    },
    {
     "data": {
      "image/png": "[encoded data removed]",
      "text/plain": [
       "<matplotlib.figure.Figure at 0x11ac38b90>"
      ]
     },
     "metadata": {},
     "output_type": "display_data"
    }
   ],
   "source": [
    "# scatter plot of calories versus alcohol, colored by cluster (0=red, 1=green, 2=blue)\n",
    "plt.scatter(df_cluster.syl_sum, df_cluster.sentiment, c=colors[df_cluster.cluster], s=50)\n",
    "\n",
    "# cluster centers, marked by \"+\"\n",
    "plt.scatter(centers.syl_sum, centers.sentiment, linewidths=3, marker='+', s=300, c='black')\n",
    "\n",
    "# add labels\n",
    "plt.xlabel('syl_sum')\n",
    "plt.ylabel('sentiment')"
   ]
  },
  {
   "cell_type": "markdown",
   "metadata": {},
   "source": [
    "Create 3 clusters"
   ]
  },
  {
   "cell_type": "code",
   "execution_count": 36,
   "metadata": {
    "collapsed": true
   },
   "outputs": [],
   "source": [
    "df_cluster_3 = df_cluster"
   ]
  },
  {
   "cell_type": "code",
   "execution_count": 37,
   "metadata": {
    "collapsed": false
   },
   "outputs": [
    {
     "data": {
      "text/html": [
       "<div>\n",
       "<table border=\"1\" class=\"dataframe\">\n",
       "  <thead>\n",
       "    <tr style=\"text-align: right;\">\n",
       "      <th></th>\n",
       "      <th>0</th>\n",
       "      <th>total_char</th>\n",
       "      <th>syl_sum</th>\n",
       "      <th>sentiment</th>\n",
       "      <th>cluster</th>\n",
       "    </tr>\n",
       "  </thead>\n",
       "  <tbody>\n",
       "    <tr>\n",
       "      <th>0</th>\n",
       "      <td>A Scandal in Bohemia   II.</td>\n",
       "      <td>19</td>\n",
       "      <td>9</td>\n",
       "      <td>0.0</td>\n",
       "      <td>11</td>\n",
       "    </tr>\n",
       "    <tr>\n",
       "      <th>1</th>\n",
       "      <td>The Red-headed League  III.</td>\n",
       "      <td>22</td>\n",
       "      <td>7</td>\n",
       "      <td>0.0</td>\n",
       "      <td>11</td>\n",
       "    </tr>\n",
       "    <tr>\n",
       "      <th>2</th>\n",
       "      <td>A Case of Identity   IV.</td>\n",
       "      <td>17</td>\n",
       "      <td>8</td>\n",
       "      <td>0.0</td>\n",
       "      <td>11</td>\n",
       "    </tr>\n",
       "    <tr>\n",
       "      <th>3</th>\n",
       "      <td>The Boscombe Valley Mystery    V. The Five Ora...</td>\n",
       "      <td>44</td>\n",
       "      <td>14</td>\n",
       "      <td>0.0</td>\n",
       "      <td>0</td>\n",
       "    </tr>\n",
       "    <tr>\n",
       "      <th>4</th>\n",
       "      <td>The Man with the Twisted Lip  VII.</td>\n",
       "      <td>26</td>\n",
       "      <td>7</td>\n",
       "      <td>-0.5</td>\n",
       "      <td>5</td>\n",
       "    </tr>\n",
       "  </tbody>\n",
       "</table>\n",
       "</div>"
      ],
      "text/plain": [
       "                                                   0  total_char  syl_sum  \\\n",
       "0                         A Scandal in Bohemia   II.          19        9   \n",
       "1                        The Red-headed League  III.          22        7   \n",
       "2                           A Case of Identity   IV.          17        8   \n",
       "3  The Boscombe Valley Mystery    V. The Five Ora...          44       14   \n",
       "4                 The Man with the Twisted Lip  VII.          26        7   \n",
       "\n",
       "   sentiment  cluster  \n",
       "0        0.0       11  \n",
       "1        0.0       11  \n",
       "2        0.0       11  \n",
       "3        0.0        0  \n",
       "4       -0.5        5  "
      ]
     },
     "execution_count": 37,
     "metadata": {},
     "output_type": "execute_result"
    }
   ],
   "source": [
    "df_cluster_3.head()"
   ]
  },
  {
   "cell_type": "code",
   "execution_count": 38,
   "metadata": {
    "collapsed": true
   },
   "outputs": [],
   "source": [
    "X = df_cluster_3.drop(0, axis=1)"
   ]
  },
  {
   "cell_type": "code",
   "execution_count": 39,
   "metadata": {
    "collapsed": true
   },
   "outputs": [],
   "source": [
    "scaler = StandardScaler()\n",
    "X_scaled = scaler.fit_transform(X)"
   ]
  },
  {
   "cell_type": "code",
   "execution_count": 40,
   "metadata": {
    "collapsed": false
   },
   "outputs": [
    {
     "data": {
      "text/plain": [
       "KMeans(copy_x=True, init='k-means++', max_iter=300, n_clusters=3, n_init=10,\n",
       "    n_jobs=1, precompute_distances='auto', random_state=1, tol=0.0001,\n",
       "    verbose=0)"
      ]
     },
     "execution_count": 40,
     "metadata": {},
     "output_type": "execute_result"
    }
   ],
   "source": [
    "km = KMeans(n_clusters=3, random_state=1)\n",
    "km.fit(X_scaled)"
   ]
  },
  {
   "cell_type": "code",
   "execution_count": 41,
   "metadata": {
    "collapsed": true
   },
   "outputs": [],
   "source": [
    "df_cluster_3['cluster'] = km.labels_"
   ]
  },
  {
   "cell_type": "code",
   "execution_count": 42,
   "metadata": {
    "collapsed": false
   },
   "outputs": [
    {
     "data": {
      "text/html": [
       "<div>\n",
       "<table border=\"1\" class=\"dataframe\">\n",
       "  <thead>\n",
       "    <tr style=\"text-align: right;\">\n",
       "      <th></th>\n",
       "      <th>total_char</th>\n",
       "      <th>syl_sum</th>\n",
       "      <th>sentiment</th>\n",
       "    </tr>\n",
       "    <tr>\n",
       "      <th>cluster</th>\n",
       "      <th></th>\n",
       "      <th></th>\n",
       "      <th></th>\n",
       "    </tr>\n",
       "  </thead>\n",
       "  <tbody>\n",
       "    <tr>\n",
       "      <th>0</th>\n",
       "      <td>72.637173</td>\n",
       "      <td>23.200000</td>\n",
       "      <td>0.040332</td>\n",
       "    </tr>\n",
       "    <tr>\n",
       "      <th>1</th>\n",
       "      <td>22.716889</td>\n",
       "      <td>7.223977</td>\n",
       "      <td>0.036990</td>\n",
       "    </tr>\n",
       "    <tr>\n",
       "      <th>2</th>\n",
       "      <td>185.304991</td>\n",
       "      <td>59.937153</td>\n",
       "      <td>0.044247</td>\n",
       "    </tr>\n",
       "  </tbody>\n",
       "</table>\n",
       "</div>"
      ],
      "text/plain": [
       "         total_char    syl_sum  sentiment\n",
       "cluster                                  \n",
       "0         72.637173  23.200000   0.040332\n",
       "1         22.716889   7.223977   0.036990\n",
       "2        185.304991  59.937153   0.044247"
      ]
     },
     "execution_count": 42,
     "metadata": {},
     "output_type": "execute_result"
    }
   ],
   "source": [
    "df_cluster_3.groupby('cluster').mean()"
   ]
  },
  {
   "cell_type": "markdown",
   "metadata": {},
   "source": [
    "Create 3 Clusters with no syl_sum"
   ]
  },
  {
   "cell_type": "code",
   "execution_count": 43,
   "metadata": {
    "collapsed": true
   },
   "outputs": [],
   "source": [
    "df_cluster_no_syl = df_cluster"
   ]
  },
  {
   "cell_type": "code",
   "execution_count": 44,
   "metadata": {
    "collapsed": true
   },
   "outputs": [],
   "source": [
    "df_cluster_no_syl = df_cluster.drop('syl_sum', 1)"
   ]
  },
  {
   "cell_type": "code",
   "execution_count": 45,
   "metadata": {
    "collapsed": true
   },
   "outputs": [],
   "source": [
    "X = df_cluster_no_syl.drop(0, axis=1)"
   ]
  },
  {
   "cell_type": "code",
   "execution_count": 46,
   "metadata": {
    "collapsed": true
   },
   "outputs": [],
   "source": [
    "scaler = StandardScaler()\n",
    "X_scaled = scaler.fit_transform(X)"
   ]
  },
  {
   "cell_type": "code",
   "execution_count": 47,
   "metadata": {
    "collapsed": false
   },
   "outputs": [
    {
     "data": {
      "text/plain": [
       "KMeans(copy_x=True, init='k-means++', max_iter=300, n_clusters=3, n_init=10,\n",
       "    n_jobs=1, precompute_distances='auto', random_state=1, tol=0.0001,\n",
       "    verbose=0)"
      ]
     },
     "execution_count": 47,
     "metadata": {},
     "output_type": "execute_result"
    }
   ],
   "source": [
    "km = KMeans(n_clusters=3, random_state=1)\n",
    "km.fit(X_scaled)"
   ]
  },
  {
   "cell_type": "code",
   "execution_count": 48,
   "metadata": {
    "collapsed": true
   },
   "outputs": [],
   "source": [
    "df_cluster_no_syl['cluster'] = km.labels_"
   ]
  },
  {
   "cell_type": "code",
   "execution_count": 49,
   "metadata": {
    "collapsed": false
   },
   "outputs": [
    {
     "data": {
      "text/html": [
       "<div>\n",
       "<table border=\"1\" class=\"dataframe\">\n",
       "  <thead>\n",
       "    <tr style=\"text-align: right;\">\n",
       "      <th></th>\n",
       "      <th>total_char</th>\n",
       "      <th>sentiment</th>\n",
       "    </tr>\n",
       "    <tr>\n",
       "      <th>cluster</th>\n",
       "      <th></th>\n",
       "      <th></th>\n",
       "    </tr>\n",
       "  </thead>\n",
       "  <tbody>\n",
       "    <tr>\n",
       "      <th>0</th>\n",
       "      <td>72.637173</td>\n",
       "      <td>0.040332</td>\n",
       "    </tr>\n",
       "    <tr>\n",
       "      <th>1</th>\n",
       "      <td>22.716889</td>\n",
       "      <td>0.036990</td>\n",
       "    </tr>\n",
       "    <tr>\n",
       "      <th>2</th>\n",
       "      <td>185.304991</td>\n",
       "      <td>0.044247</td>\n",
       "    </tr>\n",
       "  </tbody>\n",
       "</table>\n",
       "</div>"
      ],
      "text/plain": [
       "         total_char  sentiment\n",
       "cluster                       \n",
       "0         72.637173   0.040332\n",
       "1         22.716889   0.036990\n",
       "2        185.304991   0.044247"
      ]
     },
     "execution_count": 49,
     "metadata": {},
     "output_type": "execute_result"
    }
   ],
   "source": [
    "df_cluster_no_syl.groupby('cluster').mean()"
   ]
  },
  {
   "cell_type": "markdown",
   "metadata": {},
   "source": [
    "Create 5 Clusters"
   ]
  },
  {
   "cell_type": "code",
   "execution_count": 50,
   "metadata": {
    "collapsed": true
   },
   "outputs": [],
   "source": [
    "df_cluster_5 = df_cluster"
   ]
  },
  {
   "cell_type": "code",
   "execution_count": 51,
   "metadata": {
    "collapsed": false
   },
   "outputs": [
    {
     "data": {
      "text/html": [
       "<div>\n",
       "<table border=\"1\" class=\"dataframe\">\n",
       "  <thead>\n",
       "    <tr style=\"text-align: right;\">\n",
       "      <th></th>\n",
       "      <th>0</th>\n",
       "      <th>total_char</th>\n",
       "      <th>syl_sum</th>\n",
       "      <th>sentiment</th>\n",
       "      <th>cluster</th>\n",
       "    </tr>\n",
       "  </thead>\n",
       "  <tbody>\n",
       "    <tr>\n",
       "      <th>0</th>\n",
       "      <td>A Scandal in Bohemia   II.</td>\n",
       "      <td>19</td>\n",
       "      <td>9</td>\n",
       "      <td>0.0</td>\n",
       "      <td>1</td>\n",
       "    </tr>\n",
       "    <tr>\n",
       "      <th>1</th>\n",
       "      <td>The Red-headed League  III.</td>\n",
       "      <td>22</td>\n",
       "      <td>7</td>\n",
       "      <td>0.0</td>\n",
       "      <td>1</td>\n",
       "    </tr>\n",
       "    <tr>\n",
       "      <th>2</th>\n",
       "      <td>A Case of Identity   IV.</td>\n",
       "      <td>17</td>\n",
       "      <td>8</td>\n",
       "      <td>0.0</td>\n",
       "      <td>1</td>\n",
       "    </tr>\n",
       "    <tr>\n",
       "      <th>3</th>\n",
       "      <td>The Boscombe Valley Mystery    V. The Five Ora...</td>\n",
       "      <td>44</td>\n",
       "      <td>14</td>\n",
       "      <td>0.0</td>\n",
       "      <td>0</td>\n",
       "    </tr>\n",
       "    <tr>\n",
       "      <th>4</th>\n",
       "      <td>The Man with the Twisted Lip  VII.</td>\n",
       "      <td>26</td>\n",
       "      <td>7</td>\n",
       "      <td>-0.5</td>\n",
       "      <td>1</td>\n",
       "    </tr>\n",
       "  </tbody>\n",
       "</table>\n",
       "</div>"
      ],
      "text/plain": [
       "                                                   0  total_char  syl_sum  \\\n",
       "0                         A Scandal in Bohemia   II.          19        9   \n",
       "1                        The Red-headed League  III.          22        7   \n",
       "2                           A Case of Identity   IV.          17        8   \n",
       "3  The Boscombe Valley Mystery    V. The Five Ora...          44       14   \n",
       "4                 The Man with the Twisted Lip  VII.          26        7   \n",
       "\n",
       "   sentiment  cluster  \n",
       "0        0.0        1  \n",
       "1        0.0        1  \n",
       "2        0.0        1  \n",
       "3        0.0        0  \n",
       "4       -0.5        1  "
      ]
     },
     "execution_count": 51,
     "metadata": {},
     "output_type": "execute_result"
    }
   ],
   "source": [
    "df_cluster_5.head()"
   ]
  },
  {
   "cell_type": "code",
   "execution_count": 52,
   "metadata": {
    "collapsed": true
   },
   "outputs": [],
   "source": [
    "X = df_cluster_5.drop(0, axis=1)"
   ]
  },
  {
   "cell_type": "code",
   "execution_count": 53,
   "metadata": {
    "collapsed": true
   },
   "outputs": [],
   "source": [
    "scaler = StandardScaler()\n",
    "X_scaled = scaler.fit_transform(X)"
   ]
  },
  {
   "cell_type": "code",
   "execution_count": 54,
   "metadata": {
    "collapsed": false
   },
   "outputs": [
    {
     "data": {
      "text/plain": [
       "KMeans(copy_x=True, init='k-means++', max_iter=300, n_clusters=5, n_init=10,\n",
       "    n_jobs=1, precompute_distances='auto', random_state=1, tol=0.0001,\n",
       "    verbose=0)"
      ]
     },
     "execution_count": 54,
     "metadata": {},
     "output_type": "execute_result"
    }
   ],
   "source": [
    "km = KMeans(n_clusters=5, random_state=1)\n",
    "km.fit(X_scaled)"
   ]
  },
  {
   "cell_type": "code",
   "execution_count": 55,
   "metadata": {
    "collapsed": true
   },
   "outputs": [],
   "source": [
    "df_cluster_5['cluster'] = km.labels_"
   ]
  },
  {
   "cell_type": "code",
   "execution_count": 56,
   "metadata": {
    "collapsed": false
   },
   "outputs": [
    {
     "data": {
      "text/html": [
       "<div>\n",
       "<table border=\"1\" class=\"dataframe\">\n",
       "  <thead>\n",
       "    <tr style=\"text-align: right;\">\n",
       "      <th></th>\n",
       "      <th>total_char</th>\n",
       "      <th>syl_sum</th>\n",
       "      <th>sentiment</th>\n",
       "    </tr>\n",
       "    <tr>\n",
       "      <th>cluster</th>\n",
       "      <th></th>\n",
       "      <th></th>\n",
       "      <th></th>\n",
       "    </tr>\n",
       "  </thead>\n",
       "  <tbody>\n",
       "    <tr>\n",
       "      <th>0</th>\n",
       "      <td>20.681927</td>\n",
       "      <td>6.527897</td>\n",
       "      <td>-0.041743</td>\n",
       "    </tr>\n",
       "    <tr>\n",
       "      <th>1</th>\n",
       "      <td>108.202684</td>\n",
       "      <td>34.511299</td>\n",
       "      <td>0.023312</td>\n",
       "    </tr>\n",
       "    <tr>\n",
       "      <th>2</th>\n",
       "      <td>185.453704</td>\n",
       "      <td>59.985185</td>\n",
       "      <td>0.046180</td>\n",
       "    </tr>\n",
       "    <tr>\n",
       "      <th>3</th>\n",
       "      <td>49.703282</td>\n",
       "      <td>15.856427</td>\n",
       "      <td>-0.008931</td>\n",
       "    </tr>\n",
       "    <tr>\n",
       "      <th>4</th>\n",
       "      <td>48.084048</td>\n",
       "      <td>15.691252</td>\n",
       "      <td>0.546339</td>\n",
       "    </tr>\n",
       "  </tbody>\n",
       "</table>\n",
       "</div>"
      ],
      "text/plain": [
       "         total_char    syl_sum  sentiment\n",
       "cluster                                  \n",
       "0         20.681927   6.527897  -0.041743\n",
       "1        108.202684  34.511299   0.023312\n",
       "2        185.453704  59.985185   0.046180\n",
       "3         49.703282  15.856427  -0.008931\n",
       "4         48.084048  15.691252   0.546339"
      ]
     },
     "execution_count": 56,
     "metadata": {},
     "output_type": "execute_result"
    }
   ],
   "source": [
    "df_cluster_5.groupby('cluster').mean()"
   ]
  },
  {
   "cell_type": "markdown",
   "metadata": {},
   "source": [
    "Find ideal amount of clusters for novel"
   ]
  },
  {
   "cell_type": "raw",
   "metadata": {},
   "source": [
    "from sklearn import metrics\n",
    "metrics.silhouette_score(X_scaled, km.labels_)"
   ]
  },
  {
   "cell_type": "raw",
   "metadata": {},
   "source": [
    "k_range = range(2,150)\n",
    "scores = []\n",
    "for k in k_range:\n",
    "    km = KMeans(n_clusters=k, random_state=1)\n",
    "    km.fit(X_scaled)\n",
    "    scores.append(metrics.silhouette_score(X_scaled, km.labels_))"
   ]
  },
  {
   "cell_type": "raw",
   "metadata": {},
   "source": [
    "plt.plot(k_range, scores)\n",
    "plt.xlabel('Number of clusters')\n",
    "plt.ylabel('Silihouette Coefficient')\n",
    "plt.grid(True)"
   ]
  },
  {
   "cell_type": "markdown",
   "metadata": {},
   "source": [
    "Find Sentiment Pattern "
   ]
  },
  {
   "cell_type": "markdown",
   "metadata": {},
   "source": [
    "20 pieces"
   ]
  },
  {
   "cell_type": "code",
   "execution_count": 57,
   "metadata": {
    "collapsed": false
   },
   "outputs": [
    {
     "data": {
      "text/plain": [
       "433812"
      ]
     },
     "execution_count": 57,
     "metadata": {},
     "output_type": "execute_result"
    }
   ],
   "source": [
    "df_novel['total_char'].sum()"
   ]
  },
  {
   "cell_type": "code",
   "execution_count": 58,
   "metadata": {
    "collapsed": true
   },
   "outputs": [],
   "source": [
    "ratio = (df_novel['total_char'].sum()/20) - 50"
   ]
  },
  {
   "cell_type": "code",
   "execution_count": 59,
   "metadata": {
    "collapsed": true
   },
   "outputs": [],
   "source": [
    "t = 0\n",
    "x = 0\n",
    "ratio = (df_novel['total_char'].sum()/20) - 100\n",
    "def find_this(t, x):\n",
    "    w = 0    \n",
    "    sent_stop = []\n",
    "    while w <= ratio:\n",
    "        w = df_novel['total_char'][t:x].sum()\n",
    "        sent_stop.append(x)\n",
    "        x += 1\n",
    "    return max(sent_stop)     "
   ]
  },
  {
   "cell_type": "code",
   "execution_count": 60,
   "metadata": {
    "collapsed": false
   },
   "outputs": [
    {
     "name": "stdout",
     "output_type": "stream",
     "text": [
      "df_novel['total_char'][0:386]\n",
      "df_novel['total_char'][386:784]\n",
      "df_novel['total_char'][784:1119]\n",
      "df_novel['total_char'][1119:1419]\n",
      "df_novel['total_char'][1419:1723]\n",
      "df_novel['total_char'][1723:2034]\n",
      "df_novel['total_char'][2034:2397]\n",
      "df_novel['total_char'][2397:2756]\n",
      "df_novel['total_char'][2756:3032]\n",
      "df_novel['total_char'][3032:3420]\n",
      "df_novel['total_char'][3420:3799]\n",
      "df_novel['total_char'][3799:4116]\n",
      "df_novel['total_char'][4116:4496]\n",
      "df_novel['total_char'][4496:4793]\n",
      "df_novel['total_char'][4793:5111]\n",
      "df_novel['total_char'][5111:5501]\n",
      "df_novel['total_char'][5501:5796]\n",
      "df_novel['total_char'][5796:6163]\n",
      "df_novel['total_char'][6163:6485]\n",
      "df_novel['total_char'][6485:6825]\n"
     ]
    }
   ],
   "source": [
    "t = 0\n",
    "x = 0\n",
    "start_point = []\n",
    "stop_point = []\n",
    "for n in range(1, 21):\n",
    "    s = find_this(t, x)\n",
    "    print \"df_novel['total_char'][%s:%s]\" %(t, s)\n",
    "    start_point.append(t)\n",
    "    stop_point.append(s)\n",
    "    t = s\n",
    "    x = s + 1      "
   ]
  },
  {
   "cell_type": "code",
   "execution_count": 61,
   "metadata": {
    "collapsed": false
   },
   "outputs": [
    {
     "name": "stdout",
     "output_type": "stream",
     "text": [
      "0\n",
      "386\n",
      "0.0509266125354\n",
      "386\n",
      "784\n",
      "0.0686820385784\n",
      "784\n",
      "1119\n",
      "0.0639018724504\n",
      "1119\n",
      "1419\n",
      "0.0550935487352\n",
      "1419\n",
      "1723\n",
      "0.0424481339093\n",
      "1723\n",
      "2034\n",
      "0.0106209174891\n",
      "2034\n",
      "2397\n",
      "0.0250724723955\n",
      "2397\n",
      "2756\n",
      "0.0461287841685\n",
      "2756\n",
      "3032\n",
      "0.0314943648005\n",
      "3032\n",
      "3420\n",
      "0.0279216433147\n",
      "3420\n",
      "3799\n",
      "0.0532504500166\n",
      "3799\n",
      "4116\n",
      "0.0184840225495\n",
      "4116\n",
      "4496\n",
      "0.0385306248576\n",
      "4496\n",
      "4793\n",
      "0.0456015395472\n",
      "4793\n",
      "5111\n",
      "0.0140635285545\n",
      "5111\n",
      "5501\n",
      "0.0355431460735\n",
      "5501\n",
      "5796\n",
      "0.0365644654254\n",
      "5796\n",
      "6163\n",
      "0.00769325685164\n",
      "6163\n",
      "6485\n",
      "0.0766707097107\n",
      "6485\n",
      "6825\n",
      "0.0370605589944\n"
     ]
    }
   ],
   "source": [
    "twenty_piece_char = []\n",
    "st = 0\n",
    "for l in start_point: \n",
    "    strt = start_point[st]\n",
    "    stp = stop_point[st]\n",
    "    print strt\n",
    "    print stp\n",
    "    mn = df_novel['sentiment'][strt:stp].mean()\n",
    "    twenty_piece_char.append(mn)\n",
    "    print mn\n",
    "    st +=1   "
   ]
  },
  {
   "cell_type": "code",
   "execution_count": 62,
   "metadata": {
    "collapsed": false
   },
   "outputs": [
    {
     "name": "stdout",
     "output_type": "stream",
     "text": [
      "[ 0.05092661  0.06868204  0.06390187  0.05509355  0.04244813  0.01062092\n",
      "  0.02507247  0.04612878  0.03149436  0.02792164  0.05325045  0.01848402\n",
      "  0.03853062  0.04560154  0.01406353  0.03554315  0.03656447  0.00769326\n",
      "  0.07667071  0.03706056]\n"
     ]
    }
   ],
   "source": [
    "n = np.array(n)\n",
    "twenty_piece_char = np.array(twenty_piece_char)\n",
    "print twenty_piece_char"
   ]
  },
  {
   "cell_type": "code",
   "execution_count": 63,
   "metadata": {
    "collapsed": false
   },
   "outputs": [
    {
     "data": {
      "image/png": "[encoded data removed]",
      "text/plain": [
       "<matplotlib.figure.Figure at 0x11ed58fd0>"
      ]
     },
     "metadata": {},
     "output_type": "display_data"
    }
   ],
   "source": [
    "plt.bar(range(20), twenty_piece_char)\n",
    "plt.ylabel('sentiment')\n",
    "plt.show()"
   ]
  },
  {
   "cell_type": "markdown",
   "metadata": {},
   "source": [
    "Create 3 piece sentiment pattern - need to fix this code for the three piece"
   ]
  },
  {
   "cell_type": "code",
   "execution_count": 64,
   "metadata": {
    "collapsed": false
   },
   "outputs": [
    {
     "data": {
      "text/html": [
       "<div>\n",
       "<table border=\"1\" class=\"dataframe\">\n",
       "  <thead>\n",
       "    <tr style=\"text-align: right;\">\n",
       "      <th></th>\n",
       "      <th>0</th>\n",
       "      <th>wrd_length</th>\n",
       "      <th>total_char</th>\n",
       "      <th>syl_count</th>\n",
       "      <th>syl_sum</th>\n",
       "      <th>sentiment</th>\n",
       "    </tr>\n",
       "  </thead>\n",
       "  <tbody>\n",
       "    <tr>\n",
       "      <th>6825</th>\n",
       "      <td>And thus was solved the mystery of the siniste...</td>\n",
       "      <td>[3, 4, 3, 6, 3, 7, 2, 3, 8, 5, 4, 3, 6, 7, 2, ...</td>\n",
       "      <td>80</td>\n",
       "      <td>[1, 1, 1, 1, 1, 3, 1, 1, 3, 1, 1, 1, 2, 1, 1, ...</td>\n",
       "      <td>24</td>\n",
       "      <td>-0.500000</td>\n",
       "    </tr>\n",
       "    <tr>\n",
       "      <th>6826</th>\n",
       "      <td>Mr. Rucastle survived, but was always a broken...</td>\n",
       "      <td>[2, 8, 8, 3, 3, 6, 1, 6, 3, 4, 5, 6, 7, 3, 4, ...</td>\n",
       "      <td>85</td>\n",
       "      <td>[0, 2, 2, 1, 1, 2, 1, 2, 1, 1, 2, 3, 1, 1, 1, ...</td>\n",
       "      <td>26</td>\n",
       "      <td>-0.150000</td>\n",
       "    </tr>\n",
       "    <tr>\n",
       "      <th>6827</th>\n",
       "      <td>They still live with their old servants, who p...</td>\n",
       "      <td>[4, 5, 4, 4, 5, 3, 8, 3, 8, 4, 2, 4, 2, 8, 2, ...</td>\n",
       "      <td>110</td>\n",
       "      <td>[1, 1, 1, 1, 1, 1, 2, 1, 3, 1, 1, 1, 1, 2, 0, ...</td>\n",
       "      <td>31</td>\n",
       "      <td>-0.062727</td>\n",
       "    </tr>\n",
       "    <tr>\n",
       "      <th>6828</th>\n",
       "      <td>Mr. Fowler and Miss Rucastle were married, by ...</td>\n",
       "      <td>[2, 6, 3, 4, 8, 4, 7, 2, 7, 7, 2, 11, 3, 3, 5,...</td>\n",
       "      <td>150</td>\n",
       "      <td>[0, 2, 1, 1, 2, 1, 2, 1, 3, 2, 1, 3, 1, 1, 2, ...</td>\n",
       "      <td>48</td>\n",
       "      <td>0.303571</td>\n",
       "    </tr>\n",
       "    <tr>\n",
       "      <th>6829</th>\n",
       "      <td>As to Miss Violet Hunter, my friend Holmes, ra...</td>\n",
       "      <td>[2, 2, 4, 6, 6, 2, 6, 6, 6, 2, 2, 14, 10, 2, 7...</td>\n",
       "      <td>233</td>\n",
       "      <td>[1, 1, 1, 2, 2, 1, 2, 1, 2, 1, 1, 4, 3, 1, 2, ...</td>\n",
       "      <td>74</td>\n",
       "      <td>-0.040000</td>\n",
       "    </tr>\n",
       "  </tbody>\n",
       "</table>\n",
       "</div>"
      ],
      "text/plain": [
       "                                                      0  \\\n",
       "6825  And thus was solved the mystery of the siniste...   \n",
       "6826  Mr. Rucastle survived, but was always a broken...   \n",
       "6827  They still live with their old servants, who p...   \n",
       "6828  Mr. Fowler and Miss Rucastle were married, by ...   \n",
       "6829  As to Miss Violet Hunter, my friend Holmes, ra...   \n",
       "\n",
       "                                             wrd_length  total_char  \\\n",
       "6825  [3, 4, 3, 6, 3, 7, 2, 3, 8, 5, 4, 3, 6, 7, 2, ...          80   \n",
       "6826  [2, 8, 8, 3, 3, 6, 1, 6, 3, 4, 5, 6, 7, 3, 4, ...          85   \n",
       "6827  [4, 5, 4, 4, 5, 3, 8, 3, 8, 4, 2, 4, 2, 8, 2, ...         110   \n",
       "6828  [2, 6, 3, 4, 8, 4, 7, 2, 7, 7, 2, 11, 3, 3, 5,...         150   \n",
       "6829  [2, 2, 4, 6, 6, 2, 6, 6, 6, 2, 2, 14, 10, 2, 7...         233   \n",
       "\n",
       "                                              syl_count  syl_sum  sentiment  \n",
       "6825  [1, 1, 1, 1, 1, 3, 1, 1, 3, 1, 1, 1, 2, 1, 1, ...       24  -0.500000  \n",
       "6826  [0, 2, 2, 1, 1, 2, 1, 2, 1, 1, 2, 3, 1, 1, 1, ...       26  -0.150000  \n",
       "6827  [1, 1, 1, 1, 1, 1, 2, 1, 3, 1, 1, 1, 1, 2, 0, ...       31  -0.062727  \n",
       "6828  [0, 2, 1, 1, 2, 1, 2, 1, 3, 2, 1, 3, 1, 1, 2, ...       48   0.303571  \n",
       "6829  [1, 1, 1, 2, 2, 1, 2, 1, 2, 1, 1, 4, 3, 1, 2, ...       74  -0.040000  "
      ]
     },
     "execution_count": 64,
     "metadata": {},
     "output_type": "execute_result"
    }
   ],
   "source": [
    "df_novel.tail()"
   ]
  },
  {
   "cell_type": "code",
   "execution_count": 65,
   "metadata": {
    "collapsed": true
   },
   "outputs": [],
   "source": [
    "t = 0\n",
    "x = 0\n",
    "ratio = (df_novel['total_char'].sum()/3) -100\n",
    "def find_this(t, x):\n",
    "    w = 0    \n",
    "    sent_stop = []\n",
    "    while w < ratio:\n",
    "        w = df_novel['total_char'][t:x].sum()\n",
    "        sent_stop.append(x)\n",
    "        x += 1\n",
    "    return max(sent_stop)  "
   ]
  },
  {
   "cell_type": "code",
   "execution_count": 66,
   "metadata": {
    "collapsed": false
   },
   "outputs": [
    {
     "name": "stdout",
     "output_type": "stream",
     "text": [
      "df_novel['total_char'][0:2299]\n",
      "df_novel['total_char'][2299:4582]\n",
      "df_novel['total_char'][4582:6829]\n"
     ]
    },
    {
     "ename": "KeyboardInterrupt",
     "evalue": "",
     "output_type": "error",
     "traceback": [
      "\u001b[0;31m---------------------------------------------------------------------------\u001b[0m",
      "\u001b[0;31mKeyboardInterrupt\u001b[0m                         Traceback (most recent call last)",
      "\u001b[0;32m<ipython-input-66-4b95215346fd>\u001b[0m in \u001b[0;36m<module>\u001b[0;34m()\u001b[0m\n\u001b[1;32m      4\u001b[0m \u001b[0mstop_point\u001b[0m \u001b[0;34m=\u001b[0m \u001b[0;34m[\u001b[0m\u001b[0;34m]\u001b[0m\u001b[0;34m\u001b[0m\u001b[0m\n\u001b[1;32m      5\u001b[0m \u001b[0;32mfor\u001b[0m \u001b[0mn\u001b[0m \u001b[0;32min\u001b[0m \u001b[0mrange\u001b[0m\u001b[0;34m(\u001b[0m\u001b[0;36m1\u001b[0m\u001b[0;34m,\u001b[0m \u001b[0;36m21\u001b[0m\u001b[0;34m)\u001b[0m\u001b[0;34m:\u001b[0m\u001b[0;34m\u001b[0m\u001b[0m\n\u001b[0;32m----> 6\u001b[0;31m     \u001b[0ms\u001b[0m \u001b[0;34m=\u001b[0m \u001b[0mfind_this\u001b[0m\u001b[0;34m(\u001b[0m\u001b[0mt\u001b[0m\u001b[0;34m,\u001b[0m \u001b[0mx\u001b[0m\u001b[0;34m)\u001b[0m\u001b[0;34m\u001b[0m\u001b[0m\n\u001b[0m\u001b[1;32m      7\u001b[0m     \u001b[0;32mprint\u001b[0m \u001b[0;34m\"df_novel['total_char'][%s:%s]\"\u001b[0m \u001b[0;34m%\u001b[0m\u001b[0;34m(\u001b[0m\u001b[0mt\u001b[0m\u001b[0;34m,\u001b[0m \u001b[0ms\u001b[0m\u001b[0;34m)\u001b[0m\u001b[0;34m\u001b[0m\u001b[0m\n\u001b[1;32m      8\u001b[0m     \u001b[0mstart_point\u001b[0m\u001b[0;34m.\u001b[0m\u001b[0mappend\u001b[0m\u001b[0;34m(\u001b[0m\u001b[0mt\u001b[0m\u001b[0;34m)\u001b[0m\u001b[0;34m\u001b[0m\u001b[0m\n",
      "\u001b[0;32m<ipython-input-65-7d9418140b1c>\u001b[0m in \u001b[0;36mfind_this\u001b[0;34m(t, x)\u001b[0m\n\u001b[1;32m      6\u001b[0m     \u001b[0msent_stop\u001b[0m \u001b[0;34m=\u001b[0m \u001b[0;34m[\u001b[0m\u001b[0;34m]\u001b[0m\u001b[0;34m\u001b[0m\u001b[0m\n\u001b[1;32m      7\u001b[0m     \u001b[0;32mwhile\u001b[0m \u001b[0mw\u001b[0m \u001b[0;34m<\u001b[0m \u001b[0mratio\u001b[0m\u001b[0;34m:\u001b[0m\u001b[0;34m\u001b[0m\u001b[0m\n\u001b[0;32m----> 8\u001b[0;31m         \u001b[0mw\u001b[0m \u001b[0;34m=\u001b[0m \u001b[0mdf_novel\u001b[0m\u001b[0;34m[\u001b[0m\u001b[0;34m'total_char'\u001b[0m\u001b[0;34m]\u001b[0m\u001b[0;34m[\u001b[0m\u001b[0mt\u001b[0m\u001b[0;34m:\u001b[0m\u001b[0mx\u001b[0m\u001b[0;34m]\u001b[0m\u001b[0;34m.\u001b[0m\u001b[0msum\u001b[0m\u001b[0;34m(\u001b[0m\u001b[0;34m)\u001b[0m\u001b[0;34m\u001b[0m\u001b[0m\n\u001b[0m\u001b[1;32m      9\u001b[0m         \u001b[0msent_stop\u001b[0m\u001b[0;34m.\u001b[0m\u001b[0mappend\u001b[0m\u001b[0;34m(\u001b[0m\u001b[0mx\u001b[0m\u001b[0;34m)\u001b[0m\u001b[0;34m\u001b[0m\u001b[0m\n\u001b[1;32m     10\u001b[0m         \u001b[0mx\u001b[0m \u001b[0;34m+=\u001b[0m \u001b[0;36m1\u001b[0m\u001b[0;34m\u001b[0m\u001b[0m\n",
      "\u001b[0;32m/Users/aliciagyori/anaconda/lib/python2.7/site-packages/pandas/core/series.pyc\u001b[0m in \u001b[0;36m__getitem__\u001b[0;34m(self, key)\u001b[0m\n\u001b[1;32m    622\u001b[0m             \u001b[0mkey\u001b[0m \u001b[0;34m=\u001b[0m \u001b[0mcheck_bool_indexer\u001b[0m\u001b[0;34m(\u001b[0m\u001b[0mself\u001b[0m\u001b[0;34m.\u001b[0m\u001b[0mindex\u001b[0m\u001b[0;34m,\u001b[0m \u001b[0mkey\u001b[0m\u001b[0;34m)\u001b[0m\u001b[0;34m\u001b[0m\u001b[0m\n\u001b[1;32m    623\u001b[0m \u001b[0;34m\u001b[0m\u001b[0m\n\u001b[0;32m--> 624\u001b[0;31m         \u001b[0;32mreturn\u001b[0m \u001b[0mself\u001b[0m\u001b[0;34m.\u001b[0m\u001b[0m_get_with\u001b[0m\u001b[0;34m(\u001b[0m\u001b[0mkey\u001b[0m\u001b[0;34m)\u001b[0m\u001b[0;34m\u001b[0m\u001b[0m\n\u001b[0m\u001b[1;32m    625\u001b[0m \u001b[0;34m\u001b[0m\u001b[0m\n\u001b[1;32m    626\u001b[0m     \u001b[0;32mdef\u001b[0m \u001b[0m_get_with\u001b[0m\u001b[0;34m(\u001b[0m\u001b[0mself\u001b[0m\u001b[0;34m,\u001b[0m \u001b[0mkey\u001b[0m\u001b[0;34m)\u001b[0m\u001b[0;34m:\u001b[0m\u001b[0;34m\u001b[0m\u001b[0m\n",
      "\u001b[0;32m/Users/aliciagyori/anaconda/lib/python2.7/site-packages/pandas/core/series.pyc\u001b[0m in \u001b[0;36m_get_with\u001b[0;34m(self, key)\u001b[0m\n\u001b[1;32m    628\u001b[0m         \u001b[0;32mif\u001b[0m \u001b[0misinstance\u001b[0m\u001b[0;34m(\u001b[0m\u001b[0mkey\u001b[0m\u001b[0;34m,\u001b[0m \u001b[0mslice\u001b[0m\u001b[0;34m)\u001b[0m\u001b[0;34m:\u001b[0m\u001b[0;34m\u001b[0m\u001b[0m\n\u001b[1;32m    629\u001b[0m             \u001b[0mindexer\u001b[0m \u001b[0;34m=\u001b[0m \u001b[0mself\u001b[0m\u001b[0;34m.\u001b[0m\u001b[0mindex\u001b[0m\u001b[0;34m.\u001b[0m\u001b[0m_convert_slice_indexer\u001b[0m\u001b[0;34m(\u001b[0m\u001b[0mkey\u001b[0m\u001b[0;34m,\u001b[0m \u001b[0mkind\u001b[0m\u001b[0;34m=\u001b[0m\u001b[0;34m'getitem'\u001b[0m\u001b[0;34m)\u001b[0m\u001b[0;34m\u001b[0m\u001b[0m\n\u001b[0;32m--> 630\u001b[0;31m             \u001b[0;32mreturn\u001b[0m \u001b[0mself\u001b[0m\u001b[0;34m.\u001b[0m\u001b[0m_get_values\u001b[0m\u001b[0;34m(\u001b[0m\u001b[0mindexer\u001b[0m\u001b[0;34m)\u001b[0m\u001b[0;34m\u001b[0m\u001b[0m\n\u001b[0m\u001b[1;32m    631\u001b[0m         \u001b[0;32melif\u001b[0m \u001b[0misinstance\u001b[0m\u001b[0;34m(\u001b[0m\u001b[0mkey\u001b[0m\u001b[0;34m,\u001b[0m \u001b[0mABCDataFrame\u001b[0m\u001b[0;34m)\u001b[0m\u001b[0;34m:\u001b[0m\u001b[0;34m\u001b[0m\u001b[0m\n\u001b[1;32m    632\u001b[0m             raise TypeError('Indexing a Series with DataFrame is not '\n",
      "\u001b[0;32m/Users/aliciagyori/anaconda/lib/python2.7/site-packages/pandas/core/series.pyc\u001b[0m in \u001b[0;36m_get_values\u001b[0;34m(self, indexer)\u001b[0m\n\u001b[1;32m    689\u001b[0m     \u001b[0;32mdef\u001b[0m \u001b[0m_get_values\u001b[0m\u001b[0;34m(\u001b[0m\u001b[0mself\u001b[0m\u001b[0;34m,\u001b[0m \u001b[0mindexer\u001b[0m\u001b[0;34m)\u001b[0m\u001b[0;34m:\u001b[0m\u001b[0;34m\u001b[0m\u001b[0m\n\u001b[1;32m    690\u001b[0m         \u001b[0;32mtry\u001b[0m\u001b[0;34m:\u001b[0m\u001b[0;34m\u001b[0m\u001b[0m\n\u001b[0;32m--> 691\u001b[0;31m             return self._constructor(self._data.get_slice(indexer),\n\u001b[0m\u001b[1;32m    692\u001b[0m                                      fastpath=True).__finalize__(self)\n\u001b[1;32m    693\u001b[0m         \u001b[0;32mexcept\u001b[0m \u001b[0mException\u001b[0m\u001b[0;34m:\u001b[0m\u001b[0;34m\u001b[0m\u001b[0m\n",
      "\u001b[0;32m/Users/aliciagyori/anaconda/lib/python2.7/site-packages/pandas/core/internals.pyc\u001b[0m in \u001b[0;36mget_slice\u001b[0;34m(self, slobj, axis)\u001b[0m\n\u001b[1;32m   3870\u001b[0m             \u001b[0;32mraise\u001b[0m \u001b[0mIndexError\u001b[0m\u001b[0;34m(\u001b[0m\u001b[0;34m\"Requested axis not found in manager\"\u001b[0m\u001b[0;34m)\u001b[0m\u001b[0;34m\u001b[0m\u001b[0m\n\u001b[1;32m   3871\u001b[0m \u001b[0;34m\u001b[0m\u001b[0m\n\u001b[0;32m-> 3872\u001b[0;31m         return self.__class__(self._block._slice(slobj),\n\u001b[0m\u001b[1;32m   3873\u001b[0m                               self.index[slobj], fastpath=True)\n\u001b[1;32m   3874\u001b[0m \u001b[0;34m\u001b[0m\u001b[0m\n",
      "\u001b[0;32m/Users/aliciagyori/anaconda/lib/python2.7/site-packages/pandas/core/internals.pyc\u001b[0m in \u001b[0;36m_block\u001b[0;34m(self)\u001b[0m\n\u001b[1;32m   3822\u001b[0m         \u001b[0;32mpass\u001b[0m\u001b[0;34m\u001b[0m\u001b[0m\n\u001b[1;32m   3823\u001b[0m \u001b[0;34m\u001b[0m\u001b[0m\n\u001b[0;32m-> 3824\u001b[0;31m     \u001b[0;34m@\u001b[0m\u001b[0mproperty\u001b[0m\u001b[0;34m\u001b[0m\u001b[0m\n\u001b[0m\u001b[1;32m   3825\u001b[0m     \u001b[0;32mdef\u001b[0m \u001b[0m_block\u001b[0m\u001b[0;34m(\u001b[0m\u001b[0mself\u001b[0m\u001b[0;34m)\u001b[0m\u001b[0;34m:\u001b[0m\u001b[0;34m\u001b[0m\u001b[0m\n\u001b[1;32m   3826\u001b[0m         \u001b[0;32mreturn\u001b[0m \u001b[0mself\u001b[0m\u001b[0;34m.\u001b[0m\u001b[0mblocks\u001b[0m\u001b[0;34m[\u001b[0m\u001b[0;36m0\u001b[0m\u001b[0;34m]\u001b[0m\u001b[0;34m\u001b[0m\u001b[0m\n",
      "\u001b[0;31mKeyboardInterrupt\u001b[0m: "
     ]
    }
   ],
   "source": [
    "t = 0\n",
    "x = 0\n",
    "start_point = []\n",
    "stop_point = []\n",
    "for n in range(1, 21):\n",
    "    s = find_this(t, x)\n",
    "    print \"df_novel['total_char'][%s:%s]\" %(t, s)\n",
    "    start_point.append(t)\n",
    "    stop_point.append(s)\n",
    "    t = s\n",
    "    x = s + 1  "
   ]
  },
  {
   "cell_type": "code",
   "execution_count": 67,
   "metadata": {
    "collapsed": false
   },
   "outputs": [
    {
     "name": "stdout",
     "output_type": "stream",
     "text": [
      "0\n",
      "2299\n",
      "0.0454520321242\n",
      "2299\n",
      "4582\n",
      "0.0368768570214\n",
      "4582\n",
      "6829\n",
      "0.0359097353521\n"
     ]
    }
   ],
   "source": [
    "three_piece_char = []\n",
    "st = 0\n",
    "for l in start_point: \n",
    "    strt = start_point[st]\n",
    "    stp = stop_point[st]\n",
    "    print strt\n",
    "    print stp\n",
    "    mn = df_novel['sentiment'][strt:stp].mean()\n",
    "    three_piece_char.append(mn)\n",
    "    print mn\n",
    "    st +=1"
   ]
  },
  {
   "cell_type": "code",
   "execution_count": 68,
   "metadata": {
    "collapsed": false
   },
   "outputs": [
    {
     "name": "stdout",
     "output_type": "stream",
     "text": [
      "[ 0.04545203  0.03687686  0.03590974]\n"
     ]
    }
   ],
   "source": [
    "n = np.array(n)\n",
    "three_piece_char = np.array(three_piece_char)\n",
    "print three_piece_char"
   ]
  },
  {
   "cell_type": "code",
   "execution_count": 69,
   "metadata": {
    "collapsed": false
   },
   "outputs": [
    {
     "data": {
      "image/png": "[encoded data removed]",
      "text/plain": [
       "<matplotlib.figure.Figure at 0x120012590>"
      ]
     },
     "metadata": {},
     "output_type": "display_data"
    }
   ],
   "source": [
    "plt.bar(range(3), three_piece_char)\n",
    "plt.ylabel('sentiment')\n",
    "plt.show()"
   ]
  },
  {
   "cell_type": "markdown",
   "metadata": {},
   "source": [
    "Create sentiment pattern based on ideal cluster numbers"
   ]
  }
 ],
 "metadata": {
  "kernelspec": {
   "display_name": "Python 2",
   "language": "python",
   "name": "python2"
  },
  "language_info": {
   "codemirror_mode": {
    "name": "ipython",
    "version": 2
   },
   "file_extension": ".py",
   "mimetype": "text/x-python",
   "name": "python",
   "nbconvert_exporter": "python",
   "pygments_lexer": "ipython2",
   "version": "2.7.11"
  }
 },
 "nbformat": 4,
 "nbformat_minor": 0
}
