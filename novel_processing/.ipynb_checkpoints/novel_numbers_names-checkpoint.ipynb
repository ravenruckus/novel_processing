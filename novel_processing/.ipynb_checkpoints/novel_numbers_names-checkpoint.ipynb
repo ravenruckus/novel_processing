{
 "cells": [
  {
   "cell_type": "code",
   "execution_count": 24,
   "metadata": {
    "collapsed": true
   },
   "outputs": [],
   "source": [
    "import sys\n",
    "reload(sys)\n",
    "sys.setdefaultencoding('utf-8')"
   ]
  },
  {
   "cell_type": "code",
   "execution_count": 25,
   "metadata": {
    "collapsed": false
   },
   "outputs": [],
   "source": [
    "import requests\n",
    "from bs4 import BeautifulSoup\n",
    "r = requests.get('https://www.gutenberg.org/browse/scores/top')\n",
    "b = BeautifulSoup(r.text, \"lxml\")"
   ]
  },
  {
   "cell_type": "code",
   "execution_count": 26,
   "metadata": {
    "collapsed": true
   },
   "outputs": [],
   "source": [
    "novel_numbers = []\n",
    "for x in range(0,100):\n",
    "    w = b.findAll('li')[int(x)].a['href'][8:]\n",
    "    novel_numbers.append(w)"
   ]
  },
  {
   "cell_type": "code",
   "execution_count": null,
   "metadata": {
    "collapsed": true
   },
   "outputs": [],
   "source": [
    "novel_numbers"
   ]
  },
  {
   "cell_type": "code",
   "execution_count": 27,
   "metadata": {
    "collapsed": false
   },
   "outputs": [],
   "source": [
    "novel_names = []\n",
    "for x in range(0,100):   \n",
    "    t = b.findAll('li')[x].a\n",
    "    n = t.contents\n",
    "    n = n[0]\n",
    "    n = n.replace('(', '')\n",
    "    n = n.replace(')', '')\n",
    "    no_dig = []\n",
    "    for i in n:\n",
    "        if not i.isdigit():\n",
    "            no_dig.append(i)\n",
    "    n = ''.join(no_dig) \n",
    "    novel_names.append(n)\n",
    "for i in novel_names:\n",
    "    if not i.isdigit():\n",
    "        no_dig.append(i)"
   ]
  },
  {
   "cell_type": "code",
   "execution_count": 28,
   "metadata": {
    "collapsed": false
   },
   "outputs": [
    {
     "data": {
      "text/plain": [
       "[u'Pride and Prejudice by Jane Austen ',\n",
       " u\"Alice's Adventures in Wonderland by Lewis Carroll \",\n",
       " u'The Jungle Book by Rudyard Kipling ',\n",
       " u'The Adventures of Sherlock Holmes by Arthur Conan Doyle ',\n",
       " u'Adventures of Huckleberry Finn by Mark Twain ',\n",
       " u'The Kama Sutra of Vatsyayana by Vatsyayana ',\n",
       " u'A Tale of Two Cities by Charles Dickens ',\n",
       " u'The Importance of Being Earnest: A Trivial Comedy for Serious People by Oscar Wilde ',\n",
       " u'A Book of the Pyrenees by S.  Baring-Gould ',\n",
       " u'The Sorceress complete by Mrs.  Oliphant ',\n",
       " u'War and Peace by graf Leo Tolstoy ',\n",
       " u'Dracula by Bram Stoker ',\n",
       " u'The Adventures of Tom Sawyer by Mark Twain ',\n",
       " u'The Romance of Lust: A Classic Victorian erotic novel by Anonymous ',\n",
       " u'Anthologica Rarissima: The Way of a Virgin by C. Brovan and L. Brovan ',\n",
       " u'Metamorphosis by Franz Kafka ',\n",
       " u'Great Expectations by Charles Dickens ',\n",
       " u'The Picture of Dorian Gray by Oscar Wilde ',\n",
       " u'Il Principe. English by Niccol\\xf2 Machiavelli ',\n",
       " u'Ulysses by James Joyce ',\n",
       " u\"Grimms' Fairy Tales by Jacob Grimm and Wilhelm Grimm \",\n",
       " u'Frankenstein; Or, The Modern Prometheus by Mary Wollstonecraft Shelley ',\n",
       " u'Emma by Jane Austen ',\n",
       " u'The Yellow Wallpaper by Charlotte Perkins Gilman ',\n",
       " u'The Mysteries of London, Volume  of  by George W. M.  Reynolds ',\n",
       " u'Isle of Wight by A. R. Hope  Moncrieff ',\n",
       " u'Moby Dick; Or, The Whale by Herman Melville ',\n",
       " u'Les Mis\\xe9rables by Victor Hugo ',\n",
       " u'The Complete Works of William Shakespeare by William Shakespeare ',\n",
       " u'Jane Eyre: An Autobiography by Charlotte Bront\\xeb ',\n",
       " u'The Count of Monte Cristo, Illustrated by Alexandre Dumas ',\n",
       " u'Tractatus Logico-Philosophicus by Ludwig Wittgenstein ',\n",
       " u'The Sperry Gyro-Compass by The Sperry Gyroscope Co. ',\n",
       " u'Siddhartha by Hermann Hesse ',\n",
       " u'Peter Pan by J. M.  Barrie ',\n",
       " u'The Strange Case of Dr. Jekyll and Mr. Hyde by Robert Louis Stevenson ',\n",
       " u'My Secret Life, Volumes I. to III. by Anonymous ',\n",
       " u'Wuthering Heights by Emily Bront\\xeb ',\n",
       " u'Sense and Sensibility by Jane Austen ',\n",
       " u'Essays of Michel de Montaigne \\u2014 Complete by Michel de Montaigne ',\n",
       " u\"A Doll's House : a play by Henrik Ibsen \",\n",
       " u'The Republic by Plato ',\n",
       " u\"Gulliver's Travels into Several Remote Nations of the World by Jonathan Swift \",\n",
       " u'The Brothers Karamazov by Fyodor Dostoyevsky ',\n",
       " u\"Memorandum to the Government of the United States on the Recognition of the Ukrainian People's Repub \",\n",
       " u\"The American Girl's Handy Book by Adelia B.  Beard and Lina Beard \",\n",
       " u'The Heart of Penelope by Marie Belloc Lowndes ',\n",
       " u'Dubliners by James Joyce ',\n",
       " u'Leviathan by Thomas Hobbes ',\n",
       " u'A Study in Scarlet by Arthur Conan Doyle ',\n",
       " u'The Time Machine by H. G.  Wells ',\n",
       " u'Treasure Island by Robert Louis Stevenson ',\n",
       " u'A Modest Proposal by Jonathan Swift ',\n",
       " u'Through the Looking-Glass by Lewis Carroll ',\n",
       " u'Leaves of Grass by Walt Whitman ',\n",
       " u'Abandonment by J. P. de Caussade ',\n",
       " u'Narrative of the Life of Frederick Douglass, an American Slave by Frederick Douglass ',\n",
       " u'Don Quixote by Miguel de Cervantes Saavedra ',\n",
       " u'The Wonderful Wizard of Oz by L. Frank  Baum ',\n",
       " u'Calculus Made Easy by Silvanus P.  Thompson ',\n",
       " u'Lady Susan by Jane Austen ',\n",
       " u'The Iliad by Homer ',\n",
       " u'Prestuplenie i nakazanie. English by Fyodor Dostoyevsky ',\n",
       " u'The Tragedy of Romeo and Juliet by William Shakespeare ',\n",
       " u'The Divine Comedy by Dante, Illustrated by Dante Alighieri ',\n",
       " u'Josefine Mutzenbacher by Felix Salten ',\n",
       " u'Forbidden Fruit by Anonymous ',\n",
       " u'An Inquiry into the Nature and Causes of the Wealth of Nations by Adam Smith ',\n",
       " u'Anne of Green Gables by L. M.  Montgomery ',\n",
       " u'The King James Version of the Bible ',\n",
       " u'How to Analyze People on Sight by Elsie Lincoln Benedict and Ralph Paine Benedict ',\n",
       " u'The Works of Edgar Allan Poe \\u2014 Volume  by Edgar Allan Poe ',\n",
       " u'The Man by Elbert Hubbard ',\n",
       " u'The Invasion of America by Julius Washington Muller ',\n",
       " u'Beyond Good and Evil by Friedrich Wilhelm Nietzsche ',\n",
       " u'The Awakening, and Selected Short Stories by Kate Chopin ',\n",
       " u'Verses popular and humorous by Henry Lawson ',\n",
       " u'The Practice and Science of Drawing by Harold Speed ',\n",
       " u'Heart of Darkness by Joseph Conrad ',\n",
       " u'Songs of Innocence, and Songs of Experience by William Blake ',\n",
       " u'The War of the Worlds by H. G.  Wells ',\n",
       " u'Persuasion by Jane Austen ',\n",
       " u'Candide by Voltaire ',\n",
       " u'Memoirs Of Fanny Hill by John Cleland ',\n",
       " u'The Jungle Book by Rudyard Kipling ',\n",
       " u\"Latin for Beginners by Benjamin L.  D'Ooge \",\n",
       " u'Meditations by Emperor of Rome Marcus Aurelius ',\n",
       " u'The Life and Adventures of Robinson Crusoe by Daniel Defoe ',\n",
       " u'The  CIA World Factbook by United States. Central Intelligence Agency ',\n",
       " u'The Trial by Franz Kafka ',\n",
       " u'Walden, and On The Duty Of Civil Disobedience by Henry David Thoreau ',\n",
       " u'Beowulf ',\n",
       " u'The Critique of Pure Reason by Immanuel Kant ',\n",
       " u'The Woman in White by Wilkie Collins ',\n",
       " u'Pygmalion by Bernard Shaw ',\n",
       " u'Oliver Twist by Charles Dickens ',\n",
       " u'Paradise Lost by John Milton ',\n",
       " u'Don Quijote by Miguel de Cervantes Saavedra ',\n",
       " u'The History Of The Decline And Fall Of The Roman Empire by Edward Gibbon ',\n",
       " u'On Liberty by John Stuart Mill ']"
      ]
     },
     "execution_count": 28,
     "metadata": {},
     "output_type": "execute_result"
    }
   ],
   "source": [
    "novel_names"
   ]
  },
  {
   "cell_type": "raw",
   "metadata": {},
   "source": [
    "#doesn't work\n",
    "import csv\n",
    "with open('novel_names.csv', 'w') as outfile:\n",
    "    writer = csv.writer(outfile)\n",
    "    outfile.write('novel_numbers, novel_names\\n')\n",
    "    for row in novel_numbers:\n",
    "        writer.writerows([row])\n",
    "    for row in novel_names:\n",
    "        writer.writerow([row])"
   ]
  },
  {
   "cell_type": "raw",
   "metadata": {},
   "source": [
    "#doesn't work\n",
    "with open('novel_names.csv', 'wb') as f:\n",
    "    writer = csv.writer(f, delimiter=',')\n",
    "    for row in (zip([novel_numbers], [novel_names])):\n",
    "        writer.writerows([row])"
   ]
  },
  {
   "cell_type": "code",
   "execution_count": 37,
   "metadata": {
    "collapsed": true
   },
   "outputs": [],
   "source": [
    "novels2 = zip(novel_numbers, novel_names)"
   ]
  },
  {
   "cell_type": "code",
   "execution_count": 42,
   "metadata": {
    "collapsed": false
   },
   "outputs": [],
   "source": [
    "with open('novel_names.csv', 'wb') as f:\n",
    "    writer = csv.writer(f, delimiter=',')\n",
    "    f.write('novel_numbers, novel_names\\n')\n",
    "    for row in novels2:\n",
    "        writer.writerows([row])"
   ]
  },
  {
   "cell_type": "code",
   "execution_count": null,
   "metadata": {
    "collapsed": true
   },
   "outputs": [],
   "source": []
  }
 ],
 "metadata": {
  "kernelspec": {
   "display_name": "Python 2",
   "language": "python",
   "name": "python2"
  },
  "language_info": {
   "codemirror_mode": {
    "name": "ipython",
    "version": 2
   },
   "file_extension": ".py",
   "mimetype": "text/x-python",
   "name": "python",
   "nbconvert_exporter": "python",
   "pygments_lexer": "ipython2",
   "version": "2.7.11"
  }
 },
 "nbformat": 4,
 "nbformat_minor": 0
}
