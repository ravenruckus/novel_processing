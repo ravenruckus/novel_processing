{
 "cells": [
  {
   "cell_type": "code",
   "execution_count": 1,
   "metadata": {
    "collapsed": true
   },
   "outputs": [],
   "source": [
    "import csv\n",
    "import pandas as pd\n",
    "import sys"
   ]
  },
  {
   "cell_type": "code",
   "execution_count": 3,
   "metadata": {
    "collapsed": true
   },
   "outputs": [],
   "source": [
    "import requests\n",
    "from bs4 import BeautifulSoup\n",
    "r = requests.get('https://www.gutenberg.org/browse/scores/top')\n",
    "b = BeautifulSoup(r.text, \"lxml\")"
   ]
  },
  {
   "cell_type": "code",
   "execution_count": 4,
   "metadata": {
    "collapsed": true
   },
   "outputs": [],
   "source": [
    "novel_numbers = []\n",
    "for x in range(0,100):\n",
    "    w = b.findAll('li')[int(x)].a['href'][8:]\n",
    "    novel_numbers.append(w)"
   ]
  },
  {
   "cell_type": "code",
   "execution_count": 5,
   "metadata": {
    "collapsed": false
   },
   "outputs": [
    {
     "name": "stdout",
     "output_type": "stream",
     "text": [
      "1342\n",
      "11\n",
      "1661\n",
      "52257\n",
      "52247\n",
      "76\n",
      "5200\n",
      "236\n",
      "98\n",
      "52251\n",
      "27827\n",
      "844\n",
      "2701\n",
      "30254\n",
      "52256\n",
      "345\n",
      "4300\n",
      "158\n",
      "2591\n",
      "84\n",
      "1952\n",
      "174\n",
      "1400\n",
      "2600\n",
      "74\n",
      "52245\n",
      "1232\n",
      "1260\n",
      "2542\n",
      "52250\n",
      "52255\n",
      "135\n",
      "16\n",
      "1184\n",
      "52248\n",
      "100\n",
      "946\n",
      "1322\n",
      "16328\n",
      "768\n",
      "52254\n",
      "5740\n",
      "1497\n",
      "244\n",
      "30360\n",
      "1080\n",
      "120\n",
      "12\n",
      "2500\n",
      "52228\n",
      "23\n",
      "521\n",
      "52249\n",
      "28054\n",
      "30601\n",
      "2554\n",
      "52240\n",
      "1112\n",
      "161\n",
      "829\n",
      "42\n",
      "3672\n",
      "46\n",
      "35\n",
      "14264\n",
      "851\n",
      "51728\n",
      "20203\n",
      "219\n",
      "2814\n",
      "18251\n",
      "33283\n",
      "52246\n",
      "52252\n",
      "45\n",
      "4363\n",
      "10\n",
      "1399\n",
      "863\n",
      "2148\n",
      "308\n",
      "8800\n",
      "55\n",
      "52244\n",
      "52263\n",
      "52242\n",
      "3600\n",
      "730\n",
      "25717\n",
      "996\n",
      "526\n",
      "52258\n",
      "205\n",
      "3207\n",
      "514\n",
      "2147\n",
      "766\n",
      "52225\n",
      "6130\n",
      "2413\n"
     ]
    }
   ],
   "source": [
    "for n in novel_numbers:\n",
    "    print n"
   ]
  },
  {
   "cell_type": "code",
   "execution_count": 6,
   "metadata": {
    "collapsed": true
   },
   "outputs": [],
   "source": [
    "novel_names = []\n",
    "for x in range(0,100):   \n",
    "    t = b.findAll('li')[x].a\n",
    "    n = t.contents\n",
    "    n = n[0]\n",
    "    n = n.replace('(', '')\n",
    "    n = n.replace(')', '')\n",
    "    no_dig = []\n",
    "    for i in n:\n",
    "        if not i.isdigit():\n",
    "            no_dig.append(i)\n",
    "    n = ''.join(no_dig) \n",
    "    novel_names.append(n)\n",
    "for i in novel_names:\n",
    "    if not i.isdigit():\n",
    "        no_dig.append(i)"
   ]
  },
  {
   "cell_type": "code",
   "execution_count": 7,
   "metadata": {
    "collapsed": false
   },
   "outputs": [
    {
     "data": {
      "text/plain": [
       "[u'Pride and Prejudice by Jane Austen ',\n",
       " u\"Alice's Adventures in Wonderland by Lewis Carroll \",\n",
       " u'The Adventures of Sherlock Holmes by Arthur Conan Doyle ',\n",
       " u'When Sarah Saved the Day by Elsie Singmaster ',\n",
       " u'A Man from the North by Arnold Bennett ',\n",
       " u'Adventures of Huckleberry Finn by Mark Twain ',\n",
       " u'Metamorphosis by Franz Kafka ',\n",
       " u'The Jungle Book by Rudyard Kipling ',\n",
       " u'A Tale of Two Cities by Charles Dickens ',\n",
       " u'Constantinople, Vol. II of  by Edmondo De Amicis ',\n",
       " u'The Kama Sutra of Vatsyayana by Vatsyayana ',\n",
       " u'The Importance of Being Earnest: A Trivial Comedy for Serious People by Oscar Wilde ',\n",
       " u'Moby Dick; Or, The Whale by Herman Melville ',\n",
       " u'The Romance of Lust: A Classic Victorian erotic novel by Anonymous ',\n",
       " u'The Lead Pencil Manufactory of A. W. Faber at Stein near N\\xfcrnberg, Bavaria by A. W. Faber ',\n",
       " u'Dracula by Bram Stoker ',\n",
       " u'Ulysses by James Joyce ',\n",
       " u'Emma by Jane Austen ',\n",
       " u\"Grimms' Fairy Tales by Jacob Grimm and Wilhelm Grimm \",\n",
       " u'Frankenstein; Or, The Modern Prometheus by Mary Wollstonecraft Shelley ',\n",
       " u'The Yellow Wallpaper by Charlotte Perkins Gilman ',\n",
       " u'The Picture of Dorian Gray by Oscar Wilde ',\n",
       " u'Great Expectations by Charles Dickens ',\n",
       " u'War and Peace by graf Leo Tolstoy ',\n",
       " u'The Adventures of Tom Sawyer by Mark Twain ',\n",
       " u'Where Science and Religion Meet by William Scott Palmer ',\n",
       " u'Il Principe. English by Niccol\\xf2 Machiavelli ',\n",
       " u'Jane Eyre: An Autobiography by Charlotte Bront\\xeb ',\n",
       " u\"A Doll's House : a play by Henrik Ibsen \",\n",
       " u\"A Nurse's Life in War and Peace by Eleanor Constance Laurence \",\n",
       " u'The Brownie Scouts and Their Tree House by Mildred A.  Wirt ',\n",
       " u'Les Mis\\xe9rables by Victor Hugo ',\n",
       " u'Peter Pan by J. M.  Barrie ',\n",
       " u'The Count of Monte Cristo, Illustrated by Alexandre Dumas ',\n",
       " u'Across South America by Hiram Bingham ',\n",
       " u'The Complete Works of William Shakespeare by William Shakespeare ',\n",
       " u'Lady Susan by Jane Austen ',\n",
       " u'Leaves of Grass by Walt Whitman ',\n",
       " u'Beowulf ',\n",
       " u'Wuthering Heights by Emily Bront\\xeb ',\n",
       " u'The Brownie Scouts at Windmill Farm by Mildred A.  Wirt ',\n",
       " u'Tractatus Logico-Philosophicus by Ludwig Wittgenstein ',\n",
       " u'The Republic by Plato ',\n",
       " u'A Study in Scarlet by Arthur Conan Doyle ',\n",
       " u'My Secret Life, Volumes I. to III. by Anonymous ',\n",
       " u'A Modest Proposal by Jonathan Swift ',\n",
       " u'Treasure Island by Robert Louis Stevenson ',\n",
       " u'Through the Looking-Glass by Lewis Carroll ',\n",
       " u'Siddhartha by Hermann Hesse ',\n",
       " u'Search the Sky by C. M.  Kornbluth and Frederik Pohl ',\n",
       " u'Narrative of the Life of Frederick Douglass, an American Slave by Frederick Douglass ',\n",
       " u'The Life and Adventures of Robinson Crusoe by Daniel Defoe ',\n",
       " u\"Historical Record of the Third or Princes of Wales' Regiment of Dragoon Guards: From Its Formation i \",\n",
       " u'The Brothers Karamazov by Fyodor Dostoyevsky ',\n",
       " u'How to Analyze People on Sight by Elsie Lincoln Benedict and Ralph Paine Benedict ',\n",
       " u'Prestuplenie i nakazanie. English by Fyodor Dostoyevsky ',\n",
       " u'The Inner Flame by Clara Louise Burnham ',\n",
       " u'The Tragedy of Romeo and Juliet by William Shakespeare ',\n",
       " u'Sense and Sensibility by Jane Austen ',\n",
       " u\"Gulliver's Travels into Several Remote Nations of the World by Jonathan Swift \",\n",
       " u'The Strange Case of Dr. Jekyll and Mr. Hyde by Robert Louis Stevenson ',\n",
       " u'The  CIA World Factbook by United States. Central Intelligence Agency ',\n",
       " u'A Christmas Carol in Prose; Being a Ghost Story of Christmas by Charles Dickens ',\n",
       " u'The Time Machine by H. G.  Wells ',\n",
       " u'The Practice and Science of Drawing by Harold Speed ',\n",
       " u'Narrative of the Captivity and Restoration of Mrs. Mary Rowlandson by Mary White Rowlandson ',\n",
       " u'Constantinople, Vol. I of  by Edmondo De Amicis ',\n",
       " u'Autobiography of Benjamin Franklin by Benjamin Franklin ',\n",
       " u'Heart of Darkness by Joseph Conrad ',\n",
       " u'Dubliners by James Joyce ',\n",
       " u\"Latin for Beginners by Benjamin L.  D'Ooge \",\n",
       " u'Calculus Made Easy by Silvanus P.  Thompson ',\n",
       " u'Boswell the Biographer by George Herbert Leigh Mallory ',\n",
       " u'Spanish and Portuguese South America during the Colonial Period; Vol.  of  by Robert Grant Watson ',\n",
       " u'Anne of Green Gables by L. M.  Montgomery ',\n",
       " u'Beyond Good and Evil by Friedrich Wilhelm Nietzsche ',\n",
       " u'The King James Version of the Bible ',\n",
       " u'Anna Karenina by graf Leo Tolstoy ',\n",
       " u'The Mysterious Affair at Styles by Agatha Christie ',\n",
       " u'The Works of Edgar Allan Poe \\u2014 Volume  by Edgar Allan Poe ',\n",
       " u'Three Men in a Boat by Jerome K.  Jerome ',\n",
       " u'The Divine Comedy by Dante, Illustrated by Dante Alighieri ',\n",
       " u'The Wonderful Wizard of Oz by L. Frank  Baum ',\n",
       " u'Mail Carrying Railways Underpaid by Committee on Railway Mail Pay ',\n",
       " u'The Twilight of the Idols - The Antichrist by Friedrich Wilhelm Nietzsche ',\n",
       " u'The Life of Tolstoy: First Fifty Years by Aylmer Maude ',\n",
       " u'Essays of Michel de Montaigne \\u2014 Complete by Michel de Montaigne ',\n",
       " u'Oliver Twist by Charles Dickens ',\n",
       " u'The History Of The Decline And Fall Of The Roman Empire by Edward Gibbon ',\n",
       " u'Don Quixote by Miguel de Cervantes Saavedra ',\n",
       " u'Heart of Darkness by Joseph Conrad ',\n",
       " u'History of the Royal Regiment of Artillery, Vol.  by Francis Duncan ',\n",
       " u'Walden, and On The Duty Of Civil Disobedience by Henry David Thoreau ',\n",
       " u'Leviathan by Thomas Hobbes ',\n",
       " u'Little Women by Louisa May Alcott ',\n",
       " u'The Works of Edgar Allan Poe \\u2014 Volume  by Edgar Allan Poe ',\n",
       " u'David Copperfield by Charles Dickens ',\n",
       " u'The Temptation of St. Anthony by Gustave Flaubert ',\n",
       " u'The Iliad by Homer ',\n",
       " u'Madame Bovary by Gustave Flaubert ']"
      ]
     },
     "execution_count": 7,
     "metadata": {},
     "output_type": "execute_result"
    }
   ],
   "source": [
    "novel_names"
   ]
  },
  {
   "cell_type": "code",
   "execution_count": 10,
   "metadata": {
    "collapsed": false
   },
   "outputs": [],
   "source": [
    "novel_numbersWriter = csv.writer(open('data/novel_key.csv', 'w'), delimiter=',')\n",
    "for number in novel_numbers:\n",
    "    novel_numbersWriter.writerow([number])\n",
    "    "
   ]
  },
  {
   "cell_type": "code",
   "execution_count": 11,
   "metadata": {
    "collapsed": false
   },
   "outputs": [],
   "source": [
    "df_novels = pd.read_csv('data/novel_key.csv','w', header=None)"
   ]
  },
  {
   "cell_type": "code",
   "execution_count": 12,
   "metadata": {
    "collapsed": false
   },
   "outputs": [
    {
     "data": {
      "text/html": [
       "<div>\n",
       "<table border=\"1\" class=\"dataframe\">\n",
       "  <thead>\n",
       "    <tr style=\"text-align: right;\">\n",
       "      <th></th>\n",
       "      <th>0</th>\n",
       "    </tr>\n",
       "  </thead>\n",
       "  <tbody>\n",
       "    <tr>\n",
       "      <th>0</th>\n",
       "      <td>1342</td>\n",
       "    </tr>\n",
       "    <tr>\n",
       "      <th>1</th>\n",
       "      <td>11</td>\n",
       "    </tr>\n",
       "    <tr>\n",
       "      <th>2</th>\n",
       "      <td>1661</td>\n",
       "    </tr>\n",
       "    <tr>\n",
       "      <th>3</th>\n",
       "      <td>52257</td>\n",
       "    </tr>\n",
       "    <tr>\n",
       "      <th>4</th>\n",
       "      <td>52247</td>\n",
       "    </tr>\n",
       "  </tbody>\n",
       "</table>\n",
       "</div>"
      ],
      "text/plain": [
       "       0\n",
       "0   1342\n",
       "1     11\n",
       "2   1661\n",
       "3  52257\n",
       "4  52247"
      ]
     },
     "execution_count": 12,
     "metadata": {},
     "output_type": "execute_result"
    }
   ],
   "source": [
    "df_novels.head()"
   ]
  },
  {
   "cell_type": "code",
   "execution_count": 13,
   "metadata": {
    "collapsed": true
   },
   "outputs": [],
   "source": [
    "df_novels.rename(columns={0:'novel_num'}, inplace=True)"
   ]
  },
  {
   "cell_type": "code",
   "execution_count": 14,
   "metadata": {
    "collapsed": false
   },
   "outputs": [
    {
     "data": {
      "text/html": [
       "<div>\n",
       "<table border=\"1\" class=\"dataframe\">\n",
       "  <thead>\n",
       "    <tr style=\"text-align: right;\">\n",
       "      <th></th>\n",
       "      <th>novel_num</th>\n",
       "    </tr>\n",
       "  </thead>\n",
       "  <tbody>\n",
       "    <tr>\n",
       "      <th>0</th>\n",
       "      <td>1342</td>\n",
       "    </tr>\n",
       "    <tr>\n",
       "      <th>1</th>\n",
       "      <td>11</td>\n",
       "    </tr>\n",
       "    <tr>\n",
       "      <th>2</th>\n",
       "      <td>1661</td>\n",
       "    </tr>\n",
       "    <tr>\n",
       "      <th>3</th>\n",
       "      <td>52257</td>\n",
       "    </tr>\n",
       "    <tr>\n",
       "      <th>4</th>\n",
       "      <td>52247</td>\n",
       "    </tr>\n",
       "  </tbody>\n",
       "</table>\n",
       "</div>"
      ],
      "text/plain": [
       "   novel_num\n",
       "0       1342\n",
       "1         11\n",
       "2       1661\n",
       "3      52257\n",
       "4      52247"
      ]
     },
     "execution_count": 14,
     "metadata": {},
     "output_type": "execute_result"
    }
   ],
   "source": [
    "df_novels.head()"
   ]
  },
  {
   "cell_type": "code",
   "execution_count": 22,
   "metadata": {
    "collapsed": true
   },
   "outputs": [],
   "source": [
    "title = []\n",
    "for n in novel_names:\n",
    "    t = n.encode('utf-8')\n",
    "    title.append(t)"
   ]
  },
  {
   "cell_type": "code",
   "execution_count": 23,
   "metadata": {
    "collapsed": false
   },
   "outputs": [
    {
     "data": {
      "text/plain": [
       "['Pride and Prejudice by Jane Austen ',\n",
       " \"Alice's Adventures in Wonderland by Lewis Carroll \",\n",
       " 'The Adventures of Sherlock Holmes by Arthur Conan Doyle ',\n",
       " 'When Sarah Saved the Day by Elsie Singmaster ',\n",
       " 'A Man from the North by Arnold Bennett ',\n",
       " 'Adventures of Huckleberry Finn by Mark Twain ',\n",
       " 'Metamorphosis by Franz Kafka ',\n",
       " 'The Jungle Book by Rudyard Kipling ',\n",
       " 'A Tale of Two Cities by Charles Dickens ',\n",
       " 'Constantinople, Vol. II of  by Edmondo De Amicis ',\n",
       " 'The Kama Sutra of Vatsyayana by Vatsyayana ',\n",
       " 'The Importance of Being Earnest: A Trivial Comedy for Serious People by Oscar Wilde ',\n",
       " 'Moby Dick; Or, The Whale by Herman Melville ',\n",
       " 'The Romance of Lust: A Classic Victorian erotic novel by Anonymous ',\n",
       " 'The Lead Pencil Manufactory of A. W. Faber at Stein near N\\xc3\\xbcrnberg, Bavaria by A. W. Faber ',\n",
       " 'Dracula by Bram Stoker ',\n",
       " 'Ulysses by James Joyce ',\n",
       " 'Emma by Jane Austen ',\n",
       " \"Grimms' Fairy Tales by Jacob Grimm and Wilhelm Grimm \",\n",
       " 'Frankenstein; Or, The Modern Prometheus by Mary Wollstonecraft Shelley ',\n",
       " 'The Yellow Wallpaper by Charlotte Perkins Gilman ',\n",
       " 'The Picture of Dorian Gray by Oscar Wilde ',\n",
       " 'Great Expectations by Charles Dickens ',\n",
       " 'War and Peace by graf Leo Tolstoy ',\n",
       " 'The Adventures of Tom Sawyer by Mark Twain ',\n",
       " 'Where Science and Religion Meet by William Scott Palmer ',\n",
       " 'Il Principe. English by Niccol\\xc3\\xb2 Machiavelli ',\n",
       " 'Jane Eyre: An Autobiography by Charlotte Bront\\xc3\\xab ',\n",
       " \"A Doll's House : a play by Henrik Ibsen \",\n",
       " \"A Nurse's Life in War and Peace by Eleanor Constance Laurence \",\n",
       " 'The Brownie Scouts and Their Tree House by Mildred A.  Wirt ',\n",
       " 'Les Mis\\xc3\\xa9rables by Victor Hugo ',\n",
       " 'Peter Pan by J. M.  Barrie ',\n",
       " 'The Count of Monte Cristo, Illustrated by Alexandre Dumas ',\n",
       " 'Across South America by Hiram Bingham ',\n",
       " 'The Complete Works of William Shakespeare by William Shakespeare ',\n",
       " 'Lady Susan by Jane Austen ',\n",
       " 'Leaves of Grass by Walt Whitman ',\n",
       " 'Beowulf ',\n",
       " 'Wuthering Heights by Emily Bront\\xc3\\xab ',\n",
       " 'The Brownie Scouts at Windmill Farm by Mildred A.  Wirt ',\n",
       " 'Tractatus Logico-Philosophicus by Ludwig Wittgenstein ',\n",
       " 'The Republic by Plato ',\n",
       " 'A Study in Scarlet by Arthur Conan Doyle ',\n",
       " 'My Secret Life, Volumes I. to III. by Anonymous ',\n",
       " 'A Modest Proposal by Jonathan Swift ',\n",
       " 'Treasure Island by Robert Louis Stevenson ',\n",
       " 'Through the Looking-Glass by Lewis Carroll ',\n",
       " 'Siddhartha by Hermann Hesse ',\n",
       " 'Search the Sky by C. M.  Kornbluth and Frederik Pohl ',\n",
       " 'Narrative of the Life of Frederick Douglass, an American Slave by Frederick Douglass ',\n",
       " 'The Life and Adventures of Robinson Crusoe by Daniel Defoe ',\n",
       " \"Historical Record of the Third or Princes of Wales' Regiment of Dragoon Guards: From Its Formation i \",\n",
       " 'The Brothers Karamazov by Fyodor Dostoyevsky ',\n",
       " 'How to Analyze People on Sight by Elsie Lincoln Benedict and Ralph Paine Benedict ',\n",
       " 'Prestuplenie i nakazanie. English by Fyodor Dostoyevsky ',\n",
       " 'The Inner Flame by Clara Louise Burnham ',\n",
       " 'The Tragedy of Romeo and Juliet by William Shakespeare ',\n",
       " 'Sense and Sensibility by Jane Austen ',\n",
       " \"Gulliver's Travels into Several Remote Nations of the World by Jonathan Swift \",\n",
       " 'The Strange Case of Dr. Jekyll and Mr. Hyde by Robert Louis Stevenson ',\n",
       " 'The  CIA World Factbook by United States. Central Intelligence Agency ',\n",
       " 'A Christmas Carol in Prose; Being a Ghost Story of Christmas by Charles Dickens ',\n",
       " 'The Time Machine by H. G.  Wells ',\n",
       " 'The Practice and Science of Drawing by Harold Speed ',\n",
       " 'Narrative of the Captivity and Restoration of Mrs. Mary Rowlandson by Mary White Rowlandson ',\n",
       " 'Constantinople, Vol. I of  by Edmondo De Amicis ',\n",
       " 'Autobiography of Benjamin Franklin by Benjamin Franklin ',\n",
       " 'Heart of Darkness by Joseph Conrad ',\n",
       " 'Dubliners by James Joyce ',\n",
       " \"Latin for Beginners by Benjamin L.  D'Ooge \",\n",
       " 'Calculus Made Easy by Silvanus P.  Thompson ',\n",
       " 'Boswell the Biographer by George Herbert Leigh Mallory ',\n",
       " 'Spanish and Portuguese South America during the Colonial Period; Vol.  of  by Robert Grant Watson ',\n",
       " 'Anne of Green Gables by L. M.  Montgomery ',\n",
       " 'Beyond Good and Evil by Friedrich Wilhelm Nietzsche ',\n",
       " 'The King James Version of the Bible ',\n",
       " 'Anna Karenina by graf Leo Tolstoy ',\n",
       " 'The Mysterious Affair at Styles by Agatha Christie ',\n",
       " 'The Works of Edgar Allan Poe \\xe2\\x80\\x94 Volume  by Edgar Allan Poe ',\n",
       " 'Three Men in a Boat by Jerome K.  Jerome ',\n",
       " 'The Divine Comedy by Dante, Illustrated by Dante Alighieri ',\n",
       " 'The Wonderful Wizard of Oz by L. Frank  Baum ',\n",
       " 'Mail Carrying Railways Underpaid by Committee on Railway Mail Pay ',\n",
       " 'The Twilight of the Idols - The Antichrist by Friedrich Wilhelm Nietzsche ',\n",
       " 'The Life of Tolstoy: First Fifty Years by Aylmer Maude ',\n",
       " 'Essays of Michel de Montaigne \\xe2\\x80\\x94 Complete by Michel de Montaigne ',\n",
       " 'Oliver Twist by Charles Dickens ',\n",
       " 'The History Of The Decline And Fall Of The Roman Empire by Edward Gibbon ',\n",
       " 'Don Quixote by Miguel de Cervantes Saavedra ',\n",
       " 'Heart of Darkness by Joseph Conrad ',\n",
       " 'History of the Royal Regiment of Artillery, Vol.  by Francis Duncan ',\n",
       " 'Walden, and On The Duty Of Civil Disobedience by Henry David Thoreau ',\n",
       " 'Leviathan by Thomas Hobbes ',\n",
       " 'Little Women by Louisa May Alcott ',\n",
       " 'The Works of Edgar Allan Poe \\xe2\\x80\\x94 Volume  by Edgar Allan Poe ',\n",
       " 'David Copperfield by Charles Dickens ',\n",
       " 'The Temptation of St. Anthony by Gustave Flaubert ',\n",
       " 'The Iliad by Homer ',\n",
       " 'Madame Bovary by Gustave Flaubert ']"
      ]
     },
     "execution_count": 23,
     "metadata": {},
     "output_type": "execute_result"
    }
   ],
   "source": [
    "title"
   ]
  },
  {
   "cell_type": "code",
   "execution_count": 24,
   "metadata": {
    "collapsed": true
   },
   "outputs": [],
   "source": [
    "df_novels['Title'] = title"
   ]
  },
  {
   "cell_type": "code",
   "execution_count": 25,
   "metadata": {
    "collapsed": false
   },
   "outputs": [
    {
     "data": {
      "text/html": [
       "<div>\n",
       "<table border=\"1\" class=\"dataframe\">\n",
       "  <thead>\n",
       "    <tr style=\"text-align: right;\">\n",
       "      <th></th>\n",
       "      <th>novel_num</th>\n",
       "      <th>Title</th>\n",
       "    </tr>\n",
       "  </thead>\n",
       "  <tbody>\n",
       "    <tr>\n",
       "      <th>0</th>\n",
       "      <td>1342</td>\n",
       "      <td>Pride and Prejudice by Jane Austen</td>\n",
       "    </tr>\n",
       "    <tr>\n",
       "      <th>1</th>\n",
       "      <td>11</td>\n",
       "      <td>Alice's Adventures in Wonderland by Lewis Carr...</td>\n",
       "    </tr>\n",
       "    <tr>\n",
       "      <th>2</th>\n",
       "      <td>1661</td>\n",
       "      <td>The Adventures of Sherlock Holmes by Arthur Co...</td>\n",
       "    </tr>\n",
       "    <tr>\n",
       "      <th>3</th>\n",
       "      <td>52257</td>\n",
       "      <td>When Sarah Saved the Day by Elsie Singmaster</td>\n",
       "    </tr>\n",
       "    <tr>\n",
       "      <th>4</th>\n",
       "      <td>52247</td>\n",
       "      <td>A Man from the North by Arnold Bennett</td>\n",
       "    </tr>\n",
       "  </tbody>\n",
       "</table>\n",
       "</div>"
      ],
      "text/plain": [
       "   novel_num                                              Title\n",
       "0       1342                Pride and Prejudice by Jane Austen \n",
       "1         11  Alice's Adventures in Wonderland by Lewis Carr...\n",
       "2       1661  The Adventures of Sherlock Holmes by Arthur Co...\n",
       "3      52257      When Sarah Saved the Day by Elsie Singmaster \n",
       "4      52247            A Man from the North by Arnold Bennett "
      ]
     },
     "execution_count": 25,
     "metadata": {},
     "output_type": "execute_result"
    }
   ],
   "source": [
    "df_novels.head()"
   ]
  },
  {
   "cell_type": "code",
   "execution_count": 26,
   "metadata": {
    "collapsed": false
   },
   "outputs": [
    {
     "data": {
      "text/html": [
       "<div>\n",
       "<table border=\"1\" class=\"dataframe\">\n",
       "  <thead>\n",
       "    <tr style=\"text-align: right;\">\n",
       "      <th></th>\n",
       "      <th>novel_num</th>\n",
       "      <th>Title</th>\n",
       "    </tr>\n",
       "  </thead>\n",
       "  <tbody>\n",
       "    <tr>\n",
       "      <th>95</th>\n",
       "      <td>2147</td>\n",
       "      <td>The Works of Edgar Allan Poe — Volume  by Edga...</td>\n",
       "    </tr>\n",
       "    <tr>\n",
       "      <th>96</th>\n",
       "      <td>766</td>\n",
       "      <td>David Copperfield by Charles Dickens</td>\n",
       "    </tr>\n",
       "    <tr>\n",
       "      <th>97</th>\n",
       "      <td>52225</td>\n",
       "      <td>The Temptation of St. Anthony by Gustave Flaub...</td>\n",
       "    </tr>\n",
       "    <tr>\n",
       "      <th>98</th>\n",
       "      <td>6130</td>\n",
       "      <td>The Iliad by Homer</td>\n",
       "    </tr>\n",
       "    <tr>\n",
       "      <th>99</th>\n",
       "      <td>2413</td>\n",
       "      <td>Madame Bovary by Gustave Flaubert</td>\n",
       "    </tr>\n",
       "  </tbody>\n",
       "</table>\n",
       "</div>"
      ],
      "text/plain": [
       "    novel_num                                              Title\n",
       "95       2147  The Works of Edgar Allan Poe — Volume  by Edga...\n",
       "96        766              David Copperfield by Charles Dickens \n",
       "97      52225  The Temptation of St. Anthony by Gustave Flaub...\n",
       "98       6130                                The Iliad by Homer \n",
       "99       2413                 Madame Bovary by Gustave Flaubert "
      ]
     },
     "execution_count": 26,
     "metadata": {},
     "output_type": "execute_result"
    }
   ],
   "source": [
    "df_novels.tail()"
   ]
  },
  {
   "cell_type": "code",
   "execution_count": 27,
   "metadata": {
    "collapsed": false
   },
   "outputs": [],
   "source": [
    "df_novels.to_csv('data/novel_key.csv', index=False)"
   ]
  },
  {
   "cell_type": "code",
   "execution_count": 28,
   "metadata": {
    "collapsed": false
   },
   "outputs": [
    {
     "data": {
      "text/plain": [
       "'Pride and Prejudice by Jane Austen '"
      ]
     },
     "execution_count": 28,
     "metadata": {},
     "output_type": "execute_result"
    }
   ],
   "source": [
    "df_novels['Title'][0]"
   ]
  },
  {
   "cell_type": "code",
   "execution_count": 29,
   "metadata": {
    "collapsed": false
   },
   "outputs": [
    {
     "data": {
      "text/html": [
       "<div>\n",
       "<table border=\"1\" class=\"dataframe\">\n",
       "  <thead>\n",
       "    <tr style=\"text-align: right;\">\n",
       "      <th></th>\n",
       "      <th>novel_num</th>\n",
       "      <th>Title</th>\n",
       "    </tr>\n",
       "  </thead>\n",
       "  <tbody>\n",
       "    <tr>\n",
       "      <th>0</th>\n",
       "      <td>1342</td>\n",
       "      <td>Pride and Prejudice by Jane Austen</td>\n",
       "    </tr>\n",
       "    <tr>\n",
       "      <th>1</th>\n",
       "      <td>11</td>\n",
       "      <td>Alice's Adventures in Wonderland by Lewis Carr...</td>\n",
       "    </tr>\n",
       "    <tr>\n",
       "      <th>2</th>\n",
       "      <td>1661</td>\n",
       "      <td>The Adventures of Sherlock Holmes by Arthur Co...</td>\n",
       "    </tr>\n",
       "    <tr>\n",
       "      <th>3</th>\n",
       "      <td>52257</td>\n",
       "      <td>When Sarah Saved the Day by Elsie Singmaster</td>\n",
       "    </tr>\n",
       "    <tr>\n",
       "      <th>4</th>\n",
       "      <td>52247</td>\n",
       "      <td>A Man from the North by Arnold Bennett</td>\n",
       "    </tr>\n",
       "  </tbody>\n",
       "</table>\n",
       "</div>"
      ],
      "text/plain": [
       "   novel_num                                              Title\n",
       "0       1342                Pride and Prejudice by Jane Austen \n",
       "1         11  Alice's Adventures in Wonderland by Lewis Carr...\n",
       "2       1661  The Adventures of Sherlock Holmes by Arthur Co...\n",
       "3      52257      When Sarah Saved the Day by Elsie Singmaster \n",
       "4      52247            A Man from the North by Arnold Bennett "
      ]
     },
     "execution_count": 29,
     "metadata": {},
     "output_type": "execute_result"
    }
   ],
   "source": [
    "df_novels.head()"
   ]
  },
  {
   "cell_type": "code",
   "execution_count": 30,
   "metadata": {
    "collapsed": false
   },
   "outputs": [],
   "source": [
    "key = pd.read_csv('data/novel_key.csv')"
   ]
  },
  {
   "cell_type": "code",
   "execution_count": 31,
   "metadata": {
    "collapsed": false
   },
   "outputs": [
    {
     "data": {
      "text/html": [
       "<div>\n",
       "<table border=\"1\" class=\"dataframe\">\n",
       "  <thead>\n",
       "    <tr style=\"text-align: right;\">\n",
       "      <th></th>\n",
       "      <th>novel_num</th>\n",
       "      <th>Title</th>\n",
       "    </tr>\n",
       "  </thead>\n",
       "  <tbody>\n",
       "    <tr>\n",
       "      <th>0</th>\n",
       "      <td>1342</td>\n",
       "      <td>Pride and Prejudice by Jane Austen</td>\n",
       "    </tr>\n",
       "    <tr>\n",
       "      <th>1</th>\n",
       "      <td>11</td>\n",
       "      <td>Alice's Adventures in Wonderland by Lewis Carr...</td>\n",
       "    </tr>\n",
       "    <tr>\n",
       "      <th>2</th>\n",
       "      <td>1661</td>\n",
       "      <td>The Adventures of Sherlock Holmes by Arthur Co...</td>\n",
       "    </tr>\n",
       "    <tr>\n",
       "      <th>3</th>\n",
       "      <td>52257</td>\n",
       "      <td>When Sarah Saved the Day by Elsie Singmaster</td>\n",
       "    </tr>\n",
       "    <tr>\n",
       "      <th>4</th>\n",
       "      <td>52247</td>\n",
       "      <td>A Man from the North by Arnold Bennett</td>\n",
       "    </tr>\n",
       "  </tbody>\n",
       "</table>\n",
       "</div>"
      ],
      "text/plain": [
       "   novel_num                                              Title\n",
       "0       1342                Pride and Prejudice by Jane Austen \n",
       "1         11  Alice's Adventures in Wonderland by Lewis Carr...\n",
       "2       1661  The Adventures of Sherlock Holmes by Arthur Co...\n",
       "3      52257      When Sarah Saved the Day by Elsie Singmaster \n",
       "4      52247            A Man from the North by Arnold Bennett "
      ]
     },
     "execution_count": 31,
     "metadata": {},
     "output_type": "execute_result"
    }
   ],
   "source": [
    "key.head()"
   ]
  },
  {
   "cell_type": "code",
   "execution_count": 32,
   "metadata": {
    "collapsed": false
   },
   "outputs": [
    {
     "data": {
      "text/plain": [
       "0    1342\n",
       "1      11\n",
       "2    1661\n",
       "Name: novel_num, dtype: int64"
      ]
     },
     "execution_count": 32,
     "metadata": {},
     "output_type": "execute_result"
    }
   ],
   "source": [
    "key['novel_num'][:3]"
   ]
  },
  {
   "cell_type": "code",
   "execution_count": 33,
   "metadata": {
    "collapsed": false
   },
   "outputs": [
    {
     "data": {
      "text/plain": [
       "'Pride and Prejudice by Jane Austen '"
      ]
     },
     "execution_count": 33,
     "metadata": {},
     "output_type": "execute_result"
    }
   ],
   "source": [
    "key['Title'][0]"
   ]
  },
  {
   "cell_type": "code",
   "execution_count": 39,
   "metadata": {
    "collapsed": false
   },
   "outputs": [
    {
     "name": "stdout",
     "output_type": "stream",
     "text": [
      "1342\n",
      "11\n",
      "1661\n",
      "52257\n",
      "52247\n",
      "76\n",
      "5200\n",
      "236\n",
      "98\n",
      "52251\n",
      "27827\n",
      "844\n",
      "2701\n",
      "30254\n",
      "52256\n",
      "345\n",
      "4300\n",
      "158\n",
      "2591\n",
      "84\n",
      "1952\n",
      "174\n",
      "1400\n",
      "2600\n",
      "74\n",
      "52245\n",
      "1232\n",
      "1260\n",
      "2542\n",
      "52250\n",
      "52255\n",
      "135\n",
      "16\n",
      "1184\n",
      "52248\n",
      "100\n",
      "946\n",
      "1322\n",
      "16328\n",
      "768\n",
      "52254\n",
      "5740\n",
      "1497\n",
      "244\n",
      "30360\n",
      "1080\n",
      "120\n",
      "12\n",
      "2500\n",
      "52228\n",
      "23\n",
      "521\n",
      "52249\n",
      "28054\n",
      "30601\n",
      "2554\n",
      "52240\n",
      "1112\n",
      "161\n",
      "829\n",
      "42\n",
      "3672\n",
      "46\n",
      "35\n",
      "14264\n",
      "851\n",
      "51728\n",
      "20203\n",
      "219\n",
      "2814\n",
      "18251\n",
      "33283\n",
      "52246\n",
      "52252\n",
      "45\n",
      "4363\n",
      "10\n",
      "1399\n",
      "863\n",
      "2148\n",
      "308\n",
      "8800\n",
      "55\n",
      "52244\n",
      "52263\n",
      "52242\n",
      "3600\n",
      "730\n",
      "25717\n",
      "996\n",
      "526\n",
      "52258\n",
      "205\n",
      "3207\n",
      "514\n",
      "2147\n",
      "766\n",
      "52225\n",
      "6130\n",
      "2413\n"
     ]
    }
   ],
   "source": [
    "with open('data/novel_key.csv', 'r') as csvfile:\n",
    "    #with open('../data/test_list.csv') as csvfile:\n",
    "        listreader = csv.reader(csvfile.read().splitlines())\n",
    "        for row in listreader:\n",
    "            nv = row[0]\n",
    "            print nv"
   ]
  },
  {
   "cell_type": "code",
   "execution_count": null,
   "metadata": {
    "collapsed": true
   },
   "outputs": [],
   "source": []
  }
 ],
 "metadata": {
  "kernelspec": {
   "display_name": "Python [Root]",
   "language": "python",
   "name": "Python [Root]"
  },
  "language_info": {
   "codemirror_mode": {
    "name": "ipython",
    "version": 3
   },
   "file_extension": ".py",
   "mimetype": "text/x-python",
   "name": "python",
   "nbconvert_exporter": "python",
   "pygments_lexer": "ipython3",
   "version": "3.5.2"
  }
 },
 "nbformat": 4,
 "nbformat_minor": 0
}
