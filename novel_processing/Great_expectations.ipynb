{
 "cells": [
  {
   "cell_type": "code",
   "execution_count": 1,
   "metadata": {
    "collapsed": true
   },
   "outputs": [],
   "source": [
    "import pandas as pd\n",
    "from textblob import TextBlob\n",
    "import csv\n",
    "from gutenberg.acquire import load_etext\n",
    "from gutenberg.cleanup import strip_headers\n",
    "import os\n",
    "import numpy as np"
   ]
  },
  {
   "cell_type": "code",
   "execution_count": 2,
   "metadata": {
    "collapsed": true
   },
   "outputs": [],
   "source": [
    "import seaborn as sns\n",
    "import matplotlib.pyplot as plt\n",
    "%matplotlib inline\n",
    "plt.rcParams['figure.figsize'] = (8, 6)\n",
    "plt.rcParams['font.size'] = 14"
   ]
  },
  {
   "cell_type": "markdown",
   "metadata": {},
   "source": [
    "Create the novel variables"
   ]
  },
  {
   "cell_type": "code",
   "execution_count": 3,
   "metadata": {
    "collapsed": true
   },
   "outputs": [],
   "source": [
    "n = 1400  #novel number\n",
    "t = 'Great_Expectations'#novel name\n",
    "s = 1 #how many rows to skip"
   ]
  },
  {
   "cell_type": "markdown",
   "metadata": {},
   "source": [
    "* Get the novels from Gutenberg.\n",
    "* Strip them of unwanted information.\n",
    "* Tokenize the text into sentences."
   ]
  },
  {
   "cell_type": "code",
   "execution_count": 4,
   "metadata": {
    "collapsed": true
   },
   "outputs": [],
   "source": [
    "novel = strip_headers(load_etext(n))\n",
    "novel = novel.replace('\\n', ' ')\n",
    "novel= TextBlob(novel)\n",
    "novel_sentences = novel.sentences\n",
    "novel_title = t"
   ]
  },
  {
   "cell_type": "markdown",
   "metadata": {},
   "source": [
    "Write the sentences to a csv file. \n",
    "-There is a bug I haven't figure out yet that requires me to write to csv twice to avoid errors."
   ]
  },
  {
   "cell_type": "code",
   "execution_count": 5,
   "metadata": {
    "collapsed": true
   },
   "outputs": [],
   "source": [
    "with open('data/novel_'+novel_title+'.csv', 'wb') as f:\n",
    "    writer = csv.writer(f)\n",
    "    for sentence in novel_sentences:\n",
    "        writer.writerow([sentence])"
   ]
  },
  {
   "cell_type": "markdown",
   "metadata": {},
   "source": [
    "Read in the csv file to pandas"
   ]
  },
  {
   "cell_type": "code",
   "execution_count": 6,
   "metadata": {
    "collapsed": true
   },
   "outputs": [],
   "source": [
    "df_novel = pd.read_csv('data/novel_'+novel_title+'.csv', skiprows = s, header=None)"
   ]
  },
  {
   "cell_type": "code",
   "execution_count": 7,
   "metadata": {
    "collapsed": false
   },
   "outputs": [
    {
     "data": {
      "text/html": [
       "<div>\n",
       "<table border=\"1\" class=\"dataframe\">\n",
       "  <thead>\n",
       "    <tr style=\"text-align: right;\">\n",
       "      <th></th>\n",
       "      <th>0</th>\n",
       "    </tr>\n",
       "  </thead>\n",
       "  <tbody>\n",
       "    <tr>\n",
       "      <th>0</th>\n",
       "      <td>So, I called myself Pip, and came to be called...</td>\n",
       "    </tr>\n",
       "    <tr>\n",
       "      <th>1</th>\n",
       "      <td>I give Pirrip as my father's family name, on t...</td>\n",
       "    </tr>\n",
       "    <tr>\n",
       "      <th>2</th>\n",
       "      <td>As I never saw my father or my mother, and nev...</td>\n",
       "    </tr>\n",
       "    <tr>\n",
       "      <th>3</th>\n",
       "      <td>The shape of the letters on my father's, gave ...</td>\n",
       "    </tr>\n",
       "    <tr>\n",
       "      <th>4</th>\n",
       "      <td>From the character and turn of the inscription...</td>\n",
       "    </tr>\n",
       "  </tbody>\n",
       "</table>\n",
       "</div>"
      ],
      "text/plain": [
       "                                                   0\n",
       "0  So, I called myself Pip, and came to be called...\n",
       "1  I give Pirrip as my father's family name, on t...\n",
       "2  As I never saw my father or my mother, and nev...\n",
       "3  The shape of the letters on my father's, gave ...\n",
       "4  From the character and turn of the inscription..."
      ]
     },
     "execution_count": 7,
     "metadata": {},
     "output_type": "execute_result"
    }
   ],
   "source": [
    "df_novel.head()"
   ]
  },
  {
   "cell_type": "markdown",
   "metadata": {},
   "source": [
    "Create the wrd_length and total_char columns."
   ]
  },
  {
   "cell_type": "code",
   "execution_count": 8,
   "metadata": {
    "collapsed": true
   },
   "outputs": [],
   "source": [
    "wrd_length = []\n",
    "total_char = []\n",
    "def wrd_char_counts(sentence):\n",
    "    total_chars = 0\n",
    "    wrd_counts = []\n",
    "    for word in sentence:\n",
    "        char_count = len(word)\n",
    "        wrd_counts.append(char_count)\n",
    "        total_chars += char_count\n",
    "    total_char.append(total_chars)\n",
    "    wrd_length.append(wrd_counts)"
   ]
  },
  {
   "cell_type": "code",
   "execution_count": 9,
   "metadata": {
    "collapsed": true
   },
   "outputs": [],
   "source": [
    "for l in df_novel[0]:\n",
    "    sent = TextBlob(l)\n",
    "    wrd_char_counts(sent.words)"
   ]
  },
  {
   "cell_type": "code",
   "execution_count": 10,
   "metadata": {
    "collapsed": true
   },
   "outputs": [],
   "source": [
    "df_novel['wrd_length'] = wrd_length\n",
    "df_novel['total_char'] = total_char"
   ]
  },
  {
   "cell_type": "code",
   "execution_count": 11,
   "metadata": {
    "collapsed": false
   },
   "outputs": [
    {
     "data": {
      "text/html": [
       "<div>\n",
       "<table border=\"1\" class=\"dataframe\">\n",
       "  <thead>\n",
       "    <tr style=\"text-align: right;\">\n",
       "      <th></th>\n",
       "      <th>0</th>\n",
       "      <th>wrd_length</th>\n",
       "      <th>total_char</th>\n",
       "    </tr>\n",
       "  </thead>\n",
       "  <tbody>\n",
       "    <tr>\n",
       "      <th>0</th>\n",
       "      <td>So, I called myself Pip, and came to be called...</td>\n",
       "      <td>[2, 1, 6, 6, 3, 3, 4, 2, 2, 6, 3]</td>\n",
       "      <td>38</td>\n",
       "    </tr>\n",
       "    <tr>\n",
       "      <th>1</th>\n",
       "      <td>I give Pirrip as my father's family name, on t...</td>\n",
       "      <td>[1, 4, 6, 2, 2, 6, 2, 6, 4, 2, 3, 9, 2, 3, 9, ...</td>\n",
       "      <td>108</td>\n",
       "    </tr>\n",
       "    <tr>\n",
       "      <th>2</th>\n",
       "      <td>As I never saw my father or my mother, and nev...</td>\n",
       "      <td>[2, 1, 5, 3, 2, 6, 2, 2, 6, 3, 5, 3, 3, 8, 2, ...</td>\n",
       "      <td>192</td>\n",
       "    </tr>\n",
       "    <tr>\n",
       "      <th>3</th>\n",
       "      <td>The shape of the letters on my father's, gave ...</td>\n",
       "      <td>[3, 5, 2, 3, 7, 2, 2, 6, 2, 4, 2, 2, 3, 4, 4, ...</td>\n",
       "      <td>93</td>\n",
       "    </tr>\n",
       "    <tr>\n",
       "      <th>4</th>\n",
       "      <td>From the character and turn of the inscription...</td>\n",
       "      <td>[4, 3, 9, 3, 4, 2, 3, 11, 4, 9, 4, 2, 3, 5, 1,...</td>\n",
       "      <td>122</td>\n",
       "    </tr>\n",
       "  </tbody>\n",
       "</table>\n",
       "</div>"
      ],
      "text/plain": [
       "                                                   0  \\\n",
       "0  So, I called myself Pip, and came to be called...   \n",
       "1  I give Pirrip as my father's family name, on t...   \n",
       "2  As I never saw my father or my mother, and nev...   \n",
       "3  The shape of the letters on my father's, gave ...   \n",
       "4  From the character and turn of the inscription...   \n",
       "\n",
       "                                          wrd_length  total_char  \n",
       "0                  [2, 1, 6, 6, 3, 3, 4, 2, 2, 6, 3]          38  \n",
       "1  [1, 4, 6, 2, 2, 6, 2, 6, 4, 2, 3, 9, 2, 3, 9, ...         108  \n",
       "2  [2, 1, 5, 3, 2, 6, 2, 2, 6, 3, 5, 3, 3, 8, 2, ...         192  \n",
       "3  [3, 5, 2, 3, 7, 2, 2, 6, 2, 4, 2, 2, 3, 4, 4, ...          93  \n",
       "4  [4, 3, 9, 3, 4, 2, 3, 11, 4, 9, 4, 2, 3, 5, 1,...         122  "
      ]
     },
     "execution_count": 11,
     "metadata": {},
     "output_type": "execute_result"
    }
   ],
   "source": [
    "df_novel.head()"
   ]
  },
  {
   "cell_type": "markdown",
   "metadata": {},
   "source": [
    "Create syllable count column"
   ]
  },
  {
   "cell_type": "code",
   "execution_count": 12,
   "metadata": {
    "collapsed": true
   },
   "outputs": [],
   "source": [
    "def CountSyllables(word, isName=True):\n",
    "    vowels = \"aeiouy\"\n",
    "    #single syllables in words like bread and lead, but split in names like Breanne and Adreann\n",
    "    specials = [\"ia\",\"ea\"] if isName else [\"ia\"]\n",
    "    specials_except_end = [\"ie\",\"ya\",\"es\",\"ed\"]  #seperate syllables unless ending the word\n",
    "    currentWord = word.lower()\n",
    "    numVowels = 0\n",
    "    lastWasVowel = False\n",
    "    last_letter = \"\"\n",
    "\n",
    "    for letter in currentWord:\n",
    "        if letter in vowels:\n",
    "            #don't count diphthongs unless special cases\n",
    "            combo = last_letter+letter\n",
    "            if lastWasVowel and combo not in specials and combo not in specials_except_end:\n",
    "                lastWasVowel = True\n",
    "            else:\n",
    "                numVowels += 1\n",
    "                lastWasVowel = True\n",
    "        else:\n",
    "            lastWasVowel = False\n",
    "\n",
    "        last_letter = letter\n",
    "\n",
    "    #remove es & ed which are usually silent\n",
    "    if len(currentWord) > 2 and currentWord[-2:] in specials_except_end:\n",
    "        numVowels -= 1\n",
    "\n",
    "    #remove silent single e, but not ee since it counted it before and we should be correct\n",
    "    elif len(currentWord) > 2 and currentWord[-1:] == \"e\" and currentWord[-2:] != \"ee\" and currentWord != 'the':\n",
    "        numVowels -= 1\n",
    "\n",
    "    return numVowels"
   ]
  },
  {
   "cell_type": "code",
   "execution_count": 13,
   "metadata": {
    "collapsed": true
   },
   "outputs": [],
   "source": [
    "syl = []\n",
    "for l in df_novel[0]:\n",
    "    sent = TextBlob(l)\n",
    "    syl_single = []\n",
    "    for x in sent.words:\n",
    "        m = CountSyllables(x)\n",
    "        syl_single.append(m)\n",
    "    syl.append(syl_single)  "
   ]
  },
  {
   "cell_type": "code",
   "execution_count": 14,
   "metadata": {
    "collapsed": true
   },
   "outputs": [],
   "source": [
    "syl_count_arr = []\n",
    "for n in syl:\n",
    "    n = np.array(n)\n",
    "    syl_count_arr.append(n)"
   ]
  },
  {
   "cell_type": "code",
   "execution_count": 15,
   "metadata": {
    "collapsed": true
   },
   "outputs": [],
   "source": [
    "df_novel['syl_count'] = syl_count_arr"
   ]
  },
  {
   "cell_type": "code",
   "execution_count": 16,
   "metadata": {
    "collapsed": false
   },
   "outputs": [
    {
     "data": {
      "text/html": [
       "<div>\n",
       "<table border=\"1\" class=\"dataframe\">\n",
       "  <thead>\n",
       "    <tr style=\"text-align: right;\">\n",
       "      <th></th>\n",
       "      <th>0</th>\n",
       "      <th>wrd_length</th>\n",
       "      <th>total_char</th>\n",
       "      <th>syl_count</th>\n",
       "    </tr>\n",
       "  </thead>\n",
       "  <tbody>\n",
       "    <tr>\n",
       "      <th>0</th>\n",
       "      <td>So, I called myself Pip, and came to be called...</td>\n",
       "      <td>[2, 1, 6, 6, 3, 3, 4, 2, 2, 6, 3]</td>\n",
       "      <td>38</td>\n",
       "      <td>[1, 1, 1, 2, 1, 1, 1, 1, 1, 1, 1]</td>\n",
       "    </tr>\n",
       "    <tr>\n",
       "      <th>1</th>\n",
       "      <td>I give Pirrip as my father's family name, on t...</td>\n",
       "      <td>[1, 4, 6, 2, 2, 6, 2, 6, 4, 2, 3, 9, 2, 3, 9, ...</td>\n",
       "      <td>108</td>\n",
       "      <td>[1, 1, 2, 1, 1, 2, 0, 3, 1, 1, 1, 4, 1, 1, 2, ...</td>\n",
       "    </tr>\n",
       "    <tr>\n",
       "      <th>2</th>\n",
       "      <td>As I never saw my father or my mother, and nev...</td>\n",
       "      <td>[2, 1, 5, 3, 2, 6, 2, 2, 6, 3, 5, 3, 3, 8, 2, ...</td>\n",
       "      <td>192</td>\n",
       "      <td>[1, 1, 2, 1, 1, 2, 1, 1, 2, 1, 2, 1, 2, 3, 1, ...</td>\n",
       "    </tr>\n",
       "    <tr>\n",
       "      <th>3</th>\n",
       "      <td>The shape of the letters on my father's, gave ...</td>\n",
       "      <td>[3, 5, 2, 3, 7, 2, 2, 6, 2, 4, 2, 2, 3, 4, 4, ...</td>\n",
       "      <td>93</td>\n",
       "      <td>[1, 1, 1, 1, 2, 1, 1, 2, 0, 1, 1, 1, 1, 3, 1, ...</td>\n",
       "    </tr>\n",
       "    <tr>\n",
       "      <th>4</th>\n",
       "      <td>From the character and turn of the inscription...</td>\n",
       "      <td>[4, 3, 9, 3, 4, 2, 3, 11, 4, 9, 4, 2, 3, 5, 1,...</td>\n",
       "      <td>122</td>\n",
       "      <td>[1, 1, 3, 1, 1, 1, 1, 3, 2, 4, 1, 1, 1, 2, 1, ...</td>\n",
       "    </tr>\n",
       "  </tbody>\n",
       "</table>\n",
       "</div>"
      ],
      "text/plain": [
       "                                                   0  \\\n",
       "0  So, I called myself Pip, and came to be called...   \n",
       "1  I give Pirrip as my father's family name, on t...   \n",
       "2  As I never saw my father or my mother, and nev...   \n",
       "3  The shape of the letters on my father's, gave ...   \n",
       "4  From the character and turn of the inscription...   \n",
       "\n",
       "                                          wrd_length  total_char  \\\n",
       "0                  [2, 1, 6, 6, 3, 3, 4, 2, 2, 6, 3]          38   \n",
       "1  [1, 4, 6, 2, 2, 6, 2, 6, 4, 2, 3, 9, 2, 3, 9, ...         108   \n",
       "2  [2, 1, 5, 3, 2, 6, 2, 2, 6, 3, 5, 3, 3, 8, 2, ...         192   \n",
       "3  [3, 5, 2, 3, 7, 2, 2, 6, 2, 4, 2, 2, 3, 4, 4, ...          93   \n",
       "4  [4, 3, 9, 3, 4, 2, 3, 11, 4, 9, 4, 2, 3, 5, 1,...         122   \n",
       "\n",
       "                                           syl_count  \n",
       "0                  [1, 1, 1, 2, 1, 1, 1, 1, 1, 1, 1]  \n",
       "1  [1, 1, 2, 1, 1, 2, 0, 3, 1, 1, 1, 4, 1, 1, 2, ...  \n",
       "2  [1, 1, 2, 1, 1, 2, 1, 1, 2, 1, 2, 1, 2, 3, 1, ...  \n",
       "3  [1, 1, 1, 1, 2, 1, 1, 2, 0, 1, 1, 1, 1, 3, 1, ...  \n",
       "4  [1, 1, 3, 1, 1, 1, 1, 3, 2, 4, 1, 1, 1, 2, 1, ...  "
      ]
     },
     "execution_count": 16,
     "metadata": {},
     "output_type": "execute_result"
    }
   ],
   "source": [
    "df_novel.head()"
   ]
  },
  {
   "cell_type": "code",
   "execution_count": 17,
   "metadata": {
    "collapsed": true
   },
   "outputs": [],
   "source": [
    "#If novel has a lot of numbers for chapter headings.\n",
    "#d = df_novel[df_novel['total_char']<=2]"
   ]
  },
  {
   "cell_type": "markdown",
   "metadata": {},
   "source": [
    "Create csv file to record syllable count per word. "
   ]
  },
  {
   "cell_type": "code",
   "execution_count": 18,
   "metadata": {
    "collapsed": true
   },
   "outputs": [],
   "source": [
    "d = {}\n",
    "for l in df_novel[0]:\n",
    "    sent = TextBlob(l)\n",
    "    for x in sent.words:\n",
    "        w = CountSyllables(x)\n",
    "        d[x] = w"
   ]
  },
  {
   "cell_type": "code",
   "execution_count": 19,
   "metadata": {
    "collapsed": true
   },
   "outputs": [],
   "source": [
    "with open('data/novel_'+novel_title+'_syl.csv', 'wb') as f:\n",
    "    writer = csv.writer(f)\n",
    "    for row in d.iteritems():\n",
    "        writer.writerow(row)"
   ]
  },
  {
   "cell_type": "markdown",
   "metadata": {},
   "source": [
    "Create syllable sum column"
   ]
  },
  {
   "cell_type": "code",
   "execution_count": 20,
   "metadata": {
    "collapsed": true
   },
   "outputs": [],
   "source": [
    "syl_sum = []\n",
    "for l in range(0,len(df_novel)):\n",
    "    syl_sum.append(df_novel['syl_count'][l].sum())"
   ]
  },
  {
   "cell_type": "code",
   "execution_count": 21,
   "metadata": {
    "collapsed": true
   },
   "outputs": [],
   "source": [
    "df_novel['syl_sum'] = syl_sum"
   ]
  },
  {
   "cell_type": "markdown",
   "metadata": {},
   "source": [
    "Create sentiment column"
   ]
  },
  {
   "cell_type": "code",
   "execution_count": 22,
   "metadata": {
    "collapsed": true
   },
   "outputs": [],
   "source": [
    "def detect_sentiment(text):\n",
    "    return TextBlob(text.decode('utf-8')).sentiment.polarity"
   ]
  },
  {
   "cell_type": "code",
   "execution_count": 23,
   "metadata": {
    "collapsed": true
   },
   "outputs": [],
   "source": [
    "df_novel['sentiment'] = df_novel[0].apply(detect_sentiment)"
   ]
  },
  {
   "cell_type": "markdown",
   "metadata": {},
   "source": [
    "Create cluster dataframe - remove columns that can't be used"
   ]
  },
  {
   "cell_type": "code",
   "execution_count": 24,
   "metadata": {
    "collapsed": true
   },
   "outputs": [],
   "source": [
    "df_cluster = df_novel.drop('wrd_length', 1)"
   ]
  },
  {
   "cell_type": "code",
   "execution_count": 25,
   "metadata": {
    "collapsed": true
   },
   "outputs": [],
   "source": [
    "df_cluster = df_cluster.drop('syl_count', 1)"
   ]
  },
  {
   "cell_type": "code",
   "execution_count": 26,
   "metadata": {
    "collapsed": false
   },
   "outputs": [
    {
     "data": {
      "text/html": [
       "<div>\n",
       "<table border=\"1\" class=\"dataframe\">\n",
       "  <thead>\n",
       "    <tr style=\"text-align: right;\">\n",
       "      <th></th>\n",
       "      <th>0</th>\n",
       "      <th>total_char</th>\n",
       "      <th>syl_sum</th>\n",
       "      <th>sentiment</th>\n",
       "    </tr>\n",
       "  </thead>\n",
       "  <tbody>\n",
       "    <tr>\n",
       "      <th>0</th>\n",
       "      <td>So, I called myself Pip, and came to be called...</td>\n",
       "      <td>38</td>\n",
       "      <td>12</td>\n",
       "      <td>0.000000</td>\n",
       "    </tr>\n",
       "    <tr>\n",
       "      <th>1</th>\n",
       "      <td>I give Pirrip as my father's family name, on t...</td>\n",
       "      <td>108</td>\n",
       "      <td>35</td>\n",
       "      <td>0.250000</td>\n",
       "    </tr>\n",
       "    <tr>\n",
       "      <th>2</th>\n",
       "      <td>As I never saw my father or my mother, and nev...</td>\n",
       "      <td>192</td>\n",
       "      <td>63</td>\n",
       "      <td>0.100000</td>\n",
       "    </tr>\n",
       "    <tr>\n",
       "      <th>3</th>\n",
       "      <td>The shape of the letters on my father's, gave ...</td>\n",
       "      <td>93</td>\n",
       "      <td>30</td>\n",
       "      <td>-0.161111</td>\n",
       "    </tr>\n",
       "    <tr>\n",
       "      <th>4</th>\n",
       "      <td>From the character and turn of the inscription...</td>\n",
       "      <td>122</td>\n",
       "      <td>40</td>\n",
       "      <td>-0.304762</td>\n",
       "    </tr>\n",
       "  </tbody>\n",
       "</table>\n",
       "</div>"
      ],
      "text/plain": [
       "                                                   0  total_char  syl_sum  \\\n",
       "0  So, I called myself Pip, and came to be called...          38       12   \n",
       "1  I give Pirrip as my father's family name, on t...         108       35   \n",
       "2  As I never saw my father or my mother, and nev...         192       63   \n",
       "3  The shape of the letters on my father's, gave ...          93       30   \n",
       "4  From the character and turn of the inscription...         122       40   \n",
       "\n",
       "   sentiment  \n",
       "0   0.000000  \n",
       "1   0.250000  \n",
       "2   0.100000  \n",
       "3  -0.161111  \n",
       "4  -0.304762  "
      ]
     },
     "execution_count": 26,
     "metadata": {},
     "output_type": "execute_result"
    }
   ],
   "source": [
    "df_cluster.head()"
   ]
  },
  {
   "cell_type": "markdown",
   "metadata": {},
   "source": [
    "Create 20 clusters on scaled data"
   ]
  },
  {
   "cell_type": "code",
   "execution_count": 27,
   "metadata": {
    "collapsed": true
   },
   "outputs": [],
   "source": [
    "X = df_cluster.drop(0, axis=1)"
   ]
  },
  {
   "cell_type": "code",
   "execution_count": 28,
   "metadata": {
    "collapsed": true
   },
   "outputs": [],
   "source": [
    "from sklearn.cluster import KMeans\n",
    "from sklearn.preprocessing import StandardScaler\n",
    "scaler = StandardScaler()\n",
    "X_scaled = scaler.fit_transform(X)"
   ]
  },
  {
   "cell_type": "code",
   "execution_count": 29,
   "metadata": {
    "collapsed": false
   },
   "outputs": [
    {
     "data": {
      "text/plain": [
       "KMeans(copy_x=True, init='k-means++', max_iter=300, n_clusters=20, n_init=10,\n",
       "    n_jobs=1, precompute_distances='auto', random_state=1, tol=0.0001,\n",
       "    verbose=0)"
      ]
     },
     "execution_count": 29,
     "metadata": {},
     "output_type": "execute_result"
    }
   ],
   "source": [
    "km = KMeans(n_clusters=20, random_state=1)\n",
    "km.fit(X_scaled)"
   ]
  },
  {
   "cell_type": "code",
   "execution_count": 30,
   "metadata": {
    "collapsed": true
   },
   "outputs": [],
   "source": [
    "df_cluster_20 = df_cluster.copy()"
   ]
  },
  {
   "cell_type": "code",
   "execution_count": 31,
   "metadata": {
    "collapsed": true
   },
   "outputs": [],
   "source": [
    "df_cluster_20['cluster'] = km.labels_"
   ]
  },
  {
   "cell_type": "code",
   "execution_count": 32,
   "metadata": {
    "collapsed": false
   },
   "outputs": [
    {
     "data": {
      "text/html": [
       "<div>\n",
       "<table border=\"1\" class=\"dataframe\">\n",
       "  <thead>\n",
       "    <tr style=\"text-align: right;\">\n",
       "      <th></th>\n",
       "      <th>0</th>\n",
       "      <th>total_char</th>\n",
       "      <th>syl_sum</th>\n",
       "      <th>sentiment</th>\n",
       "      <th>cluster</th>\n",
       "    </tr>\n",
       "  </thead>\n",
       "  <tbody>\n",
       "    <tr>\n",
       "      <th>0</th>\n",
       "      <td>So, I called myself Pip, and came to be called...</td>\n",
       "      <td>38</td>\n",
       "      <td>12</td>\n",
       "      <td>0.000000</td>\n",
       "      <td>1</td>\n",
       "    </tr>\n",
       "    <tr>\n",
       "      <th>1</th>\n",
       "      <td>I give Pirrip as my father's family name, on t...</td>\n",
       "      <td>108</td>\n",
       "      <td>35</td>\n",
       "      <td>0.250000</td>\n",
       "      <td>18</td>\n",
       "    </tr>\n",
       "    <tr>\n",
       "      <th>2</th>\n",
       "      <td>As I never saw my father or my mother, and nev...</td>\n",
       "      <td>192</td>\n",
       "      <td>63</td>\n",
       "      <td>0.100000</td>\n",
       "      <td>7</td>\n",
       "    </tr>\n",
       "    <tr>\n",
       "      <th>3</th>\n",
       "      <td>The shape of the letters on my father's, gave ...</td>\n",
       "      <td>93</td>\n",
       "      <td>30</td>\n",
       "      <td>-0.161111</td>\n",
       "      <td>4</td>\n",
       "    </tr>\n",
       "    <tr>\n",
       "      <th>4</th>\n",
       "      <td>From the character and turn of the inscription...</td>\n",
       "      <td>122</td>\n",
       "      <td>40</td>\n",
       "      <td>-0.304762</td>\n",
       "      <td>4</td>\n",
       "    </tr>\n",
       "  </tbody>\n",
       "</table>\n",
       "</div>"
      ],
      "text/plain": [
       "                                                   0  total_char  syl_sum  \\\n",
       "0  So, I called myself Pip, and came to be called...          38       12   \n",
       "1  I give Pirrip as my father's family name, on t...         108       35   \n",
       "2  As I never saw my father or my mother, and nev...         192       63   \n",
       "3  The shape of the letters on my father's, gave ...          93       30   \n",
       "4  From the character and turn of the inscription...         122       40   \n",
       "\n",
       "   sentiment  cluster  \n",
       "0   0.000000        1  \n",
       "1   0.250000       18  \n",
       "2   0.100000        7  \n",
       "3  -0.161111        4  \n",
       "4  -0.304762        4  "
      ]
     },
     "execution_count": 32,
     "metadata": {},
     "output_type": "execute_result"
    }
   ],
   "source": [
    "df_cluster_20.head()"
   ]
  },
  {
   "cell_type": "code",
   "execution_count": 33,
   "metadata": {
    "collapsed": false
   },
   "outputs": [
    {
     "data": {
      "text/html": [
       "<div>\n",
       "<table border=\"1\" class=\"dataframe\">\n",
       "  <thead>\n",
       "    <tr style=\"text-align: right;\">\n",
       "      <th></th>\n",
       "      <th>0</th>\n",
       "      <th>total_char</th>\n",
       "      <th>syl_sum</th>\n",
       "      <th>sentiment</th>\n",
       "    </tr>\n",
       "  </thead>\n",
       "  <tbody>\n",
       "    <tr>\n",
       "      <th>0</th>\n",
       "      <td>So, I called myself Pip, and came to be called...</td>\n",
       "      <td>38</td>\n",
       "      <td>12</td>\n",
       "      <td>0.000000</td>\n",
       "    </tr>\n",
       "    <tr>\n",
       "      <th>1</th>\n",
       "      <td>I give Pirrip as my father's family name, on t...</td>\n",
       "      <td>108</td>\n",
       "      <td>35</td>\n",
       "      <td>0.250000</td>\n",
       "    </tr>\n",
       "    <tr>\n",
       "      <th>2</th>\n",
       "      <td>As I never saw my father or my mother, and nev...</td>\n",
       "      <td>192</td>\n",
       "      <td>63</td>\n",
       "      <td>0.100000</td>\n",
       "    </tr>\n",
       "    <tr>\n",
       "      <th>3</th>\n",
       "      <td>The shape of the letters on my father's, gave ...</td>\n",
       "      <td>93</td>\n",
       "      <td>30</td>\n",
       "      <td>-0.161111</td>\n",
       "    </tr>\n",
       "    <tr>\n",
       "      <th>4</th>\n",
       "      <td>From the character and turn of the inscription...</td>\n",
       "      <td>122</td>\n",
       "      <td>40</td>\n",
       "      <td>-0.304762</td>\n",
       "    </tr>\n",
       "  </tbody>\n",
       "</table>\n",
       "</div>"
      ],
      "text/plain": [
       "                                                   0  total_char  syl_sum  \\\n",
       "0  So, I called myself Pip, and came to be called...          38       12   \n",
       "1  I give Pirrip as my father's family name, on t...         108       35   \n",
       "2  As I never saw my father or my mother, and nev...         192       63   \n",
       "3  The shape of the letters on my father's, gave ...          93       30   \n",
       "4  From the character and turn of the inscription...         122       40   \n",
       "\n",
       "   sentiment  \n",
       "0   0.000000  \n",
       "1   0.250000  \n",
       "2   0.100000  \n",
       "3  -0.161111  \n",
       "4  -0.304762  "
      ]
     },
     "execution_count": 33,
     "metadata": {},
     "output_type": "execute_result"
    }
   ],
   "source": [
    "df_cluster.head()"
   ]
  },
  {
   "cell_type": "code",
   "execution_count": 34,
   "metadata": {
    "collapsed": false
   },
   "outputs": [
    {
     "data": {
      "text/html": [
       "<div>\n",
       "<table border=\"1\" class=\"dataframe\">\n",
       "  <thead>\n",
       "    <tr style=\"text-align: right;\">\n",
       "      <th></th>\n",
       "      <th>total_char</th>\n",
       "      <th>syl_sum</th>\n",
       "      <th>sentiment</th>\n",
       "    </tr>\n",
       "    <tr>\n",
       "      <th>cluster</th>\n",
       "      <th></th>\n",
       "      <th></th>\n",
       "      <th></th>\n",
       "    </tr>\n",
       "  </thead>\n",
       "  <tbody>\n",
       "    <tr>\n",
       "      <th>0</th>\n",
       "      <td>41.165501</td>\n",
       "      <td>13.062937</td>\n",
       "      <td>0.238777</td>\n",
       "    </tr>\n",
       "    <tr>\n",
       "      <th>1</th>\n",
       "      <td>40.539201</td>\n",
       "      <td>12.852811</td>\n",
       "      <td>0.000073</td>\n",
       "    </tr>\n",
       "    <tr>\n",
       "      <th>2</th>\n",
       "      <td>242.000000</td>\n",
       "      <td>77.892473</td>\n",
       "      <td>0.235276</td>\n",
       "    </tr>\n",
       "    <tr>\n",
       "      <th>3</th>\n",
       "      <td>216.391304</td>\n",
       "      <td>69.247492</td>\n",
       "      <td>-0.077036</td>\n",
       "    </tr>\n",
       "    <tr>\n",
       "      <th>4</th>\n",
       "      <td>96.250000</td>\n",
       "      <td>30.917500</td>\n",
       "      <td>-0.201188</td>\n",
       "    </tr>\n",
       "    <tr>\n",
       "      <th>5</th>\n",
       "      <td>501.350000</td>\n",
       "      <td>159.500000</td>\n",
       "      <td>0.024646</td>\n",
       "    </tr>\n",
       "    <tr>\n",
       "      <th>6</th>\n",
       "      <td>111.963738</td>\n",
       "      <td>35.732218</td>\n",
       "      <td>0.012277</td>\n",
       "    </tr>\n",
       "    <tr>\n",
       "      <th>7</th>\n",
       "      <td>165.581818</td>\n",
       "      <td>53.257143</td>\n",
       "      <td>0.183285</td>\n",
       "    </tr>\n",
       "    <tr>\n",
       "      <th>8</th>\n",
       "      <td>147.845411</td>\n",
       "      <td>47.946860</td>\n",
       "      <td>0.536608</td>\n",
       "    </tr>\n",
       "    <tr>\n",
       "      <th>9</th>\n",
       "      <td>13.597068</td>\n",
       "      <td>4.208352</td>\n",
       "      <td>-0.000057</td>\n",
       "    </tr>\n",
       "    <tr>\n",
       "      <th>10</th>\n",
       "      <td>34.298561</td>\n",
       "      <td>11.050360</td>\n",
       "      <td>0.539617</td>\n",
       "    </tr>\n",
       "    <tr>\n",
       "      <th>11</th>\n",
       "      <td>54.432927</td>\n",
       "      <td>17.707317</td>\n",
       "      <td>-0.628783</td>\n",
       "    </tr>\n",
       "    <tr>\n",
       "      <th>12</th>\n",
       "      <td>88.112179</td>\n",
       "      <td>28.147436</td>\n",
       "      <td>0.489677</td>\n",
       "    </tr>\n",
       "    <tr>\n",
       "      <th>13</th>\n",
       "      <td>145.791667</td>\n",
       "      <td>47.116667</td>\n",
       "      <td>-0.442897</td>\n",
       "    </tr>\n",
       "    <tr>\n",
       "      <th>14</th>\n",
       "      <td>51.361111</td>\n",
       "      <td>16.700000</td>\n",
       "      <td>0.841887</td>\n",
       "    </tr>\n",
       "    <tr>\n",
       "      <th>15</th>\n",
       "      <td>73.340324</td>\n",
       "      <td>23.309819</td>\n",
       "      <td>0.005404</td>\n",
       "    </tr>\n",
       "    <tr>\n",
       "      <th>16</th>\n",
       "      <td>153.979633</td>\n",
       "      <td>49.293279</td>\n",
       "      <td>-0.062031</td>\n",
       "    </tr>\n",
       "    <tr>\n",
       "      <th>17</th>\n",
       "      <td>40.753886</td>\n",
       "      <td>12.909326</td>\n",
       "      <td>-0.258912</td>\n",
       "    </tr>\n",
       "    <tr>\n",
       "      <th>18</th>\n",
       "      <td>100.805085</td>\n",
       "      <td>32.360169</td>\n",
       "      <td>0.231700</td>\n",
       "    </tr>\n",
       "    <tr>\n",
       "      <th>19</th>\n",
       "      <td>325.784000</td>\n",
       "      <td>104.448000</td>\n",
       "      <td>0.016537</td>\n",
       "    </tr>\n",
       "  </tbody>\n",
       "</table>\n",
       "</div>"
      ],
      "text/plain": [
       "         total_char     syl_sum  sentiment\n",
       "cluster                                   \n",
       "0         41.165501   13.062937   0.238777\n",
       "1         40.539201   12.852811   0.000073\n",
       "2        242.000000   77.892473   0.235276\n",
       "3        216.391304   69.247492  -0.077036\n",
       "4         96.250000   30.917500  -0.201188\n",
       "5        501.350000  159.500000   0.024646\n",
       "6        111.963738   35.732218   0.012277\n",
       "7        165.581818   53.257143   0.183285\n",
       "8        147.845411   47.946860   0.536608\n",
       "9         13.597068    4.208352  -0.000057\n",
       "10        34.298561   11.050360   0.539617\n",
       "11        54.432927   17.707317  -0.628783\n",
       "12        88.112179   28.147436   0.489677\n",
       "13       145.791667   47.116667  -0.442897\n",
       "14        51.361111   16.700000   0.841887\n",
       "15        73.340324   23.309819   0.005404\n",
       "16       153.979633   49.293279  -0.062031\n",
       "17        40.753886   12.909326  -0.258912\n",
       "18       100.805085   32.360169   0.231700\n",
       "19       325.784000  104.448000   0.016537"
      ]
     },
     "execution_count": 34,
     "metadata": {},
     "output_type": "execute_result"
    }
   ],
   "source": [
    "df_cluster_20.groupby('cluster').mean()"
   ]
  },
  {
   "cell_type": "code",
   "execution_count": 35,
   "metadata": {
    "collapsed": true
   },
   "outputs": [],
   "source": [
    "centers = df_cluster_20.groupby('cluster').mean()"
   ]
  },
  {
   "cell_type": "markdown",
   "metadata": {},
   "source": [
    "Create Scatter plot "
   ]
  },
  {
   "cell_type": "code",
   "execution_count": 36,
   "metadata": {
    "collapsed": true
   },
   "outputs": [],
   "source": [
    "colors = np.array(['#0000ff', '#ff00ff', '#39b54a', '#ff0000', '#ffff00', '#000080', '#ff99ff', '#88d392', '#bf0000', '#b4ff33', '#0000bf', '#800080','#1d5b25', '#4d226d', '#2b6855', '#128ab2', '#6666ff', '#a381bd', '#333333','#a0d0e0'])"
   ]
  },
  {
   "cell_type": "code",
   "execution_count": 37,
   "metadata": {
    "collapsed": false
   },
   "outputs": [
    {
     "data": {
      "text/plain": [
       "<matplotlib.text.Text at 0x11e63e490>"
      ]
     },
     "execution_count": 37,
     "metadata": {},
     "output_type": "execute_result"
    },
    {
     "data": {
      "image/png": "[encoded data removed]",
      "text/plain": [
       "<matplotlib.figure.Figure at 0x11bbb4e90>"
      ]
     },
     "metadata": {},
     "output_type": "display_data"
    }
   ],
   "source": [
    "# scatter plot of calories versus alcohol, colored by cluster (0=red, 1=green, 2=blue)\n",
    "plt.scatter(df_cluster_20.syl_sum, df_cluster_20.sentiment, c=colors[df_cluster_20.cluster], s=50)\n",
    "\n",
    "# cluster centers, marked by \"+\"\n",
    "plt.scatter(centers.syl_sum, centers.sentiment, linewidths=3, marker='+', s=300, c='black')\n",
    "\n",
    "# add labels\n",
    "plt.xlabel('syl_sum')\n",
    "plt.ylabel('sentiment')"
   ]
  },
  {
   "cell_type": "markdown",
   "metadata": {},
   "source": [
    "Add cluster_20 to original dataframe"
   ]
  },
  {
   "cell_type": "code",
   "execution_count": 38,
   "metadata": {
    "collapsed": false
   },
   "outputs": [],
   "source": [
    "df_novel['cluster_20'] = df_cluster_20['cluster']"
   ]
  },
  {
   "cell_type": "code",
   "execution_count": 39,
   "metadata": {
    "collapsed": false
   },
   "outputs": [
    {
     "data": {
      "text/html": [
       "<div>\n",
       "<table border=\"1\" class=\"dataframe\">\n",
       "  <thead>\n",
       "    <tr style=\"text-align: right;\">\n",
       "      <th></th>\n",
       "      <th>0</th>\n",
       "      <th>wrd_length</th>\n",
       "      <th>total_char</th>\n",
       "      <th>syl_count</th>\n",
       "      <th>syl_sum</th>\n",
       "      <th>sentiment</th>\n",
       "      <th>cluster_20</th>\n",
       "    </tr>\n",
       "  </thead>\n",
       "  <tbody>\n",
       "    <tr>\n",
       "      <th>0</th>\n",
       "      <td>So, I called myself Pip, and came to be called...</td>\n",
       "      <td>[2, 1, 6, 6, 3, 3, 4, 2, 2, 6, 3]</td>\n",
       "      <td>38</td>\n",
       "      <td>[1, 1, 1, 2, 1, 1, 1, 1, 1, 1, 1]</td>\n",
       "      <td>12</td>\n",
       "      <td>0.000000</td>\n",
       "      <td>1</td>\n",
       "    </tr>\n",
       "    <tr>\n",
       "      <th>1</th>\n",
       "      <td>I give Pirrip as my father's family name, on t...</td>\n",
       "      <td>[1, 4, 6, 2, 2, 6, 2, 6, 4, 2, 3, 9, 2, 3, 9, ...</td>\n",
       "      <td>108</td>\n",
       "      <td>[1, 1, 2, 1, 1, 2, 0, 3, 1, 1, 1, 4, 1, 1, 2, ...</td>\n",
       "      <td>35</td>\n",
       "      <td>0.250000</td>\n",
       "      <td>18</td>\n",
       "    </tr>\n",
       "    <tr>\n",
       "      <th>2</th>\n",
       "      <td>As I never saw my father or my mother, and nev...</td>\n",
       "      <td>[2, 1, 5, 3, 2, 6, 2, 2, 6, 3, 5, 3, 3, 8, 2, ...</td>\n",
       "      <td>192</td>\n",
       "      <td>[1, 1, 2, 1, 1, 2, 1, 1, 2, 1, 2, 1, 2, 3, 1, ...</td>\n",
       "      <td>63</td>\n",
       "      <td>0.100000</td>\n",
       "      <td>7</td>\n",
       "    </tr>\n",
       "    <tr>\n",
       "      <th>3</th>\n",
       "      <td>The shape of the letters on my father's, gave ...</td>\n",
       "      <td>[3, 5, 2, 3, 7, 2, 2, 6, 2, 4, 2, 2, 3, 4, 4, ...</td>\n",
       "      <td>93</td>\n",
       "      <td>[1, 1, 1, 1, 2, 1, 1, 2, 0, 1, 1, 1, 1, 3, 1, ...</td>\n",
       "      <td>30</td>\n",
       "      <td>-0.161111</td>\n",
       "      <td>4</td>\n",
       "    </tr>\n",
       "    <tr>\n",
       "      <th>4</th>\n",
       "      <td>From the character and turn of the inscription...</td>\n",
       "      <td>[4, 3, 9, 3, 4, 2, 3, 11, 4, 9, 4, 2, 3, 5, 1,...</td>\n",
       "      <td>122</td>\n",
       "      <td>[1, 1, 3, 1, 1, 1, 1, 3, 2, 4, 1, 1, 1, 2, 1, ...</td>\n",
       "      <td>40</td>\n",
       "      <td>-0.304762</td>\n",
       "      <td>4</td>\n",
       "    </tr>\n",
       "  </tbody>\n",
       "</table>\n",
       "</div>"
      ],
      "text/plain": [
       "                                                   0  \\\n",
       "0  So, I called myself Pip, and came to be called...   \n",
       "1  I give Pirrip as my father's family name, on t...   \n",
       "2  As I never saw my father or my mother, and nev...   \n",
       "3  The shape of the letters on my father's, gave ...   \n",
       "4  From the character and turn of the inscription...   \n",
       "\n",
       "                                          wrd_length  total_char  \\\n",
       "0                  [2, 1, 6, 6, 3, 3, 4, 2, 2, 6, 3]          38   \n",
       "1  [1, 4, 6, 2, 2, 6, 2, 6, 4, 2, 3, 9, 2, 3, 9, ...         108   \n",
       "2  [2, 1, 5, 3, 2, 6, 2, 2, 6, 3, 5, 3, 3, 8, 2, ...         192   \n",
       "3  [3, 5, 2, 3, 7, 2, 2, 6, 2, 4, 2, 2, 3, 4, 4, ...          93   \n",
       "4  [4, 3, 9, 3, 4, 2, 3, 11, 4, 9, 4, 2, 3, 5, 1,...         122   \n",
       "\n",
       "                                           syl_count  syl_sum  sentiment  \\\n",
       "0                  [1, 1, 1, 2, 1, 1, 1, 1, 1, 1, 1]       12   0.000000   \n",
       "1  [1, 1, 2, 1, 1, 2, 0, 3, 1, 1, 1, 4, 1, 1, 2, ...       35   0.250000   \n",
       "2  [1, 1, 2, 1, 1, 2, 1, 1, 2, 1, 2, 1, 2, 3, 1, ...       63   0.100000   \n",
       "3  [1, 1, 1, 1, 2, 1, 1, 2, 0, 1, 1, 1, 1, 3, 1, ...       30  -0.161111   \n",
       "4  [1, 1, 3, 1, 1, 1, 1, 3, 2, 4, 1, 1, 1, 2, 1, ...       40  -0.304762   \n",
       "\n",
       "   cluster_20  \n",
       "0           1  \n",
       "1          18  \n",
       "2           7  \n",
       "3           4  \n",
       "4           4  "
      ]
     },
     "execution_count": 39,
     "metadata": {},
     "output_type": "execute_result"
    }
   ],
   "source": [
    "df_novel.head()"
   ]
  },
  {
   "cell_type": "markdown",
   "metadata": {},
   "source": [
    "Create 3 clusters"
   ]
  },
  {
   "cell_type": "code",
   "execution_count": 40,
   "metadata": {
    "collapsed": true
   },
   "outputs": [],
   "source": [
    "df_cluster_3 = df_cluster.copy()"
   ]
  },
  {
   "cell_type": "code",
   "execution_count": 41,
   "metadata": {
    "collapsed": false
   },
   "outputs": [
    {
     "data": {
      "text/html": [
       "<div>\n",
       "<table border=\"1\" class=\"dataframe\">\n",
       "  <thead>\n",
       "    <tr style=\"text-align: right;\">\n",
       "      <th></th>\n",
       "      <th>0</th>\n",
       "      <th>total_char</th>\n",
       "      <th>syl_sum</th>\n",
       "      <th>sentiment</th>\n",
       "    </tr>\n",
       "  </thead>\n",
       "  <tbody>\n",
       "    <tr>\n",
       "      <th>0</th>\n",
       "      <td>So, I called myself Pip, and came to be called...</td>\n",
       "      <td>38</td>\n",
       "      <td>12</td>\n",
       "      <td>0.000000</td>\n",
       "    </tr>\n",
       "    <tr>\n",
       "      <th>1</th>\n",
       "      <td>I give Pirrip as my father's family name, on t...</td>\n",
       "      <td>108</td>\n",
       "      <td>35</td>\n",
       "      <td>0.250000</td>\n",
       "    </tr>\n",
       "    <tr>\n",
       "      <th>2</th>\n",
       "      <td>As I never saw my father or my mother, and nev...</td>\n",
       "      <td>192</td>\n",
       "      <td>63</td>\n",
       "      <td>0.100000</td>\n",
       "    </tr>\n",
       "    <tr>\n",
       "      <th>3</th>\n",
       "      <td>The shape of the letters on my father's, gave ...</td>\n",
       "      <td>93</td>\n",
       "      <td>30</td>\n",
       "      <td>-0.161111</td>\n",
       "    </tr>\n",
       "    <tr>\n",
       "      <th>4</th>\n",
       "      <td>From the character and turn of the inscription...</td>\n",
       "      <td>122</td>\n",
       "      <td>40</td>\n",
       "      <td>-0.304762</td>\n",
       "    </tr>\n",
       "  </tbody>\n",
       "</table>\n",
       "</div>"
      ],
      "text/plain": [
       "                                                   0  total_char  syl_sum  \\\n",
       "0  So, I called myself Pip, and came to be called...          38       12   \n",
       "1  I give Pirrip as my father's family name, on t...         108       35   \n",
       "2  As I never saw my father or my mother, and nev...         192       63   \n",
       "3  The shape of the letters on my father's, gave ...          93       30   \n",
       "4  From the character and turn of the inscription...         122       40   \n",
       "\n",
       "   sentiment  \n",
       "0   0.000000  \n",
       "1   0.250000  \n",
       "2   0.100000  \n",
       "3  -0.161111  \n",
       "4  -0.304762  "
      ]
     },
     "execution_count": 41,
     "metadata": {},
     "output_type": "execute_result"
    }
   ],
   "source": [
    "df_cluster_3.head()"
   ]
  },
  {
   "cell_type": "code",
   "execution_count": 42,
   "metadata": {
    "collapsed": true
   },
   "outputs": [],
   "source": [
    "X = df_cluster_3.drop(0, axis=1)"
   ]
  },
  {
   "cell_type": "code",
   "execution_count": 43,
   "metadata": {
    "collapsed": true
   },
   "outputs": [],
   "source": [
    "scaler = StandardScaler()\n",
    "X_scaled = scaler.fit_transform(X)"
   ]
  },
  {
   "cell_type": "code",
   "execution_count": 44,
   "metadata": {
    "collapsed": false
   },
   "outputs": [
    {
     "data": {
      "text/plain": [
       "KMeans(copy_x=True, init='k-means++', max_iter=300, n_clusters=3, n_init=10,\n",
       "    n_jobs=1, precompute_distances='auto', random_state=1, tol=0.0001,\n",
       "    verbose=0)"
      ]
     },
     "execution_count": 44,
     "metadata": {},
     "output_type": "execute_result"
    }
   ],
   "source": [
    "km = KMeans(n_clusters=3, random_state=1)\n",
    "km.fit(X_scaled)"
   ]
  },
  {
   "cell_type": "code",
   "execution_count": 45,
   "metadata": {
    "collapsed": true
   },
   "outputs": [],
   "source": [
    "df_cluster_3['cluster'] = km.labels_"
   ]
  },
  {
   "cell_type": "code",
   "execution_count": 46,
   "metadata": {
    "collapsed": false
   },
   "outputs": [
    {
     "data": {
      "text/html": [
       "<div>\n",
       "<table border=\"1\" class=\"dataframe\">\n",
       "  <thead>\n",
       "    <tr style=\"text-align: right;\">\n",
       "      <th></th>\n",
       "      <th>total_char</th>\n",
       "      <th>syl_sum</th>\n",
       "      <th>sentiment</th>\n",
       "    </tr>\n",
       "    <tr>\n",
       "      <th>cluster</th>\n",
       "      <th></th>\n",
       "      <th></th>\n",
       "      <th></th>\n",
       "    </tr>\n",
       "  </thead>\n",
       "  <tbody>\n",
       "    <tr>\n",
       "      <th>0</th>\n",
       "      <td>43.644909</td>\n",
       "      <td>13.856846</td>\n",
       "      <td>-0.032012</td>\n",
       "    </tr>\n",
       "    <tr>\n",
       "      <th>1</th>\n",
       "      <td>79.406122</td>\n",
       "      <td>25.546939</td>\n",
       "      <td>0.473081</td>\n",
       "    </tr>\n",
       "    <tr>\n",
       "      <th>2</th>\n",
       "      <td>179.686632</td>\n",
       "      <td>57.622425</td>\n",
       "      <td>0.011268</td>\n",
       "    </tr>\n",
       "  </tbody>\n",
       "</table>\n",
       "</div>"
      ],
      "text/plain": [
       "         total_char    syl_sum  sentiment\n",
       "cluster                                  \n",
       "0         43.644909  13.856846  -0.032012\n",
       "1         79.406122  25.546939   0.473081\n",
       "2        179.686632  57.622425   0.011268"
      ]
     },
     "execution_count": 46,
     "metadata": {},
     "output_type": "execute_result"
    }
   ],
   "source": [
    "df_cluster_3.groupby('cluster').mean()"
   ]
  },
  {
   "cell_type": "code",
   "execution_count": 47,
   "metadata": {
    "collapsed": false
   },
   "outputs": [
    {
     "data": {
      "text/html": [
       "<div>\n",
       "<table border=\"1\" class=\"dataframe\">\n",
       "  <thead>\n",
       "    <tr style=\"text-align: right;\">\n",
       "      <th></th>\n",
       "      <th>0</th>\n",
       "      <th>total_char</th>\n",
       "      <th>syl_sum</th>\n",
       "      <th>sentiment</th>\n",
       "      <th>cluster</th>\n",
       "    </tr>\n",
       "  </thead>\n",
       "  <tbody>\n",
       "    <tr>\n",
       "      <th>0</th>\n",
       "      <td>So, I called myself Pip, and came to be called...</td>\n",
       "      <td>38</td>\n",
       "      <td>12</td>\n",
       "      <td>0.000000</td>\n",
       "      <td>0</td>\n",
       "    </tr>\n",
       "    <tr>\n",
       "      <th>1</th>\n",
       "      <td>I give Pirrip as my father's family name, on t...</td>\n",
       "      <td>108</td>\n",
       "      <td>35</td>\n",
       "      <td>0.250000</td>\n",
       "      <td>1</td>\n",
       "    </tr>\n",
       "    <tr>\n",
       "      <th>2</th>\n",
       "      <td>As I never saw my father or my mother, and nev...</td>\n",
       "      <td>192</td>\n",
       "      <td>63</td>\n",
       "      <td>0.100000</td>\n",
       "      <td>2</td>\n",
       "    </tr>\n",
       "    <tr>\n",
       "      <th>3</th>\n",
       "      <td>The shape of the letters on my father's, gave ...</td>\n",
       "      <td>93</td>\n",
       "      <td>30</td>\n",
       "      <td>-0.161111</td>\n",
       "      <td>0</td>\n",
       "    </tr>\n",
       "    <tr>\n",
       "      <th>4</th>\n",
       "      <td>From the character and turn of the inscription...</td>\n",
       "      <td>122</td>\n",
       "      <td>40</td>\n",
       "      <td>-0.304762</td>\n",
       "      <td>2</td>\n",
       "    </tr>\n",
       "  </tbody>\n",
       "</table>\n",
       "</div>"
      ],
      "text/plain": [
       "                                                   0  total_char  syl_sum  \\\n",
       "0  So, I called myself Pip, and came to be called...          38       12   \n",
       "1  I give Pirrip as my father's family name, on t...         108       35   \n",
       "2  As I never saw my father or my mother, and nev...         192       63   \n",
       "3  The shape of the letters on my father's, gave ...          93       30   \n",
       "4  From the character and turn of the inscription...         122       40   \n",
       "\n",
       "   sentiment  cluster  \n",
       "0   0.000000        0  \n",
       "1   0.250000        1  \n",
       "2   0.100000        2  \n",
       "3  -0.161111        0  \n",
       "4  -0.304762        2  "
      ]
     },
     "execution_count": 47,
     "metadata": {},
     "output_type": "execute_result"
    }
   ],
   "source": [
    "df_cluster_3.head()"
   ]
  },
  {
   "cell_type": "markdown",
   "metadata": {},
   "source": [
    "Add cludter_3 to original dataframe"
   ]
  },
  {
   "cell_type": "code",
   "execution_count": 48,
   "metadata": {
    "collapsed": true
   },
   "outputs": [],
   "source": [
    "df_novel['cluster_3_syl'] = df_cluster_3['cluster']"
   ]
  },
  {
   "cell_type": "code",
   "execution_count": 49,
   "metadata": {
    "collapsed": false
   },
   "outputs": [
    {
     "data": {
      "text/html": [
       "<div>\n",
       "<table border=\"1\" class=\"dataframe\">\n",
       "  <thead>\n",
       "    <tr style=\"text-align: right;\">\n",
       "      <th></th>\n",
       "      <th>0</th>\n",
       "      <th>wrd_length</th>\n",
       "      <th>total_char</th>\n",
       "      <th>syl_count</th>\n",
       "      <th>syl_sum</th>\n",
       "      <th>sentiment</th>\n",
       "      <th>cluster_20</th>\n",
       "      <th>cluster_3_syl</th>\n",
       "    </tr>\n",
       "  </thead>\n",
       "  <tbody>\n",
       "    <tr>\n",
       "      <th>0</th>\n",
       "      <td>So, I called myself Pip, and came to be called...</td>\n",
       "      <td>[2, 1, 6, 6, 3, 3, 4, 2, 2, 6, 3]</td>\n",
       "      <td>38</td>\n",
       "      <td>[1, 1, 1, 2, 1, 1, 1, 1, 1, 1, 1]</td>\n",
       "      <td>12</td>\n",
       "      <td>0.000000</td>\n",
       "      <td>1</td>\n",
       "      <td>0</td>\n",
       "    </tr>\n",
       "    <tr>\n",
       "      <th>1</th>\n",
       "      <td>I give Pirrip as my father's family name, on t...</td>\n",
       "      <td>[1, 4, 6, 2, 2, 6, 2, 6, 4, 2, 3, 9, 2, 3, 9, ...</td>\n",
       "      <td>108</td>\n",
       "      <td>[1, 1, 2, 1, 1, 2, 0, 3, 1, 1, 1, 4, 1, 1, 2, ...</td>\n",
       "      <td>35</td>\n",
       "      <td>0.250000</td>\n",
       "      <td>18</td>\n",
       "      <td>1</td>\n",
       "    </tr>\n",
       "    <tr>\n",
       "      <th>2</th>\n",
       "      <td>As I never saw my father or my mother, and nev...</td>\n",
       "      <td>[2, 1, 5, 3, 2, 6, 2, 2, 6, 3, 5, 3, 3, 8, 2, ...</td>\n",
       "      <td>192</td>\n",
       "      <td>[1, 1, 2, 1, 1, 2, 1, 1, 2, 1, 2, 1, 2, 3, 1, ...</td>\n",
       "      <td>63</td>\n",
       "      <td>0.100000</td>\n",
       "      <td>7</td>\n",
       "      <td>2</td>\n",
       "    </tr>\n",
       "    <tr>\n",
       "      <th>3</th>\n",
       "      <td>The shape of the letters on my father's, gave ...</td>\n",
       "      <td>[3, 5, 2, 3, 7, 2, 2, 6, 2, 4, 2, 2, 3, 4, 4, ...</td>\n",
       "      <td>93</td>\n",
       "      <td>[1, 1, 1, 1, 2, 1, 1, 2, 0, 1, 1, 1, 1, 3, 1, ...</td>\n",
       "      <td>30</td>\n",
       "      <td>-0.161111</td>\n",
       "      <td>4</td>\n",
       "      <td>0</td>\n",
       "    </tr>\n",
       "    <tr>\n",
       "      <th>4</th>\n",
       "      <td>From the character and turn of the inscription...</td>\n",
       "      <td>[4, 3, 9, 3, 4, 2, 3, 11, 4, 9, 4, 2, 3, 5, 1,...</td>\n",
       "      <td>122</td>\n",
       "      <td>[1, 1, 3, 1, 1, 1, 1, 3, 2, 4, 1, 1, 1, 2, 1, ...</td>\n",
       "      <td>40</td>\n",
       "      <td>-0.304762</td>\n",
       "      <td>4</td>\n",
       "      <td>2</td>\n",
       "    </tr>\n",
       "  </tbody>\n",
       "</table>\n",
       "</div>"
      ],
      "text/plain": [
       "                                                   0  \\\n",
       "0  So, I called myself Pip, and came to be called...   \n",
       "1  I give Pirrip as my father's family name, on t...   \n",
       "2  As I never saw my father or my mother, and nev...   \n",
       "3  The shape of the letters on my father's, gave ...   \n",
       "4  From the character and turn of the inscription...   \n",
       "\n",
       "                                          wrd_length  total_char  \\\n",
       "0                  [2, 1, 6, 6, 3, 3, 4, 2, 2, 6, 3]          38   \n",
       "1  [1, 4, 6, 2, 2, 6, 2, 6, 4, 2, 3, 9, 2, 3, 9, ...         108   \n",
       "2  [2, 1, 5, 3, 2, 6, 2, 2, 6, 3, 5, 3, 3, 8, 2, ...         192   \n",
       "3  [3, 5, 2, 3, 7, 2, 2, 6, 2, 4, 2, 2, 3, 4, 4, ...          93   \n",
       "4  [4, 3, 9, 3, 4, 2, 3, 11, 4, 9, 4, 2, 3, 5, 1,...         122   \n",
       "\n",
       "                                           syl_count  syl_sum  sentiment  \\\n",
       "0                  [1, 1, 1, 2, 1, 1, 1, 1, 1, 1, 1]       12   0.000000   \n",
       "1  [1, 1, 2, 1, 1, 2, 0, 3, 1, 1, 1, 4, 1, 1, 2, ...       35   0.250000   \n",
       "2  [1, 1, 2, 1, 1, 2, 1, 1, 2, 1, 2, 1, 2, 3, 1, ...       63   0.100000   \n",
       "3  [1, 1, 1, 1, 2, 1, 1, 2, 0, 1, 1, 1, 1, 3, 1, ...       30  -0.161111   \n",
       "4  [1, 1, 3, 1, 1, 1, 1, 3, 2, 4, 1, 1, 1, 2, 1, ...       40  -0.304762   \n",
       "\n",
       "   cluster_20  cluster_3_syl  \n",
       "0           1              0  \n",
       "1          18              1  \n",
       "2           7              2  \n",
       "3           4              0  \n",
       "4           4              2  "
      ]
     },
     "execution_count": 49,
     "metadata": {},
     "output_type": "execute_result"
    }
   ],
   "source": [
    "df_novel.head()"
   ]
  },
  {
   "cell_type": "markdown",
   "metadata": {},
   "source": [
    "Create 3 Clusters with no syl_sum"
   ]
  },
  {
   "cell_type": "code",
   "execution_count": 50,
   "metadata": {
    "collapsed": true
   },
   "outputs": [],
   "source": [
    "df_cluster_3no_syl = df_cluster.copy()"
   ]
  },
  {
   "cell_type": "code",
   "execution_count": 51,
   "metadata": {
    "collapsed": true
   },
   "outputs": [],
   "source": [
    "df_cluster_3no_syl = df_cluster.drop('syl_sum', 1)"
   ]
  },
  {
   "cell_type": "code",
   "execution_count": 52,
   "metadata": {
    "collapsed": true
   },
   "outputs": [],
   "source": [
    "X = df_cluster_3no_syl.drop(0, axis=1)"
   ]
  },
  {
   "cell_type": "code",
   "execution_count": 53,
   "metadata": {
    "collapsed": true
   },
   "outputs": [],
   "source": [
    "scaler = StandardScaler()\n",
    "X_scaled = scaler.fit_transform(X)"
   ]
  },
  {
   "cell_type": "code",
   "execution_count": 54,
   "metadata": {
    "collapsed": false
   },
   "outputs": [
    {
     "data": {
      "text/plain": [
       "KMeans(copy_x=True, init='k-means++', max_iter=300, n_clusters=3, n_init=10,\n",
       "    n_jobs=1, precompute_distances='auto', random_state=1, tol=0.0001,\n",
       "    verbose=0)"
      ]
     },
     "execution_count": 54,
     "metadata": {},
     "output_type": "execute_result"
    }
   ],
   "source": [
    "km = KMeans(n_clusters=3, random_state=1)\n",
    "km.fit(X_scaled)"
   ]
  },
  {
   "cell_type": "code",
   "execution_count": 55,
   "metadata": {
    "collapsed": true
   },
   "outputs": [],
   "source": [
    "df_cluster_3no_syl['cluster'] = km.labels_"
   ]
  },
  {
   "cell_type": "code",
   "execution_count": 56,
   "metadata": {
    "collapsed": false
   },
   "outputs": [
    {
     "data": {
      "text/html": [
       "<div>\n",
       "<table border=\"1\" class=\"dataframe\">\n",
       "  <thead>\n",
       "    <tr style=\"text-align: right;\">\n",
       "      <th></th>\n",
       "      <th>0</th>\n",
       "      <th>total_char</th>\n",
       "      <th>sentiment</th>\n",
       "      <th>cluster</th>\n",
       "    </tr>\n",
       "  </thead>\n",
       "  <tbody>\n",
       "    <tr>\n",
       "      <th>0</th>\n",
       "      <td>So, I called myself Pip, and came to be called...</td>\n",
       "      <td>38</td>\n",
       "      <td>0.000000</td>\n",
       "      <td>0</td>\n",
       "    </tr>\n",
       "    <tr>\n",
       "      <th>1</th>\n",
       "      <td>I give Pirrip as my father's family name, on t...</td>\n",
       "      <td>108</td>\n",
       "      <td>0.250000</td>\n",
       "      <td>2</td>\n",
       "    </tr>\n",
       "    <tr>\n",
       "      <th>2</th>\n",
       "      <td>As I never saw my father or my mother, and nev...</td>\n",
       "      <td>192</td>\n",
       "      <td>0.100000</td>\n",
       "      <td>1</td>\n",
       "    </tr>\n",
       "    <tr>\n",
       "      <th>3</th>\n",
       "      <td>The shape of the letters on my father's, gave ...</td>\n",
       "      <td>93</td>\n",
       "      <td>-0.161111</td>\n",
       "      <td>0</td>\n",
       "    </tr>\n",
       "    <tr>\n",
       "      <th>4</th>\n",
       "      <td>From the character and turn of the inscription...</td>\n",
       "      <td>122</td>\n",
       "      <td>-0.304762</td>\n",
       "      <td>1</td>\n",
       "    </tr>\n",
       "  </tbody>\n",
       "</table>\n",
       "</div>"
      ],
      "text/plain": [
       "                                                   0  total_char  sentiment  \\\n",
       "0  So, I called myself Pip, and came to be called...          38   0.000000   \n",
       "1  I give Pirrip as my father's family name, on t...         108   0.250000   \n",
       "2  As I never saw my father or my mother, and nev...         192   0.100000   \n",
       "3  The shape of the letters on my father's, gave ...          93  -0.161111   \n",
       "4  From the character and turn of the inscription...         122  -0.304762   \n",
       "\n",
       "   cluster  \n",
       "0        0  \n",
       "1        2  \n",
       "2        1  \n",
       "3        0  \n",
       "4        1  "
      ]
     },
     "execution_count": 56,
     "metadata": {},
     "output_type": "execute_result"
    }
   ],
   "source": [
    "df_cluster_3no_syl.head()"
   ]
  },
  {
   "cell_type": "code",
   "execution_count": 57,
   "metadata": {
    "collapsed": false
   },
   "outputs": [
    {
     "data": {
      "text/html": [
       "<div>\n",
       "<table border=\"1\" class=\"dataframe\">\n",
       "  <thead>\n",
       "    <tr style=\"text-align: right;\">\n",
       "      <th></th>\n",
       "      <th>total_char</th>\n",
       "      <th>sentiment</th>\n",
       "    </tr>\n",
       "    <tr>\n",
       "      <th>cluster</th>\n",
       "      <th></th>\n",
       "      <th></th>\n",
       "    </tr>\n",
       "  </thead>\n",
       "  <tbody>\n",
       "    <tr>\n",
       "      <th>0</th>\n",
       "      <td>44.307937</td>\n",
       "      <td>-0.034823</td>\n",
       "    </tr>\n",
       "    <tr>\n",
       "      <th>1</th>\n",
       "      <td>179.600195</td>\n",
       "      <td>0.013025</td>\n",
       "    </tr>\n",
       "    <tr>\n",
       "      <th>2</th>\n",
       "      <td>79.655219</td>\n",
       "      <td>0.478504</td>\n",
       "    </tr>\n",
       "  </tbody>\n",
       "</table>\n",
       "</div>"
      ],
      "text/plain": [
       "         total_char  sentiment\n",
       "cluster                       \n",
       "0         44.307937  -0.034823\n",
       "1        179.600195   0.013025\n",
       "2         79.655219   0.478504"
      ]
     },
     "execution_count": 57,
     "metadata": {},
     "output_type": "execute_result"
    }
   ],
   "source": [
    "df_cluster_3no_syl.groupby('cluster').mean()"
   ]
  },
  {
   "cell_type": "markdown",
   "metadata": {},
   "source": [
    "Add cluster_3no_syl to original dataframe"
   ]
  },
  {
   "cell_type": "code",
   "execution_count": 58,
   "metadata": {
    "collapsed": true
   },
   "outputs": [],
   "source": [
    "df_novel['cluster_3no_syl'] = df_cluster_3no_syl['cluster']"
   ]
  },
  {
   "cell_type": "code",
   "execution_count": 59,
   "metadata": {
    "collapsed": false
   },
   "outputs": [
    {
     "data": {
      "text/html": [
       "<div>\n",
       "<table border=\"1\" class=\"dataframe\">\n",
       "  <thead>\n",
       "    <tr style=\"text-align: right;\">\n",
       "      <th></th>\n",
       "      <th>0</th>\n",
       "      <th>wrd_length</th>\n",
       "      <th>total_char</th>\n",
       "      <th>syl_count</th>\n",
       "      <th>syl_sum</th>\n",
       "      <th>sentiment</th>\n",
       "      <th>cluster_20</th>\n",
       "      <th>cluster_3_syl</th>\n",
       "      <th>cluster_3no_syl</th>\n",
       "    </tr>\n",
       "  </thead>\n",
       "  <tbody>\n",
       "    <tr>\n",
       "      <th>0</th>\n",
       "      <td>So, I called myself Pip, and came to be called...</td>\n",
       "      <td>[2, 1, 6, 6, 3, 3, 4, 2, 2, 6, 3]</td>\n",
       "      <td>38</td>\n",
       "      <td>[1, 1, 1, 2, 1, 1, 1, 1, 1, 1, 1]</td>\n",
       "      <td>12</td>\n",
       "      <td>0.000000</td>\n",
       "      <td>1</td>\n",
       "      <td>0</td>\n",
       "      <td>0</td>\n",
       "    </tr>\n",
       "    <tr>\n",
       "      <th>1</th>\n",
       "      <td>I give Pirrip as my father's family name, on t...</td>\n",
       "      <td>[1, 4, 6, 2, 2, 6, 2, 6, 4, 2, 3, 9, 2, 3, 9, ...</td>\n",
       "      <td>108</td>\n",
       "      <td>[1, 1, 2, 1, 1, 2, 0, 3, 1, 1, 1, 4, 1, 1, 2, ...</td>\n",
       "      <td>35</td>\n",
       "      <td>0.250000</td>\n",
       "      <td>18</td>\n",
       "      <td>1</td>\n",
       "      <td>2</td>\n",
       "    </tr>\n",
       "    <tr>\n",
       "      <th>2</th>\n",
       "      <td>As I never saw my father or my mother, and nev...</td>\n",
       "      <td>[2, 1, 5, 3, 2, 6, 2, 2, 6, 3, 5, 3, 3, 8, 2, ...</td>\n",
       "      <td>192</td>\n",
       "      <td>[1, 1, 2, 1, 1, 2, 1, 1, 2, 1, 2, 1, 2, 3, 1, ...</td>\n",
       "      <td>63</td>\n",
       "      <td>0.100000</td>\n",
       "      <td>7</td>\n",
       "      <td>2</td>\n",
       "      <td>1</td>\n",
       "    </tr>\n",
       "    <tr>\n",
       "      <th>3</th>\n",
       "      <td>The shape of the letters on my father's, gave ...</td>\n",
       "      <td>[3, 5, 2, 3, 7, 2, 2, 6, 2, 4, 2, 2, 3, 4, 4, ...</td>\n",
       "      <td>93</td>\n",
       "      <td>[1, 1, 1, 1, 2, 1, 1, 2, 0, 1, 1, 1, 1, 3, 1, ...</td>\n",
       "      <td>30</td>\n",
       "      <td>-0.161111</td>\n",
       "      <td>4</td>\n",
       "      <td>0</td>\n",
       "      <td>0</td>\n",
       "    </tr>\n",
       "    <tr>\n",
       "      <th>4</th>\n",
       "      <td>From the character and turn of the inscription...</td>\n",
       "      <td>[4, 3, 9, 3, 4, 2, 3, 11, 4, 9, 4, 2, 3, 5, 1,...</td>\n",
       "      <td>122</td>\n",
       "      <td>[1, 1, 3, 1, 1, 1, 1, 3, 2, 4, 1, 1, 1, 2, 1, ...</td>\n",
       "      <td>40</td>\n",
       "      <td>-0.304762</td>\n",
       "      <td>4</td>\n",
       "      <td>2</td>\n",
       "      <td>1</td>\n",
       "    </tr>\n",
       "  </tbody>\n",
       "</table>\n",
       "</div>"
      ],
      "text/plain": [
       "                                                   0  \\\n",
       "0  So, I called myself Pip, and came to be called...   \n",
       "1  I give Pirrip as my father's family name, on t...   \n",
       "2  As I never saw my father or my mother, and nev...   \n",
       "3  The shape of the letters on my father's, gave ...   \n",
       "4  From the character and turn of the inscription...   \n",
       "\n",
       "                                          wrd_length  total_char  \\\n",
       "0                  [2, 1, 6, 6, 3, 3, 4, 2, 2, 6, 3]          38   \n",
       "1  [1, 4, 6, 2, 2, 6, 2, 6, 4, 2, 3, 9, 2, 3, 9, ...         108   \n",
       "2  [2, 1, 5, 3, 2, 6, 2, 2, 6, 3, 5, 3, 3, 8, 2, ...         192   \n",
       "3  [3, 5, 2, 3, 7, 2, 2, 6, 2, 4, 2, 2, 3, 4, 4, ...          93   \n",
       "4  [4, 3, 9, 3, 4, 2, 3, 11, 4, 9, 4, 2, 3, 5, 1,...         122   \n",
       "\n",
       "                                           syl_count  syl_sum  sentiment  \\\n",
       "0                  [1, 1, 1, 2, 1, 1, 1, 1, 1, 1, 1]       12   0.000000   \n",
       "1  [1, 1, 2, 1, 1, 2, 0, 3, 1, 1, 1, 4, 1, 1, 2, ...       35   0.250000   \n",
       "2  [1, 1, 2, 1, 1, 2, 1, 1, 2, 1, 2, 1, 2, 3, 1, ...       63   0.100000   \n",
       "3  [1, 1, 1, 1, 2, 1, 1, 2, 0, 1, 1, 1, 1, 3, 1, ...       30  -0.161111   \n",
       "4  [1, 1, 3, 1, 1, 1, 1, 3, 2, 4, 1, 1, 1, 2, 1, ...       40  -0.304762   \n",
       "\n",
       "   cluster_20  cluster_3_syl  cluster_3no_syl  \n",
       "0           1              0                0  \n",
       "1          18              1                2  \n",
       "2           7              2                1  \n",
       "3           4              0                0  \n",
       "4           4              2                1  "
      ]
     },
     "execution_count": 59,
     "metadata": {},
     "output_type": "execute_result"
    }
   ],
   "source": [
    "df_novel.head()"
   ]
  },
  {
   "cell_type": "markdown",
   "metadata": {},
   "source": [
    "Create 5 Clusters"
   ]
  },
  {
   "cell_type": "code",
   "execution_count": 60,
   "metadata": {
    "collapsed": true
   },
   "outputs": [],
   "source": [
    "df_cluster_5 = df_cluster.copy()"
   ]
  },
  {
   "cell_type": "code",
   "execution_count": 61,
   "metadata": {
    "collapsed": false
   },
   "outputs": [
    {
     "data": {
      "text/html": [
       "<div>\n",
       "<table border=\"1\" class=\"dataframe\">\n",
       "  <thead>\n",
       "    <tr style=\"text-align: right;\">\n",
       "      <th></th>\n",
       "      <th>0</th>\n",
       "      <th>total_char</th>\n",
       "      <th>syl_sum</th>\n",
       "      <th>sentiment</th>\n",
       "    </tr>\n",
       "  </thead>\n",
       "  <tbody>\n",
       "    <tr>\n",
       "      <th>0</th>\n",
       "      <td>So, I called myself Pip, and came to be called...</td>\n",
       "      <td>38</td>\n",
       "      <td>12</td>\n",
       "      <td>0.000000</td>\n",
       "    </tr>\n",
       "    <tr>\n",
       "      <th>1</th>\n",
       "      <td>I give Pirrip as my father's family name, on t...</td>\n",
       "      <td>108</td>\n",
       "      <td>35</td>\n",
       "      <td>0.250000</td>\n",
       "    </tr>\n",
       "    <tr>\n",
       "      <th>2</th>\n",
       "      <td>As I never saw my father or my mother, and nev...</td>\n",
       "      <td>192</td>\n",
       "      <td>63</td>\n",
       "      <td>0.100000</td>\n",
       "    </tr>\n",
       "    <tr>\n",
       "      <th>3</th>\n",
       "      <td>The shape of the letters on my father's, gave ...</td>\n",
       "      <td>93</td>\n",
       "      <td>30</td>\n",
       "      <td>-0.161111</td>\n",
       "    </tr>\n",
       "    <tr>\n",
       "      <th>4</th>\n",
       "      <td>From the character and turn of the inscription...</td>\n",
       "      <td>122</td>\n",
       "      <td>40</td>\n",
       "      <td>-0.304762</td>\n",
       "    </tr>\n",
       "  </tbody>\n",
       "</table>\n",
       "</div>"
      ],
      "text/plain": [
       "                                                   0  total_char  syl_sum  \\\n",
       "0  So, I called myself Pip, and came to be called...          38       12   \n",
       "1  I give Pirrip as my father's family name, on t...         108       35   \n",
       "2  As I never saw my father or my mother, and nev...         192       63   \n",
       "3  The shape of the letters on my father's, gave ...          93       30   \n",
       "4  From the character and turn of the inscription...         122       40   \n",
       "\n",
       "   sentiment  \n",
       "0   0.000000  \n",
       "1   0.250000  \n",
       "2   0.100000  \n",
       "3  -0.161111  \n",
       "4  -0.304762  "
      ]
     },
     "execution_count": 61,
     "metadata": {},
     "output_type": "execute_result"
    }
   ],
   "source": [
    "df_cluster_5.head()"
   ]
  },
  {
   "cell_type": "code",
   "execution_count": 62,
   "metadata": {
    "collapsed": true
   },
   "outputs": [],
   "source": [
    "X = df_cluster_5.drop(0, axis=1)"
   ]
  },
  {
   "cell_type": "code",
   "execution_count": 63,
   "metadata": {
    "collapsed": true
   },
   "outputs": [],
   "source": [
    "scaler = StandardScaler()\n",
    "X_scaled = scaler.fit_transform(X)"
   ]
  },
  {
   "cell_type": "code",
   "execution_count": 64,
   "metadata": {
    "collapsed": false
   },
   "outputs": [
    {
     "data": {
      "text/plain": [
       "KMeans(copy_x=True, init='k-means++', max_iter=300, n_clusters=5, n_init=10,\n",
       "    n_jobs=1, precompute_distances='auto', random_state=1, tol=0.0001,\n",
       "    verbose=0)"
      ]
     },
     "execution_count": 64,
     "metadata": {},
     "output_type": "execute_result"
    }
   ],
   "source": [
    "km = KMeans(n_clusters=5, random_state=1)\n",
    "km.fit(X_scaled)"
   ]
  },
  {
   "cell_type": "code",
   "execution_count": 65,
   "metadata": {
    "collapsed": true
   },
   "outputs": [],
   "source": [
    "df_cluster_5['cluster'] = km.labels_"
   ]
  },
  {
   "cell_type": "code",
   "execution_count": 66,
   "metadata": {
    "collapsed": false
   },
   "outputs": [
    {
     "data": {
      "text/html": [
       "<div>\n",
       "<table border=\"1\" class=\"dataframe\">\n",
       "  <thead>\n",
       "    <tr style=\"text-align: right;\">\n",
       "      <th></th>\n",
       "      <th>total_char</th>\n",
       "      <th>syl_sum</th>\n",
       "      <th>sentiment</th>\n",
       "    </tr>\n",
       "    <tr>\n",
       "      <th>cluster</th>\n",
       "      <th></th>\n",
       "      <th></th>\n",
       "      <th></th>\n",
       "    </tr>\n",
       "  </thead>\n",
       "  <tbody>\n",
       "    <tr>\n",
       "      <th>0</th>\n",
       "      <td>31.189449</td>\n",
       "      <td>9.845928</td>\n",
       "      <td>0.011375</td>\n",
       "    </tr>\n",
       "    <tr>\n",
       "      <th>1</th>\n",
       "      <td>121.532173</td>\n",
       "      <td>38.908134</td>\n",
       "      <td>0.044516</td>\n",
       "    </tr>\n",
       "    <tr>\n",
       "      <th>2</th>\n",
       "      <td>73.291782</td>\n",
       "      <td>23.571560</td>\n",
       "      <td>0.547612</td>\n",
       "    </tr>\n",
       "    <tr>\n",
       "      <th>3</th>\n",
       "      <td>74.249344</td>\n",
       "      <td>23.883202</td>\n",
       "      <td>-0.366397</td>\n",
       "    </tr>\n",
       "    <tr>\n",
       "      <th>4</th>\n",
       "      <td>246.521918</td>\n",
       "      <td>79.090411</td>\n",
       "      <td>0.055007</td>\n",
       "    </tr>\n",
       "  </tbody>\n",
       "</table>\n",
       "</div>"
      ],
      "text/plain": [
       "         total_char    syl_sum  sentiment\n",
       "cluster                                  \n",
       "0         31.189449   9.845928   0.011375\n",
       "1        121.532173  38.908134   0.044516\n",
       "2         73.291782  23.571560   0.547612\n",
       "3         74.249344  23.883202  -0.366397\n",
       "4        246.521918  79.090411   0.055007"
      ]
     },
     "execution_count": 66,
     "metadata": {},
     "output_type": "execute_result"
    }
   ],
   "source": [
    "df_cluster_5.groupby('cluster').mean()"
   ]
  },
  {
   "cell_type": "markdown",
   "metadata": {},
   "source": [
    "Add cluster_5 to original dataframe"
   ]
  },
  {
   "cell_type": "code",
   "execution_count": 67,
   "metadata": {
    "collapsed": true
   },
   "outputs": [],
   "source": [
    "df_novel['cluster_5'] = df_cluster_5['cluster']"
   ]
  },
  {
   "cell_type": "code",
   "execution_count": 68,
   "metadata": {
    "collapsed": false
   },
   "outputs": [
    {
     "data": {
      "text/html": [
       "<div>\n",
       "<table border=\"1\" class=\"dataframe\">\n",
       "  <thead>\n",
       "    <tr style=\"text-align: right;\">\n",
       "      <th></th>\n",
       "      <th>0</th>\n",
       "      <th>wrd_length</th>\n",
       "      <th>total_char</th>\n",
       "      <th>syl_count</th>\n",
       "      <th>syl_sum</th>\n",
       "      <th>sentiment</th>\n",
       "      <th>cluster_20</th>\n",
       "      <th>cluster_3_syl</th>\n",
       "      <th>cluster_3no_syl</th>\n",
       "      <th>cluster_5</th>\n",
       "    </tr>\n",
       "  </thead>\n",
       "  <tbody>\n",
       "    <tr>\n",
       "      <th>0</th>\n",
       "      <td>So, I called myself Pip, and came to be called...</td>\n",
       "      <td>[2, 1, 6, 6, 3, 3, 4, 2, 2, 6, 3]</td>\n",
       "      <td>38</td>\n",
       "      <td>[1, 1, 1, 2, 1, 1, 1, 1, 1, 1, 1]</td>\n",
       "      <td>12</td>\n",
       "      <td>0.000000</td>\n",
       "      <td>1</td>\n",
       "      <td>0</td>\n",
       "      <td>0</td>\n",
       "      <td>0</td>\n",
       "    </tr>\n",
       "    <tr>\n",
       "      <th>1</th>\n",
       "      <td>I give Pirrip as my father's family name, on t...</td>\n",
       "      <td>[1, 4, 6, 2, 2, 6, 2, 6, 4, 2, 3, 9, 2, 3, 9, ...</td>\n",
       "      <td>108</td>\n",
       "      <td>[1, 1, 2, 1, 1, 2, 0, 3, 1, 1, 1, 4, 1, 1, 2, ...</td>\n",
       "      <td>35</td>\n",
       "      <td>0.250000</td>\n",
       "      <td>18</td>\n",
       "      <td>1</td>\n",
       "      <td>2</td>\n",
       "      <td>1</td>\n",
       "    </tr>\n",
       "    <tr>\n",
       "      <th>2</th>\n",
       "      <td>As I never saw my father or my mother, and nev...</td>\n",
       "      <td>[2, 1, 5, 3, 2, 6, 2, 2, 6, 3, 5, 3, 3, 8, 2, ...</td>\n",
       "      <td>192</td>\n",
       "      <td>[1, 1, 2, 1, 1, 2, 1, 1, 2, 1, 2, 1, 2, 3, 1, ...</td>\n",
       "      <td>63</td>\n",
       "      <td>0.100000</td>\n",
       "      <td>7</td>\n",
       "      <td>2</td>\n",
       "      <td>1</td>\n",
       "      <td>4</td>\n",
       "    </tr>\n",
       "    <tr>\n",
       "      <th>3</th>\n",
       "      <td>The shape of the letters on my father's, gave ...</td>\n",
       "      <td>[3, 5, 2, 3, 7, 2, 2, 6, 2, 4, 2, 2, 3, 4, 4, ...</td>\n",
       "      <td>93</td>\n",
       "      <td>[1, 1, 1, 1, 2, 1, 1, 2, 0, 1, 1, 1, 1, 3, 1, ...</td>\n",
       "      <td>30</td>\n",
       "      <td>-0.161111</td>\n",
       "      <td>4</td>\n",
       "      <td>0</td>\n",
       "      <td>0</td>\n",
       "      <td>3</td>\n",
       "    </tr>\n",
       "    <tr>\n",
       "      <th>4</th>\n",
       "      <td>From the character and turn of the inscription...</td>\n",
       "      <td>[4, 3, 9, 3, 4, 2, 3, 11, 4, 9, 4, 2, 3, 5, 1,...</td>\n",
       "      <td>122</td>\n",
       "      <td>[1, 1, 3, 1, 1, 1, 1, 3, 2, 4, 1, 1, 1, 2, 1, ...</td>\n",
       "      <td>40</td>\n",
       "      <td>-0.304762</td>\n",
       "      <td>4</td>\n",
       "      <td>2</td>\n",
       "      <td>1</td>\n",
       "      <td>3</td>\n",
       "    </tr>\n",
       "  </tbody>\n",
       "</table>\n",
       "</div>"
      ],
      "text/plain": [
       "                                                   0  \\\n",
       "0  So, I called myself Pip, and came to be called...   \n",
       "1  I give Pirrip as my father's family name, on t...   \n",
       "2  As I never saw my father or my mother, and nev...   \n",
       "3  The shape of the letters on my father's, gave ...   \n",
       "4  From the character and turn of the inscription...   \n",
       "\n",
       "                                          wrd_length  total_char  \\\n",
       "0                  [2, 1, 6, 6, 3, 3, 4, 2, 2, 6, 3]          38   \n",
       "1  [1, 4, 6, 2, 2, 6, 2, 6, 4, 2, 3, 9, 2, 3, 9, ...         108   \n",
       "2  [2, 1, 5, 3, 2, 6, 2, 2, 6, 3, 5, 3, 3, 8, 2, ...         192   \n",
       "3  [3, 5, 2, 3, 7, 2, 2, 6, 2, 4, 2, 2, 3, 4, 4, ...          93   \n",
       "4  [4, 3, 9, 3, 4, 2, 3, 11, 4, 9, 4, 2, 3, 5, 1,...         122   \n",
       "\n",
       "                                           syl_count  syl_sum  sentiment  \\\n",
       "0                  [1, 1, 1, 2, 1, 1, 1, 1, 1, 1, 1]       12   0.000000   \n",
       "1  [1, 1, 2, 1, 1, 2, 0, 3, 1, 1, 1, 4, 1, 1, 2, ...       35   0.250000   \n",
       "2  [1, 1, 2, 1, 1, 2, 1, 1, 2, 1, 2, 1, 2, 3, 1, ...       63   0.100000   \n",
       "3  [1, 1, 1, 1, 2, 1, 1, 2, 0, 1, 1, 1, 1, 3, 1, ...       30  -0.161111   \n",
       "4  [1, 1, 3, 1, 1, 1, 1, 3, 2, 4, 1, 1, 1, 2, 1, ...       40  -0.304762   \n",
       "\n",
       "   cluster_20  cluster_3_syl  cluster_3no_syl  cluster_5  \n",
       "0           1              0                0          0  \n",
       "1          18              1                2          1  \n",
       "2           7              2                1          4  \n",
       "3           4              0                0          3  \n",
       "4           4              2                1          3  "
      ]
     },
     "execution_count": 68,
     "metadata": {},
     "output_type": "execute_result"
    }
   ],
   "source": [
    "df_novel.head()"
   ]
  },
  {
   "cell_type": "markdown",
   "metadata": {},
   "source": [
    "Write files to csv"
   ]
  },
  {
   "cell_type": "code",
   "execution_count": 69,
   "metadata": {
    "collapsed": true
   },
   "outputs": [],
   "source": [
    "df_novel.to_csv('data/novel_'+novel_title+'.csv', index=False)"
   ]
  },
  {
   "cell_type": "code",
   "execution_count": 70,
   "metadata": {
    "collapsed": true
   },
   "outputs": [],
   "source": [
    "df_test = pd.read_csv('data/novel_'+novel_title+'.csv')"
   ]
  },
  {
   "cell_type": "code",
   "execution_count": 71,
   "metadata": {
    "collapsed": false
   },
   "outputs": [
    {
     "data": {
      "text/html": [
       "<div>\n",
       "<table border=\"1\" class=\"dataframe\">\n",
       "  <thead>\n",
       "    <tr style=\"text-align: right;\">\n",
       "      <th></th>\n",
       "      <th>0</th>\n",
       "      <th>wrd_length</th>\n",
       "      <th>total_char</th>\n",
       "      <th>syl_count</th>\n",
       "      <th>syl_sum</th>\n",
       "      <th>sentiment</th>\n",
       "      <th>cluster_20</th>\n",
       "      <th>cluster_3_syl</th>\n",
       "      <th>cluster_3no_syl</th>\n",
       "      <th>cluster_5</th>\n",
       "    </tr>\n",
       "  </thead>\n",
       "  <tbody>\n",
       "    <tr>\n",
       "      <th>0</th>\n",
       "      <td>So, I called myself Pip, and came to be called...</td>\n",
       "      <td>[2, 1, 6, 6, 3, 3, 4, 2, 2, 6, 3]</td>\n",
       "      <td>38</td>\n",
       "      <td>[1 1 1 2 1 1 1 1 1 1 1]</td>\n",
       "      <td>12</td>\n",
       "      <td>0.000000</td>\n",
       "      <td>1</td>\n",
       "      <td>0</td>\n",
       "      <td>0</td>\n",
       "      <td>0</td>\n",
       "    </tr>\n",
       "    <tr>\n",
       "      <th>1</th>\n",
       "      <td>I give Pirrip as my father's family name, on t...</td>\n",
       "      <td>[1, 4, 6, 2, 2, 6, 2, 6, 4, 2, 3, 9, 2, 3, 9, ...</td>\n",
       "      <td>108</td>\n",
       "      <td>[1 1 2 1 1 2 0 3 1 1 1 4 1 1 2 1 1 2 0 0 3 1 2...</td>\n",
       "      <td>35</td>\n",
       "      <td>0.250000</td>\n",
       "      <td>18</td>\n",
       "      <td>1</td>\n",
       "      <td>2</td>\n",
       "      <td>1</td>\n",
       "    </tr>\n",
       "    <tr>\n",
       "      <th>2</th>\n",
       "      <td>As I never saw my father or my mother, and nev...</td>\n",
       "      <td>[2, 1, 5, 3, 2, 6, 2, 2, 6, 3, 5, 3, 3, 8, 2, ...</td>\n",
       "      <td>192</td>\n",
       "      <td>[1 1 2 1 1 2 1 1 2 1 2 1 2 3 1 2 1 1 1 1 1 1 1...</td>\n",
       "      <td>63</td>\n",
       "      <td>0.100000</td>\n",
       "      <td>7</td>\n",
       "      <td>2</td>\n",
       "      <td>1</td>\n",
       "      <td>4</td>\n",
       "    </tr>\n",
       "    <tr>\n",
       "      <th>3</th>\n",
       "      <td>The shape of the letters on my father's, gave ...</td>\n",
       "      <td>[3, 5, 2, 3, 7, 2, 2, 6, 2, 4, 2, 2, 3, 4, 4, ...</td>\n",
       "      <td>93</td>\n",
       "      <td>[1 1 1 1 2 1 1 2 0 1 1 1 1 3 1 1 1 1 1 1 1 1 1...</td>\n",
       "      <td>30</td>\n",
       "      <td>-0.161111</td>\n",
       "      <td>4</td>\n",
       "      <td>0</td>\n",
       "      <td>0</td>\n",
       "      <td>3</td>\n",
       "    </tr>\n",
       "    <tr>\n",
       "      <th>4</th>\n",
       "      <td>From the character and turn of the inscription...</td>\n",
       "      <td>[4, 3, 9, 3, 4, 2, 3, 11, 4, 9, 4, 2, 3, 5, 1,...</td>\n",
       "      <td>122</td>\n",
       "      <td>[1 1 3 1 1 1 1 3 2 4 1 1 1 2 1 1 1 2 3 1 1 2 1...</td>\n",
       "      <td>40</td>\n",
       "      <td>-0.304762</td>\n",
       "      <td>4</td>\n",
       "      <td>2</td>\n",
       "      <td>1</td>\n",
       "      <td>3</td>\n",
       "    </tr>\n",
       "  </tbody>\n",
       "</table>\n",
       "</div>"
      ],
      "text/plain": [
       "                                                   0  \\\n",
       "0  So, I called myself Pip, and came to be called...   \n",
       "1  I give Pirrip as my father's family name, on t...   \n",
       "2  As I never saw my father or my mother, and nev...   \n",
       "3  The shape of the letters on my father's, gave ...   \n",
       "4  From the character and turn of the inscription...   \n",
       "\n",
       "                                          wrd_length  total_char  \\\n",
       "0                  [2, 1, 6, 6, 3, 3, 4, 2, 2, 6, 3]          38   \n",
       "1  [1, 4, 6, 2, 2, 6, 2, 6, 4, 2, 3, 9, 2, 3, 9, ...         108   \n",
       "2  [2, 1, 5, 3, 2, 6, 2, 2, 6, 3, 5, 3, 3, 8, 2, ...         192   \n",
       "3  [3, 5, 2, 3, 7, 2, 2, 6, 2, 4, 2, 2, 3, 4, 4, ...          93   \n",
       "4  [4, 3, 9, 3, 4, 2, 3, 11, 4, 9, 4, 2, 3, 5, 1,...         122   \n",
       "\n",
       "                                           syl_count  syl_sum  sentiment  \\\n",
       "0                            [1 1 1 2 1 1 1 1 1 1 1]       12   0.000000   \n",
       "1  [1 1 2 1 1 2 0 3 1 1 1 4 1 1 2 1 1 2 0 0 3 1 2...       35   0.250000   \n",
       "2  [1 1 2 1 1 2 1 1 2 1 2 1 2 3 1 2 1 1 1 1 1 1 1...       63   0.100000   \n",
       "3  [1 1 1 1 2 1 1 2 0 1 1 1 1 3 1 1 1 1 1 1 1 1 1...       30  -0.161111   \n",
       "4  [1 1 3 1 1 1 1 3 2 4 1 1 1 2 1 1 1 2 3 1 1 2 1...       40  -0.304762   \n",
       "\n",
       "   cluster_20  cluster_3_syl  cluster_3no_syl  cluster_5  \n",
       "0           1              0                0          0  \n",
       "1          18              1                2          1  \n",
       "2           7              2                1          4  \n",
       "3           4              0                0          3  \n",
       "4           4              2                1          3  "
      ]
     },
     "execution_count": 71,
     "metadata": {},
     "output_type": "execute_result"
    }
   ],
   "source": [
    "df_test.head()"
   ]
  },
  {
   "cell_type": "markdown",
   "metadata": {},
   "source": [
    "Find ideal amount of clusters for novel"
   ]
  },
  {
   "cell_type": "raw",
   "metadata": {},
   "source": [
    "from sklearn import metrics\n",
    "metrics.silhouette_score(X_scaled, km.labels_)"
   ]
  },
  {
   "cell_type": "raw",
   "metadata": {},
   "source": [
    "k_range = range(2,150)\n",
    "scores = []\n",
    "for k in k_range:\n",
    "    km = KMeans(n_clusters=k, random_state=1)\n",
    "    km.fit(X_scaled)\n",
    "    scores.append(metrics.silhouette_score(X_scaled, km.labels_))"
   ]
  },
  {
   "cell_type": "raw",
   "metadata": {},
   "source": [
    "plt.plot(k_range, scores)\n",
    "plt.xlabel('Number of clusters')\n",
    "plt.ylabel('Silihouette Coefficient')\n",
    "plt.grid(True)"
   ]
  },
  {
   "cell_type": "markdown",
   "metadata": {},
   "source": [
    "Find Sentiment Pattern "
   ]
  },
  {
   "cell_type": "markdown",
   "metadata": {},
   "source": [
    "20 pieces"
   ]
  },
  {
   "cell_type": "code",
   "execution_count": 72,
   "metadata": {
    "collapsed": false
   },
   "outputs": [
    {
     "data": {
      "text/html": [
       "<div>\n",
       "<table border=\"1\" class=\"dataframe\">\n",
       "  <thead>\n",
       "    <tr style=\"text-align: right;\">\n",
       "      <th></th>\n",
       "      <th>0</th>\n",
       "      <th>wrd_length</th>\n",
       "      <th>total_char</th>\n",
       "      <th>syl_count</th>\n",
       "      <th>syl_sum</th>\n",
       "      <th>sentiment</th>\n",
       "      <th>cluster_20</th>\n",
       "      <th>cluster_3_syl</th>\n",
       "      <th>cluster_3no_syl</th>\n",
       "      <th>cluster_5</th>\n",
       "    </tr>\n",
       "  </thead>\n",
       "  <tbody>\n",
       "    <tr>\n",
       "      <th>9818</th>\n",
       "      <td>I have been bent and broken, but--I hope--into...</td>\n",
       "      <td>[1, 4, 4, 4, 3, 6, 3, 1, 4, 4, 1, 6, 5]</td>\n",
       "      <td>46</td>\n",
       "      <td>[1, 1, 1, 1, 1, 2, 1, 1, 1, 2, 1, 2, 1]</td>\n",
       "      <td>16</td>\n",
       "      <td>0.0500</td>\n",
       "      <td>1</td>\n",
       "      <td>0</td>\n",
       "      <td>0</td>\n",
       "      <td>0</td>\n",
       "    </tr>\n",
       "    <tr>\n",
       "      <th>9819</th>\n",
       "      <td>Be as considerate and good to me as you were, ...</td>\n",
       "      <td>[2, 2, 11, 3, 4, 2, 2, 2, 3, 4, 3, 4, 2, 2, 3, 7]</td>\n",
       "      <td>56</td>\n",
       "      <td>[1, 1, 4, 1, 1, 1, 1, 1, 1, 1, 1, 1, 1, 1, 1, 2]</td>\n",
       "      <td>20</td>\n",
       "      <td>0.7000</td>\n",
       "      <td>14</td>\n",
       "      <td>1</td>\n",
       "      <td>2</td>\n",
       "      <td>2</td>\n",
       "    </tr>\n",
       "    <tr>\n",
       "      <th>9820</th>\n",
       "      <td>\"We are friends,\" said I, rising and bending o...</td>\n",
       "      <td>[2, 3, 7, 4, 1, 6, 3, 7, 4, 3, 2, 3, 4, 4, 3, 5]</td>\n",
       "      <td>61</td>\n",
       "      <td>[1, 1, 2, 1, 1, 2, 1, 2, 2, 1, 1, 0, 1, 1, 1, 1]</td>\n",
       "      <td>19</td>\n",
       "      <td>0.6000</td>\n",
       "      <td>10</td>\n",
       "      <td>1</td>\n",
       "      <td>2</td>\n",
       "      <td>2</td>\n",
       "    </tr>\n",
       "    <tr>\n",
       "      <th>9821</th>\n",
       "      <td>\"And will continue friends apart,\" said Estella.</td>\n",
       "      <td>[3, 4, 8, 7, 5, 4, 7]</td>\n",
       "      <td>38</td>\n",
       "      <td>[1, 1, 2, 2, 2, 1, 3]</td>\n",
       "      <td>12</td>\n",
       "      <td>0.0000</td>\n",
       "      <td>1</td>\n",
       "      <td>0</td>\n",
       "      <td>0</td>\n",
       "      <td>0</td>\n",
       "    </tr>\n",
       "    <tr>\n",
       "      <th>9822</th>\n",
       "      <td>I took her hand in mine, and we went out of th...</td>\n",
       "      <td>[1, 4, 3, 4, 2, 4, 3, 2, 4, 3, 2, 3, 6, 5, 3, ...</td>\n",
       "      <td>220</td>\n",
       "      <td>[1, 1, 1, 1, 1, 1, 1, 1, 1, 1, 1, 1, 1, 1, 1, ...</td>\n",
       "      <td>70</td>\n",
       "      <td>0.1325</td>\n",
       "      <td>2</td>\n",
       "      <td>2</td>\n",
       "      <td>1</td>\n",
       "      <td>4</td>\n",
       "    </tr>\n",
       "  </tbody>\n",
       "</table>\n",
       "</div>"
      ],
      "text/plain": [
       "                                                      0  \\\n",
       "9818  I have been bent and broken, but--I hope--into...   \n",
       "9819  Be as considerate and good to me as you were, ...   \n",
       "9820  \"We are friends,\" said I, rising and bending o...   \n",
       "9821   \"And will continue friends apart,\" said Estella.   \n",
       "9822  I took her hand in mine, and we went out of th...   \n",
       "\n",
       "                                             wrd_length  total_char  \\\n",
       "9818            [1, 4, 4, 4, 3, 6, 3, 1, 4, 4, 1, 6, 5]          46   \n",
       "9819  [2, 2, 11, 3, 4, 2, 2, 2, 3, 4, 3, 4, 2, 2, 3, 7]          56   \n",
       "9820   [2, 3, 7, 4, 1, 6, 3, 7, 4, 3, 2, 3, 4, 4, 3, 5]          61   \n",
       "9821                              [3, 4, 8, 7, 5, 4, 7]          38   \n",
       "9822  [1, 4, 3, 4, 2, 4, 3, 2, 4, 3, 2, 3, 6, 5, 3, ...         220   \n",
       "\n",
       "                                              syl_count  syl_sum  sentiment  \\\n",
       "9818            [1, 1, 1, 1, 1, 2, 1, 1, 1, 2, 1, 2, 1]       16     0.0500   \n",
       "9819   [1, 1, 4, 1, 1, 1, 1, 1, 1, 1, 1, 1, 1, 1, 1, 2]       20     0.7000   \n",
       "9820   [1, 1, 2, 1, 1, 2, 1, 2, 2, 1, 1, 0, 1, 1, 1, 1]       19     0.6000   \n",
       "9821                              [1, 1, 2, 2, 2, 1, 3]       12     0.0000   \n",
       "9822  [1, 1, 1, 1, 1, 1, 1, 1, 1, 1, 1, 1, 1, 1, 1, ...       70     0.1325   \n",
       "\n",
       "      cluster_20  cluster_3_syl  cluster_3no_syl  cluster_5  \n",
       "9818           1              0                0          0  \n",
       "9819          14              1                2          2  \n",
       "9820          10              1                2          2  \n",
       "9821           1              0                0          0  \n",
       "9822           2              2                1          4  "
      ]
     },
     "execution_count": 72,
     "metadata": {},
     "output_type": "execute_result"
    }
   ],
   "source": [
    "df_novel.tail()"
   ]
  },
  {
   "cell_type": "code",
   "execution_count": 73,
   "metadata": {
    "collapsed": false
   },
   "outputs": [
    {
     "data": {
      "text/plain": [
       "765212"
      ]
     },
     "execution_count": 73,
     "metadata": {},
     "output_type": "execute_result"
    }
   ],
   "source": [
    "df_novel['total_char'].sum()"
   ]
  },
  {
   "cell_type": "code",
   "execution_count": 74,
   "metadata": {
    "collapsed": false
   },
   "outputs": [],
   "source": [
    "t = 0\n",
    "x = 0\n",
    "ratio = (df_novel['total_char'].sum()/20) - (.06 * (int(len(df_novel) - 1)))\n",
    "# or figure out some better code. \n",
    "def find_this(t, x):\n",
    "    w = 0    \n",
    "    sent_stop = []\n",
    "    while w <= ratio:\n",
    "        w = df_novel['total_char'][t:x].sum()\n",
    "        sent_stop.append(x)\n",
    "        x += 1\n",
    "    return max(sent_stop)     "
   ]
  },
  {
   "cell_type": "code",
   "execution_count": 75,
   "metadata": {
    "collapsed": false
   },
   "outputs": [
    {
     "name": "stdout",
     "output_type": "stream",
     "text": [
      "df_novel['total_char'][0:489]\n",
      "df_novel['total_char'][489:989]\n",
      "df_novel['total_char'][989:1517]\n",
      "df_novel['total_char'][1517:2016]\n",
      "df_novel['total_char'][2016:2488]\n",
      "df_novel['total_char'][2488:3004]\n",
      "df_novel['total_char'][3004:3472]\n",
      "df_novel['total_char'][3472:3942]\n",
      "df_novel['total_char'][3942:4434]\n",
      "df_novel['total_char'][4434:4929]\n",
      "df_novel['total_char'][4929:5403]\n",
      "df_novel['total_char'][5403:5821]\n",
      "df_novel['total_char'][5821:6260]\n",
      "df_novel['total_char'][6260:6841]\n",
      "df_novel['total_char'][6841:7357]\n",
      "df_novel['total_char'][7357:7791]\n",
      "df_novel['total_char'][7791:8312]\n",
      "df_novel['total_char'][8312:8815]\n",
      "df_novel['total_char'][8815:9238]\n",
      "df_novel['total_char'][9238:9686]\n"
     ]
    }
   ],
   "source": [
    "t = 0\n",
    "x = 0\n",
    "start_point = []\n",
    "stop_point = []\n",
    "for n in range(1, 21):\n",
    "    s = find_this(t, x)\n",
    "    print \"df_novel['total_char'][%s:%s]\" %(t, s)\n",
    "    start_point.append(t)\n",
    "    stop_point.append(s)\n",
    "    t = s\n",
    "    x = s + 1      "
   ]
  },
  {
   "cell_type": "code",
   "execution_count": 76,
   "metadata": {
    "collapsed": false
   },
   "outputs": [
    {
     "name": "stdout",
     "output_type": "stream",
     "text": [
      "0\n",
      "489\n",
      "0.0155775145249\n",
      "489\n",
      "989\n",
      "0.0409993449421\n",
      "989\n",
      "1517\n",
      "0.0360117613361\n",
      "1517\n",
      "2016\n",
      "0.0433742101034\n",
      "2016\n",
      "2488\n",
      "0.0616488856943\n",
      "2488\n",
      "3004\n",
      "0.0688883505086\n",
      "3004\n",
      "3472\n",
      "0.0413024552126\n",
      "3472\n",
      "3942\n",
      "0.0819286853464\n",
      "3942\n",
      "4434\n",
      "0.0663532569522\n",
      "4434\n",
      "4929\n",
      "0.0725444867235\n",
      "4929\n",
      "5403\n",
      "0.0556928738358\n",
      "5403\n",
      "5821\n",
      "0.0552741801991\n",
      "5821\n",
      "6260\n",
      "0.0592340858768\n",
      "6260\n",
      "6841\n",
      "0.0435564316755\n",
      "6841\n",
      "7357\n",
      "0.0142173653892\n",
      "7357\n",
      "7791\n",
      "0.0762170026422\n",
      "7791\n",
      "8312\n",
      "0.0457206971987\n",
      "8312\n",
      "8815\n",
      "0.0468001620265\n",
      "8815\n",
      "9238\n",
      "0.047998991093\n",
      "9238\n",
      "9686\n",
      "0.0799488233517\n"
     ]
    }
   ],
   "source": [
    "twenty_piece_char = []\n",
    "st = 0\n",
    "for l in start_point: \n",
    "    strt = start_point[st]\n",
    "    stp = stop_point[st]\n",
    "    print strt\n",
    "    print stp\n",
    "    mn = df_novel['sentiment'][strt:stp].mean()\n",
    "    twenty_piece_char.append(mn)\n",
    "    print mn\n",
    "    st +=1   "
   ]
  },
  {
   "cell_type": "code",
   "execution_count": 77,
   "metadata": {
    "collapsed": false
   },
   "outputs": [
    {
     "name": "stdout",
     "output_type": "stream",
     "text": [
      "[ 0.01557751  0.04099934  0.03601176  0.04337421  0.06164889  0.06888835\n",
      "  0.04130246  0.08192869  0.06635326  0.07254449  0.05569287  0.05527418\n",
      "  0.05923409  0.04355643  0.01421737  0.076217    0.0457207   0.04680016\n",
      "  0.04799899  0.07994882]\n"
     ]
    }
   ],
   "source": [
    "n = np.array(n)\n",
    "twenty_piece_char = np.array(twenty_piece_char)\n",
    "print twenty_piece_char"
   ]
  },
  {
   "cell_type": "code",
   "execution_count": 78,
   "metadata": {
    "collapsed": false
   },
   "outputs": [
    {
     "data": {
      "image/png": "[encoded data removed]",
      "text/plain": [
       "<matplotlib.figure.Figure at 0x11beb7590>"
      ]
     },
     "metadata": {},
     "output_type": "display_data"
    }
   ],
   "source": [
    "plt.bar(range(20), twenty_piece_char)\n",
    "plt.ylabel('sentiment')\n",
    "plt.show()"
   ]
  },
  {
   "cell_type": "markdown",
   "metadata": {},
   "source": [
    "Create 3 piece sentiment pattern - need to fix this code for the three piece"
   ]
  },
  {
   "cell_type": "code",
   "execution_count": 79,
   "metadata": {
    "collapsed": false
   },
   "outputs": [
    {
     "data": {
      "text/html": [
       "<div>\n",
       "<table border=\"1\" class=\"dataframe\">\n",
       "  <thead>\n",
       "    <tr style=\"text-align: right;\">\n",
       "      <th></th>\n",
       "      <th>0</th>\n",
       "      <th>wrd_length</th>\n",
       "      <th>total_char</th>\n",
       "      <th>syl_count</th>\n",
       "      <th>syl_sum</th>\n",
       "      <th>sentiment</th>\n",
       "      <th>cluster_20</th>\n",
       "      <th>cluster_3_syl</th>\n",
       "      <th>cluster_3no_syl</th>\n",
       "      <th>cluster_5</th>\n",
       "    </tr>\n",
       "  </thead>\n",
       "  <tbody>\n",
       "    <tr>\n",
       "      <th>9818</th>\n",
       "      <td>I have been bent and broken, but--I hope--into...</td>\n",
       "      <td>[1, 4, 4, 4, 3, 6, 3, 1, 4, 4, 1, 6, 5]</td>\n",
       "      <td>46</td>\n",
       "      <td>[1, 1, 1, 1, 1, 2, 1, 1, 1, 2, 1, 2, 1]</td>\n",
       "      <td>16</td>\n",
       "      <td>0.0500</td>\n",
       "      <td>1</td>\n",
       "      <td>0</td>\n",
       "      <td>0</td>\n",
       "      <td>0</td>\n",
       "    </tr>\n",
       "    <tr>\n",
       "      <th>9819</th>\n",
       "      <td>Be as considerate and good to me as you were, ...</td>\n",
       "      <td>[2, 2, 11, 3, 4, 2, 2, 2, 3, 4, 3, 4, 2, 2, 3, 7]</td>\n",
       "      <td>56</td>\n",
       "      <td>[1, 1, 4, 1, 1, 1, 1, 1, 1, 1, 1, 1, 1, 1, 1, 2]</td>\n",
       "      <td>20</td>\n",
       "      <td>0.7000</td>\n",
       "      <td>14</td>\n",
       "      <td>1</td>\n",
       "      <td>2</td>\n",
       "      <td>2</td>\n",
       "    </tr>\n",
       "    <tr>\n",
       "      <th>9820</th>\n",
       "      <td>\"We are friends,\" said I, rising and bending o...</td>\n",
       "      <td>[2, 3, 7, 4, 1, 6, 3, 7, 4, 3, 2, 3, 4, 4, 3, 5]</td>\n",
       "      <td>61</td>\n",
       "      <td>[1, 1, 2, 1, 1, 2, 1, 2, 2, 1, 1, 0, 1, 1, 1, 1]</td>\n",
       "      <td>19</td>\n",
       "      <td>0.6000</td>\n",
       "      <td>10</td>\n",
       "      <td>1</td>\n",
       "      <td>2</td>\n",
       "      <td>2</td>\n",
       "    </tr>\n",
       "    <tr>\n",
       "      <th>9821</th>\n",
       "      <td>\"And will continue friends apart,\" said Estella.</td>\n",
       "      <td>[3, 4, 8, 7, 5, 4, 7]</td>\n",
       "      <td>38</td>\n",
       "      <td>[1, 1, 2, 2, 2, 1, 3]</td>\n",
       "      <td>12</td>\n",
       "      <td>0.0000</td>\n",
       "      <td>1</td>\n",
       "      <td>0</td>\n",
       "      <td>0</td>\n",
       "      <td>0</td>\n",
       "    </tr>\n",
       "    <tr>\n",
       "      <th>9822</th>\n",
       "      <td>I took her hand in mine, and we went out of th...</td>\n",
       "      <td>[1, 4, 3, 4, 2, 4, 3, 2, 4, 3, 2, 3, 6, 5, 3, ...</td>\n",
       "      <td>220</td>\n",
       "      <td>[1, 1, 1, 1, 1, 1, 1, 1, 1, 1, 1, 1, 1, 1, 1, ...</td>\n",
       "      <td>70</td>\n",
       "      <td>0.1325</td>\n",
       "      <td>2</td>\n",
       "      <td>2</td>\n",
       "      <td>1</td>\n",
       "      <td>4</td>\n",
       "    </tr>\n",
       "  </tbody>\n",
       "</table>\n",
       "</div>"
      ],
      "text/plain": [
       "                                                      0  \\\n",
       "9818  I have been bent and broken, but--I hope--into...   \n",
       "9819  Be as considerate and good to me as you were, ...   \n",
       "9820  \"We are friends,\" said I, rising and bending o...   \n",
       "9821   \"And will continue friends apart,\" said Estella.   \n",
       "9822  I took her hand in mine, and we went out of th...   \n",
       "\n",
       "                                             wrd_length  total_char  \\\n",
       "9818            [1, 4, 4, 4, 3, 6, 3, 1, 4, 4, 1, 6, 5]          46   \n",
       "9819  [2, 2, 11, 3, 4, 2, 2, 2, 3, 4, 3, 4, 2, 2, 3, 7]          56   \n",
       "9820   [2, 3, 7, 4, 1, 6, 3, 7, 4, 3, 2, 3, 4, 4, 3, 5]          61   \n",
       "9821                              [3, 4, 8, 7, 5, 4, 7]          38   \n",
       "9822  [1, 4, 3, 4, 2, 4, 3, 2, 4, 3, 2, 3, 6, 5, 3, ...         220   \n",
       "\n",
       "                                              syl_count  syl_sum  sentiment  \\\n",
       "9818            [1, 1, 1, 1, 1, 2, 1, 1, 1, 2, 1, 2, 1]       16     0.0500   \n",
       "9819   [1, 1, 4, 1, 1, 1, 1, 1, 1, 1, 1, 1, 1, 1, 1, 2]       20     0.7000   \n",
       "9820   [1, 1, 2, 1, 1, 2, 1, 2, 2, 1, 1, 0, 1, 1, 1, 1]       19     0.6000   \n",
       "9821                              [1, 1, 2, 2, 2, 1, 3]       12     0.0000   \n",
       "9822  [1, 1, 1, 1, 1, 1, 1, 1, 1, 1, 1, 1, 1, 1, 1, ...       70     0.1325   \n",
       "\n",
       "      cluster_20  cluster_3_syl  cluster_3no_syl  cluster_5  \n",
       "9818           1              0                0          0  \n",
       "9819          14              1                2          2  \n",
       "9820          10              1                2          2  \n",
       "9821           1              0                0          0  \n",
       "9822           2              2                1          4  "
      ]
     },
     "execution_count": 79,
     "metadata": {},
     "output_type": "execute_result"
    }
   ],
   "source": [
    "df_novel.tail()"
   ]
  },
  {
   "cell_type": "code",
   "execution_count": 80,
   "metadata": {
    "collapsed": true
   },
   "outputs": [],
   "source": [
    "t = 0\n",
    "x = 0\n",
    "ratio = (df_novel['total_char'].sum()/3) - (.06 * (int(len(df_novel) - 1)))\n",
    "def find_this(t, x):\n",
    "    w = 0    \n",
    "    sent_stop = []\n",
    "    while w < ratio:\n",
    "        w = df_novel['total_char'][t:x].sum()\n",
    "        sent_stop.append(x)\n",
    "        x += 1\n",
    "    return max(sent_stop)  "
   ]
  },
  {
   "cell_type": "code",
   "execution_count": 81,
   "metadata": {
    "collapsed": false
   },
   "outputs": [
    {
     "name": "stdout",
     "output_type": "stream",
     "text": [
      "df_novel['total_char'][0:3339]\n",
      "df_novel['total_char'][3339:6569]\n",
      "df_novel['total_char'][6569:9796]\n"
     ]
    }
   ],
   "source": [
    "t = 0\n",
    "x = 0\n",
    "start_point = []\n",
    "stop_point = []\n",
    "for n in range(0, 3):\n",
    "    s = find_this(t, x)\n",
    "    print \"df_novel['total_char'][%s:%s]\" %(t, s)\n",
    "    start_point.append(t)\n",
    "    stop_point.append(s)\n",
    "    t = s\n",
    "    x = s + 1  "
   ]
  },
  {
   "cell_type": "code",
   "execution_count": 82,
   "metadata": {
    "collapsed": false
   },
   "outputs": [
    {
     "name": "stdout",
     "output_type": "stream",
     "text": [
      "0\n",
      "3339\n",
      "0.0466163319052\n",
      "3339\n",
      "6569\n",
      "0.0599800498812\n",
      "6569\n",
      "9796\n",
      "0.0516811945169\n"
     ]
    }
   ],
   "source": [
    "three_piece_char = []\n",
    "st = 0\n",
    "for l in start_point: \n",
    "    strt = start_point[st]\n",
    "    stp = stop_point[st]\n",
    "    print strt\n",
    "    print stp\n",
    "    mn = df_novel['sentiment'][strt:stp].mean()\n",
    "    three_piece_char.append(mn)\n",
    "    print mn\n",
    "    st +=1"
   ]
  },
  {
   "cell_type": "code",
   "execution_count": 83,
   "metadata": {
    "collapsed": false
   },
   "outputs": [
    {
     "name": "stdout",
     "output_type": "stream",
     "text": [
      "[ 0.04661633  0.05998005  0.05168119]\n"
     ]
    }
   ],
   "source": [
    "n = np.array(n)\n",
    "three_piece_char = np.array(three_piece_char)\n",
    "print three_piece_char"
   ]
  },
  {
   "cell_type": "code",
   "execution_count": 84,
   "metadata": {
    "collapsed": false
   },
   "outputs": [
    {
     "data": {
      "image/png": "[encoded data removed]",
      "text/plain": [
       "<matplotlib.figure.Figure at 0x118db0950>"
      ]
     },
     "metadata": {},
     "output_type": "display_data"
    }
   ],
   "source": [
    "plt.bar(range(3), three_piece_char)\n",
    "plt.ylabel('sentiment')\n",
    "plt.show()"
   ]
  },
  {
   "cell_type": "markdown",
   "metadata": {},
   "source": [
    "Create sentiment pattern based on ideal cluster numbers"
   ]
  }
 ],
 "metadata": {
  "kernelspec": {
   "display_name": "Python 2",
   "language": "python",
   "name": "python2"
  },
  "language_info": {
   "codemirror_mode": {
    "name": "ipython",
    "version": 2
   },
   "file_extension": ".py",
   "mimetype": "text/x-python",
   "name": "python",
   "nbconvert_exporter": "python",
   "pygments_lexer": "ipython2",
   "version": "2.7.11"
  }
 },
 "nbformat": 4,
 "nbformat_minor": 0
}
