{
 "cells": [
  {
   "cell_type": "code",
   "execution_count": 2,
   "metadata": {
    "collapsed": true
   },
   "outputs": [],
   "source": [
    "import pandas as pd\n",
    "from textblob import TextBlob\n",
    "import csv\n",
    "from gutenberg.acquire import load_etext\n",
    "from gutenberg.cleanup import strip_headers\n",
    "import os\n",
    "import numpy as np"
   ]
  },
  {
   "cell_type": "code",
   "execution_count": 3,
   "metadata": {
    "collapsed": true
   },
   "outputs": [],
   "source": [
    "import seaborn as sns\n",
    "import matplotlib.pyplot as plt\n",
    "%matplotlib inline\n",
    "plt.rcParams['figure.figsize'] = (8, 6)\n",
    "plt.rcParams['font.size'] = 14"
   ]
  },
  {
   "cell_type": "markdown",
   "metadata": {},
   "source": [
    "Create the novel variables"
   ]
  },
  {
   "cell_type": "code",
   "execution_count": 4,
   "metadata": {
    "collapsed": true
   },
   "outputs": [],
   "source": [
    "n = 2701  #novel number\n",
    "t =  'Moby_Dick'#novel name\n",
    "s = 1 #how many rows to skip"
   ]
  },
  {
   "cell_type": "markdown",
   "metadata": {},
   "source": [
    "* Get the novels from Gutenberg.\n",
    "* Strip them of unwanted information.\n",
    "* Tokenize the text into sentences."
   ]
  },
  {
   "cell_type": "code",
   "execution_count": 5,
   "metadata": {
    "collapsed": true
   },
   "outputs": [],
   "source": [
    "novel = strip_headers(load_etext(n))\n",
    "novel = novel.replace('\\n', ' ')\n",
    "novel= TextBlob(novel)\n",
    "novel_sentences = novel.sentences\n",
    "novel_title = t"
   ]
  },
  {
   "cell_type": "markdown",
   "metadata": {},
   "source": [
    "Write the sentences to a csv file. \n",
    "-There is a bug I haven't figure out yet that requires me to write to csv twice to avoid errors."
   ]
  },
  {
   "cell_type": "code",
   "execution_count": 6,
   "metadata": {
    "collapsed": true
   },
   "outputs": [],
   "source": [
    "with open('data/novel_'+novel_title+'.csv', 'wb') as f:\n",
    "    writer = csv.writer(f)\n",
    "    for sentence in novel_sentences:\n",
    "        writer.writerow([sentence])"
   ]
  },
  {
   "cell_type": "markdown",
   "metadata": {},
   "source": [
    "Read in the csv file to pandas"
   ]
  },
  {
   "cell_type": "code",
   "execution_count": 7,
   "metadata": {
    "collapsed": true
   },
   "outputs": [],
   "source": [
    "df_novel = pd.read_csv('data/novel_'+novel_title+'.csv', skiprows = s, header=None)"
   ]
  },
  {
   "cell_type": "code",
   "execution_count": 8,
   "metadata": {
    "collapsed": false
   },
   "outputs": [
    {
     "data": {
      "text/html": [
       "<div>\n",
       "<table border=\"1\" class=\"dataframe\">\n",
       "  <thead>\n",
       "    <tr style=\"text-align: right;\">\n",
       "      <th></th>\n",
       "      <th>0</th>\n",
       "    </tr>\n",
       "  </thead>\n",
       "  <tbody>\n",
       "    <tr>\n",
       "      <th>0</th>\n",
       "      <td>The proofreaders of this version are indebted ...</td>\n",
       "    </tr>\n",
       "    <tr>\n",
       "      <th>1</th>\n",
       "      <td>The resulting etext was compared with a public...</td>\n",
       "    </tr>\n",
       "    <tr>\n",
       "      <th>2</th>\n",
       "      <td>In chapters 24, 89, and 90, we substituted a c...</td>\n",
       "    </tr>\n",
       "    <tr>\n",
       "      <th>3</th>\n",
       "      <td>ETYMOLOGY.</td>\n",
       "    </tr>\n",
       "    <tr>\n",
       "      <th>4</th>\n",
       "      <td>(Supplied by a Late Consumptive Usher to a Gra...</td>\n",
       "    </tr>\n",
       "  </tbody>\n",
       "</table>\n",
       "</div>"
      ],
      "text/plain": [
       "                                                   0\n",
       "0  The proofreaders of this version are indebted ...\n",
       "1  The resulting etext was compared with a public...\n",
       "2  In chapters 24, 89, and 90, we substituted a c...\n",
       "3                                         ETYMOLOGY.\n",
       "4  (Supplied by a Late Consumptive Usher to a Gra..."
      ]
     },
     "execution_count": 8,
     "metadata": {},
     "output_type": "execute_result"
    }
   ],
   "source": [
    "df_novel.head()"
   ]
  },
  {
   "cell_type": "markdown",
   "metadata": {},
   "source": [
    "Create the wrd_length and total_char columns."
   ]
  },
  {
   "cell_type": "code",
   "execution_count": 9,
   "metadata": {
    "collapsed": true
   },
   "outputs": [],
   "source": [
    "def wrd_lengths(sentence):\n",
    "    return [len(word) for word in TextBlob(sentence).words]"
   ]
  },
  {
   "cell_type": "code",
   "execution_count": 10,
   "metadata": {
    "collapsed": true
   },
   "outputs": [],
   "source": [
    "df_novel['wrd_length'] = df_novel[0].apply(wrd_lengths)"
   ]
  },
  {
   "cell_type": "code",
   "execution_count": 11,
   "metadata": {
    "collapsed": true
   },
   "outputs": [],
   "source": [
    "df_novel['total_char'] = [sum(l) for l in df_novel['wrd_length']]"
   ]
  },
  {
   "cell_type": "raw",
   "metadata": {
    "collapsed": true
   },
   "source": [
    "wrd_length = []\n",
    "total_char = []\n",
    "def wrd_char_counts(sentence):\n",
    "    total_chars = 0\n",
    "    wrd_counts = []\n",
    "    for word in sentence:\n",
    "        char_count = len(word)\n",
    "        wrd_counts.append(char_count)\n",
    "        total_chars += char_count\n",
    "    total_char.append(total_chars)\n",
    "    wrd_length.append(wrd_counts)"
   ]
  },
  {
   "cell_type": "raw",
   "metadata": {
    "collapsed": true
   },
   "source": [
    "for l in df_novel[0]:\n",
    "    sent = TextBlob(l)\n",
    "    wrd_char_counts(sent.words)"
   ]
  },
  {
   "cell_type": "raw",
   "metadata": {
    "collapsed": true
   },
   "source": [
    "df_novel['wrd_length'] = wrd_length\n",
    "df_novel['total_char'] = total_char"
   ]
  },
  {
   "cell_type": "code",
   "execution_count": 12,
   "metadata": {
    "collapsed": false
   },
   "outputs": [
    {
     "data": {
      "text/html": [
       "<div>\n",
       "<table border=\"1\" class=\"dataframe\">\n",
       "  <thead>\n",
       "    <tr style=\"text-align: right;\">\n",
       "      <th></th>\n",
       "      <th>0</th>\n",
       "      <th>wrd_length</th>\n",
       "      <th>total_char</th>\n",
       "    </tr>\n",
       "  </thead>\n",
       "  <tbody>\n",
       "    <tr>\n",
       "      <th>0</th>\n",
       "      <td>The proofreaders of this version are indebted ...</td>\n",
       "      <td>[3, 12, 2, 4, 7, 3, 8, 2, 3, 10, 2, 8, 7, 3, 1...</td>\n",
       "      <td>106</td>\n",
       "    </tr>\n",
       "    <tr>\n",
       "      <th>1</th>\n",
       "      <td>The resulting etext was compared with a public...</td>\n",
       "      <td>[3, 9, 5, 3, 8, 4, 1, 6, 6, 4, 4, 7, 2, 3, 4]</td>\n",
       "      <td>69</td>\n",
       "    </tr>\n",
       "    <tr>\n",
       "      <th>2</th>\n",
       "      <td>In chapters 24, 89, and 90, we substituted a c...</td>\n",
       "      <td>[2, 8, 2, 2, 3, 2, 2, 11, 1, 7, 1, 3, 3, 6, 3,...</td>\n",
       "      <td>86</td>\n",
       "    </tr>\n",
       "    <tr>\n",
       "      <th>3</th>\n",
       "      <td>ETYMOLOGY.</td>\n",
       "      <td>[9]</td>\n",
       "      <td>9</td>\n",
       "    </tr>\n",
       "    <tr>\n",
       "      <th>4</th>\n",
       "      <td>(Supplied by a Late Consumptive Usher to a Gra...</td>\n",
       "      <td>[8, 2, 1, 4, 11, 5, 2, 1, 7, 6, 3, 4, 5, 10, 2...</td>\n",
       "      <td>102</td>\n",
       "    </tr>\n",
       "  </tbody>\n",
       "</table>\n",
       "</div>"
      ],
      "text/plain": [
       "                                                   0  \\\n",
       "0  The proofreaders of this version are indebted ...   \n",
       "1  The resulting etext was compared with a public...   \n",
       "2  In chapters 24, 89, and 90, we substituted a c...   \n",
       "3                                         ETYMOLOGY.   \n",
       "4  (Supplied by a Late Consumptive Usher to a Gra...   \n",
       "\n",
       "                                          wrd_length  total_char  \n",
       "0  [3, 12, 2, 4, 7, 3, 8, 2, 3, 10, 2, 8, 7, 3, 1...         106  \n",
       "1      [3, 9, 5, 3, 8, 4, 1, 6, 6, 4, 4, 7, 2, 3, 4]          69  \n",
       "2  [2, 8, 2, 2, 3, 2, 2, 11, 1, 7, 1, 3, 3, 6, 3,...          86  \n",
       "3                                                [9]           9  \n",
       "4  [8, 2, 1, 4, 11, 5, 2, 1, 7, 6, 3, 4, 5, 10, 2...         102  "
      ]
     },
     "execution_count": 12,
     "metadata": {},
     "output_type": "execute_result"
    }
   ],
   "source": [
    "df_novel.head()"
   ]
  },
  {
   "cell_type": "markdown",
   "metadata": {},
   "source": [
    "Create syllable count column"
   ]
  },
  {
   "cell_type": "code",
   "execution_count": 13,
   "metadata": {
    "collapsed": true
   },
   "outputs": [],
   "source": [
    "def CountSyllables(word, isName=True):\n",
    "    vowels = \"aeiouy\"\n",
    "    #single syllables in words like bread and lead, but split in names like Breanne and Adreann\n",
    "    specials = [\"ia\",\"ea\"] if isName else [\"ia\"]\n",
    "    specials_except_end = [\"ie\",\"ya\",\"es\",\"ed\"]  #seperate syllables unless ending the word\n",
    "    currentWord = word.lower()\n",
    "    numVowels = 0\n",
    "    lastWasVowel = False\n",
    "    last_letter = \"\"\n",
    "\n",
    "    for letter in currentWord:\n",
    "        if letter in vowels:\n",
    "            #don't count diphthongs unless special cases\n",
    "            combo = last_letter+letter\n",
    "            if lastWasVowel and combo not in specials and combo not in specials_except_end:\n",
    "                lastWasVowel = True\n",
    "            else:\n",
    "                numVowels += 1\n",
    "                lastWasVowel = True\n",
    "        else:\n",
    "            lastWasVowel = False\n",
    "\n",
    "        last_letter = letter\n",
    "\n",
    "    #remove es & ed which are usually silent\n",
    "    if len(currentWord) > 2 and currentWord[-2:] in specials_except_end:\n",
    "        numVowels -= 1\n",
    "\n",
    "    #remove silent single e, but not ee since it counted it before and we should be correct\n",
    "    elif len(currentWord) > 2 and currentWord[-1:] == \"e\" and currentWord[-2:] != \"ee\" and currentWord != 'the':\n",
    "        numVowels -= 1\n",
    "\n",
    "    return numVowels"
   ]
  },
  {
   "cell_type": "code",
   "execution_count": 14,
   "metadata": {
    "collapsed": true
   },
   "outputs": [],
   "source": [
    "syl = []\n",
    "for l in df_novel[0]:\n",
    "    sent = TextBlob(l)\n",
    "    syl_single = []\n",
    "    for x in sent.words:\n",
    "        m = CountSyllables(x)\n",
    "        syl_single.append(m)\n",
    "    syl.append(syl_single)  "
   ]
  },
  {
   "cell_type": "code",
   "execution_count": 15,
   "metadata": {
    "collapsed": true
   },
   "outputs": [],
   "source": [
    "syl_count_arr = []\n",
    "for n in syl:\n",
    "    n = np.array(n)\n",
    "    syl_count_arr.append(n)"
   ]
  },
  {
   "cell_type": "code",
   "execution_count": 16,
   "metadata": {
    "collapsed": true
   },
   "outputs": [],
   "source": [
    "df_novel['syl_count'] = syl_count_arr"
   ]
  },
  {
   "cell_type": "code",
   "execution_count": 17,
   "metadata": {
    "collapsed": false
   },
   "outputs": [
    {
     "data": {
      "text/html": [
       "<div>\n",
       "<table border=\"1\" class=\"dataframe\">\n",
       "  <thead>\n",
       "    <tr style=\"text-align: right;\">\n",
       "      <th></th>\n",
       "      <th>0</th>\n",
       "      <th>wrd_length</th>\n",
       "      <th>total_char</th>\n",
       "      <th>syl_count</th>\n",
       "    </tr>\n",
       "  </thead>\n",
       "  <tbody>\n",
       "    <tr>\n",
       "      <th>0</th>\n",
       "      <td>The proofreaders of this version are indebted ...</td>\n",
       "      <td>[3, 12, 2, 4, 7, 3, 8, 2, 3, 10, 2, 8, 7, 3, 1...</td>\n",
       "      <td>106</td>\n",
       "      <td>[1, 4, 1, 1, 2, 1, 2, 1, 1, 5, 1, 3, 3, 1, 3, ...</td>\n",
       "    </tr>\n",
       "    <tr>\n",
       "      <th>1</th>\n",
       "      <td>The resulting etext was compared with a public...</td>\n",
       "      <td>[3, 9, 5, 3, 8, 4, 1, 6, 6, 4, 4, 7, 2, 3, 4]</td>\n",
       "      <td>69</td>\n",
       "      <td>[1, 3, 2, 1, 2, 1, 1, 2, 2, 1, 2, 2, 1, 1, 1]</td>\n",
       "    </tr>\n",
       "    <tr>\n",
       "      <th>2</th>\n",
       "      <td>In chapters 24, 89, and 90, we substituted a c...</td>\n",
       "      <td>[2, 8, 2, 2, 3, 2, 2, 11, 1, 7, 1, 3, 3, 6, 3,...</td>\n",
       "      <td>86</td>\n",
       "      <td>[1, 2, 0, 0, 1, 0, 1, 3, 1, 3, 0, 1, 1, 2, 1, ...</td>\n",
       "    </tr>\n",
       "    <tr>\n",
       "      <th>3</th>\n",
       "      <td>ETYMOLOGY.</td>\n",
       "      <td>[9]</td>\n",
       "      <td>9</td>\n",
       "      <td>[5]</td>\n",
       "    </tr>\n",
       "    <tr>\n",
       "      <th>4</th>\n",
       "      <td>(Supplied by a Late Consumptive Usher to a Gra...</td>\n",
       "      <td>[8, 2, 1, 4, 11, 5, 2, 1, 7, 6, 3, 4, 5, 10, 2...</td>\n",
       "      <td>102</td>\n",
       "      <td>[2, 1, 1, 1, 3, 2, 1, 1, 2, 1, 1, 1, 2, 3, 1, ...</td>\n",
       "    </tr>\n",
       "  </tbody>\n",
       "</table>\n",
       "</div>"
      ],
      "text/plain": [
       "                                                   0  \\\n",
       "0  The proofreaders of this version are indebted ...   \n",
       "1  The resulting etext was compared with a public...   \n",
       "2  In chapters 24, 89, and 90, we substituted a c...   \n",
       "3                                         ETYMOLOGY.   \n",
       "4  (Supplied by a Late Consumptive Usher to a Gra...   \n",
       "\n",
       "                                          wrd_length  total_char  \\\n",
       "0  [3, 12, 2, 4, 7, 3, 8, 2, 3, 10, 2, 8, 7, 3, 1...         106   \n",
       "1      [3, 9, 5, 3, 8, 4, 1, 6, 6, 4, 4, 7, 2, 3, 4]          69   \n",
       "2  [2, 8, 2, 2, 3, 2, 2, 11, 1, 7, 1, 3, 3, 6, 3,...          86   \n",
       "3                                                [9]           9   \n",
       "4  [8, 2, 1, 4, 11, 5, 2, 1, 7, 6, 3, 4, 5, 10, 2...         102   \n",
       "\n",
       "                                           syl_count  \n",
       "0  [1, 4, 1, 1, 2, 1, 2, 1, 1, 5, 1, 3, 3, 1, 3, ...  \n",
       "1      [1, 3, 2, 1, 2, 1, 1, 2, 2, 1, 2, 2, 1, 1, 1]  \n",
       "2  [1, 2, 0, 0, 1, 0, 1, 3, 1, 3, 0, 1, 1, 2, 1, ...  \n",
       "3                                                [5]  \n",
       "4  [2, 1, 1, 1, 3, 2, 1, 1, 2, 1, 1, 1, 2, 3, 1, ...  "
      ]
     },
     "execution_count": 17,
     "metadata": {},
     "output_type": "execute_result"
    }
   ],
   "source": [
    "df_novel.head()"
   ]
  },
  {
   "cell_type": "code",
   "execution_count": 18,
   "metadata": {
    "collapsed": true
   },
   "outputs": [],
   "source": [
    "#If novel has a lot of numbers for chapter headings.\n",
    "#d = df_novel[df_novel['total_char']<=2]"
   ]
  },
  {
   "cell_type": "markdown",
   "metadata": {},
   "source": [
    "Create csv file to record syllable count per word. "
   ]
  },
  {
   "cell_type": "code",
   "execution_count": 19,
   "metadata": {
    "collapsed": true
   },
   "outputs": [],
   "source": [
    "d = {}\n",
    "for l in df_novel[0]:\n",
    "    sent = TextBlob(l)\n",
    "    for x in sent.words:\n",
    "        w = CountSyllables(x)\n",
    "        d[x] = w"
   ]
  },
  {
   "cell_type": "code",
   "execution_count": 20,
   "metadata": {
    "collapsed": true
   },
   "outputs": [],
   "source": [
    "with open('data/novel_'+novel_title+'_syl.csv', 'wb') as f:\n",
    "    writer = csv.writer(f)\n",
    "    for row in d.iteritems():\n",
    "        writer.writerow(row)"
   ]
  },
  {
   "cell_type": "markdown",
   "metadata": {},
   "source": [
    "Create syllable sum column"
   ]
  },
  {
   "cell_type": "code",
   "execution_count": 21,
   "metadata": {
    "collapsed": true
   },
   "outputs": [],
   "source": [
    "syl_sum = []\n",
    "for l in range(0,len(df_novel)):\n",
    "    syl_sum.append(df_novel['syl_count'][l].sum())"
   ]
  },
  {
   "cell_type": "code",
   "execution_count": 22,
   "metadata": {
    "collapsed": true
   },
   "outputs": [],
   "source": [
    "df_novel['syl_sum'] = syl_sum"
   ]
  },
  {
   "cell_type": "markdown",
   "metadata": {},
   "source": [
    "Create sentiment column"
   ]
  },
  {
   "cell_type": "code",
   "execution_count": 23,
   "metadata": {
    "collapsed": true
   },
   "outputs": [],
   "source": [
    "def detect_sentiment(text):\n",
    "    return TextBlob(text.decode('utf-8')).sentiment.polarity"
   ]
  },
  {
   "cell_type": "code",
   "execution_count": 24,
   "metadata": {
    "collapsed": true
   },
   "outputs": [],
   "source": [
    "df_novel['sentiment'] = df_novel[0].apply(detect_sentiment)"
   ]
  },
  {
   "cell_type": "markdown",
   "metadata": {},
   "source": [
    "Create cluster dataframe - remove columns that can't be used"
   ]
  },
  {
   "cell_type": "code",
   "execution_count": 25,
   "metadata": {
    "collapsed": true
   },
   "outputs": [],
   "source": [
    "df_cluster = df_novel.drop('wrd_length', 1)"
   ]
  },
  {
   "cell_type": "code",
   "execution_count": 26,
   "metadata": {
    "collapsed": true
   },
   "outputs": [],
   "source": [
    "df_cluster = df_cluster.drop('syl_count', 1)"
   ]
  },
  {
   "cell_type": "code",
   "execution_count": 27,
   "metadata": {
    "collapsed": false
   },
   "outputs": [
    {
     "data": {
      "text/html": [
       "<div>\n",
       "<table border=\"1\" class=\"dataframe\">\n",
       "  <thead>\n",
       "    <tr style=\"text-align: right;\">\n",
       "      <th></th>\n",
       "      <th>0</th>\n",
       "      <th>total_char</th>\n",
       "      <th>syl_sum</th>\n",
       "      <th>sentiment</th>\n",
       "    </tr>\n",
       "  </thead>\n",
       "  <tbody>\n",
       "    <tr>\n",
       "      <th>0</th>\n",
       "      <td>The proofreaders of this version are indebted ...</td>\n",
       "      <td>106</td>\n",
       "      <td>38</td>\n",
       "      <td>0.000000</td>\n",
       "    </tr>\n",
       "    <tr>\n",
       "      <th>1</th>\n",
       "      <td>The resulting etext was compared with a public...</td>\n",
       "      <td>69</td>\n",
       "      <td>23</td>\n",
       "      <td>-0.145833</td>\n",
       "    </tr>\n",
       "    <tr>\n",
       "      <th>2</th>\n",
       "      <td>In chapters 24, 89, and 90, we substituted a c...</td>\n",
       "      <td>86</td>\n",
       "      <td>28</td>\n",
       "      <td>0.000000</td>\n",
       "    </tr>\n",
       "    <tr>\n",
       "      <th>3</th>\n",
       "      <td>ETYMOLOGY.</td>\n",
       "      <td>9</td>\n",
       "      <td>5</td>\n",
       "      <td>0.000000</td>\n",
       "    </tr>\n",
       "    <tr>\n",
       "      <th>4</th>\n",
       "      <td>(Supplied by a Late Consumptive Usher to a Gra...</td>\n",
       "      <td>102</td>\n",
       "      <td>34</td>\n",
       "      <td>-0.255000</td>\n",
       "    </tr>\n",
       "  </tbody>\n",
       "</table>\n",
       "</div>"
      ],
      "text/plain": [
       "                                                   0  total_char  syl_sum  \\\n",
       "0  The proofreaders of this version are indebted ...         106       38   \n",
       "1  The resulting etext was compared with a public...          69       23   \n",
       "2  In chapters 24, 89, and 90, we substituted a c...          86       28   \n",
       "3                                         ETYMOLOGY.           9        5   \n",
       "4  (Supplied by a Late Consumptive Usher to a Gra...         102       34   \n",
       "\n",
       "   sentiment  \n",
       "0   0.000000  \n",
       "1  -0.145833  \n",
       "2   0.000000  \n",
       "3   0.000000  \n",
       "4  -0.255000  "
      ]
     },
     "execution_count": 27,
     "metadata": {},
     "output_type": "execute_result"
    }
   ],
   "source": [
    "df_cluster.head()"
   ]
  },
  {
   "cell_type": "markdown",
   "metadata": {},
   "source": [
    "Create 20 clusters on scaled data"
   ]
  },
  {
   "cell_type": "code",
   "execution_count": 28,
   "metadata": {
    "collapsed": true
   },
   "outputs": [],
   "source": [
    "X = df_cluster.drop(0, axis=1)"
   ]
  },
  {
   "cell_type": "code",
   "execution_count": 29,
   "metadata": {
    "collapsed": true
   },
   "outputs": [],
   "source": [
    "from sklearn.cluster import KMeans\n",
    "from sklearn.preprocessing import StandardScaler\n",
    "scaler = StandardScaler()\n",
    "X_scaled = scaler.fit_transform(X)"
   ]
  },
  {
   "cell_type": "code",
   "execution_count": 30,
   "metadata": {
    "collapsed": false
   },
   "outputs": [
    {
     "data": {
      "text/plain": [
       "KMeans(copy_x=True, init='k-means++', max_iter=300, n_clusters=20, n_init=10,\n",
       "    n_jobs=1, precompute_distances='auto', random_state=1, tol=0.0001,\n",
       "    verbose=0)"
      ]
     },
     "execution_count": 30,
     "metadata": {},
     "output_type": "execute_result"
    }
   ],
   "source": [
    "km = KMeans(n_clusters=20, random_state=1)\n",
    "km.fit(X_scaled)"
   ]
  },
  {
   "cell_type": "code",
   "execution_count": 31,
   "metadata": {
    "collapsed": true
   },
   "outputs": [],
   "source": [
    "df_cluster_20 = df_cluster.copy()"
   ]
  },
  {
   "cell_type": "code",
   "execution_count": 32,
   "metadata": {
    "collapsed": true
   },
   "outputs": [],
   "source": [
    "df_cluster_20['cluster'] = km.labels_"
   ]
  },
  {
   "cell_type": "code",
   "execution_count": 33,
   "metadata": {
    "collapsed": false
   },
   "outputs": [
    {
     "data": {
      "text/html": [
       "<div>\n",
       "<table border=\"1\" class=\"dataframe\">\n",
       "  <thead>\n",
       "    <tr style=\"text-align: right;\">\n",
       "      <th></th>\n",
       "      <th>0</th>\n",
       "      <th>total_char</th>\n",
       "      <th>syl_sum</th>\n",
       "      <th>sentiment</th>\n",
       "      <th>cluster</th>\n",
       "    </tr>\n",
       "  </thead>\n",
       "  <tbody>\n",
       "    <tr>\n",
       "      <th>0</th>\n",
       "      <td>The proofreaders of this version are indebted ...</td>\n",
       "      <td>106</td>\n",
       "      <td>38</td>\n",
       "      <td>0.000000</td>\n",
       "      <td>5</td>\n",
       "    </tr>\n",
       "    <tr>\n",
       "      <th>1</th>\n",
       "      <td>The resulting etext was compared with a public...</td>\n",
       "      <td>69</td>\n",
       "      <td>23</td>\n",
       "      <td>-0.145833</td>\n",
       "      <td>8</td>\n",
       "    </tr>\n",
       "    <tr>\n",
       "      <th>2</th>\n",
       "      <td>In chapters 24, 89, and 90, we substituted a c...</td>\n",
       "      <td>86</td>\n",
       "      <td>28</td>\n",
       "      <td>0.000000</td>\n",
       "      <td>12</td>\n",
       "    </tr>\n",
       "    <tr>\n",
       "      <th>3</th>\n",
       "      <td>ETYMOLOGY.</td>\n",
       "      <td>9</td>\n",
       "      <td>5</td>\n",
       "      <td>0.000000</td>\n",
       "      <td>13</td>\n",
       "    </tr>\n",
       "    <tr>\n",
       "      <th>4</th>\n",
       "      <td>(Supplied by a Late Consumptive Usher to a Gra...</td>\n",
       "      <td>102</td>\n",
       "      <td>34</td>\n",
       "      <td>-0.255000</td>\n",
       "      <td>8</td>\n",
       "    </tr>\n",
       "  </tbody>\n",
       "</table>\n",
       "</div>"
      ],
      "text/plain": [
       "                                                   0  total_char  syl_sum  \\\n",
       "0  The proofreaders of this version are indebted ...         106       38   \n",
       "1  The resulting etext was compared with a public...          69       23   \n",
       "2  In chapters 24, 89, and 90, we substituted a c...          86       28   \n",
       "3                                         ETYMOLOGY.           9        5   \n",
       "4  (Supplied by a Late Consumptive Usher to a Gra...         102       34   \n",
       "\n",
       "   sentiment  cluster  \n",
       "0   0.000000        5  \n",
       "1  -0.145833        8  \n",
       "2   0.000000       12  \n",
       "3   0.000000       13  \n",
       "4  -0.255000        8  "
      ]
     },
     "execution_count": 33,
     "metadata": {},
     "output_type": "execute_result"
    }
   ],
   "source": [
    "df_cluster_20.head()"
   ]
  },
  {
   "cell_type": "code",
   "execution_count": 34,
   "metadata": {
    "collapsed": false
   },
   "outputs": [
    {
     "data": {
      "text/html": [
       "<div>\n",
       "<table border=\"1\" class=\"dataframe\">\n",
       "  <thead>\n",
       "    <tr style=\"text-align: right;\">\n",
       "      <th></th>\n",
       "      <th>0</th>\n",
       "      <th>total_char</th>\n",
       "      <th>syl_sum</th>\n",
       "      <th>sentiment</th>\n",
       "    </tr>\n",
       "  </thead>\n",
       "  <tbody>\n",
       "    <tr>\n",
       "      <th>0</th>\n",
       "      <td>The proofreaders of this version are indebted ...</td>\n",
       "      <td>106</td>\n",
       "      <td>38</td>\n",
       "      <td>0.000000</td>\n",
       "    </tr>\n",
       "    <tr>\n",
       "      <th>1</th>\n",
       "      <td>The resulting etext was compared with a public...</td>\n",
       "      <td>69</td>\n",
       "      <td>23</td>\n",
       "      <td>-0.145833</td>\n",
       "    </tr>\n",
       "    <tr>\n",
       "      <th>2</th>\n",
       "      <td>In chapters 24, 89, and 90, we substituted a c...</td>\n",
       "      <td>86</td>\n",
       "      <td>28</td>\n",
       "      <td>0.000000</td>\n",
       "    </tr>\n",
       "    <tr>\n",
       "      <th>3</th>\n",
       "      <td>ETYMOLOGY.</td>\n",
       "      <td>9</td>\n",
       "      <td>5</td>\n",
       "      <td>0.000000</td>\n",
       "    </tr>\n",
       "    <tr>\n",
       "      <th>4</th>\n",
       "      <td>(Supplied by a Late Consumptive Usher to a Gra...</td>\n",
       "      <td>102</td>\n",
       "      <td>34</td>\n",
       "      <td>-0.255000</td>\n",
       "    </tr>\n",
       "  </tbody>\n",
       "</table>\n",
       "</div>"
      ],
      "text/plain": [
       "                                                   0  total_char  syl_sum  \\\n",
       "0  The proofreaders of this version are indebted ...         106       38   \n",
       "1  The resulting etext was compared with a public...          69       23   \n",
       "2  In chapters 24, 89, and 90, we substituted a c...          86       28   \n",
       "3                                         ETYMOLOGY.           9        5   \n",
       "4  (Supplied by a Late Consumptive Usher to a Gra...         102       34   \n",
       "\n",
       "   sentiment  \n",
       "0   0.000000  \n",
       "1  -0.145833  \n",
       "2   0.000000  \n",
       "3   0.000000  \n",
       "4  -0.255000  "
      ]
     },
     "execution_count": 34,
     "metadata": {},
     "output_type": "execute_result"
    }
   ],
   "source": [
    "df_cluster.head()"
   ]
  },
  {
   "cell_type": "code",
   "execution_count": 35,
   "metadata": {
    "collapsed": false
   },
   "outputs": [
    {
     "data": {
      "text/html": [
       "<div>\n",
       "<table border=\"1\" class=\"dataframe\">\n",
       "  <thead>\n",
       "    <tr style=\"text-align: right;\">\n",
       "      <th></th>\n",
       "      <th>total_char</th>\n",
       "      <th>syl_sum</th>\n",
       "      <th>sentiment</th>\n",
       "    </tr>\n",
       "    <tr>\n",
       "      <th>cluster</th>\n",
       "      <th></th>\n",
       "      <th></th>\n",
       "      <th></th>\n",
       "    </tr>\n",
       "  </thead>\n",
       "  <tbody>\n",
       "    <tr>\n",
       "      <th>0</th>\n",
       "      <td>44.879971</td>\n",
       "      <td>14.043446</td>\n",
       "      <td>0.002851</td>\n",
       "    </tr>\n",
       "    <tr>\n",
       "      <th>1</th>\n",
       "      <td>240.857595</td>\n",
       "      <td>76.927215</td>\n",
       "      <td>0.243216</td>\n",
       "    </tr>\n",
       "    <tr>\n",
       "      <th>2</th>\n",
       "      <td>55.920904</td>\n",
       "      <td>17.742938</td>\n",
       "      <td>0.489944</td>\n",
       "    </tr>\n",
       "    <tr>\n",
       "      <th>3</th>\n",
       "      <td>62.588571</td>\n",
       "      <td>19.657143</td>\n",
       "      <td>-0.508197</td>\n",
       "    </tr>\n",
       "    <tr>\n",
       "      <th>4</th>\n",
       "      <td>505.486486</td>\n",
       "      <td>160.540541</td>\n",
       "      <td>0.074667</td>\n",
       "    </tr>\n",
       "    <tr>\n",
       "      <th>5</th>\n",
       "      <td>132.407353</td>\n",
       "      <td>41.673529</td>\n",
       "      <td>-0.029548</td>\n",
       "    </tr>\n",
       "    <tr>\n",
       "      <th>6</th>\n",
       "      <td>128.184000</td>\n",
       "      <td>40.580800</td>\n",
       "      <td>0.192221</td>\n",
       "    </tr>\n",
       "    <tr>\n",
       "      <th>7</th>\n",
       "      <td>172.029032</td>\n",
       "      <td>54.361290</td>\n",
       "      <td>-0.218083</td>\n",
       "    </tr>\n",
       "    <tr>\n",
       "      <th>8</th>\n",
       "      <td>62.773764</td>\n",
       "      <td>19.391635</td>\n",
       "      <td>-0.201359</td>\n",
       "    </tr>\n",
       "    <tr>\n",
       "      <th>9</th>\n",
       "      <td>802.600000</td>\n",
       "      <td>259.200000</td>\n",
       "      <td>0.069592</td>\n",
       "    </tr>\n",
       "    <tr>\n",
       "      <th>10</th>\n",
       "      <td>2243.000000</td>\n",
       "      <td>711.000000</td>\n",
       "      <td>0.226541</td>\n",
       "    </tr>\n",
       "    <tr>\n",
       "      <th>11</th>\n",
       "      <td>266.130564</td>\n",
       "      <td>84.258160</td>\n",
       "      <td>-0.027574</td>\n",
       "    </tr>\n",
       "    <tr>\n",
       "      <th>12</th>\n",
       "      <td>86.472332</td>\n",
       "      <td>27.222332</td>\n",
       "      <td>0.012033</td>\n",
       "    </tr>\n",
       "    <tr>\n",
       "      <th>13</th>\n",
       "      <td>13.901877</td>\n",
       "      <td>4.193259</td>\n",
       "      <td>0.001030</td>\n",
       "    </tr>\n",
       "    <tr>\n",
       "      <th>14</th>\n",
       "      <td>57.902827</td>\n",
       "      <td>18.146643</td>\n",
       "      <td>0.236679</td>\n",
       "    </tr>\n",
       "    <tr>\n",
       "      <th>15</th>\n",
       "      <td>146.336667</td>\n",
       "      <td>46.793333</td>\n",
       "      <td>0.445483</td>\n",
       "    </tr>\n",
       "    <tr>\n",
       "      <th>16</th>\n",
       "      <td>355.083700</td>\n",
       "      <td>112.885463</td>\n",
       "      <td>0.085994</td>\n",
       "    </tr>\n",
       "    <tr>\n",
       "      <th>17</th>\n",
       "      <td>59.377358</td>\n",
       "      <td>18.849057</td>\n",
       "      <td>-0.902937</td>\n",
       "    </tr>\n",
       "    <tr>\n",
       "      <th>18</th>\n",
       "      <td>188.381481</td>\n",
       "      <td>59.329630</td>\n",
       "      <td>0.046136</td>\n",
       "    </tr>\n",
       "    <tr>\n",
       "      <th>19</th>\n",
       "      <td>61.209581</td>\n",
       "      <td>19.425150</td>\n",
       "      <td>0.809980</td>\n",
       "    </tr>\n",
       "  </tbody>\n",
       "</table>\n",
       "</div>"
      ],
      "text/plain": [
       "          total_char     syl_sum  sentiment\n",
       "cluster                                    \n",
       "0          44.879971   14.043446   0.002851\n",
       "1         240.857595   76.927215   0.243216\n",
       "2          55.920904   17.742938   0.489944\n",
       "3          62.588571   19.657143  -0.508197\n",
       "4         505.486486  160.540541   0.074667\n",
       "5         132.407353   41.673529  -0.029548\n",
       "6         128.184000   40.580800   0.192221\n",
       "7         172.029032   54.361290  -0.218083\n",
       "8          62.773764   19.391635  -0.201359\n",
       "9         802.600000  259.200000   0.069592\n",
       "10       2243.000000  711.000000   0.226541\n",
       "11        266.130564   84.258160  -0.027574\n",
       "12         86.472332   27.222332   0.012033\n",
       "13         13.901877    4.193259   0.001030\n",
       "14         57.902827   18.146643   0.236679\n",
       "15        146.336667   46.793333   0.445483\n",
       "16        355.083700  112.885463   0.085994\n",
       "17         59.377358   18.849057  -0.902937\n",
       "18        188.381481   59.329630   0.046136\n",
       "19         61.209581   19.425150   0.809980"
      ]
     },
     "execution_count": 35,
     "metadata": {},
     "output_type": "execute_result"
    }
   ],
   "source": [
    "df_cluster_20.groupby('cluster').mean()"
   ]
  },
  {
   "cell_type": "code",
   "execution_count": 36,
   "metadata": {
    "collapsed": true
   },
   "outputs": [],
   "source": [
    "centers = df_cluster_20.groupby('cluster').mean()"
   ]
  },
  {
   "cell_type": "markdown",
   "metadata": {},
   "source": [
    "Create Scatter plot "
   ]
  },
  {
   "cell_type": "code",
   "execution_count": 37,
   "metadata": {
    "collapsed": true
   },
   "outputs": [],
   "source": [
    "colors = np.array(['#0000ff', '#ff00ff', '#39b54a', '#ff0000', '#ffff00', '#000080', '#ff99ff', '#88d392', '#bf0000', '#b4ff33', '#0000bf', '#800080','#1d5b25', '#4d226d', '#2b6855', '#128ab2', '#6666ff', '#a381bd', '#333333','#a0d0e0'])"
   ]
  },
  {
   "cell_type": "code",
   "execution_count": 38,
   "metadata": {
    "collapsed": false
   },
   "outputs": [
    {
     "data": {
      "text/plain": [
       "<matplotlib.text.Text at 0x11e0716d0>"
      ]
     },
     "execution_count": 38,
     "metadata": {},
     "output_type": "execute_result"
    },
    {
     "data": {
      "image/png": "[encoded data removed]",
      "text/plain": [
       "<matplotlib.figure.Figure at 0x11b4e9d50>"
      ]
     },
     "metadata": {},
     "output_type": "display_data"
    }
   ],
   "source": [
    "# scatter plot of calories versus alcohol, colored by cluster (0=red, 1=green, 2=blue)\n",
    "plt.scatter(df_cluster_20.syl_sum, df_cluster_20.sentiment, c=colors[df_cluster_20.cluster], s=50)\n",
    "\n",
    "# cluster centers, marked by \"+\"\n",
    "plt.scatter(centers.syl_sum, centers.sentiment, linewidths=3, marker='+', s=300, c='black')\n",
    "\n",
    "# add labels\n",
    "plt.xlabel('syl_sum')\n",
    "plt.ylabel('sentiment')"
   ]
  },
  {
   "cell_type": "markdown",
   "metadata": {},
   "source": [
    "Add cluster_20 to original dataframe"
   ]
  },
  {
   "cell_type": "code",
   "execution_count": 39,
   "metadata": {
    "collapsed": false
   },
   "outputs": [],
   "source": [
    "df_novel['cluster_20'] = df_cluster_20['cluster']"
   ]
  },
  {
   "cell_type": "code",
   "execution_count": 40,
   "metadata": {
    "collapsed": false
   },
   "outputs": [
    {
     "data": {
      "text/html": [
       "<div>\n",
       "<table border=\"1\" class=\"dataframe\">\n",
       "  <thead>\n",
       "    <tr style=\"text-align: right;\">\n",
       "      <th></th>\n",
       "      <th>0</th>\n",
       "      <th>wrd_length</th>\n",
       "      <th>total_char</th>\n",
       "      <th>syl_count</th>\n",
       "      <th>syl_sum</th>\n",
       "      <th>sentiment</th>\n",
       "      <th>cluster_20</th>\n",
       "    </tr>\n",
       "  </thead>\n",
       "  <tbody>\n",
       "    <tr>\n",
       "      <th>0</th>\n",
       "      <td>The proofreaders of this version are indebted ...</td>\n",
       "      <td>[3, 12, 2, 4, 7, 3, 8, 2, 3, 10, 2, 8, 7, 3, 1...</td>\n",
       "      <td>106</td>\n",
       "      <td>[1, 4, 1, 1, 2, 1, 2, 1, 1, 5, 1, 3, 3, 1, 3, ...</td>\n",
       "      <td>38</td>\n",
       "      <td>0.000000</td>\n",
       "      <td>5</td>\n",
       "    </tr>\n",
       "    <tr>\n",
       "      <th>1</th>\n",
       "      <td>The resulting etext was compared with a public...</td>\n",
       "      <td>[3, 9, 5, 3, 8, 4, 1, 6, 6, 4, 4, 7, 2, 3, 4]</td>\n",
       "      <td>69</td>\n",
       "      <td>[1, 3, 2, 1, 2, 1, 1, 2, 2, 1, 2, 2, 1, 1, 1]</td>\n",
       "      <td>23</td>\n",
       "      <td>-0.145833</td>\n",
       "      <td>8</td>\n",
       "    </tr>\n",
       "    <tr>\n",
       "      <th>2</th>\n",
       "      <td>In chapters 24, 89, and 90, we substituted a c...</td>\n",
       "      <td>[2, 8, 2, 2, 3, 2, 2, 11, 1, 7, 1, 3, 3, 6, 3,...</td>\n",
       "      <td>86</td>\n",
       "      <td>[1, 2, 0, 0, 1, 0, 1, 3, 1, 3, 0, 1, 1, 2, 1, ...</td>\n",
       "      <td>28</td>\n",
       "      <td>0.000000</td>\n",
       "      <td>12</td>\n",
       "    </tr>\n",
       "    <tr>\n",
       "      <th>3</th>\n",
       "      <td>ETYMOLOGY.</td>\n",
       "      <td>[9]</td>\n",
       "      <td>9</td>\n",
       "      <td>[5]</td>\n",
       "      <td>5</td>\n",
       "      <td>0.000000</td>\n",
       "      <td>13</td>\n",
       "    </tr>\n",
       "    <tr>\n",
       "      <th>4</th>\n",
       "      <td>(Supplied by a Late Consumptive Usher to a Gra...</td>\n",
       "      <td>[8, 2, 1, 4, 11, 5, 2, 1, 7, 6, 3, 4, 5, 10, 2...</td>\n",
       "      <td>102</td>\n",
       "      <td>[2, 1, 1, 1, 3, 2, 1, 1, 2, 1, 1, 1, 2, 3, 1, ...</td>\n",
       "      <td>34</td>\n",
       "      <td>-0.255000</td>\n",
       "      <td>8</td>\n",
       "    </tr>\n",
       "  </tbody>\n",
       "</table>\n",
       "</div>"
      ],
      "text/plain": [
       "                                                   0  \\\n",
       "0  The proofreaders of this version are indebted ...   \n",
       "1  The resulting etext was compared with a public...   \n",
       "2  In chapters 24, 89, and 90, we substituted a c...   \n",
       "3                                         ETYMOLOGY.   \n",
       "4  (Supplied by a Late Consumptive Usher to a Gra...   \n",
       "\n",
       "                                          wrd_length  total_char  \\\n",
       "0  [3, 12, 2, 4, 7, 3, 8, 2, 3, 10, 2, 8, 7, 3, 1...         106   \n",
       "1      [3, 9, 5, 3, 8, 4, 1, 6, 6, 4, 4, 7, 2, 3, 4]          69   \n",
       "2  [2, 8, 2, 2, 3, 2, 2, 11, 1, 7, 1, 3, 3, 6, 3,...          86   \n",
       "3                                                [9]           9   \n",
       "4  [8, 2, 1, 4, 11, 5, 2, 1, 7, 6, 3, 4, 5, 10, 2...         102   \n",
       "\n",
       "                                           syl_count  syl_sum  sentiment  \\\n",
       "0  [1, 4, 1, 1, 2, 1, 2, 1, 1, 5, 1, 3, 3, 1, 3, ...       38   0.000000   \n",
       "1      [1, 3, 2, 1, 2, 1, 1, 2, 2, 1, 2, 2, 1, 1, 1]       23  -0.145833   \n",
       "2  [1, 2, 0, 0, 1, 0, 1, 3, 1, 3, 0, 1, 1, 2, 1, ...       28   0.000000   \n",
       "3                                                [5]        5   0.000000   \n",
       "4  [2, 1, 1, 1, 3, 2, 1, 1, 2, 1, 1, 1, 2, 3, 1, ...       34  -0.255000   \n",
       "\n",
       "   cluster_20  \n",
       "0           5  \n",
       "1           8  \n",
       "2          12  \n",
       "3          13  \n",
       "4           8  "
      ]
     },
     "execution_count": 40,
     "metadata": {},
     "output_type": "execute_result"
    }
   ],
   "source": [
    "df_novel.head()"
   ]
  },
  {
   "cell_type": "markdown",
   "metadata": {},
   "source": [
    "Create 3 clusters"
   ]
  },
  {
   "cell_type": "code",
   "execution_count": 41,
   "metadata": {
    "collapsed": true
   },
   "outputs": [],
   "source": [
    "df_cluster_3 = df_cluster.copy()"
   ]
  },
  {
   "cell_type": "code",
   "execution_count": 42,
   "metadata": {
    "collapsed": false
   },
   "outputs": [
    {
     "data": {
      "text/html": [
       "<div>\n",
       "<table border=\"1\" class=\"dataframe\">\n",
       "  <thead>\n",
       "    <tr style=\"text-align: right;\">\n",
       "      <th></th>\n",
       "      <th>0</th>\n",
       "      <th>total_char</th>\n",
       "      <th>syl_sum</th>\n",
       "      <th>sentiment</th>\n",
       "    </tr>\n",
       "  </thead>\n",
       "  <tbody>\n",
       "    <tr>\n",
       "      <th>0</th>\n",
       "      <td>The proofreaders of this version are indebted ...</td>\n",
       "      <td>106</td>\n",
       "      <td>38</td>\n",
       "      <td>0.000000</td>\n",
       "    </tr>\n",
       "    <tr>\n",
       "      <th>1</th>\n",
       "      <td>The resulting etext was compared with a public...</td>\n",
       "      <td>69</td>\n",
       "      <td>23</td>\n",
       "      <td>-0.145833</td>\n",
       "    </tr>\n",
       "    <tr>\n",
       "      <th>2</th>\n",
       "      <td>In chapters 24, 89, and 90, we substituted a c...</td>\n",
       "      <td>86</td>\n",
       "      <td>28</td>\n",
       "      <td>0.000000</td>\n",
       "    </tr>\n",
       "    <tr>\n",
       "      <th>3</th>\n",
       "      <td>ETYMOLOGY.</td>\n",
       "      <td>9</td>\n",
       "      <td>5</td>\n",
       "      <td>0.000000</td>\n",
       "    </tr>\n",
       "    <tr>\n",
       "      <th>4</th>\n",
       "      <td>(Supplied by a Late Consumptive Usher to a Gra...</td>\n",
       "      <td>102</td>\n",
       "      <td>34</td>\n",
       "      <td>-0.255000</td>\n",
       "    </tr>\n",
       "  </tbody>\n",
       "</table>\n",
       "</div>"
      ],
      "text/plain": [
       "                                                   0  total_char  syl_sum  \\\n",
       "0  The proofreaders of this version are indebted ...         106       38   \n",
       "1  The resulting etext was compared with a public...          69       23   \n",
       "2  In chapters 24, 89, and 90, we substituted a c...          86       28   \n",
       "3                                         ETYMOLOGY.           9        5   \n",
       "4  (Supplied by a Late Consumptive Usher to a Gra...         102       34   \n",
       "\n",
       "   sentiment  \n",
       "0   0.000000  \n",
       "1  -0.145833  \n",
       "2   0.000000  \n",
       "3   0.000000  \n",
       "4  -0.255000  "
      ]
     },
     "execution_count": 42,
     "metadata": {},
     "output_type": "execute_result"
    }
   ],
   "source": [
    "df_cluster_3.head()"
   ]
  },
  {
   "cell_type": "code",
   "execution_count": 43,
   "metadata": {
    "collapsed": true
   },
   "outputs": [],
   "source": [
    "X = df_cluster_3.drop(0, axis=1)"
   ]
  },
  {
   "cell_type": "code",
   "execution_count": 44,
   "metadata": {
    "collapsed": true
   },
   "outputs": [],
   "source": [
    "scaler = StandardScaler()\n",
    "X_scaled = scaler.fit_transform(X)"
   ]
  },
  {
   "cell_type": "code",
   "execution_count": 45,
   "metadata": {
    "collapsed": false
   },
   "outputs": [
    {
     "data": {
      "text/plain": [
       "KMeans(copy_x=True, init='k-means++', max_iter=300, n_clusters=3, n_init=10,\n",
       "    n_jobs=1, precompute_distances='auto', random_state=1, tol=0.0001,\n",
       "    verbose=0)"
      ]
     },
     "execution_count": 45,
     "metadata": {},
     "output_type": "execute_result"
    }
   ],
   "source": [
    "km = KMeans(n_clusters=3, random_state=1)\n",
    "km.fit(X_scaled)"
   ]
  },
  {
   "cell_type": "code",
   "execution_count": 46,
   "metadata": {
    "collapsed": true
   },
   "outputs": [],
   "source": [
    "df_cluster_3['cluster'] = km.labels_"
   ]
  },
  {
   "cell_type": "code",
   "execution_count": 47,
   "metadata": {
    "collapsed": false
   },
   "outputs": [
    {
     "data": {
      "text/html": [
       "<div>\n",
       "<table border=\"1\" class=\"dataframe\">\n",
       "  <thead>\n",
       "    <tr style=\"text-align: right;\">\n",
       "      <th></th>\n",
       "      <th>total_char</th>\n",
       "      <th>syl_sum</th>\n",
       "      <th>sentiment</th>\n",
       "    </tr>\n",
       "    <tr>\n",
       "      <th>cluster</th>\n",
       "      <th></th>\n",
       "      <th></th>\n",
       "      <th></th>\n",
       "    </tr>\n",
       "  </thead>\n",
       "  <tbody>\n",
       "    <tr>\n",
       "      <th>0</th>\n",
       "      <td>96.218245</td>\n",
       "      <td>30.484988</td>\n",
       "      <td>0.379615</td>\n",
       "    </tr>\n",
       "    <tr>\n",
       "      <th>1</th>\n",
       "      <td>52.932219</td>\n",
       "      <td>16.546890</td>\n",
       "      <td>-0.035464</td>\n",
       "    </tr>\n",
       "    <tr>\n",
       "      <th>2</th>\n",
       "      <td>251.652856</td>\n",
       "      <td>79.840426</td>\n",
       "      <td>0.041983</td>\n",
       "    </tr>\n",
       "  </tbody>\n",
       "</table>\n",
       "</div>"
      ],
      "text/plain": [
       "         total_char    syl_sum  sentiment\n",
       "cluster                                  \n",
       "0         96.218245  30.484988   0.379615\n",
       "1         52.932219  16.546890  -0.035464\n",
       "2        251.652856  79.840426   0.041983"
      ]
     },
     "execution_count": 47,
     "metadata": {},
     "output_type": "execute_result"
    }
   ],
   "source": [
    "df_cluster_3.groupby('cluster').mean()"
   ]
  },
  {
   "cell_type": "code",
   "execution_count": 48,
   "metadata": {
    "collapsed": false
   },
   "outputs": [
    {
     "data": {
      "text/html": [
       "<div>\n",
       "<table border=\"1\" class=\"dataframe\">\n",
       "  <thead>\n",
       "    <tr style=\"text-align: right;\">\n",
       "      <th></th>\n",
       "      <th>0</th>\n",
       "      <th>total_char</th>\n",
       "      <th>syl_sum</th>\n",
       "      <th>sentiment</th>\n",
       "      <th>cluster</th>\n",
       "    </tr>\n",
       "  </thead>\n",
       "  <tbody>\n",
       "    <tr>\n",
       "      <th>0</th>\n",
       "      <td>The proofreaders of this version are indebted ...</td>\n",
       "      <td>106</td>\n",
       "      <td>38</td>\n",
       "      <td>0.000000</td>\n",
       "      <td>1</td>\n",
       "    </tr>\n",
       "    <tr>\n",
       "      <th>1</th>\n",
       "      <td>The resulting etext was compared with a public...</td>\n",
       "      <td>69</td>\n",
       "      <td>23</td>\n",
       "      <td>-0.145833</td>\n",
       "      <td>1</td>\n",
       "    </tr>\n",
       "    <tr>\n",
       "      <th>2</th>\n",
       "      <td>In chapters 24, 89, and 90, we substituted a c...</td>\n",
       "      <td>86</td>\n",
       "      <td>28</td>\n",
       "      <td>0.000000</td>\n",
       "      <td>1</td>\n",
       "    </tr>\n",
       "    <tr>\n",
       "      <th>3</th>\n",
       "      <td>ETYMOLOGY.</td>\n",
       "      <td>9</td>\n",
       "      <td>5</td>\n",
       "      <td>0.000000</td>\n",
       "      <td>1</td>\n",
       "    </tr>\n",
       "    <tr>\n",
       "      <th>4</th>\n",
       "      <td>(Supplied by a Late Consumptive Usher to a Gra...</td>\n",
       "      <td>102</td>\n",
       "      <td>34</td>\n",
       "      <td>-0.255000</td>\n",
       "      <td>1</td>\n",
       "    </tr>\n",
       "  </tbody>\n",
       "</table>\n",
       "</div>"
      ],
      "text/plain": [
       "                                                   0  total_char  syl_sum  \\\n",
       "0  The proofreaders of this version are indebted ...         106       38   \n",
       "1  The resulting etext was compared with a public...          69       23   \n",
       "2  In chapters 24, 89, and 90, we substituted a c...          86       28   \n",
       "3                                         ETYMOLOGY.           9        5   \n",
       "4  (Supplied by a Late Consumptive Usher to a Gra...         102       34   \n",
       "\n",
       "   sentiment  cluster  \n",
       "0   0.000000        1  \n",
       "1  -0.145833        1  \n",
       "2   0.000000        1  \n",
       "3   0.000000        1  \n",
       "4  -0.255000        1  "
      ]
     },
     "execution_count": 48,
     "metadata": {},
     "output_type": "execute_result"
    }
   ],
   "source": [
    "df_cluster_3.head()"
   ]
  },
  {
   "cell_type": "markdown",
   "metadata": {},
   "source": [
    "Add cludter_3 to original dataframe"
   ]
  },
  {
   "cell_type": "code",
   "execution_count": 49,
   "metadata": {
    "collapsed": true
   },
   "outputs": [],
   "source": [
    "df_novel['cluster_3_syl'] = df_cluster_3['cluster']"
   ]
  },
  {
   "cell_type": "code",
   "execution_count": 50,
   "metadata": {
    "collapsed": false
   },
   "outputs": [
    {
     "data": {
      "text/html": [
       "<div>\n",
       "<table border=\"1\" class=\"dataframe\">\n",
       "  <thead>\n",
       "    <tr style=\"text-align: right;\">\n",
       "      <th></th>\n",
       "      <th>0</th>\n",
       "      <th>wrd_length</th>\n",
       "      <th>total_char</th>\n",
       "      <th>syl_count</th>\n",
       "      <th>syl_sum</th>\n",
       "      <th>sentiment</th>\n",
       "      <th>cluster_20</th>\n",
       "      <th>cluster_3_syl</th>\n",
       "    </tr>\n",
       "  </thead>\n",
       "  <tbody>\n",
       "    <tr>\n",
       "      <th>0</th>\n",
       "      <td>The proofreaders of this version are indebted ...</td>\n",
       "      <td>[3, 12, 2, 4, 7, 3, 8, 2, 3, 10, 2, 8, 7, 3, 1...</td>\n",
       "      <td>106</td>\n",
       "      <td>[1, 4, 1, 1, 2, 1, 2, 1, 1, 5, 1, 3, 3, 1, 3, ...</td>\n",
       "      <td>38</td>\n",
       "      <td>0.000000</td>\n",
       "      <td>5</td>\n",
       "      <td>1</td>\n",
       "    </tr>\n",
       "    <tr>\n",
       "      <th>1</th>\n",
       "      <td>The resulting etext was compared with a public...</td>\n",
       "      <td>[3, 9, 5, 3, 8, 4, 1, 6, 6, 4, 4, 7, 2, 3, 4]</td>\n",
       "      <td>69</td>\n",
       "      <td>[1, 3, 2, 1, 2, 1, 1, 2, 2, 1, 2, 2, 1, 1, 1]</td>\n",
       "      <td>23</td>\n",
       "      <td>-0.145833</td>\n",
       "      <td>8</td>\n",
       "      <td>1</td>\n",
       "    </tr>\n",
       "    <tr>\n",
       "      <th>2</th>\n",
       "      <td>In chapters 24, 89, and 90, we substituted a c...</td>\n",
       "      <td>[2, 8, 2, 2, 3, 2, 2, 11, 1, 7, 1, 3, 3, 6, 3,...</td>\n",
       "      <td>86</td>\n",
       "      <td>[1, 2, 0, 0, 1, 0, 1, 3, 1, 3, 0, 1, 1, 2, 1, ...</td>\n",
       "      <td>28</td>\n",
       "      <td>0.000000</td>\n",
       "      <td>12</td>\n",
       "      <td>1</td>\n",
       "    </tr>\n",
       "    <tr>\n",
       "      <th>3</th>\n",
       "      <td>ETYMOLOGY.</td>\n",
       "      <td>[9]</td>\n",
       "      <td>9</td>\n",
       "      <td>[5]</td>\n",
       "      <td>5</td>\n",
       "      <td>0.000000</td>\n",
       "      <td>13</td>\n",
       "      <td>1</td>\n",
       "    </tr>\n",
       "    <tr>\n",
       "      <th>4</th>\n",
       "      <td>(Supplied by a Late Consumptive Usher to a Gra...</td>\n",
       "      <td>[8, 2, 1, 4, 11, 5, 2, 1, 7, 6, 3, 4, 5, 10, 2...</td>\n",
       "      <td>102</td>\n",
       "      <td>[2, 1, 1, 1, 3, 2, 1, 1, 2, 1, 1, 1, 2, 3, 1, ...</td>\n",
       "      <td>34</td>\n",
       "      <td>-0.255000</td>\n",
       "      <td>8</td>\n",
       "      <td>1</td>\n",
       "    </tr>\n",
       "  </tbody>\n",
       "</table>\n",
       "</div>"
      ],
      "text/plain": [
       "                                                   0  \\\n",
       "0  The proofreaders of this version are indebted ...   \n",
       "1  The resulting etext was compared with a public...   \n",
       "2  In chapters 24, 89, and 90, we substituted a c...   \n",
       "3                                         ETYMOLOGY.   \n",
       "4  (Supplied by a Late Consumptive Usher to a Gra...   \n",
       "\n",
       "                                          wrd_length  total_char  \\\n",
       "0  [3, 12, 2, 4, 7, 3, 8, 2, 3, 10, 2, 8, 7, 3, 1...         106   \n",
       "1      [3, 9, 5, 3, 8, 4, 1, 6, 6, 4, 4, 7, 2, 3, 4]          69   \n",
       "2  [2, 8, 2, 2, 3, 2, 2, 11, 1, 7, 1, 3, 3, 6, 3,...          86   \n",
       "3                                                [9]           9   \n",
       "4  [8, 2, 1, 4, 11, 5, 2, 1, 7, 6, 3, 4, 5, 10, 2...         102   \n",
       "\n",
       "                                           syl_count  syl_sum  sentiment  \\\n",
       "0  [1, 4, 1, 1, 2, 1, 2, 1, 1, 5, 1, 3, 3, 1, 3, ...       38   0.000000   \n",
       "1      [1, 3, 2, 1, 2, 1, 1, 2, 2, 1, 2, 2, 1, 1, 1]       23  -0.145833   \n",
       "2  [1, 2, 0, 0, 1, 0, 1, 3, 1, 3, 0, 1, 1, 2, 1, ...       28   0.000000   \n",
       "3                                                [5]        5   0.000000   \n",
       "4  [2, 1, 1, 1, 3, 2, 1, 1, 2, 1, 1, 1, 2, 3, 1, ...       34  -0.255000   \n",
       "\n",
       "   cluster_20  cluster_3_syl  \n",
       "0           5              1  \n",
       "1           8              1  \n",
       "2          12              1  \n",
       "3          13              1  \n",
       "4           8              1  "
      ]
     },
     "execution_count": 50,
     "metadata": {},
     "output_type": "execute_result"
    }
   ],
   "source": [
    "df_novel.head()"
   ]
  },
  {
   "cell_type": "markdown",
   "metadata": {},
   "source": [
    "Create 3 Clusters with no syl_sum"
   ]
  },
  {
   "cell_type": "code",
   "execution_count": 51,
   "metadata": {
    "collapsed": true
   },
   "outputs": [],
   "source": [
    "df_cluster_3no_syl = df_cluster.copy()"
   ]
  },
  {
   "cell_type": "code",
   "execution_count": 52,
   "metadata": {
    "collapsed": true
   },
   "outputs": [],
   "source": [
    "df_cluster_3no_syl = df_cluster.drop('syl_sum', 1)"
   ]
  },
  {
   "cell_type": "code",
   "execution_count": 53,
   "metadata": {
    "collapsed": true
   },
   "outputs": [],
   "source": [
    "X = df_cluster_3no_syl.drop(0, axis=1)"
   ]
  },
  {
   "cell_type": "code",
   "execution_count": 54,
   "metadata": {
    "collapsed": true
   },
   "outputs": [],
   "source": [
    "scaler = StandardScaler()\n",
    "X_scaled = scaler.fit_transform(X)"
   ]
  },
  {
   "cell_type": "code",
   "execution_count": 55,
   "metadata": {
    "collapsed": false
   },
   "outputs": [
    {
     "data": {
      "text/plain": [
       "KMeans(copy_x=True, init='k-means++', max_iter=300, n_clusters=3, n_init=10,\n",
       "    n_jobs=1, precompute_distances='auto', random_state=1, tol=0.0001,\n",
       "    verbose=0)"
      ]
     },
     "execution_count": 55,
     "metadata": {},
     "output_type": "execute_result"
    }
   ],
   "source": [
    "km = KMeans(n_clusters=3, random_state=1)\n",
    "km.fit(X_scaled)"
   ]
  },
  {
   "cell_type": "code",
   "execution_count": 56,
   "metadata": {
    "collapsed": true
   },
   "outputs": [],
   "source": [
    "df_cluster_3no_syl['cluster'] = km.labels_"
   ]
  },
  {
   "cell_type": "code",
   "execution_count": 57,
   "metadata": {
    "collapsed": false
   },
   "outputs": [
    {
     "data": {
      "text/html": [
       "<div>\n",
       "<table border=\"1\" class=\"dataframe\">\n",
       "  <thead>\n",
       "    <tr style=\"text-align: right;\">\n",
       "      <th></th>\n",
       "      <th>0</th>\n",
       "      <th>total_char</th>\n",
       "      <th>sentiment</th>\n",
       "      <th>cluster</th>\n",
       "    </tr>\n",
       "  </thead>\n",
       "  <tbody>\n",
       "    <tr>\n",
       "      <th>0</th>\n",
       "      <td>The proofreaders of this version are indebted ...</td>\n",
       "      <td>106</td>\n",
       "      <td>0.000000</td>\n",
       "      <td>1</td>\n",
       "    </tr>\n",
       "    <tr>\n",
       "      <th>1</th>\n",
       "      <td>The resulting etext was compared with a public...</td>\n",
       "      <td>69</td>\n",
       "      <td>-0.145833</td>\n",
       "      <td>1</td>\n",
       "    </tr>\n",
       "    <tr>\n",
       "      <th>2</th>\n",
       "      <td>In chapters 24, 89, and 90, we substituted a c...</td>\n",
       "      <td>86</td>\n",
       "      <td>0.000000</td>\n",
       "      <td>1</td>\n",
       "    </tr>\n",
       "    <tr>\n",
       "      <th>3</th>\n",
       "      <td>ETYMOLOGY.</td>\n",
       "      <td>9</td>\n",
       "      <td>0.000000</td>\n",
       "      <td>1</td>\n",
       "    </tr>\n",
       "    <tr>\n",
       "      <th>4</th>\n",
       "      <td>(Supplied by a Late Consumptive Usher to a Gra...</td>\n",
       "      <td>102</td>\n",
       "      <td>-0.255000</td>\n",
       "      <td>1</td>\n",
       "    </tr>\n",
       "  </tbody>\n",
       "</table>\n",
       "</div>"
      ],
      "text/plain": [
       "                                                   0  total_char  sentiment  \\\n",
       "0  The proofreaders of this version are indebted ...         106   0.000000   \n",
       "1  The resulting etext was compared with a public...          69  -0.145833   \n",
       "2  In chapters 24, 89, and 90, we substituted a c...          86   0.000000   \n",
       "3                                         ETYMOLOGY.           9   0.000000   \n",
       "4  (Supplied by a Late Consumptive Usher to a Gra...         102  -0.255000   \n",
       "\n",
       "   cluster  \n",
       "0        1  \n",
       "1        1  \n",
       "2        1  \n",
       "3        1  \n",
       "4        1  "
      ]
     },
     "execution_count": 57,
     "metadata": {},
     "output_type": "execute_result"
    }
   ],
   "source": [
    "df_cluster_3no_syl.head()"
   ]
  },
  {
   "cell_type": "code",
   "execution_count": 58,
   "metadata": {
    "collapsed": false
   },
   "outputs": [
    {
     "data": {
      "text/html": [
       "<div>\n",
       "<table border=\"1\" class=\"dataframe\">\n",
       "  <thead>\n",
       "    <tr style=\"text-align: right;\">\n",
       "      <th></th>\n",
       "      <th>total_char</th>\n",
       "      <th>sentiment</th>\n",
       "    </tr>\n",
       "    <tr>\n",
       "      <th>cluster</th>\n",
       "      <th></th>\n",
       "      <th></th>\n",
       "    </tr>\n",
       "  </thead>\n",
       "  <tbody>\n",
       "    <tr>\n",
       "      <th>0</th>\n",
       "      <td>251.789504</td>\n",
       "      <td>0.046705</td>\n",
       "    </tr>\n",
       "    <tr>\n",
       "      <th>1</th>\n",
       "      <td>54.705713</td>\n",
       "      <td>-0.035428</td>\n",
       "    </tr>\n",
       "    <tr>\n",
       "      <th>2</th>\n",
       "      <td>95.252280</td>\n",
       "      <td>0.397945</td>\n",
       "    </tr>\n",
       "  </tbody>\n",
       "</table>\n",
       "</div>"
      ],
      "text/plain": [
       "         total_char  sentiment\n",
       "cluster                       \n",
       "0        251.789504   0.046705\n",
       "1         54.705713  -0.035428\n",
       "2         95.252280   0.397945"
      ]
     },
     "execution_count": 58,
     "metadata": {},
     "output_type": "execute_result"
    }
   ],
   "source": [
    "df_cluster_3no_syl.groupby('cluster').mean()"
   ]
  },
  {
   "cell_type": "markdown",
   "metadata": {},
   "source": [
    "Add cluster_3no_syl to original dataframe"
   ]
  },
  {
   "cell_type": "code",
   "execution_count": 59,
   "metadata": {
    "collapsed": true
   },
   "outputs": [],
   "source": [
    "df_novel['cluster_3no_syl'] = df_cluster_3no_syl['cluster']"
   ]
  },
  {
   "cell_type": "code",
   "execution_count": 60,
   "metadata": {
    "collapsed": false
   },
   "outputs": [
    {
     "data": {
      "text/html": [
       "<div>\n",
       "<table border=\"1\" class=\"dataframe\">\n",
       "  <thead>\n",
       "    <tr style=\"text-align: right;\">\n",
       "      <th></th>\n",
       "      <th>0</th>\n",
       "      <th>wrd_length</th>\n",
       "      <th>total_char</th>\n",
       "      <th>syl_count</th>\n",
       "      <th>syl_sum</th>\n",
       "      <th>sentiment</th>\n",
       "      <th>cluster_20</th>\n",
       "      <th>cluster_3_syl</th>\n",
       "      <th>cluster_3no_syl</th>\n",
       "    </tr>\n",
       "  </thead>\n",
       "  <tbody>\n",
       "    <tr>\n",
       "      <th>0</th>\n",
       "      <td>The proofreaders of this version are indebted ...</td>\n",
       "      <td>[3, 12, 2, 4, 7, 3, 8, 2, 3, 10, 2, 8, 7, 3, 1...</td>\n",
       "      <td>106</td>\n",
       "      <td>[1, 4, 1, 1, 2, 1, 2, 1, 1, 5, 1, 3, 3, 1, 3, ...</td>\n",
       "      <td>38</td>\n",
       "      <td>0.000000</td>\n",
       "      <td>5</td>\n",
       "      <td>1</td>\n",
       "      <td>1</td>\n",
       "    </tr>\n",
       "    <tr>\n",
       "      <th>1</th>\n",
       "      <td>The resulting etext was compared with a public...</td>\n",
       "      <td>[3, 9, 5, 3, 8, 4, 1, 6, 6, 4, 4, 7, 2, 3, 4]</td>\n",
       "      <td>69</td>\n",
       "      <td>[1, 3, 2, 1, 2, 1, 1, 2, 2, 1, 2, 2, 1, 1, 1]</td>\n",
       "      <td>23</td>\n",
       "      <td>-0.145833</td>\n",
       "      <td>8</td>\n",
       "      <td>1</td>\n",
       "      <td>1</td>\n",
       "    </tr>\n",
       "    <tr>\n",
       "      <th>2</th>\n",
       "      <td>In chapters 24, 89, and 90, we substituted a c...</td>\n",
       "      <td>[2, 8, 2, 2, 3, 2, 2, 11, 1, 7, 1, 3, 3, 6, 3,...</td>\n",
       "      <td>86</td>\n",
       "      <td>[1, 2, 0, 0, 1, 0, 1, 3, 1, 3, 0, 1, 1, 2, 1, ...</td>\n",
       "      <td>28</td>\n",
       "      <td>0.000000</td>\n",
       "      <td>12</td>\n",
       "      <td>1</td>\n",
       "      <td>1</td>\n",
       "    </tr>\n",
       "    <tr>\n",
       "      <th>3</th>\n",
       "      <td>ETYMOLOGY.</td>\n",
       "      <td>[9]</td>\n",
       "      <td>9</td>\n",
       "      <td>[5]</td>\n",
       "      <td>5</td>\n",
       "      <td>0.000000</td>\n",
       "      <td>13</td>\n",
       "      <td>1</td>\n",
       "      <td>1</td>\n",
       "    </tr>\n",
       "    <tr>\n",
       "      <th>4</th>\n",
       "      <td>(Supplied by a Late Consumptive Usher to a Gra...</td>\n",
       "      <td>[8, 2, 1, 4, 11, 5, 2, 1, 7, 6, 3, 4, 5, 10, 2...</td>\n",
       "      <td>102</td>\n",
       "      <td>[2, 1, 1, 1, 3, 2, 1, 1, 2, 1, 1, 1, 2, 3, 1, ...</td>\n",
       "      <td>34</td>\n",
       "      <td>-0.255000</td>\n",
       "      <td>8</td>\n",
       "      <td>1</td>\n",
       "      <td>1</td>\n",
       "    </tr>\n",
       "  </tbody>\n",
       "</table>\n",
       "</div>"
      ],
      "text/plain": [
       "                                                   0  \\\n",
       "0  The proofreaders of this version are indebted ...   \n",
       "1  The resulting etext was compared with a public...   \n",
       "2  In chapters 24, 89, and 90, we substituted a c...   \n",
       "3                                         ETYMOLOGY.   \n",
       "4  (Supplied by a Late Consumptive Usher to a Gra...   \n",
       "\n",
       "                                          wrd_length  total_char  \\\n",
       "0  [3, 12, 2, 4, 7, 3, 8, 2, 3, 10, 2, 8, 7, 3, 1...         106   \n",
       "1      [3, 9, 5, 3, 8, 4, 1, 6, 6, 4, 4, 7, 2, 3, 4]          69   \n",
       "2  [2, 8, 2, 2, 3, 2, 2, 11, 1, 7, 1, 3, 3, 6, 3,...          86   \n",
       "3                                                [9]           9   \n",
       "4  [8, 2, 1, 4, 11, 5, 2, 1, 7, 6, 3, 4, 5, 10, 2...         102   \n",
       "\n",
       "                                           syl_count  syl_sum  sentiment  \\\n",
       "0  [1, 4, 1, 1, 2, 1, 2, 1, 1, 5, 1, 3, 3, 1, 3, ...       38   0.000000   \n",
       "1      [1, 3, 2, 1, 2, 1, 1, 2, 2, 1, 2, 2, 1, 1, 1]       23  -0.145833   \n",
       "2  [1, 2, 0, 0, 1, 0, 1, 3, 1, 3, 0, 1, 1, 2, 1, ...       28   0.000000   \n",
       "3                                                [5]        5   0.000000   \n",
       "4  [2, 1, 1, 1, 3, 2, 1, 1, 2, 1, 1, 1, 2, 3, 1, ...       34  -0.255000   \n",
       "\n",
       "   cluster_20  cluster_3_syl  cluster_3no_syl  \n",
       "0           5              1                1  \n",
       "1           8              1                1  \n",
       "2          12              1                1  \n",
       "3          13              1                1  \n",
       "4           8              1                1  "
      ]
     },
     "execution_count": 60,
     "metadata": {},
     "output_type": "execute_result"
    }
   ],
   "source": [
    "df_novel.head()"
   ]
  },
  {
   "cell_type": "markdown",
   "metadata": {},
   "source": [
    "Create 5 Clusters"
   ]
  },
  {
   "cell_type": "code",
   "execution_count": 61,
   "metadata": {
    "collapsed": true
   },
   "outputs": [],
   "source": [
    "df_cluster_5 = df_cluster.copy()"
   ]
  },
  {
   "cell_type": "code",
   "execution_count": 62,
   "metadata": {
    "collapsed": false
   },
   "outputs": [
    {
     "data": {
      "text/html": [
       "<div>\n",
       "<table border=\"1\" class=\"dataframe\">\n",
       "  <thead>\n",
       "    <tr style=\"text-align: right;\">\n",
       "      <th></th>\n",
       "      <th>0</th>\n",
       "      <th>total_char</th>\n",
       "      <th>syl_sum</th>\n",
       "      <th>sentiment</th>\n",
       "    </tr>\n",
       "  </thead>\n",
       "  <tbody>\n",
       "    <tr>\n",
       "      <th>0</th>\n",
       "      <td>The proofreaders of this version are indebted ...</td>\n",
       "      <td>106</td>\n",
       "      <td>38</td>\n",
       "      <td>0.000000</td>\n",
       "    </tr>\n",
       "    <tr>\n",
       "      <th>1</th>\n",
       "      <td>The resulting etext was compared with a public...</td>\n",
       "      <td>69</td>\n",
       "      <td>23</td>\n",
       "      <td>-0.145833</td>\n",
       "    </tr>\n",
       "    <tr>\n",
       "      <th>2</th>\n",
       "      <td>In chapters 24, 89, and 90, we substituted a c...</td>\n",
       "      <td>86</td>\n",
       "      <td>28</td>\n",
       "      <td>0.000000</td>\n",
       "    </tr>\n",
       "    <tr>\n",
       "      <th>3</th>\n",
       "      <td>ETYMOLOGY.</td>\n",
       "      <td>9</td>\n",
       "      <td>5</td>\n",
       "      <td>0.000000</td>\n",
       "    </tr>\n",
       "    <tr>\n",
       "      <th>4</th>\n",
       "      <td>(Supplied by a Late Consumptive Usher to a Gra...</td>\n",
       "      <td>102</td>\n",
       "      <td>34</td>\n",
       "      <td>-0.255000</td>\n",
       "    </tr>\n",
       "  </tbody>\n",
       "</table>\n",
       "</div>"
      ],
      "text/plain": [
       "                                                   0  total_char  syl_sum  \\\n",
       "0  The proofreaders of this version are indebted ...         106       38   \n",
       "1  The resulting etext was compared with a public...          69       23   \n",
       "2  In chapters 24, 89, and 90, we substituted a c...          86       28   \n",
       "3                                         ETYMOLOGY.           9        5   \n",
       "4  (Supplied by a Late Consumptive Usher to a Gra...         102       34   \n",
       "\n",
       "   sentiment  \n",
       "0   0.000000  \n",
       "1  -0.145833  \n",
       "2   0.000000  \n",
       "3   0.000000  \n",
       "4  -0.255000  "
      ]
     },
     "execution_count": 62,
     "metadata": {},
     "output_type": "execute_result"
    }
   ],
   "source": [
    "df_cluster_5.head()"
   ]
  },
  {
   "cell_type": "code",
   "execution_count": 63,
   "metadata": {
    "collapsed": true
   },
   "outputs": [],
   "source": [
    "X = df_cluster_5.drop(0, axis=1)"
   ]
  },
  {
   "cell_type": "code",
   "execution_count": 64,
   "metadata": {
    "collapsed": true
   },
   "outputs": [],
   "source": [
    "scaler = StandardScaler()\n",
    "X_scaled = scaler.fit_transform(X)"
   ]
  },
  {
   "cell_type": "code",
   "execution_count": 65,
   "metadata": {
    "collapsed": false
   },
   "outputs": [
    {
     "data": {
      "text/plain": [
       "KMeans(copy_x=True, init='k-means++', max_iter=300, n_clusters=5, n_init=10,\n",
       "    n_jobs=1, precompute_distances='auto', random_state=1, tol=0.0001,\n",
       "    verbose=0)"
      ]
     },
     "execution_count": 65,
     "metadata": {},
     "output_type": "execute_result"
    }
   ],
   "source": [
    "km = KMeans(n_clusters=5, random_state=1)\n",
    "km.fit(X_scaled)"
   ]
  },
  {
   "cell_type": "code",
   "execution_count": 66,
   "metadata": {
    "collapsed": true
   },
   "outputs": [],
   "source": [
    "df_cluster_5['cluster'] = km.labels_"
   ]
  },
  {
   "cell_type": "code",
   "execution_count": 67,
   "metadata": {
    "collapsed": false
   },
   "outputs": [
    {
     "data": {
      "text/html": [
       "<div>\n",
       "<table border=\"1\" class=\"dataframe\">\n",
       "  <thead>\n",
       "    <tr style=\"text-align: right;\">\n",
       "      <th></th>\n",
       "      <th>total_char</th>\n",
       "      <th>syl_sum</th>\n",
       "      <th>sentiment</th>\n",
       "    </tr>\n",
       "    <tr>\n",
       "      <th>cluster</th>\n",
       "      <th></th>\n",
       "      <th></th>\n",
       "      <th></th>\n",
       "    </tr>\n",
       "  </thead>\n",
       "  <tbody>\n",
       "    <tr>\n",
       "      <th>0</th>\n",
       "      <td>37.189929</td>\n",
       "      <td>11.560864</td>\n",
       "      <td>0.007486</td>\n",
       "    </tr>\n",
       "    <tr>\n",
       "      <th>1</th>\n",
       "      <td>347.877934</td>\n",
       "      <td>110.682316</td>\n",
       "      <td>0.082522</td>\n",
       "    </tr>\n",
       "    <tr>\n",
       "      <th>2</th>\n",
       "      <td>159.501204</td>\n",
       "      <td>50.413323</td>\n",
       "      <td>0.047820</td>\n",
       "    </tr>\n",
       "    <tr>\n",
       "      <th>3</th>\n",
       "      <td>84.572049</td>\n",
       "      <td>26.848958</td>\n",
       "      <td>0.466849</td>\n",
       "    </tr>\n",
       "    <tr>\n",
       "      <th>4</th>\n",
       "      <td>81.724349</td>\n",
       "      <td>25.607963</td>\n",
       "      <td>-0.373914</td>\n",
       "    </tr>\n",
       "  </tbody>\n",
       "</table>\n",
       "</div>"
      ],
      "text/plain": [
       "         total_char     syl_sum  sentiment\n",
       "cluster                                   \n",
       "0         37.189929   11.560864   0.007486\n",
       "1        347.877934  110.682316   0.082522\n",
       "2        159.501204   50.413323   0.047820\n",
       "3         84.572049   26.848958   0.466849\n",
       "4         81.724349   25.607963  -0.373914"
      ]
     },
     "execution_count": 67,
     "metadata": {},
     "output_type": "execute_result"
    }
   ],
   "source": [
    "df_cluster_5.groupby('cluster').mean()"
   ]
  },
  {
   "cell_type": "markdown",
   "metadata": {},
   "source": [
    "Add cluster_5 to original dataframe"
   ]
  },
  {
   "cell_type": "code",
   "execution_count": 68,
   "metadata": {
    "collapsed": true
   },
   "outputs": [],
   "source": [
    "df_novel['cluster_5'] = df_cluster_5['cluster']"
   ]
  },
  {
   "cell_type": "code",
   "execution_count": 69,
   "metadata": {
    "collapsed": false
   },
   "outputs": [
    {
     "data": {
      "text/html": [
       "<div>\n",
       "<table border=\"1\" class=\"dataframe\">\n",
       "  <thead>\n",
       "    <tr style=\"text-align: right;\">\n",
       "      <th></th>\n",
       "      <th>0</th>\n",
       "      <th>wrd_length</th>\n",
       "      <th>total_char</th>\n",
       "      <th>syl_count</th>\n",
       "      <th>syl_sum</th>\n",
       "      <th>sentiment</th>\n",
       "      <th>cluster_20</th>\n",
       "      <th>cluster_3_syl</th>\n",
       "      <th>cluster_3no_syl</th>\n",
       "      <th>cluster_5</th>\n",
       "    </tr>\n",
       "  </thead>\n",
       "  <tbody>\n",
       "    <tr>\n",
       "      <th>0</th>\n",
       "      <td>The proofreaders of this version are indebted ...</td>\n",
       "      <td>[3, 12, 2, 4, 7, 3, 8, 2, 3, 10, 2, 8, 7, 3, 1...</td>\n",
       "      <td>106</td>\n",
       "      <td>[1, 4, 1, 1, 2, 1, 2, 1, 1, 5, 1, 3, 3, 1, 3, ...</td>\n",
       "      <td>38</td>\n",
       "      <td>0.000000</td>\n",
       "      <td>5</td>\n",
       "      <td>1</td>\n",
       "      <td>1</td>\n",
       "      <td>2</td>\n",
       "    </tr>\n",
       "    <tr>\n",
       "      <th>1</th>\n",
       "      <td>The resulting etext was compared with a public...</td>\n",
       "      <td>[3, 9, 5, 3, 8, 4, 1, 6, 6, 4, 4, 7, 2, 3, 4]</td>\n",
       "      <td>69</td>\n",
       "      <td>[1, 3, 2, 1, 2, 1, 1, 2, 2, 1, 2, 2, 1, 1, 1]</td>\n",
       "      <td>23</td>\n",
       "      <td>-0.145833</td>\n",
       "      <td>8</td>\n",
       "      <td>1</td>\n",
       "      <td>1</td>\n",
       "      <td>0</td>\n",
       "    </tr>\n",
       "    <tr>\n",
       "      <th>2</th>\n",
       "      <td>In chapters 24, 89, and 90, we substituted a c...</td>\n",
       "      <td>[2, 8, 2, 2, 3, 2, 2, 11, 1, 7, 1, 3, 3, 6, 3,...</td>\n",
       "      <td>86</td>\n",
       "      <td>[1, 2, 0, 0, 1, 0, 1, 3, 1, 3, 0, 1, 1, 2, 1, ...</td>\n",
       "      <td>28</td>\n",
       "      <td>0.000000</td>\n",
       "      <td>12</td>\n",
       "      <td>1</td>\n",
       "      <td>1</td>\n",
       "      <td>0</td>\n",
       "    </tr>\n",
       "    <tr>\n",
       "      <th>3</th>\n",
       "      <td>ETYMOLOGY.</td>\n",
       "      <td>[9]</td>\n",
       "      <td>9</td>\n",
       "      <td>[5]</td>\n",
       "      <td>5</td>\n",
       "      <td>0.000000</td>\n",
       "      <td>13</td>\n",
       "      <td>1</td>\n",
       "      <td>1</td>\n",
       "      <td>0</td>\n",
       "    </tr>\n",
       "    <tr>\n",
       "      <th>4</th>\n",
       "      <td>(Supplied by a Late Consumptive Usher to a Gra...</td>\n",
       "      <td>[8, 2, 1, 4, 11, 5, 2, 1, 7, 6, 3, 4, 5, 10, 2...</td>\n",
       "      <td>102</td>\n",
       "      <td>[2, 1, 1, 1, 3, 2, 1, 1, 2, 1, 1, 1, 2, 3, 1, ...</td>\n",
       "      <td>34</td>\n",
       "      <td>-0.255000</td>\n",
       "      <td>8</td>\n",
       "      <td>1</td>\n",
       "      <td>1</td>\n",
       "      <td>4</td>\n",
       "    </tr>\n",
       "  </tbody>\n",
       "</table>\n",
       "</div>"
      ],
      "text/plain": [
       "                                                   0  \\\n",
       "0  The proofreaders of this version are indebted ...   \n",
       "1  The resulting etext was compared with a public...   \n",
       "2  In chapters 24, 89, and 90, we substituted a c...   \n",
       "3                                         ETYMOLOGY.   \n",
       "4  (Supplied by a Late Consumptive Usher to a Gra...   \n",
       "\n",
       "                                          wrd_length  total_char  \\\n",
       "0  [3, 12, 2, 4, 7, 3, 8, 2, 3, 10, 2, 8, 7, 3, 1...         106   \n",
       "1      [3, 9, 5, 3, 8, 4, 1, 6, 6, 4, 4, 7, 2, 3, 4]          69   \n",
       "2  [2, 8, 2, 2, 3, 2, 2, 11, 1, 7, 1, 3, 3, 6, 3,...          86   \n",
       "3                                                [9]           9   \n",
       "4  [8, 2, 1, 4, 11, 5, 2, 1, 7, 6, 3, 4, 5, 10, 2...         102   \n",
       "\n",
       "                                           syl_count  syl_sum  sentiment  \\\n",
       "0  [1, 4, 1, 1, 2, 1, 2, 1, 1, 5, 1, 3, 3, 1, 3, ...       38   0.000000   \n",
       "1      [1, 3, 2, 1, 2, 1, 1, 2, 2, 1, 2, 2, 1, 1, 1]       23  -0.145833   \n",
       "2  [1, 2, 0, 0, 1, 0, 1, 3, 1, 3, 0, 1, 1, 2, 1, ...       28   0.000000   \n",
       "3                                                [5]        5   0.000000   \n",
       "4  [2, 1, 1, 1, 3, 2, 1, 1, 2, 1, 1, 1, 2, 3, 1, ...       34  -0.255000   \n",
       "\n",
       "   cluster_20  cluster_3_syl  cluster_3no_syl  cluster_5  \n",
       "0           5              1                1          2  \n",
       "1           8              1                1          0  \n",
       "2          12              1                1          0  \n",
       "3          13              1                1          0  \n",
       "4           8              1                1          4  "
      ]
     },
     "execution_count": 69,
     "metadata": {},
     "output_type": "execute_result"
    }
   ],
   "source": [
    "df_novel.head()"
   ]
  },
  {
   "cell_type": "markdown",
   "metadata": {},
   "source": [
    "Write files to csv"
   ]
  },
  {
   "cell_type": "code",
   "execution_count": 70,
   "metadata": {
    "collapsed": true
   },
   "outputs": [],
   "source": [
    "df_novel.to_csv('data/novel_'+novel_title+'.csv', index=False)"
   ]
  },
  {
   "cell_type": "code",
   "execution_count": 71,
   "metadata": {
    "collapsed": true
   },
   "outputs": [],
   "source": [
    "df_test = pd.read_csv('data/novel_'+novel_title+'.csv')"
   ]
  },
  {
   "cell_type": "code",
   "execution_count": 72,
   "metadata": {
    "collapsed": false
   },
   "outputs": [
    {
     "data": {
      "text/html": [
       "<div>\n",
       "<table border=\"1\" class=\"dataframe\">\n",
       "  <thead>\n",
       "    <tr style=\"text-align: right;\">\n",
       "      <th></th>\n",
       "      <th>0</th>\n",
       "      <th>wrd_length</th>\n",
       "      <th>total_char</th>\n",
       "      <th>syl_count</th>\n",
       "      <th>syl_sum</th>\n",
       "      <th>sentiment</th>\n",
       "      <th>cluster_20</th>\n",
       "      <th>cluster_3_syl</th>\n",
       "      <th>cluster_3no_syl</th>\n",
       "      <th>cluster_5</th>\n",
       "    </tr>\n",
       "  </thead>\n",
       "  <tbody>\n",
       "    <tr>\n",
       "      <th>0</th>\n",
       "      <td>The proofreaders of this version are indebted ...</td>\n",
       "      <td>[3, 12, 2, 4, 7, 3, 8, 2, 3, 10, 2, 8, 7, 3, 1...</td>\n",
       "      <td>106</td>\n",
       "      <td>[1 4 1 1 2 1 2 1 1 5 1 3 3 1 3 1 4 1 2]</td>\n",
       "      <td>38</td>\n",
       "      <td>0.000000</td>\n",
       "      <td>5</td>\n",
       "      <td>1</td>\n",
       "      <td>1</td>\n",
       "      <td>2</td>\n",
       "    </tr>\n",
       "    <tr>\n",
       "      <th>1</th>\n",
       "      <td>The resulting etext was compared with a public...</td>\n",
       "      <td>[3, 9, 5, 3, 8, 4, 1, 6, 6, 4, 4, 7, 2, 3, 4]</td>\n",
       "      <td>69</td>\n",
       "      <td>[1 3 2 1 2 1 1 2 2 1 2 2 1 1 1]</td>\n",
       "      <td>23</td>\n",
       "      <td>-0.145833</td>\n",
       "      <td>8</td>\n",
       "      <td>1</td>\n",
       "      <td>1</td>\n",
       "      <td>0</td>\n",
       "    </tr>\n",
       "    <tr>\n",
       "      <th>2</th>\n",
       "      <td>In chapters 24, 89, and 90, we substituted a c...</td>\n",
       "      <td>[2, 8, 2, 2, 3, 2, 2, 11, 1, 7, 1, 3, 3, 6, 3,...</td>\n",
       "      <td>86</td>\n",
       "      <td>[1 2 0 0 1 0 1 3 1 3 0 1 1 2 1 1 2 1 1 2 1 3]</td>\n",
       "      <td>28</td>\n",
       "      <td>0.000000</td>\n",
       "      <td>12</td>\n",
       "      <td>1</td>\n",
       "      <td>1</td>\n",
       "      <td>0</td>\n",
       "    </tr>\n",
       "    <tr>\n",
       "      <th>3</th>\n",
       "      <td>ETYMOLOGY.</td>\n",
       "      <td>[9]</td>\n",
       "      <td>9</td>\n",
       "      <td>[5]</td>\n",
       "      <td>5</td>\n",
       "      <td>0.000000</td>\n",
       "      <td>13</td>\n",
       "      <td>1</td>\n",
       "      <td>1</td>\n",
       "      <td>0</td>\n",
       "    </tr>\n",
       "    <tr>\n",
       "      <th>4</th>\n",
       "      <td>(Supplied by a Late Consumptive Usher to a Gra...</td>\n",
       "      <td>[8, 2, 1, 4, 11, 5, 2, 1, 7, 6, 3, 4, 5, 10, 2...</td>\n",
       "      <td>102</td>\n",
       "      <td>[2 1 1 1 3 2 1 1 2 1 1 1 2 3 1 1 2 2 1 1 1 1 1 1]</td>\n",
       "      <td>34</td>\n",
       "      <td>-0.255000</td>\n",
       "      <td>8</td>\n",
       "      <td>1</td>\n",
       "      <td>1</td>\n",
       "      <td>4</td>\n",
       "    </tr>\n",
       "  </tbody>\n",
       "</table>\n",
       "</div>"
      ],
      "text/plain": [
       "                                                   0  \\\n",
       "0  The proofreaders of this version are indebted ...   \n",
       "1  The resulting etext was compared with a public...   \n",
       "2  In chapters 24, 89, and 90, we substituted a c...   \n",
       "3                                         ETYMOLOGY.   \n",
       "4  (Supplied by a Late Consumptive Usher to a Gra...   \n",
       "\n",
       "                                          wrd_length  total_char  \\\n",
       "0  [3, 12, 2, 4, 7, 3, 8, 2, 3, 10, 2, 8, 7, 3, 1...         106   \n",
       "1      [3, 9, 5, 3, 8, 4, 1, 6, 6, 4, 4, 7, 2, 3, 4]          69   \n",
       "2  [2, 8, 2, 2, 3, 2, 2, 11, 1, 7, 1, 3, 3, 6, 3,...          86   \n",
       "3                                                [9]           9   \n",
       "4  [8, 2, 1, 4, 11, 5, 2, 1, 7, 6, 3, 4, 5, 10, 2...         102   \n",
       "\n",
       "                                           syl_count  syl_sum  sentiment  \\\n",
       "0            [1 4 1 1 2 1 2 1 1 5 1 3 3 1 3 1 4 1 2]       38   0.000000   \n",
       "1                    [1 3 2 1 2 1 1 2 2 1 2 2 1 1 1]       23  -0.145833   \n",
       "2      [1 2 0 0 1 0 1 3 1 3 0 1 1 2 1 1 2 1 1 2 1 3]       28   0.000000   \n",
       "3                                                [5]        5   0.000000   \n",
       "4  [2 1 1 1 3 2 1 1 2 1 1 1 2 3 1 1 2 2 1 1 1 1 1 1]       34  -0.255000   \n",
       "\n",
       "   cluster_20  cluster_3_syl  cluster_3no_syl  cluster_5  \n",
       "0           5              1                1          2  \n",
       "1           8              1                1          0  \n",
       "2          12              1                1          0  \n",
       "3          13              1                1          0  \n",
       "4           8              1                1          4  "
      ]
     },
     "execution_count": 72,
     "metadata": {},
     "output_type": "execute_result"
    }
   ],
   "source": [
    "df_test.head()"
   ]
  },
  {
   "cell_type": "markdown",
   "metadata": {},
   "source": [
    "Find ideal amount of clusters for novel"
   ]
  },
  {
   "cell_type": "raw",
   "metadata": {},
   "source": [
    "from sklearn import metrics\n",
    "metrics.silhouette_score(X_scaled, km.labels_)"
   ]
  },
  {
   "cell_type": "raw",
   "metadata": {},
   "source": [
    "k_range = range(2,150)\n",
    "scores = []\n",
    "for k in k_range:\n",
    "    km = KMeans(n_clusters=k, random_state=1)\n",
    "    km.fit(X_scaled)\n",
    "    scores.append(metrics.silhouette_score(X_scaled, km.labels_))"
   ]
  },
  {
   "cell_type": "raw",
   "metadata": {},
   "source": [
    "plt.plot(k_range, scores)\n",
    "plt.xlabel('Number of clusters')\n",
    "plt.ylabel('Silihouette Coefficient')\n",
    "plt.grid(True)"
   ]
  },
  {
   "cell_type": "markdown",
   "metadata": {},
   "source": [
    "Find Sentiment Pattern "
   ]
  },
  {
   "cell_type": "markdown",
   "metadata": {},
   "source": [
    "20 pieces"
   ]
  },
  {
   "cell_type": "code",
   "execution_count": 73,
   "metadata": {
    "collapsed": false
   },
   "outputs": [
    {
     "data": {
      "text/html": [
       "<div>\n",
       "<table border=\"1\" class=\"dataframe\">\n",
       "  <thead>\n",
       "    <tr style=\"text-align: right;\">\n",
       "      <th></th>\n",
       "      <th>0</th>\n",
       "      <th>wrd_length</th>\n",
       "      <th>total_char</th>\n",
       "      <th>syl_count</th>\n",
       "      <th>syl_sum</th>\n",
       "      <th>sentiment</th>\n",
       "      <th>cluster_20</th>\n",
       "      <th>cluster_3_syl</th>\n",
       "      <th>cluster_3no_syl</th>\n",
       "      <th>cluster_5</th>\n",
       "    </tr>\n",
       "  </thead>\n",
       "  <tbody>\n",
       "    <tr>\n",
       "      <th>9975</th>\n",
       "      <td>Till, gaining that vital centre, the black bub...</td>\n",
       "      <td>[4, 7, 4, 5, 6, 3, 5, 6, 6, 5, 3, 3, 9, 2, 6, ...</td>\n",
       "      <td>206</td>\n",
       "      <td>[1, 2, 1, 2, 1, 1, 1, 1, 2, 1, 1, 1, 3, 1, 3, ...</td>\n",
       "      <td>64</td>\n",
       "      <td>0.306667</td>\n",
       "      <td>1</td>\n",
       "      <td>2</td>\n",
       "      <td>2</td>\n",
       "      <td>2</td>\n",
       "    </tr>\n",
       "    <tr>\n",
       "      <th>9976</th>\n",
       "      <td>Buoyed up by that coffin, for almost one whole...</td>\n",
       "      <td>[6, 2, 2, 4, 6, 3, 6, 3, 5, 3, 3, 5, 1, 7, 2, ...</td>\n",
       "      <td>79</td>\n",
       "      <td>[0, 1, 1, 1, 2, 1, 2, 1, 1, 1, 1, 1, 1, 1, 1, ...</td>\n",
       "      <td>23</td>\n",
       "      <td>0.155556</td>\n",
       "      <td>14</td>\n",
       "      <td>1</td>\n",
       "      <td>1</td>\n",
       "      <td>0</td>\n",
       "    </tr>\n",
       "    <tr>\n",
       "      <th>9977</th>\n",
       "      <td>The unharming sharks, they glided by as if wit...</td>\n",
       "      <td>[3, 9, 6, 4, 6, 2, 2, 2, 4, 8, 2, 5, 6, 3, 6, ...</td>\n",
       "      <td>100</td>\n",
       "      <td>[1, 3, 1, 1, 1, 1, 1, 1, 1, 2, 1, 1, 1, 1, 2, ...</td>\n",
       "      <td>28</td>\n",
       "      <td>0.000000</td>\n",
       "      <td>12</td>\n",
       "      <td>1</td>\n",
       "      <td>1</td>\n",
       "      <td>0</td>\n",
       "    </tr>\n",
       "    <tr>\n",
       "      <th>9978</th>\n",
       "      <td>On the second day, a sail drew near, nearer, a...</td>\n",
       "      <td>[2, 3, 6, 3, 1, 4, 4, 4, 6, 3, 6, 2, 2, 2, 4]</td>\n",
       "      <td>52</td>\n",
       "      <td>[1, 1, 2, 1, 1, 1, 1, 2, 3, 1, 1, 1, 1, 1, 1]</td>\n",
       "      <td>19</td>\n",
       "      <td>0.033333</td>\n",
       "      <td>0</td>\n",
       "      <td>1</td>\n",
       "      <td>1</td>\n",
       "      <td>0</td>\n",
       "    </tr>\n",
       "    <tr>\n",
       "      <th>9979</th>\n",
       "      <td>It was the devious-cruising Rachel, that in he...</td>\n",
       "      <td>[2, 3, 3, 16, 6, 4, 2, 3, 9, 6, 5, 3, 7, 8, 4,...</td>\n",
       "      <td>99</td>\n",
       "      <td>[1, 1, 1, 4, 2, 1, 1, 1, 3, 2, 2, 1, 2, 2, 2, ...</td>\n",
       "      <td>32</td>\n",
       "      <td>-0.100000</td>\n",
       "      <td>12</td>\n",
       "      <td>1</td>\n",
       "      <td>1</td>\n",
       "      <td>0</td>\n",
       "    </tr>\n",
       "  </tbody>\n",
       "</table>\n",
       "</div>"
      ],
      "text/plain": [
       "                                                      0  \\\n",
       "9975  Till, gaining that vital centre, the black bub...   \n",
       "9976  Buoyed up by that coffin, for almost one whole...   \n",
       "9977  The unharming sharks, they glided by as if wit...   \n",
       "9978  On the second day, a sail drew near, nearer, a...   \n",
       "9979  It was the devious-cruising Rachel, that in he...   \n",
       "\n",
       "                                             wrd_length  total_char  \\\n",
       "9975  [4, 7, 4, 5, 6, 3, 5, 6, 6, 5, 3, 3, 9, 2, 6, ...         206   \n",
       "9976  [6, 2, 2, 4, 6, 3, 6, 3, 5, 3, 3, 5, 1, 7, 2, ...          79   \n",
       "9977  [3, 9, 6, 4, 6, 2, 2, 2, 4, 8, 2, 5, 6, 3, 6, ...         100   \n",
       "9978      [2, 3, 6, 3, 1, 4, 4, 4, 6, 3, 6, 2, 2, 2, 4]          52   \n",
       "9979  [2, 3, 3, 16, 6, 4, 2, 3, 9, 6, 5, 3, 7, 8, 4,...          99   \n",
       "\n",
       "                                              syl_count  syl_sum  sentiment  \\\n",
       "9975  [1, 2, 1, 2, 1, 1, 1, 1, 2, 1, 1, 1, 3, 1, 3, ...       64   0.306667   \n",
       "9976  [0, 1, 1, 1, 2, 1, 2, 1, 1, 1, 1, 1, 1, 1, 1, ...       23   0.155556   \n",
       "9977  [1, 3, 1, 1, 1, 1, 1, 1, 1, 2, 1, 1, 1, 1, 2, ...       28   0.000000   \n",
       "9978      [1, 1, 2, 1, 1, 1, 1, 2, 3, 1, 1, 1, 1, 1, 1]       19   0.033333   \n",
       "9979  [1, 1, 1, 4, 2, 1, 1, 1, 3, 2, 2, 1, 2, 2, 2, ...       32  -0.100000   \n",
       "\n",
       "      cluster_20  cluster_3_syl  cluster_3no_syl  cluster_5  \n",
       "9975           1              2                2          2  \n",
       "9976          14              1                1          0  \n",
       "9977          12              1                1          0  \n",
       "9978           0              1                1          0  \n",
       "9979          12              1                1          0  "
      ]
     },
     "execution_count": 73,
     "metadata": {},
     "output_type": "execute_result"
    }
   ],
   "source": [
    "df_novel.tail()"
   ]
  },
  {
   "cell_type": "code",
   "execution_count": 74,
   "metadata": {
    "collapsed": false
   },
   "outputs": [
    {
     "data": {
      "text/plain": [
       "958150"
      ]
     },
     "execution_count": 74,
     "metadata": {},
     "output_type": "execute_result"
    }
   ],
   "source": [
    "df_novel['total_char'].sum()"
   ]
  },
  {
   "cell_type": "code",
   "execution_count": 75,
   "metadata": {
    "collapsed": false
   },
   "outputs": [],
   "source": [
    "t = 0\n",
    "x = 0\n",
    "ratio = (df_novel['total_char'].sum()/20) - (.06 * (int(len(df_novel) - 1)))\n",
    "# or figure out some better code. \n",
    "def find_this(t, x):\n",
    "    w = 0    \n",
    "    sent_stop = []\n",
    "    while w <= ratio:\n",
    "        w = df_novel['total_char'][t:x].sum()\n",
    "        sent_stop.append(x)\n",
    "        x += 1\n",
    "    return max(sent_stop)     "
   ]
  },
  {
   "cell_type": "code",
   "execution_count": 76,
   "metadata": {
    "collapsed": false
   },
   "outputs": [
    {
     "name": "stdout",
     "output_type": "stream",
     "text": [
      "df_novel['total_char'][0:594]\n",
      "df_novel['total_char'][594:1066]\n",
      "df_novel['total_char'][1066:1523]\n",
      "df_novel['total_char'][1523:2111]\n",
      "df_novel['total_char'][2111:2604]\n",
      "df_novel['total_char'][2604:3049]\n",
      "df_novel['total_char'][3049:3722]\n",
      "df_novel['total_char'][3722:4111]\n",
      "df_novel['total_char'][4111:4486]\n",
      "df_novel['total_char'][4486:4925]\n",
      "df_novel['total_char'][4925:5372]\n",
      "df_novel['total_char'][5372:5847]\n",
      "df_novel['total_char'][5847:6286]\n",
      "df_novel['total_char'][6286:6651]\n",
      "df_novel['total_char'][6651:7092]\n",
      "df_novel['total_char'][7092:7630]\n",
      "df_novel['total_char'][7630:8082]\n",
      "df_novel['total_char'][8082:8581]\n",
      "df_novel['total_char'][8581:9260]\n",
      "df_novel['total_char'][9260:9855]\n"
     ]
    }
   ],
   "source": [
    "t = 0\n",
    "x = 0\n",
    "start_point = []\n",
    "stop_point = []\n",
    "for n in range(1, 21):\n",
    "    s = find_this(t, x)\n",
    "    print \"df_novel['total_char'][%s:%s]\" %(t, s)\n",
    "    start_point.append(t)\n",
    "    stop_point.append(s)\n",
    "    t = s\n",
    "    x = s + 1      "
   ]
  },
  {
   "cell_type": "code",
   "execution_count": 77,
   "metadata": {
    "collapsed": false
   },
   "outputs": [
    {
     "name": "stdout",
     "output_type": "stream",
     "text": [
      "0\n",
      "594\n",
      "0.0574129498448\n",
      "594\n",
      "1066\n",
      "0.0530467527178\n",
      "1066\n",
      "1523\n",
      "0.0791017607445\n",
      "1523\n",
      "2111\n",
      "0.0327304807085\n",
      "2111\n",
      "2604\n",
      "0.0801761709182\n",
      "2604\n",
      "3049\n",
      "0.0609483254891\n",
      "3049\n",
      "3722\n",
      "0.0276241423755\n",
      "3722\n",
      "4111\n",
      "0.0562068100968\n",
      "4111\n",
      "4486\n",
      "0.0532067999619\n",
      "4486\n",
      "4925\n",
      "0.0774542793151\n",
      "4925\n",
      "5372\n",
      "0.0538118949588\n",
      "5372\n",
      "5847\n",
      "0.0494604370775\n",
      "5847\n",
      "6286\n",
      "0.0502416569675\n",
      "6286\n",
      "6651\n",
      "0.0801395796362\n",
      "6651\n",
      "7092\n",
      "0.0326127191025\n",
      "7092\n",
      "7630\n",
      "0.0542611357282\n",
      "7630\n",
      "8082\n",
      "0.0524380119021\n",
      "8082\n",
      "8581\n",
      "0.0271542642209\n",
      "8581\n",
      "9260\n",
      "0.0292053904305\n",
      "9260\n",
      "9855\n",
      "0.0405646104818\n"
     ]
    }
   ],
   "source": [
    "twenty_piece_char = []\n",
    "st = 0\n",
    "for l in start_point: \n",
    "    strt = start_point[st]\n",
    "    stp = stop_point[st]\n",
    "    print strt\n",
    "    print stp\n",
    "    mn = df_novel['sentiment'][strt:stp].mean()\n",
    "    twenty_piece_char.append(mn)\n",
    "    print mn\n",
    "    st +=1   "
   ]
  },
  {
   "cell_type": "code",
   "execution_count": 78,
   "metadata": {
    "collapsed": false
   },
   "outputs": [
    {
     "name": "stdout",
     "output_type": "stream",
     "text": [
      "[ 0.05741295  0.05304675  0.07910176  0.03273048  0.08017617  0.06094833\n",
      "  0.02762414  0.05620681  0.0532068   0.07745428  0.05381189  0.04946044\n",
      "  0.05024166  0.08013958  0.03261272  0.05426114  0.05243801  0.02715426\n",
      "  0.02920539  0.04056461]\n"
     ]
    }
   ],
   "source": [
    "n = np.array(n)\n",
    "twenty_piece_char = np.array(twenty_piece_char)\n",
    "print twenty_piece_char"
   ]
  },
  {
   "cell_type": "code",
   "execution_count": 79,
   "metadata": {
    "collapsed": false
   },
   "outputs": [
    {
     "data": {
      "image/png": "[encoded data removed]",
      "text/plain": [
       "<matplotlib.figure.Figure at 0x1204f5750>"
      ]
     },
     "metadata": {},
     "output_type": "display_data"
    }
   ],
   "source": [
    "plt.bar(range(20), twenty_piece_char)\n",
    "plt.ylabel('sentiment')\n",
    "plt.show()"
   ]
  },
  {
   "cell_type": "markdown",
   "metadata": {},
   "source": [
    "Create 3 piece sentiment pattern - need to fix this code for the three piece"
   ]
  },
  {
   "cell_type": "code",
   "execution_count": 80,
   "metadata": {
    "collapsed": false
   },
   "outputs": [
    {
     "data": {
      "text/html": [
       "<div>\n",
       "<table border=\"1\" class=\"dataframe\">\n",
       "  <thead>\n",
       "    <tr style=\"text-align: right;\">\n",
       "      <th></th>\n",
       "      <th>0</th>\n",
       "      <th>wrd_length</th>\n",
       "      <th>total_char</th>\n",
       "      <th>syl_count</th>\n",
       "      <th>syl_sum</th>\n",
       "      <th>sentiment</th>\n",
       "      <th>cluster_20</th>\n",
       "      <th>cluster_3_syl</th>\n",
       "      <th>cluster_3no_syl</th>\n",
       "      <th>cluster_5</th>\n",
       "    </tr>\n",
       "  </thead>\n",
       "  <tbody>\n",
       "    <tr>\n",
       "      <th>9975</th>\n",
       "      <td>Till, gaining that vital centre, the black bub...</td>\n",
       "      <td>[4, 7, 4, 5, 6, 3, 5, 6, 6, 5, 3, 3, 9, 2, 6, ...</td>\n",
       "      <td>206</td>\n",
       "      <td>[1, 2, 1, 2, 1, 1, 1, 1, 2, 1, 1, 1, 3, 1, 3, ...</td>\n",
       "      <td>64</td>\n",
       "      <td>0.306667</td>\n",
       "      <td>1</td>\n",
       "      <td>2</td>\n",
       "      <td>2</td>\n",
       "      <td>2</td>\n",
       "    </tr>\n",
       "    <tr>\n",
       "      <th>9976</th>\n",
       "      <td>Buoyed up by that coffin, for almost one whole...</td>\n",
       "      <td>[6, 2, 2, 4, 6, 3, 6, 3, 5, 3, 3, 5, 1, 7, 2, ...</td>\n",
       "      <td>79</td>\n",
       "      <td>[0, 1, 1, 1, 2, 1, 2, 1, 1, 1, 1, 1, 1, 1, 1, ...</td>\n",
       "      <td>23</td>\n",
       "      <td>0.155556</td>\n",
       "      <td>14</td>\n",
       "      <td>1</td>\n",
       "      <td>1</td>\n",
       "      <td>0</td>\n",
       "    </tr>\n",
       "    <tr>\n",
       "      <th>9977</th>\n",
       "      <td>The unharming sharks, they glided by as if wit...</td>\n",
       "      <td>[3, 9, 6, 4, 6, 2, 2, 2, 4, 8, 2, 5, 6, 3, 6, ...</td>\n",
       "      <td>100</td>\n",
       "      <td>[1, 3, 1, 1, 1, 1, 1, 1, 1, 2, 1, 1, 1, 1, 2, ...</td>\n",
       "      <td>28</td>\n",
       "      <td>0.000000</td>\n",
       "      <td>12</td>\n",
       "      <td>1</td>\n",
       "      <td>1</td>\n",
       "      <td>0</td>\n",
       "    </tr>\n",
       "    <tr>\n",
       "      <th>9978</th>\n",
       "      <td>On the second day, a sail drew near, nearer, a...</td>\n",
       "      <td>[2, 3, 6, 3, 1, 4, 4, 4, 6, 3, 6, 2, 2, 2, 4]</td>\n",
       "      <td>52</td>\n",
       "      <td>[1, 1, 2, 1, 1, 1, 1, 2, 3, 1, 1, 1, 1, 1, 1]</td>\n",
       "      <td>19</td>\n",
       "      <td>0.033333</td>\n",
       "      <td>0</td>\n",
       "      <td>1</td>\n",
       "      <td>1</td>\n",
       "      <td>0</td>\n",
       "    </tr>\n",
       "    <tr>\n",
       "      <th>9979</th>\n",
       "      <td>It was the devious-cruising Rachel, that in he...</td>\n",
       "      <td>[2, 3, 3, 16, 6, 4, 2, 3, 9, 6, 5, 3, 7, 8, 4,...</td>\n",
       "      <td>99</td>\n",
       "      <td>[1, 1, 1, 4, 2, 1, 1, 1, 3, 2, 2, 1, 2, 2, 2, ...</td>\n",
       "      <td>32</td>\n",
       "      <td>-0.100000</td>\n",
       "      <td>12</td>\n",
       "      <td>1</td>\n",
       "      <td>1</td>\n",
       "      <td>0</td>\n",
       "    </tr>\n",
       "  </tbody>\n",
       "</table>\n",
       "</div>"
      ],
      "text/plain": [
       "                                                      0  \\\n",
       "9975  Till, gaining that vital centre, the black bub...   \n",
       "9976  Buoyed up by that coffin, for almost one whole...   \n",
       "9977  The unharming sharks, they glided by as if wit...   \n",
       "9978  On the second day, a sail drew near, nearer, a...   \n",
       "9979  It was the devious-cruising Rachel, that in he...   \n",
       "\n",
       "                                             wrd_length  total_char  \\\n",
       "9975  [4, 7, 4, 5, 6, 3, 5, 6, 6, 5, 3, 3, 9, 2, 6, ...         206   \n",
       "9976  [6, 2, 2, 4, 6, 3, 6, 3, 5, 3, 3, 5, 1, 7, 2, ...          79   \n",
       "9977  [3, 9, 6, 4, 6, 2, 2, 2, 4, 8, 2, 5, 6, 3, 6, ...         100   \n",
       "9978      [2, 3, 6, 3, 1, 4, 4, 4, 6, 3, 6, 2, 2, 2, 4]          52   \n",
       "9979  [2, 3, 3, 16, 6, 4, 2, 3, 9, 6, 5, 3, 7, 8, 4,...          99   \n",
       "\n",
       "                                              syl_count  syl_sum  sentiment  \\\n",
       "9975  [1, 2, 1, 2, 1, 1, 1, 1, 2, 1, 1, 1, 3, 1, 3, ...       64   0.306667   \n",
       "9976  [0, 1, 1, 1, 2, 1, 2, 1, 1, 1, 1, 1, 1, 1, 1, ...       23   0.155556   \n",
       "9977  [1, 3, 1, 1, 1, 1, 1, 1, 1, 2, 1, 1, 1, 1, 2, ...       28   0.000000   \n",
       "9978      [1, 1, 2, 1, 1, 1, 1, 2, 3, 1, 1, 1, 1, 1, 1]       19   0.033333   \n",
       "9979  [1, 1, 1, 4, 2, 1, 1, 1, 3, 2, 2, 1, 2, 2, 2, ...       32  -0.100000   \n",
       "\n",
       "      cluster_20  cluster_3_syl  cluster_3no_syl  cluster_5  \n",
       "9975           1              2                2          2  \n",
       "9976          14              1                1          0  \n",
       "9977          12              1                1          0  \n",
       "9978           0              1                1          0  \n",
       "9979          12              1                1          0  "
      ]
     },
     "execution_count": 80,
     "metadata": {},
     "output_type": "execute_result"
    }
   ],
   "source": [
    "df_novel.tail()"
   ]
  },
  {
   "cell_type": "code",
   "execution_count": 81,
   "metadata": {
    "collapsed": true
   },
   "outputs": [],
   "source": [
    "t = 0\n",
    "x = 0\n",
    "ratio = (df_novel['total_char'].sum()/3) - (.06 * (int(len(df_novel) - 1)))\n",
    "def find_this(t, x):\n",
    "    w = 0    \n",
    "    sent_stop = []\n",
    "    while w < ratio:\n",
    "        w = df_novel['total_char'][t:x].sum()\n",
    "        sent_stop.append(x)\n",
    "        x += 1\n",
    "    return max(sent_stop)  "
   ]
  },
  {
   "cell_type": "code",
   "execution_count": 82,
   "metadata": {
    "collapsed": false
   },
   "outputs": [
    {
     "name": "stdout",
     "output_type": "stream",
     "text": [
      "df_novel['total_char'][0:3639]\n",
      "df_novel['total_char'][3639:6461]\n",
      "df_novel['total_char'][6461:9967]\n"
     ]
    }
   ],
   "source": [
    "t = 0\n",
    "x = 0\n",
    "start_point = []\n",
    "stop_point = []\n",
    "for n in range(0, 3):\n",
    "    s = find_this(t, x)\n",
    "    print \"df_novel['total_char'][%s:%s]\" %(t, s)\n",
    "    start_point.append(t)\n",
    "    stop_point.append(s)\n",
    "    t = s\n",
    "    x = s + 1  "
   ]
  },
  {
   "cell_type": "code",
   "execution_count": 83,
   "metadata": {
    "collapsed": false
   },
   "outputs": [
    {
     "name": "stdout",
     "output_type": "stream",
     "text": [
      "0\n",
      "3639\n",
      "0.0541992928233\n",
      "3639\n",
      "6461\n",
      "0.0587585250606\n",
      "6461\n",
      "9967\n",
      "0.0398942047144\n"
     ]
    }
   ],
   "source": [
    "three_piece_char = []\n",
    "st = 0\n",
    "for l in start_point: \n",
    "    strt = start_point[st]\n",
    "    stp = stop_point[st]\n",
    "    print strt\n",
    "    print stp\n",
    "    mn = df_novel['sentiment'][strt:stp].mean()\n",
    "    three_piece_char.append(mn)\n",
    "    print mn\n",
    "    st +=1"
   ]
  },
  {
   "cell_type": "code",
   "execution_count": 84,
   "metadata": {
    "collapsed": false
   },
   "outputs": [
    {
     "name": "stdout",
     "output_type": "stream",
     "text": [
      "[ 0.05419929  0.05875853  0.0398942 ]\n"
     ]
    }
   ],
   "source": [
    "n = np.array(n)\n",
    "three_piece_char = np.array(three_piece_char)\n",
    "print three_piece_char"
   ]
  },
  {
   "cell_type": "code",
   "execution_count": 85,
   "metadata": {
    "collapsed": false
   },
   "outputs": [
    {
     "data": {
      "image/png": "[encoded data removed]",
      "text/plain": [
       "<matplotlib.figure.Figure at 0x120d6f750>"
      ]
     },
     "metadata": {},
     "output_type": "display_data"
    }
   ],
   "source": [
    "plt.bar(range(3), three_piece_char)\n",
    "plt.ylabel('sentiment')\n",
    "plt.show()"
   ]
  },
  {
   "cell_type": "markdown",
   "metadata": {},
   "source": [
    "Create sentiment pattern based on ideal cluster numbers"
   ]
  }
 ],
 "metadata": {
  "kernelspec": {
   "display_name": "Python 2",
   "language": "python",
   "name": "python2"
  },
  "language_info": {
   "codemirror_mode": {
    "name": "ipython",
    "version": 2
   },
   "file_extension": ".py",
   "mimetype": "text/x-python",
   "name": "python",
   "nbconvert_exporter": "python",
   "pygments_lexer": "ipython2",
   "version": "2.7.11"
  }
 },
 "nbformat": 4,
 "nbformat_minor": 0
}
