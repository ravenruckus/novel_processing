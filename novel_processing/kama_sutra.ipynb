{
 "cells": [
  {
   "cell_type": "code",
   "execution_count": 1,
   "metadata": {
    "collapsed": true
   },
   "outputs": [],
   "source": [
    "import pandas as pd\n",
    "from textblob import TextBlob\n",
    "import csv\n",
    "from gutenberg.acquire import load_etext\n",
    "from gutenberg.cleanup import strip_headers\n",
    "import os\n",
    "import numpy as np"
   ]
  },
  {
   "cell_type": "code",
   "execution_count": 2,
   "metadata": {
    "collapsed": true
   },
   "outputs": [],
   "source": [
    "import seaborn as sns\n",
    "import matplotlib.pyplot as plt\n",
    "%matplotlib inline\n",
    "plt.rcParams['figure.figsize'] = (8, 6)\n",
    "plt.rcParams['font.size'] = 14"
   ]
  },
  {
   "cell_type": "markdown",
   "metadata": {},
   "source": [
    "Create the novel variables"
   ]
  },
  {
   "cell_type": "code",
   "execution_count": 3,
   "metadata": {
    "collapsed": true
   },
   "outputs": [],
   "source": [
    "n =  27827 #novel number\n",
    "t = 'kama_sutra'#novel name\n",
    "s = 1 #how many rows to skip"
   ]
  },
  {
   "cell_type": "markdown",
   "metadata": {},
   "source": [
    "* Get the novels from Gutenberg.\n",
    "* Strip them of unwanted information.\n",
    "* Tokenize the text into sentences."
   ]
  },
  {
   "cell_type": "code",
   "execution_count": 4,
   "metadata": {
    "collapsed": true
   },
   "outputs": [],
   "source": [
    "novel = strip_headers(load_etext(n))\n",
    "novel = novel.replace('\\n', ' ')\n",
    "novel= TextBlob(novel)\n",
    "novel_sentences = novel.sentences\n",
    "novel_title = t"
   ]
  },
  {
   "cell_type": "markdown",
   "metadata": {},
   "source": [
    "Write the sentences to a csv file. \n",
    "-There is a bug I haven't figure out yet that requires me to write to csv twice to avoid errors."
   ]
  },
  {
   "cell_type": "code",
   "execution_count": 5,
   "metadata": {
    "collapsed": true
   },
   "outputs": [],
   "source": [
    "for l in range(2):\n",
    "    novelWriter = csv.writer(open('data/novel_'+novel_title+'.csv', 'w'), delimiter=',')\n",
    "    for sentence in novel_sentences:\n",
    "        novelWriter.writerow([sentence])"
   ]
  },
  {
   "cell_type": "markdown",
   "metadata": {},
   "source": [
    "Read in the csv file to pandas"
   ]
  },
  {
   "cell_type": "code",
   "execution_count": 6,
   "metadata": {
    "collapsed": true
   },
   "outputs": [],
   "source": [
    "df_novel = pd.read_csv('data/novel_'+novel_title+'.csv', skiprows = s, header=None)"
   ]
  },
  {
   "cell_type": "code",
   "execution_count": 8,
   "metadata": {
    "collapsed": false
   },
   "outputs": [
    {
     "data": {
      "text/html": [
       "<div>\n",
       "<table border=\"1\" class=\"dataframe\">\n",
       "  <thead>\n",
       "    <tr style=\"text-align: right;\">\n",
       "      <th></th>\n",
       "      <th>0</th>\n",
       "    </tr>\n",
       "  </thead>\n",
       "  <tbody>\n",
       "    <tr>\n",
       "      <th>0</th>\n",
       "      <td>Printer errors have been changed and are liste...</td>\n",
       "    </tr>\n",
       "    <tr>\n",
       "      <th>1</th>\n",
       "      <td>THE     KAMA SUTRA     OF     VATSYAYANA.</td>\n",
       "    </tr>\n",
       "    <tr>\n",
       "      <th>2</th>\n",
       "      <td>TRANSLATED FROM THE SANSCRIT.</td>\n",
       "    </tr>\n",
       "    <tr>\n",
       "      <th>3</th>\n",
       "      <td>IN SEVEN PARTS,     WITH     PREFACE, INTRODUC...</td>\n",
       "    </tr>\n",
       "    <tr>\n",
       "      <th>4</th>\n",
       "      <td>Reprint:     _Cosmopoli: MDCCCLXXXIII: for the...</td>\n",
       "    </tr>\n",
       "  </tbody>\n",
       "</table>\n",
       "</div>"
      ],
      "text/plain": [
       "                                                   0\n",
       "0  Printer errors have been changed and are liste...\n",
       "1          THE     KAMA SUTRA     OF     VATSYAYANA.\n",
       "2                      TRANSLATED FROM THE SANSCRIT.\n",
       "3  IN SEVEN PARTS,     WITH     PREFACE, INTRODUC...\n",
       "4  Reprint:     _Cosmopoli: MDCCCLXXXIII: for the..."
      ]
     },
     "execution_count": 8,
     "metadata": {},
     "output_type": "execute_result"
    }
   ],
   "source": [
    "df_novel.head()"
   ]
  },
  {
   "cell_type": "markdown",
   "metadata": {},
   "source": [
    "Create the wrd_length and total_char columns."
   ]
  },
  {
   "cell_type": "code",
   "execution_count": 9,
   "metadata": {
    "collapsed": true
   },
   "outputs": [],
   "source": [
    "wrd_length = []\n",
    "total_char = []\n",
    "def wrd_char_counts(sentence):\n",
    "    total_chars = 0\n",
    "    wrd_counts = []\n",
    "    for word in sentence:\n",
    "        char_count = len(word)\n",
    "        wrd_counts.append(char_count)\n",
    "        total_chars += char_count\n",
    "    total_char.append(total_chars)\n",
    "    wrd_length.append(wrd_counts)"
   ]
  },
  {
   "cell_type": "code",
   "execution_count": 10,
   "metadata": {
    "collapsed": true
   },
   "outputs": [],
   "source": [
    "for l in df_novel[0]:\n",
    "    sent = TextBlob(l)\n",
    "    wrd_char_counts(sent.words)"
   ]
  },
  {
   "cell_type": "code",
   "execution_count": 11,
   "metadata": {
    "collapsed": true
   },
   "outputs": [],
   "source": [
    "df_novel['wrd_length'] = wrd_length\n",
    "df_novel['total_char'] = total_char"
   ]
  },
  {
   "cell_type": "code",
   "execution_count": 12,
   "metadata": {
    "collapsed": false
   },
   "outputs": [
    {
     "data": {
      "text/html": [
       "<div>\n",
       "<table border=\"1\" class=\"dataframe\">\n",
       "  <thead>\n",
       "    <tr style=\"text-align: right;\">\n",
       "      <th></th>\n",
       "      <th>0</th>\n",
       "      <th>wrd_length</th>\n",
       "      <th>total_char</th>\n",
       "    </tr>\n",
       "  </thead>\n",
       "  <tbody>\n",
       "    <tr>\n",
       "      <th>0</th>\n",
       "      <td>Printer errors have been changed and are liste...</td>\n",
       "      <td>[7, 6, 4, 4, 7, 3, 3, 6, 2, 3, 3]</td>\n",
       "      <td>48</td>\n",
       "    </tr>\n",
       "    <tr>\n",
       "      <th>1</th>\n",
       "      <td>THE     KAMA SUTRA     OF     VATSYAYANA.</td>\n",
       "      <td>[3, 4, 5, 2, 10]</td>\n",
       "      <td>24</td>\n",
       "    </tr>\n",
       "    <tr>\n",
       "      <th>2</th>\n",
       "      <td>TRANSLATED FROM THE SANSCRIT.</td>\n",
       "      <td>[10, 4, 3, 8]</td>\n",
       "      <td>25</td>\n",
       "    </tr>\n",
       "    <tr>\n",
       "      <th>3</th>\n",
       "      <td>IN SEVEN PARTS,     WITH     PREFACE, INTRODUC...</td>\n",
       "      <td>[2, 5, 5, 4, 7, 12, 3, 10, 7]</td>\n",
       "      <td>55</td>\n",
       "    </tr>\n",
       "    <tr>\n",
       "      <th>4</th>\n",
       "      <td>Reprint:     _Cosmopoli: MDCCCLXXXIII: for the...</td>\n",
       "      <td>[7, 9, 12, 3, 3, 4, 7, 7, 2, 6, 3, 7, 3, 3, 7,...</td>\n",
       "      <td>216</td>\n",
       "    </tr>\n",
       "  </tbody>\n",
       "</table>\n",
       "</div>"
      ],
      "text/plain": [
       "                                                   0  \\\n",
       "0  Printer errors have been changed and are liste...   \n",
       "1          THE     KAMA SUTRA     OF     VATSYAYANA.   \n",
       "2                      TRANSLATED FROM THE SANSCRIT.   \n",
       "3  IN SEVEN PARTS,     WITH     PREFACE, INTRODUC...   \n",
       "4  Reprint:     _Cosmopoli: MDCCCLXXXIII: for the...   \n",
       "\n",
       "                                          wrd_length  total_char  \n",
       "0                  [7, 6, 4, 4, 7, 3, 3, 6, 2, 3, 3]          48  \n",
       "1                                   [3, 4, 5, 2, 10]          24  \n",
       "2                                      [10, 4, 3, 8]          25  \n",
       "3                      [2, 5, 5, 4, 7, 12, 3, 10, 7]          55  \n",
       "4  [7, 9, 12, 3, 3, 4, 7, 7, 2, 6, 3, 7, 3, 3, 7,...         216  "
      ]
     },
     "execution_count": 12,
     "metadata": {},
     "output_type": "execute_result"
    }
   ],
   "source": [
    "df_novel.head()"
   ]
  },
  {
   "cell_type": "markdown",
   "metadata": {},
   "source": [
    "Create syllable count column"
   ]
  },
  {
   "cell_type": "code",
   "execution_count": 13,
   "metadata": {
    "collapsed": true
   },
   "outputs": [],
   "source": [
    "def CountSyllables(word, isName=True):\n",
    "    vowels = \"aeiouy\"\n",
    "    #single syllables in words like bread and lead, but split in names like Breanne and Adreann\n",
    "    specials = [\"ia\",\"ea\"] if isName else [\"ia\"]\n",
    "    specials_except_end = [\"ie\",\"ya\",\"es\",\"ed\"]  #seperate syllables unless ending the word\n",
    "    currentWord = word.lower()\n",
    "    numVowels = 0\n",
    "    lastWasVowel = False\n",
    "    last_letter = \"\"\n",
    "\n",
    "    for letter in currentWord:\n",
    "        if letter in vowels:\n",
    "            #don't count diphthongs unless special cases\n",
    "            combo = last_letter+letter\n",
    "            if lastWasVowel and combo not in specials and combo not in specials_except_end:\n",
    "                lastWasVowel = True\n",
    "            else:\n",
    "                numVowels += 1\n",
    "                lastWasVowel = True\n",
    "        else:\n",
    "            lastWasVowel = False\n",
    "\n",
    "        last_letter = letter\n",
    "\n",
    "    #remove es & ed which are usually silent\n",
    "    if len(currentWord) > 2 and currentWord[-2:] in specials_except_end:\n",
    "        numVowels -= 1\n",
    "\n",
    "    #remove silent single e, but not ee since it counted it before and we should be correct\n",
    "    elif len(currentWord) > 2 and currentWord[-1:] == \"e\" and currentWord[-2:] != \"ee\" and currentWord != 'the':\n",
    "        numVowels -= 1\n",
    "\n",
    "    return numVowels"
   ]
  },
  {
   "cell_type": "code",
   "execution_count": 14,
   "metadata": {
    "collapsed": true
   },
   "outputs": [],
   "source": [
    "syl = []\n",
    "for l in df_novel[0]:\n",
    "    sent = TextBlob(l)\n",
    "    syl_single = []\n",
    "    for x in sent.words:\n",
    "        m = CountSyllables(x)\n",
    "        syl_single.append(m)\n",
    "    syl.append(syl_single)  "
   ]
  },
  {
   "cell_type": "code",
   "execution_count": 15,
   "metadata": {
    "collapsed": true
   },
   "outputs": [],
   "source": [
    "syl_count_arr = []\n",
    "for n in syl:\n",
    "    n = np.array(n)\n",
    "    syl_count_arr.append(n)"
   ]
  },
  {
   "cell_type": "code",
   "execution_count": 16,
   "metadata": {
    "collapsed": true
   },
   "outputs": [],
   "source": [
    "df_novel['syl_count'] = syl_count_arr"
   ]
  },
  {
   "cell_type": "code",
   "execution_count": 17,
   "metadata": {
    "collapsed": false
   },
   "outputs": [
    {
     "data": {
      "text/html": [
       "<div>\n",
       "<table border=\"1\" class=\"dataframe\">\n",
       "  <thead>\n",
       "    <tr style=\"text-align: right;\">\n",
       "      <th></th>\n",
       "      <th>0</th>\n",
       "      <th>wrd_length</th>\n",
       "      <th>total_char</th>\n",
       "      <th>syl_count</th>\n",
       "    </tr>\n",
       "  </thead>\n",
       "  <tbody>\n",
       "    <tr>\n",
       "      <th>0</th>\n",
       "      <td>Printer errors have been changed and are liste...</td>\n",
       "      <td>[7, 6, 4, 4, 7, 3, 3, 6, 2, 3, 3]</td>\n",
       "      <td>48</td>\n",
       "      <td>[2, 2, 1, 1, 1, 1, 1, 1, 1, 1, 1]</td>\n",
       "    </tr>\n",
       "    <tr>\n",
       "      <th>1</th>\n",
       "      <td>THE     KAMA SUTRA     OF     VATSYAYANA.</td>\n",
       "      <td>[3, 4, 5, 2, 10]</td>\n",
       "      <td>24</td>\n",
       "      <td>[1, 2, 2, 1, 5]</td>\n",
       "    </tr>\n",
       "    <tr>\n",
       "      <th>2</th>\n",
       "      <td>TRANSLATED FROM THE SANSCRIT.</td>\n",
       "      <td>[10, 4, 3, 8]</td>\n",
       "      <td>25</td>\n",
       "      <td>[2, 1, 1, 2]</td>\n",
       "    </tr>\n",
       "    <tr>\n",
       "      <th>3</th>\n",
       "      <td>IN SEVEN PARTS,     WITH     PREFACE, INTRODUC...</td>\n",
       "      <td>[2, 5, 5, 4, 7, 12, 3, 10, 7]</td>\n",
       "      <td>55</td>\n",
       "      <td>[1, 2, 1, 1, 2, 4, 1, 3, 2]</td>\n",
       "    </tr>\n",
       "    <tr>\n",
       "      <th>4</th>\n",
       "      <td>Reprint:     _Cosmopoli: MDCCCLXXXIII: for the...</td>\n",
       "      <td>[7, 9, 12, 3, 3, 4, 7, 7, 2, 6, 3, 7, 3, 3, 7,...</td>\n",
       "      <td>216</td>\n",
       "      <td>[2, 4, 1, 1, 1, 2, 2, 4, 1, 2, 1, 2, 1, 1, 2, ...</td>\n",
       "    </tr>\n",
       "  </tbody>\n",
       "</table>\n",
       "</div>"
      ],
      "text/plain": [
       "                                                   0  \\\n",
       "0  Printer errors have been changed and are liste...   \n",
       "1          THE     KAMA SUTRA     OF     VATSYAYANA.   \n",
       "2                      TRANSLATED FROM THE SANSCRIT.   \n",
       "3  IN SEVEN PARTS,     WITH     PREFACE, INTRODUC...   \n",
       "4  Reprint:     _Cosmopoli: MDCCCLXXXIII: for the...   \n",
       "\n",
       "                                          wrd_length  total_char  \\\n",
       "0                  [7, 6, 4, 4, 7, 3, 3, 6, 2, 3, 3]          48   \n",
       "1                                   [3, 4, 5, 2, 10]          24   \n",
       "2                                      [10, 4, 3, 8]          25   \n",
       "3                      [2, 5, 5, 4, 7, 12, 3, 10, 7]          55   \n",
       "4  [7, 9, 12, 3, 3, 4, 7, 7, 2, 6, 3, 7, 3, 3, 7,...         216   \n",
       "\n",
       "                                           syl_count  \n",
       "0                  [2, 2, 1, 1, 1, 1, 1, 1, 1, 1, 1]  \n",
       "1                                    [1, 2, 2, 1, 5]  \n",
       "2                                       [2, 1, 1, 2]  \n",
       "3                        [1, 2, 1, 1, 2, 4, 1, 3, 2]  \n",
       "4  [2, 4, 1, 1, 1, 2, 2, 4, 1, 2, 1, 2, 1, 1, 2, ...  "
      ]
     },
     "execution_count": 17,
     "metadata": {},
     "output_type": "execute_result"
    }
   ],
   "source": [
    "df_novel.head()"
   ]
  },
  {
   "cell_type": "code",
   "execution_count": 18,
   "metadata": {
    "collapsed": true
   },
   "outputs": [],
   "source": [
    "#If novel has a lot of numbers for chapter headings.\n",
    "#d = df_novel[df_novel['total_char']<=2]"
   ]
  },
  {
   "cell_type": "markdown",
   "metadata": {},
   "source": [
    "Create syllable sum column"
   ]
  },
  {
   "cell_type": "code",
   "execution_count": 19,
   "metadata": {
    "collapsed": true
   },
   "outputs": [],
   "source": [
    "syl_sum = []\n",
    "for l in range(0,len(df_novel)):\n",
    "    syl_sum.append(df_novel['syl_count'][l].sum())"
   ]
  },
  {
   "cell_type": "code",
   "execution_count": 20,
   "metadata": {
    "collapsed": true
   },
   "outputs": [],
   "source": [
    "df_novel['syl_sum'] = syl_sum"
   ]
  },
  {
   "cell_type": "markdown",
   "metadata": {},
   "source": [
    "Create sentiment column"
   ]
  },
  {
   "cell_type": "code",
   "execution_count": 21,
   "metadata": {
    "collapsed": true
   },
   "outputs": [],
   "source": [
    "def detect_sentiment(text):\n",
    "    return TextBlob(text.decode('utf-8')).sentiment.polarity"
   ]
  },
  {
   "cell_type": "code",
   "execution_count": 22,
   "metadata": {
    "collapsed": true
   },
   "outputs": [],
   "source": [
    "df_novel['sentiment'] = df_novel[0].apply(detect_sentiment)"
   ]
  },
  {
   "cell_type": "markdown",
   "metadata": {},
   "source": [
    "Create cluster dataframe - remove columns that can't be used"
   ]
  },
  {
   "cell_type": "code",
   "execution_count": 23,
   "metadata": {
    "collapsed": true
   },
   "outputs": [],
   "source": [
    "df_cluster = df_novel.drop('wrd_length', 1)"
   ]
  },
  {
   "cell_type": "code",
   "execution_count": 24,
   "metadata": {
    "collapsed": true
   },
   "outputs": [],
   "source": [
    "df_cluster = df_cluster.drop('syl_count', 1)"
   ]
  },
  {
   "cell_type": "code",
   "execution_count": 25,
   "metadata": {
    "collapsed": false
   },
   "outputs": [
    {
     "data": {
      "text/html": [
       "<div>\n",
       "<table border=\"1\" class=\"dataframe\">\n",
       "  <thead>\n",
       "    <tr style=\"text-align: right;\">\n",
       "      <th></th>\n",
       "      <th>0</th>\n",
       "      <th>total_char</th>\n",
       "      <th>syl_sum</th>\n",
       "      <th>sentiment</th>\n",
       "    </tr>\n",
       "  </thead>\n",
       "  <tbody>\n",
       "    <tr>\n",
       "      <th>0</th>\n",
       "      <td>Printer errors have been changed and are liste...</td>\n",
       "      <td>48</td>\n",
       "      <td>13</td>\n",
       "      <td>0.00</td>\n",
       "    </tr>\n",
       "    <tr>\n",
       "      <th>1</th>\n",
       "      <td>THE     KAMA SUTRA     OF     VATSYAYANA.</td>\n",
       "      <td>24</td>\n",
       "      <td>11</td>\n",
       "      <td>0.00</td>\n",
       "    </tr>\n",
       "    <tr>\n",
       "      <th>2</th>\n",
       "      <td>TRANSLATED FROM THE SANSCRIT.</td>\n",
       "      <td>25</td>\n",
       "      <td>6</td>\n",
       "      <td>0.00</td>\n",
       "    </tr>\n",
       "    <tr>\n",
       "      <th>3</th>\n",
       "      <td>IN SEVEN PARTS,     WITH     PREFACE, INTRODUC...</td>\n",
       "      <td>55</td>\n",
       "      <td>17</td>\n",
       "      <td>0.00</td>\n",
       "    </tr>\n",
       "    <tr>\n",
       "      <th>4</th>\n",
       "      <td>Reprint:     _Cosmopoli: MDCCCLXXXIII: for the...</td>\n",
       "      <td>216</td>\n",
       "      <td>70</td>\n",
       "      <td>-0.05</td>\n",
       "    </tr>\n",
       "  </tbody>\n",
       "</table>\n",
       "</div>"
      ],
      "text/plain": [
       "                                                   0  total_char  syl_sum  \\\n",
       "0  Printer errors have been changed and are liste...          48       13   \n",
       "1          THE     KAMA SUTRA     OF     VATSYAYANA.          24       11   \n",
       "2                      TRANSLATED FROM THE SANSCRIT.          25        6   \n",
       "3  IN SEVEN PARTS,     WITH     PREFACE, INTRODUC...          55       17   \n",
       "4  Reprint:     _Cosmopoli: MDCCCLXXXIII: for the...         216       70   \n",
       "\n",
       "   sentiment  \n",
       "0       0.00  \n",
       "1       0.00  \n",
       "2       0.00  \n",
       "3       0.00  \n",
       "4      -0.05  "
      ]
     },
     "execution_count": 25,
     "metadata": {},
     "output_type": "execute_result"
    }
   ],
   "source": [
    "df_cluster.head()"
   ]
  },
  {
   "cell_type": "markdown",
   "metadata": {},
   "source": [
    "Create 20 clusters on scaled data"
   ]
  },
  {
   "cell_type": "code",
   "execution_count": 26,
   "metadata": {
    "collapsed": true
   },
   "outputs": [],
   "source": [
    "X = df_cluster.drop(0, axis=1)"
   ]
  },
  {
   "cell_type": "code",
   "execution_count": 27,
   "metadata": {
    "collapsed": true
   },
   "outputs": [],
   "source": [
    "from sklearn.cluster import KMeans\n",
    "from sklearn.preprocessing import StandardScaler\n",
    "scaler = StandardScaler()\n",
    "X_scaled = scaler.fit_transform(X)"
   ]
  },
  {
   "cell_type": "code",
   "execution_count": 28,
   "metadata": {
    "collapsed": false
   },
   "outputs": [
    {
     "data": {
      "text/plain": [
       "KMeans(copy_x=True, init='k-means++', max_iter=300, n_clusters=20, n_init=10,\n",
       "    n_jobs=1, precompute_distances='auto', random_state=1, tol=0.0001,\n",
       "    verbose=0)"
      ]
     },
     "execution_count": 28,
     "metadata": {},
     "output_type": "execute_result"
    }
   ],
   "source": [
    "km = KMeans(n_clusters=20, random_state=1)\n",
    "km.fit(X_scaled)"
   ]
  },
  {
   "cell_type": "code",
   "execution_count": 29,
   "metadata": {
    "collapsed": true
   },
   "outputs": [],
   "source": [
    "df_cluster_20 = df_cluster.copy()"
   ]
  },
  {
   "cell_type": "code",
   "execution_count": 30,
   "metadata": {
    "collapsed": true
   },
   "outputs": [],
   "source": [
    "df_cluster_20['cluster'] = km.labels_"
   ]
  },
  {
   "cell_type": "code",
   "execution_count": 31,
   "metadata": {
    "collapsed": false
   },
   "outputs": [
    {
     "data": {
      "text/html": [
       "<div>\n",
       "<table border=\"1\" class=\"dataframe\">\n",
       "  <thead>\n",
       "    <tr style=\"text-align: right;\">\n",
       "      <th></th>\n",
       "      <th>0</th>\n",
       "      <th>total_char</th>\n",
       "      <th>syl_sum</th>\n",
       "      <th>sentiment</th>\n",
       "      <th>cluster</th>\n",
       "    </tr>\n",
       "  </thead>\n",
       "  <tbody>\n",
       "    <tr>\n",
       "      <th>0</th>\n",
       "      <td>Printer errors have been changed and are liste...</td>\n",
       "      <td>48</td>\n",
       "      <td>13</td>\n",
       "      <td>0.00</td>\n",
       "      <td>11</td>\n",
       "    </tr>\n",
       "    <tr>\n",
       "      <th>1</th>\n",
       "      <td>THE     KAMA SUTRA     OF     VATSYAYANA.</td>\n",
       "      <td>24</td>\n",
       "      <td>11</td>\n",
       "      <td>0.00</td>\n",
       "      <td>11</td>\n",
       "    </tr>\n",
       "    <tr>\n",
       "      <th>2</th>\n",
       "      <td>TRANSLATED FROM THE SANSCRIT.</td>\n",
       "      <td>25</td>\n",
       "      <td>6</td>\n",
       "      <td>0.00</td>\n",
       "      <td>1</td>\n",
       "    </tr>\n",
       "    <tr>\n",
       "      <th>3</th>\n",
       "      <td>IN SEVEN PARTS,     WITH     PREFACE, INTRODUC...</td>\n",
       "      <td>55</td>\n",
       "      <td>17</td>\n",
       "      <td>0.00</td>\n",
       "      <td>11</td>\n",
       "    </tr>\n",
       "    <tr>\n",
       "      <th>4</th>\n",
       "      <td>Reprint:     _Cosmopoli: MDCCCLXXXIII: for the...</td>\n",
       "      <td>216</td>\n",
       "      <td>70</td>\n",
       "      <td>-0.05</td>\n",
       "      <td>7</td>\n",
       "    </tr>\n",
       "  </tbody>\n",
       "</table>\n",
       "</div>"
      ],
      "text/plain": [
       "                                                   0  total_char  syl_sum  \\\n",
       "0  Printer errors have been changed and are liste...          48       13   \n",
       "1          THE     KAMA SUTRA     OF     VATSYAYANA.          24       11   \n",
       "2                      TRANSLATED FROM THE SANSCRIT.          25        6   \n",
       "3  IN SEVEN PARTS,     WITH     PREFACE, INTRODUC...          55       17   \n",
       "4  Reprint:     _Cosmopoli: MDCCCLXXXIII: for the...         216       70   \n",
       "\n",
       "   sentiment  cluster  \n",
       "0       0.00       11  \n",
       "1       0.00       11  \n",
       "2       0.00        1  \n",
       "3       0.00       11  \n",
       "4      -0.05        7  "
      ]
     },
     "execution_count": 31,
     "metadata": {},
     "output_type": "execute_result"
    }
   ],
   "source": [
    "df_cluster_20.head()"
   ]
  },
  {
   "cell_type": "code",
   "execution_count": 32,
   "metadata": {
    "collapsed": false
   },
   "outputs": [
    {
     "data": {
      "text/html": [
       "<div>\n",
       "<table border=\"1\" class=\"dataframe\">\n",
       "  <thead>\n",
       "    <tr style=\"text-align: right;\">\n",
       "      <th></th>\n",
       "      <th>0</th>\n",
       "      <th>total_char</th>\n",
       "      <th>syl_sum</th>\n",
       "      <th>sentiment</th>\n",
       "    </tr>\n",
       "  </thead>\n",
       "  <tbody>\n",
       "    <tr>\n",
       "      <th>0</th>\n",
       "      <td>Printer errors have been changed and are liste...</td>\n",
       "      <td>48</td>\n",
       "      <td>13</td>\n",
       "      <td>0.00</td>\n",
       "    </tr>\n",
       "    <tr>\n",
       "      <th>1</th>\n",
       "      <td>THE     KAMA SUTRA     OF     VATSYAYANA.</td>\n",
       "      <td>24</td>\n",
       "      <td>11</td>\n",
       "      <td>0.00</td>\n",
       "    </tr>\n",
       "    <tr>\n",
       "      <th>2</th>\n",
       "      <td>TRANSLATED FROM THE SANSCRIT.</td>\n",
       "      <td>25</td>\n",
       "      <td>6</td>\n",
       "      <td>0.00</td>\n",
       "    </tr>\n",
       "    <tr>\n",
       "      <th>3</th>\n",
       "      <td>IN SEVEN PARTS,     WITH     PREFACE, INTRODUC...</td>\n",
       "      <td>55</td>\n",
       "      <td>17</td>\n",
       "      <td>0.00</td>\n",
       "    </tr>\n",
       "    <tr>\n",
       "      <th>4</th>\n",
       "      <td>Reprint:     _Cosmopoli: MDCCCLXXXIII: for the...</td>\n",
       "      <td>216</td>\n",
       "      <td>70</td>\n",
       "      <td>-0.05</td>\n",
       "    </tr>\n",
       "  </tbody>\n",
       "</table>\n",
       "</div>"
      ],
      "text/plain": [
       "                                                   0  total_char  syl_sum  \\\n",
       "0  Printer errors have been changed and are liste...          48       13   \n",
       "1          THE     KAMA SUTRA     OF     VATSYAYANA.          24       11   \n",
       "2                      TRANSLATED FROM THE SANSCRIT.          25        6   \n",
       "3  IN SEVEN PARTS,     WITH     PREFACE, INTRODUC...          55       17   \n",
       "4  Reprint:     _Cosmopoli: MDCCCLXXXIII: for the...         216       70   \n",
       "\n",
       "   sentiment  \n",
       "0       0.00  \n",
       "1       0.00  \n",
       "2       0.00  \n",
       "3       0.00  \n",
       "4      -0.05  "
      ]
     },
     "execution_count": 32,
     "metadata": {},
     "output_type": "execute_result"
    }
   ],
   "source": [
    "df_cluster.head()"
   ]
  },
  {
   "cell_type": "code",
   "execution_count": 33,
   "metadata": {
    "collapsed": false
   },
   "outputs": [
    {
     "data": {
      "text/html": [
       "<div>\n",
       "<table border=\"1\" class=\"dataframe\">\n",
       "  <thead>\n",
       "    <tr style=\"text-align: right;\">\n",
       "      <th></th>\n",
       "      <th>total_char</th>\n",
       "      <th>syl_sum</th>\n",
       "      <th>sentiment</th>\n",
       "    </tr>\n",
       "    <tr>\n",
       "      <th>cluster</th>\n",
       "      <th></th>\n",
       "      <th></th>\n",
       "      <th></th>\n",
       "    </tr>\n",
       "  </thead>\n",
       "  <tbody>\n",
       "    <tr>\n",
       "      <th>0</th>\n",
       "      <td>123.880503</td>\n",
       "      <td>40.163522</td>\n",
       "      <td>0.277048</td>\n",
       "    </tr>\n",
       "    <tr>\n",
       "      <th>1</th>\n",
       "      <td>6.328106</td>\n",
       "      <td>1.720145</td>\n",
       "      <td>0.000510</td>\n",
       "    </tr>\n",
       "    <tr>\n",
       "      <th>2</th>\n",
       "      <td>3772.000000</td>\n",
       "      <td>1228.000000</td>\n",
       "      <td>0.044070</td>\n",
       "    </tr>\n",
       "    <tr>\n",
       "      <th>3</th>\n",
       "      <td>167.933702</td>\n",
       "      <td>53.790055</td>\n",
       "      <td>0.155242</td>\n",
       "    </tr>\n",
       "    <tr>\n",
       "      <th>4</th>\n",
       "      <td>50.615385</td>\n",
       "      <td>16.153846</td>\n",
       "      <td>-0.685623</td>\n",
       "    </tr>\n",
       "    <tr>\n",
       "      <th>5</th>\n",
       "      <td>143.805970</td>\n",
       "      <td>46.507463</td>\n",
       "      <td>-0.024567</td>\n",
       "    </tr>\n",
       "    <tr>\n",
       "      <th>6</th>\n",
       "      <td>75.000000</td>\n",
       "      <td>24.233333</td>\n",
       "      <td>0.793056</td>\n",
       "    </tr>\n",
       "    <tr>\n",
       "      <th>7</th>\n",
       "      <td>221.913043</td>\n",
       "      <td>71.530435</td>\n",
       "      <td>-0.034613</td>\n",
       "    </tr>\n",
       "    <tr>\n",
       "      <th>8</th>\n",
       "      <td>1479.000000</td>\n",
       "      <td>457.000000</td>\n",
       "      <td>-0.037183</td>\n",
       "    </tr>\n",
       "    <tr>\n",
       "      <th>9</th>\n",
       "      <td>92.000000</td>\n",
       "      <td>29.421212</td>\n",
       "      <td>0.000412</td>\n",
       "    </tr>\n",
       "    <tr>\n",
       "      <th>10</th>\n",
       "      <td>556.375000</td>\n",
       "      <td>183.375000</td>\n",
       "      <td>0.146262</td>\n",
       "    </tr>\n",
       "    <tr>\n",
       "      <th>11</th>\n",
       "      <td>44.344913</td>\n",
       "      <td>14.161290</td>\n",
       "      <td>0.000387</td>\n",
       "    </tr>\n",
       "    <tr>\n",
       "      <th>12</th>\n",
       "      <td>36.144330</td>\n",
       "      <td>11.391753</td>\n",
       "      <td>0.490232</td>\n",
       "    </tr>\n",
       "    <tr>\n",
       "      <th>13</th>\n",
       "      <td>132.140625</td>\n",
       "      <td>42.921875</td>\n",
       "      <td>-0.296683</td>\n",
       "    </tr>\n",
       "    <tr>\n",
       "      <th>14</th>\n",
       "      <td>246.185567</td>\n",
       "      <td>79.649485</td>\n",
       "      <td>0.199496</td>\n",
       "    </tr>\n",
       "    <tr>\n",
       "      <th>15</th>\n",
       "      <td>113.948980</td>\n",
       "      <td>36.755102</td>\n",
       "      <td>0.513633</td>\n",
       "    </tr>\n",
       "    <tr>\n",
       "      <th>16</th>\n",
       "      <td>205.547170</td>\n",
       "      <td>67.018868</td>\n",
       "      <td>0.488471</td>\n",
       "    </tr>\n",
       "    <tr>\n",
       "      <th>17</th>\n",
       "      <td>45.675676</td>\n",
       "      <td>14.666667</td>\n",
       "      <td>-0.184349</td>\n",
       "    </tr>\n",
       "    <tr>\n",
       "      <th>18</th>\n",
       "      <td>55.659091</td>\n",
       "      <td>17.969697</td>\n",
       "      <td>0.232992</td>\n",
       "    </tr>\n",
       "    <tr>\n",
       "      <th>19</th>\n",
       "      <td>348.090909</td>\n",
       "      <td>114.159091</td>\n",
       "      <td>0.051428</td>\n",
       "    </tr>\n",
       "  </tbody>\n",
       "</table>\n",
       "</div>"
      ],
      "text/plain": [
       "          total_char      syl_sum  sentiment\n",
       "cluster                                     \n",
       "0         123.880503    40.163522   0.277048\n",
       "1           6.328106     1.720145   0.000510\n",
       "2        3772.000000  1228.000000   0.044070\n",
       "3         167.933702    53.790055   0.155242\n",
       "4          50.615385    16.153846  -0.685623\n",
       "5         143.805970    46.507463  -0.024567\n",
       "6          75.000000    24.233333   0.793056\n",
       "7         221.913043    71.530435  -0.034613\n",
       "8        1479.000000   457.000000  -0.037183\n",
       "9          92.000000    29.421212   0.000412\n",
       "10        556.375000   183.375000   0.146262\n",
       "11         44.344913    14.161290   0.000387\n",
       "12         36.144330    11.391753   0.490232\n",
       "13        132.140625    42.921875  -0.296683\n",
       "14        246.185567    79.649485   0.199496\n",
       "15        113.948980    36.755102   0.513633\n",
       "16        205.547170    67.018868   0.488471\n",
       "17         45.675676    14.666667  -0.184349\n",
       "18         55.659091    17.969697   0.232992\n",
       "19        348.090909   114.159091   0.051428"
      ]
     },
     "execution_count": 33,
     "metadata": {},
     "output_type": "execute_result"
    }
   ],
   "source": [
    "df_cluster_20.groupby('cluster').mean()"
   ]
  },
  {
   "cell_type": "code",
   "execution_count": 34,
   "metadata": {
    "collapsed": true
   },
   "outputs": [],
   "source": [
    "centers = df_cluster_20.groupby('cluster').mean()"
   ]
  },
  {
   "cell_type": "markdown",
   "metadata": {},
   "source": [
    "Create Scatter plot "
   ]
  },
  {
   "cell_type": "code",
   "execution_count": 35,
   "metadata": {
    "collapsed": true
   },
   "outputs": [],
   "source": [
    "colors = np.array(['#0000ff', '#ff00ff', '#39b54a', '#ff0000', '#ffff00', '#000080', '#ff99ff', '#88d392', '#bf0000', '#b4ff33', '#0000bf', '#800080','#1d5b25', '#4d226d', '#2b6855', '#128ab2', '#6666ff', '#a381bd', '#333333','#a0d0e0'])"
   ]
  },
  {
   "cell_type": "code",
   "execution_count": 36,
   "metadata": {
    "collapsed": false
   },
   "outputs": [
    {
     "data": {
      "text/plain": [
       "<matplotlib.text.Text at 0x11c5b0150>"
      ]
     },
     "execution_count": 36,
     "metadata": {},
     "output_type": "execute_result"
    },
    {
     "data": {
      "image/png": "[encoded data removed]",
      "text/plain": [
       "<matplotlib.figure.Figure at 0x118b966d0>"
      ]
     },
     "metadata": {},
     "output_type": "display_data"
    }
   ],
   "source": [
    "# scatter plot of calories versus alcohol, colored by cluster (0=red, 1=green, 2=blue)\n",
    "plt.scatter(df_cluster_20.syl_sum, df_cluster_20.sentiment, c=colors[df_cluster_20.cluster], s=50)\n",
    "\n",
    "# cluster centers, marked by \"+\"\n",
    "plt.scatter(centers.syl_sum, centers.sentiment, linewidths=3, marker='+', s=300, c='black')\n",
    "\n",
    "# add labels\n",
    "plt.xlabel('syl_sum')\n",
    "plt.ylabel('sentiment')"
   ]
  },
  {
   "cell_type": "markdown",
   "metadata": {},
   "source": [
    "Add cluster_20 to original dataframe"
   ]
  },
  {
   "cell_type": "code",
   "execution_count": 37,
   "metadata": {
    "collapsed": false
   },
   "outputs": [],
   "source": [
    "df_novel['cluster_20'] = df_cluster_20['cluster']"
   ]
  },
  {
   "cell_type": "code",
   "execution_count": 38,
   "metadata": {
    "collapsed": false
   },
   "outputs": [
    {
     "data": {
      "text/html": [
       "<div>\n",
       "<table border=\"1\" class=\"dataframe\">\n",
       "  <thead>\n",
       "    <tr style=\"text-align: right;\">\n",
       "      <th></th>\n",
       "      <th>0</th>\n",
       "      <th>wrd_length</th>\n",
       "      <th>total_char</th>\n",
       "      <th>syl_count</th>\n",
       "      <th>syl_sum</th>\n",
       "      <th>sentiment</th>\n",
       "      <th>cluster_20</th>\n",
       "    </tr>\n",
       "  </thead>\n",
       "  <tbody>\n",
       "    <tr>\n",
       "      <th>0</th>\n",
       "      <td>Printer errors have been changed and are liste...</td>\n",
       "      <td>[7, 6, 4, 4, 7, 3, 3, 6, 2, 3, 3]</td>\n",
       "      <td>48</td>\n",
       "      <td>[2, 2, 1, 1, 1, 1, 1, 1, 1, 1, 1]</td>\n",
       "      <td>13</td>\n",
       "      <td>0.00</td>\n",
       "      <td>11</td>\n",
       "    </tr>\n",
       "    <tr>\n",
       "      <th>1</th>\n",
       "      <td>THE     KAMA SUTRA     OF     VATSYAYANA.</td>\n",
       "      <td>[3, 4, 5, 2, 10]</td>\n",
       "      <td>24</td>\n",
       "      <td>[1, 2, 2, 1, 5]</td>\n",
       "      <td>11</td>\n",
       "      <td>0.00</td>\n",
       "      <td>11</td>\n",
       "    </tr>\n",
       "    <tr>\n",
       "      <th>2</th>\n",
       "      <td>TRANSLATED FROM THE SANSCRIT.</td>\n",
       "      <td>[10, 4, 3, 8]</td>\n",
       "      <td>25</td>\n",
       "      <td>[2, 1, 1, 2]</td>\n",
       "      <td>6</td>\n",
       "      <td>0.00</td>\n",
       "      <td>1</td>\n",
       "    </tr>\n",
       "    <tr>\n",
       "      <th>3</th>\n",
       "      <td>IN SEVEN PARTS,     WITH     PREFACE, INTRODUC...</td>\n",
       "      <td>[2, 5, 5, 4, 7, 12, 3, 10, 7]</td>\n",
       "      <td>55</td>\n",
       "      <td>[1, 2, 1, 1, 2, 4, 1, 3, 2]</td>\n",
       "      <td>17</td>\n",
       "      <td>0.00</td>\n",
       "      <td>11</td>\n",
       "    </tr>\n",
       "    <tr>\n",
       "      <th>4</th>\n",
       "      <td>Reprint:     _Cosmopoli: MDCCCLXXXIII: for the...</td>\n",
       "      <td>[7, 9, 12, 3, 3, 4, 7, 7, 2, 6, 3, 7, 3, 3, 7,...</td>\n",
       "      <td>216</td>\n",
       "      <td>[2, 4, 1, 1, 1, 2, 2, 4, 1, 2, 1, 2, 1, 1, 2, ...</td>\n",
       "      <td>70</td>\n",
       "      <td>-0.05</td>\n",
       "      <td>7</td>\n",
       "    </tr>\n",
       "  </tbody>\n",
       "</table>\n",
       "</div>"
      ],
      "text/plain": [
       "                                                   0  \\\n",
       "0  Printer errors have been changed and are liste...   \n",
       "1          THE     KAMA SUTRA     OF     VATSYAYANA.   \n",
       "2                      TRANSLATED FROM THE SANSCRIT.   \n",
       "3  IN SEVEN PARTS,     WITH     PREFACE, INTRODUC...   \n",
       "4  Reprint:     _Cosmopoli: MDCCCLXXXIII: for the...   \n",
       "\n",
       "                                          wrd_length  total_char  \\\n",
       "0                  [7, 6, 4, 4, 7, 3, 3, 6, 2, 3, 3]          48   \n",
       "1                                   [3, 4, 5, 2, 10]          24   \n",
       "2                                      [10, 4, 3, 8]          25   \n",
       "3                      [2, 5, 5, 4, 7, 12, 3, 10, 7]          55   \n",
       "4  [7, 9, 12, 3, 3, 4, 7, 7, 2, 6, 3, 7, 3, 3, 7,...         216   \n",
       "\n",
       "                                           syl_count  syl_sum  sentiment  \\\n",
       "0                  [2, 2, 1, 1, 1, 1, 1, 1, 1, 1, 1]       13       0.00   \n",
       "1                                    [1, 2, 2, 1, 5]       11       0.00   \n",
       "2                                       [2, 1, 1, 2]        6       0.00   \n",
       "3                        [1, 2, 1, 1, 2, 4, 1, 3, 2]       17       0.00   \n",
       "4  [2, 4, 1, 1, 1, 2, 2, 4, 1, 2, 1, 2, 1, 1, 2, ...       70      -0.05   \n",
       "\n",
       "   cluster_20  \n",
       "0          11  \n",
       "1          11  \n",
       "2           1  \n",
       "3          11  \n",
       "4           7  "
      ]
     },
     "execution_count": 38,
     "metadata": {},
     "output_type": "execute_result"
    }
   ],
   "source": [
    "df_novel.head()"
   ]
  },
  {
   "cell_type": "markdown",
   "metadata": {},
   "source": [
    "Create 3 clusters"
   ]
  },
  {
   "cell_type": "code",
   "execution_count": 39,
   "metadata": {
    "collapsed": true
   },
   "outputs": [],
   "source": [
    "df_cluster_3 = df_cluster.copy()"
   ]
  },
  {
   "cell_type": "code",
   "execution_count": 40,
   "metadata": {
    "collapsed": false
   },
   "outputs": [
    {
     "data": {
      "text/html": [
       "<div>\n",
       "<table border=\"1\" class=\"dataframe\">\n",
       "  <thead>\n",
       "    <tr style=\"text-align: right;\">\n",
       "      <th></th>\n",
       "      <th>0</th>\n",
       "      <th>total_char</th>\n",
       "      <th>syl_sum</th>\n",
       "      <th>sentiment</th>\n",
       "    </tr>\n",
       "  </thead>\n",
       "  <tbody>\n",
       "    <tr>\n",
       "      <th>0</th>\n",
       "      <td>Printer errors have been changed and are liste...</td>\n",
       "      <td>48</td>\n",
       "      <td>13</td>\n",
       "      <td>0.00</td>\n",
       "    </tr>\n",
       "    <tr>\n",
       "      <th>1</th>\n",
       "      <td>THE     KAMA SUTRA     OF     VATSYAYANA.</td>\n",
       "      <td>24</td>\n",
       "      <td>11</td>\n",
       "      <td>0.00</td>\n",
       "    </tr>\n",
       "    <tr>\n",
       "      <th>2</th>\n",
       "      <td>TRANSLATED FROM THE SANSCRIT.</td>\n",
       "      <td>25</td>\n",
       "      <td>6</td>\n",
       "      <td>0.00</td>\n",
       "    </tr>\n",
       "    <tr>\n",
       "      <th>3</th>\n",
       "      <td>IN SEVEN PARTS,     WITH     PREFACE, INTRODUC...</td>\n",
       "      <td>55</td>\n",
       "      <td>17</td>\n",
       "      <td>0.00</td>\n",
       "    </tr>\n",
       "    <tr>\n",
       "      <th>4</th>\n",
       "      <td>Reprint:     _Cosmopoli: MDCCCLXXXIII: for the...</td>\n",
       "      <td>216</td>\n",
       "      <td>70</td>\n",
       "      <td>-0.05</td>\n",
       "    </tr>\n",
       "  </tbody>\n",
       "</table>\n",
       "</div>"
      ],
      "text/plain": [
       "                                                   0  total_char  syl_sum  \\\n",
       "0  Printer errors have been changed and are liste...          48       13   \n",
       "1          THE     KAMA SUTRA     OF     VATSYAYANA.          24       11   \n",
       "2                      TRANSLATED FROM THE SANSCRIT.          25        6   \n",
       "3  IN SEVEN PARTS,     WITH     PREFACE, INTRODUC...          55       17   \n",
       "4  Reprint:     _Cosmopoli: MDCCCLXXXIII: for the...         216       70   \n",
       "\n",
       "   sentiment  \n",
       "0       0.00  \n",
       "1       0.00  \n",
       "2       0.00  \n",
       "3       0.00  \n",
       "4      -0.05  "
      ]
     },
     "execution_count": 40,
     "metadata": {},
     "output_type": "execute_result"
    }
   ],
   "source": [
    "df_cluster_3.head()"
   ]
  },
  {
   "cell_type": "code",
   "execution_count": 41,
   "metadata": {
    "collapsed": true
   },
   "outputs": [],
   "source": [
    "X = df_cluster_3.drop(0, axis=1)"
   ]
  },
  {
   "cell_type": "code",
   "execution_count": 42,
   "metadata": {
    "collapsed": true
   },
   "outputs": [],
   "source": [
    "scaler = StandardScaler()\n",
    "X_scaled = scaler.fit_transform(X)"
   ]
  },
  {
   "cell_type": "code",
   "execution_count": 43,
   "metadata": {
    "collapsed": false
   },
   "outputs": [
    {
     "data": {
      "text/plain": [
       "KMeans(copy_x=True, init='k-means++', max_iter=300, n_clusters=3, n_init=10,\n",
       "    n_jobs=1, precompute_distances='auto', random_state=1, tol=0.0001,\n",
       "    verbose=0)"
      ]
     },
     "execution_count": 43,
     "metadata": {},
     "output_type": "execute_result"
    }
   ],
   "source": [
    "km = KMeans(n_clusters=3, random_state=1)\n",
    "km.fit(X_scaled)"
   ]
  },
  {
   "cell_type": "code",
   "execution_count": 44,
   "metadata": {
    "collapsed": true
   },
   "outputs": [],
   "source": [
    "df_cluster_3['cluster'] = km.labels_"
   ]
  },
  {
   "cell_type": "code",
   "execution_count": 45,
   "metadata": {
    "collapsed": false
   },
   "outputs": [
    {
     "data": {
      "text/html": [
       "<div>\n",
       "<table border=\"1\" class=\"dataframe\">\n",
       "  <thead>\n",
       "    <tr style=\"text-align: right;\">\n",
       "      <th></th>\n",
       "      <th>total_char</th>\n",
       "      <th>syl_sum</th>\n",
       "      <th>sentiment</th>\n",
       "    </tr>\n",
       "    <tr>\n",
       "      <th>cluster</th>\n",
       "      <th></th>\n",
       "      <th></th>\n",
       "      <th></th>\n",
       "    </tr>\n",
       "  </thead>\n",
       "  <tbody>\n",
       "    <tr>\n",
       "      <th>0</th>\n",
       "      <td>43.395087</td>\n",
       "      <td>13.772262</td>\n",
       "      <td>-0.026367</td>\n",
       "    </tr>\n",
       "    <tr>\n",
       "      <th>1</th>\n",
       "      <td>162.805395</td>\n",
       "      <td>52.661850</td>\n",
       "      <td>0.241183</td>\n",
       "    </tr>\n",
       "    <tr>\n",
       "      <th>2</th>\n",
       "      <td>3772.000000</td>\n",
       "      <td>1228.000000</td>\n",
       "      <td>0.044070</td>\n",
       "    </tr>\n",
       "  </tbody>\n",
       "</table>\n",
       "</div>"
      ],
      "text/plain": [
       "          total_char      syl_sum  sentiment\n",
       "cluster                                     \n",
       "0          43.395087    13.772262  -0.026367\n",
       "1         162.805395    52.661850   0.241183\n",
       "2        3772.000000  1228.000000   0.044070"
      ]
     },
     "execution_count": 45,
     "metadata": {},
     "output_type": "execute_result"
    }
   ],
   "source": [
    "df_cluster_3.groupby('cluster').mean()"
   ]
  },
  {
   "cell_type": "code",
   "execution_count": 46,
   "metadata": {
    "collapsed": false
   },
   "outputs": [
    {
     "data": {
      "text/html": [
       "<div>\n",
       "<table border=\"1\" class=\"dataframe\">\n",
       "  <thead>\n",
       "    <tr style=\"text-align: right;\">\n",
       "      <th></th>\n",
       "      <th>0</th>\n",
       "      <th>total_char</th>\n",
       "      <th>syl_sum</th>\n",
       "      <th>sentiment</th>\n",
       "      <th>cluster</th>\n",
       "    </tr>\n",
       "  </thead>\n",
       "  <tbody>\n",
       "    <tr>\n",
       "      <th>0</th>\n",
       "      <td>Printer errors have been changed and are liste...</td>\n",
       "      <td>48</td>\n",
       "      <td>13</td>\n",
       "      <td>0.00</td>\n",
       "      <td>0</td>\n",
       "    </tr>\n",
       "    <tr>\n",
       "      <th>1</th>\n",
       "      <td>THE     KAMA SUTRA     OF     VATSYAYANA.</td>\n",
       "      <td>24</td>\n",
       "      <td>11</td>\n",
       "      <td>0.00</td>\n",
       "      <td>0</td>\n",
       "    </tr>\n",
       "    <tr>\n",
       "      <th>2</th>\n",
       "      <td>TRANSLATED FROM THE SANSCRIT.</td>\n",
       "      <td>25</td>\n",
       "      <td>6</td>\n",
       "      <td>0.00</td>\n",
       "      <td>0</td>\n",
       "    </tr>\n",
       "    <tr>\n",
       "      <th>3</th>\n",
       "      <td>IN SEVEN PARTS,     WITH     PREFACE, INTRODUC...</td>\n",
       "      <td>55</td>\n",
       "      <td>17</td>\n",
       "      <td>0.00</td>\n",
       "      <td>0</td>\n",
       "    </tr>\n",
       "    <tr>\n",
       "      <th>4</th>\n",
       "      <td>Reprint:     _Cosmopoli: MDCCCLXXXIII: for the...</td>\n",
       "      <td>216</td>\n",
       "      <td>70</td>\n",
       "      <td>-0.05</td>\n",
       "      <td>1</td>\n",
       "    </tr>\n",
       "  </tbody>\n",
       "</table>\n",
       "</div>"
      ],
      "text/plain": [
       "                                                   0  total_char  syl_sum  \\\n",
       "0  Printer errors have been changed and are liste...          48       13   \n",
       "1          THE     KAMA SUTRA     OF     VATSYAYANA.          24       11   \n",
       "2                      TRANSLATED FROM THE SANSCRIT.          25        6   \n",
       "3  IN SEVEN PARTS,     WITH     PREFACE, INTRODUC...          55       17   \n",
       "4  Reprint:     _Cosmopoli: MDCCCLXXXIII: for the...         216       70   \n",
       "\n",
       "   sentiment  cluster  \n",
       "0       0.00        0  \n",
       "1       0.00        0  \n",
       "2       0.00        0  \n",
       "3       0.00        0  \n",
       "4      -0.05        1  "
      ]
     },
     "execution_count": 46,
     "metadata": {},
     "output_type": "execute_result"
    }
   ],
   "source": [
    "df_cluster_3.head()"
   ]
  },
  {
   "cell_type": "markdown",
   "metadata": {},
   "source": [
    "Add cludter_3 to original dataframe"
   ]
  },
  {
   "cell_type": "code",
   "execution_count": 47,
   "metadata": {
    "collapsed": true
   },
   "outputs": [],
   "source": [
    "df_novel['cluster_3_syl'] = df_cluster_3['cluster']"
   ]
  },
  {
   "cell_type": "code",
   "execution_count": 48,
   "metadata": {
    "collapsed": false
   },
   "outputs": [
    {
     "data": {
      "text/html": [
       "<div>\n",
       "<table border=\"1\" class=\"dataframe\">\n",
       "  <thead>\n",
       "    <tr style=\"text-align: right;\">\n",
       "      <th></th>\n",
       "      <th>0</th>\n",
       "      <th>wrd_length</th>\n",
       "      <th>total_char</th>\n",
       "      <th>syl_count</th>\n",
       "      <th>syl_sum</th>\n",
       "      <th>sentiment</th>\n",
       "      <th>cluster_20</th>\n",
       "      <th>cluster_3_syl</th>\n",
       "    </tr>\n",
       "  </thead>\n",
       "  <tbody>\n",
       "    <tr>\n",
       "      <th>0</th>\n",
       "      <td>Printer errors have been changed and are liste...</td>\n",
       "      <td>[7, 6, 4, 4, 7, 3, 3, 6, 2, 3, 3]</td>\n",
       "      <td>48</td>\n",
       "      <td>[2, 2, 1, 1, 1, 1, 1, 1, 1, 1, 1]</td>\n",
       "      <td>13</td>\n",
       "      <td>0.00</td>\n",
       "      <td>11</td>\n",
       "      <td>0</td>\n",
       "    </tr>\n",
       "    <tr>\n",
       "      <th>1</th>\n",
       "      <td>THE     KAMA SUTRA     OF     VATSYAYANA.</td>\n",
       "      <td>[3, 4, 5, 2, 10]</td>\n",
       "      <td>24</td>\n",
       "      <td>[1, 2, 2, 1, 5]</td>\n",
       "      <td>11</td>\n",
       "      <td>0.00</td>\n",
       "      <td>11</td>\n",
       "      <td>0</td>\n",
       "    </tr>\n",
       "    <tr>\n",
       "      <th>2</th>\n",
       "      <td>TRANSLATED FROM THE SANSCRIT.</td>\n",
       "      <td>[10, 4, 3, 8]</td>\n",
       "      <td>25</td>\n",
       "      <td>[2, 1, 1, 2]</td>\n",
       "      <td>6</td>\n",
       "      <td>0.00</td>\n",
       "      <td>1</td>\n",
       "      <td>0</td>\n",
       "    </tr>\n",
       "    <tr>\n",
       "      <th>3</th>\n",
       "      <td>IN SEVEN PARTS,     WITH     PREFACE, INTRODUC...</td>\n",
       "      <td>[2, 5, 5, 4, 7, 12, 3, 10, 7]</td>\n",
       "      <td>55</td>\n",
       "      <td>[1, 2, 1, 1, 2, 4, 1, 3, 2]</td>\n",
       "      <td>17</td>\n",
       "      <td>0.00</td>\n",
       "      <td>11</td>\n",
       "      <td>0</td>\n",
       "    </tr>\n",
       "    <tr>\n",
       "      <th>4</th>\n",
       "      <td>Reprint:     _Cosmopoli: MDCCCLXXXIII: for the...</td>\n",
       "      <td>[7, 9, 12, 3, 3, 4, 7, 7, 2, 6, 3, 7, 3, 3, 7,...</td>\n",
       "      <td>216</td>\n",
       "      <td>[2, 4, 1, 1, 1, 2, 2, 4, 1, 2, 1, 2, 1, 1, 2, ...</td>\n",
       "      <td>70</td>\n",
       "      <td>-0.05</td>\n",
       "      <td>7</td>\n",
       "      <td>1</td>\n",
       "    </tr>\n",
       "  </tbody>\n",
       "</table>\n",
       "</div>"
      ],
      "text/plain": [
       "                                                   0  \\\n",
       "0  Printer errors have been changed and are liste...   \n",
       "1          THE     KAMA SUTRA     OF     VATSYAYANA.   \n",
       "2                      TRANSLATED FROM THE SANSCRIT.   \n",
       "3  IN SEVEN PARTS,     WITH     PREFACE, INTRODUC...   \n",
       "4  Reprint:     _Cosmopoli: MDCCCLXXXIII: for the...   \n",
       "\n",
       "                                          wrd_length  total_char  \\\n",
       "0                  [7, 6, 4, 4, 7, 3, 3, 6, 2, 3, 3]          48   \n",
       "1                                   [3, 4, 5, 2, 10]          24   \n",
       "2                                      [10, 4, 3, 8]          25   \n",
       "3                      [2, 5, 5, 4, 7, 12, 3, 10, 7]          55   \n",
       "4  [7, 9, 12, 3, 3, 4, 7, 7, 2, 6, 3, 7, 3, 3, 7,...         216   \n",
       "\n",
       "                                           syl_count  syl_sum  sentiment  \\\n",
       "0                  [2, 2, 1, 1, 1, 1, 1, 1, 1, 1, 1]       13       0.00   \n",
       "1                                    [1, 2, 2, 1, 5]       11       0.00   \n",
       "2                                       [2, 1, 1, 2]        6       0.00   \n",
       "3                        [1, 2, 1, 1, 2, 4, 1, 3, 2]       17       0.00   \n",
       "4  [2, 4, 1, 1, 1, 2, 2, 4, 1, 2, 1, 2, 1, 1, 2, ...       70      -0.05   \n",
       "\n",
       "   cluster_20  cluster_3_syl  \n",
       "0          11              0  \n",
       "1          11              0  \n",
       "2           1              0  \n",
       "3          11              0  \n",
       "4           7              1  "
      ]
     },
     "execution_count": 48,
     "metadata": {},
     "output_type": "execute_result"
    }
   ],
   "source": [
    "df_novel.head()"
   ]
  },
  {
   "cell_type": "markdown",
   "metadata": {},
   "source": [
    "Create 3 Clusters with no syl_sum"
   ]
  },
  {
   "cell_type": "code",
   "execution_count": 49,
   "metadata": {
    "collapsed": true
   },
   "outputs": [],
   "source": [
    "df_cluster_3no_syl = df_cluster.copy()"
   ]
  },
  {
   "cell_type": "code",
   "execution_count": 50,
   "metadata": {
    "collapsed": true
   },
   "outputs": [],
   "source": [
    "df_cluster_3no_syl = df_cluster.drop('syl_sum', 1)"
   ]
  },
  {
   "cell_type": "code",
   "execution_count": 51,
   "metadata": {
    "collapsed": true
   },
   "outputs": [],
   "source": [
    "X = df_cluster_3no_syl.drop(0, axis=1)"
   ]
  },
  {
   "cell_type": "code",
   "execution_count": 52,
   "metadata": {
    "collapsed": true
   },
   "outputs": [],
   "source": [
    "scaler = StandardScaler()\n",
    "X_scaled = scaler.fit_transform(X)"
   ]
  },
  {
   "cell_type": "code",
   "execution_count": 53,
   "metadata": {
    "collapsed": false
   },
   "outputs": [
    {
     "data": {
      "text/plain": [
       "KMeans(copy_x=True, init='k-means++', max_iter=300, n_clusters=3, n_init=10,\n",
       "    n_jobs=1, precompute_distances='auto', random_state=1, tol=0.0001,\n",
       "    verbose=0)"
      ]
     },
     "execution_count": 53,
     "metadata": {},
     "output_type": "execute_result"
    }
   ],
   "source": [
    "km = KMeans(n_clusters=3, random_state=1)\n",
    "km.fit(X_scaled)"
   ]
  },
  {
   "cell_type": "code",
   "execution_count": 54,
   "metadata": {
    "collapsed": true
   },
   "outputs": [],
   "source": [
    "df_cluster_3no_syl['cluster'] = km.labels_"
   ]
  },
  {
   "cell_type": "code",
   "execution_count": 55,
   "metadata": {
    "collapsed": false
   },
   "outputs": [
    {
     "data": {
      "text/html": [
       "<div>\n",
       "<table border=\"1\" class=\"dataframe\">\n",
       "  <thead>\n",
       "    <tr style=\"text-align: right;\">\n",
       "      <th></th>\n",
       "      <th>0</th>\n",
       "      <th>total_char</th>\n",
       "      <th>sentiment</th>\n",
       "      <th>cluster</th>\n",
       "    </tr>\n",
       "  </thead>\n",
       "  <tbody>\n",
       "    <tr>\n",
       "      <th>0</th>\n",
       "      <td>Printer errors have been changed and are liste...</td>\n",
       "      <td>48</td>\n",
       "      <td>0.00</td>\n",
       "      <td>1</td>\n",
       "    </tr>\n",
       "    <tr>\n",
       "      <th>1</th>\n",
       "      <td>THE     KAMA SUTRA     OF     VATSYAYANA.</td>\n",
       "      <td>24</td>\n",
       "      <td>0.00</td>\n",
       "      <td>1</td>\n",
       "    </tr>\n",
       "    <tr>\n",
       "      <th>2</th>\n",
       "      <td>TRANSLATED FROM THE SANSCRIT.</td>\n",
       "      <td>25</td>\n",
       "      <td>0.00</td>\n",
       "      <td>1</td>\n",
       "    </tr>\n",
       "    <tr>\n",
       "      <th>3</th>\n",
       "      <td>IN SEVEN PARTS,     WITH     PREFACE, INTRODUC...</td>\n",
       "      <td>55</td>\n",
       "      <td>0.00</td>\n",
       "      <td>1</td>\n",
       "    </tr>\n",
       "    <tr>\n",
       "      <th>4</th>\n",
       "      <td>Reprint:     _Cosmopoli: MDCCCLXXXIII: for the...</td>\n",
       "      <td>216</td>\n",
       "      <td>-0.05</td>\n",
       "      <td>1</td>\n",
       "    </tr>\n",
       "  </tbody>\n",
       "</table>\n",
       "</div>"
      ],
      "text/plain": [
       "                                                   0  total_char  sentiment  \\\n",
       "0  Printer errors have been changed and are liste...          48       0.00   \n",
       "1          THE     KAMA SUTRA     OF     VATSYAYANA.          24       0.00   \n",
       "2                      TRANSLATED FROM THE SANSCRIT.          25       0.00   \n",
       "3  IN SEVEN PARTS,     WITH     PREFACE, INTRODUC...          55       0.00   \n",
       "4  Reprint:     _Cosmopoli: MDCCCLXXXIII: for the...         216      -0.05   \n",
       "\n",
       "   cluster  \n",
       "0        1  \n",
       "1        1  \n",
       "2        1  \n",
       "3        1  \n",
       "4        1  "
      ]
     },
     "execution_count": 55,
     "metadata": {},
     "output_type": "execute_result"
    }
   ],
   "source": [
    "df_cluster_3no_syl.head()"
   ]
  },
  {
   "cell_type": "code",
   "execution_count": 56,
   "metadata": {
    "collapsed": false
   },
   "outputs": [
    {
     "data": {
      "text/html": [
       "<div>\n",
       "<table border=\"1\" class=\"dataframe\">\n",
       "  <thead>\n",
       "    <tr style=\"text-align: right;\">\n",
       "      <th></th>\n",
       "      <th>total_char</th>\n",
       "      <th>sentiment</th>\n",
       "    </tr>\n",
       "    <tr>\n",
       "      <th>cluster</th>\n",
       "      <th></th>\n",
       "      <th></th>\n",
       "    </tr>\n",
       "  </thead>\n",
       "  <tbody>\n",
       "    <tr>\n",
       "      <th>0</th>\n",
       "      <td>151.141583</td>\n",
       "      <td>0.300662</td>\n",
       "    </tr>\n",
       "    <tr>\n",
       "      <th>1</th>\n",
       "      <td>56.425776</td>\n",
       "      <td>-0.033827</td>\n",
       "    </tr>\n",
       "    <tr>\n",
       "      <th>2</th>\n",
       "      <td>3772.000000</td>\n",
       "      <td>0.044070</td>\n",
       "    </tr>\n",
       "  </tbody>\n",
       "</table>\n",
       "</div>"
      ],
      "text/plain": [
       "          total_char  sentiment\n",
       "cluster                        \n",
       "0         151.141583   0.300662\n",
       "1          56.425776  -0.033827\n",
       "2        3772.000000   0.044070"
      ]
     },
     "execution_count": 56,
     "metadata": {},
     "output_type": "execute_result"
    }
   ],
   "source": [
    "df_cluster_3no_syl.groupby('cluster').mean()"
   ]
  },
  {
   "cell_type": "markdown",
   "metadata": {},
   "source": [
    "Add cluster_3no_syl to original dataframe"
   ]
  },
  {
   "cell_type": "code",
   "execution_count": 57,
   "metadata": {
    "collapsed": true
   },
   "outputs": [],
   "source": [
    "df_novel['cluster_3no_syl'] = df_cluster_3no_syl['cluster']"
   ]
  },
  {
   "cell_type": "code",
   "execution_count": 58,
   "metadata": {
    "collapsed": false
   },
   "outputs": [
    {
     "data": {
      "text/html": [
       "<div>\n",
       "<table border=\"1\" class=\"dataframe\">\n",
       "  <thead>\n",
       "    <tr style=\"text-align: right;\">\n",
       "      <th></th>\n",
       "      <th>0</th>\n",
       "      <th>wrd_length</th>\n",
       "      <th>total_char</th>\n",
       "      <th>syl_count</th>\n",
       "      <th>syl_sum</th>\n",
       "      <th>sentiment</th>\n",
       "      <th>cluster_20</th>\n",
       "      <th>cluster_3_syl</th>\n",
       "      <th>cluster_3no_syl</th>\n",
       "    </tr>\n",
       "  </thead>\n",
       "  <tbody>\n",
       "    <tr>\n",
       "      <th>0</th>\n",
       "      <td>Printer errors have been changed and are liste...</td>\n",
       "      <td>[7, 6, 4, 4, 7, 3, 3, 6, 2, 3, 3]</td>\n",
       "      <td>48</td>\n",
       "      <td>[2, 2, 1, 1, 1, 1, 1, 1, 1, 1, 1]</td>\n",
       "      <td>13</td>\n",
       "      <td>0.00</td>\n",
       "      <td>11</td>\n",
       "      <td>0</td>\n",
       "      <td>1</td>\n",
       "    </tr>\n",
       "    <tr>\n",
       "      <th>1</th>\n",
       "      <td>THE     KAMA SUTRA     OF     VATSYAYANA.</td>\n",
       "      <td>[3, 4, 5, 2, 10]</td>\n",
       "      <td>24</td>\n",
       "      <td>[1, 2, 2, 1, 5]</td>\n",
       "      <td>11</td>\n",
       "      <td>0.00</td>\n",
       "      <td>11</td>\n",
       "      <td>0</td>\n",
       "      <td>1</td>\n",
       "    </tr>\n",
       "    <tr>\n",
       "      <th>2</th>\n",
       "      <td>TRANSLATED FROM THE SANSCRIT.</td>\n",
       "      <td>[10, 4, 3, 8]</td>\n",
       "      <td>25</td>\n",
       "      <td>[2, 1, 1, 2]</td>\n",
       "      <td>6</td>\n",
       "      <td>0.00</td>\n",
       "      <td>1</td>\n",
       "      <td>0</td>\n",
       "      <td>1</td>\n",
       "    </tr>\n",
       "    <tr>\n",
       "      <th>3</th>\n",
       "      <td>IN SEVEN PARTS,     WITH     PREFACE, INTRODUC...</td>\n",
       "      <td>[2, 5, 5, 4, 7, 12, 3, 10, 7]</td>\n",
       "      <td>55</td>\n",
       "      <td>[1, 2, 1, 1, 2, 4, 1, 3, 2]</td>\n",
       "      <td>17</td>\n",
       "      <td>0.00</td>\n",
       "      <td>11</td>\n",
       "      <td>0</td>\n",
       "      <td>1</td>\n",
       "    </tr>\n",
       "    <tr>\n",
       "      <th>4</th>\n",
       "      <td>Reprint:     _Cosmopoli: MDCCCLXXXIII: for the...</td>\n",
       "      <td>[7, 9, 12, 3, 3, 4, 7, 7, 2, 6, 3, 7, 3, 3, 7,...</td>\n",
       "      <td>216</td>\n",
       "      <td>[2, 4, 1, 1, 1, 2, 2, 4, 1, 2, 1, 2, 1, 1, 2, ...</td>\n",
       "      <td>70</td>\n",
       "      <td>-0.05</td>\n",
       "      <td>7</td>\n",
       "      <td>1</td>\n",
       "      <td>1</td>\n",
       "    </tr>\n",
       "  </tbody>\n",
       "</table>\n",
       "</div>"
      ],
      "text/plain": [
       "                                                   0  \\\n",
       "0  Printer errors have been changed and are liste...   \n",
       "1          THE     KAMA SUTRA     OF     VATSYAYANA.   \n",
       "2                      TRANSLATED FROM THE SANSCRIT.   \n",
       "3  IN SEVEN PARTS,     WITH     PREFACE, INTRODUC...   \n",
       "4  Reprint:     _Cosmopoli: MDCCCLXXXIII: for the...   \n",
       "\n",
       "                                          wrd_length  total_char  \\\n",
       "0                  [7, 6, 4, 4, 7, 3, 3, 6, 2, 3, 3]          48   \n",
       "1                                   [3, 4, 5, 2, 10]          24   \n",
       "2                                      [10, 4, 3, 8]          25   \n",
       "3                      [2, 5, 5, 4, 7, 12, 3, 10, 7]          55   \n",
       "4  [7, 9, 12, 3, 3, 4, 7, 7, 2, 6, 3, 7, 3, 3, 7,...         216   \n",
       "\n",
       "                                           syl_count  syl_sum  sentiment  \\\n",
       "0                  [2, 2, 1, 1, 1, 1, 1, 1, 1, 1, 1]       13       0.00   \n",
       "1                                    [1, 2, 2, 1, 5]       11       0.00   \n",
       "2                                       [2, 1, 1, 2]        6       0.00   \n",
       "3                        [1, 2, 1, 1, 2, 4, 1, 3, 2]       17       0.00   \n",
       "4  [2, 4, 1, 1, 1, 2, 2, 4, 1, 2, 1, 2, 1, 1, 2, ...       70      -0.05   \n",
       "\n",
       "   cluster_20  cluster_3_syl  cluster_3no_syl  \n",
       "0          11              0                1  \n",
       "1          11              0                1  \n",
       "2           1              0                1  \n",
       "3          11              0                1  \n",
       "4           7              1                1  "
      ]
     },
     "execution_count": 58,
     "metadata": {},
     "output_type": "execute_result"
    }
   ],
   "source": [
    "df_novel.head()"
   ]
  },
  {
   "cell_type": "markdown",
   "metadata": {},
   "source": [
    "Create 5 Clusters"
   ]
  },
  {
   "cell_type": "code",
   "execution_count": 59,
   "metadata": {
    "collapsed": true
   },
   "outputs": [],
   "source": [
    "df_cluster_5 = df_cluster.copy()"
   ]
  },
  {
   "cell_type": "code",
   "execution_count": 60,
   "metadata": {
    "collapsed": false
   },
   "outputs": [
    {
     "data": {
      "text/html": [
       "<div>\n",
       "<table border=\"1\" class=\"dataframe\">\n",
       "  <thead>\n",
       "    <tr style=\"text-align: right;\">\n",
       "      <th></th>\n",
       "      <th>0</th>\n",
       "      <th>total_char</th>\n",
       "      <th>syl_sum</th>\n",
       "      <th>sentiment</th>\n",
       "    </tr>\n",
       "  </thead>\n",
       "  <tbody>\n",
       "    <tr>\n",
       "      <th>0</th>\n",
       "      <td>Printer errors have been changed and are liste...</td>\n",
       "      <td>48</td>\n",
       "      <td>13</td>\n",
       "      <td>0.00</td>\n",
       "    </tr>\n",
       "    <tr>\n",
       "      <th>1</th>\n",
       "      <td>THE     KAMA SUTRA     OF     VATSYAYANA.</td>\n",
       "      <td>24</td>\n",
       "      <td>11</td>\n",
       "      <td>0.00</td>\n",
       "    </tr>\n",
       "    <tr>\n",
       "      <th>2</th>\n",
       "      <td>TRANSLATED FROM THE SANSCRIT.</td>\n",
       "      <td>25</td>\n",
       "      <td>6</td>\n",
       "      <td>0.00</td>\n",
       "    </tr>\n",
       "    <tr>\n",
       "      <th>3</th>\n",
       "      <td>IN SEVEN PARTS,     WITH     PREFACE, INTRODUC...</td>\n",
       "      <td>55</td>\n",
       "      <td>17</td>\n",
       "      <td>0.00</td>\n",
       "    </tr>\n",
       "    <tr>\n",
       "      <th>4</th>\n",
       "      <td>Reprint:     _Cosmopoli: MDCCCLXXXIII: for the...</td>\n",
       "      <td>216</td>\n",
       "      <td>70</td>\n",
       "      <td>-0.05</td>\n",
       "    </tr>\n",
       "  </tbody>\n",
       "</table>\n",
       "</div>"
      ],
      "text/plain": [
       "                                                   0  total_char  syl_sum  \\\n",
       "0  Printer errors have been changed and are liste...          48       13   \n",
       "1          THE     KAMA SUTRA     OF     VATSYAYANA.          24       11   \n",
       "2                      TRANSLATED FROM THE SANSCRIT.          25        6   \n",
       "3  IN SEVEN PARTS,     WITH     PREFACE, INTRODUC...          55       17   \n",
       "4  Reprint:     _Cosmopoli: MDCCCLXXXIII: for the...         216       70   \n",
       "\n",
       "   sentiment  \n",
       "0       0.00  \n",
       "1       0.00  \n",
       "2       0.00  \n",
       "3       0.00  \n",
       "4      -0.05  "
      ]
     },
     "execution_count": 60,
     "metadata": {},
     "output_type": "execute_result"
    }
   ],
   "source": [
    "df_cluster_5.head()"
   ]
  },
  {
   "cell_type": "code",
   "execution_count": 61,
   "metadata": {
    "collapsed": true
   },
   "outputs": [],
   "source": [
    "X = df_cluster_5.drop(0, axis=1)"
   ]
  },
  {
   "cell_type": "code",
   "execution_count": 62,
   "metadata": {
    "collapsed": true
   },
   "outputs": [],
   "source": [
    "scaler = StandardScaler()\n",
    "X_scaled = scaler.fit_transform(X)"
   ]
  },
  {
   "cell_type": "code",
   "execution_count": 63,
   "metadata": {
    "collapsed": false
   },
   "outputs": [
    {
     "data": {
      "text/plain": [
       "KMeans(copy_x=True, init='k-means++', max_iter=300, n_clusters=5, n_init=10,\n",
       "    n_jobs=1, precompute_distances='auto', random_state=1, tol=0.0001,\n",
       "    verbose=0)"
      ]
     },
     "execution_count": 63,
     "metadata": {},
     "output_type": "execute_result"
    }
   ],
   "source": [
    "km = KMeans(n_clusters=5, random_state=1)\n",
    "km.fit(X_scaled)"
   ]
  },
  {
   "cell_type": "code",
   "execution_count": 64,
   "metadata": {
    "collapsed": true
   },
   "outputs": [],
   "source": [
    "df_cluster_5['cluster'] = km.labels_"
   ]
  },
  {
   "cell_type": "code",
   "execution_count": 65,
   "metadata": {
    "collapsed": false
   },
   "outputs": [
    {
     "data": {
      "text/html": [
       "<div>\n",
       "<table border=\"1\" class=\"dataframe\">\n",
       "  <thead>\n",
       "    <tr style=\"text-align: right;\">\n",
       "      <th></th>\n",
       "      <th>total_char</th>\n",
       "      <th>syl_sum</th>\n",
       "      <th>sentiment</th>\n",
       "    </tr>\n",
       "    <tr>\n",
       "      <th>cluster</th>\n",
       "      <th></th>\n",
       "      <th></th>\n",
       "      <th></th>\n",
       "    </tr>\n",
       "  </thead>\n",
       "  <tbody>\n",
       "    <tr>\n",
       "      <th>0</th>\n",
       "      <td>94.843882</td>\n",
       "      <td>30.635021</td>\n",
       "      <td>0.423978</td>\n",
       "    </tr>\n",
       "    <tr>\n",
       "      <th>1</th>\n",
       "      <td>23.603825</td>\n",
       "      <td>7.383880</td>\n",
       "      <td>-0.024503</td>\n",
       "    </tr>\n",
       "    <tr>\n",
       "      <th>2</th>\n",
       "      <td>128.541393</td>\n",
       "      <td>41.289093</td>\n",
       "      <td>-0.009531</td>\n",
       "    </tr>\n",
       "    <tr>\n",
       "      <th>3</th>\n",
       "      <td>3772.000000</td>\n",
       "      <td>1228.000000</td>\n",
       "      <td>0.044070</td>\n",
       "    </tr>\n",
       "    <tr>\n",
       "      <th>4</th>\n",
       "      <td>260.935154</td>\n",
       "      <td>84.716724</td>\n",
       "      <td>0.139887</td>\n",
       "    </tr>\n",
       "  </tbody>\n",
       "</table>\n",
       "</div>"
      ],
      "text/plain": [
       "          total_char      syl_sum  sentiment\n",
       "cluster                                     \n",
       "0          94.843882    30.635021   0.423978\n",
       "1          23.603825     7.383880  -0.024503\n",
       "2         128.541393    41.289093  -0.009531\n",
       "3        3772.000000  1228.000000   0.044070\n",
       "4         260.935154    84.716724   0.139887"
      ]
     },
     "execution_count": 65,
     "metadata": {},
     "output_type": "execute_result"
    }
   ],
   "source": [
    "df_cluster_5.groupby('cluster').mean()"
   ]
  },
  {
   "cell_type": "markdown",
   "metadata": {},
   "source": [
    "Add cluster_5 to original dataframe"
   ]
  },
  {
   "cell_type": "code",
   "execution_count": 66,
   "metadata": {
    "collapsed": true
   },
   "outputs": [],
   "source": [
    "df_novel['cluster_5'] = df_cluster_5['cluster']"
   ]
  },
  {
   "cell_type": "code",
   "execution_count": 67,
   "metadata": {
    "collapsed": false
   },
   "outputs": [
    {
     "data": {
      "text/html": [
       "<div>\n",
       "<table border=\"1\" class=\"dataframe\">\n",
       "  <thead>\n",
       "    <tr style=\"text-align: right;\">\n",
       "      <th></th>\n",
       "      <th>0</th>\n",
       "      <th>wrd_length</th>\n",
       "      <th>total_char</th>\n",
       "      <th>syl_count</th>\n",
       "      <th>syl_sum</th>\n",
       "      <th>sentiment</th>\n",
       "      <th>cluster_20</th>\n",
       "      <th>cluster_3_syl</th>\n",
       "      <th>cluster_3no_syl</th>\n",
       "      <th>cluster_5</th>\n",
       "    </tr>\n",
       "  </thead>\n",
       "  <tbody>\n",
       "    <tr>\n",
       "      <th>0</th>\n",
       "      <td>Printer errors have been changed and are liste...</td>\n",
       "      <td>[7, 6, 4, 4, 7, 3, 3, 6, 2, 3, 3]</td>\n",
       "      <td>48</td>\n",
       "      <td>[2, 2, 1, 1, 1, 1, 1, 1, 1, 1, 1]</td>\n",
       "      <td>13</td>\n",
       "      <td>0.00</td>\n",
       "      <td>11</td>\n",
       "      <td>0</td>\n",
       "      <td>1</td>\n",
       "      <td>1</td>\n",
       "    </tr>\n",
       "    <tr>\n",
       "      <th>1</th>\n",
       "      <td>THE     KAMA SUTRA     OF     VATSYAYANA.</td>\n",
       "      <td>[3, 4, 5, 2, 10]</td>\n",
       "      <td>24</td>\n",
       "      <td>[1, 2, 2, 1, 5]</td>\n",
       "      <td>11</td>\n",
       "      <td>0.00</td>\n",
       "      <td>11</td>\n",
       "      <td>0</td>\n",
       "      <td>1</td>\n",
       "      <td>1</td>\n",
       "    </tr>\n",
       "    <tr>\n",
       "      <th>2</th>\n",
       "      <td>TRANSLATED FROM THE SANSCRIT.</td>\n",
       "      <td>[10, 4, 3, 8]</td>\n",
       "      <td>25</td>\n",
       "      <td>[2, 1, 1, 2]</td>\n",
       "      <td>6</td>\n",
       "      <td>0.00</td>\n",
       "      <td>1</td>\n",
       "      <td>0</td>\n",
       "      <td>1</td>\n",
       "      <td>1</td>\n",
       "    </tr>\n",
       "    <tr>\n",
       "      <th>3</th>\n",
       "      <td>IN SEVEN PARTS,     WITH     PREFACE, INTRODUC...</td>\n",
       "      <td>[2, 5, 5, 4, 7, 12, 3, 10, 7]</td>\n",
       "      <td>55</td>\n",
       "      <td>[1, 2, 1, 1, 2, 4, 1, 3, 2]</td>\n",
       "      <td>17</td>\n",
       "      <td>0.00</td>\n",
       "      <td>11</td>\n",
       "      <td>0</td>\n",
       "      <td>1</td>\n",
       "      <td>1</td>\n",
       "    </tr>\n",
       "    <tr>\n",
       "      <th>4</th>\n",
       "      <td>Reprint:     _Cosmopoli: MDCCCLXXXIII: for the...</td>\n",
       "      <td>[7, 9, 12, 3, 3, 4, 7, 7, 2, 6, 3, 7, 3, 3, 7,...</td>\n",
       "      <td>216</td>\n",
       "      <td>[2, 4, 1, 1, 1, 2, 2, 4, 1, 2, 1, 2, 1, 1, 2, ...</td>\n",
       "      <td>70</td>\n",
       "      <td>-0.05</td>\n",
       "      <td>7</td>\n",
       "      <td>1</td>\n",
       "      <td>1</td>\n",
       "      <td>4</td>\n",
       "    </tr>\n",
       "  </tbody>\n",
       "</table>\n",
       "</div>"
      ],
      "text/plain": [
       "                                                   0  \\\n",
       "0  Printer errors have been changed and are liste...   \n",
       "1          THE     KAMA SUTRA     OF     VATSYAYANA.   \n",
       "2                      TRANSLATED FROM THE SANSCRIT.   \n",
       "3  IN SEVEN PARTS,     WITH     PREFACE, INTRODUC...   \n",
       "4  Reprint:     _Cosmopoli: MDCCCLXXXIII: for the...   \n",
       "\n",
       "                                          wrd_length  total_char  \\\n",
       "0                  [7, 6, 4, 4, 7, 3, 3, 6, 2, 3, 3]          48   \n",
       "1                                   [3, 4, 5, 2, 10]          24   \n",
       "2                                      [10, 4, 3, 8]          25   \n",
       "3                      [2, 5, 5, 4, 7, 12, 3, 10, 7]          55   \n",
       "4  [7, 9, 12, 3, 3, 4, 7, 7, 2, 6, 3, 7, 3, 3, 7,...         216   \n",
       "\n",
       "                                           syl_count  syl_sum  sentiment  \\\n",
       "0                  [2, 2, 1, 1, 1, 1, 1, 1, 1, 1, 1]       13       0.00   \n",
       "1                                    [1, 2, 2, 1, 5]       11       0.00   \n",
       "2                                       [2, 1, 1, 2]        6       0.00   \n",
       "3                        [1, 2, 1, 1, 2, 4, 1, 3, 2]       17       0.00   \n",
       "4  [2, 4, 1, 1, 1, 2, 2, 4, 1, 2, 1, 2, 1, 1, 2, ...       70      -0.05   \n",
       "\n",
       "   cluster_20  cluster_3_syl  cluster_3no_syl  cluster_5  \n",
       "0          11              0                1          1  \n",
       "1          11              0                1          1  \n",
       "2           1              0                1          1  \n",
       "3          11              0                1          1  \n",
       "4           7              1                1          4  "
      ]
     },
     "execution_count": 67,
     "metadata": {},
     "output_type": "execute_result"
    }
   ],
   "source": [
    "df_novel.head()"
   ]
  },
  {
   "cell_type": "markdown",
   "metadata": {},
   "source": [
    "Write files to csv"
   ]
  },
  {
   "cell_type": "code",
   "execution_count": 68,
   "metadata": {
    "collapsed": true
   },
   "outputs": [],
   "source": [
    "df_novel.to_csv('data/novel_'+novel_title+'.csv', index=False)"
   ]
  },
  {
   "cell_type": "code",
   "execution_count": 69,
   "metadata": {
    "collapsed": true
   },
   "outputs": [],
   "source": [
    "df_test = pd.read_csv('data/novel_'+novel_title+'.csv')"
   ]
  },
  {
   "cell_type": "code",
   "execution_count": 70,
   "metadata": {
    "collapsed": false
   },
   "outputs": [
    {
     "data": {
      "text/html": [
       "<div>\n",
       "<table border=\"1\" class=\"dataframe\">\n",
       "  <thead>\n",
       "    <tr style=\"text-align: right;\">\n",
       "      <th></th>\n",
       "      <th>0</th>\n",
       "      <th>wrd_length</th>\n",
       "      <th>total_char</th>\n",
       "      <th>syl_count</th>\n",
       "      <th>syl_sum</th>\n",
       "      <th>sentiment</th>\n",
       "      <th>cluster_20</th>\n",
       "      <th>cluster_3_syl</th>\n",
       "      <th>cluster_3no_syl</th>\n",
       "      <th>cluster_5</th>\n",
       "    </tr>\n",
       "  </thead>\n",
       "  <tbody>\n",
       "    <tr>\n",
       "      <th>0</th>\n",
       "      <td>Printer errors have been changed and are liste...</td>\n",
       "      <td>[7, 6, 4, 4, 7, 3, 3, 6, 2, 3, 3]</td>\n",
       "      <td>48</td>\n",
       "      <td>[2 2 1 1 1 1 1 1 1 1 1]</td>\n",
       "      <td>13</td>\n",
       "      <td>0.00</td>\n",
       "      <td>11</td>\n",
       "      <td>0</td>\n",
       "      <td>1</td>\n",
       "      <td>1</td>\n",
       "    </tr>\n",
       "    <tr>\n",
       "      <th>1</th>\n",
       "      <td>THE     KAMA SUTRA     OF     VATSYAYANA.</td>\n",
       "      <td>[3, 4, 5, 2, 10]</td>\n",
       "      <td>24</td>\n",
       "      <td>[1 2 2 1 5]</td>\n",
       "      <td>11</td>\n",
       "      <td>0.00</td>\n",
       "      <td>11</td>\n",
       "      <td>0</td>\n",
       "      <td>1</td>\n",
       "      <td>1</td>\n",
       "    </tr>\n",
       "    <tr>\n",
       "      <th>2</th>\n",
       "      <td>TRANSLATED FROM THE SANSCRIT.</td>\n",
       "      <td>[10, 4, 3, 8]</td>\n",
       "      <td>25</td>\n",
       "      <td>[2 1 1 2]</td>\n",
       "      <td>6</td>\n",
       "      <td>0.00</td>\n",
       "      <td>1</td>\n",
       "      <td>0</td>\n",
       "      <td>1</td>\n",
       "      <td>1</td>\n",
       "    </tr>\n",
       "    <tr>\n",
       "      <th>3</th>\n",
       "      <td>IN SEVEN PARTS,     WITH     PREFACE, INTRODUC...</td>\n",
       "      <td>[2, 5, 5, 4, 7, 12, 3, 10, 7]</td>\n",
       "      <td>55</td>\n",
       "      <td>[1 2 1 1 2 4 1 3 2]</td>\n",
       "      <td>17</td>\n",
       "      <td>0.00</td>\n",
       "      <td>11</td>\n",
       "      <td>0</td>\n",
       "      <td>1</td>\n",
       "      <td>1</td>\n",
       "    </tr>\n",
       "    <tr>\n",
       "      <th>4</th>\n",
       "      <td>Reprint:     _Cosmopoli: MDCCCLXXXIII: for the...</td>\n",
       "      <td>[7, 9, 12, 3, 3, 4, 7, 7, 2, 6, 3, 7, 3, 3, 7,...</td>\n",
       "      <td>216</td>\n",
       "      <td>[2 4 1 1 1 2 2 4 1 2 1 2 1 1 2 4 2 3 1 1 1 2 1...</td>\n",
       "      <td>70</td>\n",
       "      <td>-0.05</td>\n",
       "      <td>7</td>\n",
       "      <td>1</td>\n",
       "      <td>1</td>\n",
       "      <td>4</td>\n",
       "    </tr>\n",
       "  </tbody>\n",
       "</table>\n",
       "</div>"
      ],
      "text/plain": [
       "                                                   0  \\\n",
       "0  Printer errors have been changed and are liste...   \n",
       "1          THE     KAMA SUTRA     OF     VATSYAYANA.   \n",
       "2                      TRANSLATED FROM THE SANSCRIT.   \n",
       "3  IN SEVEN PARTS,     WITH     PREFACE, INTRODUC...   \n",
       "4  Reprint:     _Cosmopoli: MDCCCLXXXIII: for the...   \n",
       "\n",
       "                                          wrd_length  total_char  \\\n",
       "0                  [7, 6, 4, 4, 7, 3, 3, 6, 2, 3, 3]          48   \n",
       "1                                   [3, 4, 5, 2, 10]          24   \n",
       "2                                      [10, 4, 3, 8]          25   \n",
       "3                      [2, 5, 5, 4, 7, 12, 3, 10, 7]          55   \n",
       "4  [7, 9, 12, 3, 3, 4, 7, 7, 2, 6, 3, 7, 3, 3, 7,...         216   \n",
       "\n",
       "                                           syl_count  syl_sum  sentiment  \\\n",
       "0                            [2 2 1 1 1 1 1 1 1 1 1]       13       0.00   \n",
       "1                                        [1 2 2 1 5]       11       0.00   \n",
       "2                                          [2 1 1 2]        6       0.00   \n",
       "3                                [1 2 1 1 2 4 1 3 2]       17       0.00   \n",
       "4  [2 4 1 1 1 2 2 4 1 2 1 2 1 1 2 4 2 3 1 1 1 2 1...       70      -0.05   \n",
       "\n",
       "   cluster_20  cluster_3_syl  cluster_3no_syl  cluster_5  \n",
       "0          11              0                1          1  \n",
       "1          11              0                1          1  \n",
       "2           1              0                1          1  \n",
       "3          11              0                1          1  \n",
       "4           7              1                1          4  "
      ]
     },
     "execution_count": 70,
     "metadata": {},
     "output_type": "execute_result"
    }
   ],
   "source": [
    "df_test.head()"
   ]
  },
  {
   "cell_type": "markdown",
   "metadata": {},
   "source": [
    "Find ideal amount of clusters for novel"
   ]
  },
  {
   "cell_type": "raw",
   "metadata": {},
   "source": [
    "from sklearn import metrics\n",
    "metrics.silhouette_score(X_scaled, km.labels_)"
   ]
  },
  {
   "cell_type": "raw",
   "metadata": {},
   "source": [
    "k_range = range(2,150)\n",
    "scores = []\n",
    "for k in k_range:\n",
    "    km = KMeans(n_clusters=k, random_state=1)\n",
    "    km.fit(X_scaled)\n",
    "    scores.append(metrics.silhouette_score(X_scaled, km.labels_))"
   ]
  },
  {
   "cell_type": "raw",
   "metadata": {},
   "source": [
    "plt.plot(k_range, scores)\n",
    "plt.xlabel('Number of clusters')\n",
    "plt.ylabel('Silihouette Coefficient')\n",
    "plt.grid(True)"
   ]
  },
  {
   "cell_type": "markdown",
   "metadata": {},
   "source": [
    "Find Sentiment Pattern "
   ]
  },
  {
   "cell_type": "markdown",
   "metadata": {},
   "source": [
    "20 pieces"
   ]
  },
  {
   "cell_type": "code",
   "execution_count": 71,
   "metadata": {
    "collapsed": false
   },
   "outputs": [
    {
     "data": {
      "text/html": [
       "<div>\n",
       "<table border=\"1\" class=\"dataframe\">\n",
       "  <thead>\n",
       "    <tr style=\"text-align: right;\">\n",
       "      <th></th>\n",
       "      <th>0</th>\n",
       "      <th>wrd_length</th>\n",
       "      <th>total_char</th>\n",
       "      <th>syl_count</th>\n",
       "      <th>syl_sum</th>\n",
       "      <th>sentiment</th>\n",
       "      <th>cluster_20</th>\n",
       "      <th>cluster_3_syl</th>\n",
       "      <th>cluster_3no_syl</th>\n",
       "      <th>cluster_5</th>\n",
       "    </tr>\n",
       "  </thead>\n",
       "  <tbody>\n",
       "    <tr>\n",
       "      <th>2988</th>\n",
       "      <td>Page 168: \"incanations mentioned\" changed to \"...</td>\n",
       "      <td>[4, 3, 11, 9, 7, 2, 12, 9]</td>\n",
       "      <td>57</td>\n",
       "      <td>[1, 0, 4, 2, 1, 1, 4, 2]</td>\n",
       "      <td>15</td>\n",
       "      <td>0.0</td>\n",
       "      <td>11</td>\n",
       "      <td>0</td>\n",
       "      <td>1</td>\n",
       "      <td>1</td>\n",
       "    </tr>\n",
       "    <tr>\n",
       "      <th>2989</th>\n",
       "      <td>Page 171: \"trapa bisqinosa\" changed to \"trapa ...</td>\n",
       "      <td>[4, 3, 5, 9, 7, 2, 5, 9]</td>\n",
       "      <td>44</td>\n",
       "      <td>[1, 0, 2, 4, 1, 1, 2, 4]</td>\n",
       "      <td>15</td>\n",
       "      <td>0.0</td>\n",
       "      <td>11</td>\n",
       "      <td>0</td>\n",
       "      <td>1</td>\n",
       "      <td>1</td>\n",
       "    </tr>\n",
       "    <tr>\n",
       "      <th>2990</th>\n",
       "      <td>Page 173: \"he of the same size\" changed to \"be...</td>\n",
       "      <td>[4, 3, 2, 2, 3, 4, 4, 7, 2, 2, 2, 3, 4, 4]</td>\n",
       "      <td>46</td>\n",
       "      <td>[1, 0, 1, 1, 1, 1, 1, 1, 1, 1, 1, 1, 1, 1]</td>\n",
       "      <td>13</td>\n",
       "      <td>0.0</td>\n",
       "      <td>11</td>\n",
       "      <td>0</td>\n",
       "      <td>1</td>\n",
       "      <td>1</td>\n",
       "    </tr>\n",
       "    <tr>\n",
       "      <th>2991</th>\n",
       "      <td>Page 175: \"seeds of the pomegranite\" changed t...</td>\n",
       "      <td>[4, 3, 5, 2, 3, 11, 7, 2, 5, 2, 3, 11]</td>\n",
       "      <td>58</td>\n",
       "      <td>[1, 0, 1, 1, 1, 4, 1, 1, 1, 1, 1, 4]</td>\n",
       "      <td>17</td>\n",
       "      <td>0.0</td>\n",
       "      <td>11</td>\n",
       "      <td>0</td>\n",
       "      <td>1</td>\n",
       "      <td>1</td>\n",
       "    </tr>\n",
       "    <tr>\n",
       "      <th>2992</th>\n",
       "      <td>Page 179: \"ready deliverence\" changed to \"read...</td>\n",
       "      <td>[4, 3, 5, 11, 7, 2, 5, 11]</td>\n",
       "      <td>48</td>\n",
       "      <td>[1, 0, 3, 4, 1, 1, 3, 4]</td>\n",
       "      <td>17</td>\n",
       "      <td>0.2</td>\n",
       "      <td>18</td>\n",
       "      <td>0</td>\n",
       "      <td>0</td>\n",
       "      <td>1</td>\n",
       "    </tr>\n",
       "  </tbody>\n",
       "</table>\n",
       "</div>"
      ],
      "text/plain": [
       "                                                      0  \\\n",
       "2988  Page 168: \"incanations mentioned\" changed to \"...   \n",
       "2989  Page 171: \"trapa bisqinosa\" changed to \"trapa ...   \n",
       "2990  Page 173: \"he of the same size\" changed to \"be...   \n",
       "2991  Page 175: \"seeds of the pomegranite\" changed t...   \n",
       "2992  Page 179: \"ready deliverence\" changed to \"read...   \n",
       "\n",
       "                                      wrd_length  total_char  \\\n",
       "2988                  [4, 3, 11, 9, 7, 2, 12, 9]          57   \n",
       "2989                    [4, 3, 5, 9, 7, 2, 5, 9]          44   \n",
       "2990  [4, 3, 2, 2, 3, 4, 4, 7, 2, 2, 2, 3, 4, 4]          46   \n",
       "2991      [4, 3, 5, 2, 3, 11, 7, 2, 5, 2, 3, 11]          58   \n",
       "2992                  [4, 3, 5, 11, 7, 2, 5, 11]          48   \n",
       "\n",
       "                                       syl_count  syl_sum  sentiment  \\\n",
       "2988                    [1, 0, 4, 2, 1, 1, 4, 2]       15        0.0   \n",
       "2989                    [1, 0, 2, 4, 1, 1, 2, 4]       15        0.0   \n",
       "2990  [1, 0, 1, 1, 1, 1, 1, 1, 1, 1, 1, 1, 1, 1]       13        0.0   \n",
       "2991        [1, 0, 1, 1, 1, 4, 1, 1, 1, 1, 1, 4]       17        0.0   \n",
       "2992                    [1, 0, 3, 4, 1, 1, 3, 4]       17        0.2   \n",
       "\n",
       "      cluster_20  cluster_3_syl  cluster_3no_syl  cluster_5  \n",
       "2988          11              0                1          1  \n",
       "2989          11              0                1          1  \n",
       "2990          11              0                1          1  \n",
       "2991          11              0                1          1  \n",
       "2992          18              0                0          1  "
      ]
     },
     "execution_count": 71,
     "metadata": {},
     "output_type": "execute_result"
    }
   ],
   "source": [
    "df_novel.tail()"
   ]
  },
  {
   "cell_type": "code",
   "execution_count": 72,
   "metadata": {
    "collapsed": false
   },
   "outputs": [
    {
     "data": {
      "text/plain": [
       "257558"
      ]
     },
     "execution_count": 72,
     "metadata": {},
     "output_type": "execute_result"
    }
   ],
   "source": [
    "df_novel['total_char'].sum()"
   ]
  },
  {
   "cell_type": "code",
   "execution_count": 73,
   "metadata": {
    "collapsed": false
   },
   "outputs": [],
   "source": [
    "t = 0\n",
    "x = 0\n",
    "ratio = (df_novel['total_char'].sum()/20) - (.06 * (int(len(df_novel) - 1)))\n",
    "# or figure out some better code. \n",
    "def find_this(t, x):\n",
    "    w = 0    \n",
    "    sent_stop = []\n",
    "    while w <= ratio:\n",
    "        w = df_novel['total_char'][t:x].sum()\n",
    "        sent_stop.append(x)\n",
    "        x += 1\n",
    "    return max(sent_stop)     "
   ]
  },
  {
   "cell_type": "code",
   "execution_count": 74,
   "metadata": {
    "collapsed": false
   },
   "outputs": [
    {
     "name": "stdout",
     "output_type": "stream",
     "text": [
      "df_novel['total_char'][0:119]\n",
      "df_novel['total_char'][119:315]\n",
      "df_novel['total_char'][315:525]\n",
      "df_novel['total_char'][525:720]\n",
      "df_novel['total_char'][720:845]\n",
      "df_novel['total_char'][845:1013]\n",
      "df_novel['total_char'][1013:1143]\n",
      "df_novel['total_char'][1143:1305]\n",
      "df_novel['total_char'][1305:1417]\n",
      "df_novel['total_char'][1417:1487]\n",
      "df_novel['total_char'][1487:1597]\n",
      "df_novel['total_char'][1597:1752]\n",
      "df_novel['total_char'][1752:1975]\n",
      "df_novel['total_char'][1975:2080]\n",
      "df_novel['total_char'][2080:2191]\n",
      "df_novel['total_char'][2191:2286]\n",
      "df_novel['total_char'][2286:2498]\n",
      "df_novel['total_char'][2498:2613]\n",
      "df_novel['total_char'][2613:2759]\n",
      "df_novel['total_char'][2759:2942]\n"
     ]
    }
   ],
   "source": [
    "t = 0\n",
    "x = 0\n",
    "start_point = []\n",
    "stop_point = []\n",
    "for n in range(1, 21):\n",
    "    s = find_this(t, x)\n",
    "    print \"df_novel['total_char'][%s:%s]\" %(t, s)\n",
    "    start_point.append(t)\n",
    "    stop_point.append(s)\n",
    "    t = s\n",
    "    x = s + 1      "
   ]
  },
  {
   "cell_type": "code",
   "execution_count": 75,
   "metadata": {
    "collapsed": false
   },
   "outputs": [
    {
     "name": "stdout",
     "output_type": "stream",
     "text": [
      "0\n",
      "119\n",
      "0.118018591455\n",
      "119\n",
      "315\n",
      "0.0549034449381\n",
      "315\n",
      "525\n",
      "0.0109748891981\n",
      "525\n",
      "720\n",
      "0.0604009797081\n",
      "720\n",
      "845\n",
      "0.107352804233\n",
      "845\n",
      "1013\n",
      "0.0732556890035\n",
      "1013\n",
      "1143\n",
      "0.113125016437\n",
      "1143\n",
      "1305\n",
      "0.084102905472\n",
      "1305\n",
      "1417\n",
      "0.0940695566421\n",
      "1417\n",
      "1487\n",
      "0.119165103415\n",
      "1487\n",
      "1597\n",
      "0.0796829906205\n",
      "1597\n",
      "1752\n",
      "0.0718662198017\n",
      "1752\n",
      "1975\n",
      "0.0539014046077\n",
      "1975\n",
      "2080\n",
      "0.070116261252\n",
      "2080\n",
      "2191\n",
      "0.0994231410898\n",
      "2191\n",
      "2286\n",
      "0.0852771220132\n",
      "2286\n",
      "2498\n",
      "0.042617300589\n",
      "2498\n",
      "2613\n",
      "0.0299036942181\n",
      "2613\n",
      "2759\n",
      "0.0328021593133\n",
      "2759\n",
      "2942\n",
      "0.0550506016449\n"
     ]
    }
   ],
   "source": [
    "twenty_piece_char = []\n",
    "st = 0\n",
    "for l in start_point: \n",
    "    strt = start_point[st]\n",
    "    stp = stop_point[st]\n",
    "    print strt\n",
    "    print stp\n",
    "    mn = df_novel['sentiment'][strt:stp].mean()\n",
    "    twenty_piece_char.append(mn)\n",
    "    print mn\n",
    "    st +=1   "
   ]
  },
  {
   "cell_type": "code",
   "execution_count": 76,
   "metadata": {
    "collapsed": false
   },
   "outputs": [
    {
     "name": "stdout",
     "output_type": "stream",
     "text": [
      "[ 0.11801859  0.05490344  0.01097489  0.06040098  0.1073528   0.07325569\n",
      "  0.11312502  0.08410291  0.09406956  0.1191651   0.07968299  0.07186622\n",
      "  0.0539014   0.07011626  0.09942314  0.08527712  0.0426173   0.02990369\n",
      "  0.03280216  0.0550506 ]\n"
     ]
    }
   ],
   "source": [
    "n = np.array(n)\n",
    "twenty_piece_char = np.array(twenty_piece_char)\n",
    "print twenty_piece_char"
   ]
  },
  {
   "cell_type": "code",
   "execution_count": 77,
   "metadata": {
    "collapsed": false
   },
   "outputs": [
    {
     "data": {
      "image/png": "[encoded data removed]",
      "text/plain": [
       "<matplotlib.figure.Figure at 0x11dec0990>"
      ]
     },
     "metadata": {},
     "output_type": "display_data"
    }
   ],
   "source": [
    "plt.bar(range(20), twenty_piece_char)\n",
    "plt.ylabel('sentiment')\n",
    "plt.show()"
   ]
  },
  {
   "cell_type": "markdown",
   "metadata": {},
   "source": [
    "Create 3 piece sentiment pattern - need to fix this code for the three piece"
   ]
  },
  {
   "cell_type": "code",
   "execution_count": 78,
   "metadata": {
    "collapsed": false
   },
   "outputs": [
    {
     "data": {
      "text/html": [
       "<div>\n",
       "<table border=\"1\" class=\"dataframe\">\n",
       "  <thead>\n",
       "    <tr style=\"text-align: right;\">\n",
       "      <th></th>\n",
       "      <th>0</th>\n",
       "      <th>wrd_length</th>\n",
       "      <th>total_char</th>\n",
       "      <th>syl_count</th>\n",
       "      <th>syl_sum</th>\n",
       "      <th>sentiment</th>\n",
       "      <th>cluster_20</th>\n",
       "      <th>cluster_3_syl</th>\n",
       "      <th>cluster_3no_syl</th>\n",
       "      <th>cluster_5</th>\n",
       "    </tr>\n",
       "  </thead>\n",
       "  <tbody>\n",
       "    <tr>\n",
       "      <th>2988</th>\n",
       "      <td>Page 168: \"incanations mentioned\" changed to \"...</td>\n",
       "      <td>[4, 3, 11, 9, 7, 2, 12, 9]</td>\n",
       "      <td>57</td>\n",
       "      <td>[1, 0, 4, 2, 1, 1, 4, 2]</td>\n",
       "      <td>15</td>\n",
       "      <td>0.0</td>\n",
       "      <td>11</td>\n",
       "      <td>0</td>\n",
       "      <td>1</td>\n",
       "      <td>1</td>\n",
       "    </tr>\n",
       "    <tr>\n",
       "      <th>2989</th>\n",
       "      <td>Page 171: \"trapa bisqinosa\" changed to \"trapa ...</td>\n",
       "      <td>[4, 3, 5, 9, 7, 2, 5, 9]</td>\n",
       "      <td>44</td>\n",
       "      <td>[1, 0, 2, 4, 1, 1, 2, 4]</td>\n",
       "      <td>15</td>\n",
       "      <td>0.0</td>\n",
       "      <td>11</td>\n",
       "      <td>0</td>\n",
       "      <td>1</td>\n",
       "      <td>1</td>\n",
       "    </tr>\n",
       "    <tr>\n",
       "      <th>2990</th>\n",
       "      <td>Page 173: \"he of the same size\" changed to \"be...</td>\n",
       "      <td>[4, 3, 2, 2, 3, 4, 4, 7, 2, 2, 2, 3, 4, 4]</td>\n",
       "      <td>46</td>\n",
       "      <td>[1, 0, 1, 1, 1, 1, 1, 1, 1, 1, 1, 1, 1, 1]</td>\n",
       "      <td>13</td>\n",
       "      <td>0.0</td>\n",
       "      <td>11</td>\n",
       "      <td>0</td>\n",
       "      <td>1</td>\n",
       "      <td>1</td>\n",
       "    </tr>\n",
       "    <tr>\n",
       "      <th>2991</th>\n",
       "      <td>Page 175: \"seeds of the pomegranite\" changed t...</td>\n",
       "      <td>[4, 3, 5, 2, 3, 11, 7, 2, 5, 2, 3, 11]</td>\n",
       "      <td>58</td>\n",
       "      <td>[1, 0, 1, 1, 1, 4, 1, 1, 1, 1, 1, 4]</td>\n",
       "      <td>17</td>\n",
       "      <td>0.0</td>\n",
       "      <td>11</td>\n",
       "      <td>0</td>\n",
       "      <td>1</td>\n",
       "      <td>1</td>\n",
       "    </tr>\n",
       "    <tr>\n",
       "      <th>2992</th>\n",
       "      <td>Page 179: \"ready deliverence\" changed to \"read...</td>\n",
       "      <td>[4, 3, 5, 11, 7, 2, 5, 11]</td>\n",
       "      <td>48</td>\n",
       "      <td>[1, 0, 3, 4, 1, 1, 3, 4]</td>\n",
       "      <td>17</td>\n",
       "      <td>0.2</td>\n",
       "      <td>18</td>\n",
       "      <td>0</td>\n",
       "      <td>0</td>\n",
       "      <td>1</td>\n",
       "    </tr>\n",
       "  </tbody>\n",
       "</table>\n",
       "</div>"
      ],
      "text/plain": [
       "                                                      0  \\\n",
       "2988  Page 168: \"incanations mentioned\" changed to \"...   \n",
       "2989  Page 171: \"trapa bisqinosa\" changed to \"trapa ...   \n",
       "2990  Page 173: \"he of the same size\" changed to \"be...   \n",
       "2991  Page 175: \"seeds of the pomegranite\" changed t...   \n",
       "2992  Page 179: \"ready deliverence\" changed to \"read...   \n",
       "\n",
       "                                      wrd_length  total_char  \\\n",
       "2988                  [4, 3, 11, 9, 7, 2, 12, 9]          57   \n",
       "2989                    [4, 3, 5, 9, 7, 2, 5, 9]          44   \n",
       "2990  [4, 3, 2, 2, 3, 4, 4, 7, 2, 2, 2, 3, 4, 4]          46   \n",
       "2991      [4, 3, 5, 2, 3, 11, 7, 2, 5, 2, 3, 11]          58   \n",
       "2992                  [4, 3, 5, 11, 7, 2, 5, 11]          48   \n",
       "\n",
       "                                       syl_count  syl_sum  sentiment  \\\n",
       "2988                    [1, 0, 4, 2, 1, 1, 4, 2]       15        0.0   \n",
       "2989                    [1, 0, 2, 4, 1, 1, 2, 4]       15        0.0   \n",
       "2990  [1, 0, 1, 1, 1, 1, 1, 1, 1, 1, 1, 1, 1, 1]       13        0.0   \n",
       "2991        [1, 0, 1, 1, 1, 4, 1, 1, 1, 1, 1, 4]       17        0.0   \n",
       "2992                    [1, 0, 3, 4, 1, 1, 3, 4]       17        0.2   \n",
       "\n",
       "      cluster_20  cluster_3_syl  cluster_3no_syl  cluster_5  \n",
       "2988          11              0                1          1  \n",
       "2989          11              0                1          1  \n",
       "2990          11              0                1          1  \n",
       "2991          11              0                1          1  \n",
       "2992          18              0                0          1  "
      ]
     },
     "execution_count": 78,
     "metadata": {},
     "output_type": "execute_result"
    }
   ],
   "source": [
    "df_novel.tail()"
   ]
  },
  {
   "cell_type": "code",
   "execution_count": 79,
   "metadata": {
    "collapsed": true
   },
   "outputs": [],
   "source": [
    "t = 0\n",
    "x = 0\n",
    "ratio = (df_novel['total_char'].sum()/3) - (.06 * (int(len(df_novel) - 1)))\n",
    "def find_this(t, x):\n",
    "    w = 0    \n",
    "    sent_stop = []\n",
    "    while w < ratio:\n",
    "        w = df_novel['total_char'][t:x].sum()\n",
    "        sent_stop.append(x)\n",
    "        x += 1\n",
    "    return max(sent_stop)  "
   ]
  },
  {
   "cell_type": "code",
   "execution_count": 80,
   "metadata": {
    "collapsed": false
   },
   "outputs": [
    {
     "name": "stdout",
     "output_type": "stream",
     "text": [
      "df_novel['total_char'][0:1116]\n",
      "df_novel['total_char'][1116:2027]\n",
      "df_novel['total_char'][2027:2983]\n"
     ]
    }
   ],
   "source": [
    "t = 0\n",
    "x = 0\n",
    "start_point = []\n",
    "stop_point = []\n",
    "for n in range(0, 3):\n",
    "    s = find_this(t, x)\n",
    "    print \"df_novel['total_char'][%s:%s]\" %(t, s)\n",
    "    start_point.append(t)\n",
    "    stop_point.append(s)\n",
    "    t = s\n",
    "    x = s + 1  "
   ]
  },
  {
   "cell_type": "code",
   "execution_count": 81,
   "metadata": {
    "collapsed": false
   },
   "outputs": [
    {
     "name": "stdout",
     "output_type": "stream",
     "text": [
      "0\n",
      "1116\n",
      "0.0657381376769\n",
      "1116\n",
      "2027\n",
      "0.0808569067389\n",
      "2027\n",
      "2983\n",
      "0.0540237502473\n"
     ]
    }
   ],
   "source": [
    "three_piece_char = []\n",
    "st = 0\n",
    "for l in start_point: \n",
    "    strt = start_point[st]\n",
    "    stp = stop_point[st]\n",
    "    print strt\n",
    "    print stp\n",
    "    mn = df_novel['sentiment'][strt:stp].mean()\n",
    "    three_piece_char.append(mn)\n",
    "    print mn\n",
    "    st +=1"
   ]
  },
  {
   "cell_type": "code",
   "execution_count": 82,
   "metadata": {
    "collapsed": false
   },
   "outputs": [
    {
     "name": "stdout",
     "output_type": "stream",
     "text": [
      "[ 0.06573814  0.08085691  0.05402375]\n"
     ]
    }
   ],
   "source": [
    "n = np.array(n)\n",
    "three_piece_char = np.array(three_piece_char)\n",
    "print three_piece_char"
   ]
  },
  {
   "cell_type": "code",
   "execution_count": 83,
   "metadata": {
    "collapsed": false
   },
   "outputs": [
    {
     "data": {
      "image/png": "[encoded data removed]",
      "text/plain": [
       "<matplotlib.figure.Figure at 0x11dd281d0>"
      ]
     },
     "metadata": {},
     "output_type": "display_data"
    }
   ],
   "source": [
    "plt.bar(range(3), three_piece_char)\n",
    "plt.ylabel('sentiment')\n",
    "plt.show()"
   ]
  },
  {
   "cell_type": "markdown",
   "metadata": {},
   "source": [
    "Create sentiment pattern based on ideal cluster numbers"
   ]
  }
 ],
 "metadata": {
  "kernelspec": {
   "display_name": "Python 2",
   "language": "python",
   "name": "python2"
  },
  "language_info": {
   "codemirror_mode": {
    "name": "ipython",
    "version": 2
   },
   "file_extension": ".py",
   "mimetype": "text/x-python",
   "name": "python",
   "nbconvert_exporter": "python",
   "pygments_lexer": "ipython2",
   "version": "2.7.11"
  }
 },
 "nbformat": 4,
 "nbformat_minor": 0
}
