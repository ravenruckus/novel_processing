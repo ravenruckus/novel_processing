{
 "cells": [
  {
   "cell_type": "code",
   "execution_count": 2,
   "metadata": {
    "collapsed": true
   },
   "outputs": [],
   "source": [
    "import pandas as pd\n",
    "from textblob import TextBlob\n",
    "import csv\n",
    "from gutenberg.acquire import load_etext\n",
    "from gutenberg.cleanup import strip_headers\n",
    "import os\n",
    "import numpy as np"
   ]
  },
  {
   "cell_type": "code",
   "execution_count": 3,
   "metadata": {
    "collapsed": true
   },
   "outputs": [],
   "source": [
    "import seaborn as sns\n",
    "import matplotlib.pyplot as plt\n",
    "%matplotlib inline\n",
    "plt.rcParams['figure.figsize'] = (8, 6)\n",
    "plt.rcParams['font.size'] = 14"
   ]
  },
  {
   "cell_type": "markdown",
   "metadata": {},
   "source": [
    "Create the novel variables"
   ]
  },
  {
   "cell_type": "code",
   "execution_count": 4,
   "metadata": {
    "collapsed": true
   },
   "outputs": [],
   "source": [
    "n = 11 \n",
    "#novel number\n",
    "t = \"Alice_Wonderland\"\n",
    "#novel name\n",
    "s = 1\n",
    "#how many rows to skip"
   ]
  },
  {
   "cell_type": "markdown",
   "metadata": {},
   "source": [
    "* Get the novels from Gutenberg.\n",
    "* Strip them of unwanted information.\n",
    "* Tokenize the text into sentences."
   ]
  },
  {
   "cell_type": "code",
   "execution_count": 5,
   "metadata": {
    "collapsed": true
   },
   "outputs": [],
   "source": [
    "novel = strip_headers(load_etext(n))\n",
    "novel = novel.replace('\\n', ' ')\n",
    "novel= TextBlob(novel)\n",
    "novel_sentences = novel.sentences\n",
    "novel_title = t"
   ]
  },
  {
   "cell_type": "markdown",
   "metadata": {},
   "source": [
    "Write the sentences to a csv file. \n",
    "-There is a bug I haven't figure out yet that requires me to write to csv twice to avoid errors."
   ]
  },
  {
   "cell_type": "code",
   "execution_count": 8,
   "metadata": {
    "collapsed": true
   },
   "outputs": [],
   "source": [
    "for l in range(2):\n",
    "    novelWriter = csv.writer(open('data/novel_'+novel_title+'.csv', 'w'), delimiter=',')\n",
    "    for sentence in novel_sentences:\n",
    "        novelWriter.writerow([sentence])"
   ]
  },
  {
   "cell_type": "markdown",
   "metadata": {},
   "source": [
    "Read in the csv file to pandas"
   ]
  },
  {
   "cell_type": "code",
   "execution_count": 9,
   "metadata": {
    "collapsed": false
   },
   "outputs": [],
   "source": [
    "df_novel = pd.read_csv('data/novel_'+novel_title+'.csv', skiprows = s, header=None)"
   ]
  },
  {
   "cell_type": "code",
   "execution_count": 10,
   "metadata": {
    "collapsed": false
   },
   "outputs": [
    {
     "data": {
      "text/html": [
       "<div>\n",
       "<table border=\"1\" class=\"dataframe\">\n",
       "  <thead>\n",
       "    <tr style=\"text-align: right;\">\n",
       "      <th></th>\n",
       "      <th>0</th>\n",
       "    </tr>\n",
       "  </thead>\n",
       "  <tbody>\n",
       "    <tr>\n",
       "      <th>0</th>\n",
       "      <td>Down the Rabbit-Hole  Alice was beginning to g...</td>\n",
       "    </tr>\n",
       "    <tr>\n",
       "      <th>1</th>\n",
       "      <td>So she was considering in her own mind (as wel...</td>\n",
       "    </tr>\n",
       "    <tr>\n",
       "      <th>2</th>\n",
       "      <td>There was nothing so VERY remarkable in that; ...</td>\n",
       "    </tr>\n",
       "    <tr>\n",
       "      <th>3</th>\n",
       "      <td>Oh dear!</td>\n",
       "    </tr>\n",
       "    <tr>\n",
       "      <th>4</th>\n",
       "      <td>I shall be late!'</td>\n",
       "    </tr>\n",
       "  </tbody>\n",
       "</table>\n",
       "</div>"
      ],
      "text/plain": [
       "                                                   0\n",
       "0  Down the Rabbit-Hole  Alice was beginning to g...\n",
       "1  So she was considering in her own mind (as wel...\n",
       "2  There was nothing so VERY remarkable in that; ...\n",
       "3                                           Oh dear!\n",
       "4                                  I shall be late!'"
      ]
     },
     "execution_count": 10,
     "metadata": {},
     "output_type": "execute_result"
    }
   ],
   "source": [
    "df_novel.head()"
   ]
  },
  {
   "cell_type": "markdown",
   "metadata": {},
   "source": [
    "Create the wrd_length and total_char columns."
   ]
  },
  {
   "cell_type": "code",
   "execution_count": 11,
   "metadata": {
    "collapsed": true
   },
   "outputs": [],
   "source": [
    "wrd_length = []\n",
    "total_char = []\n",
    "def wrd_char_counts(sentence):\n",
    "    total_chars = 0\n",
    "    wrd_counts = []\n",
    "    for word in sentence:\n",
    "        char_count = len(word)\n",
    "        wrd_counts.append(char_count)\n",
    "        total_chars += char_count\n",
    "    total_char.append(total_chars)\n",
    "    wrd_length.append(wrd_counts)"
   ]
  },
  {
   "cell_type": "code",
   "execution_count": 12,
   "metadata": {
    "collapsed": true
   },
   "outputs": [],
   "source": [
    "for l in df_novel[0]:\n",
    "    sent = TextBlob(l)\n",
    "    wrd_char_counts(sent.words)"
   ]
  },
  {
   "cell_type": "code",
   "execution_count": 13,
   "metadata": {
    "collapsed": true
   },
   "outputs": [],
   "source": [
    "df_novel['wrd_length'] = wrd_length\n",
    "df_novel['total_char'] = total_char"
   ]
  },
  {
   "cell_type": "code",
   "execution_count": 14,
   "metadata": {
    "collapsed": false
   },
   "outputs": [
    {
     "data": {
      "text/html": [
       "<div>\n",
       "<table border=\"1\" class=\"dataframe\">\n",
       "  <thead>\n",
       "    <tr style=\"text-align: right;\">\n",
       "      <th></th>\n",
       "      <th>0</th>\n",
       "      <th>wrd_length</th>\n",
       "      <th>total_char</th>\n",
       "    </tr>\n",
       "  </thead>\n",
       "  <tbody>\n",
       "    <tr>\n",
       "      <th>0</th>\n",
       "      <td>Down the Rabbit-Hole  Alice was beginning to g...</td>\n",
       "      <td>[4, 3, 11, 5, 3, 9, 2, 3, 4, 5, 2, 7, 2, 3, 6,...</td>\n",
       "      <td>256</td>\n",
       "    </tr>\n",
       "    <tr>\n",
       "      <th>1</th>\n",
       "      <td>So she was considering in her own mind (as wel...</td>\n",
       "      <td>[2, 3, 3, 11, 2, 3, 3, 4, 2, 4, 2, 3, 5, 3, 3,...</td>\n",
       "      <td>229</td>\n",
       "    </tr>\n",
       "    <tr>\n",
       "      <th>2</th>\n",
       "      <td>There was nothing so VERY remarkable in that; ...</td>\n",
       "      <td>[5, 3, 7, 2, 4, 10, 2, 4, 3, 3, 5, 5, 2, 2, 4,...</td>\n",
       "      <td>109</td>\n",
       "    </tr>\n",
       "    <tr>\n",
       "      <th>3</th>\n",
       "      <td>Oh dear!</td>\n",
       "      <td>[2, 4]</td>\n",
       "      <td>6</td>\n",
       "    </tr>\n",
       "    <tr>\n",
       "      <th>4</th>\n",
       "      <td>I shall be late!'</td>\n",
       "      <td>[1, 5, 2, 4]</td>\n",
       "      <td>12</td>\n",
       "    </tr>\n",
       "  </tbody>\n",
       "</table>\n",
       "</div>"
      ],
      "text/plain": [
       "                                                   0  \\\n",
       "0  Down the Rabbit-Hole  Alice was beginning to g...   \n",
       "1  So she was considering in her own mind (as wel...   \n",
       "2  There was nothing so VERY remarkable in that; ...   \n",
       "3                                           Oh dear!   \n",
       "4                                  I shall be late!'   \n",
       "\n",
       "                                          wrd_length  total_char  \n",
       "0  [4, 3, 11, 5, 3, 9, 2, 3, 4, 5, 2, 7, 2, 3, 6,...         256  \n",
       "1  [2, 3, 3, 11, 2, 3, 3, 4, 2, 4, 2, 3, 5, 3, 3,...         229  \n",
       "2  [5, 3, 7, 2, 4, 10, 2, 4, 3, 3, 5, 5, 2, 2, 4,...         109  \n",
       "3                                             [2, 4]           6  \n",
       "4                                       [1, 5, 2, 4]          12  "
      ]
     },
     "execution_count": 14,
     "metadata": {},
     "output_type": "execute_result"
    }
   ],
   "source": [
    "df_novel.head()"
   ]
  },
  {
   "cell_type": "markdown",
   "metadata": {},
   "source": [
    "Create syllable count column"
   ]
  },
  {
   "cell_type": "code",
   "execution_count": 15,
   "metadata": {
    "collapsed": true
   },
   "outputs": [],
   "source": [
    "def CountSyllables(word, isName=True):\n",
    "    vowels = \"aeiouy\"\n",
    "    #single syllables in words like bread and lead, but split in names like Breanne and Adreann\n",
    "    specials = [\"ia\",\"ea\"] if isName else [\"ia\"]\n",
    "    specials_except_end = [\"ie\",\"ya\",\"es\",\"ed\"]  #seperate syllables unless ending the word\n",
    "    currentWord = word.lower()\n",
    "    numVowels = 0\n",
    "    lastWasVowel = False\n",
    "    last_letter = \"\"\n",
    "\n",
    "    for letter in currentWord:\n",
    "        if letter in vowels:\n",
    "            #don't count diphthongs unless special cases\n",
    "            combo = last_letter+letter\n",
    "            if lastWasVowel and combo not in specials and combo not in specials_except_end:\n",
    "                lastWasVowel = True\n",
    "            else:\n",
    "                numVowels += 1\n",
    "                lastWasVowel = True\n",
    "        else:\n",
    "            lastWasVowel = False\n",
    "\n",
    "        last_letter = letter\n",
    "\n",
    "    #remove es & ed which are usually silent\n",
    "    if len(currentWord) > 2 and currentWord[-2:] in specials_except_end:\n",
    "        numVowels -= 1\n",
    "\n",
    "    #remove silent single e, but not ee since it counted it before and we should be correct\n",
    "    elif len(currentWord) > 2 and currentWord[-1:] == \"e\" and currentWord[-2:] != \"ee\" and currentWord != 'the':\n",
    "        numVowels -= 1\n",
    "\n",
    "    return numVowels"
   ]
  },
  {
   "cell_type": "code",
   "execution_count": 16,
   "metadata": {
    "collapsed": true
   },
   "outputs": [],
   "source": [
    "syl = []\n",
    "for l in df_novel[0]:\n",
    "    sent = TextBlob(l)\n",
    "    syl_single = []\n",
    "    for x in sent.words:\n",
    "        m = CountSyllables(x)\n",
    "        syl_single.append(m)\n",
    "    syl.append(syl_single)  "
   ]
  },
  {
   "cell_type": "code",
   "execution_count": 17,
   "metadata": {
    "collapsed": true
   },
   "outputs": [],
   "source": [
    "syl_count_arr = []\n",
    "for n in syl:\n",
    "    n = np.array(n)\n",
    "    syl_count_arr.append(n)"
   ]
  },
  {
   "cell_type": "code",
   "execution_count": 18,
   "metadata": {
    "collapsed": true
   },
   "outputs": [],
   "source": [
    "df_novel['syl_count'] = syl_count_arr"
   ]
  },
  {
   "cell_type": "code",
   "execution_count": 20,
   "metadata": {
    "collapsed": false
   },
   "outputs": [
    {
     "data": {
      "text/html": [
       "<div>\n",
       "<table border=\"1\" class=\"dataframe\">\n",
       "  <thead>\n",
       "    <tr style=\"text-align: right;\">\n",
       "      <th></th>\n",
       "      <th>0</th>\n",
       "      <th>wrd_length</th>\n",
       "      <th>total_char</th>\n",
       "      <th>syl_count</th>\n",
       "    </tr>\n",
       "  </thead>\n",
       "  <tbody>\n",
       "    <tr>\n",
       "      <th>0</th>\n",
       "      <td>Down the Rabbit-Hole  Alice was beginning to g...</td>\n",
       "      <td>[4, 3, 11, 5, 3, 9, 2, 3, 4, 5, 2, 7, 2, 3, 6,...</td>\n",
       "      <td>256</td>\n",
       "      <td>[1, 1, 3, 2, 1, 3, 1, 1, 2, 1, 1, 2, 1, 1, 2, ...</td>\n",
       "    </tr>\n",
       "    <tr>\n",
       "      <th>1</th>\n",
       "      <td>So she was considering in her own mind (as wel...</td>\n",
       "      <td>[2, 3, 3, 11, 2, 3, 3, 4, 2, 4, 2, 3, 5, 3, 3,...</td>\n",
       "      <td>229</td>\n",
       "      <td>[1, 0, 1, 4, 1, 1, 1, 1, 1, 1, 1, 0, 1, 1, 1, ...</td>\n",
       "    </tr>\n",
       "    <tr>\n",
       "      <th>2</th>\n",
       "      <td>There was nothing so VERY remarkable in that; ...</td>\n",
       "      <td>[5, 3, 7, 2, 4, 10, 2, 4, 3, 3, 5, 5, 2, 2, 4,...</td>\n",
       "      <td>109</td>\n",
       "      <td>[1, 1, 2, 1, 2, 3, 1, 1, 1, 1, 2, 1, 1, 1, 2, ...</td>\n",
       "    </tr>\n",
       "    <tr>\n",
       "      <th>3</th>\n",
       "      <td>Oh dear!</td>\n",
       "      <td>[2, 4]</td>\n",
       "      <td>6</td>\n",
       "      <td>[1, 2]</td>\n",
       "    </tr>\n",
       "    <tr>\n",
       "      <th>4</th>\n",
       "      <td>I shall be late!'</td>\n",
       "      <td>[1, 5, 2, 4]</td>\n",
       "      <td>12</td>\n",
       "      <td>[1, 1, 1, 1]</td>\n",
       "    </tr>\n",
       "  </tbody>\n",
       "</table>\n",
       "</div>"
      ],
      "text/plain": [
       "                                                   0  \\\n",
       "0  Down the Rabbit-Hole  Alice was beginning to g...   \n",
       "1  So she was considering in her own mind (as wel...   \n",
       "2  There was nothing so VERY remarkable in that; ...   \n",
       "3                                           Oh dear!   \n",
       "4                                  I shall be late!'   \n",
       "\n",
       "                                          wrd_length  total_char  \\\n",
       "0  [4, 3, 11, 5, 3, 9, 2, 3, 4, 5, 2, 7, 2, 3, 6,...         256   \n",
       "1  [2, 3, 3, 11, 2, 3, 3, 4, 2, 4, 2, 3, 5, 3, 3,...         229   \n",
       "2  [5, 3, 7, 2, 4, 10, 2, 4, 3, 3, 5, 5, 2, 2, 4,...         109   \n",
       "3                                             [2, 4]           6   \n",
       "4                                       [1, 5, 2, 4]          12   \n",
       "\n",
       "                                           syl_count  \n",
       "0  [1, 1, 3, 2, 1, 3, 1, 1, 2, 1, 1, 2, 1, 1, 2, ...  \n",
       "1  [1, 0, 1, 4, 1, 1, 1, 1, 1, 1, 1, 0, 1, 1, 1, ...  \n",
       "2  [1, 1, 2, 1, 2, 3, 1, 1, 1, 1, 2, 1, 1, 1, 2, ...  \n",
       "3                                             [1, 2]  \n",
       "4                                       [1, 1, 1, 1]  "
      ]
     },
     "execution_count": 20,
     "metadata": {},
     "output_type": "execute_result"
    }
   ],
   "source": [
    "df_novel.head()"
   ]
  },
  {
   "cell_type": "code",
   "execution_count": null,
   "metadata": {
    "collapsed": true
   },
   "outputs": [],
   "source": [
    "#If novel has a lot of numbers for chapter headings.\n",
    "#d = df_novel[df_novel['total_char']<=2]"
   ]
  },
  {
   "cell_type": "markdown",
   "metadata": {},
   "source": [
    "Create syllable sum column"
   ]
  },
  {
   "cell_type": "code",
   "execution_count": 21,
   "metadata": {
    "collapsed": true
   },
   "outputs": [],
   "source": [
    "syl_sum = []\n",
    "for l in range(0,len(df_novel)):\n",
    "    syl_sum.append(df_novel['syl_count'][l].sum())"
   ]
  },
  {
   "cell_type": "code",
   "execution_count": 22,
   "metadata": {
    "collapsed": true
   },
   "outputs": [],
   "source": [
    "df_novel['syl_sum'] = syl_sum"
   ]
  },
  {
   "cell_type": "markdown",
   "metadata": {},
   "source": [
    "Create sentiment column"
   ]
  },
  {
   "cell_type": "code",
   "execution_count": 23,
   "metadata": {
    "collapsed": true
   },
   "outputs": [],
   "source": [
    "def detect_sentiment(text):\n",
    "    return TextBlob(text.decode('utf-8')).sentiment.polarity"
   ]
  },
  {
   "cell_type": "code",
   "execution_count": 24,
   "metadata": {
    "collapsed": true
   },
   "outputs": [],
   "source": [
    "df_novel['sentiment'] = df_novel[0].apply(detect_sentiment)"
   ]
  },
  {
   "cell_type": "markdown",
   "metadata": {},
   "source": [
    "Write all columns to csv file"
   ]
  },
  {
   "cell_type": "code",
   "execution_count": 25,
   "metadata": {
    "collapsed": true
   },
   "outputs": [],
   "source": [
    "df_novel.to_csv('data/novel_'+novel_title+'.csv', index=False)"
   ]
  },
  {
   "cell_type": "code",
   "execution_count": 26,
   "metadata": {
    "collapsed": true
   },
   "outputs": [],
   "source": [
    "#test\n",
    "df_test = pd.read_csv('data/novel_'+novel_title+'.csv')"
   ]
  },
  {
   "cell_type": "code",
   "execution_count": 27,
   "metadata": {
    "collapsed": false
   },
   "outputs": [
    {
     "data": {
      "text/html": [
       "<div>\n",
       "<table border=\"1\" class=\"dataframe\">\n",
       "  <thead>\n",
       "    <tr style=\"text-align: right;\">\n",
       "      <th></th>\n",
       "      <th>0</th>\n",
       "      <th>wrd_length</th>\n",
       "      <th>total_char</th>\n",
       "      <th>syl_count</th>\n",
       "      <th>syl_sum</th>\n",
       "      <th>sentiment</th>\n",
       "    </tr>\n",
       "  </thead>\n",
       "  <tbody>\n",
       "    <tr>\n",
       "      <th>0</th>\n",
       "      <td>Down the Rabbit-Hole  Alice was beginning to g...</td>\n",
       "      <td>[4, 3, 11, 5, 3, 9, 2, 3, 4, 5, 2, 7, 2, 3, 6,...</td>\n",
       "      <td>256</td>\n",
       "      <td>[1 1 3 2 1 3 1 1 2 1 1 2 1 1 2 1 1 1 1 1 2 2 1...</td>\n",
       "      <td>83</td>\n",
       "      <td>-0.337778</td>\n",
       "    </tr>\n",
       "    <tr>\n",
       "      <th>1</th>\n",
       "      <td>So she was considering in her own mind (as wel...</td>\n",
       "      <td>[2, 3, 3, 11, 2, 3, 3, 4, 2, 4, 2, 3, 5, 3, 3,...</td>\n",
       "      <td>229</td>\n",
       "      <td>[1 0 1 4 1 1 1 1 1 1 1 0 1 1 1 1 1 1 1 1 2 2 1...</td>\n",
       "      <td>70</td>\n",
       "      <td>0.031250</td>\n",
       "    </tr>\n",
       "    <tr>\n",
       "      <th>2</th>\n",
       "      <td>There was nothing so VERY remarkable in that; ...</td>\n",
       "      <td>[5, 3, 7, 2, 4, 10, 2, 4, 3, 3, 5, 5, 2, 2, 4,...</td>\n",
       "      <td>109</td>\n",
       "      <td>[1 1 2 1 2 3 1 1 1 1 2 1 1 1 2 1 1 1 1 1 1 2 1...</td>\n",
       "      <td>39</td>\n",
       "      <td>0.650000</td>\n",
       "    </tr>\n",
       "    <tr>\n",
       "      <th>3</th>\n",
       "      <td>Oh dear!</td>\n",
       "      <td>[2, 4]</td>\n",
       "      <td>6</td>\n",
       "      <td>[1 2]</td>\n",
       "      <td>3</td>\n",
       "      <td>0.000000</td>\n",
       "    </tr>\n",
       "    <tr>\n",
       "      <th>4</th>\n",
       "      <td>I shall be late!'</td>\n",
       "      <td>[1, 5, 2, 4]</td>\n",
       "      <td>12</td>\n",
       "      <td>[1 1 1 1]</td>\n",
       "      <td>4</td>\n",
       "      <td>-0.375000</td>\n",
       "    </tr>\n",
       "  </tbody>\n",
       "</table>\n",
       "</div>"
      ],
      "text/plain": [
       "                                                   0  \\\n",
       "0  Down the Rabbit-Hole  Alice was beginning to g...   \n",
       "1  So she was considering in her own mind (as wel...   \n",
       "2  There was nothing so VERY remarkable in that; ...   \n",
       "3                                           Oh dear!   \n",
       "4                                  I shall be late!'   \n",
       "\n",
       "                                          wrd_length  total_char  \\\n",
       "0  [4, 3, 11, 5, 3, 9, 2, 3, 4, 5, 2, 7, 2, 3, 6,...         256   \n",
       "1  [2, 3, 3, 11, 2, 3, 3, 4, 2, 4, 2, 3, 5, 3, 3,...         229   \n",
       "2  [5, 3, 7, 2, 4, 10, 2, 4, 3, 3, 5, 5, 2, 2, 4,...         109   \n",
       "3                                             [2, 4]           6   \n",
       "4                                       [1, 5, 2, 4]          12   \n",
       "\n",
       "                                           syl_count  syl_sum  sentiment  \n",
       "0  [1 1 3 2 1 3 1 1 2 1 1 2 1 1 2 1 1 1 1 1 2 2 1...       83  -0.337778  \n",
       "1  [1 0 1 4 1 1 1 1 1 1 1 0 1 1 1 1 1 1 1 1 2 2 1...       70   0.031250  \n",
       "2  [1 1 2 1 2 3 1 1 1 1 2 1 1 1 2 1 1 1 1 1 1 2 1...       39   0.650000  \n",
       "3                                              [1 2]        3   0.000000  \n",
       "4                                          [1 1 1 1]        4  -0.375000  "
      ]
     },
     "execution_count": 27,
     "metadata": {},
     "output_type": "execute_result"
    }
   ],
   "source": [
    "df_test.head()"
   ]
  },
  {
   "cell_type": "markdown",
   "metadata": {},
   "source": [
    "Create cluster dataframe - remove columns that can't be used"
   ]
  },
  {
   "cell_type": "code",
   "execution_count": 28,
   "metadata": {
    "collapsed": true
   },
   "outputs": [],
   "source": [
    "df_cluster = df_novel.drop('wrd_length', 1)"
   ]
  },
  {
   "cell_type": "code",
   "execution_count": 29,
   "metadata": {
    "collapsed": true
   },
   "outputs": [],
   "source": [
    "df_cluster = df_cluster.drop('syl_count', 1)"
   ]
  },
  {
   "cell_type": "code",
   "execution_count": 30,
   "metadata": {
    "collapsed": false
   },
   "outputs": [
    {
     "data": {
      "text/html": [
       "<div>\n",
       "<table border=\"1\" class=\"dataframe\">\n",
       "  <thead>\n",
       "    <tr style=\"text-align: right;\">\n",
       "      <th></th>\n",
       "      <th>0</th>\n",
       "      <th>total_char</th>\n",
       "      <th>syl_sum</th>\n",
       "      <th>sentiment</th>\n",
       "    </tr>\n",
       "  </thead>\n",
       "  <tbody>\n",
       "    <tr>\n",
       "      <th>0</th>\n",
       "      <td>Down the Rabbit-Hole  Alice was beginning to g...</td>\n",
       "      <td>256</td>\n",
       "      <td>83</td>\n",
       "      <td>-0.337778</td>\n",
       "    </tr>\n",
       "    <tr>\n",
       "      <th>1</th>\n",
       "      <td>So she was considering in her own mind (as wel...</td>\n",
       "      <td>229</td>\n",
       "      <td>70</td>\n",
       "      <td>0.031250</td>\n",
       "    </tr>\n",
       "    <tr>\n",
       "      <th>2</th>\n",
       "      <td>There was nothing so VERY remarkable in that; ...</td>\n",
       "      <td>109</td>\n",
       "      <td>39</td>\n",
       "      <td>0.650000</td>\n",
       "    </tr>\n",
       "    <tr>\n",
       "      <th>3</th>\n",
       "      <td>Oh dear!</td>\n",
       "      <td>6</td>\n",
       "      <td>3</td>\n",
       "      <td>0.000000</td>\n",
       "    </tr>\n",
       "    <tr>\n",
       "      <th>4</th>\n",
       "      <td>I shall be late!'</td>\n",
       "      <td>12</td>\n",
       "      <td>4</td>\n",
       "      <td>-0.375000</td>\n",
       "    </tr>\n",
       "  </tbody>\n",
       "</table>\n",
       "</div>"
      ],
      "text/plain": [
       "                                                   0  total_char  syl_sum  \\\n",
       "0  Down the Rabbit-Hole  Alice was beginning to g...         256       83   \n",
       "1  So she was considering in her own mind (as wel...         229       70   \n",
       "2  There was nothing so VERY remarkable in that; ...         109       39   \n",
       "3                                           Oh dear!           6        3   \n",
       "4                                  I shall be late!'          12        4   \n",
       "\n",
       "   sentiment  \n",
       "0  -0.337778  \n",
       "1   0.031250  \n",
       "2   0.650000  \n",
       "3   0.000000  \n",
       "4  -0.375000  "
      ]
     },
     "execution_count": 30,
     "metadata": {},
     "output_type": "execute_result"
    }
   ],
   "source": [
    "df_cluster.head()"
   ]
  },
  {
   "cell_type": "markdown",
   "metadata": {},
   "source": [
    "Create 20 clusters on scaled data"
   ]
  },
  {
   "cell_type": "code",
   "execution_count": 31,
   "metadata": {
    "collapsed": true
   },
   "outputs": [],
   "source": [
    "X = df_cluster.drop(0, axis=1)"
   ]
  },
  {
   "cell_type": "code",
   "execution_count": 32,
   "metadata": {
    "collapsed": false
   },
   "outputs": [],
   "source": [
    "from sklearn.cluster import KMeans\n",
    "from sklearn.preprocessing import StandardScaler\n",
    "scaler = StandardScaler()\n",
    "X_scaled = scaler.fit_transform(X)"
   ]
  },
  {
   "cell_type": "code",
   "execution_count": 33,
   "metadata": {
    "collapsed": false
   },
   "outputs": [
    {
     "data": {
      "text/plain": [
       "KMeans(copy_x=True, init='k-means++', max_iter=300, n_clusters=20, n_init=10,\n",
       "    n_jobs=1, precompute_distances='auto', random_state=1, tol=0.0001,\n",
       "    verbose=0)"
      ]
     },
     "execution_count": 33,
     "metadata": {},
     "output_type": "execute_result"
    }
   ],
   "source": [
    "km = KMeans(n_clusters=20, random_state=1)\n",
    "km.fit(X_scaled)"
   ]
  },
  {
   "cell_type": "code",
   "execution_count": 34,
   "metadata": {
    "collapsed": true
   },
   "outputs": [],
   "source": [
    "df_cluster['cluster'] = km.labels_"
   ]
  },
  {
   "cell_type": "code",
   "execution_count": 35,
   "metadata": {
    "collapsed": false
   },
   "outputs": [
    {
     "data": {
      "text/html": [
       "<div>\n",
       "<table border=\"1\" class=\"dataframe\">\n",
       "  <thead>\n",
       "    <tr style=\"text-align: right;\">\n",
       "      <th></th>\n",
       "      <th>total_char</th>\n",
       "      <th>syl_sum</th>\n",
       "      <th>sentiment</th>\n",
       "    </tr>\n",
       "    <tr>\n",
       "      <th>cluster</th>\n",
       "      <th></th>\n",
       "      <th></th>\n",
       "      <th></th>\n",
       "    </tr>\n",
       "  </thead>\n",
       "  <tbody>\n",
       "    <tr>\n",
       "      <th>0</th>\n",
       "      <td>45.286792</td>\n",
       "      <td>13.871698</td>\n",
       "      <td>0.000471</td>\n",
       "    </tr>\n",
       "    <tr>\n",
       "      <th>1</th>\n",
       "      <td>221.269231</td>\n",
       "      <td>68.461538</td>\n",
       "      <td>-0.162601</td>\n",
       "    </tr>\n",
       "    <tr>\n",
       "      <th>2</th>\n",
       "      <td>138.440000</td>\n",
       "      <td>42.720000</td>\n",
       "      <td>0.285162</td>\n",
       "    </tr>\n",
       "    <tr>\n",
       "      <th>3</th>\n",
       "      <td>476.000000</td>\n",
       "      <td>143.000000</td>\n",
       "      <td>0.016157</td>\n",
       "    </tr>\n",
       "    <tr>\n",
       "      <th>4</th>\n",
       "      <td>36.765957</td>\n",
       "      <td>11.234043</td>\n",
       "      <td>0.514696</td>\n",
       "    </tr>\n",
       "    <tr>\n",
       "      <th>5</th>\n",
       "      <td>53.466667</td>\n",
       "      <td>16.733333</td>\n",
       "      <td>-0.863611</td>\n",
       "    </tr>\n",
       "    <tr>\n",
       "      <th>6</th>\n",
       "      <td>134.804598</td>\n",
       "      <td>41.149425</td>\n",
       "      <td>-0.056712</td>\n",
       "    </tr>\n",
       "    <tr>\n",
       "      <th>7</th>\n",
       "      <td>36.655556</td>\n",
       "      <td>11.188889</td>\n",
       "      <td>-0.248228</td>\n",
       "    </tr>\n",
       "    <tr>\n",
       "      <th>8</th>\n",
       "      <td>223.033333</td>\n",
       "      <td>67.200000</td>\n",
       "      <td>0.158646</td>\n",
       "    </tr>\n",
       "    <tr>\n",
       "      <th>9</th>\n",
       "      <td>85.678571</td>\n",
       "      <td>26.232143</td>\n",
       "      <td>0.274859</td>\n",
       "    </tr>\n",
       "    <tr>\n",
       "      <th>10</th>\n",
       "      <td>85.454545</td>\n",
       "      <td>26.506494</td>\n",
       "      <td>0.008581</td>\n",
       "    </tr>\n",
       "    <tr>\n",
       "      <th>11</th>\n",
       "      <td>16.921649</td>\n",
       "      <td>5.115464</td>\n",
       "      <td>-0.000711</td>\n",
       "    </tr>\n",
       "    <tr>\n",
       "      <th>12</th>\n",
       "      <td>285.421053</td>\n",
       "      <td>87.947368</td>\n",
       "      <td>0.086619</td>\n",
       "    </tr>\n",
       "    <tr>\n",
       "      <th>13</th>\n",
       "      <td>40.583333</td>\n",
       "      <td>13.333333</td>\n",
       "      <td>0.904167</td>\n",
       "    </tr>\n",
       "    <tr>\n",
       "      <th>14</th>\n",
       "      <td>717.000000</td>\n",
       "      <td>227.000000</td>\n",
       "      <td>-0.012388</td>\n",
       "    </tr>\n",
       "    <tr>\n",
       "      <th>15</th>\n",
       "      <td>175.559322</td>\n",
       "      <td>54.084746</td>\n",
       "      <td>-0.004562</td>\n",
       "    </tr>\n",
       "    <tr>\n",
       "      <th>16</th>\n",
       "      <td>84.937500</td>\n",
       "      <td>26.656250</td>\n",
       "      <td>0.595703</td>\n",
       "    </tr>\n",
       "    <tr>\n",
       "      <th>17</th>\n",
       "      <td>89.000000</td>\n",
       "      <td>27.550000</td>\n",
       "      <td>-0.226839</td>\n",
       "    </tr>\n",
       "    <tr>\n",
       "      <th>18</th>\n",
       "      <td>48.891892</td>\n",
       "      <td>14.891892</td>\n",
       "      <td>-0.558611</td>\n",
       "    </tr>\n",
       "    <tr>\n",
       "      <th>19</th>\n",
       "      <td>37.666667</td>\n",
       "      <td>11.617284</td>\n",
       "      <td>0.223240</td>\n",
       "    </tr>\n",
       "  </tbody>\n",
       "</table>\n",
       "</div>"
      ],
      "text/plain": [
       "         total_char     syl_sum  sentiment\n",
       "cluster                                   \n",
       "0         45.286792   13.871698   0.000471\n",
       "1        221.269231   68.461538  -0.162601\n",
       "2        138.440000   42.720000   0.285162\n",
       "3        476.000000  143.000000   0.016157\n",
       "4         36.765957   11.234043   0.514696\n",
       "5         53.466667   16.733333  -0.863611\n",
       "6        134.804598   41.149425  -0.056712\n",
       "7         36.655556   11.188889  -0.248228\n",
       "8        223.033333   67.200000   0.158646\n",
       "9         85.678571   26.232143   0.274859\n",
       "10        85.454545   26.506494   0.008581\n",
       "11        16.921649    5.115464  -0.000711\n",
       "12       285.421053   87.947368   0.086619\n",
       "13        40.583333   13.333333   0.904167\n",
       "14       717.000000  227.000000  -0.012388\n",
       "15       175.559322   54.084746  -0.004562\n",
       "16        84.937500   26.656250   0.595703\n",
       "17        89.000000   27.550000  -0.226839\n",
       "18        48.891892   14.891892  -0.558611\n",
       "19        37.666667   11.617284   0.223240"
      ]
     },
     "execution_count": 35,
     "metadata": {},
     "output_type": "execute_result"
    }
   ],
   "source": [
    "df_cluster.groupby('cluster').mean()"
   ]
  },
  {
   "cell_type": "code",
   "execution_count": 36,
   "metadata": {
    "collapsed": true
   },
   "outputs": [],
   "source": [
    "centers = df_cluster.groupby('cluster').mean()"
   ]
  },
  {
   "cell_type": "markdown",
   "metadata": {
    "collapsed": true
   },
   "source": [
    "Create Scatter plot "
   ]
  },
  {
   "cell_type": "raw",
   "metadata": {
    "collapsed": true
   },
   "source": [
    "colors = np.array(['#999999', '#0000ff', '#4d4d4d', '#0000b2', '#8833ff', '#333333', '#4412b2', '#808080', '#33a3ff', '#124cb2', '#666666', '#39b54a','#21682b', '#64c1b5', '#2b6855', '#91c164', '#40682b', '#3fa9f5', '#7cc3f5','#badcf5'])"
   ]
  },
  {
   "cell_type": "code",
   "execution_count": 37,
   "metadata": {
    "collapsed": true
   },
   "outputs": [],
   "source": [
    "colors = np.array(['#0000ff', '#ff00ff', '#39b54a', '#ff0000', '#ffff00', '#000080', '#ff99ff', '#88d392', '#bf0000', '#b4ff33', '#0000bf', '#800080','#1d5b25', '#4d226d', '#2b6855', '#128ab2', '#6666ff', '#a381bd', '#333333','#a0d0e0'])"
   ]
  },
  {
   "cell_type": "code",
   "execution_count": 38,
   "metadata": {
    "collapsed": false
   },
   "outputs": [
    {
     "data": {
      "text/plain": [
       "<matplotlib.text.Text at 0x11c1a8bd0>"
      ]
     },
     "execution_count": 38,
     "metadata": {},
     "output_type": "execute_result"
    },
    {
     "data": {
      "image/png": "[encoded data removed]",
      "text/plain": [
       "<matplotlib.figure.Figure at 0x1193db1d0>"
      ]
     },
     "metadata": {},
     "output_type": "display_data"
    }
   ],
   "source": [
    "# scatter plot of calories versus alcohol, colored by cluster (0=red, 1=green, 2=blue)\n",
    "plt.scatter(df_cluster.syl_sum, df_cluster.sentiment, c=colors[df_cluster.cluster], s=50)\n",
    "\n",
    "# cluster centers, marked by \"+\"\n",
    "plt.scatter(centers.syl_sum, centers.sentiment, linewidths=3, marker='+', s=300, c='black')\n",
    "\n",
    "# add labels\n",
    "plt.xlabel('syl_sum')\n",
    "plt.ylabel('sentiment')"
   ]
  },
  {
   "cell_type": "markdown",
   "metadata": {},
   "source": [
    "Create 3 clusters"
   ]
  },
  {
   "cell_type": "code",
   "execution_count": 39,
   "metadata": {
    "collapsed": true
   },
   "outputs": [],
   "source": [
    "df_cluster_3 = df_cluster"
   ]
  },
  {
   "cell_type": "code",
   "execution_count": 36,
   "metadata": {
    "collapsed": false
   },
   "outputs": [
    {
     "data": {
      "text/html": [
       "<div>\n",
       "<table border=\"1\" class=\"dataframe\">\n",
       "  <thead>\n",
       "    <tr style=\"text-align: right;\">\n",
       "      <th></th>\n",
       "      <th>0</th>\n",
       "      <th>total_char</th>\n",
       "      <th>syl_sum</th>\n",
       "      <th>sentiment</th>\n",
       "      <th>cluster</th>\n",
       "    </tr>\n",
       "  </thead>\n",
       "  <tbody>\n",
       "    <tr>\n",
       "      <th>0</th>\n",
       "      <td>Down the Rabbit-Hole  Alice was beginning to g...</td>\n",
       "      <td>256</td>\n",
       "      <td>83</td>\n",
       "      <td>-0.337778</td>\n",
       "      <td>1</td>\n",
       "    </tr>\n",
       "    <tr>\n",
       "      <th>1</th>\n",
       "      <td>So she was considering in her own mind (as wel...</td>\n",
       "      <td>229</td>\n",
       "      <td>70</td>\n",
       "      <td>0.031250</td>\n",
       "      <td>8</td>\n",
       "    </tr>\n",
       "    <tr>\n",
       "      <th>2</th>\n",
       "      <td>There was nothing so VERY remarkable in that; ...</td>\n",
       "      <td>109</td>\n",
       "      <td>39</td>\n",
       "      <td>0.650000</td>\n",
       "      <td>16</td>\n",
       "    </tr>\n",
       "    <tr>\n",
       "      <th>3</th>\n",
       "      <td>Oh dear!</td>\n",
       "      <td>6</td>\n",
       "      <td>3</td>\n",
       "      <td>0.000000</td>\n",
       "      <td>11</td>\n",
       "    </tr>\n",
       "    <tr>\n",
       "      <th>4</th>\n",
       "      <td>I shall be late!'</td>\n",
       "      <td>12</td>\n",
       "      <td>4</td>\n",
       "      <td>-0.375000</td>\n",
       "      <td>7</td>\n",
       "    </tr>\n",
       "  </tbody>\n",
       "</table>\n",
       "</div>"
      ],
      "text/plain": [
       "                                                   0  total_char  syl_sum  \\\n",
       "0  Down the Rabbit-Hole  Alice was beginning to g...         256       83   \n",
       "1  So she was considering in her own mind (as wel...         229       70   \n",
       "2  There was nothing so VERY remarkable in that; ...         109       39   \n",
       "3                                           Oh dear!           6        3   \n",
       "4                                  I shall be late!'          12        4   \n",
       "\n",
       "   sentiment  cluster  \n",
       "0  -0.337778        1  \n",
       "1   0.031250        8  \n",
       "2   0.650000       16  \n",
       "3   0.000000       11  \n",
       "4  -0.375000        7  "
      ]
     },
     "execution_count": 36,
     "metadata": {},
     "output_type": "execute_result"
    }
   ],
   "source": []
  },
  {
   "cell_type": "code",
   "execution_count": 40,
   "metadata": {
    "collapsed": true
   },
   "outputs": [],
   "source": [
    "X = df_cluster_3.drop(0, axis=1)"
   ]
  },
  {
   "cell_type": "code",
   "execution_count": 41,
   "metadata": {
    "collapsed": true
   },
   "outputs": [],
   "source": [
    "scaler = StandardScaler()\n",
    "X_scaled = scaler.fit_transform(X)"
   ]
  },
  {
   "cell_type": "code",
   "execution_count": 42,
   "metadata": {
    "collapsed": false
   },
   "outputs": [
    {
     "data": {
      "text/plain": [
       "KMeans(copy_x=True, init='k-means++', max_iter=300, n_clusters=3, n_init=10,\n",
       "    n_jobs=1, precompute_distances='auto', random_state=1, tol=0.0001,\n",
       "    verbose=0)"
      ]
     },
     "execution_count": 42,
     "metadata": {},
     "output_type": "execute_result"
    }
   ],
   "source": [
    "km = KMeans(n_clusters=3, random_state=1)\n",
    "km.fit(X_scaled)"
   ]
  },
  {
   "cell_type": "code",
   "execution_count": 43,
   "metadata": {
    "collapsed": true
   },
   "outputs": [],
   "source": [
    "df_cluster_3['cluster'] = km.labels_"
   ]
  },
  {
   "cell_type": "code",
   "execution_count": 44,
   "metadata": {
    "collapsed": false
   },
   "outputs": [
    {
     "data": {
      "text/html": [
       "<div>\n",
       "<table border=\"1\" class=\"dataframe\">\n",
       "  <thead>\n",
       "    <tr style=\"text-align: right;\">\n",
       "      <th></th>\n",
       "      <th>total_char</th>\n",
       "      <th>syl_sum</th>\n",
       "      <th>sentiment</th>\n",
       "    </tr>\n",
       "    <tr>\n",
       "      <th>cluster</th>\n",
       "      <th></th>\n",
       "      <th></th>\n",
       "      <th></th>\n",
       "    </tr>\n",
       "  </thead>\n",
       "  <tbody>\n",
       "    <tr>\n",
       "      <th>0</th>\n",
       "      <td>42.400971</td>\n",
       "      <td>13.063107</td>\n",
       "      <td>0.007878</td>\n",
       "    </tr>\n",
       "    <tr>\n",
       "      <th>1</th>\n",
       "      <td>49.281437</td>\n",
       "      <td>15.089820</td>\n",
       "      <td>0.091732</td>\n",
       "    </tr>\n",
       "    <tr>\n",
       "      <th>2</th>\n",
       "      <td>188.530534</td>\n",
       "      <td>57.809160</td>\n",
       "      <td>0.009628</td>\n",
       "    </tr>\n",
       "  </tbody>\n",
       "</table>\n",
       "</div>"
      ],
      "text/plain": [
       "         total_char    syl_sum  sentiment\n",
       "cluster                                  \n",
       "0         42.400971  13.063107   0.007878\n",
       "1         49.281437  15.089820   0.091732\n",
       "2        188.530534  57.809160   0.009628"
      ]
     },
     "execution_count": 44,
     "metadata": {},
     "output_type": "execute_result"
    }
   ],
   "source": [
    "df_cluster_3.groupby('cluster').mean()"
   ]
  },
  {
   "cell_type": "markdown",
   "metadata": {},
   "source": [
    "Create 3 Clusters with no syl_sum"
   ]
  },
  {
   "cell_type": "code",
   "execution_count": 45,
   "metadata": {
    "collapsed": true
   },
   "outputs": [],
   "source": [
    "df_cluster_no_syl = df_cluster"
   ]
  },
  {
   "cell_type": "code",
   "execution_count": 46,
   "metadata": {
    "collapsed": false
   },
   "outputs": [
    {
     "data": {
      "text/html": [
       "<div>\n",
       "<table border=\"1\" class=\"dataframe\">\n",
       "  <thead>\n",
       "    <tr style=\"text-align: right;\">\n",
       "      <th></th>\n",
       "      <th>0</th>\n",
       "      <th>total_char</th>\n",
       "      <th>syl_sum</th>\n",
       "      <th>sentiment</th>\n",
       "      <th>cluster</th>\n",
       "    </tr>\n",
       "  </thead>\n",
       "  <tbody>\n",
       "    <tr>\n",
       "      <th>0</th>\n",
       "      <td>Down the Rabbit-Hole  Alice was beginning to g...</td>\n",
       "      <td>256</td>\n",
       "      <td>83</td>\n",
       "      <td>-0.337778</td>\n",
       "      <td>2</td>\n",
       "    </tr>\n",
       "    <tr>\n",
       "      <th>1</th>\n",
       "      <td>So she was considering in her own mind (as wel...</td>\n",
       "      <td>229</td>\n",
       "      <td>70</td>\n",
       "      <td>0.031250</td>\n",
       "      <td>2</td>\n",
       "    </tr>\n",
       "    <tr>\n",
       "      <th>2</th>\n",
       "      <td>There was nothing so VERY remarkable in that; ...</td>\n",
       "      <td>109</td>\n",
       "      <td>39</td>\n",
       "      <td>0.650000</td>\n",
       "      <td>0</td>\n",
       "    </tr>\n",
       "    <tr>\n",
       "      <th>3</th>\n",
       "      <td>Oh dear!</td>\n",
       "      <td>6</td>\n",
       "      <td>3</td>\n",
       "      <td>0.000000</td>\n",
       "      <td>0</td>\n",
       "    </tr>\n",
       "    <tr>\n",
       "      <th>4</th>\n",
       "      <td>I shall be late!'</td>\n",
       "      <td>12</td>\n",
       "      <td>4</td>\n",
       "      <td>-0.375000</td>\n",
       "      <td>0</td>\n",
       "    </tr>\n",
       "  </tbody>\n",
       "</table>\n",
       "</div>"
      ],
      "text/plain": [
       "                                                   0  total_char  syl_sum  \\\n",
       "0  Down the Rabbit-Hole  Alice was beginning to g...         256       83   \n",
       "1  So she was considering in her own mind (as wel...         229       70   \n",
       "2  There was nothing so VERY remarkable in that; ...         109       39   \n",
       "3                                           Oh dear!           6        3   \n",
       "4                                  I shall be late!'          12        4   \n",
       "\n",
       "   sentiment  cluster  \n",
       "0  -0.337778        2  \n",
       "1   0.031250        2  \n",
       "2   0.650000        0  \n",
       "3   0.000000        0  \n",
       "4  -0.375000        0  "
      ]
     },
     "execution_count": 46,
     "metadata": {},
     "output_type": "execute_result"
    }
   ],
   "source": [
    "df_cluster_no_syl.head()"
   ]
  },
  {
   "cell_type": "code",
   "execution_count": 47,
   "metadata": {
    "collapsed": true
   },
   "outputs": [],
   "source": [
    "df_cluster_no_syl = df_cluster.drop('syl_sum', 1)"
   ]
  },
  {
   "cell_type": "code",
   "execution_count": 48,
   "metadata": {
    "collapsed": true
   },
   "outputs": [],
   "source": [
    "X = df_cluster_no_syl.drop(0, axis=1)"
   ]
  },
  {
   "cell_type": "code",
   "execution_count": 49,
   "metadata": {
    "collapsed": true
   },
   "outputs": [],
   "source": [
    "scaler = StandardScaler()\n",
    "X_scaled = scaler.fit_transform(X)"
   ]
  },
  {
   "cell_type": "code",
   "execution_count": 50,
   "metadata": {
    "collapsed": false
   },
   "outputs": [
    {
     "data": {
      "text/plain": [
       "KMeans(copy_x=True, init='k-means++', max_iter=300, n_clusters=3, n_init=10,\n",
       "    n_jobs=1, precompute_distances='auto', random_state=1, tol=0.0001,\n",
       "    verbose=0)"
      ]
     },
     "execution_count": 50,
     "metadata": {},
     "output_type": "execute_result"
    }
   ],
   "source": [
    "km = KMeans(n_clusters=3, random_state=1)\n",
    "km.fit(X_scaled)"
   ]
  },
  {
   "cell_type": "code",
   "execution_count": 51,
   "metadata": {
    "collapsed": true
   },
   "outputs": [],
   "source": [
    "df_cluster_no_syl['cluster'] = km.labels_"
   ]
  },
  {
   "cell_type": "code",
   "execution_count": 52,
   "metadata": {
    "collapsed": false
   },
   "outputs": [
    {
     "data": {
      "text/html": [
       "<div>\n",
       "<table border=\"1\" class=\"dataframe\">\n",
       "  <thead>\n",
       "    <tr style=\"text-align: right;\">\n",
       "      <th></th>\n",
       "      <th>total_char</th>\n",
       "      <th>sentiment</th>\n",
       "    </tr>\n",
       "    <tr>\n",
       "      <th>cluster</th>\n",
       "      <th></th>\n",
       "      <th></th>\n",
       "    </tr>\n",
       "  </thead>\n",
       "  <tbody>\n",
       "    <tr>\n",
       "      <th>0</th>\n",
       "      <td>64.120192</td>\n",
       "      <td>0.460462</td>\n",
       "    </tr>\n",
       "    <tr>\n",
       "      <th>1</th>\n",
       "      <td>40.408658</td>\n",
       "      <td>-0.049479</td>\n",
       "    </tr>\n",
       "    <tr>\n",
       "      <th>2</th>\n",
       "      <td>188.285171</td>\n",
       "      <td>0.010067</td>\n",
       "    </tr>\n",
       "  </tbody>\n",
       "</table>\n",
       "</div>"
      ],
      "text/plain": [
       "         total_char  sentiment\n",
       "cluster                       \n",
       "0         64.120192   0.460462\n",
       "1         40.408658  -0.049479\n",
       "2        188.285171   0.010067"
      ]
     },
     "execution_count": 52,
     "metadata": {},
     "output_type": "execute_result"
    }
   ],
   "source": [
    "df_cluster_no_syl.groupby('cluster').mean()"
   ]
  },
  {
   "cell_type": "markdown",
   "metadata": {},
   "source": [
    "Create 5 Clusters"
   ]
  },
  {
   "cell_type": "code",
   "execution_count": 53,
   "metadata": {
    "collapsed": true
   },
   "outputs": [],
   "source": [
    "df_cluster_5 = df_cluster"
   ]
  },
  {
   "cell_type": "code",
   "execution_count": 54,
   "metadata": {
    "collapsed": false
   },
   "outputs": [
    {
     "data": {
      "text/html": [
       "<div>\n",
       "<table border=\"1\" class=\"dataframe\">\n",
       "  <thead>\n",
       "    <tr style=\"text-align: right;\">\n",
       "      <th></th>\n",
       "      <th>0</th>\n",
       "      <th>total_char</th>\n",
       "      <th>syl_sum</th>\n",
       "      <th>sentiment</th>\n",
       "      <th>cluster</th>\n",
       "    </tr>\n",
       "  </thead>\n",
       "  <tbody>\n",
       "    <tr>\n",
       "      <th>0</th>\n",
       "      <td>Down the Rabbit-Hole  Alice was beginning to g...</td>\n",
       "      <td>256</td>\n",
       "      <td>83</td>\n",
       "      <td>-0.337778</td>\n",
       "      <td>2</td>\n",
       "    </tr>\n",
       "    <tr>\n",
       "      <th>1</th>\n",
       "      <td>So she was considering in her own mind (as wel...</td>\n",
       "      <td>229</td>\n",
       "      <td>70</td>\n",
       "      <td>0.031250</td>\n",
       "      <td>2</td>\n",
       "    </tr>\n",
       "    <tr>\n",
       "      <th>2</th>\n",
       "      <td>There was nothing so VERY remarkable in that; ...</td>\n",
       "      <td>109</td>\n",
       "      <td>39</td>\n",
       "      <td>0.650000</td>\n",
       "      <td>0</td>\n",
       "    </tr>\n",
       "    <tr>\n",
       "      <th>3</th>\n",
       "      <td>Oh dear!</td>\n",
       "      <td>6</td>\n",
       "      <td>3</td>\n",
       "      <td>0.000000</td>\n",
       "      <td>0</td>\n",
       "    </tr>\n",
       "    <tr>\n",
       "      <th>4</th>\n",
       "      <td>I shall be late!'</td>\n",
       "      <td>12</td>\n",
       "      <td>4</td>\n",
       "      <td>-0.375000</td>\n",
       "      <td>0</td>\n",
       "    </tr>\n",
       "  </tbody>\n",
       "</table>\n",
       "</div>"
      ],
      "text/plain": [
       "                                                   0  total_char  syl_sum  \\\n",
       "0  Down the Rabbit-Hole  Alice was beginning to g...         256       83   \n",
       "1  So she was considering in her own mind (as wel...         229       70   \n",
       "2  There was nothing so VERY remarkable in that; ...         109       39   \n",
       "3                                           Oh dear!           6        3   \n",
       "4                                  I shall be late!'          12        4   \n",
       "\n",
       "   sentiment  cluster  \n",
       "0  -0.337778        2  \n",
       "1   0.031250        2  \n",
       "2   0.650000        0  \n",
       "3   0.000000        0  \n",
       "4  -0.375000        0  "
      ]
     },
     "execution_count": 54,
     "metadata": {},
     "output_type": "execute_result"
    }
   ],
   "source": [
    "df_cluster_5.head()"
   ]
  },
  {
   "cell_type": "code",
   "execution_count": 55,
   "metadata": {
    "collapsed": true
   },
   "outputs": [],
   "source": [
    "X = df_cluster_5.drop(0, axis=1)"
   ]
  },
  {
   "cell_type": "code",
   "execution_count": 56,
   "metadata": {
    "collapsed": true
   },
   "outputs": [],
   "source": [
    "scaler = StandardScaler()\n",
    "X_scaled = scaler.fit_transform(X)"
   ]
  },
  {
   "cell_type": "code",
   "execution_count": 57,
   "metadata": {
    "collapsed": false
   },
   "outputs": [
    {
     "data": {
      "text/plain": [
       "KMeans(copy_x=True, init='k-means++', max_iter=300, n_clusters=5, n_init=10,\n",
       "    n_jobs=1, precompute_distances='auto', random_state=1, tol=0.0001,\n",
       "    verbose=0)"
      ]
     },
     "execution_count": 57,
     "metadata": {},
     "output_type": "execute_result"
    }
   ],
   "source": [
    "km = KMeans(n_clusters=5, random_state=1)\n",
    "km.fit(X_scaled)"
   ]
  },
  {
   "cell_type": "code",
   "execution_count": 58,
   "metadata": {
    "collapsed": true
   },
   "outputs": [],
   "source": [
    "df_cluster_5['cluster'] = km.labels_"
   ]
  },
  {
   "cell_type": "code",
   "execution_count": 59,
   "metadata": {
    "collapsed": false
   },
   "outputs": [
    {
     "data": {
      "text/html": [
       "<div>\n",
       "<table border=\"1\" class=\"dataframe\">\n",
       "  <thead>\n",
       "    <tr style=\"text-align: right;\">\n",
       "      <th></th>\n",
       "      <th>total_char</th>\n",
       "      <th>syl_sum</th>\n",
       "      <th>sentiment</th>\n",
       "    </tr>\n",
       "    <tr>\n",
       "      <th>cluster</th>\n",
       "      <th></th>\n",
       "      <th></th>\n",
       "      <th></th>\n",
       "    </tr>\n",
       "  </thead>\n",
       "  <tbody>\n",
       "    <tr>\n",
       "      <th>0</th>\n",
       "      <td>57.882353</td>\n",
       "      <td>17.789216</td>\n",
       "      <td>-0.336462</td>\n",
       "    </tr>\n",
       "    <tr>\n",
       "      <th>1</th>\n",
       "      <td>176.541502</td>\n",
       "      <td>54.162055</td>\n",
       "      <td>0.017230</td>\n",
       "    </tr>\n",
       "    <tr>\n",
       "      <th>2</th>\n",
       "      <td>36.579545</td>\n",
       "      <td>11.227273</td>\n",
       "      <td>0.014265</td>\n",
       "    </tr>\n",
       "    <tr>\n",
       "      <th>3</th>\n",
       "      <td>529.555556</td>\n",
       "      <td>161.666667</td>\n",
       "      <td>0.009813</td>\n",
       "    </tr>\n",
       "    <tr>\n",
       "      <th>4</th>\n",
       "      <td>67.083333</td>\n",
       "      <td>20.760417</td>\n",
       "      <td>0.477386</td>\n",
       "    </tr>\n",
       "  </tbody>\n",
       "</table>\n",
       "</div>"
      ],
      "text/plain": [
       "         total_char     syl_sum  sentiment\n",
       "cluster                                   \n",
       "0         57.882353   17.789216  -0.336462\n",
       "1        176.541502   54.162055   0.017230\n",
       "2         36.579545   11.227273   0.014265\n",
       "3        529.555556  161.666667   0.009813\n",
       "4         67.083333   20.760417   0.477386"
      ]
     },
     "execution_count": 59,
     "metadata": {},
     "output_type": "execute_result"
    }
   ],
   "source": [
    "df_cluster_5.groupby('cluster').mean()"
   ]
  },
  {
   "cell_type": "markdown",
   "metadata": {},
   "source": [
    "Find ideal amount of clusters for novel"
   ]
  },
  {
   "cell_type": "code",
   "execution_count": null,
   "metadata": {
    "collapsed": true
   },
   "outputs": [],
   "source": [
    "from sklearn import metrics\n",
    "metrics.silhouette_score(X_scaled, km.labels_)"
   ]
  },
  {
   "cell_type": "code",
   "execution_count": null,
   "metadata": {
    "collapsed": true
   },
   "outputs": [],
   "source": [
    "k_range = range(2,150)\n",
    "scores = []\n",
    "for k in k_range:\n",
    "    km = KMeans(n_clusters=k, random_state=1)\n",
    "    km.fit(X_scaled)\n",
    "    scores.append(metrics.silhouette_score(X_scaled, km.labels_))"
   ]
  },
  {
   "cell_type": "code",
   "execution_count": null,
   "metadata": {
    "collapsed": true
   },
   "outputs": [],
   "source": [
    "plt.plot(k_range, scores)\n",
    "plt.xlabel('Number of clusters')\n",
    "plt.ylabel('Silihouette Coefficient')\n",
    "plt.grid(True)"
   ]
  },
  {
   "cell_type": "markdown",
   "metadata": {},
   "source": [
    "Find Sentiment Pattern - need to work on this code to make it more universal."
   ]
  },
  {
   "cell_type": "markdown",
   "metadata": {},
   "source": [
    "20 pieces"
   ]
  },
  {
   "cell_type": "code",
   "execution_count": 60,
   "metadata": {
    "collapsed": false
   },
   "outputs": [
    {
     "data": {
      "text/plain": [
       "109528"
      ]
     },
     "execution_count": 60,
     "metadata": {},
     "output_type": "execute_result"
    }
   ],
   "source": [
    "df_novel['total_char'].sum()"
   ]
  },
  {
   "cell_type": "code",
   "execution_count": 61,
   "metadata": {
    "collapsed": true
   },
   "outputs": [],
   "source": [
    "ratio = (df_novel['total_char'].sum()/20) - 50"
   ]
  },
  {
   "cell_type": "code",
   "execution_count": 62,
   "metadata": {
    "collapsed": true
   },
   "outputs": [],
   "source": [
    "t = 0\n",
    "x = 0\n",
    "ratio = (df_novel['total_char'].sum()/20) - 100\n",
    "def find_this(t, x):\n",
    "    w = 0    \n",
    "    sent_stop = []\n",
    "    while w <= ratio:\n",
    "        w = df_novel['total_char'][t:x].sum()\n",
    "        sent_stop.append(x)\n",
    "        x += 1\n",
    "    return max(sent_stop)     "
   ]
  },
  {
   "cell_type": "code",
   "execution_count": 63,
   "metadata": {
    "collapsed": false
   },
   "outputs": [
    {
     "name": "stdout",
     "output_type": "stream",
     "text": [
      "df_novel['total_char'][0:60]\n",
      "df_novel['total_char'][60:115]\n",
      "df_novel['total_char'][115:192]\n",
      "df_novel['total_char'][192:264]\n",
      "df_novel['total_char'][264:352]\n",
      "df_novel['total_char'][352:443]\n",
      "df_novel['total_char'][443:505]\n",
      "df_novel['total_char'][505:586]\n",
      "df_novel['total_char'][586:655]\n",
      "df_novel['total_char'][655:741]\n",
      "df_novel['total_char'][741:843]\n",
      "df_novel['total_char'][843:938]\n",
      "df_novel['total_char'][938:1019]\n",
      "df_novel['total_char'][1019:1078]\n",
      "df_novel['total_char'][1078:1164]\n",
      "df_novel['total_char'][1164:1272]\n",
      "df_novel['total_char'][1272:1363]\n",
      "df_novel['total_char'][1363:1446]\n",
      "df_novel['total_char'][1446:1532]\n",
      "df_novel['total_char'][1532:1623]\n"
     ]
    }
   ],
   "source": [
    "t = 0\n",
    "x = 0\n",
    "start_point = []\n",
    "stop_point = []\n",
    "for n in range(1, 21):\n",
    "    s = find_this(t, x)\n",
    "    print \"df_novel['total_char'][%s:%s]\" %(t, s)\n",
    "    start_point.append(t)\n",
    "    stop_point.append(s)\n",
    "    t = s\n",
    "    x = s + 1      "
   ]
  },
  {
   "cell_type": "code",
   "execution_count": 64,
   "metadata": {
    "collapsed": false
   },
   "outputs": [
    {
     "name": "stdout",
     "output_type": "stream",
     "text": [
      "0\n",
      "60\n",
      "0.0471425918603\n",
      "60\n",
      "115\n",
      "0.0291150727417\n",
      "115\n",
      "192\n",
      "-0.00841434619931\n",
      "192\n",
      "264\n",
      "0.0203819494549\n",
      "264\n",
      "352\n",
      "0.0321346463143\n",
      "352\n",
      "443\n",
      "0.0297514928473\n",
      "443\n",
      "505\n",
      "0.0152957648113\n",
      "505\n",
      "586\n",
      "0.00289304584631\n",
      "586\n",
      "655\n",
      "0.0117530836811\n",
      "655\n",
      "741\n",
      "-0.0366886297918\n",
      "741\n",
      "843\n",
      "0.0155608319717\n",
      "843\n",
      "938\n",
      "0.0100220247589\n",
      "938\n",
      "1019\n",
      "-0.0142449794147\n",
      "1019\n",
      "1078\n",
      "0.0350751126508\n",
      "1078\n",
      "1164\n",
      "0.0387175464501\n",
      "1164\n",
      "1272\n",
      "0.0322697970111\n",
      "1272\n",
      "1363\n",
      "0.0647142857143\n",
      "1363\n",
      "1446\n",
      "0.0876633199465\n",
      "1446\n",
      "1532\n",
      "0.0219613652793\n",
      "1532\n",
      "1623\n",
      "0.0693888452817\n"
     ]
    }
   ],
   "source": [
    "twenty_piece_char = []\n",
    "st = 0\n",
    "for l in start_point: \n",
    "    strt = start_point[st]\n",
    "    stp = stop_point[st]\n",
    "    print strt\n",
    "    print stp\n",
    "    mn = df_novel['sentiment'][strt:stp].mean()\n",
    "    twenty_piece_char.append(mn)\n",
    "    print mn\n",
    "    st +=1   "
   ]
  },
  {
   "cell_type": "code",
   "execution_count": 65,
   "metadata": {
    "collapsed": false
   },
   "outputs": [
    {
     "name": "stdout",
     "output_type": "stream",
     "text": [
      "[ 0.04714259  0.02911507 -0.00841435  0.02038195  0.03213465  0.02975149\n",
      "  0.01529576  0.00289305  0.01175308 -0.03668863  0.01556083  0.01002202\n",
      " -0.01424498  0.03507511  0.03871755  0.0322698   0.06471429  0.08766332\n",
      "  0.02196137  0.06938885]\n"
     ]
    }
   ],
   "source": [
    "n = np.array(n)\n",
    "twenty_piece_char = np.array(twenty_piece_char)\n",
    "print twenty_piece_char"
   ]
  },
  {
   "cell_type": "code",
   "execution_count": 66,
   "metadata": {
    "collapsed": false
   },
   "outputs": [
    {
     "data": {
      "image/png": "[encoded data removed]",
      "text/plain": [
       "<matplotlib.figure.Figure at 0x11c1a8750>"
      ]
     },
     "metadata": {},
     "output_type": "display_data"
    }
   ],
   "source": [
    "plt.bar(range(20), twenty_piece_char)\n",
    "plt.ylabel('sentiment')\n",
    "plt.show()"
   ]
  },
  {
   "cell_type": "markdown",
   "metadata": {},
   "source": [
    "Create 3 piece sentiment pattern"
   ]
  },
  {
   "cell_type": "code",
   "execution_count": 67,
   "metadata": {
    "collapsed": true
   },
   "outputs": [],
   "source": [
    "t = 0\n",
    "x = 0\n",
    "ratio = (df_novel['total_char'].sum()/3) -250\n",
    "def find_this(t, x):\n",
    "    w = 0    \n",
    "    sent_stop = []\n",
    "    while w < ratio:\n",
    "        w = df_novel['total_char'][t:x].sum()\n",
    "        sent_stop.append(x)\n",
    "        x += 1\n",
    "    return max(sent_stop)  "
   ]
  },
  {
   "cell_type": "code",
   "execution_count": 68,
   "metadata": {
    "collapsed": false
   },
   "outputs": [
    {
     "data": {
      "text/html": [
       "<div>\n",
       "<table border=\"1\" class=\"dataframe\">\n",
       "  <thead>\n",
       "    <tr style=\"text-align: right;\">\n",
       "      <th></th>\n",
       "      <th>0</th>\n",
       "      <th>wrd_length</th>\n",
       "      <th>total_char</th>\n",
       "      <th>syl_count</th>\n",
       "      <th>syl_sum</th>\n",
       "      <th>sentiment</th>\n",
       "    </tr>\n",
       "  </thead>\n",
       "  <tbody>\n",
       "    <tr>\n",
       "      <th>1621</th>\n",
       "      <td>But her sister sat still just as she left her,...</td>\n",
       "      <td>[3, 3, 6, 3, 5, 4, 2, 3, 4, 3, 7, 3, 4, 2, 3, ...</td>\n",
       "      <td>549</td>\n",
       "      <td>[1, 1, 2, 1, 1, 1, 1, 0, 1, 1, 3, 1, 2, 1, 1, ...</td>\n",
       "      <td>164</td>\n",
       "      <td>0.117857</td>\n",
       "    </tr>\n",
       "    <tr>\n",
       "      <th>1622</th>\n",
       "      <td>The long grass rustled at her feet as the Whit...</td>\n",
       "      <td>[3, 4, 5, 7, 2, 3, 4, 2, 3, 5, 6, 7, 2, 3, 10,...</td>\n",
       "      <td>516</td>\n",
       "      <td>[1, 1, 1, 1, 1, 1, 1, 1, 1, 1, 2, 2, 1, 1, 2, ...</td>\n",
       "      <td>148</td>\n",
       "      <td>-0.065000</td>\n",
       "    </tr>\n",
       "    <tr>\n",
       "      <th>1623</th>\n",
       "      <td>So she sat on, with closed eyes, and half beli...</td>\n",
       "      <td>[2, 3, 3, 2, 4, 6, 4, 3, 4, 8, 7, 2, 10, 6, 3,...</td>\n",
       "      <td>504</td>\n",
       "      <td>[1, 0, 1, 1, 1, 1, 0, 1, 1, 3, 2, 1, 3, 1, 0, ...</td>\n",
       "      <td>145</td>\n",
       "      <td>-0.158333</td>\n",
       "    </tr>\n",
       "    <tr>\n",
       "      <th>1624</th>\n",
       "      <td>Lastly, she pictured to herself how this same ...</td>\n",
       "      <td>[6, 3, 8, 2, 7, 3, 4, 4, 6, 6, 2, 4, 5, 2, 3, ...</td>\n",
       "      <td>441</td>\n",
       "      <td>[2, 0, 2, 1, 2, 1, 1, 1, 1, 2, 1, 1, 1, 1, 1, ...</td>\n",
       "      <td>129</td>\n",
       "      <td>0.173333</td>\n",
       "    </tr>\n",
       "    <tr>\n",
       "      <th>1625</th>\n",
       "      <td>THE END</td>\n",
       "      <td>[3, 3]</td>\n",
       "      <td>6</td>\n",
       "      <td>[1, 1]</td>\n",
       "      <td>2</td>\n",
       "      <td>0.000000</td>\n",
       "    </tr>\n",
       "  </tbody>\n",
       "</table>\n",
       "</div>"
      ],
      "text/plain": [
       "                                                      0  \\\n",
       "1621  But her sister sat still just as she left her,...   \n",
       "1622  The long grass rustled at her feet as the Whit...   \n",
       "1623  So she sat on, with closed eyes, and half beli...   \n",
       "1624  Lastly, she pictured to herself how this same ...   \n",
       "1625                                       THE END        \n",
       "\n",
       "                                             wrd_length  total_char  \\\n",
       "1621  [3, 3, 6, 3, 5, 4, 2, 3, 4, 3, 7, 3, 4, 2, 3, ...         549   \n",
       "1622  [3, 4, 5, 7, 2, 3, 4, 2, 3, 5, 6, 7, 2, 3, 10,...         516   \n",
       "1623  [2, 3, 3, 2, 4, 6, 4, 3, 4, 8, 7, 2, 10, 6, 3,...         504   \n",
       "1624  [6, 3, 8, 2, 7, 3, 4, 4, 6, 6, 2, 4, 5, 2, 3, ...         441   \n",
       "1625                                             [3, 3]           6   \n",
       "\n",
       "                                              syl_count  syl_sum  sentiment  \n",
       "1621  [1, 1, 2, 1, 1, 1, 1, 0, 1, 1, 3, 1, 2, 1, 1, ...      164   0.117857  \n",
       "1622  [1, 1, 1, 1, 1, 1, 1, 1, 1, 1, 2, 2, 1, 1, 2, ...      148  -0.065000  \n",
       "1623  [1, 0, 1, 1, 1, 1, 0, 1, 1, 3, 2, 1, 3, 1, 0, ...      145  -0.158333  \n",
       "1624  [2, 0, 2, 1, 2, 1, 1, 1, 1, 2, 1, 1, 1, 1, 1, ...      129   0.173333  \n",
       "1625                                             [1, 1]        2   0.000000  "
      ]
     },
     "execution_count": 68,
     "metadata": {},
     "output_type": "execute_result"
    }
   ],
   "source": [
    "df_novel.tail()"
   ]
  },
  {
   "cell_type": "markdown",
   "metadata": {},
   "source": [
    "need to fix this piece of code"
   ]
  },
  {
   "cell_type": "code",
   "execution_count": 69,
   "metadata": {
    "collapsed": false
   },
   "outputs": [
    {
     "name": "stdout",
     "output_type": "stream",
     "text": [
      "df_novel['total_char'][0:489]\n",
      "df_novel['total_char'][489:1049]\n",
      "df_novel['total_char'][1049:1624]\n"
     ]
    },
    {
     "ename": "KeyboardInterrupt",
     "evalue": "",
     "output_type": "error",
     "traceback": [
      "\u001b[0;31m---------------------------------------------------------------------------\u001b[0m",
      "\u001b[0;31mKeyboardInterrupt\u001b[0m                         Traceback (most recent call last)",
      "\u001b[0;32m<ipython-input-69-4b95215346fd>\u001b[0m in \u001b[0;36m<module>\u001b[0;34m()\u001b[0m\n\u001b[1;32m      4\u001b[0m \u001b[0mstop_point\u001b[0m \u001b[0;34m=\u001b[0m \u001b[0;34m[\u001b[0m\u001b[0;34m]\u001b[0m\u001b[0;34m\u001b[0m\u001b[0m\n\u001b[1;32m      5\u001b[0m \u001b[0;32mfor\u001b[0m \u001b[0mn\u001b[0m \u001b[0;32min\u001b[0m \u001b[0mrange\u001b[0m\u001b[0;34m(\u001b[0m\u001b[0;36m1\u001b[0m\u001b[0;34m,\u001b[0m \u001b[0;36m21\u001b[0m\u001b[0;34m)\u001b[0m\u001b[0;34m:\u001b[0m\u001b[0;34m\u001b[0m\u001b[0m\n\u001b[0;32m----> 6\u001b[0;31m     \u001b[0ms\u001b[0m \u001b[0;34m=\u001b[0m \u001b[0mfind_this\u001b[0m\u001b[0;34m(\u001b[0m\u001b[0mt\u001b[0m\u001b[0;34m,\u001b[0m \u001b[0mx\u001b[0m\u001b[0;34m)\u001b[0m\u001b[0;34m\u001b[0m\u001b[0m\n\u001b[0m\u001b[1;32m      7\u001b[0m     \u001b[0;32mprint\u001b[0m \u001b[0;34m\"df_novel['total_char'][%s:%s]\"\u001b[0m \u001b[0;34m%\u001b[0m\u001b[0;34m(\u001b[0m\u001b[0mt\u001b[0m\u001b[0;34m,\u001b[0m \u001b[0ms\u001b[0m\u001b[0;34m)\u001b[0m\u001b[0;34m\u001b[0m\u001b[0m\n\u001b[1;32m      8\u001b[0m     \u001b[0mstart_point\u001b[0m\u001b[0;34m.\u001b[0m\u001b[0mappend\u001b[0m\u001b[0;34m(\u001b[0m\u001b[0mt\u001b[0m\u001b[0;34m)\u001b[0m\u001b[0;34m\u001b[0m\u001b[0m\n",
      "\u001b[0;32m<ipython-input-67-a0fd79502e37>\u001b[0m in \u001b[0;36mfind_this\u001b[0;34m(t, x)\u001b[0m\n\u001b[1;32m      6\u001b[0m     \u001b[0msent_stop\u001b[0m \u001b[0;34m=\u001b[0m \u001b[0;34m[\u001b[0m\u001b[0;34m]\u001b[0m\u001b[0;34m\u001b[0m\u001b[0m\n\u001b[1;32m      7\u001b[0m     \u001b[0;32mwhile\u001b[0m \u001b[0mw\u001b[0m \u001b[0;34m<\u001b[0m \u001b[0mratio\u001b[0m\u001b[0;34m:\u001b[0m\u001b[0;34m\u001b[0m\u001b[0m\n\u001b[0;32m----> 8\u001b[0;31m         \u001b[0mw\u001b[0m \u001b[0;34m=\u001b[0m \u001b[0mdf_novel\u001b[0m\u001b[0;34m[\u001b[0m\u001b[0;34m'total_char'\u001b[0m\u001b[0;34m]\u001b[0m\u001b[0;34m[\u001b[0m\u001b[0mt\u001b[0m\u001b[0;34m:\u001b[0m\u001b[0mx\u001b[0m\u001b[0;34m]\u001b[0m\u001b[0;34m.\u001b[0m\u001b[0msum\u001b[0m\u001b[0;34m(\u001b[0m\u001b[0;34m)\u001b[0m\u001b[0;34m\u001b[0m\u001b[0m\n\u001b[0m\u001b[1;32m      9\u001b[0m         \u001b[0msent_stop\u001b[0m\u001b[0;34m.\u001b[0m\u001b[0mappend\u001b[0m\u001b[0;34m(\u001b[0m\u001b[0mx\u001b[0m\u001b[0;34m)\u001b[0m\u001b[0;34m\u001b[0m\u001b[0m\n\u001b[1;32m     10\u001b[0m         \u001b[0mx\u001b[0m \u001b[0;34m+=\u001b[0m \u001b[0;36m1\u001b[0m\u001b[0;34m\u001b[0m\u001b[0m\n",
      "\u001b[0;32m/Users/aliciagyori/anaconda/lib/python2.7/site-packages/pandas/core/series.pyc\u001b[0m in \u001b[0;36m__getitem__\u001b[0;34m(self, key)\u001b[0m\n\u001b[1;32m    581\u001b[0m         \u001b[0mkey\u001b[0m \u001b[0;34m=\u001b[0m \u001b[0mcom\u001b[0m\u001b[0;34m.\u001b[0m\u001b[0m_apply_if_callable\u001b[0m\u001b[0;34m(\u001b[0m\u001b[0mkey\u001b[0m\u001b[0;34m,\u001b[0m \u001b[0mself\u001b[0m\u001b[0;34m)\u001b[0m\u001b[0;34m\u001b[0m\u001b[0m\n\u001b[1;32m    582\u001b[0m         \u001b[0;32mtry\u001b[0m\u001b[0;34m:\u001b[0m\u001b[0;34m\u001b[0m\u001b[0m\n\u001b[0;32m--> 583\u001b[0;31m             \u001b[0mresult\u001b[0m \u001b[0;34m=\u001b[0m \u001b[0mself\u001b[0m\u001b[0;34m.\u001b[0m\u001b[0mindex\u001b[0m\u001b[0;34m.\u001b[0m\u001b[0mget_value\u001b[0m\u001b[0;34m(\u001b[0m\u001b[0mself\u001b[0m\u001b[0;34m,\u001b[0m \u001b[0mkey\u001b[0m\u001b[0;34m)\u001b[0m\u001b[0;34m\u001b[0m\u001b[0m\n\u001b[0m\u001b[1;32m    584\u001b[0m \u001b[0;34m\u001b[0m\u001b[0m\n\u001b[1;32m    585\u001b[0m             \u001b[0;32mif\u001b[0m \u001b[0;32mnot\u001b[0m \u001b[0mlib\u001b[0m\u001b[0;34m.\u001b[0m\u001b[0misscalar\u001b[0m\u001b[0;34m(\u001b[0m\u001b[0mresult\u001b[0m\u001b[0;34m)\u001b[0m\u001b[0;34m:\u001b[0m\u001b[0;34m\u001b[0m\u001b[0m\n",
      "\u001b[0;32m/Users/aliciagyori/anaconda/lib/python2.7/site-packages/pandas/indexes/base.pyc\u001b[0m in \u001b[0;36mget_value\u001b[0;34m(self, series, key)\u001b[0m\n\u001b[1;32m   1997\u001b[0m         \u001b[0;32mexcept\u001b[0m \u001b[0mTypeError\u001b[0m\u001b[0;34m:\u001b[0m\u001b[0;34m\u001b[0m\u001b[0m\n\u001b[1;32m   1998\u001b[0m             \u001b[0;31m# python 3\u001b[0m\u001b[0;34m\u001b[0m\u001b[0;34m\u001b[0m\u001b[0m\n\u001b[0;32m-> 1999\u001b[0;31m             \u001b[0;32mif\u001b[0m \u001b[0mlib\u001b[0m\u001b[0;34m.\u001b[0m\u001b[0misscalar\u001b[0m\u001b[0;34m(\u001b[0m\u001b[0mkey\u001b[0m\u001b[0;34m)\u001b[0m\u001b[0;34m:\u001b[0m  \u001b[0;31m# pragma: no cover\u001b[0m\u001b[0;34m\u001b[0m\u001b[0m\n\u001b[0m\u001b[1;32m   2000\u001b[0m                 \u001b[0;32mraise\u001b[0m \u001b[0mIndexError\u001b[0m\u001b[0;34m(\u001b[0m\u001b[0mkey\u001b[0m\u001b[0;34m)\u001b[0m\u001b[0;34m\u001b[0m\u001b[0m\n\u001b[1;32m   2001\u001b[0m             \u001b[0;32mraise\u001b[0m \u001b[0mInvalidIndexError\u001b[0m\u001b[0;34m(\u001b[0m\u001b[0mkey\u001b[0m\u001b[0;34m)\u001b[0m\u001b[0;34m\u001b[0m\u001b[0m\n",
      "\u001b[0;31mKeyboardInterrupt\u001b[0m: "
     ]
    }
   ],
   "source": [
    "t = 0\n",
    "x = 0\n",
    "start_point = []\n",
    "stop_point = []\n",
    "for n in range(1, 21):\n",
    "    s = find_this(t, x)\n",
    "    print \"df_novel['total_char'][%s:%s]\" %(t, s)\n",
    "    start_point.append(t)\n",
    "    stop_point.append(s)\n",
    "    t = s\n",
    "    x = s + 1  "
   ]
  },
  {
   "cell_type": "code",
   "execution_count": 70,
   "metadata": {
    "collapsed": false
   },
   "outputs": [
    {
     "name": "stdout",
     "output_type": "stream",
     "text": [
      "0\n",
      "489\n",
      "0.0210658632327\n",
      "489\n",
      "1049\n",
      "0.00212585410002\n",
      "1049\n",
      "1624\n",
      "0.0514973242145\n"
     ]
    }
   ],
   "source": [
    "three_piece_char = []\n",
    "st = 0\n",
    "for l in start_point: \n",
    "    strt = start_point[st]\n",
    "    stp = stop_point[st]\n",
    "    print strt\n",
    "    print stp\n",
    "    mn = df_novel['sentiment'][strt:stp].mean()\n",
    "    three_piece_char.append(mn)\n",
    "    print mn\n",
    "    st +=1"
   ]
  },
  {
   "cell_type": "code",
   "execution_count": 71,
   "metadata": {
    "collapsed": false
   },
   "outputs": [
    {
     "name": "stdout",
     "output_type": "stream",
     "text": [
      "[ 0.02106586  0.00212585  0.05149732]\n"
     ]
    }
   ],
   "source": [
    "n = np.array(n)\n",
    "three_piece_char = np.array(three_piece_char)\n",
    "print three_piece_char"
   ]
  },
  {
   "cell_type": "code",
   "execution_count": 72,
   "metadata": {
    "collapsed": false
   },
   "outputs": [
    {
     "data": {
      "image/png": "[encoded data removed]",
      "text/plain": [
       "<matplotlib.figure.Figure at 0x11cf96410>"
      ]
     },
     "metadata": {},
     "output_type": "display_data"
    }
   ],
   "source": [
    "plt.bar(range(3), three_piece_char)\n",
    "plt.ylabel('sentiment')\n",
    "plt.show()"
   ]
  },
  {
   "cell_type": "code",
   "execution_count": 73,
   "metadata": {
    "collapsed": false
   },
   "outputs": [
    {
     "data": {
      "text/html": [
       "<div>\n",
       "<table border=\"1\" class=\"dataframe\">\n",
       "  <thead>\n",
       "    <tr style=\"text-align: right;\">\n",
       "      <th></th>\n",
       "      <th>0</th>\n",
       "      <th>wrd_length</th>\n",
       "      <th>total_char</th>\n",
       "      <th>syl_count</th>\n",
       "      <th>syl_sum</th>\n",
       "      <th>sentiment</th>\n",
       "    </tr>\n",
       "  </thead>\n",
       "  <tbody>\n",
       "    <tr>\n",
       "      <th>0</th>\n",
       "      <td>Down the Rabbit-Hole  Alice was beginning to g...</td>\n",
       "      <td>[4, 3, 11, 5, 3, 9, 2, 3, 4, 5, 2, 7, 2, 3, 6,...</td>\n",
       "      <td>256</td>\n",
       "      <td>[1, 1, 3, 2, 1, 3, 1, 1, 2, 1, 1, 2, 1, 1, 2, ...</td>\n",
       "      <td>83</td>\n",
       "      <td>-0.337778</td>\n",
       "    </tr>\n",
       "    <tr>\n",
       "      <th>1</th>\n",
       "      <td>So she was considering in her own mind (as wel...</td>\n",
       "      <td>[2, 3, 3, 11, 2, 3, 3, 4, 2, 4, 2, 3, 5, 3, 3,...</td>\n",
       "      <td>229</td>\n",
       "      <td>[1, 0, 1, 4, 1, 1, 1, 1, 1, 1, 1, 0, 1, 1, 1, ...</td>\n",
       "      <td>70</td>\n",
       "      <td>0.031250</td>\n",
       "    </tr>\n",
       "    <tr>\n",
       "      <th>2</th>\n",
       "      <td>There was nothing so VERY remarkable in that; ...</td>\n",
       "      <td>[5, 3, 7, 2, 4, 10, 2, 4, 3, 3, 5, 5, 2, 2, 4,...</td>\n",
       "      <td>109</td>\n",
       "      <td>[1, 1, 2, 1, 2, 3, 1, 1, 1, 1, 2, 1, 1, 1, 2, ...</td>\n",
       "      <td>39</td>\n",
       "      <td>0.650000</td>\n",
       "    </tr>\n",
       "    <tr>\n",
       "      <th>3</th>\n",
       "      <td>Oh dear!</td>\n",
       "      <td>[2, 4]</td>\n",
       "      <td>6</td>\n",
       "      <td>[1, 2]</td>\n",
       "      <td>3</td>\n",
       "      <td>0.000000</td>\n",
       "    </tr>\n",
       "    <tr>\n",
       "      <th>4</th>\n",
       "      <td>I shall be late!'</td>\n",
       "      <td>[1, 5, 2, 4]</td>\n",
       "      <td>12</td>\n",
       "      <td>[1, 1, 1, 1]</td>\n",
       "      <td>4</td>\n",
       "      <td>-0.375000</td>\n",
       "    </tr>\n",
       "  </tbody>\n",
       "</table>\n",
       "</div>"
      ],
      "text/plain": [
       "                                                   0  \\\n",
       "0  Down the Rabbit-Hole  Alice was beginning to g...   \n",
       "1  So she was considering in her own mind (as wel...   \n",
       "2  There was nothing so VERY remarkable in that; ...   \n",
       "3                                           Oh dear!   \n",
       "4                                  I shall be late!'   \n",
       "\n",
       "                                          wrd_length  total_char  \\\n",
       "0  [4, 3, 11, 5, 3, 9, 2, 3, 4, 5, 2, 7, 2, 3, 6,...         256   \n",
       "1  [2, 3, 3, 11, 2, 3, 3, 4, 2, 4, 2, 3, 5, 3, 3,...         229   \n",
       "2  [5, 3, 7, 2, 4, 10, 2, 4, 3, 3, 5, 5, 2, 2, 4,...         109   \n",
       "3                                             [2, 4]           6   \n",
       "4                                       [1, 5, 2, 4]          12   \n",
       "\n",
       "                                           syl_count  syl_sum  sentiment  \n",
       "0  [1, 1, 3, 2, 1, 3, 1, 1, 2, 1, 1, 2, 1, 1, 2, ...       83  -0.337778  \n",
       "1  [1, 0, 1, 4, 1, 1, 1, 1, 1, 1, 1, 0, 1, 1, 1, ...       70   0.031250  \n",
       "2  [1, 1, 2, 1, 2, 3, 1, 1, 1, 1, 2, 1, 1, 1, 2, ...       39   0.650000  \n",
       "3                                             [1, 2]        3   0.000000  \n",
       "4                                       [1, 1, 1, 1]        4  -0.375000  "
      ]
     },
     "execution_count": 73,
     "metadata": {},
     "output_type": "execute_result"
    }
   ],
   "source": [
    "df_novel.head()"
   ]
  },
  {
   "cell_type": "code",
   "execution_count": 74,
   "metadata": {
    "collapsed": false
   },
   "outputs": [
    {
     "name": "stdout",
     "output_type": "stream",
     "text": [
      "I--'  'Oh, don't bother ME,' said the Duchess; 'I never could abide figures!'\n",
      "And with that she began nursing her child again, singing a sort of lullaby to it as she did so, and giving it a violent shake at the end of every line:     'Speak roughly to your little boy,     And beat him when he sneezes:    He only does it to annoy,     Because he knows it teases.'\n",
      "CHORUS.\n",
      "(In which the cook and the baby joined):--         'Wow!\n",
      "wow!\n",
      "wow!'\n",
      "While the Duchess sang the second verse of the song, she kept tossing the baby violently up and down, and the poor little thing howled so, that Alice could hardly hear the words:--     'I speak severely to my boy,     I beat him when he sneezes;    For he can thoroughly enjoy     The pepper when he pleases!'\n",
      "CHORUS.\n",
      "'Wow!\n",
      "wow!\n",
      "wow!'\n",
      "'Here!\n",
      "you may nurse it a bit, if you like!'\n",
      "the Duchess said to Alice, flinging the baby at her as she spoke.\n",
      "'I must go and get ready to play croquet with the Queen,' and she hurried out of the room.\n",
      "The cook threw a frying-pan after her as she went out, but it just missed her.\n",
      "Alice caught the baby with some difficulty, as it was a queer-shaped little creature, and held out its arms and legs in all directions, 'just like a star-fish,' thought Alice.\n",
      "The poor little thing was snorting like a steam-engine when she caught it, and kept doubling itself up and straightening itself out again, so that altogether, for the first minute or two, it was as much as she could do to hold it.\n",
      "As soon as she had made out the proper way of nursing it, (which was to twist it up into a sort of knot, and then keep tight hold of its right ear and left foot, so as to prevent its undoing itself,) she carried it out into the open air.\n",
      "'IF I don't take this child away with me,' thought Alice, 'they're sure to kill it in a day or two: wouldn't it be murder to leave it behind?'\n",
      "She said the last words out loud, and the little thing grunted in reply (it had left off sneezing by this time).\n",
      "'Don't grunt,' said Alice; 'that's not at all a proper way of expressing yourself.'\n",
      "The baby grunted again, and Alice looked very anxiously into its face to see what was the matter with it.\n",
      "There could be no doubt that it had a VERY turn-up nose, much more like a snout than a real nose; also its eyes were getting extremely small for a baby: altogether Alice did not like the look of the thing at all.\n",
      "'But perhaps it was only sobbing,' she thought, and looked into its eyes again, to see if there were any tears.\n",
      "No, there were no tears.\n",
      "'If you're going to turn into a pig, my dear,' said Alice, seriously, 'I'll have nothing more to do with you.\n",
      "Mind now!'\n",
      "The poor little thing sobbed again (or grunted, it was impossible to say which), and they went on for some while in silence.\n",
      "Alice was just beginning to think to herself, 'Now, what am I to do with this creature when I get it home?'\n",
      "when it grunted again, so violently, that she looked down into its face in some alarm.\n",
      "This time there could be NO mistake about it: it was neither more nor less than a pig, and she felt that it would be quite absurd for her to carry it further.\n",
      "So she set the little creature down, and felt quite relieved to see it trot away quietly into the wood.\n",
      "'If it had grown up,' she said to herself, 'it would have made a dreadfully ugly child: but it makes rather a handsome pig, I think.'\n",
      "And she began thinking over other children she knew, who might do very well as pigs, and was just saying to herself, 'if one only knew the right way to change them--' when she was a little startled by seeing the Cheshire Cat sitting on a bough of a tree a few yards off.\n",
      "The Cat only grinned when it saw Alice.\n",
      "It looked good-natured, she thought: still it had VERY long claws and a great many teeth, so she felt that it ought to be treated with respect.\n",
      "'Cheshire Puss,' she began, rather timidly, as she did not at all know whether it would like the name: however, it only grinned a little wider.\n",
      "'Come, it's pleased so far,' thought Alice, and she went on.\n",
      "'Would you tell me, please, which way I ought to go from here?'\n",
      "'That depends a good deal on where you want to get to,' said the Cat.\n",
      "'I don't much care where--' said Alice.\n",
      "'Then it doesn't matter which way you go,' said the Cat.  '\n",
      "--so long as I get SOMEWHERE,' Alice added as an explanation.\n",
      "'Oh, you're sure to do that,' said the Cat, 'if you only walk long enough.'\n",
      "Alice felt that this could not be denied, so she tried another question.\n",
      "'What sort of people live about here?'\n",
      "'In THAT direction,' the Cat said, waving its right paw round, 'lives a Hatter: and in THAT direction,' waving the other paw, 'lives a March Hare.\n",
      "Visit either you like: they're both mad.'\n",
      "'But I don't want to go among mad people,' Alice remarked.\n",
      "'Oh, you can't help that,' said the Cat: 'we're all mad here.\n",
      "I'm mad.\n",
      "You're mad.'\n",
      "'How do you know I'm mad?'\n",
      "said Alice.\n",
      "'You must be,' said the Cat, 'or you wouldn't have come here.'\n",
      "Alice didn't think that proved it at all; however, she went on 'And how do you know that you're mad?'\n",
      "'To begin with,' said the Cat, 'a dog's not mad.\n",
      "You grant that?'\n",
      "'I suppose so,' said Alice.\n",
      "'Well, then,' the Cat went on, 'you see, a dog growls when it's angry, and wags its tail when it's pleased.\n",
      "Now I growl when I'm pleased, and wag my tail when I'm angry.\n",
      "Therefore I'm mad.'\n",
      "'I call it purring, not growling,' said Alice.\n",
      "'Call it what you like,' said the Cat.\n",
      "'Do you play croquet with the Queen to-day?'\n",
      "'I should like it very much,' said Alice, 'but I haven't been invited yet.'\n",
      "'You'll see me there,' said the Cat, and vanished.\n",
      "Alice was not much surprised at this, she was getting so used to queer things happening.\n",
      "While she was looking at the place where it had been, it suddenly appeared again.\n",
      "'By-the-bye, what became of the baby?'\n",
      "said the Cat.\n",
      "'I'd nearly forgotten to ask.'\n",
      "'It turned into a pig,' Alice quietly said, just as if it had come back in a natural way.\n",
      "'I thought it would,' said the Cat, and vanished again.\n",
      "Alice waited a little, half expecting to see it again, but it did not appear, and after a minute or two she walked on in the direction in which the March Hare was said to live.\n",
      "'I've seen hatters before,' she said to herself; 'the March Hare will be much the most interesting, and perhaps as this is May it won't be raving mad--at least not so mad as it was in March.'\n",
      "As she said this, she looked up, and there was the Cat again, sitting on a branch of a tree.\n",
      "'Did you say pig, or fig?'\n",
      "said the Cat.\n",
      "'I said pig,' replied Alice; 'and I wish you wouldn't keep appearing and vanishing so suddenly: you make one quite giddy.'\n",
      "'All right,' said the Cat; and this time it vanished quite slowly, beginning with the end of the tail, and ending with the grin, which remained some time after the rest of it had gone.\n",
      "'Well!\n",
      "I've often seen a cat without a grin,' thought Alice; 'but a grin without a cat!\n",
      "It's the most curious thing I ever saw in my life!'\n",
      "She had not gone much farther before she came in sight of the house of the March Hare: she thought it must be the right house, because the chimneys were shaped like ears and the roof was thatched with fur.\n"
     ]
    }
   ],
   "source": [
    "for i in df_novel[0][655:741]:\n",
    "    print i"
   ]
  },
  {
   "cell_type": "code",
   "execution_count": 42,
   "metadata": {
    "collapsed": false
   },
   "outputs": [
    {
     "name": "stdout",
     "output_type": "stream",
     "text": [
      "0.0\n",
      "-0.271875\n",
      "0.0\n",
      "0.125\n",
      "0.125\n",
      "0.125\n",
      "-0.190674603175\n",
      "0.0\n",
      "0.125\n",
      "0.125\n",
      "0.125\n",
      "0.0\n",
      "0.0\n",
      "0.0\n",
      "0.2\n",
      "0.0\n",
      "-0.1875\n",
      "-0.034375\n",
      "0.0214285714286\n",
      "0.05\n",
      "-0.021875\n",
      "0.0\n",
      "-0.325\n",
      "0.1625\n",
      "0.0\n",
      "0.0\n",
      "0.0833333333333\n",
      "0.0\n",
      "-0.418055555556\n",
      "0.0\n",
      "-0.477777777778\n",
      "-0.0416666666667\n",
      "-0.114351851852\n",
      "-0.1\n",
      "-0.00446428571429\n",
      "0.0\n",
      "0.411666666667\n",
      "-0.09375\n",
      "0.3\n",
      "0.0\n",
      "0.7\n",
      "0.2\n",
      "0.0\n",
      "-0.05\n",
      "0.1125\n",
      "0.0\n",
      "0.136363636364\n",
      "-0.0130952380952\n",
      "-0.625\n",
      "-0.625\n",
      "-0.625\n",
      "-0.625\n",
      "-0.625\n",
      "-0.625\n",
      "0.0\n",
      "0.0\n",
      "-0.625\n",
      "0.3125\n",
      "0.0\n",
      "0.0\n",
      "0.0\n",
      "0.0\n",
      "-0.625\n",
      "0.0\n",
      "0.0\n",
      "0.0\n",
      "0.26\n",
      "0.0\n",
      "-0.05\n",
      "0.0\n",
      "0.0\n",
      "0.0\n",
      "0.1\n",
      "0.0333333333333\n",
      "0.0\n",
      "-0.072601010101\n",
      "0.055\n",
      "0.0\n",
      "0.0\n",
      "0.0\n",
      "0.0\n",
      "-0.00714285714286\n",
      "0.0\n",
      "0.0\n",
      "0.1875\n",
      "0.242857142857\n"
     ]
    }
   ],
   "source": [
    "for i in df_novel['sentiment'][655:741]:\n",
    "    print i"
   ]
  },
  {
   "cell_type": "code",
   "execution_count": 76,
   "metadata": {
    "collapsed": false
   },
   "outputs": [
    {
     "data": {
      "text/plain": [
       "<matplotlib.axes._subplots.AxesSubplot at 0x11e2bf410>"
      ]
     },
     "execution_count": 76,
     "metadata": {},
     "output_type": "execute_result"
    },
    {
     "data": {
      "image/png": "[encoded data removed]",
      "text/plain": [
       "<matplotlib.figure.Figure at 0x11e2dd490>"
      ]
     },
     "metadata": {},
     "output_type": "display_data"
    }
   ],
   "source": [
    "df_novel['sentiment'][655:741].plot()"
   ]
  },
  {
   "cell_type": "code",
   "execution_count": 78,
   "metadata": {
    "collapsed": false
   },
   "outputs": [
    {
     "name": "stdout",
     "output_type": "stream",
     "text": [
      "The Cat only grinned when it saw Alice.\n",
      "It looked good-natured, she thought: still it had VERY long claws and a great many teeth, so she felt that it ought to be treated with respect.\n",
      "'Cheshire Puss,' she began, rather timidly, as she did not at all know whether it would like the name: however, it only grinned a little wider.\n",
      "'Come, it's pleased so far,' thought Alice, and she went on.\n",
      "'Would you tell me, please, which way I ought to go from here?'\n",
      "'That depends a good deal on where you want to get to,' said the Cat.\n",
      "'I don't much care where--' said Alice.\n",
      "'Then it doesn't matter which way you go,' said the Cat.  '\n",
      "--so long as I get SOMEWHERE,' Alice added as an explanation.\n",
      "'Oh, you're sure to do that,' said the Cat, 'if you only walk long enough.'\n"
     ]
    }
   ],
   "source": [
    "for i in df_novel[0][690:700]:\n",
    "    print i"
   ]
  },
  {
   "cell_type": "code",
   "execution_count": 77,
   "metadata": {
    "collapsed": false
   },
   "outputs": [
    {
     "name": "stdout",
     "output_type": "stream",
     "text": [
      "Alice felt that this could not be denied, so she tried another question.\n",
      "'What sort of people live about here?'\n",
      "'In THAT direction,' the Cat said, waving its right paw round, 'lives a Hatter: and in THAT direction,' waving the other paw, 'lives a March Hare.\n",
      "Visit either you like: they're both mad.'\n",
      "'But I don't want to go among mad people,' Alice remarked.\n",
      "'Oh, you can't help that,' said the Cat: 'we're all mad here.\n",
      "I'm mad.\n",
      "You're mad.'\n",
      "'How do you know I'm mad?'\n",
      "said Alice.\n"
     ]
    }
   ],
   "source": [
    "for i in df_novel[0][700:710]:\n",
    "    print i"
   ]
  },
  {
   "cell_type": "code",
   "execution_count": 79,
   "metadata": {
    "collapsed": false
   },
   "outputs": [
    {
     "data": {
      "text/plain": [
       "<matplotlib.axes._subplots.AxesSubplot at 0x11e656ed0>"
      ]
     },
     "execution_count": 79,
     "metadata": {},
     "output_type": "execute_result"
    },
    {
     "data": {
      "image/png": "[encoded data removed]",
      "text/plain": [
       "<matplotlib.figure.Figure at 0x11e6731d0>"
      ]
     },
     "metadata": {},
     "output_type": "display_data"
    }
   ],
   "source": [
    "df_novel['sentiment'][1363:1446].plot()"
   ]
  },
  {
   "cell_type": "code",
   "execution_count": 80,
   "metadata": {
    "collapsed": false
   },
   "outputs": [
    {
     "name": "stdout",
     "output_type": "stream",
     "text": [
      "Soup of the evening, beautiful Soup!\n",
      "Soup of the evening, beautiful Soup!\n",
      "Beau--ootiful Soo--oop!\n",
      "Beau--ootiful Soo--oop!\n",
      "Soo--oop of the e--e--evening,      Beautiful, beautiful Soup!\n",
      "'Beautiful Soup!\n",
      "Who cares for fish,    Game, or any other dish?\n",
      "Who would not give all else for two    Pennyworth only of beautiful Soup?\n",
      "Pennyworth only of beautiful Soup?\n",
      "Beau--ootiful Soo--oop!\n",
      "Beau--ootiful Soo--oop!\n",
      "Soo--oop of the e--e--evening,      Beautiful, beauti--FUL SOUP!'\n",
      "'Chorus again!'\n",
      "cried the Gryphon, and the Mock Turtle had just begun to repeat it, when a cry of 'The trial's beginning!'\n",
      "was heard in the distance.\n",
      "'Come on!'\n",
      "cried the Gryphon, and, taking Alice by the hand, it hurried off, without waiting for the end of the song.\n",
      "'What trial is it?'\n",
      "Alice panted as she ran; but the Gryphon only answered 'Come on!'\n",
      "and ran the faster, while more and more faintly came, carried on the breeze that followed them, the melancholy words:--     'Soo--oop of the e--e--evening,      Beautiful, beautiful Soup!'\n",
      "CHAPTER XI.\n",
      "Who Stole the Tarts?\n",
      "The King and Queen of Hearts were seated on their throne when they arrived, with a great crowd assembled about them--all sorts of little birds and beasts, as well as the whole pack of cards: the Knave was standing before them, in chains, with a soldier on each side to guard him; and near the King was the White Rabbit, with a trumpet in one hand, and a scroll of parchment in the other.\n",
      "In the very middle of the court was a table, with a large dish of tarts upon it: they looked so good, that it made Alice quite hungry to look at them--'I wish they'd get the trial done,' she thought, 'and hand round the refreshments!'\n",
      "But there seemed to be no chance of this, so she began looking at everything about her, to pass away the time.\n",
      "Alice had never been in a court of justice before, but she had read about them in books, and she was quite pleased to find that she knew the name of nearly everything there.\n",
      "'That's the judge,' she said to herself, 'because of his great wig.'\n",
      "The judge, by the way, was the King; and as he wore his crown over the wig, (look at the frontispiece if you want to see how he did it,) he did not look at all comfortable, and it was certainly not becoming.\n",
      "'And that's the jury-box,' thought Alice, 'and those twelve creatures,' (she was obliged to say 'creatures,' you see, because some of them were animals, and some were birds,) 'I suppose they are the jurors.'\n",
      "She said this last word two or three times over to herself, being rather proud of it: for she thought, and rightly too, that very few little girls of her age knew the meaning of it at all.\n",
      "However, 'jury-men' would have done just as well.\n",
      "The twelve jurors were all writing very busily on slates.\n",
      "'What are they doing?'\n",
      "Alice whispered to the Gryphon.\n",
      "'They can't have anything to put down yet, before the trial's begun.'\n",
      "'They're putting down their names,' the Gryphon whispered in reply, 'for fear they should forget them before the end of the trial.'\n",
      "'Stupid things!'\n",
      "Alice began in a loud, indignant voice, but she stopped hastily, for the White Rabbit cried out, 'Silence in the court!'\n",
      "and the King put on his spectacles and looked anxiously round, to make out who was talking.\n",
      "Alice could see, as well as if she were looking over their shoulders, that all the jurors were writing down 'stupid things!'\n",
      "on their slates, and she could even make out that one of them didn't know how to spell 'stupid,' and that he had to ask his neighbour to tell him.\n",
      "'A nice muddle their slates'll be in before the trial's over!'\n",
      "thought Alice.\n",
      "One of the jurors had a pencil that squeaked.\n",
      "This of course, Alice could not stand, and she went round the court and got behind him, and very soon found an opportunity of taking it away.\n",
      "She did it so quickly that the poor little juror (it was Bill, the Lizard) could not make out at all what had become of it; so, after hunting all about for it, he was obliged to write with one finger for the rest of the day; and this was of very little use, as it left no mark on the slate.\n",
      "'Herald, read the accusation!'\n",
      "said the King.\n",
      "On this the White Rabbit blew three blasts on the trumpet, and then unrolled the parchment scroll, and read as follows:--     'The Queen of Hearts, she made some tarts,       All on a summer day:     The Knave of Hearts, he stole those tarts,       And took them quite away!'\n",
      "'Consider your verdict,' the King said to the jury.\n",
      "'Not yet, not yet!'\n",
      "the Rabbit hastily interrupted.\n",
      "'There's a great deal to come before that!'\n",
      "'Call the first witness,' said the King; and the White Rabbit blew three blasts on the trumpet, and called out, 'First witness!'\n",
      "The first witness was the Hatter.\n",
      "He came in with a teacup in one hand and a piece of bread-and-butter in the other.\n",
      "'I beg pardon, your Majesty,' he began, 'for bringing these in: but I hadn't quite finished my tea when I was sent for.'\n",
      "'You ought to have finished,' said the King.\n",
      "'When did you begin?'\n",
      "The Hatter looked at the March Hare, who had followed him into the court, arm-in-arm with the Dormouse.\n",
      "'Fourteenth of March, I think it was,' he said.\n",
      "'Fifteenth,' said the March Hare.\n",
      "'Sixteenth,' added the Dormouse.\n",
      "'Write that down,' the King said to the jury, and the jury eagerly wrote down all three dates on their slates, and then added them up, and reduced the answer to shillings and pence.\n",
      "'Take off your hat,' the King said to the Hatter.\n",
      "'It isn't mine,' said the Hatter.\n",
      "'Stolen!'\n",
      "the King exclaimed, turning to the jury, who instantly made a memorandum of the fact.\n",
      "'I keep them to sell,' the Hatter added as an explanation; 'I've none of my own.\n",
      "I'm a hatter.'\n",
      "Here the Queen put on her spectacles, and began staring at the Hatter, who turned pale and fidgeted.\n",
      "'Give your evidence,' said the King; 'and don't be nervous, or I'll have you executed on the spot.'\n",
      "This did not seem to encourage the witness at all: he kept shifting from one foot to the other, looking uneasily at the Queen, and in his confusion he bit a large piece out of his teacup instead of the bread-and-butter.\n",
      "Just at this moment Alice felt a very curious sensation, which puzzled her a good deal until she made out what it was: she was beginning to grow larger again, and she thought at first she would get up and leave the court; but on second thoughts she decided to remain where she was as long as there was room for her.\n",
      "'I wish you wouldn't squeeze so.'\n",
      "said the Dormouse, who was sitting next to her.\n",
      "'I can hardly breathe.'\n",
      "'I can't help it,' said Alice very meekly: 'I'm growing.'\n",
      "'You've no right to grow here,' said the Dormouse.\n",
      "'Don't talk nonsense,' said Alice more boldly: 'you know you're growing too.'\n",
      "'Yes, but I grow at a reasonable pace,' said the Dormouse: 'not in that ridiculous fashion.'\n",
      "And he got up very sulkily and crossed over to the other side of the court.\n",
      "All this time the Queen had never left off staring at the Hatter, and, just as the Dormouse crossed the court, she said to one of the officers of the court, 'Bring me the list of the singers in the last concert!'\n"
     ]
    }
   ],
   "source": [
    "for i in df_novel[0][1363:1446]:\n",
    "    print i"
   ]
  },
  {
   "cell_type": "code",
   "execution_count": 45,
   "metadata": {
    "collapsed": false
   },
   "outputs": [
    {
     "data": {
      "text/plain": [
       "<matplotlib.axes._subplots.AxesSubplot at 0x11cb8bcd0>"
      ]
     },
     "execution_count": 45,
     "metadata": {},
     "output_type": "execute_result"
    },
    {
     "data": {
      "image/png": "[encoded data removed]",
      "text/plain": [
       "<matplotlib.figure.Figure at 0x119436b10>"
      ]
     },
     "metadata": {},
     "output_type": "display_data"
    }
   ],
   "source": [
    "df_novel['sentiment'][655:741].plot(kind='hist')"
   ]
  },
  {
   "cell_type": "code",
   "execution_count": 46,
   "metadata": {
    "collapsed": false
   },
   "outputs": [
    {
     "data": {
      "text/plain": [
       "-1.0"
      ]
     },
     "execution_count": 46,
     "metadata": {},
     "output_type": "execute_result"
    }
   ],
   "source": [
    "df_novel['sentiment'].min()"
   ]
  },
  {
   "cell_type": "code",
   "execution_count": 54,
   "metadata": {
    "collapsed": true
   },
   "outputs": [],
   "source": [
    "high = df_novel[df_novel['sentiment'] > .9]"
   ]
  },
  {
   "cell_type": "code",
   "execution_count": 55,
   "metadata": {
    "collapsed": false
   },
   "outputs": [
    {
     "data": {
      "text/html": [
       "<div>\n",
       "<table border=\"1\" class=\"dataframe\">\n",
       "  <thead>\n",
       "    <tr style=\"text-align: right;\">\n",
       "      <th></th>\n",
       "      <th>0</th>\n",
       "      <th>wrd_length</th>\n",
       "      <th>total_char</th>\n",
       "      <th>syl_count</th>\n",
       "      <th>syl_sum</th>\n",
       "      <th>sentiment</th>\n",
       "    </tr>\n",
       "  </thead>\n",
       "  <tbody>\n",
       "    <tr>\n",
       "      <th>13</th>\n",
       "      <td>How brave they'll all think me at home!</td>\n",
       "      <td>[3, 5, 4, 3, 3, 5, 2, 2, 4]</td>\n",
       "      <td>31</td>\n",
       "      <td>[1, 1, 1, 0, 1, 1, 1, 1, 1]</td>\n",
       "      <td>8</td>\n",
       "      <td>1.000</td>\n",
       "    </tr>\n",
       "    <tr>\n",
       "      <th>118</th>\n",
       "      <td>Ah, THAT'S the great puzzle!'</td>\n",
       "      <td>[2, 4, 2, 3, 5, 6]</td>\n",
       "      <td>22</td>\n",
       "      <td>[1, 1, 0, 1, 2, 1]</td>\n",
       "      <td>6</td>\n",
       "      <td>1.000</td>\n",
       "    </tr>\n",
       "    <tr>\n",
       "      <th>239</th>\n",
       "      <td>'Why,' said the Dodo, 'the best way to explain...</td>\n",
       "      <td>[4, 4, 3, 4, 4, 4, 3, 2, 7, 2, 2, 2, 2, 2]</td>\n",
       "      <td>45</td>\n",
       "      <td>[1, 1, 1, 2, 0, 1, 1, 1, 2, 1, 1, 1, 1, 1]</td>\n",
       "      <td>15</td>\n",
       "      <td>1.000</td>\n",
       "    </tr>\n",
       "    <tr>\n",
       "      <th>442</th>\n",
       "      <td>I think that will be the best plan.'</td>\n",
       "      <td>[1, 5, 4, 4, 2, 3, 4, 4]</td>\n",
       "      <td>27</td>\n",
       "      <td>[1, 1, 1, 1, 1, 1, 1, 1]</td>\n",
       "      <td>8</td>\n",
       "      <td>1.000</td>\n",
       "    </tr>\n",
       "    <tr>\n",
       "      <th>520</th>\n",
       "      <td>'It is a very good height indeed!'</td>\n",
       "      <td>[3, 2, 1, 4, 4, 6, 6]</td>\n",
       "      <td>26</td>\n",
       "      <td>[1, 1, 1, 2, 1, 1, 1]</td>\n",
       "      <td>8</td>\n",
       "      <td>1.000</td>\n",
       "    </tr>\n",
       "    <tr>\n",
       "      <th>784</th>\n",
       "      <td>'It was the BEST butter,' the March Hare meekl...</td>\n",
       "      <td>[3, 3, 3, 4, 6, 3, 5, 4, 6, 7]</td>\n",
       "      <td>44</td>\n",
       "      <td>[1, 1, 1, 1, 2, 1, 1, 1, 2, 2]</td>\n",
       "      <td>13</td>\n",
       "      <td>1.000</td>\n",
       "    </tr>\n",
       "    <tr>\n",
       "      <th>1363</th>\n",
       "      <td>Soup of the evening, beautiful Soup!</td>\n",
       "      <td>[4, 2, 3, 7, 9, 4]</td>\n",
       "      <td>29</td>\n",
       "      <td>[1, 1, 1, 3, 4, 1]</td>\n",
       "      <td>11</td>\n",
       "      <td>1.000</td>\n",
       "    </tr>\n",
       "    <tr>\n",
       "      <th>1364</th>\n",
       "      <td>Soup of the evening, beautiful Soup!</td>\n",
       "      <td>[4, 2, 3, 7, 9, 4]</td>\n",
       "      <td>29</td>\n",
       "      <td>[1, 1, 1, 3, 4, 1]</td>\n",
       "      <td>11</td>\n",
       "      <td>1.000</td>\n",
       "    </tr>\n",
       "    <tr>\n",
       "      <th>1367</th>\n",
       "      <td>Soo--oop of the e--e--evening,      Beautiful,...</td>\n",
       "      <td>[3, 3, 2, 3, 1, 1, 7, 9, 9, 4]</td>\n",
       "      <td>42</td>\n",
       "      <td>[1, 1, 1, 1, 1, 1, 3, 4, 4, 1]</td>\n",
       "      <td>18</td>\n",
       "      <td>0.925</td>\n",
       "    </tr>\n",
       "    <tr>\n",
       "      <th>1368</th>\n",
       "      <td>'Beautiful Soup!</td>\n",
       "      <td>[10, 4]</td>\n",
       "      <td>14</td>\n",
       "      <td>[4, 1]</td>\n",
       "      <td>5</td>\n",
       "      <td>1.000</td>\n",
       "    </tr>\n",
       "    <tr>\n",
       "      <th>1374</th>\n",
       "      <td>Soo--oop of the e--e--evening,      Beautiful,...</td>\n",
       "      <td>[3, 3, 2, 3, 1, 1, 7, 9, 6, 3, 4]</td>\n",
       "      <td>42</td>\n",
       "      <td>[1, 1, 1, 1, 1, 1, 3, 4, 3, 1, 1]</td>\n",
       "      <td>18</td>\n",
       "      <td>1.000</td>\n",
       "    </tr>\n",
       "    <tr>\n",
       "      <th>1415</th>\n",
       "      <td>'There's a great deal to come before that!'</td>\n",
       "      <td>[6, 2, 1, 5, 4, 2, 4, 6, 4]</td>\n",
       "      <td>34</td>\n",
       "      <td>[1, 0, 1, 2, 2, 1, 1, 2, 1]</td>\n",
       "      <td>11</td>\n",
       "      <td>1.000</td>\n",
       "    </tr>\n",
       "    <tr>\n",
       "      <th>1620</th>\n",
       "      <td>So Alice got up and ran off, thinking while sh...</td>\n",
       "      <td>[2, 5, 3, 2, 3, 3, 3, 8, 5, 3, 3, 2, 4, 3, 5, ...</td>\n",
       "      <td>82</td>\n",
       "      <td>[1, 2, 1, 1, 1, 1, 1, 2, 1, 0, 1, 1, 1, 0, 1, ...</td>\n",
       "      <td>25</td>\n",
       "      <td>1.000</td>\n",
       "    </tr>\n",
       "  </tbody>\n",
       "</table>\n",
       "</div>"
      ],
      "text/plain": [
       "                                                      0  \\\n",
       "13              How brave they'll all think me at home!   \n",
       "118                       Ah, THAT'S the great puzzle!'   \n",
       "239   'Why,' said the Dodo, 'the best way to explain...   \n",
       "442                I think that will be the best plan.'   \n",
       "520                  'It is a very good height indeed!'   \n",
       "784   'It was the BEST butter,' the March Hare meekl...   \n",
       "1363               Soup of the evening, beautiful Soup!   \n",
       "1364               Soup of the evening, beautiful Soup!   \n",
       "1367  Soo--oop of the e--e--evening,      Beautiful,...   \n",
       "1368                                   'Beautiful Soup!   \n",
       "1374  Soo--oop of the e--e--evening,      Beautiful,...   \n",
       "1415        'There's a great deal to come before that!'   \n",
       "1620  So Alice got up and ran off, thinking while sh...   \n",
       "\n",
       "                                             wrd_length  total_char  \\\n",
       "13                          [3, 5, 4, 3, 3, 5, 2, 2, 4]          31   \n",
       "118                                  [2, 4, 2, 3, 5, 6]          22   \n",
       "239          [4, 4, 3, 4, 4, 4, 3, 2, 7, 2, 2, 2, 2, 2]          45   \n",
       "442                            [1, 5, 4, 4, 2, 3, 4, 4]          27   \n",
       "520                               [3, 2, 1, 4, 4, 6, 6]          26   \n",
       "784                      [3, 3, 3, 4, 6, 3, 5, 4, 6, 7]          44   \n",
       "1363                                 [4, 2, 3, 7, 9, 4]          29   \n",
       "1364                                 [4, 2, 3, 7, 9, 4]          29   \n",
       "1367                     [3, 3, 2, 3, 1, 1, 7, 9, 9, 4]          42   \n",
       "1368                                            [10, 4]          14   \n",
       "1374                  [3, 3, 2, 3, 1, 1, 7, 9, 6, 3, 4]          42   \n",
       "1415                        [6, 2, 1, 5, 4, 2, 4, 6, 4]          34   \n",
       "1620  [2, 5, 3, 2, 3, 3, 3, 8, 5, 3, 3, 2, 4, 3, 5, ...          82   \n",
       "\n",
       "                                              syl_count  syl_sum  sentiment  \n",
       "13                          [1, 1, 1, 0, 1, 1, 1, 1, 1]        8      1.000  \n",
       "118                                  [1, 1, 0, 1, 2, 1]        6      1.000  \n",
       "239          [1, 1, 1, 2, 0, 1, 1, 1, 2, 1, 1, 1, 1, 1]       15      1.000  \n",
       "442                            [1, 1, 1, 1, 1, 1, 1, 1]        8      1.000  \n",
       "520                               [1, 1, 1, 2, 1, 1, 1]        8      1.000  \n",
       "784                      [1, 1, 1, 1, 2, 1, 1, 1, 2, 2]       13      1.000  \n",
       "1363                                 [1, 1, 1, 3, 4, 1]       11      1.000  \n",
       "1364                                 [1, 1, 1, 3, 4, 1]       11      1.000  \n",
       "1367                     [1, 1, 1, 1, 1, 1, 3, 4, 4, 1]       18      0.925  \n",
       "1368                                             [4, 1]        5      1.000  \n",
       "1374                  [1, 1, 1, 1, 1, 1, 3, 4, 3, 1, 1]       18      1.000  \n",
       "1415                        [1, 0, 1, 2, 2, 1, 1, 2, 1]       11      1.000  \n",
       "1620  [1, 2, 1, 1, 1, 1, 1, 2, 1, 0, 1, 1, 1, 0, 1, ...       25      1.000  "
      ]
     },
     "execution_count": 55,
     "metadata": {},
     "output_type": "execute_result"
    }
   ],
   "source": [
    "high"
   ]
  },
  {
   "cell_type": "code",
   "execution_count": 57,
   "metadata": {
    "collapsed": false
   },
   "outputs": [
    {
     "name": "stdout",
     "output_type": "stream",
     "text": [
      "How brave they'll all think me at home!\n",
      "****\n",
      "Ah, THAT'S the great puzzle!'\n",
      "****\n",
      "'Why,' said the Dodo, 'the best way to explain it is to do it.'\n",
      "****\n",
      "I think that will be the best plan.'\n",
      "****\n",
      "'It is a very good height indeed!'\n",
      "****\n",
      "'It was the BEST butter,' the March Hare meekly replied.\n",
      "****\n",
      "Soup of the evening, beautiful Soup!\n",
      "****\n",
      "Soup of the evening, beautiful Soup!\n",
      "****\n",
      "Soo--oop of the e--e--evening,      Beautiful, beautiful Soup!\n",
      "****\n",
      "'Beautiful Soup!\n",
      "****\n",
      "Soo--oop of the e--e--evening,      Beautiful, beauti--FUL SOUP!'\n",
      "****\n",
      "'There's a great deal to come before that!'\n",
      "****\n",
      "So Alice got up and ran off, thinking while she ran, as well she might, what a wonderful dream it had been.\n",
      "****\n"
     ]
    }
   ],
   "source": [
    "for i in high[0]:\n",
    "    print i\n",
    "    print '****'"
   ]
  },
  {
   "cell_type": "code",
   "execution_count": 58,
   "metadata": {
    "collapsed": true
   },
   "outputs": [],
   "source": [
    "low = df_novel[df_novel['sentiment'] < -.9]"
   ]
  },
  {
   "cell_type": "code",
   "execution_count": 59,
   "metadata": {
    "collapsed": false
   },
   "outputs": [
    {
     "data": {
      "text/html": [
       "<div>\n",
       "<table border=\"1\" class=\"dataframe\">\n",
       "  <thead>\n",
       "    <tr style=\"text-align: right;\">\n",
       "      <th></th>\n",
       "      <th>0</th>\n",
       "      <th>wrd_length</th>\n",
       "      <th>total_char</th>\n",
       "      <th>syl_count</th>\n",
       "      <th>syl_sum</th>\n",
       "      <th>sentiment</th>\n",
       "    </tr>\n",
       "  </thead>\n",
       "  <tbody>\n",
       "    <tr>\n",
       "      <th>622</th>\n",
       "      <td>'It's really dreadful,' she muttered to hersel...</td>\n",
       "      <td>[3, 2, 6, 8, 3, 8, 2, 7, 4, 3, 3, 3, 9, 5]</td>\n",
       "      <td>66</td>\n",
       "      <td>[1, 0, 3, 3, 0, 2, 1, 2, 0, 1, 1, 1, 3, 1]</td>\n",
       "      <td>19</td>\n",
       "      <td>-1.0</td>\n",
       "    </tr>\n",
       "    <tr>\n",
       "      <th>796</th>\n",
       "      <td>Alice felt dreadfully puzzled.</td>\n",
       "      <td>[5, 4, 10, 7]</td>\n",
       "      <td>26</td>\n",
       "      <td>[2, 1, 4, 1]</td>\n",
       "      <td>8</td>\n",
       "      <td>-1.0</td>\n",
       "    </tr>\n",
       "    <tr>\n",
       "      <th>837</th>\n",
       "      <td>'How dreadfully savage!'</td>\n",
       "      <td>[4, 10, 6]</td>\n",
       "      <td>20</td>\n",
       "      <td>[1, 4, 2]</td>\n",
       "      <td>7</td>\n",
       "      <td>-1.0</td>\n",
       "    </tr>\n",
       "    <tr>\n",
       "      <th>952</th>\n",
       "      <td>'Idiot!'</td>\n",
       "      <td>[6]</td>\n",
       "      <td>6</td>\n",
       "      <td>[2]</td>\n",
       "      <td>2</td>\n",
       "      <td>-1.0</td>\n",
       "    </tr>\n",
       "    <tr>\n",
       "      <th>1399</th>\n",
       "      <td>'Stupid things!'</td>\n",
       "      <td>[7, 6]</td>\n",
       "      <td>13</td>\n",
       "      <td>[2, 1]</td>\n",
       "      <td>3</td>\n",
       "      <td>-1.0</td>\n",
       "    </tr>\n",
       "  </tbody>\n",
       "</table>\n",
       "</div>"
      ],
      "text/plain": [
       "                                                      0  \\\n",
       "622   'It's really dreadful,' she muttered to hersel...   \n",
       "796                      Alice felt dreadfully puzzled.   \n",
       "837                            'How dreadfully savage!'   \n",
       "952                                            'Idiot!'   \n",
       "1399                                   'Stupid things!'   \n",
       "\n",
       "                                      wrd_length  total_char  \\\n",
       "622   [3, 2, 6, 8, 3, 8, 2, 7, 4, 3, 3, 3, 9, 5]          66   \n",
       "796                                [5, 4, 10, 7]          26   \n",
       "837                                   [4, 10, 6]          20   \n",
       "952                                          [6]           6   \n",
       "1399                                      [7, 6]          13   \n",
       "\n",
       "                                       syl_count  syl_sum  sentiment  \n",
       "622   [1, 0, 3, 3, 0, 2, 1, 2, 0, 1, 1, 1, 3, 1]       19       -1.0  \n",
       "796                                 [2, 1, 4, 1]        8       -1.0  \n",
       "837                                    [1, 4, 2]        7       -1.0  \n",
       "952                                          [2]        2       -1.0  \n",
       "1399                                      [2, 1]        3       -1.0  "
      ]
     },
     "execution_count": 59,
     "metadata": {},
     "output_type": "execute_result"
    }
   ],
   "source": [
    "low"
   ]
  },
  {
   "cell_type": "code",
   "execution_count": 62,
   "metadata": {
    "collapsed": false
   },
   "outputs": [
    {
     "name": "stdout",
     "output_type": "stream",
     "text": [
      "'It's really dreadful,' she muttered to herself, 'the way all the creatures argue.\n",
      "***\n",
      "Alice felt dreadfully puzzled.\n",
      "***\n",
      "'How dreadfully savage!'\n",
      "***\n",
      "'Idiot!'\n",
      "***\n",
      "'Stupid things!'\n",
      "***\n"
     ]
    }
   ],
   "source": [
    "for i in low[0]:\n",
    "    print i\n",
    "    print '***'"
   ]
  },
  {
   "cell_type": "code",
   "execution_count": 81,
   "metadata": {
    "collapsed": false
   },
   "outputs": [
    {
     "data": {
      "text/html": [
       "<div>\n",
       "<table border=\"1\" class=\"dataframe\">\n",
       "  <thead>\n",
       "    <tr style=\"text-align: right;\">\n",
       "      <th></th>\n",
       "      <th>0</th>\n",
       "      <th>wrd_length</th>\n",
       "      <th>total_char</th>\n",
       "      <th>syl_count</th>\n",
       "      <th>syl_sum</th>\n",
       "      <th>sentiment</th>\n",
       "    </tr>\n",
       "  </thead>\n",
       "  <tbody>\n",
       "    <tr>\n",
       "      <th>0</th>\n",
       "      <td>Down the Rabbit-Hole  Alice was beginning to g...</td>\n",
       "      <td>[4, 3, 11, 5, 3, 9, 2, 3, 4, 5, 2, 7, 2, 3, 6,...</td>\n",
       "      <td>256</td>\n",
       "      <td>[1, 1, 3, 2, 1, 3, 1, 1, 2, 1, 1, 2, 1, 1, 2, ...</td>\n",
       "      <td>83</td>\n",
       "      <td>-0.337778</td>\n",
       "    </tr>\n",
       "    <tr>\n",
       "      <th>1</th>\n",
       "      <td>So she was considering in her own mind (as wel...</td>\n",
       "      <td>[2, 3, 3, 11, 2, 3, 3, 4, 2, 4, 2, 3, 5, 3, 3,...</td>\n",
       "      <td>229</td>\n",
       "      <td>[1, 0, 1, 4, 1, 1, 1, 1, 1, 1, 1, 0, 1, 1, 1, ...</td>\n",
       "      <td>70</td>\n",
       "      <td>0.031250</td>\n",
       "    </tr>\n",
       "    <tr>\n",
       "      <th>2</th>\n",
       "      <td>There was nothing so VERY remarkable in that; ...</td>\n",
       "      <td>[5, 3, 7, 2, 4, 10, 2, 4, 3, 3, 5, 5, 2, 2, 4,...</td>\n",
       "      <td>109</td>\n",
       "      <td>[1, 1, 2, 1, 2, 3, 1, 1, 1, 1, 2, 1, 1, 1, 2, ...</td>\n",
       "      <td>39</td>\n",
       "      <td>0.650000</td>\n",
       "    </tr>\n",
       "    <tr>\n",
       "      <th>3</th>\n",
       "      <td>Oh dear!</td>\n",
       "      <td>[2, 4]</td>\n",
       "      <td>6</td>\n",
       "      <td>[1, 2]</td>\n",
       "      <td>3</td>\n",
       "      <td>0.000000</td>\n",
       "    </tr>\n",
       "    <tr>\n",
       "      <th>4</th>\n",
       "      <td>I shall be late!'</td>\n",
       "      <td>[1, 5, 2, 4]</td>\n",
       "      <td>12</td>\n",
       "      <td>[1, 1, 1, 1]</td>\n",
       "      <td>4</td>\n",
       "      <td>-0.375000</td>\n",
       "    </tr>\n",
       "  </tbody>\n",
       "</table>\n",
       "</div>"
      ],
      "text/plain": [
       "                                                   0  \\\n",
       "0  Down the Rabbit-Hole  Alice was beginning to g...   \n",
       "1  So she was considering in her own mind (as wel...   \n",
       "2  There was nothing so VERY remarkable in that; ...   \n",
       "3                                           Oh dear!   \n",
       "4                                  I shall be late!'   \n",
       "\n",
       "                                          wrd_length  total_char  \\\n",
       "0  [4, 3, 11, 5, 3, 9, 2, 3, 4, 5, 2, 7, 2, 3, 6,...         256   \n",
       "1  [2, 3, 3, 11, 2, 3, 3, 4, 2, 4, 2, 3, 5, 3, 3,...         229   \n",
       "2  [5, 3, 7, 2, 4, 10, 2, 4, 3, 3, 5, 5, 2, 2, 4,...         109   \n",
       "3                                             [2, 4]           6   \n",
       "4                                       [1, 5, 2, 4]          12   \n",
       "\n",
       "                                           syl_count  syl_sum  sentiment  \n",
       "0  [1, 1, 3, 2, 1, 3, 1, 1, 2, 1, 1, 2, 1, 1, 2, ...       83  -0.337778  \n",
       "1  [1, 0, 1, 4, 1, 1, 1, 1, 1, 1, 1, 0, 1, 1, 1, ...       70   0.031250  \n",
       "2  [1, 1, 2, 1, 2, 3, 1, 1, 1, 1, 2, 1, 1, 1, 2, ...       39   0.650000  \n",
       "3                                             [1, 2]        3   0.000000  \n",
       "4                                       [1, 1, 1, 1]        4  -0.375000  "
      ]
     },
     "execution_count": 81,
     "metadata": {},
     "output_type": "execute_result"
    }
   ],
   "source": [
    "df_novel.head()"
   ]
  },
  {
   "cell_type": "code",
   "execution_count": null,
   "metadata": {
    "collapsed": true
   },
   "outputs": [],
   "source": [
    "df_novel['cluster_3'] = "
   ]
  },
  {
   "cell_type": "code",
   "execution_count": 85,
   "metadata": {
    "collapsed": false
   },
   "outputs": [
    {
     "data": {
      "text/html": [
       "<div>\n",
       "<table border=\"1\" class=\"dataframe\">\n",
       "  <thead>\n",
       "    <tr style=\"text-align: right;\">\n",
       "      <th></th>\n",
       "      <th>0</th>\n",
       "      <th>total_char</th>\n",
       "      <th>syl_sum</th>\n",
       "      <th>sentiment</th>\n",
       "      <th>cluster</th>\n",
       "    </tr>\n",
       "  </thead>\n",
       "  <tbody>\n",
       "    <tr>\n",
       "      <th>0</th>\n",
       "      <td>Down the Rabbit-Hole  Alice was beginning to g...</td>\n",
       "      <td>256</td>\n",
       "      <td>83</td>\n",
       "      <td>-0.337778</td>\n",
       "      <td>1</td>\n",
       "    </tr>\n",
       "    <tr>\n",
       "      <th>1</th>\n",
       "      <td>So she was considering in her own mind (as wel...</td>\n",
       "      <td>229</td>\n",
       "      <td>70</td>\n",
       "      <td>0.031250</td>\n",
       "      <td>1</td>\n",
       "    </tr>\n",
       "    <tr>\n",
       "      <th>2</th>\n",
       "      <td>There was nothing so VERY remarkable in that; ...</td>\n",
       "      <td>109</td>\n",
       "      <td>39</td>\n",
       "      <td>0.650000</td>\n",
       "      <td>4</td>\n",
       "    </tr>\n",
       "    <tr>\n",
       "      <th>3</th>\n",
       "      <td>Oh dear!</td>\n",
       "      <td>6</td>\n",
       "      <td>3</td>\n",
       "      <td>0.000000</td>\n",
       "      <td>2</td>\n",
       "    </tr>\n",
       "    <tr>\n",
       "      <th>4</th>\n",
       "      <td>I shall be late!'</td>\n",
       "      <td>12</td>\n",
       "      <td>4</td>\n",
       "      <td>-0.375000</td>\n",
       "      <td>0</td>\n",
       "    </tr>\n",
       "  </tbody>\n",
       "</table>\n",
       "</div>"
      ],
      "text/plain": [
       "                                                   0  total_char  syl_sum  \\\n",
       "0  Down the Rabbit-Hole  Alice was beginning to g...         256       83   \n",
       "1  So she was considering in her own mind (as wel...         229       70   \n",
       "2  There was nothing so VERY remarkable in that; ...         109       39   \n",
       "3                                           Oh dear!           6        3   \n",
       "4                                  I shall be late!'          12        4   \n",
       "\n",
       "   sentiment  cluster  \n",
       "0  -0.337778        1  \n",
       "1   0.031250        1  \n",
       "2   0.650000        4  \n",
       "3   0.000000        2  \n",
       "4  -0.375000        0  "
      ]
     },
     "execution_count": 85,
     "metadata": {},
     "output_type": "execute_result"
    }
   ],
   "source": [
    "df_cluster_3.head()"
   ]
  },
  {
   "cell_type": "code",
   "execution_count": 86,
   "metadata": {
    "collapsed": false
   },
   "outputs": [
    {
     "data": {
      "text/html": [
       "<div>\n",
       "<table border=\"1\" class=\"dataframe\">\n",
       "  <thead>\n",
       "    <tr style=\"text-align: right;\">\n",
       "      <th></th>\n",
       "      <th>0</th>\n",
       "      <th>total_char</th>\n",
       "      <th>syl_sum</th>\n",
       "      <th>sentiment</th>\n",
       "      <th>cluster</th>\n",
       "    </tr>\n",
       "  </thead>\n",
       "  <tbody>\n",
       "    <tr>\n",
       "      <th>0</th>\n",
       "      <td>Down the Rabbit-Hole  Alice was beginning to g...</td>\n",
       "      <td>256</td>\n",
       "      <td>83</td>\n",
       "      <td>-0.337778</td>\n",
       "      <td>1</td>\n",
       "    </tr>\n",
       "    <tr>\n",
       "      <th>1</th>\n",
       "      <td>So she was considering in her own mind (as wel...</td>\n",
       "      <td>229</td>\n",
       "      <td>70</td>\n",
       "      <td>0.031250</td>\n",
       "      <td>1</td>\n",
       "    </tr>\n",
       "    <tr>\n",
       "      <th>2</th>\n",
       "      <td>There was nothing so VERY remarkable in that; ...</td>\n",
       "      <td>109</td>\n",
       "      <td>39</td>\n",
       "      <td>0.650000</td>\n",
       "      <td>4</td>\n",
       "    </tr>\n",
       "    <tr>\n",
       "      <th>3</th>\n",
       "      <td>Oh dear!</td>\n",
       "      <td>6</td>\n",
       "      <td>3</td>\n",
       "      <td>0.000000</td>\n",
       "      <td>2</td>\n",
       "    </tr>\n",
       "    <tr>\n",
       "      <th>4</th>\n",
       "      <td>I shall be late!'</td>\n",
       "      <td>12</td>\n",
       "      <td>4</td>\n",
       "      <td>-0.375000</td>\n",
       "      <td>0</td>\n",
       "    </tr>\n",
       "  </tbody>\n",
       "</table>\n",
       "</div>"
      ],
      "text/plain": [
       "                                                   0  total_char  syl_sum  \\\n",
       "0  Down the Rabbit-Hole  Alice was beginning to g...         256       83   \n",
       "1  So she was considering in her own mind (as wel...         229       70   \n",
       "2  There was nothing so VERY remarkable in that; ...         109       39   \n",
       "3                                           Oh dear!           6        3   \n",
       "4                                  I shall be late!'          12        4   \n",
       "\n",
       "   sentiment  cluster  \n",
       "0  -0.337778        1  \n",
       "1   0.031250        1  \n",
       "2   0.650000        4  \n",
       "3   0.000000        2  \n",
       "4  -0.375000        0  "
      ]
     },
     "execution_count": 86,
     "metadata": {},
     "output_type": "execute_result"
    }
   ],
   "source": [
    "df_cluster.head()"
   ]
  },
  {
   "cell_type": "code",
   "execution_count": null,
   "metadata": {
    "collapsed": true
   },
   "outputs": [],
   "source": [
    "#add cluster colomn to original dataframe and then update csv"
   ]
  },
  {
   "cell_type": "markdown",
   "metadata": {},
   "source": [
    "Create sentiment pattern based on ideal cluster numbers"
   ]
  }
 ],
 "metadata": {
  "kernelspec": {
   "display_name": "Python 2",
   "language": "python",
   "name": "python2"
  },
  "language_info": {
   "codemirror_mode": {
    "name": "ipython",
    "version": 2
   },
   "file_extension": ".py",
   "mimetype": "text/x-python",
   "name": "python",
   "nbconvert_exporter": "python",
   "pygments_lexer": "ipython2",
   "version": "2.7.11"
  }
 },
 "nbformat": 4,
 "nbformat_minor": 0
}
