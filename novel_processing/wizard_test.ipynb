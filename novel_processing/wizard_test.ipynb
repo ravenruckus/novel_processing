{
 "cells": [
  {
   "cell_type": "code",
   "execution_count": 1,
   "metadata": {
    "collapsed": true
   },
   "outputs": [],
   "source": [
    "import pandas as pd\n",
    "from textblob import TextBlob\n",
    "import csv\n",
    "from gutenberg.acquire import load_etext\n",
    "from gutenberg.cleanup import strip_headers\n",
    "import os\n",
    "import numpy as np"
   ]
  },
  {
   "cell_type": "code",
   "execution_count": 2,
   "metadata": {
    "collapsed": true
   },
   "outputs": [],
   "source": [
    "import seaborn as sns\n",
    "import matplotlib.pyplot as plt\n",
    "%matplotlib inline\n",
    "plt.rcParams['figure.figsize'] = (8, 6)\n",
    "plt.rcParams['font.size'] = 14"
   ]
  },
  {
   "cell_type": "code",
   "execution_count": 3,
   "metadata": {
    "collapsed": true
   },
   "outputs": [],
   "source": [
    "n = 55\n",
    "t = 'wizard_test'\n",
    "s = 32"
   ]
  },
  {
   "cell_type": "code",
   "execution_count": 4,
   "metadata": {
    "collapsed": true
   },
   "outputs": [],
   "source": [
    "novel = strip_headers(load_etext(n))\n",
    "novel = novel.replace('\\n', ' ')\n",
    "novel= TextBlob(novel)\n",
    "novel_sentences = novel.sentences\n",
    "novel_title = t"
   ]
  },
  {
   "cell_type": "code",
   "execution_count": 6,
   "metadata": {
    "collapsed": true
   },
   "outputs": [],
   "source": [
    "for l in range(2):\n",
    "    novelWriter = csv.writer(open('novel_'+novel_title+'3.csv', 'w'), delimiter=',')\n",
    "    for sentence in novel_sentences:\n",
    "        novelWriter.writerow([sentence])"
   ]
  },
  {
   "cell_type": "code",
   "execution_count": 7,
   "metadata": {
    "collapsed": false
   },
   "outputs": [],
   "source": [
    "df_novel = pd.read_csv('novel_'+novel_title+'3.csv', skiprows = s, header=None)"
   ]
  },
  {
   "cell_type": "code",
   "execution_count": 8,
   "metadata": {
    "collapsed": false
   },
   "outputs": [
    {
     "data": {
      "text/html": [
       "<div>\n",
       "<table border=\"1\" class=\"dataframe\">\n",
       "  <thead>\n",
       "    <tr style=\"text-align: right;\">\n",
       "      <th></th>\n",
       "      <th>0</th>\n",
       "    </tr>\n",
       "  </thead>\n",
       "  <tbody>\n",
       "    <tr>\n",
       "      <th>0</th>\n",
       "      <td>The Cyclone   Dorothy lived in the midst of th...</td>\n",
       "    </tr>\n",
       "    <tr>\n",
       "      <th>1</th>\n",
       "      <td>Their house was small, for the lumber to build...</td>\n",
       "    </tr>\n",
       "    <tr>\n",
       "      <th>2</th>\n",
       "      <td>There were four walls, a floor and a roof, whi...</td>\n",
       "    </tr>\n",
       "    <tr>\n",
       "      <th>3</th>\n",
       "      <td>Uncle Henry and Aunt Em had a big bed in one c...</td>\n",
       "    </tr>\n",
       "    <tr>\n",
       "      <th>4</th>\n",
       "      <td>There was no garret at all, and no cellar--exc...</td>\n",
       "    </tr>\n",
       "  </tbody>\n",
       "</table>\n",
       "</div>"
      ],
      "text/plain": [
       "                                                   0\n",
       "0  The Cyclone   Dorothy lived in the midst of th...\n",
       "1  Their house was small, for the lumber to build...\n",
       "2  There were four walls, a floor and a roof, whi...\n",
       "3  Uncle Henry and Aunt Em had a big bed in one c...\n",
       "4  There was no garret at all, and no cellar--exc..."
      ]
     },
     "execution_count": 8,
     "metadata": {},
     "output_type": "execute_result"
    }
   ],
   "source": [
    "df_novel.head()"
   ]
  },
  {
   "cell_type": "code",
   "execution_count": 9,
   "metadata": {
    "collapsed": true
   },
   "outputs": [],
   "source": [
    "wrd_length = []\n",
    "total_char = []\n",
    "def wrd_char_counts(sentence):\n",
    "    total_chars = 0\n",
    "    wrd_counts = []\n",
    "    for word in sentence:\n",
    "        char_count = len(word)\n",
    "        wrd_counts.append(char_count)\n",
    "        total_chars += char_count\n",
    "    total_char.append(total_chars)\n",
    "    wrd_length.append(wrd_counts)"
   ]
  },
  {
   "cell_type": "code",
   "execution_count": 10,
   "metadata": {
    "collapsed": true
   },
   "outputs": [],
   "source": [
    "for l in df_novel[0]:\n",
    "    sent = TextBlob(l)\n",
    "    wrd_char_counts(sent.words)"
   ]
  },
  {
   "cell_type": "code",
   "execution_count": 11,
   "metadata": {
    "collapsed": true
   },
   "outputs": [],
   "source": [
    "df_novel['wrd_length'] = wrd_length\n",
    "df_novel['total_char'] = total_char"
   ]
  },
  {
   "cell_type": "code",
   "execution_count": 12,
   "metadata": {
    "collapsed": false
   },
   "outputs": [
    {
     "data": {
      "text/html": [
       "<div>\n",
       "<table border=\"1\" class=\"dataframe\">\n",
       "  <thead>\n",
       "    <tr style=\"text-align: right;\">\n",
       "      <th></th>\n",
       "      <th>0</th>\n",
       "      <th>wrd_length</th>\n",
       "      <th>total_char</th>\n",
       "    </tr>\n",
       "  </thead>\n",
       "  <tbody>\n",
       "    <tr>\n",
       "      <th>0</th>\n",
       "      <td>The Cyclone   Dorothy lived in the midst of th...</td>\n",
       "      <td>[3, 7, 7, 5, 2, 3, 5, 2, 3, 5, 6, 8, 4, 5, 5, ...</td>\n",
       "      <td>113</td>\n",
       "    </tr>\n",
       "    <tr>\n",
       "      <th>1</th>\n",
       "      <td>Their house was small, for the lumber to build...</td>\n",
       "      <td>[5, 5, 3, 5, 3, 3, 6, 2, 5, 2, 3, 2, 2, 7, 2, ...</td>\n",
       "      <td>69</td>\n",
       "    </tr>\n",
       "    <tr>\n",
       "      <th>2</th>\n",
       "      <td>There were four walls, a floor and a roof, whi...</td>\n",
       "      <td>[5, 4, 4, 5, 1, 5, 3, 1, 4, 5, 4, 3, 4, 3, 4, ...</td>\n",
       "      <td>144</td>\n",
       "    </tr>\n",
       "    <tr>\n",
       "      <th>3</th>\n",
       "      <td>Uncle Henry and Aunt Em had a big bed in one c...</td>\n",
       "      <td>[5, 5, 3, 4, 2, 3, 1, 3, 3, 2, 3, 6, 3, 7, 1, ...</td>\n",
       "      <td>75</td>\n",
       "    </tr>\n",
       "    <tr>\n",
       "      <th>4</th>\n",
       "      <td>There was no garret at all, and no cellar--exc...</td>\n",
       "      <td>[5, 3, 2, 6, 2, 3, 3, 2, 6, 6, 1, 5, 4, 3, 2, ...</td>\n",
       "      <td>178</td>\n",
       "    </tr>\n",
       "  </tbody>\n",
       "</table>\n",
       "</div>"
      ],
      "text/plain": [
       "                                                   0  \\\n",
       "0  The Cyclone   Dorothy lived in the midst of th...   \n",
       "1  Their house was small, for the lumber to build...   \n",
       "2  There were four walls, a floor and a roof, whi...   \n",
       "3  Uncle Henry and Aunt Em had a big bed in one c...   \n",
       "4  There was no garret at all, and no cellar--exc...   \n",
       "\n",
       "                                          wrd_length  total_char  \n",
       "0  [3, 7, 7, 5, 2, 3, 5, 2, 3, 5, 6, 8, 4, 5, 5, ...         113  \n",
       "1  [5, 5, 3, 5, 3, 3, 6, 2, 5, 2, 3, 2, 2, 7, 2, ...          69  \n",
       "2  [5, 4, 4, 5, 1, 5, 3, 1, 4, 5, 4, 3, 4, 3, 4, ...         144  \n",
       "3  [5, 5, 3, 4, 2, 3, 1, 3, 3, 2, 3, 6, 3, 7, 1, ...          75  \n",
       "4  [5, 3, 2, 6, 2, 3, 3, 2, 6, 6, 1, 5, 4, 3, 2, ...         178  "
      ]
     },
     "execution_count": 12,
     "metadata": {},
     "output_type": "execute_result"
    }
   ],
   "source": [
    "df_novel.head()"
   ]
  },
  {
   "cell_type": "code",
   "execution_count": 13,
   "metadata": {
    "collapsed": true
   },
   "outputs": [],
   "source": [
    "def CountSyllables(word, isName=True):\n",
    "    vowels = \"aeiouy\"\n",
    "    #single syllables in words like bread and lead, but split in names like Breanne and Adreann\n",
    "    specials = [\"ia\",\"ea\"] if isName else [\"ia\"]\n",
    "    specials_except_end = [\"ie\",\"ya\",\"es\",\"ed\"]  #seperate syllables unless ending the word\n",
    "    currentWord = word.lower()\n",
    "    numVowels = 0\n",
    "    lastWasVowel = False\n",
    "    last_letter = \"\"\n",
    "\n",
    "    for letter in currentWord:\n",
    "        if letter in vowels:\n",
    "            #don't count diphthongs unless special cases\n",
    "            combo = last_letter+letter\n",
    "            if lastWasVowel and combo not in specials and combo not in specials_except_end:\n",
    "                lastWasVowel = True\n",
    "            else:\n",
    "                numVowels += 1\n",
    "                lastWasVowel = True\n",
    "        else:\n",
    "            lastWasVowel = False\n",
    "\n",
    "        last_letter = letter\n",
    "\n",
    "    #remove es & ed which are usually silent\n",
    "    if len(currentWord) > 2 and currentWord[-2:] in specials_except_end:\n",
    "        numVowels -= 1\n",
    "\n",
    "    #remove silent single e, but not ee since it counted it before and we should be correct\n",
    "    elif len(currentWord) > 2 and currentWord[-1:] == \"e\" and currentWord[-2:] != \"ee\" and currentWord != 'the':\n",
    "        numVowels -= 1\n",
    "\n",
    "    return numVowels"
   ]
  },
  {
   "cell_type": "code",
   "execution_count": 14,
   "metadata": {
    "collapsed": true
   },
   "outputs": [],
   "source": [
    "syl = []\n",
    "for l in df_novel[0]:\n",
    "    sent = TextBlob(l)\n",
    "    syl_single = []\n",
    "    for x in sent.words:\n",
    "        m = CountSyllables(x)\n",
    "        syl_single.append(m)\n",
    "    syl.append(syl_single)    "
   ]
  },
  {
   "cell_type": "code",
   "execution_count": 15,
   "metadata": {
    "collapsed": true
   },
   "outputs": [],
   "source": [
    "syl_count_arr = []\n",
    "for n in syl:\n",
    "    n = np.array(n)\n",
    "    syl_count_arr.append(n)"
   ]
  },
  {
   "cell_type": "code",
   "execution_count": 16,
   "metadata": {
    "collapsed": true
   },
   "outputs": [],
   "source": [
    "df_novel['syl_count'] = syl_count_arr"
   ]
  },
  {
   "cell_type": "code",
   "execution_count": 17,
   "metadata": {
    "collapsed": false
   },
   "outputs": [
    {
     "data": {
      "text/html": [
       "<div>\n",
       "<table border=\"1\" class=\"dataframe\">\n",
       "  <thead>\n",
       "    <tr style=\"text-align: right;\">\n",
       "      <th></th>\n",
       "      <th>0</th>\n",
       "      <th>wrd_length</th>\n",
       "      <th>total_char</th>\n",
       "      <th>syl_count</th>\n",
       "    </tr>\n",
       "  </thead>\n",
       "  <tbody>\n",
       "    <tr>\n",
       "      <th>0</th>\n",
       "      <td>The Cyclone   Dorothy lived in the midst of th...</td>\n",
       "      <td>[3, 7, 7, 5, 2, 3, 5, 2, 3, 5, 6, 8, 4, 5, 5, ...</td>\n",
       "      <td>113</td>\n",
       "      <td>[1, 2, 3, 1, 1, 1, 1, 1, 1, 2, 2, 2, 1, 1, 2, ...</td>\n",
       "    </tr>\n",
       "    <tr>\n",
       "      <th>1</th>\n",
       "      <td>Their house was small, for the lumber to build...</td>\n",
       "      <td>[5, 5, 3, 5, 3, 3, 6, 2, 5, 2, 3, 2, 2, 7, 2, ...</td>\n",
       "      <td>69</td>\n",
       "      <td>[1, 1, 1, 1, 1, 1, 2, 1, 1, 1, 1, 1, 1, 2, 1, ...</td>\n",
       "    </tr>\n",
       "    <tr>\n",
       "      <th>2</th>\n",
       "      <td>There were four walls, a floor and a roof, whi...</td>\n",
       "      <td>[5, 4, 4, 5, 1, 5, 3, 1, 4, 5, 4, 3, 4, 3, 4, ...</td>\n",
       "      <td>144</td>\n",
       "      <td>[1, 1, 1, 1, 1, 1, 1, 1, 1, 1, 1, 1, 1, 1, 1, ...</td>\n",
       "    </tr>\n",
       "    <tr>\n",
       "      <th>3</th>\n",
       "      <td>Uncle Henry and Aunt Em had a big bed in one c...</td>\n",
       "      <td>[5, 5, 3, 4, 2, 3, 1, 3, 3, 2, 3, 6, 3, 7, 1, ...</td>\n",
       "      <td>75</td>\n",
       "      <td>[1, 2, 1, 1, 1, 1, 1, 1, 0, 1, 1, 2, 1, 3, 1, ...</td>\n",
       "    </tr>\n",
       "    <tr>\n",
       "      <th>4</th>\n",
       "      <td>There was no garret at all, and no cellar--exc...</td>\n",
       "      <td>[5, 3, 2, 6, 2, 3, 3, 2, 6, 6, 1, 5, 4, 3, 2, ...</td>\n",
       "      <td>178</td>\n",
       "      <td>[1, 1, 1, 2, 1, 1, 1, 1, 2, 2, 1, 1, 1, 1, 1, ...</td>\n",
       "    </tr>\n",
       "  </tbody>\n",
       "</table>\n",
       "</div>"
      ],
      "text/plain": [
       "                                                   0  \\\n",
       "0  The Cyclone   Dorothy lived in the midst of th...   \n",
       "1  Their house was small, for the lumber to build...   \n",
       "2  There were four walls, a floor and a roof, whi...   \n",
       "3  Uncle Henry and Aunt Em had a big bed in one c...   \n",
       "4  There was no garret at all, and no cellar--exc...   \n",
       "\n",
       "                                          wrd_length  total_char  \\\n",
       "0  [3, 7, 7, 5, 2, 3, 5, 2, 3, 5, 6, 8, 4, 5, 5, ...         113   \n",
       "1  [5, 5, 3, 5, 3, 3, 6, 2, 5, 2, 3, 2, 2, 7, 2, ...          69   \n",
       "2  [5, 4, 4, 5, 1, 5, 3, 1, 4, 5, 4, 3, 4, 3, 4, ...         144   \n",
       "3  [5, 5, 3, 4, 2, 3, 1, 3, 3, 2, 3, 6, 3, 7, 1, ...          75   \n",
       "4  [5, 3, 2, 6, 2, 3, 3, 2, 6, 6, 1, 5, 4, 3, 2, ...         178   \n",
       "\n",
       "                                           syl_count  \n",
       "0  [1, 2, 3, 1, 1, 1, 1, 1, 1, 2, 2, 2, 1, 1, 2, ...  \n",
       "1  [1, 1, 1, 1, 1, 1, 2, 1, 1, 1, 1, 1, 1, 2, 1, ...  \n",
       "2  [1, 1, 1, 1, 1, 1, 1, 1, 1, 1, 1, 1, 1, 1, 1, ...  \n",
       "3  [1, 2, 1, 1, 1, 1, 1, 1, 0, 1, 1, 2, 1, 3, 1, ...  \n",
       "4  [1, 1, 1, 2, 1, 1, 1, 1, 2, 2, 1, 1, 1, 1, 1, ...  "
      ]
     },
     "execution_count": 17,
     "metadata": {},
     "output_type": "execute_result"
    }
   ],
   "source": [
    "df_novel.head()"
   ]
  },
  {
   "cell_type": "code",
   "execution_count": 18,
   "metadata": {
    "collapsed": true
   },
   "outputs": [],
   "source": [
    "syl_sum = []\n",
    "for l in range(0,len(df_novel)):\n",
    "    syl_sum.append(df_novel['syl_count'][l].sum())"
   ]
  },
  {
   "cell_type": "code",
   "execution_count": 19,
   "metadata": {
    "collapsed": true
   },
   "outputs": [],
   "source": [
    "df_novel['syl_sum'] = syl_sum"
   ]
  },
  {
   "cell_type": "code",
   "execution_count": 20,
   "metadata": {
    "collapsed": true
   },
   "outputs": [],
   "source": [
    "def detect_sentiment(text):\n",
    "    return TextBlob(text.decode('utf-8')).sentiment.polarity"
   ]
  },
  {
   "cell_type": "code",
   "execution_count": 21,
   "metadata": {
    "collapsed": true
   },
   "outputs": [],
   "source": [
    "df_novel['sentiment'] = df_novel[0].apply(detect_sentiment)"
   ]
  },
  {
   "cell_type": "code",
   "execution_count": 23,
   "metadata": {
    "collapsed": true
   },
   "outputs": [],
   "source": [
    "df_novel.to_csv('novel_'+novel_title+'3_2.csv', index=False)"
   ]
  },
  {
   "cell_type": "code",
   "execution_count": 24,
   "metadata": {
    "collapsed": true
   },
   "outputs": [],
   "source": [
    "#test\n",
    "df_test = pd.read_csv('novel_'+novel_title+'3_2.csv')"
   ]
  },
  {
   "cell_type": "code",
   "execution_count": 25,
   "metadata": {
    "collapsed": false
   },
   "outputs": [
    {
     "data": {
      "text/html": [
       "<div>\n",
       "<table border=\"1\" class=\"dataframe\">\n",
       "  <thead>\n",
       "    <tr style=\"text-align: right;\">\n",
       "      <th></th>\n",
       "      <th>0</th>\n",
       "      <th>wrd_length</th>\n",
       "      <th>total_char</th>\n",
       "      <th>syl_count</th>\n",
       "      <th>syl_sum</th>\n",
       "      <th>sentiment</th>\n",
       "    </tr>\n",
       "  </thead>\n",
       "  <tbody>\n",
       "    <tr>\n",
       "      <th>0</th>\n",
       "      <td>The Cyclone   Dorothy lived in the midst of th...</td>\n",
       "      <td>[3, 7, 7, 5, 2, 3, 5, 2, 3, 5, 6, 8, 4, 5, 5, ...</td>\n",
       "      <td>113</td>\n",
       "      <td>[1 2 3 1 1 1 1 1 1 2 2 2 1 1 2 1 1 1 2 1 1 1 1...</td>\n",
       "      <td>36</td>\n",
       "      <td>0.80000</td>\n",
       "    </tr>\n",
       "    <tr>\n",
       "      <th>1</th>\n",
       "      <td>Their house was small, for the lumber to build...</td>\n",
       "      <td>[5, 5, 3, 5, 3, 3, 6, 2, 5, 2, 3, 2, 2, 7, 2, ...</td>\n",
       "      <td>69</td>\n",
       "      <td>[1 1 1 1 1 1 2 1 1 1 1 1 1 2 1 2 2 1]</td>\n",
       "      <td>22</td>\n",
       "      <td>0.12500</td>\n",
       "    </tr>\n",
       "    <tr>\n",
       "      <th>2</th>\n",
       "      <td>There were four walls, a floor and a roof, whi...</td>\n",
       "      <td>[5, 4, 4, 5, 1, 5, 3, 1, 4, 5, 4, 3, 4, 3, 4, ...</td>\n",
       "      <td>144</td>\n",
       "      <td>[1 1 1 1 1 1 1 1 1 1 1 1 1 1 1 1 2 1 2 2 2 1 2...</td>\n",
       "      <td>40</td>\n",
       "      <td>0.00000</td>\n",
       "    </tr>\n",
       "    <tr>\n",
       "      <th>3</th>\n",
       "      <td>Uncle Henry and Aunt Em had a big bed in one c...</td>\n",
       "      <td>[5, 5, 3, 4, 2, 3, 1, 3, 3, 2, 3, 6, 3, 7, 1, ...</td>\n",
       "      <td>75</td>\n",
       "      <td>[1 2 1 1 1 1 1 1 0 1 1 2 1 3 1 1 0 1 3 2]</td>\n",
       "      <td>25</td>\n",
       "      <td>-0.09375</td>\n",
       "    </tr>\n",
       "    <tr>\n",
       "      <th>4</th>\n",
       "      <td>There was no garret at all, and no cellar--exc...</td>\n",
       "      <td>[5, 3, 2, 6, 2, 3, 3, 2, 6, 6, 1, 5, 4, 3, 2, ...</td>\n",
       "      <td>178</td>\n",
       "      <td>[1 1 1 2 1 1 1 1 2 2 1 1 1 1 1 1 1 1 1 2 2 1 1...</td>\n",
       "      <td>57</td>\n",
       "      <td>0.23750</td>\n",
       "    </tr>\n",
       "  </tbody>\n",
       "</table>\n",
       "</div>"
      ],
      "text/plain": [
       "                                                   0  \\\n",
       "0  The Cyclone   Dorothy lived in the midst of th...   \n",
       "1  Their house was small, for the lumber to build...   \n",
       "2  There were four walls, a floor and a roof, whi...   \n",
       "3  Uncle Henry and Aunt Em had a big bed in one c...   \n",
       "4  There was no garret at all, and no cellar--exc...   \n",
       "\n",
       "                                          wrd_length  total_char  \\\n",
       "0  [3, 7, 7, 5, 2, 3, 5, 2, 3, 5, 6, 8, 4, 5, 5, ...         113   \n",
       "1  [5, 5, 3, 5, 3, 3, 6, 2, 5, 2, 3, 2, 2, 7, 2, ...          69   \n",
       "2  [5, 4, 4, 5, 1, 5, 3, 1, 4, 5, 4, 3, 4, 3, 4, ...         144   \n",
       "3  [5, 5, 3, 4, 2, 3, 1, 3, 3, 2, 3, 6, 3, 7, 1, ...          75   \n",
       "4  [5, 3, 2, 6, 2, 3, 3, 2, 6, 6, 1, 5, 4, 3, 2, ...         178   \n",
       "\n",
       "                                           syl_count  syl_sum  sentiment  \n",
       "0  [1 2 3 1 1 1 1 1 1 2 2 2 1 1 2 1 1 1 2 1 1 1 1...       36    0.80000  \n",
       "1              [1 1 1 1 1 1 2 1 1 1 1 1 1 2 1 2 2 1]       22    0.12500  \n",
       "2  [1 1 1 1 1 1 1 1 1 1 1 1 1 1 1 1 2 1 2 2 2 1 2...       40    0.00000  \n",
       "3          [1 2 1 1 1 1 1 1 0 1 1 2 1 3 1 1 0 1 3 2]       25   -0.09375  \n",
       "4  [1 1 1 2 1 1 1 1 2 2 1 1 1 1 1 1 1 1 1 2 2 1 1...       57    0.23750  "
      ]
     },
     "execution_count": 25,
     "metadata": {},
     "output_type": "execute_result"
    }
   ],
   "source": [
    "df_test.head()"
   ]
  },
  {
   "cell_type": "code",
   "execution_count": 26,
   "metadata": {
    "collapsed": true
   },
   "outputs": [],
   "source": [
    "df_cluster = df_novel.drop('wrd_length', 1)"
   ]
  },
  {
   "cell_type": "code",
   "execution_count": 27,
   "metadata": {
    "collapsed": true
   },
   "outputs": [],
   "source": [
    "df_cluster = df_cluster.drop('syl_count', 1)"
   ]
  },
  {
   "cell_type": "code",
   "execution_count": 28,
   "metadata": {
    "collapsed": false
   },
   "outputs": [
    {
     "data": {
      "text/html": [
       "<div>\n",
       "<table border=\"1\" class=\"dataframe\">\n",
       "  <thead>\n",
       "    <tr style=\"text-align: right;\">\n",
       "      <th></th>\n",
       "      <th>0</th>\n",
       "      <th>total_char</th>\n",
       "      <th>syl_sum</th>\n",
       "      <th>sentiment</th>\n",
       "    </tr>\n",
       "  </thead>\n",
       "  <tbody>\n",
       "    <tr>\n",
       "      <th>0</th>\n",
       "      <td>The Cyclone   Dorothy lived in the midst of th...</td>\n",
       "      <td>113</td>\n",
       "      <td>36</td>\n",
       "      <td>0.80000</td>\n",
       "    </tr>\n",
       "    <tr>\n",
       "      <th>1</th>\n",
       "      <td>Their house was small, for the lumber to build...</td>\n",
       "      <td>69</td>\n",
       "      <td>22</td>\n",
       "      <td>0.12500</td>\n",
       "    </tr>\n",
       "    <tr>\n",
       "      <th>2</th>\n",
       "      <td>There were four walls, a floor and a roof, whi...</td>\n",
       "      <td>144</td>\n",
       "      <td>40</td>\n",
       "      <td>0.00000</td>\n",
       "    </tr>\n",
       "    <tr>\n",
       "      <th>3</th>\n",
       "      <td>Uncle Henry and Aunt Em had a big bed in one c...</td>\n",
       "      <td>75</td>\n",
       "      <td>25</td>\n",
       "      <td>-0.09375</td>\n",
       "    </tr>\n",
       "    <tr>\n",
       "      <th>4</th>\n",
       "      <td>There was no garret at all, and no cellar--exc...</td>\n",
       "      <td>178</td>\n",
       "      <td>57</td>\n",
       "      <td>0.23750</td>\n",
       "    </tr>\n",
       "  </tbody>\n",
       "</table>\n",
       "</div>"
      ],
      "text/plain": [
       "                                                   0  total_char  syl_sum  \\\n",
       "0  The Cyclone   Dorothy lived in the midst of th...         113       36   \n",
       "1  Their house was small, for the lumber to build...          69       22   \n",
       "2  There were four walls, a floor and a roof, whi...         144       40   \n",
       "3  Uncle Henry and Aunt Em had a big bed in one c...          75       25   \n",
       "4  There was no garret at all, and no cellar--exc...         178       57   \n",
       "\n",
       "   sentiment  \n",
       "0    0.80000  \n",
       "1    0.12500  \n",
       "2    0.00000  \n",
       "3   -0.09375  \n",
       "4    0.23750  "
      ]
     },
     "execution_count": 28,
     "metadata": {},
     "output_type": "execute_result"
    }
   ],
   "source": [
    "df_cluster.head()"
   ]
  },
  {
   "cell_type": "code",
   "execution_count": 29,
   "metadata": {
    "collapsed": true
   },
   "outputs": [],
   "source": [
    "X = df_cluster.drop(0, axis=1)"
   ]
  },
  {
   "cell_type": "code",
   "execution_count": 30,
   "metadata": {
    "collapsed": false
   },
   "outputs": [
    {
     "data": {
      "text/plain": [
       "KMeans(copy_x=True, init='k-means++', max_iter=300, n_clusters=3, n_init=10,\n",
       "    n_jobs=1, precompute_distances='auto', random_state=1, tol=0.0001,\n",
       "    verbose=0)"
      ]
     },
     "execution_count": 30,
     "metadata": {},
     "output_type": "execute_result"
    }
   ],
   "source": [
    "from sklearn.cluster import KMeans\n",
    "km = KMeans(n_clusters=3, random_state=1)\n",
    "km.fit(X)"
   ]
  },
  {
   "cell_type": "code",
   "execution_count": 31,
   "metadata": {
    "collapsed": false
   },
   "outputs": [
    {
     "data": {
      "text/plain": [
       "array([2, 2, 1, ..., 0, 0, 0], dtype=int32)"
      ]
     },
     "execution_count": 31,
     "metadata": {},
     "output_type": "execute_result"
    }
   ],
   "source": [
    "km.labels_"
   ]
  },
  {
   "cell_type": "code",
   "execution_count": 32,
   "metadata": {
    "collapsed": true
   },
   "outputs": [],
   "source": [
    "df_cluster['cluster'] = km.labels_"
   ]
  },
  {
   "cell_type": "code",
   "execution_count": 33,
   "metadata": {
    "collapsed": false
   },
   "outputs": [
    {
     "data": {
      "text/plain": [
       "array([[  3.09553232e+01,   9.77471483e+00,   4.44280815e-02],\n",
       "       [  1.55976510e+02,   4.80637584e+01,   1.31426539e-01],\n",
       "       [  8.81676040e+01,   2.76074241e+01,   1.08692888e-01]])"
      ]
     },
     "execution_count": 33,
     "metadata": {},
     "output_type": "execute_result"
    }
   ],
   "source": [
    "km.cluster_centers_"
   ]
  },
  {
   "cell_type": "code",
   "execution_count": 34,
   "metadata": {
    "collapsed": false
   },
   "outputs": [
    {
     "data": {
      "text/html": [
       "<div>\n",
       "<table border=\"1\" class=\"dataframe\">\n",
       "  <thead>\n",
       "    <tr style=\"text-align: right;\">\n",
       "      <th></th>\n",
       "      <th>total_char</th>\n",
       "      <th>syl_sum</th>\n",
       "      <th>sentiment</th>\n",
       "    </tr>\n",
       "    <tr>\n",
       "      <th>cluster</th>\n",
       "      <th></th>\n",
       "      <th></th>\n",
       "      <th></th>\n",
       "    </tr>\n",
       "  </thead>\n",
       "  <tbody>\n",
       "    <tr>\n",
       "      <th>0</th>\n",
       "      <td>30.955323</td>\n",
       "      <td>9.774715</td>\n",
       "      <td>0.044428</td>\n",
       "    </tr>\n",
       "    <tr>\n",
       "      <th>1</th>\n",
       "      <td>155.976510</td>\n",
       "      <td>48.063758</td>\n",
       "      <td>0.131427</td>\n",
       "    </tr>\n",
       "    <tr>\n",
       "      <th>2</th>\n",
       "      <td>88.167604</td>\n",
       "      <td>27.607424</td>\n",
       "      <td>0.108693</td>\n",
       "    </tr>\n",
       "  </tbody>\n",
       "</table>\n",
       "</div>"
      ],
      "text/plain": [
       "         total_char    syl_sum  sentiment\n",
       "cluster                                  \n",
       "0         30.955323   9.774715   0.044428\n",
       "1        155.976510  48.063758   0.131427\n",
       "2         88.167604  27.607424   0.108693"
      ]
     },
     "execution_count": 34,
     "metadata": {},
     "output_type": "execute_result"
    }
   ],
   "source": [
    "df_cluster.groupby('cluster').mean()"
   ]
  },
  {
   "cell_type": "code",
   "execution_count": 35,
   "metadata": {
    "collapsed": false
   },
   "outputs": [
    {
     "data": {
      "text/html": [
       "<div>\n",
       "<table border=\"1\" class=\"dataframe\">\n",
       "  <thead>\n",
       "    <tr style=\"text-align: right;\">\n",
       "      <th></th>\n",
       "      <th>0</th>\n",
       "      <th>total_char</th>\n",
       "      <th>syl_sum</th>\n",
       "      <th>sentiment</th>\n",
       "      <th>cluster</th>\n",
       "    </tr>\n",
       "  </thead>\n",
       "  <tbody>\n",
       "    <tr>\n",
       "      <th>0</th>\n",
       "      <td>The Cyclone   Dorothy lived in the midst of th...</td>\n",
       "      <td>113</td>\n",
       "      <td>36</td>\n",
       "      <td>0.80000</td>\n",
       "      <td>2</td>\n",
       "    </tr>\n",
       "    <tr>\n",
       "      <th>1</th>\n",
       "      <td>Their house was small, for the lumber to build...</td>\n",
       "      <td>69</td>\n",
       "      <td>22</td>\n",
       "      <td>0.12500</td>\n",
       "      <td>2</td>\n",
       "    </tr>\n",
       "    <tr>\n",
       "      <th>2</th>\n",
       "      <td>There were four walls, a floor and a roof, whi...</td>\n",
       "      <td>144</td>\n",
       "      <td>40</td>\n",
       "      <td>0.00000</td>\n",
       "      <td>1</td>\n",
       "    </tr>\n",
       "    <tr>\n",
       "      <th>3</th>\n",
       "      <td>Uncle Henry and Aunt Em had a big bed in one c...</td>\n",
       "      <td>75</td>\n",
       "      <td>25</td>\n",
       "      <td>-0.09375</td>\n",
       "      <td>2</td>\n",
       "    </tr>\n",
       "    <tr>\n",
       "      <th>4</th>\n",
       "      <td>There was no garret at all, and no cellar--exc...</td>\n",
       "      <td>178</td>\n",
       "      <td>57</td>\n",
       "      <td>0.23750</td>\n",
       "      <td>1</td>\n",
       "    </tr>\n",
       "  </tbody>\n",
       "</table>\n",
       "</div>"
      ],
      "text/plain": [
       "                                                   0  total_char  syl_sum  \\\n",
       "0  The Cyclone   Dorothy lived in the midst of th...         113       36   \n",
       "1  Their house was small, for the lumber to build...          69       22   \n",
       "2  There were four walls, a floor and a roof, whi...         144       40   \n",
       "3  Uncle Henry and Aunt Em had a big bed in one c...          75       25   \n",
       "4  There was no garret at all, and no cellar--exc...         178       57   \n",
       "\n",
       "   sentiment  cluster  \n",
       "0    0.80000        2  \n",
       "1    0.12500        2  \n",
       "2    0.00000        1  \n",
       "3   -0.09375        2  \n",
       "4    0.23750        1  "
      ]
     },
     "execution_count": 35,
     "metadata": {},
     "output_type": "execute_result"
    }
   ],
   "source": [
    "df_cluster.head()"
   ]
  },
  {
   "cell_type": "code",
   "execution_count": 36,
   "metadata": {
    "collapsed": true
   },
   "outputs": [],
   "source": [
    "df_cluster_char = df_cluster.drop('syl_sum', 1)"
   ]
  },
  {
   "cell_type": "code",
   "execution_count": 38,
   "metadata": {
    "collapsed": false
   },
   "outputs": [],
   "source": [
    "X = df_cluster_char.drop(0, axis=1)"
   ]
  },
  {
   "cell_type": "code",
   "execution_count": 39,
   "metadata": {
    "collapsed": false
   },
   "outputs": [
    {
     "data": {
      "text/html": [
       "<div>\n",
       "<table border=\"1\" class=\"dataframe\">\n",
       "  <thead>\n",
       "    <tr style=\"text-align: right;\">\n",
       "      <th></th>\n",
       "      <th>0</th>\n",
       "      <th>total_char</th>\n",
       "      <th>sentiment</th>\n",
       "      <th>cluster</th>\n",
       "    </tr>\n",
       "  </thead>\n",
       "  <tbody>\n",
       "    <tr>\n",
       "      <th>0</th>\n",
       "      <td>The Cyclone   Dorothy lived in the midst of th...</td>\n",
       "      <td>113</td>\n",
       "      <td>0.80000</td>\n",
       "      <td>2</td>\n",
       "    </tr>\n",
       "    <tr>\n",
       "      <th>1</th>\n",
       "      <td>Their house was small, for the lumber to build...</td>\n",
       "      <td>69</td>\n",
       "      <td>0.12500</td>\n",
       "      <td>2</td>\n",
       "    </tr>\n",
       "    <tr>\n",
       "      <th>2</th>\n",
       "      <td>There were four walls, a floor and a roof, whi...</td>\n",
       "      <td>144</td>\n",
       "      <td>0.00000</td>\n",
       "      <td>1</td>\n",
       "    </tr>\n",
       "    <tr>\n",
       "      <th>3</th>\n",
       "      <td>Uncle Henry and Aunt Em had a big bed in one c...</td>\n",
       "      <td>75</td>\n",
       "      <td>-0.09375</td>\n",
       "      <td>2</td>\n",
       "    </tr>\n",
       "    <tr>\n",
       "      <th>4</th>\n",
       "      <td>There was no garret at all, and no cellar--exc...</td>\n",
       "      <td>178</td>\n",
       "      <td>0.23750</td>\n",
       "      <td>1</td>\n",
       "    </tr>\n",
       "  </tbody>\n",
       "</table>\n",
       "</div>"
      ],
      "text/plain": [
       "                                                   0  total_char  sentiment  \\\n",
       "0  The Cyclone   Dorothy lived in the midst of th...         113    0.80000   \n",
       "1  Their house was small, for the lumber to build...          69    0.12500   \n",
       "2  There were four walls, a floor and a roof, whi...         144    0.00000   \n",
       "3  Uncle Henry and Aunt Em had a big bed in one c...          75   -0.09375   \n",
       "4  There was no garret at all, and no cellar--exc...         178    0.23750   \n",
       "\n",
       "   cluster  \n",
       "0        2  \n",
       "1        2  \n",
       "2        1  \n",
       "3        2  \n",
       "4        1  "
      ]
     },
     "execution_count": 39,
     "metadata": {},
     "output_type": "execute_result"
    }
   ],
   "source": [
    "df_cluster_char.head()"
   ]
  },
  {
   "cell_type": "code",
   "execution_count": 41,
   "metadata": {
    "collapsed": true
   },
   "outputs": [],
   "source": [
    "from sklearn.cluster import KMeans\n",
    "from sklearn.preprocessing import StandardScaler\n"
   ]
  },
  {
   "cell_type": "code",
   "execution_count": 42,
   "metadata": {
    "collapsed": false
   },
   "outputs": [],
   "source": [
    "scaler = StandardScaler()\n",
    "X_scaled = scaler.fit_transform(X)"
   ]
  },
  {
   "cell_type": "code",
   "execution_count": 43,
   "metadata": {
    "collapsed": false
   },
   "outputs": [
    {
     "data": {
      "text/plain": [
       "KMeans(copy_x=True, init='k-means++', max_iter=300, n_clusters=3, n_init=10,\n",
       "    n_jobs=1, precompute_distances='auto', random_state=1, tol=0.0001,\n",
       "    verbose=0)"
      ]
     },
     "execution_count": 43,
     "metadata": {},
     "output_type": "execute_result"
    }
   ],
   "source": [
    "km = KMeans(n_clusters=3, random_state=1)\n",
    "km.fit(X_scaled)"
   ]
  },
  {
   "cell_type": "code",
   "execution_count": 44,
   "metadata": {
    "collapsed": false
   },
   "outputs": [
    {
     "data": {
      "text/plain": [
       "array([0, 1, 1, ..., 2, 2, 0], dtype=int32)"
      ]
     },
     "execution_count": 44,
     "metadata": {},
     "output_type": "execute_result"
    }
   ],
   "source": [
    "km.labels_"
   ]
  },
  {
   "cell_type": "code",
   "execution_count": 45,
   "metadata": {
    "collapsed": true
   },
   "outputs": [],
   "source": [
    "df_cluster_char['cluster'] = km.labels_"
   ]
  },
  {
   "cell_type": "code",
   "execution_count": 46,
   "metadata": {
    "collapsed": false
   },
   "outputs": [
    {
     "data": {
      "text/html": [
       "<div>\n",
       "<table border=\"1\" class=\"dataframe\">\n",
       "  <thead>\n",
       "    <tr style=\"text-align: right;\">\n",
       "      <th></th>\n",
       "      <th>total_char</th>\n",
       "      <th>sentiment</th>\n",
       "    </tr>\n",
       "    <tr>\n",
       "      <th>cluster</th>\n",
       "      <th></th>\n",
       "      <th></th>\n",
       "    </tr>\n",
       "  </thead>\n",
       "  <tbody>\n",
       "    <tr>\n",
       "      <th>0</th>\n",
       "      <td>87.808511</td>\n",
       "      <td>0.571014</td>\n",
       "    </tr>\n",
       "    <tr>\n",
       "      <th>1</th>\n",
       "      <td>105.932620</td>\n",
       "      <td>0.002781</td>\n",
       "    </tr>\n",
       "    <tr>\n",
       "      <th>2</th>\n",
       "      <td>30.247179</td>\n",
       "      <td>-0.008135</td>\n",
       "    </tr>\n",
       "  </tbody>\n",
       "</table>\n",
       "</div>"
      ],
      "text/plain": [
       "         total_char  sentiment\n",
       "cluster                       \n",
       "0         87.808511   0.571014\n",
       "1        105.932620   0.002781\n",
       "2         30.247179  -0.008135"
      ]
     },
     "execution_count": 46,
     "metadata": {},
     "output_type": "execute_result"
    }
   ],
   "source": [
    "df_cluster_char.groupby('cluster').mean()"
   ]
  },
  {
   "cell_type": "code",
   "execution_count": 47,
   "metadata": {
    "collapsed": true
   },
   "outputs": [],
   "source": [
    "df_cluster5 = df_cluster"
   ]
  },
  {
   "cell_type": "code",
   "execution_count": 48,
   "metadata": {
    "collapsed": false
   },
   "outputs": [
    {
     "data": {
      "text/html": [
       "<div>\n",
       "<table border=\"1\" class=\"dataframe\">\n",
       "  <thead>\n",
       "    <tr style=\"text-align: right;\">\n",
       "      <th></th>\n",
       "      <th>0</th>\n",
       "      <th>total_char</th>\n",
       "      <th>syl_sum</th>\n",
       "      <th>sentiment</th>\n",
       "      <th>cluster</th>\n",
       "    </tr>\n",
       "  </thead>\n",
       "  <tbody>\n",
       "    <tr>\n",
       "      <th>0</th>\n",
       "      <td>The Cyclone   Dorothy lived in the midst of th...</td>\n",
       "      <td>113</td>\n",
       "      <td>36</td>\n",
       "      <td>0.80000</td>\n",
       "      <td>2</td>\n",
       "    </tr>\n",
       "    <tr>\n",
       "      <th>1</th>\n",
       "      <td>Their house was small, for the lumber to build...</td>\n",
       "      <td>69</td>\n",
       "      <td>22</td>\n",
       "      <td>0.12500</td>\n",
       "      <td>2</td>\n",
       "    </tr>\n",
       "    <tr>\n",
       "      <th>2</th>\n",
       "      <td>There were four walls, a floor and a roof, whi...</td>\n",
       "      <td>144</td>\n",
       "      <td>40</td>\n",
       "      <td>0.00000</td>\n",
       "      <td>1</td>\n",
       "    </tr>\n",
       "    <tr>\n",
       "      <th>3</th>\n",
       "      <td>Uncle Henry and Aunt Em had a big bed in one c...</td>\n",
       "      <td>75</td>\n",
       "      <td>25</td>\n",
       "      <td>-0.09375</td>\n",
       "      <td>2</td>\n",
       "    </tr>\n",
       "    <tr>\n",
       "      <th>4</th>\n",
       "      <td>There was no garret at all, and no cellar--exc...</td>\n",
       "      <td>178</td>\n",
       "      <td>57</td>\n",
       "      <td>0.23750</td>\n",
       "      <td>1</td>\n",
       "    </tr>\n",
       "  </tbody>\n",
       "</table>\n",
       "</div>"
      ],
      "text/plain": [
       "                                                   0  total_char  syl_sum  \\\n",
       "0  The Cyclone   Dorothy lived in the midst of th...         113       36   \n",
       "1  Their house was small, for the lumber to build...          69       22   \n",
       "2  There were four walls, a floor and a roof, whi...         144       40   \n",
       "3  Uncle Henry and Aunt Em had a big bed in one c...          75       25   \n",
       "4  There was no garret at all, and no cellar--exc...         178       57   \n",
       "\n",
       "   sentiment  cluster  \n",
       "0    0.80000        2  \n",
       "1    0.12500        2  \n",
       "2    0.00000        1  \n",
       "3   -0.09375        2  \n",
       "4    0.23750        1  "
      ]
     },
     "execution_count": 48,
     "metadata": {},
     "output_type": "execute_result"
    }
   ],
   "source": [
    "df_cluster5.head()"
   ]
  },
  {
   "cell_type": "code",
   "execution_count": 51,
   "metadata": {
    "collapsed": true
   },
   "outputs": [],
   "source": [
    "X = df_cluster5.drop(0, axis=1)"
   ]
  },
  {
   "cell_type": "code",
   "execution_count": 52,
   "metadata": {
    "collapsed": true
   },
   "outputs": [],
   "source": [
    "scaler = StandardScaler()\n",
    "X_scaled = scaler.fit_transform(X)"
   ]
  },
  {
   "cell_type": "code",
   "execution_count": 53,
   "metadata": {
    "collapsed": false
   },
   "outputs": [
    {
     "data": {
      "text/plain": [
       "KMeans(copy_x=True, init='k-means++', max_iter=300, n_clusters=5, n_init=10,\n",
       "    n_jobs=1, precompute_distances='auto', random_state=1, tol=0.0001,\n",
       "    verbose=0)"
      ]
     },
     "execution_count": 53,
     "metadata": {},
     "output_type": "execute_result"
    }
   ],
   "source": [
    "km = KMeans(n_clusters=5, random_state=1)\n",
    "km.fit(X_scaled)"
   ]
  },
  {
   "cell_type": "code",
   "execution_count": 54,
   "metadata": {
    "collapsed": false
   },
   "outputs": [
    {
     "data": {
      "text/plain": [
       "array([3, 2, 0, ..., 1, 1, 4], dtype=int32)"
      ]
     },
     "execution_count": 54,
     "metadata": {},
     "output_type": "execute_result"
    }
   ],
   "source": [
    "km.labels_"
   ]
  },
  {
   "cell_type": "code",
   "execution_count": 55,
   "metadata": {
    "collapsed": true
   },
   "outputs": [],
   "source": [
    "df_cluster5['cluster'] = km.labels_"
   ]
  },
  {
   "cell_type": "code",
   "execution_count": 56,
   "metadata": {
    "collapsed": false
   },
   "outputs": [
    {
     "data": {
      "text/html": [
       "<div>\n",
       "<table border=\"1\" class=\"dataframe\">\n",
       "  <thead>\n",
       "    <tr style=\"text-align: right;\">\n",
       "      <th></th>\n",
       "      <th>total_char</th>\n",
       "      <th>syl_sum</th>\n",
       "      <th>sentiment</th>\n",
       "    </tr>\n",
       "    <tr>\n",
       "      <th>cluster</th>\n",
       "      <th></th>\n",
       "      <th></th>\n",
       "      <th></th>\n",
       "    </tr>\n",
       "  </thead>\n",
       "  <tbody>\n",
       "    <tr>\n",
       "      <th>0</th>\n",
       "      <td>157.402827</td>\n",
       "      <td>48.459364</td>\n",
       "      <td>0.103457</td>\n",
       "    </tr>\n",
       "    <tr>\n",
       "      <th>1</th>\n",
       "      <td>29.578658</td>\n",
       "      <td>9.297030</td>\n",
       "      <td>-0.034261</td>\n",
       "    </tr>\n",
       "    <tr>\n",
       "      <th>2</th>\n",
       "      <td>87.723748</td>\n",
       "      <td>27.253635</td>\n",
       "      <td>-0.040968</td>\n",
       "    </tr>\n",
       "    <tr>\n",
       "      <th>3</th>\n",
       "      <td>91.284211</td>\n",
       "      <td>29.059649</td>\n",
       "      <td>0.462716</td>\n",
       "    </tr>\n",
       "    <tr>\n",
       "      <th>4</th>\n",
       "      <td>39.706294</td>\n",
       "      <td>12.811189</td>\n",
       "      <td>0.544628</td>\n",
       "    </tr>\n",
       "  </tbody>\n",
       "</table>\n",
       "</div>"
      ],
      "text/plain": [
       "         total_char    syl_sum  sentiment\n",
       "cluster                                  \n",
       "0        157.402827  48.459364   0.103457\n",
       "1         29.578658   9.297030  -0.034261\n",
       "2         87.723748  27.253635  -0.040968\n",
       "3         91.284211  29.059649   0.462716\n",
       "4         39.706294  12.811189   0.544628"
      ]
     },
     "execution_count": 56,
     "metadata": {},
     "output_type": "execute_result"
    }
   ],
   "source": [
    "df_cluster5.groupby('cluster').mean()"
   ]
  },
  {
   "cell_type": "code",
   "execution_count": 57,
   "metadata": {
    "collapsed": true
   },
   "outputs": [],
   "source": [
    "df_5_clustered = df_cluster5.groupby('cluster').mean()"
   ]
  },
  {
   "cell_type": "code",
   "execution_count": 58,
   "metadata": {
    "collapsed": false
   },
   "outputs": [
    {
     "data": {
      "text/html": [
       "<div>\n",
       "<table border=\"1\" class=\"dataframe\">\n",
       "  <thead>\n",
       "    <tr style=\"text-align: right;\">\n",
       "      <th></th>\n",
       "      <th>total_char</th>\n",
       "      <th>syl_sum</th>\n",
       "      <th>sentiment</th>\n",
       "    </tr>\n",
       "    <tr>\n",
       "      <th>cluster</th>\n",
       "      <th></th>\n",
       "      <th></th>\n",
       "      <th></th>\n",
       "    </tr>\n",
       "  </thead>\n",
       "  <tbody>\n",
       "    <tr>\n",
       "      <th>0</th>\n",
       "      <td>157.402827</td>\n",
       "      <td>48.459364</td>\n",
       "      <td>0.103457</td>\n",
       "    </tr>\n",
       "    <tr>\n",
       "      <th>1</th>\n",
       "      <td>29.578658</td>\n",
       "      <td>9.297030</td>\n",
       "      <td>-0.034261</td>\n",
       "    </tr>\n",
       "    <tr>\n",
       "      <th>2</th>\n",
       "      <td>87.723748</td>\n",
       "      <td>27.253635</td>\n",
       "      <td>-0.040968</td>\n",
       "    </tr>\n",
       "    <tr>\n",
       "      <th>3</th>\n",
       "      <td>91.284211</td>\n",
       "      <td>29.059649</td>\n",
       "      <td>0.462716</td>\n",
       "    </tr>\n",
       "    <tr>\n",
       "      <th>4</th>\n",
       "      <td>39.706294</td>\n",
       "      <td>12.811189</td>\n",
       "      <td>0.544628</td>\n",
       "    </tr>\n",
       "  </tbody>\n",
       "</table>\n",
       "</div>"
      ],
      "text/plain": [
       "         total_char    syl_sum  sentiment\n",
       "cluster                                  \n",
       "0        157.402827  48.459364   0.103457\n",
       "1         29.578658   9.297030  -0.034261\n",
       "2         87.723748  27.253635  -0.040968\n",
       "3         91.284211  29.059649   0.462716\n",
       "4         39.706294  12.811189   0.544628"
      ]
     },
     "execution_count": 58,
     "metadata": {},
     "output_type": "execute_result"
    }
   ],
   "source": [
    "df_5_clustered.head()"
   ]
  },
  {
   "cell_type": "code",
   "execution_count": 59,
   "metadata": {
    "collapsed": true
   },
   "outputs": [],
   "source": [
    "c = df_5_clustered.groupby('sentiment').min()"
   ]
  },
  {
   "cell_type": "code",
   "execution_count": 60,
   "metadata": {
    "collapsed": false
   },
   "outputs": [
    {
     "data": {
      "text/html": [
       "<div>\n",
       "<table border=\"1\" class=\"dataframe\">\n",
       "  <thead>\n",
       "    <tr style=\"text-align: right;\">\n",
       "      <th></th>\n",
       "      <th>total_char</th>\n",
       "      <th>syl_sum</th>\n",
       "    </tr>\n",
       "    <tr>\n",
       "      <th>sentiment</th>\n",
       "      <th></th>\n",
       "      <th></th>\n",
       "    </tr>\n",
       "  </thead>\n",
       "  <tbody>\n",
       "    <tr>\n",
       "      <th>-0.040968</th>\n",
       "      <td>87.723748</td>\n",
       "      <td>27.253635</td>\n",
       "    </tr>\n",
       "    <tr>\n",
       "      <th>-0.034261</th>\n",
       "      <td>29.578658</td>\n",
       "      <td>9.297030</td>\n",
       "    </tr>\n",
       "    <tr>\n",
       "      <th>0.103457</th>\n",
       "      <td>157.402827</td>\n",
       "      <td>48.459364</td>\n",
       "    </tr>\n",
       "    <tr>\n",
       "      <th>0.462716</th>\n",
       "      <td>91.284211</td>\n",
       "      <td>29.059649</td>\n",
       "    </tr>\n",
       "    <tr>\n",
       "      <th>0.544628</th>\n",
       "      <td>39.706294</td>\n",
       "      <td>12.811189</td>\n",
       "    </tr>\n",
       "  </tbody>\n",
       "</table>\n",
       "</div>"
      ],
      "text/plain": [
       "           total_char    syl_sum\n",
       "sentiment                       \n",
       "-0.040968   87.723748  27.253635\n",
       "-0.034261   29.578658   9.297030\n",
       " 0.103457  157.402827  48.459364\n",
       " 0.462716   91.284211  29.059649\n",
       " 0.544628   39.706294  12.811189"
      ]
     },
     "execution_count": 60,
     "metadata": {},
     "output_type": "execute_result"
    }
   ],
   "source": [
    "c"
   ]
  },
  {
   "cell_type": "code",
   "execution_count": 71,
   "metadata": {
    "collapsed": false
   },
   "outputs": [],
   "source": [
    "c2 = df_5_clustered.groupby('total_char').min()"
   ]
  },
  {
   "cell_type": "code",
   "execution_count": 73,
   "metadata": {
    "collapsed": false
   },
   "outputs": [
    {
     "data": {
      "text/html": [
       "<div>\n",
       "<table border=\"1\" class=\"dataframe\">\n",
       "  <thead>\n",
       "    <tr style=\"text-align: right;\">\n",
       "      <th></th>\n",
       "      <th>syl_sum</th>\n",
       "      <th>sentiment</th>\n",
       "    </tr>\n",
       "    <tr>\n",
       "      <th>total_char</th>\n",
       "      <th></th>\n",
       "      <th></th>\n",
       "    </tr>\n",
       "  </thead>\n",
       "  <tbody>\n",
       "    <tr>\n",
       "      <th>29.578658</th>\n",
       "      <td>9.297030</td>\n",
       "      <td>-0.034261</td>\n",
       "    </tr>\n",
       "    <tr>\n",
       "      <th>39.706294</th>\n",
       "      <td>12.811189</td>\n",
       "      <td>0.544628</td>\n",
       "    </tr>\n",
       "    <tr>\n",
       "      <th>87.723748</th>\n",
       "      <td>27.253635</td>\n",
       "      <td>-0.040968</td>\n",
       "    </tr>\n",
       "    <tr>\n",
       "      <th>91.284211</th>\n",
       "      <td>29.059649</td>\n",
       "      <td>0.462716</td>\n",
       "    </tr>\n",
       "    <tr>\n",
       "      <th>157.402827</th>\n",
       "      <td>48.459364</td>\n",
       "      <td>0.103457</td>\n",
       "    </tr>\n",
       "  </tbody>\n",
       "</table>\n",
       "</div>"
      ],
      "text/plain": [
       "              syl_sum  sentiment\n",
       "total_char                      \n",
       "29.578658    9.297030  -0.034261\n",
       "39.706294   12.811189   0.544628\n",
       "87.723748   27.253635  -0.040968\n",
       "91.284211   29.059649   0.462716\n",
       "157.402827  48.459364   0.103457"
      ]
     },
     "execution_count": 73,
     "metadata": {},
     "output_type": "execute_result"
    }
   ],
   "source": [
    "c2"
   ]
  },
  {
   "cell_type": "code",
   "execution_count": 75,
   "metadata": {
    "collapsed": false
   },
   "outputs": [
    {
     "data": {
      "text/plain": [
       "pandas.core.frame.DataFrame"
      ]
     },
     "execution_count": 75,
     "metadata": {},
     "output_type": "execute_result"
    }
   ],
   "source": [
    "type(c2)"
   ]
  },
  {
   "cell_type": "code",
   "execution_count": 82,
   "metadata": {
    "collapsed": false
   },
   "outputs": [],
   "source": [
    "t = c2['sentiment']"
   ]
  },
  {
   "cell_type": "code",
   "execution_count": 86,
   "metadata": {
    "collapsed": false
   },
   "outputs": [],
   "source": [
    "\n",
    "c3 = c2.set_index([range(5)])"
   ]
  },
  {
   "cell_type": "code",
   "execution_count": 87,
   "metadata": {
    "collapsed": false
   },
   "outputs": [
    {
     "data": {
      "text/html": [
       "<div>\n",
       "<table border=\"1\" class=\"dataframe\">\n",
       "  <thead>\n",
       "    <tr style=\"text-align: right;\">\n",
       "      <th></th>\n",
       "      <th>syl_sum</th>\n",
       "      <th>sentiment</th>\n",
       "    </tr>\n",
       "  </thead>\n",
       "  <tbody>\n",
       "    <tr>\n",
       "      <th>0</th>\n",
       "      <td>9.297030</td>\n",
       "      <td>-0.034261</td>\n",
       "    </tr>\n",
       "    <tr>\n",
       "      <th>1</th>\n",
       "      <td>12.811189</td>\n",
       "      <td>0.544628</td>\n",
       "    </tr>\n",
       "    <tr>\n",
       "      <th>2</th>\n",
       "      <td>27.253635</td>\n",
       "      <td>-0.040968</td>\n",
       "    </tr>\n",
       "    <tr>\n",
       "      <th>3</th>\n",
       "      <td>29.059649</td>\n",
       "      <td>0.462716</td>\n",
       "    </tr>\n",
       "    <tr>\n",
       "      <th>4</th>\n",
       "      <td>48.459364</td>\n",
       "      <td>0.103457</td>\n",
       "    </tr>\n",
       "  </tbody>\n",
       "</table>\n",
       "</div>"
      ],
      "text/plain": [
       "     syl_sum  sentiment\n",
       "0   9.297030  -0.034261\n",
       "1  12.811189   0.544628\n",
       "2  27.253635  -0.040968\n",
       "3  29.059649   0.462716\n",
       "4  48.459364   0.103457"
      ]
     },
     "execution_count": 87,
     "metadata": {},
     "output_type": "execute_result"
    }
   ],
   "source": [
    "keys = \n",
    "c3"
   ]
  },
  {
   "cell_type": "code",
   "execution_count": 88,
   "metadata": {
    "collapsed": true
   },
   "outputs": [],
   "source": [
    "c4 = c2.reset_index(level=0, inplace=True)"
   ]
  },
  {
   "cell_type": "code",
   "execution_count": 89,
   "metadata": {
    "collapsed": true
   },
   "outputs": [],
   "source": [
    "c4"
   ]
  },
  {
   "cell_type": "code",
   "execution_count": 90,
   "metadata": {
    "collapsed": false
   },
   "outputs": [
    {
     "data": {
      "text/html": [
       "<div>\n",
       "<table border=\"1\" class=\"dataframe\">\n",
       "  <thead>\n",
       "    <tr style=\"text-align: right;\">\n",
       "      <th></th>\n",
       "      <th>total_char</th>\n",
       "      <th>syl_sum</th>\n",
       "      <th>sentiment</th>\n",
       "    </tr>\n",
       "  </thead>\n",
       "  <tbody>\n",
       "    <tr>\n",
       "      <th>0</th>\n",
       "      <td>29.578658</td>\n",
       "      <td>9.297030</td>\n",
       "      <td>-0.034261</td>\n",
       "    </tr>\n",
       "    <tr>\n",
       "      <th>1</th>\n",
       "      <td>39.706294</td>\n",
       "      <td>12.811189</td>\n",
       "      <td>0.544628</td>\n",
       "    </tr>\n",
       "    <tr>\n",
       "      <th>2</th>\n",
       "      <td>87.723748</td>\n",
       "      <td>27.253635</td>\n",
       "      <td>-0.040968</td>\n",
       "    </tr>\n",
       "    <tr>\n",
       "      <th>3</th>\n",
       "      <td>91.284211</td>\n",
       "      <td>29.059649</td>\n",
       "      <td>0.462716</td>\n",
       "    </tr>\n",
       "    <tr>\n",
       "      <th>4</th>\n",
       "      <td>157.402827</td>\n",
       "      <td>48.459364</td>\n",
       "      <td>0.103457</td>\n",
       "    </tr>\n",
       "  </tbody>\n",
       "</table>\n",
       "</div>"
      ],
      "text/plain": [
       "   total_char    syl_sum  sentiment\n",
       "0   29.578658   9.297030  -0.034261\n",
       "1   39.706294  12.811189   0.544628\n",
       "2   87.723748  27.253635  -0.040968\n",
       "3   91.284211  29.059649   0.462716\n",
       "4  157.402827  48.459364   0.103457"
      ]
     },
     "execution_count": 90,
     "metadata": {},
     "output_type": "execute_result"
    }
   ],
   "source": [
    "c2"
   ]
  },
  {
   "cell_type": "code",
   "execution_count": 91,
   "metadata": {
    "collapsed": true
   },
   "outputs": [],
   "source": [
    "s = df_5_clustered.groupby('sentiment').min()"
   ]
  },
  {
   "cell_type": "code",
   "execution_count": 92,
   "metadata": {
    "collapsed": false
   },
   "outputs": [
    {
     "data": {
      "text/html": [
       "<div>\n",
       "<table border=\"1\" class=\"dataframe\">\n",
       "  <thead>\n",
       "    <tr style=\"text-align: right;\">\n",
       "      <th></th>\n",
       "      <th>total_char</th>\n",
       "      <th>syl_sum</th>\n",
       "    </tr>\n",
       "    <tr>\n",
       "      <th>sentiment</th>\n",
       "      <th></th>\n",
       "      <th></th>\n",
       "    </tr>\n",
       "  </thead>\n",
       "  <tbody>\n",
       "    <tr>\n",
       "      <th>-0.040968</th>\n",
       "      <td>87.723748</td>\n",
       "      <td>27.253635</td>\n",
       "    </tr>\n",
       "    <tr>\n",
       "      <th>-0.034261</th>\n",
       "      <td>29.578658</td>\n",
       "      <td>9.297030</td>\n",
       "    </tr>\n",
       "    <tr>\n",
       "      <th>0.103457</th>\n",
       "      <td>157.402827</td>\n",
       "      <td>48.459364</td>\n",
       "    </tr>\n",
       "    <tr>\n",
       "      <th>0.462716</th>\n",
       "      <td>91.284211</td>\n",
       "      <td>29.059649</td>\n",
       "    </tr>\n",
       "    <tr>\n",
       "      <th>0.544628</th>\n",
       "      <td>39.706294</td>\n",
       "      <td>12.811189</td>\n",
       "    </tr>\n",
       "  </tbody>\n",
       "</table>\n",
       "</div>"
      ],
      "text/plain": [
       "           total_char    syl_sum\n",
       "sentiment                       \n",
       "-0.040968   87.723748  27.253635\n",
       "-0.034261   29.578658   9.297030\n",
       " 0.103457  157.402827  48.459364\n",
       " 0.462716   91.284211  29.059649\n",
       " 0.544628   39.706294  12.811189"
      ]
     },
     "execution_count": 92,
     "metadata": {},
     "output_type": "execute_result"
    }
   ],
   "source": [
    "s"
   ]
  },
  {
   "cell_type": "code",
   "execution_count": 93,
   "metadata": {
    "collapsed": true
   },
   "outputs": [],
   "source": [
    "s.reset_index(level=0, inplace=True)"
   ]
  },
  {
   "cell_type": "code",
   "execution_count": 94,
   "metadata": {
    "collapsed": false
   },
   "outputs": [
    {
     "data": {
      "text/html": [
       "<div>\n",
       "<table border=\"1\" class=\"dataframe\">\n",
       "  <thead>\n",
       "    <tr style=\"text-align: right;\">\n",
       "      <th></th>\n",
       "      <th>sentiment</th>\n",
       "      <th>total_char</th>\n",
       "      <th>syl_sum</th>\n",
       "    </tr>\n",
       "  </thead>\n",
       "  <tbody>\n",
       "    <tr>\n",
       "      <th>0</th>\n",
       "      <td>-0.040968</td>\n",
       "      <td>87.723748</td>\n",
       "      <td>27.253635</td>\n",
       "    </tr>\n",
       "    <tr>\n",
       "      <th>1</th>\n",
       "      <td>-0.034261</td>\n",
       "      <td>29.578658</td>\n",
       "      <td>9.297030</td>\n",
       "    </tr>\n",
       "    <tr>\n",
       "      <th>2</th>\n",
       "      <td>0.103457</td>\n",
       "      <td>157.402827</td>\n",
       "      <td>48.459364</td>\n",
       "    </tr>\n",
       "    <tr>\n",
       "      <th>3</th>\n",
       "      <td>0.462716</td>\n",
       "      <td>91.284211</td>\n",
       "      <td>29.059649</td>\n",
       "    </tr>\n",
       "    <tr>\n",
       "      <th>4</th>\n",
       "      <td>0.544628</td>\n",
       "      <td>39.706294</td>\n",
       "      <td>12.811189</td>\n",
       "    </tr>\n",
       "  </tbody>\n",
       "</table>\n",
       "</div>"
      ],
      "text/plain": [
       "   sentiment  total_char    syl_sum\n",
       "0  -0.040968   87.723748  27.253635\n",
       "1  -0.034261   29.578658   9.297030\n",
       "2   0.103457  157.402827  48.459364\n",
       "3   0.462716   91.284211  29.059649\n",
       "4   0.544628   39.706294  12.811189"
      ]
     },
     "execution_count": 94,
     "metadata": {},
     "output_type": "execute_result"
    }
   ],
   "source": [
    "s"
   ]
  },
  {
   "cell_type": "code",
   "execution_count": 95,
   "metadata": {
    "collapsed": true
   },
   "outputs": [],
   "source": [
    "c = c2"
   ]
  },
  {
   "cell_type": "code",
   "execution_count": 100,
   "metadata": {
    "collapsed": false
   },
   "outputs": [
    {
     "data": {
      "text/html": [
       "<div>\n",
       "<table border=\"1\" class=\"dataframe\">\n",
       "  <thead>\n",
       "    <tr style=\"text-align: right;\">\n",
       "      <th></th>\n",
       "      <th>total_char</th>\n",
       "      <th>syl_sum</th>\n",
       "      <th>sentiment</th>\n",
       "    </tr>\n",
       "  </thead>\n",
       "  <tbody>\n",
       "    <tr>\n",
       "      <th>0</th>\n",
       "      <td>29.578658</td>\n",
       "      <td>9.297030</td>\n",
       "      <td>-0.034261</td>\n",
       "    </tr>\n",
       "    <tr>\n",
       "      <th>1</th>\n",
       "      <td>39.706294</td>\n",
       "      <td>12.811189</td>\n",
       "      <td>0.544628</td>\n",
       "    </tr>\n",
       "    <tr>\n",
       "      <th>2</th>\n",
       "      <td>87.723748</td>\n",
       "      <td>27.253635</td>\n",
       "      <td>-0.040968</td>\n",
       "    </tr>\n",
       "    <tr>\n",
       "      <th>3</th>\n",
       "      <td>91.284211</td>\n",
       "      <td>29.059649</td>\n",
       "      <td>0.462716</td>\n",
       "    </tr>\n",
       "    <tr>\n",
       "      <th>4</th>\n",
       "      <td>157.402827</td>\n",
       "      <td>48.459364</td>\n",
       "      <td>0.103457</td>\n",
       "    </tr>\n",
       "  </tbody>\n",
       "</table>\n",
       "</div>"
      ],
      "text/plain": [
       "   total_char    syl_sum  sentiment\n",
       "0   29.578658   9.297030  -0.034261\n",
       "1   39.706294  12.811189   0.544628\n",
       "2   87.723748  27.253635  -0.040968\n",
       "3   91.284211  29.059649   0.462716\n",
       "4  157.402827  48.459364   0.103457"
      ]
     },
     "execution_count": 100,
     "metadata": {},
     "output_type": "execute_result"
    }
   ],
   "source": [
    "c2"
   ]
  },
  {
   "cell_type": "code",
   "execution_count": 96,
   "metadata": {
    "collapsed": false
   },
   "outputs": [
    {
     "data": {
      "text/html": [
       "<div>\n",
       "<table border=\"1\" class=\"dataframe\">\n",
       "  <thead>\n",
       "    <tr style=\"text-align: right;\">\n",
       "      <th></th>\n",
       "      <th>total_char</th>\n",
       "      <th>syl_sum</th>\n",
       "      <th>sentiment</th>\n",
       "    </tr>\n",
       "  </thead>\n",
       "  <tbody>\n",
       "    <tr>\n",
       "      <th>0</th>\n",
       "      <td>29.578658</td>\n",
       "      <td>9.297030</td>\n",
       "      <td>-0.034261</td>\n",
       "    </tr>\n",
       "    <tr>\n",
       "      <th>1</th>\n",
       "      <td>39.706294</td>\n",
       "      <td>12.811189</td>\n",
       "      <td>0.544628</td>\n",
       "    </tr>\n",
       "    <tr>\n",
       "      <th>2</th>\n",
       "      <td>87.723748</td>\n",
       "      <td>27.253635</td>\n",
       "      <td>-0.040968</td>\n",
       "    </tr>\n",
       "    <tr>\n",
       "      <th>3</th>\n",
       "      <td>91.284211</td>\n",
       "      <td>29.059649</td>\n",
       "      <td>0.462716</td>\n",
       "    </tr>\n",
       "    <tr>\n",
       "      <th>4</th>\n",
       "      <td>157.402827</td>\n",
       "      <td>48.459364</td>\n",
       "      <td>0.103457</td>\n",
       "    </tr>\n",
       "  </tbody>\n",
       "</table>\n",
       "</div>"
      ],
      "text/plain": [
       "   total_char    syl_sum  sentiment\n",
       "0   29.578658   9.297030  -0.034261\n",
       "1   39.706294  12.811189   0.544628\n",
       "2   87.723748  27.253635  -0.040968\n",
       "3   91.284211  29.059649   0.462716\n",
       "4  157.402827  48.459364   0.103457"
      ]
     },
     "execution_count": 96,
     "metadata": {},
     "output_type": "execute_result"
    }
   ],
   "source": [
    "c"
   ]
  },
  {
   "cell_type": "code",
   "execution_count": 99,
   "metadata": {
    "collapsed": false
   },
   "outputs": [
    {
     "data": {
      "text/plain": [
       "29.578657865786578"
      ]
     },
     "execution_count": 99,
     "metadata": {},
     "output_type": "execute_result"
    }
   ],
   "source": [
    "c['total_char'][0]"
   ]
  },
  {
   "cell_type": "code",
   "execution_count": null,
   "metadata": {
    "collapsed": true
   },
   "outputs": [],
   "source": [
    "c.query(c)"
   ]
  },
  {
   "cell_type": "code",
   "execution_count": 103,
   "metadata": {
    "collapsed": false
   },
   "outputs": [
    {
     "name": "stdout",
     "output_type": "stream",
     "text": [
      "0\n",
      "1\n",
      "2\n",
      "3\n",
      "4\n"
     ]
    }
   ],
   "source": [
    "for x in range(0,5):\n",
    "    print x"
   ]
  },
  {
   "cell_type": "code",
   "execution_count": 107,
   "metadata": {
    "collapsed": false
   },
   "outputs": [],
   "source": [
    "matches = []\n",
    "for x in range(0,5):\n",
    "    if (c['total_char'][x] == c2['total_char'][1]) & (c['sentiment'][x] == c2['sentiment'][1]):\n",
    "        matches.append(1)\n",
    "    else:\n",
    "        matches.append(0)"
   ]
  },
  {
   "cell_type": "code",
   "execution_count": 108,
   "metadata": {
    "collapsed": false
   },
   "outputs": [
    {
     "data": {
      "text/plain": [
       "[0, 1, 0, 0, 0]"
      ]
     },
     "execution_count": 108,
     "metadata": {},
     "output_type": "execute_result"
    }
   ],
   "source": [
    "matches"
   ]
  },
  {
   "cell_type": "code",
   "execution_count": null,
   "metadata": {
    "collapsed": true
   },
   "outputs": [],
   "source": [
    "c2_c_matches = []\n",
    "\n",
    "c2_c_match = []"
   ]
  },
  {
   "cell_type": "code",
   "execution_count": 111,
   "metadata": {
    "collapsed": false
   },
   "outputs": [
    {
     "name": "stdout",
     "output_type": "stream",
     "text": [
      "39.7062937063\n",
      "0.544628427128\n",
      "RangeIndex(start=0, stop=5, step=1)\n"
     ]
    }
   ],
   "source": [
    "matches = []\n",
    "for x in range(0,5):\n",
    "    if (c['total_char'][x] == c2['total_char'][1]) & (c['sentiment'][x] == c2['sentiment'][1]):\n",
    "        matches.append(1)\n",
    "        print c['total_char'][x]\n",
    "        print c['sentiment'][x]\n",
    "        print c.index\n",
    "    else:\n",
    "        matches.append(0)"
   ]
  },
  {
   "cell_type": "code",
   "execution_count": 112,
   "metadata": {
    "collapsed": false
   },
   "outputs": [
    {
     "data": {
      "text/plain": [
       "[0, 1, 0, 0, 0]"
      ]
     },
     "execution_count": 112,
     "metadata": {},
     "output_type": "execute_result"
    }
   ],
   "source": [
    "matches"
   ]
  },
  {
   "cell_type": "code",
   "execution_count": 114,
   "metadata": {
    "collapsed": false
   },
   "outputs": [
    {
     "name": "stdout",
     "output_type": "stream",
     "text": [
      "87.7237479806\n",
      "-0.040968442794\n",
      "2\n"
     ]
    }
   ],
   "source": [
    "matches = []\n",
    "for x in range(0,5):\n",
    "    if (c['total_char'][x] == c2['total_char'][2]) & (c['sentiment'][x] == c2['sentiment'][2]):\n",
    "        matches.append(1)\n",
    "        print c['total_char'][x]\n",
    "        print c['sentiment'][x]\n",
    "        print x\n",
    "    else:\n",
    "        matches.append(0)"
   ]
  },
  {
   "cell_type": "code",
   "execution_count": 115,
   "metadata": {
    "collapsed": false
   },
   "outputs": [
    {
     "data": {
      "text/plain": [
       "[0, 0, 1, 0, 0]"
      ]
     },
     "execution_count": 115,
     "metadata": {},
     "output_type": "execute_result"
    }
   ],
   "source": [
    "matches"
   ]
  },
  {
   "cell_type": "code",
   "execution_count": 120,
   "metadata": {
    "collapsed": false
   },
   "outputs": [],
   "source": [
    "c2_match = np.zeros(5)"
   ]
  },
  {
   "cell_type": "code",
   "execution_count": 121,
   "metadata": {
    "collapsed": false
   },
   "outputs": [
    {
     "data": {
      "text/plain": [
       "array([ 0.,  0.,  0.,  0.,  0.])"
      ]
     },
     "execution_count": 121,
     "metadata": {},
     "output_type": "execute_result"
    }
   ],
   "source": [
    "c2_match"
   ]
  },
  {
   "cell_type": "code",
   "execution_count": 122,
   "metadata": {
    "collapsed": true
   },
   "outputs": [],
   "source": [
    "c['c2_match'] = c2_match"
   ]
  },
  {
   "cell_type": "code",
   "execution_count": 130,
   "metadata": {
    "collapsed": false
   },
   "outputs": [
    {
     "data": {
      "text/html": [
       "<div>\n",
       "<table border=\"1\" class=\"dataframe\">\n",
       "  <thead>\n",
       "    <tr style=\"text-align: right;\">\n",
       "      <th></th>\n",
       "      <th>total_char</th>\n",
       "      <th>syl_sum</th>\n",
       "      <th>sentiment</th>\n",
       "      <th>c2_match</th>\n",
       "      <th>c_match</th>\n",
       "    </tr>\n",
       "  </thead>\n",
       "  <tbody>\n",
       "    <tr>\n",
       "      <th>0</th>\n",
       "      <td>29.578658</td>\n",
       "      <td>9.297030</td>\n",
       "      <td>-0.034261</td>\n",
       "      <td>0.0</td>\n",
       "      <td>0.0</td>\n",
       "    </tr>\n",
       "    <tr>\n",
       "      <th>1</th>\n",
       "      <td>39.706294</td>\n",
       "      <td>12.811189</td>\n",
       "      <td>0.544628</td>\n",
       "      <td>0.0</td>\n",
       "      <td>0.0</td>\n",
       "    </tr>\n",
       "    <tr>\n",
       "      <th>2</th>\n",
       "      <td>87.723748</td>\n",
       "      <td>27.253635</td>\n",
       "      <td>-0.040968</td>\n",
       "      <td>0.0</td>\n",
       "      <td>0.0</td>\n",
       "    </tr>\n",
       "    <tr>\n",
       "      <th>3</th>\n",
       "      <td>91.284211</td>\n",
       "      <td>29.059649</td>\n",
       "      <td>0.462716</td>\n",
       "      <td>0.0</td>\n",
       "      <td>0.0</td>\n",
       "    </tr>\n",
       "    <tr>\n",
       "      <th>4</th>\n",
       "      <td>157.402827</td>\n",
       "      <td>48.459364</td>\n",
       "      <td>0.103457</td>\n",
       "      <td>0.0</td>\n",
       "      <td>0.0</td>\n",
       "    </tr>\n",
       "  </tbody>\n",
       "</table>\n",
       "</div>"
      ],
      "text/plain": [
       "   total_char    syl_sum  sentiment  c2_match  c_match\n",
       "0   29.578658   9.297030  -0.034261       0.0      0.0\n",
       "1   39.706294  12.811189   0.544628       0.0      0.0\n",
       "2   87.723748  27.253635  -0.040968       0.0      0.0\n",
       "3   91.284211  29.059649   0.462716       0.0      0.0\n",
       "4  157.402827  48.459364   0.103457       0.0      0.0"
      ]
     },
     "execution_count": 130,
     "metadata": {},
     "output_type": "execute_result"
    }
   ],
   "source": [
    "c"
   ]
  },
  {
   "cell_type": "code",
   "execution_count": 126,
   "metadata": {
    "collapsed": true
   },
   "outputs": [],
   "source": [
    "c_match = np.zeros(5)"
   ]
  },
  {
   "cell_type": "code",
   "execution_count": 127,
   "metadata": {
    "collapsed": false
   },
   "outputs": [
    {
     "data": {
      "text/plain": [
       "array([ 0.,  0.,  0.,  0.,  0.])"
      ]
     },
     "execution_count": 127,
     "metadata": {},
     "output_type": "execute_result"
    }
   ],
   "source": [
    "c_match"
   ]
  },
  {
   "cell_type": "code",
   "execution_count": 128,
   "metadata": {
    "collapsed": true
   },
   "outputs": [],
   "source": [
    "c2['c_match'] = c_match"
   ]
  },
  {
   "cell_type": "code",
   "execution_count": 129,
   "metadata": {
    "collapsed": false
   },
   "outputs": [
    {
     "data": {
      "text/html": [
       "<div>\n",
       "<table border=\"1\" class=\"dataframe\">\n",
       "  <thead>\n",
       "    <tr style=\"text-align: right;\">\n",
       "      <th></th>\n",
       "      <th>total_char</th>\n",
       "      <th>syl_sum</th>\n",
       "      <th>sentiment</th>\n",
       "      <th>c2_match</th>\n",
       "      <th>c_match</th>\n",
       "    </tr>\n",
       "  </thead>\n",
       "  <tbody>\n",
       "    <tr>\n",
       "      <th>0</th>\n",
       "      <td>29.578658</td>\n",
       "      <td>9.297030</td>\n",
       "      <td>-0.034261</td>\n",
       "      <td>0.0</td>\n",
       "      <td>0.0</td>\n",
       "    </tr>\n",
       "    <tr>\n",
       "      <th>1</th>\n",
       "      <td>39.706294</td>\n",
       "      <td>12.811189</td>\n",
       "      <td>0.544628</td>\n",
       "      <td>0.0</td>\n",
       "      <td>0.0</td>\n",
       "    </tr>\n",
       "    <tr>\n",
       "      <th>2</th>\n",
       "      <td>87.723748</td>\n",
       "      <td>27.253635</td>\n",
       "      <td>-0.040968</td>\n",
       "      <td>0.0</td>\n",
       "      <td>0.0</td>\n",
       "    </tr>\n",
       "    <tr>\n",
       "      <th>3</th>\n",
       "      <td>91.284211</td>\n",
       "      <td>29.059649</td>\n",
       "      <td>0.462716</td>\n",
       "      <td>0.0</td>\n",
       "      <td>0.0</td>\n",
       "    </tr>\n",
       "    <tr>\n",
       "      <th>4</th>\n",
       "      <td>157.402827</td>\n",
       "      <td>48.459364</td>\n",
       "      <td>0.103457</td>\n",
       "      <td>0.0</td>\n",
       "      <td>0.0</td>\n",
       "    </tr>\n",
       "  </tbody>\n",
       "</table>\n",
       "</div>"
      ],
      "text/plain": [
       "   total_char    syl_sum  sentiment  c2_match  c_match\n",
       "0   29.578658   9.297030  -0.034261       0.0      0.0\n",
       "1   39.706294  12.811189   0.544628       0.0      0.0\n",
       "2   87.723748  27.253635  -0.040968       0.0      0.0\n",
       "3   91.284211  29.059649   0.462716       0.0      0.0\n",
       "4  157.402827  48.459364   0.103457       0.0      0.0"
      ]
     },
     "execution_count": 129,
     "metadata": {},
     "output_type": "execute_result"
    }
   ],
   "source": [
    "c2"
   ]
  },
  {
   "cell_type": "code",
   "execution_count": 135,
   "metadata": {
    "collapsed": false
   },
   "outputs": [],
   "source": [
    "c2['c_match'][1] = 1"
   ]
  },
  {
   "cell_type": "code",
   "execution_count": 136,
   "metadata": {
    "collapsed": false
   },
   "outputs": [
    {
     "data": {
      "text/html": [
       "<div>\n",
       "<table border=\"1\" class=\"dataframe\">\n",
       "  <thead>\n",
       "    <tr style=\"text-align: right;\">\n",
       "      <th></th>\n",
       "      <th>total_char</th>\n",
       "      <th>syl_sum</th>\n",
       "      <th>sentiment</th>\n",
       "      <th>c2_match</th>\n",
       "      <th>c_match</th>\n",
       "    </tr>\n",
       "  </thead>\n",
       "  <tbody>\n",
       "    <tr>\n",
       "      <th>0</th>\n",
       "      <td>29.578658</td>\n",
       "      <td>9.297030</td>\n",
       "      <td>-0.034261</td>\n",
       "      <td>0.0</td>\n",
       "      <td>0.0</td>\n",
       "    </tr>\n",
       "    <tr>\n",
       "      <th>1</th>\n",
       "      <td>39.706294</td>\n",
       "      <td>12.811189</td>\n",
       "      <td>0.544628</td>\n",
       "      <td>0.0</td>\n",
       "      <td>1.0</td>\n",
       "    </tr>\n",
       "    <tr>\n",
       "      <th>2</th>\n",
       "      <td>87.723748</td>\n",
       "      <td>27.253635</td>\n",
       "      <td>-0.040968</td>\n",
       "      <td>0.0</td>\n",
       "      <td>0.0</td>\n",
       "    </tr>\n",
       "    <tr>\n",
       "      <th>3</th>\n",
       "      <td>91.284211</td>\n",
       "      <td>29.059649</td>\n",
       "      <td>0.462716</td>\n",
       "      <td>0.0</td>\n",
       "      <td>0.0</td>\n",
       "    </tr>\n",
       "    <tr>\n",
       "      <th>4</th>\n",
       "      <td>157.402827</td>\n",
       "      <td>48.459364</td>\n",
       "      <td>0.103457</td>\n",
       "      <td>0.0</td>\n",
       "      <td>0.0</td>\n",
       "    </tr>\n",
       "  </tbody>\n",
       "</table>\n",
       "</div>"
      ],
      "text/plain": [
       "   total_char    syl_sum  sentiment  c2_match  c_match\n",
       "0   29.578658   9.297030  -0.034261       0.0      0.0\n",
       "1   39.706294  12.811189   0.544628       0.0      1.0\n",
       "2   87.723748  27.253635  -0.040968       0.0      0.0\n",
       "3   91.284211  29.059649   0.462716       0.0      0.0\n",
       "4  157.402827  48.459364   0.103457       0.0      0.0"
      ]
     },
     "execution_count": 136,
     "metadata": {},
     "output_type": "execute_result"
    }
   ],
   "source": [
    "c"
   ]
  },
  {
   "cell_type": "code",
   "execution_count": 139,
   "metadata": {
    "collapsed": false
   },
   "outputs": [],
   "source": [
    "alice_cluster_5 = pd.read_csv('alice_cluster_5.csv')"
   ]
  },
  {
   "cell_type": "code",
   "execution_count": 140,
   "metadata": {
    "collapsed": false
   },
   "outputs": [
    {
     "data": {
      "text/html": [
       "<div>\n",
       "<table border=\"1\" class=\"dataframe\">\n",
       "  <thead>\n",
       "    <tr style=\"text-align: right;\">\n",
       "      <th></th>\n",
       "      <th>total_char</th>\n",
       "      <th>syl_sum</th>\n",
       "      <th>sentiment</th>\n",
       "    </tr>\n",
       "  </thead>\n",
       "  <tbody>\n",
       "    <tr>\n",
       "      <th>0</th>\n",
       "      <td>37.585311</td>\n",
       "      <td>11.528814</td>\n",
       "      <td>-0.065021</td>\n",
       "    </tr>\n",
       "    <tr>\n",
       "      <th>1</th>\n",
       "      <td>60.933333</td>\n",
       "      <td>18.894444</td>\n",
       "      <td>0.492801</td>\n",
       "    </tr>\n",
       "    <tr>\n",
       "      <th>2</th>\n",
       "      <td>529.555556</td>\n",
       "      <td>161.666667</td>\n",
       "      <td>0.009813</td>\n",
       "    </tr>\n",
       "    <tr>\n",
       "      <th>3</th>\n",
       "      <td>169.704225</td>\n",
       "      <td>52.105634</td>\n",
       "      <td>0.033182</td>\n",
       "    </tr>\n",
       "    <tr>\n",
       "      <th>4</th>\n",
       "      <td>46.026119</td>\n",
       "      <td>14.119403</td>\n",
       "      <td>0.002250</td>\n",
       "    </tr>\n",
       "  </tbody>\n",
       "</table>\n",
       "</div>"
      ],
      "text/plain": [
       "   total_char     syl_sum  sentiment\n",
       "0   37.585311   11.528814  -0.065021\n",
       "1   60.933333   18.894444   0.492801\n",
       "2  529.555556  161.666667   0.009813\n",
       "3  169.704225   52.105634   0.033182\n",
       "4   46.026119   14.119403   0.002250"
      ]
     },
     "execution_count": 140,
     "metadata": {},
     "output_type": "execute_result"
    }
   ],
   "source": [
    "alice_cluster_5"
   ]
  },
  {
   "cell_type": "code",
   "execution_count": 141,
   "metadata": {
    "collapsed": true
   },
   "outputs": [],
   "source": [
    "wizard_cluster_5 = df_cluster5.groupby('cluster').mean()"
   ]
  },
  {
   "cell_type": "code",
   "execution_count": 142,
   "metadata": {
    "collapsed": false
   },
   "outputs": [
    {
     "data": {
      "text/html": [
       "<div>\n",
       "<table border=\"1\" class=\"dataframe\">\n",
       "  <thead>\n",
       "    <tr style=\"text-align: right;\">\n",
       "      <th></th>\n",
       "      <th>total_char</th>\n",
       "      <th>syl_sum</th>\n",
       "      <th>sentiment</th>\n",
       "    </tr>\n",
       "    <tr>\n",
       "      <th>cluster</th>\n",
       "      <th></th>\n",
       "      <th></th>\n",
       "      <th></th>\n",
       "    </tr>\n",
       "  </thead>\n",
       "  <tbody>\n",
       "    <tr>\n",
       "      <th>0</th>\n",
       "      <td>157.402827</td>\n",
       "      <td>48.459364</td>\n",
       "      <td>0.103457</td>\n",
       "    </tr>\n",
       "    <tr>\n",
       "      <th>1</th>\n",
       "      <td>29.578658</td>\n",
       "      <td>9.297030</td>\n",
       "      <td>-0.034261</td>\n",
       "    </tr>\n",
       "    <tr>\n",
       "      <th>2</th>\n",
       "      <td>87.723748</td>\n",
       "      <td>27.253635</td>\n",
       "      <td>-0.040968</td>\n",
       "    </tr>\n",
       "    <tr>\n",
       "      <th>3</th>\n",
       "      <td>91.284211</td>\n",
       "      <td>29.059649</td>\n",
       "      <td>0.462716</td>\n",
       "    </tr>\n",
       "    <tr>\n",
       "      <th>4</th>\n",
       "      <td>39.706294</td>\n",
       "      <td>12.811189</td>\n",
       "      <td>0.544628</td>\n",
       "    </tr>\n",
       "  </tbody>\n",
       "</table>\n",
       "</div>"
      ],
      "text/plain": [
       "         total_char    syl_sum  sentiment\n",
       "cluster                                  \n",
       "0        157.402827  48.459364   0.103457\n",
       "1         29.578658   9.297030  -0.034261\n",
       "2         87.723748  27.253635  -0.040968\n",
       "3         91.284211  29.059649   0.462716\n",
       "4         39.706294  12.811189   0.544628"
      ]
     },
     "execution_count": 142,
     "metadata": {},
     "output_type": "execute_result"
    }
   ],
   "source": [
    "wizard_cluster_5"
   ]
  },
  {
   "cell_type": "code",
   "execution_count": 143,
   "metadata": {
    "collapsed": true
   },
   "outputs": [],
   "source": [
    "wizard_cluster_5.to_csv('wizard_cluster_5.csv', index=False)"
   ]
  },
  {
   "cell_type": "code",
   "execution_count": 144,
   "metadata": {
    "collapsed": true
   },
   "outputs": [],
   "source": [
    "wizard_cluster_5 = pd.read_csv('wizard_cluster_5.csv')"
   ]
  },
  {
   "cell_type": "code",
   "execution_count": 145,
   "metadata": {
    "collapsed": false
   },
   "outputs": [
    {
     "data": {
      "text/html": [
       "<div>\n",
       "<table border=\"1\" class=\"dataframe\">\n",
       "  <thead>\n",
       "    <tr style=\"text-align: right;\">\n",
       "      <th></th>\n",
       "      <th>total_char</th>\n",
       "      <th>syl_sum</th>\n",
       "      <th>sentiment</th>\n",
       "    </tr>\n",
       "  </thead>\n",
       "  <tbody>\n",
       "    <tr>\n",
       "      <th>0</th>\n",
       "      <td>157.402827</td>\n",
       "      <td>48.459364</td>\n",
       "      <td>0.103457</td>\n",
       "    </tr>\n",
       "    <tr>\n",
       "      <th>1</th>\n",
       "      <td>29.578658</td>\n",
       "      <td>9.297030</td>\n",
       "      <td>-0.034261</td>\n",
       "    </tr>\n",
       "    <tr>\n",
       "      <th>2</th>\n",
       "      <td>87.723748</td>\n",
       "      <td>27.253635</td>\n",
       "      <td>-0.040968</td>\n",
       "    </tr>\n",
       "    <tr>\n",
       "      <th>3</th>\n",
       "      <td>91.284211</td>\n",
       "      <td>29.059649</td>\n",
       "      <td>0.462716</td>\n",
       "    </tr>\n",
       "    <tr>\n",
       "      <th>4</th>\n",
       "      <td>39.706294</td>\n",
       "      <td>12.811189</td>\n",
       "      <td>0.544628</td>\n",
       "    </tr>\n",
       "  </tbody>\n",
       "</table>\n",
       "</div>"
      ],
      "text/plain": [
       "   total_char    syl_sum  sentiment\n",
       "0  157.402827  48.459364   0.103457\n",
       "1   29.578658   9.297030  -0.034261\n",
       "2   87.723748  27.253635  -0.040968\n",
       "3   91.284211  29.059649   0.462716\n",
       "4   39.706294  12.811189   0.544628"
      ]
     },
     "execution_count": 145,
     "metadata": {},
     "output_type": "execute_result"
    }
   ],
   "source": [
    "wizard_cluster_5"
   ]
  },
  {
   "cell_type": "code",
   "execution_count": 148,
   "metadata": {
    "collapsed": false
   },
   "outputs": [
    {
     "data": {
      "text/plain": [
       "157.402826855"
      ]
     },
     "execution_count": 148,
     "metadata": {},
     "output_type": "execute_result"
    }
   ],
   "source": [
    "wizard_cluster_5['total_char'][0]"
   ]
  },
  {
   "cell_type": "code",
   "execution_count": null,
   "metadata": {
    "collapsed": true
   },
   "outputs": [],
   "source": [
    "matches = []\n",
    "for x in range(0,5):\n",
    "    if (c['total_char'][x] == c2['total_char'][2]) & (c['sentiment'][x] == c2['sentiment'][2]):\n",
    "        matches.append(1)\n",
    "        print c['total_char'][x]\n",
    "        print c['sentiment'][x]\n",
    "        print x\n",
    "    else:\n",
    "        matches.append(0)"
   ]
  }
 ],
 "metadata": {
  "kernelspec": {
   "display_name": "Python 2",
   "language": "python",
   "name": "python2"
  },
  "language_info": {
   "codemirror_mode": {
    "name": "ipython",
    "version": 2
   },
   "file_extension": ".py",
   "mimetype": "text/x-python",
   "name": "python",
   "nbconvert_exporter": "python",
   "pygments_lexer": "ipython2",
   "version": "2.7.11"
  }
 },
 "nbformat": 4,
 "nbformat_minor": 0
}
