{
 "cells": [
  {
   "cell_type": "code",
   "execution_count": 1,
   "metadata": {
    "collapsed": true
   },
   "outputs": [],
   "source": [
    "import pandas as pd\n",
    "from textblob import TextBlob\n",
    "import csv\n",
    "from gutenberg.acquire import load_etext\n",
    "from gutenberg.cleanup import strip_headers\n",
    "import os\n",
    "import numpy as np"
   ]
  },
  {
   "cell_type": "code",
   "execution_count": 2,
   "metadata": {
    "collapsed": true
   },
   "outputs": [],
   "source": [
    "import seaborn as sns\n",
    "import matplotlib.pyplot as plt\n",
    "%matplotlib inline\n",
    "plt.rcParams['figure.figsize'] = (8, 6)\n",
    "plt.rcParams['font.size'] = 14"
   ]
  },
  {
   "cell_type": "code",
   "execution_count": 3,
   "metadata": {
    "collapsed": true
   },
   "outputs": [],
   "source": [
    "n = 1727\n",
    "t = 'Odyssey'\n",
    "s = 2"
   ]
  },
  {
   "cell_type": "code",
   "execution_count": 4,
   "metadata": {
    "collapsed": false
   },
   "outputs": [],
   "source": [
    "novel = strip_headers(load_etext(n))\n",
    "novel = novel.replace('\\n', ' ')\n",
    "novel= TextBlob(novel)\n",
    "novel_sentences = novel.sentences\n",
    "novel_title = t"
   ]
  },
  {
   "cell_type": "code",
   "execution_count": 19,
   "metadata": {
    "collapsed": true
   },
   "outputs": [],
   "source": [
    "for l in range(2):\n",
    "    novelWriter = csv.writer(open('novel_'+novel_title+'3.csv', 'w'), delimiter=',')\n",
    "    for sentence in novel_sentences:\n",
    "        novelWriter.writerow([sentence])"
   ]
  },
  {
   "cell_type": "code",
   "execution_count": 5,
   "metadata": {
    "collapsed": false
   },
   "outputs": [],
   "source": [
    "df_novel = pd.read_csv('novel_'+novel_title+'3.csv', skiprows = s, header=None)"
   ]
  },
  {
   "cell_type": "code",
   "execution_count": 6,
   "metadata": {
    "collapsed": false
   },
   "outputs": [
    {
     "data": {
      "text/html": [
       "<div>\n",
       "<table border=\"1\" class=\"dataframe\">\n",
       "  <thead>\n",
       "    <tr style=\"text-align: right;\">\n",
       "      <th></th>\n",
       "      <th>0</th>\n",
       "    </tr>\n",
       "  </thead>\n",
       "  <tbody>\n",
       "    <tr>\n",
       "      <th>0</th>\n",
       "      <td>I shall not here argue the two main points dea...</td>\n",
       "    </tr>\n",
       "    <tr>\n",
       "      <th>1</th>\n",
       "      <td>The points in question are:  (1) that the \"Ody...</td>\n",
       "    </tr>\n",
       "    <tr>\n",
       "      <th>2</th>\n",
       "      <td>(2) That the poem was entirely written by a ve...</td>\n",
       "    </tr>\n",
       "    <tr>\n",
       "      <th>3</th>\n",
       "      <td>The main arguments on which I base the first o...</td>\n",
       "    </tr>\n",
       "    <tr>\n",
       "      <th>4</th>\n",
       "      <td>Both contentions were urged (also without rejo...</td>\n",
       "    </tr>\n",
       "  </tbody>\n",
       "</table>\n",
       "</div>"
      ],
      "text/plain": [
       "                                                   0\n",
       "0  I shall not here argue the two main points dea...\n",
       "1  The points in question are:  (1) that the \"Ody...\n",
       "2  (2) That the poem was entirely written by a ve...\n",
       "3  The main arguments on which I base the first o...\n",
       "4  Both contentions were urged (also without rejo..."
      ]
     },
     "execution_count": 6,
     "metadata": {},
     "output_type": "execute_result"
    }
   ],
   "source": [
    "df_novel.head()"
   ]
  },
  {
   "cell_type": "code",
   "execution_count": 67,
   "metadata": {
    "collapsed": false
   },
   "outputs": [
    {
     "data": {
      "text/plain": [
       "4492"
      ]
     },
     "execution_count": 67,
     "metadata": {},
     "output_type": "execute_result"
    }
   ],
   "source": [
    "len(df_novel)"
   ]
  },
  {
   "cell_type": "code",
   "execution_count": 7,
   "metadata": {
    "collapsed": true
   },
   "outputs": [],
   "source": [
    "wrd_length = []\n",
    "total_char = []\n",
    "def wrd_char_counts(sentence):\n",
    "    total_chars = 0\n",
    "    wrd_counts = []\n",
    "    for word in sentence:\n",
    "        char_count = len(word)\n",
    "        wrd_counts.append(char_count)\n",
    "        total_chars += char_count\n",
    "    total_char.append(total_chars)\n",
    "    wrd_length.append(wrd_counts)"
   ]
  },
  {
   "cell_type": "code",
   "execution_count": 8,
   "metadata": {
    "collapsed": true
   },
   "outputs": [],
   "source": [
    "for l in df_novel[0]:\n",
    "    sent = TextBlob(l)\n",
    "    wrd_char_counts(sent.words)"
   ]
  },
  {
   "cell_type": "code",
   "execution_count": 9,
   "metadata": {
    "collapsed": true
   },
   "outputs": [],
   "source": [
    "df_novel['wrd_length'] = wrd_length\n",
    "df_novel['total_char'] = total_char"
   ]
  },
  {
   "cell_type": "code",
   "execution_count": 10,
   "metadata": {
    "collapsed": false
   },
   "outputs": [
    {
     "data": {
      "text/html": [
       "<div>\n",
       "<table border=\"1\" class=\"dataframe\">\n",
       "  <thead>\n",
       "    <tr style=\"text-align: right;\">\n",
       "      <th></th>\n",
       "      <th>0</th>\n",
       "      <th>wrd_length</th>\n",
       "      <th>total_char</th>\n",
       "    </tr>\n",
       "  </thead>\n",
       "  <tbody>\n",
       "    <tr>\n",
       "      <th>0</th>\n",
       "      <td>I shall not here argue the two main points dea...</td>\n",
       "      <td>[1, 5, 3, 4, 5, 3, 3, 4, 6, 5, 4, 2, 3, 4, 4, ...</td>\n",
       "      <td>127</td>\n",
       "    </tr>\n",
       "    <tr>\n",
       "      <th>1</th>\n",
       "      <td>The points in question are:  (1) that the \"Ody...</td>\n",
       "      <td>[3, 6, 2, 8, 3, 1, 4, 3, 7, 3, 7, 8, 2, 3, 5, ...</td>\n",
       "      <td>363</td>\n",
       "    </tr>\n",
       "    <tr>\n",
       "      <th>2</th>\n",
       "      <td>(2) That the poem was entirely written by a ve...</td>\n",
       "      <td>[1, 4, 3, 4, 3, 8, 7, 2, 1, 4, 5, 5, 3, 5, 2, ...</td>\n",
       "      <td>134</td>\n",
       "    </tr>\n",
       "    <tr>\n",
       "      <th>3</th>\n",
       "      <td>The main arguments on which I base the first o...</td>\n",
       "      <td>[3, 4, 9, 2, 5, 1, 4, 3, 5, 2, 5, 8, 9, 11, 4,...</td>\n",
       "      <td>215</td>\n",
       "    </tr>\n",
       "    <tr>\n",
       "      <th>4</th>\n",
       "      <td>Both contentions were urged (also without rejo...</td>\n",
       "      <td>[4, 11, 4, 5, 4, 7, 9, 2, 3, 7, 5, 3, 3, 4, 3,...</td>\n",
       "      <td>99</td>\n",
       "    </tr>\n",
       "  </tbody>\n",
       "</table>\n",
       "</div>"
      ],
      "text/plain": [
       "                                                   0  \\\n",
       "0  I shall not here argue the two main points dea...   \n",
       "1  The points in question are:  (1) that the \"Ody...   \n",
       "2  (2) That the poem was entirely written by a ve...   \n",
       "3  The main arguments on which I base the first o...   \n",
       "4  Both contentions were urged (also without rejo...   \n",
       "\n",
       "                                          wrd_length  total_char  \n",
       "0  [1, 5, 3, 4, 5, 3, 3, 4, 6, 5, 4, 2, 3, 4, 4, ...         127  \n",
       "1  [3, 6, 2, 8, 3, 1, 4, 3, 7, 3, 7, 8, 2, 3, 5, ...         363  \n",
       "2  [1, 4, 3, 4, 3, 8, 7, 2, 1, 4, 5, 5, 3, 5, 2, ...         134  \n",
       "3  [3, 4, 9, 2, 5, 1, 4, 3, 5, 2, 5, 8, 9, 11, 4,...         215  \n",
       "4  [4, 11, 4, 5, 4, 7, 9, 2, 3, 7, 5, 3, 3, 4, 3,...          99  "
      ]
     },
     "execution_count": 10,
     "metadata": {},
     "output_type": "execute_result"
    }
   ],
   "source": [
    "df_novel.head()"
   ]
  },
  {
   "cell_type": "code",
   "execution_count": 11,
   "metadata": {
    "collapsed": true
   },
   "outputs": [],
   "source": [
    "def CountSyllables(word, isName=True):\n",
    "    vowels = \"aeiouy\"\n",
    "    #single syllables in words like bread and lead, but split in names like Breanne and Adreann\n",
    "    specials = [\"ia\",\"ea\"] if isName else [\"ia\"]\n",
    "    specials_except_end = [\"ie\",\"ya\",\"es\",\"ed\"]  #seperate syllables unless ending the word\n",
    "    currentWord = word.lower()\n",
    "    numVowels = 0\n",
    "    lastWasVowel = False\n",
    "    last_letter = \"\"\n",
    "\n",
    "    for letter in currentWord:\n",
    "        if letter in vowels:\n",
    "            #don't count diphthongs unless special cases\n",
    "            combo = last_letter+letter\n",
    "            if lastWasVowel and combo not in specials and combo not in specials_except_end:\n",
    "                lastWasVowel = True\n",
    "            else:\n",
    "                numVowels += 1\n",
    "                lastWasVowel = True\n",
    "        else:\n",
    "            lastWasVowel = False\n",
    "\n",
    "        last_letter = letter\n",
    "\n",
    "    #remove es & ed which are usually silent\n",
    "    if len(currentWord) > 2 and currentWord[-2:] in specials_except_end:\n",
    "        numVowels -= 1\n",
    "\n",
    "    #remove silent single e, but not ee since it counted it before and we should be correct\n",
    "    elif len(currentWord) > 2 and currentWord[-1:] == \"e\" and currentWord[-2:] != \"ee\" and currentWord != 'the':\n",
    "        numVowels -= 1\n",
    "\n",
    "    return numVowels"
   ]
  },
  {
   "cell_type": "code",
   "execution_count": 12,
   "metadata": {
    "collapsed": true
   },
   "outputs": [],
   "source": [
    "syl = []\n",
    "for l in df_novel[0]:\n",
    "    sent = TextBlob(l)\n",
    "    syl_single = []\n",
    "    for x in sent.words:\n",
    "        m = CountSyllables(x)\n",
    "        syl_single.append(m)\n",
    "    syl.append(syl_single)    "
   ]
  },
  {
   "cell_type": "code",
   "execution_count": 13,
   "metadata": {
    "collapsed": true
   },
   "outputs": [],
   "source": [
    "syl_count_arr = []\n",
    "for n in syl:\n",
    "    n = np.array(n)\n",
    "    syl_count_arr.append(n)"
   ]
  },
  {
   "cell_type": "code",
   "execution_count": 14,
   "metadata": {
    "collapsed": false
   },
   "outputs": [],
   "source": [
    "df_novel['syl_count'] = syl_count_arr"
   ]
  },
  {
   "cell_type": "code",
   "execution_count": 15,
   "metadata": {
    "collapsed": false
   },
   "outputs": [
    {
     "data": {
      "text/html": [
       "<div>\n",
       "<table border=\"1\" class=\"dataframe\">\n",
       "  <thead>\n",
       "    <tr style=\"text-align: right;\">\n",
       "      <th></th>\n",
       "      <th>0</th>\n",
       "      <th>wrd_length</th>\n",
       "      <th>total_char</th>\n",
       "      <th>syl_count</th>\n",
       "    </tr>\n",
       "  </thead>\n",
       "  <tbody>\n",
       "    <tr>\n",
       "      <th>0</th>\n",
       "      <td>I shall not here argue the two main points dea...</td>\n",
       "      <td>[1, 5, 3, 4, 5, 3, 3, 4, 6, 5, 4, 2, 3, 4, 4, ...</td>\n",
       "      <td>127</td>\n",
       "      <td>[1, 1, 1, 1, 1, 1, 1, 1, 1, 2, 1, 1, 1, 1, 1, ...</td>\n",
       "    </tr>\n",
       "    <tr>\n",
       "      <th>1</th>\n",
       "      <td>The points in question are:  (1) that the \"Ody...</td>\n",
       "      <td>[3, 6, 2, 8, 3, 1, 4, 3, 7, 3, 7, 8, 2, 3, 5, ...</td>\n",
       "      <td>363</td>\n",
       "      <td>[1, 1, 1, 2, 1, 0, 1, 1, 3, 1, 2, 4, 1, 1, 1, ...</td>\n",
       "    </tr>\n",
       "    <tr>\n",
       "      <th>2</th>\n",
       "      <td>(2) That the poem was entirely written by a ve...</td>\n",
       "      <td>[1, 4, 3, 4, 3, 8, 7, 2, 1, 4, 5, 5, 3, 5, 2, ...</td>\n",
       "      <td>134</td>\n",
       "      <td>[0, 1, 1, 1, 1, 4, 2, 1, 1, 2, 1, 2, 1, 1, 1, ...</td>\n",
       "    </tr>\n",
       "    <tr>\n",
       "      <th>3</th>\n",
       "      <td>The main arguments on which I base the first o...</td>\n",
       "      <td>[3, 4, 9, 2, 5, 1, 4, 3, 5, 2, 5, 8, 9, 11, 4,...</td>\n",
       "      <td>215</td>\n",
       "      <td>[1, 1, 3, 1, 1, 1, 1, 1, 1, 1, 1, 3, 2, 3, 1, ...</td>\n",
       "    </tr>\n",
       "    <tr>\n",
       "      <th>4</th>\n",
       "      <td>Both contentions were urged (also without rejo...</td>\n",
       "      <td>[4, 11, 4, 5, 4, 7, 9, 2, 3, 7, 5, 3, 3, 4, 3,...</td>\n",
       "      <td>99</td>\n",
       "      <td>[1, 3, 1, 1, 2, 2, 3, 1, 1, 3, 2, 1, 1, 1, 1, ...</td>\n",
       "    </tr>\n",
       "  </tbody>\n",
       "</table>\n",
       "</div>"
      ],
      "text/plain": [
       "                                                   0  \\\n",
       "0  I shall not here argue the two main points dea...   \n",
       "1  The points in question are:  (1) that the \"Ody...   \n",
       "2  (2) That the poem was entirely written by a ve...   \n",
       "3  The main arguments on which I base the first o...   \n",
       "4  Both contentions were urged (also without rejo...   \n",
       "\n",
       "                                          wrd_length  total_char  \\\n",
       "0  [1, 5, 3, 4, 5, 3, 3, 4, 6, 5, 4, 2, 3, 4, 4, ...         127   \n",
       "1  [3, 6, 2, 8, 3, 1, 4, 3, 7, 3, 7, 8, 2, 3, 5, ...         363   \n",
       "2  [1, 4, 3, 4, 3, 8, 7, 2, 1, 4, 5, 5, 3, 5, 2, ...         134   \n",
       "3  [3, 4, 9, 2, 5, 1, 4, 3, 5, 2, 5, 8, 9, 11, 4,...         215   \n",
       "4  [4, 11, 4, 5, 4, 7, 9, 2, 3, 7, 5, 3, 3, 4, 3,...          99   \n",
       "\n",
       "                                           syl_count  \n",
       "0  [1, 1, 1, 1, 1, 1, 1, 1, 1, 2, 1, 1, 1, 1, 1, ...  \n",
       "1  [1, 1, 1, 2, 1, 0, 1, 1, 3, 1, 2, 4, 1, 1, 1, ...  \n",
       "2  [0, 1, 1, 1, 1, 4, 2, 1, 1, 2, 1, 2, 1, 1, 1, ...  \n",
       "3  [1, 1, 3, 1, 1, 1, 1, 1, 1, 1, 1, 3, 2, 3, 1, ...  \n",
       "4  [1, 3, 1, 1, 2, 2, 3, 1, 1, 3, 2, 1, 1, 1, 1, ...  "
      ]
     },
     "execution_count": 15,
     "metadata": {},
     "output_type": "execute_result"
    }
   ],
   "source": [
    "df_novel.head()"
   ]
  },
  {
   "cell_type": "code",
   "execution_count": 16,
   "metadata": {
    "collapsed": true
   },
   "outputs": [],
   "source": [
    "syl_sum = []\n",
    "for l in range(0,len(df_novel)):\n",
    "    syl_sum.append(df_novel['syl_count'][l].sum())"
   ]
  },
  {
   "cell_type": "code",
   "execution_count": 17,
   "metadata": {
    "collapsed": true
   },
   "outputs": [],
   "source": [
    "df_novel['syl_sum'] = syl_sum"
   ]
  },
  {
   "cell_type": "code",
   "execution_count": 18,
   "metadata": {
    "collapsed": true
   },
   "outputs": [],
   "source": [
    "def detect_sentiment(text):\n",
    "    return TextBlob(text.decode('utf-8')).sentiment.polarity"
   ]
  },
  {
   "cell_type": "code",
   "execution_count": 81,
   "metadata": {
    "collapsed": true
   },
   "outputs": [],
   "source": [
    "df_novel['sentiment'] = df_novel[0].apply(detect_sentiment)"
   ]
  },
  {
   "cell_type": "code",
   "execution_count": 83,
   "metadata": {
    "collapsed": false
   },
   "outputs": [
    {
     "data": {
      "text/html": [
       "<div>\n",
       "<table border=\"1\" class=\"dataframe\">\n",
       "  <thead>\n",
       "    <tr style=\"text-align: right;\">\n",
       "      <th></th>\n",
       "      <th>0</th>\n",
       "      <th>wrd_length</th>\n",
       "      <th>total_char</th>\n",
       "      <th>syl_count</th>\n",
       "      <th>syl_sum</th>\n",
       "      <th>sentiment</th>\n",
       "    </tr>\n",
       "  </thead>\n",
       "  <tbody>\n",
       "    <tr>\n",
       "      <th>3928</th>\n",
       "      <td>\"Od.\"</td>\n",
       "      <td>[2]</td>\n",
       "      <td>2</td>\n",
       "      <td>[1]</td>\n",
       "      <td>1</td>\n",
       "      <td>0.0</td>\n",
       "    </tr>\n",
       "    <tr>\n",
       "      <th>3929</th>\n",
       "      <td>iii.</td>\n",
       "      <td>[3]</td>\n",
       "      <td>3</td>\n",
       "      <td>[1]</td>\n",
       "      <td>1</td>\n",
       "      <td>0.0</td>\n",
       "    </tr>\n",
       "    <tr>\n",
       "      <th>3933</th>\n",
       "      <td>ii.</td>\n",
       "      <td>[2]</td>\n",
       "      <td>2</td>\n",
       "      <td>[1]</td>\n",
       "      <td>1</td>\n",
       "      <td>0.0</td>\n",
       "    </tr>\n",
       "    <tr>\n",
       "      <th>3936</th>\n",
       "      <td>i.</td>\n",
       "      <td>[1]</td>\n",
       "      <td>1</td>\n",
       "      <td>[1]</td>\n",
       "      <td>1</td>\n",
       "      <td>0.0</td>\n",
       "    </tr>\n",
       "    <tr>\n",
       "      <th>3937</th>\n",
       "      <td>365.</td>\n",
       "      <td>[3]</td>\n",
       "      <td>3</td>\n",
       "      <td>[0]</td>\n",
       "      <td>0</td>\n",
       "      <td>0.0</td>\n",
       "    </tr>\n",
       "    <tr>\n",
       "      <th>3942</th>\n",
       "      <td>\"Il.\"</td>\n",
       "      <td>[2]</td>\n",
       "      <td>2</td>\n",
       "      <td>[1]</td>\n",
       "      <td>1</td>\n",
       "      <td>0.0</td>\n",
       "    </tr>\n",
       "    <tr>\n",
       "      <th>3943</th>\n",
       "      <td>vi.</td>\n",
       "      <td>[2]</td>\n",
       "      <td>2</td>\n",
       "      <td>[1]</td>\n",
       "      <td>1</td>\n",
       "      <td>0.0</td>\n",
       "    </tr>\n",
       "    <tr>\n",
       "      <th>3966</th>\n",
       "      <td>416.</td>\n",
       "      <td>[3]</td>\n",
       "      <td>3</td>\n",
       "      <td>[0]</td>\n",
       "      <td>0</td>\n",
       "      <td>0.0</td>\n",
       "    </tr>\n",
       "    <tr>\n",
       "      <th>3971</th>\n",
       "      <td>\"Il.\"</td>\n",
       "      <td>[2]</td>\n",
       "      <td>2</td>\n",
       "      <td>[1]</td>\n",
       "      <td>1</td>\n",
       "      <td>0.0</td>\n",
       "    </tr>\n",
       "    <tr>\n",
       "      <th>3972</th>\n",
       "      <td>ii.</td>\n",
       "      <td>[2]</td>\n",
       "      <td>2</td>\n",
       "      <td>[1]</td>\n",
       "      <td>1</td>\n",
       "      <td>0.0</td>\n",
       "    </tr>\n",
       "    <tr>\n",
       "      <th>3973</th>\n",
       "      <td>76.</td>\n",
       "      <td>[2]</td>\n",
       "      <td>2</td>\n",
       "      <td>[0]</td>\n",
       "      <td>0</td>\n",
       "      <td>0.0</td>\n",
       "    </tr>\n",
       "    <tr>\n",
       "      <th>3983</th>\n",
       "      <td>\"Il.\"</td>\n",
       "      <td>[2]</td>\n",
       "      <td>2</td>\n",
       "      <td>[1]</td>\n",
       "      <td>1</td>\n",
       "      <td>0.0</td>\n",
       "    </tr>\n",
       "    <tr>\n",
       "      <th>3998</th>\n",
       "      <td>\"Il.\"</td>\n",
       "      <td>[2]</td>\n",
       "      <td>2</td>\n",
       "      <td>[1]</td>\n",
       "      <td>1</td>\n",
       "      <td>0.0</td>\n",
       "    </tr>\n",
       "    <tr>\n",
       "      <th>4000</th>\n",
       "      <td>567.</td>\n",
       "      <td>[3]</td>\n",
       "      <td>3</td>\n",
       "      <td>[0]</td>\n",
       "      <td>0</td>\n",
       "      <td>0.0</td>\n",
       "    </tr>\n",
       "    <tr>\n",
       "      <th>4002</th>\n",
       "      <td>\"Od.\"</td>\n",
       "      <td>[2]</td>\n",
       "      <td>2</td>\n",
       "      <td>[1]</td>\n",
       "      <td>1</td>\n",
       "      <td>0.0</td>\n",
       "    </tr>\n",
       "    <tr>\n",
       "      <th>4015</th>\n",
       "      <td>\"Il.\"</td>\n",
       "      <td>[2]</td>\n",
       "      <td>2</td>\n",
       "      <td>[1]</td>\n",
       "      <td>1</td>\n",
       "      <td>0.0</td>\n",
       "    </tr>\n",
       "    <tr>\n",
       "      <th>4017</th>\n",
       "      <td>421.</td>\n",
       "      <td>[3]</td>\n",
       "      <td>3</td>\n",
       "      <td>[0]</td>\n",
       "      <td>0</td>\n",
       "      <td>0.0</td>\n",
       "    </tr>\n",
       "    <tr>\n",
       "      <th>4021</th>\n",
       "      <td>\"Il.\"</td>\n",
       "      <td>[2]</td>\n",
       "      <td>2</td>\n",
       "      <td>[1]</td>\n",
       "      <td>1</td>\n",
       "      <td>0.0</td>\n",
       "    </tr>\n",
       "    <tr>\n",
       "      <th>4037</th>\n",
       "      <td>iv.</td>\n",
       "      <td>[2]</td>\n",
       "      <td>2</td>\n",
       "      <td>[1]</td>\n",
       "      <td>1</td>\n",
       "      <td>0.0</td>\n",
       "    </tr>\n",
       "    <tr>\n",
       "      <th>4039</th>\n",
       "      <td>xv.</td>\n",
       "      <td>[2]</td>\n",
       "      <td>2</td>\n",
       "      <td>[0]</td>\n",
       "      <td>0</td>\n",
       "      <td>0.0</td>\n",
       "    </tr>\n",
       "    <tr>\n",
       "      <th>4041</th>\n",
       "      <td>xv.</td>\n",
       "      <td>[2]</td>\n",
       "      <td>2</td>\n",
       "      <td>[0]</td>\n",
       "      <td>0</td>\n",
       "      <td>0.0</td>\n",
       "    </tr>\n",
       "    <tr>\n",
       "      <th>4050</th>\n",
       "      <td>ii.</td>\n",
       "      <td>[2]</td>\n",
       "      <td>2</td>\n",
       "      <td>[1]</td>\n",
       "      <td>1</td>\n",
       "      <td>0.0</td>\n",
       "    </tr>\n",
       "    <tr>\n",
       "      <th>4068</th>\n",
       "      <td>vi.</td>\n",
       "      <td>[2]</td>\n",
       "      <td>2</td>\n",
       "      <td>[1]</td>\n",
       "      <td>1</td>\n",
       "      <td>0.0</td>\n",
       "    </tr>\n",
       "    <tr>\n",
       "      <th>4098</th>\n",
       "      <td>ix.</td>\n",
       "      <td>[2]</td>\n",
       "      <td>2</td>\n",
       "      <td>[1]</td>\n",
       "      <td>1</td>\n",
       "      <td>0.0</td>\n",
       "    </tr>\n",
       "    <tr>\n",
       "      <th>4118</th>\n",
       "      <td>ix.</td>\n",
       "      <td>[2]</td>\n",
       "      <td>2</td>\n",
       "      <td>[1]</td>\n",
       "      <td>1</td>\n",
       "      <td>0.0</td>\n",
       "    </tr>\n",
       "    <tr>\n",
       "      <th>4143</th>\n",
       "      <td>iii.</td>\n",
       "      <td>[3]</td>\n",
       "      <td>3</td>\n",
       "      <td>[1]</td>\n",
       "      <td>1</td>\n",
       "      <td>0.0</td>\n",
       "    </tr>\n",
       "    <tr>\n",
       "      <th>4150</th>\n",
       "      <td>37.</td>\n",
       "      <td>[2]</td>\n",
       "      <td>2</td>\n",
       "      <td>[0]</td>\n",
       "      <td>0</td>\n",
       "      <td>0.0</td>\n",
       "    </tr>\n",
       "    <tr>\n",
       "      <th>4162</th>\n",
       "      <td>iv.</td>\n",
       "      <td>[2]</td>\n",
       "      <td>2</td>\n",
       "      <td>[1]</td>\n",
       "      <td>1</td>\n",
       "      <td>0.0</td>\n",
       "    </tr>\n",
       "    <tr>\n",
       "      <th>4170</th>\n",
       "      <td>\"Il.\"</td>\n",
       "      <td>[2]</td>\n",
       "      <td>2</td>\n",
       "      <td>[1]</td>\n",
       "      <td>1</td>\n",
       "      <td>0.0</td>\n",
       "    </tr>\n",
       "    <tr>\n",
       "      <th>4171</th>\n",
       "      <td>ii.</td>\n",
       "      <td>[2]</td>\n",
       "      <td>2</td>\n",
       "      <td>[1]</td>\n",
       "      <td>1</td>\n",
       "      <td>0.0</td>\n",
       "    </tr>\n",
       "    <tr>\n",
       "      <th>4172</th>\n",
       "      <td>776.</td>\n",
       "      <td>[3]</td>\n",
       "      <td>3</td>\n",
       "      <td>[0]</td>\n",
       "      <td>0</td>\n",
       "      <td>0.0</td>\n",
       "    </tr>\n",
       "    <tr>\n",
       "      <th>4193</th>\n",
       "      <td>141.</td>\n",
       "      <td>[3]</td>\n",
       "      <td>3</td>\n",
       "      <td>[0]</td>\n",
       "      <td>0</td>\n",
       "      <td>0.0</td>\n",
       "    </tr>\n",
       "    <tr>\n",
       "      <th>4204</th>\n",
       "      <td>57.</td>\n",
       "      <td>[2]</td>\n",
       "      <td>2</td>\n",
       "      <td>[0]</td>\n",
       "      <td>0</td>\n",
       "      <td>0.0</td>\n",
       "    </tr>\n",
       "    <tr>\n",
       "      <th>4215</th>\n",
       "      <td>349.</td>\n",
       "      <td>[3]</td>\n",
       "      <td>3</td>\n",
       "      <td>[0]</td>\n",
       "      <td>0</td>\n",
       "      <td>0.0</td>\n",
       "    </tr>\n",
       "    <tr>\n",
       "      <th>4233</th>\n",
       "      <td>Cf.</td>\n",
       "      <td>[2]</td>\n",
       "      <td>2</td>\n",
       "      <td>[0]</td>\n",
       "      <td>0</td>\n",
       "      <td>0.0</td>\n",
       "    </tr>\n",
       "    <tr>\n",
       "      <th>4240</th>\n",
       "      <td>xi.</td>\n",
       "      <td>[2]</td>\n",
       "      <td>2</td>\n",
       "      <td>[1]</td>\n",
       "      <td>1</td>\n",
       "      <td>0.0</td>\n",
       "    </tr>\n",
       "    <tr>\n",
       "      <th>4244</th>\n",
       "      <td>\"Il.\"</td>\n",
       "      <td>[2]</td>\n",
       "      <td>2</td>\n",
       "      <td>[1]</td>\n",
       "      <td>1</td>\n",
       "      <td>0.0</td>\n",
       "    </tr>\n",
       "    <tr>\n",
       "      <th>4245</th>\n",
       "      <td>iv.</td>\n",
       "      <td>[2]</td>\n",
       "      <td>2</td>\n",
       "      <td>[1]</td>\n",
       "      <td>1</td>\n",
       "      <td>0.0</td>\n",
       "    </tr>\n",
       "    <tr>\n",
       "      <th>4264</th>\n",
       "      <td>x.</td>\n",
       "      <td>[1]</td>\n",
       "      <td>1</td>\n",
       "      <td>[0]</td>\n",
       "      <td>0</td>\n",
       "      <td>0.0</td>\n",
       "    </tr>\n",
       "    <tr>\n",
       "      <th>4265</th>\n",
       "      <td>3).</td>\n",
       "      <td>[1]</td>\n",
       "      <td>1</td>\n",
       "      <td>[0]</td>\n",
       "      <td>0</td>\n",
       "      <td>0.0</td>\n",
       "    </tr>\n",
       "    <tr>\n",
       "      <th>4291</th>\n",
       "      <td>xi.</td>\n",
       "      <td>[2]</td>\n",
       "      <td>2</td>\n",
       "      <td>[1]</td>\n",
       "      <td>1</td>\n",
       "      <td>0.0</td>\n",
       "    </tr>\n",
       "    <tr>\n",
       "      <th>4317</th>\n",
       "      <td>vi.</td>\n",
       "      <td>[2]</td>\n",
       "      <td>2</td>\n",
       "      <td>[1]</td>\n",
       "      <td>1</td>\n",
       "      <td>0.0</td>\n",
       "    </tr>\n",
       "    <tr>\n",
       "      <th>4327</th>\n",
       "      <td>vi.</td>\n",
       "      <td>[2]</td>\n",
       "      <td>2</td>\n",
       "      <td>[1]</td>\n",
       "      <td>1</td>\n",
       "      <td>0.0</td>\n",
       "    </tr>\n",
       "    <tr>\n",
       "      <th>4339</th>\n",
       "      <td>vi.</td>\n",
       "      <td>[2]</td>\n",
       "      <td>2</td>\n",
       "      <td>[1]</td>\n",
       "      <td>1</td>\n",
       "      <td>0.0</td>\n",
       "    </tr>\n",
       "    <tr>\n",
       "      <th>4340</th>\n",
       "      <td>288.</td>\n",
       "      <td>[3]</td>\n",
       "      <td>3</td>\n",
       "      <td>[0]</td>\n",
       "      <td>0</td>\n",
       "      <td>0.0</td>\n",
       "    </tr>\n",
       "    <tr>\n",
       "      <th>4344</th>\n",
       "      <td>192.</td>\n",
       "      <td>[3]</td>\n",
       "      <td>3</td>\n",
       "      <td>[0]</td>\n",
       "      <td>0</td>\n",
       "      <td>0.0</td>\n",
       "    </tr>\n",
       "    <tr>\n",
       "      <th>4346</th>\n",
       "      <td>\"Il.\"</td>\n",
       "      <td>[2]</td>\n",
       "      <td>2</td>\n",
       "      <td>[1]</td>\n",
       "      <td>1</td>\n",
       "      <td>0.0</td>\n",
       "    </tr>\n",
       "    <tr>\n",
       "      <th>4347</th>\n",
       "      <td>vi.</td>\n",
       "      <td>[2]</td>\n",
       "      <td>2</td>\n",
       "      <td>[1]</td>\n",
       "      <td>1</td>\n",
       "      <td>0.0</td>\n",
       "    </tr>\n",
       "    <tr>\n",
       "      <th>4355</th>\n",
       "      <td>\"Od.\"</td>\n",
       "      <td>[2]</td>\n",
       "      <td>2</td>\n",
       "      <td>[1]</td>\n",
       "      <td>1</td>\n",
       "      <td>0.0</td>\n",
       "    </tr>\n",
       "    <tr>\n",
       "      <th>4356</th>\n",
       "      <td>xi.</td>\n",
       "      <td>[2]</td>\n",
       "      <td>2</td>\n",
       "      <td>[1]</td>\n",
       "      <td>1</td>\n",
       "      <td>0.0</td>\n",
       "    </tr>\n",
       "    <tr>\n",
       "      <th>4402</th>\n",
       "      <td>\"Il.\"</td>\n",
       "      <td>[2]</td>\n",
       "      <td>2</td>\n",
       "      <td>[1]</td>\n",
       "      <td>1</td>\n",
       "      <td>0.0</td>\n",
       "    </tr>\n",
       "    <tr>\n",
       "      <th>4403</th>\n",
       "      <td>ii.</td>\n",
       "      <td>[2]</td>\n",
       "      <td>2</td>\n",
       "      <td>[1]</td>\n",
       "      <td>1</td>\n",
       "      <td>0.0</td>\n",
       "    </tr>\n",
       "    <tr>\n",
       "      <th>4426</th>\n",
       "      <td>xx.</td>\n",
       "      <td>[2]</td>\n",
       "      <td>2</td>\n",
       "      <td>[0]</td>\n",
       "      <td>0</td>\n",
       "      <td>0.0</td>\n",
       "    </tr>\n",
       "    <tr>\n",
       "      <th>4427</th>\n",
       "      <td>259.</td>\n",
       "      <td>[3]</td>\n",
       "      <td>3</td>\n",
       "      <td>[0]</td>\n",
       "      <td>0</td>\n",
       "      <td>0.0</td>\n",
       "    </tr>\n",
       "    <tr>\n",
       "      <th>4440</th>\n",
       "      <td>\"Il.\"</td>\n",
       "      <td>[2]</td>\n",
       "      <td>2</td>\n",
       "      <td>[1]</td>\n",
       "      <td>1</td>\n",
       "      <td>0.0</td>\n",
       "    </tr>\n",
       "    <tr>\n",
       "      <th>4441</th>\n",
       "      <td>iii.</td>\n",
       "      <td>[3]</td>\n",
       "      <td>3</td>\n",
       "      <td>[1]</td>\n",
       "      <td>1</td>\n",
       "      <td>0.0</td>\n",
       "    </tr>\n",
       "    <tr>\n",
       "      <th>4476</th>\n",
       "      <td>\"It.\"</td>\n",
       "      <td>[2]</td>\n",
       "      <td>2</td>\n",
       "      <td>[1]</td>\n",
       "      <td>1</td>\n",
       "      <td>0.0</td>\n",
       "    </tr>\n",
       "    <tr>\n",
       "      <th>4478</th>\n",
       "      <td>598.</td>\n",
       "      <td>[3]</td>\n",
       "      <td>3</td>\n",
       "      <td>[0]</td>\n",
       "      <td>0</td>\n",
       "      <td>0.0</td>\n",
       "    </tr>\n",
       "  </tbody>\n",
       "</table>\n",
       "</div>"
      ],
      "text/plain": [
       "          0 wrd_length  total_char syl_count  syl_sum  sentiment\n",
       "3928  \"Od.\"        [2]           2       [1]        1        0.0\n",
       "3929   iii.        [3]           3       [1]        1        0.0\n",
       "3933    ii.        [2]           2       [1]        1        0.0\n",
       "3936     i.        [1]           1       [1]        1        0.0\n",
       "3937   365.        [3]           3       [0]        0        0.0\n",
       "3942  \"Il.\"        [2]           2       [1]        1        0.0\n",
       "3943    vi.        [2]           2       [1]        1        0.0\n",
       "3966   416.        [3]           3       [0]        0        0.0\n",
       "3971  \"Il.\"        [2]           2       [1]        1        0.0\n",
       "3972    ii.        [2]           2       [1]        1        0.0\n",
       "3973    76.        [2]           2       [0]        0        0.0\n",
       "3983  \"Il.\"        [2]           2       [1]        1        0.0\n",
       "3998  \"Il.\"        [2]           2       [1]        1        0.0\n",
       "4000   567.        [3]           3       [0]        0        0.0\n",
       "4002  \"Od.\"        [2]           2       [1]        1        0.0\n",
       "4015  \"Il.\"        [2]           2       [1]        1        0.0\n",
       "4017   421.        [3]           3       [0]        0        0.0\n",
       "4021  \"Il.\"        [2]           2       [1]        1        0.0\n",
       "4037    iv.        [2]           2       [1]        1        0.0\n",
       "4039    xv.        [2]           2       [0]        0        0.0\n",
       "4041    xv.        [2]           2       [0]        0        0.0\n",
       "4050    ii.        [2]           2       [1]        1        0.0\n",
       "4068    vi.        [2]           2       [1]        1        0.0\n",
       "4098    ix.        [2]           2       [1]        1        0.0\n",
       "4118    ix.        [2]           2       [1]        1        0.0\n",
       "4143   iii.        [3]           3       [1]        1        0.0\n",
       "4150    37.        [2]           2       [0]        0        0.0\n",
       "4162    iv.        [2]           2       [1]        1        0.0\n",
       "4170  \"Il.\"        [2]           2       [1]        1        0.0\n",
       "4171    ii.        [2]           2       [1]        1        0.0\n",
       "4172   776.        [3]           3       [0]        0        0.0\n",
       "4193   141.        [3]           3       [0]        0        0.0\n",
       "4204    57.        [2]           2       [0]        0        0.0\n",
       "4215   349.        [3]           3       [0]        0        0.0\n",
       "4233    Cf.        [2]           2       [0]        0        0.0\n",
       "4240    xi.        [2]           2       [1]        1        0.0\n",
       "4244  \"Il.\"        [2]           2       [1]        1        0.0\n",
       "4245    iv.        [2]           2       [1]        1        0.0\n",
       "4264     x.        [1]           1       [0]        0        0.0\n",
       "4265    3).        [1]           1       [0]        0        0.0\n",
       "4291    xi.        [2]           2       [1]        1        0.0\n",
       "4317    vi.        [2]           2       [1]        1        0.0\n",
       "4327    vi.        [2]           2       [1]        1        0.0\n",
       "4339    vi.        [2]           2       [1]        1        0.0\n",
       "4340   288.        [3]           3       [0]        0        0.0\n",
       "4344   192.        [3]           3       [0]        0        0.0\n",
       "4346  \"Il.\"        [2]           2       [1]        1        0.0\n",
       "4347    vi.        [2]           2       [1]        1        0.0\n",
       "4355  \"Od.\"        [2]           2       [1]        1        0.0\n",
       "4356    xi.        [2]           2       [1]        1        0.0\n",
       "4402  \"Il.\"        [2]           2       [1]        1        0.0\n",
       "4403    ii.        [2]           2       [1]        1        0.0\n",
       "4426    xx.        [2]           2       [0]        0        0.0\n",
       "4427   259.        [3]           3       [0]        0        0.0\n",
       "4440  \"Il.\"        [2]           2       [1]        1        0.0\n",
       "4441   iii.        [3]           3       [1]        1        0.0\n",
       "4476  \"It.\"        [2]           2       [1]        1        0.0\n",
       "4478   598.        [3]           3       [0]        0        0.0"
      ]
     },
     "execution_count": 83,
     "metadata": {},
     "output_type": "execute_result"
    }
   ],
   "source": [
    "df2 = df_novel[df_novel['total_char']<=3]\n",
    "df2"
   ]
  },
  {
   "cell_type": "code",
   "execution_count": 84,
   "metadata": {
    "collapsed": true
   },
   "outputs": [],
   "source": [
    "df = df_novel[df_novel['total_char']>3]"
   ]
  },
  {
   "cell_type": "code",
   "execution_count": 89,
   "metadata": {
    "collapsed": false
   },
   "outputs": [
    {
     "data": {
      "text/html": [
       "<div>\n",
       "<table border=\"1\" class=\"dataframe\">\n",
       "  <thead>\n",
       "    <tr style=\"text-align: right;\">\n",
       "      <th></th>\n",
       "      <th>0</th>\n",
       "      <th>wrd_length</th>\n",
       "      <th>total_char</th>\n",
       "      <th>syl_count</th>\n",
       "      <th>syl_sum</th>\n",
       "      <th>sentiment</th>\n",
       "    </tr>\n",
       "  </thead>\n",
       "  <tbody>\n",
       "    <tr>\n",
       "      <th>0</th>\n",
       "      <td>I shall not here argue the two main points dea...</td>\n",
       "      <td>[1, 5, 3, 4, 5, 3, 3, 4, 6, 5, 4, 2, 3, 4, 4, ...</td>\n",
       "      <td>127</td>\n",
       "      <td>[1, 1, 1, 1, 1, 1, 1, 1, 1, 2, 1, 1, 1, 1, 1, ...</td>\n",
       "      <td>38</td>\n",
       "      <td>0.166667</td>\n",
       "    </tr>\n",
       "    <tr>\n",
       "      <th>1</th>\n",
       "      <td>The points in question are:  (1) that the \"Ody...</td>\n",
       "      <td>[3, 6, 2, 8, 3, 1, 4, 3, 7, 3, 7, 8, 2, 3, 5, ...</td>\n",
       "      <td>363</td>\n",
       "      <td>[1, 1, 1, 2, 1, 0, 1, 1, 3, 1, 2, 4, 1, 1, 1, ...</td>\n",
       "      <td>129</td>\n",
       "      <td>-0.063333</td>\n",
       "    </tr>\n",
       "    <tr>\n",
       "      <th>2</th>\n",
       "      <td>(2) That the poem was entirely written by a ve...</td>\n",
       "      <td>[1, 4, 3, 4, 3, 8, 7, 2, 1, 4, 5, 5, 3, 5, 2, ...</td>\n",
       "      <td>134</td>\n",
       "      <td>[0, 1, 1, 1, 1, 4, 2, 1, 1, 2, 1, 2, 1, 1, 1, ...</td>\n",
       "      <td>45</td>\n",
       "      <td>0.065000</td>\n",
       "    </tr>\n",
       "    <tr>\n",
       "      <th>3</th>\n",
       "      <td>The main arguments on which I base the first o...</td>\n",
       "      <td>[3, 4, 9, 2, 5, 1, 4, 3, 5, 2, 5, 8, 9, 11, 4,...</td>\n",
       "      <td>215</td>\n",
       "      <td>[1, 1, 3, 1, 1, 1, 1, 1, 1, 1, 1, 3, 2, 3, 1, ...</td>\n",
       "      <td>70</td>\n",
       "      <td>-0.047917</td>\n",
       "    </tr>\n",
       "    <tr>\n",
       "      <th>4</th>\n",
       "      <td>Both contentions were urged (also without rejo...</td>\n",
       "      <td>[4, 11, 4, 5, 4, 7, 9, 2, 3, 7, 5, 3, 3, 4, 3,...</td>\n",
       "      <td>99</td>\n",
       "      <td>[1, 3, 1, 1, 2, 2, 3, 1, 1, 3, 2, 1, 1, 1, 1, ...</td>\n",
       "      <td>33</td>\n",
       "      <td>0.000000</td>\n",
       "    </tr>\n",
       "  </tbody>\n",
       "</table>\n",
       "</div>"
      ],
      "text/plain": [
       "                                                   0  \\\n",
       "0  I shall not here argue the two main points dea...   \n",
       "1  The points in question are:  (1) that the \"Ody...   \n",
       "2  (2) That the poem was entirely written by a ve...   \n",
       "3  The main arguments on which I base the first o...   \n",
       "4  Both contentions were urged (also without rejo...   \n",
       "\n",
       "                                          wrd_length  total_char  \\\n",
       "0  [1, 5, 3, 4, 5, 3, 3, 4, 6, 5, 4, 2, 3, 4, 4, ...         127   \n",
       "1  [3, 6, 2, 8, 3, 1, 4, 3, 7, 3, 7, 8, 2, 3, 5, ...         363   \n",
       "2  [1, 4, 3, 4, 3, 8, 7, 2, 1, 4, 5, 5, 3, 5, 2, ...         134   \n",
       "3  [3, 4, 9, 2, 5, 1, 4, 3, 5, 2, 5, 8, 9, 11, 4,...         215   \n",
       "4  [4, 11, 4, 5, 4, 7, 9, 2, 3, 7, 5, 3, 3, 4, 3,...          99   \n",
       "\n",
       "                                           syl_count  syl_sum  sentiment  \n",
       "0  [1, 1, 1, 1, 1, 1, 1, 1, 1, 2, 1, 1, 1, 1, 1, ...       38   0.166667  \n",
       "1  [1, 1, 1, 2, 1, 0, 1, 1, 3, 1, 2, 4, 1, 1, 1, ...      129  -0.063333  \n",
       "2  [0, 1, 1, 1, 1, 4, 2, 1, 1, 2, 1, 2, 1, 1, 1, ...       45   0.065000  \n",
       "3  [1, 1, 3, 1, 1, 1, 1, 1, 1, 1, 1, 3, 2, 3, 1, ...       70  -0.047917  \n",
       "4  [1, 3, 1, 1, 2, 2, 3, 1, 1, 3, 2, 1, 1, 1, 1, ...       33   0.000000  "
      ]
     },
     "execution_count": 89,
     "metadata": {},
     "output_type": "execute_result"
    }
   ],
   "source": [
    "df.head()"
   ]
  },
  {
   "cell_type": "code",
   "execution_count": 88,
   "metadata": {
    "collapsed": false
   },
   "outputs": [],
   "source": [
    "df_cluster = df.drop('wrd_length', 1)"
   ]
  },
  {
   "cell_type": "code",
   "execution_count": 90,
   "metadata": {
    "collapsed": false
   },
   "outputs": [],
   "source": [
    "df_cluster = df_cluster.drop('syl_count', 1)"
   ]
  },
  {
   "cell_type": "code",
   "execution_count": 91,
   "metadata": {
    "collapsed": false
   },
   "outputs": [
    {
     "data": {
      "text/html": [
       "<div>\n",
       "<table border=\"1\" class=\"dataframe\">\n",
       "  <thead>\n",
       "    <tr style=\"text-align: right;\">\n",
       "      <th></th>\n",
       "      <th>0</th>\n",
       "      <th>total_char</th>\n",
       "      <th>syl_sum</th>\n",
       "      <th>sentiment</th>\n",
       "    </tr>\n",
       "  </thead>\n",
       "  <tbody>\n",
       "    <tr>\n",
       "      <th>0</th>\n",
       "      <td>I shall not here argue the two main points dea...</td>\n",
       "      <td>127</td>\n",
       "      <td>38</td>\n",
       "      <td>0.166667</td>\n",
       "    </tr>\n",
       "    <tr>\n",
       "      <th>1</th>\n",
       "      <td>The points in question are:  (1) that the \"Ody...</td>\n",
       "      <td>363</td>\n",
       "      <td>129</td>\n",
       "      <td>-0.063333</td>\n",
       "    </tr>\n",
       "    <tr>\n",
       "      <th>2</th>\n",
       "      <td>(2) That the poem was entirely written by a ve...</td>\n",
       "      <td>134</td>\n",
       "      <td>45</td>\n",
       "      <td>0.065000</td>\n",
       "    </tr>\n",
       "    <tr>\n",
       "      <th>3</th>\n",
       "      <td>The main arguments on which I base the first o...</td>\n",
       "      <td>215</td>\n",
       "      <td>70</td>\n",
       "      <td>-0.047917</td>\n",
       "    </tr>\n",
       "    <tr>\n",
       "      <th>4</th>\n",
       "      <td>Both contentions were urged (also without rejo...</td>\n",
       "      <td>99</td>\n",
       "      <td>33</td>\n",
       "      <td>0.000000</td>\n",
       "    </tr>\n",
       "  </tbody>\n",
       "</table>\n",
       "</div>"
      ],
      "text/plain": [
       "                                                   0  total_char  syl_sum  \\\n",
       "0  I shall not here argue the two main points dea...         127       38   \n",
       "1  The points in question are:  (1) that the \"Ody...         363      129   \n",
       "2  (2) That the poem was entirely written by a ve...         134       45   \n",
       "3  The main arguments on which I base the first o...         215       70   \n",
       "4  Both contentions were urged (also without rejo...          99       33   \n",
       "\n",
       "   sentiment  \n",
       "0   0.166667  \n",
       "1  -0.063333  \n",
       "2   0.065000  \n",
       "3  -0.047917  \n",
       "4   0.000000  "
      ]
     },
     "execution_count": 91,
     "metadata": {},
     "output_type": "execute_result"
    }
   ],
   "source": [
    "df_cluster.head()"
   ]
  },
  {
   "cell_type": "code",
   "execution_count": 92,
   "metadata": {
    "collapsed": true
   },
   "outputs": [],
   "source": [
    "X = df_cluster.drop(0, axis=1)"
   ]
  },
  {
   "cell_type": "code",
   "execution_count": 93,
   "metadata": {
    "collapsed": true
   },
   "outputs": [],
   "source": [
    "from sklearn.cluster import KMeans"
   ]
  },
  {
   "cell_type": "code",
   "execution_count": 94,
   "metadata": {
    "collapsed": true
   },
   "outputs": [],
   "source": [
    "from sklearn.preprocessing import StandardScaler\n",
    "scaler = StandardScaler()\n",
    "X_scaled = scaler.fit_transform(X)"
   ]
  },
  {
   "cell_type": "code",
   "execution_count": 95,
   "metadata": {
    "collapsed": false
   },
   "outputs": [
    {
     "data": {
      "text/plain": [
       "KMeans(copy_x=True, init='k-means++', max_iter=300, n_clusters=20, n_init=10,\n",
       "    n_jobs=1, precompute_distances='auto', random_state=1, tol=0.0001,\n",
       "    verbose=0)"
      ]
     },
     "execution_count": 95,
     "metadata": {},
     "output_type": "execute_result"
    }
   ],
   "source": [
    "km = KMeans(n_clusters=20, random_state=1)\n",
    "km.fit(X_scaled)"
   ]
  },
  {
   "cell_type": "code",
   "execution_count": 96,
   "metadata": {
    "collapsed": false
   },
   "outputs": [
    {
     "data": {
      "text/plain": [
       "array([ 7, 12,  0, ..., 18,  1, 13], dtype=int32)"
      ]
     },
     "execution_count": 96,
     "metadata": {},
     "output_type": "execute_result"
    }
   ],
   "source": [
    "km.labels_"
   ]
  },
  {
   "cell_type": "code",
   "execution_count": 97,
   "metadata": {
    "collapsed": true
   },
   "outputs": [],
   "source": [
    "df_cluster['cluster'] = km.labels_"
   ]
  },
  {
   "cell_type": "code",
   "execution_count": 98,
   "metadata": {
    "collapsed": false
   },
   "outputs": [
    {
     "data": {
      "text/html": [
       "<div>\n",
       "<table border=\"1\" class=\"dataframe\">\n",
       "  <thead>\n",
       "    <tr style=\"text-align: right;\">\n",
       "      <th></th>\n",
       "      <th>0</th>\n",
       "      <th>total_char</th>\n",
       "      <th>syl_sum</th>\n",
       "      <th>sentiment</th>\n",
       "      <th>cluster</th>\n",
       "    </tr>\n",
       "  </thead>\n",
       "  <tbody>\n",
       "    <tr>\n",
       "      <th>0</th>\n",
       "      <td>I shall not here argue the two main points dea...</td>\n",
       "      <td>127</td>\n",
       "      <td>38</td>\n",
       "      <td>0.166667</td>\n",
       "      <td>7</td>\n",
       "    </tr>\n",
       "    <tr>\n",
       "      <th>1</th>\n",
       "      <td>The points in question are:  (1) that the \"Ody...</td>\n",
       "      <td>363</td>\n",
       "      <td>129</td>\n",
       "      <td>-0.063333</td>\n",
       "      <td>12</td>\n",
       "    </tr>\n",
       "    <tr>\n",
       "      <th>2</th>\n",
       "      <td>(2) That the poem was entirely written by a ve...</td>\n",
       "      <td>134</td>\n",
       "      <td>45</td>\n",
       "      <td>0.065000</td>\n",
       "      <td>0</td>\n",
       "    </tr>\n",
       "    <tr>\n",
       "      <th>3</th>\n",
       "      <td>The main arguments on which I base the first o...</td>\n",
       "      <td>215</td>\n",
       "      <td>70</td>\n",
       "      <td>-0.047917</td>\n",
       "      <td>17</td>\n",
       "    </tr>\n",
       "    <tr>\n",
       "      <th>4</th>\n",
       "      <td>Both contentions were urged (also without rejo...</td>\n",
       "      <td>99</td>\n",
       "      <td>33</td>\n",
       "      <td>0.000000</td>\n",
       "      <td>7</td>\n",
       "    </tr>\n",
       "  </tbody>\n",
       "</table>\n",
       "</div>"
      ],
      "text/plain": [
       "                                                   0  total_char  syl_sum  \\\n",
       "0  I shall not here argue the two main points dea...         127       38   \n",
       "1  The points in question are:  (1) that the \"Ody...         363      129   \n",
       "2  (2) That the poem was entirely written by a ve...         134       45   \n",
       "3  The main arguments on which I base the first o...         215       70   \n",
       "4  Both contentions were urged (also without rejo...          99       33   \n",
       "\n",
       "   sentiment  cluster  \n",
       "0   0.166667        7  \n",
       "1  -0.063333       12  \n",
       "2   0.065000        0  \n",
       "3  -0.047917       17  \n",
       "4   0.000000        7  "
      ]
     },
     "execution_count": 98,
     "metadata": {},
     "output_type": "execute_result"
    }
   ],
   "source": [
    "df_cluster.head()"
   ]
  },
  {
   "cell_type": "code",
   "execution_count": 99,
   "metadata": {
    "collapsed": false
   },
   "outputs": [
    {
     "data": {
      "text/html": [
       "<div>\n",
       "<table border=\"1\" class=\"dataframe\">\n",
       "  <thead>\n",
       "    <tr style=\"text-align: right;\">\n",
       "      <th></th>\n",
       "      <th>total_char</th>\n",
       "      <th>syl_sum</th>\n",
       "      <th>sentiment</th>\n",
       "    </tr>\n",
       "    <tr>\n",
       "      <th>cluster</th>\n",
       "      <th></th>\n",
       "      <th></th>\n",
       "      <th></th>\n",
       "    </tr>\n",
       "  </thead>\n",
       "  <tbody>\n",
       "    <tr>\n",
       "      <th>0</th>\n",
       "      <td>155.027248</td>\n",
       "      <td>49.190736</td>\n",
       "      <td>-0.028369</td>\n",
       "    </tr>\n",
       "    <tr>\n",
       "      <th>1</th>\n",
       "      <td>17.785185</td>\n",
       "      <td>5.229630</td>\n",
       "      <td>-0.002011</td>\n",
       "    </tr>\n",
       "    <tr>\n",
       "      <th>2</th>\n",
       "      <td>101.037288</td>\n",
       "      <td>32.216949</td>\n",
       "      <td>0.286146</td>\n",
       "    </tr>\n",
       "    <tr>\n",
       "      <th>3</th>\n",
       "      <td>282.807692</td>\n",
       "      <td>90.471154</td>\n",
       "      <td>0.281708</td>\n",
       "    </tr>\n",
       "    <tr>\n",
       "      <th>4</th>\n",
       "      <td>169.542857</td>\n",
       "      <td>54.000000</td>\n",
       "      <td>-0.447589</td>\n",
       "    </tr>\n",
       "    <tr>\n",
       "      <th>5</th>\n",
       "      <td>212.071823</td>\n",
       "      <td>67.265193</td>\n",
       "      <td>0.352047</td>\n",
       "    </tr>\n",
       "    <tr>\n",
       "      <th>6</th>\n",
       "      <td>81.513889</td>\n",
       "      <td>26.277778</td>\n",
       "      <td>0.896412</td>\n",
       "    </tr>\n",
       "    <tr>\n",
       "      <th>7</th>\n",
       "      <td>113.460280</td>\n",
       "      <td>36.037383</td>\n",
       "      <td>0.019100</td>\n",
       "    </tr>\n",
       "    <tr>\n",
       "      <th>8</th>\n",
       "      <td>266.247788</td>\n",
       "      <td>84.752212</td>\n",
       "      <td>-0.046537</td>\n",
       "    </tr>\n",
       "    <tr>\n",
       "      <th>9</th>\n",
       "      <td>151.380795</td>\n",
       "      <td>48.119205</td>\n",
       "      <td>0.253317</td>\n",
       "    </tr>\n",
       "    <tr>\n",
       "      <th>10</th>\n",
       "      <td>56.149701</td>\n",
       "      <td>17.736527</td>\n",
       "      <td>0.274971</td>\n",
       "    </tr>\n",
       "    <tr>\n",
       "      <th>11</th>\n",
       "      <td>141.471264</td>\n",
       "      <td>45.160920</td>\n",
       "      <td>0.574247</td>\n",
       "    </tr>\n",
       "    <tr>\n",
       "      <th>12</th>\n",
       "      <td>372.012500</td>\n",
       "      <td>118.812500</td>\n",
       "      <td>0.098496</td>\n",
       "    </tr>\n",
       "    <tr>\n",
       "      <th>13</th>\n",
       "      <td>80.362989</td>\n",
       "      <td>25.469751</td>\n",
       "      <td>0.006108</td>\n",
       "    </tr>\n",
       "    <tr>\n",
       "      <th>14</th>\n",
       "      <td>62.193182</td>\n",
       "      <td>19.863636</td>\n",
       "      <td>-0.602790</td>\n",
       "    </tr>\n",
       "    <tr>\n",
       "      <th>15</th>\n",
       "      <td>679.333333</td>\n",
       "      <td>219.000000</td>\n",
       "      <td>0.094490</td>\n",
       "    </tr>\n",
       "    <tr>\n",
       "      <th>16</th>\n",
       "      <td>50.570888</td>\n",
       "      <td>15.998110</td>\n",
       "      <td>-0.020233</td>\n",
       "    </tr>\n",
       "    <tr>\n",
       "      <th>17</th>\n",
       "      <td>205.074890</td>\n",
       "      <td>64.819383</td>\n",
       "      <td>0.018937</td>\n",
       "    </tr>\n",
       "    <tr>\n",
       "      <th>18</th>\n",
       "      <td>77.404255</td>\n",
       "      <td>24.877660</td>\n",
       "      <td>0.565404</td>\n",
       "    </tr>\n",
       "    <tr>\n",
       "      <th>19</th>\n",
       "      <td>101.383178</td>\n",
       "      <td>32.172897</td>\n",
       "      <td>-0.218257</td>\n",
       "    </tr>\n",
       "  </tbody>\n",
       "</table>\n",
       "</div>"
      ],
      "text/plain": [
       "         total_char     syl_sum  sentiment\n",
       "cluster                                   \n",
       "0        155.027248   49.190736  -0.028369\n",
       "1         17.785185    5.229630  -0.002011\n",
       "2        101.037288   32.216949   0.286146\n",
       "3        282.807692   90.471154   0.281708\n",
       "4        169.542857   54.000000  -0.447589\n",
       "5        212.071823   67.265193   0.352047\n",
       "6         81.513889   26.277778   0.896412\n",
       "7        113.460280   36.037383   0.019100\n",
       "8        266.247788   84.752212  -0.046537\n",
       "9        151.380795   48.119205   0.253317\n",
       "10        56.149701   17.736527   0.274971\n",
       "11       141.471264   45.160920   0.574247\n",
       "12       372.012500  118.812500   0.098496\n",
       "13        80.362989   25.469751   0.006108\n",
       "14        62.193182   19.863636  -0.602790\n",
       "15       679.333333  219.000000   0.094490\n",
       "16        50.570888   15.998110  -0.020233\n",
       "17       205.074890   64.819383   0.018937\n",
       "18        77.404255   24.877660   0.565404\n",
       "19       101.383178   32.172897  -0.218257"
      ]
     },
     "execution_count": 99,
     "metadata": {},
     "output_type": "execute_result"
    }
   ],
   "source": [
    "df_cluster.groupby('cluster').mean()"
   ]
  },
  {
   "cell_type": "code",
   "execution_count": 100,
   "metadata": {
    "collapsed": true
   },
   "outputs": [],
   "source": [
    "centers = df_cluster.groupby('cluster').mean()"
   ]
  },
  {
   "cell_type": "code",
   "execution_count": 101,
   "metadata": {
    "collapsed": true
   },
   "outputs": [],
   "source": [
    "colors = np.array(['#999999', '#0000ff', '#4d4d4d', '#0000b2', '#8833ff', '#333333', '#4412b2', '#808080', '#33a3ff', '#124cb2', '#666666', '#39b54a','#21682b', '#64c1b5', '#2b6855', '#91c164', '#40682b', '#3fa9f5', '#7cc3f5','#badcf5'])"
   ]
  },
  {
   "cell_type": "code",
   "execution_count": 102,
   "metadata": {
    "collapsed": false
   },
   "outputs": [
    {
     "data": {
      "text/plain": [
       "<matplotlib.text.Text at 0x118fa6110>"
      ]
     },
     "execution_count": 102,
     "metadata": {},
     "output_type": "execute_result"
    },
    {
     "data": {
      "image/png": "[encoded data removed]",
      "text/plain": [
       "<matplotlib.figure.Figure at 0x118f7db50>"
      ]
     },
     "metadata": {},
     "output_type": "display_data"
    }
   ],
   "source": [
    "# scatter plot of calories versus alcohol, colored by cluster (0=red, 1=green, 2=blue)\n",
    "plt.scatter(df_cluster.syl_sum, df_cluster.sentiment, c=colors[df_cluster.cluster], s=50)\n",
    "\n",
    "# cluster centers, marked by \"+\"\n",
    "plt.scatter(centers.syl_sum, centers.sentiment, linewidths=3, marker='+', s=300, c='black')\n",
    "\n",
    "# add labels\n",
    "plt.xlabel('syl_sum')\n",
    "plt.ylabel('sentiment')"
   ]
  },
  {
   "cell_type": "code",
   "execution_count": 103,
   "metadata": {
    "collapsed": false
   },
   "outputs": [
    {
     "data": {
      "text/plain": [
       "0.34779959051897741"
      ]
     },
     "execution_count": 103,
     "metadata": {},
     "output_type": "execute_result"
    }
   ],
   "source": [
    "from sklearn import metrics\n",
    "metrics.silhouette_score(X_scaled, km.labels_)"
   ]
  },
  {
   "cell_type": "code",
   "execution_count": 106,
   "metadata": {
    "collapsed": false
   },
   "outputs": [],
   "source": [
    "k_range = range(2,20)\n",
    "scores = []\n",
    "for k in k_range:\n",
    "    km = KMeans(n_clusters=k, random_state=1)\n",
    "    km.fit(X_scaled)\n",
    "    scores.append(metrics.silhouette_score(X_scaled, km.labels_))"
   ]
  },
  {
   "cell_type": "code",
   "execution_count": 107,
   "metadata": {
    "collapsed": false
   },
   "outputs": [
    {
     "data": {
      "image/png": "[encoded data removed]",
      "text/plain": [
       "<matplotlib.figure.Figure at 0x119a43c10>"
      ]
     },
     "metadata": {},
     "output_type": "display_data"
    }
   ],
   "source": [
    "plt.plot(k_range, scores)\n",
    "plt.xlabel('Number of clusters')\n",
    "plt.ylabel('Silihouette Coefficient')\n",
    "plt.grid(True)"
   ]
  },
  {
   "cell_type": "code",
   "execution_count": 108,
   "metadata": {
    "collapsed": false
   },
   "outputs": [
    {
     "ename": "KeyboardInterrupt",
     "evalue": "",
     "output_type": "error",
     "traceback": [
      "\u001b[0;31m---------------------------------------------------------------------------\u001b[0m",
      "\u001b[0;31mKeyboardInterrupt\u001b[0m                         Traceback (most recent call last)",
      "\u001b[0;32m<ipython-input-108-028fc25dd18a>\u001b[0m in \u001b[0;36m<module>\u001b[0;34m()\u001b[0m\n\u001b[1;32m      4\u001b[0m     \u001b[0mkm\u001b[0m \u001b[0;34m=\u001b[0m \u001b[0mKMeans\u001b[0m\u001b[0;34m(\u001b[0m\u001b[0mn_clusters\u001b[0m\u001b[0;34m=\u001b[0m\u001b[0mk\u001b[0m\u001b[0;34m,\u001b[0m \u001b[0mrandom_state\u001b[0m\u001b[0;34m=\u001b[0m\u001b[0;36m1\u001b[0m\u001b[0;34m)\u001b[0m\u001b[0;34m\u001b[0m\u001b[0m\n\u001b[1;32m      5\u001b[0m     \u001b[0mkm\u001b[0m\u001b[0;34m.\u001b[0m\u001b[0mfit\u001b[0m\u001b[0;34m(\u001b[0m\u001b[0mX_scaled\u001b[0m\u001b[0;34m)\u001b[0m\u001b[0;34m\u001b[0m\u001b[0m\n\u001b[0;32m----> 6\u001b[0;31m     \u001b[0mscores\u001b[0m\u001b[0;34m.\u001b[0m\u001b[0mappend\u001b[0m\u001b[0;34m(\u001b[0m\u001b[0mmetrics\u001b[0m\u001b[0;34m.\u001b[0m\u001b[0msilhouette_score\u001b[0m\u001b[0;34m(\u001b[0m\u001b[0mX_scaled\u001b[0m\u001b[0;34m,\u001b[0m \u001b[0mkm\u001b[0m\u001b[0;34m.\u001b[0m\u001b[0mlabels_\u001b[0m\u001b[0;34m)\u001b[0m\u001b[0;34m)\u001b[0m\u001b[0;34m\u001b[0m\u001b[0m\n\u001b[0m",
      "\u001b[0;32m/Users/aliciagyori/anaconda/lib/python2.7/site-packages/sklearn/metrics/cluster/unsupervised.pyc\u001b[0m in \u001b[0;36msilhouette_score\u001b[0;34m(X, labels, metric, sample_size, random_state, **kwds)\u001b[0m\n\u001b[1;32m     93\u001b[0m         \u001b[0;32melse\u001b[0m\u001b[0;34m:\u001b[0m\u001b[0;34m\u001b[0m\u001b[0m\n\u001b[1;32m     94\u001b[0m             \u001b[0mX\u001b[0m\u001b[0;34m,\u001b[0m \u001b[0mlabels\u001b[0m \u001b[0;34m=\u001b[0m \u001b[0mX\u001b[0m\u001b[0;34m[\u001b[0m\u001b[0mindices\u001b[0m\u001b[0;34m]\u001b[0m\u001b[0;34m,\u001b[0m \u001b[0mlabels\u001b[0m\u001b[0;34m[\u001b[0m\u001b[0mindices\u001b[0m\u001b[0;34m]\u001b[0m\u001b[0;34m\u001b[0m\u001b[0m\n\u001b[0;32m---> 95\u001b[0;31m     \u001b[0;32mreturn\u001b[0m \u001b[0mnp\u001b[0m\u001b[0;34m.\u001b[0m\u001b[0mmean\u001b[0m\u001b[0;34m(\u001b[0m\u001b[0msilhouette_samples\u001b[0m\u001b[0;34m(\u001b[0m\u001b[0mX\u001b[0m\u001b[0;34m,\u001b[0m \u001b[0mlabels\u001b[0m\u001b[0;34m,\u001b[0m \u001b[0mmetric\u001b[0m\u001b[0;34m=\u001b[0m\u001b[0mmetric\u001b[0m\u001b[0;34m,\u001b[0m \u001b[0;34m**\u001b[0m\u001b[0mkwds\u001b[0m\u001b[0;34m)\u001b[0m\u001b[0;34m)\u001b[0m\u001b[0;34m\u001b[0m\u001b[0m\n\u001b[0m\u001b[1;32m     96\u001b[0m \u001b[0;34m\u001b[0m\u001b[0m\n\u001b[1;32m     97\u001b[0m \u001b[0;34m\u001b[0m\u001b[0m\n",
      "\u001b[0;32m/Users/aliciagyori/anaconda/lib/python2.7/site-packages/sklearn/metrics/cluster/unsupervised.pyc\u001b[0m in \u001b[0;36msilhouette_samples\u001b[0;34m(X, labels, metric, **kwds)\u001b[0m\n\u001b[1;32m    161\u001b[0m                   for i in range(n)])\n\u001b[1;32m    162\u001b[0m     B = np.array([_nearest_cluster_distance(distances[i], labels, i)\n\u001b[0;32m--> 163\u001b[0;31m                   for i in range(n)])\n\u001b[0m\u001b[1;32m    164\u001b[0m     \u001b[0msil_samples\u001b[0m \u001b[0;34m=\u001b[0m \u001b[0;34m(\u001b[0m\u001b[0mB\u001b[0m \u001b[0;34m-\u001b[0m \u001b[0mA\u001b[0m\u001b[0;34m)\u001b[0m \u001b[0;34m/\u001b[0m \u001b[0mnp\u001b[0m\u001b[0;34m.\u001b[0m\u001b[0mmaximum\u001b[0m\u001b[0;34m(\u001b[0m\u001b[0mA\u001b[0m\u001b[0;34m,\u001b[0m \u001b[0mB\u001b[0m\u001b[0;34m)\u001b[0m\u001b[0;34m\u001b[0m\u001b[0m\n\u001b[1;32m    165\u001b[0m     \u001b[0;32mreturn\u001b[0m \u001b[0msil_samples\u001b[0m\u001b[0;34m\u001b[0m\u001b[0m\n",
      "\u001b[0;32m/Users/aliciagyori/anaconda/lib/python2.7/site-packages/sklearn/metrics/cluster/unsupervised.pyc\u001b[0m in \u001b[0;36m_nearest_cluster_distance\u001b[0;34m(distances_row, labels, i)\u001b[0m\n\u001b[1;32m    217\u001b[0m     \u001b[0mlabel\u001b[0m \u001b[0;34m=\u001b[0m \u001b[0mlabels\u001b[0m\u001b[0;34m[\u001b[0m\u001b[0mi\u001b[0m\u001b[0;34m]\u001b[0m\u001b[0;34m\u001b[0m\u001b[0m\n\u001b[1;32m    218\u001b[0m     b = np.min([np.mean(distances_row[labels == cur_label])\n\u001b[0;32m--> 219\u001b[0;31m                for cur_label in set(labels) if not cur_label == label])\n\u001b[0m\u001b[1;32m    220\u001b[0m     \u001b[0;32mreturn\u001b[0m \u001b[0mb\u001b[0m\u001b[0;34m\u001b[0m\u001b[0m\n",
      "\u001b[0;31mKeyboardInterrupt\u001b[0m: "
     ]
    }
   ],
   "source": [
    "k_range = range(2,150)\n",
    "scores = []\n",
    "for k in k_range:\n",
    "    km = KMeans(n_clusters=k, random_state=1)\n",
    "    km.fit(X_scaled)\n",
    "    scores.append(metrics.silhouette_score(X_scaled, km.labels_))"
   ]
  },
  {
   "cell_type": "code",
   "execution_count": 109,
   "metadata": {
    "collapsed": false
   },
   "outputs": [
    {
     "data": {
      "text/plain": [
       "527509"
      ]
     },
     "execution_count": 109,
     "metadata": {},
     "output_type": "execute_result"
    }
   ],
   "source": [
    "df_novel['total_char'].sum()"
   ]
  },
  {
   "cell_type": "code",
   "execution_count": 110,
   "metadata": {
    "collapsed": true
   },
   "outputs": [],
   "source": [
    "ratio = (df_novel['total_char'].sum()/20) - 50"
   ]
  },
  {
   "cell_type": "code",
   "execution_count": 111,
   "metadata": {
    "collapsed": false
   },
   "outputs": [
    {
     "data": {
      "text/plain": [
       "26325"
      ]
     },
     "execution_count": 111,
     "metadata": {},
     "output_type": "execute_result"
    }
   ],
   "source": [
    "ratio"
   ]
  },
  {
   "cell_type": "code",
   "execution_count": 112,
   "metadata": {
    "collapsed": true
   },
   "outputs": [],
   "source": [
    "t = 0\n",
    "x = 0\n",
    "ratio = (df_novel['total_char'].sum()/20) - 100\n",
    "def find_this(t, x):\n",
    "    w = 0    \n",
    "    sent_stop = []\n",
    "    while w <= ratio:\n",
    "        w = df_novel['total_char'][t:x].sum()\n",
    "        sent_stop.append(x)\n",
    "        x += 1\n",
    "    return max(sent_stop)     "
   ]
  },
  {
   "cell_type": "code",
   "execution_count": 113,
   "metadata": {
    "collapsed": false
   },
   "outputs": [
    {
     "name": "stdout",
     "output_type": "stream",
     "text": [
      "df_novel['total_char'][0:196]\n",
      "df_novel['total_char'][196:409]\n",
      "df_novel['total_char'][409:633]\n",
      "df_novel['total_char'][633:847]\n",
      "df_novel['total_char'][847:1062]\n",
      "df_novel['total_char'][1062:1262]\n",
      "df_novel['total_char'][1262:1463]\n",
      "df_novel['total_char'][1463:1667]\n",
      "df_novel['total_char'][1667:1863]\n",
      "df_novel['total_char'][1863:2056]\n",
      "df_novel['total_char'][2056:2248]\n",
      "df_novel['total_char'][2248:2473]\n",
      "df_novel['total_char'][2473:2708]\n",
      "df_novel['total_char'][2708:2934]\n",
      "df_novel['total_char'][2934:3142]\n",
      "df_novel['total_char'][3142:3346]\n",
      "df_novel['total_char'][3346:3572]\n",
      "df_novel['total_char'][3572:3789]\n",
      "df_novel['total_char'][3789:4120]\n",
      "df_novel['total_char'][4120:4489]\n"
     ]
    }
   ],
   "source": [
    "t = 0\n",
    "x = 0\n",
    "start_point = []\n",
    "stop_point = []\n",
    "for n in range(1, 21):\n",
    "    s = find_this(t, x)\n",
    "    print \"df_novel['total_char'][%s:%s]\" %(t, s)\n",
    "    start_point.append(t)\n",
    "    stop_point.append(s)\n",
    "    t = s\n",
    "    x = s + 1      "
   ]
  },
  {
   "cell_type": "code",
   "execution_count": 114,
   "metadata": {
    "collapsed": false
   },
   "outputs": [
    {
     "data": {
      "text/html": [
       "<div>\n",
       "<table border=\"1\" class=\"dataframe\">\n",
       "  <thead>\n",
       "    <tr style=\"text-align: right;\">\n",
       "      <th></th>\n",
       "      <th>0</th>\n",
       "      <th>wrd_length</th>\n",
       "      <th>total_char</th>\n",
       "      <th>syl_count</th>\n",
       "      <th>syl_sum</th>\n",
       "      <th>sentiment</th>\n",
       "    </tr>\n",
       "  </thead>\n",
       "  <tbody>\n",
       "    <tr>\n",
       "      <th>4487</th>\n",
       "      <td>{186} So practised a washerwoman as our author...</td>\n",
       "      <td>[3, 2, 9, 1, 11, 2, 3, 9, 9, 4, 4, 2, 4, 4, 3,...</td>\n",
       "      <td>365</td>\n",
       "      <td>[0, 1, 2, 1, 4, 1, 1, 3, 2, 1, 1, 1, 1, 1, 1, ...</td>\n",
       "      <td>115</td>\n",
       "      <td>-0.016667</td>\n",
       "    </tr>\n",
       "    <tr>\n",
       "      <th>4488</th>\n",
       "      <td>{187} We must suppose Dolius not yet to know t...</td>\n",
       "      <td>[3, 2, 4, 7, 6, 3, 3, 2, 4, 4, 3, 3, 10, 3, 4,...</td>\n",
       "      <td>161</td>\n",
       "      <td>[0, 1, 1, 2, 2, 1, 1, 1, 1, 1, 1, 1, 3, 1, 1, ...</td>\n",
       "      <td>49</td>\n",
       "      <td>0.000000</td>\n",
       "    </tr>\n",
       "    <tr>\n",
       "      <th>4489</th>\n",
       "      <td>Dolius was probably exceptionally simple-minde...</td>\n",
       "      <td>[6, 3, 8, 13, 13, 3, 3, 4, 3, 8]</td>\n",
       "      <td>64</td>\n",
       "      <td>[2, 1, 3, 5, 3, 1, 1, 1, 1, 4]</td>\n",
       "      <td>22</td>\n",
       "      <td>0.666667</td>\n",
       "    </tr>\n",
       "    <tr>\n",
       "      <th>4490</th>\n",
       "      <td>So on Mt.</td>\n",
       "      <td>[2, 2, 2]</td>\n",
       "      <td>6</td>\n",
       "      <td>[1, 1, 0]</td>\n",
       "      <td>2</td>\n",
       "      <td>0.000000</td>\n",
       "    </tr>\n",
       "    <tr>\n",
       "      <th>4491</th>\n",
       "      <td>Eryx I was shown a man who was always called S...</td>\n",
       "      <td>[4, 1, 3, 5, 1, 3, 3, 3, 6, 6, 5, 7, 2, 9, 2, ...</td>\n",
       "      <td>89</td>\n",
       "      <td>[2, 1, 1, 1, 1, 1, 1, 1, 2, 1, 2, 4, 1, 3, 1, ...</td>\n",
       "      <td>32</td>\n",
       "      <td>0.000000</td>\n",
       "    </tr>\n",
       "  </tbody>\n",
       "</table>\n",
       "</div>"
      ],
      "text/plain": [
       "                                                      0  \\\n",
       "4487  {186} So practised a washerwoman as our author...   \n",
       "4488  {187} We must suppose Dolius not yet to know t...   \n",
       "4489  Dolius was probably exceptionally simple-minde...   \n",
       "4490                                          So on Mt.   \n",
       "4491  Eryx I was shown a man who was always called S...   \n",
       "\n",
       "                                             wrd_length  total_char  \\\n",
       "4487  [3, 2, 9, 1, 11, 2, 3, 9, 9, 4, 4, 2, 4, 4, 3,...         365   \n",
       "4488  [3, 2, 4, 7, 6, 3, 3, 2, 4, 4, 3, 3, 10, 3, 4,...         161   \n",
       "4489                   [6, 3, 8, 13, 13, 3, 3, 4, 3, 8]          64   \n",
       "4490                                          [2, 2, 2]           6   \n",
       "4491  [4, 1, 3, 5, 1, 3, 3, 3, 6, 6, 5, 7, 2, 9, 2, ...          89   \n",
       "\n",
       "                                              syl_count  syl_sum  sentiment  \n",
       "4487  [0, 1, 2, 1, 4, 1, 1, 3, 2, 1, 1, 1, 1, 1, 1, ...      115  -0.016667  \n",
       "4488  [0, 1, 1, 2, 2, 1, 1, 1, 1, 1, 1, 1, 3, 1, 1, ...       49   0.000000  \n",
       "4489                     [2, 1, 3, 5, 3, 1, 1, 1, 1, 4]       22   0.666667  \n",
       "4490                                          [1, 1, 0]        2   0.000000  \n",
       "4491  [2, 1, 1, 1, 1, 1, 1, 1, 2, 1, 2, 4, 1, 3, 1, ...       32   0.000000  "
      ]
     },
     "execution_count": 114,
     "metadata": {},
     "output_type": "execute_result"
    }
   ],
   "source": [
    "df_novel.tail()"
   ]
  },
  {
   "cell_type": "code",
   "execution_count": 115,
   "metadata": {
    "collapsed": false
   },
   "outputs": [
    {
     "name": "stdout",
     "output_type": "stream",
     "text": [
      "0\n",
      "196\n",
      "0.121420226366\n",
      "196\n",
      "409\n",
      "0.117087487043\n",
      "409\n",
      "633\n",
      "0.109795536291\n",
      "633\n",
      "847\n",
      "0.0825874544286\n",
      "847\n",
      "1062\n",
      "0.107138453141\n",
      "1062\n",
      "1262\n",
      "0.143915269962\n",
      "1262\n",
      "1463\n",
      "0.140280697467\n",
      "1463\n",
      "1667\n",
      "0.0809287766745\n",
      "1667\n",
      "1863\n",
      "0.112120633138\n",
      "1863\n",
      "2056\n",
      "0.0654537466228\n",
      "2056\n",
      "2248\n",
      "0.13838209049\n",
      "2248\n",
      "2473\n",
      "0.136372190875\n",
      "2473\n",
      "2708\n",
      "0.105312800625\n",
      "2708\n",
      "2934\n",
      "0.0932460522311\n",
      "2934\n",
      "3142\n",
      "0.120243288251\n",
      "3142\n",
      "3346\n",
      "0.10278132002\n",
      "3346\n",
      "3572\n",
      "0.0778769402304\n",
      "3572\n",
      "3789\n",
      "0.0901873979409\n",
      "3789\n",
      "4120\n",
      "0.0593384579572\n",
      "4120\n",
      "4489\n",
      "0.0217041556506\n"
     ]
    }
   ],
   "source": [
    "twenty_piece_char = []\n",
    "st = 0\n",
    "for l in start_point: \n",
    "    strt = start_point[st]\n",
    "    stp = stop_point[st]\n",
    "    print strt\n",
    "    print stp\n",
    "    mn = df_novel['sentiment'][strt:stp].mean()\n",
    "    twenty_piece_char.append(mn)\n",
    "    print mn\n",
    "    st +=1   "
   ]
  },
  {
   "cell_type": "code",
   "execution_count": 116,
   "metadata": {
    "collapsed": false
   },
   "outputs": [
    {
     "name": "stdout",
     "output_type": "stream",
     "text": [
      "[ 0.12142023  0.11708749  0.10979554  0.08258745  0.10713845  0.14391527\n",
      "  0.1402807   0.08092878  0.11212063  0.06545375  0.13838209  0.13637219\n",
      "  0.1053128   0.09324605  0.12024329  0.10278132  0.07787694  0.0901874\n",
      "  0.05933846  0.02170416]\n"
     ]
    }
   ],
   "source": [
    "n = np.array(n)\n",
    "twenty_piece_char = np.array(twenty_piece_char)\n",
    "print twenty_piece_char"
   ]
  },
  {
   "cell_type": "code",
   "execution_count": 117,
   "metadata": {
    "collapsed": false
   },
   "outputs": [
    {
     "data": {
      "image/png": "[encoded data removed]",
      "text/plain": [
       "<matplotlib.figure.Figure at 0x1196c4d10>"
      ]
     },
     "metadata": {},
     "output_type": "display_data"
    }
   ],
   "source": [
    "plt.plot(twenty_piece_char)\n",
    "plt.ylabel('sentiment')\n",
    "plt.show()"
   ]
  },
  {
   "cell_type": "code",
   "execution_count": 118,
   "metadata": {
    "collapsed": false
   },
   "outputs": [
    {
     "data": {
      "image/png": "[encoded data removed]",
      "text/plain": [
       "<matplotlib.figure.Figure at 0x119d7d9d0>"
      ]
     },
     "metadata": {},
     "output_type": "display_data"
    }
   ],
   "source": [
    "plt.bar(range(20), twenty_piece_char)\n",
    "plt.ylabel('sentiment')\n",
    "plt.show()"
   ]
  },
  {
   "cell_type": "code",
   "execution_count": null,
   "metadata": {
    "collapsed": true
   },
   "outputs": [],
   "source": []
  }
 ],
 "metadata": {
  "kernelspec": {
   "display_name": "Python 2",
   "language": "python",
   "name": "python2"
  },
  "language_info": {
   "codemirror_mode": {
    "name": "ipython",
    "version": 2
   },
   "file_extension": ".py",
   "mimetype": "text/x-python",
   "name": "python",
   "nbconvert_exporter": "python",
   "pygments_lexer": "ipython2",
   "version": "2.7.11"
  }
 },
 "nbformat": 4,
 "nbformat_minor": 0
}
