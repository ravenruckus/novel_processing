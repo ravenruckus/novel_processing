{
 "cells": [
  {
   "cell_type": "code",
   "execution_count": 351,
   "metadata": {
    "collapsed": true
   },
   "outputs": [],
   "source": [
    "import nltk, re, pprint\n",
    "from nltk import word_tokenize\n",
    "import urllib2\n",
    "import pandas as pd\n",
    "import matplotlib.pyplot as plt\n",
    "import numpy as np\n",
    "from textblob import TextBlob\n",
    "import sys #figure out what i need from this\n",
    "import csv\n",
    "import seaborn as sns\n",
    "%matplotlib inline\n",
    "plt.rcParams['figure.figsize'] = (8, 6)\n",
    "plt.rcParams['font.size'] = 14"
   ]
  },
  {
   "cell_type": "markdown",
   "metadata": {},
   "source": [
    "# How Can I use Data Science and Popular Novels to Improve my Own Novels?\n"
   ]
  },
  {
   "cell_type": "markdown",
   "metadata": {},
   "source": [
    "## 1. Aquiring and cleaning novel text files"
   ]
  },
  {
   "cell_type": "markdown",
   "metadata": {},
   "source": [
    "I aquired this novel from Project Gutenburg at http://www.gutenberg.org/. I then cleaned up the raw text by deleting every thing that wasn't part of the story including chapter headings and copy right information. This story is public domain. "
   ]
  },
  {
   "cell_type": "code",
   "execution_count": 352,
   "metadata": {
    "collapsed": true
   },
   "outputs": [],
   "source": [
    "raw = open('wizardofoz_clean.txt').read().decode('utf8')"
   ]
  },
  {
   "cell_type": "code",
   "execution_count": 353,
   "metadata": {
    "collapsed": false
   },
   "outputs": [
    {
     "data": {
      "text/plain": [
       "unicode"
      ]
     },
     "execution_count": 353,
     "metadata": {},
     "output_type": "execute_result"
    }
   ],
   "source": [
    "type(raw)"
   ]
  },
  {
   "cell_type": "code",
   "execution_count": 354,
   "metadata": {
    "collapsed": false
   },
   "outputs": [
    {
     "data": {
      "text/plain": [
       "205533"
      ]
     },
     "execution_count": 354,
     "metadata": {},
     "output_type": "execute_result"
    }
   ],
   "source": [
    "len(raw)"
   ]
  },
  {
   "cell_type": "markdown",
   "metadata": {},
   "source": [
    "Use TextBlob to tokenize the raw text into sentences."
   ]
  },
  {
   "cell_type": "code",
   "execution_count": 6,
   "metadata": {
    "collapsed": true
   },
   "outputs": [],
   "source": [
    "wizard = TextBlob(raw)"
   ]
  },
  {
   "cell_type": "code",
   "execution_count": 355,
   "metadata": {
    "collapsed": true
   },
   "outputs": [],
   "source": [
    "wizard_sentences = wizard.sentences"
   ]
  },
  {
   "cell_type": "code",
   "execution_count": 356,
   "metadata": {
    "collapsed": false
   },
   "outputs": [
    {
     "data": {
      "text/plain": [
       "2216"
      ]
     },
     "execution_count": 356,
     "metadata": {},
     "output_type": "execute_result"
    }
   ],
   "source": [
    "len(wizard_sentences)"
   ]
  },
  {
   "cell_type": "code",
   "execution_count": 357,
   "metadata": {
    "collapsed": false
   },
   "outputs": [
    {
     "name": "stdout",
     "output_type": "stream",
     "text": [
      "[Sentence(\"she cried, folding the little girl in her arms and\n",
      "covering her face with kisses.\"), Sentence(\"\"Where in the world did you come from?\"\"), Sentence(\"\"From the Land of Oz,\" said Dorothy gravely.\"), Sentence(\"\"And here is Toto, too.\"), Sentence(\"And oh, Aunt Em!\"), Sentence(\"I'm so glad to be at home again!\"\")]\n"
     ]
    }
   ],
   "source": [
    "print wizard_sentences[2210:]"
   ]
  },
  {
   "cell_type": "markdown",
   "metadata": {},
   "source": [
    "Create csv file and add the sentences in a column."
   ]
  },
  {
   "cell_type": "code",
   "execution_count": 358,
   "metadata": {
    "collapsed": false
   },
   "outputs": [],
   "source": [
    "wizardWriter = csv.writer(open('wizard_of_oz3.csv', 'w'), delimiter=',')\n",
    "\n",
    "for sentence in wizard.sentences:\n",
    "    wizardWriter.writerow([sentence])\n",
    "    "
   ]
  },
  {
   "cell_type": "markdown",
   "metadata": {},
   "source": [
    "Create dataframe using pandas."
   ]
  },
  {
   "cell_type": "code",
   "execution_count": 359,
   "metadata": {
    "collapsed": false
   },
   "outputs": [],
   "source": [
    "df_wizard = pd.read_csv('wizard_of_oz3.csv', header=None)"
   ]
  },
  {
   "cell_type": "code",
   "execution_count": 360,
   "metadata": {
    "collapsed": false
   },
   "outputs": [
    {
     "data": {
      "text/html": [
       "<div>\n",
       "<table border=\"1\" class=\"dataframe\">\n",
       "  <thead>\n",
       "    <tr style=\"text-align: right;\">\n",
       "      <th></th>\n",
       "      <th>0</th>\n",
       "    </tr>\n",
       "  </thead>\n",
       "  <tbody>\n",
       "    <tr>\n",
       "      <th>0</th>\n",
       "      <td>Dorothy lived in the midst of the great Kansas...</td>\n",
       "    </tr>\n",
       "    <tr>\n",
       "      <th>1</th>\n",
       "      <td>Their\\nhouse was small, for the lumber to buil...</td>\n",
       "    </tr>\n",
       "    <tr>\n",
       "      <th>2</th>\n",
       "      <td>There were four walls, a floor and a roof, whi...</td>\n",
       "    </tr>\n",
       "    <tr>\n",
       "      <th>3</th>\n",
       "      <td>Uncle Henry\\nand Aunt Em had a big bed in one ...</td>\n",
       "    </tr>\n",
       "    <tr>\n",
       "      <th>4</th>\n",
       "      <td>There was no garret at all, and no cellar--exc...</td>\n",
       "    </tr>\n",
       "  </tbody>\n",
       "</table>\n",
       "</div>"
      ],
      "text/plain": [
       "                                                   0\n",
       "0  Dorothy lived in the midst of the great Kansas...\n",
       "1  Their\\nhouse was small, for the lumber to buil...\n",
       "2  There were four walls, a floor and a roof, whi...\n",
       "3  Uncle Henry\\nand Aunt Em had a big bed in one ...\n",
       "4  There was no garret at all, and no cellar--exc..."
      ]
     },
     "execution_count": 360,
     "metadata": {},
     "output_type": "execute_result"
    }
   ],
   "source": [
    "df_wizard.head()"
   ]
  },
  {
   "cell_type": "code",
   "execution_count": 361,
   "metadata": {
    "collapsed": true
   },
   "outputs": [],
   "source": [
    "df_wizard.rename(columns={ 0 : 'Sentences'}, inplace=True)"
   ]
  },
  {
   "cell_type": "code",
   "execution_count": 362,
   "metadata": {
    "collapsed": false
   },
   "outputs": [
    {
     "data": {
      "text/html": [
       "<div>\n",
       "<table border=\"1\" class=\"dataframe\">\n",
       "  <thead>\n",
       "    <tr style=\"text-align: right;\">\n",
       "      <th></th>\n",
       "      <th>Sentences</th>\n",
       "    </tr>\n",
       "  </thead>\n",
       "  <tbody>\n",
       "    <tr>\n",
       "      <th>0</th>\n",
       "      <td>Dorothy lived in the midst of the great Kansas...</td>\n",
       "    </tr>\n",
       "    <tr>\n",
       "      <th>1</th>\n",
       "      <td>Their\\nhouse was small, for the lumber to buil...</td>\n",
       "    </tr>\n",
       "    <tr>\n",
       "      <th>2</th>\n",
       "      <td>There were four walls, a floor and a roof, whi...</td>\n",
       "    </tr>\n",
       "    <tr>\n",
       "      <th>3</th>\n",
       "      <td>Uncle Henry\\nand Aunt Em had a big bed in one ...</td>\n",
       "    </tr>\n",
       "    <tr>\n",
       "      <th>4</th>\n",
       "      <td>There was no garret at all, and no cellar--exc...</td>\n",
       "    </tr>\n",
       "  </tbody>\n",
       "</table>\n",
       "</div>"
      ],
      "text/plain": [
       "                                           Sentences\n",
       "0  Dorothy lived in the midst of the great Kansas...\n",
       "1  Their\\nhouse was small, for the lumber to buil...\n",
       "2  There were four walls, a floor and a roof, whi...\n",
       "3  Uncle Henry\\nand Aunt Em had a big bed in one ...\n",
       "4  There was no garret at all, and no cellar--exc..."
      ]
     },
     "execution_count": 362,
     "metadata": {},
     "output_type": "execute_result"
    }
   ],
   "source": [
    "df_wizard.head()"
   ]
  },
  {
   "cell_type": "code",
   "execution_count": 363,
   "metadata": {
    "collapsed": false
   },
   "outputs": [
    {
     "data": {
      "text/html": [
       "<div>\n",
       "<table border=\"1\" class=\"dataframe\">\n",
       "  <thead>\n",
       "    <tr style=\"text-align: right;\">\n",
       "      <th></th>\n",
       "      <th>Sentences</th>\n",
       "    </tr>\n",
       "  </thead>\n",
       "  <tbody>\n",
       "    <tr>\n",
       "      <th>2211</th>\n",
       "      <td>\"Where in the world did you come from?\"</td>\n",
       "    </tr>\n",
       "    <tr>\n",
       "      <th>2212</th>\n",
       "      <td>\"From the Land of Oz,\" said Dorothy gravely.</td>\n",
       "    </tr>\n",
       "    <tr>\n",
       "      <th>2213</th>\n",
       "      <td>\"And here is Toto, too.</td>\n",
       "    </tr>\n",
       "    <tr>\n",
       "      <th>2214</th>\n",
       "      <td>And oh, Aunt Em!</td>\n",
       "    </tr>\n",
       "    <tr>\n",
       "      <th>2215</th>\n",
       "      <td>I'm so glad to be at home again!\"</td>\n",
       "    </tr>\n",
       "  </tbody>\n",
       "</table>\n",
       "</div>"
      ],
      "text/plain": [
       "                                         Sentences\n",
       "2211       \"Where in the world did you come from?\"\n",
       "2212  \"From the Land of Oz,\" said Dorothy gravely.\n",
       "2213                       \"And here is Toto, too.\n",
       "2214                              And oh, Aunt Em!\n",
       "2215             I'm so glad to be at home again!\""
      ]
     },
     "execution_count": 363,
     "metadata": {},
     "output_type": "execute_result"
    }
   ],
   "source": [
    "df_wizard.tail()"
   ]
  },
  {
   "cell_type": "markdown",
   "metadata": {},
   "source": [
    "## 2. Feature Creation "
   ]
  },
  {
   "cell_type": "markdown",
   "metadata": {},
   "source": [
    "### 2.1 Create wrd_length and total_char columns\n",
    "wrd_length contains a list of lists, which contains the number of characters per word in each sentence. total_char contains the sum number of charactes in the sentence."
   ]
  },
  {
   "cell_type": "code",
   "execution_count": 364,
   "metadata": {
    "collapsed": true
   },
   "outputs": [],
   "source": [
    "wrd_length = []\n",
    "total_char = []\n",
    "\n",
    "def wrd_char_counts(sentence):\n",
    "    total_chars = 0 #characters in the sentence\n",
    "    wrd_counts = [] # number of char per word in sentence\n",
    "    for word in sentence:\n",
    "        wrd = word\n",
    "        char_count = len(wrd)\n",
    "        wrd_counts.append(char_count)\n",
    "        total_chars += char_count\n",
    "    total_char.append(total_chars)\n",
    "    wrd_length.append(wrd_counts)"
   ]
  },
  {
   "cell_type": "markdown",
   "metadata": {},
   "source": [
    "This loop iterates through each sentence in the database and passes each sentence through TextBlob to be tokenized into words and then passes the sentences with its words through the wrd_char_counts function, which then creates the lists **wrd_length** and **total_char**."
   ]
  },
  {
   "cell_type": "code",
   "execution_count": 365,
   "metadata": {
    "collapsed": false
   },
   "outputs": [],
   "source": [
    "for l in df_wizard['Sentences']:\n",
    "    sent = TextBlob(l)\n",
    "    wrd_char_counts(sent.words)"
   ]
  },
  {
   "cell_type": "code",
   "execution_count": 21,
   "metadata": {
    "collapsed": false
   },
   "outputs": [
    {
     "data": {
      "text/plain": [
       "[[3, 4, 6, 2, 4, 3, 4, 4, 3, 6, 5, 4, 3, 6, 3, 4, 2, 4, 2, 4, 4, 3, 5],\n",
       " [2, 4, 6, 7, 3, 5, 2, 3, 5, 3, 6, 5, 4, 3, 8, 2, 3, 5, 2, 3, 4],\n",
       " [1, 6, 2, 4, 4, 3, 2, 3, 4, 2, 4],\n",
       " [4, 5, 2, 4, 3, 5, 2, 4, 1, 4, 4, 2, 3, 4, 5, 3, 4, 3],\n",
       " [3,\n",
       "  4,\n",
       "  3,\n",
       "  3,\n",
       "  3,\n",
       "  7,\n",
       "  5,\n",
       "  3,\n",
       "  5,\n",
       "  2,\n",
       "  3,\n",
       "  6,\n",
       "  4,\n",
       "  5,\n",
       "  6,\n",
       "  3,\n",
       "  2,\n",
       "  4,\n",
       "  2,\n",
       "  2,\n",
       "  4,\n",
       "  3,\n",
       "  4,\n",
       "  4,\n",
       "  3,\n",
       "  3]]"
      ]
     },
     "execution_count": 21,
     "metadata": {},
     "output_type": "execute_result"
    }
   ],
   "source": [
    "wrd_length[200:205]"
   ]
  },
  {
   "cell_type": "code",
   "execution_count": 22,
   "metadata": {
    "collapsed": false
   },
   "outputs": [
    {
     "data": {
      "text/plain": [
       "[88, 85, 35, 62, 96]"
      ]
     },
     "execution_count": 22,
     "metadata": {},
     "output_type": "execute_result"
    }
   ],
   "source": [
    "total_char[200:205]"
   ]
  },
  {
   "cell_type": "markdown",
   "metadata": {},
   "source": [
    "Create columns named wrd_length and char_total filling them with the data created by the function and loop."
   ]
  },
  {
   "cell_type": "code",
   "execution_count": 23,
   "metadata": {
    "collapsed": true
   },
   "outputs": [],
   "source": [
    "df_wizard['wrd_lengths'] = wrd_length"
   ]
  },
  {
   "cell_type": "code",
   "execution_count": 24,
   "metadata": {
    "collapsed": true
   },
   "outputs": [],
   "source": [
    "df_wizard['char_total'] = total_char"
   ]
  },
  {
   "cell_type": "code",
   "execution_count": 25,
   "metadata": {
    "collapsed": false
   },
   "outputs": [
    {
     "data": {
      "text/html": [
       "<div>\n",
       "<table border=\"1\" class=\"dataframe\">\n",
       "  <thead>\n",
       "    <tr style=\"text-align: right;\">\n",
       "      <th></th>\n",
       "      <th>Sentences</th>\n",
       "      <th>wrd_lengths</th>\n",
       "      <th>char_total</th>\n",
       "    </tr>\n",
       "  </thead>\n",
       "  <tbody>\n",
       "    <tr>\n",
       "      <th>0</th>\n",
       "      <td>Dorothy lived in the midst of the great Kansas...</td>\n",
       "      <td>[7, 5, 2, 3, 5, 2, 3, 5, 6, 8, 4, 5, 5, 3, 3, ...</td>\n",
       "      <td>103</td>\n",
       "    </tr>\n",
       "    <tr>\n",
       "      <th>1</th>\n",
       "      <td>Their\\nhouse was small, for the lumber to buil...</td>\n",
       "      <td>[5, 5, 3, 5, 3, 3, 6, 2, 5, 2, 3, 2, 2, 7, 2, ...</td>\n",
       "      <td>69</td>\n",
       "    </tr>\n",
       "    <tr>\n",
       "      <th>2</th>\n",
       "      <td>There were four walls, a floor and a roof, whi...</td>\n",
       "      <td>[5, 4, 4, 5, 1, 5, 3, 1, 4, 5, 4, 3, 4, 3, 4, ...</td>\n",
       "      <td>144</td>\n",
       "    </tr>\n",
       "    <tr>\n",
       "      <th>3</th>\n",
       "      <td>Uncle Henry\\nand Aunt Em had a big bed in one ...</td>\n",
       "      <td>[5, 5, 3, 4, 2, 3, 1, 3, 3, 2, 3, 6, 3, 7, 1, ...</td>\n",
       "      <td>75</td>\n",
       "    </tr>\n",
       "    <tr>\n",
       "      <th>4</th>\n",
       "      <td>There was no garret at all, and no cellar--exc...</td>\n",
       "      <td>[5, 3, 2, 6, 2, 3, 3, 2, 6, 6, 1, 5, 4, 3, 2, ...</td>\n",
       "      <td>178</td>\n",
       "    </tr>\n",
       "  </tbody>\n",
       "</table>\n",
       "</div>"
      ],
      "text/plain": [
       "                                           Sentences  \\\n",
       "0  Dorothy lived in the midst of the great Kansas...   \n",
       "1  Their\\nhouse was small, for the lumber to buil...   \n",
       "2  There were four walls, a floor and a roof, whi...   \n",
       "3  Uncle Henry\\nand Aunt Em had a big bed in one ...   \n",
       "4  There was no garret at all, and no cellar--exc...   \n",
       "\n",
       "                                         wrd_lengths  char_total  \n",
       "0  [7, 5, 2, 3, 5, 2, 3, 5, 6, 8, 4, 5, 5, 3, 3, ...         103  \n",
       "1  [5, 5, 3, 5, 3, 3, 6, 2, 5, 2, 3, 2, 2, 7, 2, ...          69  \n",
       "2  [5, 4, 4, 5, 1, 5, 3, 1, 4, 5, 4, 3, 4, 3, 4, ...         144  \n",
       "3  [5, 5, 3, 4, 2, 3, 1, 3, 3, 2, 3, 6, 3, 7, 1, ...          75  \n",
       "4  [5, 3, 2, 6, 2, 3, 3, 2, 6, 6, 1, 5, 4, 3, 2, ...         178  "
      ]
     },
     "execution_count": 25,
     "metadata": {},
     "output_type": "execute_result"
    }
   ],
   "source": [
    "df_wizard.head()"
   ]
  },
  {
   "cell_type": "code",
   "execution_count": 26,
   "metadata": {
    "collapsed": false
   },
   "outputs": [
    {
     "data": {
      "text/html": [
       "<div>\n",
       "<table border=\"1\" class=\"dataframe\">\n",
       "  <thead>\n",
       "    <tr style=\"text-align: right;\">\n",
       "      <th></th>\n",
       "      <th>Sentences</th>\n",
       "      <th>wrd_lengths</th>\n",
       "      <th>char_total</th>\n",
       "    </tr>\n",
       "  </thead>\n",
       "  <tbody>\n",
       "    <tr>\n",
       "      <th>2211</th>\n",
       "      <td>\"Where in the world did you come from?\"</td>\n",
       "      <td>[5, 2, 3, 5, 3, 3, 4, 4]</td>\n",
       "      <td>29</td>\n",
       "    </tr>\n",
       "    <tr>\n",
       "      <th>2212</th>\n",
       "      <td>\"From the Land of Oz,\" said Dorothy gravely.</td>\n",
       "      <td>[4, 3, 4, 2, 2, 4, 7, 7]</td>\n",
       "      <td>33</td>\n",
       "    </tr>\n",
       "    <tr>\n",
       "      <th>2213</th>\n",
       "      <td>\"And here is Toto, too.</td>\n",
       "      <td>[3, 4, 2, 4, 3]</td>\n",
       "      <td>16</td>\n",
       "    </tr>\n",
       "    <tr>\n",
       "      <th>2214</th>\n",
       "      <td>And oh, Aunt Em!</td>\n",
       "      <td>[3, 2, 4, 2]</td>\n",
       "      <td>11</td>\n",
       "    </tr>\n",
       "    <tr>\n",
       "      <th>2215</th>\n",
       "      <td>I'm so glad to be at home again!\"</td>\n",
       "      <td>[1, 2, 2, 4, 2, 2, 2, 4, 5]</td>\n",
       "      <td>24</td>\n",
       "    </tr>\n",
       "  </tbody>\n",
       "</table>\n",
       "</div>"
      ],
      "text/plain": [
       "                                         Sentences  \\\n",
       "2211       \"Where in the world did you come from?\"   \n",
       "2212  \"From the Land of Oz,\" said Dorothy gravely.   \n",
       "2213                       \"And here is Toto, too.   \n",
       "2214                              And oh, Aunt Em!   \n",
       "2215             I'm so glad to be at home again!\"   \n",
       "\n",
       "                      wrd_lengths  char_total  \n",
       "2211     [5, 2, 3, 5, 3, 3, 4, 4]          29  \n",
       "2212     [4, 3, 4, 2, 2, 4, 7, 7]          33  \n",
       "2213              [3, 4, 2, 4, 3]          16  \n",
       "2214                 [3, 2, 4, 2]          11  \n",
       "2215  [1, 2, 2, 4, 2, 2, 2, 4, 5]          24  "
      ]
     },
     "execution_count": 26,
     "metadata": {},
     "output_type": "execute_result"
    }
   ],
   "source": [
    "df_wizard.tail()"
   ]
  },
  {
   "cell_type": "code",
   "execution_count": 27,
   "metadata": {
    "collapsed": false
   },
   "outputs": [
    {
     "data": {
      "text/plain": [
       "26"
      ]
     },
     "execution_count": 27,
     "metadata": {},
     "output_type": "execute_result"
    }
   ],
   "source": [
    "len(df_wizard['wrd_lengths'][0])"
   ]
  },
  {
   "cell_type": "markdown",
   "metadata": {},
   "source": [
    "### 2.2 Create word_percent column\n",
    "The function and loop divide each wrd_length by the char_total of its sentence. I wanted to see if this would be a good way to visually display the sentence patterns throughout the novel as compared to calculating the number of syllables per word. "
   ]
  },
  {
   "cell_type": "code",
   "execution_count": 28,
   "metadata": {
    "collapsed": false
   },
   "outputs": [],
   "source": [
    "word_percent = []\n",
    "def wrd_pattern(length, total):\n",
    "    sent_wrd_pattern = []\n",
    "    for l in length:\n",
    "        wrd_ratio = float(l)/total\n",
    "        sent_wrd_pattern.append(wrd_ratio)\n",
    "    word_percent.append(sent_wrd_pattern)        "
   ]
  },
  {
   "cell_type": "code",
   "execution_count": 29,
   "metadata": {
    "collapsed": false
   },
   "outputs": [],
   "source": [
    "i = 0\n",
    "j = 0\n",
    "for m in df_wizard['Sentences']:\n",
    "    length = df_wizard['wrd_lengths'][i]\n",
    "    i += 1\n",
    "    total = df_wizard['char_total'][j]\n",
    "    j += 1\n",
    "    wrd_pattern(length, total)"
   ]
  },
  {
   "cell_type": "code",
   "execution_count": 30,
   "metadata": {
    "collapsed": false
   },
   "outputs": [
    {
     "data": {
      "text/plain": [
       "2216"
      ]
     },
     "execution_count": 30,
     "metadata": {},
     "output_type": "execute_result"
    }
   ],
   "source": [
    "len(word_percent)"
   ]
  },
  {
   "cell_type": "code",
   "execution_count": 31,
   "metadata": {
    "collapsed": false
   },
   "outputs": [],
   "source": [
    "test = word_percent[:1]"
   ]
  },
  {
   "cell_type": "code",
   "execution_count": 32,
   "metadata": {
    "collapsed": false
   },
   "outputs": [
    {
     "name": "stdout",
     "output_type": "stream",
     "text": [
      "[[0.06796116504854369, 0.04854368932038835, 0.019417475728155338, 0.02912621359223301, 0.04854368932038835, 0.019417475728155338, 0.02912621359223301, 0.04854368932038835, 0.05825242718446602, 0.07766990291262135, 0.038834951456310676, 0.04854368932038835, 0.04854368932038835, 0.02912621359223301, 0.02912621359223301, 0.009708737864077669, 0.05825242718446602, 0.02912621359223301, 0.038834951456310676, 0.019417475728155338, 0.02912621359223301, 0.02912621359223301, 0.02912621359223301, 0.05825242718446602, 0.019417475728155338, 0.038834951456310676]]\n"
     ]
    }
   ],
   "source": [
    "print test"
   ]
  },
  {
   "cell_type": "markdown",
   "metadata": {},
   "source": [
    "Runs the word_percent colomn through a loop that turns the lists into numpy arrays for better calculation. "
   ]
  },
  {
   "cell_type": "code",
   "execution_count": 33,
   "metadata": {
    "collapsed": false
   },
   "outputs": [
    {
     "name": "stdout",
     "output_type": "stream",
     "text": [
      "<type 'numpy.ndarray'>\n",
      "<type 'numpy.ndarray'>\n",
      "<type 'numpy.ndarray'>\n"
     ]
    }
   ],
   "source": [
    "word_percent_array = []\n",
    "for n in word_percent[:3]:\n",
    "    n = np.array(n)\n",
    "    print type(n)\n",
    "    word_percent_array.append(n)\n",
    "       "
   ]
  },
  {
   "cell_type": "code",
   "execution_count": 34,
   "metadata": {
    "collapsed": true
   },
   "outputs": [],
   "source": [
    "word_percent_arr = []\n",
    "for n in word_percent:\n",
    "    n = np.array(n)\n",
    "    word_percent_arr.append(n)"
   ]
  },
  {
   "cell_type": "code",
   "execution_count": 35,
   "metadata": {
    "collapsed": false
   },
   "outputs": [
    {
     "name": "stdout",
     "output_type": "stream",
     "text": [
      "[ 0.06796117  0.04854369  0.01941748  0.02912621  0.04854369  0.01941748\n",
      "  0.02912621  0.04854369  0.05825243  0.0776699   0.03883495  0.04854369\n",
      "  0.04854369  0.02912621  0.02912621  0.00970874  0.05825243  0.02912621\n",
      "  0.03883495  0.01941748  0.02912621  0.02912621  0.02912621  0.05825243\n",
      "  0.01941748  0.03883495]\n",
      "[ 0.07246377  0.07246377  0.04347826  0.07246377  0.04347826  0.04347826\n",
      "  0.08695652  0.02898551  0.07246377  0.02898551  0.04347826  0.02898551\n",
      "  0.02898551  0.10144928  0.02898551  0.07246377  0.05797101  0.07246377]\n",
      "[ 0.03472222  0.02777778  0.02777778  0.03472222  0.00694444  0.03472222\n",
      "  0.02083333  0.00694444  0.02777778  0.03472222  0.02777778  0.02083333\n",
      "  0.02777778  0.02083333  0.02777778  0.02777778  0.0625      0.00694444\n",
      "  0.03472222  0.04861111  0.0625      0.00694444  0.05555556  0.02083333\n",
      "  0.02083333  0.04166667  0.00694444  0.03472222  0.03472222  0.01388889\n",
      "  0.02777778  0.04166667  0.02083333  0.02083333  0.02777778]\n"
     ]
    }
   ],
   "source": [
    "for n in word_percent_arr[:3]:\n",
    "    print n"
   ]
  },
  {
   "cell_type": "code",
   "execution_count": 36,
   "metadata": {
    "collapsed": true
   },
   "outputs": [],
   "source": [
    "df_wizard['word_percent_arr'] = word_percent_arr"
   ]
  },
  {
   "cell_type": "code",
   "execution_count": 37,
   "metadata": {
    "collapsed": false
   },
   "outputs": [
    {
     "data": {
      "text/html": [
       "<div>\n",
       "<table border=\"1\" class=\"dataframe\">\n",
       "  <thead>\n",
       "    <tr style=\"text-align: right;\">\n",
       "      <th></th>\n",
       "      <th>Sentences</th>\n",
       "      <th>wrd_lengths</th>\n",
       "      <th>char_total</th>\n",
       "      <th>word_percent_arr</th>\n",
       "    </tr>\n",
       "  </thead>\n",
       "  <tbody>\n",
       "    <tr>\n",
       "      <th>0</th>\n",
       "      <td>Dorothy lived in the midst of the great Kansas...</td>\n",
       "      <td>[7, 5, 2, 3, 5, 2, 3, 5, 6, 8, 4, 5, 5, 3, 3, ...</td>\n",
       "      <td>103</td>\n",
       "      <td>[0.0679611650485, 0.0485436893204, 0.019417475...</td>\n",
       "    </tr>\n",
       "    <tr>\n",
       "      <th>1</th>\n",
       "      <td>Their\\nhouse was small, for the lumber to buil...</td>\n",
       "      <td>[5, 5, 3, 5, 3, 3, 6, 2, 5, 2, 3, 2, 2, 7, 2, ...</td>\n",
       "      <td>69</td>\n",
       "      <td>[0.0724637681159, 0.0724637681159, 0.043478260...</td>\n",
       "    </tr>\n",
       "    <tr>\n",
       "      <th>2</th>\n",
       "      <td>There were four walls, a floor and a roof, whi...</td>\n",
       "      <td>[5, 4, 4, 5, 1, 5, 3, 1, 4, 5, 4, 3, 4, 3, 4, ...</td>\n",
       "      <td>144</td>\n",
       "      <td>[0.0347222222222, 0.0277777777778, 0.027777777...</td>\n",
       "    </tr>\n",
       "    <tr>\n",
       "      <th>3</th>\n",
       "      <td>Uncle Henry\\nand Aunt Em had a big bed in one ...</td>\n",
       "      <td>[5, 5, 3, 4, 2, 3, 1, 3, 3, 2, 3, 6, 3, 7, 1, ...</td>\n",
       "      <td>75</td>\n",
       "      <td>[0.0666666666667, 0.0666666666667, 0.04, 0.053...</td>\n",
       "    </tr>\n",
       "    <tr>\n",
       "      <th>4</th>\n",
       "      <td>There was no garret at all, and no cellar--exc...</td>\n",
       "      <td>[5, 3, 2, 6, 2, 3, 3, 2, 6, 6, 1, 5, 4, 3, 2, ...</td>\n",
       "      <td>178</td>\n",
       "      <td>[0.0280898876404, 0.0168539325843, 0.011235955...</td>\n",
       "    </tr>\n",
       "  </tbody>\n",
       "</table>\n",
       "</div>"
      ],
      "text/plain": [
       "                                           Sentences  \\\n",
       "0  Dorothy lived in the midst of the great Kansas...   \n",
       "1  Their\\nhouse was small, for the lumber to buil...   \n",
       "2  There were four walls, a floor and a roof, whi...   \n",
       "3  Uncle Henry\\nand Aunt Em had a big bed in one ...   \n",
       "4  There was no garret at all, and no cellar--exc...   \n",
       "\n",
       "                                         wrd_lengths  char_total  \\\n",
       "0  [7, 5, 2, 3, 5, 2, 3, 5, 6, 8, 4, 5, 5, 3, 3, ...         103   \n",
       "1  [5, 5, 3, 5, 3, 3, 6, 2, 5, 2, 3, 2, 2, 7, 2, ...          69   \n",
       "2  [5, 4, 4, 5, 1, 5, 3, 1, 4, 5, 4, 3, 4, 3, 4, ...         144   \n",
       "3  [5, 5, 3, 4, 2, 3, 1, 3, 3, 2, 3, 6, 3, 7, 1, ...          75   \n",
       "4  [5, 3, 2, 6, 2, 3, 3, 2, 6, 6, 1, 5, 4, 3, 2, ...         178   \n",
       "\n",
       "                                    word_percent_arr  \n",
       "0  [0.0679611650485, 0.0485436893204, 0.019417475...  \n",
       "1  [0.0724637681159, 0.0724637681159, 0.043478260...  \n",
       "2  [0.0347222222222, 0.0277777777778, 0.027777777...  \n",
       "3  [0.0666666666667, 0.0666666666667, 0.04, 0.053...  \n",
       "4  [0.0280898876404, 0.0168539325843, 0.011235955...  "
      ]
     },
     "execution_count": 37,
     "metadata": {},
     "output_type": "execute_result"
    }
   ],
   "source": [
    "df_wizard.head()"
   ]
  },
  {
   "cell_type": "code",
   "execution_count": 38,
   "metadata": {
    "collapsed": false
   },
   "outputs": [
    {
     "data": {
      "text/html": [
       "<div>\n",
       "<table border=\"1\" class=\"dataframe\">\n",
       "  <thead>\n",
       "    <tr style=\"text-align: right;\">\n",
       "      <th></th>\n",
       "      <th>Sentences</th>\n",
       "      <th>wrd_lengths</th>\n",
       "      <th>char_total</th>\n",
       "      <th>word_percent_arr</th>\n",
       "    </tr>\n",
       "  </thead>\n",
       "  <tbody>\n",
       "    <tr>\n",
       "      <th>2211</th>\n",
       "      <td>\"Where in the world did you come from?\"</td>\n",
       "      <td>[5, 2, 3, 5, 3, 3, 4, 4]</td>\n",
       "      <td>29</td>\n",
       "      <td>[0.172413793103, 0.0689655172414, 0.1034482758...</td>\n",
       "    </tr>\n",
       "    <tr>\n",
       "      <th>2212</th>\n",
       "      <td>\"From the Land of Oz,\" said Dorothy gravely.</td>\n",
       "      <td>[4, 3, 4, 2, 2, 4, 7, 7]</td>\n",
       "      <td>33</td>\n",
       "      <td>[0.121212121212, 0.0909090909091, 0.1212121212...</td>\n",
       "    </tr>\n",
       "    <tr>\n",
       "      <th>2213</th>\n",
       "      <td>\"And here is Toto, too.</td>\n",
       "      <td>[3, 4, 2, 4, 3]</td>\n",
       "      <td>16</td>\n",
       "      <td>[0.1875, 0.25, 0.125, 0.25, 0.1875]</td>\n",
       "    </tr>\n",
       "    <tr>\n",
       "      <th>2214</th>\n",
       "      <td>And oh, Aunt Em!</td>\n",
       "      <td>[3, 2, 4, 2]</td>\n",
       "      <td>11</td>\n",
       "      <td>[0.272727272727, 0.181818181818, 0.36363636363...</td>\n",
       "    </tr>\n",
       "    <tr>\n",
       "      <th>2215</th>\n",
       "      <td>I'm so glad to be at home again!\"</td>\n",
       "      <td>[1, 2, 2, 4, 2, 2, 2, 4, 5]</td>\n",
       "      <td>24</td>\n",
       "      <td>[0.0416666666667, 0.0833333333333, 0.083333333...</td>\n",
       "    </tr>\n",
       "  </tbody>\n",
       "</table>\n",
       "</div>"
      ],
      "text/plain": [
       "                                         Sentences  \\\n",
       "2211       \"Where in the world did you come from?\"   \n",
       "2212  \"From the Land of Oz,\" said Dorothy gravely.   \n",
       "2213                       \"And here is Toto, too.   \n",
       "2214                              And oh, Aunt Em!   \n",
       "2215             I'm so glad to be at home again!\"   \n",
       "\n",
       "                      wrd_lengths  char_total  \\\n",
       "2211     [5, 2, 3, 5, 3, 3, 4, 4]          29   \n",
       "2212     [4, 3, 4, 2, 2, 4, 7, 7]          33   \n",
       "2213              [3, 4, 2, 4, 3]          16   \n",
       "2214                 [3, 2, 4, 2]          11   \n",
       "2215  [1, 2, 2, 4, 2, 2, 2, 4, 5]          24   \n",
       "\n",
       "                                       word_percent_arr  \n",
       "2211  [0.172413793103, 0.0689655172414, 0.1034482758...  \n",
       "2212  [0.121212121212, 0.0909090909091, 0.1212121212...  \n",
       "2213                [0.1875, 0.25, 0.125, 0.25, 0.1875]  \n",
       "2214  [0.272727272727, 0.181818181818, 0.36363636363...  \n",
       "2215  [0.0416666666667, 0.0833333333333, 0.083333333...  "
      ]
     },
     "execution_count": 38,
     "metadata": {},
     "output_type": "execute_result"
    }
   ],
   "source": [
    "df_wizard.tail()"
   ]
  },
  {
   "cell_type": "code",
   "execution_count": 39,
   "metadata": {
    "collapsed": false
   },
   "outputs": [
    {
     "data": {
      "text/plain": [
       "<matplotlib.axes._subplots.AxesSubplot at 0x1191cbb50>"
      ]
     },
     "execution_count": 39,
     "metadata": {},
     "output_type": "execute_result"
    },
    {
     "data": {
      "image/png": "[encoded data removed]",
      "text/plain": [
       "<matplotlib.figure.Figure at 0x1190f0f10>"
      ]
     },
     "metadata": {},
     "output_type": "display_data"
    }
   ],
   "source": [
    "df_wizard['char_total'].plot.hist()"
   ]
  },
  {
   "cell_type": "code",
   "execution_count": 40,
   "metadata": {
    "collapsed": false
   },
   "outputs": [
    {
     "data": {
      "text/plain": [
       "[<matplotlib.lines.Line2D at 0x11c191710>]"
      ]
     },
     "execution_count": 40,
     "metadata": {},
     "output_type": "execute_result"
    },
    {
     "data": {
      "image/png": "[encoded data removed]",
      "text/plain": [
       "<matplotlib.figure.Figure at 0x1195b6cd0>"
      ]
     },
     "metadata": {},
     "output_type": "display_data"
    }
   ],
   "source": [
    "plt.plot(df_wizard['word_percent_arr'][0])\n",
    "plt.plot(df_wizard['word_percent_arr'][1])\n",
    "plt.plot(df_wizard['word_percent_arr'][2])\n",
    "plt.plot(df_wizard['word_percent_arr'][3])\n",
    "plt.plot(df_wizard['word_percent_arr'][4])\n",
    "plt.plot(df_wizard['word_percent_arr'][5])"
   ]
  },
  {
   "cell_type": "code",
   "execution_count": 41,
   "metadata": {
    "collapsed": false
   },
   "outputs": [
    {
     "data": {
      "text/plain": [
       "[<matplotlib.lines.Line2D at 0x11c478f90>]"
      ]
     },
     "execution_count": 41,
     "metadata": {},
     "output_type": "execute_result"
    },
    {
     "data": {
      "image/png": "[encoded data removed]",
      "text/plain": [
       "<matplotlib.figure.Figure at 0x1195b6bd0>"
      ]
     },
     "metadata": {},
     "output_type": "display_data"
    }
   ],
   "source": [
    "plt.plot(df_wizard['wrd_lengths'][0])\n",
    "plt.plot(df_wizard['wrd_lengths'][1])\n",
    "plt.plot(df_wizard['wrd_lengths'][2])"
   ]
  },
  {
   "cell_type": "code",
   "execution_count": 42,
   "metadata": {
    "collapsed": false
   },
   "outputs": [
    {
     "data": {
      "text/plain": [
       "<matplotlib.axes._subplots.AxesSubplot at 0x11c49d310>"
      ]
     },
     "execution_count": 42,
     "metadata": {},
     "output_type": "execute_result"
    },
    {
     "data": {
      "image/png": "[encoded data removed]",
      "text/plain": [
       "<matplotlib.figure.Figure at 0x11bc3c450>"
      ]
     },
     "metadata": {},
     "output_type": "display_data"
    }
   ],
   "source": [
    "df_wizard['char_total'].plot()"
   ]
  },
  {
   "cell_type": "markdown",
   "metadata": {},
   "source": [
    "### 2.3 Create the syl_count column\n",
    "I borrowed this code that counts the syllables in words from https://github.com/DigTheDoug/SyllableCounter/blob/master/SyllableCounter.py and am working on making it more accurate. "
   ]
  },
  {
   "cell_type": "code",
   "execution_count": 43,
   "metadata": {
    "collapsed": true
   },
   "outputs": [],
   "source": [
    "def CountSyllables(word, isName=True):\n",
    "    vowels = \"aeiouy\"\n",
    "    #single syllables in words like bread and lead, but split in names like Breanne and Adreann\n",
    "    specials = [\"ia\",\"ea\"] if isName else [\"ia\"]\n",
    "    specials_except_end = [\"ie\",\"ya\",\"es\",\"ed\"]  #seperate syllables unless ending the word\n",
    "    currentWord = word.lower()\n",
    "    numVowels = 0\n",
    "    lastWasVowel = False\n",
    "    last_letter = \"\"\n",
    "\n",
    "    for letter in currentWord:\n",
    "        if letter in vowels:\n",
    "            #don't count diphthongs unless special cases\n",
    "            combo = last_letter+letter\n",
    "            if lastWasVowel and combo not in specials and combo not in specials_except_end:\n",
    "                lastWasVowel = True\n",
    "            else:\n",
    "                numVowels += 1\n",
    "                lastWasVowel = True\n",
    "        else:\n",
    "            lastWasVowel = False\n",
    "\n",
    "        last_letter = letter\n",
    "\n",
    "    #remove es & ed which are usually silent\n",
    "    if len(currentWord) > 2 and currentWord[-2:] in specials_except_end:\n",
    "        numVowels -= 1\n",
    "\n",
    "    #remove silent single e, but not ee since it counted it before and we should be correct\n",
    "    elif len(currentWord) > 2 and currentWord[-1:] == \"e\" and currentWord[-2:] != \"ee\" and currentWord != 'the':\n",
    "        numVowels -= 1\n",
    "\n",
    "    return numVowels"
   ]
  },
  {
   "cell_type": "markdown",
   "metadata": {},
   "source": [
    "A loop that sends the first sentence through the CountSyllables function and prints the word with the syllable count."
   ]
  },
  {
   "cell_type": "code",
   "execution_count": 44,
   "metadata": {
    "collapsed": false
   },
   "outputs": [
    {
     "name": "stdout",
     "output_type": "stream",
     "text": [
      "Dorothy\n",
      "3\n",
      "lived\n",
      "1\n",
      "in\n",
      "1\n",
      "the\n",
      "1\n",
      "midst\n",
      "1\n",
      "of\n",
      "1\n",
      "the\n",
      "1\n",
      "great\n",
      "2\n",
      "Kansas\n",
      "2\n",
      "prairies\n",
      "2\n",
      "with\n",
      "1\n",
      "Uncle\n",
      "1\n",
      "Henry\n",
      "2\n",
      "who\n",
      "1\n",
      "was\n",
      "1\n",
      "a\n",
      "1\n",
      "farmer\n",
      "2\n",
      "and\n",
      "1\n",
      "Aunt\n",
      "1\n",
      "Em\n",
      "1\n",
      "who\n",
      "1\n",
      "was\n",
      "1\n",
      "the\n",
      "1\n",
      "farmer\n",
      "2\n",
      "'s\n",
      "0\n",
      "wife\n",
      "1\n"
     ]
    }
   ],
   "source": [
    "for l in df_wizard['Sentences'][:1]:\n",
    "    sent = TextBlob(l)\n",
    "    for x in sent.words:\n",
    "        print x\n",
    "        m = CountSyllables(x) \n",
    "        print m\n",
    "    \n",
    "   "
   ]
  },
  {
   "cell_type": "code",
   "execution_count": 45,
   "metadata": {
    "collapsed": false
   },
   "outputs": [
    {
     "name": "stdout",
     "output_type": "stream",
     "text": [
      "Dorothy lived in the midst of the great Kansas prairies, with Uncle\n",
      "Henry, who was a farmer, and Aunt Em, who was the farmer's wife.\n"
     ]
    }
   ],
   "source": [
    "print df_wizard['Sentences'][0]"
   ]
  },
  {
   "cell_type": "markdown",
   "metadata": {},
   "source": [
    "As you can see the funciton is not completely accurate. However I compared it to other code I found on github and found this one to be more accurate and easier to understand so I am going to focus on improving this one."
   ]
  },
  {
   "cell_type": "code",
   "execution_count": 46,
   "metadata": {
    "collapsed": false
   },
   "outputs": [
    {
     "data": {
      "text/plain": [
       "1"
      ]
     },
     "execution_count": 46,
     "metadata": {},
     "output_type": "execute_result"
    }
   ],
   "source": [
    "CountSyllables('apple')"
   ]
  },
  {
   "cell_type": "code",
   "execution_count": 47,
   "metadata": {
    "collapsed": false,
    "scrolled": true
   },
   "outputs": [
    {
     "name": "stdout",
     "output_type": "stream",
     "text": [
      "And\n",
      "1\n",
      "Toto\n",
      "2\n",
      "looked\n",
      "1\n",
      "up\n",
      "1\n",
      "into\n",
      "2\n",
      "her\n",
      "1\n",
      "face\n",
      "1\n",
      "with\n",
      "1\n",
      "his\n",
      "1\n",
      "little\n",
      "1\n",
      "black\n",
      "1\n",
      "eyes\n",
      "0\n",
      "and\n",
      "1\n",
      "wagged\n",
      "1\n",
      "his\n",
      "1\n",
      "tail\n",
      "1\n",
      "to\n",
      "1\n",
      "show\n",
      "1\n",
      "he\n",
      "1\n",
      "knew\n",
      "1\n",
      "what\n",
      "1\n",
      "she\n",
      "0\n",
      "meant\n",
      "2\n"
     ]
    }
   ],
   "source": [
    "for l in df_wizard['Sentences'][200:201]:\n",
    "    sent = TextBlob(l)\n",
    "    for x in sent.words:\n",
    "        print x\n",
    "        m = CountSyllables(x) \n",
    "        print m\n",
    "    "
   ]
  },
  {
   "cell_type": "markdown",
   "metadata": {},
   "source": [
    "This creates an csv file with the word and its syllable count underneath so that I can work on improving the accuracy. "
   ]
  },
  {
   "cell_type": "code",
   "execution_count": 48,
   "metadata": {
    "collapsed": true
   },
   "outputs": [],
   "source": [
    "sylWriter = csv.writer(open('syl_test2.csv', 'w'), delimiter=',')    \n",
    "    \n",
    "for l in df_wizard['Sentences']:\n",
    "    sent = TextBlob(l)\n",
    "    for x in sent.words:\n",
    "        sylWriter.writerow([x])\n",
    "        m = CountSyllables(x) \n",
    "        sylWriter.writerow([m])          \n",
    "        \n",
    "          "
   ]
  },
  {
   "cell_type": "markdown",
   "metadata": {},
   "source": [
    "Creates the column containing the syllable count of each word for each sentence."
   ]
  },
  {
   "cell_type": "code",
   "execution_count": 49,
   "metadata": {
    "collapsed": true
   },
   "outputs": [],
   "source": [
    "syl = []\n",
    "for l in df_wizard['Sentences']:\n",
    "    sent = TextBlob(l)\n",
    "    syl_single = []\n",
    "    for x in sent.words:\n",
    "        m = CountSyllables(x)\n",
    "        syl_single.append(m)\n",
    "    syl.append(syl_single)    "
   ]
  },
  {
   "cell_type": "code",
   "execution_count": 50,
   "metadata": {
    "collapsed": true
   },
   "outputs": [],
   "source": [
    "df_wizard['syl_count'] = syl"
   ]
  },
  {
   "cell_type": "code",
   "execution_count": 51,
   "metadata": {
    "collapsed": false
   },
   "outputs": [
    {
     "data": {
      "text/html": [
       "<div>\n",
       "<table border=\"1\" class=\"dataframe\">\n",
       "  <thead>\n",
       "    <tr style=\"text-align: right;\">\n",
       "      <th></th>\n",
       "      <th>Sentences</th>\n",
       "      <th>wrd_lengths</th>\n",
       "      <th>char_total</th>\n",
       "      <th>word_percent_arr</th>\n",
       "      <th>syl_count</th>\n",
       "    </tr>\n",
       "  </thead>\n",
       "  <tbody>\n",
       "    <tr>\n",
       "      <th>0</th>\n",
       "      <td>Dorothy lived in the midst of the great Kansas...</td>\n",
       "      <td>[7, 5, 2, 3, 5, 2, 3, 5, 6, 8, 4, 5, 5, 3, 3, ...</td>\n",
       "      <td>103</td>\n",
       "      <td>[0.0679611650485, 0.0485436893204, 0.019417475...</td>\n",
       "      <td>[3, 1, 1, 1, 1, 1, 1, 2, 2, 2, 1, 1, 2, 1, 1, ...</td>\n",
       "    </tr>\n",
       "    <tr>\n",
       "      <th>1</th>\n",
       "      <td>Their\\nhouse was small, for the lumber to buil...</td>\n",
       "      <td>[5, 5, 3, 5, 3, 3, 6, 2, 5, 2, 3, 2, 2, 7, 2, ...</td>\n",
       "      <td>69</td>\n",
       "      <td>[0.0724637681159, 0.0724637681159, 0.043478260...</td>\n",
       "      <td>[1, 1, 1, 1, 1, 1, 2, 1, 1, 1, 1, 1, 1, 2, 1, ...</td>\n",
       "    </tr>\n",
       "    <tr>\n",
       "      <th>2</th>\n",
       "      <td>There were four walls, a floor and a roof, whi...</td>\n",
       "      <td>[5, 4, 4, 5, 1, 5, 3, 1, 4, 5, 4, 3, 4, 3, 4, ...</td>\n",
       "      <td>144</td>\n",
       "      <td>[0.0347222222222, 0.0277777777778, 0.027777777...</td>\n",
       "      <td>[1, 1, 1, 1, 1, 1, 1, 1, 1, 1, 1, 1, 1, 1, 1, ...</td>\n",
       "    </tr>\n",
       "    <tr>\n",
       "      <th>3</th>\n",
       "      <td>Uncle Henry\\nand Aunt Em had a big bed in one ...</td>\n",
       "      <td>[5, 5, 3, 4, 2, 3, 1, 3, 3, 2, 3, 6, 3, 7, 1, ...</td>\n",
       "      <td>75</td>\n",
       "      <td>[0.0666666666667, 0.0666666666667, 0.04, 0.053...</td>\n",
       "      <td>[1, 2, 1, 1, 1, 1, 1, 1, 0, 1, 1, 2, 1, 3, 1, ...</td>\n",
       "    </tr>\n",
       "    <tr>\n",
       "      <th>4</th>\n",
       "      <td>There was no garret at all, and no cellar--exc...</td>\n",
       "      <td>[5, 3, 2, 6, 2, 3, 3, 2, 6, 6, 1, 5, 4, 3, 2, ...</td>\n",
       "      <td>178</td>\n",
       "      <td>[0.0280898876404, 0.0168539325843, 0.011235955...</td>\n",
       "      <td>[1, 1, 1, 2, 1, 1, 1, 1, 2, 2, 1, 1, 1, 1, 1, ...</td>\n",
       "    </tr>\n",
       "  </tbody>\n",
       "</table>\n",
       "</div>"
      ],
      "text/plain": [
       "                                           Sentences  \\\n",
       "0  Dorothy lived in the midst of the great Kansas...   \n",
       "1  Their\\nhouse was small, for the lumber to buil...   \n",
       "2  There were four walls, a floor and a roof, whi...   \n",
       "3  Uncle Henry\\nand Aunt Em had a big bed in one ...   \n",
       "4  There was no garret at all, and no cellar--exc...   \n",
       "\n",
       "                                         wrd_lengths  char_total  \\\n",
       "0  [7, 5, 2, 3, 5, 2, 3, 5, 6, 8, 4, 5, 5, 3, 3, ...         103   \n",
       "1  [5, 5, 3, 5, 3, 3, 6, 2, 5, 2, 3, 2, 2, 7, 2, ...          69   \n",
       "2  [5, 4, 4, 5, 1, 5, 3, 1, 4, 5, 4, 3, 4, 3, 4, ...         144   \n",
       "3  [5, 5, 3, 4, 2, 3, 1, 3, 3, 2, 3, 6, 3, 7, 1, ...          75   \n",
       "4  [5, 3, 2, 6, 2, 3, 3, 2, 6, 6, 1, 5, 4, 3, 2, ...         178   \n",
       "\n",
       "                                    word_percent_arr  \\\n",
       "0  [0.0679611650485, 0.0485436893204, 0.019417475...   \n",
       "1  [0.0724637681159, 0.0724637681159, 0.043478260...   \n",
       "2  [0.0347222222222, 0.0277777777778, 0.027777777...   \n",
       "3  [0.0666666666667, 0.0666666666667, 0.04, 0.053...   \n",
       "4  [0.0280898876404, 0.0168539325843, 0.011235955...   \n",
       "\n",
       "                                           syl_count  \n",
       "0  [3, 1, 1, 1, 1, 1, 1, 2, 2, 2, 1, 1, 2, 1, 1, ...  \n",
       "1  [1, 1, 1, 1, 1, 1, 2, 1, 1, 1, 1, 1, 1, 2, 1, ...  \n",
       "2  [1, 1, 1, 1, 1, 1, 1, 1, 1, 1, 1, 1, 1, 1, 1, ...  \n",
       "3  [1, 2, 1, 1, 1, 1, 1, 1, 0, 1, 1, 2, 1, 3, 1, ...  \n",
       "4  [1, 1, 1, 2, 1, 1, 1, 1, 2, 2, 1, 1, 1, 1, 1, ...  "
      ]
     },
     "execution_count": 51,
     "metadata": {},
     "output_type": "execute_result"
    }
   ],
   "source": [
    "df_wizard.head()"
   ]
  },
  {
   "cell_type": "code",
   "execution_count": 52,
   "metadata": {
    "collapsed": false
   },
   "outputs": [
    {
     "data": {
      "text/html": [
       "<div>\n",
       "<table border=\"1\" class=\"dataframe\">\n",
       "  <thead>\n",
       "    <tr style=\"text-align: right;\">\n",
       "      <th></th>\n",
       "      <th>Sentences</th>\n",
       "      <th>wrd_lengths</th>\n",
       "      <th>char_total</th>\n",
       "      <th>word_percent_arr</th>\n",
       "      <th>syl_count</th>\n",
       "    </tr>\n",
       "  </thead>\n",
       "  <tbody>\n",
       "    <tr>\n",
       "      <th>2211</th>\n",
       "      <td>\"Where in the world did you come from?\"</td>\n",
       "      <td>[5, 2, 3, 5, 3, 3, 4, 4]</td>\n",
       "      <td>29</td>\n",
       "      <td>[0.172413793103, 0.0689655172414, 0.1034482758...</td>\n",
       "      <td>[1, 1, 1, 1, 1, 1, 1, 1]</td>\n",
       "    </tr>\n",
       "    <tr>\n",
       "      <th>2212</th>\n",
       "      <td>\"From the Land of Oz,\" said Dorothy gravely.</td>\n",
       "      <td>[4, 3, 4, 2, 2, 4, 7, 7]</td>\n",
       "      <td>33</td>\n",
       "      <td>[0.121212121212, 0.0909090909091, 0.1212121212...</td>\n",
       "      <td>[1, 1, 1, 1, 1, 1, 3, 3]</td>\n",
       "    </tr>\n",
       "    <tr>\n",
       "      <th>2213</th>\n",
       "      <td>\"And here is Toto, too.</td>\n",
       "      <td>[3, 4, 2, 4, 3]</td>\n",
       "      <td>16</td>\n",
       "      <td>[0.1875, 0.25, 0.125, 0.25, 0.1875]</td>\n",
       "      <td>[1, 1, 1, 2, 1]</td>\n",
       "    </tr>\n",
       "    <tr>\n",
       "      <th>2214</th>\n",
       "      <td>And oh, Aunt Em!</td>\n",
       "      <td>[3, 2, 4, 2]</td>\n",
       "      <td>11</td>\n",
       "      <td>[0.272727272727, 0.181818181818, 0.36363636363...</td>\n",
       "      <td>[1, 1, 1, 1]</td>\n",
       "    </tr>\n",
       "    <tr>\n",
       "      <th>2215</th>\n",
       "      <td>I'm so glad to be at home again!\"</td>\n",
       "      <td>[1, 2, 2, 4, 2, 2, 2, 4, 5]</td>\n",
       "      <td>24</td>\n",
       "      <td>[0.0416666666667, 0.0833333333333, 0.083333333...</td>\n",
       "      <td>[1, 0, 1, 1, 1, 1, 1, 1, 2]</td>\n",
       "    </tr>\n",
       "  </tbody>\n",
       "</table>\n",
       "</div>"
      ],
      "text/plain": [
       "                                         Sentences  \\\n",
       "2211       \"Where in the world did you come from?\"   \n",
       "2212  \"From the Land of Oz,\" said Dorothy gravely.   \n",
       "2213                       \"And here is Toto, too.   \n",
       "2214                              And oh, Aunt Em!   \n",
       "2215             I'm so glad to be at home again!\"   \n",
       "\n",
       "                      wrd_lengths  char_total  \\\n",
       "2211     [5, 2, 3, 5, 3, 3, 4, 4]          29   \n",
       "2212     [4, 3, 4, 2, 2, 4, 7, 7]          33   \n",
       "2213              [3, 4, 2, 4, 3]          16   \n",
       "2214                 [3, 2, 4, 2]          11   \n",
       "2215  [1, 2, 2, 4, 2, 2, 2, 4, 5]          24   \n",
       "\n",
       "                                       word_percent_arr  \\\n",
       "2211  [0.172413793103, 0.0689655172414, 0.1034482758...   \n",
       "2212  [0.121212121212, 0.0909090909091, 0.1212121212...   \n",
       "2213                [0.1875, 0.25, 0.125, 0.25, 0.1875]   \n",
       "2214  [0.272727272727, 0.181818181818, 0.36363636363...   \n",
       "2215  [0.0416666666667, 0.0833333333333, 0.083333333...   \n",
       "\n",
       "                        syl_count  \n",
       "2211     [1, 1, 1, 1, 1, 1, 1, 1]  \n",
       "2212     [1, 1, 1, 1, 1, 1, 3, 3]  \n",
       "2213              [1, 1, 1, 2, 1]  \n",
       "2214                 [1, 1, 1, 1]  \n",
       "2215  [1, 0, 1, 1, 1, 1, 1, 1, 2]  "
      ]
     },
     "execution_count": 52,
     "metadata": {},
     "output_type": "execute_result"
    }
   ],
   "source": [
    "df_wizard.tail()"
   ]
  },
  {
   "cell_type": "markdown",
   "metadata": {},
   "source": [
    "Creates a column with the syllable counts in arrays. "
   ]
  },
  {
   "cell_type": "code",
   "execution_count": 53,
   "metadata": {
    "collapsed": false
   },
   "outputs": [],
   "source": [
    "syl_count_arr = []\n",
    "for n in df_wizard['syl_count']:\n",
    "    n = np.array(n)\n",
    "    syl_count_arr.append(n)"
   ]
  },
  {
   "cell_type": "code",
   "execution_count": 54,
   "metadata": {
    "collapsed": false
   },
   "outputs": [
    {
     "data": {
      "text/plain": [
       "[array([3, 1, 1, 1, 1, 1, 1, 2, 2, 2, 1, 1, 2, 1, 1, 1, 2, 1, 1, 1, 1, 1, 1,\n",
       "        2, 0, 1]),\n",
       " array([1, 1, 1, 1, 1, 1, 2, 1, 1, 1, 1, 1, 1, 2, 1, 2, 2, 1]),\n",
       " array([1, 1, 1, 1, 1, 1, 1, 1, 1, 1, 1, 1, 1, 1, 1, 1, 2, 1, 2, 2, 2, 1, 2,\n",
       "        1, 1, 1, 1, 1, 1, 1, 1, 1, 1, 1, 1]),\n",
       " array([1, 2, 1, 1, 1, 1, 1, 1, 0, 1, 1, 2, 1, 3, 1, 1, 0, 1, 3, 2]),\n",
       " array([1, 1, 1, 2, 1, 1, 1, 1, 2, 2, 1, 1, 1, 1, 1, 1, 1, 1, 1, 2, 2, 1, 1,\n",
       "        3, 1, 1, 1, 1, 1, 1, 1, 2, 2, 2, 2, 2, 1, 1, 2, 2, 1, 1, 1])]"
      ]
     },
     "execution_count": 54,
     "metadata": {},
     "output_type": "execute_result"
    }
   ],
   "source": [
    "syl_count_arr[:5]"
   ]
  },
  {
   "cell_type": "code",
   "execution_count": 55,
   "metadata": {
    "collapsed": true
   },
   "outputs": [],
   "source": [
    "df_wizard['syl_count_arr'] = syl_count_arr"
   ]
  },
  {
   "cell_type": "code",
   "execution_count": 56,
   "metadata": {
    "collapsed": false
   },
   "outputs": [
    {
     "data": {
      "text/html": [
       "<div>\n",
       "<table border=\"1\" class=\"dataframe\">\n",
       "  <thead>\n",
       "    <tr style=\"text-align: right;\">\n",
       "      <th></th>\n",
       "      <th>Sentences</th>\n",
       "      <th>wrd_lengths</th>\n",
       "      <th>char_total</th>\n",
       "      <th>word_percent_arr</th>\n",
       "      <th>syl_count</th>\n",
       "      <th>syl_count_arr</th>\n",
       "    </tr>\n",
       "  </thead>\n",
       "  <tbody>\n",
       "    <tr>\n",
       "      <th>0</th>\n",
       "      <td>Dorothy lived in the midst of the great Kansas...</td>\n",
       "      <td>[7, 5, 2, 3, 5, 2, 3, 5, 6, 8, 4, 5, 5, 3, 3, ...</td>\n",
       "      <td>103</td>\n",
       "      <td>[0.0679611650485, 0.0485436893204, 0.019417475...</td>\n",
       "      <td>[3, 1, 1, 1, 1, 1, 1, 2, 2, 2, 1, 1, 2, 1, 1, ...</td>\n",
       "      <td>[3, 1, 1, 1, 1, 1, 1, 2, 2, 2, 1, 1, 2, 1, 1, ...</td>\n",
       "    </tr>\n",
       "    <tr>\n",
       "      <th>1</th>\n",
       "      <td>Their\\nhouse was small, for the lumber to buil...</td>\n",
       "      <td>[5, 5, 3, 5, 3, 3, 6, 2, 5, 2, 3, 2, 2, 7, 2, ...</td>\n",
       "      <td>69</td>\n",
       "      <td>[0.0724637681159, 0.0724637681159, 0.043478260...</td>\n",
       "      <td>[1, 1, 1, 1, 1, 1, 2, 1, 1, 1, 1, 1, 1, 2, 1, ...</td>\n",
       "      <td>[1, 1, 1, 1, 1, 1, 2, 1, 1, 1, 1, 1, 1, 2, 1, ...</td>\n",
       "    </tr>\n",
       "    <tr>\n",
       "      <th>2</th>\n",
       "      <td>There were four walls, a floor and a roof, whi...</td>\n",
       "      <td>[5, 4, 4, 5, 1, 5, 3, 1, 4, 5, 4, 3, 4, 3, 4, ...</td>\n",
       "      <td>144</td>\n",
       "      <td>[0.0347222222222, 0.0277777777778, 0.027777777...</td>\n",
       "      <td>[1, 1, 1, 1, 1, 1, 1, 1, 1, 1, 1, 1, 1, 1, 1, ...</td>\n",
       "      <td>[1, 1, 1, 1, 1, 1, 1, 1, 1, 1, 1, 1, 1, 1, 1, ...</td>\n",
       "    </tr>\n",
       "    <tr>\n",
       "      <th>3</th>\n",
       "      <td>Uncle Henry\\nand Aunt Em had a big bed in one ...</td>\n",
       "      <td>[5, 5, 3, 4, 2, 3, 1, 3, 3, 2, 3, 6, 3, 7, 1, ...</td>\n",
       "      <td>75</td>\n",
       "      <td>[0.0666666666667, 0.0666666666667, 0.04, 0.053...</td>\n",
       "      <td>[1, 2, 1, 1, 1, 1, 1, 1, 0, 1, 1, 2, 1, 3, 1, ...</td>\n",
       "      <td>[1, 2, 1, 1, 1, 1, 1, 1, 0, 1, 1, 2, 1, 3, 1, ...</td>\n",
       "    </tr>\n",
       "    <tr>\n",
       "      <th>4</th>\n",
       "      <td>There was no garret at all, and no cellar--exc...</td>\n",
       "      <td>[5, 3, 2, 6, 2, 3, 3, 2, 6, 6, 1, 5, 4, 3, 2, ...</td>\n",
       "      <td>178</td>\n",
       "      <td>[0.0280898876404, 0.0168539325843, 0.011235955...</td>\n",
       "      <td>[1, 1, 1, 2, 1, 1, 1, 1, 2, 2, 1, 1, 1, 1, 1, ...</td>\n",
       "      <td>[1, 1, 1, 2, 1, 1, 1, 1, 2, 2, 1, 1, 1, 1, 1, ...</td>\n",
       "    </tr>\n",
       "  </tbody>\n",
       "</table>\n",
       "</div>"
      ],
      "text/plain": [
       "                                           Sentences  \\\n",
       "0  Dorothy lived in the midst of the great Kansas...   \n",
       "1  Their\\nhouse was small, for the lumber to buil...   \n",
       "2  There were four walls, a floor and a roof, whi...   \n",
       "3  Uncle Henry\\nand Aunt Em had a big bed in one ...   \n",
       "4  There was no garret at all, and no cellar--exc...   \n",
       "\n",
       "                                         wrd_lengths  char_total  \\\n",
       "0  [7, 5, 2, 3, 5, 2, 3, 5, 6, 8, 4, 5, 5, 3, 3, ...         103   \n",
       "1  [5, 5, 3, 5, 3, 3, 6, 2, 5, 2, 3, 2, 2, 7, 2, ...          69   \n",
       "2  [5, 4, 4, 5, 1, 5, 3, 1, 4, 5, 4, 3, 4, 3, 4, ...         144   \n",
       "3  [5, 5, 3, 4, 2, 3, 1, 3, 3, 2, 3, 6, 3, 7, 1, ...          75   \n",
       "4  [5, 3, 2, 6, 2, 3, 3, 2, 6, 6, 1, 5, 4, 3, 2, ...         178   \n",
       "\n",
       "                                    word_percent_arr  \\\n",
       "0  [0.0679611650485, 0.0485436893204, 0.019417475...   \n",
       "1  [0.0724637681159, 0.0724637681159, 0.043478260...   \n",
       "2  [0.0347222222222, 0.0277777777778, 0.027777777...   \n",
       "3  [0.0666666666667, 0.0666666666667, 0.04, 0.053...   \n",
       "4  [0.0280898876404, 0.0168539325843, 0.011235955...   \n",
       "\n",
       "                                           syl_count  \\\n",
       "0  [3, 1, 1, 1, 1, 1, 1, 2, 2, 2, 1, 1, 2, 1, 1, ...   \n",
       "1  [1, 1, 1, 1, 1, 1, 2, 1, 1, 1, 1, 1, 1, 2, 1, ...   \n",
       "2  [1, 1, 1, 1, 1, 1, 1, 1, 1, 1, 1, 1, 1, 1, 1, ...   \n",
       "3  [1, 2, 1, 1, 1, 1, 1, 1, 0, 1, 1, 2, 1, 3, 1, ...   \n",
       "4  [1, 1, 1, 2, 1, 1, 1, 1, 2, 2, 1, 1, 1, 1, 1, ...   \n",
       "\n",
       "                                       syl_count_arr  \n",
       "0  [3, 1, 1, 1, 1, 1, 1, 2, 2, 2, 1, 1, 2, 1, 1, ...  \n",
       "1  [1, 1, 1, 1, 1, 1, 2, 1, 1, 1, 1, 1, 1, 2, 1, ...  \n",
       "2  [1, 1, 1, 1, 1, 1, 1, 1, 1, 1, 1, 1, 1, 1, 1, ...  \n",
       "3  [1, 2, 1, 1, 1, 1, 1, 1, 0, 1, 1, 2, 1, 3, 1, ...  \n",
       "4  [1, 1, 1, 2, 1, 1, 1, 1, 2, 2, 1, 1, 1, 1, 1, ...  "
      ]
     },
     "execution_count": 56,
     "metadata": {},
     "output_type": "execute_result"
    }
   ],
   "source": [
    "df_wizard.head()"
   ]
  },
  {
   "cell_type": "code",
   "execution_count": 57,
   "metadata": {
    "collapsed": false
   },
   "outputs": [
    {
     "data": {
      "text/html": [
       "<div>\n",
       "<table border=\"1\" class=\"dataframe\">\n",
       "  <thead>\n",
       "    <tr style=\"text-align: right;\">\n",
       "      <th></th>\n",
       "      <th>Sentences</th>\n",
       "      <th>wrd_lengths</th>\n",
       "      <th>char_total</th>\n",
       "      <th>word_percent_arr</th>\n",
       "      <th>syl_count</th>\n",
       "      <th>syl_count_arr</th>\n",
       "    </tr>\n",
       "  </thead>\n",
       "  <tbody>\n",
       "    <tr>\n",
       "      <th>2211</th>\n",
       "      <td>\"Where in the world did you come from?\"</td>\n",
       "      <td>[5, 2, 3, 5, 3, 3, 4, 4]</td>\n",
       "      <td>29</td>\n",
       "      <td>[0.172413793103, 0.0689655172414, 0.1034482758...</td>\n",
       "      <td>[1, 1, 1, 1, 1, 1, 1, 1]</td>\n",
       "      <td>[1, 1, 1, 1, 1, 1, 1, 1]</td>\n",
       "    </tr>\n",
       "    <tr>\n",
       "      <th>2212</th>\n",
       "      <td>\"From the Land of Oz,\" said Dorothy gravely.</td>\n",
       "      <td>[4, 3, 4, 2, 2, 4, 7, 7]</td>\n",
       "      <td>33</td>\n",
       "      <td>[0.121212121212, 0.0909090909091, 0.1212121212...</td>\n",
       "      <td>[1, 1, 1, 1, 1, 1, 3, 3]</td>\n",
       "      <td>[1, 1, 1, 1, 1, 1, 3, 3]</td>\n",
       "    </tr>\n",
       "    <tr>\n",
       "      <th>2213</th>\n",
       "      <td>\"And here is Toto, too.</td>\n",
       "      <td>[3, 4, 2, 4, 3]</td>\n",
       "      <td>16</td>\n",
       "      <td>[0.1875, 0.25, 0.125, 0.25, 0.1875]</td>\n",
       "      <td>[1, 1, 1, 2, 1]</td>\n",
       "      <td>[1, 1, 1, 2, 1]</td>\n",
       "    </tr>\n",
       "    <tr>\n",
       "      <th>2214</th>\n",
       "      <td>And oh, Aunt Em!</td>\n",
       "      <td>[3, 2, 4, 2]</td>\n",
       "      <td>11</td>\n",
       "      <td>[0.272727272727, 0.181818181818, 0.36363636363...</td>\n",
       "      <td>[1, 1, 1, 1]</td>\n",
       "      <td>[1, 1, 1, 1]</td>\n",
       "    </tr>\n",
       "    <tr>\n",
       "      <th>2215</th>\n",
       "      <td>I'm so glad to be at home again!\"</td>\n",
       "      <td>[1, 2, 2, 4, 2, 2, 2, 4, 5]</td>\n",
       "      <td>24</td>\n",
       "      <td>[0.0416666666667, 0.0833333333333, 0.083333333...</td>\n",
       "      <td>[1, 0, 1, 1, 1, 1, 1, 1, 2]</td>\n",
       "      <td>[1, 0, 1, 1, 1, 1, 1, 1, 2]</td>\n",
       "    </tr>\n",
       "  </tbody>\n",
       "</table>\n",
       "</div>"
      ],
      "text/plain": [
       "                                         Sentences  \\\n",
       "2211       \"Where in the world did you come from?\"   \n",
       "2212  \"From the Land of Oz,\" said Dorothy gravely.   \n",
       "2213                       \"And here is Toto, too.   \n",
       "2214                              And oh, Aunt Em!   \n",
       "2215             I'm so glad to be at home again!\"   \n",
       "\n",
       "                      wrd_lengths  char_total  \\\n",
       "2211     [5, 2, 3, 5, 3, 3, 4, 4]          29   \n",
       "2212     [4, 3, 4, 2, 2, 4, 7, 7]          33   \n",
       "2213              [3, 4, 2, 4, 3]          16   \n",
       "2214                 [3, 2, 4, 2]          11   \n",
       "2215  [1, 2, 2, 4, 2, 2, 2, 4, 5]          24   \n",
       "\n",
       "                                       word_percent_arr  \\\n",
       "2211  [0.172413793103, 0.0689655172414, 0.1034482758...   \n",
       "2212  [0.121212121212, 0.0909090909091, 0.1212121212...   \n",
       "2213                [0.1875, 0.25, 0.125, 0.25, 0.1875]   \n",
       "2214  [0.272727272727, 0.181818181818, 0.36363636363...   \n",
       "2215  [0.0416666666667, 0.0833333333333, 0.083333333...   \n",
       "\n",
       "                        syl_count                syl_count_arr  \n",
       "2211     [1, 1, 1, 1, 1, 1, 1, 1]     [1, 1, 1, 1, 1, 1, 1, 1]  \n",
       "2212     [1, 1, 1, 1, 1, 1, 3, 3]     [1, 1, 1, 1, 1, 1, 3, 3]  \n",
       "2213              [1, 1, 1, 2, 1]              [1, 1, 1, 2, 1]  \n",
       "2214                 [1, 1, 1, 1]                 [1, 1, 1, 1]  \n",
       "2215  [1, 0, 1, 1, 1, 1, 1, 1, 2]  [1, 0, 1, 1, 1, 1, 1, 1, 2]  "
      ]
     },
     "execution_count": 57,
     "metadata": {},
     "output_type": "execute_result"
    }
   ],
   "source": [
    "df_wizard.tail()"
   ]
  },
  {
   "cell_type": "code",
   "execution_count": 58,
   "metadata": {
    "collapsed": false
   },
   "outputs": [
    {
     "data": {
      "text/plain": [
       "[<matplotlib.lines.Line2D at 0x11d2f7ed0>]"
      ]
     },
     "execution_count": 58,
     "metadata": {},
     "output_type": "execute_result"
    },
    {
     "data": {
      "image/png": "[encoded data removed]",
      "text/plain": [
       "<matplotlib.figure.Figure at 0x11c619a50>"
      ]
     },
     "metadata": {},
     "output_type": "display_data"
    }
   ],
   "source": [
    "plt.plot(df_wizard['syl_count_arr'][0])\n",
    "plt.plot(df_wizard['syl_count_arr'][1])\n",
    "plt.plot(df_wizard['syl_count_arr'][2])"
   ]
  },
  {
   "cell_type": "code",
   "execution_count": 59,
   "metadata": {
    "collapsed": false
   },
   "outputs": [
    {
     "name": "stdout",
     "output_type": "stream",
     "text": [
      "[3 1 1 1 1 1 1 2 2 2 1 1 2 1 1 1 2 1 1 1 1 1 1 2 0 1]\n",
      "[1 1 1 1 1 1 2 1 1 1 1 1 1 2 1 2 2 1]\n",
      "[1 1 1 1 1 1 1 1 1 1 1 1 1 1 1 1 2 1 2 2 2 1 2 1 1 1 1 1 1 1 1 1 1 1 1]\n"
     ]
    }
   ],
   "source": [
    "for x in df_wizard['syl_count_arr'][:3]:\n",
    "    print x"
   ]
  },
  {
   "cell_type": "code",
   "execution_count": 60,
   "metadata": {
    "collapsed": false
   },
   "outputs": [
    {
     "name": "stdout",
     "output_type": "stream",
     "text": [
      "[7, 5, 2, 3, 5, 2, 3, 5, 6, 8, 4, 5, 5, 3, 3, 1, 6, 3, 4, 2, 3, 3, 3, 6, 2, 4]\n",
      "[5, 5, 3, 5, 3, 3, 6, 2, 5, 2, 3, 2, 2, 7, 2, 5, 4, 5]\n",
      "[5, 4, 4, 5, 1, 5, 3, 1, 4, 5, 4, 3, 4, 3, 4, 4, 9, 1, 5, 7, 9, 1, 8, 3, 3, 6, 1, 5, 5, 2, 4, 6, 3, 3, 4]\n"
     ]
    }
   ],
   "source": [
    "for x in df_wizard['wrd_lengths'][:3]:\n",
    "    print x"
   ]
  },
  {
   "cell_type": "code",
   "execution_count": 61,
   "metadata": {
    "collapsed": false
   },
   "outputs": [
    {
     "name": "stdout",
     "output_type": "stream",
     "text": [
      "[ 0.06796117  0.04854369  0.01941748  0.02912621  0.04854369  0.01941748\n",
      "  0.02912621  0.04854369  0.05825243  0.0776699   0.03883495  0.04854369\n",
      "  0.04854369  0.02912621  0.02912621  0.00970874  0.05825243  0.02912621\n",
      "  0.03883495  0.01941748  0.02912621  0.02912621  0.02912621  0.05825243\n",
      "  0.01941748  0.03883495]\n",
      "[ 0.07246377  0.07246377  0.04347826  0.07246377  0.04347826  0.04347826\n",
      "  0.08695652  0.02898551  0.07246377  0.02898551  0.04347826  0.02898551\n",
      "  0.02898551  0.10144928  0.02898551  0.07246377  0.05797101  0.07246377]\n",
      "[ 0.03472222  0.02777778  0.02777778  0.03472222  0.00694444  0.03472222\n",
      "  0.02083333  0.00694444  0.02777778  0.03472222  0.02777778  0.02083333\n",
      "  0.02777778  0.02083333  0.02777778  0.02777778  0.0625      0.00694444\n",
      "  0.03472222  0.04861111  0.0625      0.00694444  0.05555556  0.02083333\n",
      "  0.02083333  0.04166667  0.00694444  0.03472222  0.03472222  0.01388889\n",
      "  0.02777778  0.04166667  0.02083333  0.02083333  0.02777778]\n"
     ]
    }
   ],
   "source": [
    "for x in df_wizard['word_percent_arr'][:3]:\n",
    "    print x"
   ]
  },
  {
   "cell_type": "code",
   "execution_count": 62,
   "metadata": {
    "collapsed": false
   },
   "outputs": [
    {
     "data": {
      "text/plain": [
       "[<matplotlib.lines.Line2D at 0x11d3d2d90>]"
      ]
     },
     "execution_count": 62,
     "metadata": {},
     "output_type": "execute_result"
    },
    {
     "data": {
      "image/png": "[encoded data removed]",
      "text/plain": [
       "<matplotlib.figure.Figure at 0x11c4ee610>"
      ]
     },
     "metadata": {},
     "output_type": "display_data"
    }
   ],
   "source": [
    "plt.plot(df_wizard['wrd_lengths'][0])\n",
    "plt.plot(df_wizard['wrd_lengths'][1])\n",
    "plt.plot(df_wizard['wrd_lengths'][2])"
   ]
  },
  {
   "cell_type": "code",
   "execution_count": 63,
   "metadata": {
    "collapsed": false
   },
   "outputs": [
    {
     "data": {
      "text/plain": [
       "[<matplotlib.lines.Line2D at 0x11d54cf90>]"
      ]
     },
     "execution_count": 63,
     "metadata": {},
     "output_type": "execute_result"
    },
    {
     "data": {
      "image/png": "[encoded data removed]",
      "text/plain": [
       "<matplotlib.figure.Figure at 0x11d41d3d0>"
      ]
     },
     "metadata": {},
     "output_type": "display_data"
    }
   ],
   "source": [
    "plt.plot(df_wizard['word_percent_arr'][0])\n",
    "plt.plot(df_wizard['word_percent_arr'][1])\n",
    "plt.plot(df_wizard['word_percent_arr'][2])"
   ]
  },
  {
   "cell_type": "markdown",
   "metadata": {},
   "source": [
    "I think I might like what the visual of the syllable counts shows over the characters per word and character percent. "
   ]
  },
  {
   "cell_type": "markdown",
   "metadata": {},
   "source": [
    "### 2.4 Create sentiment column"
   ]
  },
  {
   "cell_type": "code",
   "execution_count": 64,
   "metadata": {
    "collapsed": true
   },
   "outputs": [],
   "source": [
    "def detect_sentiment(text):\n",
    "    return TextBlob(text.decode('utf-8')).sentiment.polarity"
   ]
  },
  {
   "cell_type": "code",
   "execution_count": 65,
   "metadata": {
    "collapsed": false
   },
   "outputs": [
    {
     "data": {
      "text/plain": [
       "0.8"
      ]
     },
     "execution_count": 65,
     "metadata": {},
     "output_type": "execute_result"
    }
   ],
   "source": [
    "detect_sentiment(df_wizard['Sentences'][0])"
   ]
  },
  {
   "cell_type": "code",
   "execution_count": 66,
   "metadata": {
    "collapsed": false
   },
   "outputs": [
    {
     "data": {
      "text/plain": [
       "\"Dorothy lived in the midst of the great Kansas prairies, with Uncle\\nHenry, who was a farmer, and Aunt Em, who was the farmer's wife.\""
      ]
     },
     "execution_count": 66,
     "metadata": {},
     "output_type": "execute_result"
    }
   ],
   "source": [
    "df_wizard['Sentences'][0]"
   ]
  },
  {
   "cell_type": "code",
   "execution_count": 67,
   "metadata": {
    "collapsed": true
   },
   "outputs": [],
   "source": [
    "df_wizard['sentiment'] = df_wizard['Sentences'].apply(detect_sentiment)"
   ]
  },
  {
   "cell_type": "code",
   "execution_count": 68,
   "metadata": {
    "collapsed": false
   },
   "outputs": [
    {
     "data": {
      "text/html": [
       "<div>\n",
       "<table border=\"1\" class=\"dataframe\">\n",
       "  <thead>\n",
       "    <tr style=\"text-align: right;\">\n",
       "      <th></th>\n",
       "      <th>Sentences</th>\n",
       "      <th>wrd_lengths</th>\n",
       "      <th>char_total</th>\n",
       "      <th>word_percent_arr</th>\n",
       "      <th>syl_count</th>\n",
       "      <th>syl_count_arr</th>\n",
       "      <th>sentiment</th>\n",
       "    </tr>\n",
       "  </thead>\n",
       "  <tbody>\n",
       "    <tr>\n",
       "      <th>0</th>\n",
       "      <td>Dorothy lived in the midst of the great Kansas...</td>\n",
       "      <td>[7, 5, 2, 3, 5, 2, 3, 5, 6, 8, 4, 5, 5, 3, 3, ...</td>\n",
       "      <td>103</td>\n",
       "      <td>[0.0679611650485, 0.0485436893204, 0.019417475...</td>\n",
       "      <td>[3, 1, 1, 1, 1, 1, 1, 2, 2, 2, 1, 1, 2, 1, 1, ...</td>\n",
       "      <td>[3, 1, 1, 1, 1, 1, 1, 2, 2, 2, 1, 1, 2, 1, 1, ...</td>\n",
       "      <td>0.80000</td>\n",
       "    </tr>\n",
       "    <tr>\n",
       "      <th>1</th>\n",
       "      <td>Their\\nhouse was small, for the lumber to buil...</td>\n",
       "      <td>[5, 5, 3, 5, 3, 3, 6, 2, 5, 2, 3, 2, 2, 7, 2, ...</td>\n",
       "      <td>69</td>\n",
       "      <td>[0.0724637681159, 0.0724637681159, 0.043478260...</td>\n",
       "      <td>[1, 1, 1, 1, 1, 1, 2, 1, 1, 1, 1, 1, 1, 2, 1, ...</td>\n",
       "      <td>[1, 1, 1, 1, 1, 1, 2, 1, 1, 1, 1, 1, 1, 2, 1, ...</td>\n",
       "      <td>0.12500</td>\n",
       "    </tr>\n",
       "    <tr>\n",
       "      <th>2</th>\n",
       "      <td>There were four walls, a floor and a roof, whi...</td>\n",
       "      <td>[5, 4, 4, 5, 1, 5, 3, 1, 4, 5, 4, 3, 4, 3, 4, ...</td>\n",
       "      <td>144</td>\n",
       "      <td>[0.0347222222222, 0.0277777777778, 0.027777777...</td>\n",
       "      <td>[1, 1, 1, 1, 1, 1, 1, 1, 1, 1, 1, 1, 1, 1, 1, ...</td>\n",
       "      <td>[1, 1, 1, 1, 1, 1, 1, 1, 1, 1, 1, 1, 1, 1, 1, ...</td>\n",
       "      <td>0.00000</td>\n",
       "    </tr>\n",
       "    <tr>\n",
       "      <th>3</th>\n",
       "      <td>Uncle Henry\\nand Aunt Em had a big bed in one ...</td>\n",
       "      <td>[5, 5, 3, 4, 2, 3, 1, 3, 3, 2, 3, 6, 3, 7, 1, ...</td>\n",
       "      <td>75</td>\n",
       "      <td>[0.0666666666667, 0.0666666666667, 0.04, 0.053...</td>\n",
       "      <td>[1, 2, 1, 1, 1, 1, 1, 1, 0, 1, 1, 2, 1, 3, 1, ...</td>\n",
       "      <td>[1, 2, 1, 1, 1, 1, 1, 1, 0, 1, 1, 2, 1, 3, 1, ...</td>\n",
       "      <td>-0.09375</td>\n",
       "    </tr>\n",
       "    <tr>\n",
       "      <th>4</th>\n",
       "      <td>There was no garret at all, and no cellar--exc...</td>\n",
       "      <td>[5, 3, 2, 6, 2, 3, 3, 2, 6, 6, 1, 5, 4, 3, 2, ...</td>\n",
       "      <td>178</td>\n",
       "      <td>[0.0280898876404, 0.0168539325843, 0.011235955...</td>\n",
       "      <td>[1, 1, 1, 2, 1, 1, 1, 1, 2, 2, 1, 1, 1, 1, 1, ...</td>\n",
       "      <td>[1, 1, 1, 2, 1, 1, 1, 1, 2, 2, 1, 1, 1, 1, 1, ...</td>\n",
       "      <td>0.23750</td>\n",
       "    </tr>\n",
       "  </tbody>\n",
       "</table>\n",
       "</div>"
      ],
      "text/plain": [
       "                                           Sentences  \\\n",
       "0  Dorothy lived in the midst of the great Kansas...   \n",
       "1  Their\\nhouse was small, for the lumber to buil...   \n",
       "2  There were four walls, a floor and a roof, whi...   \n",
       "3  Uncle Henry\\nand Aunt Em had a big bed in one ...   \n",
       "4  There was no garret at all, and no cellar--exc...   \n",
       "\n",
       "                                         wrd_lengths  char_total  \\\n",
       "0  [7, 5, 2, 3, 5, 2, 3, 5, 6, 8, 4, 5, 5, 3, 3, ...         103   \n",
       "1  [5, 5, 3, 5, 3, 3, 6, 2, 5, 2, 3, 2, 2, 7, 2, ...          69   \n",
       "2  [5, 4, 4, 5, 1, 5, 3, 1, 4, 5, 4, 3, 4, 3, 4, ...         144   \n",
       "3  [5, 5, 3, 4, 2, 3, 1, 3, 3, 2, 3, 6, 3, 7, 1, ...          75   \n",
       "4  [5, 3, 2, 6, 2, 3, 3, 2, 6, 6, 1, 5, 4, 3, 2, ...         178   \n",
       "\n",
       "                                    word_percent_arr  \\\n",
       "0  [0.0679611650485, 0.0485436893204, 0.019417475...   \n",
       "1  [0.0724637681159, 0.0724637681159, 0.043478260...   \n",
       "2  [0.0347222222222, 0.0277777777778, 0.027777777...   \n",
       "3  [0.0666666666667, 0.0666666666667, 0.04, 0.053...   \n",
       "4  [0.0280898876404, 0.0168539325843, 0.011235955...   \n",
       "\n",
       "                                           syl_count  \\\n",
       "0  [3, 1, 1, 1, 1, 1, 1, 2, 2, 2, 1, 1, 2, 1, 1, ...   \n",
       "1  [1, 1, 1, 1, 1, 1, 2, 1, 1, 1, 1, 1, 1, 2, 1, ...   \n",
       "2  [1, 1, 1, 1, 1, 1, 1, 1, 1, 1, 1, 1, 1, 1, 1, ...   \n",
       "3  [1, 2, 1, 1, 1, 1, 1, 1, 0, 1, 1, 2, 1, 3, 1, ...   \n",
       "4  [1, 1, 1, 2, 1, 1, 1, 1, 2, 2, 1, 1, 1, 1, 1, ...   \n",
       "\n",
       "                                       syl_count_arr  sentiment  \n",
       "0  [3, 1, 1, 1, 1, 1, 1, 2, 2, 2, 1, 1, 2, 1, 1, ...    0.80000  \n",
       "1  [1, 1, 1, 1, 1, 1, 2, 1, 1, 1, 1, 1, 1, 2, 1, ...    0.12500  \n",
       "2  [1, 1, 1, 1, 1, 1, 1, 1, 1, 1, 1, 1, 1, 1, 1, ...    0.00000  \n",
       "3  [1, 2, 1, 1, 1, 1, 1, 1, 0, 1, 1, 2, 1, 3, 1, ...   -0.09375  \n",
       "4  [1, 1, 1, 2, 1, 1, 1, 1, 2, 2, 1, 1, 1, 1, 1, ...    0.23750  "
      ]
     },
     "execution_count": 68,
     "metadata": {},
     "output_type": "execute_result"
    }
   ],
   "source": [
    "df_wizard.head()"
   ]
  },
  {
   "cell_type": "code",
   "execution_count": 69,
   "metadata": {
    "collapsed": false
   },
   "outputs": [
    {
     "data": {
      "text/html": [
       "<div>\n",
       "<table border=\"1\" class=\"dataframe\">\n",
       "  <thead>\n",
       "    <tr style=\"text-align: right;\">\n",
       "      <th></th>\n",
       "      <th>Sentences</th>\n",
       "      <th>wrd_lengths</th>\n",
       "      <th>char_total</th>\n",
       "      <th>word_percent_arr</th>\n",
       "      <th>syl_count</th>\n",
       "      <th>syl_count_arr</th>\n",
       "      <th>sentiment</th>\n",
       "    </tr>\n",
       "  </thead>\n",
       "  <tbody>\n",
       "    <tr>\n",
       "      <th>2211</th>\n",
       "      <td>\"Where in the world did you come from?\"</td>\n",
       "      <td>[5, 2, 3, 5, 3, 3, 4, 4]</td>\n",
       "      <td>29</td>\n",
       "      <td>[0.172413793103, 0.0689655172414, 0.1034482758...</td>\n",
       "      <td>[1, 1, 1, 1, 1, 1, 1, 1]</td>\n",
       "      <td>[1, 1, 1, 1, 1, 1, 1, 1]</td>\n",
       "      <td>0.000</td>\n",
       "    </tr>\n",
       "    <tr>\n",
       "      <th>2212</th>\n",
       "      <td>\"From the Land of Oz,\" said Dorothy gravely.</td>\n",
       "      <td>[4, 3, 4, 2, 2, 4, 7, 7]</td>\n",
       "      <td>33</td>\n",
       "      <td>[0.121212121212, 0.0909090909091, 0.1212121212...</td>\n",
       "      <td>[1, 1, 1, 1, 1, 1, 3, 3]</td>\n",
       "      <td>[1, 1, 1, 1, 1, 1, 3, 3]</td>\n",
       "      <td>0.000</td>\n",
       "    </tr>\n",
       "    <tr>\n",
       "      <th>2213</th>\n",
       "      <td>\"And here is Toto, too.</td>\n",
       "      <td>[3, 4, 2, 4, 3]</td>\n",
       "      <td>16</td>\n",
       "      <td>[0.1875, 0.25, 0.125, 0.25, 0.1875]</td>\n",
       "      <td>[1, 1, 1, 2, 1]</td>\n",
       "      <td>[1, 1, 1, 2, 1]</td>\n",
       "      <td>0.000</td>\n",
       "    </tr>\n",
       "    <tr>\n",
       "      <th>2214</th>\n",
       "      <td>And oh, Aunt Em!</td>\n",
       "      <td>[3, 2, 4, 2]</td>\n",
       "      <td>11</td>\n",
       "      <td>[0.272727272727, 0.181818181818, 0.36363636363...</td>\n",
       "      <td>[1, 1, 1, 1]</td>\n",
       "      <td>[1, 1, 1, 1]</td>\n",
       "      <td>0.000</td>\n",
       "    </tr>\n",
       "    <tr>\n",
       "      <th>2215</th>\n",
       "      <td>I'm so glad to be at home again!\"</td>\n",
       "      <td>[1, 2, 2, 4, 2, 2, 2, 4, 5]</td>\n",
       "      <td>24</td>\n",
       "      <td>[0.0416666666667, 0.0833333333333, 0.083333333...</td>\n",
       "      <td>[1, 0, 1, 1, 1, 1, 1, 1, 2]</td>\n",
       "      <td>[1, 0, 1, 1, 1, 1, 1, 1, 2]</td>\n",
       "      <td>0.625</td>\n",
       "    </tr>\n",
       "  </tbody>\n",
       "</table>\n",
       "</div>"
      ],
      "text/plain": [
       "                                         Sentences  \\\n",
       "2211       \"Where in the world did you come from?\"   \n",
       "2212  \"From the Land of Oz,\" said Dorothy gravely.   \n",
       "2213                       \"And here is Toto, too.   \n",
       "2214                              And oh, Aunt Em!   \n",
       "2215             I'm so glad to be at home again!\"   \n",
       "\n",
       "                      wrd_lengths  char_total  \\\n",
       "2211     [5, 2, 3, 5, 3, 3, 4, 4]          29   \n",
       "2212     [4, 3, 4, 2, 2, 4, 7, 7]          33   \n",
       "2213              [3, 4, 2, 4, 3]          16   \n",
       "2214                 [3, 2, 4, 2]          11   \n",
       "2215  [1, 2, 2, 4, 2, 2, 2, 4, 5]          24   \n",
       "\n",
       "                                       word_percent_arr  \\\n",
       "2211  [0.172413793103, 0.0689655172414, 0.1034482758...   \n",
       "2212  [0.121212121212, 0.0909090909091, 0.1212121212...   \n",
       "2213                [0.1875, 0.25, 0.125, 0.25, 0.1875]   \n",
       "2214  [0.272727272727, 0.181818181818, 0.36363636363...   \n",
       "2215  [0.0416666666667, 0.0833333333333, 0.083333333...   \n",
       "\n",
       "                        syl_count                syl_count_arr  sentiment  \n",
       "2211     [1, 1, 1, 1, 1, 1, 1, 1]     [1, 1, 1, 1, 1, 1, 1, 1]      0.000  \n",
       "2212     [1, 1, 1, 1, 1, 1, 3, 3]     [1, 1, 1, 1, 1, 1, 3, 3]      0.000  \n",
       "2213              [1, 1, 1, 2, 1]              [1, 1, 1, 2, 1]      0.000  \n",
       "2214                 [1, 1, 1, 1]                 [1, 1, 1, 1]      0.000  \n",
       "2215  [1, 0, 1, 1, 1, 1, 1, 1, 2]  [1, 0, 1, 1, 1, 1, 1, 1, 2]      0.625  "
      ]
     },
     "execution_count": 69,
     "metadata": {},
     "output_type": "execute_result"
    }
   ],
   "source": [
    "df_wizard.tail()"
   ]
  },
  {
   "cell_type": "markdown",
   "metadata": {},
   "source": [
    "## 3. Exploring Sentiment"
   ]
  },
  {
   "cell_type": "code",
   "execution_count": 70,
   "metadata": {
    "collapsed": false
   },
   "outputs": [
    {
     "data": {
      "text/plain": [
       "[<matplotlib.lines.Line2D at 0x11e1a2c10>]"
      ]
     },
     "execution_count": 70,
     "metadata": {},
     "output_type": "execute_result"
    },
    {
     "data": {
      "image/png": "[encoded data removed]",
      "text/plain": [
       "<matplotlib.figure.Figure at 0x11d344890>"
      ]
     },
     "metadata": {},
     "output_type": "display_data"
    }
   ],
   "source": [
    "plt.plot(df_wizard['sentiment'])"
   ]
  },
  {
   "cell_type": "code",
   "execution_count": 71,
   "metadata": {
    "collapsed": false
   },
   "outputs": [
    {
     "data": {
      "text/plain": [
       "<matplotlib.axes._subplots.AxesSubplot at 0x1194f89d0>"
      ]
     },
     "execution_count": 71,
     "metadata": {},
     "output_type": "execute_result"
    },
    {
     "data": {
      "image/png": "[encoded data removed]",
      "text/plain": [
       "<matplotlib.figure.Figure at 0x11c0fc290>"
      ]
     },
     "metadata": {},
     "output_type": "display_data"
    }
   ],
   "source": [
    "df_wizard['sentiment'].plot.hist()"
   ]
  },
  {
   "cell_type": "code",
   "execution_count": 72,
   "metadata": {
    "collapsed": false
   },
   "outputs": [
    {
     "data": {
      "text/html": [
       "<div>\n",
       "<table border=\"1\" class=\"dataframe\">\n",
       "  <thead>\n",
       "    <tr style=\"text-align: right;\">\n",
       "      <th></th>\n",
       "      <th>char_total</th>\n",
       "      <th>sentiment</th>\n",
       "    </tr>\n",
       "  </thead>\n",
       "  <tbody>\n",
       "    <tr>\n",
       "      <th>count</th>\n",
       "      <td>2216.000000</td>\n",
       "      <td>2216.000000</td>\n",
       "    </tr>\n",
       "    <tr>\n",
       "      <th>mean</th>\n",
       "      <td>70.790614</td>\n",
       "      <td>0.082382</td>\n",
       "    </tr>\n",
       "    <tr>\n",
       "      <th>std</th>\n",
       "      <td>46.465613</td>\n",
       "      <td>0.272632</td>\n",
       "    </tr>\n",
       "    <tr>\n",
       "      <th>min</th>\n",
       "      <td>2.000000</td>\n",
       "      <td>-1.000000</td>\n",
       "    </tr>\n",
       "    <tr>\n",
       "      <th>25%</th>\n",
       "      <td>34.000000</td>\n",
       "      <td>0.000000</td>\n",
       "    </tr>\n",
       "    <tr>\n",
       "      <th>50%</th>\n",
       "      <td>65.000000</td>\n",
       "      <td>0.000000</td>\n",
       "    </tr>\n",
       "    <tr>\n",
       "      <th>75%</th>\n",
       "      <td>100.000000</td>\n",
       "      <td>0.200000</td>\n",
       "    </tr>\n",
       "    <tr>\n",
       "      <th>max</th>\n",
       "      <td>403.000000</td>\n",
       "      <td>1.000000</td>\n",
       "    </tr>\n",
       "  </tbody>\n",
       "</table>\n",
       "</div>"
      ],
      "text/plain": [
       "        char_total    sentiment\n",
       "count  2216.000000  2216.000000\n",
       "mean     70.790614     0.082382\n",
       "std      46.465613     0.272632\n",
       "min       2.000000    -1.000000\n",
       "25%      34.000000     0.000000\n",
       "50%      65.000000     0.000000\n",
       "75%     100.000000     0.200000\n",
       "max     403.000000     1.000000"
      ]
     },
     "execution_count": 72,
     "metadata": {},
     "output_type": "execute_result"
    }
   ],
   "source": [
    "df_wizard.describe()"
   ]
  },
  {
   "cell_type": "markdown",
   "metadata": {},
   "source": [
    "Creates a series of the story broken up into 10% pieces and compares the sentiment mean scores."
   ]
  },
  {
   "cell_type": "code",
   "execution_count": 73,
   "metadata": {
    "collapsed": false
   },
   "outputs": [],
   "source": [
    "first_10 = df_wizard['sentiment'][:222].mean()"
   ]
  },
  {
   "cell_type": "code",
   "execution_count": 74,
   "metadata": {
    "collapsed": false
   },
   "outputs": [],
   "source": [
    "sec_10 = df_wizard['sentiment'][222:443].mean()"
   ]
  },
  {
   "cell_type": "code",
   "execution_count": 75,
   "metadata": {
    "collapsed": false
   },
   "outputs": [],
   "source": [
    "third_10 = df_wizard['sentiment'][443:665].mean()"
   ]
  },
  {
   "cell_type": "code",
   "execution_count": 76,
   "metadata": {
    "collapsed": false
   },
   "outputs": [],
   "source": [
    "fourth_10 = df_wizard['sentiment'][665:887].mean()"
   ]
  },
  {
   "cell_type": "code",
   "execution_count": 77,
   "metadata": {
    "collapsed": false
   },
   "outputs": [],
   "source": [
    "fifth_10 = df_wizard['sentiment'][887:1109].mean()"
   ]
  },
  {
   "cell_type": "code",
   "execution_count": 78,
   "metadata": {
    "collapsed": false
   },
   "outputs": [],
   "source": [
    "sixth_10 = df_wizard['sentiment'][1109:1331].mean()"
   ]
  },
  {
   "cell_type": "code",
   "execution_count": 79,
   "metadata": {
    "collapsed": false
   },
   "outputs": [],
   "source": [
    "seventh_10 = df_wizard['sentiment'][1331:1553].mean()"
   ]
  },
  {
   "cell_type": "code",
   "execution_count": 80,
   "metadata": {
    "collapsed": false
   },
   "outputs": [],
   "source": [
    "eigth_10 = df_wizard['sentiment'][1553:1775].mean()"
   ]
  },
  {
   "cell_type": "code",
   "execution_count": 81,
   "metadata": {
    "collapsed": false
   },
   "outputs": [],
   "source": [
    "ninth_10 = df_wizard['sentiment'][1775:1997].mean()"
   ]
  },
  {
   "cell_type": "code",
   "execution_count": 82,
   "metadata": {
    "collapsed": false
   },
   "outputs": [],
   "source": [
    "tenth_10 = df_wizard['sentiment'][1997:2215].mean()"
   ]
  },
  {
   "cell_type": "code",
   "execution_count": 83,
   "metadata": {
    "collapsed": false
   },
   "outputs": [],
   "source": [
    "df2 = pd.Series([first_10, sec_10, third_10, fourth_10, fifth_10, sixth_10, seventh_10, eigth_10, ninth_10, tenth_10])"
   ]
  },
  {
   "cell_type": "code",
   "execution_count": 84,
   "metadata": {
    "collapsed": false
   },
   "outputs": [
    {
     "name": "stdout",
     "output_type": "stream",
     "text": [
      "221\n"
     ]
    }
   ],
   "source": [
    "p = len(df_wizard) * .10 \n",
    "p = int(p)\n",
    "print p"
   ]
  },
  {
   "cell_type": "code",
   "execution_count": 85,
   "metadata": {
    "collapsed": false
   },
   "outputs": [
    {
     "data": {
      "text/plain": [
       "<matplotlib.axes._subplots.AxesSubplot at 0x11e326950>"
      ]
     },
     "execution_count": 85,
     "metadata": {},
     "output_type": "execute_result"
    },
    {
     "data": {
      "image/png": "[encoded data removed]",
      "text/plain": [
       "<matplotlib.figure.Figure at 0x11e16e390>"
      ]
     },
     "metadata": {},
     "output_type": "display_data"
    }
   ],
   "source": [
    "df2.plot.bar()"
   ]
  },
  {
   "cell_type": "markdown",
   "metadata": {},
   "source": [
    "This bar graph is really interesting when you compare it to Michael Hauge's \"Six Stage Plot Structure that is similar to the Hero's Journey as explained in \"The Writer's Journey\", which was based off of Joseph Campbel's, the mythologist, writings on the hero's journey.  Michael breaks down the story structure into six stages. At the middle point, which is around the 50% mark the story reaches the turning point number 3 that is called the point of no return. On this graph this shows the lowest dip in sentiment for the whole story.  (http://bfifab.org.uk/wp-content/uploads/2015/02/Michael-Hauges-Six-Stage-Plot-Structuree-.jpg, Michael Hauge's \"Six Stage Plot Structure\"  "
   ]
  },
  {
   "cell_type": "markdown",
   "metadata": {},
   "source": [
    "### The novel broken up into The Six Stage Plot Structure and its sentiment mean scores compared. "
   ]
  },
  {
   "cell_type": "code",
   "execution_count": 86,
   "metadata": {
    "collapsed": true
   },
   "outputs": [],
   "source": [
    "# following the percentages of Michael Hauge's \"Six Stage Plot Structure\"\n",
    "Stage_1 = df_wizard['sentiment'][:222].mean()\n",
    "Stage_2 = df_wizard['sentiment'][222:332].mean()\n",
    "Stage_3 = df_wizard['sentiment'][332:886].mean()\n",
    "Stage_4 = df_wizard['sentiment'][886:1440].mean()\n",
    "Stage_5 = df_wizard['sentiment'][1440:1883].mean()\n",
    "Stage_6 = df_wizard['sentiment'][1883:].mean()\n"
   ]
  },
  {
   "cell_type": "code",
   "execution_count": 87,
   "metadata": {
    "collapsed": false
   },
   "outputs": [],
   "source": [
    "SixPlot = pd.Series([Stage_1, Stage_2, Stage_3, Stage_4, Stage_5, Stage_6])"
   ]
  },
  {
   "cell_type": "code",
   "execution_count": 88,
   "metadata": {
    "collapsed": false
   },
   "outputs": [
    {
     "data": {
      "text/plain": [
       "<matplotlib.axes._subplots.AxesSubplot at 0x11ebcb350>"
      ]
     },
     "execution_count": 88,
     "metadata": {},
     "output_type": "execute_result"
    },
    {
     "data": {
      "image/png": "[encoded data removed]",
      "text/plain": [
       "<matplotlib.figure.Figure at 0x11ebcb2d0>"
      ]
     },
     "metadata": {},
     "output_type": "display_data"
    }
   ],
   "source": [
    "SixPlot.plot.bar()"
   ]
  },
  {
   "cell_type": "markdown",
   "metadata": {},
   "source": [
    "Breaking the novel up into the six stages(10%, 15%, 25%, 25%, 20, 5%) shows an overall pattern but I don't think it tells as much as when the novel is in smaller pieces. Below I create a function to be able to easily break the novel up into different sizes. First I turn the series into an array.  "
   ]
  },
  {
   "cell_type": "markdown",
   "metadata": {},
   "source": [
    "A function to put the above panda series into a list, transforming it to an array and then displaying it in a bar graph. "
   ]
  },
  {
   "cell_type": "code",
   "execution_count": 89,
   "metadata": {
    "collapsed": false
   },
   "outputs": [
    {
     "name": "stdout",
     "output_type": "stream",
     "text": [
      "df_wizard['sentiment'][0:226].mean() = 0.0756455915029\n",
      "df_wizard['sentiment'][221:447].mean() = 0.0728704604249\n",
      "df_wizard['sentiment'][442:668].mean() = 0.0530911715395\n",
      "df_wizard['sentiment'][663:889].mean() = 0.0710494835896\n",
      "df_wizard['sentiment'][884:1110].mean() = 0.110109468846\n",
      "df_wizard['sentiment'][1105:1331].mean() = 0.0340352282305\n",
      "df_wizard['sentiment'][1326:1552].mean() = 0.120700897247\n",
      "df_wizard['sentiment'][1547:1773].mean() = 0.068647264629\n",
      "df_wizard['sentiment'][1768:1994].mean() = 0.0984240543339\n",
      "df_wizard['sentiment'][1989:2215].mean() = 0.113742627364\n"
     ]
    }
   ],
   "source": [
    "ten_segments = []\n",
    "lng = len(df_wizard) \n",
    "n = 0\n",
    "t = p + 5\n",
    "for x in range(0 , 10):\n",
    "    s = df_wizard['sentiment'][n:t].mean()\n",
    "    print \"df_wizard['sentiment'][%s:%s].mean() = %s\"  % (n, t, s)\n",
    "    n = n + p\n",
    "    t = t + p\n",
    "    ten_segments.append(s)        "
   ]
  },
  {
   "cell_type": "code",
   "execution_count": 90,
   "metadata": {
    "collapsed": false
   },
   "outputs": [
    {
     "data": {
      "text/plain": [
       "[0.07564559150289238,\n",
       " 0.07287046042494051,\n",
       " 0.05309117153945693,\n",
       " 0.07104948358958313,\n",
       " 0.11010946884564146,\n",
       " 0.0340352282304716,\n",
       " 0.1207008972468043,\n",
       " 0.06864726462901241,\n",
       " 0.0984240543338994,\n",
       " 0.11374262736403223]"
      ]
     },
     "execution_count": 90,
     "metadata": {},
     "output_type": "execute_result"
    }
   ],
   "source": [
    "ten_segments"
   ]
  },
  {
   "cell_type": "code",
   "execution_count": 91,
   "metadata": {
    "collapsed": false
   },
   "outputs": [
    {
     "data": {
      "text/plain": [
       "2216"
      ]
     },
     "execution_count": 91,
     "metadata": {},
     "output_type": "execute_result"
    }
   ],
   "source": [
    "len(df_wizard)\n"
   ]
  },
  {
   "cell_type": "code",
   "execution_count": 92,
   "metadata": {
    "collapsed": false
   },
   "outputs": [
    {
     "name": "stdout",
     "output_type": "stream",
     "text": [
      "[ 0.07564559  0.07287046  0.05309117  0.07104948  0.11010947  0.03403523\n",
      "  0.1207009   0.06864726  0.09842405  0.11374263]\n"
     ]
    }
   ],
   "source": [
    "n = np.array(n)\n",
    "ten_segments = np.array(ten_segments)\n",
    "print ten_segments"
   ]
  },
  {
   "cell_type": "code",
   "execution_count": 310,
   "metadata": {
    "collapsed": false
   },
   "outputs": [
    {
     "data": {
      "text/plain": [
       "0.081831624770673447"
      ]
     },
     "execution_count": 310,
     "metadata": {},
     "output_type": "execute_result"
    }
   ],
   "source": [
    "ten_segments.mean()"
   ]
  },
  {
   "cell_type": "code",
   "execution_count": 93,
   "metadata": {
    "collapsed": false
   },
   "outputs": [
    {
     "data": {
      "text/plain": [
       "<Container object of 10 artists>"
      ]
     },
     "execution_count": 93,
     "metadata": {},
     "output_type": "execute_result"
    },
    {
     "data": {
      "image/png": "[encoded data removed]",
      "text/plain": [
       "<matplotlib.figure.Figure at 0x11ed1fa90>"
      ]
     },
     "metadata": {},
     "output_type": "display_data"
    }
   ],
   "source": [
    "n = len(ten_segments)\n",
    "x = range(n)\n",
    "\n",
    "plt.bar(x , ten_segments)"
   ]
  },
  {
   "cell_type": "markdown",
   "metadata": {},
   "source": [
    "It's interesting to look at the dips and rises in this when compared to the Six Stage Plot Structure mentioned above. I think it might tell more if it is broken up into 5% pieces. "
   ]
  },
  {
   "cell_type": "markdown",
   "metadata": {},
   "source": [
    "### Twenty  5% Segments"
   ]
  },
  {
   "cell_type": "code",
   "execution_count": 94,
   "metadata": {
    "collapsed": false
   },
   "outputs": [
    {
     "name": "stdout",
     "output_type": "stream",
     "text": [
      "df_wizard['sentiment'][0:110].mean() = 0.0456872048406\n",
      "df_wizard['sentiment'][110:220].mean() = 0.0899715786108\n",
      "df_wizard['sentiment'][220:330].mean() = 0.086596412447\n",
      "df_wizard['sentiment'][330:440].mean() = 0.0591798668503\n",
      "df_wizard['sentiment'][440:550].mean() = 0.0632975712209\n",
      "df_wizard['sentiment'][550:660].mean() = 0.054530653942\n",
      "df_wizard['sentiment'][660:770].mean() = 0.0661281483668\n",
      "df_wizard['sentiment'][770:880].mean() = 0.0717023057961\n",
      "df_wizard['sentiment'][880:990].mean() = 0.13285799554\n",
      "df_wizard['sentiment'][990:1100].mean() = 0.0832280242905\n",
      "df_wizard['sentiment'][1100:1210].mean() = 0.0501925641698\n",
      "df_wizard['sentiment'][1210:1320].mean() = 0.0299300663562\n",
      "df_wizard['sentiment'][1320:1430].mean() = 0.104884259259\n",
      "df_wizard['sentiment'][1430:1540].mean() = 0.142953763829\n",
      "df_wizard['sentiment'][1540:1650].mean() = 0.0129493555687\n",
      "df_wizard['sentiment'][1650:1760].mean() = 0.108704198369\n",
      "df_wizard['sentiment'][1760:1870].mean() = 0.0913537157287\n",
      "df_wizard['sentiment'][1870:1980].mean() = 0.128615472911\n",
      "df_wizard['sentiment'][1980:2090].mean() = 0.0452671424745\n",
      "df_wizard['sentiment'][2090:2200].mean() = 0.17876303074\n"
     ]
    }
   ],
   "source": [
    "p_20 = len(df_wizard) * .05 \n",
    "p_20 = int(p_20) \n",
    "twenty_segments = []\n",
    "n_20 = 0\n",
    "t_20 = p_20\n",
    "for x in range(0 , 20):\n",
    "    s_20 = df_wizard['sentiment'][n_20:t_20].mean()\n",
    "    print \"df_wizard['sentiment'][%s:%s].mean() = %s\"  % (n_20, t_20, s_20)\n",
    "    n_20 = n_20 + p_20\n",
    "    t_20 = t_20 + p_20\n",
    "    twenty_segments.append(s_20)        "
   ]
  },
  {
   "cell_type": "code",
   "execution_count": 95,
   "metadata": {
    "collapsed": false
   },
   "outputs": [
    {
     "name": "stdout",
     "output_type": "stream",
     "text": [
      "[ 0.0456872   0.08997158  0.08659641  0.05917987  0.06329757  0.05453065\n",
      "  0.06612815  0.07170231  0.132858    0.08322802  0.05019256  0.02993007\n",
      "  0.10488426  0.14295376  0.01294936  0.1087042   0.09135372  0.12861547\n",
      "  0.04526714  0.17876303]\n"
     ]
    }
   ],
   "source": [
    "twenty_segments = np.array(twenty_segments)\n",
    "print twenty_segments"
   ]
  },
  {
   "cell_type": "code",
   "execution_count": 96,
   "metadata": {
    "collapsed": false
   },
   "outputs": [
    {
     "data": {
      "text/plain": [
       "<Container object of 20 artists>"
      ]
     },
     "execution_count": 96,
     "metadata": {},
     "output_type": "execute_result"
    },
    {
     "data": {
      "image/png": "[encoded data removed]",
      "text/plain": [
       "<matplotlib.figure.Figure at 0x11ea4f610>"
      ]
     },
     "metadata": {},
     "output_type": "display_data"
    }
   ],
   "source": [
    "n = len(twenty_segments)\n",
    "x = range(n)\n",
    "\n",
    "plt.bar(x , twenty_segments)"
   ]
  },
  {
   "cell_type": "markdown",
   "metadata": {},
   "source": [
    "### Sentences from the 50% Mark, Turning Point  3 and Point of No Return"
   ]
  },
  {
   "cell_type": "markdown",
   "metadata": {},
   "source": [
    "Dorothy and her friends meet the great and terrible wizard of oz and are told that they have to kill the wicked witch to get what they desire. Dorothy - \"There is no hope for me,\" she said sadly, \"for Oz will not send me home until I have killed the Wicked Witch of the West; and that I can never do.\""
   ]
  },
  {
   "cell_type": "code",
   "execution_count": 97,
   "metadata": {
    "collapsed": false
   },
   "outputs": [
    {
     "name": "stdout",
     "output_type": "stream",
     "text": [
      "Of course this politeness was wasted on the\n",
      "Scarecrow; for when he found himself alone in his room he stood\n",
      "stupidly in one spot, just within the doorway, to wait till morning.\n",
      "It would not rest him to lie down, and he could not close his eyes; so\n",
      "he remained all night staring at a little spider which was weaving its\n",
      "web in a corner of the room, just as if it were not one of the most\n",
      "wonderful rooms in the world.\n",
      "The Tin Woodman lay down on his bed from\n",
      "force of habit, for he remembered when he was made of flesh; but not\n",
      "being able to sleep, he passed the night moving his joints up and down\n",
      "to make sure they kept in good working order.\n",
      "The Lion would have\n",
      "preferred a bed of dried leaves in the forest, and did not like being\n",
      "shut up in a room; but he had too much sense to let this worry him, so\n",
      "he sprang upon the bed and rolled himself up like a cat and purred\n",
      "himself asleep in a minute.\n",
      "The next morning, after breakfast, the green maiden came to fetch\n",
      "Dorothy, and she dressed her in one of the prettiest gowns, made of\n",
      "green brocaded satin.\n",
      "Dorothy put on a green silk apron and tied a\n",
      "green ribbon around Toto's neck, and they started for the Throne Room\n",
      "of the Great Oz.\n",
      "First they came to a great hall in which were many ladies and gentlemen\n",
      "of the court, all dressed in rich costumes.\n",
      "These people had nothing\n",
      "to do but talk to each other, but they always came to wait outside the\n",
      "Throne Room every morning, although they were never permitted to see\n",
      "Oz.\n",
      "As Dorothy entered they looked at her curiously, and one of them\n",
      "whispered:\n",
      "\n",
      "\"Are you really going to look upon the face of Oz the Terrible?\"\n",
      "\"Of course,\" answered the girl, \"if he will see me.\"\n",
      "\"Oh, he will see you,\" said the soldier who had taken her message to\n",
      "the Wizard, \"although he does not like to have people ask to see him.\n",
      "Indeed, at first he was angry and said I should send you back where you\n",
      "came from.\n",
      "Then he asked me what you looked like, and when I mentioned\n",
      "your silver shoes he was very much interested.\n",
      "At last I told him\n",
      "about the mark upon your forehead, and he decided he would admit you to\n",
      "his presence.\"\n",
      "Just then a bell rang, and the green girl said to Dorothy, \"That is the\n",
      "signal.\n",
      "You must go into the Throne Room alone.\"\n",
      "She opened a little door and Dorothy walked boldly through and found\n",
      "herself in a wonderful place.\n",
      "It was a big, round room with a high\n",
      "arched roof, and the walls and ceiling and floor were covered with\n",
      "large emeralds set closely together.\n",
      "In the center of the roof was a\n",
      "great light, as bright as the sun, which made the emeralds sparkle in a\n",
      "wonderful manner.\n",
      "But what interested Dorothy most was the big throne of green marble\n",
      "that stood in the middle of the room.\n",
      "It was shaped like a chair and\n",
      "sparkled with gems, as did everything else.\n",
      "In the center of the chair\n",
      "was an enormous Head, without a body to support it or any arms or legs\n",
      "whatever.\n",
      "There was no hair upon this head, but it had eyes and a nose\n",
      "and mouth, and was much bigger than the head of the biggest giant.\n",
      "As Dorothy gazed upon this in wonder and fear, the eyes turned slowly\n",
      "and looked at her sharply and steadily.\n",
      "Then the mouth moved, and\n",
      "Dorothy heard a voice say:\n",
      "\n",
      "\"I am Oz, the Great and Terrible.\n",
      "Who are you, and why do you seek me?\"\n",
      "It was not such an awful voice as she had expected to come from the big\n",
      "Head; so she took courage and answered:\n",
      "\n",
      "\"I am Dorothy, the Small and Meek.\n",
      "I have come to you for help.\"\n",
      "The eyes looked at her thoughtfully for a full minute.\n",
      "Then said the\n",
      "voice:\n",
      "\n",
      "\"Where did you get the silver shoes?\"\n",
      "\"I got them from the Wicked Witch of the East, when my house fell on\n",
      "her and killed her,\" she replied.\n",
      "\"Where did you get the mark upon your forehead?\"\n",
      "continued the voice.\n",
      "\"That is where the Good Witch of the North kissed me when she bade me\n",
      "good-bye and sent me to you,\" said the girl.\n",
      "Again the eyes looked at her sharply, and they saw she was telling the\n",
      "truth.\n",
      "Then Oz asked, \"What do you wish me to do?\"\n",
      "\"Send me back to Kansas, where my Aunt Em and Uncle Henry are,\" she\n",
      "answered earnestly.\n",
      "\"I don't like your country, although it is so\n",
      "beautiful.\n",
      "And I am sure Aunt Em will be dreadfully worried over my\n",
      "being away so long.\"\n",
      "The eyes winked three times, and then they turned up to the ceiling and\n",
      "down to the floor and rolled around so queerly that they seemed to see\n",
      "every part of the room.\n",
      "And at last they looked at Dorothy again.\n",
      "\"Why should I do this for you?\"\n",
      "asked Oz.\n",
      "\"Because you are strong and I am weak; because you are a Great Wizard\n",
      "and I am only a little girl.\"\n",
      "\"But you were strong enough to kill the Wicked Witch of the East,\" said\n",
      "Oz.\n",
      "\"That just happened,\" returned Dorothy simply; \"I could not help it.\"\n",
      "\"Well,\" said the Head, \"I will give you my answer.\n",
      "You have no right\n",
      "to expect me to send you back to Kansas unless you do something for me\n",
      "in return.\n",
      "In this country everyone must pay for everything he gets.\n",
      "If you wish me to use my magic power to send you home again you must do\n",
      "something for me first.\n",
      "Help me and I will help you.\"\n",
      "\"What must I do?\"\n",
      "asked the girl.\n",
      "\"Kill the Wicked Witch of the West,\" answered Oz.\n",
      "\"But I cannot!\"\n",
      "exclaimed Dorothy, greatly surprised.\n",
      "\"You killed the Witch of the East and you wear the silver shoes, which\n",
      "bear a powerful charm.\n",
      "There is now but one Wicked Witch left in all\n",
      "this land, and when you can tell me she is dead I will send you back to\n",
      "Kansas--but not before.\"\n",
      "The little girl began to weep, she was so much disappointed; and the\n",
      "eyes winked again and looked upon her anxiously, as if the Great Oz\n",
      "felt that she could help him if she would.\n",
      "\"I never killed anything, willingly,\" she sobbed.\n",
      "\"Even if I wanted\n",
      "to, how could I kill the Wicked Witch?\n",
      "If you, who are Great and\n",
      "Terrible, cannot kill her yourself, how do you expect me to do it?\"\n",
      "\"I do not know,\" said the Head; \"but that is my answer, and until the\n",
      "Wicked Witch dies you will not see your uncle and aunt again.\n",
      "Remember\n",
      "that the Witch is Wicked--tremendously Wicked--and ought to be killed.\n",
      "Now go, and do not ask to see me again until you have done your task.\"\n",
      "Sorrowfully Dorothy left the Throne Room and went back where the Lion\n",
      "and the Scarecrow and the Tin Woodman were waiting to hear what Oz had\n",
      "said to her.\n",
      "\"There is no hope for me,\" she said sadly, \"for Oz will\n",
      "not send me home until I have killed the Wicked Witch of the West; and\n",
      "that I can never do.\"\n",
      "Her friends were sorry, but could do nothing to help her; so Dorothy\n",
      "went to her own room and lay down on the bed and cried herself to sleep.\n",
      "The next morning the soldier with the green whiskers came to the\n",
      "Scarecrow and said:\n",
      "\n",
      "\"Come with me, for Oz has sent for you.\"\n",
      "So the Scarecrow followed him and was admitted into the great Throne\n",
      "Room, where he saw, sitting in the emerald throne, a most lovely Lady.\n",
      "She was dressed in green silk gauze and wore upon her flowing green\n",
      "locks a crown of jewels.\n",
      "Growing from her shoulders were wings,\n",
      "gorgeous in color and so light that they fluttered if the slightest\n",
      "breath of air reached them.\n",
      "When the Scarecrow had bowed, as prettily as his straw stuffing would\n",
      "let him, before this beautiful creature, she looked upon him sweetly,\n",
      "and said:\n",
      "\n",
      "\"I am Oz, the Great and Terrible.\n",
      "Who are you, and why do you seek me?\"\n",
      "Now the Scarecrow, who had expected to see the great Head Dorothy had\n",
      "told him of, was much astonished; but he answered her bravely.\n",
      "\"I am only a Scarecrow, stuffed with straw.\n",
      "Therefore I have no\n",
      "brains, and I come to you praying that you will put brains in my head\n",
      "instead of straw, so that I may become as much a man as any other in\n",
      "your dominions.\"\n",
      "\"Why should I do this for you?\"\n",
      "asked the Lady.\n",
      "\"Because you are wise and powerful, and no one else can help me,\"\n",
      "answered the Scarecrow.\n",
      "\"I never grant favors without some return,\" said Oz; \"but this much I\n",
      "will promise.\n",
      "If you will kill for me the Wicked Witch of the West, I\n",
      "will bestow upon you a great many brains, and such good brains that you\n",
      "will be the wisest man in all the Land of Oz.\"\n",
      "\"I thought you asked Dorothy to kill the Witch,\" said the Scarecrow, in\n",
      "surprise.\n",
      "\"So I did.\n",
      "I don't care who kills her.\n",
      "But until she is dead I will\n",
      "not grant your wish.\n",
      "Now go, and do not seek me again until you have\n",
      "earned the brains you so greatly desire.\"\n",
      "The Scarecrow went sorrowfully back to his friends and told them what\n",
      "Oz had said; and Dorothy was surprised to find that the Great Wizard\n",
      "was not a Head, as she had seen him, but a lovely Lady.\n",
      "\"All the same,\" said the Scarecrow, \"she needs a heart as much as the\n",
      "Tin Woodman.\"\n",
      "On the next morning the soldier with the green whiskers came to the Tin\n",
      "Woodman and said:\n",
      "\n",
      "\"Oz has sent for you.\n",
      "Follow me.\"\n",
      "So the Tin Woodman followed him and came to the great Throne Room.\n",
      "He\n",
      "did not know whether he would find Oz a lovely Lady or a Head, but he\n",
      "hoped it would be the lovely Lady.\n",
      "\"For,\" he said to himself, \"if it\n",
      "is the head, I am sure I shall not be given a heart, since a head has\n",
      "no heart of its own and therefore cannot feel for me.\n",
      "But if it is the\n",
      "lovely Lady I shall beg hard for a heart, for all ladies are themselves\n",
      "said to be kindly hearted.\"\n",
      "But when the Woodman entered the great Throne Room he saw neither the\n",
      "Head nor the Lady, for Oz had taken the shape of a most terrible Beast.\n",
      "It was nearly as big as an elephant, and the green throne seemed hardly\n",
      "strong enough to hold its weight.\n",
      "The Beast had a head like that of a\n",
      "rhinoceros, only there were five eyes in its face.\n",
      "There were five\n",
      "long arms growing out of its body, and it also had five long, slim\n",
      "legs.\n",
      "Thick, woolly hair covered every part of it, and a more\n",
      "dreadful-looking monster could not be imagined.\n",
      "It was fortunate the\n",
      "Tin Woodman had no heart at that moment, for it would have beat loud\n",
      "and fast from terror.\n"
     ]
    }
   ],
   "source": [
    "for x in df_wizard['Sentences'][1007:1108]:\n",
    "    print x"
   ]
  },
  {
   "cell_type": "markdown",
   "metadata": {},
   "source": [
    "### Sentences from the 75% Mark, Turning Point 4, and Major Setback"
   ]
  },
  {
   "cell_type": "markdown",
   "metadata": {},
   "source": [
    "\"We have lost our way,\" said Dorothy. \n",
    "\n",
    "In this section Dorothy learns that the cap on her head has a charm that gives three wishes to the wearer, which the flying monkeys must fullfil. While the monkeys are carrying Dorothy and her friends back to the Emerald City she learns about how the golden cap came to be and it's a sad but beautiful story. \n",
    "\n",
    "At the end of these sentences we read \"They thought the Great Wizard would send for them at once, but he did not. They had no word from him the next day, nor the next, nor the next. The waiting was tiresome and wearing, and at last they grew vexed that Oz should treat them in so poor a fashion, after sending them to undergo hardships and slavery.\""
   ]
  },
  {
   "cell_type": "code",
   "execution_count": 98,
   "metadata": {
    "collapsed": false
   },
   "outputs": [
    {
     "name": "stdout",
     "output_type": "stream",
     "text": [
      "\"We have lost our way,\" said Dorothy.\n",
      "\"Can you tell us where the\n",
      "Emerald City is?\"\n",
      "\"Certainly,\" answered the Queen; \"but it is a great way off, for you\n",
      "have had it at your backs all this time.\"\n",
      "Then she noticed Dorothy's\n",
      "Golden Cap, and said, \"Why don't you use the charm of the Cap, and call\n",
      "the Winged Monkeys to you?\n",
      "They will carry you to the City of Oz in\n",
      "less than an hour.\"\n",
      "\"I didn't know there was a charm,\" answered Dorothy, in surprise.\n",
      "\"What is it?\"\n",
      "\"It is written inside the Golden Cap,\" replied the Queen of the Mice.\n",
      "\"But if you are going to call the Winged Monkeys we must run away, for\n",
      "they are full of mischief and think it great fun to plague us.\"\n",
      "\"Won't they hurt me?\"\n",
      "asked the girl anxiously.\n",
      "\"Oh, no.\n",
      "They must obey the wearer of the Cap.\n",
      "Good-bye!\"\n",
      "And she\n",
      "scampered out of sight, with all the mice hurrying after her.\n",
      "Dorothy looked inside the Golden Cap and saw some words written upon\n",
      "the lining.\n",
      "These, she thought, must be the charm, so she read the\n",
      "directions carefully and put the Cap upon her head.\n",
      "\"Ep-pe, pep-pe, kak-ke!\"\n",
      "she said, standing on her left foot.\n",
      "\"What did you say?\"\n",
      "asked the Scarecrow, who did not know what she was\n",
      "doing.\n",
      "\"Hil-lo, hol-lo, hel-lo!\"\n",
      "Dorothy went on, standing this time on her\n",
      "right foot.\n",
      "\"Hello!\"\n",
      "replied the Tin Woodman calmly.\n",
      "\"Ziz-zy, zuz-zy, zik!\"\n",
      "said Dorothy, who was now standing on both feet.\n",
      "This ended the saying of the charm, and they heard a great chattering\n",
      "and flapping of wings, as the band of Winged Monkeys flew up to them.\n",
      "The King bowed low before Dorothy, and asked, \"What is your command?\"\n",
      "\"We wish to go to the Emerald City,\" said the child, \"and we have lost\n",
      "our way.\"\n",
      "\"We will carry you,\" replied the King, and no sooner had he spoken than\n",
      "two of the Monkeys caught Dorothy in their arms and flew away with her.\n",
      "Others took the Scarecrow and the Woodman and the Lion, and one little\n",
      "Monkey seized Toto and flew after them, although the dog tried hard to\n",
      "bite him.\n",
      "The Scarecrow and the Tin Woodman were rather frightened at first, for\n",
      "they remembered how badly the Winged Monkeys had treated them before;\n",
      "but they saw that no harm was intended, so they rode through the air\n",
      "quite cheerfully, and had a fine time looking at the pretty gardens and\n",
      "woods far below them.\n",
      "Dorothy found herself riding easily between two of the biggest Monkeys,\n",
      "one of them the King himself.\n",
      "They had made a chair of their hands and\n",
      "were careful not to hurt her.\n",
      "\"Why do you have to obey the charm of the Golden Cap?\"\n",
      "she asked.\n",
      "\"That is a long story,\" answered the King, with a winged laugh; \"but as\n",
      "we have a long journey before us, I will pass the time by telling you\n",
      "about it, if you wish.\"\n",
      "\"I shall be glad to hear it,\" she replied.\n",
      "\"Once,\" began the leader, \"we were a free people, living happily in the\n",
      "great forest, flying from tree to tree, eating nuts and fruit, and\n",
      "doing just as we pleased without calling anybody master.\n",
      "Perhaps some\n",
      "of us were rather too full of mischief at times, flying down to pull\n",
      "the tails of the animals that had no wings, chasing birds, and throwing\n",
      "nuts at the people who walked in the forest.\n",
      "But we were careless and\n",
      "happy and full of fun, and enjoyed every minute of the day.\n",
      "This was\n",
      "many years ago, long before Oz came out of the clouds to rule over this\n",
      "land.\n",
      "\"There lived here then, away at the North, a beautiful princess, who\n",
      "was also a powerful sorceress.\n",
      "All her magic was used to help the\n",
      "people, and she was never known to hurt anyone who was good.\n",
      "Her name\n",
      "was Gayelette, and she lived in a handsome palace built from great\n",
      "blocks of ruby.\n",
      "Everyone loved her, but her greatest sorrow was that\n",
      "she could find no one to love in return, since all the men were much\n",
      "too stupid and ugly to mate with one so beautiful and wise.\n",
      "At last,\n",
      "however, she found a boy who was handsome and manly and wise beyond his\n",
      "years.\n",
      "Gayelette made up her mind that when he grew to be a man she\n",
      "would make him her husband, so she took him to her ruby palace and used\n",
      "all her magic powers to make him as strong and good and lovely as any\n",
      "woman could wish.\n",
      "When he grew to manhood, Quelala, as he was called,\n",
      "was said to be the best and wisest man in all the land, while his manly\n",
      "beauty was so great that Gayelette loved him dearly, and hastened to\n",
      "make everything ready for the wedding.\n",
      "\"My grandfather was at that time the King of the Winged Monkeys which\n",
      "lived in the forest near Gayelette's palace, and the old fellow loved a\n",
      "joke better than a good dinner.\n",
      "One day, just before the wedding, my\n",
      "grandfather was flying out with his band when he saw Quelala walking\n",
      "beside the river.\n",
      "He was dressed in a rich costume of pink silk and\n",
      "purple velvet, and my grandfather thought he would see what he could\n",
      "do.\n",
      "At his word the band flew down and seized Quelala, carried him in\n",
      "their arms until they were over the middle of the river, and then\n",
      "dropped him into the water.\n",
      "\"'Swim out, my fine fellow,' cried my grandfather, 'and see if the\n",
      "water has spotted your clothes.'\n",
      "Quelala was much too wise not to\n",
      "swim, and he was not in the least spoiled by all his good fortune.\n",
      "He\n",
      "laughed, when he came to the top of the water, and swam in to shore.\n",
      "But when Gayelette came running out to him she found his silks and\n",
      "velvet all ruined by the river.\n",
      "\"The princess was angry, and she knew, of course, who did it.\n",
      "She had\n",
      "all the Winged Monkeys brought before her, and she said at first that\n",
      "their wings should be tied and they should be treated as they had\n",
      "treated Quelala, and dropped in the river.\n",
      "But my grandfather pleaded\n",
      "hard, for he knew the Monkeys would drown in the river with their wings\n",
      "tied, and Quelala said a kind word for them also; so that Gayelette\n",
      "finally spared them, on condition that the Winged Monkeys should ever\n",
      "after do three times the bidding of the owner of the Golden Cap.\n",
      "This\n",
      "Cap had been made for a wedding present to Quelala, and it is said to\n",
      "have cost the princess half her kingdom.\n",
      "Of course my grandfather and\n",
      "all the other Monkeys at once agreed to the condition, and that is how\n",
      "it happens that we are three times the slaves of the owner of the\n",
      "Golden Cap, whosoever he may be.\"\n",
      "\"And what became of them?\"\n",
      "asked Dorothy, who had been greatly\n",
      "interested in the story.\n",
      "\"Quelala being the first owner of the Golden Cap,\" replied the Monkey,\n",
      "\"he was the first to lay his wishes upon us.\n",
      "As his bride could not\n",
      "bear the sight of us, he called us all to him in the forest after he\n",
      "had married her and ordered us always to keep where she could never\n",
      "again set eyes on a Winged Monkey, which we were glad to do, for we\n",
      "were all afraid of her.\n",
      "\"This was all we ever had to do until the Golden Cap fell into the\n",
      "hands of the Wicked Witch of the West, who made us enslave the Winkies,\n",
      "and afterward drive Oz himself out of the Land of the West.\n",
      "Now the\n",
      "Golden Cap is yours, and three times you have the right to lay your\n",
      "wishes upon us.\"\n",
      "As the Monkey King finished his story Dorothy looked down and saw the\n",
      "green, shining walls of the Emerald City before them.\n",
      "She wondered at\n",
      "the rapid flight of the Monkeys, but was glad the journey was over.\n",
      "The strange creatures set the travelers down carefully before the gate\n",
      "of the City, the King bowed low to Dorothy, and then flew swiftly away,\n",
      "followed by all his band.\n",
      "\"That was a good ride,\" said the little girl.\n",
      "\"Yes, and a quick way out of our troubles,\" replied the Lion.\n",
      "\"How\n",
      "lucky it was you brought away that wonderful Cap!\"\n",
      "The four travelers walked up to the great gate of Emerald City and rang\n",
      "the bell.\n",
      "After ringing several times, it was opened by the same\n",
      "Guardian of the Gates they had met before.\n",
      "\"What!\n",
      "are you back again?\"\n",
      "he asked, in surprise.\n",
      "\"Do you not see us?\"\n",
      "answered the Scarecrow.\n",
      "\"But I thought you had gone to visit the Wicked Witch of the West.\"\n",
      "\"We did visit her,\" said the Scarecrow.\n",
      "\"And she let you go again?\"\n",
      "asked the man, in wonder.\n",
      "\"She could not help it, for she is melted,\" explained the Scarecrow.\n",
      "\"Melted!\n",
      "Well, that is good news, indeed,\" said the man.\n",
      "\"Who melted\n",
      "her?\"\n",
      "\"It was Dorothy,\" said the Lion gravely.\n",
      "\"Good gracious!\"\n",
      "exclaimed the man, and he bowed very low indeed before\n",
      "her.\n",
      "Then he led them into his little room and locked the spectacles from\n",
      "the great box on all their eyes, just as he had done before.\n",
      "Afterward\n",
      "they passed on through the gate into the Emerald City.\n",
      "When the people\n",
      "heard from the Guardian of the Gates that Dorothy had melted the Wicked\n",
      "Witch of the West, they all gathered around the travelers and followed\n",
      "them in a great crowd to the Palace of Oz.\n",
      "The soldier with the green whiskers was still on guard before the door,\n",
      "but he let them in at once, and they were again met by the beautiful\n",
      "green girl, who showed each of them to their old rooms at once, so they\n",
      "might rest until the Great Oz was ready to receive them.\n",
      "The soldier had the news carried straight to Oz that Dorothy and the\n",
      "other travelers had come back again, after destroying the Wicked Witch;\n",
      "but Oz made no reply.\n",
      "They thought the Great Wizard would send for\n",
      "them at once, but he did not.\n",
      "They had no word from him the next day,\n",
      "nor the next, nor the next.\n",
      "The waiting was tiresome and wearing, and\n",
      "at last they grew vexed that Oz should treat them in so poor a fashion,\n",
      "after sending them to undergo hardships and slavery.\n"
     ]
    }
   ],
   "source": [
    "for x in df_wizard['Sentences'][1411:1512]:\n",
    "    print x"
   ]
  },
  {
   "cell_type": "markdown",
   "metadata": {},
   "source": [
    "### The last sentences of the story where we see the largest spike in sentiment when viewing the twenty segments on the bar gragh"
   ]
  },
  {
   "cell_type": "markdown",
   "metadata": {},
   "source": [
    "This section starts off with \"Dorothy was once more filled with the hope of getting home, and the Scarecrow and the Tin Woodman were glad to be of use to her.\" "
   ]
  },
  {
   "cell_type": "code",
   "execution_count": 99,
   "metadata": {
    "collapsed": false
   },
   "outputs": [
    {
     "name": "stdout",
     "output_type": "stream",
     "text": [
      "Dorothy was once more filled with the hope of\n",
      "getting home, and the Scarecrow and the Tin Woodman were glad to be of\n",
      "use to her.\n",
      "As for the Lion, he sniffed the fresh air with delight and\n",
      "whisked his tail from side to side in pure joy at being in the country\n",
      "again, while Toto ran around them and chased the moths and butterflies,\n",
      "barking merrily all the time.\n",
      "\"City life does not agree with me at all,\" remarked the Lion, as they\n",
      "walked along at a brisk pace.\n",
      "\"I have lost much flesh since I lived\n",
      "there, and now I am anxious for a chance to show the other beasts how\n",
      "courageous I have grown.\"\n",
      "They now turned and took a last look at the Emerald City.\n",
      "All they\n",
      "could see was a mass of towers and steeples behind the green walls, and\n",
      "high up above everything the spires and dome of the Palace of Oz.\n",
      "\"Oz was not such a bad Wizard, after all,\" said the Tin Woodman, as he\n",
      "felt his heart rattling around in his breast.\n",
      "\"He knew how to give me brains, and very good brains, too,\" said the\n",
      "Scarecrow.\n",
      "\"If Oz had taken a dose of the same courage he gave me,\" added the\n",
      "Lion, \"he would have been a brave man.\"\n",
      "Dorothy said nothing.\n",
      "Oz had not kept the promise he made her, but he\n",
      "had done his best, so she forgave him.\n",
      "As he said, he was a good man,\n",
      "even if he was a bad Wizard.\n",
      "The first day's journey was through the green fields and bright flowers\n",
      "that stretched about the Emerald City on every side.\n",
      "They slept that\n",
      "night on the grass, with nothing but the stars over them; and they\n",
      "rested very well indeed.\n",
      "In the morning they traveled on until they came to a thick wood.\n",
      "There\n",
      "was no way of going around it, for it seemed to extend to the right and\n",
      "left as far as they could see; and, besides, they did not dare change\n",
      "the direction of their journey for fear of getting lost.\n",
      "So they\n",
      "looked for the place where it would be easiest to get into the forest.\n",
      "The Scarecrow, who was in the lead, finally discovered a big tree with\n",
      "such wide-spreading branches that there was room for the party to pass\n",
      "underneath.\n",
      "So he walked forward to the tree, but just as he came\n",
      "under the first branches they bent down and twined around him, and the\n",
      "next minute he was raised from the ground and flung headlong among his\n",
      "fellow travelers.\n",
      "This did not hurt the Scarecrow, but it surprised him, and he looked\n",
      "rather dizzy when Dorothy picked him up.\n",
      "\"Here is another space between the trees,\" called the Lion.\n",
      "\"Let me try it first,\" said the Scarecrow, \"for it doesn't hurt me to\n",
      "get thrown about.\"\n",
      "He walked up to another tree, as he spoke, but its\n",
      "branches immediately seized him and tossed him back again.\n",
      "\"This is strange,\" exclaimed Dorothy.\n",
      "\"What shall we do?\"\n",
      "\"The trees seem to have made up their minds to fight us, and stop our\n",
      "journey,\" remarked the Lion.\n",
      "\"I believe I will try it myself,\" said the Woodman, and shouldering his\n",
      "axe, he marched up to the first tree that had handled the Scarecrow so\n",
      "roughly.\n",
      "When a big branch bent down to seize him the Woodman chopped\n",
      "at it so fiercely that he cut it in two.\n",
      "At once the tree began\n",
      "shaking all its branches as if in pain, and the Tin Woodman passed\n",
      "safely under it.\n",
      "\"Come on!\"\n",
      "he shouted to the others.\n",
      "\"Be quick!\"\n",
      "They all ran forward\n",
      "and passed under the tree without injury, except Toto, who was caught\n",
      "by a small branch and shaken until he howled.\n",
      "But the Woodman promptly\n",
      "chopped off the branch and set the little dog free.\n",
      "The other trees of the forest did nothing to keep them back, so they\n",
      "made up their minds that only the first row of trees could bend down\n",
      "their branches, and that probably these were the policemen of the\n",
      "forest, and given this wonderful power in order to keep strangers out\n",
      "of it.\n",
      "The four travelers walked with ease through the trees until they came\n",
      "to the farther edge of the wood.\n",
      "Then, to their surprise, they found\n",
      "before them a high wall which seemed to be made of white china.\n",
      "It was\n",
      "smooth, like the surface of a dish, and higher than their heads.\n",
      "\"What shall we do now?\"\n",
      "asked Dorothy.\n",
      "\"I will make a ladder,\" said the Tin Woodman, \"for we certainly must\n",
      "climb over the wall.\"\n",
      "While the Woodman was making a ladder from wood which he found in the\n",
      "forest Dorothy lay down and slept, for she was tired by the long walk.\n",
      "The Lion also curled himself up to sleep and Toto lay beside him.\n",
      "The Scarecrow watched the Woodman while he worked, and said to him:\n",
      "\n",
      "\"I cannot think why this wall is here, nor what it is made of.\"\n",
      "\"Rest your brains and do not worry about the wall,\" replied the\n",
      "Woodman.\n",
      "\"When we have climbed over it, we shall know what is on the\n",
      "other side.\"\n",
      "After a time the ladder was finished.\n",
      "It looked clumsy, but the Tin\n",
      "Woodman was sure it was strong and would answer their purpose.\n",
      "The\n",
      "Scarecrow waked Dorothy and the Lion and Toto, and told them that the\n",
      "ladder was ready.\n",
      "The Scarecrow climbed up the ladder first, but he\n",
      "was so awkward that Dorothy had to follow close behind and keep him\n",
      "from falling off.\n",
      "When he got his head over the top of the wall the\n",
      "Scarecrow said, \"Oh, my!\"\n",
      "\"Go on,\" exclaimed Dorothy.\n",
      "So the Scarecrow climbed farther up and sat down on the top of the\n",
      "wall, and Dorothy put her head over and cried, \"Oh, my!\"\n",
      "just as the\n",
      "Scarecrow had done.\n",
      "Then Toto came up, and immediately began to bark, but Dorothy made him\n",
      "be still.\n",
      "The Lion climbed the ladder next, and the Tin Woodman came last; but\n",
      "both of them cried, \"Oh, my!\"\n",
      "as soon as they looked over the wall.\n",
      "When they were all sitting in a row on the top of the wall, they looked\n",
      "down and saw a strange sight.\n",
      "Before them was a great stretch of country having a floor as smooth and\n",
      "shining and white as the bottom of a big platter.\n",
      "Scattered around\n",
      "were many houses made entirely of china and painted in the brightest\n",
      "colors.\n",
      "These houses were quite small, the biggest of them reaching\n",
      "only as high as Dorothy's waist.\n",
      "There were also pretty little barns,\n",
      "with china fences around them; and many cows and sheep and horses and\n",
      "pigs and chickens, all made of china, were standing about in groups.\n",
      "But the strangest of all were the people who lived in this queer\n",
      "country.\n",
      "There were milkmaids and shepherdesses, with brightly colored\n",
      "bodices and golden spots all over their gowns; and princesses with most\n",
      "gorgeous frocks of silver and gold and purple; and shepherds dressed in\n",
      "knee breeches with pink and yellow and blue stripes down them, and\n",
      "golden buckles on their shoes; and princes with jeweled crowns upon\n",
      "their heads, wearing ermine robes and satin doublets; and funny clowns\n",
      "in ruffled gowns, with round red spots upon their cheeks and tall,\n",
      "pointed caps.\n",
      "And, strangest of all, these people were all made of\n",
      "china, even to their clothes, and were so small that the tallest of\n",
      "them was no higher than Dorothy's knee.\n",
      "No one did so much as look at the travelers at first, except one little\n",
      "purple china dog with an extra-large head, which came to the wall and\n",
      "barked at them in a tiny voice, afterwards running away again.\n",
      "\"How shall we get down?\"\n",
      "asked Dorothy.\n",
      "They found the ladder so heavy they could not pull it up, so the\n",
      "Scarecrow fell off the wall and the others jumped down upon him so that\n",
      "the hard floor would not hurt their feet.\n",
      "Of course they took pains\n",
      "not to light on his head and get the pins in their feet.\n",
      "When all were\n",
      "safely down they picked up the Scarecrow, whose body was quite\n",
      "flattened out, and patted his straw into shape again.\n",
      "\"We must cross this strange place in order to get to the other side,\"\n",
      "said Dorothy, \"for it would be unwise for us to go any other way except\n",
      "due South.\"\n",
      "They began walking through the country of the china people, and the\n",
      "first thing they came to was a china milkmaid milking a china cow.\n",
      "As\n",
      "they drew near, the cow suddenly gave a kick and kicked over the stool,\n",
      "the pail, and even the milkmaid herself, and all fell on the china\n",
      "ground with a great clatter.\n",
      "Dorothy was shocked to see that the cow had broken her leg off, and\n",
      "that the pail was lying in several small pieces, while the poor\n",
      "milkmaid had a nick in her left elbow.\n",
      "\"There!\"\n",
      "cried the milkmaid angrily.\n",
      "\"See what you have done!\n",
      "My cow\n",
      "has broken her leg, and I must take her to the mender's shop and have\n",
      "it glued on again.\n",
      "What do you mean by coming here and frightening my\n",
      "cow?\"\n",
      "\"I'm very sorry,\" returned Dorothy.\n",
      "\"Please forgive us.\"\n",
      "But the pretty milkmaid was much too vexed to make any answer.\n",
      "She\n",
      "picked up the leg sulkily and led her cow away, the poor animal limping\n",
      "on three legs.\n",
      "As she left them the milkmaid cast many reproachful\n",
      "glances over her shoulder at the clumsy strangers, holding her nicked\n",
      "elbow close to her side.\n",
      "Dorothy was quite grieved at this mishap.\n",
      "\"We must be very careful here,\" said the kind-hearted Woodman, \"or we\n",
      "may hurt these pretty little people so they will never get over it.\"\n",
      "A little farther on Dorothy met a most beautifully dressed young\n",
      "Princess, who stopped short as she saw the strangers and started to run\n",
      "away.\n",
      "Dorothy wanted to see more of the Princess, so she ran after her.\n",
      "But\n",
      "the china girl cried out:\n",
      "\n",
      "\"Don't chase me!\n",
      "Don't chase me!\"\n",
      "She had such a frightened little voice that Dorothy stopped and said,\n",
      "\"Why not?\"\n",
      "\"Because,\" answered the Princess, also stopping, a safe distance away,\n",
      "\"if I run I may fall down and break myself.\"\n",
      "\"But could you not be mended?\"\n",
      "asked the girl.\n",
      "\"Oh, yes; but one is never so pretty after being mended, you know,\"\n",
      "replied the Princess.\n",
      "\"I suppose not,\" said Dorothy.\n",
      "\"Now there is Mr. Joker, one of our clowns,\" continued the china lady,\n",
      "\"who is always trying to stand upon his head.\n",
      "He has broken himself so\n",
      "often that he is mended in a hundred places, and doesn't look at all\n",
      "pretty.\n",
      "Here he comes now, so you can see for yourself.\"\n",
      "Indeed, a jolly little clown came walking toward them, and Dorothy\n",
      "could see that in spite of his pretty clothes of red and yellow and\n",
      "green he was completely covered with cracks, running every which way\n",
      "and showing plainly that he had been mended in many places.\n",
      "The Clown put his hands in his pockets, and after puffing out his\n",
      "cheeks and nodding his head at them saucily, he said:\n",
      "\n",
      "  \"My lady fair,\n",
      "     Why do you stare\n",
      "   At poor old Mr. Joker?\n",
      "You're quite as stiff\n",
      "   And prim as if\n",
      "     You'd eaten up a poker!\"\n",
      "\"Be quiet, sir!\"\n",
      "said the Princess.\n",
      "\"Can't you see these are\n",
      "strangers, and should be treated with respect?\"\n",
      "\"Well, that's respect, I expect,\" declared the Clown, and immediately\n",
      "stood upon his head.\n",
      "\"Don't mind Mr. Joker,\" said the Princess to Dorothy.\n",
      "\"He is\n",
      "considerably cracked in his head, and that makes him foolish.\"\n",
      "\"Oh, I don't mind him a bit,\" said Dorothy.\n",
      "\"But you are so\n",
      "beautiful,\" she continued, \"that I am sure I could love you dearly.\n",
      "Won't you let me carry you back to Kansas, and stand you on Aunt Em's\n",
      "mantel?\n",
      "I could carry you in my basket.\"\n",
      "\"That would make me very unhappy,\" answered the china Princess.\n",
      "\"You\n",
      "see, here in our country we live contentedly, and can talk and move\n",
      "around as we please.\n",
      "But whenever any of us are taken away our joints\n",
      "at once stiffen, and we can only stand straight and look pretty.\n",
      "Of\n",
      "course that is all that is expected of us when we are on mantels and\n",
      "cabinets and drawing-room tables, but our lives are much pleasanter\n",
      "here in our own country.\"\n",
      "\"I would not make you unhappy for all the world!\"\n",
      "exclaimed Dorothy.\n",
      "\"So I'll just say good-bye.\"\n",
      "\"Good-bye,\" replied the Princess.\n",
      "They walked carefully through the china country.\n",
      "The little animals\n",
      "and all the people scampered out of their way, fearing the strangers\n",
      "would break them, and after an hour or so the travelers reached the\n",
      "other side of the country and came to another china wall.\n",
      "It was not so high as the first, however, and by standing upon the\n",
      "Lion's back they all managed to scramble to the top.\n",
      "Then the Lion\n",
      "gathered his legs under him and jumped on the wall; but just as he\n",
      "jumped, he upset a china church with his tail and smashed it all to\n",
      "pieces.\n",
      "\"That was too bad,\" said Dorothy, \"but really I think we were lucky in\n",
      "not doing these little people more harm than breaking a cow's leg and a\n",
      "church.\n",
      "They are all so brittle!\"\n",
      "\"They are, indeed,\" said the Scarecrow, \"and I am thankful I am made of\n",
      "straw and cannot be easily damaged.\n",
      "There are worse things in the\n",
      "world than being a Scarecrow.\"\n",
      "After climbing down from the china wall the travelers found themselves\n",
      "in a disagreeable country, full of bogs and marshes and covered with\n",
      "tall, rank grass.\n",
      "It was difficult to walk without falling into muddy\n",
      "holes, for the grass was so thick that it hid them from sight.\n",
      "However, by carefully picking their way, they got safely along until\n",
      "they reached solid ground.\n",
      "But here the country seemed wilder than\n",
      "ever, and after a long and tiresome walk through the underbrush they\n",
      "entered another forest, where the trees were bigger and older than any\n",
      "they had ever seen.\n",
      "\"This forest is perfectly delightful,\" declared the Lion, looking\n",
      "around him with joy.\n",
      "\"Never have I seen a more beautiful place.\"\n",
      "\"It seems gloomy,\" said the Scarecrow.\n",
      "\"Not a bit of it,\" answered the Lion.\n",
      "\"I should like to live here all\n",
      "my life.\n",
      "See how soft the dried leaves are under your feet and how\n",
      "rich and green the moss is that clings to these old trees.\n",
      "Surely no\n",
      "wild beast could wish a pleasanter home.\"\n",
      "\"Perhaps there are wild beasts in the forest now,\" said Dorothy.\n",
      "\"I suppose there are,\" returned the Lion, \"but I do not see any of them\n",
      "about.\"\n",
      "They walked through the forest until it became too dark to go any\n",
      "farther.\n",
      "Dorothy and Toto and the Lion lay down to sleep, while the\n",
      "Woodman and the Scarecrow kept watch over them as usual.\n",
      "When morning came, they started again.\n",
      "Before they had gone far they\n",
      "heard a low rumble, as of the growling of many wild animals.\n",
      "Toto\n",
      "whimpered a little, but none of the others was frightened, and they\n",
      "kept along the well-trodden path until they came to an opening in the\n",
      "wood, in which were gathered hundreds of beasts of every variety.\n",
      "There were tigers and elephants and bears and wolves and foxes and all\n",
      "the others in the natural history, and for a moment Dorothy was afraid.\n",
      "But the Lion explained that the animals were holding a meeting, and he\n",
      "judged by their snarling and growling that they were in great trouble.\n",
      "As he spoke several of the beasts caught sight of him, and at once the\n",
      "great assemblage hushed as if by magic.\n",
      "The biggest of the tigers came\n",
      "up to the Lion and bowed, saying:\n",
      "\n",
      "\"Welcome, O King of Beasts!\n",
      "You have come in good time to fight our\n",
      "enemy and bring peace to all the animals of the forest once more.\"\n",
      "\"What is your trouble?\"\n",
      "asked the Lion quietly.\n",
      "\"We are all threatened,\" answered the tiger, \"by a fierce enemy which\n",
      "has lately come into this forest.\n",
      "It is a most tremendous monster,\n",
      "like a great spider, with a body as big as an elephant and legs as long\n",
      "as a tree trunk.\n",
      "It has eight of these long legs, and as the monster\n",
      "crawls through the forest he seizes an animal with a leg and drags it\n",
      "to his mouth, where he eats it as a spider does a fly.\n",
      "Not one of us\n",
      "is safe while this fierce creature is alive, and we had called a\n",
      "meeting to decide how to take care of ourselves when you came among us.\"\n",
      "The Lion thought for a moment.\n",
      "\"Are there any other lions in this forest?\"\n",
      "he asked.\n",
      "\"No; there were some, but the monster has eaten them all.\n",
      "And,\n",
      "besides, they were none of them nearly so large and brave as you.\"\n",
      "\"If I put an end to your enemy, will you bow down to me and obey me as\n",
      "King of the Forest?\"\n",
      "inquired the Lion.\n",
      "\"We will do that gladly,\" returned the tiger; and all the other beasts\n",
      "roared with a mighty roar: \"We will!\"\n",
      "\"Where is this great spider of yours now?\"\n",
      "asked the Lion.\n",
      "\"Yonder, among the oak trees,\" said the tiger, pointing with his\n",
      "forefoot.\n",
      "\"Take good care of these friends of mine,\" said the Lion, \"and I will\n",
      "go at once to fight the monster.\"\n",
      "He bade his comrades good-bye and marched proudly away to do battle\n",
      "with the enemy.\n",
      "The great spider was lying asleep when the Lion found him, and it\n",
      "looked so ugly that its foe turned up his nose in disgust.\n",
      "Its legs\n",
      "were quite as long as the tiger had said, and its body covered with\n",
      "coarse black hair.\n",
      "It had a great mouth, with a row of sharp teeth a\n",
      "foot long; but its head was joined to the pudgy body by a neck as\n",
      "slender as a wasp's waist.\n",
      "This gave the Lion a hint of the best way\n",
      "to attack the creature, and as he knew it was easier to fight it asleep\n",
      "than awake, he gave a great spring and landed directly upon the\n",
      "monster's back.\n",
      "Then, with one blow of his heavy paw, all armed with\n",
      "sharp claws, he knocked the spider's head from its body.\n",
      "Jumping down,\n",
      "he watched it until the long legs stopped wiggling, when he knew it was\n",
      "quite dead.\n",
      "The Lion went back to the opening where the beasts of the forest were\n",
      "waiting for him and said proudly:\n",
      "\n",
      "\"You need fear your enemy no longer.\"\n",
      "Then the beasts bowed down to the Lion as their King, and he promised\n",
      "to come back and rule over them as soon as Dorothy was safely on her\n",
      "way to Kansas.\n",
      "The four travelers passed through the rest of the forest in safety, and\n",
      "when they came out from its gloom saw before them a steep hill, covered\n",
      "from top to bottom with great pieces of rock.\n",
      "\"That will be a hard climb,\" said the Scarecrow, \"but we must get over\n",
      "the hill, nevertheless.\"\n",
      "So he led the way and the others followed.\n",
      "They had nearly reached the\n",
      "first rock when they heard a rough voice cry out, \"Keep back!\"\n",
      "\"Who are you?\"\n",
      "asked the Scarecrow.\n",
      "Then a head showed itself over the rock and the same voice said, \"This\n",
      "hill belongs to us, and we don't allow anyone to cross it.\"\n",
      "\"But we must cross it,\" said the Scarecrow.\n",
      "\"We're going to the\n",
      "country of the Quadlings.\"\n",
      "\"But you shall not!\"\n",
      "replied the voice, and there stepped from behind\n",
      "the rock the strangest man the travelers had ever seen.\n",
      "He was quite short and stout and had a big head, which was flat at the\n",
      "top and supported by a thick neck full of wrinkles.\n",
      "But he had no arms\n",
      "at all, and, seeing this, the Scarecrow did not fear that so helpless a\n",
      "creature could prevent them from climbing the hill.\n",
      "So he said, \"I'm\n",
      "sorry not to do as you wish, but we must pass over your hill whether\n",
      "you like it or not,\" and he walked boldly forward.\n",
      "As quick as lightning the man's head shot forward and his neck\n",
      "stretched out until the top of the head, where it was flat, struck the\n",
      "Scarecrow in the middle and sent him tumbling, over and over, down the\n",
      "hill.\n",
      "Almost as quickly as it came the head went back to the body, and\n",
      "the man laughed harshly as he said, \"It isn't as easy as you think!\"\n",
      "A chorus of boisterous laughter came from the other rocks, and Dorothy\n",
      "saw hundreds of the armless Hammer-Heads upon the hillside, one behind\n",
      "every rock.\n",
      "The Lion became quite angry at the laughter caused by the Scarecrow's\n",
      "mishap, and giving a loud roar that echoed like thunder, he dashed up\n",
      "the hill.\n",
      "Again a head shot swiftly out, and the great Lion went rolling down the\n",
      "hill as if he had been struck by a cannon ball.\n",
      "Dorothy ran down and helped the Scarecrow to his feet, and the Lion\n",
      "came up to her, feeling rather bruised and sore, and said, \"It is\n",
      "useless to fight people with shooting heads; no one can withstand them.\"\n",
      "\"What can we do, then?\"\n",
      "she asked.\n",
      "\"Call the Winged Monkeys,\" suggested the Tin Woodman.\n",
      "\"You have still\n",
      "the right to command them once more.\"\n",
      "\"Very well,\" she answered, and putting on the Golden Cap she uttered\n",
      "the magic words.\n",
      "The Monkeys were as prompt as ever, and in a few\n",
      "moments the entire band stood before her.\n",
      "\"What are your commands?\"\n",
      "inquired the King of the Monkeys, bowing low.\n",
      "\"Carry us over the hill to the country of the Quadlings,\" answered the\n",
      "girl.\n",
      "\"It shall be done,\" said the King, and at once the Winged Monkeys\n",
      "caught the four travelers and Toto up in their arms and flew away with\n",
      "them.\n",
      "As they passed over the hill the Hammer-Heads yelled with\n",
      "vexation, and shot their heads high in the air, but they could not\n",
      "reach the Winged Monkeys, which carried Dorothy and her comrades safely\n",
      "over the hill and set them down in the beautiful country of the\n",
      "Quadlings.\n",
      "\"This is the last time you can summon us,\" said the leader to Dorothy;\n",
      "\"so good-bye and good luck to you.\"\n",
      "\"Good-bye, and thank you very much,\" returned the girl; and the Monkeys\n",
      "rose into the air and were out of sight in a twinkling.\n",
      "The country of the Quadlings seemed rich and happy.\n",
      "There was field\n",
      "upon field of ripening grain, with well-paved roads running between,\n",
      "and pretty rippling brooks with strong bridges across them.\n",
      "The fences\n",
      "and houses and bridges were all painted bright red, just as they had\n",
      "been painted yellow in the country of the Winkies and blue in the\n",
      "country of the Munchkins.\n",
      "The Quadlings themselves, who were short and\n",
      "fat and looked chubby and good-natured, were dressed all in red, which\n",
      "showed bright against the green grass and the yellowing grain.\n",
      "The Monkeys had set them down near a farmhouse, and the four travelers\n",
      "walked up to it and knocked at the door.\n",
      "It was opened by the farmer's\n",
      "wife, and when Dorothy asked for something to eat the woman gave them\n",
      "all a good dinner, with three kinds of cake and four kinds of cookies,\n",
      "and a bowl of milk for Toto.\n",
      "\"How far is it to the Castle of Glinda?\"\n",
      "asked the child.\n",
      "\"It is not a great way,\" answered the farmer's wife.\n",
      "\"Take the road to\n",
      "the South and you will soon reach it.\"\n",
      "Thanking the good woman, they started afresh and walked by the fields\n",
      "and across the pretty bridges until they saw before them a very\n",
      "beautiful Castle.\n",
      "Before the gates were three young girls, dressed in\n",
      "handsome red uniforms trimmed with gold braid; and as Dorothy\n",
      "approached, one of them said to her:\n",
      "\n",
      "\"Why have you come to the South Country?\"\n",
      "\"To see the Good Witch who rules here,\" she answered.\n",
      "\"Will you take\n",
      "me to her?\"\n",
      "\"Let me have your name, and I will ask Glinda if she will receive you.\"\n",
      "They told who they were, and the girl soldier went into the Castle.\n",
      "After a few moments she came back to say that Dorothy and the others\n",
      "were to be admitted at once.\n",
      "Before they went to see Glinda, however, they were taken to a room of\n",
      "the Castle, where Dorothy washed her face and combed her hair, and the\n",
      "Lion shook the dust out of his mane, and the Scarecrow patted himself\n",
      "into his best shape, and the Woodman polished his tin and oiled his\n",
      "joints.\n",
      "When they were all quite presentable they followed the soldier girl\n",
      "into a big room where the Witch Glinda sat upon a throne of rubies.\n",
      "She was both beautiful and young to their eyes.\n",
      "Her hair was a rich\n",
      "red in color and fell in flowing ringlets over her shoulders.\n",
      "Her\n",
      "dress was pure white but her eyes were blue, and they looked kindly\n",
      "upon the little girl.\n",
      "\"What can I do for you, my child?\"\n",
      "she asked.\n",
      "Dorothy told the Witch all her story: how the cyclone had brought her\n",
      "to the Land of Oz, how she had found her companions, and of the\n",
      "wonderful adventures they had met with.\n",
      "\"My greatest wish now,\" she added, \"is to get back to Kansas, for Aunt\n",
      "Em will surely think something dreadful has happened to me, and that\n",
      "will make her put on mourning; and unless the crops are better this\n",
      "year than they were last, I am sure Uncle Henry cannot afford it.\"\n",
      "Glinda leaned forward and kissed the sweet, upturned face of the loving\n",
      "little girl.\n",
      "\"Bless your dear heart,\" she said, \"I am sure I can tell you of a way\n",
      "to get back to Kansas.\"\n",
      "Then she added, \"But, if I do, you must give\n",
      "me the Golden Cap.\"\n",
      "\"Willingly!\"\n",
      "exclaimed Dorothy; \"indeed, it is of no use to me now, and\n",
      "when you have it you can command the Winged Monkeys three times.\"\n",
      "\"And I think I shall need their service just those three times,\"\n",
      "answered Glinda, smiling.\n",
      "Dorothy then gave her the Golden Cap, and the Witch said to the\n",
      "Scarecrow, \"What will you do when Dorothy has left us?\"\n",
      "\"I will return to the Emerald City,\" he replied, \"for Oz has made me\n",
      "its ruler and the people like me.\n",
      "The only thing that worries me is\n",
      "how to cross the hill of the Hammer-Heads.\"\n",
      "\"By means of the Golden Cap I shall command the Winged Monkeys to carry\n",
      "you to the gates of the Emerald City,\" said Glinda, \"for it would be a\n",
      "shame to deprive the people of so wonderful a ruler.\"\n",
      "\"Am I really wonderful?\"\n",
      "asked the Scarecrow.\n",
      "\"You are unusual,\" replied Glinda.\n",
      "Turning to the Tin Woodman, she asked, \"What will become of you when\n",
      "Dorothy leaves this country?\"\n",
      "He leaned on his axe and thought a moment.\n",
      "Then he said, \"The Winkies\n",
      "were very kind to me, and wanted me to rule over them after the Wicked\n",
      "Witch died.\n",
      "I am fond of the Winkies, and if I could get back again to\n",
      "the Country of the West, I should like nothing better than to rule over\n",
      "them forever.\"\n",
      "\"My second command to the Winged Monkeys,\" said Glinda \"will be that\n",
      "they carry you safely to the land of the Winkies.\n",
      "Your brain may not\n",
      "be so large to look at as those of the Scarecrow, but you are really\n",
      "brighter than he is--when you are well polished--and I am sure you will\n",
      "rule the Winkies wisely and well.\"\n",
      "Then the Witch looked at the big, shaggy Lion and asked, \"When Dorothy\n",
      "has returned to her own home, what will become of you?\"\n",
      "\"Over the hill of the Hammer-Heads,\" he answered, \"lies a grand old\n",
      "forest, and all the beasts that live there have made me their King.\n",
      "If\n",
      "I could only get back to this forest, I would pass my life very happily\n",
      "there.\"\n",
      "\"My third command to the Winged Monkeys,\" said Glinda, \"shall be to\n",
      "carry you to your forest.\n",
      "Then, having used up the powers of the\n",
      "Golden Cap, I shall give it to the King of the Monkeys, that he and his\n",
      "band may thereafter be free for evermore.\"\n",
      "The Scarecrow and the Tin Woodman and the Lion now thanked the Good\n",
      "Witch earnestly for her kindness; and Dorothy exclaimed:\n",
      "\n",
      "\"You are certainly as good as you are beautiful!\n",
      "But you have not yet\n",
      "told me how to get back to Kansas.\"\n",
      "\"Your Silver Shoes will carry you over the desert,\" replied Glinda.\n",
      "\"If you had known their power you could have gone back to your Aunt Em\n",
      "the very first day you came to this country.\"\n",
      "\"But then I should not have had my wonderful brains!\"\n",
      "cried the\n",
      "Scarecrow.\n",
      "\"I might have passed my whole life in the farmer's\n",
      "cornfield.\"\n",
      "\"And I should not have had my lovely heart,\" said the Tin Woodman.\n",
      "\"I\n",
      "might have stood and rusted in the forest till the end of the world.\"\n",
      "\"And I should have lived a coward forever,\" declared the Lion, \"and no\n",
      "beast in all the forest would have had a good word to say to me.\"\n",
      "\"This is all true,\" said Dorothy, \"and I am glad I was of use to these\n",
      "good friends.\n",
      "But now that each of them has had what he most desired,\n",
      "and each is happy in having a kingdom to rule besides, I think I should\n",
      "like to go back to Kansas.\"\n",
      "\"The Silver Shoes,\" said the Good Witch, \"have wonderful powers.\n",
      "And\n",
      "one of the most curious things about them is that they can carry you to\n",
      "any place in the world in three steps, and each step will be made in\n",
      "the wink of an eye.\n",
      "All you have to do is to knock the heels together\n",
      "three times and command the shoes to carry you wherever you wish to go.\"\n",
      "\"If that is so,\" said the child joyfully, \"I will ask them to carry me\n",
      "back to Kansas at once.\"\n",
      "She threw her arms around the Lion's neck and kissed him, patting his\n",
      "big head tenderly.\n",
      "Then she kissed the Tin Woodman, who was weeping in\n",
      "a way most dangerous to his joints.\n",
      "But she hugged the soft, stuffed\n",
      "body of the Scarecrow in her arms instead of kissing his painted face,\n",
      "and found she was crying herself at this sorrowful parting from her\n",
      "loving comrades.\n",
      "Glinda the Good stepped down from her ruby throne to give the little\n",
      "girl a good-bye kiss, and Dorothy thanked her for all the kindness she\n",
      "had shown to her friends and herself.\n",
      "Dorothy now took Toto up solemnly in her arms, and having said one last\n",
      "good-bye she clapped the heels of her shoes together three times,\n",
      "saying:\n",
      "\n",
      "\"Take me home to Aunt Em!\"\n",
      "Instantly she was whirling through the air, so swiftly that all she\n",
      "could see or feel was the wind whistling past her ears.\n",
      "The Silver Shoes took but three steps, and then she stopped so suddenly\n",
      "that she rolled over upon the grass several times before she knew where\n",
      "she was.\n",
      "At length, however, she sat up and looked about her.\n",
      "\"Good gracious!\"\n",
      "she cried.\n",
      "For she was sitting on the broad Kansas prairie, and just before her\n",
      "was the new farmhouse Uncle Henry built after the cyclone had carried\n",
      "away the old one.\n",
      "Uncle Henry was milking the cows in the barnyard,\n",
      "and Toto had jumped out of her arms and was running toward the barn,\n",
      "barking furiously.\n",
      "Dorothy stood up and found she was in her stocking-feet.\n",
      "For the\n",
      "Silver Shoes had fallen off in her flight through the air, and were\n",
      "lost forever in the desert.\n",
      "Aunt Em had just come out of the house to water the cabbages when she\n",
      "looked up and saw Dorothy running toward her.\n",
      "\"My darling child!\"\n",
      "she cried, folding the little girl in her arms and\n",
      "covering her face with kisses.\n",
      "\"Where in the world did you come from?\"\n",
      "\"From the Land of Oz,\" said Dorothy gravely.\n",
      "\"And here is Toto, too.\n",
      "And oh, Aunt Em!\n",
      "I'm so glad to be at home again!\"\n"
     ]
    }
   ],
   "source": [
    "for x in df_wizard['Sentences'][1916:]:\n",
    "    print x"
   ]
  },
  {
   "cell_type": "markdown",
   "metadata": {},
   "source": [
    "## 4. Exploring Character Total and Rhythm"
   ]
  },
  {
   "cell_type": "markdown",
   "metadata": {},
   "source": [
    "I want to go further in this and discover the different speed and rhythm of language as the story progresses through structure and sentiment polarity. Below is the mean character totals of sentences grouped into the the Six Stage Plot Structure. "
   ]
  },
  {
   "cell_type": "code",
   "execution_count": 100,
   "metadata": {
    "collapsed": true
   },
   "outputs": [],
   "source": [
    "Stage_1_char = df_wizard['char_total'][:222].mean()\n",
    "Stage_2_char = df_wizard['char_total'][222:332].mean()\n",
    "Stage_3_char = df_wizard['char_total'][332:886].mean()\n",
    "Stage_4_char = df_wizard['char_total'][886:1440].mean()\n",
    "Stage_5_char = df_wizard['char_total'][1440:1883].mean()\n",
    "Stage_6_char = df_wizard['char_total'][1883:].mean()\n"
   ]
  },
  {
   "cell_type": "code",
   "execution_count": 101,
   "metadata": {
    "collapsed": true
   },
   "outputs": [],
   "source": [
    "SixPlot_char = pd.Series([Stage_1_char, Stage_2_char, Stage_3_char, Stage_4_char, Stage_5_char, Stage_6_char])"
   ]
  },
  {
   "cell_type": "code",
   "execution_count": 102,
   "metadata": {
    "collapsed": false
   },
   "outputs": [
    {
     "data": {
      "text/plain": [
       "<matplotlib.axes._subplots.AxesSubplot at 0x11f0a3950>"
      ]
     },
     "execution_count": 102,
     "metadata": {},
     "output_type": "execute_result"
    },
    {
     "data": {
      "image/png": "[encoded data removed]",
      "text/plain": [
       "<matplotlib.figure.Figure at 0x11eef6b50>"
      ]
     },
     "metadata": {},
     "output_type": "display_data"
    }
   ],
   "source": [
    "SixPlot_char.plot.bar()"
   ]
  },
  {
   "cell_type": "markdown",
   "metadata": {},
   "source": [
    "It seems there is a positive correlation to sentiment and character total. I want to explore this further. "
   ]
  },
  {
   "cell_type": "code",
   "execution_count": 103,
   "metadata": {
    "collapsed": false
   },
   "outputs": [
    {
     "data": {
      "text/plain": [
       "<seaborn.axisgrid.FacetGrid at 0x11f23f550>"
      ]
     },
     "execution_count": 103,
     "metadata": {},
     "output_type": "execute_result"
    },
    {
     "data": {
      "image/png": "[encoded data removed]",
      "text/plain": [
       "<matplotlib.figure.Figure at 0x11f23f710>"
      ]
     },
     "metadata": {},
     "output_type": "display_data"
    }
   ],
   "source": [
    "sns.lmplot(x='char_total', y='sentiment', data=df_wizard, aspect=1.5, scatter_kws={'alpha':0.2})"
   ]
  },
  {
   "cell_type": "markdown",
   "metadata": {},
   "source": [
    "## 5. Break Novel Up Using Character Count Instead of Sentence Count"
   ]
  },
  {
   "cell_type": "markdown",
   "metadata": {},
   "source": [
    "### Length of Novel"
   ]
  },
  {
   "cell_type": "code",
   "execution_count": 104,
   "metadata": {
    "collapsed": false
   },
   "outputs": [
    {
     "data": {
      "text/plain": [
       "156872"
      ]
     },
     "execution_count": 104,
     "metadata": {},
     "output_type": "execute_result"
    }
   ],
   "source": [
    "df_wizard['char_total'].sum()"
   ]
  },
  {
   "cell_type": "code",
   "execution_count": 105,
   "metadata": {
    "collapsed": false
   },
   "outputs": [
    {
     "data": {
      "text/plain": [
       "7854"
      ]
     },
     "execution_count": 105,
     "metadata": {},
     "output_type": "execute_result"
    }
   ],
   "source": [
    "df_wizard['char_total'][:101].sum()"
   ]
  },
  {
   "cell_type": "markdown",
   "metadata": {},
   "source": [
    "### Exploring how to break novel up into 5% pieces via character count"
   ]
  },
  {
   "cell_type": "code",
   "execution_count": 108,
   "metadata": {
    "collapsed": false
   },
   "outputs": [
    {
     "name": "stdout",
     "output_type": "stream",
     "text": [
      "df_wizard['char_total'][0:110].sum() = 8186\n",
      "df_wizard['char_total'][110:220].sum() = 7235\n",
      "df_wizard['char_total'][220:330].sum() = 6894\n",
      "df_wizard['char_total'][330:440].sum() = 7058\n",
      "df_wizard['char_total'][440:550].sum() = 7731\n",
      "df_wizard['char_total'][550:660].sum() = 7903\n",
      "df_wizard['char_total'][660:770].sum() = 8674\n",
      "df_wizard['char_total'][770:880].sum() = 8956\n",
      "df_wizard['char_total'][880:990].sum() = 7576\n",
      "df_wizard['char_total'][990:1100].sum() = 8235\n",
      "df_wizard['char_total'][1100:1210].sum() = 7824\n",
      "df_wizard['char_total'][1210:1320].sum() = 10047\n",
      "df_wizard['char_total'][1320:1430].sum() = 8707\n",
      "df_wizard['char_total'][1430:1540].sum() = 8314\n",
      "df_wizard['char_total'][1540:1650].sum() = 6127\n",
      "df_wizard['char_total'][1650:1760].sum() = 6043\n",
      "df_wizard['char_total'][1760:1870].sum() = 6540\n",
      "df_wizard['char_total'][1870:1980].sum() = 7601\n",
      "df_wizard['char_total'][1980:2090].sum() = 7437\n",
      "df_wizard['char_total'][2090:2200].sum() = 8953\n"
     ]
    }
   ],
   "source": [
    "p_20_char = len(df_wizard) * .05 \n",
    "p_20_char = int(p_20_char) \n",
    "char_total_sums = []\n",
    "n_20_char = 0\n",
    "t_20_char = p_20\n",
    "for x in range(0 , 20):\n",
    "    s_20_char = df_wizard['char_total'][n_20_char:t_20_char].sum()\n",
    "    print \"df_wizard['char_total'][%s:%s].sum() = %s\"  % (n_20_char, t_20_char, s_20_char)\n",
    "    n_20_char = n_20_char + p_20_char\n",
    "    t_20_char = t_20_char + p_20_char\n",
    "    char_total_sums.append(s_20_char)\n",
    "           "
   ]
  },
  {
   "cell_type": "code",
   "execution_count": 109,
   "metadata": {
    "collapsed": false
   },
   "outputs": [
    {
     "data": {
      "text/plain": [
       "[8186,\n",
       " 7235,\n",
       " 6894,\n",
       " 7058,\n",
       " 7731,\n",
       " 7903,\n",
       " 8674,\n",
       " 8956,\n",
       " 7576,\n",
       " 8235,\n",
       " 7824,\n",
       " 10047,\n",
       " 8707,\n",
       " 8314,\n",
       " 6127,\n",
       " 6043,\n",
       " 6540,\n",
       " 7601,\n",
       " 7437,\n",
       " 8953]"
      ]
     },
     "execution_count": 109,
     "metadata": {},
     "output_type": "execute_result"
    }
   ],
   "source": [
    "char_total_sums"
   ]
  },
  {
   "cell_type": "code",
   "execution_count": 111,
   "metadata": {
    "collapsed": false
   },
   "outputs": [
    {
     "name": "stdout",
     "output_type": "stream",
     "text": [
      "<Container object of 20 artists>\n",
      "<Container object of 20 artists>\n"
     ]
    },
    {
     "data": {
      "image/png": "[encoded data removed]",
      "text/plain": [
       "<matplotlib.figure.Figure at 0x11f6456d0>"
      ]
     },
     "metadata": {},
     "output_type": "display_data"
    }
   ],
   "source": [
    "n = len(char_total_sums)\n",
    "x = range(n)\n",
    "\n",
    "plt.bar(x , char_total_sums)"
   ]
  },
  {
   "cell_type": "code",
   "execution_count": 112,
   "metadata": {
    "collapsed": false
   },
   "outputs": [
    {
     "data": {
      "text/plain": [
       "<Container object of 20 artists>"
      ]
     },
     "execution_count": 112,
     "metadata": {},
     "output_type": "execute_result"
    },
    {
     "data": {
      "image/png": "[encoded data removed]",
      "text/plain": [
       "<matplotlib.figure.Figure at 0x12016d510>"
      ]
     },
     "metadata": {},
     "output_type": "display_data"
    }
   ],
   "source": [
    "plt.bar(x , twenty_segments)\n"
   ]
  },
  {
   "cell_type": "code",
   "execution_count": 116,
   "metadata": {
    "collapsed": false
   },
   "outputs": [
    {
     "data": {
      "text/plain": [
       "7854"
      ]
     },
     "execution_count": 116,
     "metadata": {},
     "output_type": "execute_result"
    }
   ],
   "source": [
    "df_wizard['char_total'][0:101].sum() "
   ]
  },
  {
   "cell_type": "code",
   "execution_count": 124,
   "metadata": {
    "collapsed": false
   },
   "outputs": [
    {
     "data": {
      "text/plain": [
       "7785"
      ]
     },
     "execution_count": 124,
     "metadata": {},
     "output_type": "execute_result"
    }
   ],
   "source": [
    "df_wizard['char_total'][101:222].sum() "
   ]
  },
  {
   "cell_type": "code",
   "execution_count": 131,
   "metadata": {
    "collapsed": false
   },
   "outputs": [
    {
     "data": {
      "text/plain": [
       "7845"
      ]
     },
     "execution_count": 131,
     "metadata": {},
     "output_type": "execute_result"
    }
   ],
   "source": [
    "df_wizard['char_total'][222:350].sum() "
   ]
  },
  {
   "cell_type": "code",
   "execution_count": 139,
   "metadata": {
    "collapsed": false
   },
   "outputs": [
    {
     "data": {
      "text/plain": [
       "7899"
      ]
     },
     "execution_count": 139,
     "metadata": {},
     "output_type": "execute_result"
    }
   ],
   "source": [
    "df_wizard['char_total'][350:470].sum() "
   ]
  },
  {
   "cell_type": "code",
   "execution_count": 145,
   "metadata": {
    "collapsed": false
   },
   "outputs": [
    {
     "data": {
      "text/plain": [
       "7874"
      ]
     },
     "execution_count": 145,
     "metadata": {},
     "output_type": "execute_result"
    }
   ],
   "source": [
    "df_wizard['char_total'][470:585].sum() "
   ]
  },
  {
   "cell_type": "code",
   "execution_count": 149,
   "metadata": {
    "collapsed": false
   },
   "outputs": [
    {
     "data": {
      "text/plain": [
       "7861"
      ]
     },
     "execution_count": 149,
     "metadata": {},
     "output_type": "execute_result"
    }
   ],
   "source": [
    "df_wizard['char_total'][585:684].sum() "
   ]
  },
  {
   "cell_type": "code",
   "execution_count": 153,
   "metadata": {
    "collapsed": false
   },
   "outputs": [
    {
     "data": {
      "text/plain": [
       "7788"
      ]
     },
     "execution_count": 153,
     "metadata": {},
     "output_type": "execute_result"
    }
   ],
   "source": [
    "df_wizard['char_total'][684:787].sum() "
   ]
  },
  {
   "cell_type": "code",
   "execution_count": 158,
   "metadata": {
    "collapsed": false
   },
   "outputs": [
    {
     "data": {
      "text/plain": [
       "7731"
      ]
     },
     "execution_count": 158,
     "metadata": {},
     "output_type": "execute_result"
    }
   ],
   "source": [
    "df_wizard['char_total'][787:880].sum()"
   ]
  },
  {
   "cell_type": "code",
   "execution_count": 164,
   "metadata": {
    "collapsed": false
   },
   "outputs": [
    {
     "data": {
      "text/plain": [
       "7782"
      ]
     },
     "execution_count": 164,
     "metadata": {},
     "output_type": "execute_result"
    }
   ],
   "source": [
    "df_wizard['char_total'][880:993].sum()"
   ]
  },
  {
   "cell_type": "code",
   "execution_count": 172,
   "metadata": {
    "collapsed": false
   },
   "outputs": [],
   "source": [
    "sent_stop = []\n",
    "x = 7441\n",
    "while x <= 7844:\n",
    "    x += 1\n",
    "    sent_stop.append(x)   "
   ]
  },
  {
   "cell_type": "code",
   "execution_count": 173,
   "metadata": {
    "collapsed": false
   },
   "outputs": [
    {
     "data": {
      "text/plain": [
       "[7442,\n",
       " 7443,\n",
       " 7444,\n",
       " 7445,\n",
       " 7446,\n",
       " 7447,\n",
       " 7448,\n",
       " 7449,\n",
       " 7450,\n",
       " 7451,\n",
       " 7452,\n",
       " 7453,\n",
       " 7454,\n",
       " 7455,\n",
       " 7456,\n",
       " 7457,\n",
       " 7458,\n",
       " 7459,\n",
       " 7460,\n",
       " 7461,\n",
       " 7462,\n",
       " 7463,\n",
       " 7464,\n",
       " 7465,\n",
       " 7466,\n",
       " 7467,\n",
       " 7468,\n",
       " 7469,\n",
       " 7470,\n",
       " 7471,\n",
       " 7472,\n",
       " 7473,\n",
       " 7474,\n",
       " 7475,\n",
       " 7476,\n",
       " 7477,\n",
       " 7478,\n",
       " 7479,\n",
       " 7480,\n",
       " 7481,\n",
       " 7482,\n",
       " 7483,\n",
       " 7484,\n",
       " 7485,\n",
       " 7486,\n",
       " 7487,\n",
       " 7488,\n",
       " 7489,\n",
       " 7490,\n",
       " 7491,\n",
       " 7492,\n",
       " 7493,\n",
       " 7494,\n",
       " 7495,\n",
       " 7496,\n",
       " 7497,\n",
       " 7498,\n",
       " 7499,\n",
       " 7500,\n",
       " 7501,\n",
       " 7502,\n",
       " 7503,\n",
       " 7504,\n",
       " 7505,\n",
       " 7506,\n",
       " 7507,\n",
       " 7508,\n",
       " 7509,\n",
       " 7510,\n",
       " 7511,\n",
       " 7512,\n",
       " 7513,\n",
       " 7514,\n",
       " 7515,\n",
       " 7516,\n",
       " 7517,\n",
       " 7518,\n",
       " 7519,\n",
       " 7520,\n",
       " 7521,\n",
       " 7522,\n",
       " 7523,\n",
       " 7524,\n",
       " 7525,\n",
       " 7526,\n",
       " 7527,\n",
       " 7528,\n",
       " 7529,\n",
       " 7530,\n",
       " 7531,\n",
       " 7532,\n",
       " 7533,\n",
       " 7534,\n",
       " 7535,\n",
       " 7536,\n",
       " 7537,\n",
       " 7538,\n",
       " 7539,\n",
       " 7540,\n",
       " 7541,\n",
       " 7542,\n",
       " 7543,\n",
       " 7544,\n",
       " 7545,\n",
       " 7546,\n",
       " 7547,\n",
       " 7548,\n",
       " 7549,\n",
       " 7550,\n",
       " 7551,\n",
       " 7552,\n",
       " 7553,\n",
       " 7554,\n",
       " 7555,\n",
       " 7556,\n",
       " 7557,\n",
       " 7558,\n",
       " 7559,\n",
       " 7560,\n",
       " 7561,\n",
       " 7562,\n",
       " 7563,\n",
       " 7564,\n",
       " 7565,\n",
       " 7566,\n",
       " 7567,\n",
       " 7568,\n",
       " 7569,\n",
       " 7570,\n",
       " 7571,\n",
       " 7572,\n",
       " 7573,\n",
       " 7574,\n",
       " 7575,\n",
       " 7576,\n",
       " 7577,\n",
       " 7578,\n",
       " 7579,\n",
       " 7580,\n",
       " 7581,\n",
       " 7582,\n",
       " 7583,\n",
       " 7584,\n",
       " 7585,\n",
       " 7586,\n",
       " 7587,\n",
       " 7588,\n",
       " 7589,\n",
       " 7590,\n",
       " 7591,\n",
       " 7592,\n",
       " 7593,\n",
       " 7594,\n",
       " 7595,\n",
       " 7596,\n",
       " 7597,\n",
       " 7598,\n",
       " 7599,\n",
       " 7600,\n",
       " 7601,\n",
       " 7602,\n",
       " 7603,\n",
       " 7604,\n",
       " 7605,\n",
       " 7606,\n",
       " 7607,\n",
       " 7608,\n",
       " 7609,\n",
       " 7610,\n",
       " 7611,\n",
       " 7612,\n",
       " 7613,\n",
       " 7614,\n",
       " 7615,\n",
       " 7616,\n",
       " 7617,\n",
       " 7618,\n",
       " 7619,\n",
       " 7620,\n",
       " 7621,\n",
       " 7622,\n",
       " 7623,\n",
       " 7624,\n",
       " 7625,\n",
       " 7626,\n",
       " 7627,\n",
       " 7628,\n",
       " 7629,\n",
       " 7630,\n",
       " 7631,\n",
       " 7632,\n",
       " 7633,\n",
       " 7634,\n",
       " 7635,\n",
       " 7636,\n",
       " 7637,\n",
       " 7638,\n",
       " 7639,\n",
       " 7640,\n",
       " 7641,\n",
       " 7642,\n",
       " 7643,\n",
       " 7644,\n",
       " 7645,\n",
       " 7646,\n",
       " 7647,\n",
       " 7648,\n",
       " 7649,\n",
       " 7650,\n",
       " 7651,\n",
       " 7652,\n",
       " 7653,\n",
       " 7654,\n",
       " 7655,\n",
       " 7656,\n",
       " 7657,\n",
       " 7658,\n",
       " 7659,\n",
       " 7660,\n",
       " 7661,\n",
       " 7662,\n",
       " 7663,\n",
       " 7664,\n",
       " 7665,\n",
       " 7666,\n",
       " 7667,\n",
       " 7668,\n",
       " 7669,\n",
       " 7670,\n",
       " 7671,\n",
       " 7672,\n",
       " 7673,\n",
       " 7674,\n",
       " 7675,\n",
       " 7676,\n",
       " 7677,\n",
       " 7678,\n",
       " 7679,\n",
       " 7680,\n",
       " 7681,\n",
       " 7682,\n",
       " 7683,\n",
       " 7684,\n",
       " 7685,\n",
       " 7686,\n",
       " 7687,\n",
       " 7688,\n",
       " 7689,\n",
       " 7690,\n",
       " 7691,\n",
       " 7692,\n",
       " 7693,\n",
       " 7694,\n",
       " 7695,\n",
       " 7696,\n",
       " 7697,\n",
       " 7698,\n",
       " 7699,\n",
       " 7700,\n",
       " 7701,\n",
       " 7702,\n",
       " 7703,\n",
       " 7704,\n",
       " 7705,\n",
       " 7706,\n",
       " 7707,\n",
       " 7708,\n",
       " 7709,\n",
       " 7710,\n",
       " 7711,\n",
       " 7712,\n",
       " 7713,\n",
       " 7714,\n",
       " 7715,\n",
       " 7716,\n",
       " 7717,\n",
       " 7718,\n",
       " 7719,\n",
       " 7720,\n",
       " 7721,\n",
       " 7722,\n",
       " 7723,\n",
       " 7724,\n",
       " 7725,\n",
       " 7726,\n",
       " 7727,\n",
       " 7728,\n",
       " 7729,\n",
       " 7730,\n",
       " 7731,\n",
       " 7732,\n",
       " 7733,\n",
       " 7734,\n",
       " 7735,\n",
       " 7736,\n",
       " 7737,\n",
       " 7738,\n",
       " 7739,\n",
       " 7740,\n",
       " 7741,\n",
       " 7742,\n",
       " 7743,\n",
       " 7744,\n",
       " 7745,\n",
       " 7746,\n",
       " 7747,\n",
       " 7748,\n",
       " 7749,\n",
       " 7750,\n",
       " 7751,\n",
       " 7752,\n",
       " 7753,\n",
       " 7754,\n",
       " 7755,\n",
       " 7756,\n",
       " 7757,\n",
       " 7758,\n",
       " 7759,\n",
       " 7760,\n",
       " 7761,\n",
       " 7762,\n",
       " 7763,\n",
       " 7764,\n",
       " 7765,\n",
       " 7766,\n",
       " 7767,\n",
       " 7768,\n",
       " 7769,\n",
       " 7770,\n",
       " 7771,\n",
       " 7772,\n",
       " 7773,\n",
       " 7774,\n",
       " 7775,\n",
       " 7776,\n",
       " 7777,\n",
       " 7778,\n",
       " 7779,\n",
       " 7780,\n",
       " 7781,\n",
       " 7782,\n",
       " 7783,\n",
       " 7784,\n",
       " 7785,\n",
       " 7786,\n",
       " 7787,\n",
       " 7788,\n",
       " 7789,\n",
       " 7790,\n",
       " 7791,\n",
       " 7792,\n",
       " 7793,\n",
       " 7794,\n",
       " 7795,\n",
       " 7796,\n",
       " 7797,\n",
       " 7798,\n",
       " 7799,\n",
       " 7800,\n",
       " 7801,\n",
       " 7802,\n",
       " 7803,\n",
       " 7804,\n",
       " 7805,\n",
       " 7806,\n",
       " 7807,\n",
       " 7808,\n",
       " 7809,\n",
       " 7810,\n",
       " 7811,\n",
       " 7812,\n",
       " 7813,\n",
       " 7814,\n",
       " 7815,\n",
       " 7816,\n",
       " 7817,\n",
       " 7818,\n",
       " 7819,\n",
       " 7820,\n",
       " 7821,\n",
       " 7822,\n",
       " 7823,\n",
       " 7824,\n",
       " 7825,\n",
       " 7826,\n",
       " 7827,\n",
       " 7828,\n",
       " 7829,\n",
       " 7830,\n",
       " 7831,\n",
       " 7832,\n",
       " 7833,\n",
       " 7834,\n",
       " 7835,\n",
       " 7836,\n",
       " 7837,\n",
       " 7838,\n",
       " 7839,\n",
       " 7840,\n",
       " 7841,\n",
       " 7842,\n",
       " 7843,\n",
       " 7844,\n",
       " 7845]"
      ]
     },
     "execution_count": 173,
     "metadata": {},
     "output_type": "execute_result"
    }
   ],
   "source": [
    "sent_stop"
   ]
  },
  {
   "cell_type": "code",
   "execution_count": 174,
   "metadata": {
    "collapsed": false
   },
   "outputs": [
    {
     "data": {
      "text/plain": [
       "7845"
      ]
     },
     "execution_count": 174,
     "metadata": {},
     "output_type": "execute_result"
    }
   ],
   "source": [
    "max(sent_stop)"
   ]
  },
  {
   "cell_type": "code",
   "execution_count": 231,
   "metadata": {
    "collapsed": false
   },
   "outputs": [],
   "source": [
    "sent_stop = []\n",
    "w = 0\n",
    "x = 881\n",
    "while w <= 7844:\n",
    "    w = df_wizard['char_total'][880:x].sum()\n",
    "    sent_stop.append(x)\n",
    "    x += 1\n",
    "          "
   ]
  },
  {
   "cell_type": "markdown",
   "metadata": {},
   "source": [
    "sent_stop"
   ]
  },
  {
   "cell_type": "code",
   "execution_count": 232,
   "metadata": {
    "collapsed": false
   },
   "outputs": [
    {
     "data": {
      "text/plain": [
       "994"
      ]
     },
     "execution_count": 232,
     "metadata": {},
     "output_type": "execute_result"
    }
   ],
   "source": [
    "max(sent_stop)"
   ]
  },
  {
   "cell_type": "code",
   "execution_count": 183,
   "metadata": {
    "collapsed": false
   },
   "outputs": [
    {
     "data": {
      "text/plain": [
       "7672"
      ]
     },
     "execution_count": 183,
     "metadata": {},
     "output_type": "execute_result"
    }
   ],
   "source": [
    "df_wizard['char_total'][880:992].sum()"
   ]
  },
  {
   "cell_type": "code",
   "execution_count": 226,
   "metadata": {
    "collapsed": true
   },
   "outputs": [],
   "source": [
    "sent_stop = []\n",
    "w = 0\n",
    "x = 994\n",
    "while w <= 7800:\n",
    "    w = df_wizard['char_total'][994:x].sum()\n",
    "    sent_stop.append(x)\n",
    "    x += 1"
   ]
  },
  {
   "cell_type": "code",
   "execution_count": 227,
   "metadata": {
    "collapsed": false
   },
   "outputs": [
    {
     "data": {
      "text/plain": [
       "1099"
      ]
     },
     "execution_count": 227,
     "metadata": {},
     "output_type": "execute_result"
    }
   ],
   "source": [
    "max(sent_stop)"
   ]
  },
  {
   "cell_type": "code",
   "execution_count": 228,
   "metadata": {
    "collapsed": false
   },
   "outputs": [
    {
     "data": {
      "text/plain": [
       "7834"
      ]
     },
     "execution_count": 228,
     "metadata": {},
     "output_type": "execute_result"
    }
   ],
   "source": [
    "df_wizard['char_total'][994:1099].sum()"
   ]
  },
  {
   "cell_type": "code",
   "execution_count": 217,
   "metadata": {
    "collapsed": true
   },
   "outputs": [],
   "source": [
    "sent_stop = []\n",
    "w = 0\n",
    "x = 881\n",
    "while w <= 7700:\n",
    "    w = df_wizard['char_total'][880:x].sum()\n",
    "    sent_stop.append(x)\n",
    "    x += 1"
   ]
  },
  {
   "cell_type": "code",
   "execution_count": 218,
   "metadata": {
    "collapsed": false
   },
   "outputs": [
    {
     "data": {
      "text/plain": [
       "993"
      ]
     },
     "execution_count": 218,
     "metadata": {},
     "output_type": "execute_result"
    }
   ],
   "source": [
    "max(sent_stop)"
   ]
  },
  {
   "cell_type": "code",
   "execution_count": 243,
   "metadata": {
    "collapsed": true
   },
   "outputs": [],
   "source": [
    "sent_stop = []\n",
    "t = 0\n",
    "w = 0\n",
    "x = 0\n",
    "while w <= 7844:\n",
    "    w = df_wizard['char_total'][t:x].sum()\n",
    "    sent_stop.append(x)\n",
    "    x += 1"
   ]
  },
  {
   "cell_type": "code",
   "execution_count": 320,
   "metadata": {
    "collapsed": false
   },
   "outputs": [
    {
     "data": {
      "text/plain": [
       "156872"
      ]
     },
     "execution_count": 320,
     "metadata": {},
     "output_type": "execute_result"
    }
   ],
   "source": [
    "tot = df_wizard['char_total'].sum()"
   ]
  },
  {
   "cell_type": "code",
   "execution_count": null,
   "metadata": {
    "collapsed": true
   },
   "outputs": [],
   "source": [
    "char_range = range(0, tot, (tot * .05))"
   ]
  },
  {
   "cell_type": "code",
   "execution_count": 334,
   "metadata": {
    "collapsed": false
   },
   "outputs": [
    {
     "data": {
      "text/plain": [
       "<matplotlib.axes._subplots.AxesSubplot at 0x1262b0410>"
      ]
     },
     "execution_count": 334,
     "metadata": {},
     "output_type": "execute_result"
    },
    {
     "data": {
      "image/png": "[encoded data removed]",
      "text/plain": [
       "<matplotlib.figure.Figure at 0x1262ab250>"
      ]
     },
     "metadata": {},
     "output_type": "display_data"
    }
   ],
   "source": [
    "df_wizard.groupby('sentiment').char_total.mean().plot()\n"
   ]
  },
  {
   "cell_type": "code",
   "execution_count": 244,
   "metadata": {
    "collapsed": false
   },
   "outputs": [
    {
     "data": {
      "text/plain": [
       "101"
      ]
     },
     "execution_count": 244,
     "metadata": {},
     "output_type": "execute_result"
    }
   ],
   "source": [
    "max(sent_stop)"
   ]
  },
  {
   "cell_type": "markdown",
   "metadata": {},
   "source": [
    "## 5.1 Final Function and Loop "
   ]
  },
  {
   "cell_type": "markdown",
   "metadata": {},
   "source": [
    "Function that finds the number of sentences that come closest to 7700 characters, which is about 5% of the number of characters in the novel. \n"
   ]
  },
  {
   "cell_type": "code",
   "execution_count": 287,
   "metadata": {
    "collapsed": false
   },
   "outputs": [],
   "source": [
    "t = 0\n",
    "x = 0\n",
    "\n",
    "def find_this(t, x):\n",
    "    w = 0\n",
    "    \n",
    "    sent_stop = []\n",
    "    while w <= 7700:\n",
    "        w = df_wizard['char_total'][t:x].sum()\n",
    "        sent_stop.append(x)\n",
    "        x += 1\n",
    "    return max(sent_stop) \n",
    "    \n",
    "    "
   ]
  },
  {
   "cell_type": "code",
   "execution_count": 271,
   "metadata": {
    "collapsed": false
   },
   "outputs": [
    {
     "data": {
      "text/plain": [
       "101"
      ]
     },
     "execution_count": 271,
     "metadata": {},
     "output_type": "execute_result"
    }
   ],
   "source": [
    "find_this(0, 0)"
   ]
  },
  {
   "cell_type": "markdown",
   "metadata": {},
   "source": [
    "Loop that uses the find_this function to find the start and stop points for the whole novel. "
   ]
  },
  {
   "cell_type": "code",
   "execution_count": 293,
   "metadata": {
    "collapsed": false
   },
   "outputs": [
    {
     "name": "stdout",
     "output_type": "stream",
     "text": [
      "df_wizard['char_total'][0:98]\n",
      "df_wizard['char_total'][98:220]\n",
      "df_wizard['char_total'][220:345]\n",
      "df_wizard['char_total'][345:465]\n",
      "df_wizard['char_total'][465:578]\n",
      "df_wizard['char_total'][578:675]\n",
      "df_wizard['char_total'][675:777]\n",
      "df_wizard['char_total'][777:871]\n",
      "df_wizard['char_total'][871:983]\n",
      "df_wizard['char_total'][983:1082]\n",
      "df_wizard['char_total'][1082:1195]\n",
      "df_wizard['char_total'][1195:1285]\n",
      "df_wizard['char_total'][1285:1368]\n",
      "df_wizard['char_total'][1368:1471]\n",
      "df_wizard['char_total'][1471:1601]\n",
      "df_wizard['char_total'][1601:1736]\n",
      "df_wizard['char_total'][1736:1860]\n",
      "df_wizard['char_total'][1860:1980]\n",
      "df_wizard['char_total'][1980:2093]\n",
      "df_wizard['char_total'][2093:2192]\n"
     ]
    }
   ],
   "source": [
    "t = 0\n",
    "x = 0\n",
    "start_point = []\n",
    "stop_point = []\n",
    "for n in range(1, 21):\n",
    "    s = find_this(t, x)\n",
    "    print \"df_wizard['char_total'][%s:%s]\" %(t, s)\n",
    "    start_point.append(t)\n",
    "    stop_point.append(s)\n",
    "    t = s\n",
    "    x = s + 1\n",
    "       "
   ]
  },
  {
   "cell_type": "code",
   "execution_count": 294,
   "metadata": {
    "collapsed": false
   },
   "outputs": [
    {
     "data": {
      "text/plain": [
       "[0,\n",
       " 98,\n",
       " 220,\n",
       " 345,\n",
       " 465,\n",
       " 578,\n",
       " 675,\n",
       " 777,\n",
       " 871,\n",
       " 983,\n",
       " 1082,\n",
       " 1195,\n",
       " 1285,\n",
       " 1368,\n",
       " 1471,\n",
       " 1601,\n",
       " 1736,\n",
       " 1860,\n",
       " 1980,\n",
       " 2093]"
      ]
     },
     "execution_count": 294,
     "metadata": {},
     "output_type": "execute_result"
    }
   ],
   "source": [
    "start_point"
   ]
  },
  {
   "cell_type": "code",
   "execution_count": 295,
   "metadata": {
    "collapsed": false
   },
   "outputs": [
    {
     "data": {
      "text/plain": [
       "[98,\n",
       " 220,\n",
       " 345,\n",
       " 465,\n",
       " 578,\n",
       " 675,\n",
       " 777,\n",
       " 871,\n",
       " 983,\n",
       " 1082,\n",
       " 1195,\n",
       " 1285,\n",
       " 1368,\n",
       " 1471,\n",
       " 1601,\n",
       " 1736,\n",
       " 1860,\n",
       " 1980,\n",
       " 2093,\n",
       " 2192]"
      ]
     },
     "execution_count": 295,
     "metadata": {},
     "output_type": "execute_result"
    }
   ],
   "source": [
    "stop_point"
   ]
  },
  {
   "cell_type": "markdown",
   "metadata": {},
   "source": [
    "Gets the mean sentiment for each piece of novel. "
   ]
  },
  {
   "cell_type": "code",
   "execution_count": 303,
   "metadata": {
    "collapsed": false
   },
   "outputs": [
    {
     "name": "stdout",
     "output_type": "stream",
     "text": [
      "0\n",
      "98\n",
      "0.0432690332627\n",
      "98\n",
      "220\n",
      "0.0875582042616\n",
      "220\n",
      "345\n",
      "0.0865000810486\n",
      "345\n",
      "465\n",
      "0.0600602002165\n",
      "465\n",
      "578\n",
      "0.0685761388112\n",
      "578\n",
      "675\n",
      "0.0267178857797\n",
      "675\n",
      "777\n",
      "0.0805753319846\n",
      "777\n",
      "871\n",
      "0.066085342086\n",
      "871\n",
      "983\n",
      "0.136214698\n",
      "983\n",
      "1082\n",
      "0.064571542141\n",
      "1082\n",
      "1195\n",
      "0.0711805688576\n",
      "1195\n",
      "1285\n",
      "0.0305350061461\n",
      "1285\n",
      "1368\n",
      "0.064578751514\n",
      "1368\n",
      "1471\n",
      "0.162753698567\n",
      "1471\n",
      "1601\n",
      "0.0447503306878\n",
      "1601\n",
      "1736\n",
      "0.0800617729321\n",
      "1736\n",
      "1860\n",
      "0.110053363415\n",
      "1860\n",
      "1980\n",
      "0.116282933502\n",
      "1980\n",
      "2093\n",
      "0.0456345175842\n",
      "2093\n",
      "2192\n",
      "0.195716872914\n"
     ]
    }
   ],
   "source": [
    "twenty_piece_char = []\n",
    "st = 0\n",
    "for l in start_point: \n",
    "    strt = start_point[st]\n",
    "    stp = stop_point[st]\n",
    "    print strt\n",
    "    print stp\n",
    "    mn = df_wizard['sentiment'][strt:stp].mean()\n",
    "    twenty_piece_char.append(mn)\n",
    "    print mn\n",
    "    st +=1\n",
    "   "
   ]
  },
  {
   "cell_type": "code",
   "execution_count": 304,
   "metadata": {
    "collapsed": false
   },
   "outputs": [
    {
     "data": {
      "text/plain": [
       "[0.043269033262655715,\n",
       " 0.08755820426158535,\n",
       " 0.08650008104858103,\n",
       " 0.06006020021645021,\n",
       " 0.06857613881120518,\n",
       " 0.026717885779741445,\n",
       " 0.0805753319846457,\n",
       " 0.06608534208600694,\n",
       " 0.13621469800041233,\n",
       " 0.06457154214098657,\n",
       " 0.07118056885756004,\n",
       " 0.030535006146117257,\n",
       " 0.06457875151399249,\n",
       " 0.16275369856680538,\n",
       " 0.0447503306878307,\n",
       " 0.0800617729321433,\n",
       " 0.11005336341525856,\n",
       " 0.11628293350168346,\n",
       " 0.04563451758418573,\n",
       " 0.19571687291384263]"
      ]
     },
     "execution_count": 304,
     "metadata": {},
     "output_type": "execute_result"
    }
   ],
   "source": [
    "twenty_piece_char"
   ]
  },
  {
   "cell_type": "code",
   "execution_count": 305,
   "metadata": {
    "collapsed": false
   },
   "outputs": [
    {
     "name": "stdout",
     "output_type": "stream",
     "text": [
      "[ 0.04326903  0.0875582   0.08650008  0.0600602   0.06857614  0.02671789\n",
      "  0.08057533  0.06608534  0.1362147   0.06457154  0.07118057  0.03053501\n",
      "  0.06457875  0.1627537   0.04475033  0.08006177  0.11005336  0.11628293\n",
      "  0.04563452  0.19571687]\n"
     ]
    }
   ],
   "source": [
    "n = np.array(n)\n",
    "twenty_piece_char = np.array(twenty_piece_char)\n",
    "print twenty_piece_char"
   ]
  },
  {
   "cell_type": "markdown",
   "metadata": {},
   "source": [
    "### Sentiment of the twenty pieces broken up by sentences"
   ]
  },
  {
   "cell_type": "code",
   "execution_count": 309,
   "metadata": {
    "collapsed": false
   },
   "outputs": [
    {
     "data": {
      "text/plain": [
       "<Container object of 20 artists>"
      ]
     },
     "execution_count": 309,
     "metadata": {},
     "output_type": "execute_result"
    },
    {
     "data": {
      "image/png": "[encoded data removed]",
      "text/plain": [
       "<matplotlib.figure.Figure at 0x118f1c350>"
      ]
     },
     "metadata": {},
     "output_type": "display_data"
    }
   ],
   "source": [
    "plt.bar(x, twenty_piece_char)"
   ]
  },
  {
   "cell_type": "markdown",
   "metadata": {},
   "source": [
    "### Sentiment when breaking the novel up by character total."
   ]
  },
  {
   "cell_type": "markdown",
   "metadata": {},
   "source": [
    "I think this approach gives a more accurate representation of the sentiment at different\n",
    "points in the novel. "
   ]
  },
  {
   "cell_type": "code",
   "execution_count": 319,
   "metadata": {
    "collapsed": false
   },
   "outputs": [
    {
     "data": {
      "text/plain": [
       "<Container object of 20 artists>"
      ]
     },
     "execution_count": 319,
     "metadata": {},
     "output_type": "execute_result"
    },
    {
     "data": {
      "image/png": "[encoded data removed]",
      "text/plain": [
       "<matplotlib.figure.Figure at 0x118750d10>"
      ]
     },
     "metadata": {},
     "output_type": "display_data"
    }
   ],
   "source": [
    "plt.bar(x , twenty_segments)"
   ]
  },
  {
   "cell_type": "markdown",
   "metadata": {},
   "source": [
    "## 6 Exploring Different Novels Using Sklearn"
   ]
  },
  {
   "cell_type": "code",
   "execution_count": 1,
   "metadata": {
    "collapsed": true
   },
   "outputs": [],
   "source": [
    "import numpy as np\n",
    "from sklearn.feature_extraction.text import CountVectorizer"
   ]
  },
  {
   "cell_type": "code",
   "execution_count": 2,
   "metadata": {
    "collapsed": true
   },
   "outputs": [],
   "source": [
    "from gutenberg.acquire import load_etext\n",
    "from gutenberg.cleanup import strip_headers"
   ]
  },
  {
   "cell_type": "code",
   "execution_count": 3,
   "metadata": {
    "collapsed": true
   },
   "outputs": [],
   "source": [
    "alice = strip_headers(load_etext(11))"
   ]
  },
  {
   "cell_type": "code",
   "execution_count": 4,
   "metadata": {
    "collapsed": true
   },
   "outputs": [],
   "source": [
    "wizard = strip_headers(load_etext(55))"
   ]
  },
  {
   "cell_type": "code",
   "execution_count": 5,
   "metadata": {
    "collapsed": true
   },
   "outputs": [],
   "source": [
    "huck = strip_headers(load_etext(76))"
   ]
  },
  {
   "cell_type": "code",
   "execution_count": 6,
   "metadata": {
    "collapsed": true
   },
   "outputs": [],
   "source": [
    "jungle = strip_headers(load_etext(236))"
   ]
  },
  {
   "cell_type": "code",
   "execution_count": 7,
   "metadata": {
    "collapsed": true
   },
   "outputs": [],
   "source": [
    "holmes = strip_headers(load_etext(1661))"
   ]
  },
  {
   "cell_type": "code",
   "execution_count": 8,
   "metadata": {
    "collapsed": true
   },
   "outputs": [],
   "source": [
    "frankenstein = strip_headers(load_etext(84))"
   ]
  },
  {
   "cell_type": "code",
   "execution_count": 9,
   "metadata": {
    "collapsed": true
   },
   "outputs": [],
   "source": [
    "dracula = strip_headers(load_etext(345))"
   ]
  },
  {
   "cell_type": "code",
   "execution_count": 10,
   "metadata": {
    "collapsed": true
   },
   "outputs": [],
   "source": [
    "novels =[alice, wizard, huck, jungle, holmes, frankenstein, dracula]"
   ]
  },
  {
   "cell_type": "code",
   "execution_count": 11,
   "metadata": {
    "collapsed": true
   },
   "outputs": [],
   "source": [
    "vectorizer = CountVectorizer(input='novels')\n",
    "dtm = vectorizer.fit_transform(novels)\n",
    "vocab = vectorizer.get_feature_names()"
   ]
  },
  {
   "cell_type": "code",
   "execution_count": 12,
   "metadata": {
    "collapsed": false
   },
   "outputs": [
    {
     "name": "stdout",
     "output_type": "stream",
     "text": [
      "[u'yet', u'yew', u'yews', u'yield', u'yielded', u'yielding', u'yields', u'yirls', u'yisterday', u'yistiddy', u'yit', u'yo', u'yoke', u'yoked', u'yon', u'yonder', u'york', u'yorkshire', u'you', u'you_', u'young', u'younger', u'youngest', u'youngster', u'youngsters', u'your', u'yourn', u'yours', u'yourself', u'yourselves', u'youth', u'youthful', u'yow', u'yus', u'yuther', u'zaharrof', u'zeal', u'zealand', u'zealous', u'zero', u'zest', u'zigzag', u'zik', u'ziz', u'zoo', u'zooelogical', u'zooephagous', u'zooephagy', u'zuz', u'zy']\n"
     ]
    }
   ],
   "source": [
    "print vocab[-50:]"
   ]
  },
  {
   "cell_type": "code",
   "execution_count": 13,
   "metadata": {
    "collapsed": false
   },
   "outputs": [
    {
     "data": {
      "text/plain": [
       "(7, 19366)"
      ]
     },
     "execution_count": 13,
     "metadata": {},
     "output_type": "execute_result"
    }
   ],
   "source": [
    "dtm.shape"
   ]
  },
  {
   "cell_type": "code",
   "execution_count": 14,
   "metadata": {
    "collapsed": false
   },
   "outputs": [
    {
     "data": {
      "text/plain": [
       "CountVectorizer(analyzer=u'word', binary=False, decode_error=u'strict',\n",
       "        dtype=<type 'numpy.int64'>, encoding=u'utf-8', input='novels',\n",
       "        lowercase=True, max_df=1.0, max_features=None, min_df=1,\n",
       "        ngram_range=(1, 1), preprocessor=None, stop_words=None,\n",
       "        strip_accents=None, token_pattern=u'(?u)\\\\b\\\\w\\\\w+\\\\b',\n",
       "        tokenizer=None, vocabulary=None)"
      ]
     },
     "execution_count": 14,
     "metadata": {},
     "output_type": "execute_result"
    }
   ],
   "source": [
    "vectorizer"
   ]
  },
  {
   "cell_type": "code",
   "execution_count": 15,
   "metadata": {
    "collapsed": false
   },
   "outputs": [
    {
     "data": {
      "text/plain": [
       "(7, 205887)"
      ]
     },
     "execution_count": 15,
     "metadata": {},
     "output_type": "execute_result"
    }
   ],
   "source": [
    "vectorizer = CountVectorizer(input='novels',  stop_words='english', ngram_range=(1, 2))\n",
    "dtm = vectorizer.fit_transform(novels)\n",
    "dtm.shape"
   ]
  },
  {
   "cell_type": "code",
   "execution_count": 16,
   "metadata": {
    "collapsed": false
   },
   "outputs": [
    {
     "name": "stdout",
     "output_type": "stream",
     "text": [
      "[u'yet', u'yew', u'yews', u'yield', u'yielded', u'yielding', u'yields', u'yirls', u'yisterday', u'yistiddy', u'yit', u'yo', u'yoke', u'yoked', u'yon', u'yonder', u'york', u'yorkshire', u'you', u'you_', u'young', u'younger', u'youngest', u'youngster', u'youngsters', u'your', u'yourn', u'yours', u'yourself', u'yourselves', u'youth', u'youthful', u'yow', u'yus', u'yuther', u'zaharrof', u'zeal', u'zealand', u'zealous', u'zero', u'zest', u'zigzag', u'zik', u'ziz', u'zoo', u'zooelogical', u'zooephagous', u'zooephagy', u'zuz', u'zy']\n"
     ]
    }
   ],
   "source": [
    "print vocab[-50:]"
   ]
  },
  {
   "cell_type": "code",
   "execution_count": 17,
   "metadata": {
    "collapsed": true
   },
   "outputs": [],
   "source": [
    "from sklearn.metrics.pairwise import cosine_similarity"
   ]
  },
  {
   "cell_type": "code",
   "execution_count": 18,
   "metadata": {
    "collapsed": true
   },
   "outputs": [],
   "source": [
    "dist = 1 - cosine_similarity(dtm)"
   ]
  },
  {
   "cell_type": "code",
   "execution_count": 19,
   "metadata": {
    "collapsed": false
   },
   "outputs": [
    {
     "data": {
      "text/plain": [
       "array([[ 0.  ,  0.57,  0.56,  0.5 ,  0.5 ,  0.7 ,  0.52],\n",
       "       [ 0.57,  0.  ,  0.63,  0.54,  0.53,  0.64,  0.53],\n",
       "       [ 0.56,  0.63, -0.  ,  0.53,  0.5 ,  0.67,  0.45],\n",
       "       [ 0.5 ,  0.54,  0.53,  0.  ,  0.46,  0.6 ,  0.46],\n",
       "       [ 0.5 ,  0.53,  0.5 ,  0.46, -0.  ,  0.47,  0.31],\n",
       "       [ 0.7 ,  0.64,  0.67,  0.6 ,  0.47,  0.  ,  0.42],\n",
       "       [ 0.52,  0.53,  0.45,  0.46,  0.31,  0.42,  0.  ]])"
      ]
     },
     "execution_count": 19,
     "metadata": {},
     "output_type": "execute_result"
    }
   ],
   "source": [
    "np.round(dist, 2)"
   ]
  },
  {
   "cell_type": "code",
   "execution_count": 20,
   "metadata": {
    "collapsed": true
   },
   "outputs": [],
   "source": [
    "import matplotlib.pyplot as plt\n",
    "from sklearn.manifold import MDS"
   ]
  },
  {
   "cell_type": "code",
   "execution_count": 21,
   "metadata": {
    "collapsed": true
   },
   "outputs": [],
   "source": [
    "mds = MDS(n_components=2, dissimilarity=\"precomputed\", random_state=1)"
   ]
  },
  {
   "cell_type": "code",
   "execution_count": 22,
   "metadata": {
    "collapsed": true
   },
   "outputs": [],
   "source": [
    "pos = mds.fit_transform(dist)"
   ]
  },
  {
   "cell_type": "code",
   "execution_count": null,
   "metadata": {
    "collapsed": true
   },
   "outputs": [],
   "source": [
    "xs, ys = pos[:, 0], pos[:, 1]"
   ]
  },
  {
   "cell_type": "code",
   "execution_count": null,
   "metadata": {
    "collapsed": true
   },
   "outputs": [],
   "source": [
    "plt.scatter(xs, ys)"
   ]
  },
  {
   "cell_type": "code",
   "execution_count": null,
   "metadata": {
    "collapsed": true
   },
   "outputs": [],
   "source": [
    "plt.show()"
   ]
  },
  {
   "cell_type": "markdown",
   "metadata": {},
   "source": [
    "### Plot showing how similar or disimilar the novels are based on content"
   ]
  },
  {
   "cell_type": "code",
   "execution_count": 23,
   "metadata": {
    "collapsed": false
   },
   "outputs": [
    {
     "data": {
      "image/png": "[encoded data removed]",
      "text/plain": [
       "<IPython.core.display.Image object>"
      ]
     },
     "execution_count": 23,
     "metadata": {},
     "output_type": "execute_result"
    }
   ],
   "source": [
    "from IPython.display import Image\n",
    "Image(filename='figure_1.png')"
   ]
  },
  {
   "cell_type": "markdown",
   "metadata": {},
   "source": [
    "## 7. Next Steps"
   ]
  },
  {
   "cell_type": "markdown",
   "metadata": {},
   "source": [
    "1. Find and compare the sentiment mean pattern for several novels.\n",
    "2. Cluster novels based on content and then compare the sentiment pattern of novels with similar content.\n",
    "3. Make code more elegant and functional."
   ]
  },
  {
   "cell_type": "markdown",
   "metadata": {},
   "source": [
    "## 8. Future"
   ]
  },
  {
   "cell_type": "markdown",
   "metadata": {},
   "source": [
    "In the future I would like to be able to predict whether a novel based on how it is written will be popular or not."
   ]
  },
  {
   "cell_type": "code",
   "execution_count": null,
   "metadata": {
    "collapsed": true
   },
   "outputs": [],
   "source": []
  }
 ],
 "metadata": {
  "kernelspec": {
   "display_name": "Python 2",
   "language": "python",
   "name": "python2"
  },
  "language_info": {
   "codemirror_mode": {
    "name": "ipython",
    "version": 2
   },
   "file_extension": ".py",
   "mimetype": "text/x-python",
   "name": "python",
   "nbconvert_exporter": "python",
   "pygments_lexer": "ipython2",
   "version": "2.7.11"
  }
 },
 "nbformat": 4,
 "nbformat_minor": 0
}
