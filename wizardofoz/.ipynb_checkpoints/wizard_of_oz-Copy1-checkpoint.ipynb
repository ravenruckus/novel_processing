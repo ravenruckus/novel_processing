{
 "cells": [
  {
   "cell_type": "code",
   "execution_count": 224,
   "metadata": {
    "collapsed": true
   },
   "outputs": [],
   "source": [
    "import nltk, re, pprint\n",
    "from nltk import word_tokenize\n",
    "import urllib2\n",
    "import pandas as pd\n",
    "import matplotlib.pyplot as plt\n",
    "import numpy as np\n",
    "from textblob import TextBlob\n",
    "import sys #figure out what i need from this\n",
    "import csv\n",
    "import seaborn as sns\n",
    "%matplotlib inline\n",
    "plt.rcParams['figure.figsize'] = (8, 6)\n",
    "plt.rcParams['font.size'] = 14"
   ]
  },
  {
   "cell_type": "code",
   "execution_count": 14,
   "metadata": {
    "collapsed": true
   },
   "outputs": [],
   "source": [
    "raw = open('wizardofoz_clean.txt').read().decode('utf8')"
   ]
  },
  {
   "cell_type": "code",
   "execution_count": 15,
   "metadata": {
    "collapsed": false
   },
   "outputs": [
    {
     "data": {
      "text/plain": [
       "unicode"
      ]
     },
     "execution_count": 15,
     "metadata": {},
     "output_type": "execute_result"
    }
   ],
   "source": [
    "type(raw)"
   ]
  },
  {
   "cell_type": "code",
   "execution_count": 16,
   "metadata": {
    "collapsed": false
   },
   "outputs": [
    {
     "data": {
      "text/plain": [
       "205533"
      ]
     },
     "execution_count": 16,
     "metadata": {},
     "output_type": "execute_result"
    }
   ],
   "source": [
    "len(raw)"
   ]
  },
  {
   "cell_type": "markdown",
   "metadata": {},
   "source": [
    "Use TextBlob to tokenize the raw text into sentences."
   ]
  },
  {
   "cell_type": "code",
   "execution_count": 17,
   "metadata": {
    "collapsed": true
   },
   "outputs": [],
   "source": [
    "wizard = TextBlob(raw)"
   ]
  },
  {
   "cell_type": "code",
   "execution_count": 18,
   "metadata": {
    "collapsed": true
   },
   "outputs": [],
   "source": [
    "wizard_sentences = wizard.sentences"
   ]
  },
  {
   "cell_type": "code",
   "execution_count": 19,
   "metadata": {
    "collapsed": false
   },
   "outputs": [
    {
     "data": {
      "text/plain": [
       "2216"
      ]
     },
     "execution_count": 19,
     "metadata": {},
     "output_type": "execute_result"
    }
   ],
   "source": [
    "len(wizard_sentences)"
   ]
  },
  {
   "cell_type": "code",
   "execution_count": 20,
   "metadata": {
    "collapsed": false
   },
   "outputs": [
    {
     "name": "stdout",
     "output_type": "stream",
     "text": [
      "[Sentence(\"she cried, folding the little girl in her arms and\n",
      "covering her face with kisses.\"), Sentence(\"\"Where in the world did you come from?\"\"), Sentence(\"\"From the Land of Oz,\" said Dorothy gravely.\"), Sentence(\"\"And here is Toto, too.\"), Sentence(\"And oh, Aunt Em!\"), Sentence(\"I'm so glad to be at home again!\"\")]\n"
     ]
    }
   ],
   "source": [
    "print wizard_sentences[2210:]"
   ]
  },
  {
   "cell_type": "markdown",
   "metadata": {},
   "source": [
    "Create csv file and add the sentences in a column."
   ]
  },
  {
   "cell_type": "code",
   "execution_count": 23,
   "metadata": {
    "collapsed": false
   },
   "outputs": [],
   "source": [
    "wizardWriter = csv.writer(open('wizard_of_oz3.csv', 'w'), delimiter=',')\n",
    "\n",
    "for sentence in wizard.sentences:\n",
    "    wizardWriter.writerow([sentence])\n",
    "    "
   ]
  },
  {
   "cell_type": "markdown",
   "metadata": {},
   "source": [
    "Create dataframe using pandas."
   ]
  },
  {
   "cell_type": "code",
   "execution_count": 24,
   "metadata": {
    "collapsed": false
   },
   "outputs": [],
   "source": [
    "df_wizard = pd.read_csv('wizard_of_oz3.csv', header=None)"
   ]
  },
  {
   "cell_type": "code",
   "execution_count": 25,
   "metadata": {
    "collapsed": false
   },
   "outputs": [
    {
     "data": {
      "text/html": [
       "<div>\n",
       "<table border=\"1\" class=\"dataframe\">\n",
       "  <thead>\n",
       "    <tr style=\"text-align: right;\">\n",
       "      <th></th>\n",
       "      <th>0</th>\n",
       "    </tr>\n",
       "  </thead>\n",
       "  <tbody>\n",
       "    <tr>\n",
       "      <th>0</th>\n",
       "      <td>Dorothy lived in the midst of the great Kansas...</td>\n",
       "    </tr>\n",
       "    <tr>\n",
       "      <th>1</th>\n",
       "      <td>Their\\nhouse was small, for the lumber to buil...</td>\n",
       "    </tr>\n",
       "    <tr>\n",
       "      <th>2</th>\n",
       "      <td>There were four walls, a floor and a roof, whi...</td>\n",
       "    </tr>\n",
       "    <tr>\n",
       "      <th>3</th>\n",
       "      <td>Uncle Henry\\nand Aunt Em had a big bed in one ...</td>\n",
       "    </tr>\n",
       "    <tr>\n",
       "      <th>4</th>\n",
       "      <td>There was no garret at all, and no cellar--exc...</td>\n",
       "    </tr>\n",
       "  </tbody>\n",
       "</table>\n",
       "</div>"
      ],
      "text/plain": [
       "                                                   0\n",
       "0  Dorothy lived in the midst of the great Kansas...\n",
       "1  Their\\nhouse was small, for the lumber to buil...\n",
       "2  There were four walls, a floor and a roof, whi...\n",
       "3  Uncle Henry\\nand Aunt Em had a big bed in one ...\n",
       "4  There was no garret at all, and no cellar--exc..."
      ]
     },
     "execution_count": 25,
     "metadata": {},
     "output_type": "execute_result"
    }
   ],
   "source": [
    "df_wizard.head()"
   ]
  },
  {
   "cell_type": "code",
   "execution_count": 26,
   "metadata": {
    "collapsed": true
   },
   "outputs": [],
   "source": [
    "df_wizard.rename(columns={ 0 : 'Sentences'}, inplace=True)"
   ]
  },
  {
   "cell_type": "code",
   "execution_count": 27,
   "metadata": {
    "collapsed": false
   },
   "outputs": [
    {
     "data": {
      "text/html": [
       "<div>\n",
       "<table border=\"1\" class=\"dataframe\">\n",
       "  <thead>\n",
       "    <tr style=\"text-align: right;\">\n",
       "      <th></th>\n",
       "      <th>Sentences</th>\n",
       "    </tr>\n",
       "  </thead>\n",
       "  <tbody>\n",
       "    <tr>\n",
       "      <th>0</th>\n",
       "      <td>Dorothy lived in the midst of the great Kansas...</td>\n",
       "    </tr>\n",
       "    <tr>\n",
       "      <th>1</th>\n",
       "      <td>Their\\nhouse was small, for the lumber to buil...</td>\n",
       "    </tr>\n",
       "    <tr>\n",
       "      <th>2</th>\n",
       "      <td>There were four walls, a floor and a roof, whi...</td>\n",
       "    </tr>\n",
       "    <tr>\n",
       "      <th>3</th>\n",
       "      <td>Uncle Henry\\nand Aunt Em had a big bed in one ...</td>\n",
       "    </tr>\n",
       "    <tr>\n",
       "      <th>4</th>\n",
       "      <td>There was no garret at all, and no cellar--exc...</td>\n",
       "    </tr>\n",
       "  </tbody>\n",
       "</table>\n",
       "</div>"
      ],
      "text/plain": [
       "                                           Sentences\n",
       "0  Dorothy lived in the midst of the great Kansas...\n",
       "1  Their\\nhouse was small, for the lumber to buil...\n",
       "2  There were four walls, a floor and a roof, whi...\n",
       "3  Uncle Henry\\nand Aunt Em had a big bed in one ...\n",
       "4  There was no garret at all, and no cellar--exc..."
      ]
     },
     "execution_count": 27,
     "metadata": {},
     "output_type": "execute_result"
    }
   ],
   "source": [
    "df_wizard.head()"
   ]
  },
  {
   "cell_type": "code",
   "execution_count": 28,
   "metadata": {
    "collapsed": false
   },
   "outputs": [
    {
     "data": {
      "text/html": [
       "<div>\n",
       "<table border=\"1\" class=\"dataframe\">\n",
       "  <thead>\n",
       "    <tr style=\"text-align: right;\">\n",
       "      <th></th>\n",
       "      <th>Sentences</th>\n",
       "    </tr>\n",
       "  </thead>\n",
       "  <tbody>\n",
       "    <tr>\n",
       "      <th>2211</th>\n",
       "      <td>\"Where in the world did you come from?\"</td>\n",
       "    </tr>\n",
       "    <tr>\n",
       "      <th>2212</th>\n",
       "      <td>\"From the Land of Oz,\" said Dorothy gravely.</td>\n",
       "    </tr>\n",
       "    <tr>\n",
       "      <th>2213</th>\n",
       "      <td>\"And here is Toto, too.</td>\n",
       "    </tr>\n",
       "    <tr>\n",
       "      <th>2214</th>\n",
       "      <td>And oh, Aunt Em!</td>\n",
       "    </tr>\n",
       "    <tr>\n",
       "      <th>2215</th>\n",
       "      <td>I'm so glad to be at home again!\"</td>\n",
       "    </tr>\n",
       "  </tbody>\n",
       "</table>\n",
       "</div>"
      ],
      "text/plain": [
       "                                         Sentences\n",
       "2211       \"Where in the world did you come from?\"\n",
       "2212  \"From the Land of Oz,\" said Dorothy gravely.\n",
       "2213                       \"And here is Toto, too.\n",
       "2214                              And oh, Aunt Em!\n",
       "2215             I'm so glad to be at home again!\""
      ]
     },
     "execution_count": 28,
     "metadata": {},
     "output_type": "execute_result"
    }
   ],
   "source": [
    "df_wizard.tail()"
   ]
  },
  {
   "cell_type": "markdown",
   "metadata": {},
   "source": [
    "Function that creates two lists that will be added to the database as columns. wrd_length contains a list of lists that contain the word length in characters of each word in the sentence. total_char contains the sum number of charactes in the sentence. "
   ]
  },
  {
   "cell_type": "code",
   "execution_count": 29,
   "metadata": {
    "collapsed": true
   },
   "outputs": [],
   "source": [
    "wrd_length = []\n",
    "total_char = []\n",
    "\n",
    "def wrd_char_counts(sentence):\n",
    "    total_chars = 0 #characters in the sentence\n",
    "    wrd_counts = [] # number of char per word in sentence\n",
    "    for word in sentence:\n",
    "        wrd = word\n",
    "        char_count = len(wrd)\n",
    "        wrd_counts.append(char_count)\n",
    "        total_chars += char_count\n",
    "    total_char.append(total_chars)\n",
    "    wrd_length.append(wrd_counts)"
   ]
  },
  {
   "cell_type": "markdown",
   "metadata": {},
   "source": [
    "This loop iterates through each sentence in the database and passes each sentence through TextBlob to be tokenized into words and then passes the sentences with its words through the wrd_char_counts function. "
   ]
  },
  {
   "cell_type": "code",
   "execution_count": 30,
   "metadata": {
    "collapsed": false
   },
   "outputs": [],
   "source": [
    "for l in df_wizard['Sentences']:\n",
    "    sent = TextBlob(l)\n",
    "    wrd_char_counts(sent.words)"
   ]
  },
  {
   "cell_type": "code",
   "execution_count": 31,
   "metadata": {
    "collapsed": false
   },
   "outputs": [
    {
     "data": {
      "text/plain": [
       "[[3, 4, 6, 2, 4, 3, 4, 4, 3, 6, 5, 4, 3, 6, 3, 4, 2, 4, 2, 4, 4, 3, 5],\n",
       " [2, 4, 6, 7, 3, 5, 2, 3, 5, 3, 6, 5, 4, 3, 8, 2, 3, 5, 2, 3, 4],\n",
       " [1, 6, 2, 4, 4, 3, 2, 3, 4, 2, 4],\n",
       " [4, 5, 2, 4, 3, 5, 2, 4, 1, 4, 4, 2, 3, 4, 5, 3, 4, 3],\n",
       " [3,\n",
       "  4,\n",
       "  3,\n",
       "  3,\n",
       "  3,\n",
       "  7,\n",
       "  5,\n",
       "  3,\n",
       "  5,\n",
       "  2,\n",
       "  3,\n",
       "  6,\n",
       "  4,\n",
       "  5,\n",
       "  6,\n",
       "  3,\n",
       "  2,\n",
       "  4,\n",
       "  2,\n",
       "  2,\n",
       "  4,\n",
       "  3,\n",
       "  4,\n",
       "  4,\n",
       "  3,\n",
       "  3]]"
      ]
     },
     "execution_count": 31,
     "metadata": {},
     "output_type": "execute_result"
    }
   ],
   "source": [
    "wrd_length[200:205]"
   ]
  },
  {
   "cell_type": "code",
   "execution_count": 32,
   "metadata": {
    "collapsed": false
   },
   "outputs": [
    {
     "data": {
      "text/plain": [
       "[88, 85, 35, 62, 96]"
      ]
     },
     "execution_count": 32,
     "metadata": {},
     "output_type": "execute_result"
    }
   ],
   "source": [
    "total_char[200:205]"
   ]
  },
  {
   "cell_type": "markdown",
   "metadata": {},
   "source": [
    "Create columns named wrd_length and char_total filling in with the data created by the function and loop."
   ]
  },
  {
   "cell_type": "code",
   "execution_count": 33,
   "metadata": {
    "collapsed": true
   },
   "outputs": [],
   "source": [
    "df_wizard['wrd_lengths'] = wrd_length"
   ]
  },
  {
   "cell_type": "code",
   "execution_count": 34,
   "metadata": {
    "collapsed": true
   },
   "outputs": [],
   "source": [
    "df_wizard['char_total'] = total_char"
   ]
  },
  {
   "cell_type": "code",
   "execution_count": 35,
   "metadata": {
    "collapsed": false
   },
   "outputs": [
    {
     "data": {
      "text/html": [
       "<div>\n",
       "<table border=\"1\" class=\"dataframe\">\n",
       "  <thead>\n",
       "    <tr style=\"text-align: right;\">\n",
       "      <th></th>\n",
       "      <th>Sentences</th>\n",
       "      <th>wrd_lengths</th>\n",
       "      <th>char_total</th>\n",
       "    </tr>\n",
       "  </thead>\n",
       "  <tbody>\n",
       "    <tr>\n",
       "      <th>0</th>\n",
       "      <td>Dorothy lived in the midst of the great Kansas...</td>\n",
       "      <td>[7, 5, 2, 3, 5, 2, 3, 5, 6, 8, 4, 5, 5, 3, 3, ...</td>\n",
       "      <td>103</td>\n",
       "    </tr>\n",
       "    <tr>\n",
       "      <th>1</th>\n",
       "      <td>Their\\nhouse was small, for the lumber to buil...</td>\n",
       "      <td>[5, 5, 3, 5, 3, 3, 6, 2, 5, 2, 3, 2, 2, 7, 2, ...</td>\n",
       "      <td>69</td>\n",
       "    </tr>\n",
       "    <tr>\n",
       "      <th>2</th>\n",
       "      <td>There were four walls, a floor and a roof, whi...</td>\n",
       "      <td>[5, 4, 4, 5, 1, 5, 3, 1, 4, 5, 4, 3, 4, 3, 4, ...</td>\n",
       "      <td>144</td>\n",
       "    </tr>\n",
       "    <tr>\n",
       "      <th>3</th>\n",
       "      <td>Uncle Henry\\nand Aunt Em had a big bed in one ...</td>\n",
       "      <td>[5, 5, 3, 4, 2, 3, 1, 3, 3, 2, 3, 6, 3, 7, 1, ...</td>\n",
       "      <td>75</td>\n",
       "    </tr>\n",
       "    <tr>\n",
       "      <th>4</th>\n",
       "      <td>There was no garret at all, and no cellar--exc...</td>\n",
       "      <td>[5, 3, 2, 6, 2, 3, 3, 2, 6, 6, 1, 5, 4, 3, 2, ...</td>\n",
       "      <td>178</td>\n",
       "    </tr>\n",
       "  </tbody>\n",
       "</table>\n",
       "</div>"
      ],
      "text/plain": [
       "                                           Sentences  \\\n",
       "0  Dorothy lived in the midst of the great Kansas...   \n",
       "1  Their\\nhouse was small, for the lumber to buil...   \n",
       "2  There were four walls, a floor and a roof, whi...   \n",
       "3  Uncle Henry\\nand Aunt Em had a big bed in one ...   \n",
       "4  There was no garret at all, and no cellar--exc...   \n",
       "\n",
       "                                         wrd_lengths  char_total  \n",
       "0  [7, 5, 2, 3, 5, 2, 3, 5, 6, 8, 4, 5, 5, 3, 3, ...         103  \n",
       "1  [5, 5, 3, 5, 3, 3, 6, 2, 5, 2, 3, 2, 2, 7, 2, ...          69  \n",
       "2  [5, 4, 4, 5, 1, 5, 3, 1, 4, 5, 4, 3, 4, 3, 4, ...         144  \n",
       "3  [5, 5, 3, 4, 2, 3, 1, 3, 3, 2, 3, 6, 3, 7, 1, ...          75  \n",
       "4  [5, 3, 2, 6, 2, 3, 3, 2, 6, 6, 1, 5, 4, 3, 2, ...         178  "
      ]
     },
     "execution_count": 35,
     "metadata": {},
     "output_type": "execute_result"
    }
   ],
   "source": [
    "df_wizard.head()"
   ]
  },
  {
   "cell_type": "code",
   "execution_count": 36,
   "metadata": {
    "collapsed": false
   },
   "outputs": [
    {
     "data": {
      "text/html": [
       "<div>\n",
       "<table border=\"1\" class=\"dataframe\">\n",
       "  <thead>\n",
       "    <tr style=\"text-align: right;\">\n",
       "      <th></th>\n",
       "      <th>Sentences</th>\n",
       "      <th>wrd_lengths</th>\n",
       "      <th>char_total</th>\n",
       "    </tr>\n",
       "  </thead>\n",
       "  <tbody>\n",
       "    <tr>\n",
       "      <th>2211</th>\n",
       "      <td>\"Where in the world did you come from?\"</td>\n",
       "      <td>[5, 2, 3, 5, 3, 3, 4, 4]</td>\n",
       "      <td>29</td>\n",
       "    </tr>\n",
       "    <tr>\n",
       "      <th>2212</th>\n",
       "      <td>\"From the Land of Oz,\" said Dorothy gravely.</td>\n",
       "      <td>[4, 3, 4, 2, 2, 4, 7, 7]</td>\n",
       "      <td>33</td>\n",
       "    </tr>\n",
       "    <tr>\n",
       "      <th>2213</th>\n",
       "      <td>\"And here is Toto, too.</td>\n",
       "      <td>[3, 4, 2, 4, 3]</td>\n",
       "      <td>16</td>\n",
       "    </tr>\n",
       "    <tr>\n",
       "      <th>2214</th>\n",
       "      <td>And oh, Aunt Em!</td>\n",
       "      <td>[3, 2, 4, 2]</td>\n",
       "      <td>11</td>\n",
       "    </tr>\n",
       "    <tr>\n",
       "      <th>2215</th>\n",
       "      <td>I'm so glad to be at home again!\"</td>\n",
       "      <td>[1, 2, 2, 4, 2, 2, 2, 4, 5]</td>\n",
       "      <td>24</td>\n",
       "    </tr>\n",
       "  </tbody>\n",
       "</table>\n",
       "</div>"
      ],
      "text/plain": [
       "                                         Sentences  \\\n",
       "2211       \"Where in the world did you come from?\"   \n",
       "2212  \"From the Land of Oz,\" said Dorothy gravely.   \n",
       "2213                       \"And here is Toto, too.   \n",
       "2214                              And oh, Aunt Em!   \n",
       "2215             I'm so glad to be at home again!\"   \n",
       "\n",
       "                      wrd_lengths  char_total  \n",
       "2211     [5, 2, 3, 5, 3, 3, 4, 4]          29  \n",
       "2212     [4, 3, 4, 2, 2, 4, 7, 7]          33  \n",
       "2213              [3, 4, 2, 4, 3]          16  \n",
       "2214                 [3, 2, 4, 2]          11  \n",
       "2215  [1, 2, 2, 4, 2, 2, 2, 4, 5]          24  "
      ]
     },
     "execution_count": 36,
     "metadata": {},
     "output_type": "execute_result"
    }
   ],
   "source": [
    "df_wizard.tail()"
   ]
  },
  {
   "cell_type": "code",
   "execution_count": 37,
   "metadata": {
    "collapsed": false
   },
   "outputs": [
    {
     "data": {
      "text/plain": [
       "26"
      ]
     },
     "execution_count": 37,
     "metadata": {},
     "output_type": "execute_result"
    }
   ],
   "source": [
    "len(df_wizard['wrd_lengths'][0])"
   ]
  },
  {
   "cell_type": "code",
   "execution_count": 38,
   "metadata": {
    "collapsed": false
   },
   "outputs": [
    {
     "data": {
      "text/html": [
       "<div>\n",
       "<table border=\"1\" class=\"dataframe\">\n",
       "  <thead>\n",
       "    <tr style=\"text-align: right;\">\n",
       "      <th></th>\n",
       "      <th>Sentences</th>\n",
       "      <th>wrd_lengths</th>\n",
       "      <th>char_total</th>\n",
       "    </tr>\n",
       "  </thead>\n",
       "  <tbody>\n",
       "    <tr>\n",
       "      <th>0</th>\n",
       "      <td>Dorothy lived in the midst of the great Kansas...</td>\n",
       "      <td>[7, 5, 2, 3, 5, 2, 3, 5, 6, 8, 4, 5, 5, 3, 3, ...</td>\n",
       "      <td>103</td>\n",
       "    </tr>\n",
       "    <tr>\n",
       "      <th>1</th>\n",
       "      <td>Their\\nhouse was small, for the lumber to buil...</td>\n",
       "      <td>[5, 5, 3, 5, 3, 3, 6, 2, 5, 2, 3, 2, 2, 7, 2, ...</td>\n",
       "      <td>69</td>\n",
       "    </tr>\n",
       "    <tr>\n",
       "      <th>2</th>\n",
       "      <td>There were four walls, a floor and a roof, whi...</td>\n",
       "      <td>[5, 4, 4, 5, 1, 5, 3, 1, 4, 5, 4, 3, 4, 3, 4, ...</td>\n",
       "      <td>144</td>\n",
       "    </tr>\n",
       "    <tr>\n",
       "      <th>3</th>\n",
       "      <td>Uncle Henry\\nand Aunt Em had a big bed in one ...</td>\n",
       "      <td>[5, 5, 3, 4, 2, 3, 1, 3, 3, 2, 3, 6, 3, 7, 1, ...</td>\n",
       "      <td>75</td>\n",
       "    </tr>\n",
       "    <tr>\n",
       "      <th>4</th>\n",
       "      <td>There was no garret at all, and no cellar--exc...</td>\n",
       "      <td>[5, 3, 2, 6, 2, 3, 3, 2, 6, 6, 1, 5, 4, 3, 2, ...</td>\n",
       "      <td>178</td>\n",
       "    </tr>\n",
       "  </tbody>\n",
       "</table>\n",
       "</div>"
      ],
      "text/plain": [
       "                                           Sentences  \\\n",
       "0  Dorothy lived in the midst of the great Kansas...   \n",
       "1  Their\\nhouse was small, for the lumber to buil...   \n",
       "2  There were four walls, a floor and a roof, whi...   \n",
       "3  Uncle Henry\\nand Aunt Em had a big bed in one ...   \n",
       "4  There was no garret at all, and no cellar--exc...   \n",
       "\n",
       "                                         wrd_lengths  char_total  \n",
       "0  [7, 5, 2, 3, 5, 2, 3, 5, 6, 8, 4, 5, 5, 3, 3, ...         103  \n",
       "1  [5, 5, 3, 5, 3, 3, 6, 2, 5, 2, 3, 2, 2, 7, 2, ...          69  \n",
       "2  [5, 4, 4, 5, 1, 5, 3, 1, 4, 5, 4, 3, 4, 3, 4, ...         144  \n",
       "3  [5, 5, 3, 4, 2, 3, 1, 3, 3, 2, 3, 6, 3, 7, 1, ...          75  \n",
       "4  [5, 3, 2, 6, 2, 3, 3, 2, 6, 6, 1, 5, 4, 3, 2, ...         178  "
      ]
     },
     "execution_count": 38,
     "metadata": {},
     "output_type": "execute_result"
    }
   ],
   "source": [
    "df_wizard.head()"
   ]
  },
  {
   "cell_type": "code",
   "execution_count": 39,
   "metadata": {
    "collapsed": false
   },
   "outputs": [],
   "source": [
    "word_percent = []\n",
    "def wrd_pattern(length, total):\n",
    "    sent_wrd_pattern = []\n",
    "    for l in length:\n",
    "        wrd_ratio = float(l)/total\n",
    "        sent_wrd_pattern.append(wrd_ratio)\n",
    "    word_percent.append(sent_wrd_pattern)        "
   ]
  },
  {
   "cell_type": "code",
   "execution_count": 40,
   "metadata": {
    "collapsed": false
   },
   "outputs": [],
   "source": [
    "i = 0\n",
    "j = 0\n",
    "for m in df_wizard['Sentences']:\n",
    "    length = df_wizard['wrd_lengths'][i]\n",
    "    i += 1\n",
    "    total = df_wizard['char_total'][j]\n",
    "    j += 1\n",
    "    wrd_pattern(length, total)"
   ]
  },
  {
   "cell_type": "code",
   "execution_count": 41,
   "metadata": {
    "collapsed": false
   },
   "outputs": [
    {
     "data": {
      "text/plain": [
       "2216"
      ]
     },
     "execution_count": 41,
     "metadata": {},
     "output_type": "execute_result"
    }
   ],
   "source": [
    "len(word_percent)"
   ]
  },
  {
   "cell_type": "code",
   "execution_count": 42,
   "metadata": {
    "collapsed": false
   },
   "outputs": [],
   "source": [
    "test = word_percent[:1]"
   ]
  },
  {
   "cell_type": "code",
   "execution_count": 43,
   "metadata": {
    "collapsed": false
   },
   "outputs": [
    {
     "name": "stdout",
     "output_type": "stream",
     "text": [
      "[[0.06796116504854369, 0.04854368932038835, 0.019417475728155338, 0.02912621359223301, 0.04854368932038835, 0.019417475728155338, 0.02912621359223301, 0.04854368932038835, 0.05825242718446602, 0.07766990291262135, 0.038834951456310676, 0.04854368932038835, 0.04854368932038835, 0.02912621359223301, 0.02912621359223301, 0.009708737864077669, 0.05825242718446602, 0.02912621359223301, 0.038834951456310676, 0.019417475728155338, 0.02912621359223301, 0.02912621359223301, 0.02912621359223301, 0.05825242718446602, 0.019417475728155338, 0.038834951456310676]]\n"
     ]
    }
   ],
   "source": [
    "print test"
   ]
  },
  {
   "cell_type": "code",
   "execution_count": null,
   "metadata": {
    "collapsed": false
   },
   "outputs": [],
   "source": [
    "\n",
    "for x in test:\n",
    "    print x\n",
    "\n"
   ]
  },
  {
   "cell_type": "code",
   "execution_count": null,
   "metadata": {
    "collapsed": false
   },
   "outputs": [],
   "source": [
    "test2 = np.array(test)\n",
    "\n",
    "print test2"
   ]
  },
  {
   "cell_type": "code",
   "execution_count": null,
   "metadata": {
    "collapsed": false
   },
   "outputs": [],
   "source": [
    "np.sum(test2)\n",
    "    "
   ]
  },
  {
   "cell_type": "code",
   "execution_count": null,
   "metadata": {
    "collapsed": false
   },
   "outputs": [],
   "source": [
    "np.ediff1d(test2)"
   ]
  },
  {
   "cell_type": "code",
   "execution_count": 44,
   "metadata": {
    "collapsed": false
   },
   "outputs": [
    {
     "name": "stdout",
     "output_type": "stream",
     "text": [
      "<type 'numpy.ndarray'>\n",
      "<type 'numpy.ndarray'>\n",
      "<type 'numpy.ndarray'>\n"
     ]
    }
   ],
   "source": [
    "word_percent_array = []\n",
    "for n in word_percent[:3]:\n",
    "    n = np.array(n)\n",
    "    print type(n)\n",
    "    word_percent_array.append(n)\n",
    "       "
   ]
  },
  {
   "cell_type": "code",
   "execution_count": null,
   "metadata": {
    "collapsed": false
   },
   "outputs": [],
   "source": [
    "for n in word_percent_array:\n",
    "    print type(n)\n",
    "    print np.sum(n)"
   ]
  },
  {
   "cell_type": "code",
   "execution_count": 45,
   "metadata": {
    "collapsed": true
   },
   "outputs": [],
   "source": [
    "word_percent_arr = []\n",
    "for n in word_percent:\n",
    "    n = np.array(n)\n",
    "    word_percent_arr.append(n)"
   ]
  },
  {
   "cell_type": "code",
   "execution_count": 46,
   "metadata": {
    "collapsed": false
   },
   "outputs": [
    {
     "name": "stdout",
     "output_type": "stream",
     "text": [
      "[ 0.06796117  0.04854369  0.01941748  0.02912621  0.04854369  0.01941748\n",
      "  0.02912621  0.04854369  0.05825243  0.0776699   0.03883495  0.04854369\n",
      "  0.04854369  0.02912621  0.02912621  0.00970874  0.05825243  0.02912621\n",
      "  0.03883495  0.01941748  0.02912621  0.02912621  0.02912621  0.05825243\n",
      "  0.01941748  0.03883495]\n",
      "[ 0.07246377  0.07246377  0.04347826  0.07246377  0.04347826  0.04347826\n",
      "  0.08695652  0.02898551  0.07246377  0.02898551  0.04347826  0.02898551\n",
      "  0.02898551  0.10144928  0.02898551  0.07246377  0.05797101  0.07246377]\n",
      "[ 0.03472222  0.02777778  0.02777778  0.03472222  0.00694444  0.03472222\n",
      "  0.02083333  0.00694444  0.02777778  0.03472222  0.02777778  0.02083333\n",
      "  0.02777778  0.02083333  0.02777778  0.02777778  0.0625      0.00694444\n",
      "  0.03472222  0.04861111  0.0625      0.00694444  0.05555556  0.02083333\n",
      "  0.02083333  0.04166667  0.00694444  0.03472222  0.03472222  0.01388889\n",
      "  0.02777778  0.04166667  0.02083333  0.02083333  0.02777778]\n"
     ]
    }
   ],
   "source": [
    "for n in word_percent_arr[:3]:\n",
    "    print n"
   ]
  },
  {
   "cell_type": "code",
   "execution_count": 47,
   "metadata": {
    "collapsed": false
   },
   "outputs": [
    {
     "data": {
      "text/plain": [
       "list"
      ]
     },
     "execution_count": 47,
     "metadata": {},
     "output_type": "execute_result"
    }
   ],
   "source": [
    "type(word_percent_array[:1])"
   ]
  },
  {
   "cell_type": "code",
   "execution_count": null,
   "metadata": {
    "collapsed": false
   },
   "outputs": [],
   "source": [
    "print word_percent[:2]"
   ]
  },
  {
   "cell_type": "code",
   "execution_count": null,
   "metadata": {
    "collapsed": false
   },
   "outputs": [],
   "source": [
    "type(word_percent[:1])"
   ]
  },
  {
   "cell_type": "code",
   "execution_count": 48,
   "metadata": {
    "collapsed": true
   },
   "outputs": [],
   "source": [
    "df_wizard['word_percent_arr'] = word_percent_arr"
   ]
  },
  {
   "cell_type": "code",
   "execution_count": 49,
   "metadata": {
    "collapsed": false
   },
   "outputs": [
    {
     "data": {
      "text/html": [
       "<div>\n",
       "<table border=\"1\" class=\"dataframe\">\n",
       "  <thead>\n",
       "    <tr style=\"text-align: right;\">\n",
       "      <th></th>\n",
       "      <th>Sentences</th>\n",
       "      <th>wrd_lengths</th>\n",
       "      <th>char_total</th>\n",
       "      <th>word_percent_arr</th>\n",
       "    </tr>\n",
       "  </thead>\n",
       "  <tbody>\n",
       "    <tr>\n",
       "      <th>0</th>\n",
       "      <td>Dorothy lived in the midst of the great Kansas...</td>\n",
       "      <td>[7, 5, 2, 3, 5, 2, 3, 5, 6, 8, 4, 5, 5, 3, 3, ...</td>\n",
       "      <td>103</td>\n",
       "      <td>[0.0679611650485, 0.0485436893204, 0.019417475...</td>\n",
       "    </tr>\n",
       "    <tr>\n",
       "      <th>1</th>\n",
       "      <td>Their\\nhouse was small, for the lumber to buil...</td>\n",
       "      <td>[5, 5, 3, 5, 3, 3, 6, 2, 5, 2, 3, 2, 2, 7, 2, ...</td>\n",
       "      <td>69</td>\n",
       "      <td>[0.0724637681159, 0.0724637681159, 0.043478260...</td>\n",
       "    </tr>\n",
       "    <tr>\n",
       "      <th>2</th>\n",
       "      <td>There were four walls, a floor and a roof, whi...</td>\n",
       "      <td>[5, 4, 4, 5, 1, 5, 3, 1, 4, 5, 4, 3, 4, 3, 4, ...</td>\n",
       "      <td>144</td>\n",
       "      <td>[0.0347222222222, 0.0277777777778, 0.027777777...</td>\n",
       "    </tr>\n",
       "    <tr>\n",
       "      <th>3</th>\n",
       "      <td>Uncle Henry\\nand Aunt Em had a big bed in one ...</td>\n",
       "      <td>[5, 5, 3, 4, 2, 3, 1, 3, 3, 2, 3, 6, 3, 7, 1, ...</td>\n",
       "      <td>75</td>\n",
       "      <td>[0.0666666666667, 0.0666666666667, 0.04, 0.053...</td>\n",
       "    </tr>\n",
       "    <tr>\n",
       "      <th>4</th>\n",
       "      <td>There was no garret at all, and no cellar--exc...</td>\n",
       "      <td>[5, 3, 2, 6, 2, 3, 3, 2, 6, 6, 1, 5, 4, 3, 2, ...</td>\n",
       "      <td>178</td>\n",
       "      <td>[0.0280898876404, 0.0168539325843, 0.011235955...</td>\n",
       "    </tr>\n",
       "  </tbody>\n",
       "</table>\n",
       "</div>"
      ],
      "text/plain": [
       "                                           Sentences  \\\n",
       "0  Dorothy lived in the midst of the great Kansas...   \n",
       "1  Their\\nhouse was small, for the lumber to buil...   \n",
       "2  There were four walls, a floor and a roof, whi...   \n",
       "3  Uncle Henry\\nand Aunt Em had a big bed in one ...   \n",
       "4  There was no garret at all, and no cellar--exc...   \n",
       "\n",
       "                                         wrd_lengths  char_total  \\\n",
       "0  [7, 5, 2, 3, 5, 2, 3, 5, 6, 8, 4, 5, 5, 3, 3, ...         103   \n",
       "1  [5, 5, 3, 5, 3, 3, 6, 2, 5, 2, 3, 2, 2, 7, 2, ...          69   \n",
       "2  [5, 4, 4, 5, 1, 5, 3, 1, 4, 5, 4, 3, 4, 3, 4, ...         144   \n",
       "3  [5, 5, 3, 4, 2, 3, 1, 3, 3, 2, 3, 6, 3, 7, 1, ...          75   \n",
       "4  [5, 3, 2, 6, 2, 3, 3, 2, 6, 6, 1, 5, 4, 3, 2, ...         178   \n",
       "\n",
       "                                    word_percent_arr  \n",
       "0  [0.0679611650485, 0.0485436893204, 0.019417475...  \n",
       "1  [0.0724637681159, 0.0724637681159, 0.043478260...  \n",
       "2  [0.0347222222222, 0.0277777777778, 0.027777777...  \n",
       "3  [0.0666666666667, 0.0666666666667, 0.04, 0.053...  \n",
       "4  [0.0280898876404, 0.0168539325843, 0.011235955...  "
      ]
     },
     "execution_count": 49,
     "metadata": {},
     "output_type": "execute_result"
    }
   ],
   "source": [
    "df_wizard.head()"
   ]
  },
  {
   "cell_type": "code",
   "execution_count": 50,
   "metadata": {
    "collapsed": false
   },
   "outputs": [
    {
     "data": {
      "text/html": [
       "<div>\n",
       "<table border=\"1\" class=\"dataframe\">\n",
       "  <thead>\n",
       "    <tr style=\"text-align: right;\">\n",
       "      <th></th>\n",
       "      <th>Sentences</th>\n",
       "      <th>wrd_lengths</th>\n",
       "      <th>char_total</th>\n",
       "      <th>word_percent_arr</th>\n",
       "    </tr>\n",
       "  </thead>\n",
       "  <tbody>\n",
       "    <tr>\n",
       "      <th>2211</th>\n",
       "      <td>\"Where in the world did you come from?\"</td>\n",
       "      <td>[5, 2, 3, 5, 3, 3, 4, 4]</td>\n",
       "      <td>29</td>\n",
       "      <td>[0.172413793103, 0.0689655172414, 0.1034482758...</td>\n",
       "    </tr>\n",
       "    <tr>\n",
       "      <th>2212</th>\n",
       "      <td>\"From the Land of Oz,\" said Dorothy gravely.</td>\n",
       "      <td>[4, 3, 4, 2, 2, 4, 7, 7]</td>\n",
       "      <td>33</td>\n",
       "      <td>[0.121212121212, 0.0909090909091, 0.1212121212...</td>\n",
       "    </tr>\n",
       "    <tr>\n",
       "      <th>2213</th>\n",
       "      <td>\"And here is Toto, too.</td>\n",
       "      <td>[3, 4, 2, 4, 3]</td>\n",
       "      <td>16</td>\n",
       "      <td>[0.1875, 0.25, 0.125, 0.25, 0.1875]</td>\n",
       "    </tr>\n",
       "    <tr>\n",
       "      <th>2214</th>\n",
       "      <td>And oh, Aunt Em!</td>\n",
       "      <td>[3, 2, 4, 2]</td>\n",
       "      <td>11</td>\n",
       "      <td>[0.272727272727, 0.181818181818, 0.36363636363...</td>\n",
       "    </tr>\n",
       "    <tr>\n",
       "      <th>2215</th>\n",
       "      <td>I'm so glad to be at home again!\"</td>\n",
       "      <td>[1, 2, 2, 4, 2, 2, 2, 4, 5]</td>\n",
       "      <td>24</td>\n",
       "      <td>[0.0416666666667, 0.0833333333333, 0.083333333...</td>\n",
       "    </tr>\n",
       "  </tbody>\n",
       "</table>\n",
       "</div>"
      ],
      "text/plain": [
       "                                         Sentences  \\\n",
       "2211       \"Where in the world did you come from?\"   \n",
       "2212  \"From the Land of Oz,\" said Dorothy gravely.   \n",
       "2213                       \"And here is Toto, too.   \n",
       "2214                              And oh, Aunt Em!   \n",
       "2215             I'm so glad to be at home again!\"   \n",
       "\n",
       "                      wrd_lengths  char_total  \\\n",
       "2211     [5, 2, 3, 5, 3, 3, 4, 4]          29   \n",
       "2212     [4, 3, 4, 2, 2, 4, 7, 7]          33   \n",
       "2213              [3, 4, 2, 4, 3]          16   \n",
       "2214                 [3, 2, 4, 2]          11   \n",
       "2215  [1, 2, 2, 4, 2, 2, 2, 4, 5]          24   \n",
       "\n",
       "                                       word_percent_arr  \n",
       "2211  [0.172413793103, 0.0689655172414, 0.1034482758...  \n",
       "2212  [0.121212121212, 0.0909090909091, 0.1212121212...  \n",
       "2213                [0.1875, 0.25, 0.125, 0.25, 0.1875]  \n",
       "2214  [0.272727272727, 0.181818181818, 0.36363636363...  \n",
       "2215  [0.0416666666667, 0.0833333333333, 0.083333333...  "
      ]
     },
     "execution_count": 50,
     "metadata": {},
     "output_type": "execute_result"
    }
   ],
   "source": [
    "df_wizard.tail()"
   ]
  },
  {
   "cell_type": "code",
   "execution_count": 51,
   "metadata": {
    "collapsed": false
   },
   "outputs": [],
   "source": [
    "%matplotlib inline\n"
   ]
  },
  {
   "cell_type": "code",
   "execution_count": 52,
   "metadata": {
    "collapsed": false
   },
   "outputs": [
    {
     "data": {
      "text/plain": [
       "<matplotlib.axes._subplots.AxesSubplot at 0x1180e3f50>"
      ]
     },
     "execution_count": 52,
     "metadata": {},
     "output_type": "execute_result"
    },
    {
     "data": {
      "image/png": "[encoded data removed]",
      "text/plain": [
       "<matplotlib.figure.Figure at 0x1183261d0>"
      ]
     },
     "metadata": {},
     "output_type": "display_data"
    }
   ],
   "source": [
    "df_wizard['char_total'].plot.hist()"
   ]
  },
  {
   "cell_type": "code",
   "execution_count": 53,
   "metadata": {
    "collapsed": false
   },
   "outputs": [
    {
     "data": {
      "text/plain": [
       "[<matplotlib.lines.Line2D at 0x118a98590>]"
      ]
     },
     "execution_count": 53,
     "metadata": {},
     "output_type": "execute_result"
    },
    {
     "data": {
      "image/png": "[encoded data removed]",
      "text/plain": [
       "<matplotlib.figure.Figure at 0x1180e3510>"
      ]
     },
     "metadata": {},
     "output_type": "display_data"
    }
   ],
   "source": [
    "plt.plot(df_wizard['word_percent_arr'][0])\n",
    "plt.plot(df_wizard['word_percent_arr'][1])\n",
    "plt.plot(df_wizard['word_percent_arr'][2])\n",
    "plt.plot(df_wizard['word_percent_arr'][3])\n",
    "plt.plot(df_wizard['word_percent_arr'][4])\n",
    "plt.plot(df_wizard['word_percent_arr'][5])"
   ]
  },
  {
   "cell_type": "code",
   "execution_count": 54,
   "metadata": {
    "collapsed": false
   },
   "outputs": [
    {
     "data": {
      "text/plain": [
       "[<matplotlib.lines.Line2D at 0x11c23ce10>]"
      ]
     },
     "execution_count": 54,
     "metadata": {},
     "output_type": "execute_result"
    },
    {
     "data": {
      "image/png": "[encoded data removed]",
      "text/plain": [
       "<matplotlib.figure.Figure at 0x118341390>"
      ]
     },
     "metadata": {},
     "output_type": "display_data"
    }
   ],
   "source": [
    "plt.plot(df_wizard['wrd_lengths'][0])\n",
    "plt.plot(df_wizard['wrd_lengths'][1])\n",
    "plt.plot(df_wizard['wrd_lengths'][2])"
   ]
  },
  {
   "cell_type": "code",
   "execution_count": 55,
   "metadata": {
    "collapsed": false
   },
   "outputs": [
    {
     "data": {
      "text/plain": [
       "<matplotlib.axes._subplots.AxesSubplot at 0x11c2869d0>"
      ]
     },
     "execution_count": 55,
     "metadata": {},
     "output_type": "execute_result"
    },
    {
     "data": {
      "image/png": "[encoded data removed]",
      "text/plain": [
       "<matplotlib.figure.Figure at 0x11835fb10>"
      ]
     },
     "metadata": {},
     "output_type": "display_data"
    }
   ],
   "source": [
    "df_wizard['char_total'].plot()"
   ]
  },
  {
   "cell_type": "code",
   "execution_count": 96,
   "metadata": {
    "collapsed": true
   },
   "outputs": [],
   "source": [
    "def CountSyllables(word, isName=True):\n",
    "    vowels = \"aeiouy\"\n",
    "    #single syllables in words like bread and lead, but split in names like Breanne and Adreann\n",
    "    specials = [\"ia\",\"ea\"] if isName else [\"ia\"]\n",
    "    specials_except_end = [\"ie\",\"ya\",\"es\",\"ed\"]  #seperate syllables unless ending the word\n",
    "    currentWord = word.lower()\n",
    "    numVowels = 0\n",
    "    lastWasVowel = False\n",
    "    last_letter = \"\"\n",
    "\n",
    "    for letter in currentWord:\n",
    "        if letter in vowels:\n",
    "            #don't count diphthongs unless special cases\n",
    "            combo = last_letter+letter\n",
    "            if lastWasVowel and combo not in specials and combo not in specials_except_end:\n",
    "                lastWasVowel = True\n",
    "            else:\n",
    "                numVowels += 1\n",
    "                lastWasVowel = True\n",
    "        else:\n",
    "            lastWasVowel = False\n",
    "\n",
    "        last_letter = letter\n",
    "\n",
    "    #remove es & ed which are usually silent\n",
    "    if len(currentWord) > 2 and currentWord[-2:] in specials_except_end:\n",
    "        numVowels -= 1\n",
    "\n",
    "    #remove silent single e, but not ee since it counted it before and we should be correct\n",
    "    elif len(currentWord) > 2 and currentWord[-1:] == \"e\" and currentWord[-2:] != \"ee\" and currentWord != 'the':\n",
    "        numVowels -= 1\n",
    "\n",
    "    return numVowels"
   ]
  },
  {
   "cell_type": "code",
   "execution_count": 97,
   "metadata": {
    "collapsed": false
   },
   "outputs": [
    {
     "name": "stdout",
     "output_type": "stream",
     "text": [
      "Dorothy\n",
      "3\n",
      "lived\n",
      "1\n",
      "in\n",
      "1\n",
      "the\n",
      "1\n",
      "midst\n",
      "1\n",
      "of\n",
      "1\n",
      "the\n",
      "1\n",
      "great\n",
      "2\n",
      "Kansas\n",
      "2\n",
      "prairies\n",
      "2\n",
      "with\n",
      "1\n",
      "Uncle\n",
      "1\n",
      "Henry\n",
      "2\n",
      "who\n",
      "1\n",
      "was\n",
      "1\n",
      "a\n",
      "1\n",
      "farmer\n",
      "2\n",
      "and\n",
      "1\n",
      "Aunt\n",
      "1\n",
      "Em\n",
      "1\n",
      "who\n",
      "1\n",
      "was\n",
      "1\n",
      "the\n",
      "1\n",
      "farmer\n",
      "2\n",
      "'s\n",
      "0\n",
      "wife\n",
      "1\n"
     ]
    }
   ],
   "source": [
    "for l in df_wizard['Sentences'][:1]:\n",
    "    sent = TextBlob(l)\n",
    "    for x in sent.words:\n",
    "        print x\n",
    "        m = CountSyllables(x) \n",
    "        print m\n",
    "    \n",
    "   "
   ]
  },
  {
   "cell_type": "code",
   "execution_count": 79,
   "metadata": {
    "collapsed": false
   },
   "outputs": [
    {
     "name": "stdout",
     "output_type": "stream",
     "text": [
      "Dorothy lived in the midst of the great Kansas prairies, with Uncle\n",
      "Henry, who was a farmer, and Aunt Em, who was the farmer's wife.\n"
     ]
    }
   ],
   "source": [
    "print df_wizard['Sentences'][0]"
   ]
  },
  {
   "cell_type": "code",
   "execution_count": 81,
   "metadata": {
    "collapsed": false
   },
   "outputs": [
    {
     "name": "stdout",
     "output_type": "stream",
     "text": [
      "Dorothy\n",
      "3\n",
      "lived\n",
      "1\n",
      "in\n",
      "1\n",
      "the\n",
      "1\n",
      "midst\n",
      "1\n",
      "of\n",
      "1\n",
      "the\n",
      "1\n",
      "great\n",
      "2\n",
      "Kansas\n",
      "2\n",
      "prairies\n",
      "2\n",
      "with\n",
      "1\n",
      "Uncle\n",
      "2\n",
      "Henry\n",
      "2\n",
      "who\n",
      "1\n",
      "was\n",
      "1\n",
      "a\n",
      "1\n",
      "farmer\n",
      "2\n",
      "and\n",
      "1\n",
      "Aunt\n",
      "1\n",
      "Em\n",
      "1\n",
      "who\n",
      "1\n",
      "was\n",
      "1\n",
      "the\n",
      "1\n",
      "farmer\n",
      "2\n",
      "'s\n",
      "0\n",
      "wife\n",
      "2\n"
     ]
    }
   ],
   "source": [
    "for l in df_wizard['Sentences'][:1]:\n",
    "    sent = TextBlob(l)\n",
    "    for x in sent.words:\n",
    "        print x\n",
    "        m = CountSyllables(x) \n",
    "        print m\n",
    "    "
   ]
  },
  {
   "cell_type": "code",
   "execution_count": 65,
   "metadata": {
    "collapsed": false
   },
   "outputs": [
    {
     "data": {
      "text/plain": [
       "1"
      ]
     },
     "execution_count": 65,
     "metadata": {},
     "output_type": "execute_result"
    }
   ],
   "source": [
    "CountSyllables('apple')"
   ]
  },
  {
   "cell_type": "code",
   "execution_count": 82,
   "metadata": {
    "collapsed": false,
    "scrolled": true
   },
   "outputs": [
    {
     "name": "stdout",
     "output_type": "stream",
     "text": [
      "And\n",
      "1\n",
      "Toto\n",
      "2\n",
      "looked\n",
      "1\n",
      "up\n",
      "1\n",
      "into\n",
      "2\n",
      "her\n",
      "1\n",
      "face\n",
      "2\n",
      "with\n",
      "1\n",
      "his\n",
      "1\n",
      "little\n",
      "2\n",
      "black\n",
      "1\n",
      "eyes\n",
      "0\n",
      "and\n",
      "1\n",
      "wagged\n",
      "1\n",
      "his\n",
      "1\n",
      "tail\n",
      "1\n",
      "to\n",
      "1\n",
      "show\n",
      "1\n",
      "he\n",
      "1\n",
      "knew\n",
      "1\n",
      "what\n",
      "1\n",
      "she\n",
      "1\n",
      "meant\n",
      "2\n"
     ]
    }
   ],
   "source": [
    "for l in df_wizard['Sentences'][200:201]:\n",
    "    sent = TextBlob(l)\n",
    "    for x in sent.words:\n",
    "        print x\n",
    "        m = CountSyllables(x) \n",
    "        print m\n",
    "    "
   ]
  },
  {
   "cell_type": "code",
   "execution_count": 84,
   "metadata": {
    "collapsed": false
   },
   "outputs": [
    {
     "name": "stdout",
     "output_type": "stream",
     "text": [
      "Dorothy\n",
      "3\n",
      "lived\n",
      "1\n",
      "in\n",
      "1\n",
      "the\n",
      "1\n",
      "midst\n",
      "1\n",
      "of\n",
      "1\n",
      "the\n",
      "1\n",
      "great\n",
      "2\n",
      "Kansas\n",
      "2\n",
      "prairies\n",
      "2\n",
      "with\n",
      "1\n",
      "Uncle\n",
      "1\n",
      "Henry\n",
      "2\n",
      "who\n",
      "1\n",
      "was\n",
      "1\n",
      "a\n",
      "1\n",
      "farmer\n",
      "2\n",
      "and\n",
      "1\n",
      "Aunt\n",
      "1\n",
      "Em\n",
      "1\n",
      "who\n",
      "1\n",
      "was\n",
      "1\n",
      "the\n",
      "1\n",
      "farmer\n",
      "2\n",
      "'s\n",
      "0\n",
      "wife\n",
      "1\n"
     ]
    }
   ],
   "source": [
    "for l in df_wizard['Sentences'][:1]:\n",
    "    sent = TextBlob(l)\n",
    "    for x in sent.words:\n",
    "        print x\n",
    "        m = CountSyllables(x) \n",
    "        print m\n",
    "    "
   ]
  },
  {
   "cell_type": "code",
   "execution_count": 89,
   "metadata": {
    "collapsed": false
   },
   "outputs": [
    {
     "name": "stdout",
     "output_type": "stream",
     "text": [
      "And\n",
      "1\n",
      "Toto\n",
      "2\n",
      "looked\n",
      "1\n",
      "up\n",
      "1\n",
      "into\n",
      "2\n",
      "her\n",
      "1\n",
      "face\n",
      "2\n",
      "with\n",
      "1\n",
      "his\n",
      "1\n",
      "little\n",
      "2\n",
      "black\n",
      "1\n",
      "eyes\n",
      "0\n",
      "and\n",
      "1\n",
      "wagged\n",
      "1\n",
      "his\n",
      "1\n",
      "tail\n",
      "1\n",
      "to\n",
      "1\n",
      "show\n",
      "1\n",
      "he\n",
      "1\n",
      "knew\n",
      "1\n",
      "what\n",
      "1\n",
      "she\n",
      "1\n",
      "meant\n",
      "2\n"
     ]
    }
   ],
   "source": [
    "for l in df_wizard['Sentences'][200:201]:\n",
    "    sent = TextBlob(l)\n",
    "    for x in sent.words:\n",
    "        print x\n",
    "        m = CountSyllables(x) \n",
    "        print m"
   ]
  },
  {
   "cell_type": "code",
   "execution_count": 90,
   "metadata": {
    "collapsed": true
   },
   "outputs": [],
   "source": [
    "import syl_test"
   ]
  },
  {
   "cell_type": "code",
   "execution_count": 91,
   "metadata": {
    "collapsed": false
   },
   "outputs": [
    {
     "data": {
      "text/plain": [
       "'hello'"
      ]
     },
     "execution_count": 91,
     "metadata": {},
     "output_type": "execute_result"
    }
   ],
   "source": [
    "syl_test._normalize_word('hello')"
   ]
  },
  {
   "cell_type": "code",
   "execution_count": 93,
   "metadata": {
    "collapsed": false
   },
   "outputs": [
    {
     "data": {
      "text/plain": [
       "2"
      ]
     },
     "execution_count": 93,
     "metadata": {},
     "output_type": "execute_result"
    }
   ],
   "source": [
    "syl_test.count('hello')"
   ]
  },
  {
   "cell_type": "code",
   "execution_count": 115,
   "metadata": {
    "collapsed": false
   },
   "outputs": [
    {
     "name": "stdout",
     "output_type": "stream",
     "text": [
      "And\n",
      "1\n",
      "Toto\n",
      "2\n",
      "looked\n",
      "2\n",
      "up\n",
      "1\n",
      "into\n",
      "2\n",
      "her\n",
      "1\n",
      "face\n",
      "1\n",
      "with\n",
      "1\n",
      "his\n",
      "1\n",
      "little\n",
      "1\n",
      "black\n",
      "1\n",
      "eyes\n",
      "1\n",
      "and\n",
      "1\n",
      "wagged\n",
      "2\n",
      "his\n",
      "1\n",
      "tail\n",
      "1\n",
      "to\n",
      "1\n",
      "show\n",
      "1\n",
      "he\n",
      "0\n",
      "knew\n",
      "1\n",
      "what\n",
      "1\n",
      "she\n",
      "0\n",
      "meant\n",
      "1\n"
     ]
    }
   ],
   "source": [
    "for l in df_wizard['Sentences'][200:201]:\n",
    "    sent = TextBlob(l)\n",
    "    for x in sent.words:\n",
    "        print x\n",
    "        m = syl_test.count(x) \n",
    "        print m"
   ]
  },
  {
   "cell_type": "code",
   "execution_count": 114,
   "metadata": {
    "collapsed": false
   },
   "outputs": [
    {
     "name": "stdout",
     "output_type": "stream",
     "text": [
      "Dorothy\n",
      "3\n",
      "lived\n",
      "2\n",
      "in\n",
      "1\n",
      "the\n",
      "0\n",
      "midst\n",
      "1\n",
      "of\n",
      "1\n",
      "the\n",
      "0\n",
      "great\n",
      "1\n",
      "Kansas\n",
      "2\n",
      "prairies\n",
      "2\n",
      "with\n",
      "1\n",
      "Uncle\n",
      "1\n",
      "Henry\n",
      "2\n",
      "who\n",
      "1\n",
      "was\n",
      "1\n",
      "a\n",
      "1\n",
      "farmer\n",
      "2\n",
      "and\n",
      "1\n",
      "Aunt\n",
      "1\n",
      "Em\n",
      "1\n",
      "who\n",
      "1\n",
      "was\n",
      "1\n",
      "the\n",
      "0\n",
      "farmer\n",
      "2\n",
      "'s\n",
      "0\n",
      "wife\n",
      "1\n"
     ]
    }
   ],
   "source": [
    "for l in df_wizard['Sentences'][:1]:\n",
    "    sent = TextBlob(l)\n",
    "    for x in sent.words:\n",
    "        print x\n",
    "        m = syl_test.count(x) \n",
    "        print m"
   ]
  },
  {
   "cell_type": "raw",
   "metadata": {},
   "source": [
    "#makes an csv file with the word and the syllable count underneith so that I can work on improving\n",
    "#the function by finding the inaccuraces\n",
    "sylWriter = csv.writer(open('syl_test.csv', 'w'), delimiter=',')    \n",
    "    \n",
    "for l in df_wizard['Sentences']:\n",
    "    sent = TextBlob(l)\n",
    "    for x in sent.words:\n",
    "        sylWriter.writerow([x])\n",
    "        m = CountSyllables(x) \n",
    "        sylWriter.writerow([m])          \n",
    "        \n",
    "          "
   ]
  },
  {
   "cell_type": "raw",
   "metadata": {},
   "source": [
    "syl"
   ]
  },
  {
   "cell_type": "raw",
   "metadata": {},
   "source": [
    "wrd_length = []\n",
    "total_char = []\n",
    "\n",
    "def wrd_char_counts(sentence):\n",
    "    total_chars = 0 #characters in the sentence\n",
    "    wrd_counts = [] # number of char per word in sentence\n",
    "    for word in sentence:\n",
    "        wrd = word\n",
    "        char_count = len(wrd)\n",
    "        wrd_counts.append(char_count)\n",
    "        total_chars += char_count\n",
    "    total_char.append(total_chars)\n",
    "    wrd_length.append(wrd_counts)"
   ]
  },
  {
   "cell_type": "code",
   "execution_count": 110,
   "metadata": {
    "collapsed": false
   },
   "outputs": [],
   "source": [
    "for l in df_wizard['Sentences'][:1]:\n",
    "    sent = TextBlob(l)\n",
    "    syl_single = []\n",
    "    for x in sent.words:\n",
    "        m = CountSyllables(x)\n",
    "        syl_single.append(m)\n",
    "        "
   ]
  },
  {
   "cell_type": "code",
   "execution_count": 111,
   "metadata": {
    "collapsed": false
   },
   "outputs": [
    {
     "data": {
      "text/plain": [
       "[3, 1, 1, 1, 1, 1, 1, 2, 2, 2, 1, 1, 2, 1, 1, 1, 2, 1, 1, 1, 1, 1, 1, 2, 0, 1]"
      ]
     },
     "execution_count": 111,
     "metadata": {},
     "output_type": "execute_result"
    }
   ],
   "source": [
    "syl_single"
   ]
  },
  {
   "cell_type": "code",
   "execution_count": 118,
   "metadata": {
    "collapsed": true
   },
   "outputs": [],
   "source": [
    "syl = []\n",
    "for l in df_wizard['Sentences']:\n",
    "    sent = TextBlob(l)\n",
    "    syl_single = []\n",
    "    for x in sent.words:\n",
    "        m = CountSyllables(x)\n",
    "        syl_single.append(m)\n",
    "    syl.append(syl_single)    "
   ]
  },
  {
   "cell_type": "code",
   "execution_count": 121,
   "metadata": {
    "collapsed": true
   },
   "outputs": [],
   "source": [
    "df_wizard['syl_count'] = syl"
   ]
  },
  {
   "cell_type": "code",
   "execution_count": 122,
   "metadata": {
    "collapsed": false
   },
   "outputs": [
    {
     "data": {
      "text/html": [
       "<div>\n",
       "<table border=\"1\" class=\"dataframe\">\n",
       "  <thead>\n",
       "    <tr style=\"text-align: right;\">\n",
       "      <th></th>\n",
       "      <th>Sentences</th>\n",
       "      <th>wrd_lengths</th>\n",
       "      <th>char_total</th>\n",
       "      <th>word_percent_arr</th>\n",
       "      <th>syl_count</th>\n",
       "    </tr>\n",
       "  </thead>\n",
       "  <tbody>\n",
       "    <tr>\n",
       "      <th>0</th>\n",
       "      <td>Dorothy lived in the midst of the great Kansas...</td>\n",
       "      <td>[7, 5, 2, 3, 5, 2, 3, 5, 6, 8, 4, 5, 5, 3, 3, ...</td>\n",
       "      <td>103</td>\n",
       "      <td>[0.0679611650485, 0.0485436893204, 0.019417475...</td>\n",
       "      <td>[3, 1, 1, 1, 1, 1, 1, 2, 2, 2, 1, 1, 2, 1, 1, ...</td>\n",
       "    </tr>\n",
       "    <tr>\n",
       "      <th>1</th>\n",
       "      <td>Their\\nhouse was small, for the lumber to buil...</td>\n",
       "      <td>[5, 5, 3, 5, 3, 3, 6, 2, 5, 2, 3, 2, 2, 7, 2, ...</td>\n",
       "      <td>69</td>\n",
       "      <td>[0.0724637681159, 0.0724637681159, 0.043478260...</td>\n",
       "      <td>[1, 1, 1, 1, 1, 1, 2, 1, 1, 1, 1, 1, 1, 2, 1, ...</td>\n",
       "    </tr>\n",
       "    <tr>\n",
       "      <th>2</th>\n",
       "      <td>There were four walls, a floor and a roof, whi...</td>\n",
       "      <td>[5, 4, 4, 5, 1, 5, 3, 1, 4, 5, 4, 3, 4, 3, 4, ...</td>\n",
       "      <td>144</td>\n",
       "      <td>[0.0347222222222, 0.0277777777778, 0.027777777...</td>\n",
       "      <td>[1, 1, 1, 1, 1, 1, 1, 1, 1, 1, 1, 1, 1, 1, 1, ...</td>\n",
       "    </tr>\n",
       "    <tr>\n",
       "      <th>3</th>\n",
       "      <td>Uncle Henry\\nand Aunt Em had a big bed in one ...</td>\n",
       "      <td>[5, 5, 3, 4, 2, 3, 1, 3, 3, 2, 3, 6, 3, 7, 1, ...</td>\n",
       "      <td>75</td>\n",
       "      <td>[0.0666666666667, 0.0666666666667, 0.04, 0.053...</td>\n",
       "      <td>[1, 2, 1, 1, 1, 1, 1, 1, 0, 1, 1, 2, 1, 3, 1, ...</td>\n",
       "    </tr>\n",
       "    <tr>\n",
       "      <th>4</th>\n",
       "      <td>There was no garret at all, and no cellar--exc...</td>\n",
       "      <td>[5, 3, 2, 6, 2, 3, 3, 2, 6, 6, 1, 5, 4, 3, 2, ...</td>\n",
       "      <td>178</td>\n",
       "      <td>[0.0280898876404, 0.0168539325843, 0.011235955...</td>\n",
       "      <td>[1, 1, 1, 2, 1, 1, 1, 1, 2, 2, 1, 1, 1, 1, 1, ...</td>\n",
       "    </tr>\n",
       "  </tbody>\n",
       "</table>\n",
       "</div>"
      ],
      "text/plain": [
       "                                           Sentences  \\\n",
       "0  Dorothy lived in the midst of the great Kansas...   \n",
       "1  Their\\nhouse was small, for the lumber to buil...   \n",
       "2  There were four walls, a floor and a roof, whi...   \n",
       "3  Uncle Henry\\nand Aunt Em had a big bed in one ...   \n",
       "4  There was no garret at all, and no cellar--exc...   \n",
       "\n",
       "                                         wrd_lengths  char_total  \\\n",
       "0  [7, 5, 2, 3, 5, 2, 3, 5, 6, 8, 4, 5, 5, 3, 3, ...         103   \n",
       "1  [5, 5, 3, 5, 3, 3, 6, 2, 5, 2, 3, 2, 2, 7, 2, ...          69   \n",
       "2  [5, 4, 4, 5, 1, 5, 3, 1, 4, 5, 4, 3, 4, 3, 4, ...         144   \n",
       "3  [5, 5, 3, 4, 2, 3, 1, 3, 3, 2, 3, 6, 3, 7, 1, ...          75   \n",
       "4  [5, 3, 2, 6, 2, 3, 3, 2, 6, 6, 1, 5, 4, 3, 2, ...         178   \n",
       "\n",
       "                                    word_percent_arr  \\\n",
       "0  [0.0679611650485, 0.0485436893204, 0.019417475...   \n",
       "1  [0.0724637681159, 0.0724637681159, 0.043478260...   \n",
       "2  [0.0347222222222, 0.0277777777778, 0.027777777...   \n",
       "3  [0.0666666666667, 0.0666666666667, 0.04, 0.053...   \n",
       "4  [0.0280898876404, 0.0168539325843, 0.011235955...   \n",
       "\n",
       "                                           syl_count  \n",
       "0  [3, 1, 1, 1, 1, 1, 1, 2, 2, 2, 1, 1, 2, 1, 1, ...  \n",
       "1  [1, 1, 1, 1, 1, 1, 2, 1, 1, 1, 1, 1, 1, 2, 1, ...  \n",
       "2  [1, 1, 1, 1, 1, 1, 1, 1, 1, 1, 1, 1, 1, 1, 1, ...  \n",
       "3  [1, 2, 1, 1, 1, 1, 1, 1, 0, 1, 1, 2, 1, 3, 1, ...  \n",
       "4  [1, 1, 1, 2, 1, 1, 1, 1, 2, 2, 1, 1, 1, 1, 1, ...  "
      ]
     },
     "execution_count": 122,
     "metadata": {},
     "output_type": "execute_result"
    }
   ],
   "source": [
    "df_wizard.head()"
   ]
  },
  {
   "cell_type": "code",
   "execution_count": 123,
   "metadata": {
    "collapsed": false
   },
   "outputs": [
    {
     "data": {
      "text/html": [
       "<div>\n",
       "<table border=\"1\" class=\"dataframe\">\n",
       "  <thead>\n",
       "    <tr style=\"text-align: right;\">\n",
       "      <th></th>\n",
       "      <th>Sentences</th>\n",
       "      <th>wrd_lengths</th>\n",
       "      <th>char_total</th>\n",
       "      <th>word_percent_arr</th>\n",
       "      <th>syl_count</th>\n",
       "    </tr>\n",
       "  </thead>\n",
       "  <tbody>\n",
       "    <tr>\n",
       "      <th>2211</th>\n",
       "      <td>\"Where in the world did you come from?\"</td>\n",
       "      <td>[5, 2, 3, 5, 3, 3, 4, 4]</td>\n",
       "      <td>29</td>\n",
       "      <td>[0.172413793103, 0.0689655172414, 0.1034482758...</td>\n",
       "      <td>[1, 1, 1, 1, 1, 1, 1, 1]</td>\n",
       "    </tr>\n",
       "    <tr>\n",
       "      <th>2212</th>\n",
       "      <td>\"From the Land of Oz,\" said Dorothy gravely.</td>\n",
       "      <td>[4, 3, 4, 2, 2, 4, 7, 7]</td>\n",
       "      <td>33</td>\n",
       "      <td>[0.121212121212, 0.0909090909091, 0.1212121212...</td>\n",
       "      <td>[1, 1, 1, 1, 1, 1, 3, 3]</td>\n",
       "    </tr>\n",
       "    <tr>\n",
       "      <th>2213</th>\n",
       "      <td>\"And here is Toto, too.</td>\n",
       "      <td>[3, 4, 2, 4, 3]</td>\n",
       "      <td>16</td>\n",
       "      <td>[0.1875, 0.25, 0.125, 0.25, 0.1875]</td>\n",
       "      <td>[1, 1, 1, 2, 1]</td>\n",
       "    </tr>\n",
       "    <tr>\n",
       "      <th>2214</th>\n",
       "      <td>And oh, Aunt Em!</td>\n",
       "      <td>[3, 2, 4, 2]</td>\n",
       "      <td>11</td>\n",
       "      <td>[0.272727272727, 0.181818181818, 0.36363636363...</td>\n",
       "      <td>[1, 1, 1, 1]</td>\n",
       "    </tr>\n",
       "    <tr>\n",
       "      <th>2215</th>\n",
       "      <td>I'm so glad to be at home again!\"</td>\n",
       "      <td>[1, 2, 2, 4, 2, 2, 2, 4, 5]</td>\n",
       "      <td>24</td>\n",
       "      <td>[0.0416666666667, 0.0833333333333, 0.083333333...</td>\n",
       "      <td>[1, 0, 1, 1, 1, 1, 1, 1, 2]</td>\n",
       "    </tr>\n",
       "  </tbody>\n",
       "</table>\n",
       "</div>"
      ],
      "text/plain": [
       "                                         Sentences  \\\n",
       "2211       \"Where in the world did you come from?\"   \n",
       "2212  \"From the Land of Oz,\" said Dorothy gravely.   \n",
       "2213                       \"And here is Toto, too.   \n",
       "2214                              And oh, Aunt Em!   \n",
       "2215             I'm so glad to be at home again!\"   \n",
       "\n",
       "                      wrd_lengths  char_total  \\\n",
       "2211     [5, 2, 3, 5, 3, 3, 4, 4]          29   \n",
       "2212     [4, 3, 4, 2, 2, 4, 7, 7]          33   \n",
       "2213              [3, 4, 2, 4, 3]          16   \n",
       "2214                 [3, 2, 4, 2]          11   \n",
       "2215  [1, 2, 2, 4, 2, 2, 2, 4, 5]          24   \n",
       "\n",
       "                                       word_percent_arr  \\\n",
       "2211  [0.172413793103, 0.0689655172414, 0.1034482758...   \n",
       "2212  [0.121212121212, 0.0909090909091, 0.1212121212...   \n",
       "2213                [0.1875, 0.25, 0.125, 0.25, 0.1875]   \n",
       "2214  [0.272727272727, 0.181818181818, 0.36363636363...   \n",
       "2215  [0.0416666666667, 0.0833333333333, 0.083333333...   \n",
       "\n",
       "                        syl_count  \n",
       "2211     [1, 1, 1, 1, 1, 1, 1, 1]  \n",
       "2212     [1, 1, 1, 1, 1, 1, 3, 3]  \n",
       "2213              [1, 1, 1, 2, 1]  \n",
       "2214                 [1, 1, 1, 1]  \n",
       "2215  [1, 0, 1, 1, 1, 1, 1, 1, 2]  "
      ]
     },
     "execution_count": 123,
     "metadata": {},
     "output_type": "execute_result"
    }
   ],
   "source": [
    "df_wizard.tail()"
   ]
  },
  {
   "cell_type": "code",
   "execution_count": 125,
   "metadata": {
    "collapsed": false
   },
   "outputs": [],
   "source": [
    "syl_count_arr = []\n",
    "for n in df_wizard['syl_count']:\n",
    "    n = np.array(n)\n",
    "    syl_count_arr.append(n)"
   ]
  },
  {
   "cell_type": "code",
   "execution_count": 126,
   "metadata": {
    "collapsed": false
   },
   "outputs": [
    {
     "data": {
      "text/plain": [
       "[array([3, 1, 1, 1, 1, 1, 1, 2, 2, 2, 1, 1, 2, 1, 1, 1, 2, 1, 1, 1, 1, 1, 1,\n",
       "        2, 0, 1]),\n",
       " array([1, 1, 1, 1, 1, 1, 2, 1, 1, 1, 1, 1, 1, 2, 1, 2, 2, 1]),\n",
       " array([1, 1, 1, 1, 1, 1, 1, 1, 1, 1, 1, 1, 1, 1, 1, 1, 2, 1, 2, 2, 2, 1, 2,\n",
       "        1, 1, 1, 1, 1, 1, 1, 1, 1, 1, 1, 1]),\n",
       " array([1, 2, 1, 1, 1, 1, 1, 1, 0, 1, 1, 2, 1, 3, 1, 1, 0, 1, 3, 2]),\n",
       " array([1, 1, 1, 2, 1, 1, 1, 1, 2, 2, 1, 1, 1, 1, 1, 1, 1, 1, 1, 2, 2, 1, 1,\n",
       "        3, 1, 1, 1, 1, 1, 1, 1, 2, 2, 2, 2, 2, 1, 1, 2, 2, 1, 1, 1])]"
      ]
     },
     "execution_count": 126,
     "metadata": {},
     "output_type": "execute_result"
    }
   ],
   "source": [
    "syl_count_arr[:5]"
   ]
  },
  {
   "cell_type": "code",
   "execution_count": 127,
   "metadata": {
    "collapsed": true
   },
   "outputs": [],
   "source": [
    "df_wizard['syl_count_arr'] = syl_count_arr"
   ]
  },
  {
   "cell_type": "code",
   "execution_count": 128,
   "metadata": {
    "collapsed": false
   },
   "outputs": [
    {
     "data": {
      "text/html": [
       "<div>\n",
       "<table border=\"1\" class=\"dataframe\">\n",
       "  <thead>\n",
       "    <tr style=\"text-align: right;\">\n",
       "      <th></th>\n",
       "      <th>Sentences</th>\n",
       "      <th>wrd_lengths</th>\n",
       "      <th>char_total</th>\n",
       "      <th>word_percent_arr</th>\n",
       "      <th>syl_count</th>\n",
       "      <th>syl_count_arr</th>\n",
       "    </tr>\n",
       "  </thead>\n",
       "  <tbody>\n",
       "    <tr>\n",
       "      <th>0</th>\n",
       "      <td>Dorothy lived in the midst of the great Kansas...</td>\n",
       "      <td>[7, 5, 2, 3, 5, 2, 3, 5, 6, 8, 4, 5, 5, 3, 3, ...</td>\n",
       "      <td>103</td>\n",
       "      <td>[0.0679611650485, 0.0485436893204, 0.019417475...</td>\n",
       "      <td>[3, 1, 1, 1, 1, 1, 1, 2, 2, 2, 1, 1, 2, 1, 1, ...</td>\n",
       "      <td>[3, 1, 1, 1, 1, 1, 1, 2, 2, 2, 1, 1, 2, 1, 1, ...</td>\n",
       "    </tr>\n",
       "    <tr>\n",
       "      <th>1</th>\n",
       "      <td>Their\\nhouse was small, for the lumber to buil...</td>\n",
       "      <td>[5, 5, 3, 5, 3, 3, 6, 2, 5, 2, 3, 2, 2, 7, 2, ...</td>\n",
       "      <td>69</td>\n",
       "      <td>[0.0724637681159, 0.0724637681159, 0.043478260...</td>\n",
       "      <td>[1, 1, 1, 1, 1, 1, 2, 1, 1, 1, 1, 1, 1, 2, 1, ...</td>\n",
       "      <td>[1, 1, 1, 1, 1, 1, 2, 1, 1, 1, 1, 1, 1, 2, 1, ...</td>\n",
       "    </tr>\n",
       "    <tr>\n",
       "      <th>2</th>\n",
       "      <td>There were four walls, a floor and a roof, whi...</td>\n",
       "      <td>[5, 4, 4, 5, 1, 5, 3, 1, 4, 5, 4, 3, 4, 3, 4, ...</td>\n",
       "      <td>144</td>\n",
       "      <td>[0.0347222222222, 0.0277777777778, 0.027777777...</td>\n",
       "      <td>[1, 1, 1, 1, 1, 1, 1, 1, 1, 1, 1, 1, 1, 1, 1, ...</td>\n",
       "      <td>[1, 1, 1, 1, 1, 1, 1, 1, 1, 1, 1, 1, 1, 1, 1, ...</td>\n",
       "    </tr>\n",
       "    <tr>\n",
       "      <th>3</th>\n",
       "      <td>Uncle Henry\\nand Aunt Em had a big bed in one ...</td>\n",
       "      <td>[5, 5, 3, 4, 2, 3, 1, 3, 3, 2, 3, 6, 3, 7, 1, ...</td>\n",
       "      <td>75</td>\n",
       "      <td>[0.0666666666667, 0.0666666666667, 0.04, 0.053...</td>\n",
       "      <td>[1, 2, 1, 1, 1, 1, 1, 1, 0, 1, 1, 2, 1, 3, 1, ...</td>\n",
       "      <td>[1, 2, 1, 1, 1, 1, 1, 1, 0, 1, 1, 2, 1, 3, 1, ...</td>\n",
       "    </tr>\n",
       "    <tr>\n",
       "      <th>4</th>\n",
       "      <td>There was no garret at all, and no cellar--exc...</td>\n",
       "      <td>[5, 3, 2, 6, 2, 3, 3, 2, 6, 6, 1, 5, 4, 3, 2, ...</td>\n",
       "      <td>178</td>\n",
       "      <td>[0.0280898876404, 0.0168539325843, 0.011235955...</td>\n",
       "      <td>[1, 1, 1, 2, 1, 1, 1, 1, 2, 2, 1, 1, 1, 1, 1, ...</td>\n",
       "      <td>[1, 1, 1, 2, 1, 1, 1, 1, 2, 2, 1, 1, 1, 1, 1, ...</td>\n",
       "    </tr>\n",
       "  </tbody>\n",
       "</table>\n",
       "</div>"
      ],
      "text/plain": [
       "                                           Sentences  \\\n",
       "0  Dorothy lived in the midst of the great Kansas...   \n",
       "1  Their\\nhouse was small, for the lumber to buil...   \n",
       "2  There were four walls, a floor and a roof, whi...   \n",
       "3  Uncle Henry\\nand Aunt Em had a big bed in one ...   \n",
       "4  There was no garret at all, and no cellar--exc...   \n",
       "\n",
       "                                         wrd_lengths  char_total  \\\n",
       "0  [7, 5, 2, 3, 5, 2, 3, 5, 6, 8, 4, 5, 5, 3, 3, ...         103   \n",
       "1  [5, 5, 3, 5, 3, 3, 6, 2, 5, 2, 3, 2, 2, 7, 2, ...          69   \n",
       "2  [5, 4, 4, 5, 1, 5, 3, 1, 4, 5, 4, 3, 4, 3, 4, ...         144   \n",
       "3  [5, 5, 3, 4, 2, 3, 1, 3, 3, 2, 3, 6, 3, 7, 1, ...          75   \n",
       "4  [5, 3, 2, 6, 2, 3, 3, 2, 6, 6, 1, 5, 4, 3, 2, ...         178   \n",
       "\n",
       "                                    word_percent_arr  \\\n",
       "0  [0.0679611650485, 0.0485436893204, 0.019417475...   \n",
       "1  [0.0724637681159, 0.0724637681159, 0.043478260...   \n",
       "2  [0.0347222222222, 0.0277777777778, 0.027777777...   \n",
       "3  [0.0666666666667, 0.0666666666667, 0.04, 0.053...   \n",
       "4  [0.0280898876404, 0.0168539325843, 0.011235955...   \n",
       "\n",
       "                                           syl_count  \\\n",
       "0  [3, 1, 1, 1, 1, 1, 1, 2, 2, 2, 1, 1, 2, 1, 1, ...   \n",
       "1  [1, 1, 1, 1, 1, 1, 2, 1, 1, 1, 1, 1, 1, 2, 1, ...   \n",
       "2  [1, 1, 1, 1, 1, 1, 1, 1, 1, 1, 1, 1, 1, 1, 1, ...   \n",
       "3  [1, 2, 1, 1, 1, 1, 1, 1, 0, 1, 1, 2, 1, 3, 1, ...   \n",
       "4  [1, 1, 1, 2, 1, 1, 1, 1, 2, 2, 1, 1, 1, 1, 1, ...   \n",
       "\n",
       "                                       syl_count_arr  \n",
       "0  [3, 1, 1, 1, 1, 1, 1, 2, 2, 2, 1, 1, 2, 1, 1, ...  \n",
       "1  [1, 1, 1, 1, 1, 1, 2, 1, 1, 1, 1, 1, 1, 2, 1, ...  \n",
       "2  [1, 1, 1, 1, 1, 1, 1, 1, 1, 1, 1, 1, 1, 1, 1, ...  \n",
       "3  [1, 2, 1, 1, 1, 1, 1, 1, 0, 1, 1, 2, 1, 3, 1, ...  \n",
       "4  [1, 1, 1, 2, 1, 1, 1, 1, 2, 2, 1, 1, 1, 1, 1, ...  "
      ]
     },
     "execution_count": 128,
     "metadata": {},
     "output_type": "execute_result"
    }
   ],
   "source": [
    "df_wizard.head()"
   ]
  },
  {
   "cell_type": "code",
   "execution_count": 129,
   "metadata": {
    "collapsed": false
   },
   "outputs": [
    {
     "data": {
      "text/html": [
       "<div>\n",
       "<table border=\"1\" class=\"dataframe\">\n",
       "  <thead>\n",
       "    <tr style=\"text-align: right;\">\n",
       "      <th></th>\n",
       "      <th>Sentences</th>\n",
       "      <th>wrd_lengths</th>\n",
       "      <th>char_total</th>\n",
       "      <th>word_percent_arr</th>\n",
       "      <th>syl_count</th>\n",
       "      <th>syl_count_arr</th>\n",
       "    </tr>\n",
       "  </thead>\n",
       "  <tbody>\n",
       "    <tr>\n",
       "      <th>2211</th>\n",
       "      <td>\"Where in the world did you come from?\"</td>\n",
       "      <td>[5, 2, 3, 5, 3, 3, 4, 4]</td>\n",
       "      <td>29</td>\n",
       "      <td>[0.172413793103, 0.0689655172414, 0.1034482758...</td>\n",
       "      <td>[1, 1, 1, 1, 1, 1, 1, 1]</td>\n",
       "      <td>[1, 1, 1, 1, 1, 1, 1, 1]</td>\n",
       "    </tr>\n",
       "    <tr>\n",
       "      <th>2212</th>\n",
       "      <td>\"From the Land of Oz,\" said Dorothy gravely.</td>\n",
       "      <td>[4, 3, 4, 2, 2, 4, 7, 7]</td>\n",
       "      <td>33</td>\n",
       "      <td>[0.121212121212, 0.0909090909091, 0.1212121212...</td>\n",
       "      <td>[1, 1, 1, 1, 1, 1, 3, 3]</td>\n",
       "      <td>[1, 1, 1, 1, 1, 1, 3, 3]</td>\n",
       "    </tr>\n",
       "    <tr>\n",
       "      <th>2213</th>\n",
       "      <td>\"And here is Toto, too.</td>\n",
       "      <td>[3, 4, 2, 4, 3]</td>\n",
       "      <td>16</td>\n",
       "      <td>[0.1875, 0.25, 0.125, 0.25, 0.1875]</td>\n",
       "      <td>[1, 1, 1, 2, 1]</td>\n",
       "      <td>[1, 1, 1, 2, 1]</td>\n",
       "    </tr>\n",
       "    <tr>\n",
       "      <th>2214</th>\n",
       "      <td>And oh, Aunt Em!</td>\n",
       "      <td>[3, 2, 4, 2]</td>\n",
       "      <td>11</td>\n",
       "      <td>[0.272727272727, 0.181818181818, 0.36363636363...</td>\n",
       "      <td>[1, 1, 1, 1]</td>\n",
       "      <td>[1, 1, 1, 1]</td>\n",
       "    </tr>\n",
       "    <tr>\n",
       "      <th>2215</th>\n",
       "      <td>I'm so glad to be at home again!\"</td>\n",
       "      <td>[1, 2, 2, 4, 2, 2, 2, 4, 5]</td>\n",
       "      <td>24</td>\n",
       "      <td>[0.0416666666667, 0.0833333333333, 0.083333333...</td>\n",
       "      <td>[1, 0, 1, 1, 1, 1, 1, 1, 2]</td>\n",
       "      <td>[1, 0, 1, 1, 1, 1, 1, 1, 2]</td>\n",
       "    </tr>\n",
       "  </tbody>\n",
       "</table>\n",
       "</div>"
      ],
      "text/plain": [
       "                                         Sentences  \\\n",
       "2211       \"Where in the world did you come from?\"   \n",
       "2212  \"From the Land of Oz,\" said Dorothy gravely.   \n",
       "2213                       \"And here is Toto, too.   \n",
       "2214                              And oh, Aunt Em!   \n",
       "2215             I'm so glad to be at home again!\"   \n",
       "\n",
       "                      wrd_lengths  char_total  \\\n",
       "2211     [5, 2, 3, 5, 3, 3, 4, 4]          29   \n",
       "2212     [4, 3, 4, 2, 2, 4, 7, 7]          33   \n",
       "2213              [3, 4, 2, 4, 3]          16   \n",
       "2214                 [3, 2, 4, 2]          11   \n",
       "2215  [1, 2, 2, 4, 2, 2, 2, 4, 5]          24   \n",
       "\n",
       "                                       word_percent_arr  \\\n",
       "2211  [0.172413793103, 0.0689655172414, 0.1034482758...   \n",
       "2212  [0.121212121212, 0.0909090909091, 0.1212121212...   \n",
       "2213                [0.1875, 0.25, 0.125, 0.25, 0.1875]   \n",
       "2214  [0.272727272727, 0.181818181818, 0.36363636363...   \n",
       "2215  [0.0416666666667, 0.0833333333333, 0.083333333...   \n",
       "\n",
       "                        syl_count                syl_count_arr  \n",
       "2211     [1, 1, 1, 1, 1, 1, 1, 1]     [1, 1, 1, 1, 1, 1, 1, 1]  \n",
       "2212     [1, 1, 1, 1, 1, 1, 3, 3]     [1, 1, 1, 1, 1, 1, 3, 3]  \n",
       "2213              [1, 1, 1, 2, 1]              [1, 1, 1, 2, 1]  \n",
       "2214                 [1, 1, 1, 1]                 [1, 1, 1, 1]  \n",
       "2215  [1, 0, 1, 1, 1, 1, 1, 1, 2]  [1, 0, 1, 1, 1, 1, 1, 1, 2]  "
      ]
     },
     "execution_count": 129,
     "metadata": {},
     "output_type": "execute_result"
    }
   ],
   "source": [
    "df_wizard.tail()"
   ]
  },
  {
   "cell_type": "code",
   "execution_count": 130,
   "metadata": {
    "collapsed": false
   },
   "outputs": [
    {
     "data": {
      "text/plain": [
       "[<matplotlib.lines.Line2D at 0x11c740810>]"
      ]
     },
     "execution_count": 130,
     "metadata": {},
     "output_type": "execute_result"
    },
    {
     "data": {
      "image/png": "[encoded data removed]",
      "text/plain": [
       "<matplotlib.figure.Figure at 0x11c36a250>"
      ]
     },
     "metadata": {},
     "output_type": "display_data"
    }
   ],
   "source": [
    "plt.plot(df_wizard['syl_count_arr'][0])\n",
    "plt.plot(df_wizard['syl_count_arr'][1])\n",
    "plt.plot(df_wizard['syl_count_arr'][2])"
   ]
  },
  {
   "cell_type": "code",
   "execution_count": 134,
   "metadata": {
    "collapsed": false
   },
   "outputs": [
    {
     "name": "stdout",
     "output_type": "stream",
     "text": [
      "[3 1 1 1 1 1 1 2 2 2 1 1 2 1 1 1 2 1 1 1 1 1 1 2 0 1]\n",
      "[1 1 1 1 1 1 2 1 1 1 1 1 1 2 1 2 2 1]\n",
      "[1 1 1 1 1 1 1 1 1 1 1 1 1 1 1 1 2 1 2 2 2 1 2 1 1 1 1 1 1 1 1 1 1 1 1]\n"
     ]
    }
   ],
   "source": [
    "for x in df_wizard['syl_count_arr'][:3]:\n",
    "    print x"
   ]
  },
  {
   "cell_type": "code",
   "execution_count": 135,
   "metadata": {
    "collapsed": false
   },
   "outputs": [
    {
     "name": "stdout",
     "output_type": "stream",
     "text": [
      "[7, 5, 2, 3, 5, 2, 3, 5, 6, 8, 4, 5, 5, 3, 3, 1, 6, 3, 4, 2, 3, 3, 3, 6, 2, 4]\n",
      "[5, 5, 3, 5, 3, 3, 6, 2, 5, 2, 3, 2, 2, 7, 2, 5, 4, 5]\n",
      "[5, 4, 4, 5, 1, 5, 3, 1, 4, 5, 4, 3, 4, 3, 4, 4, 9, 1, 5, 7, 9, 1, 8, 3, 3, 6, 1, 5, 5, 2, 4, 6, 3, 3, 4]\n"
     ]
    }
   ],
   "source": [
    "for x in df_wizard['wrd_lengths'][:3]:\n",
    "    print x"
   ]
  },
  {
   "cell_type": "code",
   "execution_count": 136,
   "metadata": {
    "collapsed": false
   },
   "outputs": [
    {
     "name": "stdout",
     "output_type": "stream",
     "text": [
      "[ 0.06796117  0.04854369  0.01941748  0.02912621  0.04854369  0.01941748\n",
      "  0.02912621  0.04854369  0.05825243  0.0776699   0.03883495  0.04854369\n",
      "  0.04854369  0.02912621  0.02912621  0.00970874  0.05825243  0.02912621\n",
      "  0.03883495  0.01941748  0.02912621  0.02912621  0.02912621  0.05825243\n",
      "  0.01941748  0.03883495]\n",
      "[ 0.07246377  0.07246377  0.04347826  0.07246377  0.04347826  0.04347826\n",
      "  0.08695652  0.02898551  0.07246377  0.02898551  0.04347826  0.02898551\n",
      "  0.02898551  0.10144928  0.02898551  0.07246377  0.05797101  0.07246377]\n",
      "[ 0.03472222  0.02777778  0.02777778  0.03472222  0.00694444  0.03472222\n",
      "  0.02083333  0.00694444  0.02777778  0.03472222  0.02777778  0.02083333\n",
      "  0.02777778  0.02083333  0.02777778  0.02777778  0.0625      0.00694444\n",
      "  0.03472222  0.04861111  0.0625      0.00694444  0.05555556  0.02083333\n",
      "  0.02083333  0.04166667  0.00694444  0.03472222  0.03472222  0.01388889\n",
      "  0.02777778  0.04166667  0.02083333  0.02083333  0.02777778]\n"
     ]
    }
   ],
   "source": [
    "for x in df_wizard['word_percent_arr'][:3]:\n",
    "    print x"
   ]
  },
  {
   "cell_type": "code",
   "execution_count": 131,
   "metadata": {
    "collapsed": false
   },
   "outputs": [
    {
     "data": {
      "text/plain": [
       "[<matplotlib.lines.Line2D at 0x11d064990>]"
      ]
     },
     "execution_count": 131,
     "metadata": {},
     "output_type": "execute_result"
    },
    {
     "data": {
      "image/png": "[encoded data removed]",
      "text/plain": [
       "<matplotlib.figure.Figure at 0x118b52450>"
      ]
     },
     "metadata": {},
     "output_type": "display_data"
    }
   ],
   "source": [
    "plt.plot(df_wizard['wrd_lengths'][0])\n",
    "plt.plot(df_wizard['wrd_lengths'][1])\n",
    "plt.plot(df_wizard['wrd_lengths'][2])"
   ]
  },
  {
   "cell_type": "code",
   "execution_count": 132,
   "metadata": {
    "collapsed": false
   },
   "outputs": [
    {
     "data": {
      "text/plain": [
       "[<matplotlib.lines.Line2D at 0x11d183c10>]"
      ]
     },
     "execution_count": 132,
     "metadata": {},
     "output_type": "execute_result"
    },
    {
     "data": {
      "image/png": "[encoded data removed]",
      "text/plain": [
       "<matplotlib.figure.Figure at 0x11c43f090>"
      ]
     },
     "metadata": {},
     "output_type": "display_data"
    }
   ],
   "source": [
    "plt.plot(df_wizard['word_percent_arr'][0])\n",
    "plt.plot(df_wizard['word_percent_arr'][1])\n",
    "plt.plot(df_wizard['word_percent_arr'][2])"
   ]
  },
  {
   "cell_type": "code",
   "execution_count": 137,
   "metadata": {
    "collapsed": true
   },
   "outputs": [],
   "source": [
    "def detect_sentiment(text):\n",
    "    return TextBlob(text.decode('utf-8')).sentiment.polarity"
   ]
  },
  {
   "cell_type": "code",
   "execution_count": 138,
   "metadata": {
    "collapsed": false
   },
   "outputs": [
    {
     "data": {
      "text/plain": [
       "0.8"
      ]
     },
     "execution_count": 138,
     "metadata": {},
     "output_type": "execute_result"
    }
   ],
   "source": [
    "detect_sentiment(df_wizard['Sentences'][0])"
   ]
  },
  {
   "cell_type": "code",
   "execution_count": 139,
   "metadata": {
    "collapsed": false
   },
   "outputs": [
    {
     "data": {
      "text/plain": [
       "\"Dorothy lived in the midst of the great Kansas prairies, with Uncle\\nHenry, who was a farmer, and Aunt Em, who was the farmer's wife.\""
      ]
     },
     "execution_count": 139,
     "metadata": {},
     "output_type": "execute_result"
    }
   ],
   "source": [
    "df_wizard['Sentences'][0]"
   ]
  },
  {
   "cell_type": "code",
   "execution_count": 140,
   "metadata": {
    "collapsed": true
   },
   "outputs": [],
   "source": [
    "df_wizard['sentiment'] = df_wizard['Sentences'].apply(detect_sentiment)"
   ]
  },
  {
   "cell_type": "code",
   "execution_count": 141,
   "metadata": {
    "collapsed": false
   },
   "outputs": [
    {
     "data": {
      "text/html": [
       "<div>\n",
       "<table border=\"1\" class=\"dataframe\">\n",
       "  <thead>\n",
       "    <tr style=\"text-align: right;\">\n",
       "      <th></th>\n",
       "      <th>Sentences</th>\n",
       "      <th>wrd_lengths</th>\n",
       "      <th>char_total</th>\n",
       "      <th>word_percent_arr</th>\n",
       "      <th>syl_count</th>\n",
       "      <th>syl_count_arr</th>\n",
       "      <th>sentiment</th>\n",
       "    </tr>\n",
       "  </thead>\n",
       "  <tbody>\n",
       "    <tr>\n",
       "      <th>0</th>\n",
       "      <td>Dorothy lived in the midst of the great Kansas...</td>\n",
       "      <td>[7, 5, 2, 3, 5, 2, 3, 5, 6, 8, 4, 5, 5, 3, 3, ...</td>\n",
       "      <td>103</td>\n",
       "      <td>[0.0679611650485, 0.0485436893204, 0.019417475...</td>\n",
       "      <td>[3, 1, 1, 1, 1, 1, 1, 2, 2, 2, 1, 1, 2, 1, 1, ...</td>\n",
       "      <td>[3, 1, 1, 1, 1, 1, 1, 2, 2, 2, 1, 1, 2, 1, 1, ...</td>\n",
       "      <td>0.80000</td>\n",
       "    </tr>\n",
       "    <tr>\n",
       "      <th>1</th>\n",
       "      <td>Their\\nhouse was small, for the lumber to buil...</td>\n",
       "      <td>[5, 5, 3, 5, 3, 3, 6, 2, 5, 2, 3, 2, 2, 7, 2, ...</td>\n",
       "      <td>69</td>\n",
       "      <td>[0.0724637681159, 0.0724637681159, 0.043478260...</td>\n",
       "      <td>[1, 1, 1, 1, 1, 1, 2, 1, 1, 1, 1, 1, 1, 2, 1, ...</td>\n",
       "      <td>[1, 1, 1, 1, 1, 1, 2, 1, 1, 1, 1, 1, 1, 2, 1, ...</td>\n",
       "      <td>0.12500</td>\n",
       "    </tr>\n",
       "    <tr>\n",
       "      <th>2</th>\n",
       "      <td>There were four walls, a floor and a roof, whi...</td>\n",
       "      <td>[5, 4, 4, 5, 1, 5, 3, 1, 4, 5, 4, 3, 4, 3, 4, ...</td>\n",
       "      <td>144</td>\n",
       "      <td>[0.0347222222222, 0.0277777777778, 0.027777777...</td>\n",
       "      <td>[1, 1, 1, 1, 1, 1, 1, 1, 1, 1, 1, 1, 1, 1, 1, ...</td>\n",
       "      <td>[1, 1, 1, 1, 1, 1, 1, 1, 1, 1, 1, 1, 1, 1, 1, ...</td>\n",
       "      <td>0.00000</td>\n",
       "    </tr>\n",
       "    <tr>\n",
       "      <th>3</th>\n",
       "      <td>Uncle Henry\\nand Aunt Em had a big bed in one ...</td>\n",
       "      <td>[5, 5, 3, 4, 2, 3, 1, 3, 3, 2, 3, 6, 3, 7, 1, ...</td>\n",
       "      <td>75</td>\n",
       "      <td>[0.0666666666667, 0.0666666666667, 0.04, 0.053...</td>\n",
       "      <td>[1, 2, 1, 1, 1, 1, 1, 1, 0, 1, 1, 2, 1, 3, 1, ...</td>\n",
       "      <td>[1, 2, 1, 1, 1, 1, 1, 1, 0, 1, 1, 2, 1, 3, 1, ...</td>\n",
       "      <td>-0.09375</td>\n",
       "    </tr>\n",
       "    <tr>\n",
       "      <th>4</th>\n",
       "      <td>There was no garret at all, and no cellar--exc...</td>\n",
       "      <td>[5, 3, 2, 6, 2, 3, 3, 2, 6, 6, 1, 5, 4, 3, 2, ...</td>\n",
       "      <td>178</td>\n",
       "      <td>[0.0280898876404, 0.0168539325843, 0.011235955...</td>\n",
       "      <td>[1, 1, 1, 2, 1, 1, 1, 1, 2, 2, 1, 1, 1, 1, 1, ...</td>\n",
       "      <td>[1, 1, 1, 2, 1, 1, 1, 1, 2, 2, 1, 1, 1, 1, 1, ...</td>\n",
       "      <td>0.23750</td>\n",
       "    </tr>\n",
       "  </tbody>\n",
       "</table>\n",
       "</div>"
      ],
      "text/plain": [
       "                                           Sentences  \\\n",
       "0  Dorothy lived in the midst of the great Kansas...   \n",
       "1  Their\\nhouse was small, for the lumber to buil...   \n",
       "2  There were four walls, a floor and a roof, whi...   \n",
       "3  Uncle Henry\\nand Aunt Em had a big bed in one ...   \n",
       "4  There was no garret at all, and no cellar--exc...   \n",
       "\n",
       "                                         wrd_lengths  char_total  \\\n",
       "0  [7, 5, 2, 3, 5, 2, 3, 5, 6, 8, 4, 5, 5, 3, 3, ...         103   \n",
       "1  [5, 5, 3, 5, 3, 3, 6, 2, 5, 2, 3, 2, 2, 7, 2, ...          69   \n",
       "2  [5, 4, 4, 5, 1, 5, 3, 1, 4, 5, 4, 3, 4, 3, 4, ...         144   \n",
       "3  [5, 5, 3, 4, 2, 3, 1, 3, 3, 2, 3, 6, 3, 7, 1, ...          75   \n",
       "4  [5, 3, 2, 6, 2, 3, 3, 2, 6, 6, 1, 5, 4, 3, 2, ...         178   \n",
       "\n",
       "                                    word_percent_arr  \\\n",
       "0  [0.0679611650485, 0.0485436893204, 0.019417475...   \n",
       "1  [0.0724637681159, 0.0724637681159, 0.043478260...   \n",
       "2  [0.0347222222222, 0.0277777777778, 0.027777777...   \n",
       "3  [0.0666666666667, 0.0666666666667, 0.04, 0.053...   \n",
       "4  [0.0280898876404, 0.0168539325843, 0.011235955...   \n",
       "\n",
       "                                           syl_count  \\\n",
       "0  [3, 1, 1, 1, 1, 1, 1, 2, 2, 2, 1, 1, 2, 1, 1, ...   \n",
       "1  [1, 1, 1, 1, 1, 1, 2, 1, 1, 1, 1, 1, 1, 2, 1, ...   \n",
       "2  [1, 1, 1, 1, 1, 1, 1, 1, 1, 1, 1, 1, 1, 1, 1, ...   \n",
       "3  [1, 2, 1, 1, 1, 1, 1, 1, 0, 1, 1, 2, 1, 3, 1, ...   \n",
       "4  [1, 1, 1, 2, 1, 1, 1, 1, 2, 2, 1, 1, 1, 1, 1, ...   \n",
       "\n",
       "                                       syl_count_arr  sentiment  \n",
       "0  [3, 1, 1, 1, 1, 1, 1, 2, 2, 2, 1, 1, 2, 1, 1, ...    0.80000  \n",
       "1  [1, 1, 1, 1, 1, 1, 2, 1, 1, 1, 1, 1, 1, 2, 1, ...    0.12500  \n",
       "2  [1, 1, 1, 1, 1, 1, 1, 1, 1, 1, 1, 1, 1, 1, 1, ...    0.00000  \n",
       "3  [1, 2, 1, 1, 1, 1, 1, 1, 0, 1, 1, 2, 1, 3, 1, ...   -0.09375  \n",
       "4  [1, 1, 1, 2, 1, 1, 1, 1, 2, 2, 1, 1, 1, 1, 1, ...    0.23750  "
      ]
     },
     "execution_count": 141,
     "metadata": {},
     "output_type": "execute_result"
    }
   ],
   "source": [
    "df_wizard.head()"
   ]
  },
  {
   "cell_type": "code",
   "execution_count": 142,
   "metadata": {
    "collapsed": false
   },
   "outputs": [
    {
     "data": {
      "text/html": [
       "<div>\n",
       "<table border=\"1\" class=\"dataframe\">\n",
       "  <thead>\n",
       "    <tr style=\"text-align: right;\">\n",
       "      <th></th>\n",
       "      <th>Sentences</th>\n",
       "      <th>wrd_lengths</th>\n",
       "      <th>char_total</th>\n",
       "      <th>word_percent_arr</th>\n",
       "      <th>syl_count</th>\n",
       "      <th>syl_count_arr</th>\n",
       "      <th>sentiment</th>\n",
       "    </tr>\n",
       "  </thead>\n",
       "  <tbody>\n",
       "    <tr>\n",
       "      <th>2211</th>\n",
       "      <td>\"Where in the world did you come from?\"</td>\n",
       "      <td>[5, 2, 3, 5, 3, 3, 4, 4]</td>\n",
       "      <td>29</td>\n",
       "      <td>[0.172413793103, 0.0689655172414, 0.1034482758...</td>\n",
       "      <td>[1, 1, 1, 1, 1, 1, 1, 1]</td>\n",
       "      <td>[1, 1, 1, 1, 1, 1, 1, 1]</td>\n",
       "      <td>0.000</td>\n",
       "    </tr>\n",
       "    <tr>\n",
       "      <th>2212</th>\n",
       "      <td>\"From the Land of Oz,\" said Dorothy gravely.</td>\n",
       "      <td>[4, 3, 4, 2, 2, 4, 7, 7]</td>\n",
       "      <td>33</td>\n",
       "      <td>[0.121212121212, 0.0909090909091, 0.1212121212...</td>\n",
       "      <td>[1, 1, 1, 1, 1, 1, 3, 3]</td>\n",
       "      <td>[1, 1, 1, 1, 1, 1, 3, 3]</td>\n",
       "      <td>0.000</td>\n",
       "    </tr>\n",
       "    <tr>\n",
       "      <th>2213</th>\n",
       "      <td>\"And here is Toto, too.</td>\n",
       "      <td>[3, 4, 2, 4, 3]</td>\n",
       "      <td>16</td>\n",
       "      <td>[0.1875, 0.25, 0.125, 0.25, 0.1875]</td>\n",
       "      <td>[1, 1, 1, 2, 1]</td>\n",
       "      <td>[1, 1, 1, 2, 1]</td>\n",
       "      <td>0.000</td>\n",
       "    </tr>\n",
       "    <tr>\n",
       "      <th>2214</th>\n",
       "      <td>And oh, Aunt Em!</td>\n",
       "      <td>[3, 2, 4, 2]</td>\n",
       "      <td>11</td>\n",
       "      <td>[0.272727272727, 0.181818181818, 0.36363636363...</td>\n",
       "      <td>[1, 1, 1, 1]</td>\n",
       "      <td>[1, 1, 1, 1]</td>\n",
       "      <td>0.000</td>\n",
       "    </tr>\n",
       "    <tr>\n",
       "      <th>2215</th>\n",
       "      <td>I'm so glad to be at home again!\"</td>\n",
       "      <td>[1, 2, 2, 4, 2, 2, 2, 4, 5]</td>\n",
       "      <td>24</td>\n",
       "      <td>[0.0416666666667, 0.0833333333333, 0.083333333...</td>\n",
       "      <td>[1, 0, 1, 1, 1, 1, 1, 1, 2]</td>\n",
       "      <td>[1, 0, 1, 1, 1, 1, 1, 1, 2]</td>\n",
       "      <td>0.625</td>\n",
       "    </tr>\n",
       "  </tbody>\n",
       "</table>\n",
       "</div>"
      ],
      "text/plain": [
       "                                         Sentences  \\\n",
       "2211       \"Where in the world did you come from?\"   \n",
       "2212  \"From the Land of Oz,\" said Dorothy gravely.   \n",
       "2213                       \"And here is Toto, too.   \n",
       "2214                              And oh, Aunt Em!   \n",
       "2215             I'm so glad to be at home again!\"   \n",
       "\n",
       "                      wrd_lengths  char_total  \\\n",
       "2211     [5, 2, 3, 5, 3, 3, 4, 4]          29   \n",
       "2212     [4, 3, 4, 2, 2, 4, 7, 7]          33   \n",
       "2213              [3, 4, 2, 4, 3]          16   \n",
       "2214                 [3, 2, 4, 2]          11   \n",
       "2215  [1, 2, 2, 4, 2, 2, 2, 4, 5]          24   \n",
       "\n",
       "                                       word_percent_arr  \\\n",
       "2211  [0.172413793103, 0.0689655172414, 0.1034482758...   \n",
       "2212  [0.121212121212, 0.0909090909091, 0.1212121212...   \n",
       "2213                [0.1875, 0.25, 0.125, 0.25, 0.1875]   \n",
       "2214  [0.272727272727, 0.181818181818, 0.36363636363...   \n",
       "2215  [0.0416666666667, 0.0833333333333, 0.083333333...   \n",
       "\n",
       "                        syl_count                syl_count_arr  sentiment  \n",
       "2211     [1, 1, 1, 1, 1, 1, 1, 1]     [1, 1, 1, 1, 1, 1, 1, 1]      0.000  \n",
       "2212     [1, 1, 1, 1, 1, 1, 3, 3]     [1, 1, 1, 1, 1, 1, 3, 3]      0.000  \n",
       "2213              [1, 1, 1, 2, 1]              [1, 1, 1, 2, 1]      0.000  \n",
       "2214                 [1, 1, 1, 1]                 [1, 1, 1, 1]      0.000  \n",
       "2215  [1, 0, 1, 1, 1, 1, 1, 1, 2]  [1, 0, 1, 1, 1, 1, 1, 1, 2]      0.625  "
      ]
     },
     "execution_count": 142,
     "metadata": {},
     "output_type": "execute_result"
    }
   ],
   "source": [
    "df_wizard.tail()"
   ]
  },
  {
   "cell_type": "code",
   "execution_count": 143,
   "metadata": {
    "collapsed": false
   },
   "outputs": [
    {
     "data": {
      "text/plain": [
       "[<matplotlib.lines.Line2D at 0x11d337410>]"
      ]
     },
     "execution_count": 143,
     "metadata": {},
     "output_type": "execute_result"
    },
    {
     "data": {
      "image/png": "[encoded data removed]",
      "text/plain": [
       "<matplotlib.figure.Figure at 0x11d19ea10>"
      ]
     },
     "metadata": {},
     "output_type": "display_data"
    }
   ],
   "source": [
    "plt.plot(df_wizard['sentiment'])"
   ]
  },
  {
   "cell_type": "code",
   "execution_count": 144,
   "metadata": {
    "collapsed": false
   },
   "outputs": [
    {
     "data": {
      "text/plain": [
       "<matplotlib.axes._subplots.AxesSubplot at 0x11c7bbed0>"
      ]
     },
     "execution_count": 144,
     "metadata": {},
     "output_type": "execute_result"
    },
    {
     "data": {
      "image/png": "[encoded data removed]",
      "text/plain": [
       "<matplotlib.figure.Figure at 0x11c27e210>"
      ]
     },
     "metadata": {},
     "output_type": "display_data"
    }
   ],
   "source": [
    "df_wizard['sentiment'].plot.hist()"
   ]
  },
  {
   "cell_type": "code",
   "execution_count": 145,
   "metadata": {
    "collapsed": false
   },
   "outputs": [
    {
     "data": {
      "text/html": [
       "<div>\n",
       "<table border=\"1\" class=\"dataframe\">\n",
       "  <thead>\n",
       "    <tr style=\"text-align: right;\">\n",
       "      <th></th>\n",
       "      <th>char_total</th>\n",
       "      <th>sentiment</th>\n",
       "    </tr>\n",
       "  </thead>\n",
       "  <tbody>\n",
       "    <tr>\n",
       "      <th>count</th>\n",
       "      <td>2216.000000</td>\n",
       "      <td>2216.000000</td>\n",
       "    </tr>\n",
       "    <tr>\n",
       "      <th>mean</th>\n",
       "      <td>70.790614</td>\n",
       "      <td>0.082382</td>\n",
       "    </tr>\n",
       "    <tr>\n",
       "      <th>std</th>\n",
       "      <td>46.465613</td>\n",
       "      <td>0.272632</td>\n",
       "    </tr>\n",
       "    <tr>\n",
       "      <th>min</th>\n",
       "      <td>2.000000</td>\n",
       "      <td>-1.000000</td>\n",
       "    </tr>\n",
       "    <tr>\n",
       "      <th>25%</th>\n",
       "      <td>34.000000</td>\n",
       "      <td>0.000000</td>\n",
       "    </tr>\n",
       "    <tr>\n",
       "      <th>50%</th>\n",
       "      <td>65.000000</td>\n",
       "      <td>0.000000</td>\n",
       "    </tr>\n",
       "    <tr>\n",
       "      <th>75%</th>\n",
       "      <td>100.000000</td>\n",
       "      <td>0.200000</td>\n",
       "    </tr>\n",
       "    <tr>\n",
       "      <th>max</th>\n",
       "      <td>403.000000</td>\n",
       "      <td>1.000000</td>\n",
       "    </tr>\n",
       "  </tbody>\n",
       "</table>\n",
       "</div>"
      ],
      "text/plain": [
       "        char_total    sentiment\n",
       "count  2216.000000  2216.000000\n",
       "mean     70.790614     0.082382\n",
       "std      46.465613     0.272632\n",
       "min       2.000000    -1.000000\n",
       "25%      34.000000     0.000000\n",
       "50%      65.000000     0.000000\n",
       "75%     100.000000     0.200000\n",
       "max     403.000000     1.000000"
      ]
     },
     "execution_count": 145,
     "metadata": {},
     "output_type": "execute_result"
    }
   ],
   "source": [
    "df_wizard.describe()"
   ]
  },
  {
   "cell_type": "code",
   "execution_count": 157,
   "metadata": {
    "collapsed": false
   },
   "outputs": [],
   "source": [
    "first_10 = df_wizard['sentiment'][:222].mean()"
   ]
  },
  {
   "cell_type": "code",
   "execution_count": 158,
   "metadata": {
    "collapsed": false
   },
   "outputs": [],
   "source": [
    "sec_10 = df_wizard['sentiment'][222:443].mean()"
   ]
  },
  {
   "cell_type": "code",
   "execution_count": 159,
   "metadata": {
    "collapsed": false
   },
   "outputs": [],
   "source": [
    "third_10 = df_wizard['sentiment'][443:665].mean()"
   ]
  },
  {
   "cell_type": "code",
   "execution_count": 160,
   "metadata": {
    "collapsed": false
   },
   "outputs": [],
   "source": [
    "fourth_10 = df_wizard['sentiment'][665:887].mean()"
   ]
  },
  {
   "cell_type": "code",
   "execution_count": 169,
   "metadata": {
    "collapsed": false
   },
   "outputs": [],
   "source": [
    "fifth_10 = df_wizard['sentiment'][887:1109].mean()"
   ]
  },
  {
   "cell_type": "code",
   "execution_count": 170,
   "metadata": {
    "collapsed": false
   },
   "outputs": [],
   "source": [
    "sixth_10 = df_wizard['sentiment'][1109:1331].mean()"
   ]
  },
  {
   "cell_type": "code",
   "execution_count": 171,
   "metadata": {
    "collapsed": false
   },
   "outputs": [],
   "source": [
    "seventh_10 = df_wizard['sentiment'][1331:1553].mean()"
   ]
  },
  {
   "cell_type": "code",
   "execution_count": 172,
   "metadata": {
    "collapsed": false
   },
   "outputs": [],
   "source": [
    "eigth_10 = df_wizard['sentiment'][1553:1775].mean()"
   ]
  },
  {
   "cell_type": "code",
   "execution_count": 173,
   "metadata": {
    "collapsed": false
   },
   "outputs": [],
   "source": [
    "ninth_10 = df_wizard['sentiment'][1775:1997].mean()"
   ]
  },
  {
   "cell_type": "code",
   "execution_count": 174,
   "metadata": {
    "collapsed": false
   },
   "outputs": [],
   "source": [
    "tenth_10 = df_wizard['sentiment'][1997:2215].mean()"
   ]
  },
  {
   "cell_type": "code",
   "execution_count": 175,
   "metadata": {
    "collapsed": false
   },
   "outputs": [],
   "source": [
    "df2 = pd.Series([first_10, sec_10, third_10, fourth_10, fifth_10, sixth_10, seventh_10, eigth_10, ninth_10, tenth_10])"
   ]
  },
  {
   "cell_type": "code",
   "execution_count": null,
   "metadata": {
    "collapsed": true
   },
   "outputs": [],
   "source": [
    "s = pd.Series([1,3,5,np.nan,6,8])"
   ]
  },
  {
   "cell_type": "code",
   "execution_count": 205,
   "metadata": {
    "collapsed": false
   },
   "outputs": [
    {
     "name": "stdout",
     "output_type": "stream",
     "text": [
      "221\n"
     ]
    }
   ],
   "source": [
    "p = len(df_wizard) * .10 \n",
    "p = int(p)\n",
    "print p"
   ]
  },
  {
   "cell_type": "code",
   "execution_count": 176,
   "metadata": {
    "collapsed": false
   },
   "outputs": [
    {
     "data": {
      "text/plain": [
       "<matplotlib.axes._subplots.AxesSubplot at 0x11daa4310>"
      ]
     },
     "execution_count": 176,
     "metadata": {},
     "output_type": "execute_result"
    },
    {
     "data": {
      "image/png": "[encoded data removed]",
      "text/plain": [
       "<matplotlib.figure.Figure at 0x11da7ab90>"
      ]
     },
     "metadata": {},
     "output_type": "display_data"
    }
   ],
   "source": [
    "df2.plot.bar()"
   ]
  },
  {
   "cell_type": "markdown",
   "metadata": {},
   "source": [
    "A function to put the above panda series into a list, transforming it to an array and then displaying it in a bar graph. "
   ]
  },
  {
   "cell_type": "code",
   "execution_count": 259,
   "metadata": {
    "collapsed": false
   },
   "outputs": [
    {
     "name": "stdout",
     "output_type": "stream",
     "text": [
      "0\n",
      "221\n",
      "0.0682012044328\n",
      "221\n",
      "442\n",
      "0.0754240907513\n",
      "442\n",
      "663\n",
      "0.0539718164461\n",
      "663\n",
      "884\n",
      "0.0692632728111\n",
      "884\n",
      "1105\n",
      "0.112449803737\n",
      "1105\n",
      "1326\n",
      "0.0350032198194\n",
      "1326\n",
      "1547\n",
      "0.122074220714\n",
      "1547\n",
      "1768\n",
      "0.0672654782581\n",
      "1768\n",
      "1989\n",
      "0.103263426388\n",
      "1989\n",
      "2210\n",
      "0.117164406264\n"
     ]
    }
   ],
   "source": [
    "ten_segments = []\n",
    "lng = len(df_wizard) \n",
    "n = 0\n",
    "t = p\n",
    "for x in range(0 , 10):\n",
    "    s = df_wizard['sentiment'][n:t].mean()\n",
    "    print n\n",
    "    print t\n",
    "    print s\n",
    "    n = n + p\n",
    "    t = t + p\n",
    "    ten_segments.append(s)\n",
    "        "
   ]
  },
  {
   "cell_type": "code",
   "execution_count": 256,
   "metadata": {
    "collapsed": false
   },
   "outputs": [
    {
     "data": {
      "text/plain": [
       "[0.06820120443282207,\n",
       " 0.07542409075129664,\n",
       " 0.05397181644608114,\n",
       " 0.06926327281106692,\n",
       " 0.11244980373656849,\n",
       " 0.0350032198193963,\n",
       " 0.12207422071392657,\n",
       " 0.06726547825812532,\n",
       " 0.10326342638842632,\n",
       " 0.11716440626367097]"
      ]
     },
     "execution_count": 256,
     "metadata": {},
     "output_type": "execute_result"
    }
   ],
   "source": [
    "ten_segments"
   ]
  },
  {
   "cell_type": "code",
   "execution_count": 243,
   "metadata": {
    "collapsed": false
   },
   "outputs": [
    {
     "data": {
      "text/plain": [
       "2216"
      ]
     },
     "execution_count": 243,
     "metadata": {},
     "output_type": "execute_result"
    }
   ],
   "source": [
    "len(df_wizard)\n"
   ]
  },
  {
   "cell_type": "code",
   "execution_count": 257,
   "metadata": {
    "collapsed": false
   },
   "outputs": [
    {
     "name": "stdout",
     "output_type": "stream",
     "text": [
      "[ 0.0682012   0.07542409  0.05397182  0.06926327  0.1124498   0.03500322\n",
      "  0.12207422  0.06726548  0.10326343  0.11716441]\n"
     ]
    }
   ],
   "source": [
    "n = np.array(n)\n",
    "ten_segments = np.array(ten_segments)\n",
    "print ten_segments"
   ]
  },
  {
   "cell_type": "code",
   "execution_count": 258,
   "metadata": {
    "collapsed": false
   },
   "outputs": [
    {
     "data": {
      "text/plain": [
       "<Container object of 10 artists>"
      ]
     },
     "execution_count": 258,
     "metadata": {},
     "output_type": "execute_result"
    },
    {
     "data": {
      "image/png": "[encoded data removed]",
      "text/plain": [
       "<matplotlib.figure.Figure at 0x11fc267d0>"
      ]
     },
     "metadata": {},
     "output_type": "display_data"
    }
   ],
   "source": [
    "n = len(ten_segments)\n",
    "x = range(n)\n",
    "\n",
    "plt.bar(x , ten_segments)"
   ]
  },
  {
   "cell_type": "markdown",
   "metadata": {},
   "source": [
    "The above graph is interesting becuase in Michael Hauge's \"Six Stage Plot Structure\" 50% of the way through is the point of no return. "
   ]
  },
  {
   "cell_type": "code",
   "execution_count": 264,
   "metadata": {
    "collapsed": false
   },
   "outputs": [
    {
     "name": "stdout",
     "output_type": "stream",
     "text": [
      "110\n",
      "0.0682012044328\n",
      "0\n",
      "221\n",
      "0.087884520436\n",
      "110\n",
      "331\n",
      "0.0745191133757\n",
      "220\n",
      "441\n",
      "0.0591516660083\n",
      "330\n",
      "551\n",
      "0.0586475328865\n",
      "440\n",
      "661\n",
      "0.0600564174388\n",
      "550\n",
      "771\n",
      "0.0699608595381\n",
      "660\n",
      "881\n",
      "0.101817344556\n",
      "770\n",
      "991\n",
      "0.1100428153\n",
      "880\n",
      "1101\n",
      "0.0664084376952\n",
      "990\n",
      "1211\n",
      "0.0401062866872\n",
      "1100\n",
      "1321\n",
      "0.0671021530213\n",
      "1210\n",
      "1431\n",
      "0.123358292035\n",
      "1320\n",
      "1541\n",
      "0.0775988377091\n",
      "1430\n",
      "1651\n",
      "0.0605515426839\n",
      "1540\n",
      "1761\n",
      "0.0995763373337\n",
      "1650\n",
      "1871\n",
      "0.108638510183\n",
      "1760\n",
      "1981\n",
      "0.0886972293774\n",
      "1870\n",
      "2091\n",
      "0.111508231012\n",
      "1980\n",
      "2201\n",
      "0.167270274552\n",
      "2090\n",
      "2311\n"
     ]
    }
   ],
   "source": [
    "p_20 = len(df_wizard) * .05 \n",
    "p_20 = int(p_20)\n",
    "print p_20\n",
    "twenty_segments = []\n",
    "n_20 = 0\n",
    "t_20 = p\n",
    "for x in range(0 , 20):\n",
    "    s_20 = df_wizard['sentiment'][n_20:t_20].mean()\n",
    "    print s_20\n",
    "    print n_20\n",
    "    print t_20\n",
    "    n_20 = n_20 + p_20\n",
    "    t_20 = t_20 + p_20\n",
    "    twenty_segments.append(s_20)        "
   ]
  },
  {
   "cell_type": "code",
   "execution_count": 266,
   "metadata": {
    "collapsed": false
   },
   "outputs": [
    {
     "name": "stdout",
     "output_type": "stream",
     "text": [
      "[ 0.0682012   0.08788452  0.07451911  0.05915167  0.05864753  0.06005642\n",
      "  0.06996086  0.10181734  0.11004282  0.06640844  0.04010629  0.06710215\n",
      "  0.12335829  0.07759884  0.06055154  0.09957634  0.10863851  0.08869723\n",
      "  0.11150823  0.16727027]\n"
     ]
    }
   ],
   "source": [
    "twenty_segments = np.array(twenty_segments)\n",
    "print twenty_segments"
   ]
  },
  {
   "cell_type": "code",
   "execution_count": 267,
   "metadata": {
    "collapsed": false
   },
   "outputs": [
    {
     "data": {
      "text/plain": [
       "<Container object of 20 artists>"
      ]
     },
     "execution_count": 267,
     "metadata": {},
     "output_type": "execute_result"
    },
    {
     "data": {
      "image/png": "[encoded data removed]",
      "text/plain": [
       "<matplotlib.figure.Figure at 0x12059f850>"
      ]
     },
     "metadata": {},
     "output_type": "display_data"
    }
   ],
   "source": [
    "n = len(twenty_segments)\n",
    "x = range(n)\n",
    "\n",
    "plt.bar(x , twenty_segments)"
   ]
  },
  {
   "cell_type": "code",
   "execution_count": 270,
   "metadata": {
    "collapsed": false
   },
   "outputs": [
    {
     "name": "stdout",
     "output_type": "stream",
     "text": [
      "Of course this politeness was wasted on the\n",
      "Scarecrow; for when he found himself alone in his room he stood\n",
      "stupidly in one spot, just within the doorway, to wait till morning.\n",
      "It would not rest him to lie down, and he could not close his eyes; so\n",
      "he remained all night staring at a little spider which was weaving its\n",
      "web in a corner of the room, just as if it were not one of the most\n",
      "wonderful rooms in the world.\n",
      "The Tin Woodman lay down on his bed from\n",
      "force of habit, for he remembered when he was made of flesh; but not\n",
      "being able to sleep, he passed the night moving his joints up and down\n",
      "to make sure they kept in good working order.\n",
      "The Lion would have\n",
      "preferred a bed of dried leaves in the forest, and did not like being\n",
      "shut up in a room; but he had too much sense to let this worry him, so\n",
      "he sprang upon the bed and rolled himself up like a cat and purred\n",
      "himself asleep in a minute.\n",
      "The next morning, after breakfast, the green maiden came to fetch\n",
      "Dorothy, and she dressed her in one of the prettiest gowns, made of\n",
      "green brocaded satin.\n",
      "Dorothy put on a green silk apron and tied a\n",
      "green ribbon around Toto's neck, and they started for the Throne Room\n",
      "of the Great Oz.\n",
      "First they came to a great hall in which were many ladies and gentlemen\n",
      "of the court, all dressed in rich costumes.\n",
      "These people had nothing\n",
      "to do but talk to each other, but they always came to wait outside the\n",
      "Throne Room every morning, although they were never permitted to see\n",
      "Oz.\n",
      "As Dorothy entered they looked at her curiously, and one of them\n",
      "whispered:\n",
      "\n",
      "\"Are you really going to look upon the face of Oz the Terrible?\"\n",
      "\"Of course,\" answered the girl, \"if he will see me.\"\n",
      "\"Oh, he will see you,\" said the soldier who had taken her message to\n",
      "the Wizard, \"although he does not like to have people ask to see him.\n",
      "Indeed, at first he was angry and said I should send you back where you\n",
      "came from.\n",
      "Then he asked me what you looked like, and when I mentioned\n",
      "your silver shoes he was very much interested.\n",
      "At last I told him\n",
      "about the mark upon your forehead, and he decided he would admit you to\n",
      "his presence.\"\n",
      "Just then a bell rang, and the green girl said to Dorothy, \"That is the\n",
      "signal.\n",
      "You must go into the Throne Room alone.\"\n",
      "She opened a little door and Dorothy walked boldly through and found\n",
      "herself in a wonderful place.\n",
      "It was a big, round room with a high\n",
      "arched roof, and the walls and ceiling and floor were covered with\n",
      "large emeralds set closely together.\n",
      "In the center of the roof was a\n",
      "great light, as bright as the sun, which made the emeralds sparkle in a\n",
      "wonderful manner.\n",
      "But what interested Dorothy most was the big throne of green marble\n",
      "that stood in the middle of the room.\n",
      "It was shaped like a chair and\n",
      "sparkled with gems, as did everything else.\n",
      "In the center of the chair\n",
      "was an enormous Head, without a body to support it or any arms or legs\n",
      "whatever.\n",
      "There was no hair upon this head, but it had eyes and a nose\n",
      "and mouth, and was much bigger than the head of the biggest giant.\n",
      "As Dorothy gazed upon this in wonder and fear, the eyes turned slowly\n",
      "and looked at her sharply and steadily.\n",
      "Then the mouth moved, and\n",
      "Dorothy heard a voice say:\n",
      "\n",
      "\"I am Oz, the Great and Terrible.\n",
      "Who are you, and why do you seek me?\"\n",
      "It was not such an awful voice as she had expected to come from the big\n",
      "Head; so she took courage and answered:\n",
      "\n",
      "\"I am Dorothy, the Small and Meek.\n",
      "I have come to you for help.\"\n",
      "The eyes looked at her thoughtfully for a full minute.\n",
      "Then said the\n",
      "voice:\n",
      "\n",
      "\"Where did you get the silver shoes?\"\n",
      "\"I got them from the Wicked Witch of the East, when my house fell on\n",
      "her and killed her,\" she replied.\n",
      "\"Where did you get the mark upon your forehead?\"\n",
      "continued the voice.\n",
      "\"That is where the Good Witch of the North kissed me when she bade me\n",
      "good-bye and sent me to you,\" said the girl.\n",
      "Again the eyes looked at her sharply, and they saw she was telling the\n",
      "truth.\n",
      "Then Oz asked, \"What do you wish me to do?\"\n",
      "\"Send me back to Kansas, where my Aunt Em and Uncle Henry are,\" she\n",
      "answered earnestly.\n",
      "\"I don't like your country, although it is so\n",
      "beautiful.\n",
      "And I am sure Aunt Em will be dreadfully worried over my\n",
      "being away so long.\"\n",
      "The eyes winked three times, and then they turned up to the ceiling and\n",
      "down to the floor and rolled around so queerly that they seemed to see\n",
      "every part of the room.\n",
      "And at last they looked at Dorothy again.\n",
      "\"Why should I do this for you?\"\n",
      "asked Oz.\n",
      "\"Because you are strong and I am weak; because you are a Great Wizard\n",
      "and I am only a little girl.\"\n",
      "\"But you were strong enough to kill the Wicked Witch of the East,\" said\n",
      "Oz.\n",
      "\"That just happened,\" returned Dorothy simply; \"I could not help it.\"\n",
      "\"Well,\" said the Head, \"I will give you my answer.\n",
      "You have no right\n",
      "to expect me to send you back to Kansas unless you do something for me\n",
      "in return.\n",
      "In this country everyone must pay for everything he gets.\n",
      "If you wish me to use my magic power to send you home again you must do\n",
      "something for me first.\n",
      "Help me and I will help you.\"\n",
      "\"What must I do?\"\n",
      "asked the girl.\n",
      "\"Kill the Wicked Witch of the West,\" answered Oz.\n",
      "\"But I cannot!\"\n",
      "exclaimed Dorothy, greatly surprised.\n",
      "\"You killed the Witch of the East and you wear the silver shoes, which\n",
      "bear a powerful charm.\n",
      "There is now but one Wicked Witch left in all\n",
      "this land, and when you can tell me she is dead I will send you back to\n",
      "Kansas--but not before.\"\n",
      "The little girl began to weep, she was so much disappointed; and the\n",
      "eyes winked again and looked upon her anxiously, as if the Great Oz\n",
      "felt that she could help him if she would.\n",
      "\"I never killed anything, willingly,\" she sobbed.\n",
      "\"Even if I wanted\n",
      "to, how could I kill the Wicked Witch?\n",
      "If you, who are Great and\n",
      "Terrible, cannot kill her yourself, how do you expect me to do it?\"\n",
      "\"I do not know,\" said the Head; \"but that is my answer, and until the\n",
      "Wicked Witch dies you will not see your uncle and aunt again.\n",
      "Remember\n",
      "that the Witch is Wicked--tremendously Wicked--and ought to be killed.\n",
      "Now go, and do not ask to see me again until you have done your task.\"\n",
      "Sorrowfully Dorothy left the Throne Room and went back where the Lion\n",
      "and the Scarecrow and the Tin Woodman were waiting to hear what Oz had\n",
      "said to her.\n",
      "\"There is no hope for me,\" she said sadly, \"for Oz will\n",
      "not send me home until I have killed the Wicked Witch of the West; and\n",
      "that I can never do.\"\n",
      "Her friends were sorry, but could do nothing to help her; so Dorothy\n",
      "went to her own room and lay down on the bed and cried herself to sleep.\n",
      "The next morning the soldier with the green whiskers came to the\n",
      "Scarecrow and said:\n",
      "\n",
      "\"Come with me, for Oz has sent for you.\"\n",
      "So the Scarecrow followed him and was admitted into the great Throne\n",
      "Room, where he saw, sitting in the emerald throne, a most lovely Lady.\n",
      "She was dressed in green silk gauze and wore upon her flowing green\n",
      "locks a crown of jewels.\n",
      "Growing from her shoulders were wings,\n",
      "gorgeous in color and so light that they fluttered if the slightest\n",
      "breath of air reached them.\n",
      "When the Scarecrow had bowed, as prettily as his straw stuffing would\n",
      "let him, before this beautiful creature, she looked upon him sweetly,\n",
      "and said:\n",
      "\n",
      "\"I am Oz, the Great and Terrible.\n",
      "Who are you, and why do you seek me?\"\n",
      "Now the Scarecrow, who had expected to see the great Head Dorothy had\n",
      "told him of, was much astonished; but he answered her bravely.\n",
      "\"I am only a Scarecrow, stuffed with straw.\n",
      "Therefore I have no\n",
      "brains, and I come to you praying that you will put brains in my head\n",
      "instead of straw, so that I may become as much a man as any other in\n",
      "your dominions.\"\n",
      "\"Why should I do this for you?\"\n",
      "asked the Lady.\n",
      "\"Because you are wise and powerful, and no one else can help me,\"\n",
      "answered the Scarecrow.\n",
      "\"I never grant favors without some return,\" said Oz; \"but this much I\n",
      "will promise.\n",
      "If you will kill for me the Wicked Witch of the West, I\n",
      "will bestow upon you a great many brains, and such good brains that you\n",
      "will be the wisest man in all the Land of Oz.\"\n",
      "\"I thought you asked Dorothy to kill the Witch,\" said the Scarecrow, in\n",
      "surprise.\n",
      "\"So I did.\n",
      "I don't care who kills her.\n",
      "But until she is dead I will\n",
      "not grant your wish.\n",
      "Now go, and do not seek me again until you have\n",
      "earned the brains you so greatly desire.\"\n",
      "The Scarecrow went sorrowfully back to his friends and told them what\n",
      "Oz had said; and Dorothy was surprised to find that the Great Wizard\n",
      "was not a Head, as she had seen him, but a lovely Lady.\n",
      "\"All the same,\" said the Scarecrow, \"she needs a heart as much as the\n",
      "Tin Woodman.\"\n",
      "On the next morning the soldier with the green whiskers came to the Tin\n",
      "Woodman and said:\n",
      "\n",
      "\"Oz has sent for you.\n",
      "Follow me.\"\n",
      "So the Tin Woodman followed him and came to the great Throne Room.\n",
      "He\n",
      "did not know whether he would find Oz a lovely Lady or a Head, but he\n",
      "hoped it would be the lovely Lady.\n",
      "\"For,\" he said to himself, \"if it\n",
      "is the head, I am sure I shall not be given a heart, since a head has\n",
      "no heart of its own and therefore cannot feel for me.\n",
      "But if it is the\n",
      "lovely Lady I shall beg hard for a heart, for all ladies are themselves\n",
      "said to be kindly hearted.\"\n",
      "But when the Woodman entered the great Throne Room he saw neither the\n",
      "Head nor the Lady, for Oz had taken the shape of a most terrible Beast.\n",
      "It was nearly as big as an elephant, and the green throne seemed hardly\n",
      "strong enough to hold its weight.\n",
      "The Beast had a head like that of a\n",
      "rhinoceros, only there were five eyes in its face.\n",
      "There were five\n",
      "long arms growing out of its body, and it also had five long, slim\n",
      "legs.\n",
      "Thick, woolly hair covered every part of it, and a more\n",
      "dreadful-looking monster could not be imagined.\n",
      "It was fortunate the\n",
      "Tin Woodman had no heart at that moment, for it would have beat loud\n",
      "and fast from terror.\n"
     ]
    }
   ],
   "source": [
    "for x in df_wizard['Sentences'][1007:1108]:\n",
    "    print x"
   ]
  },
  {
   "cell_type": "markdown",
   "metadata": {},
   "source": [
    "The three meet the wizard of oz and are told that they have to kill the wicked witch to get what they desire.\n",
    "\"There is no hope for me,\" she said sadly, \"for Oz will\n",
    "not send me home until I have killed the Wicked Witch of the West; and\n",
    "that I can never do.\""
   ]
  },
  {
   "cell_type": "code",
   "execution_count": 271,
   "metadata": {
    "collapsed": false
   },
   "outputs": [
    {
     "name": "stdout",
     "output_type": "stream",
     "text": [
      "Dorothy was once more filled with the hope of\n",
      "getting home, and the Scarecrow and the Tin Woodman were glad to be of\n",
      "use to her.\n",
      "As for the Lion, he sniffed the fresh air with delight and\n",
      "whisked his tail from side to side in pure joy at being in the country\n",
      "again, while Toto ran around them and chased the moths and butterflies,\n",
      "barking merrily all the time.\n",
      "\"City life does not agree with me at all,\" remarked the Lion, as they\n",
      "walked along at a brisk pace.\n",
      "\"I have lost much flesh since I lived\n",
      "there, and now I am anxious for a chance to show the other beasts how\n",
      "courageous I have grown.\"\n",
      "They now turned and took a last look at the Emerald City.\n",
      "All they\n",
      "could see was a mass of towers and steeples behind the green walls, and\n",
      "high up above everything the spires and dome of the Palace of Oz.\n",
      "\"Oz was not such a bad Wizard, after all,\" said the Tin Woodman, as he\n",
      "felt his heart rattling around in his breast.\n",
      "\"He knew how to give me brains, and very good brains, too,\" said the\n",
      "Scarecrow.\n",
      "\"If Oz had taken a dose of the same courage he gave me,\" added the\n",
      "Lion, \"he would have been a brave man.\"\n",
      "Dorothy said nothing.\n",
      "Oz had not kept the promise he made her, but he\n",
      "had done his best, so she forgave him.\n",
      "As he said, he was a good man,\n",
      "even if he was a bad Wizard.\n",
      "The first day's journey was through the green fields and bright flowers\n",
      "that stretched about the Emerald City on every side.\n",
      "They slept that\n",
      "night on the grass, with nothing but the stars over them; and they\n",
      "rested very well indeed.\n",
      "In the morning they traveled on until they came to a thick wood.\n",
      "There\n",
      "was no way of going around it, for it seemed to extend to the right and\n",
      "left as far as they could see; and, besides, they did not dare change\n",
      "the direction of their journey for fear of getting lost.\n",
      "So they\n",
      "looked for the place where it would be easiest to get into the forest.\n",
      "The Scarecrow, who was in the lead, finally discovered a big tree with\n",
      "such wide-spreading branches that there was room for the party to pass\n",
      "underneath.\n",
      "So he walked forward to the tree, but just as he came\n",
      "under the first branches they bent down and twined around him, and the\n",
      "next minute he was raised from the ground and flung headlong among his\n",
      "fellow travelers.\n",
      "This did not hurt the Scarecrow, but it surprised him, and he looked\n",
      "rather dizzy when Dorothy picked him up.\n",
      "\"Here is another space between the trees,\" called the Lion.\n",
      "\"Let me try it first,\" said the Scarecrow, \"for it doesn't hurt me to\n",
      "get thrown about.\"\n",
      "He walked up to another tree, as he spoke, but its\n",
      "branches immediately seized him and tossed him back again.\n",
      "\"This is strange,\" exclaimed Dorothy.\n",
      "\"What shall we do?\"\n",
      "\"The trees seem to have made up their minds to fight us, and stop our\n",
      "journey,\" remarked the Lion.\n",
      "\"I believe I will try it myself,\" said the Woodman, and shouldering his\n",
      "axe, he marched up to the first tree that had handled the Scarecrow so\n",
      "roughly.\n",
      "When a big branch bent down to seize him the Woodman chopped\n",
      "at it so fiercely that he cut it in two.\n",
      "At once the tree began\n",
      "shaking all its branches as if in pain, and the Tin Woodman passed\n",
      "safely under it.\n",
      "\"Come on!\"\n",
      "he shouted to the others.\n",
      "\"Be quick!\"\n",
      "They all ran forward\n",
      "and passed under the tree without injury, except Toto, who was caught\n",
      "by a small branch and shaken until he howled.\n",
      "But the Woodman promptly\n",
      "chopped off the branch and set the little dog free.\n",
      "The other trees of the forest did nothing to keep them back, so they\n",
      "made up their minds that only the first row of trees could bend down\n",
      "their branches, and that probably these were the policemen of the\n",
      "forest, and given this wonderful power in order to keep strangers out\n",
      "of it.\n",
      "The four travelers walked with ease through the trees until they came\n",
      "to the farther edge of the wood.\n",
      "Then, to their surprise, they found\n",
      "before them a high wall which seemed to be made of white china.\n",
      "It was\n",
      "smooth, like the surface of a dish, and higher than their heads.\n",
      "\"What shall we do now?\"\n",
      "asked Dorothy.\n",
      "\"I will make a ladder,\" said the Tin Woodman, \"for we certainly must\n",
      "climb over the wall.\"\n",
      "While the Woodman was making a ladder from wood which he found in the\n",
      "forest Dorothy lay down and slept, for she was tired by the long walk.\n",
      "The Lion also curled himself up to sleep and Toto lay beside him.\n",
      "The Scarecrow watched the Woodman while he worked, and said to him:\n",
      "\n",
      "\"I cannot think why this wall is here, nor what it is made of.\"\n",
      "\"Rest your brains and do not worry about the wall,\" replied the\n",
      "Woodman.\n",
      "\"When we have climbed over it, we shall know what is on the\n",
      "other side.\"\n",
      "After a time the ladder was finished.\n",
      "It looked clumsy, but the Tin\n",
      "Woodman was sure it was strong and would answer their purpose.\n",
      "The\n",
      "Scarecrow waked Dorothy and the Lion and Toto, and told them that the\n",
      "ladder was ready.\n",
      "The Scarecrow climbed up the ladder first, but he\n",
      "was so awkward that Dorothy had to follow close behind and keep him\n",
      "from falling off.\n",
      "When he got his head over the top of the wall the\n",
      "Scarecrow said, \"Oh, my!\"\n",
      "\"Go on,\" exclaimed Dorothy.\n",
      "So the Scarecrow climbed farther up and sat down on the top of the\n",
      "wall, and Dorothy put her head over and cried, \"Oh, my!\"\n",
      "just as the\n",
      "Scarecrow had done.\n",
      "Then Toto came up, and immediately began to bark, but Dorothy made him\n",
      "be still.\n",
      "The Lion climbed the ladder next, and the Tin Woodman came last; but\n",
      "both of them cried, \"Oh, my!\"\n",
      "as soon as they looked over the wall.\n",
      "When they were all sitting in a row on the top of the wall, they looked\n",
      "down and saw a strange sight.\n",
      "Before them was a great stretch of country having a floor as smooth and\n",
      "shining and white as the bottom of a big platter.\n",
      "Scattered around\n",
      "were many houses made entirely of china and painted in the brightest\n",
      "colors.\n",
      "These houses were quite small, the biggest of them reaching\n",
      "only as high as Dorothy's waist.\n",
      "There were also pretty little barns,\n",
      "with china fences around them; and many cows and sheep and horses and\n",
      "pigs and chickens, all made of china, were standing about in groups.\n",
      "But the strangest of all were the people who lived in this queer\n",
      "country.\n",
      "There were milkmaids and shepherdesses, with brightly colored\n",
      "bodices and golden spots all over their gowns; and princesses with most\n",
      "gorgeous frocks of silver and gold and purple; and shepherds dressed in\n",
      "knee breeches with pink and yellow and blue stripes down them, and\n",
      "golden buckles on their shoes; and princes with jeweled crowns upon\n",
      "their heads, wearing ermine robes and satin doublets; and funny clowns\n",
      "in ruffled gowns, with round red spots upon their cheeks and tall,\n",
      "pointed caps.\n",
      "And, strangest of all, these people were all made of\n",
      "china, even to their clothes, and were so small that the tallest of\n",
      "them was no higher than Dorothy's knee.\n",
      "No one did so much as look at the travelers at first, except one little\n",
      "purple china dog with an extra-large head, which came to the wall and\n",
      "barked at them in a tiny voice, afterwards running away again.\n",
      "\"How shall we get down?\"\n",
      "asked Dorothy.\n",
      "They found the ladder so heavy they could not pull it up, so the\n",
      "Scarecrow fell off the wall and the others jumped down upon him so that\n",
      "the hard floor would not hurt their feet.\n",
      "Of course they took pains\n",
      "not to light on his head and get the pins in their feet.\n",
      "When all were\n",
      "safely down they picked up the Scarecrow, whose body was quite\n",
      "flattened out, and patted his straw into shape again.\n",
      "\"We must cross this strange place in order to get to the other side,\"\n",
      "said Dorothy, \"for it would be unwise for us to go any other way except\n",
      "due South.\"\n",
      "They began walking through the country of the china people, and the\n",
      "first thing they came to was a china milkmaid milking a china cow.\n",
      "As\n",
      "they drew near, the cow suddenly gave a kick and kicked over the stool,\n",
      "the pail, and even the milkmaid herself, and all fell on the china\n",
      "ground with a great clatter.\n",
      "Dorothy was shocked to see that the cow had broken her leg off, and\n",
      "that the pail was lying in several small pieces, while the poor\n",
      "milkmaid had a nick in her left elbow.\n",
      "\"There!\"\n",
      "cried the milkmaid angrily.\n",
      "\"See what you have done!\n",
      "My cow\n",
      "has broken her leg, and I must take her to the mender's shop and have\n",
      "it glued on again.\n",
      "What do you mean by coming here and frightening my\n",
      "cow?\"\n",
      "\"I'm very sorry,\" returned Dorothy.\n",
      "\"Please forgive us.\"\n",
      "But the pretty milkmaid was much too vexed to make any answer.\n",
      "She\n",
      "picked up the leg sulkily and led her cow away, the poor animal limping\n",
      "on three legs.\n",
      "As she left them the milkmaid cast many reproachful\n",
      "glances over her shoulder at the clumsy strangers, holding her nicked\n",
      "elbow close to her side.\n",
      "Dorothy was quite grieved at this mishap.\n",
      "\"We must be very careful here,\" said the kind-hearted Woodman, \"or we\n",
      "may hurt these pretty little people so they will never get over it.\"\n",
      "A little farther on Dorothy met a most beautifully dressed young\n",
      "Princess, who stopped short as she saw the strangers and started to run\n",
      "away.\n",
      "Dorothy wanted to see more of the Princess, so she ran after her.\n",
      "But\n",
      "the china girl cried out:\n",
      "\n",
      "\"Don't chase me!\n",
      "Don't chase me!\"\n",
      "She had such a frightened little voice that Dorothy stopped and said,\n",
      "\"Why not?\"\n",
      "\"Because,\" answered the Princess, also stopping, a safe distance away,\n",
      "\"if I run I may fall down and break myself.\"\n",
      "\"But could you not be mended?\"\n",
      "asked the girl.\n",
      "\"Oh, yes; but one is never so pretty after being mended, you know,\"\n",
      "replied the Princess.\n",
      "\"I suppose not,\" said Dorothy.\n",
      "\"Now there is Mr. Joker, one of our clowns,\" continued the china lady,\n",
      "\"who is always trying to stand upon his head.\n",
      "He has broken himself so\n",
      "often that he is mended in a hundred places, and doesn't look at all\n",
      "pretty.\n",
      "Here he comes now, so you can see for yourself.\"\n",
      "Indeed, a jolly little clown came walking toward them, and Dorothy\n",
      "could see that in spite of his pretty clothes of red and yellow and\n",
      "green he was completely covered with cracks, running every which way\n",
      "and showing plainly that he had been mended in many places.\n",
      "The Clown put his hands in his pockets, and after puffing out his\n",
      "cheeks and nodding his head at them saucily, he said:\n",
      "\n",
      "  \"My lady fair,\n",
      "     Why do you stare\n",
      "   At poor old Mr. Joker?\n",
      "You're quite as stiff\n",
      "   And prim as if\n",
      "     You'd eaten up a poker!\"\n",
      "\"Be quiet, sir!\"\n",
      "said the Princess.\n",
      "\"Can't you see these are\n",
      "strangers, and should be treated with respect?\"\n",
      "\"Well, that's respect, I expect,\" declared the Clown, and immediately\n",
      "stood upon his head.\n",
      "\"Don't mind Mr. Joker,\" said the Princess to Dorothy.\n",
      "\"He is\n",
      "considerably cracked in his head, and that makes him foolish.\"\n",
      "\"Oh, I don't mind him a bit,\" said Dorothy.\n",
      "\"But you are so\n",
      "beautiful,\" she continued, \"that I am sure I could love you dearly.\n",
      "Won't you let me carry you back to Kansas, and stand you on Aunt Em's\n",
      "mantel?\n",
      "I could carry you in my basket.\"\n",
      "\"That would make me very unhappy,\" answered the china Princess.\n",
      "\"You\n",
      "see, here in our country we live contentedly, and can talk and move\n",
      "around as we please.\n",
      "But whenever any of us are taken away our joints\n",
      "at once stiffen, and we can only stand straight and look pretty.\n",
      "Of\n",
      "course that is all that is expected of us when we are on mantels and\n",
      "cabinets and drawing-room tables, but our lives are much pleasanter\n",
      "here in our own country.\"\n",
      "\"I would not make you unhappy for all the world!\"\n",
      "exclaimed Dorothy.\n",
      "\"So I'll just say good-bye.\"\n",
      "\"Good-bye,\" replied the Princess.\n",
      "They walked carefully through the china country.\n",
      "The little animals\n",
      "and all the people scampered out of their way, fearing the strangers\n",
      "would break them, and after an hour or so the travelers reached the\n",
      "other side of the country and came to another china wall.\n",
      "It was not so high as the first, however, and by standing upon the\n",
      "Lion's back they all managed to scramble to the top.\n",
      "Then the Lion\n",
      "gathered his legs under him and jumped on the wall; but just as he\n",
      "jumped, he upset a china church with his tail and smashed it all to\n",
      "pieces.\n",
      "\"That was too bad,\" said Dorothy, \"but really I think we were lucky in\n",
      "not doing these little people more harm than breaking a cow's leg and a\n",
      "church.\n",
      "They are all so brittle!\"\n",
      "\"They are, indeed,\" said the Scarecrow, \"and I am thankful I am made of\n",
      "straw and cannot be easily damaged.\n",
      "There are worse things in the\n",
      "world than being a Scarecrow.\"\n",
      "After climbing down from the china wall the travelers found themselves\n",
      "in a disagreeable country, full of bogs and marshes and covered with\n",
      "tall, rank grass.\n",
      "It was difficult to walk without falling into muddy\n",
      "holes, for the grass was so thick that it hid them from sight.\n",
      "However, by carefully picking their way, they got safely along until\n",
      "they reached solid ground.\n",
      "But here the country seemed wilder than\n",
      "ever, and after a long and tiresome walk through the underbrush they\n",
      "entered another forest, where the trees were bigger and older than any\n",
      "they had ever seen.\n",
      "\"This forest is perfectly delightful,\" declared the Lion, looking\n",
      "around him with joy.\n",
      "\"Never have I seen a more beautiful place.\"\n",
      "\"It seems gloomy,\" said the Scarecrow.\n",
      "\"Not a bit of it,\" answered the Lion.\n",
      "\"I should like to live here all\n",
      "my life.\n",
      "See how soft the dried leaves are under your feet and how\n",
      "rich and green the moss is that clings to these old trees.\n",
      "Surely no\n",
      "wild beast could wish a pleasanter home.\"\n",
      "\"Perhaps there are wild beasts in the forest now,\" said Dorothy.\n",
      "\"I suppose there are,\" returned the Lion, \"but I do not see any of them\n",
      "about.\"\n",
      "They walked through the forest until it became too dark to go any\n",
      "farther.\n",
      "Dorothy and Toto and the Lion lay down to sleep, while the\n",
      "Woodman and the Scarecrow kept watch over them as usual.\n",
      "When morning came, they started again.\n",
      "Before they had gone far they\n",
      "heard a low rumble, as of the growling of many wild animals.\n",
      "Toto\n",
      "whimpered a little, but none of the others was frightened, and they\n",
      "kept along the well-trodden path until they came to an opening in the\n",
      "wood, in which were gathered hundreds of beasts of every variety.\n",
      "There were tigers and elephants and bears and wolves and foxes and all\n",
      "the others in the natural history, and for a moment Dorothy was afraid.\n",
      "But the Lion explained that the animals were holding a meeting, and he\n",
      "judged by their snarling and growling that they were in great trouble.\n",
      "As he spoke several of the beasts caught sight of him, and at once the\n",
      "great assemblage hushed as if by magic.\n",
      "The biggest of the tigers came\n",
      "up to the Lion and bowed, saying:\n",
      "\n",
      "\"Welcome, O King of Beasts!\n",
      "You have come in good time to fight our\n",
      "enemy and bring peace to all the animals of the forest once more.\"\n",
      "\"What is your trouble?\"\n",
      "asked the Lion quietly.\n",
      "\"We are all threatened,\" answered the tiger, \"by a fierce enemy which\n",
      "has lately come into this forest.\n",
      "It is a most tremendous monster,\n",
      "like a great spider, with a body as big as an elephant and legs as long\n",
      "as a tree trunk.\n",
      "It has eight of these long legs, and as the monster\n",
      "crawls through the forest he seizes an animal with a leg and drags it\n",
      "to his mouth, where he eats it as a spider does a fly.\n",
      "Not one of us\n",
      "is safe while this fierce creature is alive, and we had called a\n",
      "meeting to decide how to take care of ourselves when you came among us.\"\n",
      "The Lion thought for a moment.\n",
      "\"Are there any other lions in this forest?\"\n",
      "he asked.\n",
      "\"No; there were some, but the monster has eaten them all.\n",
      "And,\n",
      "besides, they were none of them nearly so large and brave as you.\"\n",
      "\"If I put an end to your enemy, will you bow down to me and obey me as\n",
      "King of the Forest?\"\n",
      "inquired the Lion.\n",
      "\"We will do that gladly,\" returned the tiger; and all the other beasts\n",
      "roared with a mighty roar: \"We will!\"\n",
      "\"Where is this great spider of yours now?\"\n",
      "asked the Lion.\n",
      "\"Yonder, among the oak trees,\" said the tiger, pointing with his\n",
      "forefoot.\n",
      "\"Take good care of these friends of mine,\" said the Lion, \"and I will\n",
      "go at once to fight the monster.\"\n",
      "He bade his comrades good-bye and marched proudly away to do battle\n",
      "with the enemy.\n",
      "The great spider was lying asleep when the Lion found him, and it\n",
      "looked so ugly that its foe turned up his nose in disgust.\n",
      "Its legs\n",
      "were quite as long as the tiger had said, and its body covered with\n",
      "coarse black hair.\n",
      "It had a great mouth, with a row of sharp teeth a\n",
      "foot long; but its head was joined to the pudgy body by a neck as\n",
      "slender as a wasp's waist.\n",
      "This gave the Lion a hint of the best way\n",
      "to attack the creature, and as he knew it was easier to fight it asleep\n",
      "than awake, he gave a great spring and landed directly upon the\n",
      "monster's back.\n",
      "Then, with one blow of his heavy paw, all armed with\n",
      "sharp claws, he knocked the spider's head from its body.\n",
      "Jumping down,\n",
      "he watched it until the long legs stopped wiggling, when he knew it was\n",
      "quite dead.\n",
      "The Lion went back to the opening where the beasts of the forest were\n",
      "waiting for him and said proudly:\n",
      "\n",
      "\"You need fear your enemy no longer.\"\n",
      "Then the beasts bowed down to the Lion as their King, and he promised\n",
      "to come back and rule over them as soon as Dorothy was safely on her\n",
      "way to Kansas.\n",
      "The four travelers passed through the rest of the forest in safety, and\n",
      "when they came out from its gloom saw before them a steep hill, covered\n",
      "from top to bottom with great pieces of rock.\n",
      "\"That will be a hard climb,\" said the Scarecrow, \"but we must get over\n",
      "the hill, nevertheless.\"\n",
      "So he led the way and the others followed.\n",
      "They had nearly reached the\n",
      "first rock when they heard a rough voice cry out, \"Keep back!\"\n",
      "\"Who are you?\"\n",
      "asked the Scarecrow.\n",
      "Then a head showed itself over the rock and the same voice said, \"This\n",
      "hill belongs to us, and we don't allow anyone to cross it.\"\n",
      "\"But we must cross it,\" said the Scarecrow.\n",
      "\"We're going to the\n",
      "country of the Quadlings.\"\n",
      "\"But you shall not!\"\n",
      "replied the voice, and there stepped from behind\n",
      "the rock the strangest man the travelers had ever seen.\n",
      "He was quite short and stout and had a big head, which was flat at the\n",
      "top and supported by a thick neck full of wrinkles.\n",
      "But he had no arms\n",
      "at all, and, seeing this, the Scarecrow did not fear that so helpless a\n",
      "creature could prevent them from climbing the hill.\n",
      "So he said, \"I'm\n",
      "sorry not to do as you wish, but we must pass over your hill whether\n",
      "you like it or not,\" and he walked boldly forward.\n",
      "As quick as lightning the man's head shot forward and his neck\n",
      "stretched out until the top of the head, where it was flat, struck the\n",
      "Scarecrow in the middle and sent him tumbling, over and over, down the\n",
      "hill.\n",
      "Almost as quickly as it came the head went back to the body, and\n",
      "the man laughed harshly as he said, \"It isn't as easy as you think!\"\n",
      "A chorus of boisterous laughter came from the other rocks, and Dorothy\n",
      "saw hundreds of the armless Hammer-Heads upon the hillside, one behind\n",
      "every rock.\n",
      "The Lion became quite angry at the laughter caused by the Scarecrow's\n",
      "mishap, and giving a loud roar that echoed like thunder, he dashed up\n",
      "the hill.\n",
      "Again a head shot swiftly out, and the great Lion went rolling down the\n",
      "hill as if he had been struck by a cannon ball.\n",
      "Dorothy ran down and helped the Scarecrow to his feet, and the Lion\n",
      "came up to her, feeling rather bruised and sore, and said, \"It is\n",
      "useless to fight people with shooting heads; no one can withstand them.\"\n",
      "\"What can we do, then?\"\n",
      "she asked.\n",
      "\"Call the Winged Monkeys,\" suggested the Tin Woodman.\n",
      "\"You have still\n",
      "the right to command them once more.\"\n",
      "\"Very well,\" she answered, and putting on the Golden Cap she uttered\n",
      "the magic words.\n",
      "The Monkeys were as prompt as ever, and in a few\n",
      "moments the entire band stood before her.\n",
      "\"What are your commands?\"\n",
      "inquired the King of the Monkeys, bowing low.\n",
      "\"Carry us over the hill to the country of the Quadlings,\" answered the\n",
      "girl.\n",
      "\"It shall be done,\" said the King, and at once the Winged Monkeys\n",
      "caught the four travelers and Toto up in their arms and flew away with\n",
      "them.\n",
      "As they passed over the hill the Hammer-Heads yelled with\n",
      "vexation, and shot their heads high in the air, but they could not\n",
      "reach the Winged Monkeys, which carried Dorothy and her comrades safely\n",
      "over the hill and set them down in the beautiful country of the\n",
      "Quadlings.\n",
      "\"This is the last time you can summon us,\" said the leader to Dorothy;\n",
      "\"so good-bye and good luck to you.\"\n",
      "\"Good-bye, and thank you very much,\" returned the girl; and the Monkeys\n",
      "rose into the air and were out of sight in a twinkling.\n",
      "The country of the Quadlings seemed rich and happy.\n",
      "There was field\n",
      "upon field of ripening grain, with well-paved roads running between,\n",
      "and pretty rippling brooks with strong bridges across them.\n",
      "The fences\n",
      "and houses and bridges were all painted bright red, just as they had\n",
      "been painted yellow in the country of the Winkies and blue in the\n",
      "country of the Munchkins.\n",
      "The Quadlings themselves, who were short and\n",
      "fat and looked chubby and good-natured, were dressed all in red, which\n",
      "showed bright against the green grass and the yellowing grain.\n",
      "The Monkeys had set them down near a farmhouse, and the four travelers\n",
      "walked up to it and knocked at the door.\n",
      "It was opened by the farmer's\n",
      "wife, and when Dorothy asked for something to eat the woman gave them\n",
      "all a good dinner, with three kinds of cake and four kinds of cookies,\n",
      "and a bowl of milk for Toto.\n",
      "\"How far is it to the Castle of Glinda?\"\n",
      "asked the child.\n",
      "\"It is not a great way,\" answered the farmer's wife.\n",
      "\"Take the road to\n",
      "the South and you will soon reach it.\"\n",
      "Thanking the good woman, they started afresh and walked by the fields\n",
      "and across the pretty bridges until they saw before them a very\n",
      "beautiful Castle.\n",
      "Before the gates were three young girls, dressed in\n",
      "handsome red uniforms trimmed with gold braid; and as Dorothy\n",
      "approached, one of them said to her:\n",
      "\n",
      "\"Why have you come to the South Country?\"\n",
      "\"To see the Good Witch who rules here,\" she answered.\n",
      "\"Will you take\n",
      "me to her?\"\n",
      "\"Let me have your name, and I will ask Glinda if she will receive you.\"\n",
      "They told who they were, and the girl soldier went into the Castle.\n",
      "After a few moments she came back to say that Dorothy and the others\n",
      "were to be admitted at once.\n",
      "Before they went to see Glinda, however, they were taken to a room of\n",
      "the Castle, where Dorothy washed her face and combed her hair, and the\n",
      "Lion shook the dust out of his mane, and the Scarecrow patted himself\n",
      "into his best shape, and the Woodman polished his tin and oiled his\n",
      "joints.\n",
      "When they were all quite presentable they followed the soldier girl\n",
      "into a big room where the Witch Glinda sat upon a throne of rubies.\n",
      "She was both beautiful and young to their eyes.\n",
      "Her hair was a rich\n",
      "red in color and fell in flowing ringlets over her shoulders.\n",
      "Her\n",
      "dress was pure white but her eyes were blue, and they looked kindly\n",
      "upon the little girl.\n",
      "\"What can I do for you, my child?\"\n",
      "she asked.\n",
      "Dorothy told the Witch all her story: how the cyclone had brought her\n",
      "to the Land of Oz, how she had found her companions, and of the\n",
      "wonderful adventures they had met with.\n",
      "\"My greatest wish now,\" she added, \"is to get back to Kansas, for Aunt\n",
      "Em will surely think something dreadful has happened to me, and that\n",
      "will make her put on mourning; and unless the crops are better this\n",
      "year than they were last, I am sure Uncle Henry cannot afford it.\"\n",
      "Glinda leaned forward and kissed the sweet, upturned face of the loving\n",
      "little girl.\n",
      "\"Bless your dear heart,\" she said, \"I am sure I can tell you of a way\n",
      "to get back to Kansas.\"\n",
      "Then she added, \"But, if I do, you must give\n",
      "me the Golden Cap.\"\n",
      "\"Willingly!\"\n",
      "exclaimed Dorothy; \"indeed, it is of no use to me now, and\n",
      "when you have it you can command the Winged Monkeys three times.\"\n",
      "\"And I think I shall need their service just those three times,\"\n",
      "answered Glinda, smiling.\n",
      "Dorothy then gave her the Golden Cap, and the Witch said to the\n",
      "Scarecrow, \"What will you do when Dorothy has left us?\"\n",
      "\"I will return to the Emerald City,\" he replied, \"for Oz has made me\n",
      "its ruler and the people like me.\n",
      "The only thing that worries me is\n",
      "how to cross the hill of the Hammer-Heads.\"\n",
      "\"By means of the Golden Cap I shall command the Winged Monkeys to carry\n",
      "you to the gates of the Emerald City,\" said Glinda, \"for it would be a\n",
      "shame to deprive the people of so wonderful a ruler.\"\n",
      "\"Am I really wonderful?\"\n",
      "asked the Scarecrow.\n",
      "\"You are unusual,\" replied Glinda.\n",
      "Turning to the Tin Woodman, she asked, \"What will become of you when\n",
      "Dorothy leaves this country?\"\n",
      "He leaned on his axe and thought a moment.\n",
      "Then he said, \"The Winkies\n",
      "were very kind to me, and wanted me to rule over them after the Wicked\n",
      "Witch died.\n",
      "I am fond of the Winkies, and if I could get back again to\n",
      "the Country of the West, I should like nothing better than to rule over\n",
      "them forever.\"\n",
      "\"My second command to the Winged Monkeys,\" said Glinda \"will be that\n",
      "they carry you safely to the land of the Winkies.\n",
      "Your brain may not\n",
      "be so large to look at as those of the Scarecrow, but you are really\n",
      "brighter than he is--when you are well polished--and I am sure you will\n",
      "rule the Winkies wisely and well.\"\n",
      "Then the Witch looked at the big, shaggy Lion and asked, \"When Dorothy\n",
      "has returned to her own home, what will become of you?\"\n",
      "\"Over the hill of the Hammer-Heads,\" he answered, \"lies a grand old\n",
      "forest, and all the beasts that live there have made me their King.\n",
      "If\n",
      "I could only get back to this forest, I would pass my life very happily\n",
      "there.\"\n",
      "\"My third command to the Winged Monkeys,\" said Glinda, \"shall be to\n",
      "carry you to your forest.\n",
      "Then, having used up the powers of the\n",
      "Golden Cap, I shall give it to the King of the Monkeys, that he and his\n",
      "band may thereafter be free for evermore.\"\n",
      "The Scarecrow and the Tin Woodman and the Lion now thanked the Good\n",
      "Witch earnestly for her kindness; and Dorothy exclaimed:\n",
      "\n",
      "\"You are certainly as good as you are beautiful!\n",
      "But you have not yet\n",
      "told me how to get back to Kansas.\"\n",
      "\"Your Silver Shoes will carry you over the desert,\" replied Glinda.\n",
      "\"If you had known their power you could have gone back to your Aunt Em\n",
      "the very first day you came to this country.\"\n",
      "\"But then I should not have had my wonderful brains!\"\n",
      "cried the\n",
      "Scarecrow.\n",
      "\"I might have passed my whole life in the farmer's\n",
      "cornfield.\"\n",
      "\"And I should not have had my lovely heart,\" said the Tin Woodman.\n",
      "\"I\n",
      "might have stood and rusted in the forest till the end of the world.\"\n",
      "\"And I should have lived a coward forever,\" declared the Lion, \"and no\n",
      "beast in all the forest would have had a good word to say to me.\"\n",
      "\"This is all true,\" said Dorothy, \"and I am glad I was of use to these\n",
      "good friends.\n",
      "But now that each of them has had what he most desired,\n",
      "and each is happy in having a kingdom to rule besides, I think I should\n",
      "like to go back to Kansas.\"\n",
      "\"The Silver Shoes,\" said the Good Witch, \"have wonderful powers.\n",
      "And\n",
      "one of the most curious things about them is that they can carry you to\n",
      "any place in the world in three steps, and each step will be made in\n",
      "the wink of an eye.\n",
      "All you have to do is to knock the heels together\n",
      "three times and command the shoes to carry you wherever you wish to go.\"\n",
      "\"If that is so,\" said the child joyfully, \"I will ask them to carry me\n",
      "back to Kansas at once.\"\n",
      "She threw her arms around the Lion's neck and kissed him, patting his\n",
      "big head tenderly.\n",
      "Then she kissed the Tin Woodman, who was weeping in\n",
      "a way most dangerous to his joints.\n",
      "But she hugged the soft, stuffed\n",
      "body of the Scarecrow in her arms instead of kissing his painted face,\n",
      "and found she was crying herself at this sorrowful parting from her\n",
      "loving comrades.\n",
      "Glinda the Good stepped down from her ruby throne to give the little\n",
      "girl a good-bye kiss, and Dorothy thanked her for all the kindness she\n",
      "had shown to her friends and herself.\n",
      "Dorothy now took Toto up solemnly in her arms, and having said one last\n",
      "good-bye she clapped the heels of her shoes together three times,\n",
      "saying:\n",
      "\n",
      "\"Take me home to Aunt Em!\"\n",
      "Instantly she was whirling through the air, so swiftly that all she\n",
      "could see or feel was the wind whistling past her ears.\n",
      "The Silver Shoes took but three steps, and then she stopped so suddenly\n",
      "that she rolled over upon the grass several times before she knew where\n",
      "she was.\n",
      "At length, however, she sat up and looked about her.\n",
      "\"Good gracious!\"\n",
      "she cried.\n",
      "For she was sitting on the broad Kansas prairie, and just before her\n",
      "was the new farmhouse Uncle Henry built after the cyclone had carried\n",
      "away the old one.\n",
      "Uncle Henry was milking the cows in the barnyard,\n",
      "and Toto had jumped out of her arms and was running toward the barn,\n",
      "barking furiously.\n",
      "Dorothy stood up and found she was in her stocking-feet.\n",
      "For the\n",
      "Silver Shoes had fallen off in her flight through the air, and were\n",
      "lost forever in the desert.\n",
      "Aunt Em had just come out of the house to water the cabbages when she\n",
      "looked up and saw Dorothy running toward her.\n",
      "\"My darling child!\"\n",
      "she cried, folding the little girl in her arms and\n",
      "covering her face with kisses.\n",
      "\"Where in the world did you come from?\"\n",
      "\"From the Land of Oz,\" said Dorothy gravely.\n",
      "\"And here is Toto, too.\n",
      "And oh, Aunt Em!\n",
      "I'm so glad to be at home again!\"\n"
     ]
    }
   ],
   "source": [
    "for x in df_wizard['Sentences'][1916:]:\n",
    "    print x"
   ]
  },
  {
   "cell_type": "markdown",
   "metadata": {},
   "source": [
    "Dorothy was once more filled with the hope of\n",
    "getting home, and the Scarecrow and the Tin Woodman were glad to be of\n",
    "use to her."
   ]
  },
  {
   "cell_type": "code",
   "execution_count": 177,
   "metadata": {
    "collapsed": true
   },
   "outputs": [],
   "source": [
    "# following the percentages of Michael Hauge's \"Six Stage Plot Structure\"\n",
    "Stage_1 = df_wizard['sentiment'][:222].mean()\n",
    "Stage_2 = df_wizard['sentiment'][222:332].mean()\n",
    "Stage_3 = df_wizard['sentiment'][332:886].mean()\n",
    "Stage_4 = df_wizard['sentiment'][886:1440].mean()\n",
    "Stage_5 = df_wizard['sentiment'][1440:1883].mean()\n",
    "Stage_6 = df_wizard['sentiment'][1883:].mean()\n"
   ]
  },
  {
   "cell_type": "code",
   "execution_count": 179,
   "metadata": {
    "collapsed": false
   },
   "outputs": [],
   "source": [
    "SixPlot = pd.Series([Stage_1, Stage_2, Stage_3, Stage_4, Stage_5, Stage_6])"
   ]
  },
  {
   "cell_type": "code",
   "execution_count": 181,
   "metadata": {
    "collapsed": false
   },
   "outputs": [
    {
     "data": {
      "text/plain": [
       "<matplotlib.axes._subplots.AxesSubplot at 0x11daf2890>"
      ]
     },
     "execution_count": 181,
     "metadata": {},
     "output_type": "execute_result"
    },
    {
     "data": {
      "image/png": "[encoded data removed]",
      "text/plain": [
       "<matplotlib.figure.Figure at 0x11dd2d590>"
      ]
     },
     "metadata": {},
     "output_type": "display_data"
    }
   ],
   "source": [
    "SixPlot.plot.bar()"
   ]
  },
  {
   "cell_type": "code",
   "execution_count": 182,
   "metadata": {
    "collapsed": true
   },
   "outputs": [],
   "source": [
    "Stage_1_char = df_wizard['char_total'][:222].mean()\n",
    "Stage_2_char = df_wizard['char_total'][222:332].mean()\n",
    "Stage_3_char = df_wizard['char_total'][332:886].mean()\n",
    "Stage_4_char = df_wizard['char_total'][886:1440].mean()\n",
    "Stage_5_char = df_wizard['char_total'][1440:1883].mean()\n",
    "Stage_6_char = df_wizard['char_total'][1883:].mean()\n"
   ]
  },
  {
   "cell_type": "code",
   "execution_count": 185,
   "metadata": {
    "collapsed": true
   },
   "outputs": [],
   "source": [
    "SixPlot_char = pd.Series([Stage_1_char, Stage_2_char, Stage_3_char, Stage_4_char, Stage_5_char, Stage_6_char])"
   ]
  },
  {
   "cell_type": "code",
   "execution_count": 186,
   "metadata": {
    "collapsed": false
   },
   "outputs": [
    {
     "data": {
      "text/plain": [
       "<matplotlib.axes._subplots.AxesSubplot at 0x11dd2da90>"
      ]
     },
     "execution_count": 186,
     "metadata": {},
     "output_type": "execute_result"
    },
    {
     "data": {
      "image/png": "[encoded data removed]",
      "text/plain": [
       "<matplotlib.figure.Figure at 0x11ddac750>"
      ]
     },
     "metadata": {},
     "output_type": "display_data"
    }
   ],
   "source": [
    "SixPlot_char.plot.bar()"
   ]
  },
  {
   "cell_type": "code",
   "execution_count": 188,
   "metadata": {
    "collapsed": false
   },
   "outputs": [
    {
     "data": {
      "text/plain": [
       "<seaborn.axisgrid.FacetGrid at 0x11dbe0f10>"
      ]
     },
     "execution_count": 188,
     "metadata": {},
     "output_type": "execute_result"
    },
    {
     "data": {
      "image/png": "[encoded data removed]",
      "text/plain": [
       "<matplotlib.figure.Figure at 0x11dffda10>"
      ]
     },
     "metadata": {},
     "output_type": "display_data"
    }
   ],
   "source": [
    "sns.lmplot(x='char_total', y='sentiment', data=df_wizard, aspect=1.5, scatter_kws={'alpha':0.2})"
   ]
  },
  {
   "cell_type": "code",
   "execution_count": null,
   "metadata": {
    "collapsed": true
   },
   "outputs": [],
   "source": [
    "#break down into 5% intervels to compare to the six stage plot structure"
   ]
  }
 ],
 "metadata": {
  "kernelspec": {
   "display_name": "Python 2",
   "language": "python",
   "name": "python2"
  },
  "language_info": {
   "codemirror_mode": {
    "name": "ipython",
    "version": 2
   },
   "file_extension": ".py",
   "mimetype": "text/x-python",
   "name": "python",
   "nbconvert_exporter": "python",
   "pygments_lexer": "ipython2",
   "version": "2.7.11"
  }
 },
 "nbformat": 4,
 "nbformat_minor": 0
}
