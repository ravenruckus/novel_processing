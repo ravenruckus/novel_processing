{
 "cells": [
  {
   "cell_type": "code",
   "execution_count": 40,
   "metadata": {
    "collapsed": true
   },
   "outputs": [],
   "source": [
    "import nltk, re, pprint\n",
    "from nltk import word_tokenize\n",
    "import urllib2\n",
    "import pandas as pd\n",
    "import matplotlib.pyplot as plt\n",
    "import numpy as np\n",
    "from textblob import TextBlob\n",
    "import sys #figure out what i need from this\n",
    "import csv"
   ]
  },
  {
   "cell_type": "code",
   "execution_count": 41,
   "metadata": {
    "collapsed": true
   },
   "outputs": [],
   "source": [
    "raw = open('wizardofoz_clean.txt').read().decode('utf8')"
   ]
  },
  {
   "cell_type": "code",
   "execution_count": 3,
   "metadata": {
    "collapsed": false
   },
   "outputs": [
    {
     "data": {
      "text/plain": [
       "unicode"
      ]
     },
     "execution_count": 3,
     "metadata": {},
     "output_type": "execute_result"
    }
   ],
   "source": [
    "type(raw)"
   ]
  },
  {
   "cell_type": "code",
   "execution_count": 4,
   "metadata": {
    "collapsed": false
   },
   "outputs": [
    {
     "data": {
      "text/plain": [
       "205533"
      ]
     },
     "execution_count": 4,
     "metadata": {},
     "output_type": "execute_result"
    }
   ],
   "source": [
    "len(raw)"
   ]
  },
  {
   "cell_type": "markdown",
   "metadata": {},
   "source": [
    "Use TextBlob to tokenize the raw text into sentences."
   ]
  },
  {
   "cell_type": "code",
   "execution_count": 5,
   "metadata": {
    "collapsed": true
   },
   "outputs": [],
   "source": [
    "wizard = TextBlob(raw)"
   ]
  },
  {
   "cell_type": "code",
   "execution_count": 6,
   "metadata": {
    "collapsed": true
   },
   "outputs": [],
   "source": [
    "wizard_sentences = wizard.sentences"
   ]
  },
  {
   "cell_type": "code",
   "execution_count": 7,
   "metadata": {
    "collapsed": false
   },
   "outputs": [
    {
     "data": {
      "text/plain": [
       "2216"
      ]
     },
     "execution_count": 7,
     "metadata": {},
     "output_type": "execute_result"
    }
   ],
   "source": [
    "len(wizard_sentences)"
   ]
  },
  {
   "cell_type": "code",
   "execution_count": 8,
   "metadata": {
    "collapsed": false
   },
   "outputs": [
    {
     "name": "stdout",
     "output_type": "stream",
     "text": [
      "[Sentence(\"she cried, folding the little girl in her arms and\n",
      "covering her face with kisses.\"), Sentence(\"\"Where in the world did you come from?\"\"), Sentence(\"\"From the Land of Oz,\" said Dorothy gravely.\"), Sentence(\"\"And here is Toto, too.\"), Sentence(\"And oh, Aunt Em!\"), Sentence(\"I'm so glad to be at home again!\"\")]\n"
     ]
    }
   ],
   "source": [
    "print wizard_sentences[2210:]"
   ]
  },
  {
   "cell_type": "markdown",
   "metadata": {},
   "source": [
    "Create csv file and add the sentences in a column."
   ]
  },
  {
   "cell_type": "code",
   "execution_count": 11,
   "metadata": {
    "collapsed": false
   },
   "outputs": [],
   "source": [
    "wizardWriter = csv.writer(open('wizard_of_oz2.csv', 'w'), delimiter=',')\n",
    "\n",
    "for sentence in wizard.sentences:\n",
    "    wizardWriter.writerow([sentence])\n",
    "    "
   ]
  },
  {
   "cell_type": "markdown",
   "metadata": {},
   "source": [
    "Create dataframe using pandas."
   ]
  },
  {
   "cell_type": "code",
   "execution_count": 12,
   "metadata": {
    "collapsed": false
   },
   "outputs": [],
   "source": [
    "df_wizard = pd.read_csv('wizard_of_oz2.csv', header=None)"
   ]
  },
  {
   "cell_type": "code",
   "execution_count": 29,
   "metadata": {
    "collapsed": false
   },
   "outputs": [
    {
     "data": {
      "text/html": [
       "<div>\n",
       "<table border=\"1\" class=\"dataframe\">\n",
       "  <thead>\n",
       "    <tr style=\"text-align: right;\">\n",
       "      <th></th>\n",
       "      <th>0</th>\n",
       "    </tr>\n",
       "  </thead>\n",
       "  <tbody>\n",
       "    <tr>\n",
       "      <th>0</th>\n",
       "      <td>Dorothy lived in the midst of the great Kansas...</td>\n",
       "    </tr>\n",
       "    <tr>\n",
       "      <th>1</th>\n",
       "      <td>Their\\nhouse was small, for the lumber to buil...</td>\n",
       "    </tr>\n",
       "    <tr>\n",
       "      <th>2</th>\n",
       "      <td>There were four walls, a floor and a roof, whi...</td>\n",
       "    </tr>\n",
       "    <tr>\n",
       "      <th>3</th>\n",
       "      <td>Uncle Henry\\nand Aunt Em had a big bed in one ...</td>\n",
       "    </tr>\n",
       "    <tr>\n",
       "      <th>4</th>\n",
       "      <td>There was no garret at all, and no cellar--exc...</td>\n",
       "    </tr>\n",
       "  </tbody>\n",
       "</table>\n",
       "</div>"
      ],
      "text/plain": [
       "                                                   0\n",
       "0  Dorothy lived in the midst of the great Kansas...\n",
       "1  Their\\nhouse was small, for the lumber to buil...\n",
       "2  There were four walls, a floor and a roof, whi...\n",
       "3  Uncle Henry\\nand Aunt Em had a big bed in one ...\n",
       "4  There was no garret at all, and no cellar--exc..."
      ]
     },
     "execution_count": 29,
     "metadata": {},
     "output_type": "execute_result"
    }
   ],
   "source": [
    "df_wizard.head()"
   ]
  },
  {
   "cell_type": "code",
   "execution_count": 13,
   "metadata": {
    "collapsed": true
   },
   "outputs": [],
   "source": [
    "df_wizard.rename(columns={ 0 : 'Sentences'}, inplace=True)"
   ]
  },
  {
   "cell_type": "code",
   "execution_count": 14,
   "metadata": {
    "collapsed": false
   },
   "outputs": [
    {
     "data": {
      "text/html": [
       "<div>\n",
       "<table border=\"1\" class=\"dataframe\">\n",
       "  <thead>\n",
       "    <tr style=\"text-align: right;\">\n",
       "      <th></th>\n",
       "      <th>Sentences</th>\n",
       "    </tr>\n",
       "  </thead>\n",
       "  <tbody>\n",
       "    <tr>\n",
       "      <th>0</th>\n",
       "      <td>Dorothy lived in the midst of the great Kansas...</td>\n",
       "    </tr>\n",
       "    <tr>\n",
       "      <th>1</th>\n",
       "      <td>Their\\nhouse was small, for the lumber to buil...</td>\n",
       "    </tr>\n",
       "    <tr>\n",
       "      <th>2</th>\n",
       "      <td>There were four walls, a floor and a roof, whi...</td>\n",
       "    </tr>\n",
       "    <tr>\n",
       "      <th>3</th>\n",
       "      <td>Uncle Henry\\nand Aunt Em had a big bed in one ...</td>\n",
       "    </tr>\n",
       "    <tr>\n",
       "      <th>4</th>\n",
       "      <td>There was no garret at all, and no cellar--exc...</td>\n",
       "    </tr>\n",
       "  </tbody>\n",
       "</table>\n",
       "</div>"
      ],
      "text/plain": [
       "                                           Sentences\n",
       "0  Dorothy lived in the midst of the great Kansas...\n",
       "1  Their\\nhouse was small, for the lumber to buil...\n",
       "2  There were four walls, a floor and a roof, whi...\n",
       "3  Uncle Henry\\nand Aunt Em had a big bed in one ...\n",
       "4  There was no garret at all, and no cellar--exc..."
      ]
     },
     "execution_count": 14,
     "metadata": {},
     "output_type": "execute_result"
    }
   ],
   "source": [
    "df_wizard.head()"
   ]
  },
  {
   "cell_type": "code",
   "execution_count": 15,
   "metadata": {
    "collapsed": false
   },
   "outputs": [
    {
     "data": {
      "text/html": [
       "<div>\n",
       "<table border=\"1\" class=\"dataframe\">\n",
       "  <thead>\n",
       "    <tr style=\"text-align: right;\">\n",
       "      <th></th>\n",
       "      <th>Sentences</th>\n",
       "    </tr>\n",
       "  </thead>\n",
       "  <tbody>\n",
       "    <tr>\n",
       "      <th>2211</th>\n",
       "      <td>\"Where in the world did you come from?\"</td>\n",
       "    </tr>\n",
       "    <tr>\n",
       "      <th>2212</th>\n",
       "      <td>\"From the Land of Oz,\" said Dorothy gravely.</td>\n",
       "    </tr>\n",
       "    <tr>\n",
       "      <th>2213</th>\n",
       "      <td>\"And here is Toto, too.</td>\n",
       "    </tr>\n",
       "    <tr>\n",
       "      <th>2214</th>\n",
       "      <td>And oh, Aunt Em!</td>\n",
       "    </tr>\n",
       "    <tr>\n",
       "      <th>2215</th>\n",
       "      <td>I'm so glad to be at home again!\"</td>\n",
       "    </tr>\n",
       "  </tbody>\n",
       "</table>\n",
       "</div>"
      ],
      "text/plain": [
       "                                         Sentences\n",
       "2211       \"Where in the world did you come from?\"\n",
       "2212  \"From the Land of Oz,\" said Dorothy gravely.\n",
       "2213                       \"And here is Toto, too.\n",
       "2214                              And oh, Aunt Em!\n",
       "2215             I'm so glad to be at home again!\""
      ]
     },
     "execution_count": 15,
     "metadata": {},
     "output_type": "execute_result"
    }
   ],
   "source": [
    "df_wizard.tail()"
   ]
  },
  {
   "cell_type": "markdown",
   "metadata": {},
   "source": [
    "Function that creates two lists that will be added to the database as columns. wrd_length contains a list of lists that contain the word length in characters of each word in the sentence. total_char contains the sum number of charactes in the sentence. "
   ]
  },
  {
   "cell_type": "code",
   "execution_count": 16,
   "metadata": {
    "collapsed": true
   },
   "outputs": [],
   "source": [
    "wrd_length = []\n",
    "total_char = []\n",
    "\n",
    "def wrd_char_counts(sentence):\n",
    "    total_chars = 0 #characters in the sentence\n",
    "    wrd_counts = [] # number of char per word in sentence\n",
    "    for word in sentence:\n",
    "        wrd = word\n",
    "        char_count = len(wrd)\n",
    "        wrd_counts.append(char_count)\n",
    "        total_chars += char_count\n",
    "    total_char.append(total_chars)\n",
    "    wrd_length.append(wrd_counts)"
   ]
  },
  {
   "cell_type": "markdown",
   "metadata": {},
   "source": [
    "This loop iterates through each sentence in the database and passes each sentence through TextBlob to be tokenized into words and then passes the sentences with its words through the wrd_char_counts function. "
   ]
  },
  {
   "cell_type": "code",
   "execution_count": 17,
   "metadata": {
    "collapsed": false
   },
   "outputs": [],
   "source": [
    "for l in df_wizard['Sentences']:\n",
    "    sent = TextBlob(l)\n",
    "    wrd_char_counts(sent.words)"
   ]
  },
  {
   "cell_type": "code",
   "execution_count": 18,
   "metadata": {
    "collapsed": false
   },
   "outputs": [
    {
     "data": {
      "text/plain": [
       "[[3, 4, 6, 2, 4, 3, 4, 4, 3, 6, 5, 4, 3, 6, 3, 4, 2, 4, 2, 4, 4, 3, 5],\n",
       " [2, 4, 6, 7, 3, 5, 2, 3, 5, 3, 6, 5, 4, 3, 8, 2, 3, 5, 2, 3, 4],\n",
       " [1, 6, 2, 4, 4, 3, 2, 3, 4, 2, 4],\n",
       " [4, 5, 2, 4, 3, 5, 2, 4, 1, 4, 4, 2, 3, 4, 5, 3, 4, 3],\n",
       " [3,\n",
       "  4,\n",
       "  3,\n",
       "  3,\n",
       "  3,\n",
       "  7,\n",
       "  5,\n",
       "  3,\n",
       "  5,\n",
       "  2,\n",
       "  3,\n",
       "  6,\n",
       "  4,\n",
       "  5,\n",
       "  6,\n",
       "  3,\n",
       "  2,\n",
       "  4,\n",
       "  2,\n",
       "  2,\n",
       "  4,\n",
       "  3,\n",
       "  4,\n",
       "  4,\n",
       "  3,\n",
       "  3]]"
      ]
     },
     "execution_count": 18,
     "metadata": {},
     "output_type": "execute_result"
    }
   ],
   "source": [
    "wrd_length[200:205]"
   ]
  },
  {
   "cell_type": "code",
   "execution_count": 19,
   "metadata": {
    "collapsed": false
   },
   "outputs": [
    {
     "data": {
      "text/plain": [
       "[88, 85, 35, 62, 96]"
      ]
     },
     "execution_count": 19,
     "metadata": {},
     "output_type": "execute_result"
    }
   ],
   "source": [
    "total_char[200:205]"
   ]
  },
  {
   "cell_type": "markdown",
   "metadata": {},
   "source": [
    "Create columns named wrd_length and char_total filling in with the data created by the function and loop."
   ]
  },
  {
   "cell_type": "code",
   "execution_count": 20,
   "metadata": {
    "collapsed": true
   },
   "outputs": [],
   "source": [
    "df_wizard['wrd_lengths'] = wrd_length"
   ]
  },
  {
   "cell_type": "code",
   "execution_count": 21,
   "metadata": {
    "collapsed": true
   },
   "outputs": [],
   "source": [
    "df_wizard['char_total'] = total_char"
   ]
  },
  {
   "cell_type": "code",
   "execution_count": 22,
   "metadata": {
    "collapsed": false
   },
   "outputs": [
    {
     "data": {
      "text/html": [
       "<div>\n",
       "<table border=\"1\" class=\"dataframe\">\n",
       "  <thead>\n",
       "    <tr style=\"text-align: right;\">\n",
       "      <th></th>\n",
       "      <th>Sentences</th>\n",
       "      <th>wrd_lengths</th>\n",
       "      <th>char_total</th>\n",
       "    </tr>\n",
       "  </thead>\n",
       "  <tbody>\n",
       "    <tr>\n",
       "      <th>0</th>\n",
       "      <td>Dorothy lived in the midst of the great Kansas...</td>\n",
       "      <td>[7, 5, 2, 3, 5, 2, 3, 5, 6, 8, 4, 5, 5, 3, 3, ...</td>\n",
       "      <td>103</td>\n",
       "    </tr>\n",
       "    <tr>\n",
       "      <th>1</th>\n",
       "      <td>Their\\nhouse was small, for the lumber to buil...</td>\n",
       "      <td>[5, 5, 3, 5, 3, 3, 6, 2, 5, 2, 3, 2, 2, 7, 2, ...</td>\n",
       "      <td>69</td>\n",
       "    </tr>\n",
       "    <tr>\n",
       "      <th>2</th>\n",
       "      <td>There were four walls, a floor and a roof, whi...</td>\n",
       "      <td>[5, 4, 4, 5, 1, 5, 3, 1, 4, 5, 4, 3, 4, 3, 4, ...</td>\n",
       "      <td>144</td>\n",
       "    </tr>\n",
       "    <tr>\n",
       "      <th>3</th>\n",
       "      <td>Uncle Henry\\nand Aunt Em had a big bed in one ...</td>\n",
       "      <td>[5, 5, 3, 4, 2, 3, 1, 3, 3, 2, 3, 6, 3, 7, 1, ...</td>\n",
       "      <td>75</td>\n",
       "    </tr>\n",
       "    <tr>\n",
       "      <th>4</th>\n",
       "      <td>There was no garret at all, and no cellar--exc...</td>\n",
       "      <td>[5, 3, 2, 6, 2, 3, 3, 2, 6, 6, 1, 5, 4, 3, 2, ...</td>\n",
       "      <td>178</td>\n",
       "    </tr>\n",
       "  </tbody>\n",
       "</table>\n",
       "</div>"
      ],
      "text/plain": [
       "                                           Sentences  \\\n",
       "0  Dorothy lived in the midst of the great Kansas...   \n",
       "1  Their\\nhouse was small, for the lumber to buil...   \n",
       "2  There were four walls, a floor and a roof, whi...   \n",
       "3  Uncle Henry\\nand Aunt Em had a big bed in one ...   \n",
       "4  There was no garret at all, and no cellar--exc...   \n",
       "\n",
       "                                         wrd_lengths  char_total  \n",
       "0  [7, 5, 2, 3, 5, 2, 3, 5, 6, 8, 4, 5, 5, 3, 3, ...         103  \n",
       "1  [5, 5, 3, 5, 3, 3, 6, 2, 5, 2, 3, 2, 2, 7, 2, ...          69  \n",
       "2  [5, 4, 4, 5, 1, 5, 3, 1, 4, 5, 4, 3, 4, 3, 4, ...         144  \n",
       "3  [5, 5, 3, 4, 2, 3, 1, 3, 3, 2, 3, 6, 3, 7, 1, ...          75  \n",
       "4  [5, 3, 2, 6, 2, 3, 3, 2, 6, 6, 1, 5, 4, 3, 2, ...         178  "
      ]
     },
     "execution_count": 22,
     "metadata": {},
     "output_type": "execute_result"
    }
   ],
   "source": [
    "df_wizard.head()"
   ]
  },
  {
   "cell_type": "code",
   "execution_count": 23,
   "metadata": {
    "collapsed": false
   },
   "outputs": [
    {
     "data": {
      "text/html": [
       "<div>\n",
       "<table border=\"1\" class=\"dataframe\">\n",
       "  <thead>\n",
       "    <tr style=\"text-align: right;\">\n",
       "      <th></th>\n",
       "      <th>Sentences</th>\n",
       "      <th>wrd_lengths</th>\n",
       "      <th>char_total</th>\n",
       "    </tr>\n",
       "  </thead>\n",
       "  <tbody>\n",
       "    <tr>\n",
       "      <th>2211</th>\n",
       "      <td>\"Where in the world did you come from?\"</td>\n",
       "      <td>[5, 2, 3, 5, 3, 3, 4, 4]</td>\n",
       "      <td>29</td>\n",
       "    </tr>\n",
       "    <tr>\n",
       "      <th>2212</th>\n",
       "      <td>\"From the Land of Oz,\" said Dorothy gravely.</td>\n",
       "      <td>[4, 3, 4, 2, 2, 4, 7, 7]</td>\n",
       "      <td>33</td>\n",
       "    </tr>\n",
       "    <tr>\n",
       "      <th>2213</th>\n",
       "      <td>\"And here is Toto, too.</td>\n",
       "      <td>[3, 4, 2, 4, 3]</td>\n",
       "      <td>16</td>\n",
       "    </tr>\n",
       "    <tr>\n",
       "      <th>2214</th>\n",
       "      <td>And oh, Aunt Em!</td>\n",
       "      <td>[3, 2, 4, 2]</td>\n",
       "      <td>11</td>\n",
       "    </tr>\n",
       "    <tr>\n",
       "      <th>2215</th>\n",
       "      <td>I'm so glad to be at home again!\"</td>\n",
       "      <td>[1, 2, 2, 4, 2, 2, 2, 4, 5]</td>\n",
       "      <td>24</td>\n",
       "    </tr>\n",
       "  </tbody>\n",
       "</table>\n",
       "</div>"
      ],
      "text/plain": [
       "                                         Sentences  \\\n",
       "2211       \"Where in the world did you come from?\"   \n",
       "2212  \"From the Land of Oz,\" said Dorothy gravely.   \n",
       "2213                       \"And here is Toto, too.   \n",
       "2214                              And oh, Aunt Em!   \n",
       "2215             I'm so glad to be at home again!\"   \n",
       "\n",
       "                      wrd_lengths  char_total  \n",
       "2211     [5, 2, 3, 5, 3, 3, 4, 4]          29  \n",
       "2212     [4, 3, 4, 2, 2, 4, 7, 7]          33  \n",
       "2213              [3, 4, 2, 4, 3]          16  \n",
       "2214                 [3, 2, 4, 2]          11  \n",
       "2215  [1, 2, 2, 4, 2, 2, 2, 4, 5]          24  "
      ]
     },
     "execution_count": 23,
     "metadata": {},
     "output_type": "execute_result"
    }
   ],
   "source": [
    "df_wizard.tail()"
   ]
  },
  {
   "cell_type": "code",
   "execution_count": 48,
   "metadata": {
    "collapsed": false
   },
   "outputs": [
    {
     "data": {
      "text/plain": [
       "26"
      ]
     },
     "execution_count": 48,
     "metadata": {},
     "output_type": "execute_result"
    }
   ],
   "source": [
    "len(df_wizard['wrd_lengths'][0])"
   ]
  },
  {
   "cell_type": "code",
   "execution_count": 34,
   "metadata": {
    "collapsed": false
   },
   "outputs": [
    {
     "data": {
      "text/html": [
       "<div>\n",
       "<table border=\"1\" class=\"dataframe\">\n",
       "  <thead>\n",
       "    <tr style=\"text-align: right;\">\n",
       "      <th></th>\n",
       "      <th>Sentences</th>\n",
       "      <th>wrd_lengths</th>\n",
       "      <th>char_total</th>\n",
       "    </tr>\n",
       "  </thead>\n",
       "  <tbody>\n",
       "    <tr>\n",
       "      <th>0</th>\n",
       "      <td>Dorothy lived in the midst of the great Kansas...</td>\n",
       "      <td>[7, 5, 2, 3, 5, 2, 3, 5, 6, 8, 4, 5, 5, 3, 3, ...</td>\n",
       "      <td>103</td>\n",
       "    </tr>\n",
       "    <tr>\n",
       "      <th>1</th>\n",
       "      <td>Their\\nhouse was small, for the lumber to buil...</td>\n",
       "      <td>[5, 5, 3, 5, 3, 3, 6, 2, 5, 2, 3, 2, 2, 7, 2, ...</td>\n",
       "      <td>69</td>\n",
       "    </tr>\n",
       "    <tr>\n",
       "      <th>2</th>\n",
       "      <td>There were four walls, a floor and a roof, whi...</td>\n",
       "      <td>[5, 4, 4, 5, 1, 5, 3, 1, 4, 5, 4, 3, 4, 3, 4, ...</td>\n",
       "      <td>144</td>\n",
       "    </tr>\n",
       "    <tr>\n",
       "      <th>3</th>\n",
       "      <td>Uncle Henry\\nand Aunt Em had a big bed in one ...</td>\n",
       "      <td>[5, 5, 3, 4, 2, 3, 1, 3, 3, 2, 3, 6, 3, 7, 1, ...</td>\n",
       "      <td>75</td>\n",
       "    </tr>\n",
       "    <tr>\n",
       "      <th>4</th>\n",
       "      <td>There was no garret at all, and no cellar--exc...</td>\n",
       "      <td>[5, 3, 2, 6, 2, 3, 3, 2, 6, 6, 1, 5, 4, 3, 2, ...</td>\n",
       "      <td>178</td>\n",
       "    </tr>\n",
       "  </tbody>\n",
       "</table>\n",
       "</div>"
      ],
      "text/plain": [
       "                                           Sentences  \\\n",
       "0  Dorothy lived in the midst of the great Kansas...   \n",
       "1  Their\\nhouse was small, for the lumber to buil...   \n",
       "2  There were four walls, a floor and a roof, whi...   \n",
       "3  Uncle Henry\\nand Aunt Em had a big bed in one ...   \n",
       "4  There was no garret at all, and no cellar--exc...   \n",
       "\n",
       "                                         wrd_lengths  char_total  \n",
       "0  [7, 5, 2, 3, 5, 2, 3, 5, 6, 8, 4, 5, 5, 3, 3, ...         103  \n",
       "1  [5, 5, 3, 5, 3, 3, 6, 2, 5, 2, 3, 2, 2, 7, 2, ...          69  \n",
       "2  [5, 4, 4, 5, 1, 5, 3, 1, 4, 5, 4, 3, 4, 3, 4, ...         144  \n",
       "3  [5, 5, 3, 4, 2, 3, 1, 3, 3, 2, 3, 6, 3, 7, 1, ...          75  \n",
       "4  [5, 3, 2, 6, 2, 3, 3, 2, 6, 6, 1, 5, 4, 3, 2, ...         178  "
      ]
     },
     "execution_count": 34,
     "metadata": {},
     "output_type": "execute_result"
    }
   ],
   "source": [
    "df_wizard.head()"
   ]
  },
  {
   "cell_type": "code",
   "execution_count": 59,
   "metadata": {
    "collapsed": false
   },
   "outputs": [],
   "source": [
    "word_percent = []\n",
    "def wrd_pattern(length, total):\n",
    "    sent_wrd_pattern = []\n",
    "    for l in length:\n",
    "        wrd_ratio = float(l)/total\n",
    "        sent_wrd_pattern.append(wrd_ratio)\n",
    "    word_percent.append(sent_wrd_pattern)        "
   ]
  },
  {
   "cell_type": "code",
   "execution_count": 60,
   "metadata": {
    "collapsed": false
   },
   "outputs": [],
   "source": [
    "i = 0\n",
    "j = 0\n",
    "for m in df_wizard['Sentences']:\n",
    "    length = df_wizard['wrd_lengths'][i]\n",
    "    i += 1\n",
    "    total = df_wizard['char_total'][j]\n",
    "    j += 1\n",
    "    wrd_pattern(length, total)"
   ]
  },
  {
   "cell_type": "code",
   "execution_count": 61,
   "metadata": {
    "collapsed": false
   },
   "outputs": [
    {
     "data": {
      "text/plain": [
       "2216"
      ]
     },
     "execution_count": 61,
     "metadata": {},
     "output_type": "execute_result"
    }
   ],
   "source": [
    "len(word_percent)"
   ]
  },
  {
   "cell_type": "code",
   "execution_count": 83,
   "metadata": {
    "collapsed": false
   },
   "outputs": [],
   "source": [
    "test = word_percent[:1]"
   ]
  },
  {
   "cell_type": "code",
   "execution_count": 80,
   "metadata": {
    "collapsed": false
   },
   "outputs": [
    {
     "name": "stdout",
     "output_type": "stream",
     "text": [
      "[[0.06796116504854369, 0.04854368932038835, 0.019417475728155338, 0.02912621359223301, 0.04854368932038835, 0.019417475728155338, 0.02912621359223301, 0.04854368932038835, 0.05825242718446602, 0.07766990291262135, 0.038834951456310676, 0.04854368932038835, 0.04854368932038835, 0.02912621359223301, 0.02912621359223301, 0.009708737864077669, 0.05825242718446602, 0.02912621359223301, 0.038834951456310676, 0.019417475728155338, 0.02912621359223301, 0.02912621359223301, 0.02912621359223301, 0.05825242718446602, 0.019417475728155338, 0.038834951456310676]]\n"
     ]
    }
   ],
   "source": [
    "print test"
   ]
  },
  {
   "cell_type": "code",
   "execution_count": 84,
   "metadata": {
    "collapsed": false
   },
   "outputs": [
    {
     "name": "stdout",
     "output_type": "stream",
     "text": [
      "[0.06796116504854369, 0.04854368932038835, 0.019417475728155338, 0.02912621359223301, 0.04854368932038835, 0.019417475728155338, 0.02912621359223301, 0.04854368932038835, 0.05825242718446602, 0.07766990291262135, 0.038834951456310676, 0.04854368932038835, 0.04854368932038835, 0.02912621359223301, 0.02912621359223301, 0.009708737864077669, 0.05825242718446602, 0.02912621359223301, 0.038834951456310676, 0.019417475728155338, 0.02912621359223301, 0.02912621359223301, 0.02912621359223301, 0.05825242718446602, 0.019417475728155338, 0.038834951456310676]\n"
     ]
    }
   ],
   "source": [
    "\n",
    "for x in test:\n",
    "    print x\n",
    "\n"
   ]
  },
  {
   "cell_type": "code",
   "execution_count": 92,
   "metadata": {
    "collapsed": false
   },
   "outputs": [
    {
     "name": "stdout",
     "output_type": "stream",
     "text": [
      "[[ 0.06796117  0.04854369  0.01941748  0.02912621  0.04854369  0.01941748\n",
      "   0.02912621  0.04854369  0.05825243  0.0776699   0.03883495  0.04854369\n",
      "   0.04854369  0.02912621  0.02912621  0.00970874  0.05825243  0.02912621\n",
      "   0.03883495  0.01941748  0.02912621  0.02912621  0.02912621  0.05825243\n",
      "   0.01941748  0.03883495]]\n"
     ]
    }
   ],
   "source": [
    "test2 = np.array(test)\n",
    "\n",
    "print test2"
   ]
  },
  {
   "cell_type": "code",
   "execution_count": 93,
   "metadata": {
    "collapsed": false
   },
   "outputs": [
    {
     "data": {
      "text/plain": [
       "1.0"
      ]
     },
     "execution_count": 93,
     "metadata": {},
     "output_type": "execute_result"
    }
   ],
   "source": [
    "np.sum(test2)\n",
    "    "
   ]
  },
  {
   "cell_type": "code",
   "execution_count": 94,
   "metadata": {
    "collapsed": false
   },
   "outputs": [
    {
     "data": {
      "text/plain": [
       "array([-0.01941748, -0.02912621,  0.00970874,  0.01941748, -0.02912621,\n",
       "        0.00970874,  0.01941748,  0.00970874,  0.01941748, -0.03883495,\n",
       "        0.00970874,  0.        , -0.01941748,  0.        , -0.01941748,\n",
       "        0.04854369, -0.02912621,  0.00970874, -0.01941748,  0.00970874,\n",
       "        0.        ,  0.        ,  0.02912621, -0.03883495,  0.01941748])"
      ]
     },
     "execution_count": 94,
     "metadata": {},
     "output_type": "execute_result"
    }
   ],
   "source": [
    "np.ediff1d(test2)"
   ]
  },
  {
   "cell_type": "code",
   "execution_count": 106,
   "metadata": {
    "collapsed": false
   },
   "outputs": [
    {
     "name": "stdout",
     "output_type": "stream",
     "text": [
      "<type 'numpy.ndarray'>\n",
      "<type 'numpy.ndarray'>\n",
      "<type 'numpy.ndarray'>\n"
     ]
    }
   ],
   "source": [
    "word_percent_array = []\n",
    "for n in word_percent[:3]:\n",
    "    n = np.array(n)\n",
    "    print type(n)\n",
    "    word_percent_array.append(n)\n",
    "       "
   ]
  },
  {
   "cell_type": "code",
   "execution_count": 111,
   "metadata": {
    "collapsed": false
   },
   "outputs": [
    {
     "name": "stdout",
     "output_type": "stream",
     "text": [
      "<type 'numpy.ndarray'>\n",
      "1.0\n",
      "<type 'numpy.ndarray'>\n",
      "1.0\n",
      "<type 'numpy.ndarray'>\n",
      "1.0\n"
     ]
    }
   ],
   "source": [
    "for n in word_percent_array:\n",
    "    print type(n)\n",
    "    print np.sum(n)"
   ]
  },
  {
   "cell_type": "code",
   "execution_count": null,
   "metadata": {
    "collapsed": true
   },
   "outputs": [],
   "source": []
  },
  {
   "cell_type": "code",
   "execution_count": 103,
   "metadata": {
    "collapsed": false
   },
   "outputs": [
    {
     "data": {
      "text/plain": [
       "list"
      ]
     },
     "execution_count": 103,
     "metadata": {},
     "output_type": "execute_result"
    }
   ],
   "source": [
    "type(word_percent_array[:1])"
   ]
  },
  {
   "cell_type": "code",
   "execution_count": 97,
   "metadata": {
    "collapsed": false
   },
   "outputs": [
    {
     "name": "stdout",
     "output_type": "stream",
     "text": [
      "[[0.06796116504854369, 0.04854368932038835, 0.019417475728155338, 0.02912621359223301, 0.04854368932038835, 0.019417475728155338, 0.02912621359223301, 0.04854368932038835, 0.05825242718446602, 0.07766990291262135, 0.038834951456310676, 0.04854368932038835, 0.04854368932038835, 0.02912621359223301, 0.02912621359223301, 0.009708737864077669, 0.05825242718446602, 0.02912621359223301, 0.038834951456310676, 0.019417475728155338, 0.02912621359223301, 0.02912621359223301, 0.02912621359223301, 0.05825242718446602, 0.019417475728155338, 0.038834951456310676], [0.07246376811594203, 0.07246376811594203, 0.043478260869565216, 0.07246376811594203, 0.043478260869565216, 0.043478260869565216, 0.08695652173913043, 0.028985507246376812, 0.07246376811594203, 0.028985507246376812, 0.043478260869565216, 0.028985507246376812, 0.028985507246376812, 0.10144927536231885, 0.028985507246376812, 0.07246376811594203, 0.057971014492753624, 0.07246376811594203]]\n"
     ]
    }
   ],
   "source": [
    "print word_percent[:2]"
   ]
  },
  {
   "cell_type": "code",
   "execution_count": 100,
   "metadata": {
    "collapsed": false
   },
   "outputs": [
    {
     "data": {
      "text/plain": [
       "list"
      ]
     },
     "execution_count": 100,
     "metadata": {},
     "output_type": "execute_result"
    }
   ],
   "source": [
    "type(word_percent[:1])"
   ]
  },
  {
   "cell_type": "code",
   "execution_count": null,
   "metadata": {
    "collapsed": true
   },
   "outputs": [],
   "source": [
    "df_wizard['word_percent'] = wrd_percent"
   ]
  }
 ],
 "metadata": {
  "kernelspec": {
   "display_name": "Python 2",
   "language": "python",
   "name": "python2"
  },
  "language_info": {
   "codemirror_mode": {
    "name": "ipython",
    "version": 2
   },
   "file_extension": ".py",
   "mimetype": "text/x-python",
   "name": "python",
   "nbconvert_exporter": "python",
   "pygments_lexer": "ipython2",
   "version": "2.7.11"
  }
 },
 "nbformat": 4,
 "nbformat_minor": 0
}
